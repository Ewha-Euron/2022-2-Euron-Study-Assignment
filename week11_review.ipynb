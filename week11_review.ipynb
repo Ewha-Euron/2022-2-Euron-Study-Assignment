{
 "cells": [
  {
   "cell_type": "code",
   "execution_count": 1,
   "metadata": {
    "id": "axRjZJEf0Z7-"
   },
   "outputs": [],
   "source": [
    "from sklearn.preprocessing import scale\n",
    "from sklearn.datasets import load_iris\n",
    "from sklearn.cluster import KMeans\n",
    "import matplotlib.pyplot as plt\n",
    "import numpy as np\n",
    "import pandas as pd\n",
    "%matplotlib inline"
   ]
  },
  {
   "cell_type": "markdown",
   "metadata": {
    "id": "lJVDbLyz0Z8G"
   },
   "source": [
    "### [다음 사이트](https://www.kaggle.com/datasets/vjchoudhary7/customer-segmentation-tutorial-in-python)에서 Mall_Customer.csv 데이터를 다운 받아주세요!"
   ]
  },
  {
   "cell_type": "markdown",
   "metadata": {
    "id": "xekftTdZ0Z8K"
   },
   "source": [
    "#### 1.1 데이터를 로드하고 확인해주세요."
   ]
  },
  {
   "cell_type": "code",
   "execution_count": 2,
   "metadata": {
    "id": "YNXm3yhg0Z8M"
   },
   "outputs": [
    {
     "data": {
      "text/html": [
       "<div>\n",
       "<style scoped>\n",
       "    .dataframe tbody tr th:only-of-type {\n",
       "        vertical-align: middle;\n",
       "    }\n",
       "\n",
       "    .dataframe tbody tr th {\n",
       "        vertical-align: top;\n",
       "    }\n",
       "\n",
       "    .dataframe thead th {\n",
       "        text-align: right;\n",
       "    }\n",
       "</style>\n",
       "<table border=\"1\" class=\"dataframe\">\n",
       "  <thead>\n",
       "    <tr style=\"text-align: right;\">\n",
       "      <th></th>\n",
       "      <th>CustomerID</th>\n",
       "      <th>Gender</th>\n",
       "      <th>Age</th>\n",
       "      <th>Annual Income (k$)</th>\n",
       "      <th>Spending Score (1-100)</th>\n",
       "    </tr>\n",
       "  </thead>\n",
       "  <tbody>\n",
       "    <tr>\n",
       "      <th>0</th>\n",
       "      <td>1</td>\n",
       "      <td>Male</td>\n",
       "      <td>19</td>\n",
       "      <td>15</td>\n",
       "      <td>39</td>\n",
       "    </tr>\n",
       "    <tr>\n",
       "      <th>1</th>\n",
       "      <td>2</td>\n",
       "      <td>Male</td>\n",
       "      <td>21</td>\n",
       "      <td>15</td>\n",
       "      <td>81</td>\n",
       "    </tr>\n",
       "    <tr>\n",
       "      <th>2</th>\n",
       "      <td>3</td>\n",
       "      <td>Female</td>\n",
       "      <td>20</td>\n",
       "      <td>16</td>\n",
       "      <td>6</td>\n",
       "    </tr>\n",
       "    <tr>\n",
       "      <th>3</th>\n",
       "      <td>4</td>\n",
       "      <td>Female</td>\n",
       "      <td>23</td>\n",
       "      <td>16</td>\n",
       "      <td>77</td>\n",
       "    </tr>\n",
       "    <tr>\n",
       "      <th>4</th>\n",
       "      <td>5</td>\n",
       "      <td>Female</td>\n",
       "      <td>31</td>\n",
       "      <td>17</td>\n",
       "      <td>40</td>\n",
       "    </tr>\n",
       "  </tbody>\n",
       "</table>\n",
       "</div>"
      ],
      "text/plain": [
       "   CustomerID  Gender  Age  Annual Income (k$)  Spending Score (1-100)\n",
       "0           1    Male   19                  15                      39\n",
       "1           2    Male   21                  15                      81\n",
       "2           3  Female   20                  16                       6\n",
       "3           4  Female   23                  16                      77\n",
       "4           5  Female   31                  17                      40"
      ]
     },
     "execution_count": 2,
     "metadata": {},
     "output_type": "execute_result"
    }
   ],
   "source": [
    "df = pd.read_csv(\"Mall_Customers.csv\")\n",
    "df.head()"
   ]
  },
  {
   "cell_type": "markdown",
   "metadata": {
    "id": "gzz06X8t0Z8O"
   },
   "source": [
    "#### 1.2 'CustomerID'는 군집 분석에 필요없는 변수이므로 삭제하겠습니다. 삭제한 후 데이터셋의 행, 열 수를 확인해주세요."
   ]
  },
  {
   "cell_type": "code",
   "execution_count": 3,
   "metadata": {
    "id": "dlvO8mP50Z8P"
   },
   "outputs": [
    {
     "data": {
      "text/plain": [
       "(200, 4)"
      ]
     },
     "execution_count": 3,
     "metadata": {},
     "output_type": "execute_result"
    }
   ],
   "source": [
    "df = df.drop(\"CustomerID\", axis=1)\n",
    "df.shape"
   ]
  },
  {
   "cell_type": "markdown",
   "metadata": {
    "id": "wg0bt-5Z0Z8Q"
   },
   "source": [
    "#### 1.3 데이터셋 변수들의 정보를 확인해주세요."
   ]
  },
  {
   "cell_type": "code",
   "execution_count": 4,
   "metadata": {
    "id": "-boIiuuV0Z8R"
   },
   "outputs": [
    {
     "data": {
      "text/plain": [
       "<bound method DataFrame.info of      Gender  Age  Annual Income (k$)  Spending Score (1-100)\n",
       "0      Male   19                  15                      39\n",
       "1      Male   21                  15                      81\n",
       "2    Female   20                  16                       6\n",
       "3    Female   23                  16                      77\n",
       "4    Female   31                  17                      40\n",
       "..      ...  ...                 ...                     ...\n",
       "195  Female   35                 120                      79\n",
       "196  Female   45                 126                      28\n",
       "197    Male   32                 126                      74\n",
       "198    Male   32                 137                      18\n",
       "199    Male   30                 137                      83\n",
       "\n",
       "[200 rows x 4 columns]>"
      ]
     },
     "execution_count": 4,
     "metadata": {},
     "output_type": "execute_result"
    }
   ],
   "source": [
    "df.info"
   ]
  },
  {
   "cell_type": "markdown",
   "metadata": {
    "id": "f6quruIk0Z8S"
   },
   "source": [
    "#### 1.4 'Gender' 변수의 자료형이 object이므로 전처리가 필요할 것 같습니다. get_dummies를 이용해 원핫인코딩 진행 후 데이터셋을 확인해주세요."
   ]
  },
  {
   "cell_type": "code",
   "execution_count": 5,
   "metadata": {
    "id": "qjWGrDBL0Z8T"
   },
   "outputs": [
    {
     "data": {
      "text/html": [
       "<div>\n",
       "<style scoped>\n",
       "    .dataframe tbody tr th:only-of-type {\n",
       "        vertical-align: middle;\n",
       "    }\n",
       "\n",
       "    .dataframe tbody tr th {\n",
       "        vertical-align: top;\n",
       "    }\n",
       "\n",
       "    .dataframe thead th {\n",
       "        text-align: right;\n",
       "    }\n",
       "</style>\n",
       "<table border=\"1\" class=\"dataframe\">\n",
       "  <thead>\n",
       "    <tr style=\"text-align: right;\">\n",
       "      <th></th>\n",
       "      <th>Age</th>\n",
       "      <th>Annual Income (k$)</th>\n",
       "      <th>Spending Score (1-100)</th>\n",
       "      <th>Gender_Female</th>\n",
       "      <th>Gender_Male</th>\n",
       "    </tr>\n",
       "  </thead>\n",
       "  <tbody>\n",
       "    <tr>\n",
       "      <th>0</th>\n",
       "      <td>19</td>\n",
       "      <td>15</td>\n",
       "      <td>39</td>\n",
       "      <td>0</td>\n",
       "      <td>1</td>\n",
       "    </tr>\n",
       "    <tr>\n",
       "      <th>1</th>\n",
       "      <td>21</td>\n",
       "      <td>15</td>\n",
       "      <td>81</td>\n",
       "      <td>0</td>\n",
       "      <td>1</td>\n",
       "    </tr>\n",
       "    <tr>\n",
       "      <th>2</th>\n",
       "      <td>20</td>\n",
       "      <td>16</td>\n",
       "      <td>6</td>\n",
       "      <td>1</td>\n",
       "      <td>0</td>\n",
       "    </tr>\n",
       "    <tr>\n",
       "      <th>3</th>\n",
       "      <td>23</td>\n",
       "      <td>16</td>\n",
       "      <td>77</td>\n",
       "      <td>1</td>\n",
       "      <td>0</td>\n",
       "    </tr>\n",
       "    <tr>\n",
       "      <th>4</th>\n",
       "      <td>31</td>\n",
       "      <td>17</td>\n",
       "      <td>40</td>\n",
       "      <td>1</td>\n",
       "      <td>0</td>\n",
       "    </tr>\n",
       "    <tr>\n",
       "      <th>...</th>\n",
       "      <td>...</td>\n",
       "      <td>...</td>\n",
       "      <td>...</td>\n",
       "      <td>...</td>\n",
       "      <td>...</td>\n",
       "    </tr>\n",
       "    <tr>\n",
       "      <th>195</th>\n",
       "      <td>35</td>\n",
       "      <td>120</td>\n",
       "      <td>79</td>\n",
       "      <td>1</td>\n",
       "      <td>0</td>\n",
       "    </tr>\n",
       "    <tr>\n",
       "      <th>196</th>\n",
       "      <td>45</td>\n",
       "      <td>126</td>\n",
       "      <td>28</td>\n",
       "      <td>1</td>\n",
       "      <td>0</td>\n",
       "    </tr>\n",
       "    <tr>\n",
       "      <th>197</th>\n",
       "      <td>32</td>\n",
       "      <td>126</td>\n",
       "      <td>74</td>\n",
       "      <td>0</td>\n",
       "      <td>1</td>\n",
       "    </tr>\n",
       "    <tr>\n",
       "      <th>198</th>\n",
       "      <td>32</td>\n",
       "      <td>137</td>\n",
       "      <td>18</td>\n",
       "      <td>0</td>\n",
       "      <td>1</td>\n",
       "    </tr>\n",
       "    <tr>\n",
       "      <th>199</th>\n",
       "      <td>30</td>\n",
       "      <td>137</td>\n",
       "      <td>83</td>\n",
       "      <td>0</td>\n",
       "      <td>1</td>\n",
       "    </tr>\n",
       "  </tbody>\n",
       "</table>\n",
       "<p>200 rows × 5 columns</p>\n",
       "</div>"
      ],
      "text/plain": [
       "     Age  Annual Income (k$)  Spending Score (1-100)  Gender_Female  \\\n",
       "0     19                  15                      39              0   \n",
       "1     21                  15                      81              0   \n",
       "2     20                  16                       6              1   \n",
       "3     23                  16                      77              1   \n",
       "4     31                  17                      40              1   \n",
       "..   ...                 ...                     ...            ...   \n",
       "195   35                 120                      79              1   \n",
       "196   45                 126                      28              1   \n",
       "197   32                 126                      74              0   \n",
       "198   32                 137                      18              0   \n",
       "199   30                 137                      83              0   \n",
       "\n",
       "     Gender_Male  \n",
       "0              1  \n",
       "1              1  \n",
       "2              0  \n",
       "3              0  \n",
       "4              0  \n",
       "..           ...  \n",
       "195            0  \n",
       "196            0  \n",
       "197            1  \n",
       "198            1  \n",
       "199            1  \n",
       "\n",
       "[200 rows x 5 columns]"
      ]
     },
     "execution_count": 5,
     "metadata": {},
     "output_type": "execute_result"
    }
   ],
   "source": [
    "df = pd.get_dummies(df, columns=['Gender'])\n",
    "df"
   ]
  },
  {
   "cell_type": "markdown",
   "metadata": {
    "id": "MYDm-JZe0Z8U"
   },
   "source": [
    "#### 1.5 데이터를 5개의 그룹으로 군집화해보겠습니다. n_cluster = 5, 초기 중심 설정 방식 : k-means++, 최대 반복 횟수 : 300으로 설정하여 KMeans 객체를 만든 후 fit( )을 수행해주세요."
   ]
  },
  {
   "cell_type": "code",
   "execution_count": 6,
   "metadata": {
    "id": "lxTZQ-YL0Z8V"
   },
   "outputs": [
    {
     "data": {
      "text/plain": [
       "KMeans(n_clusters=5, random_state=0)"
      ]
     },
     "execution_count": 6,
     "metadata": {},
     "output_type": "execute_result"
    }
   ],
   "source": [
    "kmeans = KMeans(n_clusters=5, init='k-means++', max_iter=300, random_state=0) \n",
    "kmeans.fit(df)"
   ]
  },
  {
   "cell_type": "markdown",
   "metadata": {
    "id": "XT6WTaGs0Z8V"
   },
   "source": [
    "#### 1.6 kmeans의 labels_ 속성값을 확인해보겠습니다."
   ]
  },
  {
   "cell_type": "code",
   "execution_count": 7,
   "metadata": {
    "id": "qByQqxrz0Z8W"
   },
   "outputs": [
    {
     "name": "stdout",
     "output_type": "stream",
     "text": [
      "[0 4 0 4 0 4 0 4 0 4 0 4 0 4 0 4 0 4 0 4 0 4 0 4 0 4 0 4 0 4 0 4 0 4 0 4 0\n",
      " 4 0 4 0 4 0 4 0 4 2 2 2 2 2 2 2 2 2 2 2 2 2 2 2 2 2 2 2 2 2 2 2 2 2 2 2 2\n",
      " 2 2 2 2 2 2 2 2 2 2 2 2 2 2 2 2 2 2 2 2 2 2 2 2 2 2 2 2 2 2 2 2 2 2 2 2 2\n",
      " 2 2 2 2 2 2 2 2 2 2 2 2 1 3 1 2 1 3 1 3 1 3 1 3 1 3 1 3 1 3 1 2 1 3 1 3 1\n",
      " 3 1 3 1 3 1 3 1 3 1 3 1 3 1 3 1 3 1 3 1 3 1 3 1 3 1 3 1 3 1 3 1 3 1 3 1 3\n",
      " 1 3 1 3 1 3 1 3 1 3 1 3 1 3 1]\n"
     ]
    }
   ],
   "source": [
    "print(kmeans.labels_)"
   ]
  },
  {
   "cell_type": "markdown",
   "metadata": {
    "id": "6VKhlpKx0Z8W"
   },
   "source": [
    "#### 1.7 target 값은 데이터의 spending score로, cluster 칼럼은 앞에서 구한 labels_ 값으로 지정하여 target과 cluster 값 개수를 비교하세요."
   ]
  },
  {
   "cell_type": "code",
   "execution_count": 8,
   "metadata": {
    "id": "vEAo2Xn-0Z8X"
   },
   "outputs": [
    {
     "name": "stdout",
     "output_type": "stream",
     "text": [
      "target  cluster\n",
      "1       3          2\n",
      "3       0          1\n",
      "4       0          2\n",
      "5       0          1\n",
      "        3          3\n",
      "                  ..\n",
      "94      4          1\n",
      "95      1          2\n",
      "97      1          2\n",
      "98      4          1\n",
      "99      4          1\n",
      "Name: Spending Score (1-100), Length: 106, dtype: int64\n"
     ]
    }
   ],
   "source": [
    "df['target'] = df['Spending Score (1-100)']\n",
    "df['cluster'] = kmeans.labels_\n",
    "df_result = df.groupby(['target','cluster'])['Spending Score (1-100)'].count()\n",
    "print(df_result)"
   ]
  },
  {
   "cell_type": "markdown",
   "metadata": {
    "id": "EwR2xb740Z8X"
   },
   "source": [
    "#### 1.8 PCA를 이용해 4개의 속성을 2개로 차원 축소한 뒤 X좌표, Y좌표로 개별 데이터를 표현하도록 하겠습니다."
   ]
  },
  {
   "cell_type": "code",
   "execution_count": 9,
   "metadata": {
    "id": "XGZA6YYK0Z8Y"
   },
   "outputs": [],
   "source": [
    "from sklearn.decomposition import PCA\n",
    "\n",
    "pca = PCA(n_components=2)\n",
    "pca_transformed = pca.fit_transform(df)\n",
    "\n",
    "df['pca_x'] = pca_transformed[:,0]\n",
    "df['pca_y'] = pca_transformed[:,1]\n"
   ]
  },
  {
   "cell_type": "markdown",
   "metadata": {
    "id": "YFFpoBKZ0Z8Y"
   },
   "source": [
    "#### 1.9 군집별 산점도를 출력합니다."
   ]
  },
  {
   "cell_type": "code",
   "execution_count": 10,
   "metadata": {
    "id": "22ljUzhh0Z8Y"
   },
   "outputs": [
    {
     "data": {
      "image/png": "[encoded data removed]",
      "text/plain": [
       "<Figure size 432x288 with 1 Axes>"
      ]
     },
     "metadata": {
      "needs_background": "light"
     },
     "output_type": "display_data"
    }
   ],
   "source": [
    "# 군집 값이 0, 1, 2인 경우마다 별도의 인덱스로 추출\n",
    "marker0_ind = df[df['cluster']==0].index\n",
    "marker1_ind = df[df['cluster']==1].index\n",
    "marker2_ind = df[df['cluster']==2].index\n",
    "\n",
    "# 군집 값 0, 1, 2에 해당하는 인덱스로 각 군집 레벨의 pca_x, pca_y 값 추출. o, s, ^ 로 마커 표시\n",
    "plt.scatter(x=df.loc[marker0_ind, 'pca_x'], y=df.loc[marker0_ind, 'pca_y'], marker='o')\n",
    "plt.scatter(x=df.loc[marker1_ind, 'pca_x'], y=df.loc[marker1_ind, 'pca_y'], marker='s')\n",
    "plt.scatter(x=df.loc[marker2_ind, 'pca_x'], y=df.loc[marker2_ind, 'pca_y'], marker='^')\n",
    "\n",
    "plt.xlabel('PCA 1')\n",
    "plt.ylabel('PCA 2')\n",
    "plt.title('3 Clusters Visualization by 2 PCA Components')\n",
    "plt.show()"
   ]
  },
  {
   "cell_type": "markdown",
   "metadata": {
    "id": "ekZUmfXT0Z8Z"
   },
   "source": [
    "#### 1.10 데이터를 이용한 군집 평가"
   ]
  },
  {
   "cell_type": "code",
   "execution_count": 11,
   "metadata": {
    "id": "izxk-5fA0Z8Z"
   },
   "outputs": [],
   "source": [
    "from sklearn.preprocessing import scale\n",
    "from sklearn.datasets import load_iris\n",
    "from sklearn.cluster import KMeans\n",
    "# 실루엣 분석 metric 값을 구하기 위한 API 추가\n",
    "from sklearn.metrics import silhouette_samples, silhouette_score\n",
    "import matplotlib.pyplot as plt\n",
    "import numpy as np\n",
    "import pandas as pd\n",
    "\n",
    "%matplotlib inline"
   ]
  },
  {
   "cell_type": "markdown",
   "metadata": {
    "id": "xaGE8lI70Z8a"
   },
   "source": [
    "#### 1.11 1.5와 1.7의 코드를 바탕으로 데이터셋의 모든 개별 데이터에 실루엣 계수 값을 구해주세요."
   ]
  },
  {
   "cell_type": "code",
   "execution_count": 12,
   "metadata": {
    "id": "ksMKMiYG0Z8a"
   },
   "outputs": [
    {
     "name": "stdout",
     "output_type": "stream",
     "text": [
      "silhouette_samples( ) return 값의 shape (200,)\n"
     ]
    }
   ],
   "source": [
    "score_samples = silhouette_samples(df, df['cluster'])\n",
    "print('silhouette_samples( ) return 값의 shape' , score_samples.shape)"
   ]
  },
  {
   "cell_type": "markdown",
   "metadata": {
    "id": "67y-AM4q0Z8b"
   },
   "source": [
    "#### 1.12 데이터셋 데이터프레임에 실루엣 계수 칼럼을 추가해주세요."
   ]
  },
  {
   "cell_type": "code",
   "execution_count": 13,
   "metadata": {
    "id": "hdmAG7Ve0Z8b"
   },
   "outputs": [],
   "source": [
    "df['silhouette_coeff'] = score_samples"
   ]
  },
  {
   "cell_type": "markdown",
   "metadata": {
    "id": "k2evEE7Z0Z8b"
   },
   "source": [
    "#### 1.13 모든 데이터의 평균 실루엣 계수값을 구하고 확인해주세요."
   ]
  },
  {
   "cell_type": "code",
   "execution_count": 14,
   "metadata": {
    "id": "8xb4TsMG0Z8b"
   },
   "outputs": [
    {
     "name": "stdout",
     "output_type": "stream",
     "text": [
      "붓꽃 데이터셋 Silhouette Analysis Score:0.500\n"
     ]
    },
    {
     "data": {
      "text/html": [
       "<div>\n",
       "<style scoped>\n",
       "    .dataframe tbody tr th:only-of-type {\n",
       "        vertical-align: middle;\n",
       "    }\n",
       "\n",
       "    .dataframe tbody tr th {\n",
       "        vertical-align: top;\n",
       "    }\n",
       "\n",
       "    .dataframe thead th {\n",
       "        text-align: right;\n",
       "    }\n",
       "</style>\n",
       "<table border=\"1\" class=\"dataframe\">\n",
       "  <thead>\n",
       "    <tr style=\"text-align: right;\">\n",
       "      <th></th>\n",
       "      <th>Age</th>\n",
       "      <th>Annual Income (k$)</th>\n",
       "      <th>Spending Score (1-100)</th>\n",
       "      <th>Gender_Female</th>\n",
       "      <th>Gender_Male</th>\n",
       "      <th>target</th>\n",
       "      <th>cluster</th>\n",
       "      <th>pca_x</th>\n",
       "      <th>pca_y</th>\n",
       "      <th>silhouette_coeff</th>\n",
       "    </tr>\n",
       "  </thead>\n",
       "  <tbody>\n",
       "    <tr>\n",
       "      <th>0</th>\n",
       "      <td>19</td>\n",
       "      <td>15</td>\n",
       "      <td>39</td>\n",
       "      <td>0</td>\n",
       "      <td>1</td>\n",
       "      <td>39</td>\n",
       "      <td>0</td>\n",
       "      <td>13.543666</td>\n",
       "      <td>-45.225793</td>\n",
       "      <td>0.180112</td>\n",
       "    </tr>\n",
       "    <tr>\n",
       "      <th>1</th>\n",
       "      <td>21</td>\n",
       "      <td>15</td>\n",
       "      <td>81</td>\n",
       "      <td>0</td>\n",
       "      <td>1</td>\n",
       "      <td>81</td>\n",
       "      <td>4</td>\n",
       "      <td>-44.964888</td>\n",
       "      <td>-46.170026</td>\n",
       "      <td>0.691012</td>\n",
       "    </tr>\n",
       "    <tr>\n",
       "      <th>2</th>\n",
       "      <td>20</td>\n",
       "      <td>16</td>\n",
       "      <td>6</td>\n",
       "      <td>1</td>\n",
       "      <td>0</td>\n",
       "      <td>6</td>\n",
       "      <td>0</td>\n",
       "      <td>59.858804</td>\n",
       "      <td>-43.497032</td>\n",
       "      <td>0.534060</td>\n",
       "    </tr>\n",
       "  </tbody>\n",
       "</table>\n",
       "</div>"
      ],
      "text/plain": [
       "   Age  Annual Income (k$)  Spending Score (1-100)  Gender_Female  \\\n",
       "0   19                  15                      39              0   \n",
       "1   21                  15                      81              0   \n",
       "2   20                  16                       6              1   \n",
       "\n",
       "   Gender_Male  target  cluster      pca_x      pca_y  silhouette_coeff  \n",
       "0            1      39        0  13.543666 -45.225793          0.180112  \n",
       "1            1      81        4 -44.964888 -46.170026          0.691012  \n",
       "2            0       6        0  59.858804 -43.497032          0.534060  "
      ]
     },
     "execution_count": 14,
     "metadata": {},
     "output_type": "execute_result"
    }
   ],
   "source": [
    "average_score = silhouette_score(df, df['cluster'])\n",
    "print('붓꽃 데이터셋 Silhouette Analysis Score:{0:.3f}'.format(average_score))\n",
    "\n",
    "df.head(3)"
   ]
  },
  {
   "cell_type": "markdown",
   "metadata": {
    "id": "Wx5ntp8i0Z8b"
   },
   "source": [
    "#### 1.14 데이터셋의 군집 칼럼별로 groupby하여 실루엣 계수 칼럼의 평균값을 구해주세요."
   ]
  },
  {
   "cell_type": "code",
   "execution_count": 15,
   "metadata": {
    "id": "FQvFMdac0Z8c"
   },
   "outputs": [
    {
     "data": {
      "text/plain": [
       "cluster\n",
       "0    0.425713\n",
       "1    0.530935\n",
       "2    0.510757\n",
       "3    0.457239\n",
       "4    0.553914\n",
       "Name: silhouette_coeff, dtype: float64"
      ]
     },
     "execution_count": 15,
     "metadata": {},
     "output_type": "execute_result"
    }
   ],
   "source": [
    "df.groupby('cluster')['silhouette_coeff'].mean()"
   ]
  },
  {
   "cell_type": "markdown",
   "metadata": {
    "id": "QxnQySf00Z8c"
   },
   "source": [
    "#### 1.15 Inertia와 Elbow를 구하는 코드입니다. 참고해주세요."
   ]
  },
  {
   "cell_type": "code",
   "execution_count": 16,
   "metadata": {
    "id": "6_x04onX0Z8c"
   },
   "outputs": [
    {
     "name": "stderr",
     "output_type": "stream",
     "text": [
      "C:\\ProgramData\\Anaconda3\\lib\\site-packages\\sklearn\\cluster\\_kmeans.py:881: UserWarning: KMeans is known to have a memory leak on Windows with MKL, when there are less chunks than available threads. You can avoid it by setting the environment variable OMP_NUM_THREADS=1.\n",
      "  warnings.warn(\n"
     ]
    },
    {
     "data": {
      "image/png": "[encoded data removed]",
      "text/plain": [
       "<Figure size 432x288 with 1 Axes>"
      ]
     },
     "metadata": {
      "needs_background": "light"
     },
     "output_type": "display_data"
    }
   ],
   "source": [
    "# 중심점 - 데이터 거리를 합산한 inertia(sse)를 빈 array로 생성\n",
    "sse = []\n",
    "\n",
    "# 반복문을 실행하며 군집의 개수가 1~11까지 kmeans를 실행 --> sse array에 추가\n",
    "for i in range(1, 11) :\n",
    "    km = KMeans(n_clusters = i,\n",
    "               init = 'k-means++',\n",
    "               n_init = 10,\n",
    "               max_iter = 300,\n",
    "               random_state = 0)\n",
    "    km.fit(df)\n",
    "    sse.append(km.inertia_)\n",
    "\n",
    "# sse array 시각화   \n",
    "plt.plot(range(1,11), sse, marker = 'o')\n",
    "plt.xlabel('Number of clusters')\n",
    "plt.ylabel('sse')\n",
    "plt.tight_layout()\n",
    "plt.show()"
   ]
  },
  {
   "cell_type": "markdown",
   "metadata": {
    "id": "2IAa8jNw0Z8c"
   },
   "source": [
    "#### 2.1 데이터는 1의 데이터를 계속 활용합니다. 'Annual income'에 대한 'Spending Score'을 scatter plot으로 나타내주세요."
   ]
  },
  {
   "cell_type": "code",
   "execution_count": 17,
   "metadata": {
    "id": "XWJDdhFI0Z8c"
   },
   "outputs": [
    {
     "data": {
      "image/png": "[encoded data removed]",
      "text/plain": [
       "<Figure size 432x288 with 1 Axes>"
      ]
     },
     "metadata": {
      "needs_background": "light"
     },
     "output_type": "display_data"
    }
   ],
   "source": [
    "X=df[['Annual Income (k$)']]\n",
    "y=df[['Spending Score (1-100)']]\n",
    "\n",
    "plt.scatter(X,y)\n",
    "plt.show()"
   ]
  },
  {
   "cell_type": "markdown",
   "metadata": {
    "id": "9f48xTJI0Z8d"
   },
   "source": [
    "#### 2.2 StandardScaler를 통해 정규화를 진행해주세요."
   ]
  },
  {
   "cell_type": "code",
   "execution_count": 18,
   "metadata": {
    "id": "1xYrVUGY0Z8d"
   },
   "outputs": [],
   "source": [
    "from sklearn.preprocessing import StandardScaler\n",
    "X_scaled=StandardScaler().fit_transform(X)"
   ]
  },
  {
   "cell_type": "markdown",
   "metadata": {
    "id": "EUXQCfK_0Z8e"
   },
   "source": [
    "#### 2.3 최적 대역폭을 구하여 평균 이동 군집화를 진행해주세요. 최적 bandwidth와 cluster label 유형을 출력해주세요. (인자 : df_std)"
   ]
  },
  {
   "cell_type": "code",
   "execution_count": 19,
   "metadata": {
    "id": "DBDmumEY0Z8e"
   },
   "outputs": [
    {
     "name": "stdout",
     "output_type": "stream",
     "text": [
      "bandwidth 값:  0.624\n"
     ]
    },
    {
     "name": "stderr",
     "output_type": "stream",
     "text": [
      "C:\\ProgramData\\Anaconda3\\lib\\site-packages\\sklearn\\utils\\validation.py:70: FutureWarning: Pass bandwidth=0.6240701669584781 as keyword args. From version 1.0 (renaming of 0.25) passing these as positional arguments will result in an error\n",
      "  warnings.warn(f\"Pass {args_msg} as keyword args. From version \"\n"
     ]
    },
    {
     "name": "stdout",
     "output_type": "stream",
     "text": [
      "cluster labels 유형:  [0 1 2 3]\n"
     ]
    }
   ],
   "source": [
    "from sklearn.cluster import estimate_bandwidth\n",
    "from sklearn.cluster import MeanShift\n",
    "\n",
    "h = estimate_bandwidth(X_scaled)\n",
    "print('bandwidth 값: ', round(h,3))\n",
    "\n",
    "ms = MeanShift(h)\n",
    "cluster_labels = ms.fit_predict(X_scaled)\n",
    "print('cluster labels 유형: ', np.unique(cluster_labels))"
   ]
  },
  {
   "cell_type": "markdown",
   "metadata": {
    "id": "hsSimdFB0Z8e"
   },
   "source": [
    "#### 2.4 target 변수를 'Spending Score'로 설정하여 결과를 확인하려고 합니다. 다음 코드의 빈칸을 채워주세요."
   ]
  },
  {
   "cell_type": "code",
   "execution_count": 20,
   "metadata": {
    "id": "4vqL3ABJ0Z8f"
   },
   "outputs": [
    {
     "name": "stdout",
     "output_type": "stream",
     "text": [
      "target  cluster\n",
      "1       0          2\n",
      "3       2          1\n",
      "4       2          2\n",
      "5       0          3\n",
      "        2          1\n",
      "                  ..\n",
      "95      0          2\n",
      "97      0          1\n",
      "        3          1\n",
      "98      2          1\n",
      "99      2          1\n",
      "Name: Annual Income (k$), Length: 129, dtype: int64\n"
     ]
    }
   ],
   "source": [
    "df['target'] = df['Spending Score (1-100)']\n",
    "df['cluster']= ms.labels_\n",
    "result = df.groupby(['target','cluster'])['Annual Income (k$)'].count()\n",
    "print(result)"
   ]
  },
  {
   "cell_type": "markdown",
   "metadata": {
    "id": "XbDIbw2N0Z8f"
   },
   "source": [
    "#### 2.5 2차원으로 축소하여 시각화를 진행하려고 합니다. 다음 코드의 빈칸을 채워주세요."
   ]
  },
  {
   "cell_type": "code",
   "execution_count": 21,
   "metadata": {
    "id": "gYadFSel0Z8f"
   },
   "outputs": [
    {
     "data": {
      "image/png": "[encoded data removed]",
      "text/plain": [
       "<Figure size 432x288 with 1 Axes>"
      ]
     },
     "metadata": {
      "needs_background": "light"
     },
     "output_type": "display_data"
    }
   ],
   "source": [
    "m0_ind = df[df['cluster']==0].index\n",
    "m1_ind = df[df['cluster']==1].index\n",
    "\n",
    "plt.scatter(x=df.loc[m0_ind,'Annual Income (k$)'], y=df.loc[m0_ind,'Spending Score (1-100)'],marker='o')\n",
    "plt.scatter(x=df.loc[m1_ind,'Annual Income (k$)'], y=df.loc[m1_ind,'Spending Score (1-100)'],marker='s')\n",
    "\n",
    "plt.show()"
   ]
  },
  {
   "cell_type": "markdown",
   "metadata": {
    "id": "_PvqwPAC0Z8f"
   },
   "source": [
    "#### 2.6 사이킷런 AgglomerativeClustering 클래스를 통해 병합군집을 진행해주세요. 클러스터 개수는 3으로, 병합 방식은 'ward'로 설정해주세요. cluster labels 유형을 출력해주세요.  (인자 : df)"
   ]
  },
  {
   "cell_type": "code",
   "execution_count": 22,
   "metadata": {
    "id": "QsQsRI360Z8f"
   },
   "outputs": [],
   "source": [
    "from sklearn.cluster import AgglomerativeClustering"
   ]
  },
  {
   "cell_type": "code",
   "execution_count": 23,
   "metadata": {
    "id": "F9UJxeyO0Z8g"
   },
   "outputs": [],
   "source": [
    "agg = AgglomerativeClustering(n_clusters=3, linkage='ward')"
   ]
  },
  {
   "cell_type": "markdown",
   "metadata": {
    "id": "86Iy-6IF0Z8g"
   },
   "source": [
    "#### 2.7 덴드로그램을 그려주세요."
   ]
  },
  {
   "cell_type": "code",
   "execution_count": 24,
   "metadata": {
    "id": "nzpwQ8fz0Z8g"
   },
   "outputs": [],
   "source": [
    "from scipy.cluster.hierarchy import dendrogram, ward"
   ]
  },
  {
   "cell_type": "code",
   "execution_count": 27,
   "metadata": {},
   "outputs": [
    {
     "data": {
      "text/plain": [
       "{'icoord': [[25.0, 25.0, 35.0, 35.0],\n",
       "  [15.0, 15.0, 30.0, 30.0],\n",
       "  [5.0, 5.0, 22.5, 22.5],\n",
       "  [45.0, 45.0, 55.0, 55.0],\n",
       "  [13.75, 13.75, 50.0, 50.0],\n",
       "  [105.0, 105.0, 115.0, 115.0],\n",
       "  [95.0, 95.0, 110.0, 110.0],\n",
       "  [85.0, 85.0, 102.5, 102.5],\n",
       "  [75.0, 75.0, 93.75, 93.75],\n",
       "  [65.0, 65.0, 84.375, 84.375],\n",
       "  [125.0, 125.0, 135.0, 135.0],\n",
       "  [145.0, 145.0, 155.0, 155.0],\n",
       "  [130.0, 130.0, 150.0, 150.0],\n",
       "  [74.6875, 74.6875, 140.0, 140.0],\n",
       "  [31.875, 31.875, 107.34375, 107.34375],\n",
       "  [165.0, 165.0, 175.0, 175.0],\n",
       "  [205.0, 205.0, 215.0, 215.0],\n",
       "  [195.0, 195.0, 210.0, 210.0],\n",
       "  [185.0, 185.0, 202.5, 202.5],\n",
       "  [225.0, 225.0, 235.0, 235.0],\n",
       "  [193.75, 193.75, 230.0, 230.0],\n",
       "  [170.0, 170.0, 211.875, 211.875],\n",
       "  [245.0, 245.0, 255.0, 255.0],\n",
       "  [265.0, 265.0, 275.0, 275.0],\n",
       "  [250.0, 250.0, 270.0, 270.0],\n",
       "  [305.0, 305.0, 315.0, 315.0],\n",
       "  [295.0, 295.0, 310.0, 310.0],\n",
       "  [285.0, 285.0, 302.5, 302.5],\n",
       "  [345.0, 345.0, 355.0, 355.0],\n",
       "  [335.0, 335.0, 350.0, 350.0],\n",
       "  [325.0, 325.0, 342.5, 342.5],\n",
       "  [293.75, 293.75, 333.75, 333.75],\n",
       "  [260.0, 260.0, 313.75, 313.75],\n",
       "  [190.9375, 190.9375, 286.875, 286.875],\n",
       "  [69.609375, 69.609375, 238.90625, 238.90625],\n",
       "  [385.0, 385.0, 395.0, 395.0],\n",
       "  [375.0, 375.0, 390.0, 390.0],\n",
       "  [365.0, 365.0, 382.5, 382.5],\n",
       "  [405.0, 405.0, 415.0, 415.0],\n",
       "  [373.75, 373.75, 410.0, 410.0],\n",
       "  [445.0, 445.0, 455.0, 455.0],\n",
       "  [435.0, 435.0, 450.0, 450.0],\n",
       "  [425.0, 425.0, 442.5, 442.5],\n",
       "  [465.0, 465.0, 475.0, 475.0],\n",
       "  [485.0, 485.0, 495.0, 495.0],\n",
       "  [470.0, 470.0, 490.0, 490.0],\n",
       "  [433.75, 433.75, 480.0, 480.0],\n",
       "  [391.875, 391.875, 456.875, 456.875],\n",
       "  [505.0, 505.0, 515.0, 515.0],\n",
       "  [525.0, 525.0, 535.0, 535.0],\n",
       "  [545.0, 545.0, 555.0, 555.0],\n",
       "  [530.0, 530.0, 550.0, 550.0],\n",
       "  [510.0, 510.0, 540.0, 540.0],\n",
       "  [585.0, 585.0, 595.0, 595.0],\n",
       "  [575.0, 575.0, 590.0, 590.0],\n",
       "  [565.0, 565.0, 582.5, 582.5],\n",
       "  [625.0, 625.0, 635.0, 635.0],\n",
       "  [615.0, 615.0, 630.0, 630.0],\n",
       "  [605.0, 605.0, 622.5, 622.5],\n",
       "  [645.0, 645.0, 655.0, 655.0],\n",
       "  [613.75, 613.75, 650.0, 650.0],\n",
       "  [573.75, 573.75, 631.875, 631.875],\n",
       "  [665.0, 665.0, 675.0, 675.0],\n",
       "  [685.0, 685.0, 695.0, 695.0],\n",
       "  [670.0, 670.0, 690.0, 690.0],\n",
       "  [705.0, 705.0, 715.0, 715.0],\n",
       "  [725.0, 725.0, 735.0, 735.0],\n",
       "  [710.0, 710.0, 730.0, 730.0],\n",
       "  [680.0, 680.0, 720.0, 720.0],\n",
       "  [602.8125, 602.8125, 700.0, 700.0],\n",
       "  [525.0, 525.0, 651.40625, 651.40625],\n",
       "  [424.375, 424.375, 588.203125, 588.203125],\n",
       "  [154.2578125, 154.2578125, 506.2890625, 506.2890625],\n",
       "  [745.0, 745.0, 755.0, 755.0],\n",
       "  [765.0, 765.0, 775.0, 775.0],\n",
       "  [805.0, 805.0, 815.0, 815.0],\n",
       "  [795.0, 795.0, 810.0, 810.0],\n",
       "  [785.0, 785.0, 802.5, 802.5],\n",
       "  [770.0, 770.0, 793.75, 793.75],\n",
       "  [925.0, 925.0, 935.0, 935.0],\n",
       "  [915.0, 915.0, 930.0, 930.0],\n",
       "  [905.0, 905.0, 922.5, 922.5],\n",
       "  [895.0, 895.0, 913.75, 913.75],\n",
       "  [885.0, 885.0, 904.375, 904.375],\n",
       "  [875.0, 875.0, 894.6875, 894.6875],\n",
       "  [865.0, 865.0, 884.84375, 884.84375],\n",
       "  [855.0, 855.0, 874.921875, 874.921875],\n",
       "  [845.0, 845.0, 864.9609375, 864.9609375],\n",
       "  [835.0, 835.0, 854.98046875, 854.98046875],\n",
       "  [825.0, 825.0, 844.990234375, 844.990234375],\n",
       "  [945.0, 945.0, 955.0, 955.0],\n",
       "  [834.9951171875, 834.9951171875, 950.0, 950.0],\n",
       "  [781.875, 781.875, 892.49755859375, 892.49755859375],\n",
       "  [750.0, 750.0, 837.186279296875, 837.186279296875],\n",
       "  [1005.0, 1005.0, 1015.0, 1015.0],\n",
       "  [995.0, 995.0, 1010.0, 1010.0],\n",
       "  [985.0, 985.0, 1002.5, 1002.5],\n",
       "  [975.0, 975.0, 993.75, 993.75],\n",
       "  [965.0, 965.0, 984.375, 984.375],\n",
       "  [1025.0, 1025.0, 1035.0, 1035.0],\n",
       "  [1045.0, 1045.0, 1055.0, 1055.0],\n",
       "  [1030.0, 1030.0, 1050.0, 1050.0],\n",
       "  [974.6875, 974.6875, 1040.0, 1040.0],\n",
       "  [1065.0, 1065.0, 1075.0, 1075.0],\n",
       "  [1085.0, 1085.0, 1095.0, 1095.0],\n",
       "  [1070.0, 1070.0, 1090.0, 1090.0],\n",
       "  [1105.0, 1105.0, 1115.0, 1115.0],\n",
       "  [1145.0, 1145.0, 1155.0, 1155.0],\n",
       "  [1135.0, 1135.0, 1150.0, 1150.0],\n",
       "  [1125.0, 1125.0, 1142.5, 1142.5],\n",
       "  [1110.0, 1110.0, 1133.75, 1133.75],\n",
       "  [1080.0, 1080.0, 1121.875, 1121.875],\n",
       "  [1007.34375, 1007.34375, 1100.9375, 1100.9375],\n",
       "  [793.5931396484375, 793.5931396484375, 1054.140625, 1054.140625],\n",
       "  [1205.0, 1205.0, 1215.0, 1215.0],\n",
       "  [1195.0, 1195.0, 1210.0, 1210.0],\n",
       "  [1185.0, 1185.0, 1202.5, 1202.5],\n",
       "  [1175.0, 1175.0, 1193.75, 1193.75],\n",
       "  [1165.0, 1165.0, 1184.375, 1184.375],\n",
       "  [1225.0, 1225.0, 1235.0, 1235.0],\n",
       "  [1285.0, 1285.0, 1295.0, 1295.0],\n",
       "  [1275.0, 1275.0, 1290.0, 1290.0],\n",
       "  [1265.0, 1265.0, 1282.5, 1282.5],\n",
       "  [1255.0, 1255.0, 1273.75, 1273.75],\n",
       "  [1245.0, 1245.0, 1264.375, 1264.375],\n",
       "  [1230.0, 1230.0, 1254.6875, 1254.6875],\n",
       "  [1174.6875, 1174.6875, 1242.34375, 1242.34375],\n",
       "  [1325.0, 1325.0, 1335.0, 1335.0],\n",
       "  [1315.0, 1315.0, 1330.0, 1330.0],\n",
       "  [1305.0, 1305.0, 1322.5, 1322.5],\n",
       "  [1345.0, 1345.0, 1355.0, 1355.0],\n",
       "  [1385.0, 1385.0, 1395.0, 1395.0],\n",
       "  [1375.0, 1375.0, 1390.0, 1390.0],\n",
       "  [1365.0, 1365.0, 1382.5, 1382.5],\n",
       "  [1350.0, 1350.0, 1373.75, 1373.75],\n",
       "  [1313.75, 1313.75, 1361.875, 1361.875],\n",
       "  [1208.515625, 1208.515625, 1337.8125, 1337.8125],\n",
       "  [1505.0, 1505.0, 1515.0, 1515.0],\n",
       "  [1495.0, 1495.0, 1510.0, 1510.0],\n",
       "  [1485.0, 1485.0, 1502.5, 1502.5],\n",
       "  [1475.0, 1475.0, 1493.75, 1493.75],\n",
       "  [1465.0, 1465.0, 1484.375, 1484.375],\n",
       "  [1455.0, 1455.0, 1474.6875, 1474.6875],\n",
       "  [1445.0, 1445.0, 1464.84375, 1464.84375],\n",
       "  [1435.0, 1435.0, 1454.921875, 1454.921875],\n",
       "  [1425.0, 1425.0, 1444.9609375, 1444.9609375],\n",
       "  [1415.0, 1415.0, 1434.98046875, 1434.98046875],\n",
       "  [1405.0, 1405.0, 1424.990234375, 1424.990234375],\n",
       "  [1525.0, 1525.0, 1535.0, 1535.0],\n",
       "  [1545.0, 1545.0, 1555.0, 1555.0],\n",
       "  [1530.0, 1530.0, 1550.0, 1550.0],\n",
       "  [1565.0, 1565.0, 1575.0, 1575.0],\n",
       "  [1625.0, 1625.0, 1635.0, 1635.0],\n",
       "  [1615.0, 1615.0, 1630.0, 1630.0],\n",
       "  [1605.0, 1605.0, 1622.5, 1622.5],\n",
       "  [1595.0, 1595.0, 1613.75, 1613.75],\n",
       "  [1585.0, 1585.0, 1604.375, 1604.375],\n",
       "  [1570.0, 1570.0, 1594.6875, 1594.6875],\n",
       "  [1540.0, 1540.0, 1582.34375, 1582.34375],\n",
       "  [1414.9951171875, 1414.9951171875, 1561.171875, 1561.171875],\n",
       "  [1273.1640625, 1273.1640625, 1488.08349609375, 1488.08349609375],\n",
       "  [923.8668823242188, 923.8668823242188, 1380.623779296875, 1380.623779296875],\n",
       "  [1645.0, 1645.0, 1655.0, 1655.0],\n",
       "  [1665.0, 1665.0, 1675.0, 1675.0],\n",
       "  [1685.0, 1685.0, 1695.0, 1695.0],\n",
       "  [1705.0, 1705.0, 1715.0, 1715.0],\n",
       "  [1690.0, 1690.0, 1710.0, 1710.0],\n",
       "  [1670.0, 1670.0, 1700.0, 1700.0],\n",
       "  [1650.0, 1650.0, 1685.0, 1685.0],\n",
       "  [1725.0, 1725.0, 1735.0, 1735.0],\n",
       "  [1745.0, 1745.0, 1755.0, 1755.0],\n",
       "  [1730.0, 1730.0, 1750.0, 1750.0],\n",
       "  [1805.0, 1805.0, 1815.0, 1815.0],\n",
       "  [1795.0, 1795.0, 1810.0, 1810.0],\n",
       "  [1785.0, 1785.0, 1802.5, 1802.5],\n",
       "  [1775.0, 1775.0, 1793.75, 1793.75],\n",
       "  [1765.0, 1765.0, 1784.375, 1784.375],\n",
       "  [1845.0, 1845.0, 1855.0, 1855.0],\n",
       "  [1835.0, 1835.0, 1850.0, 1850.0],\n",
       "  [1825.0, 1825.0, 1842.5, 1842.5],\n",
       "  [1774.6875, 1774.6875, 1833.75, 1833.75],\n",
       "  [1740.0, 1740.0, 1804.21875, 1804.21875],\n",
       "  [1865.0, 1865.0, 1875.0, 1875.0],\n",
       "  [1905.0, 1905.0, 1915.0, 1915.0],\n",
       "  [1895.0, 1895.0, 1910.0, 1910.0],\n",
       "  [1885.0, 1885.0, 1902.5, 1902.5],\n",
       "  [1870.0, 1870.0, 1893.75, 1893.75],\n",
       "  [1925.0, 1925.0, 1935.0, 1935.0],\n",
       "  [1945.0, 1945.0, 1955.0, 1955.0],\n",
       "  [1965.0, 1965.0, 1975.0, 1975.0],\n",
       "  [1985.0, 1985.0, 1995.0, 1995.0],\n",
       "  [1970.0, 1970.0, 1990.0, 1990.0],\n",
       "  [1950.0, 1950.0, 1980.0, 1980.0],\n",
       "  [1930.0, 1930.0, 1965.0, 1965.0],\n",
       "  [1881.875, 1881.875, 1947.5, 1947.5],\n",
       "  [1772.109375, 1772.109375, 1914.6875, 1914.6875],\n",
       "  [1667.5, 1667.5, 1843.3984375, 1843.3984375],\n",
       "  [1152.2453308105469, 1152.2453308105469, 1755.44921875, 1755.44921875],\n",
       "  [330.2734375, 330.2734375, 1453.8472747802734, 1453.8472747802734]],\n",
       " 'dcoord': [[0.0, 0.0, 0.0, 0.0],\n",
       "  [0.0, 0.0, 0.0, 0.0],\n",
       "  [0.0, 0.0, 0.0, 0.0],\n",
       "  [0.0, 0.0, 0.0, 0.0],\n",
       "  [0.0, 0.06233041682943025, 0.06233041682943025, 0.0],\n",
       "  [0.0, 0.0, 0.0, 0.0],\n",
       "  [0.0, 0.0, 0.0, 0.0],\n",
       "  [0.0, 0.0, 0.0, 0.0],\n",
       "  [0.0, 0.0, 0.0, 0.0],\n",
       "  [0.0, 0.0, 0.0, 0.0],\n",
       "  [0.0, 0.0, 0.0, 0.0],\n",
       "  [0.0, 0.0, 0.0, 0.0],\n",
       "  [0.0, 0.053979724402759784, 0.053979724402759784, 0.0],\n",
       "  [0.0, 0.1254375441868527, 0.1254375441868527, 0.053979724402759784],\n",
       "  [0.06233041682943025,\n",
       "   0.23693758346405497,\n",
       "   0.23693758346405497,\n",
       "   0.1254375441868527],\n",
       "  [0.0, 0.0, 0.0, 0.0],\n",
       "  [0.0, 0.0, 0.0, 0.0],\n",
       "  [0.0, 0.0, 0.0, 0.0],\n",
       "  [0.0, 0.0, 0.0, 0.0],\n",
       "  [0.0, 0.0, 0.0, 0.0],\n",
       "  [0.0, 0.06233041682943025, 0.06233041682943025, 0.0],\n",
       "  [0.0, 0.08814852082854849, 0.08814852082854849, 0.06233041682943025],\n",
       "  [0.0, 0.0, 0.0, 0.0],\n",
       "  [0.0, 0.0, 0.0, 0.0],\n",
       "  [0.0, 0.05397972440275971, 0.05397972440275971, 0.0],\n",
       "  [0.0, 0.0, 0.0, 0.0],\n",
       "  [0.0, 0.0, 0.0, 0.0],\n",
       "  [0.0, 0.0, 0.0, 0.0],\n",
       "  [0.0, 0.0, 0.0, 0.0],\n",
       "  [0.0, 0.0, 0.0, 0.0],\n",
       "  [0.0, 0.0, 0.0, 0.0],\n",
       "  [0.0, 0.07633885834354469, 0.07633885834354469, 0.0],\n",
       "  [0.05397972440275971,\n",
       "   0.17629704165709698,\n",
       "   0.17629704165709698,\n",
       "   0.07633885834354469],\n",
       "  [0.08814852082854849,\n",
       "   0.4927652117217266,\n",
       "   0.4927652117217266,\n",
       "   0.17629704165709698],\n",
       "  [0.23693758346405497,\n",
       "   1.166789220655658,\n",
       "   1.166789220655658,\n",
       "   0.4927652117217266],\n",
       "  [0.0, 0.0, 0.0, 0.0],\n",
       "  [0.0, 0.0, 0.0, 0.0],\n",
       "  [0.0, 0.0, 0.0, 0.0],\n",
       "  [0.0, 0.0, 0.0, 0.0],\n",
       "  [0.0, 0.06233041682943044, 0.06233041682943044, 0.0],\n",
       "  [0.0, 0.0, 0.0, 0.0],\n",
       "  [0.0, 0.0, 0.0, 0.0],\n",
       "  [0.0, 0.0, 0.0, 0.0],\n",
       "  [0.0, 0.0, 0.0, 0.0],\n",
       "  [0.0, 0.0, 0.0, 0.0],\n",
       "  [0.0, 0.05397972440275987, 0.05397972440275987, 0.0],\n",
       "  [0.0, 0.11450828751531693, 0.11450828751531693, 0.05397972440275987],\n",
       "  [0.06233041682943044,\n",
       "   0.4581088767956966,\n",
       "   0.4581088767956966,\n",
       "   0.11450828751531693],\n",
       "  [0.0, 0.0, 0.0, 0.0],\n",
       "  [0.0, 0.0, 0.0, 0.0],\n",
       "  [0.0, 0.0, 0.0, 0.0],\n",
       "  [0.0, 0.05397972440275955, 0.05397972440275955, 0.0],\n",
       "  [0.0, 0.09349562524414547, 0.09349562524414547, 0.05397972440275955],\n",
       "  [0.0, 0.0, 0.0, 0.0],\n",
       "  [0.0, 0.0, 0.0, 0.0],\n",
       "  [0.0, 0.0, 0.0, 0.0],\n",
       "  [0.0, 0.0, 0.0, 0.0],\n",
       "  [0.0, 0.0, 0.0, 0.0],\n",
       "  [0.0, 0.0, 0.0, 0.0],\n",
       "  [0.0, 0.0, 0.0, 0.0],\n",
       "  [0.0, 0.06233041682943044, 0.06233041682943044, 0.0],\n",
       "  [0.0, 0.11150003927720223, 0.11150003927720223, 0.06233041682943044],\n",
       "  [0.0, 0.0, 0.0, 0.0],\n",
       "  [0.0, 0.0, 0.0, 0.0],\n",
       "  [0.0, 0.05397972440275955, 0.05397972440275955, 0.0],\n",
       "  [0.0, 0.0, 0.0, 0.0],\n",
       "  [0.0, 0.0, 0.0, 0.0],\n",
       "  [0.0, 0.05397972440275955, 0.05397972440275955, 0.0],\n",
       "  [0.05397972440275955,\n",
       "   0.15267771668708938,\n",
       "   0.15267771668708938,\n",
       "   0.05397972440275955],\n",
       "  [0.11150003927720223,\n",
       "   0.3755375284779645,\n",
       "   0.3755375284779645,\n",
       "   0.15267771668708938],\n",
       "  [0.09349562524414547,\n",
       "   0.6488802959201301,\n",
       "   0.6488802959201301,\n",
       "   0.3755375284779645],\n",
       "  [0.4581088767956966,\n",
       "   1.7599034693427271,\n",
       "   1.7599034693427271,\n",
       "   0.6488802959201301],\n",
       "  [1.166789220655658,\n",
       "   4.6262067684613655,\n",
       "   4.6262067684613655,\n",
       "   1.7599034693427271],\n",
       "  [0.0, 0.0, 0.0, 0.0],\n",
       "  [0.0, 0.0, 0.0, 0.0],\n",
       "  [0.0, 0.0, 0.0, 0.0],\n",
       "  [0.0, 0.0, 0.0, 0.0],\n",
       "  [0.0, 0.0, 0.0, 0.0],\n",
       "  [0.0, 0.06233041682943026, 0.06233041682943026, 0.0],\n",
       "  [0.0, 0.0, 0.0, 0.0],\n",
       "  [0.0, 0.0, 0.0, 0.0],\n",
       "  [0.0, 0.0, 0.0, 0.0],\n",
       "  [0.0, 0.0, 0.0, 0.0],\n",
       "  [0.0, 0.0, 0.0, 0.0],\n",
       "  [0.0, 0.0, 0.0, 0.0],\n",
       "  [0.0, 0.0, 0.0, 0.0],\n",
       "  [0.0, 0.0, 0.0, 0.0],\n",
       "  [0.0, 0.0, 0.0, 0.0],\n",
       "  [0.0, 0.0, 0.0, 0.0],\n",
       "  [0.0, 0.0, 0.0, 0.0],\n",
       "  [0.0, 0.0, 0.0, 0.0],\n",
       "  [0.0, 0.07067604944814322, 0.07067604944814322, 0.0],\n",
       "  [0.06233041682943026,\n",
       "   0.1633043326454242,\n",
       "   0.1633043326454242,\n",
       "   0.07067604944814322],\n",
       "  [0.0, 0.24019461026975245, 0.24019461026975245, 0.1633043326454242],\n",
       "  [0.0, 0.0, 0.0, 0.0],\n",
       "  [0.0, 0.0, 0.0, 0.0],\n",
       "  [0.0, 0.0, 0.0, 0.0],\n",
       "  [0.0, 0.0, 0.0, 0.0],\n",
       "  [0.0, 0.0, 0.0, 0.0],\n",
       "  [0.0, 0.0, 0.0, 0.0],\n",
       "  [0.0, 0.0, 0.0, 0.0],\n",
       "  [0.0, 0.05397972440275971, 0.05397972440275971, 0.0],\n",
       "  [0.0, 0.12543754418685266, 0.12543754418685266, 0.05397972440275971],\n",
       "  [0.0, 0.0, 0.0, 0.0],\n",
       "  [0.0, 0.0, 0.0, 0.0],\n",
       "  [0.0, 0.05397972440275971, 0.05397972440275971, 0.0],\n",
       "  [0.0, 0.0, 0.0, 0.0],\n",
       "  [0.0, 0.0, 0.0, 0.0],\n",
       "  [0.0, 0.0, 0.0, 0.0],\n",
       "  [0.0, 0.0, 0.0, 0.0],\n",
       "  [0.0, 0.06233041682943026, 0.06233041682943026, 0.0],\n",
       "  [0.05397972440275971,\n",
       "   0.15331255400615337,\n",
       "   0.15331255400615337,\n",
       "   0.06233041682943026],\n",
       "  [0.12543754418685266,\n",
       "   0.3621069995138249,\n",
       "   0.3621069995138249,\n",
       "   0.15331255400615337],\n",
       "  [0.24019461026975245,\n",
       "   1.065766809015477,\n",
       "   1.065766809015477,\n",
       "   0.3621069995138249],\n",
       "  [0.0, 0.0, 0.0, 0.0],\n",
       "  [0.0, 0.0, 0.0, 0.0],\n",
       "  [0.0, 0.0, 0.0, 0.0],\n",
       "  [0.0, 0.0, 0.0, 0.0],\n",
       "  [0.0, 0.0, 0.0, 0.0],\n",
       "  [0.0, 0.0, 0.0, 0.0],\n",
       "  [0.0, 0.0, 0.0, 0.0],\n",
       "  [0.0, 0.0, 0.0, 0.0],\n",
       "  [0.0, 0.0, 0.0, 0.0],\n",
       "  [0.0, 0.0, 0.0, 0.0],\n",
       "  [0.0, 0.0, 0.0, 0.0],\n",
       "  [0.0, 0.06611139062141136, 0.06611139062141136, 0.0],\n",
       "  [0.0, 0.12493878458064454, 0.12493878458064454, 0.06611139062141136],\n",
       "  [0.0, 0.0, 0.0, 0.0],\n",
       "  [0.0, 0.0, 0.0, 0.0],\n",
       "  [0.0, 0.0, 0.0, 0.0],\n",
       "  [0.0, 0.0, 0.0, 0.0],\n",
       "  [0.0, 0.0, 0.0, 0.0],\n",
       "  [0.0, 0.0, 0.0, 0.0],\n",
       "  [0.0, 0.0, 0.0, 0.0],\n",
       "  [0.0, 0.06233041682943026, 0.06233041682943026, 0.0],\n",
       "  [0.0, 0.19512506873510413, 0.19512506873510413, 0.06233041682943026],\n",
       "  [0.12493878458064454,\n",
       "   0.4320947650723835,\n",
       "   0.4320947650723835,\n",
       "   0.19512506873510413],\n",
       "  [0.0, 0.0, 0.0, 0.0],\n",
       "  [0.0, 0.0, 0.0, 0.0],\n",
       "  [0.0, 0.0, 0.0, 0.0],\n",
       "  [0.0, 0.0, 0.0, 0.0],\n",
       "  [0.0, 0.0, 0.0, 0.0],\n",
       "  [0.0, 0.0, 0.0, 0.0],\n",
       "  [0.0, 0.0, 0.0, 0.0],\n",
       "  [0.0, 0.0, 0.0, 0.0],\n",
       "  [0.0, 0.0, 0.0, 0.0],\n",
       "  [0.0, 0.0, 0.0, 0.0],\n",
       "  [0.0, 0.0, 0.0, 0.0],\n",
       "  [0.0, 0.0, 0.0, 0.0],\n",
       "  [0.0, 0.0, 0.0, 0.0],\n",
       "  [0.0, 0.05397972440275971, 0.05397972440275971, 0.0],\n",
       "  [0.0, 0.0, 0.0, 0.0],\n",
       "  [0.0, 0.0, 0.0, 0.0],\n",
       "  [0.0, 0.0, 0.0, 0.0],\n",
       "  [0.0, 0.0, 0.0, 0.0],\n",
       "  [0.0, 0.0, 0.0, 0.0],\n",
       "  [0.0, 0.0, 0.0, 0.0],\n",
       "  [0.0, 0.06611139062141136, 0.06611139062141136, 0.0],\n",
       "  [0.05397972440275971,\n",
       "   0.19833417186423413,\n",
       "   0.19833417186423413,\n",
       "   0.06611139062141136],\n",
       "  [0.0, 0.6611139062141136, 0.6611139062141136, 0.19833417186423413],\n",
       "  [0.4320947650723835,\n",
       "   1.3401039618327506,\n",
       "   1.3401039618327506,\n",
       "   0.6611139062141136],\n",
       "  [1.065766809015477,\n",
       "   3.835221687754007,\n",
       "   3.835221687754007,\n",
       "   1.3401039618327506],\n",
       "  [0.0, 0.0, 0.0, 0.0],\n",
       "  [0.0, 0.0, 0.0, 0.0],\n",
       "  [0.0, 0.0, 0.0, 0.0],\n",
       "  [0.0, 0.0, 0.0, 0.0],\n",
       "  [0.0, 0.3238783464165586, 0.3238783464165586, 0.0],\n",
       "  [0.0, 0.6233041682943021, 0.6233041682943021, 0.3238783464165586],\n",
       "  [0.0, 1.1459307707711306, 1.1459307707711306, 0.6233041682943021],\n",
       "  [0.0, 0.0, 0.0, 0.0],\n",
       "  [0.0, 0.0, 0.0, 0.0],\n",
       "  [0.0, 0.05397972440275971, 0.05397972440275971, 0.0],\n",
       "  [0.0, 0.0, 0.0, 0.0],\n",
       "  [0.0, 0.0, 0.0, 0.0],\n",
       "  [0.0, 0.0, 0.0, 0.0],\n",
       "  [0.0, 0.0, 0.0, 0.0],\n",
       "  [0.0, 0.0, 0.0, 0.0],\n",
       "  [0.0, 0.0, 0.0, 0.0],\n",
       "  [0.0, 0.0, 0.0, 0.0],\n",
       "  [0.0, 0.0, 0.0, 0.0],\n",
       "  [0.0, 0.08362502945790153, 0.08362502945790153, 0.0],\n",
       "  [0.05397972440275971,\n",
       "   0.17336053624264725,\n",
       "   0.17336053624264725,\n",
       "   0.08362502945790153],\n",
       "  [0.0, 0.0, 0.0, 0.0],\n",
       "  [0.0, 0.0, 0.0, 0.0],\n",
       "  [0.0, 0.0, 0.0, 0.0],\n",
       "  [0.0, 0.0, 0.0, 0.0],\n",
       "  [0.0, 0.12466083365886052, 0.12466083365886052, 0.0],\n",
       "  [0.0, 0.0, 0.0, 0.0],\n",
       "  [0.0, 0.0, 0.0, 0.0],\n",
       "  [0.0, 0.0, 0.0, 0.0],\n",
       "  [0.0, 0.0, 0.0, 0.0],\n",
       "  [0.0, 0.05397972440275955, 0.05397972440275955, 0.0],\n",
       "  [0.0, 0.09349562524414547, 0.09349562524414547, 0.05397972440275955],\n",
       "  [0.0, 0.33055695310705685, 0.33055695310705685, 0.09349562524414547],\n",
       "  [0.12466083365886052,\n",
       "   0.5580599044602124,\n",
       "   0.5580599044602124,\n",
       "   0.33055695310705685],\n",
       "  [0.17336053624264725,\n",
       "   1.754607955488226,\n",
       "   1.754607955488226,\n",
       "   0.5580599044602124],\n",
       "  [1.1459307707711306,\n",
       "   4.174121780650554,\n",
       "   4.174121780650554,\n",
       "   1.754607955488226],\n",
       "  [3.835221687754007, 8.978250929619211, 8.978250929619211, 4.174121780650554],\n",
       "  [4.6262067684613655,\n",
       "   15.838748719475264,\n",
       "   15.838748719475264,\n",
       "   8.978250929619211]],\n",
       " 'ivl': ['61',\n",
       "  '60',\n",
       "  '58',\n",
       "  '59',\n",
       "  '62',\n",
       "  '63',\n",
       "  '69',\n",
       "  '68',\n",
       "  '67',\n",
       "  '66',\n",
       "  '64',\n",
       "  '65',\n",
       "  '70',\n",
       "  '71',\n",
       "  '72',\n",
       "  '73',\n",
       "  '50',\n",
       "  '51',\n",
       "  '55',\n",
       "  '54',\n",
       "  '52',\n",
       "  '53',\n",
       "  '56',\n",
       "  '57',\n",
       "  '38',\n",
       "  '39',\n",
       "  '40',\n",
       "  '41',\n",
       "  '45',\n",
       "  '44',\n",
       "  '42',\n",
       "  '43',\n",
       "  '49',\n",
       "  '48',\n",
       "  '46',\n",
       "  '47',\n",
       "  '35',\n",
       "  '34',\n",
       "  '32',\n",
       "  '33',\n",
       "  '36',\n",
       "  '37',\n",
       "  '27',\n",
       "  '26',\n",
       "  '24',\n",
       "  '25',\n",
       "  '28',\n",
       "  '29',\n",
       "  '30',\n",
       "  '31',\n",
       "  '22',\n",
       "  '23',\n",
       "  '18',\n",
       "  '19',\n",
       "  '20',\n",
       "  '21',\n",
       "  '11',\n",
       "  '10',\n",
       "  '8',\n",
       "  '9',\n",
       "  '15',\n",
       "  '14',\n",
       "  '12',\n",
       "  '13',\n",
       "  '16',\n",
       "  '17',\n",
       "  '0',\n",
       "  '1',\n",
       "  '2',\n",
       "  '3',\n",
       "  '4',\n",
       "  '5',\n",
       "  '6',\n",
       "  '7',\n",
       "  '162',\n",
       "  '163',\n",
       "  '142',\n",
       "  '143',\n",
       "  '147',\n",
       "  '146',\n",
       "  '144',\n",
       "  '145',\n",
       "  '159',\n",
       "  '158',\n",
       "  '157',\n",
       "  '156',\n",
       "  '155',\n",
       "  '154',\n",
       "  '153',\n",
       "  '152',\n",
       "  '151',\n",
       "  '150',\n",
       "  '148',\n",
       "  '149',\n",
       "  '160',\n",
       "  '161',\n",
       "  '131',\n",
       "  '130',\n",
       "  '129',\n",
       "  '128',\n",
       "  '126',\n",
       "  '127',\n",
       "  '122',\n",
       "  '123',\n",
       "  '124',\n",
       "  '125',\n",
       "  '138',\n",
       "  '139',\n",
       "  '140',\n",
       "  '141',\n",
       "  '132',\n",
       "  '133',\n",
       "  '137',\n",
       "  '136',\n",
       "  '134',\n",
       "  '135',\n",
       "  '111',\n",
       "  '110',\n",
       "  '109',\n",
       "  '108',\n",
       "  '106',\n",
       "  '107',\n",
       "  '98',\n",
       "  '99',\n",
       "  '105',\n",
       "  '104',\n",
       "  '103',\n",
       "  '102',\n",
       "  '100',\n",
       "  '101',\n",
       "  '121',\n",
       "  '120',\n",
       "  '118',\n",
       "  '119',\n",
       "  '112',\n",
       "  '113',\n",
       "  '117',\n",
       "  '116',\n",
       "  '114',\n",
       "  '115',\n",
       "  '85',\n",
       "  '84',\n",
       "  '83',\n",
       "  '82',\n",
       "  '81',\n",
       "  '80',\n",
       "  '79',\n",
       "  '78',\n",
       "  '77',\n",
       "  '76',\n",
       "  '74',\n",
       "  '75',\n",
       "  '86',\n",
       "  '87',\n",
       "  '88',\n",
       "  '89',\n",
       "  '90',\n",
       "  '91',\n",
       "  '97',\n",
       "  '96',\n",
       "  '95',\n",
       "  '94',\n",
       "  '92',\n",
       "  '93',\n",
       "  '198',\n",
       "  '199',\n",
       "  '192',\n",
       "  '193',\n",
       "  '194',\n",
       "  '195',\n",
       "  '196',\n",
       "  '197',\n",
       "  '164',\n",
       "  '165',\n",
       "  '166',\n",
       "  '167',\n",
       "  '173',\n",
       "  '172',\n",
       "  '171',\n",
       "  '170',\n",
       "  '168',\n",
       "  '169',\n",
       "  '177',\n",
       "  '176',\n",
       "  '174',\n",
       "  '175',\n",
       "  '186',\n",
       "  '187',\n",
       "  '191',\n",
       "  '190',\n",
       "  '188',\n",
       "  '189',\n",
       "  '178',\n",
       "  '179',\n",
       "  '180',\n",
       "  '181',\n",
       "  '182',\n",
       "  '183',\n",
       "  '184',\n",
       "  '185'],\n",
       " 'leaves': [61,\n",
       "  60,\n",
       "  58,\n",
       "  59,\n",
       "  62,\n",
       "  63,\n",
       "  69,\n",
       "  68,\n",
       "  67,\n",
       "  66,\n",
       "  64,\n",
       "  65,\n",
       "  70,\n",
       "  71,\n",
       "  72,\n",
       "  73,\n",
       "  50,\n",
       "  51,\n",
       "  55,\n",
       "  54,\n",
       "  52,\n",
       "  53,\n",
       "  56,\n",
       "  57,\n",
       "  38,\n",
       "  39,\n",
       "  40,\n",
       "  41,\n",
       "  45,\n",
       "  44,\n",
       "  42,\n",
       "  43,\n",
       "  49,\n",
       "  48,\n",
       "  46,\n",
       "  47,\n",
       "  35,\n",
       "  34,\n",
       "  32,\n",
       "  33,\n",
       "  36,\n",
       "  37,\n",
       "  27,\n",
       "  26,\n",
       "  24,\n",
       "  25,\n",
       "  28,\n",
       "  29,\n",
       "  30,\n",
       "  31,\n",
       "  22,\n",
       "  23,\n",
       "  18,\n",
       "  19,\n",
       "  20,\n",
       "  21,\n",
       "  11,\n",
       "  10,\n",
       "  8,\n",
       "  9,\n",
       "  15,\n",
       "  14,\n",
       "  12,\n",
       "  13,\n",
       "  16,\n",
       "  17,\n",
       "  0,\n",
       "  1,\n",
       "  2,\n",
       "  3,\n",
       "  4,\n",
       "  5,\n",
       "  6,\n",
       "  7,\n",
       "  162,\n",
       "  163,\n",
       "  142,\n",
       "  143,\n",
       "  147,\n",
       "  146,\n",
       "  144,\n",
       "  145,\n",
       "  159,\n",
       "  158,\n",
       "  157,\n",
       "  156,\n",
       "  155,\n",
       "  154,\n",
       "  153,\n",
       "  152,\n",
       "  151,\n",
       "  150,\n",
       "  148,\n",
       "  149,\n",
       "  160,\n",
       "  161,\n",
       "  131,\n",
       "  130,\n",
       "  129,\n",
       "  128,\n",
       "  126,\n",
       "  127,\n",
       "  122,\n",
       "  123,\n",
       "  124,\n",
       "  125,\n",
       "  138,\n",
       "  139,\n",
       "  140,\n",
       "  141,\n",
       "  132,\n",
       "  133,\n",
       "  137,\n",
       "  136,\n",
       "  134,\n",
       "  135,\n",
       "  111,\n",
       "  110,\n",
       "  109,\n",
       "  108,\n",
       "  106,\n",
       "  107,\n",
       "  98,\n",
       "  99,\n",
       "  105,\n",
       "  104,\n",
       "  103,\n",
       "  102,\n",
       "  100,\n",
       "  101,\n",
       "  121,\n",
       "  120,\n",
       "  118,\n",
       "  119,\n",
       "  112,\n",
       "  113,\n",
       "  117,\n",
       "  116,\n",
       "  114,\n",
       "  115,\n",
       "  85,\n",
       "  84,\n",
       "  83,\n",
       "  82,\n",
       "  81,\n",
       "  80,\n",
       "  79,\n",
       "  78,\n",
       "  77,\n",
       "  76,\n",
       "  74,\n",
       "  75,\n",
       "  86,\n",
       "  87,\n",
       "  88,\n",
       "  89,\n",
       "  90,\n",
       "  91,\n",
       "  97,\n",
       "  96,\n",
       "  95,\n",
       "  94,\n",
       "  92,\n",
       "  93,\n",
       "  198,\n",
       "  199,\n",
       "  192,\n",
       "  193,\n",
       "  194,\n",
       "  195,\n",
       "  196,\n",
       "  197,\n",
       "  164,\n",
       "  165,\n",
       "  166,\n",
       "  167,\n",
       "  173,\n",
       "  172,\n",
       "  171,\n",
       "  170,\n",
       "  168,\n",
       "  169,\n",
       "  177,\n",
       "  176,\n",
       "  174,\n",
       "  175,\n",
       "  186,\n",
       "  187,\n",
       "  191,\n",
       "  190,\n",
       "  188,\n",
       "  189,\n",
       "  178,\n",
       "  179,\n",
       "  180,\n",
       "  181,\n",
       "  182,\n",
       "  183,\n",
       "  184,\n",
       "  185],\n",
       " 'color_list': ['C1',\n",
       "  'C1',\n",
       "  'C1',\n",
       "  'C1',\n",
       "  'C1',\n",
       "  'C1',\n",
       "  'C1',\n",
       "  'C1',\n",
       "  'C1',\n",
       "  'C1',\n",
       "  'C1',\n",
       "  'C1',\n",
       "  'C1',\n",
       "  'C1',\n",
       "  'C1',\n",
       "  'C1',\n",
       "  'C1',\n",
       "  'C1',\n",
       "  'C1',\n",
       "  'C1',\n",
       "  'C1',\n",
       "  'C1',\n",
       "  'C1',\n",
       "  'C1',\n",
       "  'C1',\n",
       "  'C1',\n",
       "  'C1',\n",
       "  'C1',\n",
       "  'C1',\n",
       "  'C1',\n",
       "  'C1',\n",
       "  'C1',\n",
       "  'C1',\n",
       "  'C1',\n",
       "  'C1',\n",
       "  'C1',\n",
       "  'C1',\n",
       "  'C1',\n",
       "  'C1',\n",
       "  'C1',\n",
       "  'C1',\n",
       "  'C1',\n",
       "  'C1',\n",
       "  'C1',\n",
       "  'C1',\n",
       "  'C1',\n",
       "  'C1',\n",
       "  'C1',\n",
       "  'C1',\n",
       "  'C1',\n",
       "  'C1',\n",
       "  'C1',\n",
       "  'C1',\n",
       "  'C1',\n",
       "  'C1',\n",
       "  'C1',\n",
       "  'C1',\n",
       "  'C1',\n",
       "  'C1',\n",
       "  'C1',\n",
       "  'C1',\n",
       "  'C1',\n",
       "  'C1',\n",
       "  'C1',\n",
       "  'C1',\n",
       "  'C1',\n",
       "  'C1',\n",
       "  'C1',\n",
       "  'C1',\n",
       "  'C1',\n",
       "  'C1',\n",
       "  'C1',\n",
       "  'C1',\n",
       "  'C2',\n",
       "  'C2',\n",
       "  'C2',\n",
       "  'C2',\n",
       "  'C2',\n",
       "  'C2',\n",
       "  'C2',\n",
       "  'C2',\n",
       "  'C2',\n",
       "  'C2',\n",
       "  'C2',\n",
       "  'C2',\n",
       "  'C2',\n",
       "  'C2',\n",
       "  'C2',\n",
       "  'C2',\n",
       "  'C2',\n",
       "  'C2',\n",
       "  'C2',\n",
       "  'C2',\n",
       "  'C2',\n",
       "  'C2',\n",
       "  'C2',\n",
       "  'C2',\n",
       "  'C2',\n",
       "  'C2',\n",
       "  'C2',\n",
       "  'C2',\n",
       "  'C2',\n",
       "  'C2',\n",
       "  'C2',\n",
       "  'C2',\n",
       "  'C2',\n",
       "  'C2',\n",
       "  'C2',\n",
       "  'C2',\n",
       "  'C2',\n",
       "  'C2',\n",
       "  'C2',\n",
       "  'C2',\n",
       "  'C2',\n",
       "  'C2',\n",
       "  'C2',\n",
       "  'C2',\n",
       "  'C2',\n",
       "  'C2',\n",
       "  'C2',\n",
       "  'C2',\n",
       "  'C2',\n",
       "  'C2',\n",
       "  'C2',\n",
       "  'C2',\n",
       "  'C2',\n",
       "  'C2',\n",
       "  'C2',\n",
       "  'C2',\n",
       "  'C2',\n",
       "  'C2',\n",
       "  'C2',\n",
       "  'C2',\n",
       "  'C2',\n",
       "  'C2',\n",
       "  'C2',\n",
       "  'C2',\n",
       "  'C2',\n",
       "  'C2',\n",
       "  'C2',\n",
       "  'C2',\n",
       "  'C2',\n",
       "  'C2',\n",
       "  'C2',\n",
       "  'C2',\n",
       "  'C2',\n",
       "  'C2',\n",
       "  'C2',\n",
       "  'C2',\n",
       "  'C2',\n",
       "  'C2',\n",
       "  'C2',\n",
       "  'C2',\n",
       "  'C2',\n",
       "  'C2',\n",
       "  'C2',\n",
       "  'C2',\n",
       "  'C2',\n",
       "  'C2',\n",
       "  'C2',\n",
       "  'C2',\n",
       "  'C2',\n",
       "  'C2',\n",
       "  'C2',\n",
       "  'C2',\n",
       "  'C2',\n",
       "  'C2',\n",
       "  'C2',\n",
       "  'C2',\n",
       "  'C2',\n",
       "  'C2',\n",
       "  'C2',\n",
       "  'C2',\n",
       "  'C2',\n",
       "  'C2',\n",
       "  'C2',\n",
       "  'C2',\n",
       "  'C2',\n",
       "  'C2',\n",
       "  'C2',\n",
       "  'C2',\n",
       "  'C2',\n",
       "  'C2',\n",
       "  'C2',\n",
       "  'C2',\n",
       "  'C2',\n",
       "  'C2',\n",
       "  'C2',\n",
       "  'C2',\n",
       "  'C2',\n",
       "  'C2',\n",
       "  'C2',\n",
       "  'C2',\n",
       "  'C2',\n",
       "  'C2',\n",
       "  'C2',\n",
       "  'C2',\n",
       "  'C2',\n",
       "  'C0'],\n",
       " 'leaves_color_list': ['C1',\n",
       "  'C1',\n",
       "  'C1',\n",
       "  'C1',\n",
       "  'C1',\n",
       "  'C1',\n",
       "  'C1',\n",
       "  'C1',\n",
       "  'C1',\n",
       "  'C1',\n",
       "  'C1',\n",
       "  'C1',\n",
       "  'C1',\n",
       "  'C1',\n",
       "  'C1',\n",
       "  'C1',\n",
       "  'C1',\n",
       "  'C1',\n",
       "  'C1',\n",
       "  'C1',\n",
       "  'C1',\n",
       "  'C1',\n",
       "  'C1',\n",
       "  'C1',\n",
       "  'C1',\n",
       "  'C1',\n",
       "  'C1',\n",
       "  'C1',\n",
       "  'C1',\n",
       "  'C1',\n",
       "  'C1',\n",
       "  'C1',\n",
       "  'C1',\n",
       "  'C1',\n",
       "  'C1',\n",
       "  'C1',\n",
       "  'C1',\n",
       "  'C1',\n",
       "  'C1',\n",
       "  'C1',\n",
       "  'C1',\n",
       "  'C1',\n",
       "  'C1',\n",
       "  'C1',\n",
       "  'C1',\n",
       "  'C1',\n",
       "  'C1',\n",
       "  'C1',\n",
       "  'C1',\n",
       "  'C1',\n",
       "  'C1',\n",
       "  'C1',\n",
       "  'C1',\n",
       "  'C1',\n",
       "  'C1',\n",
       "  'C1',\n",
       "  'C1',\n",
       "  'C1',\n",
       "  'C1',\n",
       "  'C1',\n",
       "  'C1',\n",
       "  'C1',\n",
       "  'C1',\n",
       "  'C1',\n",
       "  'C1',\n",
       "  'C1',\n",
       "  'C1',\n",
       "  'C1',\n",
       "  'C1',\n",
       "  'C1',\n",
       "  'C1',\n",
       "  'C1',\n",
       "  'C1',\n",
       "  'C1',\n",
       "  'C2',\n",
       "  'C2',\n",
       "  'C2',\n",
       "  'C2',\n",
       "  'C2',\n",
       "  'C2',\n",
       "  'C2',\n",
       "  'C2',\n",
       "  'C2',\n",
       "  'C2',\n",
       "  'C2',\n",
       "  'C2',\n",
       "  'C2',\n",
       "  'C2',\n",
       "  'C2',\n",
       "  'C2',\n",
       "  'C2',\n",
       "  'C2',\n",
       "  'C2',\n",
       "  'C2',\n",
       "  'C2',\n",
       "  'C2',\n",
       "  'C2',\n",
       "  'C2',\n",
       "  'C2',\n",
       "  'C2',\n",
       "  'C2',\n",
       "  'C2',\n",
       "  'C2',\n",
       "  'C2',\n",
       "  'C2',\n",
       "  'C2',\n",
       "  'C2',\n",
       "  'C2',\n",
       "  'C2',\n",
       "  'C2',\n",
       "  'C2',\n",
       "  'C2',\n",
       "  'C2',\n",
       "  'C2',\n",
       "  'C2',\n",
       "  'C2',\n",
       "  'C2',\n",
       "  'C2',\n",
       "  'C2',\n",
       "  'C2',\n",
       "  'C2',\n",
       "  'C2',\n",
       "  'C2',\n",
       "  'C2',\n",
       "  'C2',\n",
       "  'C2',\n",
       "  'C2',\n",
       "  'C2',\n",
       "  'C2',\n",
       "  'C2',\n",
       "  'C2',\n",
       "  'C2',\n",
       "  'C2',\n",
       "  'C2',\n",
       "  'C2',\n",
       "  'C2',\n",
       "  'C2',\n",
       "  'C2',\n",
       "  'C2',\n",
       "  'C2',\n",
       "  'C2',\n",
       "  'C2',\n",
       "  'C2',\n",
       "  'C2',\n",
       "  'C2',\n",
       "  'C2',\n",
       "  'C2',\n",
       "  'C2',\n",
       "  'C2',\n",
       "  'C2',\n",
       "  'C2',\n",
       "  'C2',\n",
       "  'C2',\n",
       "  'C2',\n",
       "  'C2',\n",
       "  'C2',\n",
       "  'C2',\n",
       "  'C2',\n",
       "  'C2',\n",
       "  'C2',\n",
       "  'C2',\n",
       "  'C2',\n",
       "  'C2',\n",
       "  'C2',\n",
       "  'C2',\n",
       "  'C2',\n",
       "  'C2',\n",
       "  'C2',\n",
       "  'C2',\n",
       "  'C2',\n",
       "  'C2',\n",
       "  'C2',\n",
       "  'C2',\n",
       "  'C2',\n",
       "  'C2',\n",
       "  'C2',\n",
       "  'C2',\n",
       "  'C2',\n",
       "  'C2',\n",
       "  'C2',\n",
       "  'C2',\n",
       "  'C2',\n",
       "  'C2',\n",
       "  'C2',\n",
       "  'C2',\n",
       "  'C2',\n",
       "  'C2',\n",
       "  'C2',\n",
       "  'C2',\n",
       "  'C2',\n",
       "  'C2',\n",
       "  'C2',\n",
       "  'C2',\n",
       "  'C2',\n",
       "  'C2',\n",
       "  'C2',\n",
       "  'C2',\n",
       "  'C2',\n",
       "  'C2',\n",
       "  'C2']}"
      ]
     },
     "execution_count": 27,
     "metadata": {},
     "output_type": "execute_result"
    },
    {
     "data": {
      "image/png": "[encoded data removed]",
      "text/plain": [
       "<Figure size 432x288 with 1 Axes>"
      ]
     },
     "metadata": {
      "needs_background": "light"
     },
     "output_type": "display_data"
    }
   ],
   "source": [
    "linkage_array=ward(X_scaled)\n",
    "dendrogram(linkage_array)"
   ]
  },
  {
   "cell_type": "markdown",
   "metadata": {
    "id": "HsHgaL3n0Z8h"
   },
   "source": [
    "#### 2.8 다시 데이터를 로드하고 다음 코드를 실행해주세요."
   ]
  },
  {
   "cell_type": "code",
   "execution_count": null,
   "metadata": {
    "id": "McTDaQiQ0Z8h"
   },
   "outputs": [],
   "source": [
    "#데이터 다시 로드\n",
    "df = pd.read_csv(\"Mall_Customers.csv\")"
   ]
  },
  {
   "cell_type": "markdown",
   "metadata": {
    "id": "n5nWl49i0Z8h"
   },
   "source": [
    "#### 2.9 AIC, BIC를 구하여 n_components 값을 결정하려고 합니다. 다음 코드의 빈칸을 채워주세요."
   ]
  },
  {
   "cell_type": "code",
   "execution_count": null,
   "metadata": {
    "id": "5sPl9dNr0Z8h"
   },
   "outputs": [],
   "source": [
    "# AIC, BIC\n",
    "from sklearn.mixture import GaussianMixture\n",
    "\n",
    "gmm_per_k = [GaussianMixture(<           >, n_init=10, random_state=0).fit(df) for k in range(1,11)]\n",
    "\n",
    "bics = [<       >(df) for model in gmm_per_k]  # model 별 bic 구하기\n",
    "aics = [<       >(df) for model in gmm_per_k]  # model 별 aic 구하기\n",
    "\n",
    "plt.plot(range(1,11), <    >, 'rs--')\n",
    "plt.plot(range(1,11), <    >, 'bo-')\n",
    "plt.legend(['AIC','BIC'])\n",
    "plt.show()"
   ]
  },
  {
   "cell_type": "markdown",
   "metadata": {
    "id": "mVn1QStl0Z8i"
   },
   "source": [
    "#### 2.10 GMM 군집화를 진행해주세요. 위의 결과를 참고하여 n_components를 결정해주세요. 이후 군집화 결과를 확인하기 위한 코드에서 빈칸을 채워주세요. (인자 : df) "
   ]
  },
  {
   "cell_type": "code",
   "execution_count": null,
   "metadata": {
    "id": "FNIizxOM0Z8i"
   },
   "outputs": [],
   "source": [
    "from sklearn.mixture import GaussianMixture\n",
    "\n",
    "gmm = GaussainMIxture(n_components= ).fit(df)\n",
    "gmm_cluster_labels = gmm.predict(df)"
   ]
  },
  {
   "cell_type": "code",
   "execution_count": null,
   "metadata": {
    "id": "oDpxzKac0Z8i"
   },
   "outputs": [],
   "source": [
    "df['gmm_cluster'] = gmm_cluster_labels\n",
    "df['target'] = df['Spending Score (1-100)']\n",
    "\n",
    "result = df.groupby(['target'])['gmm_cluster'].value_counts()\n",
    "print(result)"
   ]
  },
  {
   "cell_type": "code",
   "execution_count": null,
   "metadata": {
    "id": "BoeWvUkW0Z8i"
   },
   "outputs": [],
   "source": [
    "for i in range(0,6):\n",
    "  m_ind = <                      >\n",
    "  plt.scatter(x=df.loc[m_ind,'Annual Income (k$)'], y=df.loc[m_ind,'Spending Score (1-100)'],marker=i)\n",
    "\n",
    "plt.show()"
   ]
  },
  {
   "cell_type": "markdown",
   "metadata": {},
   "source": [
    "3.1\n",
    "\n",
    "(1) 앞에서 사용한 Mall_Customers 데이터를 다시 사용하겠습니다. 아래 코드를 불러주세요."
   ]
  },
  {
   "cell_type": "code",
   "execution_count": 28,
   "metadata": {},
   "outputs": [],
   "source": [
    "df = pd.read_csv(\"Mall_Customers.csv\")\n",
    "df = df.drop('CustomerID', axis=1)\n",
    "df = pd.get_dummies(df)"
   ]
  },
  {
   "cell_type": "code",
   "execution_count": 29,
   "metadata": {},
   "outputs": [
    {
     "data": {
      "text/html": [
       "<div>\n",
       "<style scoped>\n",
       "    .dataframe tbody tr th:only-of-type {\n",
       "        vertical-align: middle;\n",
       "    }\n",
       "\n",
       "    .dataframe tbody tr th {\n",
       "        vertical-align: top;\n",
       "    }\n",
       "\n",
       "    .dataframe thead th {\n",
       "        text-align: right;\n",
       "    }\n",
       "</style>\n",
       "<table border=\"1\" class=\"dataframe\">\n",
       "  <thead>\n",
       "    <tr style=\"text-align: right;\">\n",
       "      <th></th>\n",
       "      <th>Age</th>\n",
       "      <th>Annual Income (k$)</th>\n",
       "      <th>Spending Score (1-100)</th>\n",
       "      <th>Gender_Female</th>\n",
       "      <th>Gender_Male</th>\n",
       "    </tr>\n",
       "  </thead>\n",
       "  <tbody>\n",
       "    <tr>\n",
       "      <th>0</th>\n",
       "      <td>19</td>\n",
       "      <td>15</td>\n",
       "      <td>39</td>\n",
       "      <td>0</td>\n",
       "      <td>1</td>\n",
       "    </tr>\n",
       "    <tr>\n",
       "      <th>1</th>\n",
       "      <td>21</td>\n",
       "      <td>15</td>\n",
       "      <td>81</td>\n",
       "      <td>0</td>\n",
       "      <td>1</td>\n",
       "    </tr>\n",
       "    <tr>\n",
       "      <th>2</th>\n",
       "      <td>20</td>\n",
       "      <td>16</td>\n",
       "      <td>6</td>\n",
       "      <td>1</td>\n",
       "      <td>0</td>\n",
       "    </tr>\n",
       "    <tr>\n",
       "      <th>3</th>\n",
       "      <td>23</td>\n",
       "      <td>16</td>\n",
       "      <td>77</td>\n",
       "      <td>1</td>\n",
       "      <td>0</td>\n",
       "    </tr>\n",
       "    <tr>\n",
       "      <th>4</th>\n",
       "      <td>31</td>\n",
       "      <td>17</td>\n",
       "      <td>40</td>\n",
       "      <td>1</td>\n",
       "      <td>0</td>\n",
       "    </tr>\n",
       "  </tbody>\n",
       "</table>\n",
       "</div>"
      ],
      "text/plain": [
       "   Age  Annual Income (k$)  Spending Score (1-100)  Gender_Female  Gender_Male\n",
       "0   19                  15                      39              0            1\n",
       "1   21                  15                      81              0            1\n",
       "2   20                  16                       6              1            0\n",
       "3   23                  16                      77              1            0\n",
       "4   31                  17                      40              1            0"
      ]
     },
     "execution_count": 29,
     "metadata": {},
     "output_type": "execute_result"
    }
   ],
   "source": [
    "df.head()"
   ]
  },
  {
   "cell_type": "markdown",
   "metadata": {},
   "source": [
    "(2) 보다 용이한 시각화를 위해 \"Annual Income (k$)\", \"Spending Score (1-100)\" 열들만 사용하여 2개의 feature에 대한 고객 군집화를 진행하겠습니다. 그러기 위해 빈칸(<?>)을 채워주세요."
   ]
  },
  {
   "cell_type": "code",
   "execution_count": 37,
   "metadata": {},
   "outputs": [
    {
     "data": {
      "text/html": [
       "<div>\n",
       "<style scoped>\n",
       "    .dataframe tbody tr th:only-of-type {\n",
       "        vertical-align: middle;\n",
       "    }\n",
       "\n",
       "    .dataframe tbody tr th {\n",
       "        vertical-align: top;\n",
       "    }\n",
       "\n",
       "    .dataframe thead th {\n",
       "        text-align: right;\n",
       "    }\n",
       "</style>\n",
       "<table border=\"1\" class=\"dataframe\">\n",
       "  <thead>\n",
       "    <tr style=\"text-align: right;\">\n",
       "      <th></th>\n",
       "      <th>Annual Income (k$)</th>\n",
       "      <th>Spending Score (1-100)</th>\n",
       "    </tr>\n",
       "  </thead>\n",
       "  <tbody>\n",
       "    <tr>\n",
       "      <th>0</th>\n",
       "      <td>15</td>\n",
       "      <td>39</td>\n",
       "    </tr>\n",
       "    <tr>\n",
       "      <th>1</th>\n",
       "      <td>15</td>\n",
       "      <td>81</td>\n",
       "    </tr>\n",
       "    <tr>\n",
       "      <th>2</th>\n",
       "      <td>16</td>\n",
       "      <td>6</td>\n",
       "    </tr>\n",
       "    <tr>\n",
       "      <th>3</th>\n",
       "      <td>16</td>\n",
       "      <td>77</td>\n",
       "    </tr>\n",
       "    <tr>\n",
       "      <th>4</th>\n",
       "      <td>17</td>\n",
       "      <td>40</td>\n",
       "    </tr>\n",
       "  </tbody>\n",
       "</table>\n",
       "</div>"
      ],
      "text/plain": [
       "   Annual Income (k$)  Spending Score (1-100)\n",
       "0                  15                      39\n",
       "1                  15                      81\n",
       "2                  16                       6\n",
       "3                  16                      77\n",
       "4                  17                      40"
      ]
     },
     "execution_count": 37,
     "metadata": {},
     "output_type": "execute_result"
    }
   ],
   "source": [
    "data = df[['Annual Income (k$)', 'Spending Score (1-100)']]\n",
    "data.head()"
   ]
  },
  {
   "cell_type": "markdown",
   "metadata": {},
   "source": [
    "(3) DBSCAN 군집화를 실행하기 전, 위에서 만든 data에 대한 정규화를 위해 빈칸(<?>)을 채워주세요."
   ]
  },
  {
   "cell_type": "code",
   "execution_count": 40,
   "metadata": {},
   "outputs": [],
   "source": [
    "from sklearn.preprocessing import StandardScaler"
   ]
  },
  {
   "cell_type": "code",
   "execution_count": 57,
   "metadata": {},
   "outputs": [
    {
     "data": {
      "text/html": [
       "<div>\n",
       "<style scoped>\n",
       "    .dataframe tbody tr th:only-of-type {\n",
       "        vertical-align: middle;\n",
       "    }\n",
       "\n",
       "    .dataframe tbody tr th {\n",
       "        vertical-align: top;\n",
       "    }\n",
       "\n",
       "    .dataframe thead th {\n",
       "        text-align: right;\n",
       "    }\n",
       "</style>\n",
       "<table border=\"1\" class=\"dataframe\">\n",
       "  <thead>\n",
       "    <tr style=\"text-align: right;\">\n",
       "      <th></th>\n",
       "      <th>Annual Income (k$)</th>\n",
       "      <th>Spending Score (1-100)</th>\n",
       "    </tr>\n",
       "  </thead>\n",
       "  <tbody>\n",
       "    <tr>\n",
       "      <th>0</th>\n",
       "      <td>-1.738999</td>\n",
       "      <td>-0.434801</td>\n",
       "    </tr>\n",
       "    <tr>\n",
       "      <th>1</th>\n",
       "      <td>-1.738999</td>\n",
       "      <td>1.195704</td>\n",
       "    </tr>\n",
       "    <tr>\n",
       "      <th>2</th>\n",
       "      <td>-1.700830</td>\n",
       "      <td>-1.715913</td>\n",
       "    </tr>\n",
       "    <tr>\n",
       "      <th>3</th>\n",
       "      <td>-1.700830</td>\n",
       "      <td>1.040418</td>\n",
       "    </tr>\n",
       "    <tr>\n",
       "      <th>4</th>\n",
       "      <td>-1.662660</td>\n",
       "      <td>-0.395980</td>\n",
       "    </tr>\n",
       "  </tbody>\n",
       "</table>\n",
       "</div>"
      ],
      "text/plain": [
       "   Annual Income (k$)  Spending Score (1-100)\n",
       "0           -1.738999               -0.434801\n",
       "1           -1.738999                1.195704\n",
       "2           -1.700830               -1.715913\n",
       "3           -1.700830                1.040418\n",
       "4           -1.662660               -0.395980"
      ]
     },
     "execution_count": 57,
     "metadata": {},
     "output_type": "execute_result"
    }
   ],
   "source": [
    "scaler = StandardScaler()\n",
    "data_scale = scaler.fit_transform(data)\n",
    "data_scale=pd.DataFrame(data_scale, columns=['Annual Income (k$)', 'Spending Score (1-100)'])\n",
    "data_scale.head()"
   ]
  },
  {
   "cell_type": "markdown",
   "metadata": {},
   "source": [
    "(4) DBSCAN 클래스를 이용해 위에서 생성한 데이터를 군집화하기 위해 빈칸(<?>)을 채워주세요.(eps = 0.4, min_samples=5, metric=\"euclidean\")"
   ]
  },
  {
   "cell_type": "code",
   "execution_count": 58,
   "metadata": {},
   "outputs": [],
   "source": [
    "from sklearn.cluster import DBSCAN"
   ]
  },
  {
   "cell_type": "code",
   "execution_count": 59,
   "metadata": {},
   "outputs": [],
   "source": [
    "dbscan = DBSCAN(eps=0.4, min_samples=5, metric='euclidean')\n",
    "dbscan_labels = dbscan.fit_predict(data_scale)\n",
    "data_scale[\"cluster\"] = dbscan_labels"
   ]
  },
  {
   "cell_type": "markdown",
   "metadata": {},
   "source": [
    "(5) 위에서 진행한 군집화의 결과를 시각화하겠습니다. 빈칸(<?>)을 채워주세요."
   ]
  },
  {
   "cell_type": "code",
   "execution_count": null,
   "metadata": {},
   "outputs": [],
   "source": [
    "for i in range(< ? >):\n",
    "    plt.scatter(df_scale.loc[data_scale[\"cluster\"]==i, \"Annual Income (k$)\"],\n",
    "               data_scale.loc[data_scale[\"cluster\"]==i,\"Spending Score (1-100)\"],\n",
    "                label = \"cluster\" + str(i))\n",
    "    \n",
    "plt.legend()\n",
    "plt.xlabel(\"Annual Income\", size=12)\n",
    "plt.ylabel(\"Spending Score\",size=12)\n",
    "plt.show()"
   ]
  },
  {
   "cell_type": "markdown",
   "metadata": {},
   "source": [
    "(6) cluster의 값이 -1인 경우가 존재하는 것을 확인할 수 있습니다. 해당 값은 무엇을 의미하는지 작성해주세요."
   ]
  },
  {
   "cell_type": "markdown",
   "metadata": {},
   "source": [
    "[답안]\n",
    "\n",
    ": "
   ]
  },
  {
   "cell_type": "markdown",
   "metadata": {},
   "source": [
    "3.2\n",
    "\n",
    "(1) 위에서 만든 df 데이터셋을 이용하겠습니다. BayesianGaussianMixture를 사용하여 베이지안 가우시안 모델을 이용한 군집화를 진행하기 위해 빈칸(<?>)을 채워주세요.(n_components=10, n_init=10)"
   ]
  },
  {
   "cell_type": "code",
   "execution_count": 54,
   "metadata": {},
   "outputs": [],
   "source": [
    "from sklearn.mixture import BayesianGaussianMixture"
   ]
  },
  {
   "cell_type": "code",
   "execution_count": 55,
   "metadata": {},
   "outputs": [
    {
     "data": {
      "text/plain": [
       "BayesianGaussianMixture(n_components=10, n_init=10)"
      ]
     },
     "execution_count": 55,
     "metadata": {},
     "output_type": "execute_result"
    }
   ],
   "source": [
    "bgm = BayesianGaussianMixture(n_components=10, n_init=10)\n",
    "bgm.fit(data)"
   ]
  },
  {
   "cell_type": "markdown",
   "metadata": {},
   "source": [
    "(2) 몇 개의 컴포넌트가 필요한지 알아내는 코드를 작성해주세요."
   ]
  },
  {
   "cell_type": "code",
   "execution_count": null,
   "metadata": {},
   "outputs": [],
   "source": []
  }
 ],
 "metadata": {
  "colab": {
   "collapsed_sections": [],
   "provenance": []
  },
  "kernelspec": {
   "display_name": "Python 3 (ipykernel)",
   "language": "python",
   "name": "python3"
  },
  "language_info": {
   "codemirror_mode": {
    "name": "ipython",
    "version": 3
   },
   "file_extension": ".py",
   "mimetype": "text/x-python",
   "name": "python",
   "nbconvert_exporter": "python",
   "pygments_lexer": "ipython3",
   "version": "3.9.7"
  },
  "vscode": {
   "interpreter": {
    "hash": "aee8b7b246df8f9039afb4144a1f6fd8d2ca17a180786b69acc140d282b71a49"
   }
  }
 },
 "nbformat": 4,
 "nbformat_minor": 1
}
