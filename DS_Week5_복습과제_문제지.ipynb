{
 "cells": [
  {
   "cell_type": "markdown",
   "metadata": {
    "id": "bZK_zDLX_375"
   },
   "source": [
    "week5\n",
    "\n",
    "다음 사이트에서 insurance.csv 데이터를 다운 받아 주세요.\n",
    "\n",
    "https://www.kaggle.com/datasets/mirichoi0218/insurance/code "
   ]
  },
  {
   "cell_type": "markdown",
   "metadata": {
    "id": "vZh2wtSK_v2E"
   },
   "source": [
    "###1. Medical Cost Perconal Datasets을 이용한 선형 회귀 문제"
   ]
  },
  {
   "cell_type": "code",
   "execution_count": 163,
   "metadata": {
    "id": "FoKc4V4IetGD"
   },
   "outputs": [],
   "source": [
    "import numpy as np\n",
    "import matplotlib.pyplot as plt\n",
    "import pandas as pd\n",
    "import seaborn as sns\n",
    "import warnings\n",
    "warnings.filterwarnings('ignore')\n",
    "%matplotlib inline"
   ]
  },
  {
   "cell_type": "markdown",
   "metadata": {
    "id": "gdlADPkwdxnY"
   },
   "source": [
    "1.1 'insurance.csv' 데이터셋을 로드하여 insurance 변수에 저장하고, head()를 통해 데이터를 확인하세요."
   ]
  },
  {
   "cell_type": "code",
   "execution_count": 164,
   "metadata": {
    "id": "wfA2reucdjIP"
   },
   "outputs": [
    {
     "data": {
      "text/html": [
       "<div>\n",
       "<style scoped>\n",
       "    .dataframe tbody tr th:only-of-type {\n",
       "        vertical-align: middle;\n",
       "    }\n",
       "\n",
       "    .dataframe tbody tr th {\n",
       "        vertical-align: top;\n",
       "    }\n",
       "\n",
       "    .dataframe thead th {\n",
       "        text-align: right;\n",
       "    }\n",
       "</style>\n",
       "<table border=\"1\" class=\"dataframe\">\n",
       "  <thead>\n",
       "    <tr style=\"text-align: right;\">\n",
       "      <th></th>\n",
       "      <th>age</th>\n",
       "      <th>sex</th>\n",
       "      <th>bmi</th>\n",
       "      <th>children</th>\n",
       "      <th>smoker</th>\n",
       "      <th>region</th>\n",
       "      <th>charges</th>\n",
       "    </tr>\n",
       "  </thead>\n",
       "  <tbody>\n",
       "    <tr>\n",
       "      <th>0</th>\n",
       "      <td>19</td>\n",
       "      <td>female</td>\n",
       "      <td>27.900</td>\n",
       "      <td>0</td>\n",
       "      <td>yes</td>\n",
       "      <td>southwest</td>\n",
       "      <td>16884.92400</td>\n",
       "    </tr>\n",
       "    <tr>\n",
       "      <th>1</th>\n",
       "      <td>18</td>\n",
       "      <td>male</td>\n",
       "      <td>33.770</td>\n",
       "      <td>1</td>\n",
       "      <td>no</td>\n",
       "      <td>southeast</td>\n",
       "      <td>1725.55230</td>\n",
       "    </tr>\n",
       "    <tr>\n",
       "      <th>2</th>\n",
       "      <td>28</td>\n",
       "      <td>male</td>\n",
       "      <td>33.000</td>\n",
       "      <td>3</td>\n",
       "      <td>no</td>\n",
       "      <td>southeast</td>\n",
       "      <td>4449.46200</td>\n",
       "    </tr>\n",
       "    <tr>\n",
       "      <th>3</th>\n",
       "      <td>33</td>\n",
       "      <td>male</td>\n",
       "      <td>22.705</td>\n",
       "      <td>0</td>\n",
       "      <td>no</td>\n",
       "      <td>northwest</td>\n",
       "      <td>21984.47061</td>\n",
       "    </tr>\n",
       "    <tr>\n",
       "      <th>4</th>\n",
       "      <td>32</td>\n",
       "      <td>male</td>\n",
       "      <td>28.880</td>\n",
       "      <td>0</td>\n",
       "      <td>no</td>\n",
       "      <td>northwest</td>\n",
       "      <td>3866.85520</td>\n",
       "    </tr>\n",
       "  </tbody>\n",
       "</table>\n",
       "</div>"
      ],
      "text/plain": [
       "   age     sex     bmi  children smoker     region      charges\n",
       "0   19  female  27.900         0    yes  southwest  16884.92400\n",
       "1   18    male  33.770         1     no  southeast   1725.55230\n",
       "2   28    male  33.000         3     no  southeast   4449.46200\n",
       "3   33    male  22.705         0     no  northwest  21984.47061\n",
       "4   32    male  28.880         0     no  northwest   3866.85520"
      ]
     },
     "execution_count": 164,
     "metadata": {},
     "output_type": "execute_result"
    }
   ],
   "source": [
    "insurance = pd.read_csv('/Users/dohakim/Python_Workplace/Euron/insurance.csv')\n",
    "insurance.head()"
   ]
  },
  {
   "cell_type": "markdown",
   "metadata": {
    "id": "esu6SGy9fj8F"
   },
   "source": [
    "1.2 데이터의 정보를 확인하세요."
   ]
  },
  {
   "cell_type": "code",
   "execution_count": 165,
   "metadata": {
    "id": "kbwGkIukfGW3"
   },
   "outputs": [
    {
     "name": "stdout",
     "output_type": "stream",
     "text": [
      "<class 'pandas.core.frame.DataFrame'>\n",
      "RangeIndex: 1338 entries, 0 to 1337\n",
      "Data columns (total 7 columns):\n",
      " #   Column    Non-Null Count  Dtype  \n",
      "---  ------    --------------  -----  \n",
      " 0   age       1338 non-null   int64  \n",
      " 1   sex       1338 non-null   object \n",
      " 2   bmi       1338 non-null   float64\n",
      " 3   children  1338 non-null   int64  \n",
      " 4   smoker    1338 non-null   object \n",
      " 5   region    1338 non-null   object \n",
      " 6   charges   1338 non-null   float64\n",
      "dtypes: float64(2), int64(2), object(3)\n",
      "memory usage: 73.3+ KB\n"
     ]
    }
   ],
   "source": [
    "insurance.info()"
   ]
  },
  {
   "cell_type": "markdown",
   "metadata": {
    "id": "GRKRIs2TfrWn"
   },
   "source": [
    "1.3 데이터의 기본 통계량을 확인하세요."
   ]
  },
  {
   "cell_type": "code",
   "execution_count": 166,
   "metadata": {
    "id": "h-eE5lhCfXBI"
   },
   "outputs": [
    {
     "data": {
      "text/html": [
       "<div>\n",
       "<style scoped>\n",
       "    .dataframe tbody tr th:only-of-type {\n",
       "        vertical-align: middle;\n",
       "    }\n",
       "\n",
       "    .dataframe tbody tr th {\n",
       "        vertical-align: top;\n",
       "    }\n",
       "\n",
       "    .dataframe thead th {\n",
       "        text-align: right;\n",
       "    }\n",
       "</style>\n",
       "<table border=\"1\" class=\"dataframe\">\n",
       "  <thead>\n",
       "    <tr style=\"text-align: right;\">\n",
       "      <th></th>\n",
       "      <th>age</th>\n",
       "      <th>bmi</th>\n",
       "      <th>children</th>\n",
       "      <th>charges</th>\n",
       "    </tr>\n",
       "  </thead>\n",
       "  <tbody>\n",
       "    <tr>\n",
       "      <th>count</th>\n",
       "      <td>1338.000000</td>\n",
       "      <td>1338.000000</td>\n",
       "      <td>1338.000000</td>\n",
       "      <td>1338.000000</td>\n",
       "    </tr>\n",
       "    <tr>\n",
       "      <th>mean</th>\n",
       "      <td>39.207025</td>\n",
       "      <td>30.663397</td>\n",
       "      <td>1.094918</td>\n",
       "      <td>13270.422265</td>\n",
       "    </tr>\n",
       "    <tr>\n",
       "      <th>std</th>\n",
       "      <td>14.049960</td>\n",
       "      <td>6.098187</td>\n",
       "      <td>1.205493</td>\n",
       "      <td>12110.011237</td>\n",
       "    </tr>\n",
       "    <tr>\n",
       "      <th>min</th>\n",
       "      <td>18.000000</td>\n",
       "      <td>15.960000</td>\n",
       "      <td>0.000000</td>\n",
       "      <td>1121.873900</td>\n",
       "    </tr>\n",
       "    <tr>\n",
       "      <th>25%</th>\n",
       "      <td>27.000000</td>\n",
       "      <td>26.296250</td>\n",
       "      <td>0.000000</td>\n",
       "      <td>4740.287150</td>\n",
       "    </tr>\n",
       "    <tr>\n",
       "      <th>50%</th>\n",
       "      <td>39.000000</td>\n",
       "      <td>30.400000</td>\n",
       "      <td>1.000000</td>\n",
       "      <td>9382.033000</td>\n",
       "    </tr>\n",
       "    <tr>\n",
       "      <th>75%</th>\n",
       "      <td>51.000000</td>\n",
       "      <td>34.693750</td>\n",
       "      <td>2.000000</td>\n",
       "      <td>16639.912515</td>\n",
       "    </tr>\n",
       "    <tr>\n",
       "      <th>max</th>\n",
       "      <td>64.000000</td>\n",
       "      <td>53.130000</td>\n",
       "      <td>5.000000</td>\n",
       "      <td>63770.428010</td>\n",
       "    </tr>\n",
       "  </tbody>\n",
       "</table>\n",
       "</div>"
      ],
      "text/plain": [
       "               age          bmi     children       charges\n",
       "count  1338.000000  1338.000000  1338.000000   1338.000000\n",
       "mean     39.207025    30.663397     1.094918  13270.422265\n",
       "std      14.049960     6.098187     1.205493  12110.011237\n",
       "min      18.000000    15.960000     0.000000   1121.873900\n",
       "25%      27.000000    26.296250     0.000000   4740.287150\n",
       "50%      39.000000    30.400000     1.000000   9382.033000\n",
       "75%      51.000000    34.693750     2.000000  16639.912515\n",
       "max      64.000000    53.130000     5.000000  63770.428010"
      ]
     },
     "execution_count": 166,
     "metadata": {},
     "output_type": "execute_result"
    }
   ],
   "source": [
    "insurance.describe()"
   ]
  },
  {
   "cell_type": "markdown",
   "metadata": {
    "id": "Xzq9KVBIgelB"
   },
   "source": [
    "1.4  'sex', 'smoker', 'region' 세 카테고리 변수는 인코딩이 필요합니다. 'get_dummies'를 이용하여 원핫 인코딩을 진행하세요."
   ]
  },
  {
   "cell_type": "code",
   "execution_count": 167,
   "metadata": {
    "id": "aMjtATTDf0Sc"
   },
   "outputs": [
    {
     "data": {
      "text/html": [
       "<div>\n",
       "<style scoped>\n",
       "    .dataframe tbody tr th:only-of-type {\n",
       "        vertical-align: middle;\n",
       "    }\n",
       "\n",
       "    .dataframe tbody tr th {\n",
       "        vertical-align: top;\n",
       "    }\n",
       "\n",
       "    .dataframe thead th {\n",
       "        text-align: right;\n",
       "    }\n",
       "</style>\n",
       "<table border=\"1\" class=\"dataframe\">\n",
       "  <thead>\n",
       "    <tr style=\"text-align: right;\">\n",
       "      <th></th>\n",
       "      <th>age</th>\n",
       "      <th>bmi</th>\n",
       "      <th>children</th>\n",
       "      <th>charges</th>\n",
       "      <th>sex_female</th>\n",
       "      <th>sex_male</th>\n",
       "      <th>smoker_no</th>\n",
       "      <th>smoker_yes</th>\n",
       "      <th>region_northeast</th>\n",
       "      <th>region_northwest</th>\n",
       "      <th>region_southeast</th>\n",
       "      <th>region_southwest</th>\n",
       "    </tr>\n",
       "  </thead>\n",
       "  <tbody>\n",
       "    <tr>\n",
       "      <th>0</th>\n",
       "      <td>19</td>\n",
       "      <td>27.900</td>\n",
       "      <td>0</td>\n",
       "      <td>16884.92400</td>\n",
       "      <td>1</td>\n",
       "      <td>0</td>\n",
       "      <td>0</td>\n",
       "      <td>1</td>\n",
       "      <td>0</td>\n",
       "      <td>0</td>\n",
       "      <td>0</td>\n",
       "      <td>1</td>\n",
       "    </tr>\n",
       "    <tr>\n",
       "      <th>1</th>\n",
       "      <td>18</td>\n",
       "      <td>33.770</td>\n",
       "      <td>1</td>\n",
       "      <td>1725.55230</td>\n",
       "      <td>0</td>\n",
       "      <td>1</td>\n",
       "      <td>1</td>\n",
       "      <td>0</td>\n",
       "      <td>0</td>\n",
       "      <td>0</td>\n",
       "      <td>1</td>\n",
       "      <td>0</td>\n",
       "    </tr>\n",
       "    <tr>\n",
       "      <th>2</th>\n",
       "      <td>28</td>\n",
       "      <td>33.000</td>\n",
       "      <td>3</td>\n",
       "      <td>4449.46200</td>\n",
       "      <td>0</td>\n",
       "      <td>1</td>\n",
       "      <td>1</td>\n",
       "      <td>0</td>\n",
       "      <td>0</td>\n",
       "      <td>0</td>\n",
       "      <td>1</td>\n",
       "      <td>0</td>\n",
       "    </tr>\n",
       "    <tr>\n",
       "      <th>3</th>\n",
       "      <td>33</td>\n",
       "      <td>22.705</td>\n",
       "      <td>0</td>\n",
       "      <td>21984.47061</td>\n",
       "      <td>0</td>\n",
       "      <td>1</td>\n",
       "      <td>1</td>\n",
       "      <td>0</td>\n",
       "      <td>0</td>\n",
       "      <td>1</td>\n",
       "      <td>0</td>\n",
       "      <td>0</td>\n",
       "    </tr>\n",
       "    <tr>\n",
       "      <th>4</th>\n",
       "      <td>32</td>\n",
       "      <td>28.880</td>\n",
       "      <td>0</td>\n",
       "      <td>3866.85520</td>\n",
       "      <td>0</td>\n",
       "      <td>1</td>\n",
       "      <td>1</td>\n",
       "      <td>0</td>\n",
       "      <td>0</td>\n",
       "      <td>1</td>\n",
       "      <td>0</td>\n",
       "      <td>0</td>\n",
       "    </tr>\n",
       "  </tbody>\n",
       "</table>\n",
       "</div>"
      ],
      "text/plain": [
       "   age     bmi  children      charges  sex_female  sex_male  smoker_no  \\\n",
       "0   19  27.900         0  16884.92400           1         0          0   \n",
       "1   18  33.770         1   1725.55230           0         1          1   \n",
       "2   28  33.000         3   4449.46200           0         1          1   \n",
       "3   33  22.705         0  21984.47061           0         1          1   \n",
       "4   32  28.880         0   3866.85520           0         1          1   \n",
       "\n",
       "   smoker_yes  region_northeast  region_northwest  region_southeast  \\\n",
       "0           1                 0                 0                 0   \n",
       "1           0                 0                 0                 1   \n",
       "2           0                 0                 0                 1   \n",
       "3           0                 0                 1                 0   \n",
       "4           0                 0                 1                 0   \n",
       "\n",
       "   region_southwest  \n",
       "0                 1  \n",
       "1                 0  \n",
       "2                 0  \n",
       "3                 0  \n",
       "4                 0  "
      ]
     },
     "execution_count": 167,
     "metadata": {},
     "output_type": "execute_result"
    }
   ],
   "source": [
    "insurance = pd.get_dummies(insurance, columns = ['sex', 'smoker', 'region'])\n",
    "insurance.head()"
   ]
  },
  {
   "cell_type": "markdown",
   "metadata": {
    "id": "pG-IX_1GhdTZ"
   },
   "source": [
    "1.5 독립변수(X), 종속변수(y = 'charges')을 분리한 후 'train_test_split'으로 학습 데이터와 테스트 데이터를 분리해주세요. (test_size = 0.3, random_state=0) "
   ]
  },
  {
   "cell_type": "code",
   "execution_count": 168,
   "metadata": {
    "id": "LbzwjaeWhZK1"
   },
   "outputs": [],
   "source": [
    "from sklearn.model_selection import train_test_split\n",
    "X = insurance.drop('charges', axis = 1)\n",
    "y = insurance.iloc[:,3]\n",
    "X_train, X_test, y_train, y_test = train_test_split(X, y, test_size = 0.3, random_state = 0)"
   ]
  },
  {
   "cell_type": "markdown",
   "metadata": {
    "id": "la-AKJBMpvXA"
   },
   "source": [
    "1.6 사이킷런 LinearRegression 클래스를 통해 회귀 모델 학습/예측을 수행해주세요."
   ]
  },
  {
   "cell_type": "code",
   "execution_count": 169,
   "metadata": {
    "id": "yS27W9vnp5d4"
   },
   "outputs": [],
   "source": [
    "from sklearn.linear_model import LinearRegression"
   ]
  },
  {
   "cell_type": "code",
   "execution_count": 170,
   "metadata": {
    "id": "FQ7EZXhdp8d7"
   },
   "outputs": [],
   "source": [
    "lr = LinearRegression()\n",
    "lr.fit(X_train, y_train)\n",
    "y_preds = lr.predict(X_test)"
   ]
  },
  {
   "cell_type": "markdown",
   "metadata": {
    "id": "zuVSoUJTqEKs"
   },
   "source": [
    "1.7 사이킷런 API를 이용해 MAE, MSE, RMSE, R2 평가지표로 평가를 수행하고 출력하세요.\n"
   ]
  },
  {
   "cell_type": "code",
   "execution_count": 171,
   "metadata": {
    "id": "CItQ8m-UqDRo"
   },
   "outputs": [],
   "source": [
    "from sklearn.metrics import mean_absolute_error, mean_squared_error, r2_score"
   ]
  },
  {
   "cell_type": "code",
   "execution_count": 172,
   "metadata": {
    "id": "_F5Pnhxjqfun"
   },
   "outputs": [
    {
     "name": "stdout",
     "output_type": "stream",
     "text": [
      "MAE : 4011.450 / MSE : 33342497.827 / RMSE : 5774.296 / R2 : 0.791\n"
     ]
    }
   ],
   "source": [
    "mae = mean_absolute_error(y_test,y_preds)\n",
    "mse = mean_squared_error(y_test,y_preds)\n",
    "rmse = np.sqrt(mse)\n",
    "r2 = r2_score(y_test,y_preds)\n",
    "\n",
    "print('MAE : {0:.3f} / MSE : {1:.3f} / RMSE : {2:.3f} / R2 : {3:.3f}'.format(mae,mse,rmse,r2))"
   ]
  },
  {
   "cell_type": "markdown",
   "metadata": {
    "id": "BmAgBJtRvKir"
   },
   "source": [
    "1.8 LinearRegression의 속성을 이용해 절편과 회귀계수를 출력해주세요."
   ]
  },
  {
   "cell_type": "code",
   "execution_count": 173,
   "metadata": {
    "id": "CM5zhlV0vUiQ"
   },
   "outputs": [
    {
     "name": "stdout",
     "output_type": "stream",
     "text": [
      "절편 값 : -730.112166270248\n",
      "회귀 계수 값: [   256.43544682    335.36907276    472.70978916     23.77337759\n",
      "    -23.77337759 -11717.99558474  11717.99558474    589.02469054\n",
      "     27.12354518   -405.723989     -210.42424672]\n"
     ]
    }
   ],
   "source": [
    "print('절편 값 :', lr.intercept_)\n",
    "print('회귀 계수 값:', lr.coef_)"
   ]
  },
  {
   "cell_type": "markdown",
   "metadata": {
    "id": "i-eTWfebrvlB"
   },
   "source": [
    "1.9 coef_ 속성은 회귀계수만을 보여주기 때문에, 어떤 칼럼에 대한 회귀 계수인지 알 수 없습니다. 피처별 회귀계수 값을 매핑하여 높은 순으로 출력하세요."
   ]
  },
  {
   "cell_type": "code",
   "execution_count": 174,
   "metadata": {
    "id": "3pqIME7Arsui"
   },
   "outputs": [
    {
     "data": {
      "text/plain": [
       "smoker_yes          11718.0\n",
       "region_northeast      589.0\n",
       "children              472.7\n",
       "bmi                   335.4\n",
       "age                   256.4\n",
       "region_northwest       27.1\n",
       "sex_female             23.8\n",
       "sex_male              -23.8\n",
       "region_southwest     -210.4\n",
       "region_southeast     -405.7\n",
       "smoker_no          -11718.0\n",
       "dtype: float64"
      ]
     },
     "execution_count": 174,
     "metadata": {},
     "output_type": "execute_result"
    }
   ],
   "source": [
    "coef = pd.Series(data = np.round(lr.coef_, 1), index = X.columns)\n",
    "coef.sort_values(ascending = False)"
   ]
  },
  {
   "cell_type": "markdown",
   "metadata": {
    "id": "xYev1BbTvozN"
   },
   "source": [
    "1.10 이번에는 교차검증을 통해 MAE, MSE를 계산해보겠습니다. 'neg'에 주의하여 'cross_val_score'을 실시하고 [개별 negative MAE scores] [개별 MSE scores] 그리고 [평균 RMSE]를 출력해주세요. (cv=3)"
   ]
  },
  {
   "cell_type": "code",
   "execution_count": 175,
   "metadata": {
    "id": "SmCiGWUovnyZ"
   },
   "outputs": [],
   "source": [
    "from sklearn.model_selection import cross_val_score"
   ]
  },
  {
   "cell_type": "code",
   "execution_count": 176,
   "metadata": {
    "id": "peFL17oYsFx6"
   },
   "outputs": [
    {
     "name": "stdout",
     "output_type": "stream",
     "text": [
      "3 folds의 개별 negative MAE scores :  [-4266.93 -4097.77 -4341.61]\n",
      "3 folds의 개별 MSE scores :  [37388213.08 34952866.56 40020943.28]\n",
      "3 folds의 평균 RMSE :  6117.632\n"
     ]
    }
   ],
   "source": [
    "lr = LinearRegression()\n",
    "neg_mae_scores = cross_val_score(lr, X, y, scoring = \"neg_mean_absolute_error\", cv = 3)\n",
    "neg_mse_scores = cross_val_score(lr, X, y, scoring = \"neg_mean_squared_error\", cv = 3)\n",
    "mse_scores = -1*neg_mse_scores\n",
    "rmse_scores = np.sqrt(-1*neg_mse_scores)\n",
    "avg_rmse = np.mean(rmse_scores)\n",
    "\n",
    "print('3 folds의 개별 negative MAE scores : ',np.round(neg_mae_scores,2))\n",
    "print('3 folds의 개별 MSE scores : ',np.round(mse_scores,2))\n",
    "print('3 folds의 평균 RMSE : ',np.round(avg_rmse,3))"
   ]
  },
  {
   "cell_type": "markdown",
   "metadata": {
    "id": "p9-EVfs2xIkJ"
   },
   "source": [
    "1.11 'age', 'bmi', 'children'에 대한 'charges'의 OLS summary를 출력하세요."
   ]
  },
  {
   "cell_type": "code",
   "execution_count": 177,
   "metadata": {
    "id": "42wFrKzfxCN3"
   },
   "outputs": [
    {
     "name": "stdout",
     "output_type": "stream",
     "text": [
      "                            OLS Regression Results                            \n",
      "==============================================================================\n",
      "Dep. Variable:                charges   R-squared:                       0.120\n",
      "Model:                            OLS   Adj. R-squared:                  0.118\n",
      "Method:                 Least Squares   F-statistic:                     60.69\n",
      "Date:                Mon, 03 Oct 2022   Prob (F-statistic):           8.80e-37\n",
      "Time:                        14:39:02   Log-Likelihood:                -14392.\n",
      "No. Observations:                1338   AIC:                         2.879e+04\n",
      "Df Residuals:                    1334   BIC:                         2.881e+04\n",
      "Df Model:                           3                                         \n",
      "Covariance Type:            nonrobust                                         \n",
      "==============================================================================\n",
      "                 coef    std err          t      P>|t|      [0.025      0.975]\n",
      "------------------------------------------------------------------------------\n",
      "Intercept  -6916.2433   1757.480     -3.935      0.000   -1.04e+04   -3468.518\n",
      "age          239.9945     22.289     10.767      0.000     196.269     283.720\n",
      "bmi          332.0834     51.310      6.472      0.000     231.425     432.741\n",
      "children     542.8647    258.241      2.102      0.036      36.261    1049.468\n",
      "==============================================================================\n",
      "Omnibus:                      325.395   Durbin-Watson:                   2.012\n",
      "Prob(Omnibus):                  0.000   Jarque-Bera (JB):              603.372\n",
      "Skew:                           1.520   Prob(JB):                    9.54e-132\n",
      "Kurtosis:                       4.255   Cond. No.                         290.\n",
      "==============================================================================\n",
      "\n",
      "Notes:\n",
      "[1] Standard Errors assume that the covariance matrix of the errors is correctly specified.\n"
     ]
    }
   ],
   "source": [
    "import statsmodels.formula.api as smf\n",
    "results = smf.ols('charges ~ age + bmi + children', data = insurance).fit()\n",
    "print(results.summary())"
   ]
  },
  {
   "cell_type": "markdown",
   "metadata": {
    "id": "bzsLscDMAOPz"
   },
   "source": [
    "### 2. 경사하강법"
   ]
  },
  {
   "cell_type": "markdown",
   "metadata": {
    "id": "pixp0U0fy_Gm"
   },
   "source": [
    "[make_regression()](https://datascienceschool.net/03%20machine%20learning/04.01%20%ED%9A%8C%EA%B7%80%EB%B6%84%EC%84%9D%20%EC%98%88%EC%A0%9C.html)은 가상의 회귀분석 문제를 제공해주는 명렁어입니다. 이 명령어를 이용해 경사하강법 실습을 해보겠습니다.\n",
    "\n",
    "먼저 다음의 코드를 실행해 X, y, w를 생성해주세요.\n",
    "\n"
   ]
  },
  {
   "cell_type": "code",
   "execution_count": 178,
   "metadata": {
    "id": "e_zHzypY8rzj"
   },
   "outputs": [],
   "source": [
    "from sklearn.datasets import make_regression\n",
    "\n",
    "X, y, w = make_regression(\n",
    "    n_samples=50, n_features=1, bias=100, noise=10, coef=True, random_state=0\n",
    ")"
   ]
  },
  {
   "cell_type": "markdown",
   "metadata": {
    "id": "ngDn2mpd-XrJ"
   },
   "source": [
    "2.1 y는 1차원 배열입니다. 'reshape' 명령어를 통해 y를 2차원 배열로 변환하고, X, y의 shape을 출력해주세요."
   ]
  },
  {
   "cell_type": "code",
   "execution_count": 179,
   "metadata": {
    "id": "7fvsJdg99HuH"
   },
   "outputs": [
    {
     "name": "stdout",
     "output_type": "stream",
     "text": [
      "(50, 1)\n",
      "(50, 1)\n"
     ]
    }
   ],
   "source": [
    "print(X.shape)\n",
    "y = y.reshape(-1,1)\n",
    "print(y.shape)"
   ]
  },
  {
   "cell_type": "markdown",
   "metadata": {
    "id": "HWiL4-fT-t7U"
   },
   "source": [
    "2.2 X, y의 산점도를 출력해주세요."
   ]
  },
  {
   "cell_type": "code",
   "execution_count": 180,
   "metadata": {
    "id": "UZ4c_Ve57w_-"
   },
   "outputs": [
    {
     "data": {
      "text/plain": [
       "<matplotlib.collections.PathCollection at 0x7fc539dd1ee0>"
      ]
     },
     "execution_count": 180,
     "metadata": {},
     "output_type": "execute_result"
    },
    {
     "data": {
      "image/png": "[encoded data removed]",
      "text/plain": [
       "<Figure size 432x288 with 1 Axes>"
      ]
     },
     "metadata": {
      "needs_background": "light"
     },
     "output_type": "display_data"
    }
   ],
   "source": [
    "plt.scatter(X,y)"
   ]
  },
  {
   "cell_type": "markdown",
   "metadata": {
    "id": "HQVc9nKH-zTo"
   },
   "source": [
    "2.3 경사하강법을 위한 get_weight_updates, gradient_descent_stpes, get_cost 함수를 완성해주세요. 빈 괄호를 채워주세요."
   ]
  },
  {
   "cell_type": "code",
   "execution_count": 181,
   "metadata": {
    "id": "WraYIRyY0DMm"
   },
   "outputs": [],
   "source": [
    "def get_weight_updates(w1,w0,X,y,learning_rate=0.01):\n",
    "  N = len(y)\n",
    "  w1_update = np.zeros_like(w1)\n",
    "  w0_update = np.zeros_like(w0)\n",
    "  y_pred = np.dot(X,w1.T) + w0\n",
    "  diff = y - y_pred\n",
    "\n",
    "  w0_factors = np.ones((N,1))\n",
    "\n",
    "  w1_update = -(2/N)*learning_rate*(np.dot(X.T, diff))\n",
    "  w0_update = -(2/N)*learning_rate*(np.dot(w0_factors.T, diff))    \n",
    "    \n",
    "  return w1_update, w0_update"
   ]
  },
  {
   "cell_type": "code",
   "execution_count": 182,
   "metadata": {
    "id": "nN07jtLr0Es6"
   },
   "outputs": [],
   "source": [
    "def gradient_descent_steps(X, y, iters=10000):\n",
    "    # w0와 w1을 모두 0으로 초기화. \n",
    "    w0 = np.zeros((1,1))\n",
    "    w1 = np.zeros((1,1))\n",
    "    \n",
    "    # 인자로 주어진 iters 만큼 반복적으로 get_weight_updates() 호출하여 w1, w0 업데이트 수행. \n",
    "    for ind in range(iters):\n",
    "        w1_update, w0_update = get_weight_updates(w1, w0, X, y, learning_rate=0.01)\n",
    "        w1 = w1 - w1_update\n",
    "        w0 = w0 - w0_update\n",
    "              \n",
    "    return w1, w0"
   ]
  },
  {
   "cell_type": "code",
   "execution_count": 183,
   "metadata": {
    "id": "csdtPIfGzd_x"
   },
   "outputs": [],
   "source": [
    "def get_cost(y,y_pred):\n",
    "  N = len(y)\n",
    "  cost = np.sum(np.square(y - y_pred)/N)\n",
    "  return cost"
   ]
  },
  {
   "cell_type": "markdown",
   "metadata": {
    "id": "USb5hMye_DMS"
   },
   "source": [
    "2.4 gradient_descent_steps 함수를 이용해 w1, w0을 계산하여 출력하세요. 또 get_cost 함수를 이용해 실제값과 예측값의 RSS 차이를 출력하세요."
   ]
  },
  {
   "cell_type": "code",
   "execution_count": 184,
   "metadata": {
    "id": "1cSLnEaF0GJg"
   },
   "outputs": [
    {
     "name": "stdout",
     "output_type": "stream",
     "text": [
      "w1: 13.920 w0:101.714\n",
      "경사 하강 total cost: 64.1102\n"
     ]
    }
   ],
   "source": [
    "# 예측값과 실제값의 RSS 차이를 계산하는 함수 생성\n",
    "w1, w0 = gradient_descent_steps(X,y,iters = 1000)\n",
    "print('w1: {0:.3f} w0:{1:.3f}'.format(w1[0,0],w0[0,0]))\n",
    "y_pred = w1[0,0] * X + w0\n",
    "print('경사 하강 total cost: {0:.4f}'.format(get_cost(y,y_pred)))"
   ]
  },
  {
   "cell_type": "markdown",
   "metadata": {
    "id": "zQrVd-z-_eRr"
   },
   "source": [
    "2.5 X,y의 산점도와 함께 앞에서 구한 y_pred 기반 회귀선을 그려주세요."
   ]
  },
  {
   "cell_type": "code",
   "execution_count": 185,
   "metadata": {
    "id": "3DiTH9y30Gdm"
   },
   "outputs": [
    {
     "data": {
      "text/plain": [
       "[<matplotlib.lines.Line2D at 0x7fc518546f10>]"
      ]
     },
     "execution_count": 185,
     "metadata": {},
     "output_type": "execute_result"
    },
    {
     "data": {
      "image/png": "[encoded data removed]",
      "text/plain": [
       "<Figure size 432x288 with 1 Axes>"
      ]
     },
     "metadata": {
      "needs_background": "light"
     },
     "output_type": "display_data"
    }
   ],
   "source": [
    "plt.scatter(X,y)\n",
    "plt.plot(X,y_pred)"
   ]
  },
  {
   "cell_type": "markdown",
   "metadata": {
    "id": "7uONtY-DlVmk"
   },
   "source": [
    "### 3. 규제 선형 모델"
   ]
  },
  {
   "cell_type": "markdown",
   "metadata": {
    "id": "2pV3AKhXlVmk"
   },
   "source": [
    "#### \n",
    "alpha 값의 변화에 따른 릿지 회귀를 수행해보겠습니다.\n",
    "릿지의 alpha 값을 0, 0.1, 1, 10, 100으로 변화시키면서 cv=5인 교차검증을 수행하고, 그에 따른 RMSE의 평균값을 출력해주세요.\n",
    "\n",
    "alphas = [0, 0.1, 1, 10, 100]"
   ]
  },
  {
   "cell_type": "code",
   "execution_count": 186,
   "metadata": {
    "id": "zpqI58VClVmk"
   },
   "outputs": [],
   "source": [
    "from sklearn.linear_model import Ridge"
   ]
  },
  {
   "cell_type": "code",
   "execution_count": 187,
   "metadata": {
    "id": "9UuOXRmJlVmk"
   },
   "outputs": [
    {
     "name": "stdout",
     "output_type": "stream",
     "text": [
      "alpha 0, 5 folds의 평균 RMSE : 8.369 \n",
      "alpha 0.1, 5 folds의 평균 RMSE : 8.366 \n",
      "alpha 1, 5 folds의 평균 RMSE : 8.342 \n",
      "alpha 10, 5 folds의 평균 RMSE : 8.462 \n",
      "alpha 100, 5 folds의 평균 RMSE : 12.692 \n"
     ]
    }
   ],
   "source": [
    "from sklearn.model_selection import cross_val_score\n",
    "alphas = [0, 0.1, 1, 10, 100]\n",
    "for i in alphas:\n",
    "    ridge = Ridge(alpha = i)\n",
    "    neg_mse_scores = cross_val_score(ridge, X, y, scoring = \"neg_mean_squared_error\", cv = 5)\n",
    "    avg_rmse = np.mean(np.sqrt(-1 * neg_mse_scores))\n",
    "    print('alpha {0}, 5 folds의 평균 RMSE : {1:.3f} '.format(i,avg_rmse))"
   ]
  },
  {
   "cell_type": "markdown",
   "metadata": {
    "id": "sMsNm4AdlVmk"
   },
   "source": [
    "#### \n",
    "릿지 회귀에서 alpha 값의 변화에 따른 피처의 회귀 계수 값을 DataFrame으로 출력해주세요."
   ]
  },
  {
   "cell_type": "code",
   "execution_count": 190,
   "metadata": {
    "id": "Jqf27ruflVmk"
   },
   "outputs": [
    {
     "data": {
      "text/html": [
       "<div>\n",
       "<style scoped>\n",
       "    .dataframe tbody tr th:only-of-type {\n",
       "        vertical-align: middle;\n",
       "    }\n",
       "\n",
       "    .dataframe tbody tr th {\n",
       "        vertical-align: top;\n",
       "    }\n",
       "\n",
       "    .dataframe thead th {\n",
       "        text-align: right;\n",
       "    }\n",
       "</style>\n",
       "<table border=\"1\" class=\"dataframe\">\n",
       "  <thead>\n",
       "    <tr style=\"text-align: right;\">\n",
       "      <th></th>\n",
       "      <th>alpha:0</th>\n",
       "      <th>alpha:0.1</th>\n",
       "      <th>alpha:1</th>\n",
       "      <th>alpha:10</th>\n",
       "      <th>alpha:100</th>\n",
       "    </tr>\n",
       "  </thead>\n",
       "  <tbody>\n",
       "    <tr>\n",
       "      <th>sex_female</th>\n",
       "      <td>2.134726e+18</td>\n",
       "      <td>65.478686</td>\n",
       "      <td>63.878162</td>\n",
       "      <td>48.442781</td>\n",
       "      <td>-61.985752</td>\n",
       "    </tr>\n",
       "    <tr>\n",
       "      <th>sex_male</th>\n",
       "      <td>2.134726e+18</td>\n",
       "      <td>-65.478686</td>\n",
       "      <td>-63.878162</td>\n",
       "      <td>-48.442781</td>\n",
       "      <td>61.985752</td>\n",
       "    </tr>\n",
       "    <tr>\n",
       "      <th>bmi</th>\n",
       "      <td>3.411050e+02</td>\n",
       "      <td>339.181665</td>\n",
       "      <td>339.076048</td>\n",
       "      <td>338.065597</td>\n",
       "      <td>331.228569</td>\n",
       "    </tr>\n",
       "    <tr>\n",
       "      <th>age</th>\n",
       "      <td>2.593615e+02</td>\n",
       "      <td>256.853283</td>\n",
       "      <td>256.825701</td>\n",
       "      <td>256.554472</td>\n",
       "      <td>254.241965</td>\n",
       "    </tr>\n",
       "    <tr>\n",
       "      <th>children</th>\n",
       "      <td>1.578760e+02</td>\n",
       "      <td>475.494224</td>\n",
       "      <td>475.436877</td>\n",
       "      <td>474.820180</td>\n",
       "      <td>465.582620</td>\n",
       "    </tr>\n",
       "    <tr>\n",
       "      <th>smoker_yes</th>\n",
       "      <td>-3.216108e+17</td>\n",
       "      <td>11921.493887</td>\n",
       "      <td>11896.592025</td>\n",
       "      <td>11653.239226</td>\n",
       "      <td>9677.670082</td>\n",
       "    </tr>\n",
       "    <tr>\n",
       "      <th>smoker_no</th>\n",
       "      <td>-3.216108e+17</td>\n",
       "      <td>-11921.493887</td>\n",
       "      <td>-11896.592025</td>\n",
       "      <td>-11653.239226</td>\n",
       "      <td>-9677.670082</td>\n",
       "    </tr>\n",
       "    <tr>\n",
       "      <th>region_northeast</th>\n",
       "      <td>-4.471454e+17</td>\n",
       "      <td>586.834455</td>\n",
       "      <td>585.266199</td>\n",
       "      <td>570.041509</td>\n",
       "      <td>452.770454</td>\n",
       "    </tr>\n",
       "    <tr>\n",
       "      <th>region_northwest</th>\n",
       "      <td>-4.471454e+17</td>\n",
       "      <td>233.826079</td>\n",
       "      <td>231.862004</td>\n",
       "      <td>213.101025</td>\n",
       "      <td>88.138956</td>\n",
       "    </tr>\n",
       "    <tr>\n",
       "      <th>region_southeast</th>\n",
       "      <td>-4.471454e+17</td>\n",
       "      <td>-447.601278</td>\n",
       "      <td>-443.914518</td>\n",
       "      <td>-408.672957</td>\n",
       "      <td>-172.581812</td>\n",
       "    </tr>\n",
       "    <tr>\n",
       "      <th>region_southwest</th>\n",
       "      <td>-4.471454e+17</td>\n",
       "      <td>-373.059255</td>\n",
       "      <td>-373.213686</td>\n",
       "      <td>-374.469578</td>\n",
       "      <td>-368.327597</td>\n",
       "    </tr>\n",
       "  </tbody>\n",
       "</table>\n",
       "</div>"
      ],
      "text/plain": [
       "                       alpha:0     alpha:0.1       alpha:1      alpha:10  \\\n",
       "sex_female        2.134726e+18     65.478686     63.878162     48.442781   \n",
       "sex_male          2.134726e+18    -65.478686    -63.878162    -48.442781   \n",
       "bmi               3.411050e+02    339.181665    339.076048    338.065597   \n",
       "age               2.593615e+02    256.853283    256.825701    256.554472   \n",
       "children          1.578760e+02    475.494224    475.436877    474.820180   \n",
       "smoker_yes       -3.216108e+17  11921.493887  11896.592025  11653.239226   \n",
       "smoker_no        -3.216108e+17 -11921.493887 -11896.592025 -11653.239226   \n",
       "region_northeast -4.471454e+17    586.834455    585.266199    570.041509   \n",
       "region_northwest -4.471454e+17    233.826079    231.862004    213.101025   \n",
       "region_southeast -4.471454e+17   -447.601278   -443.914518   -408.672957   \n",
       "region_southwest -4.471454e+17   -373.059255   -373.213686   -374.469578   \n",
       "\n",
       "                    alpha:100  \n",
       "sex_female         -61.985752  \n",
       "sex_male            61.985752  \n",
       "bmi                331.228569  \n",
       "age                254.241965  \n",
       "children           465.582620  \n",
       "smoker_yes        9677.670082  \n",
       "smoker_no        -9677.670082  \n",
       "region_northeast   452.770454  \n",
       "region_northwest    88.138956  \n",
       "region_southeast  -172.581812  \n",
       "region_southwest  -368.327597  "
      ]
     },
     "execution_count": 190,
     "metadata": {},
     "output_type": "execute_result"
    }
   ],
   "source": [
    "X = insurance.drop('charges', axis = 1)\n",
    "y = insurance.iloc[:,3]\n",
    "\n",
    "coeff_df = pd.DataFrame()\n",
    "\n",
    "for i in alphas:\n",
    "    ridge = Ridge(alpha = i)\n",
    "    ridge.fit(X, y)\n",
    "    coeff = pd.Series(data = ridge.coef_, index = X.columns)\n",
    "    colname = 'alpha:' + str(i)\n",
    "    coeff_df[colname] = coeff\n",
    "\n",
    "ridge_alphas = [0, 0.1, 1, 10, 100]\n",
    "sort_column = 'alpha:' + str(ridge_alphas[0])\n",
    "coeff_df.sort_values(by = sort_column, ascending = False)"
   ]
  },
  {
   "cell_type": "markdown",
   "metadata": {
    "id": "1UlF0jjjlVml"
   },
   "source": [
    "#### \n",
    "alpha 값의 변화에 따른 라쏘 회귀를 수행해보겠습니다.\n",
    "릿지의 alpha 값을 0.07, 0.1, 0.5, 1, 3으로 변화시키면서 cv=5인 교차검증을 수행하고, 그에 따른 RMSE의 평균값을 출력해주세요.\n",
    "\n",
    "alphas = [0.07, 0.1, 0.5, 1, 3]"
   ]
  },
  {
   "cell_type": "code",
   "execution_count": 191,
   "metadata": {
    "id": "whhvFJ0-lVmm"
   },
   "outputs": [],
   "source": [
    "from sklearn.linear_model import Lasso"
   ]
  },
  {
   "cell_type": "code",
   "execution_count": 192,
   "metadata": {
    "id": "5bouOzmXlVmn"
   },
   "outputs": [
    {
     "name": "stdout",
     "output_type": "stream",
     "text": [
      "alpha 0.07, 5 folds의 평균 RMSE : 6072.399 \n",
      "alpha 0.1, 5 folds의 평균 RMSE : 6072.395 \n",
      "alpha 0.5, 5 folds의 평균 RMSE : 6072.366 \n",
      "alpha 1, 5 folds의 평균 RMSE : 6072.320 \n",
      "alpha 3, 5 folds의 평균 RMSE : 6072.148 \n"
     ]
    }
   ],
   "source": [
    "from sklearn.model_selection import cross_val_score\n",
    "alphas = [0.07, 0.1, 0.5, 1, 3]\n",
    "for i in alphas:\n",
    "    lasso = Lasso(alpha = i)\n",
    "    neg_mse_scores = cross_val_score(lasso, X, y, scoring = \"neg_mean_squared_error\", cv = 5)\n",
    "    avg_rmse = np.mean(np.sqrt(-1 * neg_mse_scores))\n",
    "    print('alpha {0}, 5 folds의 평균 RMSE : {1:.3f} '.format(i,avg_rmse))"
   ]
  },
  {
   "cell_type": "markdown",
   "metadata": {
    "id": "YwiXw8pOlVmn"
   },
   "source": [
    "#### \n",
    "라쏘 회귀에서 alpha 값의 변화에 따른 피처의 회귀 계수 값을 DataFrame으로 출력해주세요."
   ]
  },
  {
   "cell_type": "code",
   "execution_count": 193,
   "metadata": {
    "id": "kEq1NYFklVmn"
   },
   "outputs": [
    {
     "data": {
      "text/html": [
       "<div>\n",
       "<style scoped>\n",
       "    .dataframe tbody tr th:only-of-type {\n",
       "        vertical-align: middle;\n",
       "    }\n",
       "\n",
       "    .dataframe tbody tr th {\n",
       "        vertical-align: top;\n",
       "    }\n",
       "\n",
       "    .dataframe thead th {\n",
       "        text-align: right;\n",
       "    }\n",
       "</style>\n",
       "<table border=\"1\" class=\"dataframe\">\n",
       "  <thead>\n",
       "    <tr style=\"text-align: right;\">\n",
       "      <th></th>\n",
       "      <th>alpha:0.07</th>\n",
       "      <th>alpha:0.1</th>\n",
       "      <th>alpha:0.5</th>\n",
       "      <th>alpha:1</th>\n",
       "      <th>alpha:3</th>\n",
       "    </tr>\n",
       "  </thead>\n",
       "  <tbody>\n",
       "    <tr>\n",
       "      <th>region_northeast</th>\n",
       "      <td>8.906420e+02</td>\n",
       "      <td>8.904238e+02</td>\n",
       "      <td>8.875057e+02</td>\n",
       "      <td>8.838694e+02</td>\n",
       "      <td>8.693243e+02</td>\n",
       "    </tr>\n",
       "    <tr>\n",
       "      <th>region_northwest</th>\n",
       "      <td>5.376730e+02</td>\n",
       "      <td>5.374526e+02</td>\n",
       "      <td>5.345145e+02</td>\n",
       "      <td>5.308420e+02</td>\n",
       "      <td>5.161519e+02</td>\n",
       "    </tr>\n",
       "    <tr>\n",
       "      <th>children</th>\n",
       "      <td>4.754529e+02</td>\n",
       "      <td>4.754324e+02</td>\n",
       "      <td>4.751596e+02</td>\n",
       "      <td>4.748190e+02</td>\n",
       "      <td>4.734565e+02</td>\n",
       "    </tr>\n",
       "    <tr>\n",
       "      <th>bmi</th>\n",
       "      <td>3.391784e+02</td>\n",
       "      <td>3.391719e+02</td>\n",
       "      <td>3.390871e+02</td>\n",
       "      <td>3.389794e+02</td>\n",
       "      <td>3.385488e+02</td>\n",
       "    </tr>\n",
       "    <tr>\n",
       "      <th>age</th>\n",
       "      <td>2.568568e+02</td>\n",
       "      <td>2.568570e+02</td>\n",
       "      <td>2.568617e+02</td>\n",
       "      <td>2.568650e+02</td>\n",
       "      <td>2.568784e+02</td>\n",
       "    </tr>\n",
       "    <tr>\n",
       "      <th>sex_female</th>\n",
       "      <td>1.310014e+02</td>\n",
       "      <td>1.308673e+02</td>\n",
       "      <td>1.290778e+02</td>\n",
       "      <td>1.268425e+02</td>\n",
       "      <td>1.179015e+02</td>\n",
       "    </tr>\n",
       "    <tr>\n",
       "      <th>smoker_yes</th>\n",
       "      <td>9.532954e-12</td>\n",
       "      <td>2.936566e-11</td>\n",
       "      <td>1.556109e-11</td>\n",
       "      <td>7.880723e-12</td>\n",
       "      <td>2.527842e-11</td>\n",
       "    </tr>\n",
       "    <tr>\n",
       "      <th>sex_male</th>\n",
       "      <td>-2.714592e-13</td>\n",
       "      <td>-5.217591e-14</td>\n",
       "      <td>-0.000000e+00</td>\n",
       "      <td>-9.789356e-14</td>\n",
       "      <td>-0.000000e+00</td>\n",
       "    </tr>\n",
       "    <tr>\n",
       "      <th>region_southwest</th>\n",
       "      <td>-6.881903e+01</td>\n",
       "      <td>-6.878434e+01</td>\n",
       "      <td>-6.832408e+01</td>\n",
       "      <td>-6.774601e+01</td>\n",
       "      <td>-6.543370e+01</td>\n",
       "    </tr>\n",
       "    <tr>\n",
       "      <th>region_southeast</th>\n",
       "      <td>-1.437546e+02</td>\n",
       "      <td>-1.437047e+02</td>\n",
       "      <td>-1.430365e+02</td>\n",
       "      <td>-1.422052e+02</td>\n",
       "      <td>-1.388797e+02</td>\n",
       "    </tr>\n",
       "    <tr>\n",
       "      <th>smoker_no</th>\n",
       "      <td>-2.384805e+04</td>\n",
       "      <td>-2.384785e+04</td>\n",
       "      <td>-2.384510e+04</td>\n",
       "      <td>-2.384166e+04</td>\n",
       "      <td>-2.382791e+04</td>\n",
       "    </tr>\n",
       "  </tbody>\n",
       "</table>\n",
       "</div>"
      ],
      "text/plain": [
       "                    alpha:0.07     alpha:0.1     alpha:0.5       alpha:1  \\\n",
       "region_northeast  8.906420e+02  8.904238e+02  8.875057e+02  8.838694e+02   \n",
       "region_northwest  5.376730e+02  5.374526e+02  5.345145e+02  5.308420e+02   \n",
       "children          4.754529e+02  4.754324e+02  4.751596e+02  4.748190e+02   \n",
       "bmi               3.391784e+02  3.391719e+02  3.390871e+02  3.389794e+02   \n",
       "age               2.568568e+02  2.568570e+02  2.568617e+02  2.568650e+02   \n",
       "sex_female        1.310014e+02  1.308673e+02  1.290778e+02  1.268425e+02   \n",
       "smoker_yes        9.532954e-12  2.936566e-11  1.556109e-11  7.880723e-12   \n",
       "sex_male         -2.714592e-13 -5.217591e-14 -0.000000e+00 -9.789356e-14   \n",
       "region_southwest -6.881903e+01 -6.878434e+01 -6.832408e+01 -6.774601e+01   \n",
       "region_southeast -1.437546e+02 -1.437047e+02 -1.430365e+02 -1.422052e+02   \n",
       "smoker_no        -2.384805e+04 -2.384785e+04 -2.384510e+04 -2.384166e+04   \n",
       "\n",
       "                       alpha:3  \n",
       "region_northeast  8.693243e+02  \n",
       "region_northwest  5.161519e+02  \n",
       "children          4.734565e+02  \n",
       "bmi               3.385488e+02  \n",
       "age               2.568784e+02  \n",
       "sex_female        1.179015e+02  \n",
       "smoker_yes        2.527842e-11  \n",
       "sex_male         -0.000000e+00  \n",
       "region_southwest -6.543370e+01  \n",
       "region_southeast -1.388797e+02  \n",
       "smoker_no        -2.382791e+04  "
      ]
     },
     "execution_count": 193,
     "metadata": {},
     "output_type": "execute_result"
    }
   ],
   "source": [
    "X = insurance.drop('charges', axis = 1)\n",
    "y = insurance.iloc[:,3]\n",
    "\n",
    "coeff_df = pd.DataFrame()\n",
    "\n",
    "for i in alphas:\n",
    "    lasso = Lasso(alpha = i)\n",
    "    lasso.fit(X, y)\n",
    "    coeff = pd.Series(data = lasso.coef_, index = X.columns)\n",
    "    colname = 'alpha:' + str(i)\n",
    "    coeff_df[colname] = coeff\n",
    "\n",
    "lasso_alphas = [0.07, 0.1, 0.5, 1, 3]\n",
    "sort_column = 'alpha:' + str(lasso_alphas[0])\n",
    "coeff_df.sort_values(by = sort_column, ascending = False)"
   ]
  },
  {
   "cell_type": "markdown",
   "metadata": {
    "id": "cA7fxkTclVmn"
   },
   "source": [
    "#### \n",
    "alpha 값의 변화에 따른 엘라스틱넷 회귀를 수행해보겠습니다. l1_ratio는 0.5로 고정하겠습니다.\n",
    "엘라스틱넷의 alpha 값을 0.07, 0.1, 0.5, 1, 3으로 변화시키면서 cv=5인 교차검증을 수행하고, 그에 따른 RMSE의 평균값을 출력해주세요.\n",
    "\n",
    "alphas = [0.07, 0.1, 0.5, 1, 3]"
   ]
  },
  {
   "cell_type": "code",
   "execution_count": 194,
   "metadata": {
    "id": "ROGwsaxClVmo"
   },
   "outputs": [],
   "source": [
    "from sklearn.linear_model import ElasticNet"
   ]
  },
  {
   "cell_type": "code",
   "execution_count": 195,
   "metadata": {
    "id": "M7EDHBxmlVmo"
   },
   "outputs": [
    {
     "name": "stdout",
     "output_type": "stream",
     "text": [
      "alpha 0.07, 5 folds의 평균 RMSE : 6072.148 \n",
      "alpha 0.1, 5 folds의 평균 RMSE : 6072.148 \n",
      "alpha 0.5, 5 folds의 평균 RMSE : 6072.148 \n",
      "alpha 1, 5 folds의 평균 RMSE : 6072.148 \n",
      "alpha 3, 5 folds의 평균 RMSE : 6072.148 \n"
     ]
    }
   ],
   "source": [
    "from sklearn.model_selection import cross_val_score\n",
    "alphas = [0.07, 0.1, 0.5, 1, 3]\n",
    "for i in alphas:\n",
    "    elastic = ElasticNet(alpha = i)\n",
    "    neg_mse_scores = cross_val_score(lasso, X, y, scoring = \"neg_mean_squared_error\", cv = 5)\n",
    "    avg_rmse = np.mean(np.sqrt(-1 * neg_mse_scores))\n",
    "    print('alpha {0}, 5 folds의 평균 RMSE : {1:.3f} '.format(i,avg_rmse))"
   ]
  },
  {
   "cell_type": "markdown",
   "metadata": {
    "id": "O_RhLvm4lVmo"
   },
   "source": [
    "#### \n",
    "엘라스틱 회귀에서 alpha 값의 변화에 따른 피처의 회귀 계수 값을 DataFrame으로 출력해주세요."
   ]
  },
  {
   "cell_type": "code",
   "execution_count": 196,
   "metadata": {
    "id": "8s2GRcx9lVmo"
   },
   "outputs": [
    {
     "data": {
      "text/html": [
       "<div>\n",
       "<style scoped>\n",
       "    .dataframe tbody tr th:only-of-type {\n",
       "        vertical-align: middle;\n",
       "    }\n",
       "\n",
       "    .dataframe tbody tr th {\n",
       "        vertical-align: top;\n",
       "    }\n",
       "\n",
       "    .dataframe thead th {\n",
       "        text-align: right;\n",
       "    }\n",
       "</style>\n",
       "<table border=\"1\" class=\"dataframe\">\n",
       "  <thead>\n",
       "    <tr style=\"text-align: right;\">\n",
       "      <th></th>\n",
       "      <th>alpha:0.07</th>\n",
       "      <th>alpha:0.1</th>\n",
       "      <th>alpha:0.5</th>\n",
       "      <th>alpha:1</th>\n",
       "      <th>alpha:3</th>\n",
       "    </tr>\n",
       "  </thead>\n",
       "  <tbody>\n",
       "    <tr>\n",
       "      <th>smoker_yes</th>\n",
       "      <td>10753.802509</td>\n",
       "      <td>10320.281145</td>\n",
       "      <td>6719.914886</td>\n",
       "      <td>4683.535228</td>\n",
       "      <td>2119.079972</td>\n",
       "    </tr>\n",
       "    <tr>\n",
       "      <th>region_northeast</th>\n",
       "      <td>515.196732</td>\n",
       "      <td>489.587745</td>\n",
       "      <td>294.719264</td>\n",
       "      <td>196.326918</td>\n",
       "      <td>82.358766</td>\n",
       "    </tr>\n",
       "    <tr>\n",
       "      <th>children</th>\n",
       "      <td>471.583750</td>\n",
       "      <td>469.455230</td>\n",
       "      <td>431.963218</td>\n",
       "      <td>384.815364</td>\n",
       "      <td>261.220919</td>\n",
       "    </tr>\n",
       "    <tr>\n",
       "      <th>bmi</th>\n",
       "      <td>334.656475</td>\n",
       "      <td>333.191126</td>\n",
       "      <td>324.813852</td>\n",
       "      <td>322.072216</td>\n",
       "      <td>315.997687</td>\n",
       "    </tr>\n",
       "    <tr>\n",
       "      <th>age</th>\n",
       "      <td>255.525975</td>\n",
       "      <td>255.015668</td>\n",
       "      <td>250.419836</td>\n",
       "      <td>247.519072</td>\n",
       "      <td>243.229559</td>\n",
       "    </tr>\n",
       "    <tr>\n",
       "      <th>region_northwest</th>\n",
       "      <td>150.249808</td>\n",
       "      <td>123.513992</td>\n",
       "      <td>-19.145061</td>\n",
       "      <td>-47.240585</td>\n",
       "      <td>-38.906154</td>\n",
       "    </tr>\n",
       "    <tr>\n",
       "      <th>sex_male</th>\n",
       "      <td>5.180770</td>\n",
       "      <td>29.037902</td>\n",
       "      <td>167.890560</td>\n",
       "      <td>188.468297</td>\n",
       "      <td>133.966138</td>\n",
       "    </tr>\n",
       "    <tr>\n",
       "      <th>sex_female</th>\n",
       "      <td>-5.160047</td>\n",
       "      <td>-29.021618</td>\n",
       "      <td>-167.940443</td>\n",
       "      <td>-188.475367</td>\n",
       "      <td>-133.966258</td>\n",
       "    </tr>\n",
       "    <tr>\n",
       "      <th>region_southeast</th>\n",
       "      <td>-290.330866</td>\n",
       "      <td>-239.811660</td>\n",
       "      <td>33.587432</td>\n",
       "      <td>89.245469</td>\n",
       "      <td>75.580248</td>\n",
       "    </tr>\n",
       "    <tr>\n",
       "      <th>region_southwest</th>\n",
       "      <td>-375.071052</td>\n",
       "      <td>-373.249730</td>\n",
       "      <td>-309.148499</td>\n",
       "      <td>-238.331498</td>\n",
       "      <td>-119.032874</td>\n",
       "    </tr>\n",
       "    <tr>\n",
       "      <th>smoker_no</th>\n",
       "      <td>-10754.001411</td>\n",
       "      <td>-10320.459979</td>\n",
       "      <td>-6719.963604</td>\n",
       "      <td>-4683.536279</td>\n",
       "      <td>-2119.079976</td>\n",
       "    </tr>\n",
       "  </tbody>\n",
       "</table>\n",
       "</div>"
      ],
      "text/plain": [
       "                    alpha:0.07     alpha:0.1    alpha:0.5      alpha:1  \\\n",
       "smoker_yes        10753.802509  10320.281145  6719.914886  4683.535228   \n",
       "region_northeast    515.196732    489.587745   294.719264   196.326918   \n",
       "children            471.583750    469.455230   431.963218   384.815364   \n",
       "bmi                 334.656475    333.191126   324.813852   322.072216   \n",
       "age                 255.525975    255.015668   250.419836   247.519072   \n",
       "region_northwest    150.249808    123.513992   -19.145061   -47.240585   \n",
       "sex_male              5.180770     29.037902   167.890560   188.468297   \n",
       "sex_female           -5.160047    -29.021618  -167.940443  -188.475367   \n",
       "region_southeast   -290.330866   -239.811660    33.587432    89.245469   \n",
       "region_southwest   -375.071052   -373.249730  -309.148499  -238.331498   \n",
       "smoker_no        -10754.001411 -10320.459979 -6719.963604 -4683.536279   \n",
       "\n",
       "                      alpha:3  \n",
       "smoker_yes        2119.079972  \n",
       "region_northeast    82.358766  \n",
       "children           261.220919  \n",
       "bmi                315.997687  \n",
       "age                243.229559  \n",
       "region_northwest   -38.906154  \n",
       "sex_male           133.966138  \n",
       "sex_female        -133.966258  \n",
       "region_southeast    75.580248  \n",
       "region_southwest  -119.032874  \n",
       "smoker_no        -2119.079976  "
      ]
     },
     "execution_count": 196,
     "metadata": {},
     "output_type": "execute_result"
    }
   ],
   "source": [
    "X = insurance.drop('charges', axis = 1)\n",
    "y = insurance.iloc[:,3]\n",
    "\n",
    "coeff_df = pd.DataFrame()\n",
    "\n",
    "for i in alphas:\n",
    "    elastic = ElasticNet(alpha = i)\n",
    "    elastic.fit(X, y)\n",
    "    coeff = pd.Series(data = elastic.coef_, index = X.columns)\n",
    "    colname = 'alpha:' + str(i)\n",
    "    coeff_df[colname] = coeff\n",
    "\n",
    "elastic_alphas = [0.07, 0.1, 0.5, 1, 3]\n",
    "sort_column = 'alpha:' + str(elastic_alphas[0])\n",
    "coeff_df.sort_values(by = sort_column, ascending = False)"
   ]
  },
  {
   "cell_type": "markdown",
   "metadata": {
    "id": "14p8e-mDlqW8"
   },
   "source": []
  },
  {
   "cell_type": "markdown",
   "metadata": {
    "id": "f407284e"
   },
   "source": [
    "### 4.Logistic Regression"
   ]
  },
  {
   "cell_type": "markdown",
   "metadata": {
    "id": "9779e9ca"
   },
   "source": [
    "Dataset <fish.csv>를 다운 받아주세요!\n",
    "#### fish의 Weight, Length, Diagnal, Height, Width 정보를 바탕으로 fish의 Species를 분류하는 예제"
   ]
  },
  {
   "cell_type": "code",
   "execution_count": 197,
   "metadata": {
    "id": "b469cf2d"
   },
   "outputs": [],
   "source": [
    "import pandas as pd\n",
    "import matplotlib.pyplot as plt\n",
    "%matplotlib inline\n",
    "\n",
    "from sklearn.linear_model import LogisticRegression\n",
    "from sklearn.preprocessing import StandardScaler\n",
    "from sklearn.model_selection import train_test_split\n",
    "from sklearn.metrics import accuracy_score, roc_auc_score"
   ]
  },
  {
   "cell_type": "markdown",
   "metadata": {
    "id": "144dc02f"
   },
   "source": [
    "#### 'fish.csv'로 fish_df를 생성하세요"
   ]
  },
  {
   "cell_type": "code",
   "execution_count": 201,
   "metadata": {
    "id": "5d3c414e"
   },
   "outputs": [
    {
     "data": {
      "text/html": [
       "<div>\n",
       "<style scoped>\n",
       "    .dataframe tbody tr th:only-of-type {\n",
       "        vertical-align: middle;\n",
       "    }\n",
       "\n",
       "    .dataframe tbody tr th {\n",
       "        vertical-align: top;\n",
       "    }\n",
       "\n",
       "    .dataframe thead th {\n",
       "        text-align: right;\n",
       "    }\n",
       "</style>\n",
       "<table border=\"1\" class=\"dataframe\">\n",
       "  <thead>\n",
       "    <tr style=\"text-align: right;\">\n",
       "      <th></th>\n",
       "      <th>Species</th>\n",
       "      <th>Weight</th>\n",
       "      <th>Length</th>\n",
       "      <th>Diagonal</th>\n",
       "      <th>Height</th>\n",
       "      <th>Width</th>\n",
       "    </tr>\n",
       "  </thead>\n",
       "  <tbody>\n",
       "    <tr>\n",
       "      <th>0</th>\n",
       "      <td>Bream</td>\n",
       "      <td>242.0</td>\n",
       "      <td>25.4</td>\n",
       "      <td>30.0</td>\n",
       "      <td>11.5200</td>\n",
       "      <td>4.0200</td>\n",
       "    </tr>\n",
       "    <tr>\n",
       "      <th>1</th>\n",
       "      <td>Bream</td>\n",
       "      <td>290.0</td>\n",
       "      <td>26.3</td>\n",
       "      <td>31.2</td>\n",
       "      <td>12.4800</td>\n",
       "      <td>4.3056</td>\n",
       "    </tr>\n",
       "    <tr>\n",
       "      <th>2</th>\n",
       "      <td>Bream</td>\n",
       "      <td>340.0</td>\n",
       "      <td>26.5</td>\n",
       "      <td>31.1</td>\n",
       "      <td>12.3778</td>\n",
       "      <td>4.6961</td>\n",
       "    </tr>\n",
       "    <tr>\n",
       "      <th>3</th>\n",
       "      <td>Bream</td>\n",
       "      <td>363.0</td>\n",
       "      <td>29.0</td>\n",
       "      <td>33.5</td>\n",
       "      <td>12.7300</td>\n",
       "      <td>4.4555</td>\n",
       "    </tr>\n",
       "    <tr>\n",
       "      <th>4</th>\n",
       "      <td>Bream</td>\n",
       "      <td>430.0</td>\n",
       "      <td>29.0</td>\n",
       "      <td>34.0</td>\n",
       "      <td>12.4440</td>\n",
       "      <td>5.1340</td>\n",
       "    </tr>\n",
       "  </tbody>\n",
       "</table>\n",
       "</div>"
      ],
      "text/plain": [
       "  Species  Weight  Length  Diagonal   Height   Width\n",
       "0   Bream   242.0    25.4      30.0  11.5200  4.0200\n",
       "1   Bream   290.0    26.3      31.2  12.4800  4.3056\n",
       "2   Bream   340.0    26.5      31.1  12.3778  4.6961\n",
       "3   Bream   363.0    29.0      33.5  12.7300  4.4555\n",
       "4   Bream   430.0    29.0      34.0  12.4440  5.1340"
      ]
     },
     "execution_count": 201,
     "metadata": {},
     "output_type": "execute_result"
    }
   ],
   "source": [
    "fish_df = pd.read_csv('/Users/dohakim/Python_Workplace/2022-2-Euron-DS-Week_5/fish.csv')\n",
    "fish_df.head()"
   ]
  },
  {
   "cell_type": "markdown",
   "metadata": {
    "id": "cc69628b"
   },
   "source": [
    "#### fish 데이터 세트의 target 배열은 Species입니다.\n",
    "#### fish_df를 y_target, X_data로 분리해주세요"
   ]
  },
  {
   "cell_type": "code",
   "execution_count": 209,
   "metadata": {
    "id": "e1145d38"
   },
   "outputs": [],
   "source": [
    "X_data = fish_df.iloc[:,1:]\n",
    "y_target = fish_df.iloc[:,0]"
   ]
  },
  {
   "cell_type": "markdown",
   "metadata": {
    "id": "6074f2ca"
   },
   "source": [
    "#### X_data와 y_target을 X_train, X_test, y_train, y_test으로 나누세요. (test_size=0.3, random_state=42)"
   ]
  },
  {
   "cell_type": "code",
   "execution_count": 210,
   "metadata": {
    "id": "d5408f21"
   },
   "outputs": [],
   "source": [
    "X_train, X_test, y_train, y_test = train_test_split(X_data,y_target,test_size = 0.3, random_state = 42)"
   ]
  },
  {
   "cell_type": "markdown",
   "metadata": {
    "id": "0c98d57d"
   },
   "source": [
    "#### StandardScaler를 이용해 데이터 변환을 해주세요"
   ]
  },
  {
   "cell_type": "code",
   "execution_count": 211,
   "metadata": {
    "id": "25bcede9"
   },
   "outputs": [],
   "source": [
    "scaler = StandardScaler()\n",
    "X_scaled = scaler.fit_transform(X_train)\n",
    "X_test_scaled = scaler.transform(X_test)"
   ]
  },
  {
   "cell_type": "markdown",
   "metadata": {
    "id": "4f845462"
   },
   "source": [
    "#### 로지스틱 회귀를 이용해서 학습 및 예측을 수행하고 정확도와 ROC-AUC값을 구하세요 (solver = liblinear, C=20, max_iter=1000)"
   ]
  },
  {
   "cell_type": "code",
   "execution_count": 212,
   "metadata": {
    "id": "781ed2ab",
    "scrolled": true
   },
   "outputs": [
    {
     "name": "stdout",
     "output_type": "stream",
     "text": [
      "accuracy: 0.938\n",
      "roc_auc: 0.989\n"
     ]
    }
   ],
   "source": [
    "from sklearn.metrics import accuracy_score, roc_auc_score\n",
    "\n",
    "lr_clf = LogisticRegression(solver = 'liblinear',C = 20, max_iter = 1000)\n",
    "lr_clf.fit(X_scaled, y_train)\n",
    "lr_preds = lr_clf.predict(X_test_scaled)\n",
    "lr_preds_proba = lr_clf.predict_proba(X_test_scaled)\n",
    "print('accuracy: {:0.3f}'.format(accuracy_score(y_test,lr_preds))) \n",
    "print('roc_auc: {:0.3f}'.format(roc_auc_score(y_test,lr_preds_proba,multi_class = 'ovr'))) # 다중 분류 문제"
   ]
  }
 ],
 "metadata": {
  "colab": {
   "collapsed_sections": [
    "vZh2wtSK_v2E",
    "bzsLscDMAOPz",
    "7uONtY-DlVmk",
    "f407284e"
   ],
   "provenance": []
  },
  "hide_input": false,
  "kernelspec": {
   "display_name": "Python 3 (ipykernel)",
   "language": "python",
   "name": "python3"
  },
  "language_info": {
   "codemirror_mode": {
    "name": "ipython",
    "version": 3
   },
   "file_extension": ".py",
   "mimetype": "text/x-python",
   "name": "python",
   "nbconvert_exporter": "python",
   "pygments_lexer": "ipython3",
   "version": "3.9.12"
  },
  "toc": {
   "base_numbering": 1,
   "nav_menu": {},
   "number_sections": true,
   "sideBar": true,
   "skip_h1_title": false,
   "title_cell": "Table of Contents",
   "title_sidebar": "Contents",
   "toc_cell": false,
   "toc_position": {},
   "toc_section_display": true,
   "toc_window_display": false
  }
 },
 "nbformat": 4,
 "nbformat_minor": 1
}
