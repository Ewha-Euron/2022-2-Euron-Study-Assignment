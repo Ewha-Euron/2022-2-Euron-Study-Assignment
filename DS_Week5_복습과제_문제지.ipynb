{
  "cells": [
    {
      "cell_type": "markdown",
      "metadata": {
        "id": "view-in-github",
        "colab_type": "text"
      },
      "source": [
        "<a href=\"https://colab.research.google.com/github/chaeyunyeo/2022-2-Euron-Study-Assignment/blob/week6/DS_Week5_%EB%B3%B5%EC%8A%B5%EA%B3%BC%EC%A0%9C_%EB%AC%B8%EC%A0%9C%EC%A7%80.ipynb\" target=\"_parent\"><img src=\"https://colab.research.google.com/assets/colab-badge.svg\" alt=\"Open In Colab\"/></a>"
      ]
    },
    {
      "cell_type": "markdown",
      "metadata": {
        "id": "bZK_zDLX_375"
      },
      "source": [
        "week5\n",
        "\n",
        "다음 사이트에서 insurance.csv 데이터를 다운 받아 주세요.\n",
        "\n",
        "https://www.kaggle.com/datasets/mirichoi0218/insurance/code "
      ]
    },
    {
      "cell_type": "code",
      "source": [
        "#구글 드라이브와 연동\n",
        "from google.colab import drive\n",
        "drive.mount('/content/gdrive')"
      ],
      "metadata": {
        "colab": {
          "base_uri": "https://localhost:8080/"
        },
        "id": "E_HPxN7sonu5",
        "outputId": "95ed0d97-65c3-4adc-d410-d05c78841e1e"
      },
      "execution_count": 4,
      "outputs": [
        {
          "output_type": "stream",
          "name": "stdout",
          "text": [
            "Mounted at /content/gdrive\n"
          ]
        }
      ]
    },
    {
      "cell_type": "markdown",
      "metadata": {
        "id": "vZh2wtSK_v2E"
      },
      "source": [
        "###1. Medical Cost Perconal Datasets을 이용한 선형 회귀 문제"
      ]
    },
    {
      "cell_type": "code",
      "execution_count": 1,
      "metadata": {
        "id": "FoKc4V4IetGD"
      },
      "outputs": [],
      "source": [
        "import numpy as np\n",
        "import matplotlib.pyplot as plt\n",
        "import pandas as pd\n",
        "import seaborn as sns\n",
        "import warnings\n",
        "warnings.filterwarnings('ignore')\n",
        "%matplotlib inline"
      ]
    },
    {
      "cell_type": "markdown",
      "metadata": {
        "id": "gdlADPkwdxnY"
      },
      "source": [
        "1.1 'insurance.csv' 데이터셋을 로드하여 insurance 변수에 저장하고, head()를 통해 데이터를 확인하세요."
      ]
    },
    {
      "cell_type": "code",
      "execution_count": 5,
      "metadata": {
        "id": "wfA2reucdjIP"
      },
      "outputs": [],
      "source": [
        "insurance = pd.read_csv(\"/content/gdrive/MyDrive/euron study/csv파일/insurance.csv\")"
      ]
    },
    {
      "cell_type": "markdown",
      "metadata": {
        "id": "esu6SGy9fj8F"
      },
      "source": [
        "1.2 데이터의 정보를 확인하세요."
      ]
    },
    {
      "cell_type": "code",
      "execution_count": 6,
      "metadata": {
        "id": "kbwGkIukfGW3",
        "colab": {
          "base_uri": "https://localhost:8080/"
        },
        "outputId": "87ce0a66-39f1-41dc-d4d2-72af94c2124e"
      },
      "outputs": [
        {
          "output_type": "stream",
          "name": "stdout",
          "text": [
            "<class 'pandas.core.frame.DataFrame'>\n",
            "RangeIndex: 1338 entries, 0 to 1337\n",
            "Data columns (total 7 columns):\n",
            " #   Column    Non-Null Count  Dtype  \n",
            "---  ------    --------------  -----  \n",
            " 0   age       1338 non-null   int64  \n",
            " 1   sex       1338 non-null   object \n",
            " 2   bmi       1338 non-null   float64\n",
            " 3   children  1338 non-null   int64  \n",
            " 4   smoker    1338 non-null   object \n",
            " 5   region    1338 non-null   object \n",
            " 6   charges   1338 non-null   float64\n",
            "dtypes: float64(2), int64(2), object(3)\n",
            "memory usage: 73.3+ KB\n"
          ]
        }
      ],
      "source": [
        "insurance.info()"
      ]
    },
    {
      "cell_type": "markdown",
      "metadata": {
        "id": "GRKRIs2TfrWn"
      },
      "source": [
        "1.3 데이터의 기본 통계량을 확인하세요."
      ]
    },
    {
      "cell_type": "code",
      "execution_count": 7,
      "metadata": {
        "id": "h-eE5lhCfXBI",
        "colab": {
          "base_uri": "https://localhost:8080/",
          "height": 300
        },
        "outputId": "fc7db127-98aa-4fcb-8798-ac238b24bede"
      },
      "outputs": [
        {
          "output_type": "execute_result",
          "data": {
            "text/plain": [
              "               age          bmi     children       charges\n",
              "count  1338.000000  1338.000000  1338.000000   1338.000000\n",
              "mean     39.207025    30.663397     1.094918  13270.422265\n",
              "std      14.049960     6.098187     1.205493  12110.011237\n",
              "min      18.000000    15.960000     0.000000   1121.873900\n",
              "25%      27.000000    26.296250     0.000000   4740.287150\n",
              "50%      39.000000    30.400000     1.000000   9382.033000\n",
              "75%      51.000000    34.693750     2.000000  16639.912515\n",
              "max      64.000000    53.130000     5.000000  63770.428010"
            ],
            "text/html": [
              "\n",
              "  <div id=\"df-de2f4442-8629-4e1e-bbc5-bc9c16fa8180\">\n",
              "    <div class=\"colab-df-container\">\n",
              "      <div>\n",
              "<style scoped>\n",
              "    .dataframe tbody tr th:only-of-type {\n",
              "        vertical-align: middle;\n",
              "    }\n",
              "\n",
              "    .dataframe tbody tr th {\n",
              "        vertical-align: top;\n",
              "    }\n",
              "\n",
              "    .dataframe thead th {\n",
              "        text-align: right;\n",
              "    }\n",
              "</style>\n",
              "<table border=\"1\" class=\"dataframe\">\n",
              "  <thead>\n",
              "    <tr style=\"text-align: right;\">\n",
              "      <th></th>\n",
              "      <th>age</th>\n",
              "      <th>bmi</th>\n",
              "      <th>children</th>\n",
              "      <th>charges</th>\n",
              "    </tr>\n",
              "  </thead>\n",
              "  <tbody>\n",
              "    <tr>\n",
              "      <th>count</th>\n",
              "      <td>1338.000000</td>\n",
              "      <td>1338.000000</td>\n",
              "      <td>1338.000000</td>\n",
              "      <td>1338.000000</td>\n",
              "    </tr>\n",
              "    <tr>\n",
              "      <th>mean</th>\n",
              "      <td>39.207025</td>\n",
              "      <td>30.663397</td>\n",
              "      <td>1.094918</td>\n",
              "      <td>13270.422265</td>\n",
              "    </tr>\n",
              "    <tr>\n",
              "      <th>std</th>\n",
              "      <td>14.049960</td>\n",
              "      <td>6.098187</td>\n",
              "      <td>1.205493</td>\n",
              "      <td>12110.011237</td>\n",
              "    </tr>\n",
              "    <tr>\n",
              "      <th>min</th>\n",
              "      <td>18.000000</td>\n",
              "      <td>15.960000</td>\n",
              "      <td>0.000000</td>\n",
              "      <td>1121.873900</td>\n",
              "    </tr>\n",
              "    <tr>\n",
              "      <th>25%</th>\n",
              "      <td>27.000000</td>\n",
              "      <td>26.296250</td>\n",
              "      <td>0.000000</td>\n",
              "      <td>4740.287150</td>\n",
              "    </tr>\n",
              "    <tr>\n",
              "      <th>50%</th>\n",
              "      <td>39.000000</td>\n",
              "      <td>30.400000</td>\n",
              "      <td>1.000000</td>\n",
              "      <td>9382.033000</td>\n",
              "    </tr>\n",
              "    <tr>\n",
              "      <th>75%</th>\n",
              "      <td>51.000000</td>\n",
              "      <td>34.693750</td>\n",
              "      <td>2.000000</td>\n",
              "      <td>16639.912515</td>\n",
              "    </tr>\n",
              "    <tr>\n",
              "      <th>max</th>\n",
              "      <td>64.000000</td>\n",
              "      <td>53.130000</td>\n",
              "      <td>5.000000</td>\n",
              "      <td>63770.428010</td>\n",
              "    </tr>\n",
              "  </tbody>\n",
              "</table>\n",
              "</div>\n",
              "      <button class=\"colab-df-convert\" onclick=\"convertToInteractive('df-de2f4442-8629-4e1e-bbc5-bc9c16fa8180')\"\n",
              "              title=\"Convert this dataframe to an interactive table.\"\n",
              "              style=\"display:none;\">\n",
              "        \n",
              "  <svg xmlns=\"http://www.w3.org/2000/svg\" height=\"24px\"viewBox=\"0 0 24 24\"\n",
              "       width=\"24px\">\n",
              "    <path d=\"M0 0h24v24H0V0z\" fill=\"none\"/>\n",
              "    <path d=\"M18.56 5.44l.94 2.06.94-2.06 2.06-.94-2.06-.94-.94-2.06-.94 2.06-2.06.94zm-11 1L8.5 8.5l.94-2.06 2.06-.94-2.06-.94L8.5 2.5l-.94 2.06-2.06.94zm10 10l.94 2.06.94-2.06 2.06-.94-2.06-.94-.94-2.06-.94 2.06-2.06.94z\"/><path d=\"M17.41 7.96l-1.37-1.37c-.4-.4-.92-.59-1.43-.59-.52 0-1.04.2-1.43.59L10.3 9.45l-7.72 7.72c-.78.78-.78 2.05 0 2.83L4 21.41c.39.39.9.59 1.41.59.51 0 1.02-.2 1.41-.59l7.78-7.78 2.81-2.81c.8-.78.8-2.07 0-2.86zM5.41 20L4 18.59l7.72-7.72 1.47 1.35L5.41 20z\"/>\n",
              "  </svg>\n",
              "      </button>\n",
              "      \n",
              "  <style>\n",
              "    .colab-df-container {\n",
              "      display:flex;\n",
              "      flex-wrap:wrap;\n",
              "      gap: 12px;\n",
              "    }\n",
              "\n",
              "    .colab-df-convert {\n",
              "      background-color: #E8F0FE;\n",
              "      border: none;\n",
              "      border-radius: 50%;\n",
              "      cursor: pointer;\n",
              "      display: none;\n",
              "      fill: #1967D2;\n",
              "      height: 32px;\n",
              "      padding: 0 0 0 0;\n",
              "      width: 32px;\n",
              "    }\n",
              "\n",
              "    .colab-df-convert:hover {\n",
              "      background-color: #E2EBFA;\n",
              "      box-shadow: 0px 1px 2px rgba(60, 64, 67, 0.3), 0px 1px 3px 1px rgba(60, 64, 67, 0.15);\n",
              "      fill: #174EA6;\n",
              "    }\n",
              "\n",
              "    [theme=dark] .colab-df-convert {\n",
              "      background-color: #3B4455;\n",
              "      fill: #D2E3FC;\n",
              "    }\n",
              "\n",
              "    [theme=dark] .colab-df-convert:hover {\n",
              "      background-color: #434B5C;\n",
              "      box-shadow: 0px 1px 3px 1px rgba(0, 0, 0, 0.15);\n",
              "      filter: drop-shadow(0px 1px 2px rgba(0, 0, 0, 0.3));\n",
              "      fill: #FFFFFF;\n",
              "    }\n",
              "  </style>\n",
              "\n",
              "      <script>\n",
              "        const buttonEl =\n",
              "          document.querySelector('#df-de2f4442-8629-4e1e-bbc5-bc9c16fa8180 button.colab-df-convert');\n",
              "        buttonEl.style.display =\n",
              "          google.colab.kernel.accessAllowed ? 'block' : 'none';\n",
              "\n",
              "        async function convertToInteractive(key) {\n",
              "          const element = document.querySelector('#df-de2f4442-8629-4e1e-bbc5-bc9c16fa8180');\n",
              "          const dataTable =\n",
              "            await google.colab.kernel.invokeFunction('convertToInteractive',\n",
              "                                                     [key], {});\n",
              "          if (!dataTable) return;\n",
              "\n",
              "          const docLinkHtml = 'Like what you see? Visit the ' +\n",
              "            '<a target=\"_blank\" href=https://colab.research.google.com/notebooks/data_table.ipynb>data table notebook</a>'\n",
              "            + ' to learn more about interactive tables.';\n",
              "          element.innerHTML = '';\n",
              "          dataTable['output_type'] = 'display_data';\n",
              "          await google.colab.output.renderOutput(dataTable, element);\n",
              "          const docLink = document.createElement('div');\n",
              "          docLink.innerHTML = docLinkHtml;\n",
              "          element.appendChild(docLink);\n",
              "        }\n",
              "      </script>\n",
              "    </div>\n",
              "  </div>\n",
              "  "
            ]
          },
          "metadata": {},
          "execution_count": 7
        }
      ],
      "source": [
        "insurance.describe()"
      ]
    },
    {
      "cell_type": "markdown",
      "metadata": {
        "id": "Xzq9KVBIgelB"
      },
      "source": [
        "1.4  'sex', 'smoker', 'region' 세 카테고리 변수는 인코딩이 필요합니다. 'get_dummies'를 이용하여 원핫 인코딩을 진행하세요."
      ]
    },
    {
      "cell_type": "code",
      "execution_count": 8,
      "metadata": {
        "id": "aMjtATTDf0Sc"
      },
      "outputs": [],
      "source": [
        "insurance = pd.get_dummies(insurance, columns = ['sex','smoker','region'])"
      ]
    },
    {
      "cell_type": "markdown",
      "metadata": {
        "id": "pG-IX_1GhdTZ"
      },
      "source": [
        "1.5 독립변수(X), 종속변수(y = 'charges')을 분리한 후 'train_test_split'으로 학습 데이터와 테스트 데이터를 분리해주세요. (test_size = 0.3, random_state=0) "
      ]
    },
    {
      "cell_type": "code",
      "source": [
        "insurance.head()"
      ],
      "metadata": {
        "colab": {
          "base_uri": "https://localhost:8080/",
          "height": 206
        },
        "id": "-Jy2eCPvsoEK",
        "outputId": "2defa90c-5a2a-4a28-b421-443321f1ee3a"
      },
      "execution_count": 9,
      "outputs": [
        {
          "output_type": "execute_result",
          "data": {
            "text/plain": [
              "   age     bmi  children      charges  sex_female  sex_male  smoker_no  \\\n",
              "0   19  27.900         0  16884.92400           1         0          0   \n",
              "1   18  33.770         1   1725.55230           0         1          1   \n",
              "2   28  33.000         3   4449.46200           0         1          1   \n",
              "3   33  22.705         0  21984.47061           0         1          1   \n",
              "4   32  28.880         0   3866.85520           0         1          1   \n",
              "\n",
              "   smoker_yes  region_northeast  region_northwest  region_southeast  \\\n",
              "0           1                 0                 0                 0   \n",
              "1           0                 0                 0                 1   \n",
              "2           0                 0                 0                 1   \n",
              "3           0                 0                 1                 0   \n",
              "4           0                 0                 1                 0   \n",
              "\n",
              "   region_southwest  \n",
              "0                 1  \n",
              "1                 0  \n",
              "2                 0  \n",
              "3                 0  \n",
              "4                 0  "
            ],
            "text/html": [
              "\n",
              "  <div id=\"df-77c3e3e1-9e09-42c1-80c0-59d915e2266f\">\n",
              "    <div class=\"colab-df-container\">\n",
              "      <div>\n",
              "<style scoped>\n",
              "    .dataframe tbody tr th:only-of-type {\n",
              "        vertical-align: middle;\n",
              "    }\n",
              "\n",
              "    .dataframe tbody tr th {\n",
              "        vertical-align: top;\n",
              "    }\n",
              "\n",
              "    .dataframe thead th {\n",
              "        text-align: right;\n",
              "    }\n",
              "</style>\n",
              "<table border=\"1\" class=\"dataframe\">\n",
              "  <thead>\n",
              "    <tr style=\"text-align: right;\">\n",
              "      <th></th>\n",
              "      <th>age</th>\n",
              "      <th>bmi</th>\n",
              "      <th>children</th>\n",
              "      <th>charges</th>\n",
              "      <th>sex_female</th>\n",
              "      <th>sex_male</th>\n",
              "      <th>smoker_no</th>\n",
              "      <th>smoker_yes</th>\n",
              "      <th>region_northeast</th>\n",
              "      <th>region_northwest</th>\n",
              "      <th>region_southeast</th>\n",
              "      <th>region_southwest</th>\n",
              "    </tr>\n",
              "  </thead>\n",
              "  <tbody>\n",
              "    <tr>\n",
              "      <th>0</th>\n",
              "      <td>19</td>\n",
              "      <td>27.900</td>\n",
              "      <td>0</td>\n",
              "      <td>16884.92400</td>\n",
              "      <td>1</td>\n",
              "      <td>0</td>\n",
              "      <td>0</td>\n",
              "      <td>1</td>\n",
              "      <td>0</td>\n",
              "      <td>0</td>\n",
              "      <td>0</td>\n",
              "      <td>1</td>\n",
              "    </tr>\n",
              "    <tr>\n",
              "      <th>1</th>\n",
              "      <td>18</td>\n",
              "      <td>33.770</td>\n",
              "      <td>1</td>\n",
              "      <td>1725.55230</td>\n",
              "      <td>0</td>\n",
              "      <td>1</td>\n",
              "      <td>1</td>\n",
              "      <td>0</td>\n",
              "      <td>0</td>\n",
              "      <td>0</td>\n",
              "      <td>1</td>\n",
              "      <td>0</td>\n",
              "    </tr>\n",
              "    <tr>\n",
              "      <th>2</th>\n",
              "      <td>28</td>\n",
              "      <td>33.000</td>\n",
              "      <td>3</td>\n",
              "      <td>4449.46200</td>\n",
              "      <td>0</td>\n",
              "      <td>1</td>\n",
              "      <td>1</td>\n",
              "      <td>0</td>\n",
              "      <td>0</td>\n",
              "      <td>0</td>\n",
              "      <td>1</td>\n",
              "      <td>0</td>\n",
              "    </tr>\n",
              "    <tr>\n",
              "      <th>3</th>\n",
              "      <td>33</td>\n",
              "      <td>22.705</td>\n",
              "      <td>0</td>\n",
              "      <td>21984.47061</td>\n",
              "      <td>0</td>\n",
              "      <td>1</td>\n",
              "      <td>1</td>\n",
              "      <td>0</td>\n",
              "      <td>0</td>\n",
              "      <td>1</td>\n",
              "      <td>0</td>\n",
              "      <td>0</td>\n",
              "    </tr>\n",
              "    <tr>\n",
              "      <th>4</th>\n",
              "      <td>32</td>\n",
              "      <td>28.880</td>\n",
              "      <td>0</td>\n",
              "      <td>3866.85520</td>\n",
              "      <td>0</td>\n",
              "      <td>1</td>\n",
              "      <td>1</td>\n",
              "      <td>0</td>\n",
              "      <td>0</td>\n",
              "      <td>1</td>\n",
              "      <td>0</td>\n",
              "      <td>0</td>\n",
              "    </tr>\n",
              "  </tbody>\n",
              "</table>\n",
              "</div>\n",
              "      <button class=\"colab-df-convert\" onclick=\"convertToInteractive('df-77c3e3e1-9e09-42c1-80c0-59d915e2266f')\"\n",
              "              title=\"Convert this dataframe to an interactive table.\"\n",
              "              style=\"display:none;\">\n",
              "        \n",
              "  <svg xmlns=\"http://www.w3.org/2000/svg\" height=\"24px\"viewBox=\"0 0 24 24\"\n",
              "       width=\"24px\">\n",
              "    <path d=\"M0 0h24v24H0V0z\" fill=\"none\"/>\n",
              "    <path d=\"M18.56 5.44l.94 2.06.94-2.06 2.06-.94-2.06-.94-.94-2.06-.94 2.06-2.06.94zm-11 1L8.5 8.5l.94-2.06 2.06-.94-2.06-.94L8.5 2.5l-.94 2.06-2.06.94zm10 10l.94 2.06.94-2.06 2.06-.94-2.06-.94-.94-2.06-.94 2.06-2.06.94z\"/><path d=\"M17.41 7.96l-1.37-1.37c-.4-.4-.92-.59-1.43-.59-.52 0-1.04.2-1.43.59L10.3 9.45l-7.72 7.72c-.78.78-.78 2.05 0 2.83L4 21.41c.39.39.9.59 1.41.59.51 0 1.02-.2 1.41-.59l7.78-7.78 2.81-2.81c.8-.78.8-2.07 0-2.86zM5.41 20L4 18.59l7.72-7.72 1.47 1.35L5.41 20z\"/>\n",
              "  </svg>\n",
              "      </button>\n",
              "      \n",
              "  <style>\n",
              "    .colab-df-container {\n",
              "      display:flex;\n",
              "      flex-wrap:wrap;\n",
              "      gap: 12px;\n",
              "    }\n",
              "\n",
              "    .colab-df-convert {\n",
              "      background-color: #E8F0FE;\n",
              "      border: none;\n",
              "      border-radius: 50%;\n",
              "      cursor: pointer;\n",
              "      display: none;\n",
              "      fill: #1967D2;\n",
              "      height: 32px;\n",
              "      padding: 0 0 0 0;\n",
              "      width: 32px;\n",
              "    }\n",
              "\n",
              "    .colab-df-convert:hover {\n",
              "      background-color: #E2EBFA;\n",
              "      box-shadow: 0px 1px 2px rgba(60, 64, 67, 0.3), 0px 1px 3px 1px rgba(60, 64, 67, 0.15);\n",
              "      fill: #174EA6;\n",
              "    }\n",
              "\n",
              "    [theme=dark] .colab-df-convert {\n",
              "      background-color: #3B4455;\n",
              "      fill: #D2E3FC;\n",
              "    }\n",
              "\n",
              "    [theme=dark] .colab-df-convert:hover {\n",
              "      background-color: #434B5C;\n",
              "      box-shadow: 0px 1px 3px 1px rgba(0, 0, 0, 0.15);\n",
              "      filter: drop-shadow(0px 1px 2px rgba(0, 0, 0, 0.3));\n",
              "      fill: #FFFFFF;\n",
              "    }\n",
              "  </style>\n",
              "\n",
              "      <script>\n",
              "        const buttonEl =\n",
              "          document.querySelector('#df-77c3e3e1-9e09-42c1-80c0-59d915e2266f button.colab-df-convert');\n",
              "        buttonEl.style.display =\n",
              "          google.colab.kernel.accessAllowed ? 'block' : 'none';\n",
              "\n",
              "        async function convertToInteractive(key) {\n",
              "          const element = document.querySelector('#df-77c3e3e1-9e09-42c1-80c0-59d915e2266f');\n",
              "          const dataTable =\n",
              "            await google.colab.kernel.invokeFunction('convertToInteractive',\n",
              "                                                     [key], {});\n",
              "          if (!dataTable) return;\n",
              "\n",
              "          const docLinkHtml = 'Like what you see? Visit the ' +\n",
              "            '<a target=\"_blank\" href=https://colab.research.google.com/notebooks/data_table.ipynb>data table notebook</a>'\n",
              "            + ' to learn more about interactive tables.';\n",
              "          element.innerHTML = '';\n",
              "          dataTable['output_type'] = 'display_data';\n",
              "          await google.colab.output.renderOutput(dataTable, element);\n",
              "          const docLink = document.createElement('div');\n",
              "          docLink.innerHTML = docLinkHtml;\n",
              "          element.appendChild(docLink);\n",
              "        }\n",
              "      </script>\n",
              "    </div>\n",
              "  </div>\n",
              "  "
            ]
          },
          "metadata": {},
          "execution_count": 9
        }
      ]
    },
    {
      "cell_type": "code",
      "execution_count": 41,
      "metadata": {
        "id": "LbzwjaeWhZK1"
      },
      "outputs": [],
      "source": [
        "from sklearn.model_selection import train_test_split\n",
        "X = insurance.drop(['charges'],axis=1)\n",
        "y = insurance['charges']\n",
        "\n",
        "X_train, X_test, y_train, y_test = train_test_split(X, y, test_size=0.3, random_state=0)"
      ]
    },
    {
      "cell_type": "markdown",
      "metadata": {
        "id": "la-AKJBMpvXA"
      },
      "source": [
        "1.6 사이킷런 LinearRegression 클래스를 통해 회귀 모델 학습/예측을 수행해주세요."
      ]
    },
    {
      "cell_type": "code",
      "execution_count": 11,
      "metadata": {
        "id": "yS27W9vnp5d4"
      },
      "outputs": [],
      "source": [
        "from sklearn.linear_model import LinearRegression"
      ]
    },
    {
      "cell_type": "code",
      "execution_count": 12,
      "metadata": {
        "id": "FQ7EZXhdp8d7"
      },
      "outputs": [],
      "source": [
        "lr = LinearRegression()\n",
        "lr.fit(X_train,y_train)\n",
        "y_preds = lr.predict(X_test)"
      ]
    },
    {
      "cell_type": "markdown",
      "metadata": {
        "id": "zuVSoUJTqEKs"
      },
      "source": [
        "1.7 사이킷런 API를 이용해 MAE, MSE, RMSE, R2 평가지표로 평가를 수행하고 출력하세요.\n"
      ]
    },
    {
      "cell_type": "code",
      "execution_count": 14,
      "metadata": {
        "id": "CItQ8m-UqDRo"
      },
      "outputs": [],
      "source": [
        "from sklearn.metrics import mean_squared_error, r2_score,mean_absolute_error"
      ]
    },
    {
      "cell_type": "code",
      "execution_count": 15,
      "metadata": {
        "id": "_F5Pnhxjqfun",
        "colab": {
          "base_uri": "https://localhost:8080/"
        },
        "outputId": "88d8a164-81b3-4cab-b02b-d02be5bf622a"
      },
      "outputs": [
        {
          "output_type": "stream",
          "name": "stdout",
          "text": [
            "MAE : 4011.450 / MSE : 33342497.827 / RMSE : 5774.296 / R2 : 0.791\n"
          ]
        }
      ],
      "source": [
        "mae = mean_absolute_error(y_test,y_preds)\n",
        "mse = mean_squared_error(y_test,y_preds)\n",
        "rmse = np.sqrt(mse) \n",
        "r2 = r2_score(y_test,y_preds)\n",
        "\n",
        "print('MAE : {0:.3f} / MSE : {1:.3f} / RMSE : {2:.3f} / R2 : {3:.3f}'.format(mae,mse,rmse,r2))"
      ]
    },
    {
      "cell_type": "markdown",
      "metadata": {
        "id": "BmAgBJtRvKir"
      },
      "source": [
        "1.8 LinearRegression의 속성을 이용해 절편과 회귀계수를 출력해주세요."
      ]
    },
    {
      "cell_type": "code",
      "execution_count": 17,
      "metadata": {
        "id": "CM5zhlV0vUiQ",
        "colab": {
          "base_uri": "https://localhost:8080/"
        },
        "outputId": "1bb76cc6-fcaf-46f8-de12-8c718d4b6bd4"
      },
      "outputs": [
        {
          "output_type": "stream",
          "name": "stdout",
          "text": [
            "절편 값: -730.1121662702553\n",
            "회귀 계수값: [   256.4    335.4    472.7     23.8    -23.8 -11718.   11718.     589.\n",
            "     27.1   -405.7   -210.4]\n"
          ]
        }
      ],
      "source": [
        "print('절편 값:',lr.intercept_)\n",
        "print('회귀 계수값:',np.round(lr.coef_,1))"
      ]
    },
    {
      "cell_type": "markdown",
      "metadata": {
        "id": "i-eTWfebrvlB"
      },
      "source": [
        "1.9 coef_ 속성은 회귀계수만을 보여주기 때문에, 어떤 칼럼에 대한 회귀 계수인지 알 수 없습니다. 피처별 회귀계수 값을 매핑하여 높은 순으로 출력하세요."
      ]
    },
    {
      "cell_type": "code",
      "execution_count": 19,
      "metadata": {
        "id": "3pqIME7Arsui",
        "colab": {
          "base_uri": "https://localhost:8080/"
        },
        "outputId": "a8094579-2c4c-4ac0-857a-e49f2938ea26"
      },
      "outputs": [
        {
          "output_type": "execute_result",
          "data": {
            "text/plain": [
              "smoker_yes          11718.0\n",
              "region_northeast      589.0\n",
              "children              472.7\n",
              "bmi                   335.4\n",
              "age                   256.4\n",
              "region_northwest       27.1\n",
              "sex_female             23.8\n",
              "sex_male              -23.8\n",
              "region_southwest     -210.4\n",
              "region_southeast     -405.7\n",
              "smoker_no          -11718.0\n",
              "dtype: float64"
            ]
          },
          "metadata": {},
          "execution_count": 19
        }
      ],
      "source": [
        "coef = pd.Series(data=np.round(lr.coef_,1),index=X.columns)\n",
        "coef.sort_values(ascending=False)\n"
      ]
    },
    {
      "cell_type": "markdown",
      "metadata": {
        "id": "xYev1BbTvozN"
      },
      "source": [
        "1.10 이번에는 교차검증을 통해 MAE, MSE를 계산해보겠습니다. 'neg'에 주의하여 'cross_val_score'을 실시하고 [개별 negative MAE scores] [개별 MSE scores] 그리고 [평균 RMSE]를 출력해주세요. (cv=3)"
      ]
    },
    {
      "cell_type": "code",
      "execution_count": 20,
      "metadata": {
        "id": "SmCiGWUovnyZ"
      },
      "outputs": [],
      "source": [
        "from sklearn.model_selection import cross_val_score"
      ]
    },
    {
      "cell_type": "code",
      "execution_count": 21,
      "metadata": {
        "id": "peFL17oYsFx6",
        "colab": {
          "base_uri": "https://localhost:8080/"
        },
        "outputId": "7867ac08-d66e-4148-f481-a21663128cd2"
      },
      "outputs": [
        {
          "output_type": "stream",
          "name": "stdout",
          "text": [
            "3 folds의 개별 negative MAE scores :  [-4266.93 -4097.77 -4341.61]\n",
            "3 folds의 개별 MSE scores :  [37388213.08 34952866.56 40020943.28]\n",
            "3 folds의 평균 RMSE :  6117.632\n"
          ]
        }
      ],
      "source": [
        "lr = LinearRegression()\n",
        "neg_mae_scores = cross_val_score(lr,X,y,scoring=\"neg_mean_absolute_error\",cv=3)\n",
        "neg_mse_scores = cross_val_score(lr,X,y,scoring=\"neg_mean_squared_error\",cv=3)\n",
        "mse_scores = -1*neg_mse_scores\n",
        "rmse_scores = np.sqrt(mse_scores)\n",
        "avg_rmse = np.mean(rmse_scores)\n",
        "\n",
        "print('3 folds의 개별 negative MAE scores : ',np.round(neg_mae_scores,2))\n",
        "print('3 folds의 개별 MSE scores : ',np.round(mse_scores,2))\n",
        "print('3 folds의 평균 RMSE : ',np.round(avg_rmse,3))"
      ]
    },
    {
      "cell_type": "markdown",
      "metadata": {
        "id": "p9-EVfs2xIkJ"
      },
      "source": [
        "1.11 'age', 'bmi', 'children'에 대한 'charges'의 OLS summary를 출력하세요."
      ]
    },
    {
      "cell_type": "code",
      "execution_count": 22,
      "metadata": {
        "id": "42wFrKzfxCN3",
        "colab": {
          "base_uri": "https://localhost:8080/"
        },
        "outputId": "60131b6b-158b-41ab-dae5-e651308d2dfd"
      },
      "outputs": [
        {
          "output_type": "stream",
          "name": "stdout",
          "text": [
            "                            OLS Regression Results                            \n",
            "==============================================================================\n",
            "Dep. Variable:                charges   R-squared:                       0.120\n",
            "Model:                            OLS   Adj. R-squared:                  0.118\n",
            "Method:                 Least Squares   F-statistic:                     60.69\n",
            "Date:                Mon, 03 Oct 2022   Prob (F-statistic):           8.80e-37\n",
            "Time:                        13:16:40   Log-Likelihood:                -14392.\n",
            "No. Observations:                1338   AIC:                         2.879e+04\n",
            "Df Residuals:                    1334   BIC:                         2.881e+04\n",
            "Df Model:                           3                                         \n",
            "Covariance Type:            nonrobust                                         \n",
            "==============================================================================\n",
            "                 coef    std err          t      P>|t|      [0.025      0.975]\n",
            "------------------------------------------------------------------------------\n",
            "Intercept  -6916.2433   1757.480     -3.935      0.000   -1.04e+04   -3468.518\n",
            "age          239.9945     22.289     10.767      0.000     196.269     283.720\n",
            "bmi          332.0834     51.310      6.472      0.000     231.425     432.741\n",
            "children     542.8647    258.241      2.102      0.036      36.261    1049.468\n",
            "==============================================================================\n",
            "Omnibus:                      325.395   Durbin-Watson:                   2.012\n",
            "Prob(Omnibus):                  0.000   Jarque-Bera (JB):              603.372\n",
            "Skew:                           1.520   Prob(JB):                    9.54e-132\n",
            "Kurtosis:                       4.255   Cond. No.                         290.\n",
            "==============================================================================\n",
            "\n",
            "Notes:\n",
            "[1] Standard Errors assume that the covariance matrix of the errors is correctly specified.\n"
          ]
        }
      ],
      "source": [
        "import statsmodels.formula.api as smf\n",
        "results=smf.ols('charges~ age + bmi + children', data=insurance).fit()\n",
        "print(results.summary())"
      ]
    },
    {
      "cell_type": "markdown",
      "metadata": {
        "id": "bzsLscDMAOPz"
      },
      "source": [
        "### 2. 경사하강법"
      ]
    },
    {
      "cell_type": "markdown",
      "metadata": {
        "id": "pixp0U0fy_Gm"
      },
      "source": [
        "[make_regression()](https://datascienceschool.net/03%20machine%20learning/04.01%20%ED%9A%8C%EA%B7%80%EB%B6%84%EC%84%9D%20%EC%98%88%EC%A0%9C.html)은 가상의 회귀분석 문제를 제공해주는 명렁어입니다. 이 명령어를 이용해 경사하강법 실습을 해보겠습니다.\n",
        "\n",
        "먼저 다음의 코드를 실행해 X, y, w를 생성해주세요.\n",
        "\n"
      ]
    },
    {
      "cell_type": "code",
      "execution_count": 29,
      "metadata": {
        "id": "e_zHzypY8rzj"
      },
      "outputs": [],
      "source": [
        "from sklearn.datasets import make_regression\n",
        "\n",
        "X, y, w = make_regression(\n",
        "    n_samples=50, n_features=1, bias=100, noise=10, coef=True, random_state=0\n",
        ")"
      ]
    },
    {
      "cell_type": "markdown",
      "metadata": {
        "id": "ngDn2mpd-XrJ"
      },
      "source": [
        "2.1 y는 1차원 배열입니다. 'reshape' 명령어를 통해 y를 2차원 배열로 변환하고, X, y의 shape을 출력해주세요."
      ]
    },
    {
      "cell_type": "code",
      "execution_count": 30,
      "metadata": {
        "id": "7fvsJdg99HuH",
        "colab": {
          "base_uri": "https://localhost:8080/"
        },
        "outputId": "c59b1645-d98d-4be7-adaf-91d713ba804a"
      },
      "outputs": [
        {
          "output_type": "stream",
          "name": "stdout",
          "text": [
            "(2, 25)\n",
            "(50, 1)\n"
          ]
        }
      ],
      "source": [
        "y = y.reshape(2,-1)\n",
        "print(y.shape)\n",
        "print(X.shape)"
      ]
    },
    {
      "cell_type": "markdown",
      "metadata": {
        "id": "HWiL4-fT-t7U"
      },
      "source": [
        "2.2 X, y의 산점도를 출력해주세요."
      ]
    },
    {
      "cell_type": "code",
      "execution_count": 31,
      "metadata": {
        "id": "UZ4c_Ve57w_-",
        "colab": {
          "base_uri": "https://localhost:8080/",
          "height": 283
        },
        "outputId": "2fd9a049-55d2-4766-a5fd-012b6c816d4d"
      },
      "outputs": [
        {
          "output_type": "execute_result",
          "data": {
            "text/plain": [
              "<matplotlib.collections.PathCollection at 0x7f5c24928390>"
            ]
          },
          "metadata": {},
          "execution_count": 31
        },
        {
          "output_type": "display_data",
          "data": {
            "text/plain": [
              "<Figure size 432x288 with 1 Axes>"
            ],
            "image/png": "[encoded data removed]"
          },
          "metadata": {
            "needs_background": "light"
          }
        }
      ],
      "source": [
        "plt.scatter(X,y)"
      ]
    },
    {
      "cell_type": "markdown",
      "metadata": {
        "id": "HQVc9nKH-zTo"
      },
      "source": [
        "2.3 경사하강법을 위한 get_weight_updates, gradient_descent_stpes, get_cost 함수를 완성해주세요. 빈 괄호를 채워주세요."
      ]
    },
    {
      "cell_type": "code",
      "execution_count": 32,
      "metadata": {
        "id": "WraYIRyY0DMm"
      },
      "outputs": [],
      "source": [
        "def get_weight_updates(w1,w0,X,y,learning_rate=0.01):\n",
        "  N = len(y)\n",
        "  w1_update = np.zeros_like(w1)\n",
        "  w0_update = np.zeros_like(w0)\n",
        "  y_pred = np.dot(X, w1.T) + w0\n",
        "  diff = y - y_pred\n",
        "\n",
        "  w0_factors = np.ones((N,1))\n",
        "\n",
        "  w1_update = -(2/N)*learning_rate*(np.dot(X.T, diff))\n",
        "  w0_update = -(2/N)*learning_rate*(np.dot(w0_factors.T, diff))    \n",
        "    \n",
        "  return w1_update, w0_update"
      ]
    },
    {
      "cell_type": "code",
      "execution_count": 33,
      "metadata": {
        "id": "nN07jtLr0Es6"
      },
      "outputs": [],
      "source": [
        "def gradient_descent_steps(X, y, iters=10000):\n",
        "    # w0와 w1을 모두 0으로 초기화. \n",
        "    w0 = np.zeros((1,1))\n",
        "    w1 = np.zeros((1,1))\n",
        "    \n",
        "    # 인자로 주어진 iters 만큼 반복적으로 get_weight_updates() 호출하여 w1, w0 업데이트 수행. \n",
        "    for ind in range(iters):\n",
        "        w1_update, w0_update = get_weight_updates(w1, w0, X, y, learning_rate=0.01)\n",
        "        w1 = w1 - w1_update\n",
        "        w0 = w0 - w0_update\n",
        "              \n",
        "    return w1, w0"
      ]
    },
    {
      "cell_type": "code",
      "execution_count": 34,
      "metadata": {
        "id": "csdtPIfGzd_x"
      },
      "outputs": [],
      "source": [
        "def get_cost(y,y_pred):\n",
        "  N = len(y)\n",
        "  cost = np.sum(np.square(y-y_pred))/N\n",
        "  return cost"
      ]
    },
    {
      "cell_type": "markdown",
      "metadata": {
        "id": "USb5hMye_DMS"
      },
      "source": [
        "2.4 gradient_descent_steps 함수를 이용해 w1, w0을 계산하여 출력하세요. 또 get_cost 함수를 이용해 실제값과 예측값의 RSS 차이를 출력하세요."
      ]
    },
    {
      "cell_type": "code",
      "execution_count": 36,
      "metadata": {
        "id": "1cSLnEaF0GJg",
        "colab": {
          "base_uri": "https://localhost:8080/",
          "height": 397
        },
        "outputId": "a0d16b31-4751-4628-e13a-49c6f595d507"
      },
      "outputs": [
        {
          "output_type": "error",
          "ename": "ValueError",
          "evalue": "ignored",
          "traceback": [
            "\u001b[0;31m---------------------------------------------------------------------------\u001b[0m",
            "\u001b[0;31mValueError\u001b[0m                                Traceback (most recent call last)",
            "\u001b[0;32m<ipython-input-36-6413f0ebc5f4>\u001b[0m in \u001b[0;36m<module>\u001b[0;34m\u001b[0m\n\u001b[1;32m      1\u001b[0m \u001b[0;31m# 예측값과 실제값의 RSS 차이를 계산하는 함수 생성\u001b[0m\u001b[0;34m\u001b[0m\u001b[0;34m\u001b[0m\u001b[0;34m\u001b[0m\u001b[0m\n\u001b[0;32m----> 2\u001b[0;31m \u001b[0mw1\u001b[0m\u001b[0;34m,\u001b[0m \u001b[0mw0\u001b[0m \u001b[0;34m=\u001b[0m \u001b[0mgradient_descent_steps\u001b[0m\u001b[0;34m(\u001b[0m\u001b[0mX\u001b[0m\u001b[0;34m,\u001b[0m\u001b[0my\u001b[0m\u001b[0;34m,\u001b[0m\u001b[0miters\u001b[0m \u001b[0;34m=\u001b[0m \u001b[0;36m1000\u001b[0m\u001b[0;34m)\u001b[0m\u001b[0;34m\u001b[0m\u001b[0;34m\u001b[0m\u001b[0m\n\u001b[0m\u001b[1;32m      3\u001b[0m \u001b[0mprint\u001b[0m\u001b[0;34m(\u001b[0m\u001b[0;34m'w1: {0:.3f} w0:{1:.3f}'\u001b[0m\u001b[0;34m.\u001b[0m\u001b[0mformat\u001b[0m\u001b[0;34m(\u001b[0m\u001b[0mw1\u001b[0m\u001b[0;34m[\u001b[0m\u001b[0;36m0\u001b[0m\u001b[0;34m,\u001b[0m\u001b[0;36m0\u001b[0m\u001b[0;34m]\u001b[0m\u001b[0;34m,\u001b[0m\u001b[0mw0\u001b[0m\u001b[0;34m[\u001b[0m\u001b[0;36m0\u001b[0m\u001b[0;34m,\u001b[0m\u001b[0;36m0\u001b[0m\u001b[0;34m]\u001b[0m\u001b[0;34m)\u001b[0m\u001b[0;34m)\u001b[0m\u001b[0;34m\u001b[0m\u001b[0;34m\u001b[0m\u001b[0m\n\u001b[1;32m      4\u001b[0m \u001b[0my_pred\u001b[0m \u001b[0;34m=\u001b[0m \u001b[0mw1\u001b[0m\u001b[0;34m[\u001b[0m\u001b[0;36m0\u001b[0m\u001b[0;34m,\u001b[0m\u001b[0;36m0\u001b[0m\u001b[0;34m]\u001b[0m \u001b[0;34m*\u001b[0m \u001b[0mX\u001b[0m \u001b[0;34m+\u001b[0m \u001b[0mw0\u001b[0m\u001b[0;34m\u001b[0m\u001b[0;34m\u001b[0m\u001b[0m\n\u001b[1;32m      5\u001b[0m \u001b[0mprint\u001b[0m\u001b[0;34m(\u001b[0m\u001b[0;34m'경사 하강 total cost: {0:.4f}'\u001b[0m\u001b[0;34m.\u001b[0m\u001b[0mformat\u001b[0m\u001b[0;34m(\u001b[0m\u001b[0mget_cost\u001b[0m\u001b[0;34m(\u001b[0m\u001b[0my\u001b[0m\u001b[0;34m,\u001b[0m\u001b[0my_pred\u001b[0m\u001b[0;34m)\u001b[0m\u001b[0;34m)\u001b[0m\u001b[0;34m)\u001b[0m\u001b[0;34m\u001b[0m\u001b[0;34m\u001b[0m\u001b[0m\n",
            "\u001b[0;32m<ipython-input-33-a8bc75b2db71>\u001b[0m in \u001b[0;36mgradient_descent_steps\u001b[0;34m(X, y, iters)\u001b[0m\n\u001b[1;32m      6\u001b[0m     \u001b[0;31m# 인자로 주어진 iters 만큼 반복적으로 get_weight_updates() 호출하여 w1, w0 업데이트 수행.\u001b[0m\u001b[0;34m\u001b[0m\u001b[0;34m\u001b[0m\u001b[0;34m\u001b[0m\u001b[0m\n\u001b[1;32m      7\u001b[0m     \u001b[0;32mfor\u001b[0m \u001b[0mind\u001b[0m \u001b[0;32min\u001b[0m \u001b[0mrange\u001b[0m\u001b[0;34m(\u001b[0m\u001b[0miters\u001b[0m\u001b[0;34m)\u001b[0m\u001b[0;34m:\u001b[0m\u001b[0;34m\u001b[0m\u001b[0;34m\u001b[0m\u001b[0m\n\u001b[0;32m----> 8\u001b[0;31m         \u001b[0mw1_update\u001b[0m\u001b[0;34m,\u001b[0m \u001b[0mw0_update\u001b[0m \u001b[0;34m=\u001b[0m \u001b[0mget_weight_updates\u001b[0m\u001b[0;34m(\u001b[0m\u001b[0mw1\u001b[0m\u001b[0;34m,\u001b[0m \u001b[0mw0\u001b[0m\u001b[0;34m,\u001b[0m \u001b[0mX\u001b[0m\u001b[0;34m,\u001b[0m \u001b[0my\u001b[0m\u001b[0;34m,\u001b[0m \u001b[0mlearning_rate\u001b[0m\u001b[0;34m=\u001b[0m\u001b[0;36m0.01\u001b[0m\u001b[0;34m)\u001b[0m\u001b[0;34m\u001b[0m\u001b[0;34m\u001b[0m\u001b[0m\n\u001b[0m\u001b[1;32m      9\u001b[0m         \u001b[0mw1\u001b[0m \u001b[0;34m=\u001b[0m \u001b[0mw1\u001b[0m \u001b[0;34m-\u001b[0m \u001b[0mw1_update\u001b[0m\u001b[0;34m\u001b[0m\u001b[0;34m\u001b[0m\u001b[0m\n\u001b[1;32m     10\u001b[0m         \u001b[0mw0\u001b[0m \u001b[0;34m=\u001b[0m \u001b[0mw0\u001b[0m \u001b[0;34m-\u001b[0m \u001b[0mw0_update\u001b[0m\u001b[0;34m\u001b[0m\u001b[0;34m\u001b[0m\u001b[0m\n",
            "\u001b[0;32m<ipython-input-32-cd0c0583eeb7>\u001b[0m in \u001b[0;36mget_weight_updates\u001b[0;34m(w1, w0, X, y, learning_rate)\u001b[0m\n\u001b[1;32m      4\u001b[0m   \u001b[0mw0_update\u001b[0m \u001b[0;34m=\u001b[0m \u001b[0mnp\u001b[0m\u001b[0;34m.\u001b[0m\u001b[0mzeros_like\u001b[0m\u001b[0;34m(\u001b[0m\u001b[0mw0\u001b[0m\u001b[0;34m)\u001b[0m\u001b[0;34m\u001b[0m\u001b[0;34m\u001b[0m\u001b[0m\n\u001b[1;32m      5\u001b[0m   \u001b[0my_pred\u001b[0m \u001b[0;34m=\u001b[0m \u001b[0mnp\u001b[0m\u001b[0;34m.\u001b[0m\u001b[0mdot\u001b[0m\u001b[0;34m(\u001b[0m\u001b[0mX\u001b[0m\u001b[0;34m,\u001b[0m \u001b[0mw1\u001b[0m\u001b[0;34m.\u001b[0m\u001b[0mT\u001b[0m\u001b[0;34m)\u001b[0m \u001b[0;34m+\u001b[0m \u001b[0mw0\u001b[0m\u001b[0;34m\u001b[0m\u001b[0;34m\u001b[0m\u001b[0m\n\u001b[0;32m----> 6\u001b[0;31m   \u001b[0mdiff\u001b[0m \u001b[0;34m=\u001b[0m \u001b[0my\u001b[0m \u001b[0;34m-\u001b[0m \u001b[0my_pred\u001b[0m\u001b[0;34m\u001b[0m\u001b[0;34m\u001b[0m\u001b[0m\n\u001b[0m\u001b[1;32m      7\u001b[0m \u001b[0;34m\u001b[0m\u001b[0m\n\u001b[1;32m      8\u001b[0m   \u001b[0mw0_factors\u001b[0m \u001b[0;34m=\u001b[0m \u001b[0mnp\u001b[0m\u001b[0;34m.\u001b[0m\u001b[0mones\u001b[0m\u001b[0;34m(\u001b[0m\u001b[0;34m(\u001b[0m\u001b[0mN\u001b[0m\u001b[0;34m,\u001b[0m\u001b[0;36m1\u001b[0m\u001b[0;34m)\u001b[0m\u001b[0;34m)\u001b[0m\u001b[0;34m\u001b[0m\u001b[0;34m\u001b[0m\u001b[0m\n",
            "\u001b[0;31mValueError\u001b[0m: operands could not be broadcast together with shapes (2,25) (50,1) "
          ]
        }
      ],
      "source": [
        "# 예측값과 실제값의 RSS 차이를 계산하는 함수 생성\n",
        "w1, w0 = gradient_descent_steps(X,y,iters = 1000)\n",
        "print('w1: {0:.3f} w0:{1:.3f}'.format(w1[0,0],w0[0,0]))\n",
        "y_pred = w1[0,0] * X + w0\n",
        "print('경사 하강 total cost: {0:.4f}'.format(get_cost(y,y_pred)))"
      ]
    },
    {
      "cell_type": "markdown",
      "metadata": {
        "id": "zQrVd-z-_eRr"
      },
      "source": [
        "2.5 X,y의 산점도와 함께 앞에서 구한 y_pred 기반 회귀선을 그려주세요."
      ]
    },
    {
      "cell_type": "code",
      "execution_count": 37,
      "metadata": {
        "id": "3DiTH9y30Gdm",
        "colab": {
          "base_uri": "https://localhost:8080/",
          "height": 439
        },
        "outputId": "839ed84e-9347-4abe-f7f5-ac6a7cc2241f"
      },
      "outputs": [
        {
          "output_type": "error",
          "ename": "NameError",
          "evalue": "ignored",
          "traceback": [
            "\u001b[0;31m---------------------------------------------------------------------------\u001b[0m",
            "\u001b[0;31mNameError\u001b[0m                                 Traceback (most recent call last)",
            "\u001b[0;32m<ipython-input-37-4d04ca46a1bd>\u001b[0m in \u001b[0;36m<module>\u001b[0;34m\u001b[0m\n\u001b[1;32m      1\u001b[0m \u001b[0mplt\u001b[0m\u001b[0;34m.\u001b[0m\u001b[0mscatter\u001b[0m\u001b[0;34m(\u001b[0m\u001b[0mX\u001b[0m\u001b[0;34m,\u001b[0m\u001b[0my\u001b[0m\u001b[0;34m)\u001b[0m\u001b[0;34m\u001b[0m\u001b[0;34m\u001b[0m\u001b[0m\n\u001b[0;32m----> 2\u001b[0;31m \u001b[0mplt\u001b[0m\u001b[0;34m.\u001b[0m\u001b[0mplot\u001b[0m\u001b[0;34m(\u001b[0m\u001b[0mX\u001b[0m\u001b[0;34m,\u001b[0m \u001b[0my_pred\u001b[0m\u001b[0;34m)\u001b[0m\u001b[0;34m\u001b[0m\u001b[0;34m\u001b[0m\u001b[0m\n\u001b[0m",
            "\u001b[0;31mNameError\u001b[0m: name 'y_pred' is not defined"
          ]
        },
        {
          "output_type": "display_data",
          "data": {
            "text/plain": [
              "<Figure size 432x288 with 1 Axes>"
            ],
            "image/png": "[encoded data removed]"
          },
          "metadata": {
            "needs_background": "light"
          }
        }
      ],
      "source": [
        "plt.scatter(X,y)\n",
        "plt.plot(X, y_pred)"
      ]
    },
    {
      "cell_type": "markdown",
      "metadata": {
        "id": "7uONtY-DlVmk"
      },
      "source": [
        "### 3. 규제 선형 모델"
      ]
    },
    {
      "cell_type": "markdown",
      "metadata": {
        "id": "2pV3AKhXlVmk"
      },
      "source": [
        "#### \n",
        "alpha 값의 변화에 따른 릿지 회귀를 수행해보겠습니다.\n",
        "릿지의 alpha 값을 0, 0.1, 1, 10, 100으로 변화시키면서 cv=5인 교차검증을 수행하고, 그에 따른 RMSE의 평균값을 출력해주세요.\n",
        "\n",
        "alphas = [0, 0.1, 1, 10, 100]"
      ]
    },
    {
      "cell_type": "code",
      "execution_count": 38,
      "metadata": {
        "id": "zpqI58VClVmk"
      },
      "outputs": [],
      "source": [
        "from sklearn.linear_model import Ridge"
      ]
    },
    {
      "cell_type": "code",
      "execution_count": 43,
      "metadata": {
        "id": "9UuOXRmJlVmk",
        "colab": {
          "base_uri": "https://localhost:8080/"
        },
        "outputId": "96290f4a-7cb8-4db8-bebd-94b2407e31da"
      },
      "outputs": [
        {
          "output_type": "stream",
          "name": "stdout",
          "text": [
            "6113.223914784322\n",
            "6072.4069752914775\n",
            "6072.442998110319\n",
            "6078.190358367364\n",
            "6442.8690461725655\n"
          ]
        }
      ],
      "source": [
        "alphas = [0, 0.1, 1, 10, 100]\n",
        "\n",
        "for a in alphas:\n",
        "    ridge = Ridge(alpha = a)\n",
        "    neg_mse_scores = cross_val_score(ridge, X, y, scoring=\"neg_mean_squared_error\", cv = 5)\n",
        "    rmse_scores  = np.sqrt(-1 * neg_mse_scores)\n",
        "    avg_rmse = np.mean(rmse_scores)\n",
        "    print(avg_rmse)"
      ]
    },
    {
      "cell_type": "markdown",
      "metadata": {
        "id": "sMsNm4AdlVmk"
      },
      "source": [
        "#### \n",
        "릿지 회귀에서 alpha 값의 변화에 따른 피처의 회귀 계수 값을 DataFrame으로 출력해주세요."
      ]
    },
    {
      "cell_type": "code",
      "execution_count": 44,
      "metadata": {
        "id": "Jqf27ruflVmk",
        "colab": {
          "base_uri": "https://localhost:8080/",
          "height": 504
        },
        "outputId": "9dd2222e-fae4-476b-bd37-c512d7f3c461"
      },
      "outputs": [
        {
          "output_type": "stream",
          "name": "stdout",
          "text": [
            "#######  Ridge #######\n",
            "alpha 0일 때 5 폴드 세트의 평균 RMSE: 6113.224 \n",
            "alpha 0.1일 때 5 폴드 세트의 평균 RMSE: 6072.407 \n",
            "alpha 1일 때 5 폴드 세트의 평균 RMSE: 6072.443 \n",
            "alpha 10일 때 5 폴드 세트의 평균 RMSE: 6078.190 \n",
            "alpha 100일 때 5 폴드 세트의 평균 RMSE: 6442.869 \n"
          ]
        },
        {
          "output_type": "execute_result",
          "data": {
            "text/plain": [
              "                       alpha:0     alpha:0.1       alpha:1      alpha:10  \\\n",
              "children          7.214665e+02    475.494224    475.436877    474.820180   \n",
              "bmi               3.459688e+02    339.181665    339.076048    338.065597   \n",
              "age               2.575053e+02    256.853283    256.825701    256.554472   \n",
              "smoker_yes       -1.040515e+18  11921.493887  11896.592025  11653.239226   \n",
              "smoker_no        -1.040515e+18 -11921.493887 -11896.592025 -11653.239226   \n",
              "region_northwest -1.515581e+18    233.826079    231.862004    213.101025   \n",
              "region_northeast -1.515581e+18    586.834455    585.266199    570.041509   \n",
              "region_southwest -1.515581e+18   -373.059255   -373.213686   -374.469578   \n",
              "region_southeast -1.515581e+18   -447.601278   -443.914518   -408.672957   \n",
              "sex_male         -2.330668e+18    -65.478686    -63.878162    -48.442781   \n",
              "sex_female       -2.330668e+18     65.478686     63.878162     48.442781   \n",
              "\n",
              "                    alpha:100  \n",
              "children           465.582620  \n",
              "bmi                331.228569  \n",
              "age                254.241965  \n",
              "smoker_yes        9677.670082  \n",
              "smoker_no        -9677.670082  \n",
              "region_northwest    88.138956  \n",
              "region_northeast   452.770454  \n",
              "region_southwest  -368.327597  \n",
              "region_southeast  -172.581812  \n",
              "sex_male            61.985752  \n",
              "sex_female         -61.985752  "
            ],
            "text/html": [
              "\n",
              "  <div id=\"df-94254d39-1d66-446a-aad4-5256e0d5055a\">\n",
              "    <div class=\"colab-df-container\">\n",
              "      <div>\n",
              "<style scoped>\n",
              "    .dataframe tbody tr th:only-of-type {\n",
              "        vertical-align: middle;\n",
              "    }\n",
              "\n",
              "    .dataframe tbody tr th {\n",
              "        vertical-align: top;\n",
              "    }\n",
              "\n",
              "    .dataframe thead th {\n",
              "        text-align: right;\n",
              "    }\n",
              "</style>\n",
              "<table border=\"1\" class=\"dataframe\">\n",
              "  <thead>\n",
              "    <tr style=\"text-align: right;\">\n",
              "      <th></th>\n",
              "      <th>alpha:0</th>\n",
              "      <th>alpha:0.1</th>\n",
              "      <th>alpha:1</th>\n",
              "      <th>alpha:10</th>\n",
              "      <th>alpha:100</th>\n",
              "    </tr>\n",
              "  </thead>\n",
              "  <tbody>\n",
              "    <tr>\n",
              "      <th>children</th>\n",
              "      <td>7.214665e+02</td>\n",
              "      <td>475.494224</td>\n",
              "      <td>475.436877</td>\n",
              "      <td>474.820180</td>\n",
              "      <td>465.582620</td>\n",
              "    </tr>\n",
              "    <tr>\n",
              "      <th>bmi</th>\n",
              "      <td>3.459688e+02</td>\n",
              "      <td>339.181665</td>\n",
              "      <td>339.076048</td>\n",
              "      <td>338.065597</td>\n",
              "      <td>331.228569</td>\n",
              "    </tr>\n",
              "    <tr>\n",
              "      <th>age</th>\n",
              "      <td>2.575053e+02</td>\n",
              "      <td>256.853283</td>\n",
              "      <td>256.825701</td>\n",
              "      <td>256.554472</td>\n",
              "      <td>254.241965</td>\n",
              "    </tr>\n",
              "    <tr>\n",
              "      <th>smoker_yes</th>\n",
              "      <td>-1.040515e+18</td>\n",
              "      <td>11921.493887</td>\n",
              "      <td>11896.592025</td>\n",
              "      <td>11653.239226</td>\n",
              "      <td>9677.670082</td>\n",
              "    </tr>\n",
              "    <tr>\n",
              "      <th>smoker_no</th>\n",
              "      <td>-1.040515e+18</td>\n",
              "      <td>-11921.493887</td>\n",
              "      <td>-11896.592025</td>\n",
              "      <td>-11653.239226</td>\n",
              "      <td>-9677.670082</td>\n",
              "    </tr>\n",
              "    <tr>\n",
              "      <th>region_northwest</th>\n",
              "      <td>-1.515581e+18</td>\n",
              "      <td>233.826079</td>\n",
              "      <td>231.862004</td>\n",
              "      <td>213.101025</td>\n",
              "      <td>88.138956</td>\n",
              "    </tr>\n",
              "    <tr>\n",
              "      <th>region_northeast</th>\n",
              "      <td>-1.515581e+18</td>\n",
              "      <td>586.834455</td>\n",
              "      <td>585.266199</td>\n",
              "      <td>570.041509</td>\n",
              "      <td>452.770454</td>\n",
              "    </tr>\n",
              "    <tr>\n",
              "      <th>region_southwest</th>\n",
              "      <td>-1.515581e+18</td>\n",
              "      <td>-373.059255</td>\n",
              "      <td>-373.213686</td>\n",
              "      <td>-374.469578</td>\n",
              "      <td>-368.327597</td>\n",
              "    </tr>\n",
              "    <tr>\n",
              "      <th>region_southeast</th>\n",
              "      <td>-1.515581e+18</td>\n",
              "      <td>-447.601278</td>\n",
              "      <td>-443.914518</td>\n",
              "      <td>-408.672957</td>\n",
              "      <td>-172.581812</td>\n",
              "    </tr>\n",
              "    <tr>\n",
              "      <th>sex_male</th>\n",
              "      <td>-2.330668e+18</td>\n",
              "      <td>-65.478686</td>\n",
              "      <td>-63.878162</td>\n",
              "      <td>-48.442781</td>\n",
              "      <td>61.985752</td>\n",
              "    </tr>\n",
              "    <tr>\n",
              "      <th>sex_female</th>\n",
              "      <td>-2.330668e+18</td>\n",
              "      <td>65.478686</td>\n",
              "      <td>63.878162</td>\n",
              "      <td>48.442781</td>\n",
              "      <td>-61.985752</td>\n",
              "    </tr>\n",
              "  </tbody>\n",
              "</table>\n",
              "</div>\n",
              "      <button class=\"colab-df-convert\" onclick=\"convertToInteractive('df-94254d39-1d66-446a-aad4-5256e0d5055a')\"\n",
              "              title=\"Convert this dataframe to an interactive table.\"\n",
              "              style=\"display:none;\">\n",
              "        \n",
              "  <svg xmlns=\"http://www.w3.org/2000/svg\" height=\"24px\"viewBox=\"0 0 24 24\"\n",
              "       width=\"24px\">\n",
              "    <path d=\"M0 0h24v24H0V0z\" fill=\"none\"/>\n",
              "    <path d=\"M18.56 5.44l.94 2.06.94-2.06 2.06-.94-2.06-.94-.94-2.06-.94 2.06-2.06.94zm-11 1L8.5 8.5l.94-2.06 2.06-.94-2.06-.94L8.5 2.5l-.94 2.06-2.06.94zm10 10l.94 2.06.94-2.06 2.06-.94-2.06-.94-.94-2.06-.94 2.06-2.06.94z\"/><path d=\"M17.41 7.96l-1.37-1.37c-.4-.4-.92-.59-1.43-.59-.52 0-1.04.2-1.43.59L10.3 9.45l-7.72 7.72c-.78.78-.78 2.05 0 2.83L4 21.41c.39.39.9.59 1.41.59.51 0 1.02-.2 1.41-.59l7.78-7.78 2.81-2.81c.8-.78.8-2.07 0-2.86zM5.41 20L4 18.59l7.72-7.72 1.47 1.35L5.41 20z\"/>\n",
              "  </svg>\n",
              "      </button>\n",
              "      \n",
              "  <style>\n",
              "    .colab-df-container {\n",
              "      display:flex;\n",
              "      flex-wrap:wrap;\n",
              "      gap: 12px;\n",
              "    }\n",
              "\n",
              "    .colab-df-convert {\n",
              "      background-color: #E8F0FE;\n",
              "      border: none;\n",
              "      border-radius: 50%;\n",
              "      cursor: pointer;\n",
              "      display: none;\n",
              "      fill: #1967D2;\n",
              "      height: 32px;\n",
              "      padding: 0 0 0 0;\n",
              "      width: 32px;\n",
              "    }\n",
              "\n",
              "    .colab-df-convert:hover {\n",
              "      background-color: #E2EBFA;\n",
              "      box-shadow: 0px 1px 2px rgba(60, 64, 67, 0.3), 0px 1px 3px 1px rgba(60, 64, 67, 0.15);\n",
              "      fill: #174EA6;\n",
              "    }\n",
              "\n",
              "    [theme=dark] .colab-df-convert {\n",
              "      background-color: #3B4455;\n",
              "      fill: #D2E3FC;\n",
              "    }\n",
              "\n",
              "    [theme=dark] .colab-df-convert:hover {\n",
              "      background-color: #434B5C;\n",
              "      box-shadow: 0px 1px 3px 1px rgba(0, 0, 0, 0.15);\n",
              "      filter: drop-shadow(0px 1px 2px rgba(0, 0, 0, 0.3));\n",
              "      fill: #FFFFFF;\n",
              "    }\n",
              "  </style>\n",
              "\n",
              "      <script>\n",
              "        const buttonEl =\n",
              "          document.querySelector('#df-94254d39-1d66-446a-aad4-5256e0d5055a button.colab-df-convert');\n",
              "        buttonEl.style.display =\n",
              "          google.colab.kernel.accessAllowed ? 'block' : 'none';\n",
              "\n",
              "        async function convertToInteractive(key) {\n",
              "          const element = document.querySelector('#df-94254d39-1d66-446a-aad4-5256e0d5055a');\n",
              "          const dataTable =\n",
              "            await google.colab.kernel.invokeFunction('convertToInteractive',\n",
              "                                                     [key], {});\n",
              "          if (!dataTable) return;\n",
              "\n",
              "          const docLinkHtml = 'Like what you see? Visit the ' +\n",
              "            '<a target=\"_blank\" href=https://colab.research.google.com/notebooks/data_table.ipynb>data table notebook</a>'\n",
              "            + ' to learn more about interactive tables.';\n",
              "          element.innerHTML = '';\n",
              "          dataTable['output_type'] = 'display_data';\n",
              "          await google.colab.output.renderOutput(dataTable, element);\n",
              "          const docLink = document.createElement('div');\n",
              "          docLink.innerHTML = docLinkHtml;\n",
              "          element.appendChild(docLink);\n",
              "        }\n",
              "      </script>\n",
              "    </div>\n",
              "  </div>\n",
              "  "
            ]
          },
          "metadata": {},
          "execution_count": 44
        }
      ],
      "source": [
        "def get_linear_reg_eval(model_name, params=None, X_data_n=None, y_target_n=None, \n",
        "                        verbose=True, return_coeff=True):\n",
        "    coeff_df = pd.DataFrame()\n",
        "    if verbose : print('####### ', model_name , '#######')\n",
        "    for param in params:\n",
        "        if model_name =='Ridge': model = Ridge(alpha=param)\n",
        "        elif model_name =='Lasso': model = Lasso(alpha=param)\n",
        "        elif model_name =='ElasticNet': model = ElasticNet(alpha=param, l1_ratio=0.7)\n",
        "        neg_mse_scores = cross_val_score(model, X_data_n, \n",
        "                                             y_target_n, scoring=\"neg_mean_squared_error\", cv = 5)\n",
        "        avg_rmse = np.mean(np.sqrt(-1 * neg_mse_scores))\n",
        "        print('alpha {0}일 때 5 폴드 세트의 평균 RMSE: {1:.3f} '.format(param, avg_rmse))\n",
        "        \n",
        "        model.fit(X_data_n , y_target_n)\n",
        "        if return_coeff:\n",
        "            coeff = pd.Series(data=model.coef_ , index=X_data_n.columns )\n",
        "            colname='alpha:'+str(param)\n",
        "            coeff_df[colname] = coeff\n",
        "    \n",
        "    return coeff_df\n",
        "\n",
        "\n",
        "sort_column = 'alpha:'+str(alphas[0])\n",
        "coeff_df =get_linear_reg_eval('Ridge', params=alphas, X_data_n=X, y_target_n=y)\n",
        "coeff_df.sort_values(by=sort_column, ascending=False)"
      ]
    },
    {
      "cell_type": "markdown",
      "metadata": {
        "id": "1UlF0jjjlVml"
      },
      "source": [
        "#### \n",
        "alpha 값의 변화에 따른 라쏘 회귀를 수행해보겠습니다.\n",
        "릿지의 alpha 값을 0.07, 0.1, 0.5, 1, 3으로 변화시키면서 cv=5인 교차검증을 수행하고, 그에 따른 RMSE의 평균값을 출력해주세요.\n",
        "\n",
        "alphas = [0.07, 0.1, 0.5, 1, 3]"
      ]
    },
    {
      "cell_type": "code",
      "execution_count": 45,
      "metadata": {
        "id": "whhvFJ0-lVmm"
      },
      "outputs": [],
      "source": [
        "from sklearn.linear_model import Lasso"
      ]
    },
    {
      "cell_type": "code",
      "execution_count": 46,
      "metadata": {
        "id": "5bouOzmXlVmn",
        "colab": {
          "base_uri": "https://localhost:8080/"
        },
        "outputId": "136b8b2e-4510-47e1-b3cd-710462d16095"
      },
      "outputs": [
        {
          "output_type": "stream",
          "name": "stdout",
          "text": [
            "#######  Lasso #######\n",
            "alpha 0.07일 때 5 폴드 세트의 평균 RMSE: 6072.399 \n",
            "alpha 0.1일 때 5 폴드 세트의 평균 RMSE: 6072.395 \n",
            "alpha 0.5일 때 5 폴드 세트의 평균 RMSE: 6072.366 \n",
            "alpha 1일 때 5 폴드 세트의 평균 RMSE: 6072.320 \n",
            "alpha 3일 때 5 폴드 세트의 평균 RMSE: 6072.148 \n"
          ]
        }
      ],
      "source": [
        "lasso_alphas = [ 0.07, 0.1, 0.5, 1, 3]\n",
        "coeff_lasso_df =get_linear_reg_eval('Lasso', params=lasso_alphas, X_data_n=X, y_target_n=y)"
      ]
    },
    {
      "cell_type": "markdown",
      "metadata": {
        "id": "YwiXw8pOlVmn"
      },
      "source": [
        "#### \n",
        "라쏘 회귀에서 alpha 값의 변화에 따른 피처의 회귀 계수 값을 DataFrame으로 출력해주세요."
      ]
    },
    {
      "cell_type": "code",
      "execution_count": 47,
      "metadata": {
        "id": "kEq1NYFklVmn",
        "colab": {
          "base_uri": "https://localhost:8080/",
          "height": 394
        },
        "outputId": "257c2c64-5d6d-4143-ebc6-b0e2f4af39e6"
      },
      "outputs": [
        {
          "output_type": "execute_result",
          "data": {
            "text/plain": [
              "                    alpha:0.07     alpha:0.1     alpha:0.5       alpha:1  \\\n",
              "region_northeast  8.906420e+02  8.904238e+02  8.875057e+02  8.838694e+02   \n",
              "region_northwest  5.376730e+02  5.374526e+02  5.345145e+02  5.308420e+02   \n",
              "children          4.754529e+02  4.754324e+02  4.751596e+02  4.748190e+02   \n",
              "bmi               3.391784e+02  3.391719e+02  3.390871e+02  3.389794e+02   \n",
              "age               2.568568e+02  2.568570e+02  2.568617e+02  2.568650e+02   \n",
              "sex_female        1.310014e+02  1.308673e+02  1.290778e+02  1.268425e+02   \n",
              "smoker_yes        3.308747e-11  1.312002e-11  3.096356e-11  1.891290e-11   \n",
              "sex_male         -1.409344e-13 -0.000000e+00 -0.000000e+00 -7.749906e-14   \n",
              "region_southwest -6.881903e+01 -6.878434e+01 -6.832408e+01 -6.774601e+01   \n",
              "region_southeast -1.437546e+02 -1.437047e+02 -1.430365e+02 -1.422052e+02   \n",
              "smoker_no        -2.384805e+04 -2.384785e+04 -2.384510e+04 -2.384166e+04   \n",
              "\n",
              "                       alpha:3  \n",
              "region_northeast  8.693243e+02  \n",
              "region_northwest  5.161519e+02  \n",
              "children          4.734565e+02  \n",
              "bmi               3.385488e+02  \n",
              "age               2.568784e+02  \n",
              "sex_female        1.179015e+02  \n",
              "smoker_yes        2.418063e-11  \n",
              "sex_male         -0.000000e+00  \n",
              "region_southwest -6.543370e+01  \n",
              "region_southeast -1.388797e+02  \n",
              "smoker_no        -2.382791e+04  "
            ],
            "text/html": [
              "\n",
              "  <div id=\"df-401cb8fb-fc54-465d-8e09-66bcfd1fc24c\">\n",
              "    <div class=\"colab-df-container\">\n",
              "      <div>\n",
              "<style scoped>\n",
              "    .dataframe tbody tr th:only-of-type {\n",
              "        vertical-align: middle;\n",
              "    }\n",
              "\n",
              "    .dataframe tbody tr th {\n",
              "        vertical-align: top;\n",
              "    }\n",
              "\n",
              "    .dataframe thead th {\n",
              "        text-align: right;\n",
              "    }\n",
              "</style>\n",
              "<table border=\"1\" class=\"dataframe\">\n",
              "  <thead>\n",
              "    <tr style=\"text-align: right;\">\n",
              "      <th></th>\n",
              "      <th>alpha:0.07</th>\n",
              "      <th>alpha:0.1</th>\n",
              "      <th>alpha:0.5</th>\n",
              "      <th>alpha:1</th>\n",
              "      <th>alpha:3</th>\n",
              "    </tr>\n",
              "  </thead>\n",
              "  <tbody>\n",
              "    <tr>\n",
              "      <th>region_northeast</th>\n",
              "      <td>8.906420e+02</td>\n",
              "      <td>8.904238e+02</td>\n",
              "      <td>8.875057e+02</td>\n",
              "      <td>8.838694e+02</td>\n",
              "      <td>8.693243e+02</td>\n",
              "    </tr>\n",
              "    <tr>\n",
              "      <th>region_northwest</th>\n",
              "      <td>5.376730e+02</td>\n",
              "      <td>5.374526e+02</td>\n",
              "      <td>5.345145e+02</td>\n",
              "      <td>5.308420e+02</td>\n",
              "      <td>5.161519e+02</td>\n",
              "    </tr>\n",
              "    <tr>\n",
              "      <th>children</th>\n",
              "      <td>4.754529e+02</td>\n",
              "      <td>4.754324e+02</td>\n",
              "      <td>4.751596e+02</td>\n",
              "      <td>4.748190e+02</td>\n",
              "      <td>4.734565e+02</td>\n",
              "    </tr>\n",
              "    <tr>\n",
              "      <th>bmi</th>\n",
              "      <td>3.391784e+02</td>\n",
              "      <td>3.391719e+02</td>\n",
              "      <td>3.390871e+02</td>\n",
              "      <td>3.389794e+02</td>\n",
              "      <td>3.385488e+02</td>\n",
              "    </tr>\n",
              "    <tr>\n",
              "      <th>age</th>\n",
              "      <td>2.568568e+02</td>\n",
              "      <td>2.568570e+02</td>\n",
              "      <td>2.568617e+02</td>\n",
              "      <td>2.568650e+02</td>\n",
              "      <td>2.568784e+02</td>\n",
              "    </tr>\n",
              "    <tr>\n",
              "      <th>sex_female</th>\n",
              "      <td>1.310014e+02</td>\n",
              "      <td>1.308673e+02</td>\n",
              "      <td>1.290778e+02</td>\n",
              "      <td>1.268425e+02</td>\n",
              "      <td>1.179015e+02</td>\n",
              "    </tr>\n",
              "    <tr>\n",
              "      <th>smoker_yes</th>\n",
              "      <td>3.308747e-11</td>\n",
              "      <td>1.312002e-11</td>\n",
              "      <td>3.096356e-11</td>\n",
              "      <td>1.891290e-11</td>\n",
              "      <td>2.418063e-11</td>\n",
              "    </tr>\n",
              "    <tr>\n",
              "      <th>sex_male</th>\n",
              "      <td>-1.409344e-13</td>\n",
              "      <td>-0.000000e+00</td>\n",
              "      <td>-0.000000e+00</td>\n",
              "      <td>-7.749906e-14</td>\n",
              "      <td>-0.000000e+00</td>\n",
              "    </tr>\n",
              "    <tr>\n",
              "      <th>region_southwest</th>\n",
              "      <td>-6.881903e+01</td>\n",
              "      <td>-6.878434e+01</td>\n",
              "      <td>-6.832408e+01</td>\n",
              "      <td>-6.774601e+01</td>\n",
              "      <td>-6.543370e+01</td>\n",
              "    </tr>\n",
              "    <tr>\n",
              "      <th>region_southeast</th>\n",
              "      <td>-1.437546e+02</td>\n",
              "      <td>-1.437047e+02</td>\n",
              "      <td>-1.430365e+02</td>\n",
              "      <td>-1.422052e+02</td>\n",
              "      <td>-1.388797e+02</td>\n",
              "    </tr>\n",
              "    <tr>\n",
              "      <th>smoker_no</th>\n",
              "      <td>-2.384805e+04</td>\n",
              "      <td>-2.384785e+04</td>\n",
              "      <td>-2.384510e+04</td>\n",
              "      <td>-2.384166e+04</td>\n",
              "      <td>-2.382791e+04</td>\n",
              "    </tr>\n",
              "  </tbody>\n",
              "</table>\n",
              "</div>\n",
              "      <button class=\"colab-df-convert\" onclick=\"convertToInteractive('df-401cb8fb-fc54-465d-8e09-66bcfd1fc24c')\"\n",
              "              title=\"Convert this dataframe to an interactive table.\"\n",
              "              style=\"display:none;\">\n",
              "        \n",
              "  <svg xmlns=\"http://www.w3.org/2000/svg\" height=\"24px\"viewBox=\"0 0 24 24\"\n",
              "       width=\"24px\">\n",
              "    <path d=\"M0 0h24v24H0V0z\" fill=\"none\"/>\n",
              "    <path d=\"M18.56 5.44l.94 2.06.94-2.06 2.06-.94-2.06-.94-.94-2.06-.94 2.06-2.06.94zm-11 1L8.5 8.5l.94-2.06 2.06-.94-2.06-.94L8.5 2.5l-.94 2.06-2.06.94zm10 10l.94 2.06.94-2.06 2.06-.94-2.06-.94-.94-2.06-.94 2.06-2.06.94z\"/><path d=\"M17.41 7.96l-1.37-1.37c-.4-.4-.92-.59-1.43-.59-.52 0-1.04.2-1.43.59L10.3 9.45l-7.72 7.72c-.78.78-.78 2.05 0 2.83L4 21.41c.39.39.9.59 1.41.59.51 0 1.02-.2 1.41-.59l7.78-7.78 2.81-2.81c.8-.78.8-2.07 0-2.86zM5.41 20L4 18.59l7.72-7.72 1.47 1.35L5.41 20z\"/>\n",
              "  </svg>\n",
              "      </button>\n",
              "      \n",
              "  <style>\n",
              "    .colab-df-container {\n",
              "      display:flex;\n",
              "      flex-wrap:wrap;\n",
              "      gap: 12px;\n",
              "    }\n",
              "\n",
              "    .colab-df-convert {\n",
              "      background-color: #E8F0FE;\n",
              "      border: none;\n",
              "      border-radius: 50%;\n",
              "      cursor: pointer;\n",
              "      display: none;\n",
              "      fill: #1967D2;\n",
              "      height: 32px;\n",
              "      padding: 0 0 0 0;\n",
              "      width: 32px;\n",
              "    }\n",
              "\n",
              "    .colab-df-convert:hover {\n",
              "      background-color: #E2EBFA;\n",
              "      box-shadow: 0px 1px 2px rgba(60, 64, 67, 0.3), 0px 1px 3px 1px rgba(60, 64, 67, 0.15);\n",
              "      fill: #174EA6;\n",
              "    }\n",
              "\n",
              "    [theme=dark] .colab-df-convert {\n",
              "      background-color: #3B4455;\n",
              "      fill: #D2E3FC;\n",
              "    }\n",
              "\n",
              "    [theme=dark] .colab-df-convert:hover {\n",
              "      background-color: #434B5C;\n",
              "      box-shadow: 0px 1px 3px 1px rgba(0, 0, 0, 0.15);\n",
              "      filter: drop-shadow(0px 1px 2px rgba(0, 0, 0, 0.3));\n",
              "      fill: #FFFFFF;\n",
              "    }\n",
              "  </style>\n",
              "\n",
              "      <script>\n",
              "        const buttonEl =\n",
              "          document.querySelector('#df-401cb8fb-fc54-465d-8e09-66bcfd1fc24c button.colab-df-convert');\n",
              "        buttonEl.style.display =\n",
              "          google.colab.kernel.accessAllowed ? 'block' : 'none';\n",
              "\n",
              "        async function convertToInteractive(key) {\n",
              "          const element = document.querySelector('#df-401cb8fb-fc54-465d-8e09-66bcfd1fc24c');\n",
              "          const dataTable =\n",
              "            await google.colab.kernel.invokeFunction('convertToInteractive',\n",
              "                                                     [key], {});\n",
              "          if (!dataTable) return;\n",
              "\n",
              "          const docLinkHtml = 'Like what you see? Visit the ' +\n",
              "            '<a target=\"_blank\" href=https://colab.research.google.com/notebooks/data_table.ipynb>data table notebook</a>'\n",
              "            + ' to learn more about interactive tables.';\n",
              "          element.innerHTML = '';\n",
              "          dataTable['output_type'] = 'display_data';\n",
              "          await google.colab.output.renderOutput(dataTable, element);\n",
              "          const docLink = document.createElement('div');\n",
              "          docLink.innerHTML = docLinkHtml;\n",
              "          element.appendChild(docLink);\n",
              "        }\n",
              "      </script>\n",
              "    </div>\n",
              "  </div>\n",
              "  "
            ]
          },
          "metadata": {},
          "execution_count": 47
        }
      ],
      "source": [
        "sort_column = 'alpha:'+str(lasso_alphas[0])\n",
        "coeff_lasso_df.sort_values(by=sort_column, ascending=False)"
      ]
    },
    {
      "cell_type": "markdown",
      "metadata": {
        "id": "cA7fxkTclVmn"
      },
      "source": [
        "#### \n",
        "alpha 값의 변화에 따른 엘라스틱넷 회귀를 수행해보겠습니다. l1_ratio는 0.5로 고정하겠습니다.\n",
        "엘라스틱넷의 alpha 값을 0.07, 0.1, 0.5, 1, 3으로 변화시키면서 cv=5인 교차검증을 수행하고, 그에 따른 RMSE의 평균값을 출력해주세요.\n",
        "\n",
        "alphas = [0.07, 0.1, 0.5, 1, 3]"
      ]
    },
    {
      "cell_type": "code",
      "execution_count": 48,
      "metadata": {
        "id": "ROGwsaxClVmo"
      },
      "outputs": [],
      "source": [
        "from sklearn.linear_model import ElasticNet"
      ]
    },
    {
      "cell_type": "code",
      "execution_count": 49,
      "metadata": {
        "id": "M7EDHBxmlVmo",
        "colab": {
          "base_uri": "https://localhost:8080/"
        },
        "outputId": "2187758a-d53b-42cc-9081-f77500e6934a"
      },
      "outputs": [
        {
          "output_type": "stream",
          "name": "stdout",
          "text": [
            "alpha0.07 일 때 5 folds의 평균 RMSE : 6144.261\n",
            "alpha0.1 일 때 5 folds의 평균 RMSE : 6207.109\n",
            "alpha0.5 일 때 5 folds의 평균 RMSE : 7374.070\n",
            "alpha1 일 때 5 folds의 평균 RMSE : 8413.731\n",
            "alpha3 일 때 5 folds의 평균 RMSE : 9961.236\n"
          ]
        }
      ],
      "source": [
        "alphas = [0.07, 0.1, 0.5, 1, 3]\n",
        "\n",
        "for alpha in alphas:\n",
        "    elastic = ElasticNet(alpha=alpha)\n",
        "    neg_mse_scores = cross_val_score(elastic, X, y, scoring=\"neg_mean_squared_error\", cv=5)\n",
        "    avg_rmse = np.mean(np.sqrt(-1*neg_mse_scores))\n",
        "    print(\"alpha{0} 일 때 5 folds의 평균 RMSE : {1:.3f}\".format(alpha, avg_rmse))"
      ]
    },
    {
      "cell_type": "markdown",
      "metadata": {
        "id": "O_RhLvm4lVmo"
      },
      "source": [
        "#### \n",
        "엘라스틱 회귀에서 alpha 값의 변화에 따른 피처의 회귀 계수 값을 DataFrame으로 출력해주세요."
      ]
    },
    {
      "cell_type": "code",
      "execution_count": 50,
      "metadata": {
        "id": "8s2GRcx9lVmo",
        "colab": {
          "base_uri": "https://localhost:8080/",
          "height": 394
        },
        "outputId": "145a617c-9f4c-48f1-d21b-439114ca201e"
      },
      "outputs": [
        {
          "output_type": "execute_result",
          "data": {
            "text/plain": [
              "                    alpha:0.07     alpha:0.1    alpha:0.5      alpha:1  \\\n",
              "smoker_yes        10753.802509  10320.281145  6719.914886  4683.535228   \n",
              "region_northeast    515.196732    489.587745   294.719264   196.326918   \n",
              "children            471.583750    469.455230   431.963218   384.815364   \n",
              "bmi                 334.656475    333.191126   324.813852   322.072216   \n",
              "age                 255.525975    255.015668   250.419836   247.519072   \n",
              "region_northwest    150.249808    123.513992   -19.145061   -47.240585   \n",
              "sex_male              5.180770     29.037902   167.890560   188.468297   \n",
              "sex_female           -5.160047    -29.021618  -167.940443  -188.475367   \n",
              "region_southeast   -290.330866   -239.811660    33.587432    89.245469   \n",
              "region_southwest   -375.071052   -373.249730  -309.148499  -238.331498   \n",
              "smoker_no        -10754.001411 -10320.459979 -6719.963604 -4683.536279   \n",
              "\n",
              "                      alpha:3  \n",
              "smoker_yes        2119.079972  \n",
              "region_northeast    82.358766  \n",
              "children           261.220919  \n",
              "bmi                315.997687  \n",
              "age                243.229559  \n",
              "region_northwest   -38.906154  \n",
              "sex_male           133.966138  \n",
              "sex_female        -133.966258  \n",
              "region_southeast    75.580248  \n",
              "region_southwest  -119.032874  \n",
              "smoker_no        -2119.079976  "
            ],
            "text/html": [
              "\n",
              "  <div id=\"df-d79eb570-5957-4a25-be5e-5a9cba028bf0\">\n",
              "    <div class=\"colab-df-container\">\n",
              "      <div>\n",
              "<style scoped>\n",
              "    .dataframe tbody tr th:only-of-type {\n",
              "        vertical-align: middle;\n",
              "    }\n",
              "\n",
              "    .dataframe tbody tr th {\n",
              "        vertical-align: top;\n",
              "    }\n",
              "\n",
              "    .dataframe thead th {\n",
              "        text-align: right;\n",
              "    }\n",
              "</style>\n",
              "<table border=\"1\" class=\"dataframe\">\n",
              "  <thead>\n",
              "    <tr style=\"text-align: right;\">\n",
              "      <th></th>\n",
              "      <th>alpha:0.07</th>\n",
              "      <th>alpha:0.1</th>\n",
              "      <th>alpha:0.5</th>\n",
              "      <th>alpha:1</th>\n",
              "      <th>alpha:3</th>\n",
              "    </tr>\n",
              "  </thead>\n",
              "  <tbody>\n",
              "    <tr>\n",
              "      <th>smoker_yes</th>\n",
              "      <td>10753.802509</td>\n",
              "      <td>10320.281145</td>\n",
              "      <td>6719.914886</td>\n",
              "      <td>4683.535228</td>\n",
              "      <td>2119.079972</td>\n",
              "    </tr>\n",
              "    <tr>\n",
              "      <th>region_northeast</th>\n",
              "      <td>515.196732</td>\n",
              "      <td>489.587745</td>\n",
              "      <td>294.719264</td>\n",
              "      <td>196.326918</td>\n",
              "      <td>82.358766</td>\n",
              "    </tr>\n",
              "    <tr>\n",
              "      <th>children</th>\n",
              "      <td>471.583750</td>\n",
              "      <td>469.455230</td>\n",
              "      <td>431.963218</td>\n",
              "      <td>384.815364</td>\n",
              "      <td>261.220919</td>\n",
              "    </tr>\n",
              "    <tr>\n",
              "      <th>bmi</th>\n",
              "      <td>334.656475</td>\n",
              "      <td>333.191126</td>\n",
              "      <td>324.813852</td>\n",
              "      <td>322.072216</td>\n",
              "      <td>315.997687</td>\n",
              "    </tr>\n",
              "    <tr>\n",
              "      <th>age</th>\n",
              "      <td>255.525975</td>\n",
              "      <td>255.015668</td>\n",
              "      <td>250.419836</td>\n",
              "      <td>247.519072</td>\n",
              "      <td>243.229559</td>\n",
              "    </tr>\n",
              "    <tr>\n",
              "      <th>region_northwest</th>\n",
              "      <td>150.249808</td>\n",
              "      <td>123.513992</td>\n",
              "      <td>-19.145061</td>\n",
              "      <td>-47.240585</td>\n",
              "      <td>-38.906154</td>\n",
              "    </tr>\n",
              "    <tr>\n",
              "      <th>sex_male</th>\n",
              "      <td>5.180770</td>\n",
              "      <td>29.037902</td>\n",
              "      <td>167.890560</td>\n",
              "      <td>188.468297</td>\n",
              "      <td>133.966138</td>\n",
              "    </tr>\n",
              "    <tr>\n",
              "      <th>sex_female</th>\n",
              "      <td>-5.160047</td>\n",
              "      <td>-29.021618</td>\n",
              "      <td>-167.940443</td>\n",
              "      <td>-188.475367</td>\n",
              "      <td>-133.966258</td>\n",
              "    </tr>\n",
              "    <tr>\n",
              "      <th>region_southeast</th>\n",
              "      <td>-290.330866</td>\n",
              "      <td>-239.811660</td>\n",
              "      <td>33.587432</td>\n",
              "      <td>89.245469</td>\n",
              "      <td>75.580248</td>\n",
              "    </tr>\n",
              "    <tr>\n",
              "      <th>region_southwest</th>\n",
              "      <td>-375.071052</td>\n",
              "      <td>-373.249730</td>\n",
              "      <td>-309.148499</td>\n",
              "      <td>-238.331498</td>\n",
              "      <td>-119.032874</td>\n",
              "    </tr>\n",
              "    <tr>\n",
              "      <th>smoker_no</th>\n",
              "      <td>-10754.001411</td>\n",
              "      <td>-10320.459979</td>\n",
              "      <td>-6719.963604</td>\n",
              "      <td>-4683.536279</td>\n",
              "      <td>-2119.079976</td>\n",
              "    </tr>\n",
              "  </tbody>\n",
              "</table>\n",
              "</div>\n",
              "      <button class=\"colab-df-convert\" onclick=\"convertToInteractive('df-d79eb570-5957-4a25-be5e-5a9cba028bf0')\"\n",
              "              title=\"Convert this dataframe to an interactive table.\"\n",
              "              style=\"display:none;\">\n",
              "        \n",
              "  <svg xmlns=\"http://www.w3.org/2000/svg\" height=\"24px\"viewBox=\"0 0 24 24\"\n",
              "       width=\"24px\">\n",
              "    <path d=\"M0 0h24v24H0V0z\" fill=\"none\"/>\n",
              "    <path d=\"M18.56 5.44l.94 2.06.94-2.06 2.06-.94-2.06-.94-.94-2.06-.94 2.06-2.06.94zm-11 1L8.5 8.5l.94-2.06 2.06-.94-2.06-.94L8.5 2.5l-.94 2.06-2.06.94zm10 10l.94 2.06.94-2.06 2.06-.94-2.06-.94-.94-2.06-.94 2.06-2.06.94z\"/><path d=\"M17.41 7.96l-1.37-1.37c-.4-.4-.92-.59-1.43-.59-.52 0-1.04.2-1.43.59L10.3 9.45l-7.72 7.72c-.78.78-.78 2.05 0 2.83L4 21.41c.39.39.9.59 1.41.59.51 0 1.02-.2 1.41-.59l7.78-7.78 2.81-2.81c.8-.78.8-2.07 0-2.86zM5.41 20L4 18.59l7.72-7.72 1.47 1.35L5.41 20z\"/>\n",
              "  </svg>\n",
              "      </button>\n",
              "      \n",
              "  <style>\n",
              "    .colab-df-container {\n",
              "      display:flex;\n",
              "      flex-wrap:wrap;\n",
              "      gap: 12px;\n",
              "    }\n",
              "\n",
              "    .colab-df-convert {\n",
              "      background-color: #E8F0FE;\n",
              "      border: none;\n",
              "      border-radius: 50%;\n",
              "      cursor: pointer;\n",
              "      display: none;\n",
              "      fill: #1967D2;\n",
              "      height: 32px;\n",
              "      padding: 0 0 0 0;\n",
              "      width: 32px;\n",
              "    }\n",
              "\n",
              "    .colab-df-convert:hover {\n",
              "      background-color: #E2EBFA;\n",
              "      box-shadow: 0px 1px 2px rgba(60, 64, 67, 0.3), 0px 1px 3px 1px rgba(60, 64, 67, 0.15);\n",
              "      fill: #174EA6;\n",
              "    }\n",
              "\n",
              "    [theme=dark] .colab-df-convert {\n",
              "      background-color: #3B4455;\n",
              "      fill: #D2E3FC;\n",
              "    }\n",
              "\n",
              "    [theme=dark] .colab-df-convert:hover {\n",
              "      background-color: #434B5C;\n",
              "      box-shadow: 0px 1px 3px 1px rgba(0, 0, 0, 0.15);\n",
              "      filter: drop-shadow(0px 1px 2px rgba(0, 0, 0, 0.3));\n",
              "      fill: #FFFFFF;\n",
              "    }\n",
              "  </style>\n",
              "\n",
              "      <script>\n",
              "        const buttonEl =\n",
              "          document.querySelector('#df-d79eb570-5957-4a25-be5e-5a9cba028bf0 button.colab-df-convert');\n",
              "        buttonEl.style.display =\n",
              "          google.colab.kernel.accessAllowed ? 'block' : 'none';\n",
              "\n",
              "        async function convertToInteractive(key) {\n",
              "          const element = document.querySelector('#df-d79eb570-5957-4a25-be5e-5a9cba028bf0');\n",
              "          const dataTable =\n",
              "            await google.colab.kernel.invokeFunction('convertToInteractive',\n",
              "                                                     [key], {});\n",
              "          if (!dataTable) return;\n",
              "\n",
              "          const docLinkHtml = 'Like what you see? Visit the ' +\n",
              "            '<a target=\"_blank\" href=https://colab.research.google.com/notebooks/data_table.ipynb>data table notebook</a>'\n",
              "            + ' to learn more about interactive tables.';\n",
              "          element.innerHTML = '';\n",
              "          dataTable['output_type'] = 'display_data';\n",
              "          await google.colab.output.renderOutput(dataTable, element);\n",
              "          const docLink = document.createElement('div');\n",
              "          docLink.innerHTML = docLinkHtml;\n",
              "          element.appendChild(docLink);\n",
              "        }\n",
              "      </script>\n",
              "    </div>\n",
              "  </div>\n",
              "  "
            ]
          },
          "metadata": {},
          "execution_count": 50
        }
      ],
      "source": [
        "coeff_df = pd.DataFrame()\n",
        "for alpha in alphas :\n",
        "    elastic= ElasticNet(alpha=alpha)\n",
        "    elastic.fit(X,y)\n",
        "    coeff = pd.Series(data=elastic.coef_,index=X.columns)\n",
        "    colname = \"alpha:\"+str(alpha)\n",
        "    coeff_df[colname] = coeff\n",
        "elastic_alphas = [0.07, 0.1, 0.5, 1, 3]\n",
        "sort_column = \"alpha:\"+str(elastic_alphas[0])\n",
        "coeff_df.sort_values(by=sort_column,ascending=False)"
      ]
    },
    {
      "cell_type": "markdown",
      "source": [],
      "metadata": {
        "id": "14p8e-mDlqW8"
      }
    },
    {
      "cell_type": "markdown",
      "metadata": {
        "id": "f407284e"
      },
      "source": [
        "### 4.Logistic Regression"
      ]
    },
    {
      "cell_type": "markdown",
      "metadata": {
        "id": "9779e9ca"
      },
      "source": [
        "Dataset <fish.csv>를 다운 받아주세요!\n",
        "#### fish의 Weight, Length, Diagnal, Height, Width 정보를 바탕으로 fish의 Species를 분류하는 예제"
      ]
    },
    {
      "cell_type": "code",
      "execution_count": 51,
      "metadata": {
        "id": "b469cf2d"
      },
      "outputs": [],
      "source": [
        "import pandas as pd\n",
        "import matplotlib.pyplot as plt\n",
        "%matplotlib inline\n",
        "\n",
        "from sklearn.linear_model import LogisticRegression\n",
        "from sklearn.preprocessing import StandardScaler\n",
        "from sklearn.model_selection import train_test_split\n",
        "from sklearn.metrics import accuracy_score, roc_auc_score"
      ]
    },
    {
      "cell_type": "markdown",
      "metadata": {
        "id": "144dc02f"
      },
      "source": [
        "#### 'fish.csv'로 fish_df를 생성하세요"
      ]
    },
    {
      "cell_type": "code",
      "execution_count": 52,
      "metadata": {
        "id": "5d3c414e"
      },
      "outputs": [],
      "source": [
        "fish_df = pd.read_csv(\"/content/gdrive/MyDrive/euron study/csv파일/fish.csv\")"
      ]
    },
    {
      "cell_type": "markdown",
      "metadata": {
        "id": "cc69628b"
      },
      "source": [
        "#### fish 데이터 세트의 target 배열은 Species입니다.\n",
        "#### fish_df를 y_target, X_data로 분리해주세요"
      ]
    },
    {
      "cell_type": "code",
      "execution_count": 53,
      "metadata": {
        "id": "e1145d38"
      },
      "outputs": [],
      "source": [
        "y_target = fish_df['Species']\n",
        "X_data = fish_df.drop(['Species'],axis=1)"
      ]
    },
    {
      "cell_type": "markdown",
      "metadata": {
        "id": "6074f2ca"
      },
      "source": [
        "#### X_data와 y_target을 X_train, X_test, y_train, y_test으로 나누세요. (test_size=0.3, random_state=42)"
      ]
    },
    {
      "cell_type": "code",
      "execution_count": 54,
      "metadata": {
        "id": "d5408f21"
      },
      "outputs": [],
      "source": [
        "X_train, X_test, y_train, y_test = train_test_split(X_data, y_target, test_size=0.3, random_state=42)\n"
      ]
    },
    {
      "cell_type": "markdown",
      "metadata": {
        "id": "0c98d57d"
      },
      "source": [
        "#### StandardScaler를 이용해 데이터 변환을 해주세요"
      ]
    },
    {
      "cell_type": "code",
      "execution_count": 55,
      "metadata": {
        "id": "25bcede9"
      },
      "outputs": [],
      "source": [
        "scaler = StandardScaler()\n",
        "X_train_scaled = scaler.fit_transform(X_train)\n",
        "X_test_scaled = scaler.fit_transform(X_test)"
      ]
    },
    {
      "cell_type": "markdown",
      "metadata": {
        "id": "4f845462"
      },
      "source": [
        "#### 로지스틱 회귀를 이용해서 학습 및 예측을 수행하고 정확도와 ROC-AUC값을 구하세요 (solver = liblinear, C=20, max_iter=1000)"
      ]
    },
    {
      "cell_type": "code",
      "execution_count": 58,
      "metadata": {
        "scrolled": true,
        "id": "781ed2ab",
        "colab": {
          "base_uri": "https://localhost:8080/"
        },
        "outputId": "0bfb8e70-2782-4ce3-f79b-0caccc61cce3"
      },
      "outputs": [
        {
          "output_type": "stream",
          "name": "stdout",
          "text": [
            "accuracy: 0.917\n",
            "roc_auc: 0.972\n"
          ]
        }
      ],
      "source": [
        "from sklearn.metrics import accuracy_score, roc_auc_score\n",
        "\n",
        "lr_clf = LogisticRegression(solver = 'liblinear',C = 20, max_iter = 1000)\n",
        "lr_clf.fit(X_train_scaled, y_train)\n",
        "lr_preds = lr_clf.predict(X_test_scaled)\n",
        "lr_preds_proba = lr_clf.predict_proba(X_test_scaled)\n",
        "print('accuracy: {:0.3f}'.format(accuracy_score(y_test,lr_preds))) \n",
        "print('roc_auc: {:0.3f}'.format(roc_auc_score(y_test,lr_preds_proba,multi_class = 'ovr')))"
      ]
    }
  ],
  "metadata": {
    "colab": {
      "collapsed_sections": [
        "vZh2wtSK_v2E",
        "bzsLscDMAOPz",
        "7uONtY-DlVmk",
        "f407284e"
      ],
      "provenance": [],
      "include_colab_link": true
    },
    "hide_input": false,
    "kernelspec": {
      "display_name": "Python 3 (ipykernel)",
      "language": "python",
      "name": "python3"
    },
    "language_info": {
      "codemirror_mode": {
        "name": "ipython",
        "version": 3
      },
      "file_extension": ".py",
      "mimetype": "text/x-python",
      "name": "python",
      "nbconvert_exporter": "python",
      "pygments_lexer": "ipython3",
      "version": "3.9.12"
    },
    "toc": {
      "base_numbering": 1,
      "nav_menu": {},
      "number_sections": true,
      "sideBar": true,
      "skip_h1_title": false,
      "title_cell": "Table of Contents",
      "title_sidebar": "Contents",
      "toc_cell": false,
      "toc_position": {},
      "toc_section_display": true,
      "toc_window_display": false
    }
  },
  "nbformat": 4,
  "nbformat_minor": 0
}