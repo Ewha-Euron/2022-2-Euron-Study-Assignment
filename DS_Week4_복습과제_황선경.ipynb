{
 "cells": [
  {
   "cell_type": "markdown",
   "id": "6f12edaf",
   "metadata": {
    "id": "6f12edaf"
   },
   "source": [
    "##  Week4 복습과제\n",
    "\n",
    "Week3에 대한 복습과제입니다.  \n",
    "데이터셋(train.csv, mushrooms.csv)을 다운 받아주세요!"
   ]
  },
  {
   "cell_type": "code",
   "execution_count": 1,
   "id": "6719779b",
   "metadata": {
    "id": "6719779b"
   },
   "outputs": [],
   "source": [
    "import pandas as pd\n",
    "import numpy as np\n",
    "import matplotlib.pyplot as plt\n",
    "import seaborn as sns\n",
    "import warnings\n",
    "warnings.filterwarnings('ignore')"
   ]
  },
  {
   "cell_type": "markdown",
   "id": "47bb9a03",
   "metadata": {
    "id": "47bb9a03"
   },
   "source": [
    "#### 'train.csv'으로 train_df를 생성하세요."
   ]
  },
  {
   "cell_type": "code",
   "execution_count": 2,
   "id": "979db9e6",
   "metadata": {
    "id": "979db9e6"
   },
   "outputs": [],
   "source": [
    "train_df = pd.read_csv('train.csv')"
   ]
  },
  {
   "cell_type": "markdown",
   "id": "0874e7b6",
   "metadata": {
    "id": "0874e7b6"
   },
   "source": [
    "#### 데이터 보정을 위해 다음 코드를 실행시켜 주세요."
   ]
  },
  {
   "cell_type": "code",
   "execution_count": 3,
   "id": "d824c2ee",
   "metadata": {
    "id": "d824c2ee"
   },
   "outputs": [],
   "source": [
    "# id 제외\n",
    "\n",
    "train_df = train_df.drop(\"id\", axis = 1)"
   ]
  },
  {
   "cell_type": "code",
   "execution_count": 4,
   "id": "4b59d8a5",
   "metadata": {},
   "outputs": [
    {
     "data": {
      "text/html": [
       "<div>\n",
       "<style scoped>\n",
       "    .dataframe tbody tr th:only-of-type {\n",
       "        vertical-align: middle;\n",
       "    }\n",
       "\n",
       "    .dataframe tbody tr th {\n",
       "        vertical-align: top;\n",
       "    }\n",
       "\n",
       "    .dataframe thead th {\n",
       "        text-align: right;\n",
       "    }\n",
       "</style>\n",
       "<table border=\"1\" class=\"dataframe\">\n",
       "  <thead>\n",
       "    <tr style=\"text-align: right;\">\n",
       "      <th></th>\n",
       "      <th>bone_length</th>\n",
       "      <th>rotting_flesh</th>\n",
       "      <th>hair_length</th>\n",
       "      <th>has_soul</th>\n",
       "      <th>color</th>\n",
       "      <th>type</th>\n",
       "    </tr>\n",
       "  </thead>\n",
       "  <tbody>\n",
       "    <tr>\n",
       "      <th>0</th>\n",
       "      <td>0.354512</td>\n",
       "      <td>0.350839</td>\n",
       "      <td>0.465761</td>\n",
       "      <td>0.781142</td>\n",
       "      <td>clear</td>\n",
       "      <td>Ghoul</td>\n",
       "    </tr>\n",
       "    <tr>\n",
       "      <th>1</th>\n",
       "      <td>0.575560</td>\n",
       "      <td>0.425868</td>\n",
       "      <td>0.531401</td>\n",
       "      <td>0.439899</td>\n",
       "      <td>green</td>\n",
       "      <td>Goblin</td>\n",
       "    </tr>\n",
       "    <tr>\n",
       "      <th>2</th>\n",
       "      <td>0.467875</td>\n",
       "      <td>0.354330</td>\n",
       "      <td>0.811616</td>\n",
       "      <td>0.791225</td>\n",
       "      <td>black</td>\n",
       "      <td>Ghoul</td>\n",
       "    </tr>\n",
       "    <tr>\n",
       "      <th>3</th>\n",
       "      <td>0.776652</td>\n",
       "      <td>0.508723</td>\n",
       "      <td>0.636766</td>\n",
       "      <td>0.884464</td>\n",
       "      <td>black</td>\n",
       "      <td>Ghoul</td>\n",
       "    </tr>\n",
       "    <tr>\n",
       "      <th>4</th>\n",
       "      <td>0.566117</td>\n",
       "      <td>0.875862</td>\n",
       "      <td>0.418594</td>\n",
       "      <td>0.636438</td>\n",
       "      <td>green</td>\n",
       "      <td>Ghost</td>\n",
       "    </tr>\n",
       "  </tbody>\n",
       "</table>\n",
       "</div>"
      ],
      "text/plain": [
       "   bone_length  rotting_flesh  hair_length  has_soul  color    type\n",
       "0     0.354512       0.350839     0.465761  0.781142  clear   Ghoul\n",
       "1     0.575560       0.425868     0.531401  0.439899  green  Goblin\n",
       "2     0.467875       0.354330     0.811616  0.791225  black   Ghoul\n",
       "3     0.776652       0.508723     0.636766  0.884464  black   Ghoul\n",
       "4     0.566117       0.875862     0.418594  0.636438  green   Ghost"
      ]
     },
     "execution_count": 4,
     "metadata": {},
     "output_type": "execute_result"
    }
   ],
   "source": [
    "train_df.head()"
   ]
  },
  {
   "cell_type": "markdown",
   "id": "TkcOzV_k1Fvg",
   "metadata": {
    "id": "TkcOzV_k1Fvg"
   },
   "source": [
    "#### LabelEncoder를 사용해 color, type column을 인코딩한 train_df를 만드시오."
   ]
  },
  {
   "cell_type": "code",
   "execution_count": 5,
   "id": "FrkaPft31OaX",
   "metadata": {
    "id": "FrkaPft31OaX"
   },
   "outputs": [
    {
     "name": "stdout",
     "output_type": "stream",
     "text": [
      "5    137\n",
      "3    120\n",
      "4     42\n",
      "0     41\n",
      "2     19\n",
      "1     12\n",
      "Name: color, dtype: int64\n",
      "1    129\n",
      "2    125\n",
      "0    117\n",
      "Name: type, dtype: int64\n"
     ]
    }
   ],
   "source": [
    "from sklearn.preprocessing import LabelEncoder\n",
    "\n",
    "items = ['color', 'type']\n",
    "\n",
    "for item in items:\n",
    "    encoder = LabelEncoder()\n",
    "    train_df[item] = encoder.fit_transform(train_df[item])\n",
    "    print(train_df[item].value_counts())"
   ]
  },
  {
   "cell_type": "markdown",
   "id": "i9vP5ij_1s_6",
   "metadata": {
    "id": "i9vP5ij_1s_6"
   },
   "source": [
    "#### feature간의 상관관계를 확인하는 heatmap을 출력하시오."
   ]
  },
  {
   "cell_type": "code",
   "execution_count": 6,
   "id": "jlYIKAtf1Yb2",
   "metadata": {
    "id": "jlYIKAtf1Yb2"
   },
   "outputs": [
    {
     "data": {
      "text/plain": [
       "<AxesSubplot:>"
      ]
     },
     "execution_count": 6,
     "metadata": {},
     "output_type": "execute_result"
    },
    {
     "data": {
      "image/png": "[encoded data removed]",
      "text/plain": [
       "<Figure size 648x648 with 2 Axes>"
      ]
     },
     "metadata": {
      "needs_background": "light"
     },
     "output_type": "display_data"
    }
   ],
   "source": [
    "import seaborn as sns\n",
    "\n",
    "plt.figure(figsize=(9,9))\n",
    "sns.heatmap(train_df.corr(), annot=True)"
   ]
  },
  {
   "cell_type": "markdown",
   "id": "dffe9164",
   "metadata": {
    "id": "dffe9164"
   },
   "source": [
    "#### 독립변수(X)와 종속변수(y-type)로 분리해주세요(iloc 또는 loc 활용) 그리고 확인해주세요.\n",
    "#### X와 y를 X_train, X_test, y_train, y_test으로 나누시오. (test_size=0.2, random_state=12) "
   ]
  },
  {
   "cell_type": "code",
   "execution_count": 46,
   "id": "e1f4fb30",
   "metadata": {
    "id": "e1f4fb30"
   },
   "outputs": [],
   "source": [
    "from sklearn.model_selection import train_test_split"
   ]
  },
  {
   "cell_type": "code",
   "execution_count": 47,
   "id": "94f2a85c",
   "metadata": {
    "id": "94f2a85c"
   },
   "outputs": [],
   "source": [
    "X_train_df = train_df.iloc[:,:-1]\n",
    "y_train_df = train_df.iloc[:,-1]"
   ]
  },
  {
   "cell_type": "code",
   "execution_count": 48,
   "id": "CLhsKqQ84yHU",
   "metadata": {
    "id": "CLhsKqQ84yHU"
   },
   "outputs": [],
   "source": [
    "X_train, X_test, y_train, y_test = train_test_split(X_train_df, y_train_df, test_size=0.2, random_state=12)"
   ]
  },
  {
   "cell_type": "markdown",
   "id": "RRRzgi_KhGDC",
   "metadata": {
    "id": "RRRzgi_KhGDC"
   },
   "source": [
    "#### Gradient Boost를 활용하여 train 세트를 fit 한 후 test 세트로 예측의 정확도를 출력하시오. (random_state=0,n_estimators=50,learning_rate=0.5)\n"
   ]
  },
  {
   "cell_type": "code",
   "execution_count": 10,
   "id": "0S0xMFdDgcLb",
   "metadata": {
    "id": "0S0xMFdDgcLb"
   },
   "outputs": [],
   "source": [
    "from sklearn.ensemble import GradientBoostingClassifier\n",
    "\n",
    "from sklearn.metrics import accuracy_score"
   ]
  },
  {
   "cell_type": "code",
   "execution_count": 11,
   "id": "LZhBzjGYhrc1",
   "metadata": {
    "id": "LZhBzjGYhrc1"
   },
   "outputs": [
    {
     "name": "stdout",
     "output_type": "stream",
     "text": [
      "Gradient Boost 예측 정확도: 0.7067\n"
     ]
    }
   ],
   "source": [
    "gb_clf = GradientBoostingClassifier(random_state=0, n_estimators=50, learning_rate=0.5)\n",
    "gb_clf.fit(X_train, y_train)\n",
    "gb_pred = gb_clf.predict(X_test)\n",
    "gb_accuracy = accuracy_score(y_test,gb_pred)\n",
    "\n",
    "print('Gradient Boost 예측 정확도: {0:.4f}'.format(gb_accuracy))"
   ]
  },
  {
   "cell_type": "markdown",
   "id": "vd_H18-5hz8o",
   "metadata": {
    "id": "vd_H18-5hz8o"
   },
   "source": [
    "#### GBM 하이퍼 파라미터 튜닝을 한 후, 최적의 하이퍼 파라미터를 구하고 정확도를 출력하시오. 위의 값과 정확도를 비교하시오. 이때 n_estimators는 50,100,500, learning_rate는 0.005, 0.1, 0.5,1,10 을 변수로 넣으시오.(gridsearchCV이용,cv=2,verbose=1)"
   ]
  },
  {
   "cell_type": "code",
   "execution_count": 12,
   "id": "e8l6ivZ7hwQI",
   "metadata": {
    "id": "e8l6ivZ7hwQI"
   },
   "outputs": [
    {
     "name": "stdout",
     "output_type": "stream",
     "text": [
      "Fitting 2 folds for each of 15 candidates, totalling 30 fits\n",
      "최적 하이퍼 파라미터:\n",
      " GradientBoostingClassifier(learning_rate=0.005, n_estimators=500,\n",
      "                           random_state=0)\n",
      "최고 예측 정확도: 0.7095\n"
     ]
    }
   ],
   "source": [
    "from sklearn.model_selection import GridSearchCV\n",
    "\n",
    "params = {\n",
    "    'n_estimators':[50, 100, 500],\n",
    "    'learning_rate':[0.005, 0.1, 0.5, 1, 10]\n",
    "}\n",
    "\n",
    "grid_cv = GridSearchCV(gb_clf, param_grid=params, cv=2, verbose=1)\n",
    "grid_cv.fit(X_train, y_train)\n",
    "print('최적 하이퍼 파라미터:\\n', grid_cv.best_estimator_)\n",
    "print('최고 예측 정확도: {0:.4f}'.format(grid_cv.best_score_))"
   ]
  },
  {
   "cell_type": "markdown",
   "id": "e4f87798",
   "metadata": {
    "id": "e4f87798"
   },
   "source": [
    "#### 사이킷런 래퍼 클래스 XGBoost를 사용해 train 세트를 fit 한 후 test 세트로 예측의 정확도를 출력하시오. (n_estimators=400, learning_rate = 0.1, max_depth = 3)"
   ]
  },
  {
   "cell_type": "code",
   "execution_count": 13,
   "id": "31188f82",
   "metadata": {
    "id": "31188f82"
   },
   "outputs": [],
   "source": [
    "import xgboost as xgb\n",
    "from xgboost import plot_importance\n",
    "from xgboost import XGBClassifier\n",
    "\n",
    "from sklearn.metrics import accuracy_score"
   ]
  },
  {
   "cell_type": "code",
   "execution_count": 14,
   "id": "af980052",
   "metadata": {
    "id": "af980052"
   },
   "outputs": [
    {
     "name": "stdout",
     "output_type": "stream",
     "text": [
      "[16:59:00] WARNING: ..\\src\\learner.cc:1115: Starting in XGBoost 1.3.0, the default evaluation metric used with the objective 'multi:softprob' was changed from 'merror' to 'mlogloss'. Explicitly set eval_metric if you'd like to restore the old behavior.\n",
      "XGBoost 예측 정확도: 0.6800\n"
     ]
    }
   ],
   "source": [
    "xgb = XGBClassifier(n_estimators=400, learning_rate=0.1, max_depth=3)\n",
    "xgb.fit(X_train, y_train)\n",
    "xgb_pred = xgb.predict(X_test)\n",
    "xgb_accuracy = accuracy_score(y_test, xgb_pred)\n",
    "print('XGBoost 예측 정확도: {0:.4f}'.format(xgb_accuracy))"
   ]
  },
  {
   "cell_type": "markdown",
   "id": "8cbca7f7",
   "metadata": {
    "id": "8cbca7f7"
   },
   "source": [
    "#### 사이킷런 래퍼 클래스 LightGBM를 사용해 train 세트를 fit 한 후 test 세트로 예측의 정확도를 출력하시오. \n",
    "\n",
    "n_estimators=400\n",
    "조기 중단 파라미터: early_stopping_rounds=100, eval_metric=\"logloss\",  eval_set=evals "
   ]
  },
  {
   "cell_type": "code",
   "execution_count": 15,
   "id": "b0debb5b",
   "metadata": {
    "id": "b0debb5b"
   },
   "outputs": [
    {
     "name": "stdout",
     "output_type": "stream",
     "text": [
      "[1]\tvalid_0's multi_logloss: 1.04658\n",
      "[2]\tvalid_0's multi_logloss: 0.991864\n",
      "[3]\tvalid_0's multi_logloss: 0.961098\n",
      "[4]\tvalid_0's multi_logloss: 0.922715\n",
      "[5]\tvalid_0's multi_logloss: 0.889621\n",
      "[6]\tvalid_0's multi_logloss: 0.860335\n",
      "[7]\tvalid_0's multi_logloss: 0.838603\n",
      "[8]\tvalid_0's multi_logloss: 0.823945\n",
      "[9]\tvalid_0's multi_logloss: 0.808374\n",
      "[10]\tvalid_0's multi_logloss: 0.794635\n",
      "[11]\tvalid_0's multi_logloss: 0.787051\n",
      "[12]\tvalid_0's multi_logloss: 0.779236\n",
      "[13]\tvalid_0's multi_logloss: 0.772983\n",
      "[14]\tvalid_0's multi_logloss: 0.764275\n",
      "[15]\tvalid_0's multi_logloss: 0.752906\n",
      "[16]\tvalid_0's multi_logloss: 0.746936\n",
      "[17]\tvalid_0's multi_logloss: 0.748563\n",
      "[18]\tvalid_0's multi_logloss: 0.744367\n",
      "[19]\tvalid_0's multi_logloss: 0.743001\n",
      "[20]\tvalid_0's multi_logloss: 0.73754\n",
      "[21]\tvalid_0's multi_logloss: 0.73435\n",
      "[22]\tvalid_0's multi_logloss: 0.730277\n",
      "[23]\tvalid_0's multi_logloss: 0.729156\n",
      "[24]\tvalid_0's multi_logloss: 0.727211\n",
      "[25]\tvalid_0's multi_logloss: 0.73012\n",
      "[26]\tvalid_0's multi_logloss: 0.729092\n",
      "[27]\tvalid_0's multi_logloss: 0.729345\n",
      "[28]\tvalid_0's multi_logloss: 0.728497\n",
      "[29]\tvalid_0's multi_logloss: 0.727576\n",
      "[30]\tvalid_0's multi_logloss: 0.724781\n",
      "[31]\tvalid_0's multi_logloss: 0.723628\n",
      "[32]\tvalid_0's multi_logloss: 0.724215\n",
      "[33]\tvalid_0's multi_logloss: 0.734317\n",
      "[34]\tvalid_0's multi_logloss: 0.731248\n",
      "[35]\tvalid_0's multi_logloss: 0.733759\n",
      "[36]\tvalid_0's multi_logloss: 0.737153\n",
      "[37]\tvalid_0's multi_logloss: 0.742632\n",
      "[38]\tvalid_0's multi_logloss: 0.747769\n",
      "[39]\tvalid_0's multi_logloss: 0.745786\n",
      "[40]\tvalid_0's multi_logloss: 0.750508\n",
      "[41]\tvalid_0's multi_logloss: 0.748724\n",
      "[42]\tvalid_0's multi_logloss: 0.750879\n",
      "[43]\tvalid_0's multi_logloss: 0.757494\n",
      "[44]\tvalid_0's multi_logloss: 0.765465\n",
      "[45]\tvalid_0's multi_logloss: 0.768327\n",
      "[46]\tvalid_0's multi_logloss: 0.76625\n",
      "[47]\tvalid_0's multi_logloss: 0.773041\n",
      "[48]\tvalid_0's multi_logloss: 0.773306\n",
      "[49]\tvalid_0's multi_logloss: 0.771136\n",
      "[50]\tvalid_0's multi_logloss: 0.772428\n",
      "[51]\tvalid_0's multi_logloss: 0.77959\n",
      "[52]\tvalid_0's multi_logloss: 0.78168\n",
      "[53]\tvalid_0's multi_logloss: 0.782384\n",
      "[54]\tvalid_0's multi_logloss: 0.79391\n",
      "[55]\tvalid_0's multi_logloss: 0.800143\n",
      "[56]\tvalid_0's multi_logloss: 0.807441\n",
      "[57]\tvalid_0's multi_logloss: 0.814425\n",
      "[58]\tvalid_0's multi_logloss: 0.818393\n",
      "[59]\tvalid_0's multi_logloss: 0.825027\n",
      "[60]\tvalid_0's multi_logloss: 0.83225\n",
      "[61]\tvalid_0's multi_logloss: 0.826427\n",
      "[62]\tvalid_0's multi_logloss: 0.835824\n",
      "[63]\tvalid_0's multi_logloss: 0.845027\n",
      "[64]\tvalid_0's multi_logloss: 0.845087\n",
      "[65]\tvalid_0's multi_logloss: 0.847512\n",
      "[66]\tvalid_0's multi_logloss: 0.851212\n",
      "[67]\tvalid_0's multi_logloss: 0.855412\n",
      "[68]\tvalid_0's multi_logloss: 0.856328\n",
      "[69]\tvalid_0's multi_logloss: 0.856603\n",
      "[70]\tvalid_0's multi_logloss: 0.852903\n",
      "[71]\tvalid_0's multi_logloss: 0.858905\n",
      "[72]\tvalid_0's multi_logloss: 0.865034\n",
      "[73]\tvalid_0's multi_logloss: 0.869552\n",
      "[74]\tvalid_0's multi_logloss: 0.87854\n",
      "[75]\tvalid_0's multi_logloss: 0.879556\n",
      "[76]\tvalid_0's multi_logloss: 0.883094\n",
      "[77]\tvalid_0's multi_logloss: 0.89176\n",
      "[78]\tvalid_0's multi_logloss: 0.894926\n",
      "[79]\tvalid_0's multi_logloss: 0.897368\n",
      "[80]\tvalid_0's multi_logloss: 0.899179\n",
      "[81]\tvalid_0's multi_logloss: 0.897999\n",
      "[82]\tvalid_0's multi_logloss: 0.904347\n",
      "[83]\tvalid_0's multi_logloss: 0.914939\n",
      "[84]\tvalid_0's multi_logloss: 0.923619\n",
      "[85]\tvalid_0's multi_logloss: 0.925383\n",
      "[86]\tvalid_0's multi_logloss: 0.926975\n",
      "[87]\tvalid_0's multi_logloss: 0.927219\n",
      "[88]\tvalid_0's multi_logloss: 0.926762\n",
      "[89]\tvalid_0's multi_logloss: 0.931309\n",
      "[90]\tvalid_0's multi_logloss: 0.935601\n",
      "[91]\tvalid_0's multi_logloss: 0.941648\n",
      "[92]\tvalid_0's multi_logloss: 0.945676\n",
      "[93]\tvalid_0's multi_logloss: 0.949198\n",
      "[94]\tvalid_0's multi_logloss: 0.951585\n",
      "[95]\tvalid_0's multi_logloss: 0.950862\n",
      "[96]\tvalid_0's multi_logloss: 0.952259\n",
      "[97]\tvalid_0's multi_logloss: 0.958652\n",
      "[98]\tvalid_0's multi_logloss: 0.960188\n",
      "[99]\tvalid_0's multi_logloss: 0.96226\n",
      "[100]\tvalid_0's multi_logloss: 0.968342\n",
      "[101]\tvalid_0's multi_logloss: 0.970031\n",
      "[102]\tvalid_0's multi_logloss: 0.97213\n",
      "[103]\tvalid_0's multi_logloss: 0.976674\n",
      "[104]\tvalid_0's multi_logloss: 0.981295\n",
      "[105]\tvalid_0's multi_logloss: 0.984994\n",
      "[106]\tvalid_0's multi_logloss: 0.993445\n",
      "[107]\tvalid_0's multi_logloss: 0.996814\n",
      "[108]\tvalid_0's multi_logloss: 1.00304\n",
      "[109]\tvalid_0's multi_logloss: 1.00168\n",
      "[110]\tvalid_0's multi_logloss: 1.00359\n",
      "[111]\tvalid_0's multi_logloss: 1.00416\n",
      "[112]\tvalid_0's multi_logloss: 1.00593\n",
      "[113]\tvalid_0's multi_logloss: 1.00975\n",
      "[114]\tvalid_0's multi_logloss: 1.01574\n",
      "[115]\tvalid_0's multi_logloss: 1.01775\n",
      "[116]\tvalid_0's multi_logloss: 1.02055\n",
      "[117]\tvalid_0's multi_logloss: 1.02302\n",
      "[118]\tvalid_0's multi_logloss: 1.02997\n",
      "[119]\tvalid_0's multi_logloss: 1.03554\n",
      "[120]\tvalid_0's multi_logloss: 1.03823\n",
      "[121]\tvalid_0's multi_logloss: 1.03975\n",
      "[122]\tvalid_0's multi_logloss: 1.04425\n",
      "[123]\tvalid_0's multi_logloss: 1.04872\n",
      "[124]\tvalid_0's multi_logloss: 1.05012\n",
      "[125]\tvalid_0's multi_logloss: 1.05434\n",
      "[126]\tvalid_0's multi_logloss: 1.05607\n",
      "[127]\tvalid_0's multi_logloss: 1.06027\n",
      "[128]\tvalid_0's multi_logloss: 1.06307\n",
      "[129]\tvalid_0's multi_logloss: 1.06517\n",
      "[130]\tvalid_0's multi_logloss: 1.07207\n",
      "[131]\tvalid_0's multi_logloss: 1.07448\n",
      "LGBM 예측 정확도: 0.6800\n"
     ]
    }
   ],
   "source": [
    "import lightgbm\n",
    "from lightgbm import LGBMClassifier\n",
    "\n",
    "evals = [(X_test, y_test)]\n",
    "lgbm = LGBMClassifier(n_estimators=400)\n",
    "lgbm.fit(X_train, y_train, early_stopping_rounds=100, eval_metric=\"logloss\", eval_set=evals)\n",
    "lgbm_pred = lgbm.predict(X_test)\n",
    "lgbm_accuracy = accuracy_score(y_test, lgbm_pred)\n",
    "print('LGBM 예측 정확도: {0:.4f}'.format(lgbm_accuracy))"
   ]
  },
  {
   "cell_type": "markdown",
   "id": "DQ3Lnuevoz4w",
   "metadata": {
    "id": "DQ3Lnuevoz4w"
   },
   "source": [
    "## Stacking 실습"
   ]
  },
  {
   "cell_type": "markdown",
   "id": "FSqK0PzP-YmZ",
   "metadata": {
    "id": "FSqK0PzP-YmZ"
   },
   "source": [
    "CV set 기반 stacking을 통해 앙상블 모델을 만드려고 합니다.    \n",
    "개별 모델이 교차검증을 통해 최종 모델이 사용할 학습용, 테스트용 데이터를 만드는 함수를 생성하시오.\n",
    "```\n",
    "def get_stacking_dataset(model, X_train, y_train, X_test, n_folds):\n",
    "    return train_fold_pred , test_pred_mean\n",
    "```"
   ]
  },
  {
   "cell_type": "code",
   "execution_count": 50,
   "id": "2a74927b",
   "metadata": {},
   "outputs": [],
   "source": [
    "from sklearn.model_selection import KFold\n",
    "from sklearn.metrics import mean_absolute_error\n",
    "\n",
    "\n",
    "def get_stacking_dataset(model, X_train, y_train, X_test, n_folds):\n",
    "    # 지정된 n_folds 값으로 KFolds 생성.\n",
    "    kf = KFold(n_splits=n_folds, shuffle=False)\n",
    "    # 추후에 메타 모델이 사용할 학습 데이터 반환을 위한 넘파이 배열 초기화\n",
    "    train_fold_pred = np.zeros((X_train.shape[0], 1))\n",
    "    test_pred = np.zeros((X_test.shape[0], n_folds))\n",
    "    print(model.__class__.__name__, ' model 시작 ')\n",
    "    \n",
    "    for folder_counter, (train_index, valid_index) in enumerate(kf.split(X_train_n)):\n",
    "        # 입력된 학습 데이터에서 기반 모델이 학습/예측할 폴드 데이터 세트 추출\n",
    "        print('\\t 폴드 세트: ', folder_counter, '시작')\n",
    "        X_tr = X_train[train_index]\n",
    "        y_tr = y_train[train_index]\n",
    "        X_te = X_train[valid_index]\n",
    "        \n",
    "        # 폴드 세트 내부에서 다시 만들어진 학습 데이터로 기반 모델의 학습 수행\n",
    "        model.fit(X_tr, y_tr)\n",
    "        # 폴드 세트 내부에서 다시 만들어진 검증 데이터로 기반 모델 예측 후 데이터 저장\n",
    "        train_fold_pred[valid_index, :] = model.predict(X_te).reshape(-1,1)\n",
    "        # 입력된 원본 테스트 데이터를 폴드 세트 내 학습도니 기반 모델에서 예측 후 데이터 저장\n",
    "        test_pred[:, folder_counter] = model.predict(X_test_n)\n",
    "        \n",
    "    \n",
    "    # 폴드 세트 내에서 원본 테스트 데이터를 예측한 데이터를 평균하여 테스트 데이터로 생성\n",
    "    test_pred_mean = np.mean(test_pred, axis=1).reshape(-1,1)\n",
    "    \n",
    "    # train_fold_pred는 최종 메타 모델이 사용하는 학습 데이터, test_pred_mean은 테스트 데이터\n",
    "    return train_fold_pred, test_pred_mean"
   ]
  },
  {
   "cell_type": "markdown",
   "id": "KMgeLW3NA8Q5",
   "metadata": {
    "id": "KMgeLW3NA8Q5"
   },
   "source": [
    "스태킹에 사용될 개별 모델을 생성하시오.\n",
    "\n",
    "개별 모델:  KNN(n_neighbors=4), 랜덤 포레스트(n_estimators=100, random_state=0), 결정 트리, AdaBoost(n_estimators=100), LightGBM(n_estimators=400)\n",
    "\n",
    "최종 모델: 로지스틱 회귀 (C=10)"
   ]
  },
  {
   "cell_type": "code",
   "execution_count": 51,
   "id": "PvuuPu9Op1eb",
   "metadata": {
    "id": "PvuuPu9Op1eb"
   },
   "outputs": [],
   "source": [
    "from sklearn.neighbors import KNeighborsClassifier\n",
    "from sklearn.ensemble import RandomForestClassifier\n",
    "from sklearn.ensemble import AdaBoostClassifier\n",
    "from sklearn.tree import DecisionTreeClassifier\n",
    "from sklearn.linear_model import LogisticRegression\n",
    "\n",
    "knn_clf = KNeighborsClassifier(n_neighbors=4)\n",
    "rf_clf = RandomForestClassifier(n_estimators=100, random_state=0)\n",
    "dt_clf = DecisionTreeClassifier()\n",
    "ada_clf = AdaBoostClassifier(n_estimators=100)\n",
    "\n",
    "lr_final = LogisticRegression(C=10)"
   ]
  },
  {
   "cell_type": "markdown",
   "id": "Wew3mwTxBWAZ",
   "metadata": {
    "id": "Wew3mwTxBWAZ"
   },
   "source": [
    "위에서 생성한 함수를 사용해 개별 모델을 학습, 예측시켜 메타모델에 사용될 학습용 데이터와 테스트용 데이터를 생성하고, 스태킹하시오.  \n",
    "fold 수 = 6  \n",
    "학습용 데이터 : stacked_X_train  \n",
    "테스트용 데이터 : stacked_X_test"
   ]
  },
  {
   "cell_type": "code",
   "execution_count": 52,
   "id": "lJI0HG3Bp2TC",
   "metadata": {
    "id": "lJI0HG3Bp2TC"
   },
   "outputs": [
    {
     "data": {
      "text/plain": [
       "292    1\n",
       "369    1\n",
       "2      1\n",
       "248    1\n",
       "196    1\n",
       "      ..\n",
       "285    1\n",
       "133    1\n",
       "247    1\n",
       "63     1\n",
       "331    1\n",
       "Length: 296, dtype: int64"
      ]
     },
     "execution_count": 52,
     "metadata": {},
     "output_type": "execute_result"
    }
   ],
   "source": [
    "X_train.index.value_counts()"
   ]
  },
  {
   "cell_type": "code",
   "execution_count": 53,
   "id": "8bed00cb",
   "metadata": {},
   "outputs": [
    {
     "name": "stdout",
     "output_type": "stream",
     "text": [
      "KNeighborsClassifier  model 시작 \n",
      "\t 폴드 세트:  0 시작\n"
     ]
    },
    {
     "ename": "KeyError",
     "evalue": "\"None of [Int64Index([ 50,  51,  52,  53,  54,  55,  56,  57,  58,  59,\\n            ...\\n            286, 287, 288, 289, 290, 291, 292, 293, 294, 295],\\n           dtype='int64', length=246)] are in the [columns]\"",
     "output_type": "error",
     "traceback": [
      "\u001b[1;31m---------------------------------------------------------------------------\u001b[0m",
      "\u001b[1;31mKeyError\u001b[0m                                  Traceback (most recent call last)",
      "Input \u001b[1;32mIn [53]\u001b[0m, in \u001b[0;36m<cell line: 1>\u001b[1;34m()\u001b[0m\n\u001b[1;32m----> 1\u001b[0m knn_train, knn_test \u001b[38;5;241m=\u001b[39m \u001b[43mget_stacking_base_datasets\u001b[49m\u001b[43m(\u001b[49m\u001b[43mknn_clf\u001b[49m\u001b[43m,\u001b[49m\u001b[43m \u001b[49m\u001b[43mX_train\u001b[49m\u001b[43m,\u001b[49m\u001b[43m \u001b[49m\u001b[43my_train\u001b[49m\u001b[43m,\u001b[49m\u001b[43m \u001b[49m\u001b[43mX_test\u001b[49m\u001b[43m,\u001b[49m\u001b[43m \u001b[49m\u001b[38;5;241;43m6\u001b[39;49m\u001b[43m)\u001b[49m\n\u001b[0;32m      2\u001b[0m rf_train, rf_test \u001b[38;5;241m=\u001b[39m get_stacking_base_datasets(rf_clf, X_train, y_train, X_test, \u001b[38;5;241m6\u001b[39m)\n\u001b[0;32m      3\u001b[0m dt_train, dt_test \u001b[38;5;241m=\u001b[39m get_stacking_base_datasets(dt_clf, X_train, y_train, X_test, \u001b[38;5;241m6\u001b[39m)\n",
      "Input \u001b[1;32mIn [21]\u001b[0m, in \u001b[0;36mget_stacking_base_datasets\u001b[1;34m(model, X_train_n, y_train_n, X_test_n, n_folds)\u001b[0m\n\u001b[0;32m     13\u001b[0m \u001b[38;5;28;01mfor\u001b[39;00m folder_counter, (train_index, valid_index) \u001b[38;5;129;01min\u001b[39;00m \u001b[38;5;28menumerate\u001b[39m(kf\u001b[38;5;241m.\u001b[39msplit(X_train_n)):\n\u001b[0;32m     14\u001b[0m     \u001b[38;5;66;03m# 입력된 학습 데이터에서 기반 모델이 학습/예측할 폴드 데이터 세트 추출\u001b[39;00m\n\u001b[0;32m     15\u001b[0m     \u001b[38;5;28mprint\u001b[39m(\u001b[38;5;124m'\u001b[39m\u001b[38;5;130;01m\\t\u001b[39;00m\u001b[38;5;124m 폴드 세트: \u001b[39m\u001b[38;5;124m'\u001b[39m, folder_counter, \u001b[38;5;124m'\u001b[39m\u001b[38;5;124m시작\u001b[39m\u001b[38;5;124m'\u001b[39m)\n\u001b[1;32m---> 16\u001b[0m     X_tr \u001b[38;5;241m=\u001b[39m \u001b[43mX_train_n\u001b[49m\u001b[43m[\u001b[49m\u001b[43mtrain_index\u001b[49m\u001b[43m]\u001b[49m\n\u001b[0;32m     17\u001b[0m     y_tr \u001b[38;5;241m=\u001b[39m y_train_n[train_index]\n\u001b[0;32m     18\u001b[0m     X_te \u001b[38;5;241m=\u001b[39m X_train_n[valid_index]\n",
      "File \u001b[1;32mC:\\ProgramData\\Anaconda3\\lib\\site-packages\\pandas\\core\\frame.py:3511\u001b[0m, in \u001b[0;36mDataFrame.__getitem__\u001b[1;34m(self, key)\u001b[0m\n\u001b[0;32m   3509\u001b[0m     \u001b[38;5;28;01mif\u001b[39;00m is_iterator(key):\n\u001b[0;32m   3510\u001b[0m         key \u001b[38;5;241m=\u001b[39m \u001b[38;5;28mlist\u001b[39m(key)\n\u001b[1;32m-> 3511\u001b[0m     indexer \u001b[38;5;241m=\u001b[39m \u001b[38;5;28;43mself\u001b[39;49m\u001b[38;5;241;43m.\u001b[39;49m\u001b[43mcolumns\u001b[49m\u001b[38;5;241;43m.\u001b[39;49m\u001b[43m_get_indexer_strict\u001b[49m\u001b[43m(\u001b[49m\u001b[43mkey\u001b[49m\u001b[43m,\u001b[49m\u001b[43m \u001b[49m\u001b[38;5;124;43m\"\u001b[39;49m\u001b[38;5;124;43mcolumns\u001b[39;49m\u001b[38;5;124;43m\"\u001b[39;49m\u001b[43m)\u001b[49m[\u001b[38;5;241m1\u001b[39m]\n\u001b[0;32m   3513\u001b[0m \u001b[38;5;66;03m# take() does not accept boolean indexers\u001b[39;00m\n\u001b[0;32m   3514\u001b[0m \u001b[38;5;28;01mif\u001b[39;00m \u001b[38;5;28mgetattr\u001b[39m(indexer, \u001b[38;5;124m\"\u001b[39m\u001b[38;5;124mdtype\u001b[39m\u001b[38;5;124m\"\u001b[39m, \u001b[38;5;28;01mNone\u001b[39;00m) \u001b[38;5;241m==\u001b[39m \u001b[38;5;28mbool\u001b[39m:\n",
      "File \u001b[1;32mC:\\ProgramData\\Anaconda3\\lib\\site-packages\\pandas\\core\\indexes\\base.py:5782\u001b[0m, in \u001b[0;36mIndex._get_indexer_strict\u001b[1;34m(self, key, axis_name)\u001b[0m\n\u001b[0;32m   5779\u001b[0m \u001b[38;5;28;01melse\u001b[39;00m:\n\u001b[0;32m   5780\u001b[0m     keyarr, indexer, new_indexer \u001b[38;5;241m=\u001b[39m \u001b[38;5;28mself\u001b[39m\u001b[38;5;241m.\u001b[39m_reindex_non_unique(keyarr)\n\u001b[1;32m-> 5782\u001b[0m \u001b[38;5;28;43mself\u001b[39;49m\u001b[38;5;241;43m.\u001b[39;49m\u001b[43m_raise_if_missing\u001b[49m\u001b[43m(\u001b[49m\u001b[43mkeyarr\u001b[49m\u001b[43m,\u001b[49m\u001b[43m \u001b[49m\u001b[43mindexer\u001b[49m\u001b[43m,\u001b[49m\u001b[43m \u001b[49m\u001b[43maxis_name\u001b[49m\u001b[43m)\u001b[49m\n\u001b[0;32m   5784\u001b[0m keyarr \u001b[38;5;241m=\u001b[39m \u001b[38;5;28mself\u001b[39m\u001b[38;5;241m.\u001b[39mtake(indexer)\n\u001b[0;32m   5785\u001b[0m \u001b[38;5;28;01mif\u001b[39;00m \u001b[38;5;28misinstance\u001b[39m(key, Index):\n\u001b[0;32m   5786\u001b[0m     \u001b[38;5;66;03m# GH 42790 - Preserve name from an Index\u001b[39;00m\n",
      "File \u001b[1;32mC:\\ProgramData\\Anaconda3\\lib\\site-packages\\pandas\\core\\indexes\\base.py:5842\u001b[0m, in \u001b[0;36mIndex._raise_if_missing\u001b[1;34m(self, key, indexer, axis_name)\u001b[0m\n\u001b[0;32m   5840\u001b[0m     \u001b[38;5;28;01mif\u001b[39;00m use_interval_msg:\n\u001b[0;32m   5841\u001b[0m         key \u001b[38;5;241m=\u001b[39m \u001b[38;5;28mlist\u001b[39m(key)\n\u001b[1;32m-> 5842\u001b[0m     \u001b[38;5;28;01mraise\u001b[39;00m \u001b[38;5;167;01mKeyError\u001b[39;00m(\u001b[38;5;124mf\u001b[39m\u001b[38;5;124m\"\u001b[39m\u001b[38;5;124mNone of [\u001b[39m\u001b[38;5;132;01m{\u001b[39;00mkey\u001b[38;5;132;01m}\u001b[39;00m\u001b[38;5;124m] are in the [\u001b[39m\u001b[38;5;132;01m{\u001b[39;00maxis_name\u001b[38;5;132;01m}\u001b[39;00m\u001b[38;5;124m]\u001b[39m\u001b[38;5;124m\"\u001b[39m)\n\u001b[0;32m   5844\u001b[0m not_found \u001b[38;5;241m=\u001b[39m \u001b[38;5;28mlist\u001b[39m(ensure_index(key)[missing_mask\u001b[38;5;241m.\u001b[39mnonzero()[\u001b[38;5;241m0\u001b[39m]]\u001b[38;5;241m.\u001b[39munique())\n\u001b[0;32m   5845\u001b[0m \u001b[38;5;28;01mraise\u001b[39;00m \u001b[38;5;167;01mKeyError\u001b[39;00m(\u001b[38;5;124mf\u001b[39m\u001b[38;5;124m\"\u001b[39m\u001b[38;5;132;01m{\u001b[39;00mnot_found\u001b[38;5;132;01m}\u001b[39;00m\u001b[38;5;124m not in index\u001b[39m\u001b[38;5;124m\"\u001b[39m)\n",
      "\u001b[1;31mKeyError\u001b[0m: \"None of [Int64Index([ 50,  51,  52,  53,  54,  55,  56,  57,  58,  59,\\n            ...\\n            286, 287, 288, 289, 290, 291, 292, 293, 294, 295],\\n           dtype='int64', length=246)] are in the [columns]\""
     ]
    }
   ],
   "source": [
    "knn_train, knn_test = get_stacking_base_datasets(knn_clf, X_train, y_train, X_test, 6)\n",
    "rf_train, rf_test = get_stacking_base_datasets(rf_clf, X_train, y_train, X_test, 6)\n",
    "dt_train, dt_test = get_stacking_base_datasets(dt_clf, X_train, y_train, X_test, 6)\n",
    "ada_train, ada_test = get_stacking_base_datasets(ada_clf, X_train, y_train, X_test, 6)\n",
    "\n",
    "# 똑같은 코드로 예습과제에서는 잘 실행됐는데 여기서는 왜 에러 나는지 전혀 모르겠어요 ㅠㅠ"
   ]
  },
  {
   "cell_type": "code",
   "execution_count": null,
   "id": "NtuEJGkep6EV",
   "metadata": {
    "id": "NtuEJGkep6EV"
   },
   "outputs": [],
   "source": [
    "stacked_X_train = np.concatenate((knn_train, rf_train, dt_train, ada_train), axis=1)\n",
    "stacked_final_X_test = np.concatenate((knn_test, rf_test, dt_test, ada_test), axis=1)"
   ]
  },
  {
   "cell_type": "markdown",
   "id": "z1wPcXvNHH8t",
   "metadata": {
    "id": "z1wPcXvNHH8t"
   },
   "source": [
    "최종 모델 (logistic regression)을 학습시키고, 정확도를 구하시오."
   ]
  },
  {
   "cell_type": "code",
   "execution_count": null,
   "id": "OFqd1by6p2z1",
   "metadata": {
    "id": "OFqd1by6p2z1"
   },
   "outputs": [],
   "source": [
    "lr_final.fit(pred, y_test)\n",
    "final = lr_final.predict(pred)\n",
    "\n",
    "print('최종 메타 모델 예측 정확도: {0:.4f}'.format(accuracy_score(y_test, final)))"
   ]
  },
  {
   "cell_type": "markdown",
   "id": "mZEcyqY79nZM",
   "metadata": {
    "id": "mZEcyqY79nZM"
   },
   "source": [
    "### CatBoost\n",
    "\n",
    "범주형 변수가 많은 데이터에 catboost를 적용해봅시다.\n",
    "\n",
    "데이터 출처:\n",
    "https://www.kaggle.com/datasets/uciml/mushroom-classification\n"
   ]
  },
  {
   "cell_type": "code",
   "execution_count": 24,
   "id": "mbSevRzjIHKs",
   "metadata": {
    "id": "mbSevRzjIHKs"
   },
   "outputs": [],
   "source": [
    "# mushrooms.csv 파일을 사용합니다.\n",
    "\n",
    "mushroom_df = pd.read_csv('mushrooms.csv')"
   ]
  },
  {
   "cell_type": "markdown",
   "id": "AjLa99HnIZ1M",
   "metadata": {
    "id": "AjLa99HnIZ1M"
   },
   "source": [
    "mushroom_df feature들의 data type을 확인하시오."
   ]
  },
  {
   "cell_type": "code",
   "execution_count": 25,
   "id": "Gs16WW_rp7d2",
   "metadata": {
    "id": "Gs16WW_rp7d2"
   },
   "outputs": [
    {
     "name": "stdout",
     "output_type": "stream",
     "text": [
      "<class 'pandas.core.frame.DataFrame'>\n",
      "RangeIndex: 8124 entries, 0 to 8123\n",
      "Data columns (total 23 columns):\n",
      " #   Column                    Non-Null Count  Dtype \n",
      "---  ------                    --------------  ----- \n",
      " 0   class                     8124 non-null   object\n",
      " 1   cap-shape                 8124 non-null   object\n",
      " 2   cap-surface               8124 non-null   object\n",
      " 3   cap-color                 8124 non-null   object\n",
      " 4   bruises                   8124 non-null   object\n",
      " 5   odor                      8124 non-null   object\n",
      " 6   gill-attachment           8124 non-null   object\n",
      " 7   gill-spacing              8124 non-null   object\n",
      " 8   gill-size                 8124 non-null   object\n",
      " 9   gill-color                8124 non-null   object\n",
      " 10  stalk-shape               8124 non-null   object\n",
      " 11  stalk-root                8124 non-null   object\n",
      " 12  stalk-surface-above-ring  8124 non-null   object\n",
      " 13  stalk-surface-below-ring  8124 non-null   object\n",
      " 14  stalk-color-above-ring    8124 non-null   object\n",
      " 15  stalk-color-below-ring    8124 non-null   object\n",
      " 16  veil-type                 8124 non-null   object\n",
      " 17  veil-color                8124 non-null   object\n",
      " 18  ring-number               8124 non-null   object\n",
      " 19  ring-type                 8124 non-null   object\n",
      " 20  spore-print-color         8124 non-null   object\n",
      " 21  population                8124 non-null   object\n",
      " 22  habitat                   8124 non-null   object\n",
      "dtypes: object(23)\n",
      "memory usage: 1.4+ MB\n"
     ]
    }
   ],
   "source": [
    "mushroom_df.info()"
   ]
  },
  {
   "cell_type": "markdown",
   "id": "twu4cpQMKHTM",
   "metadata": {
    "id": "twu4cpQMKHTM"
   },
   "source": [
    "feature와 target을 각각 X_mushroom, y_mushroom으로 분리하고,  \n",
    "train_test_split 함수로 train, test set을 분리하시오. (test size = 0.2)"
   ]
  },
  {
   "cell_type": "code",
   "execution_count": 32,
   "id": "T4Qwnz0Kp8Aj",
   "metadata": {
    "id": "T4Qwnz0Kp8Aj"
   },
   "outputs": [],
   "source": [
    "X_mushroom = mushroom_df.iloc[:,1:]\n",
    "y_mushroom = mushroom_df.iloc[:,0]\n",
    "\n",
    "X_train, X_test, y_train, y_test = train_test_split(X_mushroom, y_mushroom, test_size=0.2)"
   ]
  },
  {
   "cell_type": "markdown",
   "id": "FAkKKfY9JC5U",
   "metadata": {
    "id": "FAkKKfY9JC5U"
   },
   "source": [
    "CatBoostClassifier를 불러오고, Pool 함수를 이용해 범주형 변수를 처리하도록 train_pool, test_pool을 만드시오."
   ]
  },
  {
   "cell_type": "code",
   "execution_count": 33,
   "id": "LAFxT8bVIEyN",
   "metadata": {
    "id": "LAFxT8bVIEyN"
   },
   "outputs": [
    {
     "name": "stdout",
     "output_type": "stream",
     "text": [
      "Defaulting to user installation because normal site-packages is not writeable\n",
      "Collecting catboost\n",
      "  Downloading catboost-1.0.6-cp39-none-win_amd64.whl (73.9 MB)\n",
      "Requirement already satisfied: scipy in c:\\programdata\\anaconda3\\lib\\site-packages (from catboost) (1.7.3)\n",
      "Requirement already satisfied: matplotlib in c:\\programdata\\anaconda3\\lib\\site-packages (from catboost) (3.5.1)\n",
      "Requirement already satisfied: graphviz in c:\\programdata\\anaconda3\\lib\\site-packages (from catboost) (0.20.1)\n",
      "Requirement already satisfied: six in c:\\users\\tjsru\\appdata\\roaming\\python\\python39\\site-packages (from catboost) (1.15.0)\n",
      "Requirement already satisfied: plotly in c:\\programdata\\anaconda3\\lib\\site-packages (from catboost) (5.6.0)\n",
      "Requirement already satisfied: numpy>=1.16.0 in c:\\programdata\\anaconda3\\lib\\site-packages (from catboost) (1.21.5)\n",
      "Requirement already satisfied: pandas>=0.24.0 in c:\\programdata\\anaconda3\\lib\\site-packages (from catboost) (1.4.2)\n",
      "Requirement already satisfied: python-dateutil>=2.8.1 in c:\\programdata\\anaconda3\\lib\\site-packages (from pandas>=0.24.0->catboost) (2.8.2)\n",
      "Requirement already satisfied: pytz>=2020.1 in c:\\programdata\\anaconda3\\lib\\site-packages (from pandas>=0.24.0->catboost) (2021.3)\n",
      "Requirement already satisfied: pyparsing>=2.2.1 in c:\\programdata\\anaconda3\\lib\\site-packages (from matplotlib->catboost) (3.0.4)\n",
      "Requirement already satisfied: cycler>=0.10 in c:\\programdata\\anaconda3\\lib\\site-packages (from matplotlib->catboost) (0.11.0)\n",
      "Requirement already satisfied: pillow>=6.2.0 in c:\\programdata\\anaconda3\\lib\\site-packages (from matplotlib->catboost) (9.0.1)\n",
      "Requirement already satisfied: fonttools>=4.22.0 in c:\\programdata\\anaconda3\\lib\\site-packages (from matplotlib->catboost) (4.25.0)\n",
      "Requirement already satisfied: packaging>=20.0 in c:\\programdata\\anaconda3\\lib\\site-packages (from matplotlib->catboost) (21.3)\n",
      "Requirement already satisfied: kiwisolver>=1.0.1 in c:\\programdata\\anaconda3\\lib\\site-packages (from matplotlib->catboost) (1.3.2)\n",
      "Requirement already satisfied: tenacity>=6.2.0 in c:\\programdata\\anaconda3\\lib\\site-packages (from plotly->catboost) (8.0.1)\n",
      "Installing collected packages: catboost\n",
      "Successfully installed catboost-1.0.6\n"
     ]
    }
   ],
   "source": [
    "!pip install catboost"
   ]
  },
  {
   "cell_type": "code",
   "execution_count": 44,
   "id": "3uinLtop9bPW",
   "metadata": {
    "id": "3uinLtop9bPW"
   },
   "outputs": [],
   "source": [
    "from catboost import CatBoostClassifier, Pool\n",
    "\n",
    "cb_clf = CatBoostClassifier(iterations=400, learning_rate=0.1, max_depth=3)\n",
    "\n",
    "train_pool = Pool(data=X_train, label=y_train, cat_features=np.where(X_train.dtypes != np.float)[0])\n",
    "test_pool = Pool(data=X_test, label=y_test, cat_features=np.where(X_train.dtypes != np.float)[0])"
   ]
  },
  {
   "cell_type": "markdown",
   "id": "Vu9ijqhGMWgo",
   "metadata": {
    "id": "Vu9ijqhGMWgo"
   },
   "source": [
    "iteration=400, learning_rate=0.1, max_depth=3로 설정한 CatBoost 모델로 버섯에 대한 정보를 학습하고 테스트 데이터 버섯의 독성 여부를 예측하시오. 또 정확도를 구하시오.  "
   ]
  },
  {
   "cell_type": "code",
   "execution_count": 45,
   "id": "F2I7ARrWp_t3",
   "metadata": {
    "id": "F2I7ARrWp_t3"
   },
   "outputs": [
    {
     "name": "stdout",
     "output_type": "stream",
     "text": [
      "0:\tlearn: 0.4853803\ttotal: 219ms\tremaining: 1m 27s\n",
      "1:\tlearn: 0.3491789\ttotal: 264ms\tremaining: 52.5s\n",
      "2:\tlearn: 0.2620505\ttotal: 303ms\tremaining: 40.1s\n",
      "3:\tlearn: 0.1965569\ttotal: 354ms\tremaining: 35.1s\n",
      "4:\tlearn: 0.1209143\ttotal: 392ms\tremaining: 31s\n",
      "5:\tlearn: 0.0912673\ttotal: 421ms\tremaining: 27.7s\n",
      "6:\tlearn: 0.0749435\ttotal: 456ms\tremaining: 25.6s\n",
      "7:\tlearn: 0.0638696\ttotal: 486ms\tremaining: 23.8s\n",
      "8:\tlearn: 0.0568796\ttotal: 515ms\tremaining: 22.4s\n",
      "9:\tlearn: 0.0450456\ttotal: 548ms\tremaining: 21.4s\n",
      "10:\tlearn: 0.0404382\ttotal: 594ms\tremaining: 21s\n",
      "11:\tlearn: 0.0373565\ttotal: 649ms\tremaining: 21s\n",
      "12:\tlearn: 0.0306168\ttotal: 695ms\tremaining: 20.7s\n",
      "13:\tlearn: 0.0275673\ttotal: 757ms\tremaining: 20.9s\n",
      "14:\tlearn: 0.0243978\ttotal: 795ms\tremaining: 20.4s\n",
      "15:\tlearn: 0.0229644\ttotal: 825ms\tremaining: 19.8s\n",
      "16:\tlearn: 0.0207240\ttotal: 864ms\tremaining: 19.5s\n",
      "17:\tlearn: 0.0193531\ttotal: 934ms\tremaining: 19.8s\n",
      "18:\tlearn: 0.0178003\ttotal: 967ms\tremaining: 19.4s\n",
      "19:\tlearn: 0.0173429\ttotal: 996ms\tremaining: 18.9s\n",
      "20:\tlearn: 0.0163713\ttotal: 1.03s\tremaining: 18.5s\n",
      "21:\tlearn: 0.0153753\ttotal: 1.09s\tremaining: 18.8s\n",
      "22:\tlearn: 0.0146629\ttotal: 1.15s\tremaining: 18.8s\n",
      "23:\tlearn: 0.0141360\ttotal: 1.19s\tremaining: 18.6s\n",
      "24:\tlearn: 0.0135173\ttotal: 1.22s\tremaining: 18.3s\n",
      "25:\tlearn: 0.0130564\ttotal: 1.25s\tremaining: 18s\n",
      "26:\tlearn: 0.0127172\ttotal: 1.28s\tremaining: 17.7s\n",
      "27:\tlearn: 0.0119439\ttotal: 1.31s\tremaining: 17.5s\n",
      "28:\tlearn: 0.0108285\ttotal: 1.35s\tremaining: 17.3s\n",
      "29:\tlearn: 0.0102254\ttotal: 1.38s\tremaining: 17s\n",
      "30:\tlearn: 0.0099069\ttotal: 1.42s\tremaining: 16.9s\n",
      "31:\tlearn: 0.0098349\ttotal: 1.46s\tremaining: 16.8s\n",
      "32:\tlearn: 0.0097182\ttotal: 1.5s\tremaining: 16.7s\n",
      "33:\tlearn: 0.0096996\ttotal: 1.52s\tremaining: 16.4s\n",
      "34:\tlearn: 0.0096835\ttotal: 1.57s\tremaining: 16.4s\n",
      "35:\tlearn: 0.0088768\ttotal: 1.66s\tremaining: 16.8s\n",
      "36:\tlearn: 0.0088291\ttotal: 1.69s\tremaining: 16.6s\n",
      "37:\tlearn: 0.0085674\ttotal: 1.73s\tremaining: 16.4s\n",
      "38:\tlearn: 0.0083328\ttotal: 1.76s\tremaining: 16.3s\n",
      "39:\tlearn: 0.0083328\ttotal: 1.79s\tremaining: 16.1s\n",
      "40:\tlearn: 0.0078806\ttotal: 1.83s\tremaining: 16s\n",
      "41:\tlearn: 0.0078806\ttotal: 1.86s\tremaining: 15.8s\n",
      "42:\tlearn: 0.0078383\ttotal: 1.92s\tremaining: 16s\n",
      "43:\tlearn: 0.0075299\ttotal: 1.97s\tremaining: 16s\n",
      "44:\tlearn: 0.0074389\ttotal: 2.02s\tremaining: 16s\n",
      "45:\tlearn: 0.0071701\ttotal: 2.08s\tremaining: 16s\n",
      "46:\tlearn: 0.0071701\ttotal: 2.13s\tremaining: 16s\n",
      "47:\tlearn: 0.0071461\ttotal: 2.19s\tremaining: 16.1s\n",
      "48:\tlearn: 0.0070747\ttotal: 2.25s\tremaining: 16.1s\n",
      "49:\tlearn: 0.0070327\ttotal: 2.3s\tremaining: 16.1s\n",
      "50:\tlearn: 0.0068704\ttotal: 2.33s\tremaining: 16s\n",
      "51:\tlearn: 0.0068143\ttotal: 2.37s\tremaining: 15.8s\n",
      "52:\tlearn: 0.0068142\ttotal: 2.4s\tremaining: 15.7s\n",
      "53:\tlearn: 0.0066290\ttotal: 2.43s\tremaining: 15.6s\n",
      "54:\tlearn: 0.0062365\ttotal: 2.47s\tremaining: 15.5s\n",
      "55:\tlearn: 0.0060956\ttotal: 2.5s\tremaining: 15.4s\n",
      "56:\tlearn: 0.0059964\ttotal: 2.54s\tremaining: 15.3s\n",
      "57:\tlearn: 0.0058778\ttotal: 2.58s\tremaining: 15.2s\n",
      "58:\tlearn: 0.0056559\ttotal: 2.62s\tremaining: 15.1s\n",
      "59:\tlearn: 0.0056407\ttotal: 2.67s\tremaining: 15.1s\n",
      "60:\tlearn: 0.0054704\ttotal: 2.71s\tremaining: 15.1s\n",
      "61:\tlearn: 0.0054468\ttotal: 2.74s\tremaining: 15s\n",
      "62:\tlearn: 0.0054467\ttotal: 2.77s\tremaining: 14.8s\n",
      "63:\tlearn: 0.0054467\ttotal: 2.81s\tremaining: 14.7s\n",
      "64:\tlearn: 0.0052617\ttotal: 2.86s\tremaining: 14.7s\n",
      "65:\tlearn: 0.0052006\ttotal: 2.96s\tremaining: 15s\n",
      "66:\tlearn: 0.0051758\ttotal: 3s\tremaining: 14.9s\n",
      "67:\tlearn: 0.0049251\ttotal: 3.06s\tremaining: 14.9s\n",
      "68:\tlearn: 0.0048768\ttotal: 3.12s\tremaining: 14.9s\n",
      "69:\tlearn: 0.0048564\ttotal: 3.17s\tremaining: 15s\n",
      "70:\tlearn: 0.0048370\ttotal: 3.24s\tremaining: 15s\n",
      "71:\tlearn: 0.0048369\ttotal: 3.3s\tremaining: 15s\n",
      "72:\tlearn: 0.0048369\ttotal: 3.35s\tremaining: 15s\n",
      "73:\tlearn: 0.0047912\ttotal: 3.39s\tremaining: 15s\n",
      "74:\tlearn: 0.0046158\ttotal: 3.44s\tremaining: 14.9s\n",
      "75:\tlearn: 0.0045805\ttotal: 3.48s\tremaining: 14.8s\n",
      "76:\tlearn: 0.0045804\ttotal: 3.51s\tremaining: 14.7s\n",
      "77:\tlearn: 0.0044886\ttotal: 3.54s\tremaining: 14.6s\n",
      "78:\tlearn: 0.0044886\ttotal: 3.58s\tremaining: 14.5s\n",
      "79:\tlearn: 0.0044722\ttotal: 3.62s\tremaining: 14.5s\n",
      "80:\tlearn: 0.0042878\ttotal: 3.65s\tremaining: 14.4s\n",
      "81:\tlearn: 0.0041815\ttotal: 3.69s\tremaining: 14.3s\n",
      "82:\tlearn: 0.0039996\ttotal: 3.73s\tremaining: 14.3s\n",
      "83:\tlearn: 0.0039996\ttotal: 3.77s\tremaining: 14.2s\n",
      "84:\tlearn: 0.0038673\ttotal: 3.81s\tremaining: 14.1s\n",
      "85:\tlearn: 0.0038140\ttotal: 3.84s\tremaining: 14s\n",
      "86:\tlearn: 0.0038140\ttotal: 3.87s\tremaining: 13.9s\n",
      "87:\tlearn: 0.0038140\ttotal: 3.9s\tremaining: 13.8s\n",
      "88:\tlearn: 0.0037549\ttotal: 3.94s\tremaining: 13.8s\n",
      "89:\tlearn: 0.0036746\ttotal: 3.97s\tremaining: 13.7s\n",
      "90:\tlearn: 0.0036746\ttotal: 4.01s\tremaining: 13.6s\n",
      "91:\tlearn: 0.0036746\ttotal: 4.04s\tremaining: 13.5s\n",
      "92:\tlearn: 0.0036556\ttotal: 4.08s\tremaining: 13.5s\n",
      "93:\tlearn: 0.0034314\ttotal: 4.12s\tremaining: 13.4s\n",
      "94:\tlearn: 0.0033919\ttotal: 4.15s\tremaining: 13.3s\n",
      "95:\tlearn: 0.0033479\ttotal: 4.2s\tremaining: 13.3s\n",
      "96:\tlearn: 0.0033349\ttotal: 4.24s\tremaining: 13.2s\n",
      "97:\tlearn: 0.0033261\ttotal: 4.28s\tremaining: 13.2s\n",
      "98:\tlearn: 0.0033261\ttotal: 4.35s\tremaining: 13.2s\n",
      "99:\tlearn: 0.0033261\ttotal: 4.39s\tremaining: 13.2s\n",
      "100:\tlearn: 0.0033260\ttotal: 4.42s\tremaining: 13.1s\n",
      "101:\tlearn: 0.0033260\ttotal: 4.46s\tremaining: 13s\n",
      "102:\tlearn: 0.0033260\ttotal: 4.49s\tremaining: 13s\n",
      "103:\tlearn: 0.0033260\ttotal: 4.52s\tremaining: 12.9s\n",
      "104:\tlearn: 0.0033259\ttotal: 4.55s\tremaining: 12.8s\n",
      "105:\tlearn: 0.0033259\ttotal: 4.62s\tremaining: 12.8s\n",
      "106:\tlearn: 0.0033259\ttotal: 4.67s\tremaining: 12.8s\n",
      "107:\tlearn: 0.0033259\ttotal: 4.71s\tremaining: 12.7s\n",
      "108:\tlearn: 0.0033258\ttotal: 4.75s\tremaining: 12.7s\n",
      "109:\tlearn: 0.0032993\ttotal: 4.78s\tremaining: 12.6s\n",
      "110:\tlearn: 0.0032993\ttotal: 4.84s\tremaining: 12.6s\n",
      "111:\tlearn: 0.0032965\ttotal: 4.9s\tremaining: 12.6s\n",
      "112:\tlearn: 0.0032965\ttotal: 4.96s\tremaining: 12.6s\n",
      "113:\tlearn: 0.0032303\ttotal: 5s\tremaining: 12.6s\n",
      "114:\tlearn: 0.0032303\ttotal: 5.03s\tremaining: 12.5s\n",
      "115:\tlearn: 0.0032089\ttotal: 5.07s\tremaining: 12.4s\n",
      "116:\tlearn: 0.0031124\ttotal: 5.1s\tremaining: 12.3s\n",
      "117:\tlearn: 0.0031124\ttotal: 5.14s\tremaining: 12.3s\n",
      "118:\tlearn: 0.0031124\ttotal: 5.2s\tremaining: 12.3s\n",
      "119:\tlearn: 0.0031124\ttotal: 5.26s\tremaining: 12.3s\n",
      "120:\tlearn: 0.0030958\ttotal: 5.33s\tremaining: 12.3s\n",
      "121:\tlearn: 0.0030958\ttotal: 5.39s\tremaining: 12.3s\n",
      "122:\tlearn: 0.0030958\ttotal: 5.44s\tremaining: 12.3s\n",
      "123:\tlearn: 0.0030958\ttotal: 5.49s\tremaining: 12.2s\n",
      "124:\tlearn: 0.0030957\ttotal: 5.54s\tremaining: 12.2s\n",
      "125:\tlearn: 0.0030957\ttotal: 5.6s\tremaining: 12.2s\n",
      "126:\tlearn: 0.0030957\ttotal: 5.65s\tremaining: 12.1s\n",
      "127:\tlearn: 0.0030957\ttotal: 5.7s\tremaining: 12.1s\n",
      "128:\tlearn: 0.0030957\ttotal: 5.76s\tremaining: 12.1s\n",
      "129:\tlearn: 0.0030956\ttotal: 5.81s\tremaining: 12.1s\n",
      "130:\tlearn: 0.0030956\ttotal: 5.86s\tremaining: 12s\n",
      "131:\tlearn: 0.0030956\ttotal: 5.94s\tremaining: 12.1s\n",
      "132:\tlearn: 0.0030956\ttotal: 5.97s\tremaining: 12s\n",
      "133:\tlearn: 0.0030956\ttotal: 6.01s\tremaining: 11.9s\n",
      "134:\tlearn: 0.0030956\ttotal: 6.05s\tremaining: 11.9s\n",
      "135:\tlearn: 0.0030956\ttotal: 6.08s\tremaining: 11.8s\n",
      "136:\tlearn: 0.0030854\ttotal: 6.11s\tremaining: 11.7s\n",
      "137:\tlearn: 0.0029867\ttotal: 6.14s\tremaining: 11.7s\n",
      "138:\tlearn: 0.0029867\ttotal: 6.17s\tremaining: 11.6s\n",
      "139:\tlearn: 0.0029867\ttotal: 6.2s\tremaining: 11.5s\n",
      "140:\tlearn: 0.0029256\ttotal: 6.24s\tremaining: 11.5s\n",
      "141:\tlearn: 0.0029256\ttotal: 6.27s\tremaining: 11.4s\n",
      "142:\tlearn: 0.0029256\ttotal: 6.3s\tremaining: 11.3s\n",
      "143:\tlearn: 0.0029256\ttotal: 6.36s\tremaining: 11.3s\n",
      "144:\tlearn: 0.0029256\ttotal: 6.4s\tremaining: 11.3s\n",
      "145:\tlearn: 0.0029256\ttotal: 6.46s\tremaining: 11.2s\n",
      "146:\tlearn: 0.0029256\ttotal: 6.51s\tremaining: 11.2s\n",
      "147:\tlearn: 0.0029023\ttotal: 6.57s\tremaining: 11.2s\n",
      "148:\tlearn: 0.0029015\ttotal: 6.63s\tremaining: 11.2s\n",
      "149:\tlearn: 0.0029015\ttotal: 6.69s\tremaining: 11.2s\n",
      "150:\tlearn: 0.0029015\ttotal: 6.75s\tremaining: 11.1s\n",
      "151:\tlearn: 0.0029015\ttotal: 6.8s\tremaining: 11.1s\n",
      "152:\tlearn: 0.0029014\ttotal: 6.85s\tremaining: 11.1s\n",
      "153:\tlearn: 0.0029014\ttotal: 6.89s\tremaining: 11s\n",
      "154:\tlearn: 0.0029014\ttotal: 6.95s\tremaining: 11s\n",
      "155:\tlearn: 0.0028489\ttotal: 7.01s\tremaining: 11s\n",
      "156:\tlearn: 0.0028277\ttotal: 7.07s\tremaining: 10.9s\n",
      "157:\tlearn: 0.0028277\ttotal: 7.13s\tremaining: 10.9s\n",
      "158:\tlearn: 0.0028276\ttotal: 7.18s\tremaining: 10.9s\n",
      "159:\tlearn: 0.0028276\ttotal: 7.24s\tremaining: 10.9s\n",
      "160:\tlearn: 0.0028275\ttotal: 7.3s\tremaining: 10.8s\n",
      "161:\tlearn: 0.0028275\ttotal: 7.37s\tremaining: 10.8s\n",
      "162:\tlearn: 0.0028275\ttotal: 7.43s\tremaining: 10.8s\n"
     ]
    },
    {
     "name": "stdout",
     "output_type": "stream",
     "text": [
      "163:\tlearn: 0.0028275\ttotal: 7.5s\tremaining: 10.8s\n",
      "164:\tlearn: 0.0028187\ttotal: 7.55s\tremaining: 10.8s\n",
      "165:\tlearn: 0.0028187\ttotal: 7.61s\tremaining: 10.7s\n",
      "166:\tlearn: 0.0027739\ttotal: 7.67s\tremaining: 10.7s\n",
      "167:\tlearn: 0.0027643\ttotal: 7.73s\tremaining: 10.7s\n",
      "168:\tlearn: 0.0027643\ttotal: 7.8s\tremaining: 10.7s\n",
      "169:\tlearn: 0.0027605\ttotal: 7.86s\tremaining: 10.6s\n",
      "170:\tlearn: 0.0027605\ttotal: 7.91s\tremaining: 10.6s\n",
      "171:\tlearn: 0.0027605\ttotal: 7.97s\tremaining: 10.6s\n",
      "172:\tlearn: 0.0027604\ttotal: 8.04s\tremaining: 10.6s\n",
      "173:\tlearn: 0.0027604\ttotal: 8.11s\tremaining: 10.5s\n",
      "174:\tlearn: 0.0027604\ttotal: 8.17s\tremaining: 10.5s\n",
      "175:\tlearn: 0.0027603\ttotal: 8.26s\tremaining: 10.5s\n",
      "176:\tlearn: 0.0027603\ttotal: 8.32s\tremaining: 10.5s\n",
      "177:\tlearn: 0.0027603\ttotal: 8.37s\tremaining: 10.4s\n",
      "178:\tlearn: 0.0027603\ttotal: 8.42s\tremaining: 10.4s\n",
      "179:\tlearn: 0.0027603\ttotal: 8.47s\tremaining: 10.4s\n",
      "180:\tlearn: 0.0027545\ttotal: 8.51s\tremaining: 10.3s\n",
      "181:\tlearn: 0.0027545\ttotal: 8.56s\tremaining: 10.3s\n",
      "182:\tlearn: 0.0027544\ttotal: 8.62s\tremaining: 10.2s\n",
      "183:\tlearn: 0.0027544\ttotal: 8.69s\tremaining: 10.2s\n",
      "184:\tlearn: 0.0027544\ttotal: 8.76s\tremaining: 10.2s\n",
      "185:\tlearn: 0.0027544\ttotal: 8.81s\tremaining: 10.1s\n",
      "186:\tlearn: 0.0027544\ttotal: 8.84s\tremaining: 10.1s\n",
      "187:\tlearn: 0.0027544\ttotal: 8.87s\tremaining: 10s\n",
      "188:\tlearn: 0.0027544\ttotal: 8.91s\tremaining: 9.95s\n",
      "189:\tlearn: 0.0027544\ttotal: 8.94s\tremaining: 9.88s\n",
      "190:\tlearn: 0.0027168\ttotal: 8.97s\tremaining: 9.82s\n",
      "191:\tlearn: 0.0027168\ttotal: 9.02s\tremaining: 9.77s\n",
      "192:\tlearn: 0.0027167\ttotal: 9.05s\tremaining: 9.71s\n",
      "193:\tlearn: 0.0027167\ttotal: 9.09s\tremaining: 9.65s\n",
      "194:\tlearn: 0.0027167\ttotal: 9.12s\tremaining: 9.59s\n",
      "195:\tlearn: 0.0027166\ttotal: 9.15s\tremaining: 9.53s\n",
      "196:\tlearn: 0.0027166\ttotal: 9.18s\tremaining: 9.46s\n",
      "197:\tlearn: 0.0027166\ttotal: 9.21s\tremaining: 9.39s\n",
      "198:\tlearn: 0.0027166\ttotal: 9.26s\tremaining: 9.35s\n",
      "199:\tlearn: 0.0027166\ttotal: 9.29s\tremaining: 9.29s\n",
      "200:\tlearn: 0.0027166\ttotal: 9.32s\tremaining: 9.23s\n",
      "201:\tlearn: 0.0026947\ttotal: 9.37s\tremaining: 9.18s\n",
      "202:\tlearn: 0.0026947\ttotal: 9.39s\tremaining: 9.12s\n",
      "203:\tlearn: 0.0026946\ttotal: 9.42s\tremaining: 9.05s\n",
      "204:\tlearn: 0.0026946\ttotal: 9.45s\tremaining: 8.99s\n",
      "205:\tlearn: 0.0026946\ttotal: 9.48s\tremaining: 8.93s\n",
      "206:\tlearn: 0.0026946\ttotal: 9.53s\tremaining: 8.89s\n",
      "207:\tlearn: 0.0026946\ttotal: 9.59s\tremaining: 8.85s\n",
      "208:\tlearn: 0.0026946\ttotal: 9.65s\tremaining: 8.81s\n",
      "209:\tlearn: 0.0026946\ttotal: 9.69s\tremaining: 8.77s\n",
      "210:\tlearn: 0.0026946\ttotal: 9.73s\tremaining: 8.71s\n",
      "211:\tlearn: 0.0026946\ttotal: 9.79s\tremaining: 8.68s\n",
      "212:\tlearn: 0.0026946\ttotal: 9.83s\tremaining: 8.63s\n",
      "213:\tlearn: 0.0026946\ttotal: 9.88s\tremaining: 8.59s\n",
      "214:\tlearn: 0.0026946\ttotal: 9.92s\tremaining: 8.53s\n",
      "215:\tlearn: 0.0026946\ttotal: 9.97s\tremaining: 8.5s\n",
      "216:\tlearn: 0.0026945\ttotal: 10s\tremaining: 8.44s\n",
      "217:\tlearn: 0.0026945\ttotal: 10s\tremaining: 8.38s\n",
      "218:\tlearn: 0.0026945\ttotal: 10.1s\tremaining: 8.32s\n",
      "219:\tlearn: 0.0026945\ttotal: 10.1s\tremaining: 8.26s\n",
      "220:\tlearn: 0.0026945\ttotal: 10.1s\tremaining: 8.21s\n",
      "221:\tlearn: 0.0026945\ttotal: 10.2s\tremaining: 8.17s\n",
      "222:\tlearn: 0.0026945\ttotal: 10.2s\tremaining: 8.13s\n",
      "223:\tlearn: 0.0026945\ttotal: 10.3s\tremaining: 8.1s\n",
      "224:\tlearn: 0.0026945\ttotal: 10.3s\tremaining: 8.04s\n",
      "225:\tlearn: 0.0026945\ttotal: 10.4s\tremaining: 7.98s\n",
      "226:\tlearn: 0.0026945\ttotal: 10.4s\tremaining: 7.93s\n",
      "227:\tlearn: 0.0026945\ttotal: 10.5s\tremaining: 7.89s\n",
      "228:\tlearn: 0.0026945\ttotal: 10.5s\tremaining: 7.87s\n",
      "229:\tlearn: 0.0026945\ttotal: 10.6s\tremaining: 7.83s\n",
      "230:\tlearn: 0.0026945\ttotal: 10.6s\tremaining: 7.79s\n",
      "231:\tlearn: 0.0026945\ttotal: 10.7s\tremaining: 7.73s\n",
      "232:\tlearn: 0.0026945\ttotal: 10.7s\tremaining: 7.68s\n",
      "233:\tlearn: 0.0026945\ttotal: 10.7s\tremaining: 7.62s\n",
      "234:\tlearn: 0.0026945\ttotal: 10.8s\tremaining: 7.56s\n",
      "235:\tlearn: 0.0026945\ttotal: 10.8s\tremaining: 7.51s\n",
      "236:\tlearn: 0.0026945\ttotal: 10.9s\tremaining: 7.47s\n",
      "237:\tlearn: 0.0026945\ttotal: 10.9s\tremaining: 7.44s\n",
      "238:\tlearn: 0.0026944\ttotal: 11s\tremaining: 7.4s\n",
      "239:\tlearn: 0.0026944\ttotal: 11s\tremaining: 7.34s\n",
      "240:\tlearn: 0.0026944\ttotal: 11s\tremaining: 7.28s\n",
      "241:\tlearn: 0.0026944\ttotal: 11.1s\tremaining: 7.22s\n",
      "242:\tlearn: 0.0026944\ttotal: 11.1s\tremaining: 7.17s\n",
      "243:\tlearn: 0.0026944\ttotal: 11.1s\tremaining: 7.13s\n",
      "244:\tlearn: 0.0026944\ttotal: 11.2s\tremaining: 7.09s\n",
      "245:\tlearn: 0.0026944\ttotal: 11.3s\tremaining: 7.05s\n",
      "246:\tlearn: 0.0026944\ttotal: 11.3s\tremaining: 7s\n",
      "247:\tlearn: 0.0026944\ttotal: 11.3s\tremaining: 6.95s\n",
      "248:\tlearn: 0.0026516\ttotal: 11.4s\tremaining: 6.92s\n",
      "249:\tlearn: 0.0025899\ttotal: 11.5s\tremaining: 6.88s\n",
      "250:\tlearn: 0.0025778\ttotal: 11.5s\tremaining: 6.85s\n",
      "251:\tlearn: 0.0025778\ttotal: 11.6s\tremaining: 6.8s\n",
      "252:\tlearn: 0.0025777\ttotal: 11.6s\tremaining: 6.75s\n",
      "253:\tlearn: 0.0025777\ttotal: 11.7s\tremaining: 6.72s\n",
      "254:\tlearn: 0.0025777\ttotal: 11.7s\tremaining: 6.67s\n",
      "255:\tlearn: 0.0025777\ttotal: 11.8s\tremaining: 6.63s\n",
      "256:\tlearn: 0.0025450\ttotal: 11.8s\tremaining: 6.58s\n",
      "257:\tlearn: 0.0025450\ttotal: 11.9s\tremaining: 6.54s\n",
      "258:\tlearn: 0.0025186\ttotal: 11.9s\tremaining: 6.48s\n",
      "259:\tlearn: 0.0025074\ttotal: 11.9s\tremaining: 6.43s\n",
      "260:\tlearn: 0.0025073\ttotal: 12s\tremaining: 6.37s\n",
      "261:\tlearn: 0.0025073\ttotal: 12s\tremaining: 6.32s\n",
      "262:\tlearn: 0.0025073\ttotal: 12s\tremaining: 6.26s\n",
      "263:\tlearn: 0.0025073\ttotal: 12.1s\tremaining: 6.22s\n",
      "264:\tlearn: 0.0025073\ttotal: 12.2s\tremaining: 6.19s\n",
      "265:\tlearn: 0.0025073\ttotal: 12.2s\tremaining: 6.14s\n",
      "266:\tlearn: 0.0025073\ttotal: 12.2s\tremaining: 6.09s\n",
      "267:\tlearn: 0.0025073\ttotal: 12.3s\tremaining: 6.04s\n",
      "268:\tlearn: 0.0024770\ttotal: 12.3s\tremaining: 5.99s\n",
      "269:\tlearn: 0.0024770\ttotal: 12.3s\tremaining: 5.94s\n",
      "270:\tlearn: 0.0024770\ttotal: 12.4s\tremaining: 5.89s\n",
      "271:\tlearn: 0.0024770\ttotal: 12.4s\tremaining: 5.84s\n",
      "272:\tlearn: 0.0024770\ttotal: 12.4s\tremaining: 5.79s\n",
      "273:\tlearn: 0.0023794\ttotal: 12.5s\tremaining: 5.74s\n",
      "274:\tlearn: 0.0023794\ttotal: 12.5s\tremaining: 5.69s\n",
      "275:\tlearn: 0.0023794\ttotal: 12.6s\tremaining: 5.64s\n",
      "276:\tlearn: 0.0023550\ttotal: 12.6s\tremaining: 5.61s\n",
      "277:\tlearn: 0.0022994\ttotal: 12.7s\tremaining: 5.57s\n",
      "278:\tlearn: 0.0022994\ttotal: 12.7s\tremaining: 5.53s\n",
      "279:\tlearn: 0.0022993\ttotal: 12.8s\tremaining: 5.48s\n",
      "280:\tlearn: 0.0022993\ttotal: 12.8s\tremaining: 5.43s\n",
      "281:\tlearn: 0.0022993\ttotal: 12.9s\tremaining: 5.38s\n",
      "282:\tlearn: 0.0022992\ttotal: 12.9s\tremaining: 5.33s\n",
      "283:\tlearn: 0.0022992\ttotal: 12.9s\tremaining: 5.28s\n",
      "284:\tlearn: 0.0022992\ttotal: 13s\tremaining: 5.23s\n",
      "285:\tlearn: 0.0022992\ttotal: 13s\tremaining: 5.18s\n",
      "286:\tlearn: 0.0022992\ttotal: 13s\tremaining: 5.13s\n",
      "287:\tlearn: 0.0022992\ttotal: 13.1s\tremaining: 5.08s\n",
      "288:\tlearn: 0.0022992\ttotal: 13.1s\tremaining: 5.03s\n",
      "289:\tlearn: 0.0022992\ttotal: 13.1s\tremaining: 4.98s\n",
      "290:\tlearn: 0.0022991\ttotal: 13.2s\tremaining: 4.93s\n",
      "291:\tlearn: 0.0022991\ttotal: 13.2s\tremaining: 4.88s\n",
      "292:\tlearn: 0.0022991\ttotal: 13.2s\tremaining: 4.83s\n",
      "293:\tlearn: 0.0022991\ttotal: 13.3s\tremaining: 4.78s\n",
      "294:\tlearn: 0.0022991\ttotal: 13.3s\tremaining: 4.73s\n",
      "295:\tlearn: 0.0022991\ttotal: 13.3s\tremaining: 4.68s\n",
      "296:\tlearn: 0.0022991\ttotal: 13.4s\tremaining: 4.63s\n",
      "297:\tlearn: 0.0022991\ttotal: 13.4s\tremaining: 4.58s\n",
      "298:\tlearn: 0.0022990\ttotal: 13.4s\tremaining: 4.54s\n",
      "299:\tlearn: 0.0022990\ttotal: 13.5s\tremaining: 4.49s\n",
      "300:\tlearn: 0.0022990\ttotal: 13.5s\tremaining: 4.45s\n",
      "301:\tlearn: 0.0022990\ttotal: 13.6s\tremaining: 4.41s\n",
      "302:\tlearn: 0.0022990\ttotal: 13.6s\tremaining: 4.37s\n",
      "303:\tlearn: 0.0022990\ttotal: 13.7s\tremaining: 4.32s\n",
      "304:\tlearn: 0.0022990\ttotal: 13.7s\tremaining: 4.27s\n",
      "305:\tlearn: 0.0022990\ttotal: 13.7s\tremaining: 4.22s\n",
      "306:\tlearn: 0.0022990\ttotal: 13.8s\tremaining: 4.18s\n",
      "307:\tlearn: 0.0022990\ttotal: 13.9s\tremaining: 4.14s\n",
      "308:\tlearn: 0.0022990\ttotal: 13.9s\tremaining: 4.1s\n",
      "309:\tlearn: 0.0022990\ttotal: 14s\tremaining: 4.06s\n",
      "310:\tlearn: 0.0022990\ttotal: 14s\tremaining: 4s\n",
      "311:\tlearn: 0.0022989\ttotal: 14s\tremaining: 3.96s\n",
      "312:\tlearn: 0.0022989\ttotal: 14.1s\tremaining: 3.91s\n",
      "313:\tlearn: 0.0022989\ttotal: 14.1s\tremaining: 3.86s\n",
      "314:\tlearn: 0.0022792\ttotal: 14.1s\tremaining: 3.81s\n",
      "315:\tlearn: 0.0022792\ttotal: 14.2s\tremaining: 3.77s\n",
      "316:\tlearn: 0.0022792\ttotal: 14.2s\tremaining: 3.72s\n",
      "317:\tlearn: 0.0022792\ttotal: 14.2s\tremaining: 3.67s\n",
      "318:\tlearn: 0.0022792\ttotal: 14.3s\tremaining: 3.62s\n",
      "319:\tlearn: 0.0022792\ttotal: 14.3s\tremaining: 3.58s\n",
      "320:\tlearn: 0.0022792\ttotal: 14.3s\tremaining: 3.53s\n",
      "321:\tlearn: 0.0022792\ttotal: 14.4s\tremaining: 3.48s\n",
      "322:\tlearn: 0.0022792\ttotal: 14.4s\tremaining: 3.43s\n",
      "323:\tlearn: 0.0022792\ttotal: 14.4s\tremaining: 3.38s\n",
      "324:\tlearn: 0.0022792\ttotal: 14.4s\tremaining: 3.33s\n",
      "325:\tlearn: 0.0022790\ttotal: 14.5s\tremaining: 3.29s\n",
      "326:\tlearn: 0.0022031\ttotal: 14.5s\tremaining: 3.24s\n"
     ]
    },
    {
     "name": "stdout",
     "output_type": "stream",
     "text": [
      "327:\tlearn: 0.0022030\ttotal: 14.5s\tremaining: 3.19s\n",
      "328:\tlearn: 0.0022030\ttotal: 14.6s\tremaining: 3.15s\n",
      "329:\tlearn: 0.0022030\ttotal: 14.6s\tremaining: 3.1s\n",
      "330:\tlearn: 0.0022030\ttotal: 14.6s\tremaining: 3.05s\n",
      "331:\tlearn: 0.0022030\ttotal: 14.7s\tremaining: 3s\n",
      "332:\tlearn: 0.0022030\ttotal: 14.7s\tremaining: 2.96s\n",
      "333:\tlearn: 0.0022030\ttotal: 14.7s\tremaining: 2.91s\n",
      "334:\tlearn: 0.0022029\ttotal: 14.7s\tremaining: 2.86s\n",
      "335:\tlearn: 0.0022029\ttotal: 14.8s\tremaining: 2.81s\n",
      "336:\tlearn: 0.0022029\ttotal: 14.8s\tremaining: 2.77s\n",
      "337:\tlearn: 0.0021045\ttotal: 14.8s\tremaining: 2.72s\n",
      "338:\tlearn: 0.0021045\ttotal: 14.9s\tremaining: 2.67s\n",
      "339:\tlearn: 0.0021045\ttotal: 14.9s\tremaining: 2.63s\n",
      "340:\tlearn: 0.0021045\ttotal: 14.9s\tremaining: 2.58s\n",
      "341:\tlearn: 0.0021045\ttotal: 14.9s\tremaining: 2.53s\n",
      "342:\tlearn: 0.0021045\ttotal: 15s\tremaining: 2.49s\n",
      "343:\tlearn: 0.0021045\ttotal: 15s\tremaining: 2.44s\n",
      "344:\tlearn: 0.0021045\ttotal: 15s\tremaining: 2.4s\n",
      "345:\tlearn: 0.0021045\ttotal: 15.1s\tremaining: 2.35s\n",
      "346:\tlearn: 0.0021044\ttotal: 15.1s\tremaining: 2.31s\n",
      "347:\tlearn: 0.0021044\ttotal: 15.1s\tremaining: 2.26s\n",
      "348:\tlearn: 0.0021044\ttotal: 15.2s\tremaining: 2.21s\n",
      "349:\tlearn: 0.0021044\ttotal: 15.2s\tremaining: 2.17s\n",
      "350:\tlearn: 0.0021043\ttotal: 15.2s\tremaining: 2.12s\n",
      "351:\tlearn: 0.0021043\ttotal: 15.2s\tremaining: 2.08s\n",
      "352:\tlearn: 0.0021043\ttotal: 15.3s\tremaining: 2.03s\n",
      "353:\tlearn: 0.0021043\ttotal: 15.3s\tremaining: 1.99s\n",
      "354:\tlearn: 0.0021043\ttotal: 15.3s\tremaining: 1.94s\n",
      "355:\tlearn: 0.0021043\ttotal: 15.4s\tremaining: 1.9s\n",
      "356:\tlearn: 0.0021043\ttotal: 15.4s\tremaining: 1.85s\n",
      "357:\tlearn: 0.0021043\ttotal: 15.4s\tremaining: 1.81s\n",
      "358:\tlearn: 0.0021043\ttotal: 15.4s\tremaining: 1.76s\n",
      "359:\tlearn: 0.0020870\ttotal: 15.5s\tremaining: 1.72s\n",
      "360:\tlearn: 0.0020870\ttotal: 15.5s\tremaining: 1.68s\n",
      "361:\tlearn: 0.0020870\ttotal: 15.5s\tremaining: 1.63s\n",
      "362:\tlearn: 0.0020241\ttotal: 15.6s\tremaining: 1.59s\n",
      "363:\tlearn: 0.0020241\ttotal: 15.6s\tremaining: 1.54s\n",
      "364:\tlearn: 0.0020241\ttotal: 15.6s\tremaining: 1.5s\n",
      "365:\tlearn: 0.0020241\ttotal: 15.7s\tremaining: 1.45s\n",
      "366:\tlearn: 0.0020240\ttotal: 15.7s\tremaining: 1.41s\n",
      "367:\tlearn: 0.0020240\ttotal: 15.7s\tremaining: 1.37s\n",
      "368:\tlearn: 0.0020240\ttotal: 15.7s\tremaining: 1.32s\n",
      "369:\tlearn: 0.0020240\ttotal: 15.8s\tremaining: 1.28s\n",
      "370:\tlearn: 0.0020240\ttotal: 15.8s\tremaining: 1.24s\n",
      "371:\tlearn: 0.0020240\ttotal: 15.8s\tremaining: 1.19s\n",
      "372:\tlearn: 0.0020240\ttotal: 15.9s\tremaining: 1.15s\n",
      "373:\tlearn: 0.0020240\ttotal: 15.9s\tremaining: 1.1s\n",
      "374:\tlearn: 0.0020240\ttotal: 15.9s\tremaining: 1.06s\n",
      "375:\tlearn: 0.0020239\ttotal: 16s\tremaining: 1.02s\n",
      "376:\tlearn: 0.0020239\ttotal: 16s\tremaining: 977ms\n",
      "377:\tlearn: 0.0020239\ttotal: 16s\tremaining: 934ms\n",
      "378:\tlearn: 0.0020239\ttotal: 16.1s\tremaining: 891ms\n",
      "379:\tlearn: 0.0020239\ttotal: 16.1s\tremaining: 848ms\n",
      "380:\tlearn: 0.0020239\ttotal: 16.1s\tremaining: 805ms\n",
      "381:\tlearn: 0.0020239\ttotal: 16.2s\tremaining: 764ms\n",
      "382:\tlearn: 0.0020239\ttotal: 16.3s\tremaining: 722ms\n",
      "383:\tlearn: 0.0020236\ttotal: 16.3s\tremaining: 680ms\n",
      "384:\tlearn: 0.0020236\ttotal: 16.4s\tremaining: 637ms\n",
      "385:\tlearn: 0.0020236\ttotal: 16.4s\tremaining: 594ms\n",
      "386:\tlearn: 0.0020236\ttotal: 16.4s\tremaining: 552ms\n",
      "387:\tlearn: 0.0020236\ttotal: 16.4s\tremaining: 509ms\n",
      "388:\tlearn: 0.0020235\ttotal: 16.5s\tremaining: 466ms\n",
      "389:\tlearn: 0.0020235\ttotal: 16.5s\tremaining: 423ms\n",
      "390:\tlearn: 0.0020235\ttotal: 16.5s\tremaining: 381ms\n",
      "391:\tlearn: 0.0020235\ttotal: 16.6s\tremaining: 338ms\n",
      "392:\tlearn: 0.0020235\ttotal: 16.6s\tremaining: 296ms\n",
      "393:\tlearn: 0.0020235\ttotal: 16.6s\tremaining: 253ms\n",
      "394:\tlearn: 0.0020234\ttotal: 16.7s\tremaining: 211ms\n",
      "395:\tlearn: 0.0020234\ttotal: 16.7s\tremaining: 169ms\n",
      "396:\tlearn: 0.0020234\ttotal: 16.7s\tremaining: 126ms\n",
      "397:\tlearn: 0.0020234\ttotal: 16.8s\tremaining: 84.3ms\n",
      "398:\tlearn: 0.0020234\ttotal: 16.8s\tremaining: 42.1ms\n",
      "399:\tlearn: 0.0020234\ttotal: 16.8s\tremaining: 0us\n",
      "CatBoost 예측 정확도:  1.0\n"
     ]
    }
   ],
   "source": [
    "cb_clf.fit(train_pool)\n",
    "pred = cb_clf.predict(test_pool)\n",
    "\n",
    "print('CatBoost 예측 정확도: ', accuracy_score(y_test, pred))"
   ]
  },
  {
   "cell_type": "markdown",
   "id": "HsvRSI0Z3G06",
   "metadata": {
    "id": "HsvRSI0Z3G06"
   },
   "source": [
    "수고하셨습니다!"
   ]
  }
 ],
 "metadata": {
  "colab": {
   "collapsed_sections": [],
   "provenance": []
  },
  "hide_input": false,
  "kernelspec": {
   "display_name": "Python 3 (ipykernel)",
   "language": "python",
   "name": "python3"
  },
  "language_info": {
   "codemirror_mode": {
    "name": "ipython",
    "version": 3
   },
   "file_extension": ".py",
   "mimetype": "text/x-python",
   "name": "python",
   "nbconvert_exporter": "python",
   "pygments_lexer": "ipython3",
   "version": "3.9.12"
  },
  "toc": {
   "base_numbering": 1,
   "nav_menu": {},
   "number_sections": true,
   "sideBar": true,
   "skip_h1_title": false,
   "title_cell": "Table of Contents",
   "title_sidebar": "Contents",
   "toc_cell": false,
   "toc_position": {},
   "toc_section_display": true,
   "toc_window_display": false
  }
 },
 "nbformat": 4,
 "nbformat_minor": 5
}
