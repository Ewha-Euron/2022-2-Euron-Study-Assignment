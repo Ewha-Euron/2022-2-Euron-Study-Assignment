{
 "cells": [
  {
   "cell_type": "markdown",
   "id": "6f12edaf",
   "metadata": {
    "id": "6f12edaf"
   },
   "source": [
    "##  Week4 복습과제\n",
    "\n",
    "Week3에 대한 복습과제입니다.  \n",
    "데이터셋(train.csv, mushrooms.csv)을 다운 받아주세요!"
   ]
  },
  {
   "cell_type": "code",
   "execution_count": 1,
   "id": "6719779b",
   "metadata": {
    "id": "6719779b"
   },
   "outputs": [],
   "source": [
    "import pandas as pd\n",
    "import numpy as np\n",
    "import matplotlib.pyplot as plt\n",
    "import seaborn as sns\n",
    "import warnings\n",
    "warnings.filterwarnings('ignore')"
   ]
  },
  {
   "cell_type": "markdown",
   "id": "47bb9a03",
   "metadata": {
    "id": "47bb9a03"
   },
   "source": [
    "#### 'train.csv'으로 train_df를 생성하세요."
   ]
  },
  {
   "cell_type": "code",
   "execution_count": 2,
   "id": "979db9e6",
   "metadata": {
    "id": "979db9e6"
   },
   "outputs": [],
   "source": [
    "train_df = pd.read_csv('train.csv')"
   ]
  },
  {
   "cell_type": "markdown",
   "id": "0874e7b6",
   "metadata": {
    "id": "0874e7b6"
   },
   "source": [
    "#### 데이터 보정을 위해 다음 코드를 실행시켜 주세요."
   ]
  },
  {
   "cell_type": "code",
   "execution_count": 3,
   "id": "d824c2ee",
   "metadata": {
    "id": "d824c2ee"
   },
   "outputs": [],
   "source": [
    "# id 제외\n",
    "\n",
    "train_df = train_df.drop(\"id\", axis = 1)"
   ]
  },
  {
   "cell_type": "code",
   "execution_count": 4,
   "id": "1e351fe1",
   "metadata": {},
   "outputs": [
    {
     "data": {
      "text/html": [
       "<div>\n",
       "<style scoped>\n",
       "    .dataframe tbody tr th:only-of-type {\n",
       "        vertical-align: middle;\n",
       "    }\n",
       "\n",
       "    .dataframe tbody tr th {\n",
       "        vertical-align: top;\n",
       "    }\n",
       "\n",
       "    .dataframe thead th {\n",
       "        text-align: right;\n",
       "    }\n",
       "</style>\n",
       "<table border=\"1\" class=\"dataframe\">\n",
       "  <thead>\n",
       "    <tr style=\"text-align: right;\">\n",
       "      <th></th>\n",
       "      <th>bone_length</th>\n",
       "      <th>rotting_flesh</th>\n",
       "      <th>hair_length</th>\n",
       "      <th>has_soul</th>\n",
       "      <th>color</th>\n",
       "      <th>type</th>\n",
       "    </tr>\n",
       "  </thead>\n",
       "  <tbody>\n",
       "    <tr>\n",
       "      <th>0</th>\n",
       "      <td>0.354512</td>\n",
       "      <td>0.350839</td>\n",
       "      <td>0.465761</td>\n",
       "      <td>0.781142</td>\n",
       "      <td>clear</td>\n",
       "      <td>Ghoul</td>\n",
       "    </tr>\n",
       "    <tr>\n",
       "      <th>1</th>\n",
       "      <td>0.575560</td>\n",
       "      <td>0.425868</td>\n",
       "      <td>0.531401</td>\n",
       "      <td>0.439899</td>\n",
       "      <td>green</td>\n",
       "      <td>Goblin</td>\n",
       "    </tr>\n",
       "    <tr>\n",
       "      <th>2</th>\n",
       "      <td>0.467875</td>\n",
       "      <td>0.354330</td>\n",
       "      <td>0.811616</td>\n",
       "      <td>0.791225</td>\n",
       "      <td>black</td>\n",
       "      <td>Ghoul</td>\n",
       "    </tr>\n",
       "  </tbody>\n",
       "</table>\n",
       "</div>"
      ],
      "text/plain": [
       "   bone_length  rotting_flesh  hair_length  has_soul  color    type\n",
       "0     0.354512       0.350839     0.465761  0.781142  clear   Ghoul\n",
       "1     0.575560       0.425868     0.531401  0.439899  green  Goblin\n",
       "2     0.467875       0.354330     0.811616  0.791225  black   Ghoul"
      ]
     },
     "execution_count": 4,
     "metadata": {},
     "output_type": "execute_result"
    }
   ],
   "source": [
    "train_df.head(3)"
   ]
  },
  {
   "cell_type": "markdown",
   "id": "TkcOzV_k1Fvg",
   "metadata": {
    "id": "TkcOzV_k1Fvg"
   },
   "source": [
    "#### LabelEncoder를 사용해 color, type column을 인코딩한 train_df를 만드시오."
   ]
  },
  {
   "cell_type": "code",
   "execution_count": 5,
   "id": "FrkaPft31OaX",
   "metadata": {
    "id": "FrkaPft31OaX"
   },
   "outputs": [
    {
     "data": {
      "text/html": [
       "<div>\n",
       "<style scoped>\n",
       "    .dataframe tbody tr th:only-of-type {\n",
       "        vertical-align: middle;\n",
       "    }\n",
       "\n",
       "    .dataframe tbody tr th {\n",
       "        vertical-align: top;\n",
       "    }\n",
       "\n",
       "    .dataframe thead th {\n",
       "        text-align: right;\n",
       "    }\n",
       "</style>\n",
       "<table border=\"1\" class=\"dataframe\">\n",
       "  <thead>\n",
       "    <tr style=\"text-align: right;\">\n",
       "      <th></th>\n",
       "      <th>bone_length</th>\n",
       "      <th>rotting_flesh</th>\n",
       "      <th>hair_length</th>\n",
       "      <th>has_soul</th>\n",
       "      <th>color</th>\n",
       "      <th>type</th>\n",
       "    </tr>\n",
       "  </thead>\n",
       "  <tbody>\n",
       "    <tr>\n",
       "      <th>0</th>\n",
       "      <td>0.354512</td>\n",
       "      <td>0.350839</td>\n",
       "      <td>0.465761</td>\n",
       "      <td>0.781142</td>\n",
       "      <td>3</td>\n",
       "      <td>1</td>\n",
       "    </tr>\n",
       "    <tr>\n",
       "      <th>1</th>\n",
       "      <td>0.575560</td>\n",
       "      <td>0.425868</td>\n",
       "      <td>0.531401</td>\n",
       "      <td>0.439899</td>\n",
       "      <td>4</td>\n",
       "      <td>2</td>\n",
       "    </tr>\n",
       "    <tr>\n",
       "      <th>2</th>\n",
       "      <td>0.467875</td>\n",
       "      <td>0.354330</td>\n",
       "      <td>0.811616</td>\n",
       "      <td>0.791225</td>\n",
       "      <td>0</td>\n",
       "      <td>1</td>\n",
       "    </tr>\n",
       "  </tbody>\n",
       "</table>\n",
       "</div>"
      ],
      "text/plain": [
       "   bone_length  rotting_flesh  hair_length  has_soul  color  type\n",
       "0     0.354512       0.350839     0.465761  0.781142      3     1\n",
       "1     0.575560       0.425868     0.531401  0.439899      4     2\n",
       "2     0.467875       0.354330     0.811616  0.791225      0     1"
      ]
     },
     "execution_count": 5,
     "metadata": {},
     "output_type": "execute_result"
    }
   ],
   "source": [
    "from sklearn.preprocessing import LabelEncoder\n",
    "\n",
    "encoder=LabelEncoder()\n",
    "train_df['color']=encoder.fit_transform(train_df['color'])\n",
    "train_df['type'] = encoder.fit_transform(train_df['type'])\n",
    "\n",
    "train_df.head(3)"
   ]
  },
  {
   "cell_type": "markdown",
   "id": "i9vP5ij_1s_6",
   "metadata": {
    "id": "i9vP5ij_1s_6"
   },
   "source": [
    "#### feature간의 상관관계를 확인하는 heatmap을 출력하시오."
   ]
  },
  {
   "cell_type": "code",
   "execution_count": 6,
   "id": "jlYIKAtf1Yb2",
   "metadata": {
    "id": "jlYIKAtf1Yb2"
   },
   "outputs": [
    {
     "data": {
      "text/plain": [
       "<AxesSubplot:>"
      ]
     },
     "execution_count": 6,
     "metadata": {},
     "output_type": "execute_result"
    },
    {
     "data": {
      "image/png": "[encoded data removed]",
      "text/plain": [
       "<Figure size 648x648 with 2 Axes>"
      ]
     },
     "metadata": {
      "needs_background": "light"
     },
     "output_type": "display_data"
    }
   ],
   "source": [
    "import seaborn as sns\n",
    "\n",
    "plt.figure(figsize=(9,9))\n",
    "corr = train_df.corr()\n",
    "sns.heatmap(corr)"
   ]
  },
  {
   "cell_type": "markdown",
   "id": "dffe9164",
   "metadata": {
    "id": "dffe9164"
   },
   "source": [
    "#### 독립변수(X)와 종속변수(y-type)로 분리해주세요(iloc 또는 loc 활용) 그리고 확인해주세요.\n",
    "#### X와 y를 X_train, X_test, y_train, y_test으로 나누시오. (test_size=0.2, random_state=12) "
   ]
  },
  {
   "cell_type": "code",
   "execution_count": 7,
   "id": "e1f4fb30",
   "metadata": {
    "id": "e1f4fb30"
   },
   "outputs": [],
   "source": [
    "from sklearn.model_selection import train_test_split"
   ]
  },
  {
   "cell_type": "code",
   "execution_count": 8,
   "id": "94f2a85c",
   "metadata": {
    "id": "94f2a85c",
    "scrolled": true
   },
   "outputs": [
    {
     "data": {
      "text/html": [
       "<div>\n",
       "<style scoped>\n",
       "    .dataframe tbody tr th:only-of-type {\n",
       "        vertical-align: middle;\n",
       "    }\n",
       "\n",
       "    .dataframe tbody tr th {\n",
       "        vertical-align: top;\n",
       "    }\n",
       "\n",
       "    .dataframe thead th {\n",
       "        text-align: right;\n",
       "    }\n",
       "</style>\n",
       "<table border=\"1\" class=\"dataframe\">\n",
       "  <thead>\n",
       "    <tr style=\"text-align: right;\">\n",
       "      <th></th>\n",
       "      <th>bone_length</th>\n",
       "      <th>rotting_flesh</th>\n",
       "      <th>hair_length</th>\n",
       "      <th>has_soul</th>\n",
       "      <th>color</th>\n",
       "    </tr>\n",
       "  </thead>\n",
       "  <tbody>\n",
       "    <tr>\n",
       "      <th>292</th>\n",
       "      <td>0.476892</td>\n",
       "      <td>0.478592</td>\n",
       "      <td>0.403630</td>\n",
       "      <td>0.544587</td>\n",
       "      <td>2</td>\n",
       "    </tr>\n",
       "    <tr>\n",
       "      <th>236</th>\n",
       "      <td>0.451085</td>\n",
       "      <td>0.464508</td>\n",
       "      <td>0.505819</td>\n",
       "      <td>0.509010</td>\n",
       "      <td>0</td>\n",
       "    </tr>\n",
       "    <tr>\n",
       "      <th>222</th>\n",
       "      <td>0.250293</td>\n",
       "      <td>0.408878</td>\n",
       "      <td>0.456618</td>\n",
       "      <td>0.466024</td>\n",
       "      <td>5</td>\n",
       "    </tr>\n",
       "  </tbody>\n",
       "</table>\n",
       "</div>"
      ],
      "text/plain": [
       "     bone_length  rotting_flesh  hair_length  has_soul  color\n",
       "292     0.476892       0.478592     0.403630  0.544587      2\n",
       "236     0.451085       0.464508     0.505819  0.509010      0\n",
       "222     0.250293       0.408878     0.456618  0.466024      5"
      ]
     },
     "execution_count": 8,
     "metadata": {},
     "output_type": "execute_result"
    }
   ],
   "source": [
    "X_train, X_test, y_train, y_test = train_test_split(train_df.iloc[:,:5],train_df.iloc[:,5],test_size = 0.2,random_state = 12)\n",
    "X_train.head(3)"
   ]
  },
  {
   "cell_type": "markdown",
   "id": "RRRzgi_KhGDC",
   "metadata": {
    "id": "RRRzgi_KhGDC"
   },
   "source": [
    "#### Gradient Boost를 활용하여 train 세트를 fit 한 후 test 세트로 예측의 정확도를 출력하시오. (random_state=0,n_estimators=50,learning_rate=0.5)\n"
   ]
  },
  {
   "cell_type": "code",
   "execution_count": 9,
   "id": "0S0xMFdDgcLb",
   "metadata": {
    "id": "0S0xMFdDgcLb"
   },
   "outputs": [],
   "source": [
    "from sklearn.ensemble import GradientBoostingClassifier"
   ]
  },
  {
   "cell_type": "code",
   "execution_count": 10,
   "id": "LZhBzjGYhrc1",
   "metadata": {
    "id": "LZhBzjGYhrc1"
   },
   "outputs": [
    {
     "name": "stdout",
     "output_type": "stream",
     "text": [
      "GBM 정확도: 0.7067\n"
     ]
    }
   ],
   "source": [
    "from sklearn.metrics import accuracy_score\n",
    "\n",
    "gb_clf = GradientBoostingClassifier(random_state = 0, n_estimators = 50,learning_rate = 0.5)\n",
    "gb_clf.fit(X_train,y_train)\n",
    "gb_pred = gb_clf.predict(X_test)\n",
    "gb_accuracy = accuracy_score(y_test,gb_pred)\n",
    "print('GBM 정확도: {0:.4f}'.format(gb_accuracy))"
   ]
  },
  {
   "cell_type": "markdown",
   "id": "vd_H18-5hz8o",
   "metadata": {
    "id": "vd_H18-5hz8o"
   },
   "source": [
    "#### GBM 하이퍼 파라미터 튜닝을 한 후, 최적의 하이퍼 파라미터를 구하고 정확도를 출력하시오. 위의 값과 정확도를 비교하시오. 이때 n_estimators는 50,100,500, learning_rate는 0.005, 0.1, 0.5,1,10 을 변수로 넣으시오.(gridsearchCV이용,cv=2,verbose=1)"
   ]
  },
  {
   "cell_type": "code",
   "execution_count": 11,
   "id": "e8l6ivZ7hwQI",
   "metadata": {
    "id": "e8l6ivZ7hwQI"
   },
   "outputs": [
    {
     "name": "stdout",
     "output_type": "stream",
     "text": [
      "Fitting 2 folds for each of 15 candidates, totalling 30 fits\n",
      "최적 파라미터 :  {'learning_rate': 0.005, 'n_estimators': 500}\n",
      "최고 예측 정확도 : 0.7095\n"
     ]
    }
   ],
   "source": [
    "from sklearn.model_selection import GridSearchCV\n",
    "\n",
    "params = {'n_estimators':[50,100,500], 'learning_rate':[0.005,0.1,0.5,1,10]}\n",
    "\n",
    "grid_cv = GridSearchCV(gb_clf, param_grid=params, cv=2, verbose=1)\n",
    "grid_cv.fit(X_train, y_train)\n",
    "print('최적 파라미터 : ',grid_cv.best_params_)\n",
    "print('최고 예측 정확도 : {0:.4f}'.format(grid_cv.best_score_))"
   ]
  },
  {
   "cell_type": "markdown",
   "id": "e4f87798",
   "metadata": {
    "id": "e4f87798"
   },
   "source": [
    "#### 사이킷런 래퍼 클래스 XGBoost를 사용해 train 세트를 fit 한 후 test 세트로 예측의 정확도를 출력하시오. (n_estimators=400, learning_rate = 0.1, max_depth = 3)"
   ]
  },
  {
   "cell_type": "code",
   "execution_count": 12,
   "id": "31188f82",
   "metadata": {
    "id": "31188f82"
   },
   "outputs": [],
   "source": [
    "import xgboost as xgb\n",
    "from xgboost import plot_importance\n",
    "from xgboost import XGBClassifier\n",
    "\n",
    "from sklearn.metrics import accuracy_score"
   ]
  },
  {
   "cell_type": "code",
   "execution_count": 13,
   "id": "af980052",
   "metadata": {
    "id": "af980052"
   },
   "outputs": [
    {
     "name": "stdout",
     "output_type": "stream",
     "text": [
      "[23:09:39] WARNING: ..\\src\\learner.cc:1115: Starting in XGBoost 1.3.0, the default evaluation metric used with the objective 'multi:softprob' was changed from 'merror' to 'mlogloss'. Explicitly set eval_metric if you'd like to restore the old behavior.\n",
      "정확도: 0.6800\n"
     ]
    }
   ],
   "source": [
    "xgb_wrapper = XGBClassifier(n_estimators=400, learning_rate=0.1, max_depth=3)\n",
    "xgb_wrapper.fit(X_train, y_train)\n",
    "xgb_preds = xgb_wrapper.predict(X_test)\n",
    "xgb_accuracy = accuracy_score(y_test, xgb_preds)\n",
    "print('정확도: {0:.4f}'.format(xgb_accuracy))"
   ]
  },
  {
   "cell_type": "markdown",
   "id": "8cbca7f7",
   "metadata": {
    "id": "8cbca7f7"
   },
   "source": [
    "#### 사이킷런 래퍼 클래스 LightGBM를 사용해 train 세트를 fit 한 후 test 세트로 예측의 정확도를 출력하시오. \n",
    "\n",
    "n_estimators=400\n",
    "조기 중단 파라미터: early_stopping_rounds=100, eval_metric=\"logloss\",  eval_set=evals "
   ]
  },
  {
   "cell_type": "code",
   "execution_count": 14,
   "id": "b0debb5b",
   "metadata": {
    "id": "b0debb5b"
   },
   "outputs": [
    {
     "name": "stdout",
     "output_type": "stream",
     "text": [
      "[1]\tvalid_0's multi_logloss: 1.07553\n",
      "[2]\tvalid_0's multi_logloss: 1.04342\n",
      "[3]\tvalid_0's multi_logloss: 1.01902\n",
      "[4]\tvalid_0's multi_logloss: 0.99933\n",
      "[5]\tvalid_0's multi_logloss: 0.979666\n",
      "[6]\tvalid_0's multi_logloss: 0.964895\n",
      "[7]\tvalid_0's multi_logloss: 0.941336\n",
      "[8]\tvalid_0's multi_logloss: 0.925882\n",
      "[9]\tvalid_0's multi_logloss: 0.908661\n",
      "[10]\tvalid_0's multi_logloss: 0.889802\n",
      "[11]\tvalid_0's multi_logloss: 0.874624\n",
      "[12]\tvalid_0's multi_logloss: 0.861151\n",
      "[13]\tvalid_0's multi_logloss: 0.846801\n",
      "[14]\tvalid_0's multi_logloss: 0.837943\n",
      "[15]\tvalid_0's multi_logloss: 0.826008\n",
      "[16]\tvalid_0's multi_logloss: 0.816897\n",
      "[17]\tvalid_0's multi_logloss: 0.810242\n",
      "[18]\tvalid_0's multi_logloss: 0.805214\n",
      "[19]\tvalid_0's multi_logloss: 0.801003\n",
      "[20]\tvalid_0's multi_logloss: 0.798126\n",
      "[21]\tvalid_0's multi_logloss: 0.795195\n",
      "[22]\tvalid_0's multi_logloss: 0.792362\n",
      "[23]\tvalid_0's multi_logloss: 0.790211\n",
      "[24]\tvalid_0's multi_logloss: 0.78838\n",
      "[25]\tvalid_0's multi_logloss: 0.786373\n",
      "[26]\tvalid_0's multi_logloss: 0.781711\n",
      "[27]\tvalid_0's multi_logloss: 0.776677\n",
      "[28]\tvalid_0's multi_logloss: 0.774168\n",
      "[29]\tvalid_0's multi_logloss: 0.769537\n",
      "[30]\tvalid_0's multi_logloss: 0.766181\n",
      "[31]\tvalid_0's multi_logloss: 0.76434\n",
      "[32]\tvalid_0's multi_logloss: 0.761352\n",
      "[33]\tvalid_0's multi_logloss: 0.76015\n",
      "[34]\tvalid_0's multi_logloss: 0.759025\n",
      "[35]\tvalid_0's multi_logloss: 0.757901\n",
      "[36]\tvalid_0's multi_logloss: 0.755553\n",
      "[37]\tvalid_0's multi_logloss: 0.752981\n",
      "[38]\tvalid_0's multi_logloss: 0.753378\n",
      "[39]\tvalid_0's multi_logloss: 0.7497\n",
      "[40]\tvalid_0's multi_logloss: 0.745601\n",
      "[41]\tvalid_0's multi_logloss: 0.743973\n",
      "[42]\tvalid_0's multi_logloss: 0.741625\n",
      "[43]\tvalid_0's multi_logloss: 0.739404\n",
      "[44]\tvalid_0's multi_logloss: 0.736156\n",
      "[45]\tvalid_0's multi_logloss: 0.734596\n",
      "[46]\tvalid_0's multi_logloss: 0.733281\n",
      "[47]\tvalid_0's multi_logloss: 0.733176\n",
      "[48]\tvalid_0's multi_logloss: 0.73057\n",
      "[49]\tvalid_0's multi_logloss: 0.733533\n",
      "[50]\tvalid_0's multi_logloss: 0.733156\n",
      "[51]\tvalid_0's multi_logloss: 0.733962\n",
      "[52]\tvalid_0's multi_logloss: 0.733209\n",
      "[53]\tvalid_0's multi_logloss: 0.732727\n",
      "[54]\tvalid_0's multi_logloss: 0.732721\n",
      "[55]\tvalid_0's multi_logloss: 0.733214\n",
      "[56]\tvalid_0's multi_logloss: 0.733803\n",
      "[57]\tvalid_0's multi_logloss: 0.73581\n",
      "[58]\tvalid_0's multi_logloss: 0.735068\n",
      "[59]\tvalid_0's multi_logloss: 0.734894\n",
      "[60]\tvalid_0's multi_logloss: 0.733936\n",
      "[61]\tvalid_0's multi_logloss: 0.735404\n",
      "[62]\tvalid_0's multi_logloss: 0.734463\n",
      "[63]\tvalid_0's multi_logloss: 0.734033\n",
      "[64]\tvalid_0's multi_logloss: 0.735776\n",
      "[65]\tvalid_0's multi_logloss: 0.737791\n",
      "[66]\tvalid_0's multi_logloss: 0.739585\n",
      "[67]\tvalid_0's multi_logloss: 0.741736\n",
      "[68]\tvalid_0's multi_logloss: 0.741036\n",
      "[69]\tvalid_0's multi_logloss: 0.742164\n",
      "[70]\tvalid_0's multi_logloss: 0.743998\n",
      "[71]\tvalid_0's multi_logloss: 0.745104\n",
      "[72]\tvalid_0's multi_logloss: 0.747601\n",
      "[73]\tvalid_0's multi_logloss: 0.750747\n",
      "[74]\tvalid_0's multi_logloss: 0.75093\n",
      "[75]\tvalid_0's multi_logloss: 0.752132\n",
      "[76]\tvalid_0's multi_logloss: 0.753212\n",
      "[77]\tvalid_0's multi_logloss: 0.755079\n",
      "[78]\tvalid_0's multi_logloss: 0.756799\n",
      "[79]\tvalid_0's multi_logloss: 0.756155\n",
      "[80]\tvalid_0's multi_logloss: 0.756883\n",
      "[81]\tvalid_0's multi_logloss: 0.758234\n",
      "[82]\tvalid_0's multi_logloss: 0.759963\n",
      "[83]\tvalid_0's multi_logloss: 0.761513\n",
      "[84]\tvalid_0's multi_logloss: 0.762028\n",
      "[85]\tvalid_0's multi_logloss: 0.764395\n",
      "[86]\tvalid_0's multi_logloss: 0.764118\n",
      "[87]\tvalid_0's multi_logloss: 0.765011\n",
      "[88]\tvalid_0's multi_logloss: 0.767746\n",
      "[89]\tvalid_0's multi_logloss: 0.76611\n",
      "[90]\tvalid_0's multi_logloss: 0.768792\n",
      "[91]\tvalid_0's multi_logloss: 0.771503\n",
      "[92]\tvalid_0's multi_logloss: 0.770688\n",
      "[93]\tvalid_0's multi_logloss: 0.771149\n",
      "[94]\tvalid_0's multi_logloss: 0.775293\n",
      "[95]\tvalid_0's multi_logloss: 0.777711\n",
      "[96]\tvalid_0's multi_logloss: 0.776632\n",
      "[97]\tvalid_0's multi_logloss: 0.777514\n",
      "[98]\tvalid_0's multi_logloss: 0.778285\n",
      "[99]\tvalid_0's multi_logloss: 0.779291\n",
      "[100]\tvalid_0's multi_logloss: 0.782201\n",
      "[101]\tvalid_0's multi_logloss: 0.785619\n",
      "[102]\tvalid_0's multi_logloss: 0.790194\n",
      "[103]\tvalid_0's multi_logloss: 0.794214\n",
      "[104]\tvalid_0's multi_logloss: 0.795355\n",
      "[105]\tvalid_0's multi_logloss: 0.798457\n",
      "[106]\tvalid_0's multi_logloss: 0.79913\n",
      "[107]\tvalid_0's multi_logloss: 0.804191\n",
      "[108]\tvalid_0's multi_logloss: 0.808845\n",
      "[109]\tvalid_0's multi_logloss: 0.810101\n",
      "[110]\tvalid_0's multi_logloss: 0.807952\n",
      "[111]\tvalid_0's multi_logloss: 0.811616\n",
      "[112]\tvalid_0's multi_logloss: 0.815128\n",
      "[113]\tvalid_0's multi_logloss: 0.818594\n",
      "[114]\tvalid_0's multi_logloss: 0.819003\n",
      "[115]\tvalid_0's multi_logloss: 0.823077\n",
      "[116]\tvalid_0's multi_logloss: 0.827246\n",
      "[117]\tvalid_0's multi_logloss: 0.829187\n",
      "[118]\tvalid_0's multi_logloss: 0.829188\n",
      "[119]\tvalid_0's multi_logloss: 0.832918\n",
      "[120]\tvalid_0's multi_logloss: 0.837428\n",
      "[121]\tvalid_0's multi_logloss: 0.838648\n",
      "[122]\tvalid_0's multi_logloss: 0.841017\n",
      "[123]\tvalid_0's multi_logloss: 0.838678\n",
      "[124]\tvalid_0's multi_logloss: 0.842161\n",
      "[125]\tvalid_0's multi_logloss: 0.845061\n",
      "[126]\tvalid_0's multi_logloss: 0.843862\n",
      "[127]\tvalid_0's multi_logloss: 0.847079\n",
      "[128]\tvalid_0's multi_logloss: 0.846602\n",
      "[129]\tvalid_0's multi_logloss: 0.849017\n",
      "[130]\tvalid_0's multi_logloss: 0.852272\n",
      "[131]\tvalid_0's multi_logloss: 0.854731\n",
      "[132]\tvalid_0's multi_logloss: 0.857017\n",
      "[133]\tvalid_0's multi_logloss: 0.861818\n",
      "[134]\tvalid_0's multi_logloss: 0.863896\n",
      "[135]\tvalid_0's multi_logloss: 0.869217\n",
      "[136]\tvalid_0's multi_logloss: 0.873478\n",
      "[137]\tvalid_0's multi_logloss: 0.875173\n",
      "[138]\tvalid_0's multi_logloss: 0.878199\n",
      "[139]\tvalid_0's multi_logloss: 0.882638\n",
      "[140]\tvalid_0's multi_logloss: 0.881756\n",
      "[141]\tvalid_0's multi_logloss: 0.88298\n",
      "[142]\tvalid_0's multi_logloss: 0.886822\n",
      "[143]\tvalid_0's multi_logloss: 0.88716\n",
      "[144]\tvalid_0's multi_logloss: 0.889334\n",
      "[145]\tvalid_0's multi_logloss: 0.891698\n",
      "[146]\tvalid_0's multi_logloss: 0.89221\n",
      "[147]\tvalid_0's multi_logloss: 0.895662\n",
      "[148]\tvalid_0's multi_logloss: 0.894762\n",
      "정확도: 0.6533\n"
     ]
    }
   ],
   "source": [
    "import lightgbm\n",
    "from lightgbm import LGBMClassifier\n",
    "\n",
    "lgbm_wrapper = LGBMClassifier(n_estimators = 400, learning_rate=0.05)\n",
    "\n",
    "evals = [(X_test, y_test)]\n",
    "lgbm_wrapper.fit(X_train, y_train, early_stopping_rounds=100, eval_metric = \"logloss\", eval_set = evals)\n",
    "preds = lgbm_wrapper.predict(X_test)\n",
    "lgbm_accuracy = accuracy_score(y_test,preds)\n",
    "print('정확도: {0:.4f}'.format(lgbm_accuracy))"
   ]
  },
  {
   "cell_type": "markdown",
   "id": "DQ3Lnuevoz4w",
   "metadata": {
    "id": "DQ3Lnuevoz4w"
   },
   "source": [
    "## Stacking 실습"
   ]
  },
  {
   "cell_type": "markdown",
   "id": "FSqK0PzP-YmZ",
   "metadata": {
    "id": "FSqK0PzP-YmZ"
   },
   "source": [
    "CV set 기반 stacking을 통해 앙상블 모델을 만드려고 합니다.    \n",
    "개별 모델이 교차검증을 통해 최종 모델이 사용할 학습용, 테스트용 데이터를 만드는 함수를 생성하시오.\n",
    "```\n",
    "def get_stacking_dataset(model, X_train, y_train, X_test, n_folds):\n",
    "    return train_fold_pred , test_pred_mean\n",
    "```"
   ]
  },
  {
   "cell_type": "code",
   "execution_count": 15,
   "id": "wxGOf8YapU_C",
   "metadata": {
    "id": "wxGOf8YapU_C"
   },
   "outputs": [],
   "source": [
    "from sklearn.model_selection import KFold\n",
    "from sklearn.metrics import mean_absolute_error\n",
    "\n",
    "def get_stacking_dataset(model, X_train, y_train, X_test, n_folds):\n",
    "    kfold = KFold(n_splits=n_folds)\n",
    "    train_fold_pred = np.zeros((X_train.shape[0], 1))\n",
    "    test_pred = np.zeros((X_test.shape[0], n_folds))\n",
    "    print(model.__class__.__name__, ' model 시작 ')\n",
    "    \n",
    "    for fold, (train_idx, valid_idx) in enumerate(kfold.split(X_train)):\n",
    "        X_tr = X_train.loc[train_idx]\n",
    "        y_tr = y_train.loc[train_idx]\n",
    "        X_val = X_train.loc[valid_idx]\n",
    "        model.fit(X_tr, y_tr)\n",
    "        train_fold_pred[valid_idx, :] = model.predict(X_val).reshape(-1, 1)\n",
    "        test_pred[:, fold] = model.predict(X_test)\n",
    "        \n",
    "    test_pred_mean = np.mean(test_pred, axis = 1).reshape(-1,1)\n",
    "    return train_fold_pred , test_pred_mean"
   ]
  },
  {
   "cell_type": "markdown",
   "id": "KMgeLW3NA8Q5",
   "metadata": {
    "id": "KMgeLW3NA8Q5"
   },
   "source": [
    "스태킹에 사용될 개별 모델을 생성하시오.\n",
    "\n",
    "개별 모델:  KNN(n_neighbors=4), 랜덤 포레스트(n_estimators=100, random_state=0), 결정 트리, AdaBoost(n_estimators=100), LightGBM(n_estimators=400)\n",
    "\n",
    "최종 모델: 로지스틱 회귀 (C=10)"
   ]
  },
  {
   "cell_type": "code",
   "execution_count": 16,
   "id": "PvuuPu9Op1eb",
   "metadata": {
    "id": "PvuuPu9Op1eb"
   },
   "outputs": [],
   "source": [
    "from sklearn.neighbors import KNeighborsClassifier\n",
    "from sklearn.ensemble import RandomForestClassifier\n",
    "from sklearn.tree import DecisionTreeClassifier\n",
    "from sklearn.ensemble import AdaBoostClassifier\n",
    "import lightgbm\n",
    "from lightgbm import LGBMClassifier\n",
    "from sklearn.linear_model import LogisticRegression\n",
    "knn_clf  = KNeighborsClassifier(n_neighbors = 4)\n",
    "rf_clf = RandomForestClassifier(n_estimators = 100, random_state = 0)\n",
    "dt_clf = DecisionTreeClassifier()\n",
    "ada_clf = AdaBoostClassifier(n_estimators = 100)\n",
    "lgbm_clf = LGBMClassifier(n_estimators = 400)\n",
    "lr_meta = LogisticRegression(C = 10)"
   ]
  },
  {
   "cell_type": "markdown",
   "id": "Wew3mwTxBWAZ",
   "metadata": {
    "id": "Wew3mwTxBWAZ"
   },
   "source": [
    "위에서 생성한 함수를 사용해 개별 모델을 학습, 예측시켜 메타모델에 사용될 학습용 데이터와 테스트용 데이터를 생성하고, 스태킹하시오.  \n",
    "fold 수 = 6  \n",
    "학습용 데이터 : stacked_X_train  \n",
    "테스트용 데이터 : stacked_X_test"
   ]
  },
  {
   "cell_type": "code",
   "execution_count": 17,
   "id": "lJI0HG3Bp2TC",
   "metadata": {
    "id": "lJI0HG3Bp2TC",
    "scrolled": true
   },
   "outputs": [
    {
     "name": "stdout",
     "output_type": "stream",
     "text": [
      "KNeighborsClassifier  model 시작 \n"
     ]
    },
    {
     "ename": "KeyError",
     "evalue": "'[50, 52, 69, 71, 78, 81, 85, 86, 87, 90, 92, 101, 106, 122, 124, 125, 127, 131, 139, 144, 150, 161, 167, 176, 180, 186, 193, 200, 201, 207, 221, 228, 229, 233, 238, 250, 252, 257, 265, 273, 276, 280, 283, 284, 290, 294] not in index'",
     "output_type": "error",
     "traceback": [
      "\u001b[1;31m---------------------------------------------------------------------------\u001b[0m",
      "\u001b[1;31mKeyError\u001b[0m                                  Traceback (most recent call last)",
      "Input \u001b[1;32mIn [17]\u001b[0m, in \u001b[0;36m<cell line: 1>\u001b[1;34m()\u001b[0m\n\u001b[1;32m----> 1\u001b[0m knn_train, knn_test \u001b[38;5;241m=\u001b[39m \u001b[43mget_stacking_dataset\u001b[49m\u001b[43m(\u001b[49m\u001b[43mknn_clf\u001b[49m\u001b[43m,\u001b[49m\u001b[43m \u001b[49m\u001b[43mX_train\u001b[49m\u001b[43m,\u001b[49m\u001b[43m \u001b[49m\u001b[43my_train\u001b[49m\u001b[43m,\u001b[49m\u001b[43m \u001b[49m\u001b[43mX_test\u001b[49m\u001b[43m,\u001b[49m\u001b[43m \u001b[49m\u001b[43mn_folds\u001b[49m\u001b[38;5;241;43m=\u001b[39;49m\u001b[43m \u001b[49m\u001b[38;5;241;43m6\u001b[39;49m\u001b[43m)\u001b[49m\n\u001b[0;32m      2\u001b[0m rf_train, rf_test \u001b[38;5;241m=\u001b[39m get_stacking_dataset(rf_clf, X_train, y_train, X_test, \u001b[38;5;241m6\u001b[39m)\n\u001b[0;32m      3\u001b[0m dt_train, dt_test \u001b[38;5;241m=\u001b[39m get_stacking_dataset(dt_clf, X_train, y_train, X_test,  \u001b[38;5;241m6\u001b[39m)    \n",
      "Input \u001b[1;32mIn [15]\u001b[0m, in \u001b[0;36mget_stacking_dataset\u001b[1;34m(model, X_train, y_train, X_test, n_folds)\u001b[0m\n\u001b[0;32m      8\u001b[0m \u001b[38;5;28mprint\u001b[39m(model\u001b[38;5;241m.\u001b[39m\u001b[38;5;18m__class__\u001b[39m\u001b[38;5;241m.\u001b[39m\u001b[38;5;18m__name__\u001b[39m, \u001b[38;5;124m'\u001b[39m\u001b[38;5;124m model 시작 \u001b[39m\u001b[38;5;124m'\u001b[39m)\n\u001b[0;32m     10\u001b[0m \u001b[38;5;28;01mfor\u001b[39;00m fold, (train_idx, valid_idx) \u001b[38;5;129;01min\u001b[39;00m \u001b[38;5;28menumerate\u001b[39m(kfold\u001b[38;5;241m.\u001b[39msplit(X_train)):\n\u001b[1;32m---> 11\u001b[0m     X_tr \u001b[38;5;241m=\u001b[39m \u001b[43mX_train\u001b[49m\u001b[38;5;241;43m.\u001b[39;49m\u001b[43mloc\u001b[49m\u001b[43m[\u001b[49m\u001b[43mtrain_idx\u001b[49m\u001b[43m]\u001b[49m\n\u001b[0;32m     12\u001b[0m     y_tr \u001b[38;5;241m=\u001b[39m y_train\u001b[38;5;241m.\u001b[39mloc[train_idx]\n\u001b[0;32m     13\u001b[0m     X_val \u001b[38;5;241m=\u001b[39m X_train\u001b[38;5;241m.\u001b[39mloc[valid_idx]\n",
      "File \u001b[1;32m~\\anaconda3\\lib\\site-packages\\pandas\\core\\indexing.py:967\u001b[0m, in \u001b[0;36m_LocationIndexer.__getitem__\u001b[1;34m(self, key)\u001b[0m\n\u001b[0;32m    964\u001b[0m axis \u001b[38;5;241m=\u001b[39m \u001b[38;5;28mself\u001b[39m\u001b[38;5;241m.\u001b[39maxis \u001b[38;5;129;01mor\u001b[39;00m \u001b[38;5;241m0\u001b[39m\n\u001b[0;32m    966\u001b[0m maybe_callable \u001b[38;5;241m=\u001b[39m com\u001b[38;5;241m.\u001b[39mapply_if_callable(key, \u001b[38;5;28mself\u001b[39m\u001b[38;5;241m.\u001b[39mobj)\n\u001b[1;32m--> 967\u001b[0m \u001b[38;5;28;01mreturn\u001b[39;00m \u001b[38;5;28;43mself\u001b[39;49m\u001b[38;5;241;43m.\u001b[39;49m\u001b[43m_getitem_axis\u001b[49m\u001b[43m(\u001b[49m\u001b[43mmaybe_callable\u001b[49m\u001b[43m,\u001b[49m\u001b[43m \u001b[49m\u001b[43maxis\u001b[49m\u001b[38;5;241;43m=\u001b[39;49m\u001b[43maxis\u001b[49m\u001b[43m)\u001b[49m\n",
      "File \u001b[1;32m~\\anaconda3\\lib\\site-packages\\pandas\\core\\indexing.py:1191\u001b[0m, in \u001b[0;36m_LocIndexer._getitem_axis\u001b[1;34m(self, key, axis)\u001b[0m\n\u001b[0;32m   1188\u001b[0m     \u001b[38;5;28;01mif\u001b[39;00m \u001b[38;5;28mhasattr\u001b[39m(key, \u001b[38;5;124m\"\u001b[39m\u001b[38;5;124mndim\u001b[39m\u001b[38;5;124m\"\u001b[39m) \u001b[38;5;129;01mand\u001b[39;00m key\u001b[38;5;241m.\u001b[39mndim \u001b[38;5;241m>\u001b[39m \u001b[38;5;241m1\u001b[39m:\n\u001b[0;32m   1189\u001b[0m         \u001b[38;5;28;01mraise\u001b[39;00m \u001b[38;5;167;01mValueError\u001b[39;00m(\u001b[38;5;124m\"\u001b[39m\u001b[38;5;124mCannot index with multidimensional key\u001b[39m\u001b[38;5;124m\"\u001b[39m)\n\u001b[1;32m-> 1191\u001b[0m     \u001b[38;5;28;01mreturn\u001b[39;00m \u001b[38;5;28;43mself\u001b[39;49m\u001b[38;5;241;43m.\u001b[39;49m\u001b[43m_getitem_iterable\u001b[49m\u001b[43m(\u001b[49m\u001b[43mkey\u001b[49m\u001b[43m,\u001b[49m\u001b[43m \u001b[49m\u001b[43maxis\u001b[49m\u001b[38;5;241;43m=\u001b[39;49m\u001b[43maxis\u001b[49m\u001b[43m)\u001b[49m\n\u001b[0;32m   1193\u001b[0m \u001b[38;5;66;03m# nested tuple slicing\u001b[39;00m\n\u001b[0;32m   1194\u001b[0m \u001b[38;5;28;01mif\u001b[39;00m is_nested_tuple(key, labels):\n",
      "File \u001b[1;32m~\\anaconda3\\lib\\site-packages\\pandas\\core\\indexing.py:1132\u001b[0m, in \u001b[0;36m_LocIndexer._getitem_iterable\u001b[1;34m(self, key, axis)\u001b[0m\n\u001b[0;32m   1129\u001b[0m \u001b[38;5;28mself\u001b[39m\u001b[38;5;241m.\u001b[39m_validate_key(key, axis)\n\u001b[0;32m   1131\u001b[0m \u001b[38;5;66;03m# A collection of keys\u001b[39;00m\n\u001b[1;32m-> 1132\u001b[0m keyarr, indexer \u001b[38;5;241m=\u001b[39m \u001b[38;5;28;43mself\u001b[39;49m\u001b[38;5;241;43m.\u001b[39;49m\u001b[43m_get_listlike_indexer\u001b[49m\u001b[43m(\u001b[49m\u001b[43mkey\u001b[49m\u001b[43m,\u001b[49m\u001b[43m \u001b[49m\u001b[43maxis\u001b[49m\u001b[43m)\u001b[49m\n\u001b[0;32m   1133\u001b[0m \u001b[38;5;28;01mreturn\u001b[39;00m \u001b[38;5;28mself\u001b[39m\u001b[38;5;241m.\u001b[39mobj\u001b[38;5;241m.\u001b[39m_reindex_with_indexers(\n\u001b[0;32m   1134\u001b[0m     {axis: [keyarr, indexer]}, copy\u001b[38;5;241m=\u001b[39m\u001b[38;5;28;01mTrue\u001b[39;00m, allow_dups\u001b[38;5;241m=\u001b[39m\u001b[38;5;28;01mTrue\u001b[39;00m\n\u001b[0;32m   1135\u001b[0m )\n",
      "File \u001b[1;32m~\\anaconda3\\lib\\site-packages\\pandas\\core\\indexing.py:1327\u001b[0m, in \u001b[0;36m_LocIndexer._get_listlike_indexer\u001b[1;34m(self, key, axis)\u001b[0m\n\u001b[0;32m   1324\u001b[0m ax \u001b[38;5;241m=\u001b[39m \u001b[38;5;28mself\u001b[39m\u001b[38;5;241m.\u001b[39mobj\u001b[38;5;241m.\u001b[39m_get_axis(axis)\n\u001b[0;32m   1325\u001b[0m axis_name \u001b[38;5;241m=\u001b[39m \u001b[38;5;28mself\u001b[39m\u001b[38;5;241m.\u001b[39mobj\u001b[38;5;241m.\u001b[39m_get_axis_name(axis)\n\u001b[1;32m-> 1327\u001b[0m keyarr, indexer \u001b[38;5;241m=\u001b[39m \u001b[43max\u001b[49m\u001b[38;5;241;43m.\u001b[39;49m\u001b[43m_get_indexer_strict\u001b[49m\u001b[43m(\u001b[49m\u001b[43mkey\u001b[49m\u001b[43m,\u001b[49m\u001b[43m \u001b[49m\u001b[43maxis_name\u001b[49m\u001b[43m)\u001b[49m\n\u001b[0;32m   1329\u001b[0m \u001b[38;5;28;01mreturn\u001b[39;00m keyarr, indexer\n",
      "File \u001b[1;32m~\\anaconda3\\lib\\site-packages\\pandas\\core\\indexes\\base.py:5782\u001b[0m, in \u001b[0;36mIndex._get_indexer_strict\u001b[1;34m(self, key, axis_name)\u001b[0m\n\u001b[0;32m   5779\u001b[0m \u001b[38;5;28;01melse\u001b[39;00m:\n\u001b[0;32m   5780\u001b[0m     keyarr, indexer, new_indexer \u001b[38;5;241m=\u001b[39m \u001b[38;5;28mself\u001b[39m\u001b[38;5;241m.\u001b[39m_reindex_non_unique(keyarr)\n\u001b[1;32m-> 5782\u001b[0m \u001b[38;5;28;43mself\u001b[39;49m\u001b[38;5;241;43m.\u001b[39;49m\u001b[43m_raise_if_missing\u001b[49m\u001b[43m(\u001b[49m\u001b[43mkeyarr\u001b[49m\u001b[43m,\u001b[49m\u001b[43m \u001b[49m\u001b[43mindexer\u001b[49m\u001b[43m,\u001b[49m\u001b[43m \u001b[49m\u001b[43maxis_name\u001b[49m\u001b[43m)\u001b[49m\n\u001b[0;32m   5784\u001b[0m keyarr \u001b[38;5;241m=\u001b[39m \u001b[38;5;28mself\u001b[39m\u001b[38;5;241m.\u001b[39mtake(indexer)\n\u001b[0;32m   5785\u001b[0m \u001b[38;5;28;01mif\u001b[39;00m \u001b[38;5;28misinstance\u001b[39m(key, Index):\n\u001b[0;32m   5786\u001b[0m     \u001b[38;5;66;03m# GH 42790 - Preserve name from an Index\u001b[39;00m\n",
      "File \u001b[1;32m~\\anaconda3\\lib\\site-packages\\pandas\\core\\indexes\\base.py:5845\u001b[0m, in \u001b[0;36mIndex._raise_if_missing\u001b[1;34m(self, key, indexer, axis_name)\u001b[0m\n\u001b[0;32m   5842\u001b[0m     \u001b[38;5;28;01mraise\u001b[39;00m \u001b[38;5;167;01mKeyError\u001b[39;00m(\u001b[38;5;124mf\u001b[39m\u001b[38;5;124m\"\u001b[39m\u001b[38;5;124mNone of [\u001b[39m\u001b[38;5;132;01m{\u001b[39;00mkey\u001b[38;5;132;01m}\u001b[39;00m\u001b[38;5;124m] are in the [\u001b[39m\u001b[38;5;132;01m{\u001b[39;00maxis_name\u001b[38;5;132;01m}\u001b[39;00m\u001b[38;5;124m]\u001b[39m\u001b[38;5;124m\"\u001b[39m)\n\u001b[0;32m   5844\u001b[0m not_found \u001b[38;5;241m=\u001b[39m \u001b[38;5;28mlist\u001b[39m(ensure_index(key)[missing_mask\u001b[38;5;241m.\u001b[39mnonzero()[\u001b[38;5;241m0\u001b[39m]]\u001b[38;5;241m.\u001b[39munique())\n\u001b[1;32m-> 5845\u001b[0m \u001b[38;5;28;01mraise\u001b[39;00m \u001b[38;5;167;01mKeyError\u001b[39;00m(\u001b[38;5;124mf\u001b[39m\u001b[38;5;124m\"\u001b[39m\u001b[38;5;132;01m{\u001b[39;00mnot_found\u001b[38;5;132;01m}\u001b[39;00m\u001b[38;5;124m not in index\u001b[39m\u001b[38;5;124m\"\u001b[39m)\n",
      "\u001b[1;31mKeyError\u001b[0m: '[50, 52, 69, 71, 78, 81, 85, 86, 87, 90, 92, 101, 106, 122, 124, 125, 127, 131, 139, 144, 150, 161, 167, 176, 180, 186, 193, 200, 201, 207, 221, 228, 229, 233, 238, 250, 252, 257, 265, 273, 276, 280, 283, 284, 290, 294] not in index'"
     ]
    }
   ],
   "source": [
    "knn_train, knn_test = get_stacking_dataset(knn_clf, X_train, y_train, X_test, n_folds= 6)\n",
    "rf_train, rf_test = get_stacking_dataset(rf_clf, X_train, y_train, X_test, 6)\n",
    "dt_train, dt_test = get_stacking_dataset(dt_clf, X_train, y_train, X_test,  6)    \n",
    "ada_train, ada_test = get_stacking_dataset(ada_clf, X_train, y_train, X_test, 6)\n",
    "lgbm_train, lgbm_test = get_stacking_datasets(lgbm_clf, X_train, y_train, X_test, 6)"
   ]
  },
  {
   "cell_type": "code",
   "execution_count": 18,
   "id": "NtuEJGkep6EV",
   "metadata": {
    "id": "NtuEJGkep6EV",
    "scrolled": false
   },
   "outputs": [
    {
     "ename": "NameError",
     "evalue": "name 'knn_train' is not defined",
     "output_type": "error",
     "traceback": [
      "\u001b[1;31m---------------------------------------------------------------------------\u001b[0m",
      "\u001b[1;31mNameError\u001b[0m                                 Traceback (most recent call last)",
      "Input \u001b[1;32mIn [18]\u001b[0m, in \u001b[0;36m<cell line: 1>\u001b[1;34m()\u001b[0m\n\u001b[1;32m----> 1\u001b[0m stacked_final_X_train \u001b[38;5;241m=\u001b[39m np\u001b[38;5;241m.\u001b[39mconcatenate((\u001b[43mknn_train\u001b[49m, rf_train, dt_train, ada_train, lgbm_train), axis \u001b[38;5;241m=\u001b[39m \u001b[38;5;241m1\u001b[39m)\n\u001b[0;32m      2\u001b[0m stacked_final_X_test \u001b[38;5;241m=\u001b[39m np\u001b[38;5;241m.\u001b[39mconcatenate((knn_test, rf_test, dt_test, ada_test, lgbm_test), axis \u001b[38;5;241m=\u001b[39m \u001b[38;5;241m1\u001b[39m)\n\u001b[0;32m      4\u001b[0m \u001b[38;5;28mprint\u001b[39m(\u001b[38;5;124m'\u001b[39m\u001b[38;5;124m원본 학습 피처데이터 Shape: \u001b[39m\u001b[38;5;124m'\u001b[39m, X_train\u001b[38;5;241m.\u001b[39mshape, \u001b[38;5;124m'\u001b[39m\u001b[38;5;124m 원본 테스트 피처 Shape:\u001b[39m\u001b[38;5;124m'\u001b[39m, X_test\u001b[38;5;241m.\u001b[39mshape)\n",
      "\u001b[1;31mNameError\u001b[0m: name 'knn_train' is not defined"
     ]
    }
   ],
   "source": [
    "stacked_final_X_train = np.concatenate((knn_train, rf_train, dt_train, ada_train, lgbm_train), axis = 1)\n",
    "stacked_final_X_test = np.concatenate((knn_test, rf_test, dt_test, ada_test, lgbm_test), axis = 1)\n",
    "\n",
    "print('원본 학습 피처데이터 Shape: ', X_train.shape, ' 원본 테스트 피처 Shape:', X_test.shape)\n",
    "print('스태킹 학습 피처데이터 Shape: ', stacked_final_X_train.shape, ' 스태킹 테스트 피처 Shape:', stacked_final_X_test.shape)"
   ]
  },
  {
   "cell_type": "markdown",
   "id": "z1wPcXvNHH8t",
   "metadata": {
    "id": "z1wPcXvNHH8t"
   },
   "source": [
    "최종 모델 (logistic regression)을 학습시키고, 정확도를 구하시오."
   ]
  },
  {
   "cell_type": "code",
   "execution_count": 19,
   "id": "OFqd1by6p2z1",
   "metadata": {
    "id": "OFqd1by6p2z1"
   },
   "outputs": [
    {
     "ename": "NameError",
     "evalue": "name 'lr_final' is not defined",
     "output_type": "error",
     "traceback": [
      "\u001b[1;31m---------------------------------------------------------------------------\u001b[0m",
      "\u001b[1;31mNameError\u001b[0m                                 Traceback (most recent call last)",
      "Input \u001b[1;32mIn [19]\u001b[0m, in \u001b[0;36m<cell line: 1>\u001b[1;34m()\u001b[0m\n\u001b[1;32m----> 1\u001b[0m \u001b[43mlr_final\u001b[49m\u001b[38;5;241m.\u001b[39mfit(stacked_final_X_train, y_train)\n\u001b[0;32m      2\u001b[0m stack_final\u001b[38;5;241m=\u001b[39mlr_final\u001b[38;5;241m.\u001b[39mpredict(stack_final_X_test)\n\u001b[0;32m      4\u001b[0m accuracy_score(y_test, stack_final)\n",
      "\u001b[1;31mNameError\u001b[0m: name 'lr_final' is not defined"
     ]
    }
   ],
   "source": [
    "lr_final.fit(stacked_final_X_train, y_train)\n",
    "stack_final=lr_final.predict(stack_final_X_test)\n",
    "\n",
    "accuracy_score(y_test, stack_final)"
   ]
  },
  {
   "cell_type": "markdown",
   "id": "mZEcyqY79nZM",
   "metadata": {
    "id": "mZEcyqY79nZM"
   },
   "source": [
    "### CatBoost\n",
    "\n",
    "범주형 변수가 많은 데이터에 catboost를 적용해봅시다.\n",
    "\n",
    "데이터 출처:\n",
    "https://www.kaggle.com/datasets/uciml/mushroom-classification\n"
   ]
  },
  {
   "cell_type": "code",
   "execution_count": 20,
   "id": "mbSevRzjIHKs",
   "metadata": {
    "id": "mbSevRzjIHKs"
   },
   "outputs": [],
   "source": [
    "# mushrooms.csv 파일을 사용합니다.\n",
    "\n",
    "mushroom_df = pd.read_csv('mushrooms.csv')"
   ]
  },
  {
   "cell_type": "markdown",
   "id": "AjLa99HnIZ1M",
   "metadata": {
    "id": "AjLa99HnIZ1M"
   },
   "source": [
    "mushroom_df feature들의 data type을 확인하시오."
   ]
  },
  {
   "cell_type": "code",
   "execution_count": 21,
   "id": "Gs16WW_rp7d2",
   "metadata": {
    "id": "Gs16WW_rp7d2"
   },
   "outputs": [
    {
     "name": "stdout",
     "output_type": "stream",
     "text": [
      "<class 'pandas.core.frame.DataFrame'>\n",
      "RangeIndex: 8124 entries, 0 to 8123\n",
      "Data columns (total 23 columns):\n",
      " #   Column                    Non-Null Count  Dtype \n",
      "---  ------                    --------------  ----- \n",
      " 0   class                     8124 non-null   object\n",
      " 1   cap-shape                 8124 non-null   object\n",
      " 2   cap-surface               8124 non-null   object\n",
      " 3   cap-color                 8124 non-null   object\n",
      " 4   bruises                   8124 non-null   object\n",
      " 5   odor                      8124 non-null   object\n",
      " 6   gill-attachment           8124 non-null   object\n",
      " 7   gill-spacing              8124 non-null   object\n",
      " 8   gill-size                 8124 non-null   object\n",
      " 9   gill-color                8124 non-null   object\n",
      " 10  stalk-shape               8124 non-null   object\n",
      " 11  stalk-root                8124 non-null   object\n",
      " 12  stalk-surface-above-ring  8124 non-null   object\n",
      " 13  stalk-surface-below-ring  8124 non-null   object\n",
      " 14  stalk-color-above-ring    8124 non-null   object\n",
      " 15  stalk-color-below-ring    8124 non-null   object\n",
      " 16  veil-type                 8124 non-null   object\n",
      " 17  veil-color                8124 non-null   object\n",
      " 18  ring-number               8124 non-null   object\n",
      " 19  ring-type                 8124 non-null   object\n",
      " 20  spore-print-color         8124 non-null   object\n",
      " 21  population                8124 non-null   object\n",
      " 22  habitat                   8124 non-null   object\n",
      "dtypes: object(23)\n",
      "memory usage: 1.4+ MB\n"
     ]
    }
   ],
   "source": [
    "mushroom_df.info()"
   ]
  },
  {
   "cell_type": "markdown",
   "id": "twu4cpQMKHTM",
   "metadata": {
    "id": "twu4cpQMKHTM"
   },
   "source": [
    "feature와 target을 각각 X_mushroom, y_mushroom으로 분리하고,  \n",
    "train_test_split 함수로 train, test set을 분리하시오. (test size = 0.2)"
   ]
  },
  {
   "cell_type": "code",
   "execution_count": 28,
   "id": "T4Qwnz0Kp8Aj",
   "metadata": {
    "id": "T4Qwnz0Kp8Aj"
   },
   "outputs": [],
   "source": [
    "X_mushroom = mushroom_df.drop(['class'],axis=1,inplace=False)\n",
    "y_mushroom = mushroom_df['class']\n",
    "X_train, X_test, y_train, y_test = train_test_split(X_mushroom, y_mushroom, test_size=0.2)"
   ]
  },
  {
   "cell_type": "markdown",
   "id": "FAkKKfY9JC5U",
   "metadata": {
    "id": "FAkKKfY9JC5U"
   },
   "source": [
    "CatBoostClassifier를 불러오고, Pool 함수를 이용해 범주형 변수를 처리하도록 train_pool, test_pool을 만드시오."
   ]
  },
  {
   "cell_type": "code",
   "execution_count": 29,
   "id": "LAFxT8bVIEyN",
   "metadata": {
    "id": "LAFxT8bVIEyN",
    "scrolled": false
   },
   "outputs": [
    {
     "name": "stdout",
     "output_type": "stream",
     "text": [
      "Requirement already satisfied: catboost in c:\\users\\yerim\\anaconda3\\lib\\site-packages (1.0.6)\n",
      "Requirement already satisfied: plotly in c:\\users\\yerim\\anaconda3\\lib\\site-packages (from catboost) (5.6.0)\n",
      "Requirement already satisfied: numpy>=1.16.0 in c:\\users\\yerim\\anaconda3\\lib\\site-packages (from catboost) (1.21.5)\n",
      "Requirement already satisfied: six in c:\\users\\yerim\\anaconda3\\lib\\site-packages (from catboost) (1.16.0)\n",
      "Requirement already satisfied: graphviz in c:\\users\\yerim\\anaconda3\\lib\\site-packages (from catboost) (0.20.1)\n",
      "Requirement already satisfied: pandas>=0.24.0 in c:\\users\\yerim\\anaconda3\\lib\\site-packages (from catboost) (1.4.2)\n",
      "Requirement already satisfied: matplotlib in c:\\users\\yerim\\anaconda3\\lib\\site-packages (from catboost) (3.5.1)\n",
      "Requirement already satisfied: scipy in c:\\users\\yerim\\anaconda3\\lib\\site-packages (from catboost) (1.7.3)\n",
      "Requirement already satisfied: pytz>=2020.1 in c:\\users\\yerim\\anaconda3\\lib\\site-packages (from pandas>=0.24.0->catboost) (2021.3)\n",
      "Requirement already satisfied: python-dateutil>=2.8.1 in c:\\users\\yerim\\anaconda3\\lib\\site-packages (from pandas>=0.24.0->catboost) (2.8.2)\n",
      "Requirement already satisfied: pillow>=6.2.0 in c:\\users\\yerim\\anaconda3\\lib\\site-packages (from matplotlib->catboost) (9.0.1)\n",
      "Requirement already satisfied: packaging>=20.0 in c:\\users\\yerim\\anaconda3\\lib\\site-packages (from matplotlib->catboost) (21.3)\n",
      "Requirement already satisfied: pyparsing>=2.2.1 in c:\\users\\yerim\\anaconda3\\lib\\site-packages (from matplotlib->catboost) (3.0.4)\n",
      "Requirement already satisfied: fonttools>=4.22.0 in c:\\users\\yerim\\anaconda3\\lib\\site-packages (from matplotlib->catboost) (4.25.0)\n",
      "Requirement already satisfied: cycler>=0.10 in c:\\users\\yerim\\anaconda3\\lib\\site-packages (from matplotlib->catboost) (0.11.0)\n",
      "Requirement already satisfied: kiwisolver>=1.0.1 in c:\\users\\yerim\\anaconda3\\lib\\site-packages (from matplotlib->catboost) (1.3.2)\n",
      "Requirement already satisfied: tenacity>=6.2.0 in c:\\users\\yerim\\anaconda3\\lib\\site-packages (from plotly->catboost) (8.0.1)\n"
     ]
    }
   ],
   "source": [
    "!pip install catboost"
   ]
  },
  {
   "cell_type": "code",
   "execution_count": 30,
   "id": "3uinLtop9bPW",
   "metadata": {
    "id": "3uinLtop9bPW"
   },
   "outputs": [],
   "source": [
    "from catboost import Pool"
   ]
  },
  {
   "cell_type": "code",
   "execution_count": 31,
   "id": "J_wMxvhdp9L8",
   "metadata": {
    "id": "J_wMxvhdp9L8"
   },
   "outputs": [
    {
     "ename": "CatBoostError",
     "evalue": "Bad value for num_feature[non_default_doc_idx=0,feature_idx=0]=\"b\": Cannot convert 'b'b'' to float",
     "output_type": "error",
     "traceback": [
      "\u001b[1;31m---------------------------------------------------------------------------\u001b[0m",
      "\u001b[1;31mTypeError\u001b[0m                                 Traceback (most recent call last)",
      "File \u001b[1;32m_catboost.pyx:2275\u001b[0m, in \u001b[0;36m_catboost.get_float_feature\u001b[1;34m()\u001b[0m\n",
      "File \u001b[1;32m_catboost.pyx:1128\u001b[0m, in \u001b[0;36m_catboost._FloatOrNan\u001b[1;34m()\u001b[0m\n",
      "File \u001b[1;32m_catboost.pyx:949\u001b[0m, in \u001b[0;36m_catboost._FloatOrNanFromString\u001b[1;34m()\u001b[0m\n",
      "\u001b[1;31mTypeError\u001b[0m: Cannot convert 'b'b'' to float",
      "\nDuring handling of the above exception, another exception occurred:\n",
      "\u001b[1;31mCatBoostError\u001b[0m                             Traceback (most recent call last)",
      "Input \u001b[1;32mIn [31]\u001b[0m, in \u001b[0;36m<cell line: 1>\u001b[1;34m()\u001b[0m\n\u001b[1;32m----> 1\u001b[0m pool_train \u001b[38;5;241m=\u001b[39m \u001b[43mPool\u001b[49m\u001b[43m(\u001b[49m\u001b[43mdata\u001b[49m\u001b[43m \u001b[49m\u001b[38;5;241;43m=\u001b[39;49m\u001b[43m \u001b[49m\u001b[43mX_train\u001b[49m\u001b[43m,\u001b[49m\u001b[43m \u001b[49m\u001b[43mlabel\u001b[49m\u001b[43m \u001b[49m\u001b[38;5;241;43m=\u001b[39;49m\u001b[43m \u001b[49m\u001b[43my_train\u001b[49m\u001b[43m)\u001b[49m\n\u001b[0;32m      2\u001b[0m pool_test \u001b[38;5;241m=\u001b[39m Pool(data \u001b[38;5;241m=\u001b[39m X_test, label \u001b[38;5;241m=\u001b[39m y_test)\n",
      "File \u001b[1;32m~\\anaconda3\\lib\\site-packages\\catboost\\core.py:790\u001b[0m, in \u001b[0;36mPool.__init__\u001b[1;34m(self, data, label, cat_features, text_features, embedding_features, embedding_features_data, column_description, pairs, delimiter, has_header, ignore_csv_quoting, weight, group_id, group_weight, subgroup_id, pairs_weight, baseline, timestamp, feature_names, feature_tags, thread_count, log_cout, log_cerr)\u001b[0m\n\u001b[0;32m    784\u001b[0m         \u001b[38;5;28;01mif\u001b[39;00m \u001b[38;5;28misinstance\u001b[39m(feature_names, PATH_TYPES):\n\u001b[0;32m    785\u001b[0m             \u001b[38;5;28;01mraise\u001b[39;00m CatBoostError(\n\u001b[0;32m    786\u001b[0m                 \u001b[38;5;124m\"\u001b[39m\u001b[38;5;124mfeature_names must be None or have non-string type when the pool is created from \u001b[39m\u001b[38;5;124m\"\u001b[39m\n\u001b[0;32m    787\u001b[0m                 \u001b[38;5;124m\"\u001b[39m\u001b[38;5;124mpython objects.\u001b[39m\u001b[38;5;124m\"\u001b[39m\n\u001b[0;32m    788\u001b[0m             )\n\u001b[1;32m--> 790\u001b[0m         \u001b[38;5;28;43mself\u001b[39;49m\u001b[38;5;241;43m.\u001b[39;49m\u001b[43m_init\u001b[49m\u001b[43m(\u001b[49m\u001b[43mdata\u001b[49m\u001b[43m,\u001b[49m\u001b[43m \u001b[49m\u001b[43mlabel\u001b[49m\u001b[43m,\u001b[49m\u001b[43m \u001b[49m\u001b[43mcat_features\u001b[49m\u001b[43m,\u001b[49m\u001b[43m \u001b[49m\u001b[43mtext_features\u001b[49m\u001b[43m,\u001b[49m\u001b[43m \u001b[49m\u001b[43membedding_features\u001b[49m\u001b[43m,\u001b[49m\u001b[43m \u001b[49m\u001b[43membedding_features_data\u001b[49m\u001b[43m,\u001b[49m\u001b[43m \u001b[49m\u001b[43mpairs\u001b[49m\u001b[43m,\u001b[49m\u001b[43m \u001b[49m\u001b[43mweight\u001b[49m\u001b[43m,\u001b[49m\n\u001b[0;32m    791\u001b[0m \u001b[43m                   \u001b[49m\u001b[43mgroup_id\u001b[49m\u001b[43m,\u001b[49m\u001b[43m \u001b[49m\u001b[43mgroup_weight\u001b[49m\u001b[43m,\u001b[49m\u001b[43m \u001b[49m\u001b[43msubgroup_id\u001b[49m\u001b[43m,\u001b[49m\u001b[43m \u001b[49m\u001b[43mpairs_weight\u001b[49m\u001b[43m,\u001b[49m\u001b[43m \u001b[49m\u001b[43mbaseline\u001b[49m\u001b[43m,\u001b[49m\u001b[43m \u001b[49m\u001b[43mtimestamp\u001b[49m\u001b[43m,\u001b[49m\u001b[43m \u001b[49m\u001b[43mfeature_names\u001b[49m\u001b[43m,\u001b[49m\u001b[43m \u001b[49m\u001b[43mfeature_tags\u001b[49m\u001b[43m,\u001b[49m\u001b[43m \u001b[49m\u001b[43mthread_count\u001b[49m\u001b[43m)\u001b[49m\n\u001b[0;32m    792\u001b[0m \u001b[38;5;28msuper\u001b[39m(Pool, \u001b[38;5;28mself\u001b[39m)\u001b[38;5;241m.\u001b[39m\u001b[38;5;21m__init__\u001b[39m()\n",
      "File \u001b[1;32m~\\anaconda3\\lib\\site-packages\\catboost\\core.py:1411\u001b[0m, in \u001b[0;36mPool._init\u001b[1;34m(self, data, label, cat_features, text_features, embedding_features, embedding_features_data, pairs, weight, group_id, group_weight, subgroup_id, pairs_weight, baseline, timestamp, feature_names, feature_tags, thread_count)\u001b[0m\n\u001b[0;32m   1409\u001b[0m \u001b[38;5;28;01mif\u001b[39;00m feature_tags \u001b[38;5;129;01mis\u001b[39;00m \u001b[38;5;129;01mnot\u001b[39;00m \u001b[38;5;28;01mNone\u001b[39;00m:\n\u001b[0;32m   1410\u001b[0m     feature_tags \u001b[38;5;241m=\u001b[39m \u001b[38;5;28mself\u001b[39m\u001b[38;5;241m.\u001b[39m_check_transform_tags(feature_tags, feature_names)\n\u001b[1;32m-> 1411\u001b[0m \u001b[38;5;28;43mself\u001b[39;49m\u001b[38;5;241;43m.\u001b[39;49m\u001b[43m_init_pool\u001b[49m\u001b[43m(\u001b[49m\u001b[43mdata\u001b[49m\u001b[43m,\u001b[49m\u001b[43m \u001b[49m\u001b[43mlabel\u001b[49m\u001b[43m,\u001b[49m\u001b[43m \u001b[49m\u001b[43mcat_features\u001b[49m\u001b[43m,\u001b[49m\u001b[43m \u001b[49m\u001b[43mtext_features\u001b[49m\u001b[43m,\u001b[49m\u001b[43m \u001b[49m\u001b[43membedding_features\u001b[49m\u001b[43m,\u001b[49m\u001b[43m \u001b[49m\u001b[43membedding_features_data\u001b[49m\u001b[43m,\u001b[49m\u001b[43m \u001b[49m\u001b[43mpairs\u001b[49m\u001b[43m,\u001b[49m\u001b[43m \u001b[49m\u001b[43mweight\u001b[49m\u001b[43m,\u001b[49m\n\u001b[0;32m   1412\u001b[0m \u001b[43m                \u001b[49m\u001b[43mgroup_id\u001b[49m\u001b[43m,\u001b[49m\u001b[43m \u001b[49m\u001b[43mgroup_weight\u001b[49m\u001b[43m,\u001b[49m\u001b[43m \u001b[49m\u001b[43msubgroup_id\u001b[49m\u001b[43m,\u001b[49m\u001b[43m \u001b[49m\u001b[43mpairs_weight\u001b[49m\u001b[43m,\u001b[49m\u001b[43m \u001b[49m\u001b[43mbaseline\u001b[49m\u001b[43m,\u001b[49m\u001b[43m \u001b[49m\u001b[43mtimestamp\u001b[49m\u001b[43m,\u001b[49m\u001b[43m \u001b[49m\u001b[43mfeature_names\u001b[49m\u001b[43m,\u001b[49m\u001b[43m \u001b[49m\u001b[43mfeature_tags\u001b[49m\u001b[43m,\u001b[49m\u001b[43m \u001b[49m\u001b[43mthread_count\u001b[49m\u001b[43m)\u001b[49m\n",
      "File \u001b[1;32m_catboost.pyx:3941\u001b[0m, in \u001b[0;36m_catboost._PoolBase._init_pool\u001b[1;34m()\u001b[0m\n",
      "File \u001b[1;32m_catboost.pyx:3991\u001b[0m, in \u001b[0;36m_catboost._PoolBase._init_pool\u001b[1;34m()\u001b[0m\n",
      "File \u001b[1;32m_catboost.pyx:3807\u001b[0m, in \u001b[0;36m_catboost._PoolBase._init_features_order_layout_pool\u001b[1;34m()\u001b[0m\n",
      "File \u001b[1;32m_catboost.pyx:2775\u001b[0m, in \u001b[0;36m_catboost._set_features_order_data_pd_data_frame\u001b[1;34m()\u001b[0m\n",
      "File \u001b[1;32m_catboost.pyx:2316\u001b[0m, in \u001b[0;36m_catboost.create_num_factor_data\u001b[1;34m()\u001b[0m\n",
      "File \u001b[1;32m_catboost.pyx:2277\u001b[0m, in \u001b[0;36m_catboost.get_float_feature\u001b[1;34m()\u001b[0m\n",
      "\u001b[1;31mCatBoostError\u001b[0m: Bad value for num_feature[non_default_doc_idx=0,feature_idx=0]=\"b\": Cannot convert 'b'b'' to float"
     ]
    }
   ],
   "source": [
    "pool_train = Pool(data = X_train, label = y_train)\n",
    "pool_test = Pool(data = X_test, label = y_test)"
   ]
  },
  {
   "cell_type": "markdown",
   "id": "Vu9ijqhGMWgo",
   "metadata": {
    "id": "Vu9ijqhGMWgo"
   },
   "source": [
    "iteration=400, learning_rate=0.1, max_depth=3로 설정한 CatBoost 모델로 버섯에 대한 정보를 학습하고 테스트 데이터 버섯의 독성 여부를 예측하시오. 또 정확도를 구하시오.  "
   ]
  },
  {
   "cell_type": "code",
   "execution_count": null,
   "id": "F2I7ARrWp_t3",
   "metadata": {
    "id": "F2I7ARrWp_t3"
   },
   "outputs": [],
   "source": [
    "from catboost import CatBoostClassifier\n",
    "\n",
    "cb_clf = CatBoostClassifier(iterations=400, learning_rate=0.1, max_depth=3)\n",
    "cb_clf.fit(pool_train)\n",
    "pred = cb_clf.predict(pool_test)\n",
    "accuracy = accuracy_score(y_test, pred)\n",
    "print(accuracy)"
   ]
  },
  {
   "cell_type": "markdown",
   "id": "HsvRSI0Z3G06",
   "metadata": {
    "id": "HsvRSI0Z3G06"
   },
   "source": [
    "수고하셨습니다!"
   ]
  }
 ],
 "metadata": {
  "colab": {
   "collapsed_sections": [],
   "provenance": []
  },
  "kernelspec": {
   "display_name": "Python 3 (ipykernel)",
   "language": "python",
   "name": "python3"
  },
  "language_info": {
   "codemirror_mode": {
    "name": "ipython",
    "version": 3
   },
   "file_extension": ".py",
   "mimetype": "text/x-python",
   "name": "python",
   "nbconvert_exporter": "python",
   "pygments_lexer": "ipython3",
   "version": "3.9.12"
  }
 },
 "nbformat": 4,
 "nbformat_minor": 5
}
