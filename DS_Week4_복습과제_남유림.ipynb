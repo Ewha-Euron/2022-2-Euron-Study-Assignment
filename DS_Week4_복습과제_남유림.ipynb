{
 "cells": [
  {
   "cell_type": "markdown",
   "metadata": {
    "id": "6f12edaf"
   },
   "source": [
    "##  Week4 복습과제\n",
    "\n",
    "Week3에 대한 복습과제입니다.  \n",
    "데이터셋(train.csv, mushrooms.csv)을 다운 받아주세요!"
   ]
  },
  {
   "cell_type": "code",
   "execution_count": 60,
   "metadata": {
    "id": "6719779b"
   },
   "outputs": [],
   "source": [
    "import pandas as pd\n",
    "import numpy as np\n",
    "import matplotlib.pyplot as plt\n",
    "import seaborn as sns\n",
    "import warnings\n",
    "warnings.filterwarnings('ignore')"
   ]
  },
  {
   "cell_type": "markdown",
   "metadata": {
    "id": "47bb9a03"
   },
   "source": [
    "#### 'train.csv'으로 train_df를 생성하세요."
   ]
  },
  {
   "cell_type": "code",
   "execution_count": 61,
   "metadata": {
    "id": "979db9e6"
   },
   "outputs": [
    {
     "data": {
      "text/html": [
       "<div>\n",
       "<style scoped>\n",
       "    .dataframe tbody tr th:only-of-type {\n",
       "        vertical-align: middle;\n",
       "    }\n",
       "\n",
       "    .dataframe tbody tr th {\n",
       "        vertical-align: top;\n",
       "    }\n",
       "\n",
       "    .dataframe thead th {\n",
       "        text-align: right;\n",
       "    }\n",
       "</style>\n",
       "<table border=\"1\" class=\"dataframe\">\n",
       "  <thead>\n",
       "    <tr style=\"text-align: right;\">\n",
       "      <th></th>\n",
       "      <th>id</th>\n",
       "      <th>bone_length</th>\n",
       "      <th>rotting_flesh</th>\n",
       "      <th>hair_length</th>\n",
       "      <th>has_soul</th>\n",
       "      <th>color</th>\n",
       "      <th>type</th>\n",
       "    </tr>\n",
       "  </thead>\n",
       "  <tbody>\n",
       "    <tr>\n",
       "      <th>0</th>\n",
       "      <td>0</td>\n",
       "      <td>0.354512</td>\n",
       "      <td>0.350839</td>\n",
       "      <td>0.465761</td>\n",
       "      <td>0.781142</td>\n",
       "      <td>clear</td>\n",
       "      <td>Ghoul</td>\n",
       "    </tr>\n",
       "    <tr>\n",
       "      <th>1</th>\n",
       "      <td>1</td>\n",
       "      <td>0.575560</td>\n",
       "      <td>0.425868</td>\n",
       "      <td>0.531401</td>\n",
       "      <td>0.439899</td>\n",
       "      <td>green</td>\n",
       "      <td>Goblin</td>\n",
       "    </tr>\n",
       "    <tr>\n",
       "      <th>2</th>\n",
       "      <td>2</td>\n",
       "      <td>0.467875</td>\n",
       "      <td>0.354330</td>\n",
       "      <td>0.811616</td>\n",
       "      <td>0.791225</td>\n",
       "      <td>black</td>\n",
       "      <td>Ghoul</td>\n",
       "    </tr>\n",
       "    <tr>\n",
       "      <th>3</th>\n",
       "      <td>4</td>\n",
       "      <td>0.776652</td>\n",
       "      <td>0.508723</td>\n",
       "      <td>0.636766</td>\n",
       "      <td>0.884464</td>\n",
       "      <td>black</td>\n",
       "      <td>Ghoul</td>\n",
       "    </tr>\n",
       "    <tr>\n",
       "      <th>4</th>\n",
       "      <td>5</td>\n",
       "      <td>0.566117</td>\n",
       "      <td>0.875862</td>\n",
       "      <td>0.418594</td>\n",
       "      <td>0.636438</td>\n",
       "      <td>green</td>\n",
       "      <td>Ghost</td>\n",
       "    </tr>\n",
       "  </tbody>\n",
       "</table>\n",
       "</div>"
      ],
      "text/plain": [
       "   id  bone_length  rotting_flesh  hair_length  has_soul  color    type\n",
       "0   0     0.354512       0.350839     0.465761  0.781142  clear   Ghoul\n",
       "1   1     0.575560       0.425868     0.531401  0.439899  green  Goblin\n",
       "2   2     0.467875       0.354330     0.811616  0.791225  black   Ghoul\n",
       "3   4     0.776652       0.508723     0.636766  0.884464  black   Ghoul\n",
       "4   5     0.566117       0.875862     0.418594  0.636438  green   Ghost"
      ]
     },
     "execution_count": 61,
     "metadata": {},
     "output_type": "execute_result"
    }
   ],
   "source": [
    "train_df = pd.read_csv('week5_train.csv')  # 데이터를 저장할 때, train 데이터를 week5_trian으로 변경하여 저장하였습니다.\n",
    "train_df.head()"
   ]
  },
  {
   "cell_type": "markdown",
   "metadata": {
    "id": "0874e7b6"
   },
   "source": [
    "#### 데이터 보정을 위해 다음 코드를 실행시켜 주세요."
   ]
  },
  {
   "cell_type": "code",
   "execution_count": 62,
   "metadata": {
    "id": "d824c2ee"
   },
   "outputs": [],
   "source": [
    "# id 제외\n",
    "\n",
    "train_df = train_df.drop(\"id\", axis = 1)"
   ]
  },
  {
   "cell_type": "markdown",
   "metadata": {
    "id": "TkcOzV_k1Fvg"
   },
   "source": [
    "#### LabelEncoder를 사용해 color, type column을 인코딩한 train_df를 만드시오."
   ]
  },
  {
   "cell_type": "code",
   "execution_count": 63,
   "metadata": {
    "id": "FrkaPft31OaX"
   },
   "outputs": [
    {
     "data": {
      "text/html": [
       "<div>\n",
       "<style scoped>\n",
       "    .dataframe tbody tr th:only-of-type {\n",
       "        vertical-align: middle;\n",
       "    }\n",
       "\n",
       "    .dataframe tbody tr th {\n",
       "        vertical-align: top;\n",
       "    }\n",
       "\n",
       "    .dataframe thead th {\n",
       "        text-align: right;\n",
       "    }\n",
       "</style>\n",
       "<table border=\"1\" class=\"dataframe\">\n",
       "  <thead>\n",
       "    <tr style=\"text-align: right;\">\n",
       "      <th></th>\n",
       "      <th>bone_length</th>\n",
       "      <th>rotting_flesh</th>\n",
       "      <th>hair_length</th>\n",
       "      <th>has_soul</th>\n",
       "      <th>color</th>\n",
       "      <th>type</th>\n",
       "    </tr>\n",
       "  </thead>\n",
       "  <tbody>\n",
       "    <tr>\n",
       "      <th>0</th>\n",
       "      <td>0.354512</td>\n",
       "      <td>0.350839</td>\n",
       "      <td>0.465761</td>\n",
       "      <td>0.781142</td>\n",
       "      <td>3</td>\n",
       "      <td>1</td>\n",
       "    </tr>\n",
       "    <tr>\n",
       "      <th>1</th>\n",
       "      <td>0.575560</td>\n",
       "      <td>0.425868</td>\n",
       "      <td>0.531401</td>\n",
       "      <td>0.439899</td>\n",
       "      <td>4</td>\n",
       "      <td>2</td>\n",
       "    </tr>\n",
       "    <tr>\n",
       "      <th>2</th>\n",
       "      <td>0.467875</td>\n",
       "      <td>0.354330</td>\n",
       "      <td>0.811616</td>\n",
       "      <td>0.791225</td>\n",
       "      <td>0</td>\n",
       "      <td>1</td>\n",
       "    </tr>\n",
       "    <tr>\n",
       "      <th>3</th>\n",
       "      <td>0.776652</td>\n",
       "      <td>0.508723</td>\n",
       "      <td>0.636766</td>\n",
       "      <td>0.884464</td>\n",
       "      <td>0</td>\n",
       "      <td>1</td>\n",
       "    </tr>\n",
       "    <tr>\n",
       "      <th>4</th>\n",
       "      <td>0.566117</td>\n",
       "      <td>0.875862</td>\n",
       "      <td>0.418594</td>\n",
       "      <td>0.636438</td>\n",
       "      <td>4</td>\n",
       "      <td>0</td>\n",
       "    </tr>\n",
       "  </tbody>\n",
       "</table>\n",
       "</div>"
      ],
      "text/plain": [
       "   bone_length  rotting_flesh  hair_length  has_soul  color  type\n",
       "0     0.354512       0.350839     0.465761  0.781142      3     1\n",
       "1     0.575560       0.425868     0.531401  0.439899      4     2\n",
       "2     0.467875       0.354330     0.811616  0.791225      0     1\n",
       "3     0.776652       0.508723     0.636766  0.884464      0     1\n",
       "4     0.566117       0.875862     0.418594  0.636438      4     0"
      ]
     },
     "execution_count": 63,
     "metadata": {},
     "output_type": "execute_result"
    }
   ],
   "source": [
    "from sklearn.preprocessing import LabelEncoder\n",
    "\n",
    "encoder = LabelEncoder()\n",
    "train_df['color'] = encoder.fit_transform(train_df['color']) \n",
    "train_df['type'] = encoder.fit_transform(train_df['type']) \n",
    "train_df.head()"
   ]
  },
  {
   "cell_type": "markdown",
   "metadata": {
    "id": "i9vP5ij_1s_6"
   },
   "source": [
    "#### feature간의 상관관계를 확인하는 heatmap을 출력하시오."
   ]
  },
  {
   "cell_type": "code",
   "execution_count": 64,
   "metadata": {
    "id": "jlYIKAtf1Yb2"
   },
   "outputs": [
    {
     "data": {
      "text/plain": [
       "<AxesSubplot:>"
      ]
     },
     "execution_count": 64,
     "metadata": {},
     "output_type": "execute_result"
    },
    {
     "data": {
      "image/png": "[encoded data removed]",
      "text/plain": [
       "<Figure size 648x648 with 2 Axes>"
      ]
     },
     "metadata": {
      "needs_background": "light"
     },
     "output_type": "display_data"
    }
   ],
   "source": [
    "import seaborn as sns\n",
    "\n",
    "plt.figure(figsize=(9,9))\n",
    "corr = train_df.corr()\n",
    "sns.heatmap(corr)"
   ]
  },
  {
   "cell_type": "markdown",
   "metadata": {
    "id": "dffe9164"
   },
   "source": [
    "#### 독립변수(X)와 종속변수(y-type)로 분리해주세요(iloc 또는 loc 활용) 그리고 확인해주세요.\n",
    "#### X와 y를 X_train, X_test, y_train, y_test으로 나누시오. (test_size=0.2, random_state=12) "
   ]
  },
  {
   "cell_type": "code",
   "execution_count": 65,
   "metadata": {
    "id": "e1f4fb30"
   },
   "outputs": [],
   "source": [
    "from sklearn.model_selection import train_test_split"
   ]
  },
  {
   "cell_type": "code",
   "execution_count": 66,
   "metadata": {
    "id": "94f2a85c"
   },
   "outputs": [],
   "source": [
    "X = train_df.iloc[:,:-1]\n",
    "y = train_df.iloc[:,-1]\n",
    "X_train, X_test, y_train, y_test = train_test_split(X, y, test_size = 0.2, random_state = 12)"
   ]
  },
  {
   "cell_type": "code",
   "execution_count": null,
   "metadata": {
    "id": "CLhsKqQ84yHU"
   },
   "outputs": [],
   "source": []
  },
  {
   "cell_type": "markdown",
   "metadata": {
    "id": "RRRzgi_KhGDC"
   },
   "source": [
    "#### Gradient Boost를 활용하여 train 세트를 fit 한 후 test 세트로 예측의 정확도를 출력하시오. (random_state=0,n_estimators=50,learning_rate=0.5)\n"
   ]
  },
  {
   "cell_type": "code",
   "execution_count": 67,
   "metadata": {
    "id": "0S0xMFdDgcLb"
   },
   "outputs": [],
   "source": [
    "from sklearn.ensemble import GradientBoostingClassifier\n",
    "from sklearn.metrics import accuracy_score"
   ]
  },
  {
   "cell_type": "code",
   "execution_count": 68,
   "metadata": {
    "id": "LZhBzjGYhrc1"
   },
   "outputs": [
    {
     "name": "stdout",
     "output_type": "stream",
     "text": [
      "GBM 정확도 : 0.706667\n"
     ]
    }
   ],
   "source": [
    "gb_clf = GradientBoostingClassifier(random_state=0, n_estimators=50,learning_rate=0.5)\n",
    "gb_clf.fit(X_train, y_train)\n",
    "gb_pred = gb_clf.predict(X_test)\n",
    "gb_accuracy = accuracy_score(y_test, gb_pred)\n",
    "\n",
    "print(\"GBM 정확도 : {0:4f}\".format(gb_accuracy))"
   ]
  },
  {
   "cell_type": "markdown",
   "metadata": {
    "id": "vd_H18-5hz8o"
   },
   "source": [
    "#### GBM 하이퍼 파라미터 튜닝을 한 후, 최적의 하이퍼 파라미터를 구하고 정확도를 출력하시오. 위의 값과 정확도를 비교하시오. 이때 n_estimators는 50,100,500, learning_rate는 0.005, 0.1, 0.5,1,10 을 변수로 넣으시오.(gridsearchCV이용,cv=2,verbose=1)"
   ]
  },
  {
   "cell_type": "code",
   "execution_count": 69,
   "metadata": {
    "id": "e8l6ivZ7hwQI"
   },
   "outputs": [
    {
     "name": "stdout",
     "output_type": "stream",
     "text": [
      "Fitting 2 folds for each of 15 candidates, totalling 30 fits\n",
      "GridSearchCV 최고 평균 정확도 수치 : 0.7095\n",
      "GridSearchCV 최적 하이퍼 파라미터 :  {'learning_rate': 0.005, 'n_estimators': 500}\n"
     ]
    }
   ],
   "source": [
    "from sklearn.model_selection import GridSearchCV\n",
    "params =  {\n",
    "    'n_estimators' : [50,100,500],\n",
    "    'learning_rate' : [0.005, 0.1, 0.5,1,10]\n",
    "}\n",
    "\n",
    "grid_cv = GridSearchCV(gb_clf, param_grid=params, scoring='accuracy', cv = 2, verbose=1)\n",
    "grid_cv.fit(X_train,y_train)\n",
    "print('GridSearchCV 최고 평균 정확도 수치 : {0:.4f}'.format(grid_cv.best_score_))\n",
    "print('GridSearchCV 최적 하이퍼 파라미터 : ', grid_cv.best_params_)"
   ]
  },
  {
   "cell_type": "markdown",
   "metadata": {
    "id": "e4f87798"
   },
   "source": [
    "#### 사이킷런 래퍼 클래스 XGBoost를 사용해 train 세트를 fit 한 후 test 세트로 예측의 정확도를 출력하시오. (n_estimators=400, learning_rate = 0.1, max_depth = 3)"
   ]
  },
  {
   "cell_type": "code",
   "execution_count": 70,
   "metadata": {
    "id": "31188f82"
   },
   "outputs": [],
   "source": [
    "import xgboost as xgb\n",
    "from xgboost import plot_importance\n",
    "from xgboost import XGBClassifier\n",
    "\n",
    "from sklearn.metrics import accuracy_score"
   ]
  },
  {
   "cell_type": "code",
   "execution_count": 72,
   "metadata": {
    "id": "af980052"
   },
   "outputs": [
    {
     "name": "stdout",
     "output_type": "stream",
     "text": [
      "정확도 : 0.68\n"
     ]
    }
   ],
   "source": [
    "xgb_wrapper = XGBClassifier(n_estimators=400, learning_rate = 0.1, max_depth = 3)\n",
    "xgb_wrapper.fit(X_train, y_train)\n",
    "w_preds = xgb_wrapper.predict(X_test)\n",
    "w_pred_proba =xgb_wrapper.predict_proba(X_test)[:,1]\n",
    "xgb_accuracy = accuracy_score(y_test, w_preds)\n",
    "print(\"정확도 :\",xgb_accuracy)"
   ]
  },
  {
   "cell_type": "markdown",
   "metadata": {
    "id": "8cbca7f7"
   },
   "source": [
    "#### 사이킷런 래퍼 클래스 LightGBM를 사용해 train 세트를 fit 한 후 test 세트로 예측의 정확도를 출력하시오. \n",
    "\n",
    "n_estimators=400\n",
    "조기 중단 파라미터: early_stopping_rounds=100, eval_metric=\"logloss\",  eval_set=evals "
   ]
  },
  {
   "cell_type": "code",
   "execution_count": 73,
   "metadata": {
    "id": "b0debb5b"
   },
   "outputs": [
    {
     "name": "stdout",
     "output_type": "stream",
     "text": [
      "[1]\tvalid_0's multi_logloss: 1.04658\n",
      "[2]\tvalid_0's multi_logloss: 0.991864\n",
      "[3]\tvalid_0's multi_logloss: 0.961098\n",
      "[4]\tvalid_0's multi_logloss: 0.922715\n",
      "[5]\tvalid_0's multi_logloss: 0.889621\n",
      "[6]\tvalid_0's multi_logloss: 0.860335\n",
      "[7]\tvalid_0's multi_logloss: 0.838603\n",
      "[8]\tvalid_0's multi_logloss: 0.823945\n",
      "[9]\tvalid_0's multi_logloss: 0.808374\n",
      "[10]\tvalid_0's multi_logloss: 0.794635\n",
      "[11]\tvalid_0's multi_logloss: 0.787051\n",
      "[12]\tvalid_0's multi_logloss: 0.779236\n",
      "[13]\tvalid_0's multi_logloss: 0.772983\n",
      "[14]\tvalid_0's multi_logloss: 0.764275\n",
      "[15]\tvalid_0's multi_logloss: 0.752906\n",
      "[16]\tvalid_0's multi_logloss: 0.746936\n",
      "[17]\tvalid_0's multi_logloss: 0.748563\n",
      "[18]\tvalid_0's multi_logloss: 0.744367\n",
      "[19]\tvalid_0's multi_logloss: 0.743001\n",
      "[20]\tvalid_0's multi_logloss: 0.73754\n",
      "[21]\tvalid_0's multi_logloss: 0.73435\n",
      "[22]\tvalid_0's multi_logloss: 0.730277\n",
      "[23]\tvalid_0's multi_logloss: 0.729156\n",
      "[24]\tvalid_0's multi_logloss: 0.727211\n",
      "[25]\tvalid_0's multi_logloss: 0.73012\n",
      "[26]\tvalid_0's multi_logloss: 0.729092\n",
      "[27]\tvalid_0's multi_logloss: 0.729345\n",
      "[28]\tvalid_0's multi_logloss: 0.728497\n",
      "[29]\tvalid_0's multi_logloss: 0.727576\n",
      "[30]\tvalid_0's multi_logloss: 0.724781\n",
      "[31]\tvalid_0's multi_logloss: 0.723628\n",
      "[32]\tvalid_0's multi_logloss: 0.724215\n",
      "[33]\tvalid_0's multi_logloss: 0.734317\n",
      "[34]\tvalid_0's multi_logloss: 0.731248\n",
      "[35]\tvalid_0's multi_logloss: 0.733759\n",
      "[36]\tvalid_0's multi_logloss: 0.737153\n",
      "[37]\tvalid_0's multi_logloss: 0.742632\n",
      "[38]\tvalid_0's multi_logloss: 0.747769\n",
      "[39]\tvalid_0's multi_logloss: 0.745786\n",
      "[40]\tvalid_0's multi_logloss: 0.750508\n",
      "[41]\tvalid_0's multi_logloss: 0.748724\n",
      "[42]\tvalid_0's multi_logloss: 0.750879\n",
      "[43]\tvalid_0's multi_logloss: 0.757494\n",
      "[44]\tvalid_0's multi_logloss: 0.765465\n",
      "[45]\tvalid_0's multi_logloss: 0.768327\n",
      "[46]\tvalid_0's multi_logloss: 0.76625\n",
      "[47]\tvalid_0's multi_logloss: 0.773041\n",
      "[48]\tvalid_0's multi_logloss: 0.773306\n",
      "[49]\tvalid_0's multi_logloss: 0.771136\n",
      "[50]\tvalid_0's multi_logloss: 0.772428\n",
      "[51]\tvalid_0's multi_logloss: 0.77959\n",
      "[52]\tvalid_0's multi_logloss: 0.78168\n",
      "[53]\tvalid_0's multi_logloss: 0.782384\n",
      "[54]\tvalid_0's multi_logloss: 0.79391\n",
      "[55]\tvalid_0's multi_logloss: 0.800143\n",
      "[56]\tvalid_0's multi_logloss: 0.807441\n",
      "[57]\tvalid_0's multi_logloss: 0.814425\n",
      "[58]\tvalid_0's multi_logloss: 0.818393\n",
      "[59]\tvalid_0's multi_logloss: 0.825027\n",
      "[60]\tvalid_0's multi_logloss: 0.83225\n",
      "[61]\tvalid_0's multi_logloss: 0.826427\n",
      "[62]\tvalid_0's multi_logloss: 0.835824\n",
      "[63]\tvalid_0's multi_logloss: 0.845027\n",
      "[64]\tvalid_0's multi_logloss: 0.845087\n",
      "[65]\tvalid_0's multi_logloss: 0.847512\n",
      "[66]\tvalid_0's multi_logloss: 0.851212\n",
      "[67]\tvalid_0's multi_logloss: 0.855412\n",
      "[68]\tvalid_0's multi_logloss: 0.856328\n",
      "[69]\tvalid_0's multi_logloss: 0.856603\n",
      "[70]\tvalid_0's multi_logloss: 0.852903\n",
      "[71]\tvalid_0's multi_logloss: 0.858905\n",
      "[72]\tvalid_0's multi_logloss: 0.865034\n",
      "[73]\tvalid_0's multi_logloss: 0.869552\n",
      "[74]\tvalid_0's multi_logloss: 0.87854\n",
      "[75]\tvalid_0's multi_logloss: 0.879556\n",
      "[76]\tvalid_0's multi_logloss: 0.883094\n",
      "[77]\tvalid_0's multi_logloss: 0.89176\n",
      "[78]\tvalid_0's multi_logloss: 0.894926\n",
      "[79]\tvalid_0's multi_logloss: 0.897368\n",
      "[80]\tvalid_0's multi_logloss: 0.899179\n",
      "[81]\tvalid_0's multi_logloss: 0.897999\n",
      "[82]\tvalid_0's multi_logloss: 0.904347\n",
      "[83]\tvalid_0's multi_logloss: 0.914939\n",
      "[84]\tvalid_0's multi_logloss: 0.923619\n",
      "[85]\tvalid_0's multi_logloss: 0.925383\n",
      "[86]\tvalid_0's multi_logloss: 0.926975\n",
      "[87]\tvalid_0's multi_logloss: 0.927219\n",
      "[88]\tvalid_0's multi_logloss: 0.926762\n",
      "[89]\tvalid_0's multi_logloss: 0.931309\n",
      "[90]\tvalid_0's multi_logloss: 0.935601\n",
      "[91]\tvalid_0's multi_logloss: 0.941648\n",
      "[92]\tvalid_0's multi_logloss: 0.945676\n",
      "[93]\tvalid_0's multi_logloss: 0.949198\n",
      "[94]\tvalid_0's multi_logloss: 0.951585\n",
      "[95]\tvalid_0's multi_logloss: 0.950862\n",
      "[96]\tvalid_0's multi_logloss: 0.952259\n",
      "[97]\tvalid_0's multi_logloss: 0.958652\n",
      "[98]\tvalid_0's multi_logloss: 0.960188\n",
      "[99]\tvalid_0's multi_logloss: 0.96226\n",
      "[100]\tvalid_0's multi_logloss: 0.968342\n",
      "[101]\tvalid_0's multi_logloss: 0.970031\n",
      "[102]\tvalid_0's multi_logloss: 0.97213\n",
      "[103]\tvalid_0's multi_logloss: 0.976674\n",
      "[104]\tvalid_0's multi_logloss: 0.981295\n",
      "[105]\tvalid_0's multi_logloss: 0.984994\n",
      "[106]\tvalid_0's multi_logloss: 0.993445\n",
      "[107]\tvalid_0's multi_logloss: 0.996814\n",
      "[108]\tvalid_0's multi_logloss: 1.00304\n",
      "[109]\tvalid_0's multi_logloss: 1.00168\n",
      "[110]\tvalid_0's multi_logloss: 1.00359\n",
      "[111]\tvalid_0's multi_logloss: 1.00416\n",
      "[112]\tvalid_0's multi_logloss: 1.00593\n",
      "[113]\tvalid_0's multi_logloss: 1.00975\n",
      "[114]\tvalid_0's multi_logloss: 1.01574\n",
      "[115]\tvalid_0's multi_logloss: 1.01775\n",
      "[116]\tvalid_0's multi_logloss: 1.02055\n",
      "[117]\tvalid_0's multi_logloss: 1.02302\n",
      "[118]\tvalid_0's multi_logloss: 1.02997\n",
      "[119]\tvalid_0's multi_logloss: 1.03554\n",
      "[120]\tvalid_0's multi_logloss: 1.03823\n",
      "[121]\tvalid_0's multi_logloss: 1.03975\n",
      "[122]\tvalid_0's multi_logloss: 1.04425\n",
      "[123]\tvalid_0's multi_logloss: 1.04872\n",
      "[124]\tvalid_0's multi_logloss: 1.05012\n",
      "[125]\tvalid_0's multi_logloss: 1.05434\n",
      "[126]\tvalid_0's multi_logloss: 1.05607\n",
      "[127]\tvalid_0's multi_logloss: 1.06027\n",
      "[128]\tvalid_0's multi_logloss: 1.06307\n",
      "[129]\tvalid_0's multi_logloss: 1.06517\n",
      "[130]\tvalid_0's multi_logloss: 1.07207\n",
      "[131]\tvalid_0's multi_logloss: 1.07448\n",
      "정확도 : 0.68\n"
     ]
    }
   ],
   "source": [
    "import lightgbm\n",
    "from lightgbm import LGBMClassifier\n",
    "lgbm_wrapper = LGBMClassifier(n_estimators=400 )\n",
    "\n",
    "evals = [(X_test, y_test)]\n",
    "lgbm_wrapper.fit(X_train,y_train,early_stopping_rounds=100, eval_metric=\"logloss\", eval_set=evals)\n",
    "lgbm_preds = lgbm_wrapper.predict(X_test)\n",
    "pred_proba = lgbm_wrapper.predict_proba(X_test)[:,1]\n",
    "lgbm_accuracy = accuracy_score(y_test, lgbm_preds)\n",
    "print(\"정확도 :\",lgbm_accuracy)"
   ]
  },
  {
   "cell_type": "markdown",
   "metadata": {
    "id": "DQ3Lnuevoz4w"
   },
   "source": [
    "## Stacking 실습"
   ]
  },
  {
   "cell_type": "markdown",
   "metadata": {
    "id": "FSqK0PzP-YmZ"
   },
   "source": [
    "CV set 기반 stacking을 통해 앙상블 모델을 만드려고 합니다.    \n",
    "개별 모델이 교차검증을 통해 최종 모델이 사용할 학습용, 테스트용 데이터를 만드는 함수를 생성하시오.\n",
    "```\n",
    "def get_stacking_dataset(model, X_train, y_train, X_test, n_folds):\n",
    "    return train_fold_pred , test_pred_mean\n",
    "```"
   ]
  },
  {
   "cell_type": "code",
   "execution_count": 85,
   "metadata": {},
   "outputs": [],
   "source": [
    "from sklearn.neighbors import KNeighborsClassifier\n",
    "from sklearn.ensemble import RandomForestClassifier\n",
    "from sklearn.ensemble import AdaBoostClassifier\n",
    "from sklearn.tree import DecisionTreeClassifier\n",
    "from sklearn.linear_model import LogisticRegression\n",
    "from sklearn.model_selection import KFold\n",
    "from sklearn.metrics import mean_absolute_error\n",
    "\n",
    "from sklearn.model_selection import train_test_split\n",
    "from sklearn.metrics import accuracy_score"
   ]
  },
  {
   "cell_type": "code",
   "execution_count": 109,
   "metadata": {
    "id": "wxGOf8YapU_C"
   },
   "outputs": [],
   "source": [
    "def get_stacking_datasets(model, X_train, y_train, X_test, n_folds):\n",
    "    kfold = KFold(n_splits=n_folds, shuffle=False)\n",
    "    train_meta = np.zeros((X_train.shape[0] ,1 ))\n",
    "    test_meta = np.zeros((X_test.shape[0],n_folds))\n",
    "    \n",
    "    for fold_cnt, (train_index, valid_index) in enumerate(kfold.split(X_train)):\n",
    "        X_tr = X_train[train_index] \n",
    "        y_tr = y_train[train_index] \n",
    "        X_val = X_train[valid_index]\n",
    "        \n",
    "        model.fit(X_tr, y_tr)\n",
    "        train_meta[valid_index, :] = model.predict(X_val).reshape(-1,1)\n",
    "        test_meta[:, fold_cnt] = model.predict(X_test)\n",
    "    test_meta = np.mean(test_meta, axis=1).reshape(-1,1)    \n",
    "    return train_meta, test_meta"
   ]
  },
  {
   "cell_type": "markdown",
   "metadata": {
    "id": "KMgeLW3NA8Q5"
   },
   "source": [
    "스태킹에 사용될 개별 모델을 생성하시오.\n",
    "\n",
    "개별 모델:  KNN(n_neighbors=4), 랜덤 포레스트(n_estimators=100, random_state=0), 결정 트리, AdaBoost(n_estimators=100), LightGBM(n_estimators=400)\n",
    "\n",
    "최종 모델: 로지스틱 회귀 (C=10)"
   ]
  },
  {
   "cell_type": "code",
   "execution_count": 115,
   "metadata": {
    "id": "PvuuPu9Op1eb"
   },
   "outputs": [],
   "source": [
    "knn_clf = KNeighborsClassifier(n_neighbors=4)\n",
    "rf_clf = RandomForestClassifier(n_estimators=100, random_state=0)\n",
    "dt_clf = DecisionTreeClassifier()\n",
    "ada_clf = AdaBoostClassifier(n_estimators=100)\n",
    "lgbm_clf = LGBMClassifier(n_estimators=400)\n",
    "\n",
    "lr_meta = LogisticRegression(C=10)"
   ]
  },
  {
   "cell_type": "markdown",
   "metadata": {
    "id": "Wew3mwTxBWAZ"
   },
   "source": [
    "위에서 생성한 함수를 사용해 개별 모델을 학습, 예측시켜 메타모델에 사용될 학습용 데이터와 테스트용 데이터를 생성하고, 스태킹하시오.  \n",
    "fold 수 = 6  \n",
    "학습용 데이터 : stacked_X_train  \n",
    "테스트용 데이터 : stacked_X_test"
   ]
  },
  {
   "cell_type": "code",
   "execution_count": 116,
   "metadata": {
    "id": "lJI0HG3Bp2TC"
   },
   "outputs": [
    {
     "ename": "KeyError",
     "evalue": "\"None of [Int64Index([ 50,  51,  52,  53,  54,  55,  56,  57,  58,  59,\\n            ...\\n            286, 287, 288, 289, 290, 291, 292, 293, 294, 295],\\n           dtype='int64', length=246)] are in the [columns]\"",
     "output_type": "error",
     "traceback": [
      "\u001b[1;31m---------------------------------------------------------------------------\u001b[0m",
      "\u001b[1;31mKeyError\u001b[0m                                  Traceback (most recent call last)",
      "\u001b[1;32m<ipython-input-116-612bb3ddfec7>\u001b[0m in \u001b[0;36m<module>\u001b[1;34m\u001b[0m\n\u001b[0;32m      1\u001b[0m \u001b[1;31m# 계속 오류가 나는 데 원인을 못 찾겠습니다...!\u001b[0m\u001b[1;33m\u001b[0m\u001b[1;33m\u001b[0m\u001b[1;33m\u001b[0m\u001b[0m\n\u001b[1;32m----> 2\u001b[1;33m \u001b[0mknn_train\u001b[0m\u001b[1;33m,\u001b[0m \u001b[0mknn_test\u001b[0m \u001b[1;33m=\u001b[0m \u001b[0mget_stacking_datasets\u001b[0m\u001b[1;33m(\u001b[0m\u001b[0mknn_clf\u001b[0m\u001b[1;33m,\u001b[0m \u001b[0mX_train\u001b[0m\u001b[1;33m,\u001b[0m \u001b[0my_train\u001b[0m\u001b[1;33m,\u001b[0m \u001b[0mX_test\u001b[0m\u001b[1;33m,\u001b[0m \u001b[1;36m6\u001b[0m\u001b[1;33m)\u001b[0m\u001b[1;33m\u001b[0m\u001b[1;33m\u001b[0m\u001b[0m\n\u001b[0m\u001b[0;32m      3\u001b[0m \u001b[0mrf_train\u001b[0m\u001b[1;33m,\u001b[0m \u001b[0mrf_test\u001b[0m \u001b[1;33m=\u001b[0m \u001b[0mget_stacking_datasets\u001b[0m\u001b[1;33m(\u001b[0m\u001b[0mrf_clf\u001b[0m\u001b[1;33m,\u001b[0m \u001b[0mX_train\u001b[0m\u001b[1;33m,\u001b[0m \u001b[0my_train\u001b[0m\u001b[1;33m,\u001b[0m \u001b[0mX_test\u001b[0m\u001b[1;33m,\u001b[0m \u001b[1;36m6\u001b[0m\u001b[1;33m)\u001b[0m\u001b[1;33m\u001b[0m\u001b[1;33m\u001b[0m\u001b[0m\n\u001b[0;32m      4\u001b[0m \u001b[0mdt_train\u001b[0m\u001b[1;33m,\u001b[0m \u001b[0mdt_test\u001b[0m \u001b[1;33m=\u001b[0m \u001b[0mget_stacking_datasets\u001b[0m\u001b[1;33m(\u001b[0m\u001b[0mdt_clf\u001b[0m\u001b[1;33m,\u001b[0m \u001b[0mX_train\u001b[0m\u001b[1;33m,\u001b[0m \u001b[0my_train\u001b[0m\u001b[1;33m,\u001b[0m \u001b[0mX_test\u001b[0m\u001b[1;33m,\u001b[0m \u001b[1;36m6\u001b[0m\u001b[1;33m)\u001b[0m\u001b[1;33m\u001b[0m\u001b[1;33m\u001b[0m\u001b[0m\n\u001b[0;32m      5\u001b[0m \u001b[0mada_train\u001b[0m\u001b[1;33m,\u001b[0m \u001b[0mada_test\u001b[0m \u001b[1;33m=\u001b[0m \u001b[0mget_stacking_datasets\u001b[0m\u001b[1;33m(\u001b[0m\u001b[0mada_clf\u001b[0m\u001b[1;33m,\u001b[0m \u001b[0mX_train\u001b[0m\u001b[1;33m,\u001b[0m \u001b[0my_train\u001b[0m\u001b[1;33m,\u001b[0m \u001b[0mX_test\u001b[0m\u001b[1;33m,\u001b[0m \u001b[1;36m6\u001b[0m\u001b[1;33m)\u001b[0m\u001b[1;33m\u001b[0m\u001b[1;33m\u001b[0m\u001b[0m\n",
      "\u001b[1;32m<ipython-input-109-1df2e84d2572>\u001b[0m in \u001b[0;36mget_stacking_datasets\u001b[1;34m(model, X_train, y_train, X_test, n_folds)\u001b[0m\n\u001b[0;32m      5\u001b[0m \u001b[1;33m\u001b[0m\u001b[0m\n\u001b[0;32m      6\u001b[0m     \u001b[1;32mfor\u001b[0m \u001b[0mfold_cnt\u001b[0m\u001b[1;33m,\u001b[0m \u001b[1;33m(\u001b[0m\u001b[0mtrain_index\u001b[0m\u001b[1;33m,\u001b[0m \u001b[0mvalid_index\u001b[0m\u001b[1;33m)\u001b[0m \u001b[1;32min\u001b[0m \u001b[0menumerate\u001b[0m\u001b[1;33m(\u001b[0m\u001b[0mkfold\u001b[0m\u001b[1;33m.\u001b[0m\u001b[0msplit\u001b[0m\u001b[1;33m(\u001b[0m\u001b[0mX_train\u001b[0m\u001b[1;33m)\u001b[0m\u001b[1;33m)\u001b[0m\u001b[1;33m:\u001b[0m\u001b[1;33m\u001b[0m\u001b[1;33m\u001b[0m\u001b[0m\n\u001b[1;32m----> 7\u001b[1;33m         \u001b[0mX_tr\u001b[0m \u001b[1;33m=\u001b[0m \u001b[0mX_train\u001b[0m\u001b[1;33m[\u001b[0m\u001b[0mtrain_index\u001b[0m\u001b[1;33m]\u001b[0m\u001b[1;33m\u001b[0m\u001b[1;33m\u001b[0m\u001b[0m\n\u001b[0m\u001b[0;32m      8\u001b[0m         \u001b[0my_tr\u001b[0m \u001b[1;33m=\u001b[0m \u001b[0my_train\u001b[0m\u001b[1;33m[\u001b[0m\u001b[0mtrain_index\u001b[0m\u001b[1;33m]\u001b[0m\u001b[1;33m\u001b[0m\u001b[1;33m\u001b[0m\u001b[0m\n\u001b[0;32m      9\u001b[0m         \u001b[0mX_val\u001b[0m \u001b[1;33m=\u001b[0m \u001b[0mX_train\u001b[0m\u001b[1;33m[\u001b[0m\u001b[0mvalid_index\u001b[0m\u001b[1;33m]\u001b[0m\u001b[1;33m\u001b[0m\u001b[1;33m\u001b[0m\u001b[0m\n",
      "\u001b[1;32m~\\anaconda3\\lib\\site-packages\\pandas\\core\\frame.py\u001b[0m in \u001b[0;36m__getitem__\u001b[1;34m(self, key)\u001b[0m\n\u001b[0;32m   2906\u001b[0m             \u001b[1;32mif\u001b[0m \u001b[0mis_iterator\u001b[0m\u001b[1;33m(\u001b[0m\u001b[0mkey\u001b[0m\u001b[1;33m)\u001b[0m\u001b[1;33m:\u001b[0m\u001b[1;33m\u001b[0m\u001b[1;33m\u001b[0m\u001b[0m\n\u001b[0;32m   2907\u001b[0m                 \u001b[0mkey\u001b[0m \u001b[1;33m=\u001b[0m \u001b[0mlist\u001b[0m\u001b[1;33m(\u001b[0m\u001b[0mkey\u001b[0m\u001b[1;33m)\u001b[0m\u001b[1;33m\u001b[0m\u001b[1;33m\u001b[0m\u001b[0m\n\u001b[1;32m-> 2908\u001b[1;33m             \u001b[0mindexer\u001b[0m \u001b[1;33m=\u001b[0m \u001b[0mself\u001b[0m\u001b[1;33m.\u001b[0m\u001b[0mloc\u001b[0m\u001b[1;33m.\u001b[0m\u001b[0m_get_listlike_indexer\u001b[0m\u001b[1;33m(\u001b[0m\u001b[0mkey\u001b[0m\u001b[1;33m,\u001b[0m \u001b[0maxis\u001b[0m\u001b[1;33m=\u001b[0m\u001b[1;36m1\u001b[0m\u001b[1;33m,\u001b[0m \u001b[0mraise_missing\u001b[0m\u001b[1;33m=\u001b[0m\u001b[1;32mTrue\u001b[0m\u001b[1;33m)\u001b[0m\u001b[1;33m[\u001b[0m\u001b[1;36m1\u001b[0m\u001b[1;33m]\u001b[0m\u001b[1;33m\u001b[0m\u001b[1;33m\u001b[0m\u001b[0m\n\u001b[0m\u001b[0;32m   2909\u001b[0m \u001b[1;33m\u001b[0m\u001b[0m\n\u001b[0;32m   2910\u001b[0m         \u001b[1;31m# take() does not accept boolean indexers\u001b[0m\u001b[1;33m\u001b[0m\u001b[1;33m\u001b[0m\u001b[1;33m\u001b[0m\u001b[0m\n",
      "\u001b[1;32m~\\anaconda3\\lib\\site-packages\\pandas\\core\\indexing.py\u001b[0m in \u001b[0;36m_get_listlike_indexer\u001b[1;34m(self, key, axis, raise_missing)\u001b[0m\n\u001b[0;32m   1252\u001b[0m             \u001b[0mkeyarr\u001b[0m\u001b[1;33m,\u001b[0m \u001b[0mindexer\u001b[0m\u001b[1;33m,\u001b[0m \u001b[0mnew_indexer\u001b[0m \u001b[1;33m=\u001b[0m \u001b[0max\u001b[0m\u001b[1;33m.\u001b[0m\u001b[0m_reindex_non_unique\u001b[0m\u001b[1;33m(\u001b[0m\u001b[0mkeyarr\u001b[0m\u001b[1;33m)\u001b[0m\u001b[1;33m\u001b[0m\u001b[1;33m\u001b[0m\u001b[0m\n\u001b[0;32m   1253\u001b[0m \u001b[1;33m\u001b[0m\u001b[0m\n\u001b[1;32m-> 1254\u001b[1;33m         \u001b[0mself\u001b[0m\u001b[1;33m.\u001b[0m\u001b[0m_validate_read_indexer\u001b[0m\u001b[1;33m(\u001b[0m\u001b[0mkeyarr\u001b[0m\u001b[1;33m,\u001b[0m \u001b[0mindexer\u001b[0m\u001b[1;33m,\u001b[0m \u001b[0maxis\u001b[0m\u001b[1;33m,\u001b[0m \u001b[0mraise_missing\u001b[0m\u001b[1;33m=\u001b[0m\u001b[0mraise_missing\u001b[0m\u001b[1;33m)\u001b[0m\u001b[1;33m\u001b[0m\u001b[1;33m\u001b[0m\u001b[0m\n\u001b[0m\u001b[0;32m   1255\u001b[0m         \u001b[1;32mreturn\u001b[0m \u001b[0mkeyarr\u001b[0m\u001b[1;33m,\u001b[0m \u001b[0mindexer\u001b[0m\u001b[1;33m\u001b[0m\u001b[1;33m\u001b[0m\u001b[0m\n\u001b[0;32m   1256\u001b[0m \u001b[1;33m\u001b[0m\u001b[0m\n",
      "\u001b[1;32m~\\anaconda3\\lib\\site-packages\\pandas\\core\\indexing.py\u001b[0m in \u001b[0;36m_validate_read_indexer\u001b[1;34m(self, key, indexer, axis, raise_missing)\u001b[0m\n\u001b[0;32m   1296\u001b[0m             \u001b[1;32mif\u001b[0m \u001b[0mmissing\u001b[0m \u001b[1;33m==\u001b[0m \u001b[0mlen\u001b[0m\u001b[1;33m(\u001b[0m\u001b[0mindexer\u001b[0m\u001b[1;33m)\u001b[0m\u001b[1;33m:\u001b[0m\u001b[1;33m\u001b[0m\u001b[1;33m\u001b[0m\u001b[0m\n\u001b[0;32m   1297\u001b[0m                 \u001b[0maxis_name\u001b[0m \u001b[1;33m=\u001b[0m \u001b[0mself\u001b[0m\u001b[1;33m.\u001b[0m\u001b[0mobj\u001b[0m\u001b[1;33m.\u001b[0m\u001b[0m_get_axis_name\u001b[0m\u001b[1;33m(\u001b[0m\u001b[0maxis\u001b[0m\u001b[1;33m)\u001b[0m\u001b[1;33m\u001b[0m\u001b[1;33m\u001b[0m\u001b[0m\n\u001b[1;32m-> 1298\u001b[1;33m                 \u001b[1;32mraise\u001b[0m \u001b[0mKeyError\u001b[0m\u001b[1;33m(\u001b[0m\u001b[1;34mf\"None of [{key}] are in the [{axis_name}]\"\u001b[0m\u001b[1;33m)\u001b[0m\u001b[1;33m\u001b[0m\u001b[1;33m\u001b[0m\u001b[0m\n\u001b[0m\u001b[0;32m   1299\u001b[0m \u001b[1;33m\u001b[0m\u001b[0m\n\u001b[0;32m   1300\u001b[0m             \u001b[1;31m# We (temporarily) allow for some missing keys with .loc, except in\u001b[0m\u001b[1;33m\u001b[0m\u001b[1;33m\u001b[0m\u001b[1;33m\u001b[0m\u001b[0m\n",
      "\u001b[1;31mKeyError\u001b[0m: \"None of [Int64Index([ 50,  51,  52,  53,  54,  55,  56,  57,  58,  59,\\n            ...\\n            286, 287, 288, 289, 290, 291, 292, 293, 294, 295],\\n           dtype='int64', length=246)] are in the [columns]\""
     ]
    }
   ],
   "source": [
    "# 계속 오류가 나는 데 원인을 못 찾겠습니다...!\n",
    "knn_train, knn_test = get_stacking_datasets(knn_clf, X_train, y_train, X_test, 6)\n",
    "rf_train, rf_test = get_stacking_datasets(rf_clf, X_train, y_train, X_test, 6)\n",
    "dt_train, dt_test = get_stacking_datasets(dt_clf, X_train, y_train, X_test, 6)\n",
    "ada_train, ada_test = get_stacking_datasets(ada_clf, X_train, y_train, X_test, 6)\n",
    "lgbm_train, lgbm_test = get_stacking_datasets(lgbm_clf, X_train, y_train, X_test, 6)"
   ]
  },
  {
   "cell_type": "code",
   "execution_count": 117,
   "metadata": {
    "id": "NtuEJGkep6EV"
   },
   "outputs": [
    {
     "ename": "NameError",
     "evalue": "name 'dt_train' is not defined",
     "output_type": "error",
     "traceback": [
      "\u001b[1;31m---------------------------------------------------------------------------\u001b[0m",
      "\u001b[1;31mNameError\u001b[0m                                 Traceback (most recent call last)",
      "\u001b[1;32m<ipython-input-117-8a211a14191f>\u001b[0m in \u001b[0;36m<module>\u001b[1;34m\u001b[0m\n\u001b[1;32m----> 1\u001b[1;33m \u001b[0mstacked_X_train\u001b[0m \u001b[1;33m=\u001b[0m \u001b[0mnp\u001b[0m\u001b[1;33m.\u001b[0m\u001b[0mconcatenate\u001b[0m\u001b[1;33m(\u001b[0m\u001b[1;33m(\u001b[0m\u001b[0mdt_train\u001b[0m\u001b[1;33m,\u001b[0m \u001b[0mknn_train\u001b[0m\u001b[1;33m,\u001b[0m \u001b[0mrf_train\u001b[0m\u001b[1;33m,\u001b[0m \u001b[0mada_train\u001b[0m\u001b[1;33m,\u001b[0m\u001b[0mlgbm_train\u001b[0m\u001b[1;33m)\u001b[0m\u001b[1;33m,\u001b[0m\u001b[0maxis\u001b[0m\u001b[1;33m=\u001b[0m\u001b[1;36m1\u001b[0m\u001b[1;33m)\u001b[0m\u001b[1;33m\u001b[0m\u001b[1;33m\u001b[0m\u001b[0m\n\u001b[0m\u001b[0;32m      2\u001b[0m \u001b[0mstacked_X_test\u001b[0m \u001b[1;33m=\u001b[0m \u001b[0mnp\u001b[0m\u001b[1;33m.\u001b[0m\u001b[0mconcatenate\u001b[0m\u001b[1;33m(\u001b[0m\u001b[1;33m(\u001b[0m\u001b[0mdt_test\u001b[0m\u001b[1;33m,\u001b[0m \u001b[0mknn_test\u001b[0m\u001b[1;33m,\u001b[0m \u001b[0mrf_test\u001b[0m\u001b[1;33m,\u001b[0m \u001b[0mada_test\u001b[0m\u001b[1;33m,\u001b[0m\u001b[0mlgbm_test\u001b[0m\u001b[1;33m)\u001b[0m\u001b[1;33m,\u001b[0m\u001b[0maxis\u001b[0m\u001b[1;33m=\u001b[0m\u001b[1;36m1\u001b[0m\u001b[1;33m)\u001b[0m\u001b[1;33m\u001b[0m\u001b[1;33m\u001b[0m\u001b[0m\n\u001b[0;32m      3\u001b[0m \u001b[1;33m\u001b[0m\u001b[0m\n\u001b[0;32m      4\u001b[0m \u001b[0mprint\u001b[0m\u001b[1;33m(\u001b[0m\u001b[1;34m\"원본 학습 피처 데이터 Shape:\"\u001b[0m\u001b[1;33m,\u001b[0m \u001b[0mX_train\u001b[0m\u001b[1;33m.\u001b[0m\u001b[0mshape\u001b[0m\u001b[1;33m,\u001b[0m \u001b[1;34m\"원본 테스트 피처 Shape:\"\u001b[0m\u001b[1;33m,\u001b[0m\u001b[0mX_test\u001b[0m\u001b[1;33m.\u001b[0m\u001b[0mshape\u001b[0m\u001b[1;33m)\u001b[0m\u001b[1;33m\u001b[0m\u001b[1;33m\u001b[0m\u001b[0m\n\u001b[0;32m      5\u001b[0m print(\"스태킹 학습 피처 데이터 Shape:\",stacked_X_train.shape,\n",
      "\u001b[1;31mNameError\u001b[0m: name 'dt_train' is not defined"
     ]
    }
   ],
   "source": [
    "stacked_X_train = np.concatenate((dt_train, knn_train, rf_train, ada_train,lgbm_train),axis=1)\n",
    "stacked_X_test = np.concatenate((dt_test, knn_test, rf_test, ada_test,lgbm_test),axis=1)\n",
    "\n",
    "print(\"원본 학습 피처 데이터 Shape:\", X_train.shape, \"원본 테스트 피처 Shape:\",X_test.shape)\n",
    "print(\"스태킹 학습 피처 데이터 Shape:\",stacked_X_train.shape,\n",
    "     \"스태킹 테스트 피처 데이터 Shape:\",stacked_X_test.shape)"
   ]
  },
  {
   "cell_type": "markdown",
   "metadata": {
    "id": "z1wPcXvNHH8t"
   },
   "source": [
    "최종 모델 (logistic regression)을 학습시키고, 정확도를 구하시오."
   ]
  },
  {
   "cell_type": "code",
   "execution_count": 118,
   "metadata": {
    "id": "OFqd1by6p2z1"
   },
   "outputs": [
    {
     "ename": "NameError",
     "evalue": "name 'stacked_X_train' is not defined",
     "output_type": "error",
     "traceback": [
      "\u001b[1;31m---------------------------------------------------------------------------\u001b[0m",
      "\u001b[1;31mNameError\u001b[0m                                 Traceback (most recent call last)",
      "\u001b[1;32m<ipython-input-118-610295da1aa5>\u001b[0m in \u001b[0;36m<module>\u001b[1;34m\u001b[0m\n\u001b[1;32m----> 1\u001b[1;33m \u001b[0mlr_meta\u001b[0m\u001b[1;33m.\u001b[0m\u001b[0mfit\u001b[0m\u001b[1;33m(\u001b[0m\u001b[0mstacked_X_train\u001b[0m\u001b[1;33m,\u001b[0m\u001b[0my_train\u001b[0m\u001b[1;33m)\u001b[0m\u001b[1;33m\u001b[0m\u001b[1;33m\u001b[0m\u001b[0m\n\u001b[0m\u001b[0;32m      2\u001b[0m \u001b[0mpred_meta\u001b[0m \u001b[1;33m=\u001b[0m \u001b[0mlr_meta\u001b[0m\u001b[1;33m.\u001b[0m\u001b[0mpredict\u001b[0m\u001b[1;33m(\u001b[0m\u001b[0mstacked_X_test\u001b[0m\u001b[1;33m)\u001b[0m\u001b[1;33m\u001b[0m\u001b[1;33m\u001b[0m\u001b[0m\n\u001b[0;32m      3\u001b[0m \u001b[1;33m\u001b[0m\u001b[0m\n\u001b[0;32m      4\u001b[0m \u001b[0mprint\u001b[0m\u001b[1;33m(\u001b[0m\u001b[1;34m'최종 메타 모델의 예측 정확도: {0:.4f}'\u001b[0m\u001b[1;33m.\u001b[0m\u001b[0mformat\u001b[0m\u001b[1;33m(\u001b[0m\u001b[0maccuracy_score\u001b[0m\u001b[1;33m(\u001b[0m\u001b[0my_test\u001b[0m\u001b[1;33m,\u001b[0m \u001b[0mpred_meta\u001b[0m\u001b[1;33m)\u001b[0m\u001b[1;33m)\u001b[0m\u001b[1;33m)\u001b[0m\u001b[1;33m\u001b[0m\u001b[1;33m\u001b[0m\u001b[0m\n",
      "\u001b[1;31mNameError\u001b[0m: name 'stacked_X_train' is not defined"
     ]
    }
   ],
   "source": [
    "lr_meta.fit(stacked_X_train,y_train)\n",
    "pred_meta = lr_meta.predict(stacked_X_test)\n",
    "\n",
    "print('최종 메타 모델의 예측 정확도: {0:.4f}'.format(accuracy_score(y_test, pred_meta)))"
   ]
  },
  {
   "cell_type": "markdown",
   "metadata": {
    "id": "mZEcyqY79nZM"
   },
   "source": [
    "### CatBoost\n",
    "\n",
    "범주형 변수가 많은 데이터에 catboost를 적용해봅시다.\n",
    "\n",
    "데이터 출처:\n",
    "https://www.kaggle.com/datasets/uciml/mushroom-classification\n"
   ]
  },
  {
   "cell_type": "code",
   "execution_count": 37,
   "metadata": {
    "id": "mbSevRzjIHKs"
   },
   "outputs": [
    {
     "data": {
      "text/html": [
       "<div>\n",
       "<style scoped>\n",
       "    .dataframe tbody tr th:only-of-type {\n",
       "        vertical-align: middle;\n",
       "    }\n",
       "\n",
       "    .dataframe tbody tr th {\n",
       "        vertical-align: top;\n",
       "    }\n",
       "\n",
       "    .dataframe thead th {\n",
       "        text-align: right;\n",
       "    }\n",
       "</style>\n",
       "<table border=\"1\" class=\"dataframe\">\n",
       "  <thead>\n",
       "    <tr style=\"text-align: right;\">\n",
       "      <th></th>\n",
       "      <th>class</th>\n",
       "      <th>cap-shape</th>\n",
       "      <th>cap-surface</th>\n",
       "      <th>cap-color</th>\n",
       "      <th>bruises</th>\n",
       "      <th>odor</th>\n",
       "      <th>gill-attachment</th>\n",
       "      <th>gill-spacing</th>\n",
       "      <th>gill-size</th>\n",
       "      <th>gill-color</th>\n",
       "      <th>...</th>\n",
       "      <th>stalk-surface-below-ring</th>\n",
       "      <th>stalk-color-above-ring</th>\n",
       "      <th>stalk-color-below-ring</th>\n",
       "      <th>veil-type</th>\n",
       "      <th>veil-color</th>\n",
       "      <th>ring-number</th>\n",
       "      <th>ring-type</th>\n",
       "      <th>spore-print-color</th>\n",
       "      <th>population</th>\n",
       "      <th>habitat</th>\n",
       "    </tr>\n",
       "  </thead>\n",
       "  <tbody>\n",
       "    <tr>\n",
       "      <th>0</th>\n",
       "      <td>p</td>\n",
       "      <td>x</td>\n",
       "      <td>s</td>\n",
       "      <td>n</td>\n",
       "      <td>t</td>\n",
       "      <td>p</td>\n",
       "      <td>f</td>\n",
       "      <td>c</td>\n",
       "      <td>n</td>\n",
       "      <td>k</td>\n",
       "      <td>...</td>\n",
       "      <td>s</td>\n",
       "      <td>w</td>\n",
       "      <td>w</td>\n",
       "      <td>p</td>\n",
       "      <td>w</td>\n",
       "      <td>o</td>\n",
       "      <td>p</td>\n",
       "      <td>k</td>\n",
       "      <td>s</td>\n",
       "      <td>u</td>\n",
       "    </tr>\n",
       "    <tr>\n",
       "      <th>1</th>\n",
       "      <td>e</td>\n",
       "      <td>x</td>\n",
       "      <td>s</td>\n",
       "      <td>y</td>\n",
       "      <td>t</td>\n",
       "      <td>a</td>\n",
       "      <td>f</td>\n",
       "      <td>c</td>\n",
       "      <td>b</td>\n",
       "      <td>k</td>\n",
       "      <td>...</td>\n",
       "      <td>s</td>\n",
       "      <td>w</td>\n",
       "      <td>w</td>\n",
       "      <td>p</td>\n",
       "      <td>w</td>\n",
       "      <td>o</td>\n",
       "      <td>p</td>\n",
       "      <td>n</td>\n",
       "      <td>n</td>\n",
       "      <td>g</td>\n",
       "    </tr>\n",
       "    <tr>\n",
       "      <th>2</th>\n",
       "      <td>e</td>\n",
       "      <td>b</td>\n",
       "      <td>s</td>\n",
       "      <td>w</td>\n",
       "      <td>t</td>\n",
       "      <td>l</td>\n",
       "      <td>f</td>\n",
       "      <td>c</td>\n",
       "      <td>b</td>\n",
       "      <td>n</td>\n",
       "      <td>...</td>\n",
       "      <td>s</td>\n",
       "      <td>w</td>\n",
       "      <td>w</td>\n",
       "      <td>p</td>\n",
       "      <td>w</td>\n",
       "      <td>o</td>\n",
       "      <td>p</td>\n",
       "      <td>n</td>\n",
       "      <td>n</td>\n",
       "      <td>m</td>\n",
       "    </tr>\n",
       "    <tr>\n",
       "      <th>3</th>\n",
       "      <td>p</td>\n",
       "      <td>x</td>\n",
       "      <td>y</td>\n",
       "      <td>w</td>\n",
       "      <td>t</td>\n",
       "      <td>p</td>\n",
       "      <td>f</td>\n",
       "      <td>c</td>\n",
       "      <td>n</td>\n",
       "      <td>n</td>\n",
       "      <td>...</td>\n",
       "      <td>s</td>\n",
       "      <td>w</td>\n",
       "      <td>w</td>\n",
       "      <td>p</td>\n",
       "      <td>w</td>\n",
       "      <td>o</td>\n",
       "      <td>p</td>\n",
       "      <td>k</td>\n",
       "      <td>s</td>\n",
       "      <td>u</td>\n",
       "    </tr>\n",
       "    <tr>\n",
       "      <th>4</th>\n",
       "      <td>e</td>\n",
       "      <td>x</td>\n",
       "      <td>s</td>\n",
       "      <td>g</td>\n",
       "      <td>f</td>\n",
       "      <td>n</td>\n",
       "      <td>f</td>\n",
       "      <td>w</td>\n",
       "      <td>b</td>\n",
       "      <td>k</td>\n",
       "      <td>...</td>\n",
       "      <td>s</td>\n",
       "      <td>w</td>\n",
       "      <td>w</td>\n",
       "      <td>p</td>\n",
       "      <td>w</td>\n",
       "      <td>o</td>\n",
       "      <td>e</td>\n",
       "      <td>n</td>\n",
       "      <td>a</td>\n",
       "      <td>g</td>\n",
       "    </tr>\n",
       "  </tbody>\n",
       "</table>\n",
       "<p>5 rows × 23 columns</p>\n",
       "</div>"
      ],
      "text/plain": [
       "  class cap-shape cap-surface cap-color bruises odor gill-attachment  \\\n",
       "0     p         x           s         n       t    p               f   \n",
       "1     e         x           s         y       t    a               f   \n",
       "2     e         b           s         w       t    l               f   \n",
       "3     p         x           y         w       t    p               f   \n",
       "4     e         x           s         g       f    n               f   \n",
       "\n",
       "  gill-spacing gill-size gill-color  ... stalk-surface-below-ring  \\\n",
       "0            c         n          k  ...                        s   \n",
       "1            c         b          k  ...                        s   \n",
       "2            c         b          n  ...                        s   \n",
       "3            c         n          n  ...                        s   \n",
       "4            w         b          k  ...                        s   \n",
       "\n",
       "  stalk-color-above-ring stalk-color-below-ring veil-type veil-color  \\\n",
       "0                      w                      w         p          w   \n",
       "1                      w                      w         p          w   \n",
       "2                      w                      w         p          w   \n",
       "3                      w                      w         p          w   \n",
       "4                      w                      w         p          w   \n",
       "\n",
       "  ring-number ring-type spore-print-color population habitat  \n",
       "0           o         p                 k          s       u  \n",
       "1           o         p                 n          n       g  \n",
       "2           o         p                 n          n       m  \n",
       "3           o         p                 k          s       u  \n",
       "4           o         e                 n          a       g  \n",
       "\n",
       "[5 rows x 23 columns]"
      ]
     },
     "execution_count": 37,
     "metadata": {},
     "output_type": "execute_result"
    }
   ],
   "source": [
    "# mushrooms.csv 파일을 사용합니다.\n",
    "\n",
    "mushroom_df = pd.read_csv('week5_mushrooms.csv')\n",
    "mushroom_df.head()"
   ]
  },
  {
   "cell_type": "markdown",
   "metadata": {
    "id": "AjLa99HnIZ1M"
   },
   "source": [
    "mushroom_df feature들의 data type을 확인하시오."
   ]
  },
  {
   "cell_type": "code",
   "execution_count": 40,
   "metadata": {
    "id": "Gs16WW_rp7d2"
   },
   "outputs": [
    {
     "data": {
      "text/plain": [
       "class                       object\n",
       "cap-shape                   object\n",
       "cap-surface                 object\n",
       "cap-color                   object\n",
       "bruises                     object\n",
       "odor                        object\n",
       "gill-attachment             object\n",
       "gill-spacing                object\n",
       "gill-size                   object\n",
       "gill-color                  object\n",
       "stalk-shape                 object\n",
       "stalk-root                  object\n",
       "stalk-surface-above-ring    object\n",
       "stalk-surface-below-ring    object\n",
       "stalk-color-above-ring      object\n",
       "stalk-color-below-ring      object\n",
       "veil-type                   object\n",
       "veil-color                  object\n",
       "ring-number                 object\n",
       "ring-type                   object\n",
       "spore-print-color           object\n",
       "population                  object\n",
       "habitat                     object\n",
       "dtype: object"
      ]
     },
     "execution_count": 40,
     "metadata": {},
     "output_type": "execute_result"
    }
   ],
   "source": [
    "mushroom_df.dtypes"
   ]
  },
  {
   "cell_type": "markdown",
   "metadata": {
    "id": "twu4cpQMKHTM"
   },
   "source": [
    "feature와 target을 각각 X_mushroom, y_mushroom으로 분리하고,  \n",
    "train_test_split 함수로 train, test set을 분리하시오. (test size = 0.2)"
   ]
  },
  {
   "cell_type": "code",
   "execution_count": 43,
   "metadata": {
    "id": "T4Qwnz0Kp8Aj"
   },
   "outputs": [],
   "source": [
    "X_mushroom = train_df.iloc[:,:-1]\n",
    "y_mushroom = train_df.iloc[:,-1]\n",
    "X_train, X_test, y_train, y_test = train_test_split(X_mushroom, y_mushroom, test_size = 0.2)"
   ]
  },
  {
   "cell_type": "markdown",
   "metadata": {
    "id": "FAkKKfY9JC5U"
   },
   "source": [
    "CatBoostClassifier를 불러오고, Pool 함수를 이용해 범주형 변수를 처리하도록 train_pool, test_pool을 만드시오."
   ]
  },
  {
   "cell_type": "code",
   "execution_count": 47,
   "metadata": {
    "id": "LAFxT8bVIEyN"
   },
   "outputs": [
    {
     "name": "stdout",
     "output_type": "stream",
     "text": [
      "Collecting catboost\n",
      "  Downloading catboost-1.0.6-cp38-none-win_amd64.whl (73.9 MB)\n",
      "Collecting plotly\n",
      "  Downloading plotly-5.10.0-py2.py3-none-any.whl (15.2 MB)\n",
      "Requirement already satisfied: pandas>=0.24.0 in c:\\users\\namyu\\anaconda3\\lib\\site-packages (from catboost) (1.1.3)\n",
      "Requirement already satisfied: graphviz in c:\\users\\namyu\\anaconda3\\lib\\site-packages (from catboost) (0.20.1)\n",
      "Requirement already satisfied: numpy>=1.16.0 in c:\\users\\namyu\\anaconda3\\lib\\site-packages (from catboost) (1.22.3)\n",
      "Requirement already satisfied: scipy in c:\\users\\namyu\\anaconda3\\lib\\site-packages (from catboost) (1.5.2)\n",
      "Requirement already satisfied: six in c:\\users\\namyu\\anaconda3\\lib\\site-packages (from catboost) (1.15.0)\n",
      "Requirement already satisfied: matplotlib in c:\\users\\namyu\\anaconda3\\lib\\site-packages (from catboost) (3.3.2)\n",
      "Collecting tenacity>=6.2.0\n",
      "  Downloading tenacity-8.0.1-py3-none-any.whl (24 kB)\n",
      "Requirement already satisfied: pytz>=2017.2 in c:\\users\\namyu\\anaconda3\\lib\\site-packages (from pandas>=0.24.0->catboost) (2020.1)\n",
      "Requirement already satisfied: python-dateutil>=2.7.3 in c:\\users\\namyu\\anaconda3\\lib\\site-packages (from pandas>=0.24.0->catboost) (2.8.1)\n",
      "Requirement already satisfied: pyparsing!=2.0.4,!=2.1.2,!=2.1.6,>=2.0.3 in c:\\users\\namyu\\anaconda3\\lib\\site-packages (from matplotlib->catboost) (2.4.7)\n",
      "Requirement already satisfied: pillow>=6.2.0 in c:\\users\\namyu\\anaconda3\\lib\\site-packages (from matplotlib->catboost) (8.0.1)\n",
      "Requirement already satisfied: cycler>=0.10 in c:\\users\\namyu\\anaconda3\\lib\\site-packages (from matplotlib->catboost) (0.10.0)\n",
      "Requirement already satisfied: kiwisolver>=1.0.1 in c:\\users\\namyu\\anaconda3\\lib\\site-packages (from matplotlib->catboost) (1.3.0)\n",
      "Requirement already satisfied: certifi>=2020.06.20 in c:\\users\\namyu\\anaconda3\\lib\\site-packages (from matplotlib->catboost) (2020.6.20)\n",
      "Installing collected packages: tenacity, plotly, catboost\n",
      "Successfully installed catboost-1.0.6 plotly-5.10.0 tenacity-8.0.1\n"
     ]
    }
   ],
   "source": [
    "!pip install catboost"
   ]
  },
  {
   "cell_type": "code",
   "execution_count": 52,
   "metadata": {
    "id": "3uinLtop9bPW"
   },
   "outputs": [],
   "source": [
    "from catboost import Pool"
   ]
  },
  {
   "cell_type": "code",
   "execution_count": 53,
   "metadata": {
    "id": "J_wMxvhdp9L8"
   },
   "outputs": [],
   "source": [
    "train_pool = Pool(data = X_train, label= y_train)\n",
    "test_pool = Pool(data = X_test, label = y_test)"
   ]
  },
  {
   "cell_type": "markdown",
   "metadata": {
    "id": "Vu9ijqhGMWgo"
   },
   "source": [
    "iteration=400, learning_rate=0.1, max_depth=3로 설정한 CatBoost 모델로 버섯에 대한 정보를 학습하고 테스트 데이터 버섯의 독성 여부를 예측하시오. 또 정확도를 구하시오.  "
   ]
  },
  {
   "cell_type": "code",
   "execution_count": 58,
   "metadata": {
    "id": "F2I7ARrWp_t3"
   },
   "outputs": [
    {
     "name": "stdout",
     "output_type": "stream",
     "text": [
      "0:\tlearn: 1.0447321\ttotal: 804us\tremaining: 321ms\n",
      "1:\tlearn: 0.9960561\ttotal: 1.83ms\tremaining: 364ms\n",
      "2:\tlearn: 0.9637278\ttotal: 2.74ms\tremaining: 362ms\n",
      "3:\tlearn: 0.9218655\ttotal: 3.63ms\tremaining: 359ms\n",
      "4:\tlearn: 0.8890160\ttotal: 4.61ms\tremaining: 364ms\n",
      "5:\tlearn: 0.8676226\ttotal: 5.68ms\tremaining: 373ms\n",
      "6:\tlearn: 0.8460663\ttotal: 6.54ms\tremaining: 367ms\n",
      "7:\tlearn: 0.8215393\ttotal: 7.94ms\tremaining: 389ms\n",
      "8:\tlearn: 0.8042549\ttotal: 9ms\tremaining: 391ms\n",
      "9:\tlearn: 0.7840780\ttotal: 9.93ms\tremaining: 387ms\n",
      "10:\tlearn: 0.7645086\ttotal: 10.7ms\tremaining: 378ms\n",
      "11:\tlearn: 0.7505316\ttotal: 11.5ms\tremaining: 371ms\n",
      "12:\tlearn: 0.7334161\ttotal: 12.3ms\tremaining: 367ms\n",
      "13:\tlearn: 0.7209195\ttotal: 13.1ms\tremaining: 361ms\n",
      "14:\tlearn: 0.7088780\ttotal: 13.8ms\tremaining: 354ms\n",
      "15:\tlearn: 0.7002115\ttotal: 14.6ms\tremaining: 349ms\n",
      "16:\tlearn: 0.6899566\ttotal: 15.4ms\tremaining: 348ms\n",
      "17:\tlearn: 0.6793074\ttotal: 16.1ms\tremaining: 341ms\n",
      "18:\tlearn: 0.6672257\ttotal: 16.8ms\tremaining: 337ms\n",
      "19:\tlearn: 0.6563607\ttotal: 17.8ms\tremaining: 338ms\n",
      "20:\tlearn: 0.6477192\ttotal: 18.8ms\tremaining: 338ms\n",
      "21:\tlearn: 0.6424839\ttotal: 19.5ms\tremaining: 336ms\n",
      "22:\tlearn: 0.6379271\ttotal: 20.4ms\tremaining: 334ms\n",
      "23:\tlearn: 0.6272391\ttotal: 21.3ms\tremaining: 334ms\n",
      "24:\tlearn: 0.6206054\ttotal: 22.1ms\tremaining: 331ms\n",
      "25:\tlearn: 0.6145762\ttotal: 23ms\tremaining: 330ms\n",
      "26:\tlearn: 0.6079992\ttotal: 23.8ms\tremaining: 329ms\n",
      "27:\tlearn: 0.6045083\ttotal: 24.5ms\tremaining: 325ms\n",
      "28:\tlearn: 0.5960900\ttotal: 25.2ms\tremaining: 323ms\n",
      "29:\tlearn: 0.5898188\ttotal: 26.1ms\tremaining: 322ms\n",
      "30:\tlearn: 0.5845322\ttotal: 26.9ms\tremaining: 320ms\n",
      "31:\tlearn: 0.5800587\ttotal: 27.7ms\tremaining: 319ms\n",
      "32:\tlearn: 0.5772522\ttotal: 28.5ms\tremaining: 317ms\n",
      "33:\tlearn: 0.5703688\ttotal: 29.4ms\tremaining: 316ms\n",
      "34:\tlearn: 0.5665149\ttotal: 30.2ms\tremaining: 315ms\n",
      "35:\tlearn: 0.5619927\ttotal: 31ms\tremaining: 313ms\n",
      "36:\tlearn: 0.5584201\ttotal: 31.8ms\tremaining: 312ms\n",
      "37:\tlearn: 0.5548463\ttotal: 32.4ms\tremaining: 309ms\n",
      "38:\tlearn: 0.5509981\ttotal: 33.2ms\tremaining: 308ms\n",
      "39:\tlearn: 0.5494189\ttotal: 34ms\tremaining: 306ms\n",
      "40:\tlearn: 0.5448471\ttotal: 34.7ms\tremaining: 304ms\n",
      "41:\tlearn: 0.5412368\ttotal: 35.5ms\tremaining: 302ms\n",
      "42:\tlearn: 0.5362108\ttotal: 36.2ms\tremaining: 301ms\n",
      "43:\tlearn: 0.5327918\ttotal: 37.1ms\tremaining: 300ms\n",
      "44:\tlearn: 0.5271792\ttotal: 37.9ms\tremaining: 299ms\n",
      "45:\tlearn: 0.5239288\ttotal: 38.7ms\tremaining: 298ms\n",
      "46:\tlearn: 0.5213921\ttotal: 39.6ms\tremaining: 297ms\n",
      "47:\tlearn: 0.5179501\ttotal: 40.4ms\tremaining: 296ms\n",
      "48:\tlearn: 0.5146135\ttotal: 41.1ms\tremaining: 295ms\n",
      "49:\tlearn: 0.5109104\ttotal: 42ms\tremaining: 294ms\n",
      "50:\tlearn: 0.5079813\ttotal: 42.8ms\tremaining: 293ms\n",
      "51:\tlearn: 0.5060674\ttotal: 43.5ms\tremaining: 291ms\n",
      "52:\tlearn: 0.5025666\ttotal: 44.3ms\tremaining: 290ms\n",
      "53:\tlearn: 0.4989226\ttotal: 45ms\tremaining: 288ms\n",
      "54:\tlearn: 0.4965405\ttotal: 45.8ms\tremaining: 287ms\n",
      "55:\tlearn: 0.4926638\ttotal: 46.6ms\tremaining: 286ms\n",
      "56:\tlearn: 0.4897417\ttotal: 47.4ms\tremaining: 285ms\n",
      "57:\tlearn: 0.4857852\ttotal: 48.2ms\tremaining: 284ms\n",
      "58:\tlearn: 0.4842511\ttotal: 48.9ms\tremaining: 283ms\n",
      "59:\tlearn: 0.4818963\ttotal: 49.7ms\tremaining: 282ms\n",
      "60:\tlearn: 0.4810622\ttotal: 50.6ms\tremaining: 281ms\n",
      "61:\tlearn: 0.4786254\ttotal: 51.4ms\tremaining: 280ms\n",
      "62:\tlearn: 0.4746745\ttotal: 52.2ms\tremaining: 279ms\n",
      "63:\tlearn: 0.4729508\ttotal: 52.9ms\tremaining: 278ms\n",
      "64:\tlearn: 0.4718283\ttotal: 53.6ms\tremaining: 276ms\n",
      "65:\tlearn: 0.4698816\ttotal: 54.4ms\tremaining: 275ms\n",
      "66:\tlearn: 0.4681580\ttotal: 55.2ms\tremaining: 275ms\n",
      "67:\tlearn: 0.4661109\ttotal: 56.1ms\tremaining: 274ms\n",
      "68:\tlearn: 0.4637451\ttotal: 56.9ms\tremaining: 273ms\n",
      "69:\tlearn: 0.4620133\ttotal: 57.7ms\tremaining: 272ms\n",
      "70:\tlearn: 0.4587182\ttotal: 58.4ms\tremaining: 271ms\n",
      "71:\tlearn: 0.4572030\ttotal: 59.3ms\tremaining: 270ms\n",
      "72:\tlearn: 0.4554017\ttotal: 60ms\tremaining: 269ms\n",
      "73:\tlearn: 0.4533053\ttotal: 60.6ms\tremaining: 267ms\n",
      "74:\tlearn: 0.4516098\ttotal: 61.3ms\tremaining: 266ms\n",
      "75:\tlearn: 0.4496811\ttotal: 61.9ms\tremaining: 264ms\n",
      "76:\tlearn: 0.4481958\ttotal: 62.6ms\tremaining: 263ms\n",
      "77:\tlearn: 0.4476605\ttotal: 63.2ms\tremaining: 261ms\n",
      "78:\tlearn: 0.4463944\ttotal: 63.9ms\tremaining: 260ms\n",
      "79:\tlearn: 0.4444523\ttotal: 64.6ms\tremaining: 258ms\n",
      "80:\tlearn: 0.4404405\ttotal: 65.2ms\tremaining: 257ms\n",
      "81:\tlearn: 0.4379962\ttotal: 65.9ms\tremaining: 256ms\n",
      "82:\tlearn: 0.4352757\ttotal: 66.5ms\tremaining: 254ms\n",
      "83:\tlearn: 0.4332465\ttotal: 67.2ms\tremaining: 253ms\n",
      "84:\tlearn: 0.4316222\ttotal: 67.8ms\tremaining: 251ms\n",
      "85:\tlearn: 0.4302035\ttotal: 68.5ms\tremaining: 250ms\n",
      "86:\tlearn: 0.4287707\ttotal: 69.1ms\tremaining: 249ms\n",
      "87:\tlearn: 0.4267712\ttotal: 69.7ms\tremaining: 247ms\n",
      "88:\tlearn: 0.4252639\ttotal: 70.3ms\tremaining: 246ms\n",
      "89:\tlearn: 0.4233190\ttotal: 70.8ms\tremaining: 244ms\n",
      "90:\tlearn: 0.4213213\ttotal: 71.4ms\tremaining: 243ms\n",
      "91:\tlearn: 0.4185590\ttotal: 72ms\tremaining: 241ms\n",
      "92:\tlearn: 0.4172704\ttotal: 72.5ms\tremaining: 239ms\n",
      "93:\tlearn: 0.4162417\ttotal: 73ms\tremaining: 238ms\n",
      "94:\tlearn: 0.4148877\ttotal: 73.5ms\tremaining: 236ms\n",
      "95:\tlearn: 0.4138516\ttotal: 74.1ms\tremaining: 235ms\n",
      "96:\tlearn: 0.4115680\ttotal: 74.7ms\tremaining: 233ms\n",
      "97:\tlearn: 0.4098158\ttotal: 75.2ms\tremaining: 232ms\n",
      "98:\tlearn: 0.4081267\ttotal: 75.9ms\tremaining: 231ms\n",
      "99:\tlearn: 0.4061111\ttotal: 76.5ms\tremaining: 230ms\n",
      "100:\tlearn: 0.4050867\ttotal: 77.3ms\tremaining: 229ms\n",
      "101:\tlearn: 0.4035727\ttotal: 77.9ms\tremaining: 228ms\n",
      "102:\tlearn: 0.4028497\ttotal: 78.5ms\tremaining: 226ms\n",
      "103:\tlearn: 0.4013810\ttotal: 79.2ms\tremaining: 225ms\n",
      "104:\tlearn: 0.4000531\ttotal: 79.8ms\tremaining: 224ms\n",
      "105:\tlearn: 0.3985298\ttotal: 80.7ms\tremaining: 224ms\n",
      "106:\tlearn: 0.3969288\ttotal: 81.4ms\tremaining: 223ms\n",
      "107:\tlearn: 0.3961616\ttotal: 82ms\tremaining: 222ms\n",
      "108:\tlearn: 0.3938311\ttotal: 82.7ms\tremaining: 221ms\n",
      "109:\tlearn: 0.3922842\ttotal: 83.2ms\tremaining: 219ms\n",
      "110:\tlearn: 0.3914527\ttotal: 83.9ms\tremaining: 218ms\n",
      "111:\tlearn: 0.3900964\ttotal: 84.5ms\tremaining: 217ms\n",
      "112:\tlearn: 0.3876832\ttotal: 85.2ms\tremaining: 216ms\n",
      "113:\tlearn: 0.3866042\ttotal: 85.7ms\tremaining: 215ms\n",
      "114:\tlearn: 0.3853232\ttotal: 86.3ms\tremaining: 214ms\n",
      "115:\tlearn: 0.3841282\ttotal: 86.8ms\tremaining: 213ms\n",
      "116:\tlearn: 0.3830909\ttotal: 87.4ms\tremaining: 211ms\n",
      "117:\tlearn: 0.3814756\ttotal: 88ms\tremaining: 210ms\n",
      "118:\tlearn: 0.3800890\ttotal: 88.6ms\tremaining: 209ms\n",
      "119:\tlearn: 0.3792692\ttotal: 89.2ms\tremaining: 208ms\n",
      "120:\tlearn: 0.3782804\ttotal: 89.7ms\tremaining: 207ms\n",
      "121:\tlearn: 0.3750229\ttotal: 90.2ms\tremaining: 206ms\n",
      "122:\tlearn: 0.3738053\ttotal: 90.9ms\tremaining: 205ms\n",
      "123:\tlearn: 0.3721845\ttotal: 91.5ms\tremaining: 204ms\n",
      "124:\tlearn: 0.3712115\ttotal: 92.1ms\tremaining: 203ms\n",
      "125:\tlearn: 0.3701945\ttotal: 92.6ms\tremaining: 201ms\n",
      "126:\tlearn: 0.3688940\ttotal: 93.2ms\tremaining: 200ms\n",
      "127:\tlearn: 0.3671059\ttotal: 93.6ms\tremaining: 199ms\n",
      "128:\tlearn: 0.3661325\ttotal: 94.2ms\tremaining: 198ms\n",
      "129:\tlearn: 0.3644074\ttotal: 94.8ms\tremaining: 197ms\n",
      "130:\tlearn: 0.3637834\ttotal: 95.4ms\tremaining: 196ms\n",
      "131:\tlearn: 0.3627291\ttotal: 96ms\tremaining: 195ms\n",
      "132:\tlearn: 0.3618722\ttotal: 96.5ms\tremaining: 194ms\n",
      "133:\tlearn: 0.3601859\ttotal: 97.1ms\tremaining: 193ms\n",
      "134:\tlearn: 0.3589794\ttotal: 97.7ms\tremaining: 192ms\n",
      "135:\tlearn: 0.3573896\ttotal: 98.3ms\tremaining: 191ms\n",
      "136:\tlearn: 0.3562933\ttotal: 98.9ms\tremaining: 190ms\n",
      "137:\tlearn: 0.3546790\ttotal: 99.6ms\tremaining: 189ms\n",
      "138:\tlearn: 0.3540111\ttotal: 100ms\tremaining: 188ms\n",
      "139:\tlearn: 0.3526656\ttotal: 101ms\tremaining: 187ms\n",
      "140:\tlearn: 0.3515232\ttotal: 101ms\tremaining: 186ms\n",
      "141:\tlearn: 0.3507021\ttotal: 102ms\tremaining: 185ms\n",
      "142:\tlearn: 0.3497806\ttotal: 103ms\tremaining: 184ms\n",
      "143:\tlearn: 0.3491252\ttotal: 103ms\tremaining: 183ms\n",
      "144:\tlearn: 0.3487144\ttotal: 104ms\tremaining: 182ms\n",
      "145:\tlearn: 0.3484439\ttotal: 104ms\tremaining: 181ms\n",
      "146:\tlearn: 0.3473234\ttotal: 105ms\tremaining: 180ms\n",
      "147:\tlearn: 0.3463223\ttotal: 105ms\tremaining: 180ms\n",
      "148:\tlearn: 0.3452486\ttotal: 106ms\tremaining: 179ms\n",
      "149:\tlearn: 0.3437202\ttotal: 107ms\tremaining: 178ms\n",
      "150:\tlearn: 0.3428532\ttotal: 107ms\tremaining: 177ms\n",
      "151:\tlearn: 0.3416928\ttotal: 108ms\tremaining: 176ms\n",
      "152:\tlearn: 0.3404941\ttotal: 109ms\tremaining: 175ms\n",
      "153:\tlearn: 0.3391535\ttotal: 109ms\tremaining: 174ms\n",
      "154:\tlearn: 0.3382510\ttotal: 110ms\tremaining: 173ms\n",
      "155:\tlearn: 0.3374330\ttotal: 110ms\tremaining: 172ms\n",
      "156:\tlearn: 0.3366506\ttotal: 111ms\tremaining: 171ms\n",
      "157:\tlearn: 0.3352706\ttotal: 111ms\tremaining: 170ms\n",
      "158:\tlearn: 0.3342981\ttotal: 112ms\tremaining: 170ms\n",
      "159:\tlearn: 0.3337265\ttotal: 112ms\tremaining: 169ms\n",
      "160:\tlearn: 0.3333943\ttotal: 113ms\tremaining: 168ms\n",
      "161:\tlearn: 0.3324766\ttotal: 114ms\tremaining: 167ms\n",
      "162:\tlearn: 0.3319384\ttotal: 114ms\tremaining: 166ms\n",
      "163:\tlearn: 0.3292403\ttotal: 115ms\tremaining: 165ms\n",
      "164:\tlearn: 0.3277457\ttotal: 115ms\tremaining: 164ms\n",
      "165:\tlearn: 0.3274238\ttotal: 116ms\tremaining: 164ms\n",
      "166:\tlearn: 0.3266425\ttotal: 117ms\tremaining: 163ms\n",
      "167:\tlearn: 0.3262932\ttotal: 117ms\tremaining: 162ms\n",
      "168:\tlearn: 0.3256185\ttotal: 118ms\tremaining: 161ms\n",
      "169:\tlearn: 0.3250998\ttotal: 118ms\tremaining: 160ms\n",
      "170:\tlearn: 0.3245556\ttotal: 119ms\tremaining: 159ms\n",
      "171:\tlearn: 0.3234037\ttotal: 120ms\tremaining: 159ms\n",
      "172:\tlearn: 0.3222738\ttotal: 120ms\tremaining: 158ms\n",
      "173:\tlearn: 0.3217571\ttotal: 121ms\tremaining: 157ms\n",
      "174:\tlearn: 0.3204771\ttotal: 122ms\tremaining: 157ms\n",
      "175:\tlearn: 0.3198851\ttotal: 122ms\tremaining: 156ms\n",
      "176:\tlearn: 0.3193856\ttotal: 123ms\tremaining: 155ms\n",
      "177:\tlearn: 0.3187322\ttotal: 124ms\tremaining: 154ms\n",
      "178:\tlearn: 0.3178767\ttotal: 124ms\tremaining: 153ms\n",
      "179:\tlearn: 0.3172127\ttotal: 125ms\tremaining: 153ms\n",
      "180:\tlearn: 0.3165892\ttotal: 125ms\tremaining: 152ms\n",
      "181:\tlearn: 0.3156332\ttotal: 126ms\tremaining: 151ms\n",
      "182:\tlearn: 0.3150495\ttotal: 127ms\tremaining: 150ms\n",
      "183:\tlearn: 0.3142844\ttotal: 128ms\tremaining: 150ms\n",
      "184:\tlearn: 0.3129668\ttotal: 128ms\tremaining: 149ms\n",
      "185:\tlearn: 0.3125307\ttotal: 129ms\tremaining: 148ms\n",
      "186:\tlearn: 0.3116573\ttotal: 129ms\tremaining: 147ms\n",
      "187:\tlearn: 0.3109934\ttotal: 130ms\tremaining: 147ms\n",
      "188:\tlearn: 0.3105023\ttotal: 130ms\tremaining: 146ms\n",
      "189:\tlearn: 0.3094743\ttotal: 131ms\tremaining: 145ms\n",
      "190:\tlearn: 0.3091586\ttotal: 132ms\tremaining: 144ms\n",
      "191:\tlearn: 0.3086548\ttotal: 132ms\tremaining: 143ms\n",
      "192:\tlearn: 0.3076471\ttotal: 133ms\tremaining: 143ms\n",
      "193:\tlearn: 0.3070169\ttotal: 134ms\tremaining: 142ms\n",
      "194:\tlearn: 0.3060250\ttotal: 135ms\tremaining: 141ms\n",
      "195:\tlearn: 0.3056615\ttotal: 135ms\tremaining: 141ms\n",
      "196:\tlearn: 0.3049411\ttotal: 136ms\tremaining: 140ms\n",
      "197:\tlearn: 0.3043787\ttotal: 136ms\tremaining: 139ms\n",
      "198:\tlearn: 0.3032277\ttotal: 137ms\tremaining: 138ms\n",
      "199:\tlearn: 0.3019694\ttotal: 138ms\tremaining: 138ms\n",
      "200:\tlearn: 0.3013144\ttotal: 138ms\tremaining: 137ms\n",
      "201:\tlearn: 0.3008154\ttotal: 139ms\tremaining: 136ms\n",
      "202:\tlearn: 0.3001547\ttotal: 139ms\tremaining: 135ms\n",
      "203:\tlearn: 0.2995166\ttotal: 140ms\tremaining: 134ms\n"
     ]
    },
    {
     "name": "stdout",
     "output_type": "stream",
     "text": [
      "204:\tlearn: 0.2986843\ttotal: 141ms\tremaining: 134ms\n",
      "205:\tlearn: 0.2979065\ttotal: 141ms\tremaining: 133ms\n",
      "206:\tlearn: 0.2972355\ttotal: 142ms\tremaining: 133ms\n",
      "207:\tlearn: 0.2966615\ttotal: 143ms\tremaining: 132ms\n",
      "208:\tlearn: 0.2961900\ttotal: 144ms\tremaining: 131ms\n",
      "209:\tlearn: 0.2956833\ttotal: 144ms\tremaining: 131ms\n",
      "210:\tlearn: 0.2952780\ttotal: 145ms\tremaining: 130ms\n",
      "211:\tlearn: 0.2948145\ttotal: 146ms\tremaining: 129ms\n",
      "212:\tlearn: 0.2933907\ttotal: 146ms\tremaining: 128ms\n",
      "213:\tlearn: 0.2929146\ttotal: 147ms\tremaining: 128ms\n",
      "214:\tlearn: 0.2923733\ttotal: 147ms\tremaining: 127ms\n",
      "215:\tlearn: 0.2921470\ttotal: 148ms\tremaining: 126ms\n",
      "216:\tlearn: 0.2919242\ttotal: 148ms\tremaining: 125ms\n",
      "217:\tlearn: 0.2913677\ttotal: 149ms\tremaining: 124ms\n",
      "218:\tlearn: 0.2905483\ttotal: 150ms\tremaining: 124ms\n",
      "219:\tlearn: 0.2900831\ttotal: 150ms\tremaining: 123ms\n",
      "220:\tlearn: 0.2894838\ttotal: 151ms\tremaining: 122ms\n",
      "221:\tlearn: 0.2889013\ttotal: 152ms\tremaining: 122ms\n",
      "222:\tlearn: 0.2883168\ttotal: 152ms\tremaining: 121ms\n",
      "223:\tlearn: 0.2874920\ttotal: 153ms\tremaining: 120ms\n",
      "224:\tlearn: 0.2870000\ttotal: 154ms\tremaining: 120ms\n",
      "225:\tlearn: 0.2859943\ttotal: 155ms\tremaining: 119ms\n",
      "226:\tlearn: 0.2843336\ttotal: 155ms\tremaining: 118ms\n",
      "227:\tlearn: 0.2836130\ttotal: 156ms\tremaining: 118ms\n",
      "228:\tlearn: 0.2825777\ttotal: 157ms\tremaining: 117ms\n",
      "229:\tlearn: 0.2821828\ttotal: 158ms\tremaining: 117ms\n",
      "230:\tlearn: 0.2816306\ttotal: 159ms\tremaining: 116ms\n",
      "231:\tlearn: 0.2798371\ttotal: 159ms\tremaining: 115ms\n",
      "232:\tlearn: 0.2784782\ttotal: 167ms\tremaining: 119ms\n",
      "233:\tlearn: 0.2775767\ttotal: 168ms\tremaining: 119ms\n",
      "234:\tlearn: 0.2769564\ttotal: 169ms\tremaining: 119ms\n",
      "235:\tlearn: 0.2762365\ttotal: 170ms\tremaining: 118ms\n",
      "236:\tlearn: 0.2758262\ttotal: 171ms\tremaining: 118ms\n",
      "237:\tlearn: 0.2752794\ttotal: 172ms\tremaining: 117ms\n",
      "238:\tlearn: 0.2747724\ttotal: 173ms\tremaining: 117ms\n",
      "239:\tlearn: 0.2739763\ttotal: 174ms\tremaining: 116ms\n",
      "240:\tlearn: 0.2732582\ttotal: 174ms\tremaining: 115ms\n",
      "241:\tlearn: 0.2724223\ttotal: 175ms\tremaining: 114ms\n",
      "242:\tlearn: 0.2721016\ttotal: 176ms\tremaining: 114ms\n",
      "243:\tlearn: 0.2716305\ttotal: 176ms\tremaining: 113ms\n",
      "244:\tlearn: 0.2707005\ttotal: 177ms\tremaining: 112ms\n",
      "245:\tlearn: 0.2699019\ttotal: 177ms\tremaining: 111ms\n",
      "246:\tlearn: 0.2694396\ttotal: 178ms\tremaining: 110ms\n",
      "247:\tlearn: 0.2689405\ttotal: 179ms\tremaining: 110ms\n",
      "248:\tlearn: 0.2679960\ttotal: 179ms\tremaining: 109ms\n",
      "249:\tlearn: 0.2671723\ttotal: 180ms\tremaining: 108ms\n",
      "250:\tlearn: 0.2664947\ttotal: 181ms\tremaining: 107ms\n",
      "251:\tlearn: 0.2658501\ttotal: 181ms\tremaining: 106ms\n",
      "252:\tlearn: 0.2645649\ttotal: 182ms\tremaining: 106ms\n",
      "253:\tlearn: 0.2639813\ttotal: 183ms\tremaining: 105ms\n",
      "254:\tlearn: 0.2631675\ttotal: 183ms\tremaining: 104ms\n",
      "255:\tlearn: 0.2628437\ttotal: 184ms\tremaining: 103ms\n",
      "256:\tlearn: 0.2624105\ttotal: 185ms\tremaining: 103ms\n",
      "257:\tlearn: 0.2621287\ttotal: 185ms\tremaining: 102ms\n",
      "258:\tlearn: 0.2615588\ttotal: 186ms\tremaining: 101ms\n",
      "259:\tlearn: 0.2606342\ttotal: 187ms\tremaining: 100ms\n",
      "260:\tlearn: 0.2603708\ttotal: 187ms\tremaining: 99.7ms\n",
      "261:\tlearn: 0.2599105\ttotal: 188ms\tremaining: 99ms\n",
      "262:\tlearn: 0.2592189\ttotal: 189ms\tremaining: 98.2ms\n",
      "263:\tlearn: 0.2585303\ttotal: 189ms\tremaining: 97.4ms\n",
      "264:\tlearn: 0.2580069\ttotal: 190ms\tremaining: 96.6ms\n",
      "265:\tlearn: 0.2568846\ttotal: 190ms\tremaining: 95.8ms\n",
      "266:\tlearn: 0.2563505\ttotal: 191ms\tremaining: 95ms\n",
      "267:\tlearn: 0.2559011\ttotal: 191ms\tremaining: 94.2ms\n",
      "268:\tlearn: 0.2553388\ttotal: 192ms\tremaining: 93.4ms\n",
      "269:\tlearn: 0.2546154\ttotal: 192ms\tremaining: 92.6ms\n",
      "270:\tlearn: 0.2536184\ttotal: 193ms\tremaining: 91.7ms\n",
      "271:\tlearn: 0.2530186\ttotal: 193ms\tremaining: 91ms\n",
      "272:\tlearn: 0.2525829\ttotal: 194ms\tremaining: 90.2ms\n",
      "273:\tlearn: 0.2513918\ttotal: 194ms\tremaining: 89.4ms\n",
      "274:\tlearn: 0.2508465\ttotal: 195ms\tremaining: 88.6ms\n",
      "275:\tlearn: 0.2504011\ttotal: 195ms\tremaining: 87.8ms\n",
      "276:\tlearn: 0.2500442\ttotal: 196ms\tremaining: 87ms\n",
      "277:\tlearn: 0.2491838\ttotal: 196ms\tremaining: 86.2ms\n",
      "278:\tlearn: 0.2488937\ttotal: 197ms\tremaining: 85.4ms\n",
      "279:\tlearn: 0.2484883\ttotal: 197ms\tremaining: 84.6ms\n",
      "280:\tlearn: 0.2480842\ttotal: 198ms\tremaining: 83.8ms\n",
      "281:\tlearn: 0.2477717\ttotal: 198ms\tremaining: 83ms\n",
      "282:\tlearn: 0.2471222\ttotal: 199ms\tremaining: 82.2ms\n",
      "283:\tlearn: 0.2467704\ttotal: 199ms\tremaining: 81.4ms\n",
      "284:\tlearn: 0.2461287\ttotal: 200ms\tremaining: 80.6ms\n",
      "285:\tlearn: 0.2452255\ttotal: 200ms\tremaining: 79.8ms\n",
      "286:\tlearn: 0.2449870\ttotal: 201ms\tremaining: 79ms\n",
      "287:\tlearn: 0.2442371\ttotal: 201ms\tremaining: 78.3ms\n",
      "288:\tlearn: 0.2438299\ttotal: 202ms\tremaining: 77.5ms\n",
      "289:\tlearn: 0.2435373\ttotal: 202ms\tremaining: 76.7ms\n",
      "290:\tlearn: 0.2432424\ttotal: 203ms\tremaining: 76ms\n",
      "291:\tlearn: 0.2427712\ttotal: 203ms\tremaining: 75.2ms\n",
      "292:\tlearn: 0.2422026\ttotal: 204ms\tremaining: 74.4ms\n",
      "293:\tlearn: 0.2416523\ttotal: 204ms\tremaining: 73.6ms\n",
      "294:\tlearn: 0.2413267\ttotal: 205ms\tremaining: 72.9ms\n",
      "295:\tlearn: 0.2411079\ttotal: 205ms\tremaining: 72.1ms\n",
      "296:\tlearn: 0.2404640\ttotal: 206ms\tremaining: 71.3ms\n",
      "297:\tlearn: 0.2402302\ttotal: 206ms\tremaining: 70.6ms\n",
      "298:\tlearn: 0.2398881\ttotal: 207ms\tremaining: 69.8ms\n",
      "299:\tlearn: 0.2395168\ttotal: 207ms\tremaining: 69ms\n",
      "300:\tlearn: 0.2390946\ttotal: 208ms\tremaining: 68.3ms\n",
      "301:\tlearn: 0.2384583\ttotal: 208ms\tremaining: 67.5ms\n",
      "302:\tlearn: 0.2378455\ttotal: 208ms\tremaining: 66.7ms\n",
      "303:\tlearn: 0.2376349\ttotal: 209ms\tremaining: 66ms\n",
      "304:\tlearn: 0.2374072\ttotal: 209ms\tremaining: 65.2ms\n",
      "305:\tlearn: 0.2368925\ttotal: 210ms\tremaining: 64.4ms\n",
      "306:\tlearn: 0.2361971\ttotal: 210ms\tremaining: 63.7ms\n",
      "307:\tlearn: 0.2353721\ttotal: 211ms\tremaining: 62.9ms\n",
      "308:\tlearn: 0.2350317\ttotal: 211ms\tremaining: 62.2ms\n",
      "309:\tlearn: 0.2345270\ttotal: 212ms\tremaining: 61.5ms\n",
      "310:\tlearn: 0.2341543\ttotal: 212ms\tremaining: 60.7ms\n",
      "311:\tlearn: 0.2336909\ttotal: 213ms\tremaining: 60ms\n",
      "312:\tlearn: 0.2332920\ttotal: 213ms\tremaining: 59.2ms\n",
      "313:\tlearn: 0.2324205\ttotal: 214ms\tremaining: 58.5ms\n",
      "314:\tlearn: 0.2320612\ttotal: 214ms\tremaining: 57.8ms\n",
      "315:\tlearn: 0.2313887\ttotal: 215ms\tremaining: 57.1ms\n",
      "316:\tlearn: 0.2310592\ttotal: 215ms\tremaining: 56.4ms\n",
      "317:\tlearn: 0.2307545\ttotal: 216ms\tremaining: 55.6ms\n",
      "318:\tlearn: 0.2303900\ttotal: 216ms\tremaining: 54.9ms\n",
      "319:\tlearn: 0.2294697\ttotal: 217ms\tremaining: 54.2ms\n",
      "320:\tlearn: 0.2288123\ttotal: 217ms\tremaining: 53.5ms\n",
      "321:\tlearn: 0.2284112\ttotal: 218ms\tremaining: 52.8ms\n",
      "322:\tlearn: 0.2280757\ttotal: 218ms\tremaining: 52ms\n",
      "323:\tlearn: 0.2273441\ttotal: 219ms\tremaining: 51.3ms\n",
      "324:\tlearn: 0.2270780\ttotal: 219ms\tremaining: 50.6ms\n",
      "325:\tlearn: 0.2264436\ttotal: 220ms\tremaining: 49.9ms\n",
      "326:\tlearn: 0.2260045\ttotal: 220ms\tremaining: 49.2ms\n",
      "327:\tlearn: 0.2256199\ttotal: 221ms\tremaining: 48.5ms\n",
      "328:\tlearn: 0.2251864\ttotal: 221ms\tremaining: 47.8ms\n",
      "329:\tlearn: 0.2249163\ttotal: 222ms\tremaining: 47.1ms\n",
      "330:\tlearn: 0.2242491\ttotal: 222ms\tremaining: 46.4ms\n",
      "331:\tlearn: 0.2239608\ttotal: 223ms\tremaining: 45.6ms\n",
      "332:\tlearn: 0.2230140\ttotal: 223ms\tremaining: 44.9ms\n",
      "333:\tlearn: 0.2224779\ttotal: 224ms\tremaining: 44.2ms\n",
      "334:\tlearn: 0.2220473\ttotal: 224ms\tremaining: 43.5ms\n",
      "335:\tlearn: 0.2218240\ttotal: 225ms\tremaining: 42.8ms\n",
      "336:\tlearn: 0.2215417\ttotal: 225ms\tremaining: 42.1ms\n",
      "337:\tlearn: 0.2212809\ttotal: 226ms\tremaining: 41.4ms\n",
      "338:\tlearn: 0.2206496\ttotal: 226ms\tremaining: 40.7ms\n",
      "339:\tlearn: 0.2203529\ttotal: 226ms\tremaining: 40ms\n",
      "340:\tlearn: 0.2200494\ttotal: 227ms\tremaining: 39.3ms\n",
      "341:\tlearn: 0.2193642\ttotal: 227ms\tremaining: 38.6ms\n",
      "342:\tlearn: 0.2191576\ttotal: 228ms\tremaining: 37.9ms\n",
      "343:\tlearn: 0.2189305\ttotal: 228ms\tremaining: 37.2ms\n",
      "344:\tlearn: 0.2187733\ttotal: 229ms\tremaining: 36.5ms\n",
      "345:\tlearn: 0.2186054\ttotal: 229ms\tremaining: 35.8ms\n",
      "346:\tlearn: 0.2179946\ttotal: 230ms\tremaining: 35.1ms\n",
      "347:\tlearn: 0.2175080\ttotal: 230ms\tremaining: 34.4ms\n",
      "348:\tlearn: 0.2171565\ttotal: 231ms\tremaining: 33.8ms\n",
      "349:\tlearn: 0.2168112\ttotal: 231ms\tremaining: 33.1ms\n",
      "350:\tlearn: 0.2164597\ttotal: 232ms\tremaining: 32.4ms\n",
      "351:\tlearn: 0.2161185\ttotal: 233ms\tremaining: 31.7ms\n",
      "352:\tlearn: 0.2156290\ttotal: 233ms\tremaining: 31ms\n",
      "353:\tlearn: 0.2154646\ttotal: 233ms\tremaining: 30.3ms\n",
      "354:\tlearn: 0.2151985\ttotal: 234ms\tremaining: 29.7ms\n",
      "355:\tlearn: 0.2147721\ttotal: 234ms\tremaining: 29ms\n",
      "356:\tlearn: 0.2143055\ttotal: 235ms\tremaining: 28.3ms\n",
      "357:\tlearn: 0.2141029\ttotal: 235ms\tremaining: 27.6ms\n",
      "358:\tlearn: 0.2138893\ttotal: 236ms\tremaining: 27ms\n",
      "359:\tlearn: 0.2134746\ttotal: 236ms\tremaining: 26.3ms\n",
      "360:\tlearn: 0.2129069\ttotal: 237ms\tremaining: 25.6ms\n",
      "361:\tlearn: 0.2127655\ttotal: 237ms\tremaining: 24.9ms\n",
      "362:\tlearn: 0.2119444\ttotal: 238ms\tremaining: 24.3ms\n",
      "363:\tlearn: 0.2114433\ttotal: 238ms\tremaining: 23.6ms\n",
      "364:\tlearn: 0.2111366\ttotal: 239ms\tremaining: 22.9ms\n",
      "365:\tlearn: 0.2109569\ttotal: 239ms\tremaining: 22.2ms\n",
      "366:\tlearn: 0.2104144\ttotal: 240ms\tremaining: 21.6ms\n",
      "367:\tlearn: 0.2102549\ttotal: 241ms\tremaining: 20.9ms\n",
      "368:\tlearn: 0.2099039\ttotal: 241ms\tremaining: 20.3ms\n",
      "369:\tlearn: 0.2096086\ttotal: 242ms\tremaining: 19.6ms\n",
      "370:\tlearn: 0.2092836\ttotal: 242ms\tremaining: 19ms\n",
      "371:\tlearn: 0.2091332\ttotal: 243ms\tremaining: 18.3ms\n",
      "372:\tlearn: 0.2086692\ttotal: 244ms\tremaining: 17.6ms\n",
      "373:\tlearn: 0.2080861\ttotal: 244ms\tremaining: 17ms\n",
      "374:\tlearn: 0.2079389\ttotal: 245ms\tremaining: 16.3ms\n",
      "375:\tlearn: 0.2076268\ttotal: 245ms\tremaining: 15.7ms\n",
      "376:\tlearn: 0.2073626\ttotal: 246ms\tremaining: 15ms\n",
      "377:\tlearn: 0.2071638\ttotal: 246ms\tremaining: 14.3ms\n",
      "378:\tlearn: 0.2067937\ttotal: 247ms\tremaining: 13.7ms\n",
      "379:\tlearn: 0.2062428\ttotal: 247ms\tremaining: 13ms\n",
      "380:\tlearn: 0.2057837\ttotal: 248ms\tremaining: 12.4ms\n",
      "381:\tlearn: 0.2054037\ttotal: 249ms\tremaining: 11.7ms\n",
      "382:\tlearn: 0.2050473\ttotal: 249ms\tremaining: 11.1ms\n",
      "383:\tlearn: 0.2046705\ttotal: 250ms\tremaining: 10.4ms\n",
      "384:\tlearn: 0.2042291\ttotal: 250ms\tremaining: 9.75ms\n",
      "385:\tlearn: 0.2039643\ttotal: 251ms\tremaining: 9.1ms\n",
      "386:\tlearn: 0.2037354\ttotal: 252ms\tremaining: 8.45ms\n",
      "387:\tlearn: 0.2035118\ttotal: 252ms\tremaining: 7.8ms\n",
      "388:\tlearn: 0.2033485\ttotal: 253ms\tremaining: 7.15ms\n",
      "389:\tlearn: 0.2031329\ttotal: 253ms\tremaining: 6.5ms\n",
      "390:\tlearn: 0.2027009\ttotal: 254ms\tremaining: 5.84ms\n",
      "391:\tlearn: 0.2023762\ttotal: 255ms\tremaining: 5.19ms\n",
      "392:\tlearn: 0.2021854\ttotal: 255ms\tremaining: 4.54ms\n",
      "393:\tlearn: 0.2017841\ttotal: 256ms\tremaining: 3.89ms\n",
      "394:\tlearn: 0.2014595\ttotal: 256ms\tremaining: 3.24ms\n",
      "395:\tlearn: 0.2011479\ttotal: 257ms\tremaining: 2.59ms\n",
      "396:\tlearn: 0.2005457\ttotal: 257ms\tremaining: 1.94ms\n",
      "397:\tlearn: 0.1998326\ttotal: 258ms\tremaining: 1.29ms\n",
      "398:\tlearn: 0.1995567\ttotal: 258ms\tremaining: 647us\n",
      "399:\tlearn: 0.1988524\ttotal: 259ms\tremaining: 0us\n",
      "정확도 : 0.6533333333333333\n"
     ]
    }
   ],
   "source": [
    "from catboost import CatBoostClassifier\n",
    "\n",
    "cb_clf = CatBoostClassifier(iterations=400, learning_rate=0.1, max_depth=3)\n",
    "cb_clf.fit(train_pool)\n",
    "pred = cb_clf.predict(test_pool)\n",
    "pred_prob = cb_clf.predict_proba(test_pool)[:,1]\n",
    "cb_accuracy = accuracy_score(y_test, pred)\n",
    "print(\"정확도 :\",cb_accuracy)"
   ]
  },
  {
   "cell_type": "markdown",
   "metadata": {
    "id": "HsvRSI0Z3G06"
   },
   "source": [
    "수고하셨습니다!"
   ]
  }
 ],
 "metadata": {
  "colab": {
   "collapsed_sections": [],
   "provenance": []
  },
  "kernelspec": {
   "display_name": "Python 3",
   "language": "python",
   "name": "python3"
  },
  "language_info": {
   "codemirror_mode": {
    "name": "ipython",
    "version": 3
   },
   "file_extension": ".py",
   "mimetype": "text/x-python",
   "name": "python",
   "nbconvert_exporter": "python",
   "pygments_lexer": "ipython3",
   "version": "3.8.5"
  }
 },
 "nbformat": 4,
 "nbformat_minor": 5
}
