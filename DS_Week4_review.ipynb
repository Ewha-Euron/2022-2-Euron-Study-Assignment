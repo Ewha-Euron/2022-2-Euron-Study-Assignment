{
  "cells": [
    {
      "cell_type": "markdown",
      "id": "6f12edaf",
      "metadata": {
        "id": "6f12edaf"
      },
      "source": [
        "##  Week4 복습과제\n",
        "\n",
        "Week3에 대한 복습과제입니다.  \n",
        "데이터셋(train.csv, mushrooms.csv)을 다운 받아주세요!"
      ]
    },
    {
      "cell_type": "code",
      "execution_count": 22,
      "id": "6719779b",
      "metadata": {
        "id": "6719779b"
      },
      "outputs": [],
      "source": [
        "import pandas as pd\n",
        "import numpy as np\n",
        "import matplotlib.pyplot as plt\n",
        "import seaborn as sns\n",
        "import warnings\n",
        "warnings.filterwarnings('ignore')"
      ]
    },
    {
      "cell_type": "markdown",
      "id": "47bb9a03",
      "metadata": {
        "id": "47bb9a03"
      },
      "source": [
        "#### 'train.csv'으로 train_df를 생성하세요."
      ]
    },
    {
      "cell_type": "code",
      "execution_count": 23,
      "id": "979db9e6",
      "metadata": {
        "id": "979db9e6"
      },
      "outputs": [],
      "source": [
        "train_df = pd.read_csv(\"/content/train.csv\")"
      ]
    },
    {
      "cell_type": "markdown",
      "id": "0874e7b6",
      "metadata": {
        "id": "0874e7b6"
      },
      "source": [
        "#### 데이터 보정을 위해 다음 코드를 실행시켜 주세요."
      ]
    },
    {
      "cell_type": "code",
      "execution_count": 24,
      "id": "d824c2ee",
      "metadata": {
        "id": "d824c2ee"
      },
      "outputs": [],
      "source": [
        "# id 제외\n",
        "\n",
        "train_df = train_df.drop(\"id\", axis = 1)"
      ]
    },
    {
      "cell_type": "markdown",
      "source": [
        "#### LabelEncoder를 사용해 color, type column을 인코딩한 train_df를 만드시오."
      ],
      "metadata": {
        "id": "TkcOzV_k1Fvg"
      },
      "id": "TkcOzV_k1Fvg"
    },
    {
      "cell_type": "code",
      "source": [
        "from sklearn.preprocessing import LabelEncoder\n",
        "encoder= LabelEncoder()\n",
        "train_df['color'] = encoder.fit_transform(train_df['color'])\n",
        "\n",
        "encoder= LabelEncoder()\n",
        "train_df['type'] = encoder.fit_transform(train_df['type'])\n",
        "\n",
        "print(train_df.info())"
      ],
      "metadata": {
        "id": "FrkaPft31OaX",
        "colab": {
          "base_uri": "https://localhost:8080/"
        },
        "outputId": "261f7dfa-ddea-47e8-8f14-aacd01984fbd"
      },
      "id": "FrkaPft31OaX",
      "execution_count": 25,
      "outputs": [
        {
          "output_type": "stream",
          "name": "stdout",
          "text": [
            "<class 'pandas.core.frame.DataFrame'>\n",
            "RangeIndex: 371 entries, 0 to 370\n",
            "Data columns (total 6 columns):\n",
            " #   Column         Non-Null Count  Dtype  \n",
            "---  ------         --------------  -----  \n",
            " 0   bone_length    371 non-null    float64\n",
            " 1   rotting_flesh  371 non-null    float64\n",
            " 2   hair_length    371 non-null    float64\n",
            " 3   has_soul       371 non-null    float64\n",
            " 4   color          371 non-null    int64  \n",
            " 5   type           371 non-null    int64  \n",
            "dtypes: float64(4), int64(2)\n",
            "memory usage: 17.5 KB\n",
            "None\n"
          ]
        }
      ]
    },
    {
      "cell_type": "markdown",
      "source": [
        "#### feature간의 상관관계를 확인하는 heatmap을 출력하시오."
      ],
      "metadata": {
        "id": "i9vP5ij_1s_6"
      },
      "id": "i9vP5ij_1s_6"
    },
    {
      "cell_type": "code",
      "source": [
        "import seaborn as sns\n",
        "\n",
        "plt.figure(figsize=(9,9))\n",
        "data = train_df.corr()\n",
        "sns.heatmap(data)"
      ],
      "metadata": {
        "id": "jlYIKAtf1Yb2",
        "colab": {
          "base_uri": "https://localhost:8080/",
          "height": 559
        },
        "outputId": "d4a3928e-de62-4575-d718-3803c0e1e049"
      },
      "id": "jlYIKAtf1Yb2",
      "execution_count": 26,
      "outputs": [
        {
          "output_type": "execute_result",
          "data": {
            "text/plain": [
              "<matplotlib.axes._subplots.AxesSubplot at 0x7f11b3178e10>"
            ]
          },
          "metadata": {},
          "execution_count": 26
        },
        {
          "output_type": "display_data",
          "data": {
            "text/plain": [
              "<Figure size 648x648 with 2 Axes>"
            ],
            "image/png": "[encoded data removed]"
          },
          "metadata": {
            "needs_background": "light"
          }
        }
      ]
    },
    {
      "cell_type": "markdown",
      "id": "dffe9164",
      "metadata": {
        "id": "dffe9164"
      },
      "source": [
        "#### 독립변수(X)와 종속변수(y-type)로 분리해주세요(iloc 또는 loc 활용) 그리고 확인해주세요.\n",
        "#### X와 y를 X_train, X_test, y_train, y_test으로 나누시오. (test_size=0.2, random_state=12) "
      ]
    },
    {
      "cell_type": "code",
      "execution_count": 27,
      "id": "e1f4fb30",
      "metadata": {
        "id": "e1f4fb30"
      },
      "outputs": [],
      "source": [
        "from sklearn.model_selection import train_test_split"
      ]
    },
    {
      "cell_type": "code",
      "execution_count": 28,
      "id": "94f2a85c",
      "metadata": {
        "id": "94f2a85c"
      },
      "outputs": [],
      "source": [
        "X = train_df.iloc[:,:-1]\n",
        "y = train_df.iloc[:,-1]\n",
        "X_train, X_test, y_train, y_test = train_test_split(X, y, test_size = 0.2, random_state = 12)"
      ]
    },
    {
      "cell_type": "markdown",
      "source": [
        "#### Gradient Boost를 활용하여 train 세트를 fit 한 후 test 세트로 예측의 정확도를 출력하시오. (random_state=0,n_estimators=50,learning_rate=0.5)\n"
      ],
      "metadata": {
        "id": "RRRzgi_KhGDC"
      },
      "id": "RRRzgi_KhGDC"
    },
    {
      "cell_type": "code",
      "source": [
        "from sklearn.ensemble import GradientBoostingClassifier\n",
        "from sklearn.metrics import accuracy_score"
      ],
      "metadata": {
        "id": "0S0xMFdDgcLb"
      },
      "id": "0S0xMFdDgcLb",
      "execution_count": 29,
      "outputs": []
    },
    {
      "cell_type": "code",
      "source": [
        "gb_clf = GradientBoostingClassifier(random_state = 0)\n",
        "gb_clf.fit(X_train, y_train)\n",
        "gb_pred = gb_clf.predict(X_test)\n",
        "gb_accuarcy = accuracy_score(y_test, gb_pred)\n",
        "\n",
        "print(gb_accuarcy)"
      ],
      "metadata": {
        "id": "LZhBzjGYhrc1",
        "colab": {
          "base_uri": "https://localhost:8080/"
        },
        "outputId": "1c6208f1-feaf-44f1-c05d-6363f072b208"
      },
      "id": "LZhBzjGYhrc1",
      "execution_count": 30,
      "outputs": [
        {
          "output_type": "stream",
          "name": "stdout",
          "text": [
            "0.7333333333333333\n"
          ]
        }
      ]
    },
    {
      "cell_type": "markdown",
      "source": [
        "#### GBM 하이퍼 파라미터 튜닝을 한 후, 최적의 하이퍼 파라미터를 구하고 정확도를 출력하시오. 위의 값과 정확도를 비교하시오. 이때 n_estimators는 50,100,500, learning_rate는 0.005, 0.1, 0.5,1,10 을 변수로 넣으시오.(gridsearchCV이용,cv=2,verbose=1)"
      ],
      "metadata": {
        "id": "vd_H18-5hz8o"
      },
      "id": "vd_H18-5hz8o"
    },
    {
      "cell_type": "code",
      "source": [
        "from sklearn.model_selection import GridSearchCV\n",
        "\n",
        "params = {'n_estimators':[50,100,500], 'learning_rate':[0.005,0.1,0.5,1,10]}\n",
        "\n",
        "grid_cv = GridSearchCV(gb_clf, params, cv=2, verbose=1)\n",
        "grid_cv.fit(X_train, y_train)\n",
        "print('최적 파라미터 : ',grid_cv.best_params_)\n",
        "print('최고 예측 정확도 : {0:.4f}'.format(grid_cv.best_score_))"
      ],
      "metadata": {
        "id": "e8l6ivZ7hwQI",
        "colab": {
          "base_uri": "https://localhost:8080/"
        },
        "outputId": "1e4534e7-3289-4f4a-de9f-1a0c52a8f2c7"
      },
      "id": "e8l6ivZ7hwQI",
      "execution_count": 31,
      "outputs": [
        {
          "output_type": "stream",
          "name": "stdout",
          "text": [
            "Fitting 2 folds for each of 15 candidates, totalling 30 fits\n",
            "최적 파라미터 :  {'learning_rate': 0.005, 'n_estimators': 500}\n",
            "최고 예측 정확도 : 0.7095\n"
          ]
        }
      ]
    },
    {
      "cell_type": "markdown",
      "id": "e4f87798",
      "metadata": {
        "id": "e4f87798"
      },
      "source": [
        "#### 사이킷런 래퍼 클래스 XGBoost를 사용해 train 세트를 fit 한 후 test 세트로 예측의 정확도를 출력하시오. (n_estimators=400, learning_rate = 0.1, max_depth = 3)"
      ]
    },
    {
      "cell_type": "code",
      "execution_count": 32,
      "id": "31188f82",
      "metadata": {
        "id": "31188f82"
      },
      "outputs": [],
      "source": [
        "import xgboost as xgb\n",
        "from xgboost import plot_importance\n",
        "from xgboost import XGBClassifier\n",
        "\n",
        "from sklearn.metrics import accuracy_score"
      ]
    },
    {
      "cell_type": "code",
      "execution_count": 33,
      "id": "af980052",
      "metadata": {
        "id": "af980052",
        "colab": {
          "base_uri": "https://localhost:8080/"
        },
        "outputId": "b6537a0f-2354-4b23-f7be-4dea1bb6e5e0"
      },
      "outputs": [
        {
          "output_type": "stream",
          "name": "stdout",
          "text": [
            "0.68\n"
          ]
        }
      ],
      "source": [
        "xgb = XGBClassifier(n_estimators=400, learning_rate=0.1, max_depth=3)\n",
        "xgb.fit(X_train, y_train)\n",
        "pred = xgb.predict(X_test)\n",
        "accuracy = accuracy_score(y_test, pred)\n",
        "print(accuracy)"
      ]
    },
    {
      "cell_type": "markdown",
      "id": "8cbca7f7",
      "metadata": {
        "id": "8cbca7f7"
      },
      "source": [
        "#### 사이킷런 래퍼 클래스 LightGBM를 사용해 train 세트를 fit 한 후 test 세트로 예측의 정확도를 출력하시오. \n",
        "\n",
        "n_estimators=400\n",
        "조기 중단 파라미터: early_stopping_rounds=100, eval_metric=\"logloss\",  eval_set=evals "
      ]
    },
    {
      "cell_type": "code",
      "execution_count": 34,
      "id": "b0debb5b",
      "metadata": {
        "id": "b0debb5b",
        "colab": {
          "base_uri": "https://localhost:8080/"
        },
        "outputId": "2f80ec6e-77c9-48f4-be15-d4022d31fa53"
      },
      "outputs": [
        {
          "output_type": "stream",
          "name": "stdout",
          "text": [
            "[1]\tvalid_0's multi_logloss: 1.06078\tvalid_0's multi_logloss: 1.06078\n",
            "Training until validation scores don't improve for 100 rounds.\n",
            "[2]\tvalid_0's multi_logloss: 1.01605\tvalid_0's multi_logloss: 1.01605\n",
            "[3]\tvalid_0's multi_logloss: 0.98745\tvalid_0's multi_logloss: 0.98745\n",
            "[4]\tvalid_0's multi_logloss: 0.961302\tvalid_0's multi_logloss: 0.961302\n",
            "[5]\tvalid_0's multi_logloss: 0.935948\tvalid_0's multi_logloss: 0.935948\n",
            "[6]\tvalid_0's multi_logloss: 0.905585\tvalid_0's multi_logloss: 0.905585\n",
            "[7]\tvalid_0's multi_logloss: 0.881196\tvalid_0's multi_logloss: 0.881196\n",
            "[8]\tvalid_0's multi_logloss: 0.860414\tvalid_0's multi_logloss: 0.860414\n",
            "[9]\tvalid_0's multi_logloss: 0.839374\tvalid_0's multi_logloss: 0.839374\n",
            "[10]\tvalid_0's multi_logloss: 0.825518\tvalid_0's multi_logloss: 0.825518\n",
            "[11]\tvalid_0's multi_logloss: 0.813205\tvalid_0's multi_logloss: 0.813205\n",
            "[12]\tvalid_0's multi_logloss: 0.807044\tvalid_0's multi_logloss: 0.807044\n",
            "[13]\tvalid_0's multi_logloss: 0.80155\tvalid_0's multi_logloss: 0.80155\n",
            "[14]\tvalid_0's multi_logloss: 0.793626\tvalid_0's multi_logloss: 0.793626\n",
            "[15]\tvalid_0's multi_logloss: 0.790311\tvalid_0's multi_logloss: 0.790311\n",
            "[16]\tvalid_0's multi_logloss: 0.785871\tvalid_0's multi_logloss: 0.785871\n",
            "[17]\tvalid_0's multi_logloss: 0.783676\tvalid_0's multi_logloss: 0.783676\n",
            "[18]\tvalid_0's multi_logloss: 0.778978\tvalid_0's multi_logloss: 0.778978\n",
            "[19]\tvalid_0's multi_logloss: 0.770348\tvalid_0's multi_logloss: 0.770348\n",
            "[20]\tvalid_0's multi_logloss: 0.763131\tvalid_0's multi_logloss: 0.763131\n",
            "[21]\tvalid_0's multi_logloss: 0.758899\tvalid_0's multi_logloss: 0.758899\n",
            "[22]\tvalid_0's multi_logloss: 0.75542\tvalid_0's multi_logloss: 0.75542\n",
            "[23]\tvalid_0's multi_logloss: 0.756646\tvalid_0's multi_logloss: 0.756646\n",
            "[24]\tvalid_0's multi_logloss: 0.751511\tvalid_0's multi_logloss: 0.751511\n",
            "[25]\tvalid_0's multi_logloss: 0.744438\tvalid_0's multi_logloss: 0.744438\n",
            "[26]\tvalid_0's multi_logloss: 0.743741\tvalid_0's multi_logloss: 0.743741\n",
            "[27]\tvalid_0's multi_logloss: 0.738699\tvalid_0's multi_logloss: 0.738699\n",
            "[28]\tvalid_0's multi_logloss: 0.737019\tvalid_0's multi_logloss: 0.737019\n",
            "[29]\tvalid_0's multi_logloss: 0.733066\tvalid_0's multi_logloss: 0.733066\n",
            "[30]\tvalid_0's multi_logloss: 0.730016\tvalid_0's multi_logloss: 0.730016\n",
            "[31]\tvalid_0's multi_logloss: 0.729572\tvalid_0's multi_logloss: 0.729572\n",
            "[32]\tvalid_0's multi_logloss: 0.732082\tvalid_0's multi_logloss: 0.732082\n",
            "[33]\tvalid_0's multi_logloss: 0.732103\tvalid_0's multi_logloss: 0.732103\n",
            "[34]\tvalid_0's multi_logloss: 0.729186\tvalid_0's multi_logloss: 0.729186\n",
            "[35]\tvalid_0's multi_logloss: 0.72861\tvalid_0's multi_logloss: 0.72861\n",
            "[36]\tvalid_0's multi_logloss: 0.727088\tvalid_0's multi_logloss: 0.727088\n",
            "[37]\tvalid_0's multi_logloss: 0.726523\tvalid_0's multi_logloss: 0.726523\n",
            "[38]\tvalid_0's multi_logloss: 0.727979\tvalid_0's multi_logloss: 0.727979\n",
            "[39]\tvalid_0's multi_logloss: 0.725501\tvalid_0's multi_logloss: 0.725501\n",
            "[40]\tvalid_0's multi_logloss: 0.723805\tvalid_0's multi_logloss: 0.723805\n",
            "[41]\tvalid_0's multi_logloss: 0.724944\tvalid_0's multi_logloss: 0.724944\n",
            "[42]\tvalid_0's multi_logloss: 0.725339\tvalid_0's multi_logloss: 0.725339\n",
            "[43]\tvalid_0's multi_logloss: 0.726875\tvalid_0's multi_logloss: 0.726875\n",
            "[44]\tvalid_0's multi_logloss: 0.725966\tvalid_0's multi_logloss: 0.725966\n",
            "[45]\tvalid_0's multi_logloss: 0.729266\tvalid_0's multi_logloss: 0.729266\n",
            "[46]\tvalid_0's multi_logloss: 0.730953\tvalid_0's multi_logloss: 0.730953\n",
            "[47]\tvalid_0's multi_logloss: 0.729759\tvalid_0's multi_logloss: 0.729759\n",
            "[48]\tvalid_0's multi_logloss: 0.733627\tvalid_0's multi_logloss: 0.733627\n",
            "[49]\tvalid_0's multi_logloss: 0.732858\tvalid_0's multi_logloss: 0.732858\n",
            "[50]\tvalid_0's multi_logloss: 0.732211\tvalid_0's multi_logloss: 0.732211\n",
            "[51]\tvalid_0's multi_logloss: 0.733702\tvalid_0's multi_logloss: 0.733702\n",
            "[52]\tvalid_0's multi_logloss: 0.737985\tvalid_0's multi_logloss: 0.737985\n",
            "[53]\tvalid_0's multi_logloss: 0.740623\tvalid_0's multi_logloss: 0.740623\n",
            "[54]\tvalid_0's multi_logloss: 0.740347\tvalid_0's multi_logloss: 0.740347\n",
            "[55]\tvalid_0's multi_logloss: 0.737758\tvalid_0's multi_logloss: 0.737758\n",
            "[56]\tvalid_0's multi_logloss: 0.737535\tvalid_0's multi_logloss: 0.737535\n",
            "[57]\tvalid_0's multi_logloss: 0.737887\tvalid_0's multi_logloss: 0.737887\n",
            "[58]\tvalid_0's multi_logloss: 0.738451\tvalid_0's multi_logloss: 0.738451\n",
            "[59]\tvalid_0's multi_logloss: 0.741767\tvalid_0's multi_logloss: 0.741767\n",
            "[60]\tvalid_0's multi_logloss: 0.741316\tvalid_0's multi_logloss: 0.741316\n",
            "[61]\tvalid_0's multi_logloss: 0.743854\tvalid_0's multi_logloss: 0.743854\n",
            "[62]\tvalid_0's multi_logloss: 0.750144\tvalid_0's multi_logloss: 0.750144\n",
            "[63]\tvalid_0's multi_logloss: 0.750196\tvalid_0's multi_logloss: 0.750196\n",
            "[64]\tvalid_0's multi_logloss: 0.755927\tvalid_0's multi_logloss: 0.755927\n",
            "[65]\tvalid_0's multi_logloss: 0.761729\tvalid_0's multi_logloss: 0.761729\n",
            "[66]\tvalid_0's multi_logloss: 0.765426\tvalid_0's multi_logloss: 0.765426\n",
            "[67]\tvalid_0's multi_logloss: 0.767736\tvalid_0's multi_logloss: 0.767736\n",
            "[68]\tvalid_0's multi_logloss: 0.770285\tvalid_0's multi_logloss: 0.770285\n",
            "[69]\tvalid_0's multi_logloss: 0.774241\tvalid_0's multi_logloss: 0.774241\n",
            "[70]\tvalid_0's multi_logloss: 0.775614\tvalid_0's multi_logloss: 0.775614\n",
            "[71]\tvalid_0's multi_logloss: 0.777817\tvalid_0's multi_logloss: 0.777817\n",
            "[72]\tvalid_0's multi_logloss: 0.781066\tvalid_0's multi_logloss: 0.781066\n",
            "[73]\tvalid_0's multi_logloss: 0.786988\tvalid_0's multi_logloss: 0.786988\n",
            "[74]\tvalid_0's multi_logloss: 0.79245\tvalid_0's multi_logloss: 0.79245\n",
            "[75]\tvalid_0's multi_logloss: 0.793276\tvalid_0's multi_logloss: 0.793276\n",
            "[76]\tvalid_0's multi_logloss: 0.798095\tvalid_0's multi_logloss: 0.798095\n",
            "[77]\tvalid_0's multi_logloss: 0.800383\tvalid_0's multi_logloss: 0.800383\n",
            "[78]\tvalid_0's multi_logloss: 0.803862\tvalid_0's multi_logloss: 0.803862\n",
            "[79]\tvalid_0's multi_logloss: 0.807083\tvalid_0's multi_logloss: 0.807083\n",
            "[80]\tvalid_0's multi_logloss: 0.809271\tvalid_0's multi_logloss: 0.809271\n",
            "[81]\tvalid_0's multi_logloss: 0.809722\tvalid_0's multi_logloss: 0.809722\n",
            "[82]\tvalid_0's multi_logloss: 0.810541\tvalid_0's multi_logloss: 0.810541\n",
            "[83]\tvalid_0's multi_logloss: 0.814426\tvalid_0's multi_logloss: 0.814426\n",
            "[84]\tvalid_0's multi_logloss: 0.815932\tvalid_0's multi_logloss: 0.815932\n",
            "[85]\tvalid_0's multi_logloss: 0.817533\tvalid_0's multi_logloss: 0.817533\n",
            "[86]\tvalid_0's multi_logloss: 0.821568\tvalid_0's multi_logloss: 0.821568\n",
            "[87]\tvalid_0's multi_logloss: 0.827209\tvalid_0's multi_logloss: 0.827209\n",
            "[88]\tvalid_0's multi_logloss: 0.825687\tvalid_0's multi_logloss: 0.825687\n",
            "[89]\tvalid_0's multi_logloss: 0.83286\tvalid_0's multi_logloss: 0.83286\n",
            "[90]\tvalid_0's multi_logloss: 0.835843\tvalid_0's multi_logloss: 0.835843\n",
            "[91]\tvalid_0's multi_logloss: 0.836673\tvalid_0's multi_logloss: 0.836673\n",
            "[92]\tvalid_0's multi_logloss: 0.841\tvalid_0's multi_logloss: 0.841\n",
            "[93]\tvalid_0's multi_logloss: 0.840162\tvalid_0's multi_logloss: 0.840162\n",
            "[94]\tvalid_0's multi_logloss: 0.842743\tvalid_0's multi_logloss: 0.842743\n",
            "[95]\tvalid_0's multi_logloss: 0.84691\tvalid_0's multi_logloss: 0.84691\n",
            "[96]\tvalid_0's multi_logloss: 0.848906\tvalid_0's multi_logloss: 0.848906\n",
            "[97]\tvalid_0's multi_logloss: 0.854393\tvalid_0's multi_logloss: 0.854393\n",
            "[98]\tvalid_0's multi_logloss: 0.855814\tvalid_0's multi_logloss: 0.855814\n",
            "[99]\tvalid_0's multi_logloss: 0.86042\tvalid_0's multi_logloss: 0.86042\n",
            "[100]\tvalid_0's multi_logloss: 0.864679\tvalid_0's multi_logloss: 0.864679\n",
            "[101]\tvalid_0's multi_logloss: 0.86886\tvalid_0's multi_logloss: 0.86886\n",
            "[102]\tvalid_0's multi_logloss: 0.868442\tvalid_0's multi_logloss: 0.868442\n",
            "[103]\tvalid_0's multi_logloss: 0.87527\tvalid_0's multi_logloss: 0.87527\n",
            "[104]\tvalid_0's multi_logloss: 0.875482\tvalid_0's multi_logloss: 0.875482\n",
            "[105]\tvalid_0's multi_logloss: 0.875428\tvalid_0's multi_logloss: 0.875428\n",
            "[106]\tvalid_0's multi_logloss: 0.879411\tvalid_0's multi_logloss: 0.879411\n",
            "[107]\tvalid_0's multi_logloss: 0.881933\tvalid_0's multi_logloss: 0.881933\n",
            "[108]\tvalid_0's multi_logloss: 0.885343\tvalid_0's multi_logloss: 0.885343\n",
            "[109]\tvalid_0's multi_logloss: 0.891041\tvalid_0's multi_logloss: 0.891041\n",
            "[110]\tvalid_0's multi_logloss: 0.897235\tvalid_0's multi_logloss: 0.897235\n",
            "[111]\tvalid_0's multi_logloss: 0.897324\tvalid_0's multi_logloss: 0.897324\n",
            "[112]\tvalid_0's multi_logloss: 0.901693\tvalid_0's multi_logloss: 0.901693\n",
            "[113]\tvalid_0's multi_logloss: 0.902396\tvalid_0's multi_logloss: 0.902396\n",
            "[114]\tvalid_0's multi_logloss: 0.904233\tvalid_0's multi_logloss: 0.904233\n",
            "[115]\tvalid_0's multi_logloss: 0.906713\tvalid_0's multi_logloss: 0.906713\n",
            "[116]\tvalid_0's multi_logloss: 0.910647\tvalid_0's multi_logloss: 0.910647\n",
            "[117]\tvalid_0's multi_logloss: 0.910782\tvalid_0's multi_logloss: 0.910782\n",
            "[118]\tvalid_0's multi_logloss: 0.914385\tvalid_0's multi_logloss: 0.914385\n",
            "[119]\tvalid_0's multi_logloss: 0.917628\tvalid_0's multi_logloss: 0.917628\n",
            "[120]\tvalid_0's multi_logloss: 0.91942\tvalid_0's multi_logloss: 0.91942\n",
            "[121]\tvalid_0's multi_logloss: 0.922707\tvalid_0's multi_logloss: 0.922707\n",
            "[122]\tvalid_0's multi_logloss: 0.925131\tvalid_0's multi_logloss: 0.925131\n",
            "[123]\tvalid_0's multi_logloss: 0.929551\tvalid_0's multi_logloss: 0.929551\n",
            "[124]\tvalid_0's multi_logloss: 0.932859\tvalid_0's multi_logloss: 0.932859\n",
            "[125]\tvalid_0's multi_logloss: 0.93895\tvalid_0's multi_logloss: 0.93895\n",
            "[126]\tvalid_0's multi_logloss: 0.944997\tvalid_0's multi_logloss: 0.944997\n",
            "[127]\tvalid_0's multi_logloss: 0.948466\tvalid_0's multi_logloss: 0.948466\n",
            "[128]\tvalid_0's multi_logloss: 0.949116\tvalid_0's multi_logloss: 0.949116\n",
            "[129]\tvalid_0's multi_logloss: 0.950966\tvalid_0's multi_logloss: 0.950966\n",
            "[130]\tvalid_0's multi_logloss: 0.953248\tvalid_0's multi_logloss: 0.953248\n",
            "[131]\tvalid_0's multi_logloss: 0.957459\tvalid_0's multi_logloss: 0.957459\n",
            "[132]\tvalid_0's multi_logloss: 0.962533\tvalid_0's multi_logloss: 0.962533\n",
            "[133]\tvalid_0's multi_logloss: 0.965088\tvalid_0's multi_logloss: 0.965088\n",
            "[134]\tvalid_0's multi_logloss: 0.966974\tvalid_0's multi_logloss: 0.966974\n",
            "[135]\tvalid_0's multi_logloss: 0.9673\tvalid_0's multi_logloss: 0.9673\n",
            "[136]\tvalid_0's multi_logloss: 0.971027\tvalid_0's multi_logloss: 0.971027\n",
            "[137]\tvalid_0's multi_logloss: 0.975275\tvalid_0's multi_logloss: 0.975275\n",
            "[138]\tvalid_0's multi_logloss: 0.975464\tvalid_0's multi_logloss: 0.975464\n",
            "[139]\tvalid_0's multi_logloss: 0.982643\tvalid_0's multi_logloss: 0.982643\n",
            "[140]\tvalid_0's multi_logloss: 0.98631\tvalid_0's multi_logloss: 0.98631\n",
            "Early stopping, best iteration is:\n",
            "[40]\tvalid_0's multi_logloss: 0.723805\tvalid_0's multi_logloss: 0.723805\n",
            "0.6666666666666666\n"
          ]
        }
      ],
      "source": [
        "import lightgbm\n",
        "from lightgbm import LGBMClassifier\n",
        "\n",
        "evals = [(X_test, y_test)]\n",
        "lgbm = LGBMClassifier(n_estimators=400)\n",
        "lgbm.fit(X_train, y_train, early_stopping_rounds=100, eval_metric='logloss', eval_set=evals)\n",
        "pred = lgbm.predict(X_test)\n",
        "accuracy = accuracy_score(y_test, pred)\n",
        "print(accuracy)"
      ]
    },
    {
      "cell_type": "markdown",
      "source": [
        "## Stacking 실습"
      ],
      "metadata": {
        "id": "DQ3Lnuevoz4w"
      },
      "id": "DQ3Lnuevoz4w"
    },
    {
      "cell_type": "markdown",
      "source": [
        "CV set 기반 stacking을 통해 앙상블 모델을 만드려고 합니다.    \n",
        "개별 모델이 교차검증을 통해 최종 모델이 사용할 학습용, 테스트용 데이터를 만드는 함수를 생성하시오.\n",
        "```\n",
        "def get_stacking_dataset(model, X_train, y_train, X_test, n_folds):\n",
        "    return train_fold_pred , test_pred_mean\n",
        "```"
      ],
      "metadata": {
        "id": "FSqK0PzP-YmZ"
      },
      "id": "FSqK0PzP-YmZ"
    },
    {
      "cell_type": "code",
      "source": [
        "from sklearn.model_selection import KFold\n",
        "import numpy as np\n",
        "def get_stacking_dataset(model, X_train_n, y_train_n, X_test_n, n_folds):\n",
        "  kf = KFold(n_splits = n_folds, shuffle = False)\n",
        "  train_fold_pred = np.zeros((X_test_n.shape[0], n_folds))\n",
        "  test_pred_mean = np.zeros((X_test.shape[0],n_folds))\n",
        "\n",
        "  for fold_cnt, (train_index, valid_index) in enumerate(kf.split(X_train_n)):\n",
        "    X_tr = X_train[train_index]\n",
        "    y_tr = y_train[train_index]\n",
        "    X_val = X_train[valid_index]\n",
        "\n",
        "    model.fit(X_tr, y_tr)\n",
        "    train_fold_pred[valid_index, :] = model.predict(X_val).reshape(-1,1)\n",
        "    test_pred_mean[:,fold_cnt] = model.predict(X_test)\n",
        "\n",
        "  test_pred_mean = np.mean(test_pred_mean, axis=1).reshape(-1,1)\n",
        "\n",
        "  return train_fold_pred, test_pred_mean"
      ],
      "metadata": {
        "id": "wxGOf8YapU_C"
      },
      "id": "wxGOf8YapU_C",
      "execution_count": 60,
      "outputs": []
    },
    {
      "cell_type": "markdown",
      "source": [
        "스태킹에 사용될 개별 모델을 생성하시오.\n",
        "\n",
        "개별 모델:  KNN(n_neighbors=4), 랜덤 포레스트(n_estimators=100, random_state=0), 결정 트리, AdaBoost(n_estimators=100), LightGBM(n_estimators=400)\n",
        "\n",
        "최종 모델: 로지스틱 회귀 (C=10)"
      ],
      "metadata": {
        "id": "KMgeLW3NA8Q5"
      },
      "id": "KMgeLW3NA8Q5"
    },
    {
      "cell_type": "code",
      "source": [
        "from sklearn.neighbors import KNeighborsClassifier\n",
        "from sklearn.ensemble import RandomForestClassifier\n",
        "from sklearn.ensemble import AdaBoostClassifier\n",
        "from sklearn.tree import DecisionTreeClassifier\n",
        "import lightgbm\n",
        "from lightgbm import LGBMClassifier\n",
        "from sklearn.linear_model import LogisticRegression\n",
        "\n",
        "knn_clf = KNeighborsClassifier(n_neighbors=4)\n",
        "rf_clf = RandomForestClassifier(n_estimators=100, random_state=0)\n",
        "dt_clf = DecisionTreeClassifier()\n",
        "ada_clf = AdaBoostClassifier(n_estimators=100)\n",
        "lgbm_clf = LGBMClassifier(n_estimators=400)\n",
        "\n",
        "lr_final = LogisticRegression(C=10)"
      ],
      "metadata": {
        "id": "PvuuPu9Op1eb"
      },
      "id": "PvuuPu9Op1eb",
      "execution_count": 61,
      "outputs": []
    },
    {
      "cell_type": "markdown",
      "source": [
        "위에서 생성한 함수를 사용해 개별 모델을 학습, 예측시켜 메타모델에 사용될 학습용 데이터와 테스트용 데이터를 생성하고, 스태킹하시오.  \n",
        "fold 수 = 6  \n",
        "학습용 데이터 : stacked_X_train  \n",
        "테스트용 데이터 : stacked_X_test"
      ],
      "metadata": {
        "id": "Wew3mwTxBWAZ"
      },
      "id": "Wew3mwTxBWAZ"
    },
    {
      "cell_type": "code",
      "source": [
        "knn_train, knn_test = get_stacking_dataset(knn_clf, X_train, y_train, X_test, 6)\n",
        "rf_train, rf_test = get_stacking_dataset(rf_clf, X_train, y_train, X_test, 6)\n",
        "dt_train, dt_test = get_stacking_dataset(dt_clf, X_train, y_train, X_test, 6)\n",
        "ada_train, ada_test = get_stacking_dataset(ada_clf, X_train, y_train, X_test, 6)\n",
        "lgbm_train,lgbm_test = get_stacking_dataset(lgbm_clf, X_train, y_train, X_test, 6)"
      ],
      "metadata": {
        "id": "lJI0HG3Bp2TC",
        "colab": {
          "base_uri": "https://localhost:8080/",
          "height": 232
        },
        "outputId": "666117c5-e372-4a9b-eeec-e3e75df1974c"
      },
      "id": "lJI0HG3Bp2TC",
      "execution_count": 74,
      "outputs": [
        {
          "output_type": "error",
          "ename": "NameError",
          "evalue": "ignored",
          "traceback": [
            "\u001b[0;31m---------------------------------------------------------------------------\u001b[0m",
            "\u001b[0;31mNameError\u001b[0m                                 Traceback (most recent call last)",
            "\u001b[0;32m<ipython-input-74-dc336fab6e07>\u001b[0m in \u001b[0;36m<module>\u001b[0;34m\u001b[0m\n\u001b[0;32m----> 1\u001b[0;31m \u001b[0mknn_train\u001b[0m\u001b[0;34m,\u001b[0m \u001b[0mknn_test\u001b[0m \u001b[0;34m=\u001b[0m \u001b[0mget_stacking_dataset\u001b[0m\u001b[0;34m(\u001b[0m\u001b[0mknn_clf\u001b[0m\u001b[0;34m,\u001b[0m \u001b[0mX_train_n\u001b[0m\u001b[0;34m,\u001b[0m \u001b[0my_train_n\u001b[0m\u001b[0;34m,\u001b[0m \u001b[0mX_test_n\u001b[0m\u001b[0;34m,\u001b[0m \u001b[0;36m6\u001b[0m\u001b[0;34m)\u001b[0m\u001b[0;34m\u001b[0m\u001b[0;34m\u001b[0m\u001b[0m\n\u001b[0m\u001b[1;32m      2\u001b[0m \u001b[0mrf_train\u001b[0m\u001b[0;34m,\u001b[0m \u001b[0mrf_test\u001b[0m \u001b[0;34m=\u001b[0m \u001b[0mget_stacking_dataset\u001b[0m\u001b[0;34m(\u001b[0m\u001b[0mrf_clf\u001b[0m\u001b[0;34m,\u001b[0m \u001b[0mX_train\u001b[0m\u001b[0;34m,\u001b[0m \u001b[0my_train\u001b[0m\u001b[0;34m,\u001b[0m \u001b[0mX_test\u001b[0m\u001b[0;34m,\u001b[0m \u001b[0;36m6\u001b[0m\u001b[0;34m)\u001b[0m\u001b[0;34m\u001b[0m\u001b[0;34m\u001b[0m\u001b[0m\n\u001b[1;32m      3\u001b[0m \u001b[0mdt_train\u001b[0m\u001b[0;34m,\u001b[0m \u001b[0mdt_test\u001b[0m \u001b[0;34m=\u001b[0m \u001b[0mget_stacking_dataset\u001b[0m\u001b[0;34m(\u001b[0m\u001b[0mdt_clf\u001b[0m\u001b[0;34m,\u001b[0m \u001b[0mX_train\u001b[0m\u001b[0;34m,\u001b[0m \u001b[0my_train\u001b[0m\u001b[0;34m,\u001b[0m \u001b[0mX_test\u001b[0m\u001b[0;34m,\u001b[0m \u001b[0;36m6\u001b[0m\u001b[0;34m)\u001b[0m\u001b[0;34m\u001b[0m\u001b[0;34m\u001b[0m\u001b[0m\n\u001b[1;32m      4\u001b[0m \u001b[0mada_train\u001b[0m\u001b[0;34m,\u001b[0m \u001b[0mada_test\u001b[0m \u001b[0;34m=\u001b[0m \u001b[0mget_stacking_dataset\u001b[0m\u001b[0;34m(\u001b[0m\u001b[0mada_clf\u001b[0m\u001b[0;34m,\u001b[0m \u001b[0mX_train\u001b[0m\u001b[0;34m,\u001b[0m \u001b[0my_train\u001b[0m\u001b[0;34m,\u001b[0m \u001b[0mX_test\u001b[0m\u001b[0;34m,\u001b[0m \u001b[0;36m6\u001b[0m\u001b[0;34m)\u001b[0m\u001b[0;34m\u001b[0m\u001b[0;34m\u001b[0m\u001b[0m\n\u001b[1;32m      5\u001b[0m \u001b[0mlgbm_train\u001b[0m\u001b[0;34m,\u001b[0m\u001b[0mlgbm_test\u001b[0m \u001b[0;34m=\u001b[0m \u001b[0mget_stacking_dataset\u001b[0m\u001b[0;34m(\u001b[0m\u001b[0mlgbm_clf\u001b[0m\u001b[0;34m,\u001b[0m \u001b[0mX_train\u001b[0m\u001b[0;34m,\u001b[0m \u001b[0my_train\u001b[0m\u001b[0;34m,\u001b[0m \u001b[0mX_test\u001b[0m\u001b[0;34m,\u001b[0m \u001b[0;36m6\u001b[0m\u001b[0;34m)\u001b[0m\u001b[0;34m\u001b[0m\u001b[0;34m\u001b[0m\u001b[0m\n",
            "\u001b[0;31mNameError\u001b[0m: name 'X_train_n' is not defined"
          ]
        }
      ]
    },
    {
      "cell_type": "code",
      "source": [
        "stacked_X_train = np.concatenate((knn_train, rf_train, dt_train, ada_train, lgbm_train ), axis=1)\n",
        "stacked_X_test = np.concatenate((knn_test, rf_test, dt_test, ada_test, lgbm_test ), axis=1)\n",
        "\n",
        "print('Original train / test : ', X_train.shape, ' / ', X_test.shape)\n",
        "print('Stacking train / test : ', stacked_X_train.shape, ' / ', stacked_X_test.shape)"
      ],
      "metadata": {
        "id": "NtuEJGkep6EV",
        "colab": {
          "base_uri": "https://localhost:8080/",
          "height": 232
        },
        "outputId": "9139b287-531f-4f44-c7dd-63caee445e9a"
      },
      "id": "NtuEJGkep6EV",
      "execution_count": 63,
      "outputs": [
        {
          "output_type": "error",
          "ename": "NameError",
          "evalue": "ignored",
          "traceback": [
            "\u001b[0;31m---------------------------------------------------------------------------\u001b[0m",
            "\u001b[0;31mNameError\u001b[0m                                 Traceback (most recent call last)",
            "\u001b[0;32m<ipython-input-63-375d21820e45>\u001b[0m in \u001b[0;36m<module>\u001b[0;34m\u001b[0m\n\u001b[0;32m----> 1\u001b[0;31m \u001b[0mstacked_X_train\u001b[0m \u001b[0;34m=\u001b[0m \u001b[0mnp\u001b[0m\u001b[0;34m.\u001b[0m\u001b[0mconcatenate\u001b[0m\u001b[0;34m(\u001b[0m\u001b[0;34m(\u001b[0m\u001b[0mknn_train\u001b[0m\u001b[0;34m,\u001b[0m \u001b[0mrf_train\u001b[0m\u001b[0;34m,\u001b[0m \u001b[0mdt_train\u001b[0m\u001b[0;34m,\u001b[0m \u001b[0mada_train\u001b[0m\u001b[0;34m,\u001b[0m \u001b[0mlgbm_train\u001b[0m \u001b[0;34m)\u001b[0m\u001b[0;34m,\u001b[0m \u001b[0maxis\u001b[0m\u001b[0;34m=\u001b[0m\u001b[0;36m1\u001b[0m\u001b[0;34m)\u001b[0m\u001b[0;34m\u001b[0m\u001b[0;34m\u001b[0m\u001b[0m\n\u001b[0m\u001b[1;32m      2\u001b[0m \u001b[0mstacked_X_test\u001b[0m \u001b[0;34m=\u001b[0m \u001b[0mnp\u001b[0m\u001b[0;34m.\u001b[0m\u001b[0mconcatenate\u001b[0m\u001b[0;34m(\u001b[0m\u001b[0;34m(\u001b[0m\u001b[0mknn_test\u001b[0m\u001b[0;34m,\u001b[0m \u001b[0mrf_test\u001b[0m\u001b[0;34m,\u001b[0m \u001b[0mdt_test\u001b[0m\u001b[0;34m,\u001b[0m \u001b[0mada_test\u001b[0m\u001b[0;34m,\u001b[0m \u001b[0mlgbm_test\u001b[0m \u001b[0;34m)\u001b[0m\u001b[0;34m,\u001b[0m \u001b[0maxis\u001b[0m\u001b[0;34m=\u001b[0m\u001b[0;36m1\u001b[0m\u001b[0;34m)\u001b[0m\u001b[0;34m\u001b[0m\u001b[0;34m\u001b[0m\u001b[0m\n\u001b[1;32m      3\u001b[0m \u001b[0;34m\u001b[0m\u001b[0m\n\u001b[1;32m      4\u001b[0m \u001b[0mprint\u001b[0m\u001b[0;34m(\u001b[0m\u001b[0;34m'Original train / test : '\u001b[0m\u001b[0;34m,\u001b[0m \u001b[0mX_train\u001b[0m\u001b[0;34m.\u001b[0m\u001b[0mshape\u001b[0m\u001b[0;34m,\u001b[0m \u001b[0;34m' / '\u001b[0m\u001b[0;34m,\u001b[0m \u001b[0mX_test\u001b[0m\u001b[0;34m.\u001b[0m\u001b[0mshape\u001b[0m\u001b[0;34m)\u001b[0m\u001b[0;34m\u001b[0m\u001b[0;34m\u001b[0m\u001b[0m\n\u001b[1;32m      5\u001b[0m \u001b[0mprint\u001b[0m\u001b[0;34m(\u001b[0m\u001b[0;34m'Stacking train / test : '\u001b[0m\u001b[0;34m,\u001b[0m \u001b[0mstacked_X_train\u001b[0m\u001b[0;34m.\u001b[0m\u001b[0mshape\u001b[0m\u001b[0;34m,\u001b[0m \u001b[0;34m' / '\u001b[0m\u001b[0;34m,\u001b[0m \u001b[0mstacked_X_test\u001b[0m\u001b[0;34m.\u001b[0m\u001b[0mshape\u001b[0m\u001b[0;34m)\u001b[0m\u001b[0;34m\u001b[0m\u001b[0;34m\u001b[0m\u001b[0m\n",
            "\u001b[0;31mNameError\u001b[0m: name 'knn_train' is not defined"
          ]
        }
      ]
    },
    {
      "cell_type": "markdown",
      "source": [
        "최종 모델 (logistic regression)을 학습시키고, 정확도를 구하시오."
      ],
      "metadata": {
        "id": "z1wPcXvNHH8t"
      },
      "id": "z1wPcXvNHH8t"
    },
    {
      "cell_type": "code",
      "source": [
        "lr_final.fit(stacked_X_train, y_train)\n",
        "pred = lr_final.predict(stacked_X_test)\n",
        "accuracy = accuracy_score(y_test, pred)\n",
        "print('정확도 : {0:.4f}'.format(accuracy))"
      ],
      "metadata": {
        "id": "OFqd1by6p2z1",
        "colab": {
          "base_uri": "https://localhost:8080/",
          "height": 215
        },
        "outputId": "cbb75cc8-5978-4968-e294-cc43ff3075c8"
      },
      "id": "OFqd1by6p2z1",
      "execution_count": 64,
      "outputs": [
        {
          "output_type": "error",
          "ename": "NameError",
          "evalue": "ignored",
          "traceback": [
            "\u001b[0;31m---------------------------------------------------------------------------\u001b[0m",
            "\u001b[0;31mNameError\u001b[0m                                 Traceback (most recent call last)",
            "\u001b[0;32m<ipython-input-64-36a606a83252>\u001b[0m in \u001b[0;36m<module>\u001b[0;34m\u001b[0m\n\u001b[0;32m----> 1\u001b[0;31m \u001b[0mlr_final\u001b[0m\u001b[0;34m.\u001b[0m\u001b[0mfit\u001b[0m\u001b[0;34m(\u001b[0m\u001b[0mstacked_X_train\u001b[0m\u001b[0;34m,\u001b[0m \u001b[0my_train\u001b[0m\u001b[0;34m)\u001b[0m\u001b[0;34m\u001b[0m\u001b[0;34m\u001b[0m\u001b[0m\n\u001b[0m\u001b[1;32m      2\u001b[0m \u001b[0mpred\u001b[0m \u001b[0;34m=\u001b[0m \u001b[0mlr_final\u001b[0m\u001b[0;34m.\u001b[0m\u001b[0mpredict\u001b[0m\u001b[0;34m(\u001b[0m\u001b[0mstacked_X_test\u001b[0m\u001b[0;34m)\u001b[0m\u001b[0;34m\u001b[0m\u001b[0;34m\u001b[0m\u001b[0m\n\u001b[1;32m      3\u001b[0m \u001b[0maccuracy\u001b[0m \u001b[0;34m=\u001b[0m \u001b[0maccuracy_score\u001b[0m\u001b[0;34m(\u001b[0m\u001b[0my_test\u001b[0m\u001b[0;34m,\u001b[0m \u001b[0mpred\u001b[0m\u001b[0;34m)\u001b[0m\u001b[0;34m\u001b[0m\u001b[0;34m\u001b[0m\u001b[0m\n\u001b[1;32m      4\u001b[0m \u001b[0mprint\u001b[0m\u001b[0;34m(\u001b[0m\u001b[0;34m'정확도 : {0:.4f}'\u001b[0m\u001b[0;34m.\u001b[0m\u001b[0mformat\u001b[0m\u001b[0;34m(\u001b[0m\u001b[0maccuracy\u001b[0m\u001b[0;34m)\u001b[0m\u001b[0;34m)\u001b[0m\u001b[0;34m\u001b[0m\u001b[0;34m\u001b[0m\u001b[0m\n",
            "\u001b[0;31mNameError\u001b[0m: name 'stacked_X_train' is not defined"
          ]
        }
      ]
    },
    {
      "cell_type": "markdown",
      "source": [
        "### CatBoost\n",
        "\n",
        "범주형 변수가 많은 데이터에 catboost를 적용해봅시다.\n",
        "\n",
        "데이터 출처:\n",
        "https://www.kaggle.com/datasets/uciml/mushroom-classification\n"
      ],
      "metadata": {
        "id": "mZEcyqY79nZM"
      },
      "id": "mZEcyqY79nZM"
    },
    {
      "cell_type": "code",
      "source": [
        "# mushrooms.csv 파일을 사용합니다.\n",
        "\n",
        "mushroom_df = pd.read_csv('/content/mushrooms.csv')"
      ],
      "metadata": {
        "id": "mbSevRzjIHKs"
      },
      "execution_count": 65,
      "outputs": [],
      "id": "mbSevRzjIHKs"
    },
    {
      "cell_type": "markdown",
      "source": [
        "mushroom_df feature들의 data type을 확인하시오."
      ],
      "metadata": {
        "id": "AjLa99HnIZ1M"
      },
      "id": "AjLa99HnIZ1M"
    },
    {
      "cell_type": "code",
      "source": [
        "mushroom_df.dtypes"
      ],
      "metadata": {
        "id": "Gs16WW_rp7d2",
        "colab": {
          "base_uri": "https://localhost:8080/"
        },
        "outputId": "509e45ef-5351-4a1a-ed38-e9891deb5137"
      },
      "id": "Gs16WW_rp7d2",
      "execution_count": 66,
      "outputs": [
        {
          "output_type": "execute_result",
          "data": {
            "text/plain": [
              "class                       object\n",
              "cap-shape                   object\n",
              "cap-surface                 object\n",
              "cap-color                   object\n",
              "bruises                     object\n",
              "odor                        object\n",
              "gill-attachment             object\n",
              "gill-spacing                object\n",
              "gill-size                   object\n",
              "gill-color                  object\n",
              "stalk-shape                 object\n",
              "stalk-root                  object\n",
              "stalk-surface-above-ring    object\n",
              "stalk-surface-below-ring    object\n",
              "stalk-color-above-ring      object\n",
              "stalk-color-below-ring      object\n",
              "veil-type                   object\n",
              "veil-color                  object\n",
              "ring-number                 object\n",
              "ring-type                   object\n",
              "spore-print-color           object\n",
              "population                  object\n",
              "habitat                     object\n",
              "dtype: object"
            ]
          },
          "metadata": {},
          "execution_count": 66
        }
      ]
    },
    {
      "cell_type": "code",
      "source": [
        "for i in mushroom_df.columns:\n",
        "  encoder= LabelEncoder()\n",
        "  mushroom_df[i] = encoder.fit_transform(mushroom_df[i])\n",
        "print(mushroom_df.head())"
      ],
      "metadata": {
        "colab": {
          "base_uri": "https://localhost:8080/"
        },
        "id": "kYC6iHc9dXHM",
        "outputId": "4a1f4be2-bd74-4406-e5d7-a15d64c408d8"
      },
      "id": "kYC6iHc9dXHM",
      "execution_count": 84,
      "outputs": [
        {
          "output_type": "stream",
          "name": "stdout",
          "text": [
            "   class  cap-shape  cap-surface  cap-color  bruises  odor  gill-attachment  \\\n",
            "0      1          5            2          4        1     6                1   \n",
            "1      0          5            2          9        1     0                1   \n",
            "2      0          0            2          8        1     3                1   \n",
            "3      1          5            3          8        1     6                1   \n",
            "4      0          5            2          3        0     5                1   \n",
            "\n",
            "   gill-spacing  gill-size  gill-color  ...  stalk-surface-below-ring  \\\n",
            "0             0          1           4  ...                         2   \n",
            "1             0          0           4  ...                         2   \n",
            "2             0          0           5  ...                         2   \n",
            "3             0          1           5  ...                         2   \n",
            "4             1          0           4  ...                         2   \n",
            "\n",
            "   stalk-color-above-ring  stalk-color-below-ring  veil-type  veil-color  \\\n",
            "0                       7                       7          0           2   \n",
            "1                       7                       7          0           2   \n",
            "2                       7                       7          0           2   \n",
            "3                       7                       7          0           2   \n",
            "4                       7                       7          0           2   \n",
            "\n",
            "   ring-number  ring-type  spore-print-color  population  habitat  \n",
            "0            1          4                  2           3        5  \n",
            "1            1          4                  3           2        1  \n",
            "2            1          4                  3           2        3  \n",
            "3            1          4                  2           3        5  \n",
            "4            1          0                  3           0        1  \n",
            "\n",
            "[5 rows x 23 columns]\n"
          ]
        }
      ]
    },
    {
      "cell_type": "markdown",
      "source": [
        "feature와 target을 각각 X_mushroom, y_mushroom으로 분리하고,  \n",
        "train_test_split 함수로 train, test set을 분리하시오. (test size = 0.2)"
      ],
      "metadata": {
        "id": "twu4cpQMKHTM"
      },
      "id": "twu4cpQMKHTM"
    },
    {
      "cell_type": "code",
      "source": [
        "X_mushroom = mushroom_df.drop(['class'],axis=1,inplace=False)\n",
        "y_mushroom = mushroom_df['class']\n",
        "X_train, X_test, y_train, y_test = train_test_split(X_mushroom, y_mushroom, test_size=0.2)"
      ],
      "metadata": {
        "id": "T4Qwnz0Kp8Aj"
      },
      "id": "T4Qwnz0Kp8Aj",
      "execution_count": 85,
      "outputs": []
    },
    {
      "cell_type": "markdown",
      "source": [
        "CatBoostClassifier를 불러오고, Pool 함수를 이용해 범주형 변수를 처리하도록 train_pool, test_pool을 만드시오."
      ],
      "metadata": {
        "id": "FAkKKfY9JC5U"
      },
      "id": "FAkKKfY9JC5U"
    },
    {
      "cell_type": "code",
      "source": [
        "!pip install catboost"
      ],
      "metadata": {
        "id": "LAFxT8bVIEyN",
        "colab": {
          "base_uri": "https://localhost:8080/"
        },
        "outputId": "8b90a1ae-48b1-4141-c17e-f935b53a499c"
      },
      "execution_count": 69,
      "outputs": [
        {
          "output_type": "stream",
          "name": "stdout",
          "text": [
            "Looking in indexes: https://pypi.org/simple, https://us-python.pkg.dev/colab-wheels/public/simple/\n",
            "Collecting catboost\n",
            "  Downloading catboost-1.0.6-cp37-none-manylinux1_x86_64.whl (76.6 MB)\n",
            "\u001b[K     |████████████████████████████████| 76.6 MB 1.2 MB/s \n",
            "\u001b[?25hRequirement already satisfied: six in /usr/local/lib/python3.7/dist-packages (from catboost) (1.15.0)\n",
            "Requirement already satisfied: plotly in /usr/local/lib/python3.7/dist-packages (from catboost) (5.5.0)\n",
            "Requirement already satisfied: scipy in /usr/local/lib/python3.7/dist-packages (from catboost) (1.7.3)\n",
            "Requirement already satisfied: pandas>=0.24.0 in /usr/local/lib/python3.7/dist-packages (from catboost) (1.3.5)\n",
            "Requirement already satisfied: numpy>=1.16.0 in /usr/local/lib/python3.7/dist-packages (from catboost) (1.21.6)\n",
            "Requirement already satisfied: matplotlib in /usr/local/lib/python3.7/dist-packages (from catboost) (3.2.2)\n",
            "Requirement already satisfied: graphviz in /usr/local/lib/python3.7/dist-packages (from catboost) (0.10.1)\n",
            "Requirement already satisfied: python-dateutil>=2.7.3 in /usr/local/lib/python3.7/dist-packages (from pandas>=0.24.0->catboost) (2.8.2)\n",
            "Requirement already satisfied: pytz>=2017.3 in /usr/local/lib/python3.7/dist-packages (from pandas>=0.24.0->catboost) (2022.2.1)\n",
            "Requirement already satisfied: kiwisolver>=1.0.1 in /usr/local/lib/python3.7/dist-packages (from matplotlib->catboost) (1.4.4)\n",
            "Requirement already satisfied: cycler>=0.10 in /usr/local/lib/python3.7/dist-packages (from matplotlib->catboost) (0.11.0)\n",
            "Requirement already satisfied: pyparsing!=2.0.4,!=2.1.2,!=2.1.6,>=2.0.1 in /usr/local/lib/python3.7/dist-packages (from matplotlib->catboost) (3.0.9)\n",
            "Requirement already satisfied: typing-extensions in /usr/local/lib/python3.7/dist-packages (from kiwisolver>=1.0.1->matplotlib->catboost) (4.1.1)\n",
            "Requirement already satisfied: tenacity>=6.2.0 in /usr/local/lib/python3.7/dist-packages (from plotly->catboost) (8.0.1)\n",
            "Installing collected packages: catboost\n",
            "Successfully installed catboost-1.0.6\n"
          ]
        }
      ],
      "id": "LAFxT8bVIEyN"
    },
    {
      "cell_type": "code",
      "source": [
        "from catboost import Pool"
      ],
      "metadata": {
        "id": "3uinLtop9bPW"
      },
      "execution_count": 86,
      "outputs": [],
      "id": "3uinLtop9bPW"
    },
    {
      "cell_type": "code",
      "source": [
        "pool_train = Pool(data = X_train, label = y_train)\n",
        "pool_test = Pool(data = X_test, label = y_test)"
      ],
      "metadata": {
        "id": "J_wMxvhdp9L8"
      },
      "id": "J_wMxvhdp9L8",
      "execution_count": 87,
      "outputs": []
    },
    {
      "cell_type": "markdown",
      "source": [
        "iteration=400, learning_rate=0.1, max_depth=3로 설정한 CatBoost 모델로 버섯에 대한 정보를 학습하고 테스트 데이터 버섯의 독성 여부를 예측하시오. 또 정확도를 구하시오.  "
      ],
      "metadata": {
        "id": "Vu9ijqhGMWgo"
      },
      "id": "Vu9ijqhGMWgo"
    },
    {
      "cell_type": "code",
      "source": [
        "from catboost import CatBoostClassifier\n",
        "\n",
        "cb_clf = CatBoostClassifier(iterations=400, learning_rate=0.1, max_depth=3)\n",
        "cb_clf.fit(pool_train)\n",
        "pred = cb_clf.predict(pool_test)\n",
        "accuracy = accuracy_score(y_test, pred)\n",
        "print(accuracy)"
      ],
      "metadata": {
        "id": "F2I7ARrWp_t3",
        "colab": {
          "base_uri": "https://localhost:8080/"
        },
        "outputId": "42acc43a-b4b3-47a6-a9ec-7ee69c3b6b2c"
      },
      "id": "F2I7ARrWp_t3",
      "execution_count": 88,
      "outputs": [
        {
          "output_type": "stream",
          "name": "stdout",
          "text": [
            "0:\tlearn: 0.5280291\ttotal: 48.8ms\tremaining: 19.5s\n",
            "1:\tlearn: 0.4129672\ttotal: 51.6ms\tremaining: 10.3s\n",
            "2:\tlearn: 0.3322250\ttotal: 53.7ms\tremaining: 7.11s\n",
            "3:\tlearn: 0.2597293\ttotal: 55.8ms\tremaining: 5.53s\n",
            "4:\tlearn: 0.2210379\ttotal: 58ms\tremaining: 4.58s\n",
            "5:\tlearn: 0.1704807\ttotal: 60.1ms\tremaining: 3.95s\n",
            "6:\tlearn: 0.1484198\ttotal: 62.8ms\tremaining: 3.52s\n",
            "7:\tlearn: 0.1298162\ttotal: 64.7ms\tremaining: 3.17s\n",
            "8:\tlearn: 0.1193319\ttotal: 66.8ms\tremaining: 2.9s\n",
            "9:\tlearn: 0.1060741\ttotal: 68.9ms\tremaining: 2.69s\n",
            "10:\tlearn: 0.0955247\ttotal: 71ms\tremaining: 2.51s\n",
            "11:\tlearn: 0.0858616\ttotal: 73.1ms\tremaining: 2.36s\n",
            "12:\tlearn: 0.0793629\ttotal: 75.3ms\tremaining: 2.24s\n",
            "13:\tlearn: 0.0700731\ttotal: 77.8ms\tremaining: 2.15s\n",
            "14:\tlearn: 0.0649097\ttotal: 79.8ms\tremaining: 2.05s\n",
            "15:\tlearn: 0.0595324\ttotal: 81.9ms\tremaining: 1.97s\n",
            "16:\tlearn: 0.0552749\ttotal: 83.9ms\tremaining: 1.89s\n",
            "17:\tlearn: 0.0516725\ttotal: 85.7ms\tremaining: 1.82s\n",
            "18:\tlearn: 0.0488304\ttotal: 87.8ms\tremaining: 1.76s\n",
            "19:\tlearn: 0.0475856\ttotal: 89.8ms\tremaining: 1.71s\n",
            "20:\tlearn: 0.0388753\ttotal: 91.8ms\tremaining: 1.66s\n",
            "21:\tlearn: 0.0375604\ttotal: 94.7ms\tremaining: 1.63s\n",
            "22:\tlearn: 0.0339386\ttotal: 96.5ms\tremaining: 1.58s\n",
            "23:\tlearn: 0.0324541\ttotal: 98.7ms\tremaining: 1.55s\n",
            "24:\tlearn: 0.0316982\ttotal: 101ms\tremaining: 1.51s\n",
            "25:\tlearn: 0.0305609\ttotal: 103ms\tremaining: 1.48s\n",
            "26:\tlearn: 0.0299288\ttotal: 105ms\tremaining: 1.45s\n",
            "27:\tlearn: 0.0293918\ttotal: 107ms\tremaining: 1.43s\n",
            "28:\tlearn: 0.0285901\ttotal: 109ms\tremaining: 1.4s\n",
            "29:\tlearn: 0.0267710\ttotal: 111ms\tremaining: 1.38s\n",
            "30:\tlearn: 0.0261392\ttotal: 113ms\tremaining: 1.35s\n",
            "31:\tlearn: 0.0248503\ttotal: 115ms\tremaining: 1.32s\n",
            "32:\tlearn: 0.0242477\ttotal: 117ms\tremaining: 1.3s\n",
            "33:\tlearn: 0.0235060\ttotal: 119ms\tremaining: 1.28s\n",
            "34:\tlearn: 0.0223014\ttotal: 121ms\tremaining: 1.26s\n",
            "35:\tlearn: 0.0217497\ttotal: 123ms\tremaining: 1.24s\n",
            "36:\tlearn: 0.0210869\ttotal: 125ms\tremaining: 1.22s\n",
            "37:\tlearn: 0.0198034\ttotal: 127ms\tremaining: 1.21s\n",
            "38:\tlearn: 0.0192845\ttotal: 129ms\tremaining: 1.19s\n",
            "39:\tlearn: 0.0185281\ttotal: 131ms\tremaining: 1.18s\n",
            "40:\tlearn: 0.0168436\ttotal: 133ms\tremaining: 1.17s\n",
            "41:\tlearn: 0.0166953\ttotal: 135ms\tremaining: 1.15s\n",
            "42:\tlearn: 0.0163385\ttotal: 137ms\tremaining: 1.14s\n",
            "43:\tlearn: 0.0153839\ttotal: 139ms\tremaining: 1.13s\n",
            "44:\tlearn: 0.0142344\ttotal: 141ms\tremaining: 1.11s\n",
            "45:\tlearn: 0.0141556\ttotal: 143ms\tremaining: 1.1s\n",
            "46:\tlearn: 0.0133006\ttotal: 146ms\tremaining: 1.09s\n",
            "47:\tlearn: 0.0130524\ttotal: 148ms\tremaining: 1.08s\n",
            "48:\tlearn: 0.0127932\ttotal: 150ms\tremaining: 1.07s\n",
            "49:\tlearn: 0.0119622\ttotal: 152ms\tremaining: 1.06s\n",
            "50:\tlearn: 0.0113201\ttotal: 154ms\tremaining: 1.05s\n",
            "51:\tlearn: 0.0111517\ttotal: 156ms\tremaining: 1.05s\n",
            "52:\tlearn: 0.0109404\ttotal: 158ms\tremaining: 1.04s\n",
            "53:\tlearn: 0.0106826\ttotal: 160ms\tremaining: 1.03s\n",
            "54:\tlearn: 0.0101505\ttotal: 162ms\tremaining: 1.02s\n",
            "55:\tlearn: 0.0100070\ttotal: 164ms\tremaining: 1.01s\n",
            "56:\tlearn: 0.0097139\ttotal: 166ms\tremaining: 1s\n",
            "57:\tlearn: 0.0095607\ttotal: 168ms\tremaining: 993ms\n",
            "58:\tlearn: 0.0089640\ttotal: 170ms\tremaining: 985ms\n",
            "59:\tlearn: 0.0086030\ttotal: 173ms\tremaining: 978ms\n",
            "60:\tlearn: 0.0081977\ttotal: 175ms\tremaining: 970ms\n",
            "61:\tlearn: 0.0080163\ttotal: 177ms\tremaining: 964ms\n",
            "62:\tlearn: 0.0078098\ttotal: 179ms\tremaining: 957ms\n",
            "63:\tlearn: 0.0075165\ttotal: 181ms\tremaining: 949ms\n",
            "64:\tlearn: 0.0071081\ttotal: 183ms\tremaining: 943ms\n",
            "65:\tlearn: 0.0067114\ttotal: 185ms\tremaining: 936ms\n",
            "66:\tlearn: 0.0065861\ttotal: 187ms\tremaining: 929ms\n",
            "67:\tlearn: 0.0063559\ttotal: 189ms\tremaining: 923ms\n",
            "68:\tlearn: 0.0060852\ttotal: 191ms\tremaining: 917ms\n",
            "69:\tlearn: 0.0059185\ttotal: 193ms\tremaining: 910ms\n",
            "70:\tlearn: 0.0057653\ttotal: 195ms\tremaining: 904ms\n",
            "71:\tlearn: 0.0056664\ttotal: 197ms\tremaining: 898ms\n",
            "72:\tlearn: 0.0055988\ttotal: 199ms\tremaining: 893ms\n",
            "73:\tlearn: 0.0052590\ttotal: 202ms\tremaining: 888ms\n",
            "74:\tlearn: 0.0050888\ttotal: 204ms\tremaining: 882ms\n",
            "75:\tlearn: 0.0048591\ttotal: 206ms\tremaining: 879ms\n",
            "76:\tlearn: 0.0047120\ttotal: 209ms\tremaining: 875ms\n",
            "77:\tlearn: 0.0046431\ttotal: 211ms\tremaining: 869ms\n",
            "78:\tlearn: 0.0043634\ttotal: 213ms\tremaining: 864ms\n",
            "79:\tlearn: 0.0041832\ttotal: 215ms\tremaining: 858ms\n",
            "80:\tlearn: 0.0040926\ttotal: 216ms\tremaining: 852ms\n",
            "81:\tlearn: 0.0039430\ttotal: 219ms\tremaining: 848ms\n",
            "82:\tlearn: 0.0039139\ttotal: 220ms\tremaining: 842ms\n",
            "83:\tlearn: 0.0038193\ttotal: 222ms\tremaining: 837ms\n",
            "84:\tlearn: 0.0037358\ttotal: 224ms\tremaining: 832ms\n",
            "85:\tlearn: 0.0037357\ttotal: 226ms\tremaining: 826ms\n",
            "86:\tlearn: 0.0036194\ttotal: 228ms\tremaining: 821ms\n",
            "87:\tlearn: 0.0035277\ttotal: 230ms\tremaining: 817ms\n",
            "88:\tlearn: 0.0035277\ttotal: 232ms\tremaining: 812ms\n",
            "89:\tlearn: 0.0034553\ttotal: 234ms\tremaining: 807ms\n",
            "90:\tlearn: 0.0033564\ttotal: 237ms\tremaining: 806ms\n",
            "91:\tlearn: 0.0032622\ttotal: 240ms\tremaining: 803ms\n",
            "92:\tlearn: 0.0031666\ttotal: 245ms\tremaining: 809ms\n",
            "93:\tlearn: 0.0031508\ttotal: 247ms\tremaining: 803ms\n",
            "94:\tlearn: 0.0031350\ttotal: 249ms\tremaining: 798ms\n",
            "95:\tlearn: 0.0030738\ttotal: 251ms\tremaining: 794ms\n",
            "96:\tlearn: 0.0029737\ttotal: 253ms\tremaining: 792ms\n",
            "97:\tlearn: 0.0029737\ttotal: 255ms\tremaining: 786ms\n",
            "98:\tlearn: 0.0029534\ttotal: 257ms\tremaining: 783ms\n",
            "99:\tlearn: 0.0029155\ttotal: 259ms\tremaining: 778ms\n",
            "100:\tlearn: 0.0028659\ttotal: 261ms\tremaining: 774ms\n",
            "101:\tlearn: 0.0027361\ttotal: 263ms\tremaining: 770ms\n",
            "102:\tlearn: 0.0025309\ttotal: 266ms\tremaining: 766ms\n",
            "103:\tlearn: 0.0023738\ttotal: 268ms\tremaining: 762ms\n",
            "104:\tlearn: 0.0023091\ttotal: 270ms\tremaining: 758ms\n",
            "105:\tlearn: 0.0022772\ttotal: 272ms\tremaining: 754ms\n",
            "106:\tlearn: 0.0022342\ttotal: 274ms\tremaining: 750ms\n",
            "107:\tlearn: 0.0022019\ttotal: 276ms\tremaining: 746ms\n",
            "108:\tlearn: 0.0021496\ttotal: 278ms\tremaining: 741ms\n",
            "109:\tlearn: 0.0021145\ttotal: 280ms\tremaining: 738ms\n",
            "110:\tlearn: 0.0020902\ttotal: 282ms\tremaining: 734ms\n",
            "111:\tlearn: 0.0020349\ttotal: 284ms\tremaining: 730ms\n",
            "112:\tlearn: 0.0020095\ttotal: 286ms\tremaining: 726ms\n",
            "113:\tlearn: 0.0019666\ttotal: 288ms\tremaining: 722ms\n",
            "114:\tlearn: 0.0019372\ttotal: 290ms\tremaining: 719ms\n",
            "115:\tlearn: 0.0019372\ttotal: 292ms\tremaining: 714ms\n",
            "116:\tlearn: 0.0019372\ttotal: 293ms\tremaining: 709ms\n",
            "117:\tlearn: 0.0019372\ttotal: 295ms\tremaining: 704ms\n",
            "118:\tlearn: 0.0019372\ttotal: 296ms\tremaining: 700ms\n",
            "119:\tlearn: 0.0019372\ttotal: 298ms\tremaining: 696ms\n",
            "120:\tlearn: 0.0019372\ttotal: 300ms\tremaining: 692ms\n",
            "121:\tlearn: 0.0019372\ttotal: 302ms\tremaining: 688ms\n",
            "122:\tlearn: 0.0019370\ttotal: 303ms\tremaining: 683ms\n",
            "123:\tlearn: 0.0019371\ttotal: 305ms\tremaining: 679ms\n",
            "124:\tlearn: 0.0019370\ttotal: 307ms\tremaining: 675ms\n",
            "125:\tlearn: 0.0019370\ttotal: 308ms\tremaining: 671ms\n",
            "126:\tlearn: 0.0019370\ttotal: 310ms\tremaining: 667ms\n",
            "127:\tlearn: 0.0019370\ttotal: 312ms\tremaining: 663ms\n",
            "128:\tlearn: 0.0019370\ttotal: 314ms\tremaining: 659ms\n",
            "129:\tlearn: 0.0019370\ttotal: 315ms\tremaining: 655ms\n",
            "130:\tlearn: 0.0019370\ttotal: 317ms\tremaining: 651ms\n",
            "131:\tlearn: 0.0019370\ttotal: 319ms\tremaining: 647ms\n",
            "132:\tlearn: 0.0019370\ttotal: 320ms\tremaining: 643ms\n",
            "133:\tlearn: 0.0019370\ttotal: 322ms\tremaining: 639ms\n",
            "134:\tlearn: 0.0019370\ttotal: 324ms\tremaining: 635ms\n",
            "135:\tlearn: 0.0019370\ttotal: 325ms\tremaining: 632ms\n",
            "136:\tlearn: 0.0019370\ttotal: 327ms\tremaining: 628ms\n",
            "137:\tlearn: 0.0019370\ttotal: 329ms\tremaining: 624ms\n",
            "138:\tlearn: 0.0019370\ttotal: 330ms\tremaining: 620ms\n",
            "139:\tlearn: 0.0019370\ttotal: 332ms\tremaining: 617ms\n",
            "140:\tlearn: 0.0019370\ttotal: 334ms\tremaining: 613ms\n",
            "141:\tlearn: 0.0019370\ttotal: 335ms\tremaining: 609ms\n",
            "142:\tlearn: 0.0019370\ttotal: 337ms\tremaining: 606ms\n",
            "143:\tlearn: 0.0019370\ttotal: 339ms\tremaining: 602ms\n",
            "144:\tlearn: 0.0019370\ttotal: 341ms\tremaining: 600ms\n",
            "145:\tlearn: 0.0019370\ttotal: 343ms\tremaining: 597ms\n",
            "146:\tlearn: 0.0019370\ttotal: 345ms\tremaining: 594ms\n",
            "147:\tlearn: 0.0019370\ttotal: 351ms\tremaining: 598ms\n",
            "148:\tlearn: 0.0019370\ttotal: 355ms\tremaining: 598ms\n",
            "149:\tlearn: 0.0019370\ttotal: 359ms\tremaining: 598ms\n",
            "150:\tlearn: 0.0019370\ttotal: 363ms\tremaining: 598ms\n",
            "151:\tlearn: 0.0019370\ttotal: 366ms\tremaining: 597ms\n",
            "152:\tlearn: 0.0019370\ttotal: 367ms\tremaining: 593ms\n",
            "153:\tlearn: 0.0019370\ttotal: 369ms\tremaining: 589ms\n",
            "154:\tlearn: 0.0019370\ttotal: 371ms\tremaining: 586ms\n",
            "155:\tlearn: 0.0019370\ttotal: 373ms\tremaining: 583ms\n",
            "156:\tlearn: 0.0019370\ttotal: 374ms\tremaining: 579ms\n",
            "157:\tlearn: 0.0019370\ttotal: 376ms\tremaining: 575ms\n",
            "158:\tlearn: 0.0019370\ttotal: 377ms\tremaining: 572ms\n",
            "159:\tlearn: 0.0019370\ttotal: 379ms\tremaining: 569ms\n",
            "160:\tlearn: 0.0019370\ttotal: 381ms\tremaining: 565ms\n",
            "161:\tlearn: 0.0019370\ttotal: 382ms\tremaining: 562ms\n",
            "162:\tlearn: 0.0019370\ttotal: 384ms\tremaining: 559ms\n",
            "163:\tlearn: 0.0019370\ttotal: 386ms\tremaining: 555ms\n",
            "164:\tlearn: 0.0019370\ttotal: 387ms\tremaining: 552ms\n",
            "165:\tlearn: 0.0019370\ttotal: 389ms\tremaining: 548ms\n",
            "166:\tlearn: 0.0019370\ttotal: 391ms\tremaining: 545ms\n",
            "167:\tlearn: 0.0019370\ttotal: 392ms\tremaining: 542ms\n",
            "168:\tlearn: 0.0019370\ttotal: 394ms\tremaining: 539ms\n",
            "169:\tlearn: 0.0019370\ttotal: 396ms\tremaining: 535ms\n",
            "170:\tlearn: 0.0019370\ttotal: 397ms\tremaining: 532ms\n",
            "171:\tlearn: 0.0019370\ttotal: 399ms\tremaining: 528ms\n",
            "172:\tlearn: 0.0019370\ttotal: 400ms\tremaining: 525ms\n",
            "173:\tlearn: 0.0019370\ttotal: 402ms\tremaining: 522ms\n",
            "174:\tlearn: 0.0019370\ttotal: 404ms\tremaining: 519ms\n",
            "175:\tlearn: 0.0019370\ttotal: 405ms\tremaining: 516ms\n",
            "176:\tlearn: 0.0019370\ttotal: 407ms\tremaining: 512ms\n",
            "177:\tlearn: 0.0019370\ttotal: 408ms\tremaining: 509ms\n",
            "178:\tlearn: 0.0019370\ttotal: 410ms\tremaining: 507ms\n",
            "179:\tlearn: 0.0019370\ttotal: 412ms\tremaining: 503ms\n",
            "180:\tlearn: 0.0019370\ttotal: 414ms\tremaining: 501ms\n",
            "181:\tlearn: 0.0019370\ttotal: 416ms\tremaining: 498ms\n",
            "182:\tlearn: 0.0019370\ttotal: 417ms\tremaining: 495ms\n",
            "183:\tlearn: 0.0019370\ttotal: 419ms\tremaining: 492ms\n",
            "184:\tlearn: 0.0019370\ttotal: 421ms\tremaining: 490ms\n",
            "185:\tlearn: 0.0019370\ttotal: 425ms\tremaining: 489ms\n",
            "186:\tlearn: 0.0019370\ttotal: 427ms\tremaining: 487ms\n",
            "187:\tlearn: 0.0019370\ttotal: 434ms\tremaining: 489ms\n",
            "188:\tlearn: 0.0019370\ttotal: 437ms\tremaining: 488ms\n",
            "189:\tlearn: 0.0019370\ttotal: 439ms\tremaining: 485ms\n",
            "190:\tlearn: 0.0019370\ttotal: 441ms\tremaining: 482ms\n",
            "191:\tlearn: 0.0019370\ttotal: 442ms\tremaining: 479ms\n",
            "192:\tlearn: 0.0019370\ttotal: 444ms\tremaining: 476ms\n",
            "193:\tlearn: 0.0019370\ttotal: 446ms\tremaining: 473ms\n",
            "194:\tlearn: 0.0019370\ttotal: 448ms\tremaining: 470ms\n",
            "195:\tlearn: 0.0019370\ttotal: 449ms\tremaining: 467ms\n",
            "196:\tlearn: 0.0019370\ttotal: 451ms\tremaining: 464ms\n",
            "197:\tlearn: 0.0019370\ttotal: 452ms\tremaining: 462ms\n",
            "198:\tlearn: 0.0019370\ttotal: 454ms\tremaining: 459ms\n",
            "199:\tlearn: 0.0019370\ttotal: 456ms\tremaining: 456ms\n",
            "200:\tlearn: 0.0019370\ttotal: 457ms\tremaining: 453ms\n",
            "201:\tlearn: 0.0019370\ttotal: 459ms\tremaining: 450ms\n",
            "202:\tlearn: 0.0019370\ttotal: 461ms\tremaining: 447ms\n",
            "203:\tlearn: 0.0019370\ttotal: 462ms\tremaining: 444ms\n",
            "204:\tlearn: 0.0019370\ttotal: 464ms\tremaining: 441ms\n",
            "205:\tlearn: 0.0019370\ttotal: 466ms\tremaining: 439ms\n",
            "206:\tlearn: 0.0019370\ttotal: 469ms\tremaining: 437ms\n",
            "207:\tlearn: 0.0019370\ttotal: 470ms\tremaining: 434ms\n",
            "208:\tlearn: 0.0019370\ttotal: 472ms\tremaining: 432ms\n",
            "209:\tlearn: 0.0019370\ttotal: 474ms\tremaining: 429ms\n",
            "210:\tlearn: 0.0019370\ttotal: 476ms\tremaining: 426ms\n",
            "211:\tlearn: 0.0019370\ttotal: 477ms\tremaining: 423ms\n",
            "212:\tlearn: 0.0019370\ttotal: 479ms\tremaining: 421ms\n",
            "213:\tlearn: 0.0019370\ttotal: 481ms\tremaining: 418ms\n",
            "214:\tlearn: 0.0019370\ttotal: 483ms\tremaining: 415ms\n",
            "215:\tlearn: 0.0019370\ttotal: 484ms\tremaining: 413ms\n",
            "216:\tlearn: 0.0019370\ttotal: 486ms\tremaining: 410ms\n",
            "217:\tlearn: 0.0019370\ttotal: 488ms\tremaining: 407ms\n",
            "218:\tlearn: 0.0019370\ttotal: 489ms\tremaining: 404ms\n",
            "219:\tlearn: 0.0019370\ttotal: 491ms\tremaining: 402ms\n",
            "220:\tlearn: 0.0019370\ttotal: 493ms\tremaining: 399ms\n",
            "221:\tlearn: 0.0019370\ttotal: 494ms\tremaining: 396ms\n",
            "222:\tlearn: 0.0019370\ttotal: 496ms\tremaining: 394ms\n",
            "223:\tlearn: 0.0019370\ttotal: 498ms\tremaining: 391ms\n",
            "224:\tlearn: 0.0019370\ttotal: 499ms\tremaining: 388ms\n",
            "225:\tlearn: 0.0019370\ttotal: 501ms\tremaining: 386ms\n",
            "226:\tlearn: 0.0019370\ttotal: 503ms\tremaining: 383ms\n",
            "227:\tlearn: 0.0019370\ttotal: 505ms\tremaining: 381ms\n",
            "228:\tlearn: 0.0019370\ttotal: 506ms\tremaining: 378ms\n",
            "229:\tlearn: 0.0019370\ttotal: 508ms\tremaining: 375ms\n",
            "230:\tlearn: 0.0019370\ttotal: 510ms\tremaining: 373ms\n",
            "231:\tlearn: 0.0019370\ttotal: 511ms\tremaining: 370ms\n",
            "232:\tlearn: 0.0019370\ttotal: 513ms\tremaining: 367ms\n",
            "233:\tlearn: 0.0019370\ttotal: 515ms\tremaining: 365ms\n",
            "234:\tlearn: 0.0019370\ttotal: 516ms\tremaining: 362ms\n",
            "235:\tlearn: 0.0019370\ttotal: 518ms\tremaining: 360ms\n",
            "236:\tlearn: 0.0019370\ttotal: 520ms\tremaining: 357ms\n",
            "237:\tlearn: 0.0019370\ttotal: 521ms\tremaining: 355ms\n",
            "238:\tlearn: 0.0019370\ttotal: 523ms\tremaining: 352ms\n",
            "239:\tlearn: 0.0019370\ttotal: 525ms\tremaining: 350ms\n",
            "240:\tlearn: 0.0019370\ttotal: 526ms\tremaining: 347ms\n",
            "241:\tlearn: 0.0019370\ttotal: 528ms\tremaining: 345ms\n",
            "242:\tlearn: 0.0019370\ttotal: 530ms\tremaining: 342ms\n",
            "243:\tlearn: 0.0019370\ttotal: 532ms\tremaining: 340ms\n",
            "244:\tlearn: 0.0019370\ttotal: 533ms\tremaining: 337ms\n",
            "245:\tlearn: 0.0019370\ttotal: 535ms\tremaining: 335ms\n",
            "246:\tlearn: 0.0019370\ttotal: 537ms\tremaining: 332ms\n",
            "247:\tlearn: 0.0019370\ttotal: 538ms\tremaining: 330ms\n",
            "248:\tlearn: 0.0019370\ttotal: 540ms\tremaining: 327ms\n",
            "249:\tlearn: 0.0019370\ttotal: 541ms\tremaining: 325ms\n",
            "250:\tlearn: 0.0019370\ttotal: 543ms\tremaining: 322ms\n",
            "251:\tlearn: 0.0019370\ttotal: 545ms\tremaining: 320ms\n",
            "252:\tlearn: 0.0019370\ttotal: 546ms\tremaining: 317ms\n",
            "253:\tlearn: 0.0019370\ttotal: 548ms\tremaining: 315ms\n",
            "254:\tlearn: 0.0019370\ttotal: 550ms\tremaining: 313ms\n",
            "255:\tlearn: 0.0019370\ttotal: 551ms\tremaining: 310ms\n",
            "256:\tlearn: 0.0019370\ttotal: 553ms\tremaining: 308ms\n",
            "257:\tlearn: 0.0019370\ttotal: 555ms\tremaining: 305ms\n",
            "258:\tlearn: 0.0019370\ttotal: 556ms\tremaining: 303ms\n",
            "259:\tlearn: 0.0019370\ttotal: 558ms\tremaining: 300ms\n",
            "260:\tlearn: 0.0019370\ttotal: 559ms\tremaining: 298ms\n",
            "261:\tlearn: 0.0019370\ttotal: 561ms\tremaining: 295ms\n",
            "262:\tlearn: 0.0019370\ttotal: 562ms\tremaining: 293ms\n",
            "263:\tlearn: 0.0019370\ttotal: 563ms\tremaining: 290ms\n",
            "264:\tlearn: 0.0019370\ttotal: 565ms\tremaining: 288ms\n",
            "265:\tlearn: 0.0019370\ttotal: 566ms\tremaining: 285ms\n",
            "266:\tlearn: 0.0019370\ttotal: 568ms\tremaining: 283ms\n",
            "267:\tlearn: 0.0019370\ttotal: 569ms\tremaining: 280ms\n",
            "268:\tlearn: 0.0019370\ttotal: 570ms\tremaining: 278ms\n",
            "269:\tlearn: 0.0019370\ttotal: 572ms\tremaining: 275ms\n",
            "270:\tlearn: 0.0019370\ttotal: 573ms\tremaining: 273ms\n",
            "271:\tlearn: 0.0019370\ttotal: 575ms\tremaining: 271ms\n",
            "272:\tlearn: 0.0019370\ttotal: 577ms\tremaining: 268ms\n",
            "273:\tlearn: 0.0019370\ttotal: 578ms\tremaining: 266ms\n",
            "274:\tlearn: 0.0019370\ttotal: 580ms\tremaining: 264ms\n",
            "275:\tlearn: 0.0019370\ttotal: 582ms\tremaining: 261ms\n",
            "276:\tlearn: 0.0019370\ttotal: 583ms\tremaining: 259ms\n",
            "277:\tlearn: 0.0019370\ttotal: 585ms\tremaining: 257ms\n",
            "278:\tlearn: 0.0019370\ttotal: 587ms\tremaining: 254ms\n",
            "279:\tlearn: 0.0019370\ttotal: 588ms\tremaining: 252ms\n",
            "280:\tlearn: 0.0019370\ttotal: 590ms\tremaining: 250ms\n",
            "281:\tlearn: 0.0019370\ttotal: 592ms\tremaining: 248ms\n",
            "282:\tlearn: 0.0019370\ttotal: 593ms\tremaining: 245ms\n",
            "283:\tlearn: 0.0019370\ttotal: 596ms\tremaining: 243ms\n",
            "284:\tlearn: 0.0019370\ttotal: 598ms\tremaining: 241ms\n",
            "285:\tlearn: 0.0019370\ttotal: 600ms\tremaining: 239ms\n",
            "286:\tlearn: 0.0019370\ttotal: 603ms\tremaining: 237ms\n",
            "287:\tlearn: 0.0019370\ttotal: 604ms\tremaining: 235ms\n",
            "288:\tlearn: 0.0019370\ttotal: 606ms\tremaining: 233ms\n",
            "289:\tlearn: 0.0019370\ttotal: 608ms\tremaining: 230ms\n",
            "290:\tlearn: 0.0019370\ttotal: 609ms\tremaining: 228ms\n",
            "291:\tlearn: 0.0019370\ttotal: 611ms\tremaining: 226ms\n",
            "292:\tlearn: 0.0019370\ttotal: 612ms\tremaining: 224ms\n",
            "293:\tlearn: 0.0019370\ttotal: 614ms\tremaining: 221ms\n",
            "294:\tlearn: 0.0019370\ttotal: 616ms\tremaining: 219ms\n",
            "295:\tlearn: 0.0019370\ttotal: 619ms\tremaining: 218ms\n",
            "296:\tlearn: 0.0019370\ttotal: 622ms\tremaining: 216ms\n",
            "297:\tlearn: 0.0019370\ttotal: 624ms\tremaining: 214ms\n",
            "298:\tlearn: 0.0019370\ttotal: 626ms\tremaining: 212ms\n",
            "299:\tlearn: 0.0019370\ttotal: 628ms\tremaining: 209ms\n",
            "300:\tlearn: 0.0019370\ttotal: 630ms\tremaining: 207ms\n",
            "301:\tlearn: 0.0019370\ttotal: 632ms\tremaining: 205ms\n",
            "302:\tlearn: 0.0019370\ttotal: 633ms\tremaining: 203ms\n",
            "303:\tlearn: 0.0019370\ttotal: 635ms\tremaining: 200ms\n",
            "304:\tlearn: 0.0019370\ttotal: 637ms\tremaining: 198ms\n",
            "305:\tlearn: 0.0019370\ttotal: 638ms\tremaining: 196ms\n",
            "306:\tlearn: 0.0019370\ttotal: 640ms\tremaining: 194ms\n",
            "307:\tlearn: 0.0019370\ttotal: 642ms\tremaining: 192ms\n",
            "308:\tlearn: 0.0019370\ttotal: 644ms\tremaining: 190ms\n",
            "309:\tlearn: 0.0019370\ttotal: 647ms\tremaining: 188ms\n",
            "310:\tlearn: 0.0019370\ttotal: 649ms\tremaining: 186ms\n",
            "311:\tlearn: 0.0019370\ttotal: 651ms\tremaining: 184ms\n",
            "312:\tlearn: 0.0019370\ttotal: 655ms\tremaining: 182ms\n",
            "313:\tlearn: 0.0019370\ttotal: 657ms\tremaining: 180ms\n",
            "314:\tlearn: 0.0019370\ttotal: 658ms\tremaining: 178ms\n",
            "315:\tlearn: 0.0019370\ttotal: 660ms\tremaining: 175ms\n",
            "316:\tlearn: 0.0019370\ttotal: 662ms\tremaining: 173ms\n",
            "317:\tlearn: 0.0019370\ttotal: 663ms\tremaining: 171ms\n",
            "318:\tlearn: 0.0019370\ttotal: 665ms\tremaining: 169ms\n",
            "319:\tlearn: 0.0019370\ttotal: 666ms\tremaining: 167ms\n",
            "320:\tlearn: 0.0019370\ttotal: 668ms\tremaining: 164ms\n",
            "321:\tlearn: 0.0019370\ttotal: 669ms\tremaining: 162ms\n",
            "322:\tlearn: 0.0019370\ttotal: 671ms\tremaining: 160ms\n",
            "323:\tlearn: 0.0019370\ttotal: 673ms\tremaining: 158ms\n",
            "324:\tlearn: 0.0019370\ttotal: 674ms\tremaining: 156ms\n",
            "325:\tlearn: 0.0019370\ttotal: 676ms\tremaining: 153ms\n",
            "326:\tlearn: 0.0019370\ttotal: 678ms\tremaining: 151ms\n",
            "327:\tlearn: 0.0019370\ttotal: 679ms\tremaining: 149ms\n",
            "328:\tlearn: 0.0019370\ttotal: 681ms\tremaining: 147ms\n",
            "329:\tlearn: 0.0019370\ttotal: 683ms\tremaining: 145ms\n",
            "330:\tlearn: 0.0019370\ttotal: 685ms\tremaining: 143ms\n",
            "331:\tlearn: 0.0019370\ttotal: 687ms\tremaining: 141ms\n",
            "332:\tlearn: 0.0019370\ttotal: 688ms\tremaining: 138ms\n",
            "333:\tlearn: 0.0019370\ttotal: 690ms\tremaining: 136ms\n",
            "334:\tlearn: 0.0019370\ttotal: 691ms\tremaining: 134ms\n",
            "335:\tlearn: 0.0019370\ttotal: 693ms\tremaining: 132ms\n",
            "336:\tlearn: 0.0019370\ttotal: 695ms\tremaining: 130ms\n",
            "337:\tlearn: 0.0019370\ttotal: 697ms\tremaining: 128ms\n",
            "338:\tlearn: 0.0019370\ttotal: 698ms\tremaining: 126ms\n",
            "339:\tlearn: 0.0019370\ttotal: 700ms\tremaining: 124ms\n",
            "340:\tlearn: 0.0019370\ttotal: 702ms\tremaining: 121ms\n",
            "341:\tlearn: 0.0019370\ttotal: 703ms\tremaining: 119ms\n",
            "342:\tlearn: 0.0019370\ttotal: 705ms\tremaining: 117ms\n",
            "343:\tlearn: 0.0019370\ttotal: 707ms\tremaining: 115ms\n",
            "344:\tlearn: 0.0019370\ttotal: 709ms\tremaining: 113ms\n",
            "345:\tlearn: 0.0019370\ttotal: 710ms\tremaining: 111ms\n",
            "346:\tlearn: 0.0019370\ttotal: 712ms\tremaining: 109ms\n",
            "347:\tlearn: 0.0019370\ttotal: 714ms\tremaining: 107ms\n",
            "348:\tlearn: 0.0019370\ttotal: 715ms\tremaining: 105ms\n",
            "349:\tlearn: 0.0019370\ttotal: 717ms\tremaining: 102ms\n",
            "350:\tlearn: 0.0019370\ttotal: 719ms\tremaining: 100ms\n",
            "351:\tlearn: 0.0019370\ttotal: 720ms\tremaining: 98.2ms\n",
            "352:\tlearn: 0.0019370\ttotal: 722ms\tremaining: 96.2ms\n",
            "353:\tlearn: 0.0019370\ttotal: 724ms\tremaining: 94.1ms\n",
            "354:\tlearn: 0.0019370\ttotal: 726ms\tremaining: 92ms\n",
            "355:\tlearn: 0.0019370\ttotal: 727ms\tremaining: 89.9ms\n",
            "356:\tlearn: 0.0019370\ttotal: 729ms\tremaining: 87.8ms\n",
            "357:\tlearn: 0.0019370\ttotal: 730ms\tremaining: 85.7ms\n",
            "358:\tlearn: 0.0019370\ttotal: 732ms\tremaining: 83.6ms\n",
            "359:\tlearn: 0.0019370\ttotal: 734ms\tremaining: 81.5ms\n",
            "360:\tlearn: 0.0019370\ttotal: 735ms\tremaining: 79.5ms\n",
            "361:\tlearn: 0.0019370\ttotal: 737ms\tremaining: 77.4ms\n",
            "362:\tlearn: 0.0019370\ttotal: 739ms\tremaining: 75.3ms\n",
            "363:\tlearn: 0.0019370\ttotal: 740ms\tremaining: 73.2ms\n",
            "364:\tlearn: 0.0019370\ttotal: 742ms\tremaining: 71.2ms\n",
            "365:\tlearn: 0.0019370\ttotal: 744ms\tremaining: 69.1ms\n",
            "366:\tlearn: 0.0019370\ttotal: 746ms\tremaining: 67ms\n",
            "367:\tlearn: 0.0019370\ttotal: 747ms\tremaining: 65ms\n",
            "368:\tlearn: 0.0019370\ttotal: 749ms\tremaining: 62.9ms\n",
            "369:\tlearn: 0.0019370\ttotal: 751ms\tremaining: 60.9ms\n",
            "370:\tlearn: 0.0019370\ttotal: 753ms\tremaining: 58.8ms\n",
            "371:\tlearn: 0.0019370\ttotal: 754ms\tremaining: 56.8ms\n",
            "372:\tlearn: 0.0019370\ttotal: 756ms\tremaining: 54.7ms\n",
            "373:\tlearn: 0.0019370\ttotal: 757ms\tremaining: 52.6ms\n",
            "374:\tlearn: 0.0019370\ttotal: 759ms\tremaining: 50.6ms\n",
            "375:\tlearn: 0.0019370\ttotal: 760ms\tremaining: 48.5ms\n",
            "376:\tlearn: 0.0019370\ttotal: 762ms\tremaining: 46.5ms\n",
            "377:\tlearn: 0.0019370\ttotal: 764ms\tremaining: 44.4ms\n",
            "378:\tlearn: 0.0019370\ttotal: 765ms\tremaining: 42.4ms\n",
            "379:\tlearn: 0.0019370\ttotal: 767ms\tremaining: 40.4ms\n",
            "380:\tlearn: 0.0019370\ttotal: 769ms\tremaining: 38.3ms\n",
            "381:\tlearn: 0.0019370\ttotal: 770ms\tremaining: 36.3ms\n",
            "382:\tlearn: 0.0019370\ttotal: 772ms\tremaining: 34.3ms\n",
            "383:\tlearn: 0.0019370\ttotal: 774ms\tremaining: 32.2ms\n",
            "384:\tlearn: 0.0019370\ttotal: 776ms\tremaining: 30.2ms\n",
            "385:\tlearn: 0.0019370\ttotal: 777ms\tremaining: 28.2ms\n",
            "386:\tlearn: 0.0019370\ttotal: 779ms\tremaining: 26.2ms\n",
            "387:\tlearn: 0.0019370\ttotal: 781ms\tremaining: 24.1ms\n",
            "388:\tlearn: 0.0019370\ttotal: 783ms\tremaining: 22.1ms\n",
            "389:\tlearn: 0.0019370\ttotal: 784ms\tremaining: 20.1ms\n",
            "390:\tlearn: 0.0019370\ttotal: 786ms\tremaining: 18.1ms\n",
            "391:\tlearn: 0.0019370\ttotal: 788ms\tremaining: 16.1ms\n",
            "392:\tlearn: 0.0019370\ttotal: 789ms\tremaining: 14.1ms\n",
            "393:\tlearn: 0.0019370\ttotal: 791ms\tremaining: 12ms\n",
            "394:\tlearn: 0.0019370\ttotal: 793ms\tremaining: 10ms\n",
            "395:\tlearn: 0.0019370\ttotal: 794ms\tremaining: 8.02ms\n",
            "396:\tlearn: 0.0019370\ttotal: 796ms\tremaining: 6.01ms\n",
            "397:\tlearn: 0.0019370\ttotal: 798ms\tremaining: 4.01ms\n",
            "398:\tlearn: 0.0019370\ttotal: 799ms\tremaining: 2ms\n",
            "399:\tlearn: 0.0019370\ttotal: 801ms\tremaining: 0us\n",
            "1.0\n"
          ]
        }
      ]
    },
    {
      "cell_type": "markdown",
      "source": [
        "수고하셨습니다!"
      ],
      "metadata": {
        "id": "HsvRSI0Z3G06"
      },
      "id": "HsvRSI0Z3G06"
    }
  ],
  "metadata": {
    "kernelspec": {
      "display_name": "Python 3",
      "language": "python",
      "name": "python3"
    },
    "language_info": {
      "codemirror_mode": {
        "name": "ipython",
        "version": 3
      },
      "file_extension": ".py",
      "mimetype": "text/x-python",
      "name": "python",
      "nbconvert_exporter": "python",
      "pygments_lexer": "ipython3",
      "version": "3.8.8"
    },
    "colab": {
      "provenance": [],
      "collapsed_sections": []
    }
  },
  "nbformat": 4,
  "nbformat_minor": 5
}