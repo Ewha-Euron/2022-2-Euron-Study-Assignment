{
 "cells": [
  {
   "cell_type": "markdown",
   "id": "7281eff9",
   "metadata": {
    "id": "7281eff9"
   },
   "source": [
    "# week 7"
   ]
  },
  {
   "cell_type": "markdown",
   "id": "d778db1c",
   "metadata": {
    "id": "d778db1c"
   },
   "source": [
    "### 1.1 다음 코드를 실행해서 데이터 프레임을 생성하세요"
   ]
  },
  {
   "cell_type": "code",
   "execution_count": 1,
   "id": "6b76a9ce",
   "metadata": {
    "id": "6b76a9ce"
   },
   "outputs": [],
   "source": [
    "import pandas as pd\n",
    "import seaborn as sns\n",
    "\n",
    "df = pd.DataFrame(columns=['calory', 'breakfast', 'lunch', 'dinner', 'exercise', 'body_shape'])\n",
    "\n",
    "df.loc[0] = [1200, 1, 0, 0, 2, 'Skinny']\n",
    "df.loc[1] = [2800, 1, 1, 1, 1, 'Normal']\n",
    "df.loc[2] = [3500, 2, 2, 1, 0, 'Fat']\n",
    "df.loc[3] = [1400, 0, 1, 0, 3, 'Skinny']\n",
    "df.loc[4] = [5000, 2, 2, 2, 0, 'Fat']\n",
    "df.loc[5] = [1300, 0, 0, 1, 2, 'Skinny']\n",
    "df.loc[6] = [3000, 1, 0, 1, 1, 'Normal']\n",
    "df.loc[7] = [4000, 2, 2, 2, 0, 'Fat']\n",
    "df.loc[8] = [2600, 0, 2, 0, 0, 'Normal']\n",
    "df.loc[9] = [3000, 1, 2, 1, 1, 'Fat']"
   ]
  },
  {
   "cell_type": "markdown",
   "id": "4cd0eefd",
   "metadata": {
    "id": "4cd0eefd"
   },
   "source": [
    "### 1.2 데이터 프레임을 확인하고, X= calory, breakfast, lunch, dinner, exercise / y=body shape로 변수 분리하세요"
   ]
  },
  {
   "cell_type": "code",
   "execution_count": 2,
   "id": "VdSz3rI6zWVS",
   "metadata": {
    "id": "VdSz3rI6zWVS"
   },
   "outputs": [
    {
     "name": "stdout",
     "output_type": "stream",
     "text": [
      "<class 'pandas.core.frame.DataFrame'>\n",
      "Int64Index: 10 entries, 0 to 9\n",
      "Data columns (total 6 columns):\n",
      " #   Column      Non-Null Count  Dtype \n",
      "---  ------      --------------  ----- \n",
      " 0   calory      10 non-null     int64 \n",
      " 1   breakfast   10 non-null     int64 \n",
      " 2   lunch       10 non-null     int64 \n",
      " 3   dinner      10 non-null     int64 \n",
      " 4   exercise    10 non-null     int64 \n",
      " 5   body_shape  10 non-null     object\n",
      "dtypes: int64(5), object(1)\n",
      "memory usage: 560.0+ bytes\n"
     ]
    }
   ],
   "source": [
    "df.info()\n",
    "X = df.drop('body_shape', axis = 1)\n",
    "y = df['body_shape']"
   ]
  },
  {
   "cell_type": "markdown",
   "id": "696a760e",
   "metadata": {
    "id": "696a760e"
   },
   "source": [
    "### 1.3 X 데이터 값의 범위가 균일하지 않으므로 standard scaler를 이용해서 리스케일 해주세요"
   ]
  },
  {
   "cell_type": "code",
   "execution_count": 3,
   "id": "8e8b94f2",
   "metadata": {
    "id": "8e8b94f2"
   },
   "outputs": [],
   "source": [
    "from sklearn.preprocessing import StandardScaler\n",
    "x_std = StandardScaler().fit_transform(X)"
   ]
  },
  {
   "cell_type": "markdown",
   "id": "8b16d09b",
   "metadata": {
    "id": "8b16d09b"
   },
   "source": [
    "### 1.4 사이킷런 PCA 클래스를 이용해서 5차원 데이터를 1차원으로 변환하고 shape를 확인해주세요"
   ]
  },
  {
   "cell_type": "code",
   "execution_count": 4,
   "id": "c422de02",
   "metadata": {
    "id": "c422de02"
   },
   "outputs": [
    {
     "name": "stdout",
     "output_type": "stream",
     "text": [
      "(10, 1)\n"
     ]
    }
   ],
   "source": [
    "from sklearn import decomposition\n",
    "from sklearn.decomposition import PCA\n",
    "\n",
    "pca = PCA(n_components = 1)\n",
    "pca.fit(x_std)\n",
    "x_pca = pca.transform(x_std)\n",
    "print(x_pca.shape)"
   ]
  },
  {
   "cell_type": "markdown",
   "id": "629a478a",
   "metadata": {
    "id": "629a478a"
   },
   "source": [
    "### 1.5 explained_variance_ratio_ 변수를 이용해서 보존된 변동성 비율을 확인해주세요"
   ]
  },
  {
   "cell_type": "code",
   "execution_count": 5,
   "id": "gU5clV1788Hc",
   "metadata": {
    "id": "gU5clV1788Hc"
   },
   "outputs": [
    {
     "name": "stdout",
     "output_type": "stream",
     "text": [
      "[0.73183217]\n"
     ]
    }
   ],
   "source": [
    "print(pca.explained_variance_ratio_)"
   ]
  },
  {
   "cell_type": "markdown",
   "id": "WJ8eeBj51v2X",
   "metadata": {
    "id": "WJ8eeBj51v2X"
   },
   "source": [
    "### 1.6 적절한 차원의 수 선택하기 - 원본 데이터셋의 분산을 95%로 유지하는데 필요한 최소한의 PC 개수 즉 차원 수 d를 구하세요"
   ]
  },
  {
   "cell_type": "code",
   "execution_count": 6,
   "id": "WjTMV1L-88vE",
   "metadata": {
    "id": "WjTMV1L-88vE"
   },
   "outputs": [
    {
     "name": "stdout",
     "output_type": "stream",
     "text": [
      "4\n"
     ]
    }
   ],
   "source": [
    "import numpy as np\n",
    "\n",
    "pca = PCA()\n",
    "pca.fit(x_std)\n",
    "cumsum = np.cumsum(pca.explained_variance_ratio_)\n",
    "d = np.argmax(cumsum >= 0.95) + 1\n",
    "print(d)"
   ]
  },
  {
   "cell_type": "markdown",
   "id": "Ij6PTebe2MjN",
   "metadata": {
    "id": "Ij6PTebe2MjN"
   },
   "source": [
    "### 1.7 n_components를 설정하여 PCA를 다시 실행하는 인자로 보존할 분산의 비율을 넣어주세요. (분산의 비율 : 0.95) 이를 X_reduced에 저장하세요 그 후 shape을 통해서 몇차원으로 압축되었는지 확인하세요"
   ]
  },
  {
   "cell_type": "code",
   "execution_count": 7,
   "id": "aIByk3Mm89al",
   "metadata": {
    "id": "aIByk3Mm89al"
   },
   "outputs": [],
   "source": [
    "pca = PCA(n_components = 0.95)\n",
    "X_reduced = pca.fit_transform(x_std)"
   ]
  },
  {
   "cell_type": "code",
   "execution_count": 8,
   "id": "88b3aca6",
   "metadata": {},
   "outputs": [
    {
     "name": "stdout",
     "output_type": "stream",
     "text": [
      "(10, 4)\n"
     ]
    }
   ],
   "source": [
    "print(X_reduced.shape)"
   ]
  },
  {
   "cell_type": "markdown",
   "id": "oAts_8pp3KUd",
   "metadata": {
    "id": "oAts_8pp3KUd"
   },
   "source": [
    "### 1.8 압축된 데이터셋에 PCA 투영의 변환을 반대로 적용하여 다시 원래의 차원으로 되돌리세요 그 후 shape을 통해서 원래의 차원으로 잘 돌아왔는지 확인하세요"
   ]
  },
  {
   "cell_type": "code",
   "execution_count": 9,
   "id": "CKn000_m89xt",
   "metadata": {
    "id": "CKn000_m89xt"
   },
   "outputs": [
    {
     "name": "stdout",
     "output_type": "stream",
     "text": [
      "(10, 5)\n"
     ]
    }
   ],
   "source": [
    "X_recovered = pca.inverse_transform(X_reduced)\n",
    "print(X_recovered.shape)"
   ]
  },
  {
   "cell_type": "markdown",
   "id": "OR3fW2r94cso",
   "metadata": {
    "id": "OR3fW2r94cso"
   },
   "source": [
    "### 1.9 랜덤 PCA를 이용하여 데이터를 2차원으로 압축하세요. (random_state=42)\n",
    "\n",
    "\n"
   ]
  },
  {
   "cell_type": "code",
   "execution_count": 10,
   "id": "khc-QWCg8-bV",
   "metadata": {
    "id": "khc-QWCg8-bV"
   },
   "outputs": [],
   "source": [
    "rnd_pca = PCA(n_components = 2, svd_solver = \"randomized\", random_state = 42)\n",
    "X_reduced = rnd_pca.fit_transform(x_std)"
   ]
  },
  {
   "cell_type": "code",
   "execution_count": 11,
   "id": "c8c613f0",
   "metadata": {},
   "outputs": [
    {
     "name": "stdout",
     "output_type": "stream",
     "text": [
      "(10, 2)\n"
     ]
    }
   ],
   "source": [
    "print(X_reduced.shape)"
   ]
  },
  {
   "cell_type": "markdown",
   "id": "I6jPdC0b4v5y",
   "metadata": {
    "id": "I6jPdC0b4v5y"
   },
   "source": [
    "### 1.10 점진적 PCA를 이용하여 데이터를 4차원으로 압축하세요. (배치사이즈:2) 그 후 shape을 통해 확인하세요\n",
    "\n",
    "\n"
   ]
  },
  {
   "cell_type": "code",
   "execution_count": 12,
   "id": "HugYveK081n5",
   "metadata": {
    "id": "HugYveK081n5"
   },
   "outputs": [],
   "source": [
    "from sklearn.decomposition import IncrementalPCA"
   ]
  },
  {
   "cell_type": "code",
   "execution_count": 13,
   "id": "N7hKhOLz8_Ad",
   "metadata": {
    "id": "N7hKhOLz8_Ad"
   },
   "outputs": [
    {
     "name": "stdout",
     "output_type": "stream",
     "text": [
      ". . (10, 4)\n"
     ]
    }
   ],
   "source": [
    "n_batches = 2\n",
    "inc_pca = IncrementalPCA(n_components = 4)\n",
    "for X_batch in np.array_split(x_std, n_batches):\n",
    "    print(\".\", end = \" \")\n",
    "    inc_pca.partial_fit(X_batch)\n",
    "\n",
    "X_reduced = inc_pca.transform(x_std)\n",
    "print(X_reduced.shape)"
   ]
  },
  {
   "cell_type": "markdown",
   "id": "o8rcgS0C5aLZ",
   "metadata": {
    "id": "o8rcgS0C5aLZ"
   },
   "source": [
    "### 1.11 커널 PCA를 이용하여 데이터를 2차원으로 압축하세요. (kernel=\"rbf\",gamma=0.4) 그 후 shape을 통해 확인하세요\n"
   ]
  },
  {
   "cell_type": "code",
   "execution_count": 14,
   "id": "rTU0f8ZL8zUY",
   "metadata": {
    "id": "rTU0f8ZL8zUY"
   },
   "outputs": [],
   "source": [
    "from sklearn.decomposition import KernelPCA"
   ]
  },
  {
   "cell_type": "code",
   "execution_count": 15,
   "id": "u1w3xZmz8_lW",
   "metadata": {
    "id": "u1w3xZmz8_lW"
   },
   "outputs": [],
   "source": [
    "rbf_pca = KernelPCA(n_components = 2, kernel = \"rbf\", gamma = 0.4)\n",
    "X_reduced = rbf_pca.fit_transform(x_std)"
   ]
  },
  {
   "cell_type": "code",
   "execution_count": 16,
   "id": "dc003132",
   "metadata": {},
   "outputs": [
    {
     "name": "stdout",
     "output_type": "stream",
     "text": [
      "(10, 2)\n"
     ]
    }
   ],
   "source": [
    "print(X_reduced.shape)"
   ]
  },
  {
   "cell_type": "markdown",
   "id": "L2O_3R1C52HE",
   "metadata": {
    "id": "L2O_3R1C52HE"
   },
   "source": [
    "### 1.12 커널 PCA의 하이퍼파라미터를 선택하세요 kPCA를 이용하여 2차원으로 축소하고 Logistic Regression으로 Classification을 진행하세요. 그 다음 가장 높은 accuracy를 얻기 위해 GridSearchCV를사용하여 kPCA에 가장 좋은 커널과 gamma 파라미터를 구하세요.\n",
    "이때, kpca__kernel은 [\"linear\", \"poly\", \"rbf\", \"sigmoid\", \"cosine\"], kpca__gamma\"은 np.linspace(0.03, 0.05, 1,2,10)\n"
   ]
  },
  {
   "cell_type": "code",
   "execution_count": 17,
   "id": "mV-ouBGm8wOm",
   "metadata": {
    "id": "mV-ouBGm8wOm"
   },
   "outputs": [],
   "source": [
    "from sklearn.model_selection import GridSearchCV\n",
    "from sklearn.linear_model import LogisticRegression\n",
    "from sklearn.pipeline import Pipeline\n",
    "import warnings\n",
    "warnings.filterwarnings(\"ignore\", category=RuntimeWarning)"
   ]
  },
  {
   "cell_type": "code",
   "execution_count": 18,
   "id": "F1yz7Qxs9AIc",
   "metadata": {
    "id": "F1yz7Qxs9AIc"
   },
   "outputs": [
    {
     "name": "stderr",
     "output_type": "stream",
     "text": [
      "C:\\Users\\yerim\\anaconda3\\lib\\site-packages\\sklearn\\model_selection\\_search.py:969: UserWarning: One or more of the test scores are non-finite: [0.77777778 0.69444444 0.69444444 0.47222222 0.77777778 0.77777778\n",
      "        nan        nan        nan 0.77777778]\n",
      "  warnings.warn(\n"
     ]
    },
    {
     "data": {
      "text/plain": [
       "GridSearchCV(cv=3,\n",
       "             estimator=Pipeline(steps=[('kpca', KernelPCA(n_components=2)),\n",
       "                                       ('log_reg', LogisticRegression())]),\n",
       "             param_grid=[{'kpca__gamma': (array([0.03]), nan),\n",
       "                          'kpca__kernel': ['linear', 'poly', 'rbf', 'sigmoid',\n",
       "                                           'cosine']}])"
      ]
     },
     "execution_count": 18,
     "metadata": {},
     "output_type": "execute_result"
    }
   ],
   "source": [
    "clf = Pipeline([\n",
    "    (\"kpca\", KernelPCA(n_components = 2)),\n",
    "    (\"log_reg\", LogisticRegression(solver=\"lbfgs\"))\n",
    "])\n",
    "\n",
    "param_grid = [{\n",
    "    \"kpca__gamma\": np.linspace(0.03, 0.05, 1, 2, 10),\n",
    "    \"kpca__kernel\": [\"linear\", \"poly\", \"rbf\", \"sigmoid\", \"cosine\"]\n",
    "}]\n",
    "\n",
    "grid_search = GridSearchCV(clf, param_grid, cv = 3)\n",
    "grid_search.fit(x_std, y)"
   ]
  },
  {
   "cell_type": "markdown",
   "id": "9ca50c98",
   "metadata": {
    "id": "9ca50c98"
   },
   "source": [
    "### 2.1 다음 iris 데이터 세트를 출력해주세요"
   ]
  },
  {
   "cell_type": "code",
   "execution_count": 19,
   "id": "510d3f8f",
   "metadata": {
    "id": "510d3f8f"
   },
   "outputs": [],
   "source": [
    "from sklearn.datasets import load_iris\n",
    "iris=load_iris()\n",
    "columns=['sepal_length', 'sepal_width', 'petal_length', 'petal_width']\n",
    "irisDF=pd.DataFrame(iris.data, columns=columns)\n",
    "irisDF['target']=iris.target"
   ]
  },
  {
   "cell_type": "markdown",
   "id": "a8897dbf",
   "metadata": {
    "id": "a8897dbf"
   },
   "source": [
    "### 2.2 X 데이터 값을 standard scaler를 이용해서 표준화 해주세요"
   ]
  },
  {
   "cell_type": "code",
   "execution_count": 20,
   "id": "d346be6d",
   "metadata": {
    "id": "d346be6d"
   },
   "outputs": [],
   "source": [
    "from sklearn.preprocessing import StandardScaler\n",
    "X = irisDF.drop('target', axis = 1)\n",
    "y = irisDF['target']\n",
    "x_std = StandardScaler().fit_transform(X)"
   ]
  },
  {
   "cell_type": "markdown",
   "id": "9524087e",
   "metadata": {
    "id": "9524087e"
   },
   "source": [
    "### 2.3 PCA를 이용해 4차원 데이터를 2차원으로 변환해주세요"
   ]
  },
  {
   "cell_type": "code",
   "execution_count": 21,
   "id": "201035c6",
   "metadata": {
    "id": "201035c6"
   },
   "outputs": [
    {
     "name": "stdout",
     "output_type": "stream",
     "text": [
      "(150, 2)\n"
     ]
    }
   ],
   "source": [
    "from sklearn import decomposition\n",
    "from sklearn.decomposition import PCA\n",
    "\n",
    "pca = PCA(n_components = 2)\n",
    "pca.fit(x_std)\n",
    "x_pca = pca.transform(x_std)\n",
    "print(x_pca.shape)"
   ]
  },
  {
   "cell_type": "markdown",
   "id": "108a532b",
   "metadata": {
    "id": "108a532b"
   },
   "source": [
    "### 2.4 PCA 변환된 데이터의 칼럼 명을 pca_component1, pca_component2로 명명해서 새로운 dataframe을 만들어주세요"
   ]
  },
  {
   "cell_type": "code",
   "execution_count": 22,
   "id": "RRrZ5qYN9Ch0",
   "metadata": {
    "id": "RRrZ5qYN9Ch0"
   },
   "outputs": [
    {
     "data": {
      "text/html": [
       "<div>\n",
       "<style scoped>\n",
       "    .dataframe tbody tr th:only-of-type {\n",
       "        vertical-align: middle;\n",
       "    }\n",
       "\n",
       "    .dataframe tbody tr th {\n",
       "        vertical-align: top;\n",
       "    }\n",
       "\n",
       "    .dataframe thead th {\n",
       "        text-align: right;\n",
       "    }\n",
       "</style>\n",
       "<table border=\"1\" class=\"dataframe\">\n",
       "  <thead>\n",
       "    <tr style=\"text-align: right;\">\n",
       "      <th></th>\n",
       "      <th>pca_component1</th>\n",
       "      <th>pca_component2</th>\n",
       "      <th>target</th>\n",
       "    </tr>\n",
       "  </thead>\n",
       "  <tbody>\n",
       "    <tr>\n",
       "      <th>0</th>\n",
       "      <td>-2.264703</td>\n",
       "      <td>0.480027</td>\n",
       "      <td>0</td>\n",
       "    </tr>\n",
       "    <tr>\n",
       "      <th>1</th>\n",
       "      <td>-2.080961</td>\n",
       "      <td>-0.674134</td>\n",
       "      <td>0</td>\n",
       "    </tr>\n",
       "    <tr>\n",
       "      <th>2</th>\n",
       "      <td>-2.364229</td>\n",
       "      <td>-0.341908</td>\n",
       "      <td>0</td>\n",
       "    </tr>\n",
       "    <tr>\n",
       "      <th>3</th>\n",
       "      <td>-2.299384</td>\n",
       "      <td>-0.597395</td>\n",
       "      <td>0</td>\n",
       "    </tr>\n",
       "    <tr>\n",
       "      <th>4</th>\n",
       "      <td>-2.389842</td>\n",
       "      <td>0.646835</td>\n",
       "      <td>0</td>\n",
       "    </tr>\n",
       "  </tbody>\n",
       "</table>\n",
       "</div>"
      ],
      "text/plain": [
       "   pca_component1  pca_component2  target\n",
       "0       -2.264703        0.480027       0\n",
       "1       -2.080961       -0.674134       0\n",
       "2       -2.364229       -0.341908       0\n",
       "3       -2.299384       -0.597395       0\n",
       "4       -2.389842        0.646835       0"
      ]
     },
     "execution_count": 22,
     "metadata": {},
     "output_type": "execute_result"
    }
   ],
   "source": [
    "pca_columns = ['pca_component1', 'pca_component2']\n",
    "irisDF_pca = pd.DataFrame(x_pca, columns = pca_columns)\n",
    "irisDF_pca['target'] = y\n",
    "irisDF_pca.head()"
   ]
  },
  {
   "cell_type": "markdown",
   "id": "d029f86d",
   "metadata": {
    "id": "d029f86d"
   },
   "source": [
    "### 2.5 원본 데이터와 PCA 데이터를 각각 XGBoost로 학습시키고 (random_state=15), cross_val_score()로 5개의 교차 검증 세트로 정확도를 비교해주세요"
   ]
  },
  {
   "cell_type": "code",
   "execution_count": 25,
   "id": "HEU8HOY29C_k",
   "metadata": {
    "id": "HEU8HOY29C_k"
   },
   "outputs": [
    {
     "name": "stderr",
     "output_type": "stream",
     "text": [
      "C:\\Users\\yerim\\anaconda3\\lib\\site-packages\\xgboost\\sklearn.py:1224: UserWarning: The use of label encoder in XGBClassifier is deprecated and will be removed in a future release. To remove this warning, do the following: 1) Pass option use_label_encoder=False when constructing XGBClassifier object; and 2) Encode your labels (y) as integers starting with 0, i.e. 0, 1, 2, ..., [num_class - 1].\n",
      "  warnings.warn(label_encoder_deprecation_msg, UserWarning)\n",
      "C:\\Users\\yerim\\anaconda3\\lib\\site-packages\\xgboost\\sklearn.py:1224: UserWarning: The use of label encoder in XGBClassifier is deprecated and will be removed in a future release. To remove this warning, do the following: 1) Pass option use_label_encoder=False when constructing XGBClassifier object; and 2) Encode your labels (y) as integers starting with 0, i.e. 0, 1, 2, ..., [num_class - 1].\n",
      "  warnings.warn(label_encoder_deprecation_msg, UserWarning)\n",
      "C:\\Users\\yerim\\anaconda3\\lib\\site-packages\\xgboost\\sklearn.py:1224: UserWarning: The use of label encoder in XGBClassifier is deprecated and will be removed in a future release. To remove this warning, do the following: 1) Pass option use_label_encoder=False when constructing XGBClassifier object; and 2) Encode your labels (y) as integers starting with 0, i.e. 0, 1, 2, ..., [num_class - 1].\n",
      "  warnings.warn(label_encoder_deprecation_msg, UserWarning)\n",
      "C:\\Users\\yerim\\anaconda3\\lib\\site-packages\\xgboost\\sklearn.py:1224: UserWarning: The use of label encoder in XGBClassifier is deprecated and will be removed in a future release. To remove this warning, do the following: 1) Pass option use_label_encoder=False when constructing XGBClassifier object; and 2) Encode your labels (y) as integers starting with 0, i.e. 0, 1, 2, ..., [num_class - 1].\n",
      "  warnings.warn(label_encoder_deprecation_msg, UserWarning)\n",
      "C:\\Users\\yerim\\anaconda3\\lib\\site-packages\\xgboost\\data.py:250: FutureWarning: pandas.Int64Index is deprecated and will be removed from pandas in a future version. Use pandas.Index with the appropriate dtype instead.\n",
      "  elif isinstance(data.columns, (pd.Int64Index, pd.RangeIndex)):\n"
     ]
    },
    {
     "name": "stdout",
     "output_type": "stream",
     "text": [
      "[23:30:02] WARNING: ..\\src\\learner.cc:1115: Starting in XGBoost 1.3.0, the default evaluation metric used with the objective 'multi:softprob' was changed from 'merror' to 'mlogloss'. Explicitly set eval_metric if you'd like to restore the old behavior.\n",
      "[23:30:02] WARNING: ..\\src\\learner.cc:1115: Starting in XGBoost 1.3.0, the default evaluation metric used with the objective 'multi:softprob' was changed from 'merror' to 'mlogloss'. Explicitly set eval_metric if you'd like to restore the old behavior.\n",
      "[23:30:02] WARNING: ..\\src\\learner.cc:1115: Starting in XGBoost 1.3.0, the default evaluation metric used with the objective 'multi:softprob' was changed from 'merror' to 'mlogloss'. Explicitly set eval_metric if you'd like to restore the old behavior.\n",
      "원본 데이터 교차 검증 개별 정확도:  [0.98 0.94 0.96]\n",
      "원본 데이터 평균 정확도:  0.96\n",
      "[23:30:02] WARNING: ..\\src\\learner.cc:1115: Starting in XGBoost 1.3.0, the default evaluation metric used with the objective 'multi:softprob' was changed from 'merror' to 'mlogloss'. Explicitly set eval_metric if you'd like to restore the old behavior.\n",
      "[23:30:02] WARNING: ..\\src\\learner.cc:1115: Starting in XGBoost 1.3.0, the default evaluation metric used with the objective 'multi:softprob' was changed from 'merror' to 'mlogloss'. Explicitly set eval_metric if you'd like to restore the old behavior.\n",
      "[23:30:02] WARNING: ..\\src\\learner.cc:1115: Starting in XGBoost 1.3.0, the default evaluation metric used with the objective 'multi:softprob' was changed from 'merror' to 'mlogloss'. Explicitly set eval_metric if you'd like to restore the old behavior.\n",
      "PCA 변환 데이터 교차 검증 개별 정확도:  [0.92 0.88 0.9 ]\n",
      "PCA 변환 데이터 평균 정확도:  0.9\n"
     ]
    },
    {
     "name": "stderr",
     "output_type": "stream",
     "text": [
      "C:\\Users\\yerim\\anaconda3\\lib\\site-packages\\xgboost\\sklearn.py:1224: UserWarning: The use of label encoder in XGBClassifier is deprecated and will be removed in a future release. To remove this warning, do the following: 1) Pass option use_label_encoder=False when constructing XGBClassifier object; and 2) Encode your labels (y) as integers starting with 0, i.e. 0, 1, 2, ..., [num_class - 1].\n",
      "  warnings.warn(label_encoder_deprecation_msg, UserWarning)\n",
      "C:\\Users\\yerim\\anaconda3\\lib\\site-packages\\xgboost\\data.py:250: FutureWarning: pandas.Int64Index is deprecated and will be removed from pandas in a future version. Use pandas.Index with the appropriate dtype instead.\n",
      "  elif isinstance(data.columns, (pd.Int64Index, pd.RangeIndex)):\n",
      "C:\\Users\\yerim\\anaconda3\\lib\\site-packages\\xgboost\\sklearn.py:1224: UserWarning: The use of label encoder in XGBClassifier is deprecated and will be removed in a future release. To remove this warning, do the following: 1) Pass option use_label_encoder=False when constructing XGBClassifier object; and 2) Encode your labels (y) as integers starting with 0, i.e. 0, 1, 2, ..., [num_class - 1].\n",
      "  warnings.warn(label_encoder_deprecation_msg, UserWarning)\n",
      "C:\\Users\\yerim\\anaconda3\\lib\\site-packages\\xgboost\\data.py:250: FutureWarning: pandas.Int64Index is deprecated and will be removed from pandas in a future version. Use pandas.Index with the appropriate dtype instead.\n",
      "  elif isinstance(data.columns, (pd.Int64Index, pd.RangeIndex)):\n"
     ]
    }
   ],
   "source": [
    "from xgboost import XGBClassifier\n",
    "from sklearn.model_selection import cross_val_score\n",
    "\n",
    "xgb = XGBClassifier(random_state = 15)\n",
    "scores = cross_val_score(xgb, x_std, y, scoring = \"accuracy\", cv = 3)\n",
    "print('원본 데이터 교차 검증 개별 정확도: ', scores)\n",
    "print('원본 데이터 평균 정확도: ', np.mean(scores))\n",
    "\n",
    "pca_X = irisDF_pca[['pca_component1', 'pca_component2']]\n",
    "scores_pca = cross_val_score(xgb, pca_X, y, scoring = 'accuracy', cv = 3)\n",
    "print('PCA 변환 데이터 교차 검증 개별 정확도: ', scores_pca)\n",
    "print('PCA 변환 데이터 평균 정확도: ', np.mean(scores_pca))"
   ]
  },
  {
   "cell_type": "markdown",
   "id": "a0ca1f03",
   "metadata": {
    "id": "a0ca1f03"
   },
   "source": [
    "### 3.1 기본적인 LDA 구현을 위한 라이브러리를 import 해주세요. 와인 데이터도 로드해주세요."
   ]
  },
  {
   "cell_type": "code",
   "execution_count": 26,
   "id": "bosBIvpfpig5",
   "metadata": {
    "id": "bosBIvpfpig5"
   },
   "outputs": [],
   "source": [
    "from sklearn.datasets import load_wine\n",
    "from sklearn.discriminant_analysis import LinearDiscriminantAnalysis"
   ]
  },
  {
   "cell_type": "markdown",
   "id": "WX1DQMxppmbo",
   "metadata": {
    "id": "WX1DQMxppmbo"
   },
   "source": [
    "### 3.2 X에는 features를 y에는 target을 저장해주세요."
   ]
  },
  {
   "cell_type": "code",
   "execution_count": 28,
   "id": "1QKARbHUpomE",
   "metadata": {
    "id": "1QKARbHUpomE"
   },
   "outputs": [],
   "source": [
    "wine = load_wine()\n",
    "wineDF = pd.DataFrame(wine.data, columns = wine.feature_names)\n",
    "wineDF['target'] = wine.target\n",
    "X = wineDF.drop('target', axis = 1)\n",
    "y = wineDF['target']"
   ]
  },
  {
   "cell_type": "markdown",
   "id": "PDJJUtDMpq-O",
   "metadata": {
    "id": "PDJJUtDMpq-O"
   },
   "source": [
    "### 3.3 X의 형태를 확인해주세요. (178,13)이 나와야합니다."
   ]
  },
  {
   "cell_type": "code",
   "execution_count": 29,
   "id": "GrByD12Upt91",
   "metadata": {
    "id": "GrByD12Upt91"
   },
   "outputs": [
    {
     "name": "stdout",
     "output_type": "stream",
     "text": [
      "(178, 13)\n"
     ]
    }
   ],
   "source": [
    "print(X.shape)"
   ]
  },
  {
   "cell_type": "markdown",
   "id": "TyI4z3TLputn",
   "metadata": {
    "id": "TyI4z3TLputn"
   },
   "source": [
    "### 3.4 X의 행 5개를 확인해주세요."
   ]
  },
  {
   "cell_type": "code",
   "execution_count": 30,
   "id": "89-aUms4pxH0",
   "metadata": {
    "id": "89-aUms4pxH0"
   },
   "outputs": [
    {
     "data": {
      "text/html": [
       "<div>\n",
       "<style scoped>\n",
       "    .dataframe tbody tr th:only-of-type {\n",
       "        vertical-align: middle;\n",
       "    }\n",
       "\n",
       "    .dataframe tbody tr th {\n",
       "        vertical-align: top;\n",
       "    }\n",
       "\n",
       "    .dataframe thead th {\n",
       "        text-align: right;\n",
       "    }\n",
       "</style>\n",
       "<table border=\"1\" class=\"dataframe\">\n",
       "  <thead>\n",
       "    <tr style=\"text-align: right;\">\n",
       "      <th></th>\n",
       "      <th>alcohol</th>\n",
       "      <th>malic_acid</th>\n",
       "      <th>ash</th>\n",
       "      <th>alcalinity_of_ash</th>\n",
       "      <th>magnesium</th>\n",
       "      <th>total_phenols</th>\n",
       "      <th>flavanoids</th>\n",
       "      <th>nonflavanoid_phenols</th>\n",
       "      <th>proanthocyanins</th>\n",
       "      <th>color_intensity</th>\n",
       "      <th>hue</th>\n",
       "      <th>od280/od315_of_diluted_wines</th>\n",
       "      <th>proline</th>\n",
       "    </tr>\n",
       "  </thead>\n",
       "  <tbody>\n",
       "    <tr>\n",
       "      <th>0</th>\n",
       "      <td>14.23</td>\n",
       "      <td>1.71</td>\n",
       "      <td>2.43</td>\n",
       "      <td>15.6</td>\n",
       "      <td>127.0</td>\n",
       "      <td>2.80</td>\n",
       "      <td>3.06</td>\n",
       "      <td>0.28</td>\n",
       "      <td>2.29</td>\n",
       "      <td>5.64</td>\n",
       "      <td>1.04</td>\n",
       "      <td>3.92</td>\n",
       "      <td>1065.0</td>\n",
       "    </tr>\n",
       "    <tr>\n",
       "      <th>1</th>\n",
       "      <td>13.20</td>\n",
       "      <td>1.78</td>\n",
       "      <td>2.14</td>\n",
       "      <td>11.2</td>\n",
       "      <td>100.0</td>\n",
       "      <td>2.65</td>\n",
       "      <td>2.76</td>\n",
       "      <td>0.26</td>\n",
       "      <td>1.28</td>\n",
       "      <td>4.38</td>\n",
       "      <td>1.05</td>\n",
       "      <td>3.40</td>\n",
       "      <td>1050.0</td>\n",
       "    </tr>\n",
       "    <tr>\n",
       "      <th>2</th>\n",
       "      <td>13.16</td>\n",
       "      <td>2.36</td>\n",
       "      <td>2.67</td>\n",
       "      <td>18.6</td>\n",
       "      <td>101.0</td>\n",
       "      <td>2.80</td>\n",
       "      <td>3.24</td>\n",
       "      <td>0.30</td>\n",
       "      <td>2.81</td>\n",
       "      <td>5.68</td>\n",
       "      <td>1.03</td>\n",
       "      <td>3.17</td>\n",
       "      <td>1185.0</td>\n",
       "    </tr>\n",
       "    <tr>\n",
       "      <th>3</th>\n",
       "      <td>14.37</td>\n",
       "      <td>1.95</td>\n",
       "      <td>2.50</td>\n",
       "      <td>16.8</td>\n",
       "      <td>113.0</td>\n",
       "      <td>3.85</td>\n",
       "      <td>3.49</td>\n",
       "      <td>0.24</td>\n",
       "      <td>2.18</td>\n",
       "      <td>7.80</td>\n",
       "      <td>0.86</td>\n",
       "      <td>3.45</td>\n",
       "      <td>1480.0</td>\n",
       "    </tr>\n",
       "    <tr>\n",
       "      <th>4</th>\n",
       "      <td>13.24</td>\n",
       "      <td>2.59</td>\n",
       "      <td>2.87</td>\n",
       "      <td>21.0</td>\n",
       "      <td>118.0</td>\n",
       "      <td>2.80</td>\n",
       "      <td>2.69</td>\n",
       "      <td>0.39</td>\n",
       "      <td>1.82</td>\n",
       "      <td>4.32</td>\n",
       "      <td>1.04</td>\n",
       "      <td>2.93</td>\n",
       "      <td>735.0</td>\n",
       "    </tr>\n",
       "  </tbody>\n",
       "</table>\n",
       "</div>"
      ],
      "text/plain": [
       "   alcohol  malic_acid   ash  alcalinity_of_ash  magnesium  total_phenols  \\\n",
       "0    14.23        1.71  2.43               15.6      127.0           2.80   \n",
       "1    13.20        1.78  2.14               11.2      100.0           2.65   \n",
       "2    13.16        2.36  2.67               18.6      101.0           2.80   \n",
       "3    14.37        1.95  2.50               16.8      113.0           3.85   \n",
       "4    13.24        2.59  2.87               21.0      118.0           2.80   \n",
       "\n",
       "   flavanoids  nonflavanoid_phenols  proanthocyanins  color_intensity   hue  \\\n",
       "0        3.06                  0.28             2.29             5.64  1.04   \n",
       "1        2.76                  0.26             1.28             4.38  1.05   \n",
       "2        3.24                  0.30             2.81             5.68  1.03   \n",
       "3        3.49                  0.24             2.18             7.80  0.86   \n",
       "4        2.69                  0.39             1.82             4.32  1.04   \n",
       "\n",
       "   od280/od315_of_diluted_wines  proline  \n",
       "0                          3.92   1065.0  \n",
       "1                          3.40   1050.0  \n",
       "2                          3.17   1185.0  \n",
       "3                          3.45   1480.0  \n",
       "4                          2.93    735.0  "
      ]
     },
     "execution_count": 30,
     "metadata": {},
     "output_type": "execute_result"
    }
   ],
   "source": [
    "X.head()"
   ]
  },
  {
   "cell_type": "markdown",
   "id": "eURw4Fripxmq",
   "metadata": {
    "id": "eURw4Fripxmq"
   },
   "source": [
    "### 3.5 target들의 종류를 확인해주세요."
   ]
  },
  {
   "cell_type": "code",
   "execution_count": 31,
   "id": "EEJqrh6ypz6k",
   "metadata": {
    "id": "EEJqrh6ypz6k"
   },
   "outputs": [
    {
     "data": {
      "text/plain": [
       "array([0, 1, 2])"
      ]
     },
     "execution_count": 31,
     "metadata": {},
     "output_type": "execute_result"
    }
   ],
   "source": [
    "y.unique()"
   ]
  },
  {
   "cell_type": "markdown",
   "id": "BW-Oq1Zyp0uV",
   "metadata": {
    "id": "BW-Oq1Zyp0uV"
   },
   "source": [
    "### 3.6 X_lda에 lda를 fit해주세요. "
   ]
  },
  {
   "cell_type": "code",
   "execution_count": 32,
   "id": "Sd3v1Xvip5ic",
   "metadata": {
    "id": "Sd3v1Xvip5ic"
   },
   "outputs": [
    {
     "name": "stdout",
     "output_type": "stream",
     "text": [
      "(178, 2)\n"
     ]
    }
   ],
   "source": [
    "x_std = StandardScaler().fit_transform(X)\n",
    "\n",
    "lda = LinearDiscriminantAnalysis(n_components=2)\n",
    "lda.fit(x_std, y)\n",
    "X_lda = lda.transform(x_std)\n",
    "print(X_lda.shape)"
   ]
  },
  {
   "cell_type": "markdown",
   "id": "x2o8t9xYp6iC",
   "metadata": {
    "id": "x2o8t9xYp6iC"
   },
   "source": [
    "### 3.7 2차원 평면에 표현해주세요. 교재 395페이지를 참조해주세요."
   ]
  },
  {
   "cell_type": "code",
   "execution_count": 33,
   "id": "TZpMgtciqFq8",
   "metadata": {
    "id": "TZpMgtciqFq8"
   },
   "outputs": [
    {
     "data": {
      "image/png": "[encoded data removed]",
      "text/plain": [
       "<Figure size 432x288 with 1 Axes>"
      ]
     },
     "metadata": {
      "needs_background": "light"
     },
     "output_type": "display_data"
    }
   ],
   "source": [
    "import pandas as pd\n",
    "import matplotlib.pyplot as plt\n",
    "%matplotlib inline\n",
    "\n",
    "lda_columns = ['lda_component_1','lda_component_2']\n",
    "wineDF_lda = pd.DataFrame(X_lda, columns = lda_columns)\n",
    "wineDF_lda['target'] = wine.target\n",
    "\n",
    "markers = ['^','s','o']\n",
    "\n",
    "for i, marker in enumerate(markers):\n",
    "  x_axis_data = wineDF_lda[wineDF_lda['target'] == i]['lda_component_1']\n",
    "  y_axis_data = wineDF_lda[wineDF_lda['target'] == i]['lda_component_2']\n",
    "\n",
    "  plt.scatter(x_axis_data,y_axis_data,marker = marker,label = wine.target_names[i])\n",
    "\n",
    "plt.legend(loc = 'lower right')\n",
    "plt.xlabel('lda_component_1')\n",
    "plt.ylabel('lda_component_2')\n",
    "plt.show()"
   ]
  }
 ],
 "metadata": {
  "colab": {
   "provenance": []
  },
  "kernelspec": {
   "display_name": "Python 3 (ipykernel)",
   "language": "python",
   "name": "python3"
  },
  "language_info": {
   "codemirror_mode": {
    "name": "ipython",
    "version": 3
   },
   "file_extension": ".py",
   "mimetype": "text/x-python",
   "name": "python",
   "nbconvert_exporter": "python",
   "pygments_lexer": "ipython3",
   "version": "3.9.12"
  }
 },
 "nbformat": 4,
 "nbformat_minor": 5
}
