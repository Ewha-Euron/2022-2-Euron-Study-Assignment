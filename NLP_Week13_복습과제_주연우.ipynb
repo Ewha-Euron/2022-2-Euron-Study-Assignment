{
  "nbformat": 4,
  "nbformat_minor": 0,
  "metadata": {
    "colab": {
      "provenance": []
    },
    "kernelspec": {
      "name": "python3",
      "display_name": "Python 3"
    },
    "language_info": {
      "name": "python"
    }
  },
  "cells": [
    {
      "cell_type": "markdown",
      "source": [
        "📌  **상단의 '파일-드라이브에 사본 저장' 해서 본인 드라이브에 저장된 사본 이용해서 실습 해주세요!!**\n",
        "\n",
        "📌 week13 복습습과제는 **NLG 실습**으로 구성되어 있습니다.\n",
        "\n",
        "📌 위키독스의 딥러닝을 이용한 자연어 처리 입문 교재 실습, 관련 블로그 등의 문서 자료로 구성되어 있는 과제입니다. \n",
        "\n",
        "📌 안내된 링크에 맞추어 **직접 코드를 따라 치면서 (필사)** 해당 nlp task 의 기본적인 라이브러리와 메서드를 숙지해보시면 좋을 것 같습니다😊 필수라고 체크한 부분은 과제에 반드시 포함시켜주시고, 선택으로 체크한 부분은 자율적으로 스터디 하시면 됩니다.\n",
        "\n",
        "📌 궁금한 사항은 깃허브 이슈나, 카톡방, 세션 발표 시작 이전 시간 등을 활용하여 자유롭게 공유해주세요!"
      ],
      "metadata": {
        "id": "BX3ac8Ag1RPC"
      }
    },
    {
      "cell_type": "code",
      "source": [],
      "metadata": {
        "id": "ppuTdZVWSo0b"
      },
      "execution_count": null,
      "outputs": []
    },
    {
      "cell_type": "code",
      "source": [
        "import nltk\n",
        "# nltk colab 환경에서 실행시 필요한 코드입니다. \n",
        "nltk.download('punkt')\n",
        "nltk.download('averaged_perceptron_tagger')\n",
        "nltk.download('maxent_ne_chunker')\n",
        "nltk.download('words')"
      ],
      "metadata": {
        "id": "4JEquLR91VBe",
        "colab": {
          "base_uri": "https://localhost:8080/"
        },
        "outputId": "77d48e54-d266-47fe-9fbe-22d41e943217"
      },
      "execution_count": 27,
      "outputs": [
        {
          "output_type": "stream",
          "name": "stderr",
          "text": [
            "[nltk_data] Downloading package punkt to /root/nltk_data...\n",
            "[nltk_data]   Package punkt is already up-to-date!\n",
            "[nltk_data] Downloading package averaged_perceptron_tagger to\n",
            "[nltk_data]     /root/nltk_data...\n",
            "[nltk_data]   Package averaged_perceptron_tagger is already up-to-\n",
            "[nltk_data]       date!\n",
            "[nltk_data] Downloading package maxent_ne_chunker to\n",
            "[nltk_data]     /root/nltk_data...\n",
            "[nltk_data]   Package maxent_ne_chunker is already up-to-date!\n",
            "[nltk_data] Downloading package words to /root/nltk_data...\n",
            "[nltk_data]   Package words is already up-to-date!\n"
          ]
        },
        {
          "output_type": "execute_result",
          "data": {
            "text/plain": [
              "True"
            ]
          },
          "metadata": {},
          "execution_count": 27
        }
      ]
    },
    {
      "cell_type": "markdown",
      "source": [
        "🥰 **이하 예제를 실습하시면 됩니다.**\n",
        "\n",
        "**1-(1)~(2)는 필수과제, 2는 선택과제입니다.**\n"
      ],
      "metadata": {
        "id": "Kq8aMYKGPQR0"
      }
    },
    {
      "cell_type": "markdown",
      "source": [
        "### **1️⃣ NLG task 실습**"
      ],
      "metadata": {
        "id": "SHTPAk95iNtP"
      }
    },
    {
      "cell_type": "markdown",
      "source": [
        "👀 내용 복습\n",
        "\n",
        "NLG 는 새로운 text 를 만들어 내는 모든 task 를 의미하며 기계번역, 텍스트 요약, 채팅, 스토리텔링, QA 등이 있다. "
      ],
      "metadata": {
        "id": "j5msd7Igjz9D"
      }
    },
    {
      "cell_type": "markdown",
      "source": [
        "🔹 1-(1) RNN 을 이용한 text generation \n",
        "\n",
        "📌 [Text generation with RNN](https://wikidocs.net/45101) \n",
        "\n",
        "* Simple RNN 을 이용한 간단한 한국어 text generation 예제와 LSTM 을 이용한 뉴욕 타임즈 기사 헤드라인 생성 예제를 필사해주세요."
      ],
      "metadata": {
        "id": "9L-jAHPkiBV0"
      }
    },
    {
      "cell_type": "code",
      "source": [
        "import numpy as np\n",
        "from tensorflow.keras.preprocessing.text import Tokenizer\n",
        "from tensorflow.keras.preprocessing.sequence import pad_sequences\n",
        "from tensorflow.keras.utils import to_categorical"
      ],
      "metadata": {
        "id": "Klj6gjETZdgS"
      },
      "execution_count": 28,
      "outputs": []
    },
    {
      "cell_type": "code",
      "source": [
        "text = \"\"\"경마장에 있는 말이 뛰고 있다\\n\n",
        "그의 말이 법이다\\n\n",
        "가는 말이 고와야 오는 말이 곱다\\n\"\"\""
      ],
      "metadata": {
        "id": "94wqSa57CWXi"
      },
      "execution_count": 29,
      "outputs": []
    },
    {
      "cell_type": "code",
      "source": [
        "tokenizer = Tokenizer()\n",
        "tokenizer.fit_on_texts([text])\n",
        "vocab_size = len(tokenizer.word_index) + 1\n",
        "print('단어 집합의 크기 : %d' % vocab_size)"
      ],
      "metadata": {
        "colab": {
          "base_uri": "https://localhost:8080/"
        },
        "id": "IMEUn5ubCgVz",
        "outputId": "9e62e081-8152-43d2-c431-95aa79af9819"
      },
      "execution_count": 30,
      "outputs": [
        {
          "output_type": "stream",
          "name": "stdout",
          "text": [
            "단어 집합의 크기 : 12\n"
          ]
        }
      ]
    },
    {
      "cell_type": "code",
      "source": [
        "print(tokenizer.word_index)"
      ],
      "metadata": {
        "id": "MsJZ9ldFiARK",
        "colab": {
          "base_uri": "https://localhost:8080/"
        },
        "outputId": "e66ee952-1d23-45ea-8303-1dab5692ab51"
      },
      "execution_count": 31,
      "outputs": [
        {
          "output_type": "stream",
          "name": "stdout",
          "text": [
            "{'말이': 1, '경마장에': 2, '있는': 3, '뛰고': 4, '있다': 5, '그의': 6, '법이다': 7, '가는': 8, '고와야': 9, '오는': 10, '곱다': 11}\n"
          ]
        }
      ]
    },
    {
      "cell_type": "code",
      "source": [
        "sequences = list()\n",
        "for line in text.split('\\n'):\n",
        "  encoded = tokenizer.texts_to_sequences([line])[0]\n",
        "  for i in range(1, len(encoded)):\n",
        "    sequence = encoded[:i+1]\n",
        "    sequences.append(sequence)\n",
        "\n",
        "print('학습에 사용할 샘플의 개수: %d' % len(sequences))"
      ],
      "metadata": {
        "colab": {
          "base_uri": "https://localhost:8080/"
        },
        "id": "nHMiVU9KC5fQ",
        "outputId": "206ac639-0a05-42b3-d4f5-0ea1295eb280"
      },
      "execution_count": 32,
      "outputs": [
        {
          "output_type": "stream",
          "name": "stdout",
          "text": [
            "학습에 사용할 샘플의 개수: 11\n"
          ]
        }
      ]
    },
    {
      "cell_type": "code",
      "source": [
        "print(sequences)"
      ],
      "metadata": {
        "colab": {
          "base_uri": "https://localhost:8080/"
        },
        "id": "OphlZ_b2C5b4",
        "outputId": "447d96b0-b5c2-43f2-ff8d-f696ce6bbfb4"
      },
      "execution_count": 33,
      "outputs": [
        {
          "output_type": "stream",
          "name": "stdout",
          "text": [
            "[[2, 3], [2, 3, 1], [2, 3, 1, 4], [2, 3, 1, 4, 5], [6, 1], [6, 1, 7], [8, 1], [8, 1, 9], [8, 1, 9, 10], [8, 1, 9, 10, 1], [8, 1, 9, 10, 1, 11]]\n"
          ]
        }
      ]
    },
    {
      "cell_type": "code",
      "source": [
        "max_len = max(len(l) for l in sequences)# 모든 샘플에서 길이가 가장 긴 샘플의 길이 출력\n",
        "print('샘플의 최대 길이 : {}'.format(max_len))"
      ],
      "metadata": {
        "colab": {
          "base_uri": "https://localhost:8080/"
        },
        "id": "Kou4BXD_C5Zh",
        "outputId": "a532c2a4-ce69-4c2c-dfbc-0ab474909cc6"
      },
      "execution_count": 34,
      "outputs": [
        {
          "output_type": "stream",
          "name": "stdout",
          "text": [
            "샘플의 최대 길이 : 6\n"
          ]
        }
      ]
    },
    {
      "cell_type": "code",
      "source": [
        "sequences = pad_sequences(sequences, maxlen=max_len, padding='pre')\n",
        "#전체 샘플에 대해서 길이를 가장 길이가 길었던 6으로 일치시킨다"
      ],
      "metadata": {
        "id": "qEFp-HixC5XV"
      },
      "execution_count": 35,
      "outputs": []
    },
    {
      "cell_type": "code",
      "source": [
        "print(sequences)"
      ],
      "metadata": {
        "colab": {
          "base_uri": "https://localhost:8080/"
        },
        "id": "LZboSm7hC5U9",
        "outputId": "068e16c0-c2ad-4fff-c9e1-a305adba7160"
      },
      "execution_count": 36,
      "outputs": [
        {
          "output_type": "stream",
          "name": "stdout",
          "text": [
            "[[ 0  0  0  0  2  3]\n",
            " [ 0  0  0  2  3  1]\n",
            " [ 0  0  2  3  1  4]\n",
            " [ 0  2  3  1  4  5]\n",
            " [ 0  0  0  0  6  1]\n",
            " [ 0  0  0  6  1  7]\n",
            " [ 0  0  0  0  8  1]\n",
            " [ 0  0  0  8  1  9]\n",
            " [ 0  0  8  1  9 10]\n",
            " [ 0  8  1  9 10  1]\n",
            " [ 8  1  9 10  1 11]]\n"
          ]
        }
      ]
    },
    {
      "cell_type": "code",
      "source": [
        "sequences = np.array(sequences)\n",
        "X = sequences[:,:-1]\n",
        "y = sequences[:,-1]"
      ],
      "metadata": {
        "id": "XGTc7AXMC5SH"
      },
      "execution_count": 37,
      "outputs": []
    },
    {
      "cell_type": "code",
      "source": [
        "\n",
        "print(X)"
      ],
      "metadata": {
        "colab": {
          "base_uri": "https://localhost:8080/"
        },
        "id": "XBuiujg4C5HD",
        "outputId": "806f4623-5d81-4f65-cd52-1b7680a0264f"
      },
      "execution_count": 38,
      "outputs": [
        {
          "output_type": "stream",
          "name": "stdout",
          "text": [
            "[[ 0  0  0  0  2]\n",
            " [ 0  0  0  2  3]\n",
            " [ 0  0  2  3  1]\n",
            " [ 0  2  3  1  4]\n",
            " [ 0  0  0  0  6]\n",
            " [ 0  0  0  6  1]\n",
            " [ 0  0  0  0  8]\n",
            " [ 0  0  0  8  1]\n",
            " [ 0  0  8  1  9]\n",
            " [ 0  8  1  9 10]\n",
            " [ 8  1  9 10  1]]\n"
          ]
        }
      ]
    },
    {
      "cell_type": "code",
      "source": [
        "print(y)"
      ],
      "metadata": {
        "colab": {
          "base_uri": "https://localhost:8080/"
        },
        "id": "elmvk5ncI-AU",
        "outputId": "2a711749-250b-4fb1-9af4-e72dfa85f682"
      },
      "execution_count": 39,
      "outputs": [
        {
          "output_type": "stream",
          "name": "stdout",
          "text": [
            "[ 3  1  4  5  1  7  1  9 10  1 11]\n"
          ]
        }
      ]
    },
    {
      "cell_type": "code",
      "source": [
        "y = to_categorical(y, num_classes=vocab_size) #원-핫 인코딩"
      ],
      "metadata": {
        "id": "of04en1XKN_-"
      },
      "execution_count": 40,
      "outputs": []
    },
    {
      "cell_type": "code",
      "source": [
        "\n",
        "print(y)"
      ],
      "metadata": {
        "colab": {
          "base_uri": "https://localhost:8080/"
        },
        "id": "9JWa7Db6L1Mp",
        "outputId": "07c97a77-288c-4769-cc7c-d025478f8416"
      },
      "execution_count": 41,
      "outputs": [
        {
          "output_type": "stream",
          "name": "stdout",
          "text": [
            "[[0. 0. 0. 1. 0. 0. 0. 0. 0. 0. 0. 0.]\n",
            " [0. 1. 0. 0. 0. 0. 0. 0. 0. 0. 0. 0.]\n",
            " [0. 0. 0. 0. 1. 0. 0. 0. 0. 0. 0. 0.]\n",
            " [0. 0. 0. 0. 0. 1. 0. 0. 0. 0. 0. 0.]\n",
            " [0. 1. 0. 0. 0. 0. 0. 0. 0. 0. 0. 0.]\n",
            " [0. 0. 0. 0. 0. 0. 0. 1. 0. 0. 0. 0.]\n",
            " [0. 1. 0. 0. 0. 0. 0. 0. 0. 0. 0. 0.]\n",
            " [0. 0. 0. 0. 0. 0. 0. 0. 0. 1. 0. 0.]\n",
            " [0. 0. 0. 0. 0. 0. 0. 0. 0. 0. 1. 0.]\n",
            " [0. 1. 0. 0. 0. 0. 0. 0. 0. 0. 0. 0.]\n",
            " [0. 0. 0. 0. 0. 0. 0. 0. 0. 0. 0. 1.]]\n"
          ]
        }
      ]
    },
    {
      "cell_type": "code",
      "source": [
        "from tensorflow.keras.models import Sequential\n",
        "from tensorflow.keras.layers import Embedding, Dense, SimpleRNN"
      ],
      "metadata": {
        "id": "3lH4fYUVMfip"
      },
      "execution_count": 42,
      "outputs": []
    },
    {
      "cell_type": "code",
      "source": [
        "embedding_dim = 10\n",
        "hidden_units = 32\n",
        "\n",
        "model = Sequential()\n",
        "model.add(Embedding(vocab_size, embedding_dim))\n",
        "model.add(SimpleRNN(hidden_units))\n",
        "model.add(Dense(vocab_size, activation='softmax'))\n",
        "model.compile(loss='categorical_crossentropy', optimizer='adam', metrics=['accuracy'])\n",
        "model.fit(X, y, epochs=200, verbose=2)"
      ],
      "metadata": {
        "colab": {
          "base_uri": "https://localhost:8080/"
        },
        "id": "gN7WSDD9MffV",
        "outputId": "71728aa7-f7e1-421b-bb8e-1ee5721bb21e"
      },
      "execution_count": 43,
      "outputs": [
        {
          "output_type": "stream",
          "name": "stdout",
          "text": [
            "Epoch 1/200\n",
            "1/1 - 1s - loss: 2.4970 - accuracy: 0.0909 - 1s/epoch - 1s/step\n",
            "Epoch 2/200\n",
            "1/1 - 0s - loss: 2.4828 - accuracy: 0.1818 - 9ms/epoch - 9ms/step\n",
            "Epoch 3/200\n",
            "1/1 - 0s - loss: 2.4689 - accuracy: 0.1818 - 9ms/epoch - 9ms/step\n",
            "Epoch 4/200\n",
            "1/1 - 0s - loss: 2.4552 - accuracy: 0.2727 - 9ms/epoch - 9ms/step\n",
            "Epoch 5/200\n",
            "1/1 - 0s - loss: 2.4417 - accuracy: 0.3636 - 9ms/epoch - 9ms/step\n",
            "Epoch 6/200\n",
            "1/1 - 0s - loss: 2.4281 - accuracy: 0.3636 - 9ms/epoch - 9ms/step\n",
            "Epoch 7/200\n",
            "1/1 - 0s - loss: 2.4145 - accuracy: 0.3636 - 9ms/epoch - 9ms/step\n",
            "Epoch 8/200\n",
            "1/1 - 0s - loss: 2.4007 - accuracy: 0.3636 - 9ms/epoch - 9ms/step\n",
            "Epoch 9/200\n",
            "1/1 - 0s - loss: 2.3867 - accuracy: 0.3636 - 9ms/epoch - 9ms/step\n",
            "Epoch 10/200\n",
            "1/1 - 0s - loss: 2.3723 - accuracy: 0.3636 - 11ms/epoch - 11ms/step\n",
            "Epoch 11/200\n",
            "1/1 - 0s - loss: 2.3575 - accuracy: 0.4545 - 10ms/epoch - 10ms/step\n",
            "Epoch 12/200\n",
            "1/1 - 0s - loss: 2.3421 - accuracy: 0.4545 - 8ms/epoch - 8ms/step\n",
            "Epoch 13/200\n",
            "1/1 - 0s - loss: 2.3261 - accuracy: 0.4545 - 8ms/epoch - 8ms/step\n",
            "Epoch 14/200\n",
            "1/1 - 0s - loss: 2.3094 - accuracy: 0.4545 - 11ms/epoch - 11ms/step\n",
            "Epoch 15/200\n",
            "1/1 - 0s - loss: 2.2920 - accuracy: 0.4545 - 12ms/epoch - 12ms/step\n",
            "Epoch 16/200\n",
            "1/1 - 0s - loss: 2.2737 - accuracy: 0.4545 - 11ms/epoch - 11ms/step\n",
            "Epoch 17/200\n",
            "1/1 - 0s - loss: 2.2545 - accuracy: 0.4545 - 9ms/epoch - 9ms/step\n",
            "Epoch 18/200\n",
            "1/1 - 0s - loss: 2.2344 - accuracy: 0.4545 - 8ms/epoch - 8ms/step\n",
            "Epoch 19/200\n",
            "1/1 - 0s - loss: 2.2133 - accuracy: 0.4545 - 9ms/epoch - 9ms/step\n",
            "Epoch 20/200\n",
            "1/1 - 0s - loss: 2.1912 - accuracy: 0.4545 - 10ms/epoch - 10ms/step\n",
            "Epoch 21/200\n",
            "1/1 - 0s - loss: 2.1682 - accuracy: 0.4545 - 10ms/epoch - 10ms/step\n",
            "Epoch 22/200\n",
            "1/1 - 0s - loss: 2.1442 - accuracy: 0.4545 - 9ms/epoch - 9ms/step\n",
            "Epoch 23/200\n",
            "1/1 - 0s - loss: 2.1193 - accuracy: 0.4545 - 8ms/epoch - 8ms/step\n",
            "Epoch 24/200\n",
            "1/1 - 0s - loss: 2.0936 - accuracy: 0.4545 - 9ms/epoch - 9ms/step\n",
            "Epoch 25/200\n",
            "1/1 - 0s - loss: 2.0672 - accuracy: 0.4545 - 7ms/epoch - 7ms/step\n",
            "Epoch 26/200\n",
            "1/1 - 0s - loss: 2.0403 - accuracy: 0.4545 - 8ms/epoch - 8ms/step\n",
            "Epoch 27/200\n",
            "1/1 - 0s - loss: 2.0130 - accuracy: 0.4545 - 12ms/epoch - 12ms/step\n",
            "Epoch 28/200\n",
            "1/1 - 0s - loss: 1.9857 - accuracy: 0.4545 - 8ms/epoch - 8ms/step\n",
            "Epoch 29/200\n",
            "1/1 - 0s - loss: 1.9585 - accuracy: 0.4545 - 8ms/epoch - 8ms/step\n",
            "Epoch 30/200\n",
            "1/1 - 0s - loss: 1.9317 - accuracy: 0.4545 - 9ms/epoch - 9ms/step\n",
            "Epoch 31/200\n",
            "1/1 - 0s - loss: 1.9057 - accuracy: 0.4545 - 8ms/epoch - 8ms/step\n",
            "Epoch 32/200\n",
            "1/1 - 0s - loss: 1.8805 - accuracy: 0.4545 - 7ms/epoch - 7ms/step\n",
            "Epoch 33/200\n",
            "1/1 - 0s - loss: 1.8565 - accuracy: 0.4545 - 8ms/epoch - 8ms/step\n",
            "Epoch 34/200\n",
            "1/1 - 0s - loss: 1.8337 - accuracy: 0.4545 - 9ms/epoch - 9ms/step\n",
            "Epoch 35/200\n",
            "1/1 - 0s - loss: 1.8120 - accuracy: 0.4545 - 8ms/epoch - 8ms/step\n",
            "Epoch 36/200\n",
            "1/1 - 0s - loss: 1.7913 - accuracy: 0.4545 - 8ms/epoch - 8ms/step\n",
            "Epoch 37/200\n",
            "1/1 - 0s - loss: 1.7713 - accuracy: 0.4545 - 8ms/epoch - 8ms/step\n",
            "Epoch 38/200\n",
            "1/1 - 0s - loss: 1.7515 - accuracy: 0.4545 - 8ms/epoch - 8ms/step\n",
            "Epoch 39/200\n",
            "1/1 - 0s - loss: 1.7317 - accuracy: 0.4545 - 10ms/epoch - 10ms/step\n",
            "Epoch 40/200\n",
            "1/1 - 0s - loss: 1.7116 - accuracy: 0.4545 - 9ms/epoch - 9ms/step\n",
            "Epoch 41/200\n",
            "1/1 - 0s - loss: 1.6909 - accuracy: 0.4545 - 8ms/epoch - 8ms/step\n",
            "Epoch 42/200\n",
            "1/1 - 0s - loss: 1.6696 - accuracy: 0.4545 - 8ms/epoch - 8ms/step\n",
            "Epoch 43/200\n",
            "1/1 - 0s - loss: 1.6479 - accuracy: 0.4545 - 9ms/epoch - 9ms/step\n",
            "Epoch 44/200\n",
            "1/1 - 0s - loss: 1.6258 - accuracy: 0.4545 - 9ms/epoch - 9ms/step\n",
            "Epoch 45/200\n",
            "1/1 - 0s - loss: 1.6035 - accuracy: 0.4545 - 8ms/epoch - 8ms/step\n",
            "Epoch 46/200\n",
            "1/1 - 0s - loss: 1.5813 - accuracy: 0.4545 - 8ms/epoch - 8ms/step\n",
            "Epoch 47/200\n",
            "1/1 - 0s - loss: 1.5595 - accuracy: 0.4545 - 9ms/epoch - 9ms/step\n",
            "Epoch 48/200\n",
            "1/1 - 0s - loss: 1.5381 - accuracy: 0.4545 - 8ms/epoch - 8ms/step\n",
            "Epoch 49/200\n",
            "1/1 - 0s - loss: 1.5172 - accuracy: 0.4545 - 8ms/epoch - 8ms/step\n",
            "Epoch 50/200\n",
            "1/1 - 0s - loss: 1.4970 - accuracy: 0.5455 - 8ms/epoch - 8ms/step\n",
            "Epoch 51/200\n",
            "1/1 - 0s - loss: 1.4773 - accuracy: 0.5455 - 17ms/epoch - 17ms/step\n",
            "Epoch 52/200\n",
            "1/1 - 0s - loss: 1.4581 - accuracy: 0.5455 - 7ms/epoch - 7ms/step\n",
            "Epoch 53/200\n",
            "1/1 - 0s - loss: 1.4393 - accuracy: 0.5455 - 8ms/epoch - 8ms/step\n",
            "Epoch 54/200\n",
            "1/1 - 0s - loss: 1.4207 - accuracy: 0.5455 - 9ms/epoch - 9ms/step\n",
            "Epoch 55/200\n",
            "1/1 - 0s - loss: 1.4022 - accuracy: 0.5455 - 8ms/epoch - 8ms/step\n",
            "Epoch 56/200\n",
            "1/1 - 0s - loss: 1.3838 - accuracy: 0.5455 - 8ms/epoch - 8ms/step\n",
            "Epoch 57/200\n",
            "1/1 - 0s - loss: 1.3654 - accuracy: 0.5455 - 8ms/epoch - 8ms/step\n",
            "Epoch 58/200\n",
            "1/1 - 0s - loss: 1.3470 - accuracy: 0.5455 - 8ms/epoch - 8ms/step\n",
            "Epoch 59/200\n",
            "1/1 - 0s - loss: 1.3287 - accuracy: 0.5455 - 8ms/epoch - 8ms/step\n",
            "Epoch 60/200\n",
            "1/1 - 0s - loss: 1.3105 - accuracy: 0.5455 - 9ms/epoch - 9ms/step\n",
            "Epoch 61/200\n",
            "1/1 - 0s - loss: 1.2924 - accuracy: 0.5455 - 9ms/epoch - 9ms/step\n",
            "Epoch 62/200\n",
            "1/1 - 0s - loss: 1.2745 - accuracy: 0.5455 - 10ms/epoch - 10ms/step\n",
            "Epoch 63/200\n",
            "1/1 - 0s - loss: 1.2569 - accuracy: 0.5455 - 8ms/epoch - 8ms/step\n",
            "Epoch 64/200\n",
            "1/1 - 0s - loss: 1.2395 - accuracy: 0.5455 - 11ms/epoch - 11ms/step\n",
            "Epoch 65/200\n",
            "1/1 - 0s - loss: 1.2223 - accuracy: 0.5455 - 11ms/epoch - 11ms/step\n",
            "Epoch 66/200\n",
            "1/1 - 0s - loss: 1.2052 - accuracy: 0.6364 - 9ms/epoch - 9ms/step\n",
            "Epoch 67/200\n",
            "1/1 - 0s - loss: 1.1883 - accuracy: 0.6364 - 9ms/epoch - 9ms/step\n",
            "Epoch 68/200\n",
            "1/1 - 0s - loss: 1.1713 - accuracy: 0.6364 - 8ms/epoch - 8ms/step\n",
            "Epoch 69/200\n",
            "1/1 - 0s - loss: 1.1544 - accuracy: 0.6364 - 9ms/epoch - 9ms/step\n",
            "Epoch 70/200\n",
            "1/1 - 0s - loss: 1.1375 - accuracy: 0.6364 - 10ms/epoch - 10ms/step\n",
            "Epoch 71/200\n",
            "1/1 - 0s - loss: 1.1205 - accuracy: 0.6364 - 10ms/epoch - 10ms/step\n",
            "Epoch 72/200\n",
            "1/1 - 0s - loss: 1.1036 - accuracy: 0.6364 - 9ms/epoch - 9ms/step\n",
            "Epoch 73/200\n",
            "1/1 - 0s - loss: 1.0867 - accuracy: 0.6364 - 8ms/epoch - 8ms/step\n",
            "Epoch 74/200\n",
            "1/1 - 0s - loss: 1.0700 - accuracy: 0.6364 - 9ms/epoch - 9ms/step\n",
            "Epoch 75/200\n",
            "1/1 - 0s - loss: 1.0533 - accuracy: 0.6364 - 8ms/epoch - 8ms/step\n",
            "Epoch 76/200\n",
            "1/1 - 0s - loss: 1.0367 - accuracy: 0.7273 - 13ms/epoch - 13ms/step\n",
            "Epoch 77/200\n",
            "1/1 - 0s - loss: 1.0202 - accuracy: 0.7273 - 10ms/epoch - 10ms/step\n",
            "Epoch 78/200\n",
            "1/1 - 0s - loss: 1.0038 - accuracy: 0.7273 - 9ms/epoch - 9ms/step\n",
            "Epoch 79/200\n",
            "1/1 - 0s - loss: 0.9875 - accuracy: 0.7273 - 9ms/epoch - 9ms/step\n",
            "Epoch 80/200\n",
            "1/1 - 0s - loss: 0.9713 - accuracy: 0.7273 - 7ms/epoch - 7ms/step\n",
            "Epoch 81/200\n",
            "1/1 - 0s - loss: 0.9552 - accuracy: 0.7273 - 10ms/epoch - 10ms/step\n",
            "Epoch 82/200\n",
            "1/1 - 0s - loss: 0.9392 - accuracy: 0.7273 - 8ms/epoch - 8ms/step\n",
            "Epoch 83/200\n",
            "1/1 - 0s - loss: 0.9233 - accuracy: 0.7273 - 9ms/epoch - 9ms/step\n",
            "Epoch 84/200\n",
            "1/1 - 0s - loss: 0.9076 - accuracy: 0.7273 - 9ms/epoch - 9ms/step\n",
            "Epoch 85/200\n",
            "1/1 - 0s - loss: 0.8920 - accuracy: 0.7273 - 8ms/epoch - 8ms/step\n",
            "Epoch 86/200\n",
            "1/1 - 0s - loss: 0.8767 - accuracy: 0.7273 - 8ms/epoch - 8ms/step\n",
            "Epoch 87/200\n",
            "1/1 - 0s - loss: 0.8615 - accuracy: 0.7273 - 6ms/epoch - 6ms/step\n",
            "Epoch 88/200\n",
            "1/1 - 0s - loss: 0.8466 - accuracy: 0.7273 - 9ms/epoch - 9ms/step\n",
            "Epoch 89/200\n",
            "1/1 - 0s - loss: 0.8319 - accuracy: 0.7273 - 10ms/epoch - 10ms/step\n",
            "Epoch 90/200\n",
            "1/1 - 0s - loss: 0.8174 - accuracy: 0.7273 - 10ms/epoch - 10ms/step\n",
            "Epoch 91/200\n",
            "1/1 - 0s - loss: 0.8032 - accuracy: 0.7273 - 10ms/epoch - 10ms/step\n",
            "Epoch 92/200\n",
            "1/1 - 0s - loss: 0.7892 - accuracy: 0.7273 - 10ms/epoch - 10ms/step\n",
            "Epoch 93/200\n",
            "1/1 - 0s - loss: 0.7754 - accuracy: 0.8182 - 7ms/epoch - 7ms/step\n",
            "Epoch 94/200\n",
            "1/1 - 0s - loss: 0.7618 - accuracy: 0.8182 - 8ms/epoch - 8ms/step\n",
            "Epoch 95/200\n",
            "1/1 - 0s - loss: 0.7485 - accuracy: 0.8182 - 8ms/epoch - 8ms/step\n",
            "Epoch 96/200\n",
            "1/1 - 0s - loss: 0.7355 - accuracy: 0.8182 - 13ms/epoch - 13ms/step\n",
            "Epoch 97/200\n",
            "1/1 - 0s - loss: 0.7227 - accuracy: 0.8182 - 11ms/epoch - 11ms/step\n",
            "Epoch 98/200\n",
            "1/1 - 0s - loss: 0.7102 - accuracy: 0.8182 - 8ms/epoch - 8ms/step\n",
            "Epoch 99/200\n",
            "1/1 - 0s - loss: 0.6980 - accuracy: 0.8182 - 7ms/epoch - 7ms/step\n",
            "Epoch 100/200\n",
            "1/1 - 0s - loss: 0.6859 - accuracy: 0.8182 - 9ms/epoch - 9ms/step\n",
            "Epoch 101/200\n",
            "1/1 - 0s - loss: 0.6742 - accuracy: 0.8182 - 9ms/epoch - 9ms/step\n",
            "Epoch 102/200\n",
            "1/1 - 0s - loss: 0.6627 - accuracy: 0.8182 - 9ms/epoch - 9ms/step\n",
            "Epoch 103/200\n",
            "1/1 - 0s - loss: 0.6514 - accuracy: 0.8182 - 7ms/epoch - 7ms/step\n",
            "Epoch 104/200\n",
            "1/1 - 0s - loss: 0.6403 - accuracy: 0.8182 - 9ms/epoch - 9ms/step\n",
            "Epoch 105/200\n",
            "1/1 - 0s - loss: 0.6295 - accuracy: 0.8182 - 9ms/epoch - 9ms/step\n",
            "Epoch 106/200\n",
            "1/1 - 0s - loss: 0.6189 - accuracy: 0.8182 - 8ms/epoch - 8ms/step\n",
            "Epoch 107/200\n",
            "1/1 - 0s - loss: 0.6086 - accuracy: 0.8182 - 10ms/epoch - 10ms/step\n",
            "Epoch 108/200\n",
            "1/1 - 0s - loss: 0.5984 - accuracy: 0.8182 - 9ms/epoch - 9ms/step\n",
            "Epoch 109/200\n",
            "1/1 - 0s - loss: 0.5885 - accuracy: 0.8182 - 9ms/epoch - 9ms/step\n",
            "Epoch 110/200\n",
            "1/1 - 0s - loss: 0.5787 - accuracy: 0.8182 - 8ms/epoch - 8ms/step\n",
            "Epoch 111/200\n",
            "1/1 - 0s - loss: 0.5692 - accuracy: 0.8182 - 8ms/epoch - 8ms/step\n",
            "Epoch 112/200\n",
            "1/1 - 0s - loss: 0.5598 - accuracy: 0.8182 - 8ms/epoch - 8ms/step\n",
            "Epoch 113/200\n",
            "1/1 - 0s - loss: 0.5506 - accuracy: 0.8182 - 7ms/epoch - 7ms/step\n",
            "Epoch 114/200\n",
            "1/1 - 0s - loss: 0.5416 - accuracy: 0.8182 - 9ms/epoch - 9ms/step\n",
            "Epoch 115/200\n",
            "1/1 - 0s - loss: 0.5327 - accuracy: 0.8182 - 8ms/epoch - 8ms/step\n",
            "Epoch 116/200\n",
            "1/1 - 0s - loss: 0.5240 - accuracy: 0.8182 - 8ms/epoch - 8ms/step\n",
            "Epoch 117/200\n",
            "1/1 - 0s - loss: 0.5154 - accuracy: 0.8182 - 10ms/epoch - 10ms/step\n",
            "Epoch 118/200\n",
            "1/1 - 0s - loss: 0.5070 - accuracy: 0.8182 - 8ms/epoch - 8ms/step\n",
            "Epoch 119/200\n",
            "1/1 - 0s - loss: 0.4987 - accuracy: 0.8182 - 7ms/epoch - 7ms/step\n",
            "Epoch 120/200\n",
            "1/1 - 0s - loss: 0.4906 - accuracy: 0.8182 - 8ms/epoch - 8ms/step\n",
            "Epoch 121/200\n",
            "1/1 - 0s - loss: 0.4825 - accuracy: 0.8182 - 8ms/epoch - 8ms/step\n",
            "Epoch 122/200\n",
            "1/1 - 0s - loss: 0.4746 - accuracy: 0.8182 - 9ms/epoch - 9ms/step\n",
            "Epoch 123/200\n",
            "1/1 - 0s - loss: 0.4668 - accuracy: 0.8182 - 9ms/epoch - 9ms/step\n",
            "Epoch 124/200\n",
            "1/1 - 0s - loss: 0.4591 - accuracy: 0.8182 - 8ms/epoch - 8ms/step\n",
            "Epoch 125/200\n",
            "1/1 - 0s - loss: 0.4515 - accuracy: 0.8182 - 10ms/epoch - 10ms/step\n",
            "Epoch 126/200\n",
            "1/1 - 0s - loss: 0.4440 - accuracy: 0.8182 - 8ms/epoch - 8ms/step\n",
            "Epoch 127/200\n",
            "1/1 - 0s - loss: 0.4366 - accuracy: 0.8182 - 7ms/epoch - 7ms/step\n",
            "Epoch 128/200\n",
            "1/1 - 0s - loss: 0.4292 - accuracy: 0.8182 - 8ms/epoch - 8ms/step\n",
            "Epoch 129/200\n",
            "1/1 - 0s - loss: 0.4220 - accuracy: 0.8182 - 8ms/epoch - 8ms/step\n",
            "Epoch 130/200\n",
            "1/1 - 0s - loss: 0.4149 - accuracy: 0.9091 - 8ms/epoch - 8ms/step\n",
            "Epoch 131/200\n",
            "1/1 - 0s - loss: 0.4078 - accuracy: 0.9091 - 8ms/epoch - 8ms/step\n",
            "Epoch 132/200\n",
            "1/1 - 0s - loss: 0.4008 - accuracy: 0.9091 - 8ms/epoch - 8ms/step\n",
            "Epoch 133/200\n",
            "1/1 - 0s - loss: 0.3939 - accuracy: 0.9091 - 9ms/epoch - 9ms/step\n",
            "Epoch 134/200\n",
            "1/1 - 0s - loss: 0.3870 - accuracy: 0.9091 - 8ms/epoch - 8ms/step\n",
            "Epoch 135/200\n",
            "1/1 - 0s - loss: 0.3803 - accuracy: 0.9091 - 10ms/epoch - 10ms/step\n",
            "Epoch 136/200\n",
            "1/1 - 0s - loss: 0.3736 - accuracy: 1.0000 - 8ms/epoch - 8ms/step\n",
            "Epoch 137/200\n",
            "1/1 - 0s - loss: 0.3669 - accuracy: 1.0000 - 9ms/epoch - 9ms/step\n",
            "Epoch 138/200\n",
            "1/1 - 0s - loss: 0.3604 - accuracy: 1.0000 - 11ms/epoch - 11ms/step\n",
            "Epoch 139/200\n",
            "1/1 - 0s - loss: 0.3539 - accuracy: 1.0000 - 8ms/epoch - 8ms/step\n",
            "Epoch 140/200\n",
            "1/1 - 0s - loss: 0.3475 - accuracy: 1.0000 - 12ms/epoch - 12ms/step\n",
            "Epoch 141/200\n",
            "1/1 - 0s - loss: 0.3412 - accuracy: 1.0000 - 10ms/epoch - 10ms/step\n",
            "Epoch 142/200\n",
            "1/1 - 0s - loss: 0.3349 - accuracy: 1.0000 - 11ms/epoch - 11ms/step\n",
            "Epoch 143/200\n",
            "1/1 - 0s - loss: 0.3287 - accuracy: 1.0000 - 11ms/epoch - 11ms/step\n",
            "Epoch 144/200\n",
            "1/1 - 0s - loss: 0.3226 - accuracy: 1.0000 - 11ms/epoch - 11ms/step\n",
            "Epoch 145/200\n",
            "1/1 - 0s - loss: 0.3165 - accuracy: 1.0000 - 9ms/epoch - 9ms/step\n",
            "Epoch 146/200\n",
            "1/1 - 0s - loss: 0.3105 - accuracy: 1.0000 - 9ms/epoch - 9ms/step\n",
            "Epoch 147/200\n",
            "1/1 - 0s - loss: 0.3046 - accuracy: 1.0000 - 9ms/epoch - 9ms/step\n",
            "Epoch 148/200\n",
            "1/1 - 0s - loss: 0.2988 - accuracy: 1.0000 - 12ms/epoch - 12ms/step\n",
            "Epoch 149/200\n",
            "1/1 - 0s - loss: 0.2930 - accuracy: 1.0000 - 9ms/epoch - 9ms/step\n",
            "Epoch 150/200\n",
            "1/1 - 0s - loss: 0.2874 - accuracy: 1.0000 - 9ms/epoch - 9ms/step\n",
            "Epoch 151/200\n",
            "1/1 - 0s - loss: 0.2817 - accuracy: 1.0000 - 10ms/epoch - 10ms/step\n",
            "Epoch 152/200\n",
            "1/1 - 0s - loss: 0.2762 - accuracy: 1.0000 - 9ms/epoch - 9ms/step\n",
            "Epoch 153/200\n",
            "1/1 - 0s - loss: 0.2708 - accuracy: 1.0000 - 9ms/epoch - 9ms/step\n",
            "Epoch 154/200\n",
            "1/1 - 0s - loss: 0.2654 - accuracy: 1.0000 - 9ms/epoch - 9ms/step\n",
            "Epoch 155/200\n",
            "1/1 - 0s - loss: 0.2601 - accuracy: 1.0000 - 10ms/epoch - 10ms/step\n",
            "Epoch 156/200\n",
            "1/1 - 0s - loss: 0.2549 - accuracy: 1.0000 - 9ms/epoch - 9ms/step\n",
            "Epoch 157/200\n",
            "1/1 - 0s - loss: 0.2498 - accuracy: 1.0000 - 8ms/epoch - 8ms/step\n",
            "Epoch 158/200\n",
            "1/1 - 0s - loss: 0.2447 - accuracy: 1.0000 - 8ms/epoch - 8ms/step\n",
            "Epoch 159/200\n",
            "1/1 - 0s - loss: 0.2398 - accuracy: 1.0000 - 9ms/epoch - 9ms/step\n",
            "Epoch 160/200\n",
            "1/1 - 0s - loss: 0.2349 - accuracy: 1.0000 - 8ms/epoch - 8ms/step\n",
            "Epoch 161/200\n",
            "1/1 - 0s - loss: 0.2301 - accuracy: 1.0000 - 10ms/epoch - 10ms/step\n",
            "Epoch 162/200\n",
            "1/1 - 0s - loss: 0.2254 - accuracy: 1.0000 - 9ms/epoch - 9ms/step\n",
            "Epoch 163/200\n",
            "1/1 - 0s - loss: 0.2207 - accuracy: 1.0000 - 9ms/epoch - 9ms/step\n",
            "Epoch 164/200\n",
            "1/1 - 0s - loss: 0.2162 - accuracy: 1.0000 - 9ms/epoch - 9ms/step\n",
            "Epoch 165/200\n",
            "1/1 - 0s - loss: 0.2117 - accuracy: 1.0000 - 9ms/epoch - 9ms/step\n",
            "Epoch 166/200\n",
            "1/1 - 0s - loss: 0.2074 - accuracy: 1.0000 - 8ms/epoch - 8ms/step\n",
            "Epoch 167/200\n",
            "1/1 - 0s - loss: 0.2031 - accuracy: 1.0000 - 9ms/epoch - 9ms/step\n",
            "Epoch 168/200\n",
            "1/1 - 0s - loss: 0.1989 - accuracy: 1.0000 - 9ms/epoch - 9ms/step\n",
            "Epoch 169/200\n",
            "1/1 - 0s - loss: 0.1947 - accuracy: 1.0000 - 9ms/epoch - 9ms/step\n",
            "Epoch 170/200\n",
            "1/1 - 0s - loss: 0.1907 - accuracy: 1.0000 - 10ms/epoch - 10ms/step\n",
            "Epoch 171/200\n",
            "1/1 - 0s - loss: 0.1868 - accuracy: 1.0000 - 9ms/epoch - 9ms/step\n",
            "Epoch 172/200\n",
            "1/1 - 0s - loss: 0.1829 - accuracy: 1.0000 - 8ms/epoch - 8ms/step\n",
            "Epoch 173/200\n",
            "1/1 - 0s - loss: 0.1791 - accuracy: 1.0000 - 8ms/epoch - 8ms/step\n",
            "Epoch 174/200\n",
            "1/1 - 0s - loss: 0.1754 - accuracy: 1.0000 - 8ms/epoch - 8ms/step\n",
            "Epoch 175/200\n",
            "1/1 - 0s - loss: 0.1718 - accuracy: 1.0000 - 11ms/epoch - 11ms/step\n",
            "Epoch 176/200\n",
            "1/1 - 0s - loss: 0.1683 - accuracy: 1.0000 - 9ms/epoch - 9ms/step\n",
            "Epoch 177/200\n",
            "1/1 - 0s - loss: 0.1648 - accuracy: 1.0000 - 8ms/epoch - 8ms/step\n",
            "Epoch 178/200\n",
            "1/1 - 0s - loss: 0.1614 - accuracy: 1.0000 - 9ms/epoch - 9ms/step\n",
            "Epoch 179/200\n",
            "1/1 - 0s - loss: 0.1581 - accuracy: 1.0000 - 8ms/epoch - 8ms/step\n",
            "Epoch 180/200\n",
            "1/1 - 0s - loss: 0.1549 - accuracy: 1.0000 - 8ms/epoch - 8ms/step\n",
            "Epoch 181/200\n",
            "1/1 - 0s - loss: 0.1518 - accuracy: 1.0000 - 9ms/epoch - 9ms/step\n",
            "Epoch 182/200\n",
            "1/1 - 0s - loss: 0.1487 - accuracy: 1.0000 - 8ms/epoch - 8ms/step\n",
            "Epoch 183/200\n",
            "1/1 - 0s - loss: 0.1457 - accuracy: 1.0000 - 9ms/epoch - 9ms/step\n",
            "Epoch 184/200\n",
            "1/1 - 0s - loss: 0.1428 - accuracy: 1.0000 - 9ms/epoch - 9ms/step\n",
            "Epoch 185/200\n",
            "1/1 - 0s - loss: 0.1399 - accuracy: 1.0000 - 9ms/epoch - 9ms/step\n",
            "Epoch 186/200\n",
            "1/1 - 0s - loss: 0.1371 - accuracy: 1.0000 - 8ms/epoch - 8ms/step\n",
            "Epoch 187/200\n",
            "1/1 - 0s - loss: 0.1344 - accuracy: 1.0000 - 8ms/epoch - 8ms/step\n",
            "Epoch 188/200\n",
            "1/1 - 0s - loss: 0.1318 - accuracy: 1.0000 - 10ms/epoch - 10ms/step\n",
            "Epoch 189/200\n",
            "1/1 - 0s - loss: 0.1292 - accuracy: 1.0000 - 8ms/epoch - 8ms/step\n",
            "Epoch 190/200\n",
            "1/1 - 0s - loss: 0.1267 - accuracy: 1.0000 - 8ms/epoch - 8ms/step\n",
            "Epoch 191/200\n",
            "1/1 - 0s - loss: 0.1242 - accuracy: 1.0000 - 8ms/epoch - 8ms/step\n",
            "Epoch 192/200\n",
            "1/1 - 0s - loss: 0.1218 - accuracy: 1.0000 - 10ms/epoch - 10ms/step\n",
            "Epoch 193/200\n",
            "1/1 - 0s - loss: 0.1195 - accuracy: 1.0000 - 8ms/epoch - 8ms/step\n",
            "Epoch 194/200\n",
            "1/1 - 0s - loss: 0.1172 - accuracy: 1.0000 - 9ms/epoch - 9ms/step\n",
            "Epoch 195/200\n",
            "1/1 - 0s - loss: 0.1150 - accuracy: 1.0000 - 8ms/epoch - 8ms/step\n",
            "Epoch 196/200\n",
            "1/1 - 0s - loss: 0.1128 - accuracy: 1.0000 - 9ms/epoch - 9ms/step\n",
            "Epoch 197/200\n",
            "1/1 - 0s - loss: 0.1107 - accuracy: 1.0000 - 8ms/epoch - 8ms/step\n",
            "Epoch 198/200\n",
            "1/1 - 0s - loss: 0.1087 - accuracy: 1.0000 - 8ms/epoch - 8ms/step\n",
            "Epoch 199/200\n",
            "1/1 - 0s - loss: 0.1067 - accuracy: 1.0000 - 8ms/epoch - 8ms/step\n",
            "Epoch 200/200\n",
            "1/1 - 0s - loss: 0.1047 - accuracy: 1.0000 - 8ms/epoch - 8ms/step\n"
          ]
        },
        {
          "output_type": "execute_result",
          "data": {
            "text/plain": [
              "<keras.callbacks.History at 0x7fb086af8f10>"
            ]
          },
          "metadata": {},
          "execution_count": 43
        }
      ]
    },
    {
      "cell_type": "code",
      "source": [
        "def sentence_generation(model, tokenizer, current_word, n):\n",
        "  init_word = current_word\n",
        "  sentence = ''\n",
        "\n",
        "  for _ in range(n):\n",
        "    encoded = tokenizer.texts_to_sequences([current_word])[0]\n",
        "    encoded = pad_sequences([encoded], maxlen=5, padding='pre')\n",
        "    result = model.predict(encoded, verbose=0)\n",
        "    result = np.argmax(result, axis=1)\n",
        "\n",
        "    for word, index in tokenizer.word_index.items():\n",
        "      if index == result:\n",
        "        break\n",
        "\n",
        "    current_word = current_word + ' ' + word\n",
        "    sentence = sentence + ' ' + word\n",
        "\n",
        "  sentence = init_word + sentence\n",
        "  return sentence"
      ],
      "metadata": {
        "id": "I6AE60MfMfdx"
      },
      "execution_count": 46,
      "outputs": []
    },
    {
      "cell_type": "code",
      "source": [
        "print(sentence_generation(model, tokenizer, '경마장에', 4))"
      ],
      "metadata": {
        "colab": {
          "base_uri": "https://localhost:8080/"
        },
        "id": "Mx5x_yDzMfas",
        "outputId": "5f7206fe-3620-49bb-9ddb-9ed573dcc033"
      },
      "execution_count": 47,
      "outputs": [
        {
          "output_type": "stream",
          "name": "stdout",
          "text": [
            "경마장에 있는 말이 뛰고 있다\n"
          ]
        }
      ]
    },
    {
      "cell_type": "code",
      "source": [
        "print(sentence_generation(model, tokenizer, '그의', 2))"
      ],
      "metadata": {
        "colab": {
          "base_uri": "https://localhost:8080/"
        },
        "id": "fRC22wfpMfYg",
        "outputId": "eb19912f-af5c-4f26-b23e-7815ef47f1f8"
      },
      "execution_count": 48,
      "outputs": [
        {
          "output_type": "stream",
          "name": "stdout",
          "text": [
            "그의 말이 법이다\n"
          ]
        }
      ]
    },
    {
      "cell_type": "code",
      "source": [
        "print(sentence_generation(model, tokenizer, '가는', 5))"
      ],
      "metadata": {
        "colab": {
          "base_uri": "https://localhost:8080/"
        },
        "id": "c3aSnmuYMfV3",
        "outputId": "3d59fa4c-e4b5-451b-c71b-f4957acad51d"
      },
      "execution_count": 49,
      "outputs": [
        {
          "output_type": "stream",
          "name": "stdout",
          "text": [
            "가는 말이 고와야 오는 말이 곱다\n"
          ]
        }
      ]
    },
    {
      "cell_type": "code",
      "source": [
        "##LSTM을 이용하여 텍스트 생성하기"
      ],
      "metadata": {
        "id": "QoSOuN2bMfTk"
      },
      "execution_count": null,
      "outputs": []
    },
    {
      "cell_type": "code",
      "source": [
        "import pandas as pd\n",
        "import numpy as np\n",
        "from string import punctuation\n",
        "\n",
        "from tensorflow.keras.preprocessing.text import Tokenizer\n",
        "from tensorflow.keras.preprocessing.sequence import pad_sequences\n",
        "from tensorflow.keras.utils import to_categorical"
      ],
      "metadata": {
        "id": "9rcEvLdWMfQT"
      },
      "execution_count": 50,
      "outputs": []
    },
    {
      "cell_type": "code",
      "source": [
        "df = pd.read_csv('ArticlesApril2018.csv')\n",
        "df.head()"
      ],
      "metadata": {
        "colab": {
          "base_uri": "https://localhost:8080/",
          "height": 704
        },
        "id": "26yeKdUm3ihn",
        "outputId": "d4c6a972-d244-482f-efa2-7a98e52c7e56"
      },
      "execution_count": 67,
      "outputs": [
        {
          "output_type": "execute_result",
          "data": {
            "text/plain": [
              "                  articleID  articleWordCount  \\\n",
              "0  5adf6684068401528a2aa69b               781   \n",
              "1  5adf653f068401528a2aa697               656   \n",
              "2  5adf4626068401528a2aa628              2427   \n",
              "3  5adf40d2068401528a2aa619               626   \n",
              "4  5adf3d64068401528a2aa60f               815   \n",
              "\n",
              "                                      byline documentType  \\\n",
              "0                             By JOHN BRANCH      article   \n",
              "1                           By LISA FRIEDMAN      article   \n",
              "2                              By PETE WELLS      article   \n",
              "3  By JULIE HIRSCHFELD DAVIS and PETER BAKER      article   \n",
              "4             By IAN AUSTEN and DAN BILEFSKY      article   \n",
              "\n",
              "                                            headline  \\\n",
              "0  Former N.F.L. Cheerleaders’ Settlement Offer: ...   \n",
              "1  E.P.A. to Unveil a New Rule. Its Effect: Less ...   \n",
              "2                            The New Noma, Explained   \n",
              "3                                            Unknown   \n",
              "4                                            Unknown   \n",
              "\n",
              "                                            keywords  multimedia     newDesk  \\\n",
              "0  ['Workplace Hazards and Violations', 'Football...          68      Sports   \n",
              "1  ['Environmental Protection Agency', 'Pruitt, S...          68     Climate   \n",
              "2  ['Restaurants', 'Noma (Copenhagen, Restaurant)...          66      Dining   \n",
              "3  ['Macron, Emmanuel (1977- )', 'Trump, Donald J...          68  Washington   \n",
              "4  ['Toronto, Ontario, Attack (April, 2018)', 'Mu...          68     Foreign   \n",
              "\n",
              "   printPage              pubDate   sectionName  \\\n",
              "0          0  2018-04-24 17:16:49  Pro Football   \n",
              "1          0  2018-04-24 17:11:21       Unknown   \n",
              "2          0  2018-04-24 14:58:44       Unknown   \n",
              "3          0  2018-04-24 14:35:57        Europe   \n",
              "4          0  2018-04-24 14:21:21        Canada   \n",
              "\n",
              "                                             snippet              source  \\\n",
              "0  “I understand that they could meet with us, pa...  The New York Times   \n",
              "1  The agency plans to publish a new regulation T...  The New York Times   \n",
              "2  What’s it like to eat at the second incarnatio...  The New York Times   \n",
              "3  President Trump welcomed President Emmanuel Ma...  The New York Times   \n",
              "4  Alek Minassian, 25, a resident of Toronto’s Ri...  The New York Times   \n",
              "\n",
              "  typeOfMaterial                                             webURL  \n",
              "0           News  https://www.nytimes.com/2018/04/24/sports/foot...  \n",
              "1           News  https://www.nytimes.com/2018/04/24/climate/epa...  \n",
              "2           News  https://www.nytimes.com/2018/04/24/dining/noma...  \n",
              "3           News  https://www.nytimes.com/2018/04/24/world/europ...  \n",
              "4           News  https://www.nytimes.com/2018/04/24/world/canad...  "
            ],
            "text/html": [
              "\n",
              "  <div id=\"df-6ec180ce-1636-43a8-8983-152b091563d9\">\n",
              "    <div class=\"colab-df-container\">\n",
              "      <div>\n",
              "<style scoped>\n",
              "    .dataframe tbody tr th:only-of-type {\n",
              "        vertical-align: middle;\n",
              "    }\n",
              "\n",
              "    .dataframe tbody tr th {\n",
              "        vertical-align: top;\n",
              "    }\n",
              "\n",
              "    .dataframe thead th {\n",
              "        text-align: right;\n",
              "    }\n",
              "</style>\n",
              "<table border=\"1\" class=\"dataframe\">\n",
              "  <thead>\n",
              "    <tr style=\"text-align: right;\">\n",
              "      <th></th>\n",
              "      <th>articleID</th>\n",
              "      <th>articleWordCount</th>\n",
              "      <th>byline</th>\n",
              "      <th>documentType</th>\n",
              "      <th>headline</th>\n",
              "      <th>keywords</th>\n",
              "      <th>multimedia</th>\n",
              "      <th>newDesk</th>\n",
              "      <th>printPage</th>\n",
              "      <th>pubDate</th>\n",
              "      <th>sectionName</th>\n",
              "      <th>snippet</th>\n",
              "      <th>source</th>\n",
              "      <th>typeOfMaterial</th>\n",
              "      <th>webURL</th>\n",
              "    </tr>\n",
              "  </thead>\n",
              "  <tbody>\n",
              "    <tr>\n",
              "      <th>0</th>\n",
              "      <td>5adf6684068401528a2aa69b</td>\n",
              "      <td>781</td>\n",
              "      <td>By JOHN BRANCH</td>\n",
              "      <td>article</td>\n",
              "      <td>Former N.F.L. Cheerleaders’ Settlement Offer: ...</td>\n",
              "      <td>['Workplace Hazards and Violations', 'Football...</td>\n",
              "      <td>68</td>\n",
              "      <td>Sports</td>\n",
              "      <td>0</td>\n",
              "      <td>2018-04-24 17:16:49</td>\n",
              "      <td>Pro Football</td>\n",
              "      <td>“I understand that they could meet with us, pa...</td>\n",
              "      <td>The New York Times</td>\n",
              "      <td>News</td>\n",
              "      <td>https://www.nytimes.com/2018/04/24/sports/foot...</td>\n",
              "    </tr>\n",
              "    <tr>\n",
              "      <th>1</th>\n",
              "      <td>5adf653f068401528a2aa697</td>\n",
              "      <td>656</td>\n",
              "      <td>By LISA FRIEDMAN</td>\n",
              "      <td>article</td>\n",
              "      <td>E.P.A. to Unveil a New Rule. Its Effect: Less ...</td>\n",
              "      <td>['Environmental Protection Agency', 'Pruitt, S...</td>\n",
              "      <td>68</td>\n",
              "      <td>Climate</td>\n",
              "      <td>0</td>\n",
              "      <td>2018-04-24 17:11:21</td>\n",
              "      <td>Unknown</td>\n",
              "      <td>The agency plans to publish a new regulation T...</td>\n",
              "      <td>The New York Times</td>\n",
              "      <td>News</td>\n",
              "      <td>https://www.nytimes.com/2018/04/24/climate/epa...</td>\n",
              "    </tr>\n",
              "    <tr>\n",
              "      <th>2</th>\n",
              "      <td>5adf4626068401528a2aa628</td>\n",
              "      <td>2427</td>\n",
              "      <td>By PETE WELLS</td>\n",
              "      <td>article</td>\n",
              "      <td>The New Noma, Explained</td>\n",
              "      <td>['Restaurants', 'Noma (Copenhagen, Restaurant)...</td>\n",
              "      <td>66</td>\n",
              "      <td>Dining</td>\n",
              "      <td>0</td>\n",
              "      <td>2018-04-24 14:58:44</td>\n",
              "      <td>Unknown</td>\n",
              "      <td>What’s it like to eat at the second incarnatio...</td>\n",
              "      <td>The New York Times</td>\n",
              "      <td>News</td>\n",
              "      <td>https://www.nytimes.com/2018/04/24/dining/noma...</td>\n",
              "    </tr>\n",
              "    <tr>\n",
              "      <th>3</th>\n",
              "      <td>5adf40d2068401528a2aa619</td>\n",
              "      <td>626</td>\n",
              "      <td>By JULIE HIRSCHFELD DAVIS and PETER BAKER</td>\n",
              "      <td>article</td>\n",
              "      <td>Unknown</td>\n",
              "      <td>['Macron, Emmanuel (1977- )', 'Trump, Donald J...</td>\n",
              "      <td>68</td>\n",
              "      <td>Washington</td>\n",
              "      <td>0</td>\n",
              "      <td>2018-04-24 14:35:57</td>\n",
              "      <td>Europe</td>\n",
              "      <td>President Trump welcomed President Emmanuel Ma...</td>\n",
              "      <td>The New York Times</td>\n",
              "      <td>News</td>\n",
              "      <td>https://www.nytimes.com/2018/04/24/world/europ...</td>\n",
              "    </tr>\n",
              "    <tr>\n",
              "      <th>4</th>\n",
              "      <td>5adf3d64068401528a2aa60f</td>\n",
              "      <td>815</td>\n",
              "      <td>By IAN AUSTEN and DAN BILEFSKY</td>\n",
              "      <td>article</td>\n",
              "      <td>Unknown</td>\n",
              "      <td>['Toronto, Ontario, Attack (April, 2018)', 'Mu...</td>\n",
              "      <td>68</td>\n",
              "      <td>Foreign</td>\n",
              "      <td>0</td>\n",
              "      <td>2018-04-24 14:21:21</td>\n",
              "      <td>Canada</td>\n",
              "      <td>Alek Minassian, 25, a resident of Toronto’s Ri...</td>\n",
              "      <td>The New York Times</td>\n",
              "      <td>News</td>\n",
              "      <td>https://www.nytimes.com/2018/04/24/world/canad...</td>\n",
              "    </tr>\n",
              "  </tbody>\n",
              "</table>\n",
              "</div>\n",
              "      <button class=\"colab-df-convert\" onclick=\"convertToInteractive('df-6ec180ce-1636-43a8-8983-152b091563d9')\"\n",
              "              title=\"Convert this dataframe to an interactive table.\"\n",
              "              style=\"display:none;\">\n",
              "        \n",
              "  <svg xmlns=\"http://www.w3.org/2000/svg\" height=\"24px\"viewBox=\"0 0 24 24\"\n",
              "       width=\"24px\">\n",
              "    <path d=\"M0 0h24v24H0V0z\" fill=\"none\"/>\n",
              "    <path d=\"M18.56 5.44l.94 2.06.94-2.06 2.06-.94-2.06-.94-.94-2.06-.94 2.06-2.06.94zm-11 1L8.5 8.5l.94-2.06 2.06-.94-2.06-.94L8.5 2.5l-.94 2.06-2.06.94zm10 10l.94 2.06.94-2.06 2.06-.94-2.06-.94-.94-2.06-.94 2.06-2.06.94z\"/><path d=\"M17.41 7.96l-1.37-1.37c-.4-.4-.92-.59-1.43-.59-.52 0-1.04.2-1.43.59L10.3 9.45l-7.72 7.72c-.78.78-.78 2.05 0 2.83L4 21.41c.39.39.9.59 1.41.59.51 0 1.02-.2 1.41-.59l7.78-7.78 2.81-2.81c.8-.78.8-2.07 0-2.86zM5.41 20L4 18.59l7.72-7.72 1.47 1.35L5.41 20z\"/>\n",
              "  </svg>\n",
              "      </button>\n",
              "      \n",
              "  <style>\n",
              "    .colab-df-container {\n",
              "      display:flex;\n",
              "      flex-wrap:wrap;\n",
              "      gap: 12px;\n",
              "    }\n",
              "\n",
              "    .colab-df-convert {\n",
              "      background-color: #E8F0FE;\n",
              "      border: none;\n",
              "      border-radius: 50%;\n",
              "      cursor: pointer;\n",
              "      display: none;\n",
              "      fill: #1967D2;\n",
              "      height: 32px;\n",
              "      padding: 0 0 0 0;\n",
              "      width: 32px;\n",
              "    }\n",
              "\n",
              "    .colab-df-convert:hover {\n",
              "      background-color: #E2EBFA;\n",
              "      box-shadow: 0px 1px 2px rgba(60, 64, 67, 0.3), 0px 1px 3px 1px rgba(60, 64, 67, 0.15);\n",
              "      fill: #174EA6;\n",
              "    }\n",
              "\n",
              "    [theme=dark] .colab-df-convert {\n",
              "      background-color: #3B4455;\n",
              "      fill: #D2E3FC;\n",
              "    }\n",
              "\n",
              "    [theme=dark] .colab-df-convert:hover {\n",
              "      background-color: #434B5C;\n",
              "      box-shadow: 0px 1px 3px 1px rgba(0, 0, 0, 0.15);\n",
              "      filter: drop-shadow(0px 1px 2px rgba(0, 0, 0, 0.3));\n",
              "      fill: #FFFFFF;\n",
              "    }\n",
              "  </style>\n",
              "\n",
              "      <script>\n",
              "        const buttonEl =\n",
              "          document.querySelector('#df-6ec180ce-1636-43a8-8983-152b091563d9 button.colab-df-convert');\n",
              "        buttonEl.style.display =\n",
              "          google.colab.kernel.accessAllowed ? 'block' : 'none';\n",
              "\n",
              "        async function convertToInteractive(key) {\n",
              "          const element = document.querySelector('#df-6ec180ce-1636-43a8-8983-152b091563d9');\n",
              "          const dataTable =\n",
              "            await google.colab.kernel.invokeFunction('convertToInteractive',\n",
              "                                                     [key], {});\n",
              "          if (!dataTable) return;\n",
              "\n",
              "          const docLinkHtml = 'Like what you see? Visit the ' +\n",
              "            '<a target=\"_blank\" href=https://colab.research.google.com/notebooks/data_table.ipynb>data table notebook</a>'\n",
              "            + ' to learn more about interactive tables.';\n",
              "          element.innerHTML = '';\n",
              "          dataTable['output_type'] = 'display_data';\n",
              "          await google.colab.output.renderOutput(dataTable, element);\n",
              "          const docLink = document.createElement('div');\n",
              "          docLink.innerHTML = docLinkHtml;\n",
              "          element.appendChild(docLink);\n",
              "        }\n",
              "      </script>\n",
              "    </div>\n",
              "  </div>\n",
              "  "
            ]
          },
          "metadata": {},
          "execution_count": 67
        }
      ]
    },
    {
      "cell_type": "code",
      "source": [
        "print('열의 개수: ', len(df.columns))\n",
        "print(df.columns)"
      ],
      "metadata": {
        "colab": {
          "base_uri": "https://localhost:8080/"
        },
        "id": "AZv5A0JT3ifm",
        "outputId": "77cfd554-2394-4758-94be-07a23cd4bc0e"
      },
      "execution_count": 69,
      "outputs": [
        {
          "output_type": "stream",
          "name": "stdout",
          "text": [
            "열의 개수:  15\n",
            "Index(['articleID', 'articleWordCount', 'byline', 'documentType', 'headline',\n",
            "       'keywords', 'multimedia', 'newDesk', 'printPage', 'pubDate',\n",
            "       'sectionName', 'snippet', 'source', 'typeOfMaterial', 'webURL'],\n",
            "      dtype='object')\n"
          ]
        }
      ]
    },
    {
      "cell_type": "code",
      "source": [
        "print(df['headline'].isnull().values.any())"
      ],
      "metadata": {
        "colab": {
          "base_uri": "https://localhost:8080/"
        },
        "id": "kHTxVNWJ3idj",
        "outputId": "6b1fb068-0078-477f-fc71-58f645ceb936"
      },
      "execution_count": 70,
      "outputs": [
        {
          "output_type": "stream",
          "name": "stdout",
          "text": [
            "False\n"
          ]
        }
      ]
    },
    {
      "cell_type": "code",
      "source": [
        "headline = []\n",
        "headline.extend(list(df.headline.values))\n",
        "headline[:5]"
      ],
      "metadata": {
        "colab": {
          "base_uri": "https://localhost:8080/"
        },
        "id": "UNupN9kr3ibT",
        "outputId": "db546556-67e2-4d37-809a-536ab7380741"
      },
      "execution_count": 71,
      "outputs": [
        {
          "output_type": "execute_result",
          "data": {
            "text/plain": [
              "['Former N.F.L. Cheerleaders’ Settlement Offer: $1 and a Meeting With Goodell',\n",
              " 'E.P.A. to Unveil a New Rule. Its Effect: Less Science in Policymaking.',\n",
              " 'The New Noma, Explained',\n",
              " 'Unknown',\n",
              " 'Unknown']"
            ]
          },
          "metadata": {},
          "execution_count": 71
        }
      ]
    },
    {
      "cell_type": "code",
      "source": [
        "print('총 샘플의 개수 : {}'.format(len(headline)))"
      ],
      "metadata": {
        "colab": {
          "base_uri": "https://localhost:8080/"
        },
        "id": "8n7ZfqzX3iY_",
        "outputId": "7c40d011-e629-40c4-c56a-06e0dd7960e2"
      },
      "execution_count": 72,
      "outputs": [
        {
          "output_type": "stream",
          "name": "stdout",
          "text": [
            "총 샘플의 개수 : 1324\n"
          ]
        }
      ]
    },
    {
      "cell_type": "code",
      "source": [
        "headline = [word for word in headline if word != \"Unknown\"]\n",
        "print('노이즈값 제거 후 샘플의 개수 : {}'.format(len(headline)))"
      ],
      "metadata": {
        "colab": {
          "base_uri": "https://localhost:8080/"
        },
        "id": "mp8XewTH3iWs",
        "outputId": "fb43c153-6c7b-4447-bb91-51216a6d2a91"
      },
      "execution_count": 73,
      "outputs": [
        {
          "output_type": "stream",
          "name": "stdout",
          "text": [
            "노이즈값 제거 후 샘플의 개수 : 1214\n"
          ]
        }
      ]
    },
    {
      "cell_type": "code",
      "source": [
        "headline[:5]"
      ],
      "metadata": {
        "colab": {
          "base_uri": "https://localhost:8080/"
        },
        "id": "ajOA6inZ3iRM",
        "outputId": "68a96a62-7de1-4195-ed8f-b6d13d87a679"
      },
      "execution_count": 74,
      "outputs": [
        {
          "output_type": "execute_result",
          "data": {
            "text/plain": [
              "['Former N.F.L. Cheerleaders’ Settlement Offer: $1 and a Meeting With Goodell',\n",
              " 'E.P.A. to Unveil a New Rule. Its Effect: Less Science in Policymaking.',\n",
              " 'The New Noma, Explained',\n",
              " 'How a Bag of Texas Dirt  Became a Times Tradition',\n",
              " 'Is School a Place for Self-Expression?']"
            ]
          },
          "metadata": {},
          "execution_count": 74
        }
      ]
    },
    {
      "cell_type": "code",
      "source": [
        "def repreprocessing(raw_sentence):\n",
        "  preproceseed_sentence = raw_sentence.encode(\"utf8\").decode(\"ascii\", 'ignore')\n",
        "  return ''.join(word for word in preproceseed_sentence if word not in punctuation).lower()\n",
        "preprocessed_headline = [repreprocessing(x) for x in headline]\n",
        "preprocessed_headline[:5]"
      ],
      "metadata": {
        "colab": {
          "base_uri": "https://localhost:8080/"
        },
        "id": "uVWLLrIX9uil",
        "outputId": "5dc3bdce-1e83-46fa-8584-a1a9276ce4d5"
      },
      "execution_count": 75,
      "outputs": [
        {
          "output_type": "execute_result",
          "data": {
            "text/plain": [
              "['former nfl cheerleaders settlement offer 1 and a meeting with goodell',\n",
              " 'epa to unveil a new rule its effect less science in policymaking',\n",
              " 'the new noma explained',\n",
              " 'how a bag of texas dirt  became a times tradition',\n",
              " 'is school a place for selfexpression']"
            ]
          },
          "metadata": {},
          "execution_count": 75
        }
      ]
    },
    {
      "cell_type": "code",
      "source": [
        "tokenizer = Tokenizer()\n",
        "tokenizer.fit_on_texts(preprocessed_headline)\n",
        "vocab_size = len(tokenizer.word_index) + 1\n",
        "print('단어 집합의 크기 : %d' % vocab_size)"
      ],
      "metadata": {
        "colab": {
          "base_uri": "https://localhost:8080/"
        },
        "id": "2kCm7wnF9uge",
        "outputId": "b74a4541-b203-4242-8638-795303a84d2d"
      },
      "execution_count": 77,
      "outputs": [
        {
          "output_type": "stream",
          "name": "stdout",
          "text": [
            "단어 집합의 크기 : 3494\n"
          ]
        }
      ]
    },
    {
      "cell_type": "code",
      "source": [
        "sequences = list()\n",
        "\n",
        "for sentence in preprocessed_headline:\n",
        "  encoded = tokenizer.texts_to_sequences([sentence])[0]\n",
        "  for i in range(1, len(encoded)):\n",
        "    sequence = encoded[:i+1]\n",
        "    sequences.append(sequence)\n",
        "\n",
        "sequences[:11]"
      ],
      "metadata": {
        "colab": {
          "base_uri": "https://localhost:8080/"
        },
        "id": "xuGNb-rb9ueF",
        "outputId": "d7f6f985-44fb-4035-e78e-e11412b661cc"
      },
      "execution_count": 84,
      "outputs": [
        {
          "output_type": "execute_result",
          "data": {
            "text/plain": [
              "[[99, 269],\n",
              " [99, 269, 371],\n",
              " [99, 269, 371, 1115],\n",
              " [99, 269, 371, 1115, 582],\n",
              " [99, 269, 371, 1115, 582, 52],\n",
              " [99, 269, 371, 1115, 582, 52, 7],\n",
              " [99, 269, 371, 1115, 582, 52, 7, 2],\n",
              " [99, 269, 371, 1115, 582, 52, 7, 2, 372],\n",
              " [99, 269, 371, 1115, 582, 52, 7, 2, 372, 10],\n",
              " [99, 269, 371, 1115, 582, 52, 7, 2, 372, 10, 1116],\n",
              " [100, 3]]"
            ]
          },
          "metadata": {},
          "execution_count": 84
        }
      ]
    },
    {
      "cell_type": "code",
      "source": [
        "index_to_word = {}\n",
        "for key, value in tokenizer.word_index.items():\n",
        "  index_to_word[value] = key\n",
        "print('빈도수 상위 582번 단어 : {}'.format(index_to_word[582]))"
      ],
      "metadata": {
        "colab": {
          "base_uri": "https://localhost:8080/"
        },
        "id": "EKHSHOck9ucc",
        "outputId": "d6e8d717-8427-49d5-fffa-0cff2c3041e8"
      },
      "execution_count": 85,
      "outputs": [
        {
          "output_type": "stream",
          "name": "stdout",
          "text": [
            "빈도수 상위 582번 단어 : offer\n"
          ]
        }
      ]
    },
    {
      "cell_type": "code",
      "source": [
        "max_len = max(len(l) for l in sequences)\n",
        "print('샘플의 최대 길이 : {}'.format(max_len))"
      ],
      "metadata": {
        "colab": {
          "base_uri": "https://localhost:8080/"
        },
        "id": "kb3OzOS_9uaV",
        "outputId": "3383e02d-5da3-410e-aebf-33146de4c466"
      },
      "execution_count": 86,
      "outputs": [
        {
          "output_type": "stream",
          "name": "stdout",
          "text": [
            "샘플의 최대 길이 : 24\n"
          ]
        }
      ]
    },
    {
      "cell_type": "code",
      "source": [
        "sequences = pad_sequences(sequences, maxlen=max_len, padding='pre')\n",
        "print(sequences[:3])"
      ],
      "metadata": {
        "colab": {
          "base_uri": "https://localhost:8080/"
        },
        "id": "BBaED-S69uW-",
        "outputId": "e03fc139-e6d1-431d-d55b-95a34a10b0ce"
      },
      "execution_count": 87,
      "outputs": [
        {
          "output_type": "stream",
          "name": "stdout",
          "text": [
            "[[   0    0    0    0    0    0    0    0    0    0    0    0    0    0\n",
            "     0    0    0    0    0    0    0    0   99  269]\n",
            " [   0    0    0    0    0    0    0    0    0    0    0    0    0    0\n",
            "     0    0    0    0    0    0    0   99  269  371]\n",
            " [   0    0    0    0    0    0    0    0    0    0    0    0    0    0\n",
            "     0    0    0    0    0    0   99  269  371 1115]]\n"
          ]
        }
      ]
    },
    {
      "cell_type": "code",
      "source": [
        "sequences = np.array(sequences)\n",
        "X = sequences[:,:-1]\n",
        "y = sequences[:,-1]"
      ],
      "metadata": {
        "id": "SWvDx5d5Crdy"
      },
      "execution_count": 88,
      "outputs": []
    },
    {
      "cell_type": "code",
      "source": [
        "print(X[:3])"
      ],
      "metadata": {
        "colab": {
          "base_uri": "https://localhost:8080/"
        },
        "id": "O5x-t1DnCrZz",
        "outputId": "ce574ac6-a288-46e2-b513-03d580ba149a"
      },
      "execution_count": 89,
      "outputs": [
        {
          "output_type": "stream",
          "name": "stdout",
          "text": [
            "[[  0   0   0   0   0   0   0   0   0   0   0   0   0   0   0   0   0   0\n",
            "    0   0   0   0  99]\n",
            " [  0   0   0   0   0   0   0   0   0   0   0   0   0   0   0   0   0   0\n",
            "    0   0   0  99 269]\n",
            " [  0   0   0   0   0   0   0   0   0   0   0   0   0   0   0   0   0   0\n",
            "    0   0  99 269 371]]\n"
          ]
        }
      ]
    },
    {
      "cell_type": "code",
      "source": [
        "print(y[:3])"
      ],
      "metadata": {
        "colab": {
          "base_uri": "https://localhost:8080/"
        },
        "id": "t3AV9KikCrUy",
        "outputId": "6113bb04-dab0-4bcd-e638-a1534ff042e5"
      },
      "execution_count": 90,
      "outputs": [
        {
          "output_type": "stream",
          "name": "stdout",
          "text": [
            "[ 269  371 1115]\n"
          ]
        }
      ]
    },
    {
      "cell_type": "code",
      "source": [
        "y = to_categorical(y, num_classes=vocab_size)"
      ],
      "metadata": {
        "id": "tikBF_IeCvBo"
      },
      "execution_count": 91,
      "outputs": []
    },
    {
      "cell_type": "markdown",
      "source": [
        "**모델 설계하기**"
      ],
      "metadata": {
        "id": "tJPMyDqVLMiB"
      }
    },
    {
      "cell_type": "code",
      "source": [
        "from tensorflow.keras.models import Sequential\n",
        "from tensorflow.keras.layers import Embedding, Dense, LSTM"
      ],
      "metadata": {
        "id": "MfH5kOUpCu-6"
      },
      "execution_count": 92,
      "outputs": []
    },
    {
      "cell_type": "code",
      "source": [
        "embedding_dim = 10\n",
        "hidden_units = 128\n",
        "\n",
        "model = Sequential()\n",
        "model.add(Embedding(vocab_size, embedding_dim))\n",
        "model.add(LSTM(hidden_units))\n",
        "model.add(Dense(vocab_size, activation='softmax'))\n",
        "model.compile(loss='categorical_crossentropy', optimizer='adam', metrics=['accuracy'])\n",
        "model.fit(X, y, epochs=200, verbose=2)"
      ],
      "metadata": {
        "colab": {
          "base_uri": "https://localhost:8080/"
        },
        "id": "S1KeVtPmCy8e",
        "outputId": "ce407757-7075-4794-d818-d5cb737b3768"
      },
      "execution_count": 93,
      "outputs": [
        {
          "output_type": "stream",
          "name": "stdout",
          "text": [
            "Epoch 1/200\n",
            "244/244 - 14s - loss: 7.6661 - accuracy: 0.0279 - 14s/epoch - 58ms/step\n",
            "Epoch 2/200\n",
            "244/244 - 12s - loss: 7.1193 - accuracy: 0.0300 - 12s/epoch - 50ms/step\n",
            "Epoch 3/200\n",
            "244/244 - 13s - loss: 6.9836 - accuracy: 0.0311 - 13s/epoch - 53ms/step\n",
            "Epoch 4/200\n",
            "244/244 - 15s - loss: 6.8588 - accuracy: 0.0420 - 15s/epoch - 61ms/step\n",
            "Epoch 5/200\n",
            "244/244 - 9s - loss: 6.7088 - accuracy: 0.0427 - 9s/epoch - 38ms/step\n",
            "Epoch 6/200\n",
            "244/244 - 11s - loss: 6.5330 - accuracy: 0.0466 - 11s/epoch - 45ms/step\n",
            "Epoch 7/200\n",
            "244/244 - 13s - loss: 6.3374 - accuracy: 0.0505 - 13s/epoch - 51ms/step\n",
            "Epoch 8/200\n",
            "244/244 - 11s - loss: 6.1318 - accuracy: 0.0565 - 11s/epoch - 44ms/step\n",
            "Epoch 9/200\n",
            "244/244 - 9s - loss: 5.9307 - accuracy: 0.0613 - 9s/epoch - 38ms/step\n",
            "Epoch 10/200\n",
            "244/244 - 9s - loss: 5.7448 - accuracy: 0.0666 - 9s/epoch - 38ms/step\n",
            "Epoch 11/200\n",
            "244/244 - 9s - loss: 5.5737 - accuracy: 0.0701 - 9s/epoch - 38ms/step\n",
            "Epoch 12/200\n",
            "244/244 - 9s - loss: 5.4165 - accuracy: 0.0746 - 9s/epoch - 38ms/step\n",
            "Epoch 13/200\n",
            "244/244 - 10s - loss: 5.2624 - accuracy: 0.0795 - 10s/epoch - 41ms/step\n",
            "Epoch 14/200\n",
            "244/244 - 9s - loss: 5.1214 - accuracy: 0.0851 - 9s/epoch - 38ms/step\n",
            "Epoch 15/200\n",
            "244/244 - 11s - loss: 4.9819 - accuracy: 0.0920 - 11s/epoch - 45ms/step\n",
            "Epoch 16/200\n",
            "244/244 - 9s - loss: 4.8476 - accuracy: 0.1064 - 9s/epoch - 38ms/step\n",
            "Epoch 17/200\n",
            "244/244 - 9s - loss: 4.7188 - accuracy: 0.1101 - 9s/epoch - 38ms/step\n",
            "Epoch 18/200\n",
            "244/244 - 9s - loss: 4.5941 - accuracy: 0.1265 - 9s/epoch - 38ms/step\n",
            "Epoch 19/200\n",
            "244/244 - 12s - loss: 4.4738 - accuracy: 0.1393 - 12s/epoch - 51ms/step\n",
            "Epoch 20/200\n",
            "244/244 - 14s - loss: 4.3570 - accuracy: 0.1562 - 14s/epoch - 57ms/step\n",
            "Epoch 21/200\n",
            "244/244 - 13s - loss: 4.2434 - accuracy: 0.1681 - 13s/epoch - 54ms/step\n",
            "Epoch 22/200\n",
            "244/244 - 13s - loss: 4.1302 - accuracy: 0.1879 - 13s/epoch - 55ms/step\n",
            "Epoch 23/200\n",
            "244/244 - 13s - loss: 4.0230 - accuracy: 0.1972 - 13s/epoch - 51ms/step\n",
            "Epoch 24/200\n",
            "244/244 - 12s - loss: 3.9168 - accuracy: 0.2184 - 12s/epoch - 50ms/step\n",
            "Epoch 25/200\n",
            "244/244 - 13s - loss: 3.8146 - accuracy: 0.2361 - 13s/epoch - 53ms/step\n",
            "Epoch 26/200\n",
            "244/244 - 13s - loss: 3.7141 - accuracy: 0.2516 - 13s/epoch - 55ms/step\n",
            "Epoch 27/200\n",
            "244/244 - 13s - loss: 3.6190 - accuracy: 0.2708 - 13s/epoch - 55ms/step\n",
            "Epoch 28/200\n",
            "244/244 - 11s - loss: 3.5249 - accuracy: 0.2875 - 11s/epoch - 44ms/step\n",
            "Epoch 29/200\n",
            "244/244 - 10s - loss: 3.4346 - accuracy: 0.3072 - 10s/epoch - 40ms/step\n",
            "Epoch 30/200\n",
            "244/244 - 11s - loss: 3.3433 - accuracy: 0.3227 - 11s/epoch - 45ms/step\n",
            "Epoch 31/200\n",
            "244/244 - 9s - loss: 3.2581 - accuracy: 0.3394 - 9s/epoch - 38ms/step\n",
            "Epoch 32/200\n",
            "244/244 - 9s - loss: 3.1747 - accuracy: 0.3552 - 9s/epoch - 38ms/step\n",
            "Epoch 33/200\n",
            "244/244 - 9s - loss: 3.0968 - accuracy: 0.3692 - 9s/epoch - 38ms/step\n",
            "Epoch 34/200\n",
            "244/244 - 9s - loss: 3.0175 - accuracy: 0.3836 - 9s/epoch - 38ms/step\n",
            "Epoch 35/200\n",
            "244/244 - 9s - loss: 2.9412 - accuracy: 0.3966 - 9s/epoch - 39ms/step\n",
            "Epoch 36/200\n",
            "244/244 - 10s - loss: 2.8677 - accuracy: 0.4130 - 10s/epoch - 43ms/step\n",
            "Epoch 37/200\n",
            "244/244 - 9s - loss: 2.7946 - accuracy: 0.4286 - 9s/epoch - 38ms/step\n",
            "Epoch 38/200\n",
            "244/244 - 9s - loss: 2.7277 - accuracy: 0.4384 - 9s/epoch - 38ms/step\n",
            "Epoch 39/200\n",
            "244/244 - 9s - loss: 2.6609 - accuracy: 0.4498 - 9s/epoch - 38ms/step\n",
            "Epoch 40/200\n",
            "244/244 - 9s - loss: 2.5997 - accuracy: 0.4626 - 9s/epoch - 38ms/step\n",
            "Epoch 41/200\n",
            "244/244 - 9s - loss: 2.5351 - accuracy: 0.4752 - 9s/epoch - 39ms/step\n",
            "Epoch 42/200\n",
            "244/244 - 9s - loss: 2.4717 - accuracy: 0.4919 - 9s/epoch - 38ms/step\n",
            "Epoch 43/200\n",
            "244/244 - 11s - loss: 2.4128 - accuracy: 0.5060 - 11s/epoch - 47ms/step\n",
            "Epoch 44/200\n",
            "244/244 - 9s - loss: 2.3551 - accuracy: 0.5163 - 9s/epoch - 38ms/step\n",
            "Epoch 45/200\n",
            "244/244 - 9s - loss: 2.3006 - accuracy: 0.5304 - 9s/epoch - 38ms/step\n",
            "Epoch 46/200\n",
            "244/244 - 9s - loss: 2.2452 - accuracy: 0.5376 - 9s/epoch - 38ms/step\n",
            "Epoch 47/200\n",
            "244/244 - 9s - loss: 2.1903 - accuracy: 0.5499 - 9s/epoch - 38ms/step\n",
            "Epoch 48/200\n",
            "244/244 - 9s - loss: 2.1380 - accuracy: 0.5636 - 9s/epoch - 38ms/step\n",
            "Epoch 49/200\n",
            "244/244 - 9s - loss: 2.0883 - accuracy: 0.5744 - 9s/epoch - 38ms/step\n",
            "Epoch 50/200\n",
            "244/244 - 9s - loss: 2.0418 - accuracy: 0.5831 - 9s/epoch - 38ms/step\n",
            "Epoch 51/200\n",
            "244/244 - 11s - loss: 1.9900 - accuracy: 0.5923 - 11s/epoch - 44ms/step\n",
            "Epoch 52/200\n",
            "244/244 - 9s - loss: 1.9452 - accuracy: 0.6053 - 9s/epoch - 38ms/step\n",
            "Epoch 53/200\n",
            "244/244 - 9s - loss: 1.8984 - accuracy: 0.6127 - 9s/epoch - 38ms/step\n",
            "Epoch 54/200\n",
            "244/244 - 9s - loss: 1.8535 - accuracy: 0.6232 - 9s/epoch - 38ms/step\n",
            "Epoch 55/200\n",
            "244/244 - 9s - loss: 1.8082 - accuracy: 0.6340 - 9s/epoch - 39ms/step\n",
            "Epoch 56/200\n",
            "244/244 - 9s - loss: 1.7669 - accuracy: 0.6405 - 9s/epoch - 38ms/step\n",
            "Epoch 57/200\n",
            "244/244 - 9s - loss: 1.7251 - accuracy: 0.6542 - 9s/epoch - 38ms/step\n",
            "Epoch 58/200\n",
            "244/244 - 10s - loss: 1.6838 - accuracy: 0.6612 - 10s/epoch - 39ms/step\n",
            "Epoch 59/200\n",
            "244/244 - 9s - loss: 1.6444 - accuracy: 0.6673 - 9s/epoch - 39ms/step\n",
            "Epoch 60/200\n",
            "244/244 - 10s - loss: 1.6047 - accuracy: 0.6797 - 10s/epoch - 39ms/step\n",
            "Epoch 61/200\n",
            "244/244 - 10s - loss: 1.5692 - accuracy: 0.6861 - 10s/epoch - 39ms/step\n",
            "Epoch 62/200\n",
            "244/244 - 10s - loss: 1.5310 - accuracy: 0.6927 - 10s/epoch - 39ms/step\n",
            "Epoch 63/200\n",
            "244/244 - 9s - loss: 1.4934 - accuracy: 0.7006 - 9s/epoch - 39ms/step\n",
            "Epoch 64/200\n",
            "244/244 - 9s - loss: 1.4602 - accuracy: 0.7095 - 9s/epoch - 38ms/step\n",
            "Epoch 65/200\n",
            "244/244 - 9s - loss: 1.4243 - accuracy: 0.7173 - 9s/epoch - 38ms/step\n",
            "Epoch 66/200\n",
            "244/244 - 9s - loss: 1.3910 - accuracy: 0.7231 - 9s/epoch - 38ms/step\n",
            "Epoch 67/200\n",
            "244/244 - 9s - loss: 1.3585 - accuracy: 0.7314 - 9s/epoch - 38ms/step\n",
            "Epoch 68/200\n",
            "244/244 - 9s - loss: 1.3251 - accuracy: 0.7414 - 9s/epoch - 39ms/step\n",
            "Epoch 69/200\n",
            "244/244 - 9s - loss: 1.2926 - accuracy: 0.7434 - 9s/epoch - 39ms/step\n",
            "Epoch 70/200\n",
            "244/244 - 9s - loss: 1.2648 - accuracy: 0.7482 - 9s/epoch - 39ms/step\n",
            "Epoch 71/200\n",
            "244/244 - 9s - loss: 1.2342 - accuracy: 0.7556 - 9s/epoch - 38ms/step\n",
            "Epoch 72/200\n",
            "244/244 - 9s - loss: 1.2063 - accuracy: 0.7655 - 9s/epoch - 38ms/step\n",
            "Epoch 73/200\n",
            "244/244 - 10s - loss: 1.1770 - accuracy: 0.7703 - 10s/epoch - 39ms/step\n",
            "Epoch 74/200\n",
            "244/244 - 9s - loss: 1.1492 - accuracy: 0.7737 - 9s/epoch - 38ms/step\n",
            "Epoch 75/200\n",
            "244/244 - 11s - loss: 1.1197 - accuracy: 0.7830 - 11s/epoch - 44ms/step\n",
            "Epoch 76/200\n",
            "244/244 - 9s - loss: 1.0952 - accuracy: 0.7873 - 9s/epoch - 38ms/step\n",
            "Epoch 77/200\n",
            "244/244 - 9s - loss: 1.0668 - accuracy: 0.7919 - 9s/epoch - 37ms/step\n",
            "Epoch 78/200\n",
            "244/244 - 9s - loss: 1.0432 - accuracy: 0.7939 - 9s/epoch - 38ms/step\n",
            "Epoch 79/200\n",
            "244/244 - 9s - loss: 1.0199 - accuracy: 0.8008 - 9s/epoch - 38ms/step\n",
            "Epoch 80/200\n",
            "244/244 - 9s - loss: 0.9960 - accuracy: 0.8080 - 9s/epoch - 38ms/step\n",
            "Epoch 81/200\n",
            "244/244 - 10s - loss: 0.9726 - accuracy: 0.8101 - 10s/epoch - 40ms/step\n",
            "Epoch 82/200\n",
            "244/244 - 11s - loss: 0.9519 - accuracy: 0.8157 - 11s/epoch - 47ms/step\n",
            "Epoch 83/200\n",
            "244/244 - 10s - loss: 0.9272 - accuracy: 0.8178 - 10s/epoch - 39ms/step\n",
            "Epoch 84/200\n",
            "244/244 - 9s - loss: 0.9071 - accuracy: 0.8222 - 9s/epoch - 39ms/step\n",
            "Epoch 85/200\n",
            "244/244 - 9s - loss: 0.8885 - accuracy: 0.8272 - 9s/epoch - 39ms/step\n",
            "Epoch 86/200\n",
            "244/244 - 9s - loss: 0.8748 - accuracy: 0.8269 - 9s/epoch - 39ms/step\n",
            "Epoch 87/200\n",
            "244/244 - 9s - loss: 0.8462 - accuracy: 0.8342 - 9s/epoch - 39ms/step\n",
            "Epoch 88/200\n",
            "244/244 - 10s - loss: 0.8286 - accuracy: 0.8399 - 10s/epoch - 39ms/step\n",
            "Epoch 89/200\n",
            "244/244 - 10s - loss: 0.8108 - accuracy: 0.8395 - 10s/epoch - 39ms/step\n",
            "Epoch 90/200\n",
            "244/244 - 9s - loss: 0.7906 - accuracy: 0.8447 - 9s/epoch - 39ms/step\n",
            "Epoch 91/200\n",
            "244/244 - 10s - loss: 0.7744 - accuracy: 0.8478 - 10s/epoch - 39ms/step\n",
            "Epoch 92/200\n",
            "244/244 - 10s - loss: 0.7589 - accuracy: 0.8510 - 10s/epoch - 39ms/step\n",
            "Epoch 93/200\n",
            "244/244 - 10s - loss: 0.7406 - accuracy: 0.8524 - 10s/epoch - 39ms/step\n",
            "Epoch 94/200\n",
            "244/244 - 10s - loss: 0.7278 - accuracy: 0.8553 - 10s/epoch - 39ms/step\n",
            "Epoch 95/200\n",
            "244/244 - 9s - loss: 0.7117 - accuracy: 0.8592 - 9s/epoch - 39ms/step\n",
            "Epoch 96/200\n",
            "244/244 - 9s - loss: 0.6967 - accuracy: 0.8631 - 9s/epoch - 39ms/step\n",
            "Epoch 97/200\n",
            "244/244 - 10s - loss: 0.6830 - accuracy: 0.8644 - 10s/epoch - 39ms/step\n",
            "Epoch 98/200\n",
            "244/244 - 11s - loss: 0.6701 - accuracy: 0.8636 - 11s/epoch - 45ms/step\n",
            "Epoch 99/200\n",
            "244/244 - 10s - loss: 0.6546 - accuracy: 0.8703 - 10s/epoch - 39ms/step\n",
            "Epoch 100/200\n",
            "244/244 - 9s - loss: 0.6414 - accuracy: 0.8716 - 9s/epoch - 39ms/step\n",
            "Epoch 101/200\n",
            "244/244 - 9s - loss: 0.6283 - accuracy: 0.8709 - 9s/epoch - 39ms/step\n",
            "Epoch 102/200\n",
            "244/244 - 10s - loss: 0.6149 - accuracy: 0.8761 - 10s/epoch - 39ms/step\n",
            "Epoch 103/200\n",
            "244/244 - 10s - loss: 0.6027 - accuracy: 0.8750 - 10s/epoch - 39ms/step\n",
            "Epoch 104/200\n",
            "244/244 - 9s - loss: 0.5924 - accuracy: 0.8777 - 9s/epoch - 39ms/step\n",
            "Epoch 105/200\n",
            "244/244 - 10s - loss: 0.5834 - accuracy: 0.8800 - 10s/epoch - 39ms/step\n",
            "Epoch 106/200\n",
            "244/244 - 10s - loss: 0.5678 - accuracy: 0.8812 - 10s/epoch - 39ms/step\n",
            "Epoch 107/200\n",
            "244/244 - 10s - loss: 0.5566 - accuracy: 0.8853 - 10s/epoch - 39ms/step\n",
            "Epoch 108/200\n",
            "244/244 - 10s - loss: 0.5485 - accuracy: 0.8856 - 10s/epoch - 39ms/step\n",
            "Epoch 109/200\n",
            "244/244 - 10s - loss: 0.5375 - accuracy: 0.8865 - 10s/epoch - 39ms/step\n",
            "Epoch 110/200\n",
            "244/244 - 11s - loss: 0.5271 - accuracy: 0.8885 - 11s/epoch - 47ms/step\n",
            "Epoch 111/200\n",
            "244/244 - 12s - loss: 0.5168 - accuracy: 0.8918 - 12s/epoch - 51ms/step\n",
            "Epoch 112/200\n",
            "244/244 - 16s - loss: 0.5073 - accuracy: 0.8921 - 16s/epoch - 65ms/step\n",
            "Epoch 113/200\n",
            "244/244 - 16s - loss: 0.4964 - accuracy: 0.8949 - 16s/epoch - 64ms/step\n",
            "Epoch 114/200\n",
            "244/244 - 14s - loss: 0.4878 - accuracy: 0.8953 - 14s/epoch - 58ms/step\n",
            "Epoch 115/200\n",
            "244/244 - 13s - loss: 0.4816 - accuracy: 0.8956 - 13s/epoch - 55ms/step\n",
            "Epoch 116/200\n",
            "244/244 - 13s - loss: 0.4731 - accuracy: 0.8970 - 13s/epoch - 55ms/step\n",
            "Epoch 117/200\n",
            "244/244 - 11s - loss: 0.4638 - accuracy: 0.8988 - 11s/epoch - 44ms/step\n",
            "Epoch 118/200\n",
            "244/244 - 11s - loss: 0.4579 - accuracy: 0.9013 - 11s/epoch - 45ms/step\n",
            "Epoch 119/200\n",
            "244/244 - 10s - loss: 0.4482 - accuracy: 0.9009 - 10s/epoch - 39ms/step\n",
            "Epoch 120/200\n",
            "244/244 - 10s - loss: 0.4410 - accuracy: 0.9032 - 10s/epoch - 39ms/step\n",
            "Epoch 121/200\n",
            "244/244 - 10s - loss: 0.4347 - accuracy: 0.9044 - 10s/epoch - 39ms/step\n",
            "Epoch 122/200\n",
            "244/244 - 10s - loss: 0.4270 - accuracy: 0.9068 - 10s/epoch - 39ms/step\n",
            "Epoch 123/200\n",
            "244/244 - 10s - loss: 0.4199 - accuracy: 0.9075 - 10s/epoch - 40ms/step\n",
            "Epoch 124/200\n",
            "244/244 - 10s - loss: 0.4195 - accuracy: 0.9084 - 10s/epoch - 39ms/step\n",
            "Epoch 125/200\n",
            "244/244 - 10s - loss: 0.4113 - accuracy: 0.9090 - 10s/epoch - 39ms/step\n",
            "Epoch 126/200\n",
            "244/244 - 10s - loss: 0.4007 - accuracy: 0.9102 - 10s/epoch - 39ms/step\n",
            "Epoch 127/200\n",
            "244/244 - 10s - loss: 0.3954 - accuracy: 0.9091 - 10s/epoch - 39ms/step\n",
            "Epoch 128/200\n",
            "244/244 - 10s - loss: 0.3893 - accuracy: 0.9112 - 10s/epoch - 39ms/step\n",
            "Epoch 129/200\n",
            "244/244 - 9s - loss: 0.3841 - accuracy: 0.9111 - 9s/epoch - 39ms/step\n",
            "Epoch 130/200\n",
            "244/244 - 9s - loss: 0.3792 - accuracy: 0.9120 - 9s/epoch - 39ms/step\n",
            "Epoch 131/200\n",
            "244/244 - 10s - loss: 0.3742 - accuracy: 0.9131 - 10s/epoch - 39ms/step\n",
            "Epoch 132/200\n",
            "244/244 - 10s - loss: 0.3687 - accuracy: 0.9139 - 10s/epoch - 39ms/step\n",
            "Epoch 133/200\n",
            "244/244 - 10s - loss: 0.3649 - accuracy: 0.9118 - 10s/epoch - 39ms/step\n",
            "Epoch 134/200\n",
            "244/244 - 10s - loss: 0.3601 - accuracy: 0.9150 - 10s/epoch - 39ms/step\n",
            "Epoch 135/200\n",
            "244/244 - 10s - loss: 0.3625 - accuracy: 0.9135 - 10s/epoch - 39ms/step\n",
            "Epoch 136/200\n",
            "244/244 - 9s - loss: 0.3535 - accuracy: 0.9136 - 9s/epoch - 39ms/step\n",
            "Epoch 137/200\n",
            "244/244 - 10s - loss: 0.3473 - accuracy: 0.9150 - 10s/epoch - 39ms/step\n",
            "Epoch 138/200\n",
            "244/244 - 10s - loss: 0.3438 - accuracy: 0.9143 - 10s/epoch - 39ms/step\n",
            "Epoch 139/200\n",
            "244/244 - 10s - loss: 0.3390 - accuracy: 0.9166 - 10s/epoch - 39ms/step\n",
            "Epoch 140/200\n",
            "244/244 - 9s - loss: 0.3346 - accuracy: 0.9170 - 9s/epoch - 39ms/step\n",
            "Epoch 141/200\n",
            "244/244 - 9s - loss: 0.3337 - accuracy: 0.9149 - 9s/epoch - 39ms/step\n",
            "Epoch 142/200\n",
            "244/244 - 11s - loss: 0.3296 - accuracy: 0.9164 - 11s/epoch - 44ms/step\n",
            "Epoch 143/200\n",
            "244/244 - 9s - loss: 0.3258 - accuracy: 0.9163 - 9s/epoch - 39ms/step\n",
            "Epoch 144/200\n",
            "244/244 - 9s - loss: 0.3225 - accuracy: 0.9175 - 9s/epoch - 38ms/step\n",
            "Epoch 145/200\n",
            "244/244 - 9s - loss: 0.3204 - accuracy: 0.9154 - 9s/epoch - 39ms/step\n",
            "Epoch 146/200\n",
            "244/244 - 9s - loss: 0.3164 - accuracy: 0.9179 - 9s/epoch - 39ms/step\n",
            "Epoch 147/200\n",
            "244/244 - 9s - loss: 0.3146 - accuracy: 0.9152 - 9s/epoch - 39ms/step\n",
            "Epoch 148/200\n",
            "244/244 - 10s - loss: 0.3111 - accuracy: 0.9149 - 10s/epoch - 41ms/step\n",
            "Epoch 149/200\n",
            "244/244 - 13s - loss: 0.3100 - accuracy: 0.9167 - 13s/epoch - 51ms/step\n",
            "Epoch 150/200\n",
            "244/244 - 10s - loss: 0.3071 - accuracy: 0.9159 - 10s/epoch - 41ms/step\n",
            "Epoch 151/200\n",
            "244/244 - 11s - loss: 0.3070 - accuracy: 0.9162 - 11s/epoch - 44ms/step\n",
            "Epoch 152/200\n",
            "244/244 - 9s - loss: 0.3228 - accuracy: 0.9135 - 9s/epoch - 38ms/step\n",
            "Epoch 153/200\n",
            "244/244 - 9s - loss: 0.3161 - accuracy: 0.9148 - 9s/epoch - 39ms/step\n",
            "Epoch 154/200\n",
            "244/244 - 9s - loss: 0.3008 - accuracy: 0.9155 - 9s/epoch - 38ms/step\n",
            "Epoch 155/200\n",
            "244/244 - 10s - loss: 0.2971 - accuracy: 0.9163 - 10s/epoch - 39ms/step\n",
            "Epoch 156/200\n",
            "244/244 - 10s - loss: 0.2934 - accuracy: 0.9186 - 10s/epoch - 39ms/step\n",
            "Epoch 157/200\n",
            "244/244 - 9s - loss: 0.2912 - accuracy: 0.9170 - 9s/epoch - 39ms/step\n",
            "Epoch 158/200\n",
            "244/244 - 9s - loss: 0.2916 - accuracy: 0.9180 - 9s/epoch - 38ms/step\n",
            "Epoch 159/200\n",
            "244/244 - 9s - loss: 0.2901 - accuracy: 0.9171 - 9s/epoch - 38ms/step\n",
            "Epoch 160/200\n",
            "244/244 - 10s - loss: 0.2877 - accuracy: 0.9154 - 10s/epoch - 42ms/step\n",
            "Epoch 161/200\n",
            "244/244 - 10s - loss: 0.2875 - accuracy: 0.9168 - 10s/epoch - 41ms/step\n",
            "Epoch 162/200\n",
            "244/244 - 10s - loss: 0.2848 - accuracy: 0.9175 - 10s/epoch - 39ms/step\n",
            "Epoch 163/200\n",
            "244/244 - 9s - loss: 0.2850 - accuracy: 0.9167 - 9s/epoch - 38ms/step\n",
            "Epoch 164/200\n",
            "244/244 - 11s - loss: 0.2856 - accuracy: 0.9170 - 11s/epoch - 44ms/step\n",
            "Epoch 165/200\n",
            "244/244 - 9s - loss: 0.2840 - accuracy: 0.9161 - 9s/epoch - 38ms/step\n",
            "Epoch 166/200\n",
            "244/244 - 9s - loss: 0.2958 - accuracy: 0.9145 - 9s/epoch - 38ms/step\n",
            "Epoch 167/200\n",
            "244/244 - 9s - loss: 0.2940 - accuracy: 0.9168 - 9s/epoch - 38ms/step\n",
            "Epoch 168/200\n",
            "244/244 - 9s - loss: 0.2807 - accuracy: 0.9168 - 9s/epoch - 39ms/step\n",
            "Epoch 169/200\n",
            "244/244 - 9s - loss: 0.2777 - accuracy: 0.9179 - 9s/epoch - 39ms/step\n",
            "Epoch 170/200\n",
            "244/244 - 9s - loss: 0.2759 - accuracy: 0.9164 - 9s/epoch - 38ms/step\n",
            "Epoch 171/200\n",
            "244/244 - 9s - loss: 0.2758 - accuracy: 0.9163 - 9s/epoch - 39ms/step\n",
            "Epoch 172/200\n",
            "244/244 - 9s - loss: 0.2748 - accuracy: 0.9162 - 9s/epoch - 39ms/step\n",
            "Epoch 173/200\n",
            "244/244 - 9s - loss: 0.2745 - accuracy: 0.9162 - 9s/epoch - 39ms/step\n",
            "Epoch 174/200\n",
            "244/244 - 9s - loss: 0.2736 - accuracy: 0.9158 - 9s/epoch - 38ms/step\n",
            "Epoch 175/200\n",
            "244/244 - 9s - loss: 0.2737 - accuracy: 0.9154 - 9s/epoch - 39ms/step\n",
            "Epoch 176/200\n",
            "244/244 - 10s - loss: 0.2740 - accuracy: 0.9166 - 10s/epoch - 39ms/step\n",
            "Epoch 177/200\n",
            "244/244 - 9s - loss: 0.2729 - accuracy: 0.9167 - 9s/epoch - 39ms/step\n",
            "Epoch 178/200\n",
            "244/244 - 9s - loss: 0.2772 - accuracy: 0.9164 - 9s/epoch - 38ms/step\n",
            "Epoch 179/200\n",
            "244/244 - 9s - loss: 0.2732 - accuracy: 0.9173 - 9s/epoch - 39ms/step\n",
            "Epoch 180/200\n",
            "244/244 - 9s - loss: 0.2703 - accuracy: 0.9150 - 9s/epoch - 39ms/step\n",
            "Epoch 181/200\n",
            "244/244 - 9s - loss: 0.2696 - accuracy: 0.9154 - 9s/epoch - 38ms/step\n",
            "Epoch 182/200\n",
            "244/244 - 9s - loss: 0.2696 - accuracy: 0.9161 - 9s/epoch - 38ms/step\n",
            "Epoch 183/200\n",
            "244/244 - 9s - loss: 0.2682 - accuracy: 0.9171 - 9s/epoch - 38ms/step\n",
            "Epoch 184/200\n",
            "244/244 - 9s - loss: 0.2673 - accuracy: 0.9161 - 9s/epoch - 39ms/step\n",
            "Epoch 185/200\n",
            "244/244 - 9s - loss: 0.2665 - accuracy: 0.9164 - 9s/epoch - 38ms/step\n",
            "Epoch 186/200\n",
            "244/244 - 9s - loss: 0.2668 - accuracy: 0.9157 - 9s/epoch - 39ms/step\n",
            "Epoch 187/200\n",
            "244/244 - 11s - loss: 0.2666 - accuracy: 0.9172 - 11s/epoch - 46ms/step\n",
            "Epoch 188/200\n",
            "244/244 - 15s - loss: 0.2647 - accuracy: 0.9163 - 15s/epoch - 61ms/step\n",
            "Epoch 189/200\n",
            "244/244 - 14s - loss: 0.2653 - accuracy: 0.9163 - 14s/epoch - 58ms/step\n",
            "Epoch 190/200\n",
            "244/244 - 14s - loss: 0.2741 - accuracy: 0.9154 - 14s/epoch - 56ms/step\n",
            "Epoch 191/200\n",
            "244/244 - 11s - loss: 0.3023 - accuracy: 0.9112 - 11s/epoch - 45ms/step\n",
            "Epoch 192/200\n",
            "244/244 - 11s - loss: 0.2784 - accuracy: 0.9143 - 11s/epoch - 44ms/step\n",
            "Epoch 193/200\n",
            "244/244 - 10s - loss: 0.2652 - accuracy: 0.9173 - 10s/epoch - 40ms/step\n",
            "Epoch 194/200\n",
            "244/244 - 10s - loss: 0.2635 - accuracy: 0.9159 - 10s/epoch - 40ms/step\n",
            "Epoch 195/200\n",
            "244/244 - 12s - loss: 0.2619 - accuracy: 0.9163 - 12s/epoch - 49ms/step\n",
            "Epoch 196/200\n",
            "244/244 - 13s - loss: 0.2615 - accuracy: 0.9164 - 13s/epoch - 55ms/step\n",
            "Epoch 197/200\n",
            "244/244 - 14s - loss: 0.2608 - accuracy: 0.9170 - 14s/epoch - 56ms/step\n",
            "Epoch 198/200\n",
            "244/244 - 11s - loss: 0.2619 - accuracy: 0.9172 - 11s/epoch - 43ms/step\n",
            "Epoch 199/200\n",
            "244/244 - 13s - loss: 0.2611 - accuracy: 0.9163 - 13s/epoch - 54ms/step\n",
            "Epoch 200/200\n",
            "244/244 - 16s - loss: 0.2606 - accuracy: 0.9173 - 16s/epoch - 67ms/step\n"
          ]
        },
        {
          "output_type": "execute_result",
          "data": {
            "text/plain": [
              "<keras.callbacks.History at 0x7fb08357c050>"
            ]
          },
          "metadata": {},
          "execution_count": 93
        }
      ]
    },
    {
      "cell_type": "code",
      "source": [
        "def sentence_generation(model, tokenizer, current_word, n):\n",
        "  init_word = current_word\n",
        "  sentence = ''\n",
        "\n",
        "  for _ in range(n):\n",
        "    encoded = tokenizer.texts_to_sequences([current_word])[0]\n",
        "    encoded = pad_sequences([encoded], maxlen=max_len-1, padding='pre')\n",
        "\n",
        "    result = model.predict(encoded, verbose=0)\n",
        "    result = np.argmax(result, axis=1)\n",
        "\n",
        "    for word, index in tokenizer.word_index.items():\n",
        "      if index == result:\n",
        "        break\n",
        "    \n",
        "    current_word = current_word + ' ' + word\n",
        "    sentence = sentence + ' ' + word\n",
        "\n",
        "  sentence = init_word + sentence\n",
        "  return sentence"
      ],
      "metadata": {
        "id": "yfCK0387Cyxx"
      },
      "execution_count": 99,
      "outputs": []
    },
    {
      "cell_type": "code",
      "source": [
        "print(sentence_generation(model, tokenizer, 'i', 10))"
      ],
      "metadata": {
        "colab": {
          "base_uri": "https://localhost:8080/"
        },
        "id": "ce7DhNe0Cyv0",
        "outputId": "0e8bb94c-c93b-47ab-ac26-2f0f79c1ab51"
      },
      "execution_count": 100,
      "outputs": [
        {
          "output_type": "stream",
          "name": "stdout",
          "text": [
            "i want to be rich and im not sorry memoir officials\n"
          ]
        }
      ]
    },
    {
      "cell_type": "code",
      "source": [
        "print(sentence_generation(model, tokenizer, 'how', 10))"
      ],
      "metadata": {
        "colab": {
          "base_uri": "https://localhost:8080/"
        },
        "id": "6h9APZaDCytf",
        "outputId": "25eb325c-d2c3-4c72-a988-25d960981938"
      },
      "execution_count": 101,
      "outputs": [
        {
          "output_type": "stream",
          "name": "stdout",
          "text": [
            "how to prevent a racist hoodie against president just vs help\n"
          ]
        }
      ]
    },
    {
      "cell_type": "code",
      "source": [],
      "metadata": {
        "id": "JI-fq_9sCyrP"
      },
      "execution_count": null,
      "outputs": []
    },
    {
      "cell_type": "markdown",
      "source": [
        "🔹 1-(2) Text summarization with attention\n",
        "\n",
        "📌 [아마존 리뷰 요약](https://wikidocs.net/72820) \n",
        "\n",
        "* seq2seq + attention 을 이용한 아마존 리뷰 글 text summarization 예제를 필사해주세요."
      ],
      "metadata": {
        "id": "ktAuag_Nk5Zy"
      }
    },
    {
      "cell_type": "code",
      "source": [
        "import numpy as np\n",
        "import pandas as pd\n",
        "import re\n",
        "import matplotlib.pyplot as plt\n",
        "from nltk.corpus import stopwords\n",
        "from bs4 import BeautifulSoup \n",
        "from tensorflow.keras.preprocessing.text import Tokenizer \n",
        "from tensorflow.keras.preprocessing.sequence import pad_sequences\n",
        "import urllib.request\n",
        "np.random.seed(seed=0)"
      ],
      "metadata": {
        "id": "mLmPLEYdZlzX"
      },
      "execution_count": 102,
      "outputs": []
    },
    {
      "cell_type": "code",
      "source": [
        "data = pd.read_csv(\"Reviews.csv\", nrows = 100000)\n",
        "print('전체 리뷰 개수 :',(len(data)))"
      ],
      "metadata": {
        "id": "xcgptSxJ3zhP",
        "colab": {
          "base_uri": "https://localhost:8080/"
        },
        "outputId": "f0df9bd8-8977-4823-8fdd-6c226d12515d"
      },
      "execution_count": 104,
      "outputs": [
        {
          "output_type": "stream",
          "name": "stdout",
          "text": [
            "전체 리뷰 개수 : 100000\n"
          ]
        }
      ]
    },
    {
      "cell_type": "code",
      "source": [
        "data.head()"
      ],
      "metadata": {
        "colab": {
          "base_uri": "https://localhost:8080/",
          "height": 337
        },
        "id": "_wHeBbLFHDMg",
        "outputId": "72d317f6-ced5-46cd-9abb-41c636523e94"
      },
      "execution_count": 105,
      "outputs": [
        {
          "output_type": "execute_result",
          "data": {
            "text/plain": [
              "   Id   ProductId          UserId                      ProfileName  \\\n",
              "0   1  B001E4KFG0  A3SGXH7AUHU8GW                       delmartian   \n",
              "1   2  B00813GRG4  A1D87F6ZCVE5NK                           dll pa   \n",
              "2   3  B000LQOCH0   ABXLMWJIXXAIN  Natalia Corres \"Natalia Corres\"   \n",
              "3   4  B000UA0QIQ  A395BORC6FGVXV                             Karl   \n",
              "4   5  B006K2ZZ7K  A1UQRSCLF8GW1T    Michael D. Bigham \"M. Wassir\"   \n",
              "\n",
              "   HelpfulnessNumerator  HelpfulnessDenominator  Score        Time  \\\n",
              "0                     1                       1      5  1303862400   \n",
              "1                     0                       0      1  1346976000   \n",
              "2                     1                       1      4  1219017600   \n",
              "3                     3                       3      2  1307923200   \n",
              "4                     0                       0      5  1350777600   \n",
              "\n",
              "                 Summary                                               Text  \n",
              "0  Good Quality Dog Food  I have bought several of the Vitality canned d...  \n",
              "1      Not as Advertised  Product arrived labeled as Jumbo Salted Peanut...  \n",
              "2  \"Delight\" says it all  This is a confection that has been around a fe...  \n",
              "3         Cough Medicine  If you are looking for the secret ingredient i...  \n",
              "4            Great taffy  Great taffy at a great price.  There was a wid...  "
            ],
            "text/html": [
              "\n",
              "  <div id=\"df-4b45c2ff-abef-4823-9ddb-4367c6c09e76\">\n",
              "    <div class=\"colab-df-container\">\n",
              "      <div>\n",
              "<style scoped>\n",
              "    .dataframe tbody tr th:only-of-type {\n",
              "        vertical-align: middle;\n",
              "    }\n",
              "\n",
              "    .dataframe tbody tr th {\n",
              "        vertical-align: top;\n",
              "    }\n",
              "\n",
              "    .dataframe thead th {\n",
              "        text-align: right;\n",
              "    }\n",
              "</style>\n",
              "<table border=\"1\" class=\"dataframe\">\n",
              "  <thead>\n",
              "    <tr style=\"text-align: right;\">\n",
              "      <th></th>\n",
              "      <th>Id</th>\n",
              "      <th>ProductId</th>\n",
              "      <th>UserId</th>\n",
              "      <th>ProfileName</th>\n",
              "      <th>HelpfulnessNumerator</th>\n",
              "      <th>HelpfulnessDenominator</th>\n",
              "      <th>Score</th>\n",
              "      <th>Time</th>\n",
              "      <th>Summary</th>\n",
              "      <th>Text</th>\n",
              "    </tr>\n",
              "  </thead>\n",
              "  <tbody>\n",
              "    <tr>\n",
              "      <th>0</th>\n",
              "      <td>1</td>\n",
              "      <td>B001E4KFG0</td>\n",
              "      <td>A3SGXH7AUHU8GW</td>\n",
              "      <td>delmartian</td>\n",
              "      <td>1</td>\n",
              "      <td>1</td>\n",
              "      <td>5</td>\n",
              "      <td>1303862400</td>\n",
              "      <td>Good Quality Dog Food</td>\n",
              "      <td>I have bought several of the Vitality canned d...</td>\n",
              "    </tr>\n",
              "    <tr>\n",
              "      <th>1</th>\n",
              "      <td>2</td>\n",
              "      <td>B00813GRG4</td>\n",
              "      <td>A1D87F6ZCVE5NK</td>\n",
              "      <td>dll pa</td>\n",
              "      <td>0</td>\n",
              "      <td>0</td>\n",
              "      <td>1</td>\n",
              "      <td>1346976000</td>\n",
              "      <td>Not as Advertised</td>\n",
              "      <td>Product arrived labeled as Jumbo Salted Peanut...</td>\n",
              "    </tr>\n",
              "    <tr>\n",
              "      <th>2</th>\n",
              "      <td>3</td>\n",
              "      <td>B000LQOCH0</td>\n",
              "      <td>ABXLMWJIXXAIN</td>\n",
              "      <td>Natalia Corres \"Natalia Corres\"</td>\n",
              "      <td>1</td>\n",
              "      <td>1</td>\n",
              "      <td>4</td>\n",
              "      <td>1219017600</td>\n",
              "      <td>\"Delight\" says it all</td>\n",
              "      <td>This is a confection that has been around a fe...</td>\n",
              "    </tr>\n",
              "    <tr>\n",
              "      <th>3</th>\n",
              "      <td>4</td>\n",
              "      <td>B000UA0QIQ</td>\n",
              "      <td>A395BORC6FGVXV</td>\n",
              "      <td>Karl</td>\n",
              "      <td>3</td>\n",
              "      <td>3</td>\n",
              "      <td>2</td>\n",
              "      <td>1307923200</td>\n",
              "      <td>Cough Medicine</td>\n",
              "      <td>If you are looking for the secret ingredient i...</td>\n",
              "    </tr>\n",
              "    <tr>\n",
              "      <th>4</th>\n",
              "      <td>5</td>\n",
              "      <td>B006K2ZZ7K</td>\n",
              "      <td>A1UQRSCLF8GW1T</td>\n",
              "      <td>Michael D. Bigham \"M. Wassir\"</td>\n",
              "      <td>0</td>\n",
              "      <td>0</td>\n",
              "      <td>5</td>\n",
              "      <td>1350777600</td>\n",
              "      <td>Great taffy</td>\n",
              "      <td>Great taffy at a great price.  There was a wid...</td>\n",
              "    </tr>\n",
              "  </tbody>\n",
              "</table>\n",
              "</div>\n",
              "      <button class=\"colab-df-convert\" onclick=\"convertToInteractive('df-4b45c2ff-abef-4823-9ddb-4367c6c09e76')\"\n",
              "              title=\"Convert this dataframe to an interactive table.\"\n",
              "              style=\"display:none;\">\n",
              "        \n",
              "  <svg xmlns=\"http://www.w3.org/2000/svg\" height=\"24px\"viewBox=\"0 0 24 24\"\n",
              "       width=\"24px\">\n",
              "    <path d=\"M0 0h24v24H0V0z\" fill=\"none\"/>\n",
              "    <path d=\"M18.56 5.44l.94 2.06.94-2.06 2.06-.94-2.06-.94-.94-2.06-.94 2.06-2.06.94zm-11 1L8.5 8.5l.94-2.06 2.06-.94-2.06-.94L8.5 2.5l-.94 2.06-2.06.94zm10 10l.94 2.06.94-2.06 2.06-.94-2.06-.94-.94-2.06-.94 2.06-2.06.94z\"/><path d=\"M17.41 7.96l-1.37-1.37c-.4-.4-.92-.59-1.43-.59-.52 0-1.04.2-1.43.59L10.3 9.45l-7.72 7.72c-.78.78-.78 2.05 0 2.83L4 21.41c.39.39.9.59 1.41.59.51 0 1.02-.2 1.41-.59l7.78-7.78 2.81-2.81c.8-.78.8-2.07 0-2.86zM5.41 20L4 18.59l7.72-7.72 1.47 1.35L5.41 20z\"/>\n",
              "  </svg>\n",
              "      </button>\n",
              "      \n",
              "  <style>\n",
              "    .colab-df-container {\n",
              "      display:flex;\n",
              "      flex-wrap:wrap;\n",
              "      gap: 12px;\n",
              "    }\n",
              "\n",
              "    .colab-df-convert {\n",
              "      background-color: #E8F0FE;\n",
              "      border: none;\n",
              "      border-radius: 50%;\n",
              "      cursor: pointer;\n",
              "      display: none;\n",
              "      fill: #1967D2;\n",
              "      height: 32px;\n",
              "      padding: 0 0 0 0;\n",
              "      width: 32px;\n",
              "    }\n",
              "\n",
              "    .colab-df-convert:hover {\n",
              "      background-color: #E2EBFA;\n",
              "      box-shadow: 0px 1px 2px rgba(60, 64, 67, 0.3), 0px 1px 3px 1px rgba(60, 64, 67, 0.15);\n",
              "      fill: #174EA6;\n",
              "    }\n",
              "\n",
              "    [theme=dark] .colab-df-convert {\n",
              "      background-color: #3B4455;\n",
              "      fill: #D2E3FC;\n",
              "    }\n",
              "\n",
              "    [theme=dark] .colab-df-convert:hover {\n",
              "      background-color: #434B5C;\n",
              "      box-shadow: 0px 1px 3px 1px rgba(0, 0, 0, 0.15);\n",
              "      filter: drop-shadow(0px 1px 2px rgba(0, 0, 0, 0.3));\n",
              "      fill: #FFFFFF;\n",
              "    }\n",
              "  </style>\n",
              "\n",
              "      <script>\n",
              "        const buttonEl =\n",
              "          document.querySelector('#df-4b45c2ff-abef-4823-9ddb-4367c6c09e76 button.colab-df-convert');\n",
              "        buttonEl.style.display =\n",
              "          google.colab.kernel.accessAllowed ? 'block' : 'none';\n",
              "\n",
              "        async function convertToInteractive(key) {\n",
              "          const element = document.querySelector('#df-4b45c2ff-abef-4823-9ddb-4367c6c09e76');\n",
              "          const dataTable =\n",
              "            await google.colab.kernel.invokeFunction('convertToInteractive',\n",
              "                                                     [key], {});\n",
              "          if (!dataTable) return;\n",
              "\n",
              "          const docLinkHtml = 'Like what you see? Visit the ' +\n",
              "            '<a target=\"_blank\" href=https://colab.research.google.com/notebooks/data_table.ipynb>data table notebook</a>'\n",
              "            + ' to learn more about interactive tables.';\n",
              "          element.innerHTML = '';\n",
              "          dataTable['output_type'] = 'display_data';\n",
              "          await google.colab.output.renderOutput(dataTable, element);\n",
              "          const docLink = document.createElement('div');\n",
              "          docLink.innerHTML = docLinkHtml;\n",
              "          element.appendChild(docLink);\n",
              "        }\n",
              "      </script>\n",
              "    </div>\n",
              "  </div>\n",
              "  "
            ]
          },
          "metadata": {},
          "execution_count": 105
        }
      ]
    },
    {
      "cell_type": "code",
      "source": [
        "data = data[['Text', 'Summary']]\n",
        "data.head()"
      ],
      "metadata": {
        "colab": {
          "base_uri": "https://localhost:8080/",
          "height": 206
        },
        "id": "jGJqYkmgHDFq",
        "outputId": "c5b6b941-39d4-4176-c54c-295f28473eb9"
      },
      "execution_count": 106,
      "outputs": [
        {
          "output_type": "execute_result",
          "data": {
            "text/plain": [
              "                                                Text                Summary\n",
              "0  I have bought several of the Vitality canned d...  Good Quality Dog Food\n",
              "1  Product arrived labeled as Jumbo Salted Peanut...      Not as Advertised\n",
              "2  This is a confection that has been around a fe...  \"Delight\" says it all\n",
              "3  If you are looking for the secret ingredient i...         Cough Medicine\n",
              "4  Great taffy at a great price.  There was a wid...            Great taffy"
            ],
            "text/html": [
              "\n",
              "  <div id=\"df-963cb2e1-12b9-46cd-83a3-f0566dec2dcd\">\n",
              "    <div class=\"colab-df-container\">\n",
              "      <div>\n",
              "<style scoped>\n",
              "    .dataframe tbody tr th:only-of-type {\n",
              "        vertical-align: middle;\n",
              "    }\n",
              "\n",
              "    .dataframe tbody tr th {\n",
              "        vertical-align: top;\n",
              "    }\n",
              "\n",
              "    .dataframe thead th {\n",
              "        text-align: right;\n",
              "    }\n",
              "</style>\n",
              "<table border=\"1\" class=\"dataframe\">\n",
              "  <thead>\n",
              "    <tr style=\"text-align: right;\">\n",
              "      <th></th>\n",
              "      <th>Text</th>\n",
              "      <th>Summary</th>\n",
              "    </tr>\n",
              "  </thead>\n",
              "  <tbody>\n",
              "    <tr>\n",
              "      <th>0</th>\n",
              "      <td>I have bought several of the Vitality canned d...</td>\n",
              "      <td>Good Quality Dog Food</td>\n",
              "    </tr>\n",
              "    <tr>\n",
              "      <th>1</th>\n",
              "      <td>Product arrived labeled as Jumbo Salted Peanut...</td>\n",
              "      <td>Not as Advertised</td>\n",
              "    </tr>\n",
              "    <tr>\n",
              "      <th>2</th>\n",
              "      <td>This is a confection that has been around a fe...</td>\n",
              "      <td>\"Delight\" says it all</td>\n",
              "    </tr>\n",
              "    <tr>\n",
              "      <th>3</th>\n",
              "      <td>If you are looking for the secret ingredient i...</td>\n",
              "      <td>Cough Medicine</td>\n",
              "    </tr>\n",
              "    <tr>\n",
              "      <th>4</th>\n",
              "      <td>Great taffy at a great price.  There was a wid...</td>\n",
              "      <td>Great taffy</td>\n",
              "    </tr>\n",
              "  </tbody>\n",
              "</table>\n",
              "</div>\n",
              "      <button class=\"colab-df-convert\" onclick=\"convertToInteractive('df-963cb2e1-12b9-46cd-83a3-f0566dec2dcd')\"\n",
              "              title=\"Convert this dataframe to an interactive table.\"\n",
              "              style=\"display:none;\">\n",
              "        \n",
              "  <svg xmlns=\"http://www.w3.org/2000/svg\" height=\"24px\"viewBox=\"0 0 24 24\"\n",
              "       width=\"24px\">\n",
              "    <path d=\"M0 0h24v24H0V0z\" fill=\"none\"/>\n",
              "    <path d=\"M18.56 5.44l.94 2.06.94-2.06 2.06-.94-2.06-.94-.94-2.06-.94 2.06-2.06.94zm-11 1L8.5 8.5l.94-2.06 2.06-.94-2.06-.94L8.5 2.5l-.94 2.06-2.06.94zm10 10l.94 2.06.94-2.06 2.06-.94-2.06-.94-.94-2.06-.94 2.06-2.06.94z\"/><path d=\"M17.41 7.96l-1.37-1.37c-.4-.4-.92-.59-1.43-.59-.52 0-1.04.2-1.43.59L10.3 9.45l-7.72 7.72c-.78.78-.78 2.05 0 2.83L4 21.41c.39.39.9.59 1.41.59.51 0 1.02-.2 1.41-.59l7.78-7.78 2.81-2.81c.8-.78.8-2.07 0-2.86zM5.41 20L4 18.59l7.72-7.72 1.47 1.35L5.41 20z\"/>\n",
              "  </svg>\n",
              "      </button>\n",
              "      \n",
              "  <style>\n",
              "    .colab-df-container {\n",
              "      display:flex;\n",
              "      flex-wrap:wrap;\n",
              "      gap: 12px;\n",
              "    }\n",
              "\n",
              "    .colab-df-convert {\n",
              "      background-color: #E8F0FE;\n",
              "      border: none;\n",
              "      border-radius: 50%;\n",
              "      cursor: pointer;\n",
              "      display: none;\n",
              "      fill: #1967D2;\n",
              "      height: 32px;\n",
              "      padding: 0 0 0 0;\n",
              "      width: 32px;\n",
              "    }\n",
              "\n",
              "    .colab-df-convert:hover {\n",
              "      background-color: #E2EBFA;\n",
              "      box-shadow: 0px 1px 2px rgba(60, 64, 67, 0.3), 0px 1px 3px 1px rgba(60, 64, 67, 0.15);\n",
              "      fill: #174EA6;\n",
              "    }\n",
              "\n",
              "    [theme=dark] .colab-df-convert {\n",
              "      background-color: #3B4455;\n",
              "      fill: #D2E3FC;\n",
              "    }\n",
              "\n",
              "    [theme=dark] .colab-df-convert:hover {\n",
              "      background-color: #434B5C;\n",
              "      box-shadow: 0px 1px 3px 1px rgba(0, 0, 0, 0.15);\n",
              "      filter: drop-shadow(0px 1px 2px rgba(0, 0, 0, 0.3));\n",
              "      fill: #FFFFFF;\n",
              "    }\n",
              "  </style>\n",
              "\n",
              "      <script>\n",
              "        const buttonEl =\n",
              "          document.querySelector('#df-963cb2e1-12b9-46cd-83a3-f0566dec2dcd button.colab-df-convert');\n",
              "        buttonEl.style.display =\n",
              "          google.colab.kernel.accessAllowed ? 'block' : 'none';\n",
              "\n",
              "        async function convertToInteractive(key) {\n",
              "          const element = document.querySelector('#df-963cb2e1-12b9-46cd-83a3-f0566dec2dcd');\n",
              "          const dataTable =\n",
              "            await google.colab.kernel.invokeFunction('convertToInteractive',\n",
              "                                                     [key], {});\n",
              "          if (!dataTable) return;\n",
              "\n",
              "          const docLinkHtml = 'Like what you see? Visit the ' +\n",
              "            '<a target=\"_blank\" href=https://colab.research.google.com/notebooks/data_table.ipynb>data table notebook</a>'\n",
              "            + ' to learn more about interactive tables.';\n",
              "          element.innerHTML = '';\n",
              "          dataTable['output_type'] = 'display_data';\n",
              "          await google.colab.output.renderOutput(dataTable, element);\n",
              "          const docLink = document.createElement('div');\n",
              "          docLink.innerHTML = docLinkHtml;\n",
              "          element.appendChild(docLink);\n",
              "        }\n",
              "      </script>\n",
              "    </div>\n",
              "  </div>\n",
              "  "
            ]
          },
          "metadata": {},
          "execution_count": 106
        }
      ]
    },
    {
      "cell_type": "code",
      "source": [
        "data.sample(10)"
      ],
      "metadata": {
        "colab": {
          "base_uri": "https://localhost:8080/",
          "height": 363
        },
        "id": "GG0gOHW-HDDw",
        "outputId": "6b625e1e-66a8-4451-a8c7-96a16c83d548"
      },
      "execution_count": 107,
      "outputs": [
        {
          "output_type": "execute_result",
          "data": {
            "text/plain": [
              "                                                    Text  \\\n",
              "3582   I rarely eat anything but whole wheat pasta, b...   \n",
              "60498  I absolutely love 5-hour ENERGY! I use it afte...   \n",
              "53227  this chocolate is a true treat to eat, perfect...   \n",
              "21333  Greenies are very muched loved as a tatsy Trea...   \n",
              "3885   I love these noodles.  They are really great f...   \n",
              "51521  These are great! As a lover of all chips I'm s...   \n",
              "84261  Like other customers I divide these into handf...   \n",
              "10685  I recommend this instead for the same price: <...   \n",
              "59948  The noodles were all very broken, but the tast...   \n",
              "41032  Despite claiming they use the \"finest ingredie...   \n",
              "\n",
              "                                            Summary  \n",
              "3582                            reminds me of Italy  \n",
              "60498               5-hour ENERGY Highly Recommend!  \n",
              "53227                             supreme chocolate  \n",
              "21333                       Excellent Teeth Cleaner  \n",
              "3885                          Great and good price!  \n",
              "51521  Delicious, just like Salt and Vinegar Chips!  \n",
              "84261                      Great snack, great value  \n",
              "10685     It's ok, but certainly not worth the cost  \n",
              "59948                          Knorr's beef noodles  \n",
              "41032                          HORRIBLE INGREDIENTS  "
            ],
            "text/html": [
              "\n",
              "  <div id=\"df-3ff49639-f8ad-49bb-93ba-dc748321677b\">\n",
              "    <div class=\"colab-df-container\">\n",
              "      <div>\n",
              "<style scoped>\n",
              "    .dataframe tbody tr th:only-of-type {\n",
              "        vertical-align: middle;\n",
              "    }\n",
              "\n",
              "    .dataframe tbody tr th {\n",
              "        vertical-align: top;\n",
              "    }\n",
              "\n",
              "    .dataframe thead th {\n",
              "        text-align: right;\n",
              "    }\n",
              "</style>\n",
              "<table border=\"1\" class=\"dataframe\">\n",
              "  <thead>\n",
              "    <tr style=\"text-align: right;\">\n",
              "      <th></th>\n",
              "      <th>Text</th>\n",
              "      <th>Summary</th>\n",
              "    </tr>\n",
              "  </thead>\n",
              "  <tbody>\n",
              "    <tr>\n",
              "      <th>3582</th>\n",
              "      <td>I rarely eat anything but whole wheat pasta, b...</td>\n",
              "      <td>reminds me of Italy</td>\n",
              "    </tr>\n",
              "    <tr>\n",
              "      <th>60498</th>\n",
              "      <td>I absolutely love 5-hour ENERGY! I use it afte...</td>\n",
              "      <td>5-hour ENERGY Highly Recommend!</td>\n",
              "    </tr>\n",
              "    <tr>\n",
              "      <th>53227</th>\n",
              "      <td>this chocolate is a true treat to eat, perfect...</td>\n",
              "      <td>supreme chocolate</td>\n",
              "    </tr>\n",
              "    <tr>\n",
              "      <th>21333</th>\n",
              "      <td>Greenies are very muched loved as a tatsy Trea...</td>\n",
              "      <td>Excellent Teeth Cleaner</td>\n",
              "    </tr>\n",
              "    <tr>\n",
              "      <th>3885</th>\n",
              "      <td>I love these noodles.  They are really great f...</td>\n",
              "      <td>Great and good price!</td>\n",
              "    </tr>\n",
              "    <tr>\n",
              "      <th>51521</th>\n",
              "      <td>These are great! As a lover of all chips I'm s...</td>\n",
              "      <td>Delicious, just like Salt and Vinegar Chips!</td>\n",
              "    </tr>\n",
              "    <tr>\n",
              "      <th>84261</th>\n",
              "      <td>Like other customers I divide these into handf...</td>\n",
              "      <td>Great snack, great value</td>\n",
              "    </tr>\n",
              "    <tr>\n",
              "      <th>10685</th>\n",
              "      <td>I recommend this instead for the same price: &lt;...</td>\n",
              "      <td>It's ok, but certainly not worth the cost</td>\n",
              "    </tr>\n",
              "    <tr>\n",
              "      <th>59948</th>\n",
              "      <td>The noodles were all very broken, but the tast...</td>\n",
              "      <td>Knorr's beef noodles</td>\n",
              "    </tr>\n",
              "    <tr>\n",
              "      <th>41032</th>\n",
              "      <td>Despite claiming they use the \"finest ingredie...</td>\n",
              "      <td>HORRIBLE INGREDIENTS</td>\n",
              "    </tr>\n",
              "  </tbody>\n",
              "</table>\n",
              "</div>\n",
              "      <button class=\"colab-df-convert\" onclick=\"convertToInteractive('df-3ff49639-f8ad-49bb-93ba-dc748321677b')\"\n",
              "              title=\"Convert this dataframe to an interactive table.\"\n",
              "              style=\"display:none;\">\n",
              "        \n",
              "  <svg xmlns=\"http://www.w3.org/2000/svg\" height=\"24px\"viewBox=\"0 0 24 24\"\n",
              "       width=\"24px\">\n",
              "    <path d=\"M0 0h24v24H0V0z\" fill=\"none\"/>\n",
              "    <path d=\"M18.56 5.44l.94 2.06.94-2.06 2.06-.94-2.06-.94-.94-2.06-.94 2.06-2.06.94zm-11 1L8.5 8.5l.94-2.06 2.06-.94-2.06-.94L8.5 2.5l-.94 2.06-2.06.94zm10 10l.94 2.06.94-2.06 2.06-.94-2.06-.94-.94-2.06-.94 2.06-2.06.94z\"/><path d=\"M17.41 7.96l-1.37-1.37c-.4-.4-.92-.59-1.43-.59-.52 0-1.04.2-1.43.59L10.3 9.45l-7.72 7.72c-.78.78-.78 2.05 0 2.83L4 21.41c.39.39.9.59 1.41.59.51 0 1.02-.2 1.41-.59l7.78-7.78 2.81-2.81c.8-.78.8-2.07 0-2.86zM5.41 20L4 18.59l7.72-7.72 1.47 1.35L5.41 20z\"/>\n",
              "  </svg>\n",
              "      </button>\n",
              "      \n",
              "  <style>\n",
              "    .colab-df-container {\n",
              "      display:flex;\n",
              "      flex-wrap:wrap;\n",
              "      gap: 12px;\n",
              "    }\n",
              "\n",
              "    .colab-df-convert {\n",
              "      background-color: #E8F0FE;\n",
              "      border: none;\n",
              "      border-radius: 50%;\n",
              "      cursor: pointer;\n",
              "      display: none;\n",
              "      fill: #1967D2;\n",
              "      height: 32px;\n",
              "      padding: 0 0 0 0;\n",
              "      width: 32px;\n",
              "    }\n",
              "\n",
              "    .colab-df-convert:hover {\n",
              "      background-color: #E2EBFA;\n",
              "      box-shadow: 0px 1px 2px rgba(60, 64, 67, 0.3), 0px 1px 3px 1px rgba(60, 64, 67, 0.15);\n",
              "      fill: #174EA6;\n",
              "    }\n",
              "\n",
              "    [theme=dark] .colab-df-convert {\n",
              "      background-color: #3B4455;\n",
              "      fill: #D2E3FC;\n",
              "    }\n",
              "\n",
              "    [theme=dark] .colab-df-convert:hover {\n",
              "      background-color: #434B5C;\n",
              "      box-shadow: 0px 1px 3px 1px rgba(0, 0, 0, 0.15);\n",
              "      filter: drop-shadow(0px 1px 2px rgba(0, 0, 0, 0.3));\n",
              "      fill: #FFFFFF;\n",
              "    }\n",
              "  </style>\n",
              "\n",
              "      <script>\n",
              "        const buttonEl =\n",
              "          document.querySelector('#df-3ff49639-f8ad-49bb-93ba-dc748321677b button.colab-df-convert');\n",
              "        buttonEl.style.display =\n",
              "          google.colab.kernel.accessAllowed ? 'block' : 'none';\n",
              "\n",
              "        async function convertToInteractive(key) {\n",
              "          const element = document.querySelector('#df-3ff49639-f8ad-49bb-93ba-dc748321677b');\n",
              "          const dataTable =\n",
              "            await google.colab.kernel.invokeFunction('convertToInteractive',\n",
              "                                                     [key], {});\n",
              "          if (!dataTable) return;\n",
              "\n",
              "          const docLinkHtml = 'Like what you see? Visit the ' +\n",
              "            '<a target=\"_blank\" href=https://colab.research.google.com/notebooks/data_table.ipynb>data table notebook</a>'\n",
              "            + ' to learn more about interactive tables.';\n",
              "          element.innerHTML = '';\n",
              "          dataTable['output_type'] = 'display_data';\n",
              "          await google.colab.output.renderOutput(dataTable, element);\n",
              "          const docLink = document.createElement('div');\n",
              "          docLink.innerHTML = docLinkHtml;\n",
              "          element.appendChild(docLink);\n",
              "        }\n",
              "      </script>\n",
              "    </div>\n",
              "  </div>\n",
              "  "
            ]
          },
          "metadata": {},
          "execution_count": 107
        }
      ]
    },
    {
      "cell_type": "code",
      "source": [
        "print('Text 열에서 중복을 배제한 유일한 샘플의 수 :', data['Text'].nunique())\n",
        "print('Summary 열에서 중복을 배제한 유일한 샘플의 수 :', data['Summary'].nunique())"
      ],
      "metadata": {
        "colab": {
          "base_uri": "https://localhost:8080/"
        },
        "id": "GbtDhPlQHDBu",
        "outputId": "9581cdf4-38c0-4662-c2ae-8b3eb24deeff"
      },
      "execution_count": 108,
      "outputs": [
        {
          "output_type": "stream",
          "name": "stdout",
          "text": [
            "Text 열에서 중복을 배제한 유일한 샘플의 수 : 88426\n",
            "Summary 열에서 중복을 배제한 유일한 샘플의 수 : 72348\n"
          ]
        }
      ]
    },
    {
      "cell_type": "code",
      "source": [
        "data.drop_duplicates(subset=['Text'], inplace=True)\n",
        "print(\"전체 샘플수 :\", len(data))"
      ],
      "metadata": {
        "colab": {
          "base_uri": "https://localhost:8080/"
        },
        "id": "9ExzSwgCHC_N",
        "outputId": "38ca5474-5627-4948-a66f-070d23fbf0c8"
      },
      "execution_count": 109,
      "outputs": [
        {
          "output_type": "stream",
          "name": "stdout",
          "text": [
            "전체 샘플수 : 88426\n"
          ]
        }
      ]
    },
    {
      "cell_type": "code",
      "source": [
        "print(data.isnull().sum())"
      ],
      "metadata": {
        "colab": {
          "base_uri": "https://localhost:8080/"
        },
        "id": "oE8KXj-6HC88",
        "outputId": "0150c3e7-6f20-415a-f901-0899e948bd33"
      },
      "execution_count": 110,
      "outputs": [
        {
          "output_type": "stream",
          "name": "stdout",
          "text": [
            "Text       0\n",
            "Summary    1\n",
            "dtype: int64\n"
          ]
        }
      ]
    },
    {
      "cell_type": "code",
      "source": [
        "data.dropna(axis=0, inplace=True)\n",
        "print('전체 샘플수 :',(len(data)))"
      ],
      "metadata": {
        "colab": {
          "base_uri": "https://localhost:8080/"
        },
        "id": "qDD27qFiIpoP",
        "outputId": "9dbe203a-eec7-49d0-9add-cac549b04807"
      },
      "execution_count": 111,
      "outputs": [
        {
          "output_type": "stream",
          "name": "stdout",
          "text": [
            "전체 샘플수 : 88425\n"
          ]
        }
      ]
    },
    {
      "cell_type": "code",
      "source": [
        "contractions = {\"'cause\": 'because',\n",
        " \"I'd\": 'I would',\n",
        " \"I'd've\": 'I would have',\n",
        " \"I'll\": 'I will',\n",
        " \"I'll've\": 'I will have',\n",
        " \"I'm\": 'I am',\n",
        " \"I've\": 'I have',\n",
        " \"ain't\": 'is not',\n",
        " \"aren't\": 'are not',\n",
        " \"can't\": 'cannot',\n",
        " \"could've\": 'could have',\n",
        " \"couldn't\": 'could not',\n",
        " \"didn't\": 'did not',\n",
        " \"doesn't\": 'does not',\n",
        " \"don't\": 'do not',\n",
        " \"hadn't\": 'had not',\n",
        " \"hasn't\": 'has not',\n",
        " \"haven't\": 'have not',\n",
        " \"he'd\": 'he would',\n",
        " \"he'll\": 'he will',\n",
        " \"he's\": 'he is',\n",
        " \"here's\": 'here is',\n",
        " \"how'd\": 'how did',\n",
        " \"how'd'y\": 'how do you',\n",
        " \"how'll\": 'how will',\n",
        " \"how's\": 'how is',\n",
        " \"i'd\": 'i would',\n",
        " \"i'd've\": 'i would have',\n",
        " \"i'll\": 'i will',\n",
        " \"i'll've\": 'i will have',\n",
        " \"i'm\": 'i am',\n",
        " \"i've\": 'i have',\n",
        " \"isn't\": 'is not',\n",
        " \"it'd\": 'it would',\n",
        " \"it'd've\": 'it would have',\n",
        " \"it'll\": 'it will',\n",
        " \"it'll've\": 'it will have',\n",
        " \"it's\": 'it is',\n",
        " \"let's\": 'let us',\n",
        " \"ma'am\": 'madam',\n",
        " \"mayn't\": 'may not',\n",
        " \"might've\": 'might have',\n",
        " \"mightn't\": 'might not',\n",
        " \"mightn't've\": 'might not have',\n",
        " \"must've\": 'must have',\n",
        " \"mustn't\": 'must not',\n",
        " \"mustn't've\": 'must not have',\n",
        " \"needn't\": 'need not',\n",
        " \"needn't've\": 'need not have',\n",
        " \"o'clock\": 'of the clock',\n",
        " \"oughtn't\": 'ought not',\n",
        " \"oughtn't've\": 'ought not have',\n",
        " \"sha'n't\": 'shall not',\n",
        " \"shan't\": 'shall not',\n",
        " \"shan't've\": 'shall not have',\n",
        " \"she'd\": 'she would',\n",
        " \"she'd've\": 'she would have',\n",
        " \"she'll\": 'she will',\n",
        " \"she'll've\": 'she will have',\n",
        " \"she's\": 'she is',\n",
        " \"should've\": 'should have',\n",
        " \"shouldn't\": 'should not',\n",
        " \"shouldn't've\": 'should not have',\n",
        " \"so's\": 'so as',\n",
        " \"so've\": 'so have',\n",
        " \"that'd\": 'that would',\n",
        " \"that'd've\": 'that would have',\n",
        " \"that's\": 'that is',\n",
        " \"there'd\": 'there would',\n",
        " \"there'd've\": 'there would have',\n",
        " \"there's\": 'there is',\n",
        " \"they'd\": 'they would',\n",
        " \"they'd've\": 'they would have',\n",
        " \"they'll\": 'they will',\n",
        " \"they'll've\": 'they will have',\n",
        " \"they're\": 'they are',\n",
        " \"they've\": 'they have',\n",
        " \"this's\": 'this is',\n",
        " \"to've\": 'to have',\n",
        " \"wasn't\": 'was not',\n",
        " \"we'd\": 'we would',\n",
        " \"we'd've\": 'we would have',\n",
        " \"we'll\": 'we will',\n",
        " \"we'll've\": 'we will have',\n",
        " \"we're\": 'we are',\n",
        " \"we've\": 'we have',\n",
        " \"weren't\": 'were not',\n",
        " \"what'll\": 'what will',\n",
        " \"what'll've\": 'what will have',\n",
        " \"what're\": 'what are',\n",
        " \"what's\": 'what is',\n",
        " \"what've\": 'what have',\n",
        " \"when's\": 'when is',\n",
        " \"when've\": 'when have',\n",
        " \"where'd\": 'where did',\n",
        " \"where's\": 'where is',\n",
        " \"where've\": 'where have',\n",
        " \"who'll\": 'who will',\n",
        " \"who'll've\": 'who will have',\n",
        " \"who's\": 'who is',\n",
        " \"who've\": 'who have',\n",
        " \"why's\": 'why is',\n",
        " \"why've\": 'why have',\n",
        " \"will've\": 'will have',\n",
        " \"won't\": 'will not',\n",
        " \"won't've\": 'will not have',\n",
        " \"would've\": 'would have',\n",
        " \"wouldn't\": 'would not',\n",
        " \"wouldn't've\": 'would not have',\n",
        " \"y'all\": 'you all',\n",
        " \"y'all'd\": 'you all would',\n",
        " \"y'all'd've\": 'you all would have',\n",
        " \"y'all're\": 'you all are',\n",
        " \"y'all've\": 'you all have',\n",
        " \"you'd\": 'you would',\n",
        " \"you'd've\": 'you would have',\n",
        " \"you'll\": 'you will',\n",
        " \"you'll've\": 'you will have',\n",
        " \"you're\": 'you are',\n",
        " \"you've\": 'you have'}"
      ],
      "metadata": {
        "id": "8IOzqH7aIpkA"
      },
      "execution_count": 112,
      "outputs": []
    },
    {
      "cell_type": "code",
      "source": [
        "import nltk\n",
        "nltk.download('stopwords')"
      ],
      "metadata": {
        "colab": {
          "base_uri": "https://localhost:8080/"
        },
        "id": "vr6sz4uRJCQr",
        "outputId": "407a6904-6a32-4f57-853d-2cd53c701533"
      },
      "execution_count": 117,
      "outputs": [
        {
          "output_type": "stream",
          "name": "stderr",
          "text": [
            "[nltk_data] Downloading package stopwords to /root/nltk_data...\n",
            "[nltk_data]   Unzipping corpora/stopwords.zip.\n"
          ]
        },
        {
          "output_type": "execute_result",
          "data": {
            "text/plain": [
              "True"
            ]
          },
          "metadata": {},
          "execution_count": 117
        }
      ]
    },
    {
      "cell_type": "code",
      "source": [
        "stop_words = set(stopwords.words('english'))\n",
        "print('불용어 개수 :', len(stop_words))\n",
        "print(stop_words)"
      ],
      "metadata": {
        "colab": {
          "base_uri": "https://localhost:8080/"
        },
        "id": "MkmlD7V1Iphj",
        "outputId": "b8400a23-df3d-455d-fe18-8fc7baca4618"
      },
      "execution_count": 118,
      "outputs": [
        {
          "output_type": "stream",
          "name": "stdout",
          "text": [
            "불용어 개수 : 179\n",
            "{\"should've\", 'theirs', 'weren', 'whom', 'below', 'about', 'couldn', 'isn', 'wasn', 'hasn', \"hasn't\", 'him', 'too', 'ours', 'will', 're', \"that'll\", 'these', \"she's\", \"shan't\", 'her', 'o', 'after', 'down', 'at', 'itself', 'all', 'mightn', 'from', 'don', 'ma', \"mustn't\", 'be', 'd', 'shan', 'only', 'when', 'myself', 'she', 'some', 'same', 'been', 'if', 'hers', 'having', 'our', 'it', 'was', 'so', 'to', 'up', 'such', 'of', 'now', 'yours', 'his', \"you'll\", 'didn', 'or', 'off', 'between', 'me', 'that', 'by', 'll', 'am', 'hadn', 'its', 'than', 't', 'most', 'does', 'why', 'other', 'have', 'a', 'shouldn', \"hadn't\", 'both', 'himself', 'themselves', 'those', 'but', 'your', 'very', 'doesn', 'we', 'for', \"you're\", 'doing', 'herself', 'their', \"it's\", 'through', 'did', \"shouldn't\", 'you', 'during', 'more', 'just', 'an', 'yourself', 'before', 'because', \"mightn't\", 'once', 've', \"don't\", \"won't\", 'do', 'any', 'won', \"wasn't\", 'my', 'mustn', 'this', 'no', 'as', 'yourselves', \"isn't\", 'over', 'should', 'where', 'each', 'had', 'while', 'few', 'aren', 'not', \"doesn't\", 'ourselves', 'being', 'which', 'here', \"aren't\", 'until', 'under', \"needn't\", 'ain', 'in', 'own', 'there', 'needn', 'what', 'i', \"couldn't\", 's', 'above', 'haven', \"wouldn't\", 'y', 'the', 'then', 'out', \"you've\", 'can', \"haven't\", \"didn't\", 'he', \"you'd\", 'on', 'again', 'into', 'wouldn', 'and', 'them', 'they', 'm', 'nor', 'further', \"weren't\", 'has', 'are', 'who', 'were', 'how', 'is', 'against', 'with'}\n"
          ]
        }
      ]
    },
    {
      "cell_type": "code",
      "source": [
        "def preprocess_sentence(sentence, remove_stopwords = True):\n",
        "  sentence = sentence.lower()\n",
        "  sentence = BeautifulSoup(sentence, \"lxml\").text\n",
        "  sentence = re.sub(r'\\([^)]*\\)', '', sentence)\n",
        "  sentence = re.sub('\"', '', sentence)\n",
        "  sentence = ' '.join([contractions[t] if t in contractions else t for t in sentence.split(\" \")])\n",
        "  sentence = re.sub(r\"'s\\b\", \"\",sentence)\n",
        "  sentence = re.sub(\"[^a-zA-Z]\", \" \", sentence)\n",
        "  sentence = re.sub('[m]{2,}', 'mm', sentence)\n",
        "\n",
        "  if remove_stopwords:\n",
        "    tokens = ' '.join(word for word in sentence.split() if not word in stop_words if len(word) > 1)\n",
        "  else:\n",
        "    tokens = ' '.join(word for word in sentence.split() if len(word) > 1)\n",
        "  return tokens"
      ],
      "metadata": {
        "id": "GX46ZA3EJCS_"
      },
      "execution_count": 124,
      "outputs": []
    },
    {
      "cell_type": "code",
      "source": [
        "temp_text = 'Everything I bought was great, infact I ordered twice and the third ordered was<br />for my mother and father.'\n",
        "temp_summary = 'Great way to start (or finish) the day!!!'\n",
        "print(preprocess_sentence(temp_text))\n",
        "print(preprocess_sentence(temp_summary, 0))"
      ],
      "metadata": {
        "colab": {
          "base_uri": "https://localhost:8080/"
        },
        "id": "_8gjii6fJCOo",
        "outputId": "01e8634b-06b5-4c40-d7a1-b4769c8cbd06"
      },
      "execution_count": 125,
      "outputs": [
        {
          "output_type": "stream",
          "name": "stdout",
          "text": [
            "everything bought great infact ordered twice third ordered wasfor mother father\n",
            "great way to start the day\n"
          ]
        }
      ]
    },
    {
      "cell_type": "code",
      "source": [
        "clean_text = []\n",
        "for s in data['Text']:\n",
        "    clean_text.append(preprocess_sentence(s))\n",
        "clean_text[:5]"
      ],
      "metadata": {
        "colab": {
          "base_uri": "https://localhost:8080/"
        },
        "id": "jUjS9i-bJCMb",
        "outputId": "4c54717c-60b1-443e-e207-71f9d82ab607"
      },
      "execution_count": 126,
      "outputs": [
        {
          "output_type": "execute_result",
          "data": {
            "text/plain": [
              "['bought several vitality canned dog food products found good quality product looks like stew processed meat smells better labrador finicky appreciates product better',\n",
              " 'product arrived labeled jumbo salted peanuts peanuts actually small sized unsalted sure error vendor intended represent product jumbo',\n",
              " 'confection around centuries light pillowy citrus gelatin nuts case filberts cut tiny squares liberally coated powdered sugar tiny mouthful heaven chewy flavorful highly recommend yummy treat familiar story lewis lion witch wardrobe treat seduces edmund selling brother sisters witch',\n",
              " 'looking secret ingredient robitussin believe found got addition root beer extract ordered made cherry soda flavor medicinal',\n",
              " 'great taffy great price wide assortment yummy taffy delivery quick taffy lover deal']"
            ]
          },
          "metadata": {},
          "execution_count": 126
        }
      ]
    },
    {
      "cell_type": "code",
      "source": [
        "clean_summary = []\n",
        "for s in data['Summary']:\n",
        "    clean_summary.append(preprocess_sentence(s, 0))\n",
        "clean_summary[:5]"
      ],
      "metadata": {
        "colab": {
          "base_uri": "https://localhost:8080/"
        },
        "id": "tDJJ-_jjJCKi",
        "outputId": "1436182c-0c6f-46cf-d686-e7a17b4add95"
      },
      "execution_count": 127,
      "outputs": [
        {
          "output_type": "stream",
          "name": "stderr",
          "text": [
            "/usr/local/lib/python3.7/dist-packages/bs4/__init__.py:336: UserWarning: \"http://www.amazon.com/gp/product/b007i7yygy/ref=cm_cr_rev_prod_title\" looks like a URL. Beautiful Soup is not an HTTP client. You should probably use an HTTP client like requests to get the document behind the URL, and feed that document to Beautiful Soup.\n",
            "  ' that document to Beautiful Soup.' % decoded_markup\n"
          ]
        },
        {
          "output_type": "execute_result",
          "data": {
            "text/plain": [
              "['good quality dog food',\n",
              " 'not as advertised',\n",
              " 'delight says it all',\n",
              " 'cough medicine',\n",
              " 'great taffy']"
            ]
          },
          "metadata": {},
          "execution_count": 127
        }
      ]
    },
    {
      "cell_type": "code",
      "source": [
        "data['Text'] = clean_text\n",
        "data['Summary'] = clean_summary"
      ],
      "metadata": {
        "id": "-aEcsaRuJCHz"
      },
      "execution_count": 128,
      "outputs": []
    },
    {
      "cell_type": "code",
      "source": [
        "data.replace('', np.nan, inplace=True)\n",
        "print(data.isnull().sum())"
      ],
      "metadata": {
        "colab": {
          "base_uri": "https://localhost:8080/"
        },
        "id": "Pnns2QaWJB3w",
        "outputId": "686078f7-947c-4ee1-b16a-2ed89a1434ef"
      },
      "execution_count": 129,
      "outputs": [
        {
          "output_type": "stream",
          "name": "stdout",
          "text": [
            "Text        0\n",
            "Summary    70\n",
            "dtype: int64\n"
          ]
        }
      ]
    },
    {
      "cell_type": "code",
      "source": [
        "data.dropna(axis = 0, inplace = True)\n",
        "print('전체 샘플수 :',(len(data)))"
      ],
      "metadata": {
        "colab": {
          "base_uri": "https://localhost:8080/"
        },
        "id": "5P6rU_2vOneY",
        "outputId": "5560d6ce-5fe6-4e86-9691-2e81e4963959"
      },
      "execution_count": 130,
      "outputs": [
        {
          "output_type": "stream",
          "name": "stdout",
          "text": [
            "전체 샘플수 : 88355\n"
          ]
        }
      ]
    },
    {
      "cell_type": "code",
      "source": [
        "text_len = [len(s.split()) for s in data['Text']]\n",
        "summary_len = [len(s.split()) for s in data['Summary']]\n",
        "\n",
        "print('텍스트의 최소 길이 : {}'.format(np.min(text_len)))\n",
        "print('텍스트의 최대 길이 : {}'.format(np.max(text_len)))\n",
        "print('텍스트의 평균 길이 : {}'.format(np.mean(text_len)))\n",
        "print('요약의 최소 길이 : {}'.format(np.min(summary_len)))\n",
        "print('요약의 최대 길이 : {}'.format(np.max(summary_len)))\n",
        "print('요약의 평균 길이 : {}'.format(np.mean(summary_len)))\n",
        "\n",
        "plt.subplot(1,2,1)\n",
        "plt.boxplot(summary_len)\n",
        "plt.title('Summary')\n",
        "plt.subplot(1,2,2)\n",
        "plt.boxplot(text_len)\n",
        "plt.title('Text')\n",
        "plt.tight_layout()\n",
        "plt.show()\n",
        "\n",
        "plt.title('Summary')\n",
        "plt.hist(summary_len, bins=40)\n",
        "plt.xlabel('length of samples')\n",
        "plt.ylabel('number of samples')\n",
        "plt.show()\n",
        "\n",
        "plt.title('Text')\n",
        "plt.hist(text_len, bins=40)\n",
        "plt.xlabel('length of samples')\n",
        "plt.ylabel('number of samples')\n",
        "plt.show()"
      ],
      "metadata": {
        "colab": {
          "base_uri": "https://localhost:8080/",
          "height": 962
        },
        "id": "dZpNoKVGOncC",
        "outputId": "cfd3cd08-9dfa-49f8-b87d-c1f951c333b1"
      },
      "execution_count": 131,
      "outputs": [
        {
          "output_type": "stream",
          "name": "stdout",
          "text": [
            "텍스트의 최소 길이 : 2\n",
            "텍스트의 최대 길이 : 1235\n",
            "텍스트의 평균 길이 : 38.792428272310566\n",
            "요약의 최소 길이 : 1\n",
            "요약의 최대 길이 : 28\n",
            "요약의 평균 길이 : 4.010729443721352\n"
          ]
        },
        {
          "output_type": "display_data",
          "data": {
            "text/plain": [
              "<Figure size 432x288 with 2 Axes>"
            ],
            "image/png": "[encoded data removed]"
          },
          "metadata": {
            "needs_background": "light"
          }
        },
        {
          "output_type": "display_data",
          "data": {
            "text/plain": [
              "<Figure size 432x288 with 1 Axes>"
            ],
            "image/png": "[encoded data removed]"
          },
          "metadata": {
            "needs_background": "light"
          }
        },
        {
          "output_type": "display_data",
          "data": {
            "text/plain": [
              "<Figure size 432x288 with 1 Axes>"
            ],
            "image/png": "[encoded data removed]"
          },
          "metadata": {
            "needs_background": "light"
          }
        }
      ]
    },
    {
      "cell_type": "code",
      "source": [
        "text_max_len = 50\n",
        "summary_max_len = 8"
      ],
      "metadata": {
        "id": "zLVcUJ-LOnZf"
      },
      "execution_count": 132,
      "outputs": []
    },
    {
      "cell_type": "code",
      "source": [
        "def below_threshold_len(max_len, nested_list):\n",
        "  cnt = 0\n",
        "  for s in nested_list:\n",
        "    if(len(s.split()) <= max_len):\n",
        "        cnt = cnt + 1\n",
        "  print('전체 샘플 중 길이가 %s 이하인 샘플의 비율: %s'%(max_len, (cnt / len(nested_list))))"
      ],
      "metadata": {
        "id": "EvyQ4myuOmuv"
      },
      "execution_count": 133,
      "outputs": []
    },
    {
      "cell_type": "code",
      "source": [
        "below_threshold_len(text_max_len, data['Text'])"
      ],
      "metadata": {
        "colab": {
          "base_uri": "https://localhost:8080/"
        },
        "id": "oQNvNMqCHC6h",
        "outputId": "dbf68f52-d92d-449e-f9a1-515cd6f5b770"
      },
      "execution_count": 134,
      "outputs": [
        {
          "output_type": "stream",
          "name": "stdout",
          "text": [
            "전체 샘플 중 길이가 50 이하인 샘플의 비율: 0.7745119121724859\n"
          ]
        }
      ]
    },
    {
      "cell_type": "code",
      "source": [
        "below_threshold_len(summary_max_len, data['Summary'])"
      ],
      "metadata": {
        "colab": {
          "base_uri": "https://localhost:8080/"
        },
        "id": "I5RhHlBZOyJM",
        "outputId": "40185b77-4258-4fbe-809a-2682c012549d"
      },
      "execution_count": 135,
      "outputs": [
        {
          "output_type": "stream",
          "name": "stdout",
          "text": [
            "전체 샘플 중 길이가 8 이하인 샘플의 비율: 0.9424593967517402\n"
          ]
        }
      ]
    },
    {
      "cell_type": "code",
      "source": [
        "data = data[data['Text'].apply(lambda x: len(x.split()) <= text_max_len)]\n",
        "data = data[data['Summary'].apply(lambda x: len(x.split()) <= summary_max_len)]\n",
        "print('전체 샘플수 :',(len(data)))"
      ],
      "metadata": {
        "colab": {
          "base_uri": "https://localhost:8080/"
        },
        "id": "Iynrguj8OyHX",
        "outputId": "ae62e591-0da6-4cc4-fe4b-a75c671cfc9e"
      },
      "execution_count": 136,
      "outputs": [
        {
          "output_type": "stream",
          "name": "stdout",
          "text": [
            "전체 샘플수 : 65818\n"
          ]
        }
      ]
    },
    {
      "cell_type": "code",
      "source": [
        "data.head()"
      ],
      "metadata": {
        "colab": {
          "base_uri": "https://localhost:8080/",
          "height": 206
        },
        "id": "iBadK2sROyE3",
        "outputId": "c1918179-9bca-4bf4-9211-bb5ec1315157"
      },
      "execution_count": 137,
      "outputs": [
        {
          "output_type": "execute_result",
          "data": {
            "text/plain": [
              "                                                Text                Summary\n",
              "0  bought several vitality canned dog food produc...  good quality dog food\n",
              "1  product arrived labeled jumbo salted peanuts p...      not as advertised\n",
              "2  confection around centuries light pillowy citr...    delight says it all\n",
              "3  looking secret ingredient robitussin believe f...         cough medicine\n",
              "4  great taffy great price wide assortment yummy ...            great taffy"
            ],
            "text/html": [
              "\n",
              "  <div id=\"df-cb533ddc-53c7-4601-9292-908df6e9bf9a\">\n",
              "    <div class=\"colab-df-container\">\n",
              "      <div>\n",
              "<style scoped>\n",
              "    .dataframe tbody tr th:only-of-type {\n",
              "        vertical-align: middle;\n",
              "    }\n",
              "\n",
              "    .dataframe tbody tr th {\n",
              "        vertical-align: top;\n",
              "    }\n",
              "\n",
              "    .dataframe thead th {\n",
              "        text-align: right;\n",
              "    }\n",
              "</style>\n",
              "<table border=\"1\" class=\"dataframe\">\n",
              "  <thead>\n",
              "    <tr style=\"text-align: right;\">\n",
              "      <th></th>\n",
              "      <th>Text</th>\n",
              "      <th>Summary</th>\n",
              "    </tr>\n",
              "  </thead>\n",
              "  <tbody>\n",
              "    <tr>\n",
              "      <th>0</th>\n",
              "      <td>bought several vitality canned dog food produc...</td>\n",
              "      <td>good quality dog food</td>\n",
              "    </tr>\n",
              "    <tr>\n",
              "      <th>1</th>\n",
              "      <td>product arrived labeled jumbo salted peanuts p...</td>\n",
              "      <td>not as advertised</td>\n",
              "    </tr>\n",
              "    <tr>\n",
              "      <th>2</th>\n",
              "      <td>confection around centuries light pillowy citr...</td>\n",
              "      <td>delight says it all</td>\n",
              "    </tr>\n",
              "    <tr>\n",
              "      <th>3</th>\n",
              "      <td>looking secret ingredient robitussin believe f...</td>\n",
              "      <td>cough medicine</td>\n",
              "    </tr>\n",
              "    <tr>\n",
              "      <th>4</th>\n",
              "      <td>great taffy great price wide assortment yummy ...</td>\n",
              "      <td>great taffy</td>\n",
              "    </tr>\n",
              "  </tbody>\n",
              "</table>\n",
              "</div>\n",
              "      <button class=\"colab-df-convert\" onclick=\"convertToInteractive('df-cb533ddc-53c7-4601-9292-908df6e9bf9a')\"\n",
              "              title=\"Convert this dataframe to an interactive table.\"\n",
              "              style=\"display:none;\">\n",
              "        \n",
              "  <svg xmlns=\"http://www.w3.org/2000/svg\" height=\"24px\"viewBox=\"0 0 24 24\"\n",
              "       width=\"24px\">\n",
              "    <path d=\"M0 0h24v24H0V0z\" fill=\"none\"/>\n",
              "    <path d=\"M18.56 5.44l.94 2.06.94-2.06 2.06-.94-2.06-.94-.94-2.06-.94 2.06-2.06.94zm-11 1L8.5 8.5l.94-2.06 2.06-.94-2.06-.94L8.5 2.5l-.94 2.06-2.06.94zm10 10l.94 2.06.94-2.06 2.06-.94-2.06-.94-.94-2.06-.94 2.06-2.06.94z\"/><path d=\"M17.41 7.96l-1.37-1.37c-.4-.4-.92-.59-1.43-.59-.52 0-1.04.2-1.43.59L10.3 9.45l-7.72 7.72c-.78.78-.78 2.05 0 2.83L4 21.41c.39.39.9.59 1.41.59.51 0 1.02-.2 1.41-.59l7.78-7.78 2.81-2.81c.8-.78.8-2.07 0-2.86zM5.41 20L4 18.59l7.72-7.72 1.47 1.35L5.41 20z\"/>\n",
              "  </svg>\n",
              "      </button>\n",
              "      \n",
              "  <style>\n",
              "    .colab-df-container {\n",
              "      display:flex;\n",
              "      flex-wrap:wrap;\n",
              "      gap: 12px;\n",
              "    }\n",
              "\n",
              "    .colab-df-convert {\n",
              "      background-color: #E8F0FE;\n",
              "      border: none;\n",
              "      border-radius: 50%;\n",
              "      cursor: pointer;\n",
              "      display: none;\n",
              "      fill: #1967D2;\n",
              "      height: 32px;\n",
              "      padding: 0 0 0 0;\n",
              "      width: 32px;\n",
              "    }\n",
              "\n",
              "    .colab-df-convert:hover {\n",
              "      background-color: #E2EBFA;\n",
              "      box-shadow: 0px 1px 2px rgba(60, 64, 67, 0.3), 0px 1px 3px 1px rgba(60, 64, 67, 0.15);\n",
              "      fill: #174EA6;\n",
              "    }\n",
              "\n",
              "    [theme=dark] .colab-df-convert {\n",
              "      background-color: #3B4455;\n",
              "      fill: #D2E3FC;\n",
              "    }\n",
              "\n",
              "    [theme=dark] .colab-df-convert:hover {\n",
              "      background-color: #434B5C;\n",
              "      box-shadow: 0px 1px 3px 1px rgba(0, 0, 0, 0.15);\n",
              "      filter: drop-shadow(0px 1px 2px rgba(0, 0, 0, 0.3));\n",
              "      fill: #FFFFFF;\n",
              "    }\n",
              "  </style>\n",
              "\n",
              "      <script>\n",
              "        const buttonEl =\n",
              "          document.querySelector('#df-cb533ddc-53c7-4601-9292-908df6e9bf9a button.colab-df-convert');\n",
              "        buttonEl.style.display =\n",
              "          google.colab.kernel.accessAllowed ? 'block' : 'none';\n",
              "\n",
              "        async function convertToInteractive(key) {\n",
              "          const element = document.querySelector('#df-cb533ddc-53c7-4601-9292-908df6e9bf9a');\n",
              "          const dataTable =\n",
              "            await google.colab.kernel.invokeFunction('convertToInteractive',\n",
              "                                                     [key], {});\n",
              "          if (!dataTable) return;\n",
              "\n",
              "          const docLinkHtml = 'Like what you see? Visit the ' +\n",
              "            '<a target=\"_blank\" href=https://colab.research.google.com/notebooks/data_table.ipynb>data table notebook</a>'\n",
              "            + ' to learn more about interactive tables.';\n",
              "          element.innerHTML = '';\n",
              "          dataTable['output_type'] = 'display_data';\n",
              "          await google.colab.output.renderOutput(dataTable, element);\n",
              "          const docLink = document.createElement('div');\n",
              "          docLink.innerHTML = docLinkHtml;\n",
              "          element.appendChild(docLink);\n",
              "        }\n",
              "      </script>\n",
              "    </div>\n",
              "  </div>\n",
              "  "
            ]
          },
          "metadata": {},
          "execution_count": 137
        }
      ]
    },
    {
      "cell_type": "code",
      "source": [
        "data['decoder_input'] = data['Summary'].apply(lambda x : 'sostoken '+ x)\n",
        "data['decoder_target'] = data['Summary'].apply(lambda x : x + ' eostoken')\n",
        "data.head()"
      ],
      "metadata": {
        "colab": {
          "base_uri": "https://localhost:8080/",
          "height": 206
        },
        "id": "czSrJB0-O1Un",
        "outputId": "192028fd-18c4-491d-cc9c-16f9ec95a6fa"
      },
      "execution_count": 138,
      "outputs": [
        {
          "output_type": "execute_result",
          "data": {
            "text/plain": [
              "                                                Text                Summary  \\\n",
              "0  bought several vitality canned dog food produc...  good quality dog food   \n",
              "1  product arrived labeled jumbo salted peanuts p...      not as advertised   \n",
              "2  confection around centuries light pillowy citr...    delight says it all   \n",
              "3  looking secret ingredient robitussin believe f...         cough medicine   \n",
              "4  great taffy great price wide assortment yummy ...            great taffy   \n",
              "\n",
              "                    decoder_input                  decoder_target  \n",
              "0  sostoken good quality dog food  good quality dog food eostoken  \n",
              "1      sostoken not as advertised      not as advertised eostoken  \n",
              "2    sostoken delight says it all    delight says it all eostoken  \n",
              "3         sostoken cough medicine         cough medicine eostoken  \n",
              "4            sostoken great taffy            great taffy eostoken  "
            ],
            "text/html": [
              "\n",
              "  <div id=\"df-ee0f895b-eb29-4b3e-aa2e-91e90c8829d7\">\n",
              "    <div class=\"colab-df-container\">\n",
              "      <div>\n",
              "<style scoped>\n",
              "    .dataframe tbody tr th:only-of-type {\n",
              "        vertical-align: middle;\n",
              "    }\n",
              "\n",
              "    .dataframe tbody tr th {\n",
              "        vertical-align: top;\n",
              "    }\n",
              "\n",
              "    .dataframe thead th {\n",
              "        text-align: right;\n",
              "    }\n",
              "</style>\n",
              "<table border=\"1\" class=\"dataframe\">\n",
              "  <thead>\n",
              "    <tr style=\"text-align: right;\">\n",
              "      <th></th>\n",
              "      <th>Text</th>\n",
              "      <th>Summary</th>\n",
              "      <th>decoder_input</th>\n",
              "      <th>decoder_target</th>\n",
              "    </tr>\n",
              "  </thead>\n",
              "  <tbody>\n",
              "    <tr>\n",
              "      <th>0</th>\n",
              "      <td>bought several vitality canned dog food produc...</td>\n",
              "      <td>good quality dog food</td>\n",
              "      <td>sostoken good quality dog food</td>\n",
              "      <td>good quality dog food eostoken</td>\n",
              "    </tr>\n",
              "    <tr>\n",
              "      <th>1</th>\n",
              "      <td>product arrived labeled jumbo salted peanuts p...</td>\n",
              "      <td>not as advertised</td>\n",
              "      <td>sostoken not as advertised</td>\n",
              "      <td>not as advertised eostoken</td>\n",
              "    </tr>\n",
              "    <tr>\n",
              "      <th>2</th>\n",
              "      <td>confection around centuries light pillowy citr...</td>\n",
              "      <td>delight says it all</td>\n",
              "      <td>sostoken delight says it all</td>\n",
              "      <td>delight says it all eostoken</td>\n",
              "    </tr>\n",
              "    <tr>\n",
              "      <th>3</th>\n",
              "      <td>looking secret ingredient robitussin believe f...</td>\n",
              "      <td>cough medicine</td>\n",
              "      <td>sostoken cough medicine</td>\n",
              "      <td>cough medicine eostoken</td>\n",
              "    </tr>\n",
              "    <tr>\n",
              "      <th>4</th>\n",
              "      <td>great taffy great price wide assortment yummy ...</td>\n",
              "      <td>great taffy</td>\n",
              "      <td>sostoken great taffy</td>\n",
              "      <td>great taffy eostoken</td>\n",
              "    </tr>\n",
              "  </tbody>\n",
              "</table>\n",
              "</div>\n",
              "      <button class=\"colab-df-convert\" onclick=\"convertToInteractive('df-ee0f895b-eb29-4b3e-aa2e-91e90c8829d7')\"\n",
              "              title=\"Convert this dataframe to an interactive table.\"\n",
              "              style=\"display:none;\">\n",
              "        \n",
              "  <svg xmlns=\"http://www.w3.org/2000/svg\" height=\"24px\"viewBox=\"0 0 24 24\"\n",
              "       width=\"24px\">\n",
              "    <path d=\"M0 0h24v24H0V0z\" fill=\"none\"/>\n",
              "    <path d=\"M18.56 5.44l.94 2.06.94-2.06 2.06-.94-2.06-.94-.94-2.06-.94 2.06-2.06.94zm-11 1L8.5 8.5l.94-2.06 2.06-.94-2.06-.94L8.5 2.5l-.94 2.06-2.06.94zm10 10l.94 2.06.94-2.06 2.06-.94-2.06-.94-.94-2.06-.94 2.06-2.06.94z\"/><path d=\"M17.41 7.96l-1.37-1.37c-.4-.4-.92-.59-1.43-.59-.52 0-1.04.2-1.43.59L10.3 9.45l-7.72 7.72c-.78.78-.78 2.05 0 2.83L4 21.41c.39.39.9.59 1.41.59.51 0 1.02-.2 1.41-.59l7.78-7.78 2.81-2.81c.8-.78.8-2.07 0-2.86zM5.41 20L4 18.59l7.72-7.72 1.47 1.35L5.41 20z\"/>\n",
              "  </svg>\n",
              "      </button>\n",
              "      \n",
              "  <style>\n",
              "    .colab-df-container {\n",
              "      display:flex;\n",
              "      flex-wrap:wrap;\n",
              "      gap: 12px;\n",
              "    }\n",
              "\n",
              "    .colab-df-convert {\n",
              "      background-color: #E8F0FE;\n",
              "      border: none;\n",
              "      border-radius: 50%;\n",
              "      cursor: pointer;\n",
              "      display: none;\n",
              "      fill: #1967D2;\n",
              "      height: 32px;\n",
              "      padding: 0 0 0 0;\n",
              "      width: 32px;\n",
              "    }\n",
              "\n",
              "    .colab-df-convert:hover {\n",
              "      background-color: #E2EBFA;\n",
              "      box-shadow: 0px 1px 2px rgba(60, 64, 67, 0.3), 0px 1px 3px 1px rgba(60, 64, 67, 0.15);\n",
              "      fill: #174EA6;\n",
              "    }\n",
              "\n",
              "    [theme=dark] .colab-df-convert {\n",
              "      background-color: #3B4455;\n",
              "      fill: #D2E3FC;\n",
              "    }\n",
              "\n",
              "    [theme=dark] .colab-df-convert:hover {\n",
              "      background-color: #434B5C;\n",
              "      box-shadow: 0px 1px 3px 1px rgba(0, 0, 0, 0.15);\n",
              "      filter: drop-shadow(0px 1px 2px rgba(0, 0, 0, 0.3));\n",
              "      fill: #FFFFFF;\n",
              "    }\n",
              "  </style>\n",
              "\n",
              "      <script>\n",
              "        const buttonEl =\n",
              "          document.querySelector('#df-ee0f895b-eb29-4b3e-aa2e-91e90c8829d7 button.colab-df-convert');\n",
              "        buttonEl.style.display =\n",
              "          google.colab.kernel.accessAllowed ? 'block' : 'none';\n",
              "\n",
              "        async function convertToInteractive(key) {\n",
              "          const element = document.querySelector('#df-ee0f895b-eb29-4b3e-aa2e-91e90c8829d7');\n",
              "          const dataTable =\n",
              "            await google.colab.kernel.invokeFunction('convertToInteractive',\n",
              "                                                     [key], {});\n",
              "          if (!dataTable) return;\n",
              "\n",
              "          const docLinkHtml = 'Like what you see? Visit the ' +\n",
              "            '<a target=\"_blank\" href=https://colab.research.google.com/notebooks/data_table.ipynb>data table notebook</a>'\n",
              "            + ' to learn more about interactive tables.';\n",
              "          element.innerHTML = '';\n",
              "          dataTable['output_type'] = 'display_data';\n",
              "          await google.colab.output.renderOutput(dataTable, element);\n",
              "          const docLink = document.createElement('div');\n",
              "          docLink.innerHTML = docLinkHtml;\n",
              "          element.appendChild(docLink);\n",
              "        }\n",
              "      </script>\n",
              "    </div>\n",
              "  </div>\n",
              "  "
            ]
          },
          "metadata": {},
          "execution_count": 138
        }
      ]
    },
    {
      "cell_type": "code",
      "source": [
        "encoder_input = np.array(data['Text'])\n",
        "decoder_input = np.array(data['decoder_input'])\n",
        "decoder_target = np.array(data['decoder_target'])"
      ],
      "metadata": {
        "id": "-hNZ0m-TO1R4"
      },
      "execution_count": 139,
      "outputs": []
    },
    {
      "cell_type": "code",
      "source": [],
      "metadata": {
        "id": "R957Zgv8O1Py"
      },
      "execution_count": null,
      "outputs": []
    },
    {
      "cell_type": "markdown",
      "source": [
        "### **2️⃣ Text summarization task**"
      ],
      "metadata": {
        "id": "HfTr_BPwGc8D"
      }
    },
    {
      "cell_type": "markdown",
      "source": [
        "🔹 2-(1) Pororo - text summarization \n",
        "\n",
        "📌 [공식문서](https://kakaobrain.github.io/pororo/seq2seq/summary.html) \n",
        "\n",
        "📌 [예제 실습](https://teddylee777.github.io/machine-learning/nlp-korean-pororo) \n",
        "\n",
        "* PORORO : 카카오 브레인에서 제공한 자연어 처리 라이브러리"
      ],
      "metadata": {
        "id": "eu3adOV2bDs_"
      }
    },
    {
      "cell_type": "code",
      "source": [],
      "metadata": {
        "id": "e2WbVbbsatD5"
      },
      "execution_count": null,
      "outputs": []
    },
    {
      "cell_type": "code",
      "source": [],
      "metadata": {
        "id": "NmVEEfAqdSa1"
      },
      "execution_count": null,
      "outputs": []
    },
    {
      "cell_type": "markdown",
      "source": [
        "🔹 2-(2) BERT 를 이용한 text summarization \n",
        "\n",
        "📌 [논문 리뷰](https://medium.com/@eyfydsyd97/bert%EB%A5%BC-%ED%99%9C%EC%9A%A9%ED%95%9C-%ED%85%8D%EC%8A%A4%ED%8A%B8-%EC%9A%94%EC%95%BD-text-summary-b582b5cc7d) \n",
        "\n",
        "📌 [BERT Extractive summarizer Library](https://github.com/dmmiller612/bert-extractive-summarizer) \n",
        "\n",
        "\n",
        "📌 [Text summarization Github Repo](https://github.com/uoneway/Text-Summarization-Repo) \n",
        "\n",
        "\n",
        "\n",
        "➕ [BERT 를 이용한 뉴스 요약 자동화 App 구현 Repo](https://github.com/huydang90/News-Summarization-with-BERT) 👉 프로젝트 예시 참고 자료\n",
        "\n"
      ],
      "metadata": {
        "id": "xsx6OgzwbnIt"
      }
    },
    {
      "cell_type": "code",
      "source": [],
      "metadata": {
        "id": "svtikbdZatBY"
      },
      "execution_count": null,
      "outputs": []
    },
    {
      "cell_type": "code",
      "source": [],
      "metadata": {
        "id": "mnfL6KIZdSuo"
      },
      "execution_count": null,
      "outputs": []
    }
  ]
}