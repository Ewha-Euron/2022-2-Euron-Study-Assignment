{
 "cells": [
  {
   "cell_type": "code",
   "execution_count": null,
   "id": "e344f237",
   "metadata": {},
   "outputs": [],
   "source": [
    "import pandas as pd\n",
    "train = pd.read_csv('train.csv')\n",
    "test = pd.read_csv('test.csv')\n",
    "train.head()"
   ]
  },
  {
   "cell_type": "code",
   "execution_count": null,
   "id": "cd6e79be",
   "metadata": {},
   "outputs": [],
   "source": [
    "!pip install pycaret"
   ]
  },
  {
   "cell_type": "code",
   "execution_count": null,
   "id": "67577727",
   "metadata": {},
   "outputs": [],
   "source": [
    "from pycaret.regression import *\n",
    "reg1 = setup(train, target = 'SalePrice', session_id = 123, silent = True)"
   ]
  },
  {
   "cell_type": "code",
   "execution_count": null,
   "id": "068211b2",
   "metadata": {},
   "outputs": [],
   "source": [
    "compare_models(blacklist = ['tr'])"
   ]
  },
  {
   "cell_type": "code",
   "execution_count": null,
   "id": "e8c5ab12",
   "metadata": {},
   "outputs": [],
   "source": [
    "catboost = create_model('catboost', verbose = False)\n",
    "gbr = create_model('gbr', verbose = False)\n",
    "xgboost = create_model('xgboost', verbose = False)"
   ]
  },
  {
   "cell_type": "code",
   "execution_count": null,
   "id": "e4c9573c",
   "metadata": {},
   "outputs": [],
   "source": [
    "blend_top_3 = blend_models(estimator_list = [catboost, gbr, xgboost])"
   ]
  },
  {
   "cell_type": "code",
   "execution_count": null,
   "id": "4f6530ff",
   "metadata": {},
   "outputs": [],
   "source": [
    "stack1 = stack_models(estimator_list = [gbr, xgboost], meta_model = catboost, restack = True)"
   ]
  },
  {
   "cell_type": "code",
   "execution_count": null,
   "id": "a780311d",
   "metadata": {},
   "outputs": [],
   "source": [
    "from pycaret.regression import *\n",
    "reg1 = setup(train, target = 'SalePrice', session_id = 123, \n",
    "             normalize = True, normalize_method = 'zscore',\n",
    "             transformation = True, transformation_method = 'yeo-johnson', transform_target = True,\n",
    "             ignore_low_variance = True, combine_rare_levels = True,\n",
    "             numeric_features=['OverallQual', 'OverallCond', 'BsmtFullBath', 'BsmtHalfBath', \n",
    "                               'FullBath', 'HalfBath', 'BedroomAbvGr', 'KitchenAbvGr', \n",
    "                               'TotRmsAbvGrd', 'Fireplaces', 'GarageCars', 'PoolArea'],\n",
    "             silent = True\n",
    "             )"
   ]
  },
  {
   "cell_type": "code",
   "execution_count": null,
   "id": "74548dec",
   "metadata": {},
   "outputs": [],
   "source": [
    "compare_models(blacklist = ['tr'])"
   ]
  },
  {
   "cell_type": "code",
   "execution_count": null,
   "id": "f2a23fcb",
   "metadata": {},
   "outputs": [],
   "source": [
    "gbr = create_model('gbr', verbose = False)\n",
    "catboost = create_model('catboost', verbose = False)\n",
    "svm = create_model('svm', verbose = False)\n",
    "lightgbm = create_model('lightgbm', verbose = False)\n",
    "xgboost = create_model('xgboost', verbose = False)"
   ]
  },
  {
   "cell_type": "code",
   "execution_count": null,
   "id": "a431ec96",
   "metadata": {},
   "outputs": [],
   "source": [
    "blend_top_5 = blend_models(estimator_list = [gbr,catboost,svm,lightgbm,xgboost])"
   ]
  },
  {
   "cell_type": "code",
   "execution_count": null,
   "id": "f954ee40",
   "metadata": {},
   "outputs": [],
   "source": [
    "stack2 = stack_models(estimator_list = [gbr,catboost,lightgbm,xgboost], meta_model = svm, restack = True)"
   ]
  },
  {
   "cell_type": "code",
   "execution_count": null,
   "id": "4c81dcfb",
   "metadata": {},
   "outputs": [],
   "source": [
    "from pycaret.regression import *\n",
    "reg1 = setup(train, target = 'SalePrice', session_id = 123, \n",
    "             normalize = True, normalize_method = 'zscore',\n",
    "             transformation = True, transformation_method = 'yeo-johnson', transform_target = True,\n",
    "             numeric_features=['OverallQual', 'OverallCond', 'BsmtFullBath', 'BsmtHalfBath', \n",
    "                               'FullBath', 'HalfBath', 'BedroomAbvGr', 'KitchenAbvGr', \n",
    "                               'TotRmsAbvGrd', 'Fireplaces', 'GarageCars', 'PoolArea'],\n",
    "             ordinal_features= {'ExterQual': ['Fa', 'TA', 'Gd', 'Ex'],\n",
    "                                'ExterCond' : ['Po', 'Fa', 'TA', 'Gd', 'Ex'],\n",
    "                                'BsmtQual' : ['Fa', 'TA', 'Gd', 'Ex'], \n",
    "                                'BsmtCond' : ['Po', 'Fa', 'TA', 'Gd'],\n",
    "                                'BsmtExposure' : ['No', 'Mn', 'Av', 'Gd'],\n",
    "                                'HeatingQC' : ['Po', 'Fa', 'TA', 'Gd', 'Ex'],\n",
    "                                'KitchenQual' : ['Fa', 'TA', 'Gd', 'Ex'],\n",
    "                                'FireplaceQu' : ['Po', 'Fa', 'TA', 'Gd', 'Ex'],\n",
    "                                'GarageQual' : ['Po', 'Fa', 'TA', 'Gd', 'Ex'],\n",
    "                                'GarageCond' : ['Po', 'Fa', 'TA', 'Gd', 'Ex'],\n",
    "                                'PoolQC' : ['Fa', 'Gd', 'Ex']},\n",
    "             polynomial_features = True, trigonometry_features = True, remove_outliers = True, outliers_threshold = 0.01,\n",
    "             silent = True\n",
    "             )"
   ]
  },
  {
   "cell_type": "code",
   "execution_count": null,
   "id": "e6deffd3",
   "metadata": {},
   "outputs": [],
   "source": [
    "compare_models(blacklist = ['tr'])"
   ]
  },
  {
   "cell_type": "code",
   "execution_count": null,
   "id": "0e593d04",
   "metadata": {},
   "outputs": [],
   "source": [
    "huber = tune_model('huber', n_iter = 100)"
   ]
  },
  {
   "cell_type": "code",
   "execution_count": null,
   "id": "f11fe603",
   "metadata": {},
   "outputs": [],
   "source": [
    "omp = tune_model('omp', n_iter = 100)"
   ]
  },
  {
   "cell_type": "code",
   "execution_count": null,
   "id": "fcb4cd72",
   "metadata": {},
   "outputs": [],
   "source": [
    "ridge = tune_model('ridge', n_iter = 100)"
   ]
  },
  {
   "cell_type": "code",
   "execution_count": null,
   "id": "8f2a2109",
   "metadata": {},
   "outputs": [],
   "source": [
    "br = tune_model('br', n_iter = 100)"
   ]
  },
  {
   "cell_type": "code",
   "execution_count": null,
   "id": "54ce29f3",
   "metadata": {},
   "outputs": [],
   "source": [
    "lightgbm = tune_model('lightgbm', n_iter = 50)"
   ]
  },
  {
   "cell_type": "code",
   "execution_count": null,
   "id": "347c83f3",
   "metadata": {},
   "outputs": [],
   "source": [
    "par = tune_model('par', n_iter = 100)"
   ]
  },
  {
   "cell_type": "code",
   "execution_count": null,
   "id": "478128f3",
   "metadata": {},
   "outputs": [],
   "source": [
    "blend_all = blend_models(estimator_list = [huber, omp, ridge, br])"
   ]
  },
  {
   "cell_type": "code",
   "execution_count": null,
   "id": "51b078be",
   "metadata": {},
   "outputs": [],
   "source": [
    "plot_model(br, plot = 'residuals')"
   ]
  },
  {
   "cell_type": "code",
   "execution_count": null,
   "id": "00364d90",
   "metadata": {},
   "outputs": [],
   "source": [
    "plot_model(br, plot = 'error')"
   ]
  },
  {
   "cell_type": "code",
   "execution_count": null,
   "id": "0cc3c1b8",
   "metadata": {},
   "outputs": [],
   "source": [
    "plot_model(br, plot = 'vc')"
   ]
  },
  {
   "cell_type": "code",
   "execution_count": null,
   "id": "fef17143",
   "metadata": {},
   "outputs": [],
   "source": [
    "plot_model(br, plot = 'feature')"
   ]
  },
  {
   "cell_type": "code",
   "execution_count": null,
   "id": "25bd07c3",
   "metadata": {},
   "outputs": [],
   "source": [
    "interpret_model(lightgbm)"
   ]
  },
  {
   "cell_type": "code",
   "execution_count": null,
   "id": "810d2dcf",
   "metadata": {},
   "outputs": [],
   "source": [
    "interpret_model(lightgbm, plot = 'correlation', feature = 'TotalBsmtSF')"
   ]
  },
  {
   "cell_type": "code",
   "execution_count": null,
   "id": "7c87a4d5",
   "metadata": {},
   "outputs": [],
   "source": [
    "interpret_model(lightgbm, plot = 'reason', observation = 0)"
   ]
  },
  {
   "cell_type": "code",
   "execution_count": null,
   "id": "62ff636e",
   "metadata": {},
   "outputs": [],
   "source": [
    "predict_model(blend_all);"
   ]
  },
  {
   "cell_type": "code",
   "execution_count": null,
   "id": "b68e969b",
   "metadata": {},
   "outputs": [],
   "source": [
    "final_blender = finalize_model(blend_all)\n",
    "print(final_blender)"
   ]
  },
  {
   "cell_type": "code",
   "execution_count": null,
   "id": "9c0510d6",
   "metadata": {},
   "outputs": [],
   "source": [
    "predictions = predict_model(final_blender, data = test)\n",
    "predictions.head()"
   ]
  },
  {
   "cell_type": "code",
   "execution_count": null,
   "id": "5df20096",
   "metadata": {},
   "outputs": [],
   "source": []
  }
 ],
 "metadata": {
  "kernelspec": {
   "display_name": "Python 3 (ipykernel)",
   "language": "python",
   "name": "python3"
  },
  "language_info": {
   "codemirror_mode": {
    "name": "ipython",
    "version": 3
   },
   "file_extension": ".py",
   "mimetype": "text/x-python",
   "name": "python",
   "nbconvert_exporter": "python",
   "pygments_lexer": "ipython3",
   "version": "3.9.12"
  }
 },
 "nbformat": 4,
 "nbformat_minor": 5
}
