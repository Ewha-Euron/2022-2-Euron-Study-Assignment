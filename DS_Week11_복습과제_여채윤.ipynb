{
  "cells": [
    {
      "cell_type": "markdown",
      "metadata": {
        "id": "view-in-github",
        "colab_type": "text"
      },
      "source": [
        "<a href=\"https://colab.research.google.com/github/chaeyunyeo/2022-2-Euron-Study-Assignment/blob/week12/DS_Week11_%EB%B3%B5%EC%8A%B5%EA%B3%BC%EC%A0%9C_%EC%97%AC%EC%B1%84%EC%9C%A4.ipynb\" target=\"_parent\"><img src=\"https://colab.research.google.com/assets/colab-badge.svg\" alt=\"Open In Colab\"/></a>"
      ]
    },
    {
      "cell_type": "code",
      "execution_count": 1,
      "metadata": {
        "id": "axRjZJEf0Z7-"
      },
      "outputs": [],
      "source": [
        "from sklearn.preprocessing import scale\n",
        "from sklearn.datasets import load_iris\n",
        "from sklearn.cluster import KMeans\n",
        "import matplotlib.pyplot as plt\n",
        "import numpy as np\n",
        "import pandas as pd\n",
        "%matplotlib inline"
      ]
    },
    {
      "cell_type": "code",
      "source": [
        "from google.colab import drive\n",
        "drive.mount('/content/gdrive')"
      ],
      "metadata": {
        "colab": {
          "base_uri": "https://localhost:8080/"
        },
        "id": "7yNmPDaordkz",
        "outputId": "1f605717-aee1-4913-87c0-94574535e6f2"
      },
      "execution_count": 2,
      "outputs": [
        {
          "output_type": "stream",
          "name": "stdout",
          "text": [
            "Mounted at /content/gdrive\n"
          ]
        }
      ]
    },
    {
      "cell_type": "markdown",
      "metadata": {
        "id": "lJVDbLyz0Z8G"
      },
      "source": [
        "### [다음 사이트](https://www.kaggle.com/datasets/vjchoudhary7/customer-segmentation-tutorial-in-python)에서 Mall_Customer.csv 데이터를 다운 받아주세요!"
      ]
    },
    {
      "cell_type": "markdown",
      "metadata": {
        "id": "xekftTdZ0Z8K"
      },
      "source": [
        "#### 1.1 데이터를 로드하고 확인해주세요."
      ]
    },
    {
      "cell_type": "code",
      "execution_count": 3,
      "metadata": {
        "id": "YNXm3yhg0Z8M"
      },
      "outputs": [],
      "source": [
        "df = pd.read_csv(\"/content/gdrive/MyDrive/euron study/csv파일/Mall_Customers.csv\")"
      ]
    },
    {
      "cell_type": "markdown",
      "metadata": {
        "id": "gzz06X8t0Z8O"
      },
      "source": [
        "#### 1.2 'CustomerID'는 군집 분석에 필요없는 변수이므로 삭제하겠습니다. 삭제한 후 데이터셋의 행, 열 수를 확인해주세요."
      ]
    },
    {
      "cell_type": "code",
      "execution_count": 4,
      "metadata": {
        "id": "dlvO8mP50Z8P",
        "colab": {
          "base_uri": "https://localhost:8080/"
        },
        "outputId": "e9f80786-616c-4ec0-ecda-0c2913160fd6"
      },
      "outputs": [
        {
          "output_type": "execute_result",
          "data": {
            "text/plain": [
              "(200, 4)"
            ]
          },
          "metadata": {},
          "execution_count": 4
        }
      ],
      "source": [
        "df = df.drop(\"CustomerID\", axis = 1)\n",
        "df.shape\n"
      ]
    },
    {
      "cell_type": "markdown",
      "metadata": {
        "id": "wg0bt-5Z0Z8Q"
      },
      "source": [
        "#### 1.3 데이터셋 변수들의 정보를 확인해주세요."
      ]
    },
    {
      "cell_type": "code",
      "execution_count": 5,
      "metadata": {
        "id": "-boIiuuV0Z8R",
        "colab": {
          "base_uri": "https://localhost:8080/"
        },
        "outputId": "12f68b0b-dfa0-4cc5-b488-0b0a1955fa93"
      },
      "outputs": [
        {
          "output_type": "stream",
          "name": "stdout",
          "text": [
            "<class 'pandas.core.frame.DataFrame'>\n",
            "RangeIndex: 200 entries, 0 to 199\n",
            "Data columns (total 4 columns):\n",
            " #   Column                  Non-Null Count  Dtype \n",
            "---  ------                  --------------  ----- \n",
            " 0   Gender                  200 non-null    object\n",
            " 1   Age                     200 non-null    int64 \n",
            " 2   Annual Income (k$)      200 non-null    int64 \n",
            " 3   Spending Score (1-100)  200 non-null    int64 \n",
            "dtypes: int64(3), object(1)\n",
            "memory usage: 6.4+ KB\n"
          ]
        }
      ],
      "source": [
        "df.info()"
      ]
    },
    {
      "cell_type": "markdown",
      "metadata": {
        "id": "f6quruIk0Z8S"
      },
      "source": [
        "#### 1.4 'Gender' 변수의 자료형이 object이므로 전처리가 필요할 것 같습니다. get_dummies를 이용해 원핫인코딩 진행 후 데이터셋을 확인해주세요."
      ]
    },
    {
      "cell_type": "code",
      "execution_count": 6,
      "metadata": {
        "id": "qjWGrDBL0Z8T",
        "colab": {
          "base_uri": "https://localhost:8080/",
          "height": 206
        },
        "outputId": "cf81bcee-8d80-4f19-dc4b-e4095142950b"
      },
      "outputs": [
        {
          "output_type": "execute_result",
          "data": {
            "text/plain": [
              "   Age  Annual Income (k$)  Spending Score (1-100)  Gender_Female  Gender_Male\n",
              "0   19                  15                      39              0            1\n",
              "1   21                  15                      81              0            1\n",
              "2   20                  16                       6              1            0\n",
              "3   23                  16                      77              1            0\n",
              "4   31                  17                      40              1            0"
            ],
            "text/html": [
              "\n",
              "  <div id=\"df-f8517649-17b8-4e7e-bb92-e98f1ae51f48\">\n",
              "    <div class=\"colab-df-container\">\n",
              "      <div>\n",
              "<style scoped>\n",
              "    .dataframe tbody tr th:only-of-type {\n",
              "        vertical-align: middle;\n",
              "    }\n",
              "\n",
              "    .dataframe tbody tr th {\n",
              "        vertical-align: top;\n",
              "    }\n",
              "\n",
              "    .dataframe thead th {\n",
              "        text-align: right;\n",
              "    }\n",
              "</style>\n",
              "<table border=\"1\" class=\"dataframe\">\n",
              "  <thead>\n",
              "    <tr style=\"text-align: right;\">\n",
              "      <th></th>\n",
              "      <th>Age</th>\n",
              "      <th>Annual Income (k$)</th>\n",
              "      <th>Spending Score (1-100)</th>\n",
              "      <th>Gender_Female</th>\n",
              "      <th>Gender_Male</th>\n",
              "    </tr>\n",
              "  </thead>\n",
              "  <tbody>\n",
              "    <tr>\n",
              "      <th>0</th>\n",
              "      <td>19</td>\n",
              "      <td>15</td>\n",
              "      <td>39</td>\n",
              "      <td>0</td>\n",
              "      <td>1</td>\n",
              "    </tr>\n",
              "    <tr>\n",
              "      <th>1</th>\n",
              "      <td>21</td>\n",
              "      <td>15</td>\n",
              "      <td>81</td>\n",
              "      <td>0</td>\n",
              "      <td>1</td>\n",
              "    </tr>\n",
              "    <tr>\n",
              "      <th>2</th>\n",
              "      <td>20</td>\n",
              "      <td>16</td>\n",
              "      <td>6</td>\n",
              "      <td>1</td>\n",
              "      <td>0</td>\n",
              "    </tr>\n",
              "    <tr>\n",
              "      <th>3</th>\n",
              "      <td>23</td>\n",
              "      <td>16</td>\n",
              "      <td>77</td>\n",
              "      <td>1</td>\n",
              "      <td>0</td>\n",
              "    </tr>\n",
              "    <tr>\n",
              "      <th>4</th>\n",
              "      <td>31</td>\n",
              "      <td>17</td>\n",
              "      <td>40</td>\n",
              "      <td>1</td>\n",
              "      <td>0</td>\n",
              "    </tr>\n",
              "  </tbody>\n",
              "</table>\n",
              "</div>\n",
              "      <button class=\"colab-df-convert\" onclick=\"convertToInteractive('df-f8517649-17b8-4e7e-bb92-e98f1ae51f48')\"\n",
              "              title=\"Convert this dataframe to an interactive table.\"\n",
              "              style=\"display:none;\">\n",
              "        \n",
              "  <svg xmlns=\"http://www.w3.org/2000/svg\" height=\"24px\"viewBox=\"0 0 24 24\"\n",
              "       width=\"24px\">\n",
              "    <path d=\"M0 0h24v24H0V0z\" fill=\"none\"/>\n",
              "    <path d=\"M18.56 5.44l.94 2.06.94-2.06 2.06-.94-2.06-.94-.94-2.06-.94 2.06-2.06.94zm-11 1L8.5 8.5l.94-2.06 2.06-.94-2.06-.94L8.5 2.5l-.94 2.06-2.06.94zm10 10l.94 2.06.94-2.06 2.06-.94-2.06-.94-.94-2.06-.94 2.06-2.06.94z\"/><path d=\"M17.41 7.96l-1.37-1.37c-.4-.4-.92-.59-1.43-.59-.52 0-1.04.2-1.43.59L10.3 9.45l-7.72 7.72c-.78.78-.78 2.05 0 2.83L4 21.41c.39.39.9.59 1.41.59.51 0 1.02-.2 1.41-.59l7.78-7.78 2.81-2.81c.8-.78.8-2.07 0-2.86zM5.41 20L4 18.59l7.72-7.72 1.47 1.35L5.41 20z\"/>\n",
              "  </svg>\n",
              "      </button>\n",
              "      \n",
              "  <style>\n",
              "    .colab-df-container {\n",
              "      display:flex;\n",
              "      flex-wrap:wrap;\n",
              "      gap: 12px;\n",
              "    }\n",
              "\n",
              "    .colab-df-convert {\n",
              "      background-color: #E8F0FE;\n",
              "      border: none;\n",
              "      border-radius: 50%;\n",
              "      cursor: pointer;\n",
              "      display: none;\n",
              "      fill: #1967D2;\n",
              "      height: 32px;\n",
              "      padding: 0 0 0 0;\n",
              "      width: 32px;\n",
              "    }\n",
              "\n",
              "    .colab-df-convert:hover {\n",
              "      background-color: #E2EBFA;\n",
              "      box-shadow: 0px 1px 2px rgba(60, 64, 67, 0.3), 0px 1px 3px 1px rgba(60, 64, 67, 0.15);\n",
              "      fill: #174EA6;\n",
              "    }\n",
              "\n",
              "    [theme=dark] .colab-df-convert {\n",
              "      background-color: #3B4455;\n",
              "      fill: #D2E3FC;\n",
              "    }\n",
              "\n",
              "    [theme=dark] .colab-df-convert:hover {\n",
              "      background-color: #434B5C;\n",
              "      box-shadow: 0px 1px 3px 1px rgba(0, 0, 0, 0.15);\n",
              "      filter: drop-shadow(0px 1px 2px rgba(0, 0, 0, 0.3));\n",
              "      fill: #FFFFFF;\n",
              "    }\n",
              "  </style>\n",
              "\n",
              "      <script>\n",
              "        const buttonEl =\n",
              "          document.querySelector('#df-f8517649-17b8-4e7e-bb92-e98f1ae51f48 button.colab-df-convert');\n",
              "        buttonEl.style.display =\n",
              "          google.colab.kernel.accessAllowed ? 'block' : 'none';\n",
              "\n",
              "        async function convertToInteractive(key) {\n",
              "          const element = document.querySelector('#df-f8517649-17b8-4e7e-bb92-e98f1ae51f48');\n",
              "          const dataTable =\n",
              "            await google.colab.kernel.invokeFunction('convertToInteractive',\n",
              "                                                     [key], {});\n",
              "          if (!dataTable) return;\n",
              "\n",
              "          const docLinkHtml = 'Like what you see? Visit the ' +\n",
              "            '<a target=\"_blank\" href=https://colab.research.google.com/notebooks/data_table.ipynb>data table notebook</a>'\n",
              "            + ' to learn more about interactive tables.';\n",
              "          element.innerHTML = '';\n",
              "          dataTable['output_type'] = 'display_data';\n",
              "          await google.colab.output.renderOutput(dataTable, element);\n",
              "          const docLink = document.createElement('div');\n",
              "          docLink.innerHTML = docLinkHtml;\n",
              "          element.appendChild(docLink);\n",
              "        }\n",
              "      </script>\n",
              "    </div>\n",
              "  </div>\n",
              "  "
            ]
          },
          "metadata": {},
          "execution_count": 6
        }
      ],
      "source": [
        "df = pd.get_dummies(df, columns=[\"Gender\"])\n",
        "df.head()\n"
      ]
    },
    {
      "cell_type": "markdown",
      "metadata": {
        "id": "MYDm-JZe0Z8U"
      },
      "source": [
        "#### 1.5 데이터를 5개의 그룹으로 군집화해보겠습니다. n_cluster = 5, 초기 중심 설정 방식 : k-means++, 최대 반복 횟수 : 300으로 설정하여 KMeans 객체를 만든 후 fit( )을 수행해주세요."
      ]
    },
    {
      "cell_type": "code",
      "execution_count": 7,
      "metadata": {
        "id": "lxTZQ-YL0Z8V",
        "colab": {
          "base_uri": "https://localhost:8080/"
        },
        "outputId": "77ca322d-5d45-4eb5-ea3b-c8632272376d"
      },
      "outputs": [
        {
          "output_type": "execute_result",
          "data": {
            "text/plain": [
              "KMeans(n_clusters=5, random_state=0)"
            ]
          },
          "metadata": {},
          "execution_count": 7
        }
      ],
      "source": [
        "kmeans = KMeans(n_clusters=5, init='k-means++', max_iter=300, random_state=0)\n",
        "kmeans.fit(df)"
      ]
    },
    {
      "cell_type": "markdown",
      "metadata": {
        "id": "XT6WTaGs0Z8V"
      },
      "source": [
        "#### 1.6 kmeans의 labels_ 속성값을 확인해보겠습니다."
      ]
    },
    {
      "cell_type": "code",
      "execution_count": 8,
      "metadata": {
        "id": "qByQqxrz0Z8W",
        "colab": {
          "base_uri": "https://localhost:8080/"
        },
        "outputId": "0542f28b-498e-44d7-a55b-360e51d575aa"
      },
      "outputs": [
        {
          "output_type": "stream",
          "name": "stdout",
          "text": [
            "[0 4 0 4 0 4 0 4 0 4 0 4 0 4 0 4 0 4 0 4 0 4 0 4 0 4 0 4 0 4 0 4 0 4 0 4 0\n",
            " 4 0 4 0 4 0 4 0 4 2 2 2 2 2 2 2 2 2 2 2 2 2 2 2 2 2 2 2 2 2 2 2 2 2 2 2 2\n",
            " 2 2 2 2 2 2 2 2 2 2 2 2 2 2 2 2 2 2 2 2 2 2 2 2 2 2 2 2 2 2 2 2 2 2 2 2 2\n",
            " 2 2 2 2 2 2 2 2 2 2 2 2 1 3 1 2 1 3 1 3 1 3 1 3 1 3 1 3 1 3 1 2 1 3 1 3 1\n",
            " 3 1 3 1 3 1 3 1 3 1 3 1 3 1 3 1 3 1 3 1 3 1 3 1 3 1 3 1 3 1 3 1 3 1 3 1 3\n",
            " 1 3 1 3 1 3 1 3 1 3 1 3 1 3 1]\n"
          ]
        }
      ],
      "source": [
        "print(kmeans.labels_)"
      ]
    },
    {
      "cell_type": "markdown",
      "metadata": {
        "id": "6VKhlpKx0Z8W"
      },
      "source": [
        "#### 1.7 target 값은 데이터의 spending score로, cluster 칼럼은 앞에서 구한 labels_ 값으로 지정하여 target과 cluster 값 개수를 비교하세요."
      ]
    },
    {
      "cell_type": "code",
      "execution_count": 9,
      "metadata": {
        "id": "vEAo2Xn-0Z8X",
        "colab": {
          "base_uri": "https://localhost:8080/"
        },
        "outputId": "5b8ca12a-7708-4482-fc13-793965256a8a"
      },
      "outputs": [
        {
          "output_type": "stream",
          "name": "stdout",
          "text": [
            "                Age  Annual Income (k$)  Spending Score (1-100)  \\\n",
            "target cluster                                                    \n",
            "1      3          2                   2                       2   \n",
            "3      0          1                   1                       1   \n",
            "4      0          2                   2                       2   \n",
            "5      0          1                   1                       1   \n",
            "       3          3                   3                       3   \n",
            "...             ...                 ...                     ...   \n",
            "94     4          1                   1                       1   \n",
            "95     1          2                   2                       2   \n",
            "97     1          2                   2                       2   \n",
            "98     4          1                   1                       1   \n",
            "99     4          1                   1                       1   \n",
            "\n",
            "                Gender_Female  Gender_Male  \n",
            "target cluster                              \n",
            "1      3                    2            2  \n",
            "3      0                    1            1  \n",
            "4      0                    2            2  \n",
            "5      0                    1            1  \n",
            "       3                    3            3  \n",
            "...                       ...          ...  \n",
            "94     4                    1            1  \n",
            "95     1                    2            2  \n",
            "97     1                    2            2  \n",
            "98     4                    1            1  \n",
            "99     4                    1            1  \n",
            "\n",
            "[106 rows x 5 columns]\n"
          ]
        }
      ],
      "source": [
        "df['target'] = df['Spending Score (1-100)']\n",
        "df['cluster'] = kmeans.labels_\n",
        "df_result = df.groupby(['target', 'cluster']).count()\n",
        "print(df_result)"
      ]
    },
    {
      "cell_type": "markdown",
      "metadata": {
        "id": "EwR2xb740Z8X"
      },
      "source": [
        "#### 1.8 PCA를 이용해 4개의 속성을 2개로 차원 축소한 뒤 X좌표, Y좌표로 개별 데이터를 표현하도록 하겠습니다."
      ]
    },
    {
      "cell_type": "code",
      "execution_count": 10,
      "metadata": {
        "id": "XGZA6YYK0Z8Y"
      },
      "outputs": [],
      "source": [
        "from sklearn.decomposition import PCA\n",
        "\n",
        "pca = PCA(n_components=2)\n",
        "pca_transformed = pca.fit_transform(df)\n",
        "\n",
        "df['pca_x'] = pca_transformed[:,0]\n",
        "df['pca_y'] = pca_transformed[:,1] \n"
      ]
    },
    {
      "cell_type": "markdown",
      "metadata": {
        "id": "YFFpoBKZ0Z8Y"
      },
      "source": [
        "#### 1.9 군집별 산점도를 출력합니다."
      ]
    },
    {
      "cell_type": "code",
      "execution_count": 11,
      "metadata": {
        "id": "22ljUzhh0Z8Y",
        "colab": {
          "base_uri": "https://localhost:8080/",
          "height": 295
        },
        "outputId": "8e533d43-1122-4502-a5a6-21a9be5788a1"
      },
      "outputs": [
        {
          "output_type": "display_data",
          "data": {
            "text/plain": [
              "<Figure size 432x288 with 1 Axes>"
            ],
            "image/png": "[encoded data removed]"
          },
          "metadata": {
            "needs_background": "light"
          }
        }
      ],
      "source": [
        "# 군집 값이 0, 1, 2인 경우마다 별도의 인덱스로 추출\n",
        "marker0_ind = df[df['cluster']==0].index\n",
        "marker1_ind = df[df['cluster']==1].index\n",
        "marker2_ind = df[df['cluster']==2].index\n",
        "\n",
        "# 군집 값 0, 1, 2에 해당하는 인덱스로 각 군집 레벨의 pca_x, pca_y 값 추출. o, s, ^ 로 마커 표시\n",
        "plt.scatter(x=df.loc[marker0_ind,'pca_x'], y=df.loc[marker0_ind,'pca_y'], marker='o')\n",
        "plt.scatter(x=df.loc[marker1_ind,'pca_x'], y=df.loc[marker1_ind,'pca_y'], marker='s')\n",
        "plt.scatter(x=df.loc[marker2_ind,'pca_x'], y=df.loc[marker2_ind,'pca_y'], marker='^')\n",
        "\n",
        "plt.xlabel('PCA 1')\n",
        "plt.ylabel('PCA 2')\n",
        "plt.title('3 Clusters Visualization by 2 PCA Components')\n",
        "plt.show()"
      ]
    },
    {
      "cell_type": "markdown",
      "metadata": {
        "id": "ekZUmfXT0Z8Z"
      },
      "source": [
        "#### 1.10 데이터를 이용한 군집 평가"
      ]
    },
    {
      "cell_type": "code",
      "execution_count": 12,
      "metadata": {
        "id": "izxk-5fA0Z8Z"
      },
      "outputs": [],
      "source": [
        "from sklearn.preprocessing import scale\n",
        "from sklearn.datasets import load_iris\n",
        "from sklearn.cluster import KMeans\n",
        "# 실루엣 분석 metric 값을 구하기 위한 API 추가\n",
        "from sklearn.metrics import silhouette_samples, silhouette_score\n",
        "import matplotlib.pyplot as plt\n",
        "import numpy as np\n",
        "import pandas as pd\n",
        "\n",
        "%matplotlib inline"
      ]
    },
    {
      "cell_type": "markdown",
      "metadata": {
        "id": "xaGE8lI70Z8a"
      },
      "source": [
        "#### 1.11 1.5와 1.7의 코드를 바탕으로 데이터셋의 모든 개별 데이터에 실루엣 계수 값을 구해주세요."
      ]
    },
    {
      "cell_type": "code",
      "execution_count": 13,
      "metadata": {
        "id": "ksMKMiYG0Z8a",
        "colab": {
          "base_uri": "https://localhost:8080/"
        },
        "outputId": "7afcd14d-cb3e-4673-d375-ca95fc6a77ae"
      },
      "outputs": [
        {
          "output_type": "stream",
          "name": "stdout",
          "text": [
            "silhouette_samples( ) return 값의 shape (200,)\n"
          ]
        }
      ],
      "source": [
        "score_samples = silhouette_samples(df, df['cluster'])\n",
        "print('silhouette_samples( ) return 값의 shape' , score_samples.shape)"
      ]
    },
    {
      "cell_type": "markdown",
      "metadata": {
        "id": "67y-AM4q0Z8b"
      },
      "source": [
        "#### 1.12 데이터셋 데이터프레임에 실루엣 계수 칼럼을 추가해주세요."
      ]
    },
    {
      "cell_type": "code",
      "execution_count": 14,
      "metadata": {
        "id": "hdmAG7Ve0Z8b"
      },
      "outputs": [],
      "source": [
        "df['silhouette_coeff'] = score_samples"
      ]
    },
    {
      "cell_type": "markdown",
      "metadata": {
        "id": "k2evEE7Z0Z8b"
      },
      "source": [
        "#### 1.13 모든 데이터의 평균 실루엣 계수값을 구하고 확인해주세요."
      ]
    },
    {
      "cell_type": "code",
      "execution_count": 15,
      "metadata": {
        "id": "8xb4TsMG0Z8b",
        "colab": {
          "base_uri": "https://localhost:8080/",
          "height": 223
        },
        "outputId": "ea855049-d5b5-4f35-f59a-194f4b60dfe8"
      },
      "outputs": [
        {
          "output_type": "stream",
          "name": "stdout",
          "text": [
            "붓꽃 데이터셋 Silhouette Analysis Score:0.500\n"
          ]
        },
        {
          "output_type": "execute_result",
          "data": {
            "text/plain": [
              "   Age  Annual Income (k$)  Spending Score (1-100)  Gender_Female  \\\n",
              "0   19                  15                      39              0   \n",
              "1   21                  15                      81              0   \n",
              "2   20                  16                       6              1   \n",
              "\n",
              "   Gender_Male  target  cluster      pca_x      pca_y  silhouette_coeff  \n",
              "0            1      39        0  13.543666 -45.225793          0.180112  \n",
              "1            1      81        4 -44.964888 -46.170026          0.691012  \n",
              "2            0       6        0  59.858804 -43.497032          0.534060  "
            ],
            "text/html": [
              "\n",
              "  <div id=\"df-8820ac45-9fd7-4616-ade8-6629bfc8a992\">\n",
              "    <div class=\"colab-df-container\">\n",
              "      <div>\n",
              "<style scoped>\n",
              "    .dataframe tbody tr th:only-of-type {\n",
              "        vertical-align: middle;\n",
              "    }\n",
              "\n",
              "    .dataframe tbody tr th {\n",
              "        vertical-align: top;\n",
              "    }\n",
              "\n",
              "    .dataframe thead th {\n",
              "        text-align: right;\n",
              "    }\n",
              "</style>\n",
              "<table border=\"1\" class=\"dataframe\">\n",
              "  <thead>\n",
              "    <tr style=\"text-align: right;\">\n",
              "      <th></th>\n",
              "      <th>Age</th>\n",
              "      <th>Annual Income (k$)</th>\n",
              "      <th>Spending Score (1-100)</th>\n",
              "      <th>Gender_Female</th>\n",
              "      <th>Gender_Male</th>\n",
              "      <th>target</th>\n",
              "      <th>cluster</th>\n",
              "      <th>pca_x</th>\n",
              "      <th>pca_y</th>\n",
              "      <th>silhouette_coeff</th>\n",
              "    </tr>\n",
              "  </thead>\n",
              "  <tbody>\n",
              "    <tr>\n",
              "      <th>0</th>\n",
              "      <td>19</td>\n",
              "      <td>15</td>\n",
              "      <td>39</td>\n",
              "      <td>0</td>\n",
              "      <td>1</td>\n",
              "      <td>39</td>\n",
              "      <td>0</td>\n",
              "      <td>13.543666</td>\n",
              "      <td>-45.225793</td>\n",
              "      <td>0.180112</td>\n",
              "    </tr>\n",
              "    <tr>\n",
              "      <th>1</th>\n",
              "      <td>21</td>\n",
              "      <td>15</td>\n",
              "      <td>81</td>\n",
              "      <td>0</td>\n",
              "      <td>1</td>\n",
              "      <td>81</td>\n",
              "      <td>4</td>\n",
              "      <td>-44.964888</td>\n",
              "      <td>-46.170026</td>\n",
              "      <td>0.691012</td>\n",
              "    </tr>\n",
              "    <tr>\n",
              "      <th>2</th>\n",
              "      <td>20</td>\n",
              "      <td>16</td>\n",
              "      <td>6</td>\n",
              "      <td>1</td>\n",
              "      <td>0</td>\n",
              "      <td>6</td>\n",
              "      <td>0</td>\n",
              "      <td>59.858804</td>\n",
              "      <td>-43.497032</td>\n",
              "      <td>0.534060</td>\n",
              "    </tr>\n",
              "  </tbody>\n",
              "</table>\n",
              "</div>\n",
              "      <button class=\"colab-df-convert\" onclick=\"convertToInteractive('df-8820ac45-9fd7-4616-ade8-6629bfc8a992')\"\n",
              "              title=\"Convert this dataframe to an interactive table.\"\n",
              "              style=\"display:none;\">\n",
              "        \n",
              "  <svg xmlns=\"http://www.w3.org/2000/svg\" height=\"24px\"viewBox=\"0 0 24 24\"\n",
              "       width=\"24px\">\n",
              "    <path d=\"M0 0h24v24H0V0z\" fill=\"none\"/>\n",
              "    <path d=\"M18.56 5.44l.94 2.06.94-2.06 2.06-.94-2.06-.94-.94-2.06-.94 2.06-2.06.94zm-11 1L8.5 8.5l.94-2.06 2.06-.94-2.06-.94L8.5 2.5l-.94 2.06-2.06.94zm10 10l.94 2.06.94-2.06 2.06-.94-2.06-.94-.94-2.06-.94 2.06-2.06.94z\"/><path d=\"M17.41 7.96l-1.37-1.37c-.4-.4-.92-.59-1.43-.59-.52 0-1.04.2-1.43.59L10.3 9.45l-7.72 7.72c-.78.78-.78 2.05 0 2.83L4 21.41c.39.39.9.59 1.41.59.51 0 1.02-.2 1.41-.59l7.78-7.78 2.81-2.81c.8-.78.8-2.07 0-2.86zM5.41 20L4 18.59l7.72-7.72 1.47 1.35L5.41 20z\"/>\n",
              "  </svg>\n",
              "      </button>\n",
              "      \n",
              "  <style>\n",
              "    .colab-df-container {\n",
              "      display:flex;\n",
              "      flex-wrap:wrap;\n",
              "      gap: 12px;\n",
              "    }\n",
              "\n",
              "    .colab-df-convert {\n",
              "      background-color: #E8F0FE;\n",
              "      border: none;\n",
              "      border-radius: 50%;\n",
              "      cursor: pointer;\n",
              "      display: none;\n",
              "      fill: #1967D2;\n",
              "      height: 32px;\n",
              "      padding: 0 0 0 0;\n",
              "      width: 32px;\n",
              "    }\n",
              "\n",
              "    .colab-df-convert:hover {\n",
              "      background-color: #E2EBFA;\n",
              "      box-shadow: 0px 1px 2px rgba(60, 64, 67, 0.3), 0px 1px 3px 1px rgba(60, 64, 67, 0.15);\n",
              "      fill: #174EA6;\n",
              "    }\n",
              "\n",
              "    [theme=dark] .colab-df-convert {\n",
              "      background-color: #3B4455;\n",
              "      fill: #D2E3FC;\n",
              "    }\n",
              "\n",
              "    [theme=dark] .colab-df-convert:hover {\n",
              "      background-color: #434B5C;\n",
              "      box-shadow: 0px 1px 3px 1px rgba(0, 0, 0, 0.15);\n",
              "      filter: drop-shadow(0px 1px 2px rgba(0, 0, 0, 0.3));\n",
              "      fill: #FFFFFF;\n",
              "    }\n",
              "  </style>\n",
              "\n",
              "      <script>\n",
              "        const buttonEl =\n",
              "          document.querySelector('#df-8820ac45-9fd7-4616-ade8-6629bfc8a992 button.colab-df-convert');\n",
              "        buttonEl.style.display =\n",
              "          google.colab.kernel.accessAllowed ? 'block' : 'none';\n",
              "\n",
              "        async function convertToInteractive(key) {\n",
              "          const element = document.querySelector('#df-8820ac45-9fd7-4616-ade8-6629bfc8a992');\n",
              "          const dataTable =\n",
              "            await google.colab.kernel.invokeFunction('convertToInteractive',\n",
              "                                                     [key], {});\n",
              "          if (!dataTable) return;\n",
              "\n",
              "          const docLinkHtml = 'Like what you see? Visit the ' +\n",
              "            '<a target=\"_blank\" href=https://colab.research.google.com/notebooks/data_table.ipynb>data table notebook</a>'\n",
              "            + ' to learn more about interactive tables.';\n",
              "          element.innerHTML = '';\n",
              "          dataTable['output_type'] = 'display_data';\n",
              "          await google.colab.output.renderOutput(dataTable, element);\n",
              "          const docLink = document.createElement('div');\n",
              "          docLink.innerHTML = docLinkHtml;\n",
              "          element.appendChild(docLink);\n",
              "        }\n",
              "      </script>\n",
              "    </div>\n",
              "  </div>\n",
              "  "
            ]
          },
          "metadata": {},
          "execution_count": 15
        }
      ],
      "source": [
        "average_score = silhouette_score(df, df['cluster'])\n",
        "print('붓꽃 데이터셋 Silhouette Analysis Score:{0:.3f}'.format(average_score))\n",
        "\n",
        "df.head(3)"
      ]
    },
    {
      "cell_type": "markdown",
      "metadata": {
        "id": "Wx5ntp8i0Z8b"
      },
      "source": [
        "#### 1.14 데이터셋의 군집 칼럼별로 groupby하여 실루엣 계수 칼럼의 평균값을 구해주세요."
      ]
    },
    {
      "cell_type": "code",
      "execution_count": 16,
      "metadata": {
        "id": "FQvFMdac0Z8c",
        "colab": {
          "base_uri": "https://localhost:8080/"
        },
        "outputId": "30c8f3cc-a02f-491a-bdb8-e06059d1377c"
      },
      "outputs": [
        {
          "output_type": "execute_result",
          "data": {
            "text/plain": [
              "cluster\n",
              "0    0.425713\n",
              "1    0.530935\n",
              "2    0.510757\n",
              "3    0.457239\n",
              "4    0.553914\n",
              "Name: silhouette_coeff, dtype: float64"
            ]
          },
          "metadata": {},
          "execution_count": 16
        }
      ],
      "source": [
        "df.groupby('cluster')['silhouette_coeff'].mean()"
      ]
    },
    {
      "cell_type": "markdown",
      "metadata": {
        "id": "QxnQySf00Z8c"
      },
      "source": [
        "#### 1.15 Inertia와 Elbow를 구하는 코드입니다. 참고해주세요."
      ]
    },
    {
      "cell_type": "code",
      "execution_count": 17,
      "metadata": {
        "id": "6_x04onX0Z8c",
        "colab": {
          "base_uri": "https://localhost:8080/",
          "height": 297
        },
        "outputId": "0d1550b0-9467-444f-802f-219e14927d3e"
      },
      "outputs": [
        {
          "output_type": "display_data",
          "data": {
            "text/plain": [
              "<Figure size 432x288 with 1 Axes>"
            ],
            "image/png": "[encoded data removed]"
          },
          "metadata": {
            "needs_background": "light"
          }
        }
      ],
      "source": [
        "# 중심점 - 데이터 거리를 합산한 inertia(sse)를 빈 array로 생성\n",
        "sse = []\n",
        "\n",
        "# 반복문을 실행하며 군집의 개수가 1~11까지 kmeans를 실행 --> sse array에 추가\n",
        "for i in range(1, 11) :\n",
        "    km = KMeans(n_clusters = i,\n",
        "               init = 'k-means++',\n",
        "               n_init = 10,\n",
        "               max_iter = 300,\n",
        "               random_state = 0)\n",
        "    km.fit(df)\n",
        "    sse.append(km.inertia_)\n",
        "\n",
        "# sse array 시각화   \n",
        "plt.plot(range(1,11), sse, marker = 'o')\n",
        "plt.xlabel('Number of clusters')\n",
        "plt.ylabel('sse')\n",
        "plt.tight_layout()\n",
        "plt.show()"
      ]
    },
    {
      "cell_type": "markdown",
      "metadata": {
        "id": "2IAa8jNw0Z8c"
      },
      "source": [
        "#### 2.1 데이터는 1의 데이터를 계속 활용합니다. 'Annual income'에 대한 'Spending Score'을 scatter plot으로 나타내주세요."
      ]
    },
    {
      "cell_type": "code",
      "execution_count": 18,
      "metadata": {
        "id": "XWJDdhFI0Z8c",
        "colab": {
          "base_uri": "https://localhost:8080/",
          "height": 265
        },
        "outputId": "d3db6888-226a-4ad1-f0a2-e192d89890a6"
      },
      "outputs": [
        {
          "output_type": "display_data",
          "data": {
            "text/plain": [
              "<Figure size 432x288 with 1 Axes>"
            ],
            "image/png": "[encoded data removed]"
          },
          "metadata": {
            "needs_background": "light"
          }
        }
      ],
      "source": [
        "plt.scatter(df['Annual Income (k$)'], df['Spending Score (1-100)'])\n",
        "plt.show()"
      ]
    },
    {
      "cell_type": "markdown",
      "metadata": {
        "id": "9f48xTJI0Z8d"
      },
      "source": [
        "#### 2.2 StandardScaler를 통해 정규화를 진행해주세요."
      ]
    },
    {
      "cell_type": "code",
      "source": [
        "df"
      ],
      "metadata": {
        "colab": {
          "base_uri": "https://localhost:8080/",
          "height": 502
        },
        "id": "7JQAcWr4uway",
        "outputId": "eba755ac-e2eb-408b-8f79-bbe76af62f49"
      },
      "execution_count": 23,
      "outputs": [
        {
          "output_type": "execute_result",
          "data": {
            "text/plain": [
              "     Age  Annual Income (k$)  Spending Score (1-100)  Gender_Female  \\\n",
              "0     19                  15                      39              0   \n",
              "1     21                  15                      81              0   \n",
              "2     20                  16                       6              1   \n",
              "3     23                  16                      77              1   \n",
              "4     31                  17                      40              1   \n",
              "..   ...                 ...                     ...            ...   \n",
              "195   35                 120                      79              1   \n",
              "196   45                 126                      28              1   \n",
              "197   32                 126                      74              0   \n",
              "198   32                 137                      18              0   \n",
              "199   30                 137                      83              0   \n",
              "\n",
              "     Gender_Male  target  cluster      pca_x      pca_y  silhouette_coeff  \n",
              "0              1      39        0  13.543666 -45.225793          0.180112  \n",
              "1              1      81        4 -44.964888 -46.170026          0.691012  \n",
              "2              0       6        0  59.858804 -43.497032          0.534060  \n",
              "3              0      77        4 -39.098471 -45.091011          0.689979  \n",
              "4              0      40        0  13.818241 -43.297037          0.188536  \n",
              "..           ...     ...      ...        ...        ...               ...  \n",
              "195            0      79        1 -41.751427  58.804929          0.509407  \n",
              "196            0      28        3  30.960891  65.900656          0.416091  \n",
              "197            1      74        1 -35.268111  64.929303          0.442831  \n",
              "198            1      18        3  42.945812  77.174493          0.428337  \n",
              "199            1      83        1 -48.315041  75.735155          0.442499  \n",
              "\n",
              "[200 rows x 10 columns]"
            ],
            "text/html": [
              "\n",
              "  <div id=\"df-9efb6a21-0fcf-4edb-9de1-655e3b3d2674\">\n",
              "    <div class=\"colab-df-container\">\n",
              "      <div>\n",
              "<style scoped>\n",
              "    .dataframe tbody tr th:only-of-type {\n",
              "        vertical-align: middle;\n",
              "    }\n",
              "\n",
              "    .dataframe tbody tr th {\n",
              "        vertical-align: top;\n",
              "    }\n",
              "\n",
              "    .dataframe thead th {\n",
              "        text-align: right;\n",
              "    }\n",
              "</style>\n",
              "<table border=\"1\" class=\"dataframe\">\n",
              "  <thead>\n",
              "    <tr style=\"text-align: right;\">\n",
              "      <th></th>\n",
              "      <th>Age</th>\n",
              "      <th>Annual Income (k$)</th>\n",
              "      <th>Spending Score (1-100)</th>\n",
              "      <th>Gender_Female</th>\n",
              "      <th>Gender_Male</th>\n",
              "      <th>target</th>\n",
              "      <th>cluster</th>\n",
              "      <th>pca_x</th>\n",
              "      <th>pca_y</th>\n",
              "      <th>silhouette_coeff</th>\n",
              "    </tr>\n",
              "  </thead>\n",
              "  <tbody>\n",
              "    <tr>\n",
              "      <th>0</th>\n",
              "      <td>19</td>\n",
              "      <td>15</td>\n",
              "      <td>39</td>\n",
              "      <td>0</td>\n",
              "      <td>1</td>\n",
              "      <td>39</td>\n",
              "      <td>0</td>\n",
              "      <td>13.543666</td>\n",
              "      <td>-45.225793</td>\n",
              "      <td>0.180112</td>\n",
              "    </tr>\n",
              "    <tr>\n",
              "      <th>1</th>\n",
              "      <td>21</td>\n",
              "      <td>15</td>\n",
              "      <td>81</td>\n",
              "      <td>0</td>\n",
              "      <td>1</td>\n",
              "      <td>81</td>\n",
              "      <td>4</td>\n",
              "      <td>-44.964888</td>\n",
              "      <td>-46.170026</td>\n",
              "      <td>0.691012</td>\n",
              "    </tr>\n",
              "    <tr>\n",
              "      <th>2</th>\n",
              "      <td>20</td>\n",
              "      <td>16</td>\n",
              "      <td>6</td>\n",
              "      <td>1</td>\n",
              "      <td>0</td>\n",
              "      <td>6</td>\n",
              "      <td>0</td>\n",
              "      <td>59.858804</td>\n",
              "      <td>-43.497032</td>\n",
              "      <td>0.534060</td>\n",
              "    </tr>\n",
              "    <tr>\n",
              "      <th>3</th>\n",
              "      <td>23</td>\n",
              "      <td>16</td>\n",
              "      <td>77</td>\n",
              "      <td>1</td>\n",
              "      <td>0</td>\n",
              "      <td>77</td>\n",
              "      <td>4</td>\n",
              "      <td>-39.098471</td>\n",
              "      <td>-45.091011</td>\n",
              "      <td>0.689979</td>\n",
              "    </tr>\n",
              "    <tr>\n",
              "      <th>4</th>\n",
              "      <td>31</td>\n",
              "      <td>17</td>\n",
              "      <td>40</td>\n",
              "      <td>1</td>\n",
              "      <td>0</td>\n",
              "      <td>40</td>\n",
              "      <td>0</td>\n",
              "      <td>13.818241</td>\n",
              "      <td>-43.297037</td>\n",
              "      <td>0.188536</td>\n",
              "    </tr>\n",
              "    <tr>\n",
              "      <th>...</th>\n",
              "      <td>...</td>\n",
              "      <td>...</td>\n",
              "      <td>...</td>\n",
              "      <td>...</td>\n",
              "      <td>...</td>\n",
              "      <td>...</td>\n",
              "      <td>...</td>\n",
              "      <td>...</td>\n",
              "      <td>...</td>\n",
              "      <td>...</td>\n",
              "    </tr>\n",
              "    <tr>\n",
              "      <th>195</th>\n",
              "      <td>35</td>\n",
              "      <td>120</td>\n",
              "      <td>79</td>\n",
              "      <td>1</td>\n",
              "      <td>0</td>\n",
              "      <td>79</td>\n",
              "      <td>1</td>\n",
              "      <td>-41.751427</td>\n",
              "      <td>58.804929</td>\n",
              "      <td>0.509407</td>\n",
              "    </tr>\n",
              "    <tr>\n",
              "      <th>196</th>\n",
              "      <td>45</td>\n",
              "      <td>126</td>\n",
              "      <td>28</td>\n",
              "      <td>1</td>\n",
              "      <td>0</td>\n",
              "      <td>28</td>\n",
              "      <td>3</td>\n",
              "      <td>30.960891</td>\n",
              "      <td>65.900656</td>\n",
              "      <td>0.416091</td>\n",
              "    </tr>\n",
              "    <tr>\n",
              "      <th>197</th>\n",
              "      <td>32</td>\n",
              "      <td>126</td>\n",
              "      <td>74</td>\n",
              "      <td>0</td>\n",
              "      <td>1</td>\n",
              "      <td>74</td>\n",
              "      <td>1</td>\n",
              "      <td>-35.268111</td>\n",
              "      <td>64.929303</td>\n",
              "      <td>0.442831</td>\n",
              "    </tr>\n",
              "    <tr>\n",
              "      <th>198</th>\n",
              "      <td>32</td>\n",
              "      <td>137</td>\n",
              "      <td>18</td>\n",
              "      <td>0</td>\n",
              "      <td>1</td>\n",
              "      <td>18</td>\n",
              "      <td>3</td>\n",
              "      <td>42.945812</td>\n",
              "      <td>77.174493</td>\n",
              "      <td>0.428337</td>\n",
              "    </tr>\n",
              "    <tr>\n",
              "      <th>199</th>\n",
              "      <td>30</td>\n",
              "      <td>137</td>\n",
              "      <td>83</td>\n",
              "      <td>0</td>\n",
              "      <td>1</td>\n",
              "      <td>83</td>\n",
              "      <td>1</td>\n",
              "      <td>-48.315041</td>\n",
              "      <td>75.735155</td>\n",
              "      <td>0.442499</td>\n",
              "    </tr>\n",
              "  </tbody>\n",
              "</table>\n",
              "<p>200 rows × 10 columns</p>\n",
              "</div>\n",
              "      <button class=\"colab-df-convert\" onclick=\"convertToInteractive('df-9efb6a21-0fcf-4edb-9de1-655e3b3d2674')\"\n",
              "              title=\"Convert this dataframe to an interactive table.\"\n",
              "              style=\"display:none;\">\n",
              "        \n",
              "  <svg xmlns=\"http://www.w3.org/2000/svg\" height=\"24px\"viewBox=\"0 0 24 24\"\n",
              "       width=\"24px\">\n",
              "    <path d=\"M0 0h24v24H0V0z\" fill=\"none\"/>\n",
              "    <path d=\"M18.56 5.44l.94 2.06.94-2.06 2.06-.94-2.06-.94-.94-2.06-.94 2.06-2.06.94zm-11 1L8.5 8.5l.94-2.06 2.06-.94-2.06-.94L8.5 2.5l-.94 2.06-2.06.94zm10 10l.94 2.06.94-2.06 2.06-.94-2.06-.94-.94-2.06-.94 2.06-2.06.94z\"/><path d=\"M17.41 7.96l-1.37-1.37c-.4-.4-.92-.59-1.43-.59-.52 0-1.04.2-1.43.59L10.3 9.45l-7.72 7.72c-.78.78-.78 2.05 0 2.83L4 21.41c.39.39.9.59 1.41.59.51 0 1.02-.2 1.41-.59l7.78-7.78 2.81-2.81c.8-.78.8-2.07 0-2.86zM5.41 20L4 18.59l7.72-7.72 1.47 1.35L5.41 20z\"/>\n",
              "  </svg>\n",
              "      </button>\n",
              "      \n",
              "  <style>\n",
              "    .colab-df-container {\n",
              "      display:flex;\n",
              "      flex-wrap:wrap;\n",
              "      gap: 12px;\n",
              "    }\n",
              "\n",
              "    .colab-df-convert {\n",
              "      background-color: #E8F0FE;\n",
              "      border: none;\n",
              "      border-radius: 50%;\n",
              "      cursor: pointer;\n",
              "      display: none;\n",
              "      fill: #1967D2;\n",
              "      height: 32px;\n",
              "      padding: 0 0 0 0;\n",
              "      width: 32px;\n",
              "    }\n",
              "\n",
              "    .colab-df-convert:hover {\n",
              "      background-color: #E2EBFA;\n",
              "      box-shadow: 0px 1px 2px rgba(60, 64, 67, 0.3), 0px 1px 3px 1px rgba(60, 64, 67, 0.15);\n",
              "      fill: #174EA6;\n",
              "    }\n",
              "\n",
              "    [theme=dark] .colab-df-convert {\n",
              "      background-color: #3B4455;\n",
              "      fill: #D2E3FC;\n",
              "    }\n",
              "\n",
              "    [theme=dark] .colab-df-convert:hover {\n",
              "      background-color: #434B5C;\n",
              "      box-shadow: 0px 1px 3px 1px rgba(0, 0, 0, 0.15);\n",
              "      filter: drop-shadow(0px 1px 2px rgba(0, 0, 0, 0.3));\n",
              "      fill: #FFFFFF;\n",
              "    }\n",
              "  </style>\n",
              "\n",
              "      <script>\n",
              "        const buttonEl =\n",
              "          document.querySelector('#df-9efb6a21-0fcf-4edb-9de1-655e3b3d2674 button.colab-df-convert');\n",
              "        buttonEl.style.display =\n",
              "          google.colab.kernel.accessAllowed ? 'block' : 'none';\n",
              "\n",
              "        async function convertToInteractive(key) {\n",
              "          const element = document.querySelector('#df-9efb6a21-0fcf-4edb-9de1-655e3b3d2674');\n",
              "          const dataTable =\n",
              "            await google.colab.kernel.invokeFunction('convertToInteractive',\n",
              "                                                     [key], {});\n",
              "          if (!dataTable) return;\n",
              "\n",
              "          const docLinkHtml = 'Like what you see? Visit the ' +\n",
              "            '<a target=\"_blank\" href=https://colab.research.google.com/notebooks/data_table.ipynb>data table notebook</a>'\n",
              "            + ' to learn more about interactive tables.';\n",
              "          element.innerHTML = '';\n",
              "          dataTable['output_type'] = 'display_data';\n",
              "          await google.colab.output.renderOutput(dataTable, element);\n",
              "          const docLink = document.createElement('div');\n",
              "          docLink.innerHTML = docLinkHtml;\n",
              "          element.appendChild(docLink);\n",
              "        }\n",
              "      </script>\n",
              "    </div>\n",
              "  </div>\n",
              "  "
            ]
          },
          "metadata": {},
          "execution_count": 23
        }
      ]
    },
    {
      "cell_type": "code",
      "execution_count": 22,
      "metadata": {
        "id": "1xYrVUGY0Z8d",
        "colab": {
          "base_uri": "https://localhost:8080/",
          "height": 206
        },
        "outputId": "b2c8b59c-0d64-4912-abd7-218217073c38"
      },
      "outputs": [
        {
          "output_type": "execute_result",
          "data": {
            "text/plain": [
              "        Age  Annual Income (k$)  Spending Score (1-100)  Gender_Female  \\\n",
              "0 -1.424569           -1.738999               -0.434801      -1.128152   \n",
              "1 -1.281035           -1.738999                1.195704      -1.128152   \n",
              "2 -1.352802           -1.700830               -1.715913       0.886405   \n",
              "3 -1.137502           -1.700830                1.040418       0.886405   \n",
              "4 -0.563369           -1.662660               -0.395980       0.886405   \n",
              "\n",
              "   Gender_Male  \n",
              "0     1.128152  \n",
              "1     1.128152  \n",
              "2    -0.886405  \n",
              "3    -0.886405  \n",
              "4    -0.886405  "
            ],
            "text/html": [
              "\n",
              "  <div id=\"df-b80426a5-b76e-4b14-9654-ac7bafbfe4ad\">\n",
              "    <div class=\"colab-df-container\">\n",
              "      <div>\n",
              "<style scoped>\n",
              "    .dataframe tbody tr th:only-of-type {\n",
              "        vertical-align: middle;\n",
              "    }\n",
              "\n",
              "    .dataframe tbody tr th {\n",
              "        vertical-align: top;\n",
              "    }\n",
              "\n",
              "    .dataframe thead th {\n",
              "        text-align: right;\n",
              "    }\n",
              "</style>\n",
              "<table border=\"1\" class=\"dataframe\">\n",
              "  <thead>\n",
              "    <tr style=\"text-align: right;\">\n",
              "      <th></th>\n",
              "      <th>Age</th>\n",
              "      <th>Annual Income (k$)</th>\n",
              "      <th>Spending Score (1-100)</th>\n",
              "      <th>Gender_Female</th>\n",
              "      <th>Gender_Male</th>\n",
              "    </tr>\n",
              "  </thead>\n",
              "  <tbody>\n",
              "    <tr>\n",
              "      <th>0</th>\n",
              "      <td>-1.424569</td>\n",
              "      <td>-1.738999</td>\n",
              "      <td>-0.434801</td>\n",
              "      <td>-1.128152</td>\n",
              "      <td>1.128152</td>\n",
              "    </tr>\n",
              "    <tr>\n",
              "      <th>1</th>\n",
              "      <td>-1.281035</td>\n",
              "      <td>-1.738999</td>\n",
              "      <td>1.195704</td>\n",
              "      <td>-1.128152</td>\n",
              "      <td>1.128152</td>\n",
              "    </tr>\n",
              "    <tr>\n",
              "      <th>2</th>\n",
              "      <td>-1.352802</td>\n",
              "      <td>-1.700830</td>\n",
              "      <td>-1.715913</td>\n",
              "      <td>0.886405</td>\n",
              "      <td>-0.886405</td>\n",
              "    </tr>\n",
              "    <tr>\n",
              "      <th>3</th>\n",
              "      <td>-1.137502</td>\n",
              "      <td>-1.700830</td>\n",
              "      <td>1.040418</td>\n",
              "      <td>0.886405</td>\n",
              "      <td>-0.886405</td>\n",
              "    </tr>\n",
              "    <tr>\n",
              "      <th>4</th>\n",
              "      <td>-0.563369</td>\n",
              "      <td>-1.662660</td>\n",
              "      <td>-0.395980</td>\n",
              "      <td>0.886405</td>\n",
              "      <td>-0.886405</td>\n",
              "    </tr>\n",
              "  </tbody>\n",
              "</table>\n",
              "</div>\n",
              "      <button class=\"colab-df-convert\" onclick=\"convertToInteractive('df-b80426a5-b76e-4b14-9654-ac7bafbfe4ad')\"\n",
              "              title=\"Convert this dataframe to an interactive table.\"\n",
              "              style=\"display:none;\">\n",
              "        \n",
              "  <svg xmlns=\"http://www.w3.org/2000/svg\" height=\"24px\"viewBox=\"0 0 24 24\"\n",
              "       width=\"24px\">\n",
              "    <path d=\"M0 0h24v24H0V0z\" fill=\"none\"/>\n",
              "    <path d=\"M18.56 5.44l.94 2.06.94-2.06 2.06-.94-2.06-.94-.94-2.06-.94 2.06-2.06.94zm-11 1L8.5 8.5l.94-2.06 2.06-.94-2.06-.94L8.5 2.5l-.94 2.06-2.06.94zm10 10l.94 2.06.94-2.06 2.06-.94-2.06-.94-.94-2.06-.94 2.06-2.06.94z\"/><path d=\"M17.41 7.96l-1.37-1.37c-.4-.4-.92-.59-1.43-.59-.52 0-1.04.2-1.43.59L10.3 9.45l-7.72 7.72c-.78.78-.78 2.05 0 2.83L4 21.41c.39.39.9.59 1.41.59.51 0 1.02-.2 1.41-.59l7.78-7.78 2.81-2.81c.8-.78.8-2.07 0-2.86zM5.41 20L4 18.59l7.72-7.72 1.47 1.35L5.41 20z\"/>\n",
              "  </svg>\n",
              "      </button>\n",
              "      \n",
              "  <style>\n",
              "    .colab-df-container {\n",
              "      display:flex;\n",
              "      flex-wrap:wrap;\n",
              "      gap: 12px;\n",
              "    }\n",
              "\n",
              "    .colab-df-convert {\n",
              "      background-color: #E8F0FE;\n",
              "      border: none;\n",
              "      border-radius: 50%;\n",
              "      cursor: pointer;\n",
              "      display: none;\n",
              "      fill: #1967D2;\n",
              "      height: 32px;\n",
              "      padding: 0 0 0 0;\n",
              "      width: 32px;\n",
              "    }\n",
              "\n",
              "    .colab-df-convert:hover {\n",
              "      background-color: #E2EBFA;\n",
              "      box-shadow: 0px 1px 2px rgba(60, 64, 67, 0.3), 0px 1px 3px 1px rgba(60, 64, 67, 0.15);\n",
              "      fill: #174EA6;\n",
              "    }\n",
              "\n",
              "    [theme=dark] .colab-df-convert {\n",
              "      background-color: #3B4455;\n",
              "      fill: #D2E3FC;\n",
              "    }\n",
              "\n",
              "    [theme=dark] .colab-df-convert:hover {\n",
              "      background-color: #434B5C;\n",
              "      box-shadow: 0px 1px 3px 1px rgba(0, 0, 0, 0.15);\n",
              "      filter: drop-shadow(0px 1px 2px rgba(0, 0, 0, 0.3));\n",
              "      fill: #FFFFFF;\n",
              "    }\n",
              "  </style>\n",
              "\n",
              "      <script>\n",
              "        const buttonEl =\n",
              "          document.querySelector('#df-b80426a5-b76e-4b14-9654-ac7bafbfe4ad button.colab-df-convert');\n",
              "        buttonEl.style.display =\n",
              "          google.colab.kernel.accessAllowed ? 'block' : 'none';\n",
              "\n",
              "        async function convertToInteractive(key) {\n",
              "          const element = document.querySelector('#df-b80426a5-b76e-4b14-9654-ac7bafbfe4ad');\n",
              "          const dataTable =\n",
              "            await google.colab.kernel.invokeFunction('convertToInteractive',\n",
              "                                                     [key], {});\n",
              "          if (!dataTable) return;\n",
              "\n",
              "          const docLinkHtml = 'Like what you see? Visit the ' +\n",
              "            '<a target=\"_blank\" href=https://colab.research.google.com/notebooks/data_table.ipynb>data table notebook</a>'\n",
              "            + ' to learn more about interactive tables.';\n",
              "          element.innerHTML = '';\n",
              "          dataTable['output_type'] = 'display_data';\n",
              "          await google.colab.output.renderOutput(dataTable, element);\n",
              "          const docLink = document.createElement('div');\n",
              "          docLink.innerHTML = docLinkHtml;\n",
              "          element.appendChild(docLink);\n",
              "        }\n",
              "      </script>\n",
              "    </div>\n",
              "  </div>\n",
              "  "
            ]
          },
          "metadata": {},
          "execution_count": 22
        }
      ],
      "source": [
        "from sklearn.preprocessing import StandardScaler\n",
        "\n",
        "scaler = StandardScaler()\n",
        "df_std = pd.DataFrame(scaler.fit_transform(df.iloc[:,:5]), columns=df.iloc[:,:5].columns)\n",
        "df_std.head()"
      ]
    },
    {
      "cell_type": "markdown",
      "metadata": {
        "id": "EUXQCfK_0Z8e"
      },
      "source": [
        "#### 2.3 최적 대역폭을 구하여 평균 이동 군집화를 진행해주세요. 최적 bandwidth와 cluster label 유형을 출력해주세요. (인자 : df_std)"
      ]
    },
    {
      "cell_type": "code",
      "execution_count": 24,
      "metadata": {
        "id": "DBDmumEY0Z8e"
      },
      "outputs": [],
      "source": [
        "from sklearn.cluster import estimate_bandwidth\n",
        "from sklearn.cluster import MeanShift\n",
        "\n",
        "h = estimate_bandwidth(df_std)\n",
        "ms = MeanShift(bandwidth = h)\n",
        "cluster_labels = ms.fit_predict(df_std) \n"
      ]
    },
    {
      "cell_type": "markdown",
      "metadata": {
        "id": "hsSimdFB0Z8e"
      },
      "source": [
        "#### 2.4 target 변수를 'Spending Score'로 설정하여 결과를 확인하려고 합니다. 다음 코드의 빈칸을 채워주세요."
      ]
    },
    {
      "cell_type": "code",
      "execution_count": 26,
      "metadata": {
        "id": "4vqL3ABJ0Z8f",
        "colab": {
          "base_uri": "https://localhost:8080/"
        },
        "outputId": "49786d32-7837-437f-aa18-88d16696cecd"
      },
      "outputs": [
        {
          "output_type": "stream",
          "name": "stdout",
          "text": [
            "target     cluster\n",
            "-1.910021  1          2\n",
            "-1.832378  1          1\n",
            "-1.793556  1          2\n",
            "-1.754735  0          2\n",
            "           1          2\n",
            "                     ..\n",
            " 1.739206  0          1\n",
            "           1          1\n",
            " 1.816849  1          2\n",
            " 1.855671  0          1\n",
            " 1.894492  0          1\n",
            "Name: Annual Income (k$), Length: 120, dtype: int64\n"
          ]
        }
      ],
      "source": [
        "df_std['target'] = df_std['Spending Score (1-100)']\n",
        "df_std['cluster']= cluster_labels\n",
        "result = df_std.groupby(['target','cluster'])['Annual Income (k$)'].count()\n",
        "print(result)"
      ]
    },
    {
      "cell_type": "markdown",
      "metadata": {
        "id": "XbDIbw2N0Z8f"
      },
      "source": [
        "#### 2.5 2차원으로 축소하여 시각화를 진행하려고 합니다. 다음 코드의 빈칸을 채워주세요."
      ]
    },
    {
      "cell_type": "code",
      "source": [
        "pca = PCA(n_components = 2)\n",
        "pca_transformed = pca.fit_transform(df_std)"
      ],
      "metadata": {
        "id": "E5Fblc-7va_T"
      },
      "execution_count": 30,
      "outputs": []
    },
    {
      "cell_type": "code",
      "execution_count": 31,
      "metadata": {
        "id": "gYadFSel0Z8f",
        "colab": {
          "base_uri": "https://localhost:8080/",
          "height": 265
        },
        "outputId": "46dfd490-9a9d-47b7-ea91-45e12194993d"
      },
      "outputs": [
        {
          "output_type": "display_data",
          "data": {
            "text/plain": [
              "<Figure size 432x288 with 1 Axes>"
            ],
            "image/png": "[encoded data removed]"
          },
          "metadata": {
            "needs_background": "light"
          }
        }
      ],
      "source": [
        "m0_ind = df_std[df_std['cluster'] == 0].index\n",
        "m1_ind = df_std[df_std['cluster'] == 1].index\n",
        "\n",
        "plt.scatter(x=df.loc[m0_ind,'Annual Income (k$)'], y=df.loc[m0_ind,'Spending Score (1-100)'],marker='o')\n",
        "plt.scatter(x=df.loc[m1_ind,'Annual Income (k$)'], y=df.loc[m1_ind,'Spending Score (1-100)'],marker='s')\n",
        "\n",
        "plt.show()"
      ]
    },
    {
      "cell_type": "markdown",
      "metadata": {
        "id": "_PvqwPAC0Z8f"
      },
      "source": [
        "#### 2.6 사이킷런 AgglomerativeClustering 클래스를 통해 병합군집을 진행해주세요. 클러스터 개수는 3으로, 병합 방식은 'ward'로 설정해주세요. cluster labels 유형을 출력해주세요.  (인자 : df)"
      ]
    },
    {
      "cell_type": "code",
      "execution_count": 33,
      "metadata": {
        "id": "QsQsRI360Z8f"
      },
      "outputs": [],
      "source": [
        "from sklearn.cluster import AgglomerativeClustering"
      ]
    },
    {
      "cell_type": "code",
      "execution_count": 35,
      "metadata": {
        "id": "F9UJxeyO0Z8g",
        "colab": {
          "base_uri": "https://localhost:8080/"
        },
        "outputId": "f05d2ee8-d552-49ac-c95c-ffb6b2ab6200"
      },
      "outputs": [
        {
          "output_type": "stream",
          "name": "stdout",
          "text": [
            "cluster labels 유형:  [0 1 2]\n"
          ]
        }
      ],
      "source": [
        "agg = AgglomerativeClustering(n_clusters = 3,linkage = \"ward\")\n",
        "cluster_labels = agg.fit_predict(df)\n",
        "print('cluster labels 유형: ',np.unique(cluster_labels))"
      ]
    },
    {
      "cell_type": "markdown",
      "metadata": {
        "id": "86Iy-6IF0Z8g"
      },
      "source": [
        "#### 2.7 덴드로그램을 그려주세요."
      ]
    },
    {
      "cell_type": "code",
      "execution_count": 36,
      "metadata": {
        "id": "nzpwQ8fz0Z8g"
      },
      "outputs": [],
      "source": [
        "from scipy.cluster.hierarchy import dendrogram, ward"
      ]
    },
    {
      "cell_type": "code",
      "execution_count": 37,
      "metadata": {
        "id": "ALT0FFny0Z8h",
        "colab": {
          "base_uri": "https://localhost:8080/",
          "height": 1000
        },
        "outputId": "a3fa6a28-fdcb-44fd-e25c-637409d810b1"
      },
      "outputs": [
        {
          "output_type": "execute_result",
          "data": {
            "text/plain": [
              "{'icoord': [[15.0, 15.0, 25.0, 25.0],\n",
              "  [35.0, 35.0, 45.0, 45.0],\n",
              "  [20.0, 20.0, 40.0, 40.0],\n",
              "  [5.0, 5.0, 30.0, 30.0],\n",
              "  [65.0, 65.0, 75.0, 75.0],\n",
              "  [55.0, 55.0, 70.0, 70.0],\n",
              "  [105.0, 105.0, 115.0, 115.0],\n",
              "  [95.0, 95.0, 110.0, 110.0],\n",
              "  [85.0, 85.0, 102.5, 102.5],\n",
              "  [62.5, 62.5, 93.75, 93.75],\n",
              "  [17.5, 17.5, 78.125, 78.125],\n",
              "  [135.0, 135.0, 145.0, 145.0],\n",
              "  [125.0, 125.0, 140.0, 140.0],\n",
              "  [155.0, 155.0, 165.0, 165.0],\n",
              "  [185.0, 185.0, 195.0, 195.0],\n",
              "  [175.0, 175.0, 190.0, 190.0],\n",
              "  [160.0, 160.0, 182.5, 182.5],\n",
              "  [132.5, 132.5, 171.25, 171.25],\n",
              "  [47.8125, 47.8125, 151.875, 151.875],\n",
              "  [215.0, 215.0, 225.0, 225.0],\n",
              "  [205.0, 205.0, 220.0, 220.0],\n",
              "  [255.0, 255.0, 265.0, 265.0],\n",
              "  [245.0, 245.0, 260.0, 260.0],\n",
              "  [235.0, 235.0, 252.5, 252.5],\n",
              "  [275.0, 275.0, 285.0, 285.0],\n",
              "  [243.75, 243.75, 280.0, 280.0],\n",
              "  [212.5, 212.5, 261.875, 261.875],\n",
              "  [295.0, 295.0, 305.0, 305.0],\n",
              "  [325.0, 325.0, 335.0, 335.0],\n",
              "  [315.0, 315.0, 330.0, 330.0],\n",
              "  [300.0, 300.0, 322.5, 322.5],\n",
              "  [345.0, 345.0, 355.0, 355.0],\n",
              "  [311.25, 311.25, 350.0, 350.0],\n",
              "  [365.0, 365.0, 375.0, 375.0],\n",
              "  [385.0, 385.0, 395.0, 395.0],\n",
              "  [415.0, 415.0, 425.0, 425.0],\n",
              "  [405.0, 405.0, 420.0, 420.0],\n",
              "  [390.0, 390.0, 412.5, 412.5],\n",
              "  [370.0, 370.0, 401.25, 401.25],\n",
              "  [330.625, 330.625, 385.625, 385.625],\n",
              "  [435.0, 435.0, 445.0, 445.0],\n",
              "  [455.0, 455.0, 465.0, 465.0],\n",
              "  [440.0, 440.0, 460.0, 460.0],\n",
              "  [485.0, 485.0, 495.0, 495.0],\n",
              "  [475.0, 475.0, 490.0, 490.0],\n",
              "  [515.0, 515.0, 525.0, 525.0],\n",
              "  [505.0, 505.0, 520.0, 520.0],\n",
              "  [482.5, 482.5, 512.5, 512.5],\n",
              "  [535.0, 535.0, 545.0, 545.0],\n",
              "  [555.0, 555.0, 565.0, 565.0],\n",
              "  [575.0, 575.0, 585.0, 585.0],\n",
              "  [560.0, 560.0, 580.0, 580.0],\n",
              "  [540.0, 540.0, 570.0, 570.0],\n",
              "  [497.5, 497.5, 555.0, 555.0],\n",
              "  [450.0, 450.0, 526.25, 526.25],\n",
              "  [358.125, 358.125, 488.125, 488.125],\n",
              "  [237.1875, 237.1875, 423.125, 423.125],\n",
              "  [99.84375, 99.84375, 330.15625, 330.15625],\n",
              "  [595.0, 595.0, 605.0, 605.0],\n",
              "  [615.0, 615.0, 625.0, 625.0],\n",
              "  [600.0, 600.0, 620.0, 620.0],\n",
              "  [635.0, 635.0, 645.0, 645.0],\n",
              "  [665.0, 665.0, 675.0, 675.0],\n",
              "  [655.0, 655.0, 670.0, 670.0],\n",
              "  [695.0, 695.0, 705.0, 705.0],\n",
              "  [685.0, 685.0, 700.0, 700.0],\n",
              "  [662.5, 662.5, 692.5, 692.5],\n",
              "  [640.0, 640.0, 677.5, 677.5],\n",
              "  [715.0, 715.0, 725.0, 725.0],\n",
              "  [735.0, 735.0, 745.0, 745.0],\n",
              "  [720.0, 720.0, 740.0, 740.0],\n",
              "  [755.0, 755.0, 765.0, 765.0],\n",
              "  [775.0, 775.0, 785.0, 785.0],\n",
              "  [795.0, 795.0, 805.0, 805.0],\n",
              "  [780.0, 780.0, 800.0, 800.0],\n",
              "  [760.0, 760.0, 790.0, 790.0],\n",
              "  [730.0, 730.0, 775.0, 775.0],\n",
              "  [825.0, 825.0, 835.0, 835.0],\n",
              "  [815.0, 815.0, 830.0, 830.0],\n",
              "  [865.0, 865.0, 875.0, 875.0],\n",
              "  [855.0, 855.0, 870.0, 870.0],\n",
              "  [845.0, 845.0, 862.5, 862.5],\n",
              "  [822.5, 822.5, 853.75, 853.75],\n",
              "  [885.0, 885.0, 895.0, 895.0],\n",
              "  [905.0, 905.0, 915.0, 915.0],\n",
              "  [890.0, 890.0, 910.0, 910.0],\n",
              "  [925.0, 925.0, 935.0, 935.0],\n",
              "  [955.0, 955.0, 965.0, 965.0],\n",
              "  [945.0, 945.0, 960.0, 960.0],\n",
              "  [930.0, 930.0, 952.5, 952.5],\n",
              "  [900.0, 900.0, 941.25, 941.25],\n",
              "  [838.125, 838.125, 920.625, 920.625],\n",
              "  [752.5, 752.5, 879.375, 879.375],\n",
              "  [658.75, 658.75, 815.9375, 815.9375],\n",
              "  [610.0, 610.0, 737.34375, 737.34375],\n",
              "  [985.0, 985.0, 995.0, 995.0],\n",
              "  [975.0, 975.0, 990.0, 990.0],\n",
              "  [1025.0, 1025.0, 1035.0, 1035.0],\n",
              "  [1015.0, 1015.0, 1030.0, 1030.0],\n",
              "  [1005.0, 1005.0, 1022.5, 1022.5],\n",
              "  [1045.0, 1045.0, 1055.0, 1055.0],\n",
              "  [1075.0, 1075.0, 1085.0, 1085.0],\n",
              "  [1065.0, 1065.0, 1080.0, 1080.0],\n",
              "  [1050.0, 1050.0, 1072.5, 1072.5],\n",
              "  [1013.75, 1013.75, 1061.25, 1061.25],\n",
              "  [982.5, 982.5, 1037.5, 1037.5],\n",
              "  [1095.0, 1095.0, 1105.0, 1105.0],\n",
              "  [1115.0, 1115.0, 1125.0, 1125.0],\n",
              "  [1100.0, 1100.0, 1120.0, 1120.0],\n",
              "  [1135.0, 1135.0, 1145.0, 1145.0],\n",
              "  [1155.0, 1155.0, 1165.0, 1165.0],\n",
              "  [1185.0, 1185.0, 1195.0, 1195.0],\n",
              "  [1175.0, 1175.0, 1190.0, 1190.0],\n",
              "  [1160.0, 1160.0, 1182.5, 1182.5],\n",
              "  [1140.0, 1140.0, 1171.25, 1171.25],\n",
              "  [1110.0, 1110.0, 1155.625, 1155.625],\n",
              "  [1010.0, 1010.0, 1132.8125, 1132.8125],\n",
              "  [1215.0, 1215.0, 1225.0, 1225.0],\n",
              "  [1205.0, 1205.0, 1220.0, 1220.0],\n",
              "  [1255.0, 1255.0, 1265.0, 1265.0],\n",
              "  [1245.0, 1245.0, 1260.0, 1260.0],\n",
              "  [1235.0, 1235.0, 1252.5, 1252.5],\n",
              "  [1212.5, 1212.5, 1243.75, 1243.75],\n",
              "  [1295.0, 1295.0, 1305.0, 1305.0],\n",
              "  [1285.0, 1285.0, 1300.0, 1300.0],\n",
              "  [1275.0, 1275.0, 1292.5, 1292.5],\n",
              "  [1325.0, 1325.0, 1335.0, 1335.0],\n",
              "  [1315.0, 1315.0, 1330.0, 1330.0],\n",
              "  [1283.75, 1283.75, 1322.5, 1322.5],\n",
              "  [1345.0, 1345.0, 1355.0, 1355.0],\n",
              "  [1365.0, 1365.0, 1375.0, 1375.0],\n",
              "  [1350.0, 1350.0, 1370.0, 1370.0],\n",
              "  [1385.0, 1385.0, 1395.0, 1395.0],\n",
              "  [1415.0, 1415.0, 1425.0, 1425.0],\n",
              "  [1405.0, 1405.0, 1420.0, 1420.0],\n",
              "  [1390.0, 1390.0, 1412.5, 1412.5],\n",
              "  [1360.0, 1360.0, 1401.25, 1401.25],\n",
              "  [1445.0, 1445.0, 1455.0, 1455.0],\n",
              "  [1435.0, 1435.0, 1450.0, 1450.0],\n",
              "  [1485.0, 1485.0, 1495.0, 1495.0],\n",
              "  [1475.0, 1475.0, 1490.0, 1490.0],\n",
              "  [1465.0, 1465.0, 1482.5, 1482.5],\n",
              "  [1442.5, 1442.5, 1473.75, 1473.75],\n",
              "  [1380.625, 1380.625, 1458.125, 1458.125],\n",
              "  [1303.125, 1303.125, 1419.375, 1419.375],\n",
              "  [1228.125, 1228.125, 1361.25, 1361.25],\n",
              "  [1505.0, 1505.0, 1515.0, 1515.0],\n",
              "  [1535.0, 1535.0, 1545.0, 1545.0],\n",
              "  [1525.0, 1525.0, 1540.0, 1540.0],\n",
              "  [1510.0, 1510.0, 1532.5, 1532.5],\n",
              "  [1575.0, 1575.0, 1585.0, 1585.0],\n",
              "  [1565.0, 1565.0, 1580.0, 1580.0],\n",
              "  [1555.0, 1555.0, 1572.5, 1572.5],\n",
              "  [1595.0, 1595.0, 1605.0, 1605.0],\n",
              "  [1563.75, 1563.75, 1600.0, 1600.0],\n",
              "  [1521.25, 1521.25, 1581.875, 1581.875],\n",
              "  [1625.0, 1625.0, 1635.0, 1635.0],\n",
              "  [1615.0, 1615.0, 1630.0, 1630.0],\n",
              "  [1655.0, 1655.0, 1665.0, 1665.0],\n",
              "  [1645.0, 1645.0, 1660.0, 1660.0],\n",
              "  [1675.0, 1675.0, 1685.0, 1685.0],\n",
              "  [1652.5, 1652.5, 1680.0, 1680.0],\n",
              "  [1622.5, 1622.5, 1666.25, 1666.25],\n",
              "  [1551.5625, 1551.5625, 1644.375, 1644.375],\n",
              "  [1705.0, 1705.0, 1715.0, 1715.0],\n",
              "  [1695.0, 1695.0, 1710.0, 1710.0],\n",
              "  [1725.0, 1725.0, 1735.0, 1735.0],\n",
              "  [1745.0, 1745.0, 1755.0, 1755.0],\n",
              "  [1765.0, 1765.0, 1775.0, 1775.0],\n",
              "  [1750.0, 1750.0, 1770.0, 1770.0],\n",
              "  [1730.0, 1730.0, 1760.0, 1760.0],\n",
              "  [1702.5, 1702.5, 1745.0, 1745.0],\n",
              "  [1795.0, 1795.0, 1805.0, 1805.0],\n",
              "  [1785.0, 1785.0, 1800.0, 1800.0],\n",
              "  [1815.0, 1815.0, 1825.0, 1825.0],\n",
              "  [1835.0, 1835.0, 1845.0, 1845.0],\n",
              "  [1820.0, 1820.0, 1840.0, 1840.0],\n",
              "  [1792.5, 1792.5, 1830.0, 1830.0],\n",
              "  [1723.75, 1723.75, 1811.25, 1811.25],\n",
              "  [1855.0, 1855.0, 1865.0, 1865.0],\n",
              "  [1875.0, 1875.0, 1885.0, 1885.0],\n",
              "  [1860.0, 1860.0, 1880.0, 1880.0],\n",
              "  [1905.0, 1905.0, 1915.0, 1915.0],\n",
              "  [1895.0, 1895.0, 1910.0, 1910.0],\n",
              "  [1870.0, 1870.0, 1902.5, 1902.5],\n",
              "  [1935.0, 1935.0, 1945.0, 1945.0],\n",
              "  [1925.0, 1925.0, 1940.0, 1940.0],\n",
              "  [1955.0, 1955.0, 1965.0, 1965.0],\n",
              "  [1985.0, 1985.0, 1995.0, 1995.0],\n",
              "  [1975.0, 1975.0, 1990.0, 1990.0],\n",
              "  [1960.0, 1960.0, 1982.5, 1982.5],\n",
              "  [1932.5, 1932.5, 1971.25, 1971.25],\n",
              "  [1886.25, 1886.25, 1951.875, 1951.875],\n",
              "  [1767.5, 1767.5, 1919.0625, 1919.0625],\n",
              "  [1597.96875, 1597.96875, 1843.28125, 1843.28125],\n",
              "  [1294.6875, 1294.6875, 1720.625, 1720.625],\n",
              "  [1071.40625, 1071.40625, 1507.65625, 1507.65625],\n",
              "  [673.671875, 673.671875, 1289.53125, 1289.53125],\n",
              "  [215.0, 215.0, 981.6015625, 981.6015625]],\n",
              " 'dcoord': [[0.0, 2.5683605704211248, 2.5683605704211248, 0.0],\n",
              "  [0.0, 4.847730431026864, 4.847730431026864, 0.0],\n",
              "  [2.5683605704211248,\n",
              "   8.226319021084437,\n",
              "   8.226319021084437,\n",
              "   4.847730431026864],\n",
              "  [0.0, 11.565737153317915, 11.565737153317915, 8.226319021084437],\n",
              "  [0.0, 10.686909316775207, 10.686909316775207, 0.0],\n",
              "  [0.0, 11.626516847088682, 11.626516847088682, 10.686909316775207],\n",
              "  [0.0, 6.217449244167011, 6.217449244167011, 0.0],\n",
              "  [0.0, 9.762009035653005, 9.762009035653005, 6.217449244167011],\n",
              "  [0.0, 18.784176837705957, 18.784176837705957, 9.762009035653005],\n",
              "  [11.626516847088682,\n",
              "   32.14834001833785,\n",
              "   32.14834001833785,\n",
              "   18.784176837705957],\n",
              "  [11.565737153317915,\n",
              "   44.07419576520593,\n",
              "   44.07419576520593,\n",
              "   32.14834001833785],\n",
              "  [0.0, 5.99739365026872, 5.99739365026872, 0.0],\n",
              "  [0.0, 17.249243894405353, 17.249243894405353, 5.99739365026872],\n",
              "  [0.0, 9.293585675535738, 9.293585675535738, 0.0],\n",
              "  [0.0, 10.887708960679326, 10.887708960679326, 0.0],\n",
              "  [0.0, 13.328443188929906, 13.328443188929906, 10.887708960679326],\n",
              "  [9.293585675535738,\n",
              "   30.268532193835167,\n",
              "   30.268532193835167,\n",
              "   13.328443188929906],\n",
              "  [17.249243894405353,\n",
              "   52.84612738999181,\n",
              "   52.84612738999181,\n",
              "   30.268532193835167],\n",
              "  [44.07419576520593,\n",
              "   100.39673239995847,\n",
              "   100.39673239995847,\n",
              "   52.84612738999181],\n",
              "  [0.0, 13.287052947637479, 13.287052947637479, 0.0],\n",
              "  [0.0, 27.850002781652204, 27.850002781652204, 13.287052947637479],\n",
              "  [0.0, 5.425720320251202, 5.425720320251202, 0.0],\n",
              "  [0.0, 11.175594865567904, 11.175594865567904, 5.425720320251202],\n",
              "  [0.0, 15.23093960291219, 15.23093960291219, 11.175594865567904],\n",
              "  [0.0, 24.893641868206213, 24.893641868206213, 0.0],\n",
              "  [15.23093960291219,\n",
              "   28.97184862518482,\n",
              "   28.97184862518482,\n",
              "   24.893641868206213],\n",
              "  [27.850002781652204, 88.0634694495345, 88.0634694495345, 28.97184862518482],\n",
              "  [0.0, 6.732165543771439, 6.732165543771439, 0.0],\n",
              "  [0.0, 5.677766621150229, 5.677766621150229, 0.0],\n",
              "  [0.0, 8.010852152951445, 8.010852152951445, 5.677766621150229],\n",
              "  [6.732165543771439,\n",
              "   12.604760668499749,\n",
              "   12.604760668499749,\n",
              "   8.010852152951445],\n",
              "  [0.0, 14.045921588136348, 14.045921588136348, 0.0],\n",
              "  [12.604760668499749,\n",
              "   21.333245177136007,\n",
              "   21.333245177136007,\n",
              "   14.045921588136348],\n",
              "  [0.0, 8.410661256547725, 8.410661256547725, 0.0],\n",
              "  [0.0, 7.2381329593573716, 7.2381329593573716, 0.0],\n",
              "  [0.0, 8.66426692782414, 8.66426692782414, 0.0],\n",
              "  [0.0, 10.57546370070675, 10.57546370070675, 8.66426692782414],\n",
              "  [7.2381329593573716,\n",
              "   20.641230415336047,\n",
              "   20.641230415336047,\n",
              "   10.57546370070675],\n",
              "  [8.410661256547725,\n",
              "   30.071823341374365,\n",
              "   30.071823341374365,\n",
              "   20.641230415336047],\n",
              "  [21.333245177136007,\n",
              "   34.01119556434999,\n",
              "   34.01119556434999,\n",
              "   30.071823341374365],\n",
              "  [0.0, 5.346510857480577, 5.346510857480577, 0.0],\n",
              "  [0.0, 13.493931435015012, 13.493931435015012, 0.0],\n",
              "  [5.346510857480577,\n",
              "   29.843293163270086,\n",
              "   29.843293163270086,\n",
              "   13.493931435015012],\n",
              "  [0.0, 4.276907712919904, 4.276907712919904, 0.0],\n",
              "  [0.0, 4.999881902427963, 4.999881902427963, 4.276907712919904],\n",
              "  [0.0, 1.0100818375687455, 1.0100818375687455, 0.0],\n",
              "  [0.0, 10.527914656876888, 10.527914656876888, 1.0100818375687455],\n",
              "  [4.999881902427963,\n",
              "   14.587179482171074,\n",
              "   14.587179482171074,\n",
              "   10.527914656876888],\n",
              "  [0.0, 8.68862039119214, 8.68862039119214, 0.0],\n",
              "  [0.0, 3.044927398558896, 3.044927398558896, 0.0],\n",
              "  [0.0, 9.354179641865858, 9.354179641865858, 0.0],\n",
              "  [3.044927398558896,\n",
              "   10.391618082371284,\n",
              "   10.391618082371284,\n",
              "   9.354179641865858],\n",
              "  [8.68862039119214,\n",
              "   19.124157482466845,\n",
              "   19.124157482466845,\n",
              "   10.391618082371284],\n",
              "  [14.587179482171074,\n",
              "   31.25496273774116,\n",
              "   31.25496273774116,\n",
              "   19.124157482466845],\n",
              "  [29.843293163270086, 73.6107483243525, 73.6107483243525, 31.25496273774116],\n",
              "  [34.01119556434999,\n",
              "   137.54609488933232,\n",
              "   137.54609488933232,\n",
              "   73.6107483243525],\n",
              "  [88.0634694495345,\n",
              "   161.51941650011275,\n",
              "   161.51941650011275,\n",
              "   137.54609488933232],\n",
              "  [100.39673239995847,\n",
              "   449.84957370124584,\n",
              "   449.84957370124584,\n",
              "   161.51941650011275],\n",
              "  [0.0, 22.52801928037565, 22.52801928037565, 0.0],\n",
              "  [0.0, 27.617709482067227, 27.617709482067227, 0.0],\n",
              "  [22.52801928037565,\n",
              "   43.30930050842538,\n",
              "   43.30930050842538,\n",
              "   27.617709482067227],\n",
              "  [0.0, 14.39123205316352, 14.39123205316352, 0.0],\n",
              "  [0.0, 9.068856519720292, 9.068856519720292, 0.0],\n",
              "  [0.0, 15.516392669634392, 15.516392669634392, 9.068856519720292],\n",
              "  [0.0, 10.346805952394451, 10.346805952394451, 0.0],\n",
              "  [0.0, 21.278259471674208, 21.278259471674208, 10.346805952394451],\n",
              "  [15.516392669634392,\n",
              "   41.85778454879411,\n",
              "   41.85778454879411,\n",
              "   21.278259471674208],\n",
              "  [14.39123205316352,\n",
              "   58.494248742565354,\n",
              "   58.494248742565354,\n",
              "   41.85778454879411],\n",
              "  [0.0, 5.718377175230188, 5.718377175230188, 0.0],\n",
              "  [0.0, 13.265181612326687, 13.265181612326687, 0.0],\n",
              "  [5.718377175230188,\n",
              "   17.958907292109846,\n",
              "   17.958907292109846,\n",
              "   13.265181612326687],\n",
              "  [0.0, 3.030186042822882, 3.030186042822882, 0.0],\n",
              "  [0.0, 8.097323379397514, 8.097323379397514, 0.0],\n",
              "  [0.0, 11.36315768877555, 11.36315768877555, 0.0],\n",
              "  [8.097323379397514, 17.17692463808109, 17.17692463808109, 11.36315768877555],\n",
              "  [3.030186042822882, 35.13404163453402, 35.13404163453402, 17.17692463808109],\n",
              "  [17.958907292109846,\n",
              "   59.23100429762514,\n",
              "   59.23100429762514,\n",
              "   35.13404163453402],\n",
              "  [0.0, 13.815666648196194, 13.815666648196194, 0.0],\n",
              "  [0.0, 15.831455211031523, 15.831455211031523, 13.815666648196194],\n",
              "  [0.0, 4.885493044067767, 4.885493044067767, 0.0],\n",
              "  [0.0, 8.280732127562102, 8.280732127562102, 4.885493044067767],\n",
              "  [0.0, 17.708297755195773, 17.708297755195773, 8.280732127562102],\n",
              "  [15.831455211031523,\n",
              "   29.31124068418909,\n",
              "   29.31124068418909,\n",
              "   17.708297755195773],\n",
              "  [0.0, 9.878655893940863, 9.878655893940863, 0.0],\n",
              "  [0.0, 20.3120610374598, 20.3120610374598, 0.0],\n",
              "  [9.878655893940863, 21.28263405394033, 21.28263405394033, 20.3120610374598],\n",
              "  [0.0, 6.869253831609367, 6.869253831609367, 0.0],\n",
              "  [0.0, 7.056016412551486, 7.056016412551486, 0.0],\n",
              "  [0.0, 9.42294191867021, 9.42294191867021, 7.056016412551486],\n",
              "  [6.869253831609367,\n",
              "   29.526772757400778,\n",
              "   29.526772757400778,\n",
              "   9.42294191867021],\n",
              "  [21.28263405394033,\n",
              "   49.16420405813142,\n",
              "   49.16420405813142,\n",
              "   29.526772757400778],\n",
              "  [29.31124068418909,\n",
              "   60.197291613616215,\n",
              "   60.197291613616215,\n",
              "   49.16420405813142],\n",
              "  [59.23100429762514,\n",
              "   107.4399760907254,\n",
              "   107.4399760907254,\n",
              "   60.197291613616215],\n",
              "  [58.494248742565354,\n",
              "   150.6076010845912,\n",
              "   150.6076010845912,\n",
              "   107.4399760907254],\n",
              "  [43.30930050842538, 156.6480437647371, 156.6480437647371, 150.6076010845912],\n",
              "  [0.0, 14.227731593976776, 14.227731593976776, 0.0],\n",
              "  [0.0, 20.176215914058627, 20.176215914058627, 14.227731593976776],\n",
              "  [0.0, 8.26096486415916, 8.26096486415916, 0.0],\n",
              "  [0.0, 16.587251826804753, 16.587251826804753, 8.26096486415916],\n",
              "  [0.0, 22.959220180615564, 22.959220180615564, 16.587251826804753],\n",
              "  [0.0, 9.710271533967399, 9.710271533967399, 0.0],\n",
              "  [0.0, 8.706661872719437, 8.706661872719437, 0.0],\n",
              "  [0.0, 14.783975212351189, 14.783975212351189, 8.706661872719437],\n",
              "  [9.710271533967399,\n",
              "   34.88773350315425,\n",
              "   34.88773350315425,\n",
              "   14.783975212351189],\n",
              "  [22.959220180615564,\n",
              "   45.85646817509493,\n",
              "   45.85646817509493,\n",
              "   34.88773350315425],\n",
              "  [20.176215914058627,\n",
              "   57.69292547336002,\n",
              "   57.69292547336002,\n",
              "   45.85646817509493],\n",
              "  [0.0, 4.47362217881563, 4.47362217881563, 0.0],\n",
              "  [0.0, 12.481809207061088, 12.481809207061088, 0.0],\n",
              "  [4.47362217881563,\n",
              "   23.828979652723387,\n",
              "   23.828979652723387,\n",
              "   12.481809207061088],\n",
              "  [0.0, 17.600359531264612, 17.600359531264612, 0.0],\n",
              "  [0.0, 13.623298962867675, 13.623298962867675, 0.0],\n",
              "  [0.0, 5.434966407460806, 5.434966407460806, 0.0],\n",
              "  [0.0, 15.889868083056646, 15.889868083056646, 5.434966407460806],\n",
              "  [13.623298962867675,\n",
              "   27.559474638433883,\n",
              "   27.559474638433883,\n",
              "   15.889868083056646],\n",
              "  [17.600359531264612,\n",
              "   33.03374613260833,\n",
              "   33.03374613260833,\n",
              "   27.559474638433883],\n",
              "  [23.828979652723387,\n",
              "   68.27555031640333,\n",
              "   68.27555031640333,\n",
              "   33.03374613260833],\n",
              "  [57.69292547336002,\n",
              "   165.05516262652768,\n",
              "   165.05516262652768,\n",
              "   68.27555031640333],\n",
              "  [0.0, 1.0101193522236829, 1.0101193522236829, 0.0],\n",
              "  [0.0, 9.825706376415244, 9.825706376415244, 1.0101193522236829],\n",
              "  [0.0, 5.734214820105174, 5.734214820105174, 0.0],\n",
              "  [0.0, 14.865290173105647, 14.865290173105647, 5.734214820105174],\n",
              "  [0.0, 22.217004251598095, 22.217004251598095, 14.865290173105647],\n",
              "  [9.825706376415244,\n",
              "   37.64514759104788,\n",
              "   37.64514759104788,\n",
              "   22.217004251598095],\n",
              "  [0.0, 5.06364166808729, 5.06364166808729, 0.0],\n",
              "  [0.0, 8.136612202989836, 8.136612202989836, 5.06364166808729],\n",
              "  [0.0, 14.037752213733663, 14.037752213733663, 8.136612202989836],\n",
              "  [0.0, 8.566762919395565, 8.566762919395565, 0.0],\n",
              "  [0.0, 18.281738018936043, 18.281738018936043, 8.566762919395565],\n",
              "  [14.037752213733663,\n",
              "   31.282055186096464,\n",
              "   31.282055186096464,\n",
              "   18.281738018936043],\n",
              "  [0.0, 4.962452061788526, 4.962452061788526, 0.0],\n",
              "  [0.0, 5.969882711328057, 5.969882711328057, 0.0],\n",
              "  [4.962452061788526,\n",
              "   10.339518711113612,\n",
              "   10.339518711113612,\n",
              "   5.969882711328057],\n",
              "  [0.0, 5.42204030549103, 5.42204030549103, 0.0],\n",
              "  [0.0, 7.383528435754941, 7.383528435754941, 0.0],\n",
              "  [0.0, 9.53475119466558, 9.53475119466558, 7.383528435754941],\n",
              "  [5.42204030549103, 15.502663550974393, 15.502663550974393, 9.53475119466558],\n",
              "  [10.339518711113612,\n",
              "   23.596459878673574,\n",
              "   23.596459878673574,\n",
              "   15.502663550974393],\n",
              "  [0.0, 2.9725830158414484, 2.9725830158414484, 0.0],\n",
              "  [0.0, 6.962489176439914, 6.962489176439914, 2.9725830158414484],\n",
              "  [0.0, 4.007904893442318, 4.007904893442318, 0.0],\n",
              "  [0.0, 6.9620686566376175, 6.9620686566376175, 4.007904893442318],\n",
              "  [0.0, 7.425671589958658, 7.425671589958658, 6.9620686566376175],\n",
              "  [6.962489176439914, 26.96264644242562, 26.96264644242562, 7.425671589958658],\n",
              "  [23.596459878673574,\n",
              "   50.38172637823059,\n",
              "   50.38172637823059,\n",
              "   26.96264644242562],\n",
              "  [31.282055186096464,\n",
              "   76.10700464220687,\n",
              "   76.10700464220687,\n",
              "   50.38172637823059],\n",
              "  [37.64514759104788,\n",
              "   104.18270491937045,\n",
              "   104.18270491937045,\n",
              "   76.10700464220687],\n",
              "  [0.0, 8.869431865521571, 8.869431865521571, 0.0],\n",
              "  [0.0, 5.819219459334632, 5.819219459334632, 0.0],\n",
              "  [0.0, 11.730116038362286, 11.730116038362286, 5.819219459334632],\n",
              "  [8.869431865521571,\n",
              "   14.503758096856908,\n",
              "   14.503758096856908,\n",
              "   11.730116038362286],\n",
              "  [0.0, 3.897671920286566, 3.897671920286566, 0.0],\n",
              "  [0.0, 4.147587344982476, 4.147587344982476, 3.897671920286566],\n",
              "  [0.0, 7.349168434936033, 7.349168434936033, 4.147587344982476],\n",
              "  [0.0, 8.682877434601222, 8.682877434601222, 0.0],\n",
              "  [7.349168434936033, 16.86609858660562, 16.86609858660562, 8.682877434601222],\n",
              "  [14.503758096856908,\n",
              "   33.470402897154756,\n",
              "   33.470402897154756,\n",
              "   16.86609858660562],\n",
              "  [0.0, 5.968200596016141, 5.968200596016141, 0.0],\n",
              "  [0.0, 17.124714418182712, 17.124714418182712, 5.968200596016141],\n",
              "  [0.0, 4.224702452333693, 4.224702452333693, 0.0],\n",
              "  [0.0, 7.150160225084772, 7.150160225084772, 4.224702452333693],\n",
              "  [0.0, 9.272218635992274, 9.272218635992274, 0.0],\n",
              "  [7.150160225084772,\n",
              "   22.181499528863874,\n",
              "   22.181499528863874,\n",
              "   9.272218635992274],\n",
              "  [17.124714418182712,\n",
              "   40.42666963411502,\n",
              "   40.42666963411502,\n",
              "   22.181499528863874],\n",
              "  [33.470402897154756,\n",
              "   68.85145861123415,\n",
              "   68.85145861123415,\n",
              "   40.42666963411502],\n",
              "  [0.0, 7.082106745893559, 7.082106745893559, 0.0],\n",
              "  [0.0, 8.449186826186843, 8.449186826186843, 7.082106745893559],\n",
              "  [0.0, 7.189184725038131, 7.189184725038131, 0.0],\n",
              "  [0.0, 4.687042368817805, 4.687042368817805, 0.0],\n",
              "  [0.0, 4.7697619709596735, 4.7697619709596735, 0.0],\n",
              "  [4.687042368817805,\n",
              "   12.75908890425778,\n",
              "   12.75908890425778,\n",
              "   4.7697619709596735],\n",
              "  [7.189184725038131, 21.63457058377012, 21.63457058377012, 12.75908890425778],\n",
              "  [8.449186826186843,\n",
              "   25.586418729908722,\n",
              "   25.586418729908722,\n",
              "   21.63457058377012],\n",
              "  [0.0, 5.428879426514456, 5.428879426514456, 0.0],\n",
              "  [0.0, 10.417549644579855, 10.417549644579855, 5.428879426514456],\n",
              "  [0.0, 7.85579134264598, 7.85579134264598, 0.0],\n",
              "  [0.0, 11.987790805069842, 11.987790805069842, 0.0],\n",
              "  [7.85579134264598,\n",
              "   18.531384659357922,\n",
              "   18.531384659357922,\n",
              "   11.987790805069842],\n",
              "  [10.417549644579855,\n",
              "   30.798798400740868,\n",
              "   30.798798400740868,\n",
              "   18.531384659357922],\n",
              "  [25.586418729908722,\n",
              "   45.36515355189141,\n",
              "   45.36515355189141,\n",
              "   30.798798400740868],\n",
              "  [0.0, 4.507863131070531, 4.507863131070531, 0.0],\n",
              "  [0.0, 7.345907389578469, 7.345907389578469, 0.0],\n",
              "  [4.507863131070531,\n",
              "   10.086543968778491,\n",
              "   10.086543968778491,\n",
              "   7.345907389578469],\n",
              "  [0.0, 5.643229541770283, 5.643229541770283, 0.0],\n",
              "  [0.0, 11.414460394216302, 11.414460394216302, 5.643229541770283],\n",
              "  [10.086543968778491,\n",
              "   23.466255482330688,\n",
              "   23.466255482330688,\n",
              "   11.414460394216302],\n",
              "  [0.0, 2.0201252121483146, 2.0201252121483146, 0.0],\n",
              "  [0.0, 12.337069386596745, 12.337069386596745, 2.0201252121483146],\n",
              "  [0.0, 8.084513710624504, 8.084513710624504, 0.0],\n",
              "  [0.0, 9.84442916427932, 9.84442916427932, 0.0],\n",
              "  [0.0, 12.570134085507377, 12.570134085507377, 9.84442916427932],\n",
              "  [8.084513710624504, 23.66184744121, 23.66184744121, 12.570134085507377],\n",
              "  [12.337069386596745, 33.42128337639749, 33.42128337639749, 23.66184744121],\n",
              "  [23.466255482330688,\n",
              "   53.44463665080697,\n",
              "   53.44463665080697,\n",
              "   33.42128337639749],\n",
              "  [45.36515355189141, 92.34962788220514, 92.34962788220514, 53.44463665080697],\n",
              "  [68.85145861123415,\n",
              "   106.69818771629714,\n",
              "   106.69818771629714,\n",
              "   92.34962788220514],\n",
              "  [104.18270491937045,\n",
              "   172.61727535340032,\n",
              "   172.61727535340032,\n",
              "   106.69818771629714],\n",
              "  [165.05516262652768,\n",
              "   423.1983122931457,\n",
              "   423.1983122931457,\n",
              "   172.61727535340032],\n",
              "  [156.6480437647371, 555.0187645825572, 555.0187645825572, 423.1983122931457],\n",
              "  [449.84957370124584,\n",
              "   836.6873960315556,\n",
              "   836.6873960315556,\n",
              "   555.0187645825572]],\n",
              " 'ivl': ['1',\n",
              "  '3',\n",
              "  '5',\n",
              "  '13',\n",
              "  '15',\n",
              "  '39',\n",
              "  '31',\n",
              "  '37',\n",
              "  '17',\n",
              "  '9',\n",
              "  '21',\n",
              "  '23',\n",
              "  '7',\n",
              "  '11',\n",
              "  '19',\n",
              "  '33',\n",
              "  '41',\n",
              "  '29',\n",
              "  '25',\n",
              "  '35',\n",
              "  '199',\n",
              "  '195',\n",
              "  '197',\n",
              "  '189',\n",
              "  '179',\n",
              "  '181',\n",
              "  '183',\n",
              "  '185',\n",
              "  '193',\n",
              "  '149',\n",
              "  '151',\n",
              "  '155',\n",
              "  '135',\n",
              "  '143',\n",
              "  '161',\n",
              "  '175',\n",
              "  '123',\n",
              "  '127',\n",
              "  '167',\n",
              "  '173',\n",
              "  '145',\n",
              "  '141',\n",
              "  '163',\n",
              "  '187',\n",
              "  '191',\n",
              "  '169',\n",
              "  '177',\n",
              "  '133',\n",
              "  '137',\n",
              "  '139',\n",
              "  '125',\n",
              "  '129',\n",
              "  '131',\n",
              "  '165',\n",
              "  '171',\n",
              "  '147',\n",
              "  '159',\n",
              "  '153',\n",
              "  '157',\n",
              "  '192',\n",
              "  '194',\n",
              "  '196',\n",
              "  '198',\n",
              "  '180',\n",
              "  '184',\n",
              "  '126',\n",
              "  '146',\n",
              "  '160',\n",
              "  '142',\n",
              "  '124',\n",
              "  '132',\n",
              "  '130',\n",
              "  '136',\n",
              "  '128',\n",
              "  '140',\n",
              "  '156',\n",
              "  '158',\n",
              "  '138',\n",
              "  '144',\n",
              "  '134',\n",
              "  '162',\n",
              "  '168',\n",
              "  '164',\n",
              "  '166',\n",
              "  '148',\n",
              "  '152',\n",
              "  '150',\n",
              "  '154',\n",
              "  '182',\n",
              "  '188',\n",
              "  '186',\n",
              "  '190',\n",
              "  '170',\n",
              "  '172',\n",
              "  '178',\n",
              "  '174',\n",
              "  '176',\n",
              "  '2',\n",
              "  '6',\n",
              "  '14',\n",
              "  '8',\n",
              "  '22',\n",
              "  '30',\n",
              "  '32',\n",
              "  '10',\n",
              "  '12',\n",
              "  '36',\n",
              "  '24',\n",
              "  '34',\n",
              "  '16',\n",
              "  '20',\n",
              "  '0',\n",
              "  '4',\n",
              "  '40',\n",
              "  '42',\n",
              "  '38',\n",
              "  '44',\n",
              "  '18',\n",
              "  '26',\n",
              "  '28',\n",
              "  '61',\n",
              "  '65',\n",
              "  '68',\n",
              "  '27',\n",
              "  '45',\n",
              "  '43',\n",
              "  '51',\n",
              "  '122',\n",
              "  '104',\n",
              "  '117',\n",
              "  '119',\n",
              "  '88',\n",
              "  '76',\n",
              "  '81',\n",
              "  '75',\n",
              "  '78',\n",
              "  '84',\n",
              "  '87',\n",
              "  '95',\n",
              "  '97',\n",
              "  '111',\n",
              "  '103',\n",
              "  '120',\n",
              "  '91',\n",
              "  '100',\n",
              "  '105',\n",
              "  '113',\n",
              "  '99',\n",
              "  '114',\n",
              "  '115',\n",
              "  '93',\n",
              "  '98',\n",
              "  '94',\n",
              "  '112',\n",
              "  '121',\n",
              "  '89',\n",
              "  '92',\n",
              "  '96',\n",
              "  '101',\n",
              "  '107',\n",
              "  '118',\n",
              "  '82',\n",
              "  '108',\n",
              "  '116',\n",
              "  '110',\n",
              "  '106',\n",
              "  '109',\n",
              "  '90',\n",
              "  '102',\n",
              "  '80',\n",
              "  '72',\n",
              "  '74',\n",
              "  '57',\n",
              "  '67',\n",
              "  '60',\n",
              "  '70',\n",
              "  '62',\n",
              "  '64',\n",
              "  '46',\n",
              "  '50',\n",
              "  '56',\n",
              "  '53',\n",
              "  '63',\n",
              "  '73',\n",
              "  '86',\n",
              "  '83',\n",
              "  '85',\n",
              "  '71',\n",
              "  '79',\n",
              "  '55',\n",
              "  '54',\n",
              "  '59',\n",
              "  '47',\n",
              "  '48',\n",
              "  '49',\n",
              "  '52',\n",
              "  '58',\n",
              "  '69',\n",
              "  '66',\n",
              "  '77'],\n",
              " 'leaves': [1,\n",
              "  3,\n",
              "  5,\n",
              "  13,\n",
              "  15,\n",
              "  39,\n",
              "  31,\n",
              "  37,\n",
              "  17,\n",
              "  9,\n",
              "  21,\n",
              "  23,\n",
              "  7,\n",
              "  11,\n",
              "  19,\n",
              "  33,\n",
              "  41,\n",
              "  29,\n",
              "  25,\n",
              "  35,\n",
              "  199,\n",
              "  195,\n",
              "  197,\n",
              "  189,\n",
              "  179,\n",
              "  181,\n",
              "  183,\n",
              "  185,\n",
              "  193,\n",
              "  149,\n",
              "  151,\n",
              "  155,\n",
              "  135,\n",
              "  143,\n",
              "  161,\n",
              "  175,\n",
              "  123,\n",
              "  127,\n",
              "  167,\n",
              "  173,\n",
              "  145,\n",
              "  141,\n",
              "  163,\n",
              "  187,\n",
              "  191,\n",
              "  169,\n",
              "  177,\n",
              "  133,\n",
              "  137,\n",
              "  139,\n",
              "  125,\n",
              "  129,\n",
              "  131,\n",
              "  165,\n",
              "  171,\n",
              "  147,\n",
              "  159,\n",
              "  153,\n",
              "  157,\n",
              "  192,\n",
              "  194,\n",
              "  196,\n",
              "  198,\n",
              "  180,\n",
              "  184,\n",
              "  126,\n",
              "  146,\n",
              "  160,\n",
              "  142,\n",
              "  124,\n",
              "  132,\n",
              "  130,\n",
              "  136,\n",
              "  128,\n",
              "  140,\n",
              "  156,\n",
              "  158,\n",
              "  138,\n",
              "  144,\n",
              "  134,\n",
              "  162,\n",
              "  168,\n",
              "  164,\n",
              "  166,\n",
              "  148,\n",
              "  152,\n",
              "  150,\n",
              "  154,\n",
              "  182,\n",
              "  188,\n",
              "  186,\n",
              "  190,\n",
              "  170,\n",
              "  172,\n",
              "  178,\n",
              "  174,\n",
              "  176,\n",
              "  2,\n",
              "  6,\n",
              "  14,\n",
              "  8,\n",
              "  22,\n",
              "  30,\n",
              "  32,\n",
              "  10,\n",
              "  12,\n",
              "  36,\n",
              "  24,\n",
              "  34,\n",
              "  16,\n",
              "  20,\n",
              "  0,\n",
              "  4,\n",
              "  40,\n",
              "  42,\n",
              "  38,\n",
              "  44,\n",
              "  18,\n",
              "  26,\n",
              "  28,\n",
              "  61,\n",
              "  65,\n",
              "  68,\n",
              "  27,\n",
              "  45,\n",
              "  43,\n",
              "  51,\n",
              "  122,\n",
              "  104,\n",
              "  117,\n",
              "  119,\n",
              "  88,\n",
              "  76,\n",
              "  81,\n",
              "  75,\n",
              "  78,\n",
              "  84,\n",
              "  87,\n",
              "  95,\n",
              "  97,\n",
              "  111,\n",
              "  103,\n",
              "  120,\n",
              "  91,\n",
              "  100,\n",
              "  105,\n",
              "  113,\n",
              "  99,\n",
              "  114,\n",
              "  115,\n",
              "  93,\n",
              "  98,\n",
              "  94,\n",
              "  112,\n",
              "  121,\n",
              "  89,\n",
              "  92,\n",
              "  96,\n",
              "  101,\n",
              "  107,\n",
              "  118,\n",
              "  82,\n",
              "  108,\n",
              "  116,\n",
              "  110,\n",
              "  106,\n",
              "  109,\n",
              "  90,\n",
              "  102,\n",
              "  80,\n",
              "  72,\n",
              "  74,\n",
              "  57,\n",
              "  67,\n",
              "  60,\n",
              "  70,\n",
              "  62,\n",
              "  64,\n",
              "  46,\n",
              "  50,\n",
              "  56,\n",
              "  53,\n",
              "  63,\n",
              "  73,\n",
              "  86,\n",
              "  83,\n",
              "  85,\n",
              "  71,\n",
              "  79,\n",
              "  55,\n",
              "  54,\n",
              "  59,\n",
              "  47,\n",
              "  48,\n",
              "  49,\n",
              "  52,\n",
              "  58,\n",
              "  69,\n",
              "  66,\n",
              "  77],\n",
              " 'color_list': ['C1',\n",
              "  'C1',\n",
              "  'C1',\n",
              "  'C1',\n",
              "  'C1',\n",
              "  'C1',\n",
              "  'C1',\n",
              "  'C1',\n",
              "  'C1',\n",
              "  'C1',\n",
              "  'C1',\n",
              "  'C1',\n",
              "  'C1',\n",
              "  'C1',\n",
              "  'C1',\n",
              "  'C1',\n",
              "  'C1',\n",
              "  'C1',\n",
              "  'C1',\n",
              "  'C1',\n",
              "  'C1',\n",
              "  'C1',\n",
              "  'C1',\n",
              "  'C1',\n",
              "  'C1',\n",
              "  'C1',\n",
              "  'C1',\n",
              "  'C1',\n",
              "  'C1',\n",
              "  'C1',\n",
              "  'C1',\n",
              "  'C1',\n",
              "  'C1',\n",
              "  'C1',\n",
              "  'C1',\n",
              "  'C1',\n",
              "  'C1',\n",
              "  'C1',\n",
              "  'C1',\n",
              "  'C1',\n",
              "  'C1',\n",
              "  'C1',\n",
              "  'C1',\n",
              "  'C1',\n",
              "  'C1',\n",
              "  'C1',\n",
              "  'C1',\n",
              "  'C1',\n",
              "  'C1',\n",
              "  'C1',\n",
              "  'C1',\n",
              "  'C1',\n",
              "  'C1',\n",
              "  'C1',\n",
              "  'C1',\n",
              "  'C1',\n",
              "  'C1',\n",
              "  'C1',\n",
              "  'C2',\n",
              "  'C2',\n",
              "  'C2',\n",
              "  'C2',\n",
              "  'C2',\n",
              "  'C2',\n",
              "  'C2',\n",
              "  'C2',\n",
              "  'C2',\n",
              "  'C2',\n",
              "  'C2',\n",
              "  'C2',\n",
              "  'C2',\n",
              "  'C2',\n",
              "  'C2',\n",
              "  'C2',\n",
              "  'C2',\n",
              "  'C2',\n",
              "  'C2',\n",
              "  'C2',\n",
              "  'C2',\n",
              "  'C2',\n",
              "  'C2',\n",
              "  'C2',\n",
              "  'C2',\n",
              "  'C2',\n",
              "  'C2',\n",
              "  'C2',\n",
              "  'C2',\n",
              "  'C2',\n",
              "  'C2',\n",
              "  'C2',\n",
              "  'C2',\n",
              "  'C2',\n",
              "  'C2',\n",
              "  'C2',\n",
              "  'C2',\n",
              "  'C2',\n",
              "  'C2',\n",
              "  'C2',\n",
              "  'C2',\n",
              "  'C2',\n",
              "  'C2',\n",
              "  'C2',\n",
              "  'C2',\n",
              "  'C2',\n",
              "  'C2',\n",
              "  'C2',\n",
              "  'C2',\n",
              "  'C2',\n",
              "  'C2',\n",
              "  'C2',\n",
              "  'C2',\n",
              "  'C2',\n",
              "  'C2',\n",
              "  'C2',\n",
              "  'C2',\n",
              "  'C2',\n",
              "  'C2',\n",
              "  'C2',\n",
              "  'C2',\n",
              "  'C2',\n",
              "  'C2',\n",
              "  'C2',\n",
              "  'C2',\n",
              "  'C2',\n",
              "  'C2',\n",
              "  'C2',\n",
              "  'C2',\n",
              "  'C2',\n",
              "  'C2',\n",
              "  'C2',\n",
              "  'C2',\n",
              "  'C2',\n",
              "  'C2',\n",
              "  'C2',\n",
              "  'C2',\n",
              "  'C2',\n",
              "  'C2',\n",
              "  'C2',\n",
              "  'C2',\n",
              "  'C2',\n",
              "  'C2',\n",
              "  'C2',\n",
              "  'C2',\n",
              "  'C2',\n",
              "  'C2',\n",
              "  'C2',\n",
              "  'C2',\n",
              "  'C2',\n",
              "  'C2',\n",
              "  'C2',\n",
              "  'C2',\n",
              "  'C2',\n",
              "  'C2',\n",
              "  'C2',\n",
              "  'C2',\n",
              "  'C2',\n",
              "  'C2',\n",
              "  'C2',\n",
              "  'C2',\n",
              "  'C2',\n",
              "  'C2',\n",
              "  'C2',\n",
              "  'C2',\n",
              "  'C2',\n",
              "  'C2',\n",
              "  'C2',\n",
              "  'C2',\n",
              "  'C2',\n",
              "  'C2',\n",
              "  'C2',\n",
              "  'C2',\n",
              "  'C2',\n",
              "  'C2',\n",
              "  'C2',\n",
              "  'C2',\n",
              "  'C2',\n",
              "  'C2',\n",
              "  'C2',\n",
              "  'C2',\n",
              "  'C2',\n",
              "  'C2',\n",
              "  'C2',\n",
              "  'C2',\n",
              "  'C2',\n",
              "  'C2',\n",
              "  'C2',\n",
              "  'C2',\n",
              "  'C2',\n",
              "  'C2',\n",
              "  'C2',\n",
              "  'C2',\n",
              "  'C2',\n",
              "  'C2',\n",
              "  'C2',\n",
              "  'C2',\n",
              "  'C2',\n",
              "  'C2',\n",
              "  'C2',\n",
              "  'C0'],\n",
              " 'leaves_color_list': ['C1',\n",
              "  'C1',\n",
              "  'C1',\n",
              "  'C1',\n",
              "  'C1',\n",
              "  'C1',\n",
              "  'C1',\n",
              "  'C1',\n",
              "  'C1',\n",
              "  'C1',\n",
              "  'C1',\n",
              "  'C1',\n",
              "  'C1',\n",
              "  'C1',\n",
              "  'C1',\n",
              "  'C1',\n",
              "  'C1',\n",
              "  'C1',\n",
              "  'C1',\n",
              "  'C1',\n",
              "  'C1',\n",
              "  'C1',\n",
              "  'C1',\n",
              "  'C1',\n",
              "  'C1',\n",
              "  'C1',\n",
              "  'C1',\n",
              "  'C1',\n",
              "  'C1',\n",
              "  'C1',\n",
              "  'C1',\n",
              "  'C1',\n",
              "  'C1',\n",
              "  'C1',\n",
              "  'C1',\n",
              "  'C1',\n",
              "  'C1',\n",
              "  'C1',\n",
              "  'C1',\n",
              "  'C1',\n",
              "  'C1',\n",
              "  'C1',\n",
              "  'C1',\n",
              "  'C1',\n",
              "  'C1',\n",
              "  'C1',\n",
              "  'C1',\n",
              "  'C1',\n",
              "  'C1',\n",
              "  'C1',\n",
              "  'C1',\n",
              "  'C1',\n",
              "  'C1',\n",
              "  'C1',\n",
              "  'C1',\n",
              "  'C1',\n",
              "  'C1',\n",
              "  'C1',\n",
              "  'C1',\n",
              "  'C2',\n",
              "  'C2',\n",
              "  'C2',\n",
              "  'C2',\n",
              "  'C2',\n",
              "  'C2',\n",
              "  'C2',\n",
              "  'C2',\n",
              "  'C2',\n",
              "  'C2',\n",
              "  'C2',\n",
              "  'C2',\n",
              "  'C2',\n",
              "  'C2',\n",
              "  'C2',\n",
              "  'C2',\n",
              "  'C2',\n",
              "  'C2',\n",
              "  'C2',\n",
              "  'C2',\n",
              "  'C2',\n",
              "  'C2',\n",
              "  'C2',\n",
              "  'C2',\n",
              "  'C2',\n",
              "  'C2',\n",
              "  'C2',\n",
              "  'C2',\n",
              "  'C2',\n",
              "  'C2',\n",
              "  'C2',\n",
              "  'C2',\n",
              "  'C2',\n",
              "  'C2',\n",
              "  'C2',\n",
              "  'C2',\n",
              "  'C2',\n",
              "  'C2',\n",
              "  'C2',\n",
              "  'C2',\n",
              "  'C2',\n",
              "  'C2',\n",
              "  'C2',\n",
              "  'C2',\n",
              "  'C2',\n",
              "  'C2',\n",
              "  'C2',\n",
              "  'C2',\n",
              "  'C2',\n",
              "  'C2',\n",
              "  'C2',\n",
              "  'C2',\n",
              "  'C2',\n",
              "  'C2',\n",
              "  'C2',\n",
              "  'C2',\n",
              "  'C2',\n",
              "  'C2',\n",
              "  'C2',\n",
              "  'C2',\n",
              "  'C2',\n",
              "  'C2',\n",
              "  'C2',\n",
              "  'C2',\n",
              "  'C2',\n",
              "  'C2',\n",
              "  'C2',\n",
              "  'C2',\n",
              "  'C2',\n",
              "  'C2',\n",
              "  'C2',\n",
              "  'C2',\n",
              "  'C2',\n",
              "  'C2',\n",
              "  'C2',\n",
              "  'C2',\n",
              "  'C2',\n",
              "  'C2',\n",
              "  'C2',\n",
              "  'C2',\n",
              "  'C2',\n",
              "  'C2',\n",
              "  'C2',\n",
              "  'C2',\n",
              "  'C2',\n",
              "  'C2',\n",
              "  'C2',\n",
              "  'C2',\n",
              "  'C2',\n",
              "  'C2',\n",
              "  'C2',\n",
              "  'C2',\n",
              "  'C2',\n",
              "  'C2',\n",
              "  'C2',\n",
              "  'C2',\n",
              "  'C2',\n",
              "  'C2',\n",
              "  'C2',\n",
              "  'C2',\n",
              "  'C2',\n",
              "  'C2',\n",
              "  'C2',\n",
              "  'C2',\n",
              "  'C2',\n",
              "  'C2',\n",
              "  'C2',\n",
              "  'C2',\n",
              "  'C2',\n",
              "  'C2',\n",
              "  'C2',\n",
              "  'C2',\n",
              "  'C2',\n",
              "  'C2',\n",
              "  'C2',\n",
              "  'C2',\n",
              "  'C2',\n",
              "  'C2',\n",
              "  'C2',\n",
              "  'C2',\n",
              "  'C2',\n",
              "  'C2',\n",
              "  'C2',\n",
              "  'C2',\n",
              "  'C2',\n",
              "  'C2',\n",
              "  'C2',\n",
              "  'C2',\n",
              "  'C2',\n",
              "  'C2',\n",
              "  'C2',\n",
              "  'C2',\n",
              "  'C2',\n",
              "  'C2',\n",
              "  'C2',\n",
              "  'C2',\n",
              "  'C2',\n",
              "  'C2',\n",
              "  'C2',\n",
              "  'C2',\n",
              "  'C2']}"
            ]
          },
          "metadata": {},
          "execution_count": 37
        },
        {
          "output_type": "display_data",
          "data": {
            "text/plain": [
              "<Figure size 432x288 with 1 Axes>"
            ],
            "image/png": "[encoded data removed]"
          },
          "metadata": {
            "needs_background": "light"
          }
        }
      ],
      "source": [
        "linkage_array = ward(df)\n",
        "dendrogram(linkage_array)"
      ]
    },
    {
      "cell_type": "markdown",
      "metadata": {
        "id": "HsHgaL3n0Z8h"
      },
      "source": [
        "#### 2.8 다시 데이터를 로드하고 다음 코드를 실행해주세요."
      ]
    },
    {
      "cell_type": "code",
      "execution_count": 46,
      "metadata": {
        "id": "McTDaQiQ0Z8h"
      },
      "outputs": [],
      "source": [
        "df = pd.read_csv(\"/content/gdrive/MyDrive/euron study/csv파일/Mall_Customers.csv\")\n",
        "df = df.drop('CustomerID', axis=1)\n",
        "df = pd.get_dummies(df)"
      ]
    },
    {
      "cell_type": "markdown",
      "metadata": {
        "id": "n5nWl49i0Z8h"
      },
      "source": [
        "#### 2.9 AIC, BIC를 구하여 n_components 값을 결정하려고 합니다. 다음 코드의 빈칸을 채워주세요."
      ]
    },
    {
      "cell_type": "code",
      "execution_count": 41,
      "metadata": {
        "id": "5sPl9dNr0Z8h",
        "colab": {
          "base_uri": "https://localhost:8080/",
          "height": 265
        },
        "outputId": "166ed0bf-0825-4965-a156-8841824b3b66"
      },
      "outputs": [
        {
          "output_type": "display_data",
          "data": {
            "text/plain": [
              "<Figure size 432x288 with 1 Axes>"
            ],
            "image/png": "[encoded data removed]"
          },
          "metadata": {
            "needs_background": "light"
          }
        }
      ],
      "source": [
        "# AIC, BIC\n",
        "from sklearn.mixture import GaussianMixture\n",
        "\n",
        "gmm_per_k = [GaussianMixture(n_components = k, n_init=10, random_state=0).fit(df) for k in range(1,11)]\n",
        "\n",
        "bics = [model.bic(df) for model in gmm_per_k]  # model 별 bic 구하기\n",
        "aics = [model.aic(df) for model in gmm_per_k]  # model 별 aic 구하기\n",
        "\n",
        "plt.plot(range(1,11), aics, 'rs--')\n",
        "plt.plot(range(1,11), bics, 'bo-')\n",
        "plt.legend(['AIC','BIC'])\n",
        "plt.show()"
      ]
    },
    {
      "cell_type": "markdown",
      "metadata": {
        "id": "mVn1QStl0Z8i"
      },
      "source": [
        "#### 2.10 GMM 군집화를 진행해주세요. 위의 결과를 참고하여 n_components를 결정해주세요. 이후 군집화 결과를 확인하기 위한 코드에서 빈칸을 채워주세요. (인자 : df) "
      ]
    },
    {
      "cell_type": "code",
      "execution_count": 42,
      "metadata": {
        "id": "FNIizxOM0Z8i"
      },
      "outputs": [],
      "source": [
        "from sklearn.mixture import GaussianMixture\n",
        "\n",
        "gmm = GaussianMixture(n_components = 6,random_state = 0).fit(df)\n",
        "gmm_cluster_labels = gmm.predict(df)"
      ]
    },
    {
      "cell_type": "code",
      "execution_count": 43,
      "metadata": {
        "id": "oDpxzKac0Z8i",
        "colab": {
          "base_uri": "https://localhost:8080/"
        },
        "outputId": "1b960355-1e36-4c83-877e-803ec905d158"
      },
      "outputs": [
        {
          "output_type": "stream",
          "name": "stdout",
          "text": [
            "target  gmm_cluster\n",
            "1       0              2\n",
            "3       2              1\n",
            "4       2              2\n",
            "5       0              3\n",
            "        2              1\n",
            "                      ..\n",
            "94      3              1\n",
            "95      4              2\n",
            "97      4              2\n",
            "98      3              1\n",
            "99      3              1\n",
            "Name: gmm_cluster, Length: 121, dtype: int64\n"
          ]
        }
      ],
      "source": [
        "df['gmm_cluster'] = gmm_cluster_labels\n",
        "df['target'] = df['Spending Score (1-100)']\n",
        "\n",
        "result = df.groupby(['target'])['gmm_cluster'].value_counts()\n",
        "print(result)"
      ]
    },
    {
      "cell_type": "code",
      "execution_count": 44,
      "metadata": {
        "id": "BoeWvUkW0Z8i",
        "colab": {
          "base_uri": "https://localhost:8080/",
          "height": 265
        },
        "outputId": "91898780-773c-43f6-ac26-a470f9a641de"
      },
      "outputs": [
        {
          "output_type": "display_data",
          "data": {
            "text/plain": [
              "<Figure size 432x288 with 1 Axes>"
            ],
            "image/png": "[encoded data removed]"
          },
          "metadata": {
            "needs_background": "light"
          }
        }
      ],
      "source": [
        "for i in range(0,6):\n",
        "  m_ind = df[df['gmm_cluster'] == i].index\n",
        "  plt.scatter(x=df.loc[m_ind,'Annual Income (k$)'], y=df.loc[m_ind,'Spending Score (1-100)'],marker=i)\n",
        "\n",
        "plt.show()"
      ]
    },
    {
      "cell_type": "markdown",
      "metadata": {
        "id": "tswGfU2-rTzy"
      },
      "source": [
        "3.1\n",
        "\n",
        "(1) 앞에서 사용한 Mall_Customers 데이터를 다시 사용하겠습니다. 아래 코드를 불러주세요."
      ]
    },
    {
      "cell_type": "code",
      "execution_count": 45,
      "metadata": {
        "id": "MV16r8earTzy"
      },
      "outputs": [],
      "source": [
        "df = pd.read_csv(\"/content/gdrive/MyDrive/euron study/csv파일/Mall_Customers.csv\")\n",
        "df = df.drop('CustomerID', axis=1)\n",
        "df = pd.get_dummies(df)"
      ]
    },
    {
      "cell_type": "code",
      "execution_count": null,
      "metadata": {
        "id": "51UvAI-JrTzy"
      },
      "outputs": [],
      "source": []
    },
    {
      "cell_type": "markdown",
      "metadata": {
        "id": "YDbyIA5ArTzy"
      },
      "source": [
        "(2) 보다 용이한 시각화를 위해 \"Annual Income (k$)\", \"Spending Score (1-100)\" 열들만 사용하여 2개의 feature에 대한 고객 군집화를 진행하겠습니다. 그러기 위해 빈칸(<?>)을 채워주세요."
      ]
    },
    {
      "cell_type": "code",
      "execution_count": 47,
      "metadata": {
        "colab": {
          "base_uri": "https://localhost:8080/",
          "height": 206
        },
        "id": "LyVSm_5nrTzz",
        "outputId": "e4ac53d7-1165-40e8-a0bc-492c2f47d15f"
      },
      "outputs": [
        {
          "output_type": "execute_result",
          "data": {
            "text/plain": [
              "   Annual Income (k$)  Spending Score (1-100)\n",
              "0                  15                      39\n",
              "1                  15                      81\n",
              "2                  16                       6\n",
              "3                  16                      77\n",
              "4                  17                      40"
            ],
            "text/html": [
              "\n",
              "  <div id=\"df-1f40156a-1fe3-41e1-be76-c774081392e9\">\n",
              "    <div class=\"colab-df-container\">\n",
              "      <div>\n",
              "<style scoped>\n",
              "    .dataframe tbody tr th:only-of-type {\n",
              "        vertical-align: middle;\n",
              "    }\n",
              "\n",
              "    .dataframe tbody tr th {\n",
              "        vertical-align: top;\n",
              "    }\n",
              "\n",
              "    .dataframe thead th {\n",
              "        text-align: right;\n",
              "    }\n",
              "</style>\n",
              "<table border=\"1\" class=\"dataframe\">\n",
              "  <thead>\n",
              "    <tr style=\"text-align: right;\">\n",
              "      <th></th>\n",
              "      <th>Annual Income (k$)</th>\n",
              "      <th>Spending Score (1-100)</th>\n",
              "    </tr>\n",
              "  </thead>\n",
              "  <tbody>\n",
              "    <tr>\n",
              "      <th>0</th>\n",
              "      <td>15</td>\n",
              "      <td>39</td>\n",
              "    </tr>\n",
              "    <tr>\n",
              "      <th>1</th>\n",
              "      <td>15</td>\n",
              "      <td>81</td>\n",
              "    </tr>\n",
              "    <tr>\n",
              "      <th>2</th>\n",
              "      <td>16</td>\n",
              "      <td>6</td>\n",
              "    </tr>\n",
              "    <tr>\n",
              "      <th>3</th>\n",
              "      <td>16</td>\n",
              "      <td>77</td>\n",
              "    </tr>\n",
              "    <tr>\n",
              "      <th>4</th>\n",
              "      <td>17</td>\n",
              "      <td>40</td>\n",
              "    </tr>\n",
              "  </tbody>\n",
              "</table>\n",
              "</div>\n",
              "      <button class=\"colab-df-convert\" onclick=\"convertToInteractive('df-1f40156a-1fe3-41e1-be76-c774081392e9')\"\n",
              "              title=\"Convert this dataframe to an interactive table.\"\n",
              "              style=\"display:none;\">\n",
              "        \n",
              "  <svg xmlns=\"http://www.w3.org/2000/svg\" height=\"24px\"viewBox=\"0 0 24 24\"\n",
              "       width=\"24px\">\n",
              "    <path d=\"M0 0h24v24H0V0z\" fill=\"none\"/>\n",
              "    <path d=\"M18.56 5.44l.94 2.06.94-2.06 2.06-.94-2.06-.94-.94-2.06-.94 2.06-2.06.94zm-11 1L8.5 8.5l.94-2.06 2.06-.94-2.06-.94L8.5 2.5l-.94 2.06-2.06.94zm10 10l.94 2.06.94-2.06 2.06-.94-2.06-.94-.94-2.06-.94 2.06-2.06.94z\"/><path d=\"M17.41 7.96l-1.37-1.37c-.4-.4-.92-.59-1.43-.59-.52 0-1.04.2-1.43.59L10.3 9.45l-7.72 7.72c-.78.78-.78 2.05 0 2.83L4 21.41c.39.39.9.59 1.41.59.51 0 1.02-.2 1.41-.59l7.78-7.78 2.81-2.81c.8-.78.8-2.07 0-2.86zM5.41 20L4 18.59l7.72-7.72 1.47 1.35L5.41 20z\"/>\n",
              "  </svg>\n",
              "      </button>\n",
              "      \n",
              "  <style>\n",
              "    .colab-df-container {\n",
              "      display:flex;\n",
              "      flex-wrap:wrap;\n",
              "      gap: 12px;\n",
              "    }\n",
              "\n",
              "    .colab-df-convert {\n",
              "      background-color: #E8F0FE;\n",
              "      border: none;\n",
              "      border-radius: 50%;\n",
              "      cursor: pointer;\n",
              "      display: none;\n",
              "      fill: #1967D2;\n",
              "      height: 32px;\n",
              "      padding: 0 0 0 0;\n",
              "      width: 32px;\n",
              "    }\n",
              "\n",
              "    .colab-df-convert:hover {\n",
              "      background-color: #E2EBFA;\n",
              "      box-shadow: 0px 1px 2px rgba(60, 64, 67, 0.3), 0px 1px 3px 1px rgba(60, 64, 67, 0.15);\n",
              "      fill: #174EA6;\n",
              "    }\n",
              "\n",
              "    [theme=dark] .colab-df-convert {\n",
              "      background-color: #3B4455;\n",
              "      fill: #D2E3FC;\n",
              "    }\n",
              "\n",
              "    [theme=dark] .colab-df-convert:hover {\n",
              "      background-color: #434B5C;\n",
              "      box-shadow: 0px 1px 3px 1px rgba(0, 0, 0, 0.15);\n",
              "      filter: drop-shadow(0px 1px 2px rgba(0, 0, 0, 0.3));\n",
              "      fill: #FFFFFF;\n",
              "    }\n",
              "  </style>\n",
              "\n",
              "      <script>\n",
              "        const buttonEl =\n",
              "          document.querySelector('#df-1f40156a-1fe3-41e1-be76-c774081392e9 button.colab-df-convert');\n",
              "        buttonEl.style.display =\n",
              "          google.colab.kernel.accessAllowed ? 'block' : 'none';\n",
              "\n",
              "        async function convertToInteractive(key) {\n",
              "          const element = document.querySelector('#df-1f40156a-1fe3-41e1-be76-c774081392e9');\n",
              "          const dataTable =\n",
              "            await google.colab.kernel.invokeFunction('convertToInteractive',\n",
              "                                                     [key], {});\n",
              "          if (!dataTable) return;\n",
              "\n",
              "          const docLinkHtml = 'Like what you see? Visit the ' +\n",
              "            '<a target=\"_blank\" href=https://colab.research.google.com/notebooks/data_table.ipynb>data table notebook</a>'\n",
              "            + ' to learn more about interactive tables.';\n",
              "          element.innerHTML = '';\n",
              "          dataTable['output_type'] = 'display_data';\n",
              "          await google.colab.output.renderOutput(dataTable, element);\n",
              "          const docLink = document.createElement('div');\n",
              "          docLink.innerHTML = docLinkHtml;\n",
              "          element.appendChild(docLink);\n",
              "        }\n",
              "      </script>\n",
              "    </div>\n",
              "  </div>\n",
              "  "
            ]
          },
          "metadata": {},
          "execution_count": 47
        }
      ],
      "source": [
        "data = df.loc[:,['Annual Income (k$)','Spending Score (1-100)']]\n",
        "data.head()"
      ]
    },
    {
      "cell_type": "markdown",
      "metadata": {
        "id": "akCjSv_MrTzz"
      },
      "source": [
        "(3) DBSCAN 군집화를 실행하기 전, 위에서 만든 data에 대한 정규화를 위해 빈칸(<?>)을 채워주세요."
      ]
    },
    {
      "cell_type": "code",
      "execution_count": 48,
      "metadata": {
        "id": "ySwFij8lrTzz"
      },
      "outputs": [],
      "source": [
        "from sklearn.preprocessing import StandardScaler"
      ]
    },
    {
      "cell_type": "code",
      "execution_count": 49,
      "metadata": {
        "colab": {
          "base_uri": "https://localhost:8080/",
          "height": 206
        },
        "id": "5UrkoAH4rTzz",
        "outputId": "898e7ccf-c6bd-40ee-a7cd-66d4028b4883"
      },
      "outputs": [
        {
          "output_type": "execute_result",
          "data": {
            "text/plain": [
              "   Annual Income (k$)  Spending Score (1-100)\n",
              "0           -1.738999               -0.434801\n",
              "1           -1.738999                1.195704\n",
              "2           -1.700830               -1.715913\n",
              "3           -1.700830                1.040418\n",
              "4           -1.662660               -0.395980"
            ],
            "text/html": [
              "\n",
              "  <div id=\"df-d5bf7166-4889-4e53-ad69-e4e7659bcd85\">\n",
              "    <div class=\"colab-df-container\">\n",
              "      <div>\n",
              "<style scoped>\n",
              "    .dataframe tbody tr th:only-of-type {\n",
              "        vertical-align: middle;\n",
              "    }\n",
              "\n",
              "    .dataframe tbody tr th {\n",
              "        vertical-align: top;\n",
              "    }\n",
              "\n",
              "    .dataframe thead th {\n",
              "        text-align: right;\n",
              "    }\n",
              "</style>\n",
              "<table border=\"1\" class=\"dataframe\">\n",
              "  <thead>\n",
              "    <tr style=\"text-align: right;\">\n",
              "      <th></th>\n",
              "      <th>Annual Income (k$)</th>\n",
              "      <th>Spending Score (1-100)</th>\n",
              "    </tr>\n",
              "  </thead>\n",
              "  <tbody>\n",
              "    <tr>\n",
              "      <th>0</th>\n",
              "      <td>-1.738999</td>\n",
              "      <td>-0.434801</td>\n",
              "    </tr>\n",
              "    <tr>\n",
              "      <th>1</th>\n",
              "      <td>-1.738999</td>\n",
              "      <td>1.195704</td>\n",
              "    </tr>\n",
              "    <tr>\n",
              "      <th>2</th>\n",
              "      <td>-1.700830</td>\n",
              "      <td>-1.715913</td>\n",
              "    </tr>\n",
              "    <tr>\n",
              "      <th>3</th>\n",
              "      <td>-1.700830</td>\n",
              "      <td>1.040418</td>\n",
              "    </tr>\n",
              "    <tr>\n",
              "      <th>4</th>\n",
              "      <td>-1.662660</td>\n",
              "      <td>-0.395980</td>\n",
              "    </tr>\n",
              "  </tbody>\n",
              "</table>\n",
              "</div>\n",
              "      <button class=\"colab-df-convert\" onclick=\"convertToInteractive('df-d5bf7166-4889-4e53-ad69-e4e7659bcd85')\"\n",
              "              title=\"Convert this dataframe to an interactive table.\"\n",
              "              style=\"display:none;\">\n",
              "        \n",
              "  <svg xmlns=\"http://www.w3.org/2000/svg\" height=\"24px\"viewBox=\"0 0 24 24\"\n",
              "       width=\"24px\">\n",
              "    <path d=\"M0 0h24v24H0V0z\" fill=\"none\"/>\n",
              "    <path d=\"M18.56 5.44l.94 2.06.94-2.06 2.06-.94-2.06-.94-.94-2.06-.94 2.06-2.06.94zm-11 1L8.5 8.5l.94-2.06 2.06-.94-2.06-.94L8.5 2.5l-.94 2.06-2.06.94zm10 10l.94 2.06.94-2.06 2.06-.94-2.06-.94-.94-2.06-.94 2.06-2.06.94z\"/><path d=\"M17.41 7.96l-1.37-1.37c-.4-.4-.92-.59-1.43-.59-.52 0-1.04.2-1.43.59L10.3 9.45l-7.72 7.72c-.78.78-.78 2.05 0 2.83L4 21.41c.39.39.9.59 1.41.59.51 0 1.02-.2 1.41-.59l7.78-7.78 2.81-2.81c.8-.78.8-2.07 0-2.86zM5.41 20L4 18.59l7.72-7.72 1.47 1.35L5.41 20z\"/>\n",
              "  </svg>\n",
              "      </button>\n",
              "      \n",
              "  <style>\n",
              "    .colab-df-container {\n",
              "      display:flex;\n",
              "      flex-wrap:wrap;\n",
              "      gap: 12px;\n",
              "    }\n",
              "\n",
              "    .colab-df-convert {\n",
              "      background-color: #E8F0FE;\n",
              "      border: none;\n",
              "      border-radius: 50%;\n",
              "      cursor: pointer;\n",
              "      display: none;\n",
              "      fill: #1967D2;\n",
              "      height: 32px;\n",
              "      padding: 0 0 0 0;\n",
              "      width: 32px;\n",
              "    }\n",
              "\n",
              "    .colab-df-convert:hover {\n",
              "      background-color: #E2EBFA;\n",
              "      box-shadow: 0px 1px 2px rgba(60, 64, 67, 0.3), 0px 1px 3px 1px rgba(60, 64, 67, 0.15);\n",
              "      fill: #174EA6;\n",
              "    }\n",
              "\n",
              "    [theme=dark] .colab-df-convert {\n",
              "      background-color: #3B4455;\n",
              "      fill: #D2E3FC;\n",
              "    }\n",
              "\n",
              "    [theme=dark] .colab-df-convert:hover {\n",
              "      background-color: #434B5C;\n",
              "      box-shadow: 0px 1px 3px 1px rgba(0, 0, 0, 0.15);\n",
              "      filter: drop-shadow(0px 1px 2px rgba(0, 0, 0, 0.3));\n",
              "      fill: #FFFFFF;\n",
              "    }\n",
              "  </style>\n",
              "\n",
              "      <script>\n",
              "        const buttonEl =\n",
              "          document.querySelector('#df-d5bf7166-4889-4e53-ad69-e4e7659bcd85 button.colab-df-convert');\n",
              "        buttonEl.style.display =\n",
              "          google.colab.kernel.accessAllowed ? 'block' : 'none';\n",
              "\n",
              "        async function convertToInteractive(key) {\n",
              "          const element = document.querySelector('#df-d5bf7166-4889-4e53-ad69-e4e7659bcd85');\n",
              "          const dataTable =\n",
              "            await google.colab.kernel.invokeFunction('convertToInteractive',\n",
              "                                                     [key], {});\n",
              "          if (!dataTable) return;\n",
              "\n",
              "          const docLinkHtml = 'Like what you see? Visit the ' +\n",
              "            '<a target=\"_blank\" href=https://colab.research.google.com/notebooks/data_table.ipynb>data table notebook</a>'\n",
              "            + ' to learn more about interactive tables.';\n",
              "          element.innerHTML = '';\n",
              "          dataTable['output_type'] = 'display_data';\n",
              "          await google.colab.output.renderOutput(dataTable, element);\n",
              "          const docLink = document.createElement('div');\n",
              "          docLink.innerHTML = docLinkHtml;\n",
              "          element.appendChild(docLink);\n",
              "        }\n",
              "      </script>\n",
              "    </div>\n",
              "  </div>\n",
              "  "
            ]
          },
          "metadata": {},
          "execution_count": 49
        }
      ],
      "source": [
        "scaler = StandardScaler()\n",
        "data_scale = pd.DataFrame(scaler.fit_transform(data),columns = data.columns)\n",
        "data_scale.head()"
      ]
    },
    {
      "cell_type": "markdown",
      "metadata": {
        "id": "IpuByC7YrTz0"
      },
      "source": [
        "(4) DBSCAN 클래스를 이용해 위에서 생성한 데이터를 군집화하기 위해 빈칸(<?>)을 채워주세요.(eps = 0.4, min_samples=5, metric=\"euclidean\")"
      ]
    },
    {
      "cell_type": "code",
      "execution_count": 50,
      "metadata": {
        "id": "khJncwp7rTz0"
      },
      "outputs": [],
      "source": [
        "from sklearn.cluster import DBSCAN"
      ]
    },
    {
      "cell_type": "code",
      "execution_count": 51,
      "metadata": {
        "id": "m3Gunme5rTz1"
      },
      "outputs": [],
      "source": [
        "dbscan = DBSCAN(eps = 0.4, min_samples=5, metric=\"euclidean\")\n",
        "dbscan_labels =dbscan.fit_predict(data_scale)\n",
        "data_scale[\"cluster\"] = dbscan_labels"
      ]
    },
    {
      "cell_type": "markdown",
      "metadata": {
        "id": "9tYt6RnNrTz2"
      },
      "source": [
        "(5) 위에서 진행한 군집화의 결과를 시각화하겠습니다. 빈칸(<?>)을 채워주세요."
      ]
    },
    {
      "cell_type": "code",
      "execution_count": 53,
      "metadata": {
        "colab": {
          "base_uri": "https://localhost:8080/",
          "height": 282
        },
        "id": "oSwiLvkqrTz2",
        "outputId": "380c624f-3d9b-4648-b214-324099cd35e0"
      },
      "outputs": [
        {
          "output_type": "display_data",
          "data": {
            "text/plain": [
              "<Figure size 432x288 with 1 Axes>"
            ],
            "image/png": "[encoded data removed]"
          },
          "metadata": {
            "needs_background": "light"
          }
        }
      ],
      "source": [
        "for i in range(-1,4):\n",
        "    plt.scatter(data_scale.loc[data_scale[\"cluster\"]==i, \"Annual Income (k$)\"],\n",
        "               data_scale.loc[data_scale[\"cluster\"]==i,\"Spending Score (1-100)\"],\n",
        "                label = \"cluster\" + str(i))\n",
        "    \n",
        "plt.legend()\n",
        "plt.xlabel(\"Annual Income\", size=12)\n",
        "plt.ylabel(\"Spending Score\",size=12)\n",
        "plt.show()"
      ]
    },
    {
      "cell_type": "markdown",
      "metadata": {
        "id": "o3PrRdhlrTz2"
      },
      "source": [
        "(6) cluster의 값이 -1인 경우가 존재하는 것을 확인할 수 있습니다. 해당 값은 무엇을 의미하는지 작성해주세요."
      ]
    },
    {
      "cell_type": "markdown",
      "metadata": {
        "id": "QvQU8RzPrTz3"
      },
      "source": [
        "[답안]\n",
        "\n",
        ": 잡음 포인트"
      ]
    },
    {
      "cell_type": "markdown",
      "metadata": {
        "id": "pD6kdFCPrTz3"
      },
      "source": [
        "3.2\n",
        "\n",
        "(1) 위에서 만든 df 데이터셋을 이용하겠습니다. BayesianGaussianMixture를 사용하여 베이지안 가우시안 모델을 이용한 군집화를 진행하기 위해 빈칸(<?>)을 채워주세요.(n_components=10, n_init=10)"
      ]
    },
    {
      "cell_type": "code",
      "execution_count": 54,
      "metadata": {
        "id": "AwtauL-MrTz3"
      },
      "outputs": [],
      "source": [
        "from sklearn.mixture import BayesianGaussianMixture"
      ]
    },
    {
      "cell_type": "code",
      "execution_count": 55,
      "metadata": {
        "colab": {
          "base_uri": "https://localhost:8080/"
        },
        "id": "XWbAOSanrTz3",
        "outputId": "f36fbd72-55df-4356-ed91-8a6f9926d2f7"
      },
      "outputs": [
        {
          "output_type": "execute_result",
          "data": {
            "text/plain": [
              "BayesianGaussianMixture(n_components=10, n_init=10)"
            ]
          },
          "metadata": {},
          "execution_count": 55
        }
      ],
      "source": [
        "bgm = BayesianGaussianMixture(n_components=10, n_init=10)\n",
        "bgm.fit(df)"
      ]
    },
    {
      "cell_type": "markdown",
      "metadata": {
        "id": "t9rPCUbgrTz3"
      },
      "source": [
        "(2) 몇 개의 컴포넌트가 필요한지 알아내는 코드를 작성해주세요."
      ]
    },
    {
      "cell_type": "code",
      "execution_count": 59,
      "metadata": {
        "colab": {
          "base_uri": "https://localhost:8080/"
        },
        "id": "LrZmzjVzrTz4",
        "outputId": "155b726e-234e-402a-96d0-bd0c1d52aaad"
      },
      "outputs": [
        {
          "output_type": "execute_result",
          "data": {
            "text/plain": [
              "9"
            ]
          },
          "metadata": {},
          "execution_count": 59
        }
      ],
      "source": [
        "(np.round(bgm.weights_,2)>0).sum()\n"
      ]
    },
    {
      "cell_type": "code",
      "source": [],
      "metadata": {
        "id": "W25M1o1KywpN"
      },
      "execution_count": null,
      "outputs": []
    }
  ],
  "metadata": {
    "colab": {
      "collapsed_sections": [],
      "provenance": [],
      "include_colab_link": true
    },
    "kernelspec": {
      "display_name": "Python 3 (ipykernel)",
      "language": "python",
      "name": "python3"
    },
    "language_info": {
      "codemirror_mode": {
        "name": "ipython",
        "version": 3
      },
      "file_extension": ".py",
      "mimetype": "text/x-python",
      "name": "python",
      "nbconvert_exporter": "python",
      "pygments_lexer": "ipython3",
      "version": "3.9.13"
    },
    "vscode": {
      "interpreter": {
        "hash": "aee8b7b246df8f9039afb4144a1f6fd8d2ca17a180786b69acc140d282b71a49"
      }
    }
  },
  "nbformat": 4,
  "nbformat_minor": 0
}