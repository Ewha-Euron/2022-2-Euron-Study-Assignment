{
  "cells": [
    {
      "cell_type": "markdown",
      "id": "6f12edaf",
      "metadata": {
        "id": "6f12edaf"
      },
      "source": [
        "##  Week4 복습과제\n",
        "\n",
        "Week3에 대한 복습과제입니다.  \n",
        "데이터셋(train.csv, mushrooms.csv)을 다운 받아주세요!"
      ]
    },
    {
      "cell_type": "code",
      "execution_count": 2,
      "id": "6719779b",
      "metadata": {
        "id": "6719779b"
      },
      "outputs": [],
      "source": [
        "import pandas as pd\n",
        "import numpy as np\n",
        "import matplotlib.pyplot as plt\n",
        "import seaborn as sns\n",
        "import warnings\n",
        "warnings.filterwarnings('ignore')"
      ]
    },
    {
      "cell_type": "markdown",
      "id": "47bb9a03",
      "metadata": {
        "id": "47bb9a03"
      },
      "source": [
        "#### 'train.csv'으로 train_df를 생성하세요."
      ]
    },
    {
      "cell_type": "code",
      "source": [
        "from google.colab import drive\n",
        "drive.mount('/content/drive')"
      ],
      "metadata": {
        "colab": {
          "base_uri": "https://localhost:8080/"
        },
        "id": "OMvTAhodmTjS",
        "outputId": "5480934f-556a-4160-a5b2-6ca40218a373"
      },
      "id": "OMvTAhodmTjS",
      "execution_count": 3,
      "outputs": [
        {
          "output_type": "stream",
          "name": "stdout",
          "text": [
            "Mounted at /content/drive\n"
          ]
        }
      ]
    },
    {
      "cell_type": "code",
      "execution_count": 4,
      "id": "979db9e6",
      "metadata": {
        "id": "979db9e6",
        "colab": {
          "base_uri": "https://localhost:8080/"
        },
        "outputId": "d8146f1c-89cb-4314-a7e0-7e16e9624c3d"
      },
      "outputs": [
        {
          "output_type": "stream",
          "name": "stdout",
          "text": [
            "/content/drive/MyDrive/[EURON] 파이썬 머신러닝 완벽 가이드\n"
          ]
        }
      ],
      "source": [
        "%cd '/content/drive/MyDrive/[EURON] 파이썬 머신러닝 완벽 가이드'"
      ]
    },
    {
      "cell_type": "code",
      "source": [
        "train_df = pd.read_csv('train.csv')"
      ],
      "metadata": {
        "id": "OCxREZexmaqL"
      },
      "id": "OCxREZexmaqL",
      "execution_count": 5,
      "outputs": []
    },
    {
      "cell_type": "markdown",
      "id": "0874e7b6",
      "metadata": {
        "id": "0874e7b6"
      },
      "source": [
        "#### 데이터 보정을 위해 다음 코드를 실행시켜 주세요."
      ]
    },
    {
      "cell_type": "code",
      "execution_count": 6,
      "id": "d824c2ee",
      "metadata": {
        "id": "d824c2ee"
      },
      "outputs": [],
      "source": [
        "# id 제외\n",
        "\n",
        "train_df = train_df.drop(\"id\", axis = 1)"
      ]
    },
    {
      "cell_type": "markdown",
      "source": [
        "#### LabelEncoder를 사용해 color, type column을 인코딩한 train_df를 만드시오."
      ],
      "metadata": {
        "id": "TkcOzV_k1Fvg"
      },
      "id": "TkcOzV_k1Fvg"
    },
    {
      "cell_type": "code",
      "source": [
        "from sklearn.preprocessing import LabelEncoder\n",
        "\n",
        "encoder = LabelEncoder()\n",
        "train_df['color'] = encoder.fit_transform(train_df['color'])\n",
        "train_df['type'] = encoder.fit_transform(train_df['type'])\n",
        "\n",
        "train_df.head()"
      ],
      "metadata": {
        "id": "FrkaPft31OaX",
        "colab": {
          "base_uri": "https://localhost:8080/",
          "height": 206
        },
        "outputId": "bd16c817-e43c-4f6e-ae59-5b1fec4319e7"
      },
      "id": "FrkaPft31OaX",
      "execution_count": 7,
      "outputs": [
        {
          "output_type": "execute_result",
          "data": {
            "text/plain": [
              "   bone_length  rotting_flesh  hair_length  has_soul  color  type\n",
              "0     0.354512       0.350839     0.465761  0.781142      3     1\n",
              "1     0.575560       0.425868     0.531401  0.439899      4     2\n",
              "2     0.467875       0.354330     0.811616  0.791225      0     1\n",
              "3     0.776652       0.508723     0.636766  0.884464      0     1\n",
              "4     0.566117       0.875862     0.418594  0.636438      4     0"
            ],
            "text/html": [
              "\n",
              "  <div id=\"df-0c950ae8-f4d0-42f4-8840-468b883e36a9\">\n",
              "    <div class=\"colab-df-container\">\n",
              "      <div>\n",
              "<style scoped>\n",
              "    .dataframe tbody tr th:only-of-type {\n",
              "        vertical-align: middle;\n",
              "    }\n",
              "\n",
              "    .dataframe tbody tr th {\n",
              "        vertical-align: top;\n",
              "    }\n",
              "\n",
              "    .dataframe thead th {\n",
              "        text-align: right;\n",
              "    }\n",
              "</style>\n",
              "<table border=\"1\" class=\"dataframe\">\n",
              "  <thead>\n",
              "    <tr style=\"text-align: right;\">\n",
              "      <th></th>\n",
              "      <th>bone_length</th>\n",
              "      <th>rotting_flesh</th>\n",
              "      <th>hair_length</th>\n",
              "      <th>has_soul</th>\n",
              "      <th>color</th>\n",
              "      <th>type</th>\n",
              "    </tr>\n",
              "  </thead>\n",
              "  <tbody>\n",
              "    <tr>\n",
              "      <th>0</th>\n",
              "      <td>0.354512</td>\n",
              "      <td>0.350839</td>\n",
              "      <td>0.465761</td>\n",
              "      <td>0.781142</td>\n",
              "      <td>3</td>\n",
              "      <td>1</td>\n",
              "    </tr>\n",
              "    <tr>\n",
              "      <th>1</th>\n",
              "      <td>0.575560</td>\n",
              "      <td>0.425868</td>\n",
              "      <td>0.531401</td>\n",
              "      <td>0.439899</td>\n",
              "      <td>4</td>\n",
              "      <td>2</td>\n",
              "    </tr>\n",
              "    <tr>\n",
              "      <th>2</th>\n",
              "      <td>0.467875</td>\n",
              "      <td>0.354330</td>\n",
              "      <td>0.811616</td>\n",
              "      <td>0.791225</td>\n",
              "      <td>0</td>\n",
              "      <td>1</td>\n",
              "    </tr>\n",
              "    <tr>\n",
              "      <th>3</th>\n",
              "      <td>0.776652</td>\n",
              "      <td>0.508723</td>\n",
              "      <td>0.636766</td>\n",
              "      <td>0.884464</td>\n",
              "      <td>0</td>\n",
              "      <td>1</td>\n",
              "    </tr>\n",
              "    <tr>\n",
              "      <th>4</th>\n",
              "      <td>0.566117</td>\n",
              "      <td>0.875862</td>\n",
              "      <td>0.418594</td>\n",
              "      <td>0.636438</td>\n",
              "      <td>4</td>\n",
              "      <td>0</td>\n",
              "    </tr>\n",
              "  </tbody>\n",
              "</table>\n",
              "</div>\n",
              "      <button class=\"colab-df-convert\" onclick=\"convertToInteractive('df-0c950ae8-f4d0-42f4-8840-468b883e36a9')\"\n",
              "              title=\"Convert this dataframe to an interactive table.\"\n",
              "              style=\"display:none;\">\n",
              "        \n",
              "  <svg xmlns=\"http://www.w3.org/2000/svg\" height=\"24px\"viewBox=\"0 0 24 24\"\n",
              "       width=\"24px\">\n",
              "    <path d=\"M0 0h24v24H0V0z\" fill=\"none\"/>\n",
              "    <path d=\"M18.56 5.44l.94 2.06.94-2.06 2.06-.94-2.06-.94-.94-2.06-.94 2.06-2.06.94zm-11 1L8.5 8.5l.94-2.06 2.06-.94-2.06-.94L8.5 2.5l-.94 2.06-2.06.94zm10 10l.94 2.06.94-2.06 2.06-.94-2.06-.94-.94-2.06-.94 2.06-2.06.94z\"/><path d=\"M17.41 7.96l-1.37-1.37c-.4-.4-.92-.59-1.43-.59-.52 0-1.04.2-1.43.59L10.3 9.45l-7.72 7.72c-.78.78-.78 2.05 0 2.83L4 21.41c.39.39.9.59 1.41.59.51 0 1.02-.2 1.41-.59l7.78-7.78 2.81-2.81c.8-.78.8-2.07 0-2.86zM5.41 20L4 18.59l7.72-7.72 1.47 1.35L5.41 20z\"/>\n",
              "  </svg>\n",
              "      </button>\n",
              "      \n",
              "  <style>\n",
              "    .colab-df-container {\n",
              "      display:flex;\n",
              "      flex-wrap:wrap;\n",
              "      gap: 12px;\n",
              "    }\n",
              "\n",
              "    .colab-df-convert {\n",
              "      background-color: #E8F0FE;\n",
              "      border: none;\n",
              "      border-radius: 50%;\n",
              "      cursor: pointer;\n",
              "      display: none;\n",
              "      fill: #1967D2;\n",
              "      height: 32px;\n",
              "      padding: 0 0 0 0;\n",
              "      width: 32px;\n",
              "    }\n",
              "\n",
              "    .colab-df-convert:hover {\n",
              "      background-color: #E2EBFA;\n",
              "      box-shadow: 0px 1px 2px rgba(60, 64, 67, 0.3), 0px 1px 3px 1px rgba(60, 64, 67, 0.15);\n",
              "      fill: #174EA6;\n",
              "    }\n",
              "\n",
              "    [theme=dark] .colab-df-convert {\n",
              "      background-color: #3B4455;\n",
              "      fill: #D2E3FC;\n",
              "    }\n",
              "\n",
              "    [theme=dark] .colab-df-convert:hover {\n",
              "      background-color: #434B5C;\n",
              "      box-shadow: 0px 1px 3px 1px rgba(0, 0, 0, 0.15);\n",
              "      filter: drop-shadow(0px 1px 2px rgba(0, 0, 0, 0.3));\n",
              "      fill: #FFFFFF;\n",
              "    }\n",
              "  </style>\n",
              "\n",
              "      <script>\n",
              "        const buttonEl =\n",
              "          document.querySelector('#df-0c950ae8-f4d0-42f4-8840-468b883e36a9 button.colab-df-convert');\n",
              "        buttonEl.style.display =\n",
              "          google.colab.kernel.accessAllowed ? 'block' : 'none';\n",
              "\n",
              "        async function convertToInteractive(key) {\n",
              "          const element = document.querySelector('#df-0c950ae8-f4d0-42f4-8840-468b883e36a9');\n",
              "          const dataTable =\n",
              "            await google.colab.kernel.invokeFunction('convertToInteractive',\n",
              "                                                     [key], {});\n",
              "          if (!dataTable) return;\n",
              "\n",
              "          const docLinkHtml = 'Like what you see? Visit the ' +\n",
              "            '<a target=\"_blank\" href=https://colab.research.google.com/notebooks/data_table.ipynb>data table notebook</a>'\n",
              "            + ' to learn more about interactive tables.';\n",
              "          element.innerHTML = '';\n",
              "          dataTable['output_type'] = 'display_data';\n",
              "          await google.colab.output.renderOutput(dataTable, element);\n",
              "          const docLink = document.createElement('div');\n",
              "          docLink.innerHTML = docLinkHtml;\n",
              "          element.appendChild(docLink);\n",
              "        }\n",
              "      </script>\n",
              "    </div>\n",
              "  </div>\n",
              "  "
            ]
          },
          "metadata": {},
          "execution_count": 7
        }
      ]
    },
    {
      "cell_type": "markdown",
      "source": [
        "#### feature간의 상관관계를 확인하는 heatmap을 출력하시오."
      ],
      "metadata": {
        "id": "i9vP5ij_1s_6"
      },
      "id": "i9vP5ij_1s_6"
    },
    {
      "cell_type": "code",
      "source": [
        "import seaborn as sns\n",
        "\n",
        "plt.figure(figsize=(9,9))\n",
        "data = train_df.corr()\n",
        "sns.heatmap(data)"
      ],
      "metadata": {
        "id": "jlYIKAtf1Yb2",
        "colab": {
          "base_uri": "https://localhost:8080/",
          "height": 560
        },
        "outputId": "35b01f9f-8532-415d-a92b-7fa94edb4950"
      },
      "id": "jlYIKAtf1Yb2",
      "execution_count": 8,
      "outputs": [
        {
          "output_type": "execute_result",
          "data": {
            "text/plain": [
              "<matplotlib.axes._subplots.AxesSubplot at 0x7f8526f900d0>"
            ]
          },
          "metadata": {},
          "execution_count": 8
        },
        {
          "output_type": "display_data",
          "data": {
            "text/plain": [
              "<Figure size 648x648 with 2 Axes>"
            ],
            "image/png": "[encoded data removed]"
          },
          "metadata": {
            "needs_background": "light"
          }
        }
      ]
    },
    {
      "cell_type": "markdown",
      "id": "dffe9164",
      "metadata": {
        "id": "dffe9164"
      },
      "source": [
        "#### 독립변수(X)와 종속변수(y-type)로 분리해주세요(iloc 또는 loc 활용) 그리고 확인해주세요.\n",
        "#### X와 y를 X_train, X_test, y_train, y_test으로 나누시오. (test_size=0.2, random_state=12) "
      ]
    },
    {
      "cell_type": "code",
      "execution_count": 9,
      "id": "e1f4fb30",
      "metadata": {
        "id": "e1f4fb30"
      },
      "outputs": [],
      "source": [
        "from sklearn.model_selection import train_test_split"
      ]
    },
    {
      "cell_type": "code",
      "execution_count": 10,
      "id": "94f2a85c",
      "metadata": {
        "id": "94f2a85c"
      },
      "outputs": [],
      "source": [
        "X = train_df.iloc[:,:-1]\n",
        "y = train_df.iloc[:,5:]"
      ]
    },
    {
      "cell_type": "code",
      "source": [
        "X_train, X_test, y_train, y_test = train_test_split(X, y, test_size=0.2, random_state=120)"
      ],
      "metadata": {
        "id": "CLhsKqQ84yHU"
      },
      "id": "CLhsKqQ84yHU",
      "execution_count": 11,
      "outputs": []
    },
    {
      "cell_type": "markdown",
      "source": [
        "#### Gradient Boost를 활용하여 train 세트를 fit 한 후 test 세트로 예측의 정확도를 출력하시오. (random_state=0,n_estimators=50,learning_rate=0.5)\n"
      ],
      "metadata": {
        "id": "RRRzgi_KhGDC"
      },
      "id": "RRRzgi_KhGDC"
    },
    {
      "cell_type": "code",
      "source": [
        "from sklearn.ensemble import GradientBoostingClassifier\n",
        "from sklearn.metrics import accuracy_score"
      ],
      "metadata": {
        "id": "0S0xMFdDgcLb"
      },
      "id": "0S0xMFdDgcLb",
      "execution_count": 12,
      "outputs": []
    },
    {
      "cell_type": "code",
      "source": [
        "gb_clf = GradientBoostingClassifier(n_estimators=50, learning_rate=0.5, random_state=0)\n",
        "gb_clf.fit(X_train, y_train)\n",
        "pred = gb_clf.predict(X_test)\n",
        "accuracy = accuracy_score(y_test, pred)\n",
        "print('예측 정확도 : {0:.4f}'.format(accuracy))"
      ],
      "metadata": {
        "id": "LZhBzjGYhrc1",
        "colab": {
          "base_uri": "https://localhost:8080/"
        },
        "outputId": "e59219a0-5745-4745-9c49-fb79c8413cd1"
      },
      "id": "LZhBzjGYhrc1",
      "execution_count": 13,
      "outputs": [
        {
          "output_type": "stream",
          "name": "stdout",
          "text": [
            "예측 정확도 : 0.5867\n"
          ]
        }
      ]
    },
    {
      "cell_type": "markdown",
      "source": [
        "#### GBM 하이퍼 파라미터 튜닝을 한 후, 최적의 하이퍼 파라미터를 구하고 정확도를 출력하시오. 위의 값과 정확도를 비교하시오. 이때 n_estimators는 50,100,500, learning_rate는 0.005, 0.1, 0.5,1,10 을 변수로 넣으시오.(gridsearchCV이용,cv=2,verbose=1)"
      ],
      "metadata": {
        "id": "vd_H18-5hz8o"
      },
      "id": "vd_H18-5hz8o"
    },
    {
      "cell_type": "code",
      "source": [
        "from sklearn.model_selection import GridSearchCV\n",
        "\n",
        "params = {'n_estimators':[50,100,500], 'learning_rate':[0.005,0.1,0.5,1,10]}\n",
        "\n",
        "grid_cv = GridSearchCV(gb_clf, params, cv=2, verbose=1)\n",
        "grid_cv.fit(X_train, y_train)\n",
        "print('최적 파라미터 : ',grid_cv.best_params_)\n",
        "print('최고 예측 정확도 : {0:.4f}'.format(grid_cv.best_score_))\n"
      ],
      "metadata": {
        "id": "e8l6ivZ7hwQI",
        "colab": {
          "base_uri": "https://localhost:8080/"
        },
        "outputId": "08fef75a-8859-431b-c1f2-4de3c91ad4e7"
      },
      "id": "e8l6ivZ7hwQI",
      "execution_count": 14,
      "outputs": [
        {
          "output_type": "stream",
          "name": "stdout",
          "text": [
            "Fitting 2 folds for each of 15 candidates, totalling 30 fits\n",
            "최적 파라미터 :  {'learning_rate': 0.5, 'n_estimators': 50}\n",
            "최고 예측 정확도 : 0.7601\n"
          ]
        }
      ]
    },
    {
      "cell_type": "markdown",
      "id": "e4f87798",
      "metadata": {
        "id": "e4f87798"
      },
      "source": [
        "#### 사이킷런 래퍼 클래스 XGBoost를 사용해 train 세트를 fit 한 후 test 세트로 예측의 정확도를 출력하시오. (n_estimators=400, learning_rate = 0.1, max_depth = 3)"
      ]
    },
    {
      "cell_type": "code",
      "execution_count": 15,
      "id": "31188f82",
      "metadata": {
        "id": "31188f82"
      },
      "outputs": [],
      "source": [
        "import xgboost as xgb\n",
        "from xgboost import plot_importance\n",
        "from xgboost import XGBClassifier\n",
        "\n",
        "from sklearn.metrics import accuracy_score"
      ]
    },
    {
      "cell_type": "code",
      "execution_count": 16,
      "id": "af980052",
      "metadata": {
        "id": "af980052",
        "colab": {
          "base_uri": "https://localhost:8080/"
        },
        "outputId": "0ee83151-6036-4fbd-c18c-b20db701337e"
      },
      "outputs": [
        {
          "output_type": "stream",
          "name": "stdout",
          "text": [
            "예측 정확도 : 0.6000\n"
          ]
        }
      ],
      "source": [
        "xgb = XGBClassifier(n_estimators=400, learning_rate=0.1, max_depth=3)\n",
        "xgb.fit(X_train, y_train)\n",
        "pred = xgb.predict(X_test)\n",
        "accuracy = accuracy_score(y_test, pred)\n",
        "print('예측 정확도 : {0:.4f}'.format(accuracy))"
      ]
    },
    {
      "cell_type": "markdown",
      "id": "8cbca7f7",
      "metadata": {
        "id": "8cbca7f7"
      },
      "source": [
        "#### 사이킷런 래퍼 클래스 LightGBM를 사용해 train 세트를 fit 한 후 test 세트로 예측의 정확도를 출력하시오. \n",
        "\n",
        "n_estimators=400\n",
        "조기 중단 파라미터: early_stopping_rounds=100, eval_metric=\"logloss\",  eval_set=evals "
      ]
    },
    {
      "cell_type": "code",
      "execution_count": 17,
      "id": "b0debb5b",
      "metadata": {
        "id": "b0debb5b",
        "colab": {
          "base_uri": "https://localhost:8080/"
        },
        "outputId": "9c140d7e-6aee-4473-b3b0-5c56b90a02c4"
      },
      "outputs": [
        {
          "output_type": "stream",
          "name": "stdout",
          "text": [
            "[1]\tvalid_0's multi_logloss: 1.0582\tvalid_0's multi_logloss: 1.0582\n",
            "Training until validation scores don't improve for 100 rounds.\n",
            "[2]\tvalid_0's multi_logloss: 1.02126\tvalid_0's multi_logloss: 1.02126\n",
            "[3]\tvalid_0's multi_logloss: 0.990058\tvalid_0's multi_logloss: 0.990058\n",
            "[4]\tvalid_0's multi_logloss: 0.963914\tvalid_0's multi_logloss: 0.963914\n",
            "[5]\tvalid_0's multi_logloss: 0.943196\tvalid_0's multi_logloss: 0.943196\n",
            "[6]\tvalid_0's multi_logloss: 0.921984\tvalid_0's multi_logloss: 0.921984\n",
            "[7]\tvalid_0's multi_logloss: 0.903408\tvalid_0's multi_logloss: 0.903408\n",
            "[8]\tvalid_0's multi_logloss: 0.887559\tvalid_0's multi_logloss: 0.887559\n",
            "[9]\tvalid_0's multi_logloss: 0.875751\tvalid_0's multi_logloss: 0.875751\n",
            "[10]\tvalid_0's multi_logloss: 0.866617\tvalid_0's multi_logloss: 0.866617\n",
            "[11]\tvalid_0's multi_logloss: 0.85743\tvalid_0's multi_logloss: 0.85743\n",
            "[12]\tvalid_0's multi_logloss: 0.849555\tvalid_0's multi_logloss: 0.849555\n",
            "[13]\tvalid_0's multi_logloss: 0.842697\tvalid_0's multi_logloss: 0.842697\n",
            "[14]\tvalid_0's multi_logloss: 0.833059\tvalid_0's multi_logloss: 0.833059\n",
            "[15]\tvalid_0's multi_logloss: 0.826087\tvalid_0's multi_logloss: 0.826087\n",
            "[16]\tvalid_0's multi_logloss: 0.819997\tvalid_0's multi_logloss: 0.819997\n",
            "[17]\tvalid_0's multi_logloss: 0.819641\tvalid_0's multi_logloss: 0.819641\n",
            "[18]\tvalid_0's multi_logloss: 0.814244\tvalid_0's multi_logloss: 0.814244\n",
            "[19]\tvalid_0's multi_logloss: 0.811178\tvalid_0's multi_logloss: 0.811178\n",
            "[20]\tvalid_0's multi_logloss: 0.808344\tvalid_0's multi_logloss: 0.808344\n",
            "[21]\tvalid_0's multi_logloss: 0.806152\tvalid_0's multi_logloss: 0.806152\n",
            "[22]\tvalid_0's multi_logloss: 0.80727\tvalid_0's multi_logloss: 0.80727\n",
            "[23]\tvalid_0's multi_logloss: 0.803561\tvalid_0's multi_logloss: 0.803561\n",
            "[24]\tvalid_0's multi_logloss: 0.804245\tvalid_0's multi_logloss: 0.804245\n",
            "[25]\tvalid_0's multi_logloss: 0.806817\tvalid_0's multi_logloss: 0.806817\n",
            "[26]\tvalid_0's multi_logloss: 0.807714\tvalid_0's multi_logloss: 0.807714\n",
            "[27]\tvalid_0's multi_logloss: 0.81068\tvalid_0's multi_logloss: 0.81068\n",
            "[28]\tvalid_0's multi_logloss: 0.812224\tvalid_0's multi_logloss: 0.812224\n",
            "[29]\tvalid_0's multi_logloss: 0.812702\tvalid_0's multi_logloss: 0.812702\n",
            "[30]\tvalid_0's multi_logloss: 0.812877\tvalid_0's multi_logloss: 0.812877\n",
            "[31]\tvalid_0's multi_logloss: 0.81309\tvalid_0's multi_logloss: 0.81309\n",
            "[32]\tvalid_0's multi_logloss: 0.812945\tvalid_0's multi_logloss: 0.812945\n",
            "[33]\tvalid_0's multi_logloss: 0.81134\tvalid_0's multi_logloss: 0.81134\n",
            "[34]\tvalid_0's multi_logloss: 0.814443\tvalid_0's multi_logloss: 0.814443\n",
            "[35]\tvalid_0's multi_logloss: 0.817889\tvalid_0's multi_logloss: 0.817889\n",
            "[36]\tvalid_0's multi_logloss: 0.822303\tvalid_0's multi_logloss: 0.822303\n",
            "[37]\tvalid_0's multi_logloss: 0.826137\tvalid_0's multi_logloss: 0.826137\n",
            "[38]\tvalid_0's multi_logloss: 0.831596\tvalid_0's multi_logloss: 0.831596\n",
            "[39]\tvalid_0's multi_logloss: 0.836814\tvalid_0's multi_logloss: 0.836814\n",
            "[40]\tvalid_0's multi_logloss: 0.841064\tvalid_0's multi_logloss: 0.841064\n",
            "[41]\tvalid_0's multi_logloss: 0.845348\tvalid_0's multi_logloss: 0.845348\n",
            "[42]\tvalid_0's multi_logloss: 0.852286\tvalid_0's multi_logloss: 0.852286\n",
            "[43]\tvalid_0's multi_logloss: 0.855539\tvalid_0's multi_logloss: 0.855539\n",
            "[44]\tvalid_0's multi_logloss: 0.856611\tvalid_0's multi_logloss: 0.856611\n",
            "[45]\tvalid_0's multi_logloss: 0.859297\tvalid_0's multi_logloss: 0.859297\n",
            "[46]\tvalid_0's multi_logloss: 0.860429\tvalid_0's multi_logloss: 0.860429\n",
            "[47]\tvalid_0's multi_logloss: 0.868214\tvalid_0's multi_logloss: 0.868214\n",
            "[48]\tvalid_0's multi_logloss: 0.872255\tvalid_0's multi_logloss: 0.872255\n",
            "[49]\tvalid_0's multi_logloss: 0.87738\tvalid_0's multi_logloss: 0.87738\n",
            "[50]\tvalid_0's multi_logloss: 0.882327\tvalid_0's multi_logloss: 0.882327\n",
            "[51]\tvalid_0's multi_logloss: 0.888804\tvalid_0's multi_logloss: 0.888804\n",
            "[52]\tvalid_0's multi_logloss: 0.897899\tvalid_0's multi_logloss: 0.897899\n",
            "[53]\tvalid_0's multi_logloss: 0.902711\tvalid_0's multi_logloss: 0.902711\n",
            "[54]\tvalid_0's multi_logloss: 0.906211\tvalid_0's multi_logloss: 0.906211\n",
            "[55]\tvalid_0's multi_logloss: 0.91482\tvalid_0's multi_logloss: 0.91482\n",
            "[56]\tvalid_0's multi_logloss: 0.918062\tvalid_0's multi_logloss: 0.918062\n",
            "[57]\tvalid_0's multi_logloss: 0.923774\tvalid_0's multi_logloss: 0.923774\n",
            "[58]\tvalid_0's multi_logloss: 0.926039\tvalid_0's multi_logloss: 0.926039\n",
            "[59]\tvalid_0's multi_logloss: 0.937217\tvalid_0's multi_logloss: 0.937217\n",
            "[60]\tvalid_0's multi_logloss: 0.941305\tvalid_0's multi_logloss: 0.941305\n",
            "[61]\tvalid_0's multi_logloss: 0.945728\tvalid_0's multi_logloss: 0.945728\n",
            "[62]\tvalid_0's multi_logloss: 0.953104\tvalid_0's multi_logloss: 0.953104\n",
            "[63]\tvalid_0's multi_logloss: 0.95946\tvalid_0's multi_logloss: 0.95946\n",
            "[64]\tvalid_0's multi_logloss: 0.960878\tvalid_0's multi_logloss: 0.960878\n",
            "[65]\tvalid_0's multi_logloss: 0.962606\tvalid_0's multi_logloss: 0.962606\n",
            "[66]\tvalid_0's multi_logloss: 0.966864\tvalid_0's multi_logloss: 0.966864\n",
            "[67]\tvalid_0's multi_logloss: 0.970941\tvalid_0's multi_logloss: 0.970941\n",
            "[68]\tvalid_0's multi_logloss: 0.974468\tvalid_0's multi_logloss: 0.974468\n",
            "[69]\tvalid_0's multi_logloss: 0.978145\tvalid_0's multi_logloss: 0.978145\n",
            "[70]\tvalid_0's multi_logloss: 0.982751\tvalid_0's multi_logloss: 0.982751\n",
            "[71]\tvalid_0's multi_logloss: 0.988361\tvalid_0's multi_logloss: 0.988361\n",
            "[72]\tvalid_0's multi_logloss: 0.994833\tvalid_0's multi_logloss: 0.994833\n",
            "[73]\tvalid_0's multi_logloss: 0.998499\tvalid_0's multi_logloss: 0.998499\n",
            "[74]\tvalid_0's multi_logloss: 1.00131\tvalid_0's multi_logloss: 1.00131\n",
            "[75]\tvalid_0's multi_logloss: 1.0044\tvalid_0's multi_logloss: 1.0044\n",
            "[76]\tvalid_0's multi_logloss: 1.00914\tvalid_0's multi_logloss: 1.00914\n",
            "[77]\tvalid_0's multi_logloss: 1.01657\tvalid_0's multi_logloss: 1.01657\n",
            "[78]\tvalid_0's multi_logloss: 1.02027\tvalid_0's multi_logloss: 1.02027\n",
            "[79]\tvalid_0's multi_logloss: 1.02276\tvalid_0's multi_logloss: 1.02276\n",
            "[80]\tvalid_0's multi_logloss: 1.02658\tvalid_0's multi_logloss: 1.02658\n",
            "[81]\tvalid_0's multi_logloss: 1.03617\tvalid_0's multi_logloss: 1.03617\n",
            "[82]\tvalid_0's multi_logloss: 1.04368\tvalid_0's multi_logloss: 1.04368\n",
            "[83]\tvalid_0's multi_logloss: 1.04988\tvalid_0's multi_logloss: 1.04988\n",
            "[84]\tvalid_0's multi_logloss: 1.05784\tvalid_0's multi_logloss: 1.05784\n",
            "[85]\tvalid_0's multi_logloss: 1.06231\tvalid_0's multi_logloss: 1.06231\n",
            "[86]\tvalid_0's multi_logloss: 1.06709\tvalid_0's multi_logloss: 1.06709\n",
            "[87]\tvalid_0's multi_logloss: 1.06843\tvalid_0's multi_logloss: 1.06843\n",
            "[88]\tvalid_0's multi_logloss: 1.07555\tvalid_0's multi_logloss: 1.07555\n",
            "[89]\tvalid_0's multi_logloss: 1.08277\tvalid_0's multi_logloss: 1.08277\n",
            "[90]\tvalid_0's multi_logloss: 1.08708\tvalid_0's multi_logloss: 1.08708\n",
            "[91]\tvalid_0's multi_logloss: 1.09338\tvalid_0's multi_logloss: 1.09338\n",
            "[92]\tvalid_0's multi_logloss: 1.09589\tvalid_0's multi_logloss: 1.09589\n",
            "[93]\tvalid_0's multi_logloss: 1.10055\tvalid_0's multi_logloss: 1.10055\n",
            "[94]\tvalid_0's multi_logloss: 1.10879\tvalid_0's multi_logloss: 1.10879\n",
            "[95]\tvalid_0's multi_logloss: 1.11451\tvalid_0's multi_logloss: 1.11451\n",
            "[96]\tvalid_0's multi_logloss: 1.12137\tvalid_0's multi_logloss: 1.12137\n",
            "[97]\tvalid_0's multi_logloss: 1.12941\tvalid_0's multi_logloss: 1.12941\n",
            "[98]\tvalid_0's multi_logloss: 1.13701\tvalid_0's multi_logloss: 1.13701\n",
            "[99]\tvalid_0's multi_logloss: 1.14237\tvalid_0's multi_logloss: 1.14237\n",
            "[100]\tvalid_0's multi_logloss: 1.14902\tvalid_0's multi_logloss: 1.14902\n",
            "[101]\tvalid_0's multi_logloss: 1.15543\tvalid_0's multi_logloss: 1.15543\n",
            "[102]\tvalid_0's multi_logloss: 1.1633\tvalid_0's multi_logloss: 1.1633\n",
            "[103]\tvalid_0's multi_logloss: 1.16619\tvalid_0's multi_logloss: 1.16619\n",
            "[104]\tvalid_0's multi_logloss: 1.17118\tvalid_0's multi_logloss: 1.17118\n",
            "[105]\tvalid_0's multi_logloss: 1.16918\tvalid_0's multi_logloss: 1.16918\n",
            "[106]\tvalid_0's multi_logloss: 1.17608\tvalid_0's multi_logloss: 1.17608\n",
            "[107]\tvalid_0's multi_logloss: 1.18309\tvalid_0's multi_logloss: 1.18309\n",
            "[108]\tvalid_0's multi_logloss: 1.18943\tvalid_0's multi_logloss: 1.18943\n",
            "[109]\tvalid_0's multi_logloss: 1.19504\tvalid_0's multi_logloss: 1.19504\n",
            "[110]\tvalid_0's multi_logloss: 1.19961\tvalid_0's multi_logloss: 1.19961\n",
            "[111]\tvalid_0's multi_logloss: 1.20239\tvalid_0's multi_logloss: 1.20239\n",
            "[112]\tvalid_0's multi_logloss: 1.21092\tvalid_0's multi_logloss: 1.21092\n",
            "[113]\tvalid_0's multi_logloss: 1.21684\tvalid_0's multi_logloss: 1.21684\n",
            "[114]\tvalid_0's multi_logloss: 1.22279\tvalid_0's multi_logloss: 1.22279\n",
            "[115]\tvalid_0's multi_logloss: 1.22959\tvalid_0's multi_logloss: 1.22959\n",
            "[116]\tvalid_0's multi_logloss: 1.23946\tvalid_0's multi_logloss: 1.23946\n",
            "[117]\tvalid_0's multi_logloss: 1.24772\tvalid_0's multi_logloss: 1.24772\n",
            "[118]\tvalid_0's multi_logloss: 1.25602\tvalid_0's multi_logloss: 1.25602\n",
            "[119]\tvalid_0's multi_logloss: 1.26508\tvalid_0's multi_logloss: 1.26508\n",
            "[120]\tvalid_0's multi_logloss: 1.26718\tvalid_0's multi_logloss: 1.26718\n",
            "[121]\tvalid_0's multi_logloss: 1.27275\tvalid_0's multi_logloss: 1.27275\n",
            "[122]\tvalid_0's multi_logloss: 1.27598\tvalid_0's multi_logloss: 1.27598\n",
            "[123]\tvalid_0's multi_logloss: 1.27401\tvalid_0's multi_logloss: 1.27401\n",
            "Early stopping, best iteration is:\n",
            "[23]\tvalid_0's multi_logloss: 0.803561\tvalid_0's multi_logloss: 0.803561\n",
            "예측 정확도 : 0.6133\n"
          ]
        }
      ],
      "source": [
        "import lightgbm\n",
        "from lightgbm import LGBMClassifier\n",
        "\n",
        "evals = [(X_test, y_test)]\n",
        "lgbm = LGBMClassifier(n_estimators=400)\n",
        "lgbm.fit(X_train, y_train, early_stopping_rounds=100, eval_metric='logloss', eval_set=evals)\n",
        "pred = lgbm.predict(X_test)\n",
        "accuracy = accuracy_score(y_test, pred)\n",
        "print('예측 정확도 : {0:.4f}'.format(accuracy))"
      ]
    },
    {
      "cell_type": "markdown",
      "source": [
        "## Stacking 실습"
      ],
      "metadata": {
        "id": "DQ3Lnuevoz4w"
      },
      "id": "DQ3Lnuevoz4w"
    },
    {
      "cell_type": "markdown",
      "source": [
        "CV set 기반 stacking을 통해 앙상블 모델을 만드려고 합니다.    \n",
        "개별 모델이 교차검증을 통해 최종 모델이 사용할 학습용, 테스트용 데이터를 만드는 함수를 생성하시오.\n",
        "```\n",
        "def get_stacking_dataset(model, X_train, y_train, X_test, n_folds):\n",
        "    return train_fold_pred , test_pred_mean\n",
        "```"
      ],
      "metadata": {
        "id": "FSqK0PzP-YmZ"
      },
      "id": "FSqK0PzP-YmZ"
    },
    {
      "cell_type": "code",
      "source": [
        "from sklearn.model_selection import KFold"
      ],
      "metadata": {
        "id": "2rAXie71wLoS"
      },
      "id": "2rAXie71wLoS",
      "execution_count": 18,
      "outputs": []
    },
    {
      "cell_type": "code",
      "source": [
        "def get_stacking_dataset(model, X_train, y_train, X_test, n_folds):\n",
        "  kfold = KFold(n_splits=n_folds, shuffle=False)\n",
        "  train_fold_pred = np.zeros((X_train.shape[0],1))\n",
        "  test_pred_mean = np.zeros((X_test.shape[0],n_folds))\n",
        "\n",
        "  for fold_cnt, (train_index, valid_index) in enumerate(kfold.split(X_train)):\n",
        "    X_tr = X_train[train_index]\n",
        "    y_tr = y_train[train_index]\n",
        "    X_val = X_train[valid_index]\n",
        "\n",
        "    model.fit(X_tr, y_tr)\n",
        "    train_fold_pred[valid_index, :] = model.predict(X_val).reshape(-1,1)\n",
        "    test_pred_mean[:,fold_cnt] = model.predict(X_test)\n",
        "\n",
        "  test_pred_mean = np.mean(test_pred_mean, axis=1).reshape(-1,1)\n",
        "\n",
        "  return train_fold_pred, test_pred_mean"
      ],
      "metadata": {
        "id": "wxGOf8YapU_C"
      },
      "id": "wxGOf8YapU_C",
      "execution_count": 19,
      "outputs": []
    },
    {
      "cell_type": "markdown",
      "source": [
        "스태킹에 사용될 개별 모델을 생성하시오.\n",
        "\n",
        "개별 모델:  KNN(n_neighbors=4), 랜덤 포레스트(n_estimators=100, random_state=0), 결정 트리, AdaBoost(n_estimators=100), LightGBM(n_estimators=400)\n",
        "\n",
        "최종 모델: 로지스틱 회귀 (C=10)"
      ],
      "metadata": {
        "id": "KMgeLW3NA8Q5"
      },
      "id": "KMgeLW3NA8Q5"
    },
    {
      "cell_type": "code",
      "source": [
        "from sklearn.neighbors import KNeighborsClassifier\n",
        "from sklearn.ensemble import RandomForestClassifier\n",
        "from sklearn.ensemble import AdaBoostClassifier\n",
        "from sklearn.tree import DecisionTreeClassifier\n",
        "import lightgbm\n",
        "from lightgbm import LGBMClassifier\n",
        "from sklearn.linear_model import LogisticRegression\n",
        "\n",
        "knn = KNeighborsClassifier(n_neighbors=4)\n",
        "rf = RandomForestClassifier(n_estimators=100, random_state=0)\n",
        "dt = DecisionTreeClassifier()\n",
        "ada = AdaBoostClassifier(n_estimators=100)\n",
        "lgbm = LGBMClassifier(n_estimators=400)\n",
        "\n",
        "lr_final = LogisticRegression(C=10)"
      ],
      "metadata": {
        "id": "PvuuPu9Op1eb"
      },
      "id": "PvuuPu9Op1eb",
      "execution_count": 20,
      "outputs": []
    },
    {
      "cell_type": "markdown",
      "source": [
        "위에서 생성한 함수를 사용해 개별 모델을 학습, 예측시켜 메타모델에 사용될 학습용 데이터와 테스트용 데이터를 생성하고, 스태킹하시오.  \n",
        "fold 수 = 6  \n",
        "학습용 데이터 : stacked_X_train  \n",
        "테스트용 데이터 : stacked_X_test"
      ],
      "metadata": {
        "id": "Wew3mwTxBWAZ"
      },
      "id": "Wew3mwTxBWAZ"
    },
    {
      "cell_type": "code",
      "source": [
        "knn_train, knn_test = get_stacking_dataset(knn, X_train, y_train, X_test, 6)\n",
        "rf_train, rf_test = get_stacking_dataset(rf, X_train, y_train, X_test, 6)\n",
        "dt_train, dt_test = get_stacking_dataset(dt, X_train, y_train, X_test, 6)\n",
        "ada_train, ada_test = get_stacking_dataset(ada, X_train, y_train, X_test, 6)\n",
        "lgbm_train,lgbm_test = get_stacking_dataset(lgbm, X_train, y_train, X_test, 6)"
      ],
      "metadata": {
        "id": "lJI0HG3Bp2TC",
        "colab": {
          "base_uri": "https://localhost:8080/",
          "height": 411
        },
        "outputId": "6000bbde-741d-4349-9adb-b83c4cc64caf"
      },
      "id": "lJI0HG3Bp2TC",
      "execution_count": 21,
      "outputs": [
        {
          "output_type": "error",
          "ename": "KeyError",
          "evalue": "ignored",
          "traceback": [
            "\u001b[0;31m---------------------------------------------------------------------------\u001b[0m",
            "\u001b[0;31mKeyError\u001b[0m                                  Traceback (most recent call last)",
            "\u001b[0;32m<ipython-input-21-0489b139beda>\u001b[0m in \u001b[0;36m<module>\u001b[0;34m\u001b[0m\n\u001b[0;32m----> 1\u001b[0;31m \u001b[0mknn_train\u001b[0m\u001b[0;34m,\u001b[0m \u001b[0mknn_test\u001b[0m \u001b[0;34m=\u001b[0m \u001b[0mget_stacking_dataset\u001b[0m\u001b[0;34m(\u001b[0m\u001b[0mknn\u001b[0m\u001b[0;34m,\u001b[0m \u001b[0mX_train\u001b[0m\u001b[0;34m,\u001b[0m \u001b[0my_train\u001b[0m\u001b[0;34m,\u001b[0m \u001b[0mX_test\u001b[0m\u001b[0;34m,\u001b[0m \u001b[0;36m6\u001b[0m\u001b[0;34m)\u001b[0m\u001b[0;34m\u001b[0m\u001b[0;34m\u001b[0m\u001b[0m\n\u001b[0m\u001b[1;32m      2\u001b[0m \u001b[0mrf_train\u001b[0m\u001b[0;34m,\u001b[0m \u001b[0mrf_test\u001b[0m \u001b[0;34m=\u001b[0m \u001b[0mget_stacking_dataset\u001b[0m\u001b[0;34m(\u001b[0m\u001b[0mrf\u001b[0m\u001b[0;34m,\u001b[0m \u001b[0mX_train\u001b[0m\u001b[0;34m,\u001b[0m \u001b[0my_train\u001b[0m\u001b[0;34m,\u001b[0m \u001b[0mX_test\u001b[0m\u001b[0;34m,\u001b[0m \u001b[0;36m6\u001b[0m\u001b[0;34m)\u001b[0m\u001b[0;34m\u001b[0m\u001b[0;34m\u001b[0m\u001b[0m\n\u001b[1;32m      3\u001b[0m \u001b[0mdt_train\u001b[0m\u001b[0;34m,\u001b[0m \u001b[0mdt_test\u001b[0m \u001b[0;34m=\u001b[0m \u001b[0mget_stacking_dataset\u001b[0m\u001b[0;34m(\u001b[0m\u001b[0mdt\u001b[0m\u001b[0;34m,\u001b[0m \u001b[0mX_train\u001b[0m\u001b[0;34m,\u001b[0m \u001b[0my_train\u001b[0m\u001b[0;34m,\u001b[0m \u001b[0mX_test\u001b[0m\u001b[0;34m,\u001b[0m \u001b[0;36m6\u001b[0m\u001b[0;34m)\u001b[0m\u001b[0;34m\u001b[0m\u001b[0;34m\u001b[0m\u001b[0m\n\u001b[1;32m      4\u001b[0m \u001b[0mada_train\u001b[0m\u001b[0;34m,\u001b[0m \u001b[0mada_test\u001b[0m \u001b[0;34m=\u001b[0m \u001b[0mget_stacking_dataset\u001b[0m\u001b[0;34m(\u001b[0m\u001b[0mada\u001b[0m\u001b[0;34m,\u001b[0m \u001b[0mX_train\u001b[0m\u001b[0;34m,\u001b[0m \u001b[0my_train\u001b[0m\u001b[0;34m,\u001b[0m \u001b[0mX_test\u001b[0m\u001b[0;34m,\u001b[0m \u001b[0;36m6\u001b[0m\u001b[0;34m)\u001b[0m\u001b[0;34m\u001b[0m\u001b[0;34m\u001b[0m\u001b[0m\n\u001b[1;32m      5\u001b[0m \u001b[0mlgbm_train\u001b[0m\u001b[0;34m,\u001b[0m\u001b[0mlgbm_test\u001b[0m \u001b[0;34m=\u001b[0m \u001b[0mget_stacking_dataset\u001b[0m\u001b[0;34m(\u001b[0m\u001b[0mlgbm\u001b[0m\u001b[0;34m,\u001b[0m \u001b[0mX_train\u001b[0m\u001b[0;34m,\u001b[0m \u001b[0my_train\u001b[0m\u001b[0;34m,\u001b[0m \u001b[0mX_test\u001b[0m\u001b[0;34m,\u001b[0m \u001b[0;36m6\u001b[0m\u001b[0;34m)\u001b[0m\u001b[0;34m\u001b[0m\u001b[0;34m\u001b[0m\u001b[0m\n",
            "\u001b[0;32m<ipython-input-19-42e36de06af3>\u001b[0m in \u001b[0;36mget_stacking_dataset\u001b[0;34m(model, X_train, y_train, X_test, n_folds)\u001b[0m\n\u001b[1;32m      5\u001b[0m \u001b[0;34m\u001b[0m\u001b[0m\n\u001b[1;32m      6\u001b[0m   \u001b[0;32mfor\u001b[0m \u001b[0mfold_cnt\u001b[0m\u001b[0;34m,\u001b[0m \u001b[0;34m(\u001b[0m\u001b[0mtrain_index\u001b[0m\u001b[0;34m,\u001b[0m \u001b[0mvalid_index\u001b[0m\u001b[0;34m)\u001b[0m \u001b[0;32min\u001b[0m \u001b[0menumerate\u001b[0m\u001b[0;34m(\u001b[0m\u001b[0mkfold\u001b[0m\u001b[0;34m.\u001b[0m\u001b[0msplit\u001b[0m\u001b[0;34m(\u001b[0m\u001b[0mX_train\u001b[0m\u001b[0;34m)\u001b[0m\u001b[0;34m)\u001b[0m\u001b[0;34m:\u001b[0m\u001b[0;34m\u001b[0m\u001b[0;34m\u001b[0m\u001b[0m\n\u001b[0;32m----> 7\u001b[0;31m     \u001b[0mX_tr\u001b[0m \u001b[0;34m=\u001b[0m \u001b[0mX_train\u001b[0m\u001b[0;34m[\u001b[0m\u001b[0mtrain_index\u001b[0m\u001b[0;34m]\u001b[0m\u001b[0;34m\u001b[0m\u001b[0;34m\u001b[0m\u001b[0m\n\u001b[0m\u001b[1;32m      8\u001b[0m     \u001b[0my_tr\u001b[0m \u001b[0;34m=\u001b[0m \u001b[0my_train\u001b[0m\u001b[0;34m[\u001b[0m\u001b[0mtrain_index\u001b[0m\u001b[0;34m]\u001b[0m\u001b[0;34m\u001b[0m\u001b[0;34m\u001b[0m\u001b[0m\n\u001b[1;32m      9\u001b[0m     \u001b[0mX_val\u001b[0m \u001b[0;34m=\u001b[0m \u001b[0mX_train\u001b[0m\u001b[0;34m[\u001b[0m\u001b[0mvalid_index\u001b[0m\u001b[0;34m]\u001b[0m\u001b[0;34m\u001b[0m\u001b[0;34m\u001b[0m\u001b[0m\n",
            "\u001b[0;32m/usr/local/lib/python3.7/dist-packages/pandas/core/frame.py\u001b[0m in \u001b[0;36m__getitem__\u001b[0;34m(self, key)\u001b[0m\n\u001b[1;32m   3462\u001b[0m             \u001b[0;32mif\u001b[0m \u001b[0mis_iterator\u001b[0m\u001b[0;34m(\u001b[0m\u001b[0mkey\u001b[0m\u001b[0;34m)\u001b[0m\u001b[0;34m:\u001b[0m\u001b[0;34m\u001b[0m\u001b[0;34m\u001b[0m\u001b[0m\n\u001b[1;32m   3463\u001b[0m                 \u001b[0mkey\u001b[0m \u001b[0;34m=\u001b[0m \u001b[0mlist\u001b[0m\u001b[0;34m(\u001b[0m\u001b[0mkey\u001b[0m\u001b[0;34m)\u001b[0m\u001b[0;34m\u001b[0m\u001b[0;34m\u001b[0m\u001b[0m\n\u001b[0;32m-> 3464\u001b[0;31m             \u001b[0mindexer\u001b[0m \u001b[0;34m=\u001b[0m \u001b[0mself\u001b[0m\u001b[0;34m.\u001b[0m\u001b[0mloc\u001b[0m\u001b[0;34m.\u001b[0m\u001b[0m_get_listlike_indexer\u001b[0m\u001b[0;34m(\u001b[0m\u001b[0mkey\u001b[0m\u001b[0;34m,\u001b[0m \u001b[0maxis\u001b[0m\u001b[0;34m=\u001b[0m\u001b[0;36m1\u001b[0m\u001b[0;34m)\u001b[0m\u001b[0;34m[\u001b[0m\u001b[0;36m1\u001b[0m\u001b[0;34m]\u001b[0m\u001b[0;34m\u001b[0m\u001b[0;34m\u001b[0m\u001b[0m\n\u001b[0m\u001b[1;32m   3465\u001b[0m \u001b[0;34m\u001b[0m\u001b[0m\n\u001b[1;32m   3466\u001b[0m         \u001b[0;31m# take() does not accept boolean indexers\u001b[0m\u001b[0;34m\u001b[0m\u001b[0;34m\u001b[0m\u001b[0;34m\u001b[0m\u001b[0m\n",
            "\u001b[0;32m/usr/local/lib/python3.7/dist-packages/pandas/core/indexing.py\u001b[0m in \u001b[0;36m_get_listlike_indexer\u001b[0;34m(self, key, axis)\u001b[0m\n\u001b[1;32m   1312\u001b[0m             \u001b[0mkeyarr\u001b[0m\u001b[0;34m,\u001b[0m \u001b[0mindexer\u001b[0m\u001b[0;34m,\u001b[0m \u001b[0mnew_indexer\u001b[0m \u001b[0;34m=\u001b[0m \u001b[0max\u001b[0m\u001b[0;34m.\u001b[0m\u001b[0m_reindex_non_unique\u001b[0m\u001b[0;34m(\u001b[0m\u001b[0mkeyarr\u001b[0m\u001b[0;34m)\u001b[0m\u001b[0;34m\u001b[0m\u001b[0;34m\u001b[0m\u001b[0m\n\u001b[1;32m   1313\u001b[0m \u001b[0;34m\u001b[0m\u001b[0m\n\u001b[0;32m-> 1314\u001b[0;31m         \u001b[0mself\u001b[0m\u001b[0;34m.\u001b[0m\u001b[0m_validate_read_indexer\u001b[0m\u001b[0;34m(\u001b[0m\u001b[0mkeyarr\u001b[0m\u001b[0;34m,\u001b[0m \u001b[0mindexer\u001b[0m\u001b[0;34m,\u001b[0m \u001b[0maxis\u001b[0m\u001b[0;34m)\u001b[0m\u001b[0;34m\u001b[0m\u001b[0;34m\u001b[0m\u001b[0m\n\u001b[0m\u001b[1;32m   1315\u001b[0m \u001b[0;34m\u001b[0m\u001b[0m\n\u001b[1;32m   1316\u001b[0m         if needs_i8_conversion(ax.dtype) or isinstance(\n",
            "\u001b[0;32m/usr/local/lib/python3.7/dist-packages/pandas/core/indexing.py\u001b[0m in \u001b[0;36m_validate_read_indexer\u001b[0;34m(self, key, indexer, axis)\u001b[0m\n\u001b[1;32m   1372\u001b[0m                 \u001b[0;32mif\u001b[0m \u001b[0muse_interval_msg\u001b[0m\u001b[0;34m:\u001b[0m\u001b[0;34m\u001b[0m\u001b[0;34m\u001b[0m\u001b[0m\n\u001b[1;32m   1373\u001b[0m                     \u001b[0mkey\u001b[0m \u001b[0;34m=\u001b[0m \u001b[0mlist\u001b[0m\u001b[0;34m(\u001b[0m\u001b[0mkey\u001b[0m\u001b[0;34m)\u001b[0m\u001b[0;34m\u001b[0m\u001b[0;34m\u001b[0m\u001b[0m\n\u001b[0;32m-> 1374\u001b[0;31m                 \u001b[0;32mraise\u001b[0m \u001b[0mKeyError\u001b[0m\u001b[0;34m(\u001b[0m\u001b[0;34mf\"None of [{key}] are in the [{axis_name}]\"\u001b[0m\u001b[0;34m)\u001b[0m\u001b[0;34m\u001b[0m\u001b[0;34m\u001b[0m\u001b[0m\n\u001b[0m\u001b[1;32m   1375\u001b[0m \u001b[0;34m\u001b[0m\u001b[0m\n\u001b[1;32m   1376\u001b[0m             \u001b[0mnot_found\u001b[0m \u001b[0;34m=\u001b[0m \u001b[0mlist\u001b[0m\u001b[0;34m(\u001b[0m\u001b[0mensure_index\u001b[0m\u001b[0;34m(\u001b[0m\u001b[0mkey\u001b[0m\u001b[0;34m)\u001b[0m\u001b[0;34m[\u001b[0m\u001b[0mmissing_mask\u001b[0m\u001b[0;34m.\u001b[0m\u001b[0mnonzero\u001b[0m\u001b[0;34m(\u001b[0m\u001b[0;34m)\u001b[0m\u001b[0;34m[\u001b[0m\u001b[0;36m0\u001b[0m\u001b[0;34m]\u001b[0m\u001b[0;34m]\u001b[0m\u001b[0;34m.\u001b[0m\u001b[0munique\u001b[0m\u001b[0;34m(\u001b[0m\u001b[0;34m)\u001b[0m\u001b[0;34m)\u001b[0m\u001b[0;34m\u001b[0m\u001b[0;34m\u001b[0m\u001b[0m\n",
            "\u001b[0;31mKeyError\u001b[0m: \"None of [Int64Index([ 50,  51,  52,  53,  54,  55,  56,  57,  58,  59,\\n            ...\\n            286, 287, 288, 289, 290, 291, 292, 293, 294, 295],\\n           dtype='int64', length=246)] are in the [columns]\""
          ]
        }
      ]
    },
    {
      "cell_type": "code",
      "source": [
        "stacked_X_train = np.concatenate((knn_train, rf_train, dt_train, ada_train, lgbm_train ), axis=1)\n",
        "stacked_X_test = np.concatenate((knn_test, rf_test, dt_test, ada_test, lgbm_test ), axis=1)\n",
        "\n",
        "print('Original train / test : ', X_train.shape, ' / ', X_test.shape)\n",
        "print('Stacking train / test : ', stacked_X_train.shape, ' / ', stacked_X_test.shape)"
      ],
      "metadata": {
        "id": "NtuEJGkep6EV"
      },
      "id": "NtuEJGkep6EV",
      "execution_count": null,
      "outputs": []
    },
    {
      "cell_type": "markdown",
      "source": [
        "최종 모델 (logistic regression)을 학습시키고, 정확도를 구하시오."
      ],
      "metadata": {
        "id": "z1wPcXvNHH8t"
      },
      "id": "z1wPcXvNHH8t"
    },
    {
      "cell_type": "code",
      "source": [
        "lr_final.fit(stacked_X_train, y_train)\n",
        "pred = lr_final.predict(stacked_X_test)\n",
        "accuracy = accuracy_score(y_test, pred)\n",
        "print('정확도 : {0:.4f}'.format(accuracy))"
      ],
      "metadata": {
        "id": "OFqd1by6p2z1"
      },
      "id": "OFqd1by6p2z1",
      "execution_count": null,
      "outputs": []
    },
    {
      "cell_type": "markdown",
      "source": [
        "### CatBoost\n",
        "\n",
        "범주형 변수가 많은 데이터에 catboost를 적용해봅시다.\n",
        "\n",
        "데이터 출처:\n",
        "https://www.kaggle.com/datasets/uciml/mushroom-classification\n"
      ],
      "metadata": {
        "id": "mZEcyqY79nZM"
      },
      "id": "mZEcyqY79nZM"
    },
    {
      "cell_type": "code",
      "source": [
        "# mushrooms.csv 파일을 사용합니다.\n",
        "\n",
        "mushroom_df = pd.read_csv('mushrooms.csv')"
      ],
      "metadata": {
        "id": "mbSevRzjIHKs"
      },
      "execution_count": 38,
      "outputs": [],
      "id": "mbSevRzjIHKs"
    },
    {
      "cell_type": "markdown",
      "source": [
        "mushroom_df feature들의 data type을 확인하시오."
      ],
      "metadata": {
        "id": "AjLa99HnIZ1M"
      },
      "id": "AjLa99HnIZ1M"
    },
    {
      "cell_type": "code",
      "source": [
        "mushroom_df.dtypes"
      ],
      "metadata": {
        "id": "Gs16WW_rp7d2",
        "colab": {
          "base_uri": "https://localhost:8080/"
        },
        "outputId": "7e4c0c32-c52e-4c1c-d647-68901c2e33f5"
      },
      "id": "Gs16WW_rp7d2",
      "execution_count": 39,
      "outputs": [
        {
          "output_type": "execute_result",
          "data": {
            "text/plain": [
              "class                       object\n",
              "cap-shape                   object\n",
              "cap-surface                 object\n",
              "cap-color                   object\n",
              "bruises                     object\n",
              "odor                        object\n",
              "gill-attachment             object\n",
              "gill-spacing                object\n",
              "gill-size                   object\n",
              "gill-color                  object\n",
              "stalk-shape                 object\n",
              "stalk-root                  object\n",
              "stalk-surface-above-ring    object\n",
              "stalk-surface-below-ring    object\n",
              "stalk-color-above-ring      object\n",
              "stalk-color-below-ring      object\n",
              "veil-type                   object\n",
              "veil-color                  object\n",
              "ring-number                 object\n",
              "ring-type                   object\n",
              "spore-print-color           object\n",
              "population                  object\n",
              "habitat                     object\n",
              "dtype: object"
            ]
          },
          "metadata": {},
          "execution_count": 39
        }
      ]
    },
    {
      "cell_type": "code",
      "source": [
        "import pandas as pd\n",
        "mushroom_df = pd.get_dummies(mushroom_df)\n",
        "mushroom_df.dtypes"
      ],
      "metadata": {
        "colab": {
          "base_uri": "https://localhost:8080/"
        },
        "id": "EUiKw7EtNEND",
        "outputId": "e1fcc7e0-0cbd-4caa-975b-f7dcd0e8e9af"
      },
      "id": "EUiKw7EtNEND",
      "execution_count": 44,
      "outputs": [
        {
          "output_type": "execute_result",
          "data": {
            "text/plain": [
              "class          int64\n",
              "cap-shape      int64\n",
              "cap-surface    int64\n",
              "cap-color      int64\n",
              "bruises        int64\n",
              "               ...  \n",
              "habitat_l      uint8\n",
              "habitat_m      uint8\n",
              "habitat_p      uint8\n",
              "habitat_u      uint8\n",
              "habitat_w      uint8\n",
              "Length: 100, dtype: object"
            ]
          },
          "metadata": {},
          "execution_count": 44
        }
      ]
    },
    {
      "cell_type": "markdown",
      "source": [
        "feature와 target을 각각 X_mushroom, y_mushroom으로 분리하고,  \n",
        "train_test_split 함수로 train, test set을 분리하시오. (test size = 0.2)"
      ],
      "metadata": {
        "id": "twu4cpQMKHTM"
      },
      "id": "twu4cpQMKHTM"
    },
    {
      "cell_type": "code",
      "source": [
        "X_mushroom = mushroom_df.drop(['class'],axis=1,inplace=False)\n",
        "y_mushroom = mushroom_df['class']\n",
        "X_train, X_test, y_train, y_test = train_test_split(X_mushroom, y_mushroom, test_size=0.2)"
      ],
      "metadata": {
        "id": "T4Qwnz0Kp8Aj"
      },
      "id": "T4Qwnz0Kp8Aj",
      "execution_count": 45,
      "outputs": []
    },
    {
      "cell_type": "markdown",
      "source": [
        "CatBoostClassifier를 불러오고, Pool 함수를 이용해 범주형 변수를 처리하도록 train_pool, test_pool을 만드시오."
      ],
      "metadata": {
        "id": "FAkKKfY9JC5U"
      },
      "id": "FAkKKfY9JC5U"
    },
    {
      "cell_type": "code",
      "source": [
        "!pip install catboost"
      ],
      "metadata": {
        "id": "LAFxT8bVIEyN",
        "colab": {
          "base_uri": "https://localhost:8080/"
        },
        "outputId": "636477aa-4d24-4a25-a9c3-d9e2dd7a646d"
      },
      "execution_count": 25,
      "outputs": [
        {
          "output_type": "stream",
          "name": "stdout",
          "text": [
            "Looking in indexes: https://pypi.org/simple, https://us-python.pkg.dev/colab-wheels/public/simple/\n",
            "Collecting catboost\n",
            "  Downloading catboost-1.0.6-cp37-none-manylinux1_x86_64.whl (76.6 MB)\n",
            "\u001b[K     |████████████████████████████████| 76.6 MB 1.2 MB/s \n",
            "\u001b[?25hRequirement already satisfied: six in /usr/local/lib/python3.7/dist-packages (from catboost) (1.15.0)\n",
            "Requirement already satisfied: matplotlib in /usr/local/lib/python3.7/dist-packages (from catboost) (3.2.2)\n",
            "Requirement already satisfied: scipy in /usr/local/lib/python3.7/dist-packages (from catboost) (1.7.3)\n",
            "Requirement already satisfied: pandas>=0.24.0 in /usr/local/lib/python3.7/dist-packages (from catboost) (1.3.5)\n",
            "Requirement already satisfied: graphviz in /usr/local/lib/python3.7/dist-packages (from catboost) (0.10.1)\n",
            "Requirement already satisfied: numpy>=1.16.0 in /usr/local/lib/python3.7/dist-packages (from catboost) (1.21.6)\n",
            "Requirement already satisfied: plotly in /usr/local/lib/python3.7/dist-packages (from catboost) (5.5.0)\n",
            "Requirement already satisfied: pytz>=2017.3 in /usr/local/lib/python3.7/dist-packages (from pandas>=0.24.0->catboost) (2022.2.1)\n",
            "Requirement already satisfied: python-dateutil>=2.7.3 in /usr/local/lib/python3.7/dist-packages (from pandas>=0.24.0->catboost) (2.8.2)\n",
            "Requirement already satisfied: pyparsing!=2.0.4,!=2.1.2,!=2.1.6,>=2.0.1 in /usr/local/lib/python3.7/dist-packages (from matplotlib->catboost) (3.0.9)\n",
            "Requirement already satisfied: kiwisolver>=1.0.1 in /usr/local/lib/python3.7/dist-packages (from matplotlib->catboost) (1.4.4)\n",
            "Requirement already satisfied: cycler>=0.10 in /usr/local/lib/python3.7/dist-packages (from matplotlib->catboost) (0.11.0)\n",
            "Requirement already satisfied: typing-extensions in /usr/local/lib/python3.7/dist-packages (from kiwisolver>=1.0.1->matplotlib->catboost) (4.1.1)\n",
            "Requirement already satisfied: tenacity>=6.2.0 in /usr/local/lib/python3.7/dist-packages (from plotly->catboost) (8.0.1)\n",
            "Installing collected packages: catboost\n",
            "Successfully installed catboost-1.0.6\n"
          ]
        }
      ],
      "id": "LAFxT8bVIEyN"
    },
    {
      "cell_type": "code",
      "source": [
        "from catboost import Pool"
      ],
      "metadata": {
        "id": "3uinLtop9bPW"
      },
      "execution_count": 26,
      "outputs": [],
      "id": "3uinLtop9bPW"
    },
    {
      "cell_type": "code",
      "source": [
        "pool_train = Pool(data = X_train, label = y_train)\n",
        "pool_test = Pool(data = X_test, label = y_test)"
      ],
      "metadata": {
        "id": "J_wMxvhdp9L8"
      },
      "id": "J_wMxvhdp9L8",
      "execution_count": 46,
      "outputs": []
    },
    {
      "cell_type": "markdown",
      "source": [
        "iteration=400, learning_rate=0.1, max_depth=3로 설정한 CatBoost 모델로 버섯에 대한 정보를 학습하고 테스트 데이터 버섯의 독성 여부를 예측하시오. 또 정확도를 구하시오.  "
      ],
      "metadata": {
        "id": "Vu9ijqhGMWgo"
      },
      "id": "Vu9ijqhGMWgo"
    },
    {
      "cell_type": "code",
      "source": [
        "from catboost import CatBoostClassifier\n",
        "\n",
        "cb_clf = CatBoostClassifier(iterations=400, learning_rate=0.1, max_depth=3)\n",
        "cb_clf.fit(pool_train)\n",
        "pred = cb_clf.predict(pool_test)\n",
        "accuracy = accuracy_score(y_test, pred)\n",
        "print('정확도 : ', accuracy)"
      ],
      "metadata": {
        "id": "F2I7ARrWp_t3",
        "colab": {
          "base_uri": "https://localhost:8080/"
        },
        "outputId": "487a9ef9-538e-4e1b-8377-ba7dd86ec4b6"
      },
      "id": "F2I7ARrWp_t3",
      "execution_count": 47,
      "outputs": [
        {
          "output_type": "stream",
          "name": "stdout",
          "text": [
            "0:\tlearn: 0.4690580\ttotal: 49.1ms\tremaining: 19.6s\n",
            "1:\tlearn: 0.3626882\ttotal: 51.1ms\tremaining: 10.2s\n",
            "2:\tlearn: 0.2463257\ttotal: 53ms\tremaining: 7.01s\n",
            "3:\tlearn: 0.2007452\ttotal: 54.8ms\tremaining: 5.43s\n",
            "4:\tlearn: 0.1674685\ttotal: 56.9ms\tremaining: 4.5s\n",
            "5:\tlearn: 0.1223732\ttotal: 58.8ms\tremaining: 3.86s\n",
            "6:\tlearn: 0.1029920\ttotal: 60.5ms\tremaining: 3.4s\n",
            "7:\tlearn: 0.0848043\ttotal: 62.4ms\tremaining: 3.06s\n",
            "8:\tlearn: 0.0687912\ttotal: 64.3ms\tremaining: 2.79s\n",
            "9:\tlearn: 0.0594332\ttotal: 66.1ms\tremaining: 2.58s\n",
            "10:\tlearn: 0.0552392\ttotal: 68.2ms\tremaining: 2.41s\n",
            "11:\tlearn: 0.0486611\ttotal: 69.9ms\tremaining: 2.26s\n",
            "12:\tlearn: 0.0460263\ttotal: 71.9ms\tremaining: 2.14s\n",
            "13:\tlearn: 0.0403064\ttotal: 73.8ms\tremaining: 2.03s\n",
            "14:\tlearn: 0.0372600\ttotal: 75.4ms\tremaining: 1.94s\n",
            "15:\tlearn: 0.0349847\ttotal: 77.3ms\tremaining: 1.85s\n",
            "16:\tlearn: 0.0316641\ttotal: 79.1ms\tremaining: 1.78s\n",
            "17:\tlearn: 0.0295883\ttotal: 81ms\tremaining: 1.72s\n",
            "18:\tlearn: 0.0272930\ttotal: 82.9ms\tremaining: 1.66s\n",
            "19:\tlearn: 0.0255604\ttotal: 84.8ms\tremaining: 1.61s\n",
            "20:\tlearn: 0.0241629\ttotal: 86.4ms\tremaining: 1.56s\n",
            "21:\tlearn: 0.0227924\ttotal: 88.3ms\tremaining: 1.52s\n",
            "22:\tlearn: 0.0218149\ttotal: 90.2ms\tremaining: 1.48s\n",
            "23:\tlearn: 0.0195519\ttotal: 92.1ms\tremaining: 1.44s\n",
            "24:\tlearn: 0.0185301\ttotal: 94ms\tremaining: 1.41s\n",
            "25:\tlearn: 0.0175497\ttotal: 95.9ms\tremaining: 1.38s\n",
            "26:\tlearn: 0.0163251\ttotal: 97.9ms\tremaining: 1.35s\n",
            "27:\tlearn: 0.0155393\ttotal: 99.8ms\tremaining: 1.33s\n",
            "28:\tlearn: 0.0148369\ttotal: 102ms\tremaining: 1.3s\n",
            "29:\tlearn: 0.0137219\ttotal: 104ms\tremaining: 1.28s\n",
            "30:\tlearn: 0.0132350\ttotal: 106ms\tremaining: 1.26s\n",
            "31:\tlearn: 0.0122663\ttotal: 108ms\tremaining: 1.24s\n",
            "32:\tlearn: 0.0118109\ttotal: 110ms\tremaining: 1.22s\n",
            "33:\tlearn: 0.0108959\ttotal: 111ms\tremaining: 1.2s\n",
            "34:\tlearn: 0.0100384\ttotal: 113ms\tremaining: 1.18s\n",
            "35:\tlearn: 0.0094215\ttotal: 115ms\tremaining: 1.17s\n",
            "36:\tlearn: 0.0088338\ttotal: 118ms\tremaining: 1.16s\n",
            "37:\tlearn: 0.0084704\ttotal: 120ms\tremaining: 1.14s\n",
            "38:\tlearn: 0.0080195\ttotal: 122ms\tremaining: 1.13s\n",
            "39:\tlearn: 0.0076442\ttotal: 124ms\tremaining: 1.11s\n",
            "40:\tlearn: 0.0073258\ttotal: 126ms\tremaining: 1.1s\n",
            "41:\tlearn: 0.0070611\ttotal: 128ms\tremaining: 1.09s\n",
            "42:\tlearn: 0.0067922\ttotal: 129ms\tremaining: 1.07s\n",
            "43:\tlearn: 0.0064544\ttotal: 131ms\tremaining: 1.06s\n",
            "44:\tlearn: 0.0062710\ttotal: 134ms\tremaining: 1.05s\n",
            "45:\tlearn: 0.0059481\ttotal: 136ms\tremaining: 1.04s\n",
            "46:\tlearn: 0.0057855\ttotal: 138ms\tremaining: 1.03s\n",
            "47:\tlearn: 0.0055434\ttotal: 140ms\tremaining: 1.03s\n",
            "48:\tlearn: 0.0049522\ttotal: 142ms\tremaining: 1.02s\n",
            "49:\tlearn: 0.0046916\ttotal: 145ms\tremaining: 1.01s\n",
            "50:\tlearn: 0.0045343\ttotal: 146ms\tremaining: 1s\n",
            "51:\tlearn: 0.0044641\ttotal: 148ms\tremaining: 992ms\n",
            "52:\tlearn: 0.0043426\ttotal: 150ms\tremaining: 985ms\n",
            "53:\tlearn: 0.0042725\ttotal: 152ms\tremaining: 976ms\n",
            "54:\tlearn: 0.0040812\ttotal: 155ms\tremaining: 970ms\n",
            "55:\tlearn: 0.0039050\ttotal: 157ms\tremaining: 964ms\n",
            "56:\tlearn: 0.0037712\ttotal: 159ms\tremaining: 957ms\n",
            "57:\tlearn: 0.0036704\ttotal: 161ms\tremaining: 949ms\n",
            "58:\tlearn: 0.0035495\ttotal: 163ms\tremaining: 941ms\n",
            "59:\tlearn: 0.0034826\ttotal: 165ms\tremaining: 934ms\n",
            "60:\tlearn: 0.0034014\ttotal: 167ms\tremaining: 928ms\n",
            "61:\tlearn: 0.0033326\ttotal: 169ms\tremaining: 921ms\n",
            "62:\tlearn: 0.0030579\ttotal: 171ms\tremaining: 914ms\n",
            "63:\tlearn: 0.0029975\ttotal: 173ms\tremaining: 908ms\n",
            "64:\tlearn: 0.0029231\ttotal: 175ms\tremaining: 901ms\n",
            "65:\tlearn: 0.0028057\ttotal: 177ms\tremaining: 897ms\n",
            "66:\tlearn: 0.0027419\ttotal: 179ms\tremaining: 892ms\n",
            "67:\tlearn: 0.0026053\ttotal: 181ms\tremaining: 885ms\n",
            "68:\tlearn: 0.0025522\ttotal: 183ms\tremaining: 879ms\n",
            "69:\tlearn: 0.0025001\ttotal: 185ms\tremaining: 872ms\n",
            "70:\tlearn: 0.0024364\ttotal: 187ms\tremaining: 866ms\n",
            "71:\tlearn: 0.0023444\ttotal: 190ms\tremaining: 867ms\n",
            "72:\tlearn: 0.0022696\ttotal: 192ms\tremaining: 861ms\n",
            "73:\tlearn: 0.0022350\ttotal: 194ms\tremaining: 855ms\n",
            "74:\tlearn: 0.0021549\ttotal: 196ms\tremaining: 850ms\n",
            "75:\tlearn: 0.0021236\ttotal: 198ms\tremaining: 844ms\n",
            "76:\tlearn: 0.0020828\ttotal: 200ms\tremaining: 838ms\n",
            "77:\tlearn: 0.0020002\ttotal: 202ms\tremaining: 833ms\n",
            "78:\tlearn: 0.0019129\ttotal: 204ms\tremaining: 828ms\n",
            "79:\tlearn: 0.0018733\ttotal: 206ms\tremaining: 823ms\n",
            "80:\tlearn: 0.0018456\ttotal: 208ms\tremaining: 818ms\n",
            "81:\tlearn: 0.0018456\ttotal: 209ms\tremaining: 812ms\n",
            "82:\tlearn: 0.0018454\ttotal: 211ms\tremaining: 808ms\n",
            "83:\tlearn: 0.0018173\ttotal: 214ms\tremaining: 804ms\n",
            "84:\tlearn: 0.0018173\ttotal: 216ms\tremaining: 799ms\n",
            "85:\tlearn: 0.0017580\ttotal: 218ms\tremaining: 796ms\n",
            "86:\tlearn: 0.0017281\ttotal: 220ms\tremaining: 791ms\n",
            "87:\tlearn: 0.0016540\ttotal: 222ms\tremaining: 786ms\n",
            "88:\tlearn: 0.0016237\ttotal: 224ms\tremaining: 782ms\n",
            "89:\tlearn: 0.0015554\ttotal: 226ms\tremaining: 777ms\n",
            "90:\tlearn: 0.0015553\ttotal: 227ms\tremaining: 771ms\n",
            "91:\tlearn: 0.0015458\ttotal: 229ms\tremaining: 768ms\n",
            "92:\tlearn: 0.0015212\ttotal: 231ms\tremaining: 763ms\n",
            "93:\tlearn: 0.0014677\ttotal: 233ms\tremaining: 759ms\n",
            "94:\tlearn: 0.0014434\ttotal: 235ms\tremaining: 754ms\n",
            "95:\tlearn: 0.0014113\ttotal: 237ms\tremaining: 751ms\n",
            "96:\tlearn: 0.0014114\ttotal: 239ms\tremaining: 747ms\n",
            "97:\tlearn: 0.0014113\ttotal: 241ms\tremaining: 743ms\n",
            "98:\tlearn: 0.0014032\ttotal: 244ms\tremaining: 741ms\n",
            "99:\tlearn: 0.0014031\ttotal: 246ms\tremaining: 737ms\n",
            "100:\tlearn: 0.0013816\ttotal: 248ms\tremaining: 733ms\n",
            "101:\tlearn: 0.0013336\ttotal: 249ms\tremaining: 729ms\n",
            "102:\tlearn: 0.0013337\ttotal: 251ms\tremaining: 724ms\n",
            "103:\tlearn: 0.0013337\ttotal: 253ms\tremaining: 719ms\n",
            "104:\tlearn: 0.0013336\ttotal: 254ms\tremaining: 715ms\n",
            "105:\tlearn: 0.0013337\ttotal: 256ms\tremaining: 710ms\n",
            "106:\tlearn: 0.0013337\ttotal: 258ms\tremaining: 706ms\n",
            "107:\tlearn: 0.0013337\ttotal: 259ms\tremaining: 701ms\n",
            "108:\tlearn: 0.0013337\ttotal: 261ms\tremaining: 696ms\n",
            "109:\tlearn: 0.0013337\ttotal: 262ms\tremaining: 692ms\n",
            "110:\tlearn: 0.0013337\ttotal: 264ms\tremaining: 687ms\n",
            "111:\tlearn: 0.0013337\ttotal: 266ms\tremaining: 683ms\n",
            "112:\tlearn: 0.0013337\ttotal: 267ms\tremaining: 678ms\n",
            "113:\tlearn: 0.0013337\ttotal: 269ms\tremaining: 674ms\n",
            "114:\tlearn: 0.0013337\ttotal: 271ms\tremaining: 670ms\n",
            "115:\tlearn: 0.0013337\ttotal: 272ms\tremaining: 666ms\n",
            "116:\tlearn: 0.0013337\ttotal: 274ms\tremaining: 662ms\n",
            "117:\tlearn: 0.0013337\ttotal: 275ms\tremaining: 658ms\n",
            "118:\tlearn: 0.0013337\ttotal: 277ms\tremaining: 653ms\n",
            "119:\tlearn: 0.0013337\ttotal: 278ms\tremaining: 649ms\n",
            "120:\tlearn: 0.0013337\ttotal: 280ms\tremaining: 645ms\n",
            "121:\tlearn: 0.0013337\ttotal: 281ms\tremaining: 641ms\n",
            "122:\tlearn: 0.0013337\ttotal: 283ms\tremaining: 637ms\n",
            "123:\tlearn: 0.0013337\ttotal: 285ms\tremaining: 634ms\n",
            "124:\tlearn: 0.0013337\ttotal: 286ms\tremaining: 630ms\n",
            "125:\tlearn: 0.0013337\ttotal: 288ms\tremaining: 626ms\n",
            "126:\tlearn: 0.0013337\ttotal: 290ms\tremaining: 622ms\n",
            "127:\tlearn: 0.0013337\ttotal: 291ms\tremaining: 619ms\n",
            "128:\tlearn: 0.0013337\ttotal: 293ms\tremaining: 615ms\n",
            "129:\tlearn: 0.0013337\ttotal: 294ms\tremaining: 611ms\n",
            "130:\tlearn: 0.0013337\ttotal: 296ms\tremaining: 607ms\n",
            "131:\tlearn: 0.0013337\ttotal: 297ms\tremaining: 604ms\n",
            "132:\tlearn: 0.0013337\ttotal: 299ms\tremaining: 601ms\n",
            "133:\tlearn: 0.0013337\ttotal: 301ms\tremaining: 597ms\n",
            "134:\tlearn: 0.0013337\ttotal: 302ms\tremaining: 593ms\n",
            "135:\tlearn: 0.0013337\ttotal: 304ms\tremaining: 590ms\n",
            "136:\tlearn: 0.0013337\ttotal: 305ms\tremaining: 586ms\n",
            "137:\tlearn: 0.0013337\ttotal: 307ms\tremaining: 582ms\n",
            "138:\tlearn: 0.0013337\ttotal: 308ms\tremaining: 579ms\n",
            "139:\tlearn: 0.0013337\ttotal: 310ms\tremaining: 576ms\n",
            "140:\tlearn: 0.0013337\ttotal: 311ms\tremaining: 572ms\n",
            "141:\tlearn: 0.0013337\ttotal: 313ms\tremaining: 569ms\n",
            "142:\tlearn: 0.0013337\ttotal: 315ms\tremaining: 565ms\n",
            "143:\tlearn: 0.0013337\ttotal: 316ms\tremaining: 562ms\n",
            "144:\tlearn: 0.0013337\ttotal: 318ms\tremaining: 559ms\n",
            "145:\tlearn: 0.0013337\ttotal: 319ms\tremaining: 555ms\n",
            "146:\tlearn: 0.0013337\ttotal: 321ms\tremaining: 552ms\n",
            "147:\tlearn: 0.0013337\ttotal: 323ms\tremaining: 549ms\n",
            "148:\tlearn: 0.0013337\ttotal: 324ms\tremaining: 546ms\n",
            "149:\tlearn: 0.0013337\ttotal: 326ms\tremaining: 543ms\n",
            "150:\tlearn: 0.0013337\ttotal: 328ms\tremaining: 540ms\n",
            "151:\tlearn: 0.0013337\ttotal: 332ms\tremaining: 541ms\n",
            "152:\tlearn: 0.0013337\ttotal: 334ms\tremaining: 539ms\n",
            "153:\tlearn: 0.0013337\ttotal: 335ms\tremaining: 536ms\n",
            "154:\tlearn: 0.0013337\ttotal: 337ms\tremaining: 533ms\n",
            "155:\tlearn: 0.0013337\ttotal: 339ms\tremaining: 529ms\n",
            "156:\tlearn: 0.0013337\ttotal: 340ms\tremaining: 526ms\n",
            "157:\tlearn: 0.0013337\ttotal: 342ms\tremaining: 523ms\n",
            "158:\tlearn: 0.0013337\ttotal: 343ms\tremaining: 521ms\n",
            "159:\tlearn: 0.0013337\ttotal: 345ms\tremaining: 518ms\n",
            "160:\tlearn: 0.0013337\ttotal: 347ms\tremaining: 515ms\n",
            "161:\tlearn: 0.0013337\ttotal: 348ms\tremaining: 511ms\n",
            "162:\tlearn: 0.0013337\ttotal: 350ms\tremaining: 508ms\n",
            "163:\tlearn: 0.0013337\ttotal: 351ms\tremaining: 505ms\n",
            "164:\tlearn: 0.0013337\ttotal: 353ms\tremaining: 503ms\n",
            "165:\tlearn: 0.0013337\ttotal: 354ms\tremaining: 500ms\n",
            "166:\tlearn: 0.0013337\ttotal: 356ms\tremaining: 497ms\n",
            "167:\tlearn: 0.0013337\ttotal: 358ms\tremaining: 494ms\n",
            "168:\tlearn: 0.0013337\ttotal: 359ms\tremaining: 491ms\n",
            "169:\tlearn: 0.0013337\ttotal: 361ms\tremaining: 488ms\n",
            "170:\tlearn: 0.0013337\ttotal: 362ms\tremaining: 485ms\n",
            "171:\tlearn: 0.0013337\ttotal: 364ms\tremaining: 482ms\n",
            "172:\tlearn: 0.0013337\ttotal: 366ms\tremaining: 480ms\n",
            "173:\tlearn: 0.0013337\ttotal: 367ms\tremaining: 477ms\n",
            "174:\tlearn: 0.0013337\ttotal: 369ms\tremaining: 474ms\n",
            "175:\tlearn: 0.0013337\ttotal: 370ms\tremaining: 471ms\n",
            "176:\tlearn: 0.0013337\ttotal: 372ms\tremaining: 468ms\n",
            "177:\tlearn: 0.0013337\ttotal: 373ms\tremaining: 466ms\n",
            "178:\tlearn: 0.0013337\ttotal: 375ms\tremaining: 463ms\n",
            "179:\tlearn: 0.0013337\ttotal: 376ms\tremaining: 460ms\n",
            "180:\tlearn: 0.0013337\ttotal: 378ms\tremaining: 457ms\n",
            "181:\tlearn: 0.0013337\ttotal: 379ms\tremaining: 455ms\n",
            "182:\tlearn: 0.0013337\ttotal: 381ms\tremaining: 452ms\n",
            "183:\tlearn: 0.0013337\ttotal: 383ms\tremaining: 449ms\n",
            "184:\tlearn: 0.0013337\ttotal: 384ms\tremaining: 447ms\n",
            "185:\tlearn: 0.0013337\ttotal: 386ms\tremaining: 444ms\n",
            "186:\tlearn: 0.0013337\ttotal: 387ms\tremaining: 441ms\n",
            "187:\tlearn: 0.0013337\ttotal: 389ms\tremaining: 439ms\n",
            "188:\tlearn: 0.0013337\ttotal: 391ms\tremaining: 436ms\n",
            "189:\tlearn: 0.0013337\ttotal: 392ms\tremaining: 434ms\n",
            "190:\tlearn: 0.0013337\ttotal: 394ms\tremaining: 431ms\n",
            "191:\tlearn: 0.0013337\ttotal: 396ms\tremaining: 428ms\n",
            "192:\tlearn: 0.0013337\ttotal: 397ms\tremaining: 426ms\n",
            "193:\tlearn: 0.0013337\ttotal: 399ms\tremaining: 423ms\n",
            "194:\tlearn: 0.0013337\ttotal: 400ms\tremaining: 421ms\n",
            "195:\tlearn: 0.0013337\ttotal: 402ms\tremaining: 418ms\n",
            "196:\tlearn: 0.0013337\ttotal: 403ms\tremaining: 415ms\n",
            "197:\tlearn: 0.0013337\ttotal: 405ms\tremaining: 413ms\n",
            "198:\tlearn: 0.0013337\ttotal: 406ms\tremaining: 410ms\n",
            "199:\tlearn: 0.0013337\ttotal: 408ms\tremaining: 408ms\n",
            "200:\tlearn: 0.0013337\ttotal: 411ms\tremaining: 406ms\n",
            "201:\tlearn: 0.0013337\ttotal: 412ms\tremaining: 404ms\n",
            "202:\tlearn: 0.0013337\ttotal: 415ms\tremaining: 402ms\n",
            "203:\tlearn: 0.0013337\ttotal: 417ms\tremaining: 401ms\n",
            "204:\tlearn: 0.0013337\ttotal: 419ms\tremaining: 398ms\n",
            "205:\tlearn: 0.0013337\ttotal: 421ms\tremaining: 396ms\n",
            "206:\tlearn: 0.0013337\ttotal: 423ms\tremaining: 394ms\n",
            "207:\tlearn: 0.0013337\ttotal: 424ms\tremaining: 392ms\n",
            "208:\tlearn: 0.0013337\ttotal: 426ms\tremaining: 389ms\n",
            "209:\tlearn: 0.0013337\ttotal: 428ms\tremaining: 387ms\n",
            "210:\tlearn: 0.0013337\ttotal: 429ms\tremaining: 385ms\n",
            "211:\tlearn: 0.0013337\ttotal: 431ms\tremaining: 382ms\n",
            "212:\tlearn: 0.0013337\ttotal: 432ms\tremaining: 380ms\n",
            "213:\tlearn: 0.0013337\ttotal: 434ms\tremaining: 377ms\n",
            "214:\tlearn: 0.0013337\ttotal: 436ms\tremaining: 375ms\n",
            "215:\tlearn: 0.0013337\ttotal: 437ms\tremaining: 373ms\n",
            "216:\tlearn: 0.0013337\ttotal: 439ms\tremaining: 370ms\n",
            "217:\tlearn: 0.0013337\ttotal: 441ms\tremaining: 368ms\n",
            "218:\tlearn: 0.0013337\ttotal: 443ms\tremaining: 366ms\n",
            "219:\tlearn: 0.0013337\ttotal: 445ms\tremaining: 364ms\n",
            "220:\tlearn: 0.0013337\ttotal: 446ms\tremaining: 361ms\n",
            "221:\tlearn: 0.0013337\ttotal: 448ms\tremaining: 359ms\n",
            "222:\tlearn: 0.0013337\ttotal: 449ms\tremaining: 357ms\n",
            "223:\tlearn: 0.0013337\ttotal: 451ms\tremaining: 354ms\n",
            "224:\tlearn: 0.0013337\ttotal: 452ms\tremaining: 352ms\n",
            "225:\tlearn: 0.0013337\ttotal: 454ms\tremaining: 350ms\n",
            "226:\tlearn: 0.0013337\ttotal: 456ms\tremaining: 348ms\n",
            "227:\tlearn: 0.0013337\ttotal: 458ms\tremaining: 345ms\n",
            "228:\tlearn: 0.0013337\ttotal: 460ms\tremaining: 343ms\n",
            "229:\tlearn: 0.0013337\ttotal: 462ms\tremaining: 341ms\n",
            "230:\tlearn: 0.0013337\ttotal: 463ms\tremaining: 339ms\n",
            "231:\tlearn: 0.0013337\ttotal: 465ms\tremaining: 337ms\n",
            "232:\tlearn: 0.0013337\ttotal: 467ms\tremaining: 335ms\n",
            "233:\tlearn: 0.0013337\ttotal: 469ms\tremaining: 333ms\n",
            "234:\tlearn: 0.0013337\ttotal: 476ms\tremaining: 334ms\n",
            "235:\tlearn: 0.0013337\ttotal: 478ms\tremaining: 332ms\n",
            "236:\tlearn: 0.0013337\ttotal: 480ms\tremaining: 330ms\n",
            "237:\tlearn: 0.0013337\ttotal: 482ms\tremaining: 328ms\n",
            "238:\tlearn: 0.0013337\ttotal: 483ms\tremaining: 326ms\n",
            "239:\tlearn: 0.0013337\ttotal: 485ms\tremaining: 324ms\n",
            "240:\tlearn: 0.0013337\ttotal: 487ms\tremaining: 321ms\n",
            "241:\tlearn: 0.0013337\ttotal: 489ms\tremaining: 319ms\n",
            "242:\tlearn: 0.0013337\ttotal: 491ms\tremaining: 317ms\n",
            "243:\tlearn: 0.0013337\ttotal: 492ms\tremaining: 315ms\n",
            "244:\tlearn: 0.0013337\ttotal: 494ms\tremaining: 313ms\n",
            "245:\tlearn: 0.0013337\ttotal: 496ms\tremaining: 311ms\n",
            "246:\tlearn: 0.0013337\ttotal: 498ms\tremaining: 308ms\n",
            "247:\tlearn: 0.0013337\ttotal: 500ms\tremaining: 306ms\n",
            "248:\tlearn: 0.0013337\ttotal: 502ms\tremaining: 304ms\n",
            "249:\tlearn: 0.0013337\ttotal: 504ms\tremaining: 302ms\n",
            "250:\tlearn: 0.0013337\ttotal: 506ms\tremaining: 300ms\n",
            "251:\tlearn: 0.0013337\ttotal: 508ms\tremaining: 298ms\n",
            "252:\tlearn: 0.0013337\ttotal: 510ms\tremaining: 296ms\n",
            "253:\tlearn: 0.0013337\ttotal: 511ms\tremaining: 294ms\n",
            "254:\tlearn: 0.0013337\ttotal: 513ms\tremaining: 292ms\n",
            "255:\tlearn: 0.0013337\ttotal: 515ms\tremaining: 290ms\n",
            "256:\tlearn: 0.0013337\ttotal: 517ms\tremaining: 288ms\n",
            "257:\tlearn: 0.0013337\ttotal: 519ms\tremaining: 286ms\n",
            "258:\tlearn: 0.0013337\ttotal: 521ms\tremaining: 284ms\n",
            "259:\tlearn: 0.0013337\ttotal: 523ms\tremaining: 281ms\n",
            "260:\tlearn: 0.0013337\ttotal: 524ms\tremaining: 279ms\n",
            "261:\tlearn: 0.0013337\ttotal: 526ms\tremaining: 277ms\n",
            "262:\tlearn: 0.0013337\ttotal: 528ms\tremaining: 275ms\n",
            "263:\tlearn: 0.0013337\ttotal: 529ms\tremaining: 273ms\n",
            "264:\tlearn: 0.0013337\ttotal: 531ms\tremaining: 270ms\n",
            "265:\tlearn: 0.0013337\ttotal: 533ms\tremaining: 268ms\n",
            "266:\tlearn: 0.0013337\ttotal: 534ms\tremaining: 266ms\n",
            "267:\tlearn: 0.0013337\ttotal: 536ms\tremaining: 264ms\n",
            "268:\tlearn: 0.0013337\ttotal: 538ms\tremaining: 262ms\n",
            "269:\tlearn: 0.0013337\ttotal: 540ms\tremaining: 260ms\n",
            "270:\tlearn: 0.0013337\ttotal: 541ms\tremaining: 258ms\n",
            "271:\tlearn: 0.0013337\ttotal: 543ms\tremaining: 256ms\n",
            "272:\tlearn: 0.0013337\ttotal: 545ms\tremaining: 253ms\n",
            "273:\tlearn: 0.0013337\ttotal: 546ms\tremaining: 251ms\n",
            "274:\tlearn: 0.0013337\ttotal: 548ms\tremaining: 249ms\n",
            "275:\tlearn: 0.0013337\ttotal: 549ms\tremaining: 247ms\n",
            "276:\tlearn: 0.0013337\ttotal: 551ms\tremaining: 245ms\n",
            "277:\tlearn: 0.0013337\ttotal: 553ms\tremaining: 242ms\n",
            "278:\tlearn: 0.0013337\ttotal: 554ms\tremaining: 240ms\n",
            "279:\tlearn: 0.0013337\ttotal: 556ms\tremaining: 238ms\n",
            "280:\tlearn: 0.0013337\ttotal: 558ms\tremaining: 236ms\n",
            "281:\tlearn: 0.0013337\ttotal: 560ms\tremaining: 234ms\n",
            "282:\tlearn: 0.0013337\ttotal: 562ms\tremaining: 232ms\n",
            "283:\tlearn: 0.0013337\ttotal: 563ms\tremaining: 230ms\n",
            "284:\tlearn: 0.0013337\ttotal: 565ms\tremaining: 228ms\n",
            "285:\tlearn: 0.0013337\ttotal: 566ms\tremaining: 226ms\n",
            "286:\tlearn: 0.0013337\ttotal: 568ms\tremaining: 224ms\n",
            "287:\tlearn: 0.0013337\ttotal: 570ms\tremaining: 222ms\n",
            "288:\tlearn: 0.0013337\ttotal: 571ms\tremaining: 219ms\n",
            "289:\tlearn: 0.0013337\ttotal: 574ms\tremaining: 218ms\n",
            "290:\tlearn: 0.0013337\ttotal: 576ms\tremaining: 216ms\n",
            "291:\tlearn: 0.0013337\ttotal: 578ms\tremaining: 214ms\n",
            "292:\tlearn: 0.0013337\ttotal: 581ms\tremaining: 212ms\n",
            "293:\tlearn: 0.0013337\ttotal: 583ms\tremaining: 210ms\n",
            "294:\tlearn: 0.0013337\ttotal: 585ms\tremaining: 208ms\n",
            "295:\tlearn: 0.0013337\ttotal: 586ms\tremaining: 206ms\n",
            "296:\tlearn: 0.0013337\ttotal: 588ms\tremaining: 204ms\n",
            "297:\tlearn: 0.0013337\ttotal: 590ms\tremaining: 202ms\n",
            "298:\tlearn: 0.0013337\ttotal: 591ms\tremaining: 200ms\n",
            "299:\tlearn: 0.0013337\ttotal: 593ms\tremaining: 198ms\n",
            "300:\tlearn: 0.0013337\ttotal: 594ms\tremaining: 196ms\n",
            "301:\tlearn: 0.0013337\ttotal: 596ms\tremaining: 193ms\n",
            "302:\tlearn: 0.0013337\ttotal: 598ms\tremaining: 191ms\n",
            "303:\tlearn: 0.0013337\ttotal: 599ms\tremaining: 189ms\n",
            "304:\tlearn: 0.0013337\ttotal: 601ms\tremaining: 187ms\n",
            "305:\tlearn: 0.0013337\ttotal: 603ms\tremaining: 185ms\n",
            "306:\tlearn: 0.0013337\ttotal: 604ms\tremaining: 183ms\n",
            "307:\tlearn: 0.0013337\ttotal: 606ms\tremaining: 181ms\n",
            "308:\tlearn: 0.0013337\ttotal: 608ms\tremaining: 179ms\n",
            "309:\tlearn: 0.0013337\ttotal: 609ms\tremaining: 177ms\n",
            "310:\tlearn: 0.0013337\ttotal: 611ms\tremaining: 175ms\n",
            "311:\tlearn: 0.0013337\ttotal: 614ms\tremaining: 173ms\n",
            "312:\tlearn: 0.0013337\ttotal: 616ms\tremaining: 171ms\n",
            "313:\tlearn: 0.0013337\ttotal: 617ms\tremaining: 169ms\n",
            "314:\tlearn: 0.0013337\ttotal: 619ms\tremaining: 167ms\n",
            "315:\tlearn: 0.0013337\ttotal: 620ms\tremaining: 165ms\n",
            "316:\tlearn: 0.0013337\ttotal: 622ms\tremaining: 163ms\n",
            "317:\tlearn: 0.0013337\ttotal: 624ms\tremaining: 161ms\n",
            "318:\tlearn: 0.0013337\ttotal: 628ms\tremaining: 159ms\n",
            "319:\tlearn: 0.0013337\ttotal: 630ms\tremaining: 157ms\n",
            "320:\tlearn: 0.0013337\ttotal: 631ms\tremaining: 155ms\n",
            "321:\tlearn: 0.0013337\ttotal: 633ms\tremaining: 153ms\n",
            "322:\tlearn: 0.0013337\ttotal: 634ms\tremaining: 151ms\n",
            "323:\tlearn: 0.0013337\ttotal: 636ms\tremaining: 149ms\n",
            "324:\tlearn: 0.0013337\ttotal: 637ms\tremaining: 147ms\n",
            "325:\tlearn: 0.0013337\ttotal: 639ms\tremaining: 145ms\n",
            "326:\tlearn: 0.0013337\ttotal: 641ms\tremaining: 143ms\n",
            "327:\tlearn: 0.0013337\ttotal: 642ms\tremaining: 141ms\n",
            "328:\tlearn: 0.0013337\ttotal: 644ms\tremaining: 139ms\n",
            "329:\tlearn: 0.0013337\ttotal: 645ms\tremaining: 137ms\n",
            "330:\tlearn: 0.0013337\ttotal: 647ms\tremaining: 135ms\n",
            "331:\tlearn: 0.0013337\ttotal: 649ms\tremaining: 133ms\n",
            "332:\tlearn: 0.0013337\ttotal: 651ms\tremaining: 131ms\n",
            "333:\tlearn: 0.0013337\ttotal: 653ms\tremaining: 129ms\n",
            "334:\tlearn: 0.0013337\ttotal: 654ms\tremaining: 127ms\n",
            "335:\tlearn: 0.0013337\ttotal: 656ms\tremaining: 125ms\n",
            "336:\tlearn: 0.0013337\ttotal: 658ms\tremaining: 123ms\n",
            "337:\tlearn: 0.0013337\ttotal: 659ms\tremaining: 121ms\n",
            "338:\tlearn: 0.0013337\ttotal: 661ms\tremaining: 119ms\n",
            "339:\tlearn: 0.0013337\ttotal: 662ms\tremaining: 117ms\n",
            "340:\tlearn: 0.0013337\ttotal: 664ms\tremaining: 115ms\n",
            "341:\tlearn: 0.0013337\ttotal: 665ms\tremaining: 113ms\n",
            "342:\tlearn: 0.0013337\ttotal: 667ms\tremaining: 111ms\n",
            "343:\tlearn: 0.0013337\ttotal: 669ms\tremaining: 109ms\n",
            "344:\tlearn: 0.0013337\ttotal: 670ms\tremaining: 107ms\n",
            "345:\tlearn: 0.0013337\ttotal: 672ms\tremaining: 105ms\n",
            "346:\tlearn: 0.0013337\ttotal: 674ms\tremaining: 103ms\n",
            "347:\tlearn: 0.0013337\ttotal: 675ms\tremaining: 101ms\n",
            "348:\tlearn: 0.0013337\ttotal: 677ms\tremaining: 99ms\n",
            "349:\tlearn: 0.0013337\ttotal: 679ms\tremaining: 97ms\n",
            "350:\tlearn: 0.0013337\ttotal: 681ms\tremaining: 95.1ms\n",
            "351:\tlearn: 0.0013337\ttotal: 683ms\tremaining: 93.1ms\n",
            "352:\tlearn: 0.0013337\ttotal: 685ms\tremaining: 91.2ms\n",
            "353:\tlearn: 0.0013337\ttotal: 687ms\tremaining: 89.3ms\n",
            "354:\tlearn: 0.0013337\ttotal: 689ms\tremaining: 87.3ms\n",
            "355:\tlearn: 0.0013337\ttotal: 691ms\tremaining: 85.4ms\n",
            "356:\tlearn: 0.0013337\ttotal: 693ms\tremaining: 83.4ms\n",
            "357:\tlearn: 0.0013337\ttotal: 694ms\tremaining: 81.4ms\n",
            "358:\tlearn: 0.0013337\ttotal: 696ms\tremaining: 79.4ms\n",
            "359:\tlearn: 0.0013337\ttotal: 697ms\tremaining: 77.5ms\n",
            "360:\tlearn: 0.0013337\ttotal: 699ms\tremaining: 75.5ms\n",
            "361:\tlearn: 0.0013337\ttotal: 700ms\tremaining: 73.5ms\n",
            "362:\tlearn: 0.0013337\ttotal: 702ms\tremaining: 71.5ms\n",
            "363:\tlearn: 0.0013337\ttotal: 704ms\tremaining: 69.6ms\n",
            "364:\tlearn: 0.0013337\ttotal: 705ms\tremaining: 67.6ms\n",
            "365:\tlearn: 0.0013337\ttotal: 707ms\tremaining: 65.7ms\n",
            "366:\tlearn: 0.0013337\ttotal: 708ms\tremaining: 63.7ms\n",
            "367:\tlearn: 0.0013337\ttotal: 710ms\tremaining: 61.7ms\n",
            "368:\tlearn: 0.0013337\ttotal: 711ms\tremaining: 59.7ms\n",
            "369:\tlearn: 0.0013337\ttotal: 713ms\tremaining: 57.8ms\n",
            "370:\tlearn: 0.0013337\ttotal: 717ms\tremaining: 56.1ms\n",
            "371:\tlearn: 0.0013337\ttotal: 719ms\tremaining: 54.1ms\n",
            "372:\tlearn: 0.0013337\ttotal: 721ms\tremaining: 52.2ms\n",
            "373:\tlearn: 0.0013337\ttotal: 722ms\tremaining: 50.2ms\n",
            "374:\tlearn: 0.0013337\ttotal: 724ms\tremaining: 48.2ms\n",
            "375:\tlearn: 0.0013337\ttotal: 725ms\tremaining: 46.3ms\n",
            "376:\tlearn: 0.0013337\ttotal: 727ms\tremaining: 44.3ms\n",
            "377:\tlearn: 0.0013337\ttotal: 728ms\tremaining: 42.4ms\n",
            "378:\tlearn: 0.0013337\ttotal: 730ms\tremaining: 40.4ms\n",
            "379:\tlearn: 0.0013337\ttotal: 731ms\tremaining: 38.5ms\n",
            "380:\tlearn: 0.0013337\ttotal: 733ms\tremaining: 36.6ms\n",
            "381:\tlearn: 0.0013337\ttotal: 735ms\tremaining: 34.6ms\n",
            "382:\tlearn: 0.0013337\ttotal: 736ms\tremaining: 32.7ms\n",
            "383:\tlearn: 0.0013337\ttotal: 738ms\tremaining: 30.7ms\n",
            "384:\tlearn: 0.0013337\ttotal: 739ms\tremaining: 28.8ms\n",
            "385:\tlearn: 0.0013337\ttotal: 741ms\tremaining: 26.9ms\n",
            "386:\tlearn: 0.0013337\ttotal: 742ms\tremaining: 24.9ms\n",
            "387:\tlearn: 0.0013337\ttotal: 744ms\tremaining: 23ms\n",
            "388:\tlearn: 0.0013337\ttotal: 746ms\tremaining: 21.1ms\n",
            "389:\tlearn: 0.0013337\ttotal: 747ms\tremaining: 19.2ms\n",
            "390:\tlearn: 0.0013337\ttotal: 749ms\tremaining: 17.2ms\n",
            "391:\tlearn: 0.0013337\ttotal: 750ms\tremaining: 15.3ms\n",
            "392:\tlearn: 0.0013337\ttotal: 752ms\tremaining: 13.4ms\n",
            "393:\tlearn: 0.0013337\ttotal: 753ms\tremaining: 11.5ms\n",
            "394:\tlearn: 0.0013337\ttotal: 755ms\tremaining: 9.56ms\n",
            "395:\tlearn: 0.0013337\ttotal: 757ms\tremaining: 7.64ms\n",
            "396:\tlearn: 0.0013337\ttotal: 758ms\tremaining: 5.73ms\n",
            "397:\tlearn: 0.0013337\ttotal: 760ms\tremaining: 3.82ms\n",
            "398:\tlearn: 0.0013337\ttotal: 762ms\tremaining: 1.91ms\n",
            "399:\tlearn: 0.0013337\ttotal: 764ms\tremaining: 0us\n",
            "정확도 :  1.0\n"
          ]
        }
      ]
    },
    {
      "cell_type": "markdown",
      "source": [
        "수고하셨습니다!"
      ],
      "metadata": {
        "id": "HsvRSI0Z3G06"
      },
      "id": "HsvRSI0Z3G06"
    }
  ],
  "metadata": {
    "kernelspec": {
      "display_name": "Python 3",
      "language": "python",
      "name": "python3"
    },
    "language_info": {
      "codemirror_mode": {
        "name": "ipython",
        "version": 3
      },
      "file_extension": ".py",
      "mimetype": "text/x-python",
      "name": "python",
      "nbconvert_exporter": "python",
      "pygments_lexer": "ipython3",
      "version": "3.8.8"
    },
    "colab": {
      "provenance": [],
      "collapsed_sections": []
    }
  },
  "nbformat": 4,
  "nbformat_minor": 5
}