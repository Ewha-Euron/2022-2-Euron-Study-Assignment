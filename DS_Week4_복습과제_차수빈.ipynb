{
 "cells": [
  {
   "cell_type": "markdown",
   "id": "6f12edaf",
   "metadata": {
    "id": "6f12edaf"
   },
   "source": [
    "##  Week4 복습과제\n",
    "\n",
    "Week3에 대한 복습과제입니다.  \n",
    "데이터셋(train.csv, mushrooms.csv)을 다운 받아주세요!"
   ]
  },
  {
   "cell_type": "code",
   "execution_count": 1,
   "id": "6719779b",
   "metadata": {
    "executionInfo": {
     "elapsed": 783,
     "status": "ok",
     "timestamp": 1663518469454,
     "user": {
      "displayName": "차수빈",
      "userId": "16979887891359732529"
     },
     "user_tz": -540
    },
    "id": "6719779b"
   },
   "outputs": [],
   "source": [
    "import pandas as pd\n",
    "import numpy as np\n",
    "import matplotlib.pyplot as plt\n",
    "import seaborn as sns\n",
    "import warnings\n",
    "warnings.filterwarnings('ignore')"
   ]
  },
  {
   "cell_type": "markdown",
   "id": "47bb9a03",
   "metadata": {
    "id": "47bb9a03"
   },
   "source": [
    "#### 'train.csv'으로 train_df를 생성하세요."
   ]
  },
  {
   "cell_type": "code",
   "execution_count": 2,
   "id": "979db9e6",
   "metadata": {
    "colab": {
     "base_uri": "https://localhost:8080/",
     "height": 424
    },
    "executionInfo": {
     "elapsed": 23,
     "status": "ok",
     "timestamp": 1663518469456,
     "user": {
      "displayName": "차수빈",
      "userId": "16979887891359732529"
     },
     "user_tz": -540
    },
    "id": "979db9e6",
    "outputId": "c7629ce5-8aca-4c2c-ee29-f2a561f85451"
   },
   "outputs": [
    {
     "data": {
      "text/html": [
       "<div>\n",
       "<style scoped>\n",
       "    .dataframe tbody tr th:only-of-type {\n",
       "        vertical-align: middle;\n",
       "    }\n",
       "\n",
       "    .dataframe tbody tr th {\n",
       "        vertical-align: top;\n",
       "    }\n",
       "\n",
       "    .dataframe thead th {\n",
       "        text-align: right;\n",
       "    }\n",
       "</style>\n",
       "<table border=\"1\" class=\"dataframe\">\n",
       "  <thead>\n",
       "    <tr style=\"text-align: right;\">\n",
       "      <th></th>\n",
       "      <th>id</th>\n",
       "      <th>bone_length</th>\n",
       "      <th>rotting_flesh</th>\n",
       "      <th>hair_length</th>\n",
       "      <th>has_soul</th>\n",
       "      <th>color</th>\n",
       "      <th>type</th>\n",
       "    </tr>\n",
       "  </thead>\n",
       "  <tbody>\n",
       "    <tr>\n",
       "      <th>0</th>\n",
       "      <td>0</td>\n",
       "      <td>0.354512</td>\n",
       "      <td>0.350839</td>\n",
       "      <td>0.465761</td>\n",
       "      <td>0.781142</td>\n",
       "      <td>clear</td>\n",
       "      <td>Ghoul</td>\n",
       "    </tr>\n",
       "    <tr>\n",
       "      <th>1</th>\n",
       "      <td>1</td>\n",
       "      <td>0.575560</td>\n",
       "      <td>0.425868</td>\n",
       "      <td>0.531401</td>\n",
       "      <td>0.439899</td>\n",
       "      <td>green</td>\n",
       "      <td>Goblin</td>\n",
       "    </tr>\n",
       "    <tr>\n",
       "      <th>2</th>\n",
       "      <td>2</td>\n",
       "      <td>0.467875</td>\n",
       "      <td>0.354330</td>\n",
       "      <td>0.811616</td>\n",
       "      <td>0.791225</td>\n",
       "      <td>black</td>\n",
       "      <td>Ghoul</td>\n",
       "    </tr>\n",
       "    <tr>\n",
       "      <th>3</th>\n",
       "      <td>4</td>\n",
       "      <td>0.776652</td>\n",
       "      <td>0.508723</td>\n",
       "      <td>0.636766</td>\n",
       "      <td>0.884464</td>\n",
       "      <td>black</td>\n",
       "      <td>Ghoul</td>\n",
       "    </tr>\n",
       "    <tr>\n",
       "      <th>4</th>\n",
       "      <td>5</td>\n",
       "      <td>0.566117</td>\n",
       "      <td>0.875862</td>\n",
       "      <td>0.418594</td>\n",
       "      <td>0.636438</td>\n",
       "      <td>green</td>\n",
       "      <td>Ghost</td>\n",
       "    </tr>\n",
       "    <tr>\n",
       "      <th>...</th>\n",
       "      <td>...</td>\n",
       "      <td>...</td>\n",
       "      <td>...</td>\n",
       "      <td>...</td>\n",
       "      <td>...</td>\n",
       "      <td>...</td>\n",
       "      <td>...</td>\n",
       "    </tr>\n",
       "    <tr>\n",
       "      <th>366</th>\n",
       "      <td>886</td>\n",
       "      <td>0.458132</td>\n",
       "      <td>0.391760</td>\n",
       "      <td>0.660590</td>\n",
       "      <td>0.635689</td>\n",
       "      <td>blue</td>\n",
       "      <td>Goblin</td>\n",
       "    </tr>\n",
       "    <tr>\n",
       "      <th>367</th>\n",
       "      <td>889</td>\n",
       "      <td>0.331936</td>\n",
       "      <td>0.564836</td>\n",
       "      <td>0.539216</td>\n",
       "      <td>0.551471</td>\n",
       "      <td>green</td>\n",
       "      <td>Ghost</td>\n",
       "    </tr>\n",
       "    <tr>\n",
       "      <th>368</th>\n",
       "      <td>890</td>\n",
       "      <td>0.481640</td>\n",
       "      <td>0.501147</td>\n",
       "      <td>0.496446</td>\n",
       "      <td>0.544003</td>\n",
       "      <td>clear</td>\n",
       "      <td>Ghoul</td>\n",
       "    </tr>\n",
       "    <tr>\n",
       "      <th>369</th>\n",
       "      <td>896</td>\n",
       "      <td>0.294943</td>\n",
       "      <td>0.771286</td>\n",
       "      <td>0.583503</td>\n",
       "      <td>0.300618</td>\n",
       "      <td>clear</td>\n",
       "      <td>Ghost</td>\n",
       "    </tr>\n",
       "    <tr>\n",
       "      <th>370</th>\n",
       "      <td>897</td>\n",
       "      <td>0.670200</td>\n",
       "      <td>0.768469</td>\n",
       "      <td>0.737274</td>\n",
       "      <td>0.608384</td>\n",
       "      <td>white</td>\n",
       "      <td>Ghoul</td>\n",
       "    </tr>\n",
       "  </tbody>\n",
       "</table>\n",
       "<p>371 rows × 7 columns</p>\n",
       "</div>"
      ],
      "text/plain": [
       "      id  bone_length  rotting_flesh  hair_length  has_soul  color    type\n",
       "0      0     0.354512       0.350839     0.465761  0.781142  clear   Ghoul\n",
       "1      1     0.575560       0.425868     0.531401  0.439899  green  Goblin\n",
       "2      2     0.467875       0.354330     0.811616  0.791225  black   Ghoul\n",
       "3      4     0.776652       0.508723     0.636766  0.884464  black   Ghoul\n",
       "4      5     0.566117       0.875862     0.418594  0.636438  green   Ghost\n",
       "..   ...          ...            ...          ...       ...    ...     ...\n",
       "366  886     0.458132       0.391760     0.660590  0.635689   blue  Goblin\n",
       "367  889     0.331936       0.564836     0.539216  0.551471  green   Ghost\n",
       "368  890     0.481640       0.501147     0.496446  0.544003  clear   Ghoul\n",
       "369  896     0.294943       0.771286     0.583503  0.300618  clear   Ghost\n",
       "370  897     0.670200       0.768469     0.737274  0.608384  white   Ghoul\n",
       "\n",
       "[371 rows x 7 columns]"
      ]
     },
     "execution_count": 2,
     "metadata": {},
     "output_type": "execute_result"
    }
   ],
   "source": [
    "train_df = pd.read_csv('./train.csv')\n",
    "train_df"
   ]
  },
  {
   "cell_type": "markdown",
   "id": "0874e7b6",
   "metadata": {
    "id": "0874e7b6"
   },
   "source": [
    "#### 데이터 보정을 위해 다음 코드를 실행시켜 주세요."
   ]
  },
  {
   "cell_type": "code",
   "execution_count": 3,
   "id": "d824c2ee",
   "metadata": {
    "colab": {
     "base_uri": "https://localhost:8080/",
     "height": 424
    },
    "executionInfo": {
     "elapsed": 20,
     "status": "ok",
     "timestamp": 1663518469457,
     "user": {
      "displayName": "차수빈",
      "userId": "16979887891359732529"
     },
     "user_tz": -540
    },
    "id": "d824c2ee",
    "outputId": "4e864271-87ba-40d8-e61d-6ddb242bb533"
   },
   "outputs": [
    {
     "data": {
      "text/html": [
       "<div>\n",
       "<style scoped>\n",
       "    .dataframe tbody tr th:only-of-type {\n",
       "        vertical-align: middle;\n",
       "    }\n",
       "\n",
       "    .dataframe tbody tr th {\n",
       "        vertical-align: top;\n",
       "    }\n",
       "\n",
       "    .dataframe thead th {\n",
       "        text-align: right;\n",
       "    }\n",
       "</style>\n",
       "<table border=\"1\" class=\"dataframe\">\n",
       "  <thead>\n",
       "    <tr style=\"text-align: right;\">\n",
       "      <th></th>\n",
       "      <th>bone_length</th>\n",
       "      <th>rotting_flesh</th>\n",
       "      <th>hair_length</th>\n",
       "      <th>has_soul</th>\n",
       "      <th>color</th>\n",
       "      <th>type</th>\n",
       "    </tr>\n",
       "  </thead>\n",
       "  <tbody>\n",
       "    <tr>\n",
       "      <th>0</th>\n",
       "      <td>0.354512</td>\n",
       "      <td>0.350839</td>\n",
       "      <td>0.465761</td>\n",
       "      <td>0.781142</td>\n",
       "      <td>clear</td>\n",
       "      <td>Ghoul</td>\n",
       "    </tr>\n",
       "    <tr>\n",
       "      <th>1</th>\n",
       "      <td>0.575560</td>\n",
       "      <td>0.425868</td>\n",
       "      <td>0.531401</td>\n",
       "      <td>0.439899</td>\n",
       "      <td>green</td>\n",
       "      <td>Goblin</td>\n",
       "    </tr>\n",
       "    <tr>\n",
       "      <th>2</th>\n",
       "      <td>0.467875</td>\n",
       "      <td>0.354330</td>\n",
       "      <td>0.811616</td>\n",
       "      <td>0.791225</td>\n",
       "      <td>black</td>\n",
       "      <td>Ghoul</td>\n",
       "    </tr>\n",
       "    <tr>\n",
       "      <th>3</th>\n",
       "      <td>0.776652</td>\n",
       "      <td>0.508723</td>\n",
       "      <td>0.636766</td>\n",
       "      <td>0.884464</td>\n",
       "      <td>black</td>\n",
       "      <td>Ghoul</td>\n",
       "    </tr>\n",
       "    <tr>\n",
       "      <th>4</th>\n",
       "      <td>0.566117</td>\n",
       "      <td>0.875862</td>\n",
       "      <td>0.418594</td>\n",
       "      <td>0.636438</td>\n",
       "      <td>green</td>\n",
       "      <td>Ghost</td>\n",
       "    </tr>\n",
       "    <tr>\n",
       "      <th>...</th>\n",
       "      <td>...</td>\n",
       "      <td>...</td>\n",
       "      <td>...</td>\n",
       "      <td>...</td>\n",
       "      <td>...</td>\n",
       "      <td>...</td>\n",
       "    </tr>\n",
       "    <tr>\n",
       "      <th>366</th>\n",
       "      <td>0.458132</td>\n",
       "      <td>0.391760</td>\n",
       "      <td>0.660590</td>\n",
       "      <td>0.635689</td>\n",
       "      <td>blue</td>\n",
       "      <td>Goblin</td>\n",
       "    </tr>\n",
       "    <tr>\n",
       "      <th>367</th>\n",
       "      <td>0.331936</td>\n",
       "      <td>0.564836</td>\n",
       "      <td>0.539216</td>\n",
       "      <td>0.551471</td>\n",
       "      <td>green</td>\n",
       "      <td>Ghost</td>\n",
       "    </tr>\n",
       "    <tr>\n",
       "      <th>368</th>\n",
       "      <td>0.481640</td>\n",
       "      <td>0.501147</td>\n",
       "      <td>0.496446</td>\n",
       "      <td>0.544003</td>\n",
       "      <td>clear</td>\n",
       "      <td>Ghoul</td>\n",
       "    </tr>\n",
       "    <tr>\n",
       "      <th>369</th>\n",
       "      <td>0.294943</td>\n",
       "      <td>0.771286</td>\n",
       "      <td>0.583503</td>\n",
       "      <td>0.300618</td>\n",
       "      <td>clear</td>\n",
       "      <td>Ghost</td>\n",
       "    </tr>\n",
       "    <tr>\n",
       "      <th>370</th>\n",
       "      <td>0.670200</td>\n",
       "      <td>0.768469</td>\n",
       "      <td>0.737274</td>\n",
       "      <td>0.608384</td>\n",
       "      <td>white</td>\n",
       "      <td>Ghoul</td>\n",
       "    </tr>\n",
       "  </tbody>\n",
       "</table>\n",
       "<p>371 rows × 6 columns</p>\n",
       "</div>"
      ],
      "text/plain": [
       "     bone_length  rotting_flesh  hair_length  has_soul  color    type\n",
       "0       0.354512       0.350839     0.465761  0.781142  clear   Ghoul\n",
       "1       0.575560       0.425868     0.531401  0.439899  green  Goblin\n",
       "2       0.467875       0.354330     0.811616  0.791225  black   Ghoul\n",
       "3       0.776652       0.508723     0.636766  0.884464  black   Ghoul\n",
       "4       0.566117       0.875862     0.418594  0.636438  green   Ghost\n",
       "..           ...            ...          ...       ...    ...     ...\n",
       "366     0.458132       0.391760     0.660590  0.635689   blue  Goblin\n",
       "367     0.331936       0.564836     0.539216  0.551471  green   Ghost\n",
       "368     0.481640       0.501147     0.496446  0.544003  clear   Ghoul\n",
       "369     0.294943       0.771286     0.583503  0.300618  clear   Ghost\n",
       "370     0.670200       0.768469     0.737274  0.608384  white   Ghoul\n",
       "\n",
       "[371 rows x 6 columns]"
      ]
     },
     "execution_count": 3,
     "metadata": {},
     "output_type": "execute_result"
    }
   ],
   "source": [
    "# id 제외\n",
    "train_df = train_df.drop(\"id\", axis = 1)\n",
    "train_df"
   ]
  },
  {
   "cell_type": "markdown",
   "id": "TkcOzV_k1Fvg",
   "metadata": {
    "id": "TkcOzV_k1Fvg"
   },
   "source": [
    "#### LabelEncoder를 사용해 color, type column을 인코딩한 train_df를 만드시오."
   ]
  },
  {
   "cell_type": "code",
   "execution_count": 4,
   "id": "FrkaPft31OaX",
   "metadata": {
    "executionInfo": {
     "elapsed": 340,
     "status": "ok",
     "timestamp": 1663518469779,
     "user": {
      "displayName": "차수빈",
      "userId": "16979887891359732529"
     },
     "user_tz": -540
    },
    "id": "FrkaPft31OaX"
   },
   "outputs": [],
   "source": [
    "from sklearn.preprocessing import LabelEncoder"
   ]
  },
  {
   "cell_type": "code",
   "execution_count": 5,
   "id": "WhRaXeBw50C6",
   "metadata": {
    "colab": {
     "base_uri": "https://localhost:8080/"
    },
    "executionInfo": {
     "elapsed": 10,
     "status": "ok",
     "timestamp": 1663518469779,
     "user": {
      "displayName": "차수빈",
      "userId": "16979887891359732529"
     },
     "user_tz": -540
    },
    "id": "WhRaXeBw50C6",
    "outputId": "a46c45fb-1326-4c7b-9eb0-442225db1e4d"
   },
   "outputs": [
    {
     "data": {
      "text/plain": [
       "5    137\n",
       "3    120\n",
       "4     42\n",
       "0     41\n",
       "2     19\n",
       "1     12\n",
       "Name: color, dtype: int64"
      ]
     },
     "execution_count": 5,
     "metadata": {},
     "output_type": "execute_result"
    }
   ],
   "source": [
    "encoder = LabelEncoder() # 라벨 인코더 객체 생성\n",
    "encoder.fit(train_df['color'])\n",
    "train_df['color'] = encoder.transform(train_df['color']) # label-encoding을 시킨 결과를 다시 df의 컬럼에 저장\n",
    "train_df['color'].value_counts()"
   ]
  },
  {
   "cell_type": "code",
   "execution_count": 6,
   "id": "UvxfM0QB72K4",
   "metadata": {
    "colab": {
     "base_uri": "https://localhost:8080/"
    },
    "executionInfo": {
     "elapsed": 8,
     "status": "ok",
     "timestamp": 1663518469780,
     "user": {
      "displayName": "차수빈",
      "userId": "16979887891359732529"
     },
     "user_tz": -540
    },
    "id": "UvxfM0QB72K4",
    "outputId": "6d91027d-816e-45c9-9cb4-0448202a86ac"
   },
   "outputs": [
    {
     "data": {
      "text/plain": [
       "1    129\n",
       "2    125\n",
       "0    117\n",
       "Name: type, dtype: int64"
      ]
     },
     "execution_count": 6,
     "metadata": {},
     "output_type": "execute_result"
    }
   ],
   "source": [
    "encoder.fit(train_df['type'])\n",
    "train_df['type'] = encoder.transform(train_df['type']) # label-encoding을 시킨 결과를 다시 df의 컬럼에 저장\n",
    "train_df['type'].value_counts()"
   ]
  },
  {
   "cell_type": "markdown",
   "id": "i9vP5ij_1s_6",
   "metadata": {
    "id": "i9vP5ij_1s_6"
   },
   "source": [
    "#### feature간의 상관관계를 확인하는 heatmap을 출력하시오."
   ]
  },
  {
   "cell_type": "code",
   "execution_count": 7,
   "id": "jlYIKAtf1Yb2",
   "metadata": {
    "colab": {
     "base_uri": "https://localhost:8080/",
     "height": 340
    },
    "executionInfo": {
     "elapsed": 908,
     "status": "ok",
     "timestamp": 1663518470683,
     "user": {
      "displayName": "차수빈",
      "userId": "16979887891359732529"
     },
     "user_tz": -540
    },
    "id": "jlYIKAtf1Yb2",
    "outputId": "0a11e0b9-6318-4783-996b-4af8fe05d7f7"
   },
   "outputs": [
    {
     "data": {
      "image/png": "[encoded data removed]",
      "text/plain": [
       "<Figure size 640x480 with 2 Axes>"
      ]
     },
     "metadata": {},
     "output_type": "display_data"
    },
    {
     "data": {
      "text/plain": [
       "<Figure size 900x900 with 0 Axes>"
      ]
     },
     "metadata": {},
     "output_type": "display_data"
    }
   ],
   "source": [
    "import seaborn as sns\n",
    "\n",
    "sns.heatmap(train_df.corr(),annot = True,linewidths = 1)\n",
    "plt.figure(figsize=(9,9))\n",
    "plt.show()"
   ]
  },
  {
   "cell_type": "markdown",
   "id": "dffe9164",
   "metadata": {
    "id": "dffe9164"
   },
   "source": [
    "#### 독립변수(X)와 종속변수(y-type)로 분리해주세요(iloc 또는 loc 활용) 그리고 확인해주세요.\n",
    "#### X와 y를 X_train, X_test, y_train, y_test으로 나누시오. (test_size=0.2, random_state=12) "
   ]
  },
  {
   "cell_type": "code",
   "execution_count": 8,
   "id": "e1f4fb30",
   "metadata": {
    "executionInfo": {
     "elapsed": 66,
     "status": "ok",
     "timestamp": 1663518470686,
     "user": {
      "displayName": "차수빈",
      "userId": "16979887891359732529"
     },
     "user_tz": -540
    },
    "id": "e1f4fb30"
   },
   "outputs": [],
   "source": [
    "from sklearn.model_selection import train_test_split\n",
    "\n",
    "X_train, X_test, y_train, y_test = train_test_split(train_df.iloc[:,:5],train_df.iloc[:,5],test_size = 0.2,random_state = 12)"
   ]
  },
  {
   "cell_type": "code",
   "execution_count": 9,
   "id": "94f2a85c",
   "metadata": {
    "colab": {
     "base_uri": "https://localhost:8080/",
     "height": 424
    },
    "executionInfo": {
     "elapsed": 66,
     "status": "ok",
     "timestamp": 1663518470688,
     "user": {
      "displayName": "차수빈",
      "userId": "16979887891359732529"
     },
     "user_tz": -540
    },
    "id": "94f2a85c",
    "outputId": "388c2a70-93a6-4b8b-d17e-2eecbc6df9c0"
   },
   "outputs": [
    {
     "data": {
      "text/html": [
       "<div>\n",
       "<style scoped>\n",
       "    .dataframe tbody tr th:only-of-type {\n",
       "        vertical-align: middle;\n",
       "    }\n",
       "\n",
       "    .dataframe tbody tr th {\n",
       "        vertical-align: top;\n",
       "    }\n",
       "\n",
       "    .dataframe thead th {\n",
       "        text-align: right;\n",
       "    }\n",
       "</style>\n",
       "<table border=\"1\" class=\"dataframe\">\n",
       "  <thead>\n",
       "    <tr style=\"text-align: right;\">\n",
       "      <th></th>\n",
       "      <th>bone_length</th>\n",
       "      <th>rotting_flesh</th>\n",
       "      <th>hair_length</th>\n",
       "      <th>has_soul</th>\n",
       "      <th>color</th>\n",
       "    </tr>\n",
       "  </thead>\n",
       "  <tbody>\n",
       "    <tr>\n",
       "      <th>292</th>\n",
       "      <td>0.476892</td>\n",
       "      <td>0.478592</td>\n",
       "      <td>0.403630</td>\n",
       "      <td>0.544587</td>\n",
       "      <td>2</td>\n",
       "    </tr>\n",
       "    <tr>\n",
       "      <th>236</th>\n",
       "      <td>0.451085</td>\n",
       "      <td>0.464508</td>\n",
       "      <td>0.505819</td>\n",
       "      <td>0.509010</td>\n",
       "      <td>0</td>\n",
       "    </tr>\n",
       "    <tr>\n",
       "      <th>222</th>\n",
       "      <td>0.250293</td>\n",
       "      <td>0.408878</td>\n",
       "      <td>0.456618</td>\n",
       "      <td>0.466024</td>\n",
       "      <td>5</td>\n",
       "    </tr>\n",
       "    <tr>\n",
       "      <th>206</th>\n",
       "      <td>0.357145</td>\n",
       "      <td>0.489931</td>\n",
       "      <td>0.698190</td>\n",
       "      <td>0.753687</td>\n",
       "      <td>3</td>\n",
       "    </tr>\n",
       "    <tr>\n",
       "      <th>41</th>\n",
       "      <td>0.456935</td>\n",
       "      <td>0.627141</td>\n",
       "      <td>0.463794</td>\n",
       "      <td>0.436216</td>\n",
       "      <td>0</td>\n",
       "    </tr>\n",
       "    <tr>\n",
       "      <th>...</th>\n",
       "      <td>...</td>\n",
       "      <td>...</td>\n",
       "      <td>...</td>\n",
       "      <td>...</td>\n",
       "      <td>...</td>\n",
       "    </tr>\n",
       "    <tr>\n",
       "      <th>130</th>\n",
       "      <td>0.434998</td>\n",
       "      <td>0.412613</td>\n",
       "      <td>0.753331</td>\n",
       "      <td>0.612577</td>\n",
       "      <td>4</td>\n",
       "    </tr>\n",
       "    <tr>\n",
       "      <th>241</th>\n",
       "      <td>0.482716</td>\n",
       "      <td>0.561481</td>\n",
       "      <td>0.531423</td>\n",
       "      <td>0.560659</td>\n",
       "      <td>3</td>\n",
       "    </tr>\n",
       "    <tr>\n",
       "      <th>253</th>\n",
       "      <td>0.427218</td>\n",
       "      <td>0.545423</td>\n",
       "      <td>0.639650</td>\n",
       "      <td>0.604801</td>\n",
       "      <td>3</td>\n",
       "    </tr>\n",
       "    <tr>\n",
       "      <th>155</th>\n",
       "      <td>0.559825</td>\n",
       "      <td>0.649088</td>\n",
       "      <td>0.759295</td>\n",
       "      <td>0.656943</td>\n",
       "      <td>5</td>\n",
       "    </tr>\n",
       "    <tr>\n",
       "      <th>331</th>\n",
       "      <td>0.361867</td>\n",
       "      <td>0.565680</td>\n",
       "      <td>0.419227</td>\n",
       "      <td>0.519361</td>\n",
       "      <td>5</td>\n",
       "    </tr>\n",
       "  </tbody>\n",
       "</table>\n",
       "<p>296 rows × 5 columns</p>\n",
       "</div>"
      ],
      "text/plain": [
       "     bone_length  rotting_flesh  hair_length  has_soul  color\n",
       "292     0.476892       0.478592     0.403630  0.544587      2\n",
       "236     0.451085       0.464508     0.505819  0.509010      0\n",
       "222     0.250293       0.408878     0.456618  0.466024      5\n",
       "206     0.357145       0.489931     0.698190  0.753687      3\n",
       "41      0.456935       0.627141     0.463794  0.436216      0\n",
       "..           ...            ...          ...       ...    ...\n",
       "130     0.434998       0.412613     0.753331  0.612577      4\n",
       "241     0.482716       0.561481     0.531423  0.560659      3\n",
       "253     0.427218       0.545423     0.639650  0.604801      3\n",
       "155     0.559825       0.649088     0.759295  0.656943      5\n",
       "331     0.361867       0.565680     0.419227  0.519361      5\n",
       "\n",
       "[296 rows x 5 columns]"
      ]
     },
     "execution_count": 9,
     "metadata": {},
     "output_type": "execute_result"
    }
   ],
   "source": [
    "X_train"
   ]
  },
  {
   "cell_type": "code",
   "execution_count": 10,
   "id": "jebLPCOP_rfZ",
   "metadata": {
    "colab": {
     "base_uri": "https://localhost:8080/"
    },
    "executionInfo": {
     "elapsed": 65,
     "status": "ok",
     "timestamp": 1663518470690,
     "user": {
      "displayName": "차수빈",
      "userId": "16979887891359732529"
     },
     "user_tz": -540
    },
    "id": "jebLPCOP_rfZ",
    "outputId": "881d298d-b7c6-49a7-8859-69a96ba5a61e"
   },
   "outputs": [
    {
     "data": {
      "text/plain": [
       "292    1\n",
       "236    2\n",
       "222    2\n",
       "206    1\n",
       "41     0\n",
       "      ..\n",
       "130    1\n",
       "241    1\n",
       "253    2\n",
       "155    1\n",
       "331    0\n",
       "Name: type, Length: 296, dtype: int32"
      ]
     },
     "execution_count": 10,
     "metadata": {},
     "output_type": "execute_result"
    }
   ],
   "source": [
    "y_train"
   ]
  },
  {
   "cell_type": "code",
   "execution_count": 11,
   "id": "CLhsKqQ84yHU",
   "metadata": {
    "colab": {
     "base_uri": "https://localhost:8080/",
     "height": 424
    },
    "executionInfo": {
     "elapsed": 59,
     "status": "ok",
     "timestamp": 1663518470693,
     "user": {
      "displayName": "차수빈",
      "userId": "16979887891359732529"
     },
     "user_tz": -540
    },
    "id": "CLhsKqQ84yHU",
    "outputId": "33d88058-06c7-4232-ea1b-31877c87491b"
   },
   "outputs": [
    {
     "data": {
      "text/html": [
       "<div>\n",
       "<style scoped>\n",
       "    .dataframe tbody tr th:only-of-type {\n",
       "        vertical-align: middle;\n",
       "    }\n",
       "\n",
       "    .dataframe tbody tr th {\n",
       "        vertical-align: top;\n",
       "    }\n",
       "\n",
       "    .dataframe thead th {\n",
       "        text-align: right;\n",
       "    }\n",
       "</style>\n",
       "<table border=\"1\" class=\"dataframe\">\n",
       "  <thead>\n",
       "    <tr style=\"text-align: right;\">\n",
       "      <th></th>\n",
       "      <th>bone_length</th>\n",
       "      <th>rotting_flesh</th>\n",
       "      <th>hair_length</th>\n",
       "      <th>has_soul</th>\n",
       "      <th>color</th>\n",
       "    </tr>\n",
       "  </thead>\n",
       "  <tbody>\n",
       "    <tr>\n",
       "      <th>357</th>\n",
       "      <td>0.434891</td>\n",
       "      <td>0.667160</td>\n",
       "      <td>0.798618</td>\n",
       "      <td>0.460061</td>\n",
       "      <td>4</td>\n",
       "    </tr>\n",
       "    <tr>\n",
       "      <th>139</th>\n",
       "      <td>0.416152</td>\n",
       "      <td>0.418087</td>\n",
       "      <td>0.802077</td>\n",
       "      <td>0.454922</td>\n",
       "      <td>3</td>\n",
       "    </tr>\n",
       "    <tr>\n",
       "      <th>310</th>\n",
       "      <td>0.387011</td>\n",
       "      <td>0.527047</td>\n",
       "      <td>0.765752</td>\n",
       "      <td>0.610298</td>\n",
       "      <td>5</td>\n",
       "    </tr>\n",
       "    <tr>\n",
       "      <th>320</th>\n",
       "      <td>0.342585</td>\n",
       "      <td>0.261752</td>\n",
       "      <td>0.582865</td>\n",
       "      <td>0.510331</td>\n",
       "      <td>3</td>\n",
       "    </tr>\n",
       "    <tr>\n",
       "      <th>201</th>\n",
       "      <td>0.296605</td>\n",
       "      <td>0.352157</td>\n",
       "      <td>0.901810</td>\n",
       "      <td>0.541123</td>\n",
       "      <td>4</td>\n",
       "    </tr>\n",
       "    <tr>\n",
       "      <th>...</th>\n",
       "      <td>...</td>\n",
       "      <td>...</td>\n",
       "      <td>...</td>\n",
       "      <td>...</td>\n",
       "      <td>...</td>\n",
       "    </tr>\n",
       "    <tr>\n",
       "      <th>276</th>\n",
       "      <td>0.246415</td>\n",
       "      <td>0.409596</td>\n",
       "      <td>0.538642</td>\n",
       "      <td>0.084829</td>\n",
       "      <td>4</td>\n",
       "    </tr>\n",
       "    <tr>\n",
       "      <th>361</th>\n",
       "      <td>0.501022</td>\n",
       "      <td>0.584847</td>\n",
       "      <td>0.656230</td>\n",
       "      <td>0.469886</td>\n",
       "      <td>3</td>\n",
       "    </tr>\n",
       "    <tr>\n",
       "      <th>284</th>\n",
       "      <td>0.761355</td>\n",
       "      <td>0.331480</td>\n",
       "      <td>0.861060</td>\n",
       "      <td>0.735897</td>\n",
       "      <td>4</td>\n",
       "    </tr>\n",
       "    <tr>\n",
       "      <th>101</th>\n",
       "      <td>0.207874</td>\n",
       "      <td>0.545294</td>\n",
       "      <td>0.357987</td>\n",
       "      <td>0.484055</td>\n",
       "      <td>3</td>\n",
       "    </tr>\n",
       "    <tr>\n",
       "      <th>176</th>\n",
       "      <td>0.540806</td>\n",
       "      <td>0.323365</td>\n",
       "      <td>0.690605</td>\n",
       "      <td>0.698480</td>\n",
       "      <td>5</td>\n",
       "    </tr>\n",
       "  </tbody>\n",
       "</table>\n",
       "<p>75 rows × 5 columns</p>\n",
       "</div>"
      ],
      "text/plain": [
       "     bone_length  rotting_flesh  hair_length  has_soul  color\n",
       "357     0.434891       0.667160     0.798618  0.460061      4\n",
       "139     0.416152       0.418087     0.802077  0.454922      3\n",
       "310     0.387011       0.527047     0.765752  0.610298      5\n",
       "320     0.342585       0.261752     0.582865  0.510331      3\n",
       "201     0.296605       0.352157     0.901810  0.541123      4\n",
       "..           ...            ...          ...       ...    ...\n",
       "276     0.246415       0.409596     0.538642  0.084829      4\n",
       "361     0.501022       0.584847     0.656230  0.469886      3\n",
       "284     0.761355       0.331480     0.861060  0.735897      4\n",
       "101     0.207874       0.545294     0.357987  0.484055      3\n",
       "176     0.540806       0.323365     0.690605  0.698480      5\n",
       "\n",
       "[75 rows x 5 columns]"
      ]
     },
     "execution_count": 11,
     "metadata": {},
     "output_type": "execute_result"
    }
   ],
   "source": [
    "X_test"
   ]
  },
  {
   "cell_type": "code",
   "execution_count": 12,
   "id": "-m8Mohb6_vhO",
   "metadata": {
    "colab": {
     "base_uri": "https://localhost:8080/"
    },
    "executionInfo": {
     "elapsed": 59,
     "status": "ok",
     "timestamp": 1663518470696,
     "user": {
      "displayName": "차수빈",
      "userId": "16979887891359732529"
     },
     "user_tz": -540
    },
    "id": "-m8Mohb6_vhO",
    "outputId": "c3c9f35d-197a-41aa-ad6e-3c99ca477330"
   },
   "outputs": [
    {
     "data": {
      "text/plain": [
       "357    1\n",
       "139    1\n",
       "310    1\n",
       "320    2\n",
       "201    1\n",
       "      ..\n",
       "276    0\n",
       "361    1\n",
       "284    1\n",
       "101    0\n",
       "176    1\n",
       "Name: type, Length: 75, dtype: int32"
      ]
     },
     "execution_count": 12,
     "metadata": {},
     "output_type": "execute_result"
    }
   ],
   "source": [
    "y_test"
   ]
  },
  {
   "cell_type": "markdown",
   "id": "RRRzgi_KhGDC",
   "metadata": {
    "id": "RRRzgi_KhGDC"
   },
   "source": [
    "#### Gradient Boost를 활용하여 train 세트를 fit 한 후 test 세트로 예측의 정확도를 출력하시오. (random_state=0,n_estimators=50,learning_rate=0.5)\n"
   ]
  },
  {
   "cell_type": "code",
   "execution_count": 13,
   "id": "0S0xMFdDgcLb",
   "metadata": {
    "executionInfo": {
     "elapsed": 54,
     "status": "ok",
     "timestamp": 1663518470698,
     "user": {
      "displayName": "차수빈",
      "userId": "16979887891359732529"
     },
     "user_tz": -540
    },
    "id": "0S0xMFdDgcLb"
   },
   "outputs": [],
   "source": [
    "from sklearn.ensemble import GradientBoostingClassifier\n",
    "from sklearn.metrics import accuracy_score"
   ]
  },
  {
   "cell_type": "code",
   "execution_count": 14,
   "id": "LZhBzjGYhrc1",
   "metadata": {
    "colab": {
     "base_uri": "https://localhost:8080/"
    },
    "executionInfo": {
     "elapsed": 54,
     "status": "ok",
     "timestamp": 1663518470699,
     "user": {
      "displayName": "차수빈",
      "userId": "16979887891359732529"
     },
     "user_tz": -540
    },
    "id": "LZhBzjGYhrc1",
    "outputId": "572c57dd-eba7-4cc8-fa8a-1e9e1dd3c993"
   },
   "outputs": [
    {
     "name": "stdout",
     "output_type": "stream",
     "text": [
      "GBM 정확도: 0.7067\n"
     ]
    }
   ],
   "source": [
    "gb_clf = GradientBoostingClassifier(random_state = 0, n_estimators = 50,learning_rate = 0.5)\n",
    "gb_clf.fit(X_train,y_train)\n",
    "gb_pred = gb_clf.predict(X_test)\n",
    "gb_accuracy = accuracy_score(y_test,gb_pred)\n",
    "print('GBM 정확도: {0:.4f}'.format(gb_accuracy))"
   ]
  },
  {
   "cell_type": "markdown",
   "id": "vd_H18-5hz8o",
   "metadata": {
    "id": "vd_H18-5hz8o"
   },
   "source": [
    "#### GBM 하이퍼 파라미터 튜닝을 한 후, 최적의 하이퍼 파라미터를 구하고 정확도를 출력하시오. 위의 값과 정확도를 비교하시오. 이때 n_estimators는 50,100,500, learning_rate는 0.005, 0.1, 0.5,1,10 을 변수로 넣으시오.(gridsearchCV이용,cv=2,verbose=1)"
   ]
  },
  {
   "cell_type": "code",
   "execution_count": 15,
   "id": "e8l6ivZ7hwQI",
   "metadata": {
    "colab": {
     "base_uri": "https://localhost:8080/"
    },
    "executionInfo": {
     "elapsed": 29675,
     "status": "ok",
     "timestamp": 1663518500331,
     "user": {
      "displayName": "차수빈",
      "userId": "16979887891359732529"
     },
     "user_tz": -540
    },
    "id": "e8l6ivZ7hwQI",
    "outputId": "2f6af5ce-a31f-40c6-9938-1de82f56a1dc"
   },
   "outputs": [
    {
     "name": "stdout",
     "output_type": "stream",
     "text": [
      "Fitting 2 folds for each of 15 candidates, totalling 30 fits\n",
      "최적 하이퍼 파라미터:\n",
      " {'learning_rate': 0.005, 'n_estimators': 500}\n",
      "최고 예측 정확도: 0.7095\n"
     ]
    }
   ],
   "source": [
    "from sklearn.model_selection import GridSearchCV\n",
    "\n",
    "params = {\n",
    "    'n_estimators':[50, 100, 500],\n",
    "    'learning_rate' : [0.005, 0.1, 0.5,1,10]\n",
    "}\n",
    "grid_cv = GridSearchCV(gb_clf, param_grid=params , cv = 2 ,verbose = 1)\n",
    "grid_cv.fit(X_train, y_train)\n",
    "print('최적 하이퍼 파라미터:\\n', grid_cv.best_params_)\n",
    "print('최고 예측 정확도: {0:.4f}'.format(grid_cv.best_score_))\n",
    "\n",
    "# 정확도가 위에 비해 조금 향상되었다."
   ]
  },
  {
   "cell_type": "markdown",
   "id": "e4f87798",
   "metadata": {
    "id": "e4f87798"
   },
   "source": [
    "#### 사이킷런 래퍼 클래스 XGBoost를 사용해 train 세트를 fit 한 후 test 세트로 예측의 정확도를 출력하시오. (n_estimators=400, learning_rate = 0.1, max_depth = 3)"
   ]
  },
  {
   "cell_type": "code",
   "execution_count": 16,
   "id": "31188f82",
   "metadata": {
    "executionInfo": {
     "elapsed": 76,
     "status": "ok",
     "timestamp": 1663518500336,
     "user": {
      "displayName": "차수빈",
      "userId": "16979887891359732529"
     },
     "user_tz": -540
    },
    "id": "31188f82"
   },
   "outputs": [],
   "source": [
    "import xgboost as xgb\n",
    "from xgboost import plot_importance\n",
    "from xgboost import XGBClassifier\n",
    "\n",
    "from sklearn.metrics import accuracy_score"
   ]
  },
  {
   "cell_type": "code",
   "execution_count": 17,
   "id": "af980052",
   "metadata": {
    "colab": {
     "base_uri": "https://localhost:8080/"
    },
    "executionInfo": {
     "elapsed": 75,
     "status": "ok",
     "timestamp": 1663518500338,
     "user": {
      "displayName": "차수빈",
      "userId": "16979887891359732529"
     },
     "user_tz": -540
    },
    "id": "af980052",
    "outputId": "cbee0079-4422-4fbc-eb9e-767b2d6b374e"
   },
   "outputs": [
    {
     "name": "stdout",
     "output_type": "stream",
     "text": [
      "XGB 정확도: 0.6800\n"
     ]
    }
   ],
   "source": [
    "xgb_wrapper = XGBClassifier(n_estimators = 400, learning_rate = 0.1, max_depth = 3)\n",
    "xgb_wrapper.fit(X_train, y_train)\n",
    "w_preds = xgb_wrapper.predict(X_test)\n",
    "w_accuracy = accuracy_score(y_test,w_preds)\n",
    "print('XGB 정확도: {0:.4f}'.format(w_accuracy))"
   ]
  },
  {
   "cell_type": "markdown",
   "id": "8cbca7f7",
   "metadata": {
    "id": "8cbca7f7"
   },
   "source": [
    "#### 사이킷런 래퍼 클래스 LightGBM를 사용해 train 세트를 fit 한 후 test 세트로 예측의 정확도를 출력하시오. \n",
    "\n",
    "n_estimators=400\n",
    "조기 중단 파라미터: early_stopping_rounds=100, eval_metric=\"logloss\",  eval_set=evals "
   ]
  },
  {
   "cell_type": "code",
   "execution_count": 18,
   "id": "b0debb5b",
   "metadata": {
    "colab": {
     "base_uri": "https://localhost:8080/"
    },
    "executionInfo": {
     "elapsed": 71,
     "status": "ok",
     "timestamp": 1663518500339,
     "user": {
      "displayName": "차수빈",
      "userId": "16979887891359732529"
     },
     "user_tz": -540
    },
    "id": "b0debb5b",
    "outputId": "05ed5dfd-698d-485c-e1c6-9d66e9164755"
   },
   "outputs": [
    {
     "name": "stdout",
     "output_type": "stream",
     "text": [
      "[1]\tvalid_0's multi_logloss: 1.04658\n",
      "[2]\tvalid_0's multi_logloss: 0.991864\n",
      "[3]\tvalid_0's multi_logloss: 0.961098\n",
      "[4]\tvalid_0's multi_logloss: 0.922715\n",
      "[5]\tvalid_0's multi_logloss: 0.889621\n",
      "[6]\tvalid_0's multi_logloss: 0.860335\n",
      "[7]\tvalid_0's multi_logloss: 0.838603\n",
      "[8]\tvalid_0's multi_logloss: 0.823945\n",
      "[9]\tvalid_0's multi_logloss: 0.808374\n",
      "[10]\tvalid_0's multi_logloss: 0.794635\n",
      "[11]\tvalid_0's multi_logloss: 0.787051\n",
      "[12]\tvalid_0's multi_logloss: 0.779236\n",
      "[13]\tvalid_0's multi_logloss: 0.772983\n",
      "[14]\tvalid_0's multi_logloss: 0.764275\n",
      "[15]\tvalid_0's multi_logloss: 0.752906\n",
      "[16]\tvalid_0's multi_logloss: 0.746936\n",
      "[17]\tvalid_0's multi_logloss: 0.748563\n",
      "[18]\tvalid_0's multi_logloss: 0.744367\n",
      "[19]\tvalid_0's multi_logloss: 0.743001\n",
      "[20]\tvalid_0's multi_logloss: 0.73754\n",
      "[21]\tvalid_0's multi_logloss: 0.73435\n",
      "[22]\tvalid_0's multi_logloss: 0.730277\n",
      "[23]\tvalid_0's multi_logloss: 0.729156\n",
      "[24]\tvalid_0's multi_logloss: 0.727211\n",
      "[25]\tvalid_0's multi_logloss: 0.73012\n",
      "[26]\tvalid_0's multi_logloss: 0.729092\n",
      "[27]\tvalid_0's multi_logloss: 0.729345\n",
      "[28]\tvalid_0's multi_logloss: 0.728497\n",
      "[29]\tvalid_0's multi_logloss: 0.727576\n",
      "[30]\tvalid_0's multi_logloss: 0.724781\n",
      "[31]\tvalid_0's multi_logloss: 0.723628\n",
      "[32]\tvalid_0's multi_logloss: 0.724215\n",
      "[33]\tvalid_0's multi_logloss: 0.734317\n",
      "[34]\tvalid_0's multi_logloss: 0.731248\n",
      "[35]\tvalid_0's multi_logloss: 0.733759\n",
      "[36]\tvalid_0's multi_logloss: 0.737153\n",
      "[37]\tvalid_0's multi_logloss: 0.742632\n",
      "[38]\tvalid_0's multi_logloss: 0.747769\n",
      "[39]\tvalid_0's multi_logloss: 0.745786\n",
      "[40]\tvalid_0's multi_logloss: 0.750508\n",
      "[41]\tvalid_0's multi_logloss: 0.748724\n",
      "[42]\tvalid_0's multi_logloss: 0.750879\n",
      "[43]\tvalid_0's multi_logloss: 0.757494\n",
      "[44]\tvalid_0's multi_logloss: 0.765465\n",
      "[45]\tvalid_0's multi_logloss: 0.768327\n",
      "[46]\tvalid_0's multi_logloss: 0.76625\n",
      "[47]\tvalid_0's multi_logloss: 0.773041\n",
      "[48]\tvalid_0's multi_logloss: 0.773306\n",
      "[49]\tvalid_0's multi_logloss: 0.771136\n",
      "[50]\tvalid_0's multi_logloss: 0.772428\n",
      "[51]\tvalid_0's multi_logloss: 0.77959\n",
      "[52]\tvalid_0's multi_logloss: 0.78168\n",
      "[53]\tvalid_0's multi_logloss: 0.782384\n",
      "[54]\tvalid_0's multi_logloss: 0.79391\n",
      "[55]\tvalid_0's multi_logloss: 0.800143\n",
      "[56]\tvalid_0's multi_logloss: 0.807441\n",
      "[57]\tvalid_0's multi_logloss: 0.814425\n",
      "[58]\tvalid_0's multi_logloss: 0.818393\n",
      "[59]\tvalid_0's multi_logloss: 0.825027\n",
      "[60]\tvalid_0's multi_logloss: 0.83225\n",
      "[61]\tvalid_0's multi_logloss: 0.826427\n",
      "[62]\tvalid_0's multi_logloss: 0.835824\n",
      "[63]\tvalid_0's multi_logloss: 0.845027\n",
      "[64]\tvalid_0's multi_logloss: 0.845087\n",
      "[65]\tvalid_0's multi_logloss: 0.847512\n",
      "[66]\tvalid_0's multi_logloss: 0.851212\n",
      "[67]\tvalid_0's multi_logloss: 0.855412\n",
      "[68]\tvalid_0's multi_logloss: 0.856328\n",
      "[69]\tvalid_0's multi_logloss: 0.856603\n",
      "[70]\tvalid_0's multi_logloss: 0.852903\n",
      "[71]\tvalid_0's multi_logloss: 0.858905\n",
      "[72]\tvalid_0's multi_logloss: 0.865034\n",
      "[73]\tvalid_0's multi_logloss: 0.869552\n",
      "[74]\tvalid_0's multi_logloss: 0.87854\n",
      "[75]\tvalid_0's multi_logloss: 0.879556\n",
      "[76]\tvalid_0's multi_logloss: 0.883094\n",
      "[77]\tvalid_0's multi_logloss: 0.89176\n",
      "[78]\tvalid_0's multi_logloss: 0.894926\n",
      "[79]\tvalid_0's multi_logloss: 0.897368\n",
      "[80]\tvalid_0's multi_logloss: 0.899179\n",
      "[81]\tvalid_0's multi_logloss: 0.897999\n",
      "[82]\tvalid_0's multi_logloss: 0.904347\n",
      "[83]\tvalid_0's multi_logloss: 0.914939\n",
      "[84]\tvalid_0's multi_logloss: 0.923619\n",
      "[85]\tvalid_0's multi_logloss: 0.925383\n",
      "[86]\tvalid_0's multi_logloss: 0.926975\n",
      "[87]\tvalid_0's multi_logloss: 0.927219\n",
      "[88]\tvalid_0's multi_logloss: 0.926762\n",
      "[89]\tvalid_0's multi_logloss: 0.931309\n",
      "[90]\tvalid_0's multi_logloss: 0.935601\n",
      "[91]\tvalid_0's multi_logloss: 0.941648\n",
      "[92]\tvalid_0's multi_logloss: 0.945676\n",
      "[93]\tvalid_0's multi_logloss: 0.949198\n",
      "[94]\tvalid_0's multi_logloss: 0.951585\n",
      "[95]\tvalid_0's multi_logloss: 0.950862\n",
      "[96]\tvalid_0's multi_logloss: 0.952259\n",
      "[97]\tvalid_0's multi_logloss: 0.958652\n",
      "[98]\tvalid_0's multi_logloss: 0.960188\n",
      "[99]\tvalid_0's multi_logloss: 0.96226\n",
      "[100]\tvalid_0's multi_logloss: 0.968342\n",
      "[101]\tvalid_0's multi_logloss: 0.970031\n",
      "[102]\tvalid_0's multi_logloss: 0.97213\n",
      "[103]\tvalid_0's multi_logloss: 0.976674\n",
      "[104]\tvalid_0's multi_logloss: 0.981295\n",
      "[105]\tvalid_0's multi_logloss: 0.984994\n",
      "[106]\tvalid_0's multi_logloss: 0.993445\n",
      "[107]\tvalid_0's multi_logloss: 0.996814\n",
      "[108]\tvalid_0's multi_logloss: 1.00304\n",
      "[109]\tvalid_0's multi_logloss: 1.00168\n",
      "[110]\tvalid_0's multi_logloss: 1.00359\n",
      "[111]\tvalid_0's multi_logloss: 1.00416\n",
      "[112]\tvalid_0's multi_logloss: 1.00593\n",
      "[113]\tvalid_0's multi_logloss: 1.00975\n",
      "[114]\tvalid_0's multi_logloss: 1.01574\n",
      "[115]\tvalid_0's multi_logloss: 1.01775\n",
      "[116]\tvalid_0's multi_logloss: 1.02055\n",
      "[117]\tvalid_0's multi_logloss: 1.02302\n",
      "[118]\tvalid_0's multi_logloss: 1.02997\n",
      "[119]\tvalid_0's multi_logloss: 1.03554\n",
      "[120]\tvalid_0's multi_logloss: 1.03823\n",
      "[121]\tvalid_0's multi_logloss: 1.03975\n",
      "[122]\tvalid_0's multi_logloss: 1.04425\n",
      "[123]\tvalid_0's multi_logloss: 1.04872\n",
      "[124]\tvalid_0's multi_logloss: 1.05012\n",
      "[125]\tvalid_0's multi_logloss: 1.05434\n",
      "[126]\tvalid_0's multi_logloss: 1.05607\n",
      "[127]\tvalid_0's multi_logloss: 1.06027\n",
      "[128]\tvalid_0's multi_logloss: 1.06307\n",
      "[129]\tvalid_0's multi_logloss: 1.06517\n",
      "[130]\tvalid_0's multi_logloss: 1.07207\n",
      "[131]\tvalid_0's multi_logloss: 1.07448\n",
      "LightGBM 정확도: 0.6800\n"
     ]
    }
   ],
   "source": [
    "import lightgbm\n",
    "from lightgbm import LGBMClassifier\n",
    "\n",
    "lgbm_wrapper = LGBMClassifier(n_estimators = 400)\n",
    "\n",
    "evals = [(X_test, y_test)]\n",
    "lgbm_wrapper.fit(X_train, y_train, early_stopping_rounds = 100, eval_metric = \"logloss\", \n",
    "                 eval_set = evals)\n",
    "preds = lgbm_wrapper.predict(X_test)\n",
    "lgbm_accuracy = accuracy_score(y_test,preds)\n",
    "print('LightGBM 정확도: {0:.4f}'.format(lgbm_accuracy))"
   ]
  },
  {
   "cell_type": "markdown",
   "id": "DQ3Lnuevoz4w",
   "metadata": {
    "id": "DQ3Lnuevoz4w"
   },
   "source": [
    "## Stacking 실습"
   ]
  },
  {
   "cell_type": "markdown",
   "id": "FSqK0PzP-YmZ",
   "metadata": {
    "id": "FSqK0PzP-YmZ"
   },
   "source": [
    "CV set 기반 stacking을 통해 앙상블 모델을 만드려고 합니다.    \n",
    "개별 모델이 교차검증을 통해 최종 모델이 사용할 학습용, 테스트용 데이터를 만드는 함수를 생성하시오.\n",
    "```\n",
    "def get_stacking_dataset(model, X_train, y_train, X_test, n_folds):\n",
    "    return train_fold_pred , test_pred_mean\n",
    "```"
   ]
  },
  {
   "cell_type": "code",
   "execution_count": 19,
   "id": "IbC_HfiUE3CB",
   "metadata": {
    "executionInfo": {
     "elapsed": 62,
     "status": "ok",
     "timestamp": 1663518500341,
     "user": {
      "displayName": "차수빈",
      "userId": "16979887891359732529"
     },
     "user_tz": -540
    },
    "id": "IbC_HfiUE3CB"
   },
   "outputs": [],
   "source": [
    "from sklearn.model_selection import KFold\n",
    "from sklearn.metrics import mean_absolute_error"
   ]
  },
  {
   "cell_type": "code",
   "execution_count": 20,
   "id": "wxGOf8YapU_C",
   "metadata": {
    "executionInfo": {
     "elapsed": 63,
     "status": "ok",
     "timestamp": 1663518500343,
     "user": {
      "displayName": "차수빈",
      "userId": "16979887891359732529"
     },
     "user_tz": -540
    },
    "id": "wxGOf8YapU_C"
   },
   "outputs": [],
   "source": [
    "def get_stacking_base_datasets(model, X_train_n, y_train_n, X_test_n, n_folds ):\n",
    "    kf = KFold(n_splits = n_folds, shuffle = True, random_state = 0)\n",
    "    train_fold_pred = np.zeros((X_train_n.shape[0] ,1))\n",
    "    test_pred = np.zeros((X_test_n.shape[0],n_folds))\n",
    "    \n",
    "    for folder_counter, (train_index, valid_index) in enumerate(kf.split(X_train_n)):\n",
    "        X_tr = X_train_n[train_index] \n",
    "        y_tr = y_train_n[train_index] \n",
    "        X_te = X_train_n[valid_index]  \n",
    "        \n",
    "        model.fit(X_tr, y_tr)       \n",
    "        train_fold_pred[valid_index, :] = model.predict(X_te).reshape(-1,1)\n",
    "        test_pred[:, folder_counter] = model.predict(X_test_n)\n",
    "            \n",
    "    test_pred_mean = np.mean(test_pred, axis=1).reshape(-1,1)    \n",
    "    \n",
    "    return train_fold_pred , test_pred_mean"
   ]
  },
  {
   "cell_type": "markdown",
   "id": "KMgeLW3NA8Q5",
   "metadata": {
    "id": "KMgeLW3NA8Q5"
   },
   "source": [
    "스태킹에 사용될 개별 모델을 생성하시오.\n",
    "\n",
    "개별 모델:  KNN(n_neighbors=4), 랜덤 포레스트(n_estimators=100, random_state=0), 결정 트리, AdaBoost(n_estimators=100), LightGBM(n_estimators=400)\n",
    "\n",
    "최종 모델: 로지스틱 회귀 (C=10)"
   ]
  },
  {
   "cell_type": "code",
   "execution_count": 21,
   "id": "GSQFi7abHe0U",
   "metadata": {
    "executionInfo": {
     "elapsed": 63,
     "status": "ok",
     "timestamp": 1663518500345,
     "user": {
      "displayName": "차수빈",
      "userId": "16979887891359732529"
     },
     "user_tz": -540
    },
    "id": "GSQFi7abHe0U"
   },
   "outputs": [],
   "source": [
    "from sklearn.neighbors import KNeighborsClassifier\n",
    "from sklearn.ensemble import RandomForestClassifier\n",
    "from sklearn.tree import DecisionTreeClassifier\n",
    "from sklearn.ensemble import AdaBoostClassifier\n",
    "\n",
    "import lightgbm\n",
    "from lightgbm import LGBMClassifier\n",
    "\n",
    "from sklearn.linear_model import LogisticRegression"
   ]
  },
  {
   "cell_type": "code",
   "execution_count": 22,
   "id": "PvuuPu9Op1eb",
   "metadata": {
    "executionInfo": {
     "elapsed": 63,
     "status": "ok",
     "timestamp": 1663518500346,
     "user": {
      "displayName": "차수빈",
      "userId": "16979887891359732529"
     },
     "user_tz": -540
    },
    "id": "PvuuPu9Op1eb"
   },
   "outputs": [],
   "source": [
    "# 개별 ML 모델을 위한 Classifier 생성\n",
    "knn_clf  = KNeighborsClassifier(n_neighbors = 4)\n",
    "rf_clf = RandomForestClassifier(n_estimators = 100, random_state = 0)\n",
    "dt_clf = DecisionTreeClassifier()\n",
    "ada_clf = AdaBoostClassifier(n_estimators = 100)\n",
    "lgbm_clf = LGBMClassifier(n_estimators = 400)\n",
    "\n",
    "lr_meta = LogisticRegression(C = 10)"
   ]
  },
  {
   "cell_type": "markdown",
   "id": "Wew3mwTxBWAZ",
   "metadata": {
    "id": "Wew3mwTxBWAZ"
   },
   "source": [
    "위에서 생성한 함수를 사용해 개별 모델을 학습, 예측시켜 메타모델에 사용될 학습용 데이터와 테스트용 데이터를 생성하고, 스태킹하시오.  \n",
    "fold 수 = 6  \n",
    "학습용 데이터 : stacked_X_train  \n",
    "테스트용 데이터 : stacked_X_test"
   ]
  },
  {
   "cell_type": "code",
   "execution_count": 23,
   "id": "gMBjixGrH3iv",
   "metadata": {
    "colab": {
     "base_uri": "https://localhost:8080/",
     "height": 415
    },
    "executionInfo": {
     "elapsed": 714,
     "status": "error",
     "timestamp": 1663518500998,
     "user": {
      "displayName": "차수빈",
      "userId": "16979887891359732529"
     },
     "user_tz": -540
    },
    "id": "gMBjixGrH3iv",
    "outputId": "8038871b-584b-412b-97ed-20c513a96542"
   },
   "outputs": [
    {
     "ename": "KeyError",
     "evalue": "\"None of [Int64Index([  0,   1,   2,   3,   4,   6,   9,  10,  11,  13,\\n            ...\\n            285, 286, 287, 288, 289, 290, 291, 292, 293, 294],\\n           dtype='int64', length=246)] are in the [columns]\"",
     "output_type": "error",
     "traceback": [
      "\u001b[1;31m---------------------------------------------------------------------------\u001b[0m",
      "\u001b[1;31mKeyError\u001b[0m                                  Traceback (most recent call last)",
      "\u001b[1;32m~\\AppData\\Local\\Temp\\ipykernel_22396\\3797418832.py\u001b[0m in \u001b[0;36m<module>\u001b[1;34m\u001b[0m\n\u001b[0;32m      1\u001b[0m \u001b[1;31m# 개별 base 모델별로 함수 실행\u001b[0m\u001b[1;33m\u001b[0m\u001b[1;33m\u001b[0m\u001b[1;33m\u001b[0m\u001b[0m\n\u001b[1;32m----> 2\u001b[1;33m \u001b[0mknn_train\u001b[0m\u001b[1;33m,\u001b[0m \u001b[0mknn_test\u001b[0m \u001b[1;33m=\u001b[0m \u001b[0mget_stacking_base_datasets\u001b[0m\u001b[1;33m(\u001b[0m\u001b[0mknn_clf\u001b[0m\u001b[1;33m,\u001b[0m \u001b[0mX_train\u001b[0m\u001b[1;33m,\u001b[0m \u001b[0my_train\u001b[0m\u001b[1;33m,\u001b[0m \u001b[0mX_test\u001b[0m\u001b[1;33m,\u001b[0m \u001b[1;36m6\u001b[0m\u001b[1;33m)\u001b[0m\u001b[1;33m\u001b[0m\u001b[1;33m\u001b[0m\u001b[0m\n\u001b[0m\u001b[0;32m      3\u001b[0m \u001b[0mrf_train\u001b[0m\u001b[1;33m,\u001b[0m \u001b[0mrf_test\u001b[0m \u001b[1;33m=\u001b[0m \u001b[0mget_stacking_base_datasets\u001b[0m\u001b[1;33m(\u001b[0m\u001b[0mrf_clf\u001b[0m\u001b[1;33m,\u001b[0m \u001b[0mX_train\u001b[0m\u001b[1;33m,\u001b[0m \u001b[0my_train\u001b[0m\u001b[1;33m,\u001b[0m \u001b[0mX_test\u001b[0m\u001b[1;33m,\u001b[0m \u001b[1;36m6\u001b[0m\u001b[1;33m)\u001b[0m\u001b[1;33m\u001b[0m\u001b[1;33m\u001b[0m\u001b[0m\n\u001b[0;32m      4\u001b[0m \u001b[0mdt_train\u001b[0m\u001b[1;33m,\u001b[0m \u001b[0mdt_test\u001b[0m \u001b[1;33m=\u001b[0m \u001b[0mget_stacking_base_datasets\u001b[0m\u001b[1;33m(\u001b[0m\u001b[0mdt_clf\u001b[0m\u001b[1;33m,\u001b[0m \u001b[0mX_train\u001b[0m\u001b[1;33m,\u001b[0m \u001b[0my_train\u001b[0m\u001b[1;33m,\u001b[0m \u001b[0mX_test\u001b[0m\u001b[1;33m,\u001b[0m  \u001b[1;36m6\u001b[0m\u001b[1;33m)\u001b[0m\u001b[1;33m\u001b[0m\u001b[1;33m\u001b[0m\u001b[0m\n\u001b[0;32m      5\u001b[0m \u001b[0mada_train\u001b[0m\u001b[1;33m,\u001b[0m \u001b[0mada_test\u001b[0m \u001b[1;33m=\u001b[0m \u001b[0mget_stacking_base_datasets\u001b[0m\u001b[1;33m(\u001b[0m\u001b[0mada_clf\u001b[0m\u001b[1;33m,\u001b[0m \u001b[0mX_train\u001b[0m\u001b[1;33m,\u001b[0m \u001b[0my_train\u001b[0m\u001b[1;33m,\u001b[0m \u001b[0mX_test\u001b[0m\u001b[1;33m,\u001b[0m \u001b[1;36m6\u001b[0m\u001b[1;33m)\u001b[0m\u001b[1;33m\u001b[0m\u001b[1;33m\u001b[0m\u001b[0m\n",
      "\u001b[1;32m~\\AppData\\Local\\Temp\\ipykernel_22396\\3907501793.py\u001b[0m in \u001b[0;36mget_stacking_base_datasets\u001b[1;34m(model, X_train_n, y_train_n, X_test_n, n_folds)\u001b[0m\n\u001b[0;32m      5\u001b[0m \u001b[1;33m\u001b[0m\u001b[0m\n\u001b[0;32m      6\u001b[0m     \u001b[1;32mfor\u001b[0m \u001b[0mfolder_counter\u001b[0m\u001b[1;33m,\u001b[0m \u001b[1;33m(\u001b[0m\u001b[0mtrain_index\u001b[0m\u001b[1;33m,\u001b[0m \u001b[0mvalid_index\u001b[0m\u001b[1;33m)\u001b[0m \u001b[1;32min\u001b[0m \u001b[0menumerate\u001b[0m\u001b[1;33m(\u001b[0m\u001b[0mkf\u001b[0m\u001b[1;33m.\u001b[0m\u001b[0msplit\u001b[0m\u001b[1;33m(\u001b[0m\u001b[0mX_train_n\u001b[0m\u001b[1;33m)\u001b[0m\u001b[1;33m)\u001b[0m\u001b[1;33m:\u001b[0m\u001b[1;33m\u001b[0m\u001b[1;33m\u001b[0m\u001b[0m\n\u001b[1;32m----> 7\u001b[1;33m         \u001b[0mX_tr\u001b[0m \u001b[1;33m=\u001b[0m \u001b[0mX_train_n\u001b[0m\u001b[1;33m[\u001b[0m\u001b[0mtrain_index\u001b[0m\u001b[1;33m]\u001b[0m\u001b[1;33m\u001b[0m\u001b[1;33m\u001b[0m\u001b[0m\n\u001b[0m\u001b[0;32m      8\u001b[0m         \u001b[0my_tr\u001b[0m \u001b[1;33m=\u001b[0m \u001b[0my_train_n\u001b[0m\u001b[1;33m[\u001b[0m\u001b[0mtrain_index\u001b[0m\u001b[1;33m]\u001b[0m\u001b[1;33m\u001b[0m\u001b[1;33m\u001b[0m\u001b[0m\n\u001b[0;32m      9\u001b[0m         \u001b[0mX_te\u001b[0m \u001b[1;33m=\u001b[0m \u001b[0mX_train_n\u001b[0m\u001b[1;33m[\u001b[0m\u001b[0mvalid_index\u001b[0m\u001b[1;33m]\u001b[0m\u001b[1;33m\u001b[0m\u001b[1;33m\u001b[0m\u001b[0m\n",
      "\u001b[1;32mc:\\users\\doroc\\appdata\\local\\programs\\python\\python37\\lib\\site-packages\\pandas\\core\\frame.py\u001b[0m in \u001b[0;36m__getitem__\u001b[1;34m(self, key)\u001b[0m\n\u001b[0;32m   3462\u001b[0m             \u001b[1;32mif\u001b[0m \u001b[0mis_iterator\u001b[0m\u001b[1;33m(\u001b[0m\u001b[0mkey\u001b[0m\u001b[1;33m)\u001b[0m\u001b[1;33m:\u001b[0m\u001b[1;33m\u001b[0m\u001b[1;33m\u001b[0m\u001b[0m\n\u001b[0;32m   3463\u001b[0m                 \u001b[0mkey\u001b[0m \u001b[1;33m=\u001b[0m \u001b[0mlist\u001b[0m\u001b[1;33m(\u001b[0m\u001b[0mkey\u001b[0m\u001b[1;33m)\u001b[0m\u001b[1;33m\u001b[0m\u001b[1;33m\u001b[0m\u001b[0m\n\u001b[1;32m-> 3464\u001b[1;33m             \u001b[0mindexer\u001b[0m \u001b[1;33m=\u001b[0m \u001b[0mself\u001b[0m\u001b[1;33m.\u001b[0m\u001b[0mloc\u001b[0m\u001b[1;33m.\u001b[0m\u001b[0m_get_listlike_indexer\u001b[0m\u001b[1;33m(\u001b[0m\u001b[0mkey\u001b[0m\u001b[1;33m,\u001b[0m \u001b[0maxis\u001b[0m\u001b[1;33m=\u001b[0m\u001b[1;36m1\u001b[0m\u001b[1;33m)\u001b[0m\u001b[1;33m[\u001b[0m\u001b[1;36m1\u001b[0m\u001b[1;33m]\u001b[0m\u001b[1;33m\u001b[0m\u001b[1;33m\u001b[0m\u001b[0m\n\u001b[0m\u001b[0;32m   3465\u001b[0m \u001b[1;33m\u001b[0m\u001b[0m\n\u001b[0;32m   3466\u001b[0m         \u001b[1;31m# take() does not accept boolean indexers\u001b[0m\u001b[1;33m\u001b[0m\u001b[1;33m\u001b[0m\u001b[1;33m\u001b[0m\u001b[0m\n",
      "\u001b[1;32mc:\\users\\doroc\\appdata\\local\\programs\\python\\python37\\lib\\site-packages\\pandas\\core\\indexing.py\u001b[0m in \u001b[0;36m_get_listlike_indexer\u001b[1;34m(self, key, axis)\u001b[0m\n\u001b[0;32m   1312\u001b[0m             \u001b[0mkeyarr\u001b[0m\u001b[1;33m,\u001b[0m \u001b[0mindexer\u001b[0m\u001b[1;33m,\u001b[0m \u001b[0mnew_indexer\u001b[0m \u001b[1;33m=\u001b[0m \u001b[0max\u001b[0m\u001b[1;33m.\u001b[0m\u001b[0m_reindex_non_unique\u001b[0m\u001b[1;33m(\u001b[0m\u001b[0mkeyarr\u001b[0m\u001b[1;33m)\u001b[0m\u001b[1;33m\u001b[0m\u001b[1;33m\u001b[0m\u001b[0m\n\u001b[0;32m   1313\u001b[0m \u001b[1;33m\u001b[0m\u001b[0m\n\u001b[1;32m-> 1314\u001b[1;33m         \u001b[0mself\u001b[0m\u001b[1;33m.\u001b[0m\u001b[0m_validate_read_indexer\u001b[0m\u001b[1;33m(\u001b[0m\u001b[0mkeyarr\u001b[0m\u001b[1;33m,\u001b[0m \u001b[0mindexer\u001b[0m\u001b[1;33m,\u001b[0m \u001b[0maxis\u001b[0m\u001b[1;33m)\u001b[0m\u001b[1;33m\u001b[0m\u001b[1;33m\u001b[0m\u001b[0m\n\u001b[0m\u001b[0;32m   1315\u001b[0m \u001b[1;33m\u001b[0m\u001b[0m\n\u001b[0;32m   1316\u001b[0m         if needs_i8_conversion(ax.dtype) or isinstance(\n",
      "\u001b[1;32mc:\\users\\doroc\\appdata\\local\\programs\\python\\python37\\lib\\site-packages\\pandas\\core\\indexing.py\u001b[0m in \u001b[0;36m_validate_read_indexer\u001b[1;34m(self, key, indexer, axis)\u001b[0m\n\u001b[0;32m   1372\u001b[0m                 \u001b[1;32mif\u001b[0m \u001b[0muse_interval_msg\u001b[0m\u001b[1;33m:\u001b[0m\u001b[1;33m\u001b[0m\u001b[1;33m\u001b[0m\u001b[0m\n\u001b[0;32m   1373\u001b[0m                     \u001b[0mkey\u001b[0m \u001b[1;33m=\u001b[0m \u001b[0mlist\u001b[0m\u001b[1;33m(\u001b[0m\u001b[0mkey\u001b[0m\u001b[1;33m)\u001b[0m\u001b[1;33m\u001b[0m\u001b[1;33m\u001b[0m\u001b[0m\n\u001b[1;32m-> 1374\u001b[1;33m                 \u001b[1;32mraise\u001b[0m \u001b[0mKeyError\u001b[0m\u001b[1;33m(\u001b[0m\u001b[1;34mf\"None of [{key}] are in the [{axis_name}]\"\u001b[0m\u001b[1;33m)\u001b[0m\u001b[1;33m\u001b[0m\u001b[1;33m\u001b[0m\u001b[0m\n\u001b[0m\u001b[0;32m   1375\u001b[0m \u001b[1;33m\u001b[0m\u001b[0m\n\u001b[0;32m   1376\u001b[0m             \u001b[0mnot_found\u001b[0m \u001b[1;33m=\u001b[0m \u001b[0mlist\u001b[0m\u001b[1;33m(\u001b[0m\u001b[0mensure_index\u001b[0m\u001b[1;33m(\u001b[0m\u001b[0mkey\u001b[0m\u001b[1;33m)\u001b[0m\u001b[1;33m[\u001b[0m\u001b[0mmissing_mask\u001b[0m\u001b[1;33m.\u001b[0m\u001b[0mnonzero\u001b[0m\u001b[1;33m(\u001b[0m\u001b[1;33m)\u001b[0m\u001b[1;33m[\u001b[0m\u001b[1;36m0\u001b[0m\u001b[1;33m]\u001b[0m\u001b[1;33m]\u001b[0m\u001b[1;33m.\u001b[0m\u001b[0munique\u001b[0m\u001b[1;33m(\u001b[0m\u001b[1;33m)\u001b[0m\u001b[1;33m)\u001b[0m\u001b[1;33m\u001b[0m\u001b[1;33m\u001b[0m\u001b[0m\n",
      "\u001b[1;31mKeyError\u001b[0m: \"None of [Int64Index([  0,   1,   2,   3,   4,   6,   9,  10,  11,  13,\\n            ...\\n            285, 286, 287, 288, 289, 290, 291, 292, 293, 294],\\n           dtype='int64', length=246)] are in the [columns]\""
     ]
    }
   ],
   "source": [
    "# 개별 base 모델별로 함수 실행\n",
    "knn_train, knn_test = get_stacking_base_datasets(knn_clf, X_train, y_train, X_test, 6) \n",
    "rf_train, rf_test = get_stacking_base_datasets(rf_clf, X_train, y_train, X_test, 6)\n",
    "dt_train, dt_test = get_stacking_base_datasets(dt_clf, X_train, y_train, X_test,  6)    \n",
    "ada_train, ada_test = get_stacking_base_datasets(ada_clf, X_train, y_train, X_test, 6)\n",
    "lgbm_train, lgbm_test = get_stacking_base_datasets(lgbm_clf, X_train, y_train, X_test, 6)"
   ]
  },
  {
   "cell_type": "code",
   "execution_count": 24,
   "id": "lJI0HG3Bp2TC",
   "metadata": {
    "executionInfo": {
     "elapsed": 17,
     "status": "aborted",
     "timestamp": 1663518500999,
     "user": {
      "displayName": "차수빈",
      "userId": "16979887891359732529"
     },
     "user_tz": -540
    },
    "id": "lJI0HG3Bp2TC"
   },
   "outputs": [
    {
     "ename": "NameError",
     "evalue": "name 'knn_train' is not defined",
     "output_type": "error",
     "traceback": [
      "\u001b[1;31m---------------------------------------------------------------------------\u001b[0m",
      "\u001b[1;31mNameError\u001b[0m                                 Traceback (most recent call last)",
      "\u001b[1;32m~\\AppData\\Local\\Temp\\ipykernel_22396\\3476207319.py\u001b[0m in \u001b[0;36m<module>\u001b[1;34m\u001b[0m\n\u001b[1;32m----> 1\u001b[1;33m \u001b[0mstacked_X_train\u001b[0m \u001b[1;33m=\u001b[0m \u001b[0mnp\u001b[0m\u001b[1;33m.\u001b[0m\u001b[0mconcatenate\u001b[0m\u001b[1;33m(\u001b[0m\u001b[1;33m(\u001b[0m\u001b[0mknn_train\u001b[0m\u001b[1;33m,\u001b[0m \u001b[0mrf_train\u001b[0m\u001b[1;33m,\u001b[0m \u001b[0mdt_train\u001b[0m\u001b[1;33m,\u001b[0m \u001b[0mada_train\u001b[0m\u001b[1;33m,\u001b[0m \u001b[0mlgbm_train\u001b[0m\u001b[1;33m)\u001b[0m\u001b[1;33m,\u001b[0m \u001b[0maxis\u001b[0m\u001b[1;33m=\u001b[0m\u001b[1;36m1\u001b[0m\u001b[1;33m)\u001b[0m\u001b[1;33m\u001b[0m\u001b[1;33m\u001b[0m\u001b[0m\n\u001b[0m\u001b[0;32m      2\u001b[0m \u001b[0mstacked_X_test\u001b[0m \u001b[1;33m=\u001b[0m \u001b[0mnp\u001b[0m\u001b[1;33m.\u001b[0m\u001b[0mconcatenate\u001b[0m\u001b[1;33m(\u001b[0m\u001b[1;33m(\u001b[0m\u001b[0mknn_test\u001b[0m\u001b[1;33m,\u001b[0m \u001b[0mrf_test\u001b[0m\u001b[1;33m,\u001b[0m \u001b[0mdt_test\u001b[0m\u001b[1;33m,\u001b[0m \u001b[0mada_test\u001b[0m\u001b[1;33m,\u001b[0m \u001b[0mlgbm_test\u001b[0m\u001b[1;33m)\u001b[0m\u001b[1;33m,\u001b[0m \u001b[0maxis\u001b[0m\u001b[1;33m=\u001b[0m\u001b[1;36m1\u001b[0m\u001b[1;33m)\u001b[0m\u001b[1;33m\u001b[0m\u001b[1;33m\u001b[0m\u001b[0m\n\u001b[0;32m      3\u001b[0m \u001b[1;33m\u001b[0m\u001b[0m\n\u001b[0;32m      4\u001b[0m \u001b[0mprint\u001b[0m\u001b[1;33m(\u001b[0m\u001b[1;34m'Original train / test : '\u001b[0m\u001b[1;33m,\u001b[0m \u001b[0mX_train\u001b[0m\u001b[1;33m.\u001b[0m\u001b[0mshape\u001b[0m\u001b[1;33m,\u001b[0m \u001b[1;34m' / '\u001b[0m\u001b[1;33m,\u001b[0m \u001b[0mX_test\u001b[0m\u001b[1;33m.\u001b[0m\u001b[0mshape\u001b[0m\u001b[1;33m)\u001b[0m\u001b[1;33m\u001b[0m\u001b[1;33m\u001b[0m\u001b[0m\n\u001b[0;32m      5\u001b[0m \u001b[0mprint\u001b[0m\u001b[1;33m(\u001b[0m\u001b[1;34m'Stacking train / test : '\u001b[0m\u001b[1;33m,\u001b[0m \u001b[0mstacked_X_train\u001b[0m\u001b[1;33m.\u001b[0m\u001b[0mshape\u001b[0m\u001b[1;33m,\u001b[0m \u001b[1;34m' / '\u001b[0m\u001b[1;33m,\u001b[0m \u001b[0mstacked_X_test\u001b[0m\u001b[1;33m.\u001b[0m\u001b[0mshape\u001b[0m\u001b[1;33m)\u001b[0m\u001b[1;33m\u001b[0m\u001b[1;33m\u001b[0m\u001b[0m\n",
      "\u001b[1;31mNameError\u001b[0m: name 'knn_train' is not defined"
     ]
    }
   ],
   "source": [
    "stacked_X_train = np.concatenate((knn_train, rf_train, dt_train, ada_train, lgbm_train), axis=1)\n",
    "stacked_X_test = np.concatenate((knn_test, rf_test, dt_test, ada_test, lgbm_test), axis=1)\n",
    "\n",
    "print('Original train / test : ', X_train.shape, ' / ', X_test.shape)\n",
    "print('Stacking train / test : ', stacked_X_train.shape, ' / ', stacked_X_test.shape)"
   ]
  },
  {
   "cell_type": "markdown",
   "id": "z1wPcXvNHH8t",
   "metadata": {
    "id": "z1wPcXvNHH8t"
   },
   "source": [
    "최종 모델 (logistic regression)을 학습시키고, 정확도를 구하시오."
   ]
  },
  {
   "cell_type": "code",
   "execution_count": 25,
   "id": "NtuEJGkep6EV",
   "metadata": {
    "executionInfo": {
     "elapsed": 22,
     "status": "aborted",
     "timestamp": 1663518501004,
     "user": {
      "displayName": "차수빈",
      "userId": "16979887891359732529"
     },
     "user_tz": -540
    },
    "id": "NtuEJGkep6EV"
   },
   "outputs": [
    {
     "ename": "NameError",
     "evalue": "name 'stacked_X_train' is not defined",
     "output_type": "error",
     "traceback": [
      "\u001b[1;31m---------------------------------------------------------------------------\u001b[0m",
      "\u001b[1;31mNameError\u001b[0m                                 Traceback (most recent call last)",
      "\u001b[1;32m~\\AppData\\Local\\Temp\\ipykernel_22396\\4023717565.py\u001b[0m in \u001b[0;36m<module>\u001b[1;34m\u001b[0m\n\u001b[1;32m----> 1\u001b[1;33m \u001b[0mlr_meta\u001b[0m\u001b[1;33m.\u001b[0m\u001b[0mfit\u001b[0m\u001b[1;33m(\u001b[0m\u001b[0mstacked_X_train\u001b[0m\u001b[1;33m,\u001b[0m \u001b[0my_train\u001b[0m\u001b[1;33m)\u001b[0m\u001b[1;33m\u001b[0m\u001b[1;33m\u001b[0m\u001b[0m\n\u001b[0m\u001b[0;32m      2\u001b[0m \u001b[0mpred\u001b[0m \u001b[1;33m=\u001b[0m \u001b[0mlr_meta\u001b[0m\u001b[1;33m.\u001b[0m\u001b[0mpredict\u001b[0m\u001b[1;33m(\u001b[0m\u001b[0mstacked_X_test\u001b[0m\u001b[1;33m)\u001b[0m\u001b[1;33m\u001b[0m\u001b[1;33m\u001b[0m\u001b[0m\n\u001b[0;32m      3\u001b[0m \u001b[0maccuracy\u001b[0m \u001b[1;33m=\u001b[0m \u001b[0maccuracy_score\u001b[0m\u001b[1;33m(\u001b[0m\u001b[0my_test\u001b[0m\u001b[1;33m,\u001b[0m \u001b[0mpred\u001b[0m\u001b[1;33m)\u001b[0m\u001b[1;33m\u001b[0m\u001b[1;33m\u001b[0m\u001b[0m\n\u001b[0;32m      4\u001b[0m \u001b[0mprint\u001b[0m\u001b[1;33m(\u001b[0m\u001b[1;34m'정확도 : {0:.4f}'\u001b[0m\u001b[1;33m.\u001b[0m\u001b[0mformat\u001b[0m\u001b[1;33m(\u001b[0m\u001b[0maccuracy\u001b[0m\u001b[1;33m)\u001b[0m\u001b[1;33m)\u001b[0m\u001b[1;33m\u001b[0m\u001b[1;33m\u001b[0m\u001b[0m\n",
      "\u001b[1;31mNameError\u001b[0m: name 'stacked_X_train' is not defined"
     ]
    }
   ],
   "source": [
    "lr_meta.fit(stacked_X_train, y_train)\n",
    "pred = lr_meta.predict(stacked_X_test)\n",
    "accuracy = accuracy_score(y_test, pred)\n",
    "print('정확도 : {0:.4f}'.format(accuracy))"
   ]
  },
  {
   "cell_type": "markdown",
   "id": "mZEcyqY79nZM",
   "metadata": {
    "id": "mZEcyqY79nZM"
   },
   "source": [
    "### CatBoost\n",
    "\n",
    "범주형 변수가 많은 데이터에 catboost를 적용해봅시다.\n",
    "\n",
    "데이터 출처:\n",
    "https://www.kaggle.com/datasets/uciml/mushroom-classification\n"
   ]
  },
  {
   "cell_type": "code",
   "execution_count": 26,
   "id": "mbSevRzjIHKs",
   "metadata": {
    "colab": {
     "base_uri": "https://localhost:8080/",
     "height": 502
    },
    "executionInfo": {
     "elapsed": 418,
     "status": "ok",
     "timestamp": 1663518518187,
     "user": {
      "displayName": "차수빈",
      "userId": "16979887891359732529"
     },
     "user_tz": -540
    },
    "id": "mbSevRzjIHKs",
    "outputId": "08334a03-0983-4d11-d1ec-b95d4efaac8d"
   },
   "outputs": [
    {
     "data": {
      "text/html": [
       "<div>\n",
       "<style scoped>\n",
       "    .dataframe tbody tr th:only-of-type {\n",
       "        vertical-align: middle;\n",
       "    }\n",
       "\n",
       "    .dataframe tbody tr th {\n",
       "        vertical-align: top;\n",
       "    }\n",
       "\n",
       "    .dataframe thead th {\n",
       "        text-align: right;\n",
       "    }\n",
       "</style>\n",
       "<table border=\"1\" class=\"dataframe\">\n",
       "  <thead>\n",
       "    <tr style=\"text-align: right;\">\n",
       "      <th></th>\n",
       "      <th>class</th>\n",
       "      <th>cap-shape</th>\n",
       "      <th>cap-surface</th>\n",
       "      <th>cap-color</th>\n",
       "      <th>bruises</th>\n",
       "      <th>odor</th>\n",
       "      <th>gill-attachment</th>\n",
       "      <th>gill-spacing</th>\n",
       "      <th>gill-size</th>\n",
       "      <th>gill-color</th>\n",
       "      <th>...</th>\n",
       "      <th>stalk-surface-below-ring</th>\n",
       "      <th>stalk-color-above-ring</th>\n",
       "      <th>stalk-color-below-ring</th>\n",
       "      <th>veil-type</th>\n",
       "      <th>veil-color</th>\n",
       "      <th>ring-number</th>\n",
       "      <th>ring-type</th>\n",
       "      <th>spore-print-color</th>\n",
       "      <th>population</th>\n",
       "      <th>habitat</th>\n",
       "    </tr>\n",
       "  </thead>\n",
       "  <tbody>\n",
       "    <tr>\n",
       "      <th>0</th>\n",
       "      <td>p</td>\n",
       "      <td>x</td>\n",
       "      <td>s</td>\n",
       "      <td>n</td>\n",
       "      <td>t</td>\n",
       "      <td>p</td>\n",
       "      <td>f</td>\n",
       "      <td>c</td>\n",
       "      <td>n</td>\n",
       "      <td>k</td>\n",
       "      <td>...</td>\n",
       "      <td>s</td>\n",
       "      <td>w</td>\n",
       "      <td>w</td>\n",
       "      <td>p</td>\n",
       "      <td>w</td>\n",
       "      <td>o</td>\n",
       "      <td>p</td>\n",
       "      <td>k</td>\n",
       "      <td>s</td>\n",
       "      <td>u</td>\n",
       "    </tr>\n",
       "    <tr>\n",
       "      <th>1</th>\n",
       "      <td>e</td>\n",
       "      <td>x</td>\n",
       "      <td>s</td>\n",
       "      <td>y</td>\n",
       "      <td>t</td>\n",
       "      <td>a</td>\n",
       "      <td>f</td>\n",
       "      <td>c</td>\n",
       "      <td>b</td>\n",
       "      <td>k</td>\n",
       "      <td>...</td>\n",
       "      <td>s</td>\n",
       "      <td>w</td>\n",
       "      <td>w</td>\n",
       "      <td>p</td>\n",
       "      <td>w</td>\n",
       "      <td>o</td>\n",
       "      <td>p</td>\n",
       "      <td>n</td>\n",
       "      <td>n</td>\n",
       "      <td>g</td>\n",
       "    </tr>\n",
       "    <tr>\n",
       "      <th>2</th>\n",
       "      <td>e</td>\n",
       "      <td>b</td>\n",
       "      <td>s</td>\n",
       "      <td>w</td>\n",
       "      <td>t</td>\n",
       "      <td>l</td>\n",
       "      <td>f</td>\n",
       "      <td>c</td>\n",
       "      <td>b</td>\n",
       "      <td>n</td>\n",
       "      <td>...</td>\n",
       "      <td>s</td>\n",
       "      <td>w</td>\n",
       "      <td>w</td>\n",
       "      <td>p</td>\n",
       "      <td>w</td>\n",
       "      <td>o</td>\n",
       "      <td>p</td>\n",
       "      <td>n</td>\n",
       "      <td>n</td>\n",
       "      <td>m</td>\n",
       "    </tr>\n",
       "    <tr>\n",
       "      <th>3</th>\n",
       "      <td>p</td>\n",
       "      <td>x</td>\n",
       "      <td>y</td>\n",
       "      <td>w</td>\n",
       "      <td>t</td>\n",
       "      <td>p</td>\n",
       "      <td>f</td>\n",
       "      <td>c</td>\n",
       "      <td>n</td>\n",
       "      <td>n</td>\n",
       "      <td>...</td>\n",
       "      <td>s</td>\n",
       "      <td>w</td>\n",
       "      <td>w</td>\n",
       "      <td>p</td>\n",
       "      <td>w</td>\n",
       "      <td>o</td>\n",
       "      <td>p</td>\n",
       "      <td>k</td>\n",
       "      <td>s</td>\n",
       "      <td>u</td>\n",
       "    </tr>\n",
       "    <tr>\n",
       "      <th>4</th>\n",
       "      <td>e</td>\n",
       "      <td>x</td>\n",
       "      <td>s</td>\n",
       "      <td>g</td>\n",
       "      <td>f</td>\n",
       "      <td>n</td>\n",
       "      <td>f</td>\n",
       "      <td>w</td>\n",
       "      <td>b</td>\n",
       "      <td>k</td>\n",
       "      <td>...</td>\n",
       "      <td>s</td>\n",
       "      <td>w</td>\n",
       "      <td>w</td>\n",
       "      <td>p</td>\n",
       "      <td>w</td>\n",
       "      <td>o</td>\n",
       "      <td>e</td>\n",
       "      <td>n</td>\n",
       "      <td>a</td>\n",
       "      <td>g</td>\n",
       "    </tr>\n",
       "    <tr>\n",
       "      <th>...</th>\n",
       "      <td>...</td>\n",
       "      <td>...</td>\n",
       "      <td>...</td>\n",
       "      <td>...</td>\n",
       "      <td>...</td>\n",
       "      <td>...</td>\n",
       "      <td>...</td>\n",
       "      <td>...</td>\n",
       "      <td>...</td>\n",
       "      <td>...</td>\n",
       "      <td>...</td>\n",
       "      <td>...</td>\n",
       "      <td>...</td>\n",
       "      <td>...</td>\n",
       "      <td>...</td>\n",
       "      <td>...</td>\n",
       "      <td>...</td>\n",
       "      <td>...</td>\n",
       "      <td>...</td>\n",
       "      <td>...</td>\n",
       "      <td>...</td>\n",
       "    </tr>\n",
       "    <tr>\n",
       "      <th>8119</th>\n",
       "      <td>e</td>\n",
       "      <td>k</td>\n",
       "      <td>s</td>\n",
       "      <td>n</td>\n",
       "      <td>f</td>\n",
       "      <td>n</td>\n",
       "      <td>a</td>\n",
       "      <td>c</td>\n",
       "      <td>b</td>\n",
       "      <td>y</td>\n",
       "      <td>...</td>\n",
       "      <td>s</td>\n",
       "      <td>o</td>\n",
       "      <td>o</td>\n",
       "      <td>p</td>\n",
       "      <td>o</td>\n",
       "      <td>o</td>\n",
       "      <td>p</td>\n",
       "      <td>b</td>\n",
       "      <td>c</td>\n",
       "      <td>l</td>\n",
       "    </tr>\n",
       "    <tr>\n",
       "      <th>8120</th>\n",
       "      <td>e</td>\n",
       "      <td>x</td>\n",
       "      <td>s</td>\n",
       "      <td>n</td>\n",
       "      <td>f</td>\n",
       "      <td>n</td>\n",
       "      <td>a</td>\n",
       "      <td>c</td>\n",
       "      <td>b</td>\n",
       "      <td>y</td>\n",
       "      <td>...</td>\n",
       "      <td>s</td>\n",
       "      <td>o</td>\n",
       "      <td>o</td>\n",
       "      <td>p</td>\n",
       "      <td>n</td>\n",
       "      <td>o</td>\n",
       "      <td>p</td>\n",
       "      <td>b</td>\n",
       "      <td>v</td>\n",
       "      <td>l</td>\n",
       "    </tr>\n",
       "    <tr>\n",
       "      <th>8121</th>\n",
       "      <td>e</td>\n",
       "      <td>f</td>\n",
       "      <td>s</td>\n",
       "      <td>n</td>\n",
       "      <td>f</td>\n",
       "      <td>n</td>\n",
       "      <td>a</td>\n",
       "      <td>c</td>\n",
       "      <td>b</td>\n",
       "      <td>n</td>\n",
       "      <td>...</td>\n",
       "      <td>s</td>\n",
       "      <td>o</td>\n",
       "      <td>o</td>\n",
       "      <td>p</td>\n",
       "      <td>o</td>\n",
       "      <td>o</td>\n",
       "      <td>p</td>\n",
       "      <td>b</td>\n",
       "      <td>c</td>\n",
       "      <td>l</td>\n",
       "    </tr>\n",
       "    <tr>\n",
       "      <th>8122</th>\n",
       "      <td>p</td>\n",
       "      <td>k</td>\n",
       "      <td>y</td>\n",
       "      <td>n</td>\n",
       "      <td>f</td>\n",
       "      <td>y</td>\n",
       "      <td>f</td>\n",
       "      <td>c</td>\n",
       "      <td>n</td>\n",
       "      <td>b</td>\n",
       "      <td>...</td>\n",
       "      <td>k</td>\n",
       "      <td>w</td>\n",
       "      <td>w</td>\n",
       "      <td>p</td>\n",
       "      <td>w</td>\n",
       "      <td>o</td>\n",
       "      <td>e</td>\n",
       "      <td>w</td>\n",
       "      <td>v</td>\n",
       "      <td>l</td>\n",
       "    </tr>\n",
       "    <tr>\n",
       "      <th>8123</th>\n",
       "      <td>e</td>\n",
       "      <td>x</td>\n",
       "      <td>s</td>\n",
       "      <td>n</td>\n",
       "      <td>f</td>\n",
       "      <td>n</td>\n",
       "      <td>a</td>\n",
       "      <td>c</td>\n",
       "      <td>b</td>\n",
       "      <td>y</td>\n",
       "      <td>...</td>\n",
       "      <td>s</td>\n",
       "      <td>o</td>\n",
       "      <td>o</td>\n",
       "      <td>p</td>\n",
       "      <td>o</td>\n",
       "      <td>o</td>\n",
       "      <td>p</td>\n",
       "      <td>o</td>\n",
       "      <td>c</td>\n",
       "      <td>l</td>\n",
       "    </tr>\n",
       "  </tbody>\n",
       "</table>\n",
       "<p>8124 rows × 23 columns</p>\n",
       "</div>"
      ],
      "text/plain": [
       "     class cap-shape cap-surface cap-color bruises odor gill-attachment  \\\n",
       "0        p         x           s         n       t    p               f   \n",
       "1        e         x           s         y       t    a               f   \n",
       "2        e         b           s         w       t    l               f   \n",
       "3        p         x           y         w       t    p               f   \n",
       "4        e         x           s         g       f    n               f   \n",
       "...    ...       ...         ...       ...     ...  ...             ...   \n",
       "8119     e         k           s         n       f    n               a   \n",
       "8120     e         x           s         n       f    n               a   \n",
       "8121     e         f           s         n       f    n               a   \n",
       "8122     p         k           y         n       f    y               f   \n",
       "8123     e         x           s         n       f    n               a   \n",
       "\n",
       "     gill-spacing gill-size gill-color  ... stalk-surface-below-ring  \\\n",
       "0               c         n          k  ...                        s   \n",
       "1               c         b          k  ...                        s   \n",
       "2               c         b          n  ...                        s   \n",
       "3               c         n          n  ...                        s   \n",
       "4               w         b          k  ...                        s   \n",
       "...           ...       ...        ...  ...                      ...   \n",
       "8119            c         b          y  ...                        s   \n",
       "8120            c         b          y  ...                        s   \n",
       "8121            c         b          n  ...                        s   \n",
       "8122            c         n          b  ...                        k   \n",
       "8123            c         b          y  ...                        s   \n",
       "\n",
       "     stalk-color-above-ring stalk-color-below-ring veil-type veil-color  \\\n",
       "0                         w                      w         p          w   \n",
       "1                         w                      w         p          w   \n",
       "2                         w                      w         p          w   \n",
       "3                         w                      w         p          w   \n",
       "4                         w                      w         p          w   \n",
       "...                     ...                    ...       ...        ...   \n",
       "8119                      o                      o         p          o   \n",
       "8120                      o                      o         p          n   \n",
       "8121                      o                      o         p          o   \n",
       "8122                      w                      w         p          w   \n",
       "8123                      o                      o         p          o   \n",
       "\n",
       "     ring-number ring-type spore-print-color population habitat  \n",
       "0              o         p                 k          s       u  \n",
       "1              o         p                 n          n       g  \n",
       "2              o         p                 n          n       m  \n",
       "3              o         p                 k          s       u  \n",
       "4              o         e                 n          a       g  \n",
       "...          ...       ...               ...        ...     ...  \n",
       "8119           o         p                 b          c       l  \n",
       "8120           o         p                 b          v       l  \n",
       "8121           o         p                 b          c       l  \n",
       "8122           o         e                 w          v       l  \n",
       "8123           o         p                 o          c       l  \n",
       "\n",
       "[8124 rows x 23 columns]"
      ]
     },
     "execution_count": 26,
     "metadata": {},
     "output_type": "execute_result"
    }
   ],
   "source": [
    "# mushrooms.csv 파일을 사용합니다.\n",
    "\n",
    "mushroom_df = pd.read_csv('./mushrooms.csv')\n",
    "mushroom_df"
   ]
  },
  {
   "cell_type": "markdown",
   "id": "AjLa99HnIZ1M",
   "metadata": {
    "id": "AjLa99HnIZ1M"
   },
   "source": [
    "mushroom_df feature들의 data type을 확인하시오."
   ]
  },
  {
   "cell_type": "code",
   "execution_count": 27,
   "id": "Gs16WW_rp7d2",
   "metadata": {
    "colab": {
     "base_uri": "https://localhost:8080/"
    },
    "executionInfo": {
     "elapsed": 410,
     "status": "ok",
     "timestamp": 1663518522377,
     "user": {
      "displayName": "차수빈",
      "userId": "16979887891359732529"
     },
     "user_tz": -540
    },
    "id": "Gs16WW_rp7d2",
    "outputId": "416c0018-eda5-4b45-879e-bff8b9dec7dc"
   },
   "outputs": [
    {
     "name": "stdout",
     "output_type": "stream",
     "text": [
      "<class 'pandas.core.frame.DataFrame'>\n",
      "RangeIndex: 8124 entries, 0 to 8123\n",
      "Data columns (total 23 columns):\n",
      " #   Column                    Non-Null Count  Dtype \n",
      "---  ------                    --------------  ----- \n",
      " 0   class                     8124 non-null   object\n",
      " 1   cap-shape                 8124 non-null   object\n",
      " 2   cap-surface               8124 non-null   object\n",
      " 3   cap-color                 8124 non-null   object\n",
      " 4   bruises                   8124 non-null   object\n",
      " 5   odor                      8124 non-null   object\n",
      " 6   gill-attachment           8124 non-null   object\n",
      " 7   gill-spacing              8124 non-null   object\n",
      " 8   gill-size                 8124 non-null   object\n",
      " 9   gill-color                8124 non-null   object\n",
      " 10  stalk-shape               8124 non-null   object\n",
      " 11  stalk-root                8124 non-null   object\n",
      " 12  stalk-surface-above-ring  8124 non-null   object\n",
      " 13  stalk-surface-below-ring  8124 non-null   object\n",
      " 14  stalk-color-above-ring    8124 non-null   object\n",
      " 15  stalk-color-below-ring    8124 non-null   object\n",
      " 16  veil-type                 8124 non-null   object\n",
      " 17  veil-color                8124 non-null   object\n",
      " 18  ring-number               8124 non-null   object\n",
      " 19  ring-type                 8124 non-null   object\n",
      " 20  spore-print-color         8124 non-null   object\n",
      " 21  population                8124 non-null   object\n",
      " 22  habitat                   8124 non-null   object\n",
      "dtypes: object(23)\n",
      "memory usage: 1.4+ MB\n"
     ]
    }
   ],
   "source": [
    "mushroom_df.info()"
   ]
  },
  {
   "cell_type": "markdown",
   "id": "twu4cpQMKHTM",
   "metadata": {
    "id": "twu4cpQMKHTM"
   },
   "source": [
    "feature와 target을 각각 X_mushroom, y_mushroom으로 분리하고,  \n",
    "train_test_split 함수로 train, test set을 분리하시오. (test size = 0.2)"
   ]
  },
  {
   "cell_type": "code",
   "execution_count": 28,
   "id": "T4Qwnz0Kp8Aj",
   "metadata": {
    "executionInfo": {
     "elapsed": 339,
     "status": "ok",
     "timestamp": 1663518525794,
     "user": {
      "displayName": "차수빈",
      "userId": "16979887891359732529"
     },
     "user_tz": -540
    },
    "id": "T4Qwnz0Kp8Aj"
   },
   "outputs": [],
   "source": [
    "X_mushroom = mushroom_df.drop(['class'],axis=1,inplace = False)\n",
    "y_mushroom = mushroom_df['class']\n",
    "\n",
    "X_train, X_test, y_train, y_test = train_test_split(X_mushroom, y_mushroom, test_size=0.2)"
   ]
  },
  {
   "cell_type": "markdown",
   "id": "FAkKKfY9JC5U",
   "metadata": {
    "id": "FAkKKfY9JC5U"
   },
   "source": [
    "CatBoostClassifier를 불러오고, Pool 함수를 이용해 범주형 변수를 처리하도록 train_pool, test_pool을 만드시오."
   ]
  },
  {
   "cell_type": "code",
   "execution_count": 29,
   "id": "LAFxT8bVIEyN",
   "metadata": {
    "colab": {
     "base_uri": "https://localhost:8080/"
    },
    "executionInfo": {
     "elapsed": 3532,
     "status": "ok",
     "timestamp": 1663518531850,
     "user": {
      "displayName": "차수빈",
      "userId": "16979887891359732529"
     },
     "user_tz": -540
    },
    "id": "LAFxT8bVIEyN",
    "outputId": "1147a8a6-23cc-4a1b-9ff7-fee07d1b8ad1"
   },
   "outputs": [
    {
     "name": "stdout",
     "output_type": "stream",
     "text": [
      "Requirement already satisfied: catboost in c:\\users\\doroc\\appdata\\local\\programs\\python\\python37\\lib\\site-packages (1.0.6)\n",
      "Requirement already satisfied: six in c:\\users\\doroc\\appdata\\local\\programs\\python\\python37\\lib\\site-packages (from catboost) (1.16.0)\n",
      "Requirement already satisfied: graphviz in c:\\users\\doroc\\appdata\\local\\programs\\python\\python37\\lib\\site-packages (from catboost) (0.19.1)\n",
      "Requirement already satisfied: plotly in c:\\users\\doroc\\appdata\\local\\programs\\python\\python37\\lib\\site-packages (from catboost) (5.10.0)\n",
      "Requirement already satisfied: scipy in c:\\users\\doroc\\appdata\\local\\programs\\python\\python37\\lib\\site-packages (from catboost) (1.7.3)\n",
      "Requirement already satisfied: numpy>=1.16.0 in c:\\users\\doroc\\appdata\\local\\programs\\python\\python37\\lib\\site-packages (from catboost) (1.21.6)\n",
      "Requirement already satisfied: matplotlib in c:\\users\\doroc\\appdata\\local\\programs\\python\\python37\\lib\\site-packages (from catboost) (3.5.3)\n",
      "Requirement already satisfied: pandas>=0.24.0 in c:\\users\\doroc\\appdata\\local\\programs\\python\\python37\\lib\\site-packages (from catboost) (1.3.5)\n",
      "Requirement already satisfied: python-dateutil>=2.7.3 in c:\\users\\doroc\\appdata\\local\\programs\\python\\python37\\lib\\site-packages (from pandas>=0.24.0->catboost) (2.8.2)\n",
      "Requirement already satisfied: pytz>=2017.3 in c:\\users\\doroc\\appdata\\local\\programs\\python\\python37\\lib\\site-packages (from pandas>=0.24.0->catboost) (2022.2.1)\n",
      "Requirement already satisfied: packaging>=20.0 in c:\\users\\doroc\\appdata\\local\\programs\\python\\python37\\lib\\site-packages (from matplotlib->catboost) (21.3)\n",
      "Requirement already satisfied: pyparsing>=2.2.1 in c:\\users\\doroc\\appdata\\local\\programs\\python\\python37\\lib\\site-packages (from matplotlib->catboost) (3.0.7)\n",
      "Requirement already satisfied: kiwisolver>=1.0.1 in c:\\users\\doroc\\appdata\\local\\programs\\python\\python37\\lib\\site-packages (from matplotlib->catboost) (1.4.4)\n",
      "Requirement already satisfied: pillow>=6.2.0 in c:\\users\\doroc\\appdata\\local\\programs\\python\\python37\\lib\\site-packages (from matplotlib->catboost) (9.2.0)\n",
      "Requirement already satisfied: cycler>=0.10 in c:\\users\\doroc\\appdata\\local\\programs\\python\\python37\\lib\\site-packages (from matplotlib->catboost) (0.11.0)\n",
      "Requirement already satisfied: fonttools>=4.22.0 in c:\\users\\doroc\\appdata\\local\\programs\\python\\python37\\lib\\site-packages (from matplotlib->catboost) (4.37.1)\n",
      "Requirement already satisfied: tenacity>=6.2.0 in c:\\users\\doroc\\appdata\\local\\programs\\python\\python37\\lib\\site-packages (from plotly->catboost) (8.0.1)\n",
      "Requirement already satisfied: typing-extensions in c:\\users\\doroc\\appdata\\local\\programs\\python\\python37\\lib\\site-packages (from kiwisolver>=1.0.1->matplotlib->catboost) (4.1.1)\n"
     ]
    }
   ],
   "source": [
    "!pip install catboost"
   ]
  },
  {
   "cell_type": "code",
   "execution_count": 33,
   "id": "dc424a1d",
   "metadata": {},
   "outputs": [
    {
     "data": {
      "text/plain": [
       "['cap-shape',\n",
       " 'cap-surface',\n",
       " 'cap-color',\n",
       " 'bruises',\n",
       " 'odor',\n",
       " 'gill-attachment',\n",
       " 'gill-spacing',\n",
       " 'gill-size',\n",
       " 'gill-color',\n",
       " 'stalk-shape',\n",
       " 'stalk-root',\n",
       " 'stalk-surface-above-ring',\n",
       " 'stalk-surface-below-ring',\n",
       " 'stalk-color-above-ring',\n",
       " 'stalk-color-below-ring',\n",
       " 'veil-type',\n",
       " 'veil-color',\n",
       " 'ring-number',\n",
       " 'ring-type',\n",
       " 'spore-print-color',\n",
       " 'population',\n",
       " 'habitat']"
      ]
     },
     "execution_count": 33,
     "metadata": {},
     "output_type": "execute_result"
    }
   ],
   "source": [
    "# 범주형 변수들이 무엇인지 알려주기\n",
    "cat_cols = X_train.columns[X_train.dtypes == 'object'].to_list()\n",
    "cat_cols"
   ]
  },
  {
   "cell_type": "code",
   "execution_count": 34,
   "id": "3uinLtop9bPW",
   "metadata": {
    "colab": {
     "base_uri": "https://localhost:8080/",
     "height": 817
    },
    "executionInfo": {
     "elapsed": 19,
     "status": "error",
     "timestamp": 1663518536935,
     "user": {
      "displayName": "차수빈",
      "userId": "16979887891359732529"
     },
     "user_tz": -540
    },
    "id": "3uinLtop9bPW",
    "outputId": "c2c5c98e-b336-4112-83ed-b524322f304e"
   },
   "outputs": [],
   "source": [
    "from catboost import Pool\n",
    "\n",
    "train_pool = Pool(data = X_train, label = y_train,cat_features = cat_cols)\n",
    "test_pool = Pool(data = X_test, label = y_test,cat_features = cat_cols)"
   ]
  },
  {
   "cell_type": "markdown",
   "id": "Vu9ijqhGMWgo",
   "metadata": {
    "id": "Vu9ijqhGMWgo"
   },
   "source": [
    "iterations=400, learning_rate=0.1, max_depth=3로 설정한 CatBoost 모델로 버섯에 대한 정보를 학습하고 테스트 데이터 버섯의 독성 여부를 예측하시오. 또 정확도를 구하시오.  "
   ]
  },
  {
   "cell_type": "code",
   "execution_count": 37,
   "id": "J_wMxvhdp9L8",
   "metadata": {
    "colab": {
     "base_uri": "https://localhost:8080/",
     "height": 246
    },
    "executionInfo": {
     "elapsed": 357,
     "status": "error",
     "timestamp": 1663518542771,
     "user": {
      "displayName": "차수빈",
      "userId": "16979887891359732529"
     },
     "user_tz": -540
    },
    "id": "J_wMxvhdp9L8",
    "outputId": "40468413-60bb-4337-862e-a9dab8bd2d03"
   },
   "outputs": [
    {
     "name": "stdout",
     "output_type": "stream",
     "text": [
      "0:\tlearn: 0.4820655\ttotal: 215ms\tremaining: 1m 25s\n",
      "1:\tlearn: 0.3459810\ttotal: 267ms\tremaining: 53.1s\n",
      "2:\tlearn: 0.2406893\ttotal: 329ms\tremaining: 43.5s\n",
      "3:\tlearn: 0.1974875\ttotal: 367ms\tremaining: 36.4s\n",
      "4:\tlearn: 0.1230340\ttotal: 405ms\tremaining: 32s\n",
      "5:\tlearn: 0.0972307\ttotal: 452ms\tremaining: 29.7s\n",
      "6:\tlearn: 0.0711618\ttotal: 515ms\tremaining: 28.9s\n",
      "7:\tlearn: 0.0561606\ttotal: 553ms\tremaining: 27.1s\n",
      "8:\tlearn: 0.0466747\ttotal: 602ms\tremaining: 26.1s\n",
      "9:\tlearn: 0.0409869\ttotal: 641ms\tremaining: 25s\n",
      "10:\tlearn: 0.0369730\ttotal: 684ms\tremaining: 24.2s\n",
      "11:\tlearn: 0.0307606\ttotal: 724ms\tremaining: 23.4s\n",
      "12:\tlearn: 0.0264622\ttotal: 762ms\tremaining: 22.7s\n",
      "13:\tlearn: 0.0249075\ttotal: 804ms\tremaining: 22.2s\n",
      "14:\tlearn: 0.0236728\ttotal: 847ms\tremaining: 21.7s\n",
      "15:\tlearn: 0.0211163\ttotal: 894ms\tremaining: 21.4s\n",
      "16:\tlearn: 0.0195860\ttotal: 929ms\tremaining: 20.9s\n",
      "17:\tlearn: 0.0191157\ttotal: 957ms\tremaining: 20.3s\n",
      "18:\tlearn: 0.0181146\ttotal: 984ms\tremaining: 19.7s\n",
      "19:\tlearn: 0.0172355\ttotal: 1.02s\tremaining: 19.3s\n",
      "20:\tlearn: 0.0165095\ttotal: 1.07s\tremaining: 19.3s\n",
      "21:\tlearn: 0.0147917\ttotal: 1.1s\tremaining: 19s\n",
      "22:\tlearn: 0.0143164\ttotal: 1.14s\tremaining: 18.7s\n",
      "23:\tlearn: 0.0141970\ttotal: 1.17s\tremaining: 18.3s\n",
      "24:\tlearn: 0.0129949\ttotal: 1.19s\tremaining: 17.9s\n",
      "25:\tlearn: 0.0128995\ttotal: 1.22s\tremaining: 17.6s\n",
      "26:\tlearn: 0.0118963\ttotal: 1.25s\tremaining: 17.2s\n",
      "27:\tlearn: 0.0113634\ttotal: 1.28s\tremaining: 17s\n",
      "28:\tlearn: 0.0106431\ttotal: 1.3s\tremaining: 16.7s\n",
      "29:\tlearn: 0.0105698\ttotal: 1.37s\tremaining: 16.9s\n",
      "30:\tlearn: 0.0104706\ttotal: 1.4s\tremaining: 16.6s\n",
      "31:\tlearn: 0.0100673\ttotal: 1.42s\tremaining: 16.4s\n",
      "32:\tlearn: 0.0100011\ttotal: 1.45s\tremaining: 16.1s\n",
      "33:\tlearn: 0.0099392\ttotal: 1.48s\tremaining: 15.9s\n",
      "34:\tlearn: 0.0096712\ttotal: 1.5s\tremaining: 15.7s\n",
      "35:\tlearn: 0.0096321\ttotal: 1.53s\tremaining: 15.5s\n",
      "36:\tlearn: 0.0095766\ttotal: 1.56s\tremaining: 15.3s\n",
      "37:\tlearn: 0.0091290\ttotal: 1.59s\tremaining: 15.2s\n",
      "38:\tlearn: 0.0090045\ttotal: 1.62s\tremaining: 15s\n",
      "39:\tlearn: 0.0086225\ttotal: 1.65s\tremaining: 14.8s\n",
      "40:\tlearn: 0.0086046\ttotal: 1.68s\tremaining: 14.7s\n",
      "41:\tlearn: 0.0086044\ttotal: 1.7s\tremaining: 14.5s\n",
      "42:\tlearn: 0.0085720\ttotal: 1.73s\tremaining: 14.3s\n",
      "43:\tlearn: 0.0084389\ttotal: 1.76s\tremaining: 14.3s\n",
      "44:\tlearn: 0.0084053\ttotal: 1.79s\tremaining: 14.1s\n",
      "45:\tlearn: 0.0083535\ttotal: 1.83s\tremaining: 14.1s\n",
      "46:\tlearn: 0.0083255\ttotal: 1.86s\tremaining: 14s\n",
      "47:\tlearn: 0.0077272\ttotal: 1.9s\tremaining: 13.9s\n",
      "48:\tlearn: 0.0077272\ttotal: 1.93s\tremaining: 13.8s\n",
      "49:\tlearn: 0.0073222\ttotal: 1.97s\tremaining: 13.8s\n",
      "50:\tlearn: 0.0068200\ttotal: 2s\tremaining: 13.7s\n",
      "51:\tlearn: 0.0068009\ttotal: 2.03s\tremaining: 13.6s\n",
      "52:\tlearn: 0.0065631\ttotal: 2.06s\tremaining: 13.5s\n",
      "53:\tlearn: 0.0063499\ttotal: 2.09s\tremaining: 13.4s\n",
      "54:\tlearn: 0.0063042\ttotal: 2.12s\tremaining: 13.3s\n",
      "55:\tlearn: 0.0061553\ttotal: 2.15s\tremaining: 13.2s\n",
      "56:\tlearn: 0.0058601\ttotal: 2.19s\tremaining: 13.1s\n",
      "57:\tlearn: 0.0058600\ttotal: 2.21s\tremaining: 13.1s\n",
      "58:\tlearn: 0.0058298\ttotal: 2.24s\tremaining: 13s\n",
      "59:\tlearn: 0.0057117\ttotal: 2.28s\tremaining: 12.9s\n",
      "60:\tlearn: 0.0056031\ttotal: 2.31s\tremaining: 12.8s\n",
      "61:\tlearn: 0.0056031\ttotal: 2.34s\tremaining: 12.7s\n",
      "62:\tlearn: 0.0055470\ttotal: 2.38s\tremaining: 12.7s\n",
      "63:\tlearn: 0.0055234\ttotal: 2.41s\tremaining: 12.6s\n",
      "64:\tlearn: 0.0055138\ttotal: 2.44s\tremaining: 12.6s\n",
      "65:\tlearn: 0.0053783\ttotal: 2.46s\tremaining: 12.5s\n",
      "66:\tlearn: 0.0053308\ttotal: 2.5s\tremaining: 12.4s\n",
      "67:\tlearn: 0.0049904\ttotal: 2.53s\tremaining: 12.3s\n",
      "68:\tlearn: 0.0046914\ttotal: 2.56s\tremaining: 12.3s\n",
      "69:\tlearn: 0.0046560\ttotal: 2.59s\tremaining: 12.2s\n",
      "70:\tlearn: 0.0043821\ttotal: 2.62s\tremaining: 12.1s\n",
      "71:\tlearn: 0.0043614\ttotal: 2.65s\tremaining: 12.1s\n",
      "72:\tlearn: 0.0042340\ttotal: 2.69s\tremaining: 12s\n",
      "73:\tlearn: 0.0042021\ttotal: 2.72s\tremaining: 12s\n",
      "74:\tlearn: 0.0042021\ttotal: 2.75s\tremaining: 11.9s\n",
      "75:\tlearn: 0.0040902\ttotal: 2.78s\tremaining: 11.9s\n",
      "76:\tlearn: 0.0040266\ttotal: 2.82s\tremaining: 11.8s\n",
      "77:\tlearn: 0.0040167\ttotal: 2.85s\tremaining: 11.8s\n",
      "78:\tlearn: 0.0040167\ttotal: 2.89s\tremaining: 11.7s\n",
      "79:\tlearn: 0.0040166\ttotal: 2.92s\tremaining: 11.7s\n",
      "80:\tlearn: 0.0040078\ttotal: 2.95s\tremaining: 11.6s\n",
      "81:\tlearn: 0.0040078\ttotal: 2.97s\tremaining: 11.5s\n",
      "82:\tlearn: 0.0040078\ttotal: 3s\tremaining: 11.5s\n",
      "83:\tlearn: 0.0039604\ttotal: 3.02s\tremaining: 11.4s\n",
      "84:\tlearn: 0.0037637\ttotal: 3.05s\tremaining: 11.3s\n",
      "85:\tlearn: 0.0037394\ttotal: 3.08s\tremaining: 11.3s\n",
      "86:\tlearn: 0.0036535\ttotal: 3.11s\tremaining: 11.2s\n",
      "87:\tlearn: 0.0036535\ttotal: 3.14s\tremaining: 11.1s\n",
      "88:\tlearn: 0.0036535\ttotal: 3.17s\tremaining: 11.1s\n",
      "89:\tlearn: 0.0036535\ttotal: 3.2s\tremaining: 11s\n",
      "90:\tlearn: 0.0034726\ttotal: 3.23s\tremaining: 11s\n",
      "91:\tlearn: 0.0034726\ttotal: 3.27s\tremaining: 10.9s\n",
      "92:\tlearn: 0.0034485\ttotal: 3.3s\tremaining: 10.9s\n",
      "93:\tlearn: 0.0032597\ttotal: 3.33s\tremaining: 10.8s\n",
      "94:\tlearn: 0.0031307\ttotal: 3.36s\tremaining: 10.8s\n",
      "95:\tlearn: 0.0030287\ttotal: 3.41s\tremaining: 10.8s\n",
      "96:\tlearn: 0.0030222\ttotal: 3.44s\tremaining: 10.8s\n",
      "97:\tlearn: 0.0030221\ttotal: 3.47s\tremaining: 10.7s\n",
      "98:\tlearn: 0.0030221\ttotal: 3.5s\tremaining: 10.6s\n",
      "99:\tlearn: 0.0028981\ttotal: 3.52s\tremaining: 10.6s\n",
      "100:\tlearn: 0.0028981\ttotal: 3.55s\tremaining: 10.5s\n",
      "101:\tlearn: 0.0028239\ttotal: 3.59s\tremaining: 10.5s\n",
      "102:\tlearn: 0.0028239\ttotal: 3.63s\tremaining: 10.5s\n",
      "103:\tlearn: 0.0027932\ttotal: 3.67s\tremaining: 10.4s\n",
      "104:\tlearn: 0.0027207\ttotal: 3.71s\tremaining: 10.4s\n",
      "105:\tlearn: 0.0027206\ttotal: 3.73s\tremaining: 10.4s\n",
      "106:\tlearn: 0.0026043\ttotal: 3.76s\tremaining: 10.3s\n",
      "107:\tlearn: 0.0025798\ttotal: 3.79s\tremaining: 10.2s\n",
      "108:\tlearn: 0.0025798\ttotal: 3.81s\tremaining: 10.2s\n",
      "109:\tlearn: 0.0025593\ttotal: 3.84s\tremaining: 10.1s\n",
      "110:\tlearn: 0.0025593\ttotal: 3.86s\tremaining: 10.1s\n",
      "111:\tlearn: 0.0025094\ttotal: 3.9s\tremaining: 10s\n",
      "112:\tlearn: 0.0024690\ttotal: 3.93s\tremaining: 9.98s\n",
      "113:\tlearn: 0.0024690\ttotal: 3.96s\tremaining: 9.93s\n",
      "114:\tlearn: 0.0024545\ttotal: 3.98s\tremaining: 9.88s\n",
      "115:\tlearn: 0.0024120\ttotal: 4.01s\tremaining: 9.82s\n",
      "116:\tlearn: 0.0024119\ttotal: 4.04s\tremaining: 9.76s\n",
      "117:\tlearn: 0.0024118\ttotal: 4.06s\tremaining: 9.71s\n",
      "118:\tlearn: 0.0024118\ttotal: 4.09s\tremaining: 9.65s\n",
      "119:\tlearn: 0.0023428\ttotal: 4.12s\tremaining: 9.61s\n",
      "120:\tlearn: 0.0023428\ttotal: 4.15s\tremaining: 9.57s\n",
      "121:\tlearn: 0.0023428\ttotal: 4.18s\tremaining: 9.53s\n",
      "122:\tlearn: 0.0023427\ttotal: 4.21s\tremaining: 9.48s\n",
      "123:\tlearn: 0.0023427\ttotal: 4.24s\tremaining: 9.44s\n",
      "124:\tlearn: 0.0023036\ttotal: 4.27s\tremaining: 9.39s\n",
      "125:\tlearn: 0.0022752\ttotal: 4.3s\tremaining: 9.34s\n",
      "126:\tlearn: 0.0022752\ttotal: 4.33s\tremaining: 9.3s\n",
      "127:\tlearn: 0.0022752\ttotal: 4.36s\tremaining: 9.26s\n",
      "128:\tlearn: 0.0022752\ttotal: 4.39s\tremaining: 9.22s\n",
      "129:\tlearn: 0.0022752\ttotal: 4.41s\tremaining: 9.17s\n",
      "130:\tlearn: 0.0022752\ttotal: 4.44s\tremaining: 9.12s\n",
      "131:\tlearn: 0.0022752\ttotal: 4.47s\tremaining: 9.07s\n",
      "132:\tlearn: 0.0022751\ttotal: 4.49s\tremaining: 9.02s\n",
      "133:\tlearn: 0.0022751\ttotal: 4.53s\tremaining: 8.98s\n",
      "134:\tlearn: 0.0022751\ttotal: 4.56s\tremaining: 8.95s\n",
      "135:\tlearn: 0.0022751\ttotal: 4.58s\tremaining: 8.9s\n",
      "136:\tlearn: 0.0022751\ttotal: 4.61s\tremaining: 8.85s\n",
      "137:\tlearn: 0.0022751\ttotal: 4.63s\tremaining: 8.8s\n",
      "138:\tlearn: 0.0022751\ttotal: 4.66s\tremaining: 8.75s\n",
      "139:\tlearn: 0.0022751\ttotal: 4.68s\tremaining: 8.7s\n",
      "140:\tlearn: 0.0022751\ttotal: 4.71s\tremaining: 8.65s\n",
      "141:\tlearn: 0.0022750\ttotal: 4.74s\tremaining: 8.62s\n",
      "142:\tlearn: 0.0022749\ttotal: 4.78s\tremaining: 8.59s\n",
      "143:\tlearn: 0.0022749\ttotal: 4.81s\tremaining: 8.56s\n",
      "144:\tlearn: 0.0022749\ttotal: 4.85s\tremaining: 8.52s\n",
      "145:\tlearn: 0.0022749\ttotal: 4.88s\tremaining: 8.49s\n",
      "146:\tlearn: 0.0022749\ttotal: 4.91s\tremaining: 8.46s\n",
      "147:\tlearn: 0.0022749\ttotal: 4.95s\tremaining: 8.43s\n",
      "148:\tlearn: 0.0022176\ttotal: 4.98s\tremaining: 8.39s\n",
      "149:\tlearn: 0.0022176\ttotal: 5.01s\tremaining: 8.35s\n",
      "150:\tlearn: 0.0022176\ttotal: 5.04s\tremaining: 8.31s\n",
      "151:\tlearn: 0.0022175\ttotal: 5.07s\tremaining: 8.27s\n",
      "152:\tlearn: 0.0022175\ttotal: 5.09s\tremaining: 8.22s\n",
      "153:\tlearn: 0.0022174\ttotal: 5.12s\tremaining: 8.18s\n",
      "154:\tlearn: 0.0022174\ttotal: 5.14s\tremaining: 8.13s\n",
      "155:\tlearn: 0.0022174\ttotal: 5.17s\tremaining: 8.09s\n",
      "156:\tlearn: 0.0022174\ttotal: 5.21s\tremaining: 8.06s\n",
      "157:\tlearn: 0.0022174\ttotal: 5.23s\tremaining: 8.02s\n",
      "158:\tlearn: 0.0022174\ttotal: 5.26s\tremaining: 7.97s\n",
      "159:\tlearn: 0.0022174\ttotal: 5.29s\tremaining: 7.93s\n",
      "160:\tlearn: 0.0021584\ttotal: 5.32s\tremaining: 7.9s\n",
      "161:\tlearn: 0.0021584\ttotal: 5.35s\tremaining: 7.85s\n",
      "162:\tlearn: 0.0021584\ttotal: 5.38s\tremaining: 7.82s\n",
      "163:\tlearn: 0.0021182\ttotal: 5.41s\tremaining: 7.78s\n",
      "164:\tlearn: 0.0021138\ttotal: 5.44s\tremaining: 7.75s\n",
      "165:\tlearn: 0.0021138\ttotal: 5.48s\tremaining: 7.72s\n",
      "166:\tlearn: 0.0021137\ttotal: 5.51s\tremaining: 7.68s\n",
      "167:\tlearn: 0.0021137\ttotal: 5.54s\tremaining: 7.65s\n",
      "168:\tlearn: 0.0021097\ttotal: 5.56s\tremaining: 7.61s\n",
      "169:\tlearn: 0.0020921\ttotal: 5.59s\tremaining: 7.57s\n",
      "170:\tlearn: 0.0020711\ttotal: 5.63s\tremaining: 7.54s\n",
      "171:\tlearn: 0.0020711\ttotal: 5.67s\tremaining: 7.51s\n",
      "172:\tlearn: 0.0020711\ttotal: 5.7s\tremaining: 7.48s\n",
      "173:\tlearn: 0.0020153\ttotal: 5.74s\tremaining: 7.45s\n",
      "174:\tlearn: 0.0020152\ttotal: 5.77s\tremaining: 7.41s\n",
      "175:\tlearn: 0.0020152\ttotal: 5.79s\tremaining: 7.37s\n",
      "176:\tlearn: 0.0019725\ttotal: 5.82s\tremaining: 7.33s\n",
      "177:\tlearn: 0.0019262\ttotal: 5.85s\tremaining: 7.3s\n",
      "178:\tlearn: 0.0018789\ttotal: 5.88s\tremaining: 7.26s\n",
      "179:\tlearn: 0.0018421\ttotal: 5.93s\tremaining: 7.25s\n",
      "180:\tlearn: 0.0018421\ttotal: 5.97s\tremaining: 7.22s\n",
      "181:\tlearn: 0.0018112\ttotal: 6.01s\tremaining: 7.2s\n",
      "182:\tlearn: 0.0017770\ttotal: 6.05s\tremaining: 7.17s\n",
      "183:\tlearn: 0.0017435\ttotal: 6.08s\tremaining: 7.14s\n",
      "184:\tlearn: 0.0017435\ttotal: 6.11s\tremaining: 7.1s\n",
      "185:\tlearn: 0.0017229\ttotal: 6.13s\tremaining: 7.06s\n",
      "186:\tlearn: 0.0017084\ttotal: 6.16s\tremaining: 7.02s\n",
      "187:\tlearn: 0.0016522\ttotal: 6.19s\tremaining: 6.98s\n",
      "188:\tlearn: 0.0016086\ttotal: 6.22s\tremaining: 6.95s\n",
      "189:\tlearn: 0.0015960\ttotal: 6.25s\tremaining: 6.91s\n",
      "190:\tlearn: 0.0015684\ttotal: 6.28s\tremaining: 6.87s\n",
      "191:\tlearn: 0.0015684\ttotal: 6.3s\tremaining: 6.83s\n",
      "192:\tlearn: 0.0015431\ttotal: 6.33s\tremaining: 6.79s\n",
      "193:\tlearn: 0.0015016\ttotal: 6.36s\tremaining: 6.76s\n",
      "194:\tlearn: 0.0014801\ttotal: 6.39s\tremaining: 6.72s\n",
      "195:\tlearn: 0.0014483\ttotal: 6.42s\tremaining: 6.68s\n",
      "196:\tlearn: 0.0014383\ttotal: 6.44s\tremaining: 6.64s\n",
      "197:\tlearn: 0.0014382\ttotal: 6.47s\tremaining: 6.6s\n",
      "198:\tlearn: 0.0014382\ttotal: 6.5s\tremaining: 6.57s\n",
      "199:\tlearn: 0.0014382\ttotal: 6.53s\tremaining: 6.53s\n",
      "200:\tlearn: 0.0014382\ttotal: 6.57s\tremaining: 6.5s\n",
      "201:\tlearn: 0.0014382\ttotal: 6.6s\tremaining: 6.47s\n",
      "202:\tlearn: 0.0014234\ttotal: 6.63s\tremaining: 6.43s\n",
      "203:\tlearn: 0.0014234\ttotal: 6.66s\tremaining: 6.4s\n",
      "204:\tlearn: 0.0014234\ttotal: 6.69s\tremaining: 6.37s\n",
      "205:\tlearn: 0.0014233\ttotal: 6.72s\tremaining: 6.33s\n",
      "206:\tlearn: 0.0014233\ttotal: 6.74s\tremaining: 6.29s\n",
      "207:\tlearn: 0.0014233\ttotal: 6.77s\tremaining: 6.25s\n",
      "208:\tlearn: 0.0014233\ttotal: 6.82s\tremaining: 6.23s\n",
      "209:\tlearn: 0.0014233\ttotal: 6.85s\tremaining: 6.2s\n",
      "210:\tlearn: 0.0014233\ttotal: 6.88s\tremaining: 6.17s\n",
      "211:\tlearn: 0.0014232\ttotal: 6.92s\tremaining: 6.13s\n",
      "212:\tlearn: 0.0014232\ttotal: 6.96s\tremaining: 6.11s\n",
      "213:\tlearn: 0.0014232\ttotal: 7s\tremaining: 6.08s\n",
      "214:\tlearn: 0.0014232\ttotal: 7.04s\tremaining: 6.05s\n",
      "215:\tlearn: 0.0014232\ttotal: 7.07s\tremaining: 6.02s\n",
      "216:\tlearn: 0.0014232\ttotal: 7.11s\tremaining: 6s\n",
      "217:\tlearn: 0.0014232\ttotal: 7.14s\tremaining: 5.96s\n",
      "218:\tlearn: 0.0014231\ttotal: 7.16s\tremaining: 5.92s\n",
      "219:\tlearn: 0.0014231\ttotal: 7.19s\tremaining: 5.88s\n",
      "220:\tlearn: 0.0014231\ttotal: 7.21s\tremaining: 5.84s\n",
      "221:\tlearn: 0.0014231\ttotal: 7.24s\tremaining: 5.8s\n",
      "222:\tlearn: 0.0014231\ttotal: 7.26s\tremaining: 5.77s\n",
      "223:\tlearn: 0.0014231\ttotal: 7.29s\tremaining: 5.73s\n",
      "224:\tlearn: 0.0014231\ttotal: 7.33s\tremaining: 5.7s\n",
      "225:\tlearn: 0.0014231\ttotal: 7.36s\tremaining: 5.67s\n",
      "226:\tlearn: 0.0014231\ttotal: 7.41s\tremaining: 5.64s\n",
      "227:\tlearn: 0.0014231\ttotal: 7.45s\tremaining: 5.62s\n",
      "228:\tlearn: 0.0014231\ttotal: 7.48s\tremaining: 5.59s\n",
      "229:\tlearn: 0.0014231\ttotal: 7.52s\tremaining: 5.56s\n",
      "230:\tlearn: 0.0014230\ttotal: 7.55s\tremaining: 5.53s\n",
      "231:\tlearn: 0.0014227\ttotal: 7.59s\tremaining: 5.5s\n",
      "232:\tlearn: 0.0014225\ttotal: 7.63s\tremaining: 5.47s\n",
      "233:\tlearn: 0.0014224\ttotal: 7.66s\tremaining: 5.44s\n",
      "234:\tlearn: 0.0014224\ttotal: 7.69s\tremaining: 5.4s\n",
      "235:\tlearn: 0.0014224\ttotal: 7.72s\tremaining: 5.37s\n",
      "236:\tlearn: 0.0014224\ttotal: 7.75s\tremaining: 5.33s\n",
      "237:\tlearn: 0.0014224\ttotal: 7.78s\tremaining: 5.3s\n",
      "238:\tlearn: 0.0014224\ttotal: 7.8s\tremaining: 5.26s\n",
      "239:\tlearn: 0.0014223\ttotal: 7.83s\tremaining: 5.22s\n",
      "240:\tlearn: 0.0014223\ttotal: 7.85s\tremaining: 5.18s\n",
      "241:\tlearn: 0.0014222\ttotal: 7.87s\tremaining: 5.14s\n",
      "242:\tlearn: 0.0014222\ttotal: 7.91s\tremaining: 5.11s\n",
      "243:\tlearn: 0.0014222\ttotal: 7.93s\tremaining: 5.07s\n",
      "244:\tlearn: 0.0014221\ttotal: 7.96s\tremaining: 5.04s\n",
      "245:\tlearn: 0.0014220\ttotal: 7.99s\tremaining: 5s\n",
      "246:\tlearn: 0.0014220\ttotal: 8.04s\tremaining: 4.98s\n",
      "247:\tlearn: 0.0014220\ttotal: 8.06s\tremaining: 4.94s\n",
      "248:\tlearn: 0.0014219\ttotal: 8.09s\tremaining: 4.91s\n",
      "249:\tlearn: 0.0014219\ttotal: 8.11s\tremaining: 4.87s\n",
      "250:\tlearn: 0.0014219\ttotal: 8.14s\tremaining: 4.83s\n",
      "251:\tlearn: 0.0014219\ttotal: 8.16s\tremaining: 4.79s\n",
      "252:\tlearn: 0.0014219\ttotal: 8.19s\tremaining: 4.76s\n",
      "253:\tlearn: 0.0014218\ttotal: 8.21s\tremaining: 4.72s\n",
      "254:\tlearn: 0.0014218\ttotal: 8.24s\tremaining: 4.68s\n",
      "255:\tlearn: 0.0014218\ttotal: 8.26s\tremaining: 4.65s\n",
      "256:\tlearn: 0.0014218\ttotal: 8.29s\tremaining: 4.61s\n",
      "257:\tlearn: 0.0014218\ttotal: 8.32s\tremaining: 4.58s\n",
      "258:\tlearn: 0.0014218\ttotal: 8.35s\tremaining: 4.54s\n",
      "259:\tlearn: 0.0014218\ttotal: 8.38s\tremaining: 4.51s\n",
      "260:\tlearn: 0.0014218\ttotal: 8.41s\tremaining: 4.48s\n",
      "261:\tlearn: 0.0014217\ttotal: 8.43s\tremaining: 4.44s\n",
      "262:\tlearn: 0.0014217\ttotal: 8.46s\tremaining: 4.41s\n",
      "263:\tlearn: 0.0014217\ttotal: 8.49s\tremaining: 4.37s\n",
      "264:\tlearn: 0.0014216\ttotal: 8.52s\tremaining: 4.34s\n",
      "265:\tlearn: 0.0014216\ttotal: 8.55s\tremaining: 4.31s\n",
      "266:\tlearn: 0.0014216\ttotal: 8.59s\tremaining: 4.28s\n",
      "267:\tlearn: 0.0014216\ttotal: 8.62s\tremaining: 4.25s\n",
      "268:\tlearn: 0.0014215\ttotal: 8.65s\tremaining: 4.21s\n",
      "269:\tlearn: 0.0014215\ttotal: 8.69s\tremaining: 4.18s\n",
      "270:\tlearn: 0.0014215\ttotal: 8.72s\tremaining: 4.15s\n",
      "271:\tlearn: 0.0014215\ttotal: 8.75s\tremaining: 4.12s\n",
      "272:\tlearn: 0.0014215\ttotal: 8.78s\tremaining: 4.08s\n",
      "273:\tlearn: 0.0014215\ttotal: 8.8s\tremaining: 4.05s\n",
      "274:\tlearn: 0.0014214\ttotal: 8.84s\tremaining: 4.02s\n",
      "275:\tlearn: 0.0014214\ttotal: 8.86s\tremaining: 3.98s\n",
      "276:\tlearn: 0.0014214\ttotal: 8.89s\tremaining: 3.95s\n",
      "277:\tlearn: 0.0014214\ttotal: 8.92s\tremaining: 3.91s\n",
      "278:\tlearn: 0.0014214\ttotal: 8.95s\tremaining: 3.88s\n",
      "279:\tlearn: 0.0014213\ttotal: 8.98s\tremaining: 3.85s\n",
      "280:\tlearn: 0.0014213\ttotal: 9.01s\tremaining: 3.81s\n",
      "281:\tlearn: 0.0014213\ttotal: 9.05s\tremaining: 3.79s\n",
      "282:\tlearn: 0.0014213\ttotal: 9.08s\tremaining: 3.75s\n",
      "283:\tlearn: 0.0014213\ttotal: 9.12s\tremaining: 3.72s\n",
      "284:\tlearn: 0.0014213\ttotal: 9.15s\tremaining: 3.69s\n",
      "285:\tlearn: 0.0014213\ttotal: 9.18s\tremaining: 3.66s\n",
      "286:\tlearn: 0.0014213\ttotal: 9.21s\tremaining: 3.63s\n",
      "287:\tlearn: 0.0014213\ttotal: 9.24s\tremaining: 3.6s\n",
      "288:\tlearn: 0.0014213\ttotal: 9.28s\tremaining: 3.56s\n",
      "289:\tlearn: 0.0014213\ttotal: 9.31s\tremaining: 3.53s\n",
      "290:\tlearn: 0.0014213\ttotal: 9.34s\tremaining: 3.5s\n",
      "291:\tlearn: 0.0014213\ttotal: 9.37s\tremaining: 3.46s\n",
      "292:\tlearn: 0.0014212\ttotal: 9.4s\tremaining: 3.43s\n",
      "293:\tlearn: 0.0014212\ttotal: 9.44s\tremaining: 3.4s\n",
      "294:\tlearn: 0.0014211\ttotal: 9.48s\tremaining: 3.37s\n",
      "295:\tlearn: 0.0014211\ttotal: 9.52s\tremaining: 3.34s\n",
      "296:\tlearn: 0.0014211\ttotal: 9.56s\tremaining: 3.31s\n",
      "297:\tlearn: 0.0014211\ttotal: 9.59s\tremaining: 3.28s\n",
      "298:\tlearn: 0.0014211\ttotal: 9.63s\tremaining: 3.25s\n",
      "299:\tlearn: 0.0014210\ttotal: 9.67s\tremaining: 3.22s\n",
      "300:\tlearn: 0.0014210\ttotal: 9.71s\tremaining: 3.19s\n",
      "301:\tlearn: 0.0014209\ttotal: 9.74s\tremaining: 3.16s\n",
      "302:\tlearn: 0.0014209\ttotal: 9.78s\tremaining: 3.13s\n",
      "303:\tlearn: 0.0014209\ttotal: 9.81s\tremaining: 3.1s\n",
      "304:\tlearn: 0.0014209\ttotal: 9.84s\tremaining: 3.06s\n",
      "305:\tlearn: 0.0014209\ttotal: 9.87s\tremaining: 3.03s\n",
      "306:\tlearn: 0.0014209\ttotal: 9.9s\tremaining: 3s\n",
      "307:\tlearn: 0.0014209\ttotal: 9.93s\tremaining: 2.96s\n",
      "308:\tlearn: 0.0014209\ttotal: 9.96s\tremaining: 2.93s\n",
      "309:\tlearn: 0.0014209\ttotal: 9.99s\tremaining: 2.9s\n",
      "310:\tlearn: 0.0014209\ttotal: 10s\tremaining: 2.87s\n",
      "311:\tlearn: 0.0014209\ttotal: 10.1s\tremaining: 2.83s\n",
      "312:\tlearn: 0.0014209\ttotal: 10.1s\tremaining: 2.8s\n",
      "313:\tlearn: 0.0014209\ttotal: 10.1s\tremaining: 2.77s\n",
      "314:\tlearn: 0.0014209\ttotal: 10.1s\tremaining: 2.74s\n",
      "315:\tlearn: 0.0014208\ttotal: 10.2s\tremaining: 2.71s\n",
      "316:\tlearn: 0.0014207\ttotal: 10.2s\tremaining: 2.67s\n",
      "317:\tlearn: 0.0014207\ttotal: 10.2s\tremaining: 2.64s\n",
      "318:\tlearn: 0.0014207\ttotal: 10.3s\tremaining: 2.61s\n",
      "319:\tlearn: 0.0014207\ttotal: 10.3s\tremaining: 2.57s\n",
      "320:\tlearn: 0.0014207\ttotal: 10.3s\tremaining: 2.54s\n",
      "321:\tlearn: 0.0014207\ttotal: 10.4s\tremaining: 2.51s\n",
      "322:\tlearn: 0.0014207\ttotal: 10.4s\tremaining: 2.48s\n",
      "323:\tlearn: 0.0014206\ttotal: 10.4s\tremaining: 2.44s\n",
      "324:\tlearn: 0.0014206\ttotal: 10.4s\tremaining: 2.41s\n",
      "325:\tlearn: 0.0014206\ttotal: 10.5s\tremaining: 2.38s\n",
      "326:\tlearn: 0.0014206\ttotal: 10.5s\tremaining: 2.35s\n",
      "327:\tlearn: 0.0014204\ttotal: 10.5s\tremaining: 2.31s\n",
      "328:\tlearn: 0.0014141\ttotal: 10.6s\tremaining: 2.28s\n",
      "329:\tlearn: 0.0014140\ttotal: 10.6s\tremaining: 2.25s\n",
      "330:\tlearn: 0.0014140\ttotal: 10.6s\tremaining: 2.21s\n",
      "331:\tlearn: 0.0014140\ttotal: 10.6s\tremaining: 2.18s\n",
      "332:\tlearn: 0.0014140\ttotal: 10.7s\tremaining: 2.15s\n",
      "333:\tlearn: 0.0014139\ttotal: 10.7s\tremaining: 2.11s\n",
      "334:\tlearn: 0.0014139\ttotal: 10.7s\tremaining: 2.08s\n",
      "335:\tlearn: 0.0014139\ttotal: 10.8s\tremaining: 2.05s\n",
      "336:\tlearn: 0.0014136\ttotal: 10.8s\tremaining: 2.02s\n",
      "337:\tlearn: 0.0014135\ttotal: 10.8s\tremaining: 1.99s\n",
      "338:\tlearn: 0.0014135\ttotal: 10.9s\tremaining: 1.96s\n",
      "339:\tlearn: 0.0014135\ttotal: 10.9s\tremaining: 1.92s\n",
      "340:\tlearn: 0.0014131\ttotal: 10.9s\tremaining: 1.89s\n",
      "341:\tlearn: 0.0014131\ttotal: 11s\tremaining: 1.86s\n",
      "342:\tlearn: 0.0014131\ttotal: 11s\tremaining: 1.82s\n",
      "343:\tlearn: 0.0014131\ttotal: 11s\tremaining: 1.79s\n",
      "344:\tlearn: 0.0014130\ttotal: 11s\tremaining: 1.76s\n",
      "345:\tlearn: 0.0014130\ttotal: 11.1s\tremaining: 1.73s\n",
      "346:\tlearn: 0.0014129\ttotal: 11.1s\tremaining: 1.7s\n",
      "347:\tlearn: 0.0014084\ttotal: 11.1s\tremaining: 1.66s\n",
      "348:\tlearn: 0.0014084\ttotal: 11.2s\tremaining: 1.63s\n",
      "349:\tlearn: 0.0014084\ttotal: 11.2s\tremaining: 1.6s\n",
      "350:\tlearn: 0.0014084\ttotal: 11.2s\tremaining: 1.57s\n",
      "351:\tlearn: 0.0014084\ttotal: 11.3s\tremaining: 1.53s\n",
      "352:\tlearn: 0.0014082\ttotal: 11.3s\tremaining: 1.5s\n",
      "353:\tlearn: 0.0014081\ttotal: 11.3s\tremaining: 1.47s\n",
      "354:\tlearn: 0.0014080\ttotal: 11.3s\tremaining: 1.44s\n",
      "355:\tlearn: 0.0014080\ttotal: 11.4s\tremaining: 1.41s\n",
      "356:\tlearn: 0.0014079\ttotal: 11.4s\tremaining: 1.37s\n",
      "357:\tlearn: 0.0014079\ttotal: 11.4s\tremaining: 1.34s\n",
      "358:\tlearn: 0.0014079\ttotal: 11.5s\tremaining: 1.31s\n",
      "359:\tlearn: 0.0014079\ttotal: 11.5s\tremaining: 1.28s\n",
      "360:\tlearn: 0.0014079\ttotal: 11.5s\tremaining: 1.24s\n",
      "361:\tlearn: 0.0014079\ttotal: 11.5s\tremaining: 1.21s\n",
      "362:\tlearn: 0.0014079\ttotal: 11.6s\tremaining: 1.18s\n",
      "363:\tlearn: 0.0014079\ttotal: 11.6s\tremaining: 1.15s\n",
      "364:\tlearn: 0.0014079\ttotal: 11.6s\tremaining: 1.11s\n",
      "365:\tlearn: 0.0014079\ttotal: 11.7s\tremaining: 1.08s\n",
      "366:\tlearn: 0.0014078\ttotal: 11.7s\tremaining: 1.05s\n",
      "367:\tlearn: 0.0014078\ttotal: 11.7s\tremaining: 1.02s\n",
      "368:\tlearn: 0.0014078\ttotal: 11.8s\tremaining: 987ms\n",
      "369:\tlearn: 0.0014077\ttotal: 11.8s\tremaining: 956ms\n",
      "370:\tlearn: 0.0014077\ttotal: 11.8s\tremaining: 923ms\n",
      "371:\tlearn: 0.0014077\ttotal: 11.8s\tremaining: 891ms\n",
      "372:\tlearn: 0.0014077\ttotal: 11.9s\tremaining: 859ms\n",
      "373:\tlearn: 0.0014076\ttotal: 11.9s\tremaining: 827ms\n",
      "374:\tlearn: 0.0014076\ttotal: 11.9s\tremaining: 796ms\n",
      "375:\tlearn: 0.0014076\ttotal: 12s\tremaining: 764ms\n",
      "376:\tlearn: 0.0014074\ttotal: 12s\tremaining: 732ms\n",
      "377:\tlearn: 0.0014045\ttotal: 12s\tremaining: 700ms\n",
      "378:\tlearn: 0.0014044\ttotal: 12.1s\tremaining: 668ms\n",
      "379:\tlearn: 0.0014044\ttotal: 12.1s\tremaining: 636ms\n",
      "380:\tlearn: 0.0014044\ttotal: 12.1s\tremaining: 604ms\n",
      "381:\tlearn: 0.0014044\ttotal: 12.1s\tremaining: 572ms\n",
      "382:\tlearn: 0.0014044\ttotal: 12.2s\tremaining: 540ms\n",
      "383:\tlearn: 0.0014042\ttotal: 12.2s\tremaining: 508ms\n",
      "384:\tlearn: 0.0014042\ttotal: 12.2s\tremaining: 477ms\n",
      "385:\tlearn: 0.0014042\ttotal: 12.3s\tremaining: 445ms\n",
      "386:\tlearn: 0.0014042\ttotal: 12.3s\tremaining: 413ms\n",
      "387:\tlearn: 0.0014042\ttotal: 12.3s\tremaining: 382ms\n",
      "388:\tlearn: 0.0014042\ttotal: 12.4s\tremaining: 350ms\n",
      "389:\tlearn: 0.0014041\ttotal: 12.4s\tremaining: 318ms\n",
      "390:\tlearn: 0.0014041\ttotal: 12.4s\tremaining: 287ms\n",
      "391:\tlearn: 0.0014041\ttotal: 12.5s\tremaining: 255ms\n",
      "392:\tlearn: 0.0014040\ttotal: 12.5s\tremaining: 223ms\n",
      "393:\tlearn: 0.0014040\ttotal: 12.5s\tremaining: 191ms\n",
      "394:\tlearn: 0.0014039\ttotal: 12.6s\tremaining: 159ms\n",
      "395:\tlearn: 0.0014027\ttotal: 12.6s\tremaining: 127ms\n",
      "396:\tlearn: 0.0014027\ttotal: 12.6s\tremaining: 95.3ms\n",
      "397:\tlearn: 0.0014026\ttotal: 12.6s\tremaining: 63.5ms\n",
      "398:\tlearn: 0.0014026\ttotal: 12.7s\tremaining: 31.8ms\n",
      "399:\tlearn: 0.0014026\ttotal: 12.7s\tremaining: 0us\n",
      "정확도 :  1.0\n"
     ]
    }
   ],
   "source": [
    "from catboost import CatBoostClassifier\n",
    "\n",
    "cb_clf = CatBoostClassifier(iterations = 400, learning_rate = 0.1, max_depth = 3)\n",
    "cb_clf.fit(train_pool)\n",
    "pred = cb_clf.predict(test_pool)\n",
    "accuracy = accuracy_score(y_test, pred)\n",
    "print('정확도 : ', accuracy)"
   ]
  },
  {
   "cell_type": "markdown",
   "id": "HsvRSI0Z3G06",
   "metadata": {
    "id": "HsvRSI0Z3G06"
   },
   "source": [
    "수고하셨습니다!"
   ]
  }
 ],
 "metadata": {
  "colab": {
   "collapsed_sections": [],
   "provenance": []
  },
  "kernelspec": {
   "display_name": "Python 3 (ipykernel)",
   "language": "python",
   "name": "python3"
  },
  "language_info": {
   "codemirror_mode": {
    "name": "ipython",
    "version": 3
   },
   "file_extension": ".py",
   "mimetype": "text/x-python",
   "name": "python",
   "nbconvert_exporter": "python",
   "pygments_lexer": "ipython3",
   "version": "3.7.7"
  }
 },
 "nbformat": 4,
 "nbformat_minor": 5
}
