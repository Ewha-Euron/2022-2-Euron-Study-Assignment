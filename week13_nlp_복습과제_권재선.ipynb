{
  "cells": [
    {
      "cell_type": "markdown",
      "metadata": {
        "id": "view-in-github",
        "colab_type": "text"
      },
      "source": [
        "<a href=\"https://colab.research.google.com/github/jaesunkkk/2022-2-Euron-Study-Assignment/blob/week13/week13_nlp_%EB%B3%B5%EC%8A%B5%EA%B3%BC%EC%A0%9C_%EA%B6%8C%EC%9E%AC%EC%84%A0.ipynb\" target=\"_parent\"><img src=\"https://colab.research.google.com/assets/colab-badge.svg\" alt=\"Open In Colab\"/></a>"
      ]
    },
    {
      "cell_type": "markdown",
      "metadata": {
        "id": "BX3ac8Ag1RPC"
      },
      "source": [
        "📌  **상단의 '파일-드라이브에 사본 저장' 해서 본인 드라이브에 저장된 사본 이용해서 실습 해주세요!!**\n",
        "\n",
        "📌 week13 복습습과제는 **NLG 실습**으로 구성되어 있습니다.\n",
        "\n",
        "📌 위키독스의 딥러닝을 이용한 자연어 처리 입문 교재 실습, 관련 블로그 등의 문서 자료로 구성되어 있는 과제입니다. \n",
        "\n",
        "📌 안내된 링크에 맞추어 **직접 코드를 따라 치면서 (필사)** 해당 nlp task 의 기본적인 라이브러리와 메서드를 숙지해보시면 좋을 것 같습니다😊 필수라고 체크한 부분은 과제에 반드시 포함시켜주시고, 선택으로 체크한 부분은 자율적으로 스터디 하시면 됩니다.\n",
        "\n",
        "📌 궁금한 사항은 깃허브 이슈나, 카톡방, 세션 발표 시작 이전 시간 등을 활용하여 자유롭게 공유해주세요!"
      ]
    },
    {
      "cell_type": "code",
      "execution_count": null,
      "metadata": {
        "id": "ppuTdZVWSo0b"
      },
      "outputs": [],
      "source": []
    },
    {
      "cell_type": "code",
      "execution_count": null,
      "metadata": {
        "colab": {
          "base_uri": "https://localhost:8080/"
        },
        "id": "4JEquLR91VBe",
        "outputId": "fec421e7-3d3d-404f-fed6-956ebc3f7265"
      },
      "outputs": [
        {
          "name": "stderr",
          "output_type": "stream",
          "text": [
            "[nltk_data] Downloading package punkt to /root/nltk_data...\n",
            "[nltk_data]   Unzipping tokenizers/punkt.zip.\n",
            "[nltk_data] Downloading package averaged_perceptron_tagger to\n",
            "[nltk_data]     /root/nltk_data...\n",
            "[nltk_data]   Unzipping taggers/averaged_perceptron_tagger.zip.\n",
            "[nltk_data] Downloading package maxent_ne_chunker to\n",
            "[nltk_data]     /root/nltk_data...\n",
            "[nltk_data]   Unzipping chunkers/maxent_ne_chunker.zip.\n",
            "[nltk_data] Downloading package words to /root/nltk_data...\n",
            "[nltk_data]   Unzipping corpora/words.zip.\n"
          ]
        },
        {
          "data": {
            "text/plain": [
              "True"
            ]
          },
          "execution_count": 1,
          "metadata": {},
          "output_type": "execute_result"
        }
      ],
      "source": [
        "import nltk\n",
        "# nltk colab 환경에서 실행시 필요한 코드입니다. \n",
        "nltk.download('punkt')\n",
        "nltk.download('averaged_perceptron_tagger')\n",
        "nltk.download('maxent_ne_chunker')\n",
        "nltk.download('words')"
      ]
    },
    {
      "cell_type": "markdown",
      "metadata": {
        "id": "Kq8aMYKGPQR0"
      },
      "source": [
        "🥰 **이하 예제를 실습하시면 됩니다.**\n",
        "\n",
        "**1-(1)~(2)는 필수과제, 2는 선택과제입니다.**\n"
      ]
    },
    {
      "cell_type": "markdown",
      "metadata": {
        "id": "SHTPAk95iNtP"
      },
      "source": [
        "### **1️⃣ NLG task 실습**"
      ]
    },
    {
      "cell_type": "markdown",
      "metadata": {
        "id": "j5msd7Igjz9D"
      },
      "source": [
        "👀 내용 복습\n",
        "\n",
        "NLG 는 새로운 text 를 만들어 내는 모든 task 를 의미하며 기계번역, 텍스트 요약, 채팅, 스토리텔링, QA 등이 있다. "
      ]
    },
    {
      "cell_type": "markdown",
      "metadata": {
        "id": "9L-jAHPkiBV0"
      },
      "source": [
        "🔹 1-(1) RNN 을 이용한 text generation \n",
        "\n",
        "📌 [Text generation with RNN](https://wikidocs.net/45101) \n",
        "\n",
        "* Simple RNN 을 이용한 간단한 한국어 text generation 예제와 LSTM 을 이용한 뉴욕 타임즈 기사 헤드라인 생성 예제를 필사해주세요."
      ]
    },
    {
      "cell_type": "code",
      "execution_count": null,
      "metadata": {
        "id": "Klj6gjETZdgS"
      },
      "outputs": [],
      "source": [
        "import tensorflow\n",
        "import numpy as np\n",
        "from tensorflow.keras.preprocessing.text import Tokenizer\n",
        "from tensorflow.keras.preprocessing.sequence import pad_sequences\n",
        "from tensorflow.keras.utils import to_categorical"
      ]
    },
    {
      "cell_type": "code",
      "execution_count": null,
      "metadata": {
        "id": "MsJZ9ldFiARK"
      },
      "outputs": [],
      "source": [
        "text = \"\"\"경마장에 있는 말이 뛰고 있다\\n\n",
        "그의 말이 법이다\\n\n",
        "가는 말이 고와야 오는 말이 곱다\\n\"\"\""
      ]
    },
    {
      "cell_type": "code",
      "execution_count": null,
      "metadata": {
        "colab": {
          "base_uri": "https://localhost:8080/"
        },
        "id": "VNNiTKY4qR6b",
        "outputId": "7f5349dd-25f9-4b84-9468-95ca553fb6c9"
      },
      "outputs": [
        {
          "name": "stdout",
          "output_type": "stream",
          "text": [
            "단어 집합의 크기 : 12\n"
          ]
        }
      ],
      "source": [
        "tokenizer = Tokenizer()\n",
        "tokenizer.fit_on_texts([text])\n",
        "vocab_size = len(tokenizer.word_index)+1\n",
        "print('단어 집합의 크기 : %d' % vocab_size)"
      ]
    },
    {
      "cell_type": "code",
      "execution_count": null,
      "metadata": {
        "colab": {
          "base_uri": "https://localhost:8080/"
        },
        "id": "Nh3UmDbSqVzW",
        "outputId": "63806dbd-17c0-4b8d-c663-aa8cc4b3d8f3"
      },
      "outputs": [
        {
          "name": "stdout",
          "output_type": "stream",
          "text": [
            "{'말이': 1, '경마장에': 2, '있는': 3, '뛰고': 4, '있다': 5, '그의': 6, '법이다': 7, '가는': 8, '고와야': 9, '오는': 10, '곱다': 11}\n"
          ]
        }
      ],
      "source": [
        "print(tokenizer.word_index)"
      ]
    },
    {
      "cell_type": "code",
      "execution_count": null,
      "metadata": {
        "colab": {
          "base_uri": "https://localhost:8080/"
        },
        "id": "ZGbjnZAkqYQp",
        "outputId": "abc37cc4-8dcd-4773-8732-36481e8963ea"
      },
      "outputs": [
        {
          "name": "stdout",
          "output_type": "stream",
          "text": [
            "학습에 사용할 샘플의 개수: 11\n"
          ]
        }
      ],
      "source": [
        "sequences = list()\n",
        "for line in text.split('\\n'): \n",
        "  encoded = tokenizer.texts_to_sequences([line])[0]\n",
        "  for i in range(1, len(encoded)):\n",
        "    sequence = encoded[:i+1]\n",
        "    sequences.append(sequence)\n",
        "\n",
        "print('학습에 사용할 샘플의 개수: %d' %len(sequences))"
      ]
    },
    {
      "cell_type": "code",
      "execution_count": null,
      "metadata": {
        "colab": {
          "base_uri": "https://localhost:8080/"
        },
        "id": "rw_dHbBtqaUK",
        "outputId": "a2352b40-8afe-4132-c62b-ddca73790560"
      },
      "outputs": [
        {
          "name": "stdout",
          "output_type": "stream",
          "text": [
            "[[2, 3], [2, 3, 1], [2, 3, 1, 4], [2, 3, 1, 4, 5], [6, 1], [6, 1, 7], [8, 1], [8, 1, 9], [8, 1, 9, 10], [8, 1, 9, 10, 1], [8, 1, 9, 10, 1, 11]]\n"
          ]
        }
      ],
      "source": [
        "print(sequences)"
      ]
    },
    {
      "cell_type": "code",
      "execution_count": null,
      "metadata": {
        "colab": {
          "base_uri": "https://localhost:8080/"
        },
        "id": "XAk2xbdZqcW5",
        "outputId": "4a9c4ee6-5260-44de-da8e-9da368a812f6"
      },
      "outputs": [
        {
          "name": "stdout",
          "output_type": "stream",
          "text": [
            "샘플의 최대 길이: 6\n"
          ]
        }
      ],
      "source": [
        "max_len = max(len(l) for  l in sequences) \n",
        "print('샘플의 최대 길이: {}'.format(max_len))"
      ]
    },
    {
      "cell_type": "code",
      "execution_count": null,
      "metadata": {
        "id": "W6xMmbouqeWf"
      },
      "outputs": [],
      "source": [
        "sequences = pad_sequences(sequences, maxlen=max_len, padding='pre')"
      ]
    },
    {
      "cell_type": "code",
      "execution_count": null,
      "metadata": {
        "colab": {
          "base_uri": "https://localhost:8080/"
        },
        "id": "UkI7WpcCqheO",
        "outputId": "814b4d67-14d5-4932-d1b0-b29d1cd8d9fc"
      },
      "outputs": [
        {
          "name": "stdout",
          "output_type": "stream",
          "text": [
            "[[ 0  0  0  0  2  3]\n",
            " [ 0  0  0  2  3  1]\n",
            " [ 0  0  2  3  1  4]\n",
            " [ 0  2  3  1  4  5]\n",
            " [ 0  0  0  0  6  1]\n",
            " [ 0  0  0  6  1  7]\n",
            " [ 0  0  0  0  8  1]\n",
            " [ 0  0  0  8  1  9]\n",
            " [ 0  0  8  1  9 10]\n",
            " [ 0  8  1  9 10  1]\n",
            " [ 8  1  9 10  1 11]]\n"
          ]
        }
      ],
      "source": [
        "print(sequences)"
      ]
    },
    {
      "cell_type": "code",
      "execution_count": null,
      "metadata": {
        "id": "KLAP_n1qqjE3"
      },
      "outputs": [],
      "source": [
        "sequences = np.array(sequences)\n",
        "X = sequences[:,:-1]\n",
        "y = sequences[:, -1]"
      ]
    },
    {
      "cell_type": "code",
      "execution_count": null,
      "metadata": {
        "colab": {
          "base_uri": "https://localhost:8080/"
        },
        "id": "QP9PHWQ7qlN0",
        "outputId": "7d06d887-1153-40e3-a753-6481cf192312"
      },
      "outputs": [
        {
          "name": "stdout",
          "output_type": "stream",
          "text": [
            "[[ 0  0  0  0  2]\n",
            " [ 0  0  0  2  3]\n",
            " [ 0  0  2  3  1]\n",
            " [ 0  2  3  1  4]\n",
            " [ 0  0  0  0  6]\n",
            " [ 0  0  0  6  1]\n",
            " [ 0  0  0  0  8]\n",
            " [ 0  0  0  8  1]\n",
            " [ 0  0  8  1  9]\n",
            " [ 0  8  1  9 10]\n",
            " [ 8  1  9 10  1]]\n",
            "[ 3  1  4  5  1  7  1  9 10  1 11]\n"
          ]
        }
      ],
      "source": [
        "print(X)\n",
        "print(y)"
      ]
    },
    {
      "cell_type": "code",
      "execution_count": null,
      "metadata": {
        "id": "PzBYCCmHqnHs"
      },
      "outputs": [],
      "source": [
        "y = to_categorical(y, num_classes=vocab_size)"
      ]
    },
    {
      "cell_type": "code",
      "execution_count": null,
      "metadata": {
        "colab": {
          "base_uri": "https://localhost:8080/"
        },
        "id": "2vVu23KZqpOE",
        "outputId": "bea24823-3723-446f-f3be-c0638829a447"
      },
      "outputs": [
        {
          "name": "stdout",
          "output_type": "stream",
          "text": [
            "[[0. 0. 0. 1. 0. 0. 0. 0. 0. 0. 0. 0.]\n",
            " [0. 1. 0. 0. 0. 0. 0. 0. 0. 0. 0. 0.]\n",
            " [0. 0. 0. 0. 1. 0. 0. 0. 0. 0. 0. 0.]\n",
            " [0. 0. 0. 0. 0. 1. 0. 0. 0. 0. 0. 0.]\n",
            " [0. 1. 0. 0. 0. 0. 0. 0. 0. 0. 0. 0.]\n",
            " [0. 0. 0. 0. 0. 0. 0. 1. 0. 0. 0. 0.]\n",
            " [0. 1. 0. 0. 0. 0. 0. 0. 0. 0. 0. 0.]\n",
            " [0. 0. 0. 0. 0. 0. 0. 0. 0. 1. 0. 0.]\n",
            " [0. 0. 0. 0. 0. 0. 0. 0. 0. 0. 1. 0.]\n",
            " [0. 1. 0. 0. 0. 0. 0. 0. 0. 0. 0. 0.]\n",
            " [0. 0. 0. 0. 0. 0. 0. 0. 0. 0. 0. 1.]]\n"
          ]
        }
      ],
      "source": [
        "print(y)"
      ]
    },
    {
      "cell_type": "code",
      "execution_count": null,
      "metadata": {
        "id": "49E4t1Q9qq3R"
      },
      "outputs": [],
      "source": [
        "from tensorflow.keras.models import Sequential\n",
        "from tensorflow.keras.layers import Embedding, Dense, SimpleRNN"
      ]
    },
    {
      "cell_type": "code",
      "execution_count": null,
      "metadata": {
        "colab": {
          "base_uri": "https://localhost:8080/"
        },
        "id": "_RT8shFjqucd",
        "outputId": "1adb4826-941d-4512-8a94-4c6a49ce425e"
      },
      "outputs": [
        {
          "name": "stdout",
          "output_type": "stream",
          "text": [
            "Epoch 1/200\n",
            "1/1 - 2s - loss: 2.4714 - accuracy: 0.1818 - 2s/epoch - 2s/step\n",
            "Epoch 2/200\n",
            "1/1 - 0s - loss: 2.4568 - accuracy: 0.2727 - 9ms/epoch - 9ms/step\n",
            "Epoch 3/200\n",
            "1/1 - 0s - loss: 2.4420 - accuracy: 0.2727 - 8ms/epoch - 8ms/step\n",
            "Epoch 4/200\n",
            "1/1 - 0s - loss: 2.4269 - accuracy: 0.2727 - 11ms/epoch - 11ms/step\n",
            "Epoch 5/200\n",
            "1/1 - 0s - loss: 2.4115 - accuracy: 0.2727 - 10ms/epoch - 10ms/step\n",
            "Epoch 6/200\n",
            "1/1 - 0s - loss: 2.3955 - accuracy: 0.2727 - 9ms/epoch - 9ms/step\n",
            "Epoch 7/200\n",
            "1/1 - 0s - loss: 2.3790 - accuracy: 0.2727 - 9ms/epoch - 9ms/step\n",
            "Epoch 8/200\n",
            "1/1 - 0s - loss: 2.3618 - accuracy: 0.2727 - 12ms/epoch - 12ms/step\n",
            "Epoch 9/200\n",
            "1/1 - 0s - loss: 2.3439 - accuracy: 0.3636 - 9ms/epoch - 9ms/step\n",
            "Epoch 10/200\n",
            "1/1 - 0s - loss: 2.3251 - accuracy: 0.3636 - 9ms/epoch - 9ms/step\n",
            "Epoch 11/200\n",
            "1/1 - 0s - loss: 2.3055 - accuracy: 0.3636 - 8ms/epoch - 8ms/step\n",
            "Epoch 12/200\n",
            "1/1 - 0s - loss: 2.2850 - accuracy: 0.3636 - 9ms/epoch - 9ms/step\n",
            "Epoch 13/200\n",
            "1/1 - 0s - loss: 2.2635 - accuracy: 0.3636 - 11ms/epoch - 11ms/step\n",
            "Epoch 14/200\n",
            "1/1 - 0s - loss: 2.2411 - accuracy: 0.3636 - 9ms/epoch - 9ms/step\n",
            "Epoch 15/200\n",
            "1/1 - 0s - loss: 2.2178 - accuracy: 0.3636 - 10ms/epoch - 10ms/step\n",
            "Epoch 16/200\n",
            "1/1 - 0s - loss: 2.1937 - accuracy: 0.3636 - 10ms/epoch - 10ms/step\n",
            "Epoch 17/200\n",
            "1/1 - 0s - loss: 2.1689 - accuracy: 0.3636 - 10ms/epoch - 10ms/step\n",
            "Epoch 18/200\n",
            "1/1 - 0s - loss: 2.1435 - accuracy: 0.3636 - 14ms/epoch - 14ms/step\n",
            "Epoch 19/200\n",
            "1/1 - 0s - loss: 2.1177 - accuracy: 0.3636 - 8ms/epoch - 8ms/step\n",
            "Epoch 20/200\n",
            "1/1 - 0s - loss: 2.0919 - accuracy: 0.3636 - 10ms/epoch - 10ms/step\n",
            "Epoch 21/200\n",
            "1/1 - 0s - loss: 2.0663 - accuracy: 0.3636 - 9ms/epoch - 9ms/step\n",
            "Epoch 22/200\n",
            "1/1 - 0s - loss: 2.0414 - accuracy: 0.3636 - 13ms/epoch - 13ms/step\n",
            "Epoch 23/200\n",
            "1/1 - 0s - loss: 2.0174 - accuracy: 0.3636 - 11ms/epoch - 11ms/step\n",
            "Epoch 24/200\n",
            "1/1 - 0s - loss: 1.9947 - accuracy: 0.3636 - 9ms/epoch - 9ms/step\n",
            "Epoch 25/200\n",
            "1/1 - 0s - loss: 1.9736 - accuracy: 0.3636 - 11ms/epoch - 11ms/step\n",
            "Epoch 26/200\n",
            "1/1 - 0s - loss: 1.9541 - accuracy: 0.3636 - 9ms/epoch - 9ms/step\n",
            "Epoch 27/200\n",
            "1/1 - 0s - loss: 1.9363 - accuracy: 0.3636 - 11ms/epoch - 11ms/step\n",
            "Epoch 28/200\n",
            "1/1 - 0s - loss: 1.9198 - accuracy: 0.3636 - 7ms/epoch - 7ms/step\n",
            "Epoch 29/200\n",
            "1/1 - 0s - loss: 1.9042 - accuracy: 0.3636 - 9ms/epoch - 9ms/step\n",
            "Epoch 30/200\n",
            "1/1 - 0s - loss: 1.8891 - accuracy: 0.3636 - 11ms/epoch - 11ms/step\n",
            "Epoch 31/200\n",
            "1/1 - 0s - loss: 1.8739 - accuracy: 0.3636 - 12ms/epoch - 12ms/step\n",
            "Epoch 32/200\n",
            "1/1 - 0s - loss: 1.8582 - accuracy: 0.3636 - 12ms/epoch - 12ms/step\n",
            "Epoch 33/200\n",
            "1/1 - 0s - loss: 1.8417 - accuracy: 0.4545 - 9ms/epoch - 9ms/step\n",
            "Epoch 34/200\n",
            "1/1 - 0s - loss: 1.8245 - accuracy: 0.4545 - 10ms/epoch - 10ms/step\n",
            "Epoch 35/200\n",
            "1/1 - 0s - loss: 1.8065 - accuracy: 0.4545 - 11ms/epoch - 11ms/step\n",
            "Epoch 36/200\n",
            "1/1 - 0s - loss: 1.7879 - accuracy: 0.4545 - 8ms/epoch - 8ms/step\n",
            "Epoch 37/200\n",
            "1/1 - 0s - loss: 1.7690 - accuracy: 0.4545 - 10ms/epoch - 10ms/step\n",
            "Epoch 38/200\n",
            "1/1 - 0s - loss: 1.7500 - accuracy: 0.4545 - 12ms/epoch - 12ms/step\n",
            "Epoch 39/200\n",
            "1/1 - 0s - loss: 1.7312 - accuracy: 0.4545 - 8ms/epoch - 8ms/step\n",
            "Epoch 40/200\n",
            "1/1 - 0s - loss: 1.7126 - accuracy: 0.4545 - 7ms/epoch - 7ms/step\n",
            "Epoch 41/200\n",
            "1/1 - 0s - loss: 1.6945 - accuracy: 0.4545 - 8ms/epoch - 8ms/step\n",
            "Epoch 42/200\n",
            "1/1 - 0s - loss: 1.6768 - accuracy: 0.4545 - 8ms/epoch - 8ms/step\n",
            "Epoch 43/200\n",
            "1/1 - 0s - loss: 1.6596 - accuracy: 0.4545 - 8ms/epoch - 8ms/step\n",
            "Epoch 44/200\n",
            "1/1 - 0s - loss: 1.6429 - accuracy: 0.4545 - 9ms/epoch - 9ms/step\n",
            "Epoch 45/200\n",
            "1/1 - 0s - loss: 1.6264 - accuracy: 0.4545 - 6ms/epoch - 6ms/step\n",
            "Epoch 46/200\n",
            "1/1 - 0s - loss: 1.6103 - accuracy: 0.3636 - 9ms/epoch - 9ms/step\n",
            "Epoch 47/200\n",
            "1/1 - 0s - loss: 1.5943 - accuracy: 0.3636 - 11ms/epoch - 11ms/step\n",
            "Epoch 48/200\n",
            "1/1 - 0s - loss: 1.5785 - accuracy: 0.3636 - 11ms/epoch - 11ms/step\n",
            "Epoch 49/200\n",
            "1/1 - 0s - loss: 1.5628 - accuracy: 0.3636 - 10ms/epoch - 10ms/step\n",
            "Epoch 50/200\n",
            "1/1 - 0s - loss: 1.5471 - accuracy: 0.3636 - 9ms/epoch - 9ms/step\n",
            "Epoch 51/200\n",
            "1/1 - 0s - loss: 1.5315 - accuracy: 0.3636 - 8ms/epoch - 8ms/step\n",
            "Epoch 52/200\n",
            "1/1 - 0s - loss: 1.5159 - accuracy: 0.4545 - 9ms/epoch - 9ms/step\n",
            "Epoch 53/200\n",
            "1/1 - 0s - loss: 1.5003 - accuracy: 0.4545 - 9ms/epoch - 9ms/step\n",
            "Epoch 54/200\n",
            "1/1 - 0s - loss: 1.4847 - accuracy: 0.4545 - 9ms/epoch - 9ms/step\n",
            "Epoch 55/200\n",
            "1/1 - 0s - loss: 1.4690 - accuracy: 0.4545 - 8ms/epoch - 8ms/step\n",
            "Epoch 56/200\n",
            "1/1 - 0s - loss: 1.4534 - accuracy: 0.4545 - 9ms/epoch - 9ms/step\n",
            "Epoch 57/200\n",
            "1/1 - 0s - loss: 1.4377 - accuracy: 0.4545 - 8ms/epoch - 8ms/step\n",
            "Epoch 58/200\n",
            "1/1 - 0s - loss: 1.4220 - accuracy: 0.4545 - 12ms/epoch - 12ms/step\n",
            "Epoch 59/200\n",
            "1/1 - 0s - loss: 1.4064 - accuracy: 0.4545 - 9ms/epoch - 9ms/step\n",
            "Epoch 60/200\n",
            "1/1 - 0s - loss: 1.3908 - accuracy: 0.4545 - 10ms/epoch - 10ms/step\n",
            "Epoch 61/200\n",
            "1/1 - 0s - loss: 1.3753 - accuracy: 0.4545 - 9ms/epoch - 9ms/step\n",
            "Epoch 62/200\n",
            "1/1 - 0s - loss: 1.3599 - accuracy: 0.5455 - 8ms/epoch - 8ms/step\n",
            "Epoch 63/200\n",
            "1/1 - 0s - loss: 1.3446 - accuracy: 0.5455 - 14ms/epoch - 14ms/step\n",
            "Epoch 64/200\n",
            "1/1 - 0s - loss: 1.3294 - accuracy: 0.5455 - 10ms/epoch - 10ms/step\n",
            "Epoch 65/200\n",
            "1/1 - 0s - loss: 1.3143 - accuracy: 0.5455 - 9ms/epoch - 9ms/step\n",
            "Epoch 66/200\n",
            "1/1 - 0s - loss: 1.2993 - accuracy: 0.5455 - 8ms/epoch - 8ms/step\n",
            "Epoch 67/200\n",
            "1/1 - 0s - loss: 1.2844 - accuracy: 0.5455 - 9ms/epoch - 9ms/step\n",
            "Epoch 68/200\n",
            "1/1 - 0s - loss: 1.2695 - accuracy: 0.5455 - 8ms/epoch - 8ms/step\n",
            "Epoch 69/200\n",
            "1/1 - 0s - loss: 1.2547 - accuracy: 0.5455 - 9ms/epoch - 9ms/step\n",
            "Epoch 70/200\n",
            "1/1 - 0s - loss: 1.2400 - accuracy: 0.5455 - 9ms/epoch - 9ms/step\n",
            "Epoch 71/200\n",
            "1/1 - 0s - loss: 1.2253 - accuracy: 0.5455 - 8ms/epoch - 8ms/step\n",
            "Epoch 72/200\n",
            "1/1 - 0s - loss: 1.2107 - accuracy: 0.5455 - 8ms/epoch - 8ms/step\n",
            "Epoch 73/200\n",
            "1/1 - 0s - loss: 1.1961 - accuracy: 0.5455 - 11ms/epoch - 11ms/step\n",
            "Epoch 74/200\n",
            "1/1 - 0s - loss: 1.1816 - accuracy: 0.5455 - 10ms/epoch - 10ms/step\n",
            "Epoch 75/200\n",
            "1/1 - 0s - loss: 1.1671 - accuracy: 0.5455 - 9ms/epoch - 9ms/step\n",
            "Epoch 76/200\n",
            "1/1 - 0s - loss: 1.1526 - accuracy: 0.6364 - 9ms/epoch - 9ms/step\n",
            "Epoch 77/200\n",
            "1/1 - 0s - loss: 1.1382 - accuracy: 0.6364 - 9ms/epoch - 9ms/step\n",
            "Epoch 78/200\n",
            "1/1 - 0s - loss: 1.1238 - accuracy: 0.6364 - 9ms/epoch - 9ms/step\n",
            "Epoch 79/200\n",
            "1/1 - 0s - loss: 1.1094 - accuracy: 0.6364 - 9ms/epoch - 9ms/step\n",
            "Epoch 80/200\n",
            "1/1 - 0s - loss: 1.0951 - accuracy: 0.6364 - 9ms/epoch - 9ms/step\n",
            "Epoch 81/200\n",
            "1/1 - 0s - loss: 1.0808 - accuracy: 0.6364 - 9ms/epoch - 9ms/step\n",
            "Epoch 82/200\n",
            "1/1 - 0s - loss: 1.0665 - accuracy: 0.6364 - 11ms/epoch - 11ms/step\n",
            "Epoch 83/200\n",
            "1/1 - 0s - loss: 1.0523 - accuracy: 0.6364 - 10ms/epoch - 10ms/step\n",
            "Epoch 84/200\n",
            "1/1 - 0s - loss: 1.0382 - accuracy: 0.6364 - 10ms/epoch - 10ms/step\n",
            "Epoch 85/200\n",
            "1/1 - 0s - loss: 1.0241 - accuracy: 0.6364 - 9ms/epoch - 9ms/step\n",
            "Epoch 86/200\n",
            "1/1 - 0s - loss: 1.0100 - accuracy: 0.6364 - 9ms/epoch - 9ms/step\n",
            "Epoch 87/200\n",
            "1/1 - 0s - loss: 0.9960 - accuracy: 0.7273 - 8ms/epoch - 8ms/step\n",
            "Epoch 88/200\n",
            "1/1 - 0s - loss: 0.9821 - accuracy: 0.7273 - 13ms/epoch - 13ms/step\n",
            "Epoch 89/200\n",
            "1/1 - 0s - loss: 0.9683 - accuracy: 0.7273 - 8ms/epoch - 8ms/step\n",
            "Epoch 90/200\n",
            "1/1 - 0s - loss: 0.9545 - accuracy: 0.7273 - 10ms/epoch - 10ms/step\n",
            "Epoch 91/200\n",
            "1/1 - 0s - loss: 0.9408 - accuracy: 0.7273 - 10ms/epoch - 10ms/step\n",
            "Epoch 92/200\n",
            "1/1 - 0s - loss: 0.9273 - accuracy: 0.7273 - 9ms/epoch - 9ms/step\n",
            "Epoch 93/200\n",
            "1/1 - 0s - loss: 0.9138 - accuracy: 0.7273 - 9ms/epoch - 9ms/step\n",
            "Epoch 94/200\n",
            "1/1 - 0s - loss: 0.9005 - accuracy: 0.7273 - 11ms/epoch - 11ms/step\n",
            "Epoch 95/200\n",
            "1/1 - 0s - loss: 0.8872 - accuracy: 0.7273 - 11ms/epoch - 11ms/step\n",
            "Epoch 96/200\n",
            "1/1 - 0s - loss: 0.8741 - accuracy: 0.7273 - 8ms/epoch - 8ms/step\n",
            "Epoch 97/200\n",
            "1/1 - 0s - loss: 0.8611 - accuracy: 0.7273 - 9ms/epoch - 9ms/step\n",
            "Epoch 98/200\n",
            "1/1 - 0s - loss: 0.8483 - accuracy: 0.7273 - 12ms/epoch - 12ms/step\n",
            "Epoch 99/200\n",
            "1/1 - 0s - loss: 0.8356 - accuracy: 0.7273 - 9ms/epoch - 9ms/step\n",
            "Epoch 100/200\n",
            "1/1 - 0s - loss: 0.8230 - accuracy: 0.7273 - 8ms/epoch - 8ms/step\n",
            "Epoch 101/200\n",
            "1/1 - 0s - loss: 0.8106 - accuracy: 0.7273 - 9ms/epoch - 9ms/step\n",
            "Epoch 102/200\n",
            "1/1 - 0s - loss: 0.7983 - accuracy: 0.7273 - 6ms/epoch - 6ms/step\n",
            "Epoch 103/200\n",
            "1/1 - 0s - loss: 0.7862 - accuracy: 0.7273 - 16ms/epoch - 16ms/step\n",
            "Epoch 104/200\n",
            "1/1 - 0s - loss: 0.7742 - accuracy: 0.8182 - 11ms/epoch - 11ms/step\n",
            "Epoch 105/200\n",
            "1/1 - 0s - loss: 0.7623 - accuracy: 0.8182 - 11ms/epoch - 11ms/step\n",
            "Epoch 106/200\n",
            "1/1 - 0s - loss: 0.7507 - accuracy: 0.8182 - 12ms/epoch - 12ms/step\n",
            "Epoch 107/200\n",
            "1/1 - 0s - loss: 0.7391 - accuracy: 0.9091 - 11ms/epoch - 11ms/step\n",
            "Epoch 108/200\n",
            "1/1 - 0s - loss: 0.7277 - accuracy: 0.9091 - 9ms/epoch - 9ms/step\n",
            "Epoch 109/200\n",
            "1/1 - 0s - loss: 0.7165 - accuracy: 0.9091 - 10ms/epoch - 10ms/step\n",
            "Epoch 110/200\n",
            "1/1 - 0s - loss: 0.7053 - accuracy: 0.9091 - 9ms/epoch - 9ms/step\n",
            "Epoch 111/200\n",
            "1/1 - 0s - loss: 0.6944 - accuracy: 0.9091 - 10ms/epoch - 10ms/step\n",
            "Epoch 112/200\n",
            "1/1 - 0s - loss: 0.6835 - accuracy: 0.9091 - 12ms/epoch - 12ms/step\n",
            "Epoch 113/200\n",
            "1/1 - 0s - loss: 0.6728 - accuracy: 0.9091 - 10ms/epoch - 10ms/step\n",
            "Epoch 114/200\n",
            "1/1 - 0s - loss: 0.6622 - accuracy: 0.9091 - 9ms/epoch - 9ms/step\n",
            "Epoch 115/200\n",
            "1/1 - 0s - loss: 0.6517 - accuracy: 0.9091 - 9ms/epoch - 9ms/step\n",
            "Epoch 116/200\n",
            "1/1 - 0s - loss: 0.6414 - accuracy: 0.9091 - 9ms/epoch - 9ms/step\n",
            "Epoch 117/200\n",
            "1/1 - 0s - loss: 0.6312 - accuracy: 0.9091 - 10ms/epoch - 10ms/step\n",
            "Epoch 118/200\n",
            "1/1 - 0s - loss: 0.6211 - accuracy: 0.9091 - 8ms/epoch - 8ms/step\n",
            "Epoch 119/200\n",
            "1/1 - 0s - loss: 0.6111 - accuracy: 0.9091 - 9ms/epoch - 9ms/step\n",
            "Epoch 120/200\n",
            "1/1 - 0s - loss: 0.6012 - accuracy: 0.9091 - 8ms/epoch - 8ms/step\n",
            "Epoch 121/200\n",
            "1/1 - 0s - loss: 0.5915 - accuracy: 0.9091 - 9ms/epoch - 9ms/step\n",
            "Epoch 122/200\n",
            "1/1 - 0s - loss: 0.5818 - accuracy: 0.9091 - 10ms/epoch - 10ms/step\n",
            "Epoch 123/200\n",
            "1/1 - 0s - loss: 0.5723 - accuracy: 0.9091 - 10ms/epoch - 10ms/step\n",
            "Epoch 124/200\n",
            "1/1 - 0s - loss: 0.5629 - accuracy: 0.9091 - 10ms/epoch - 10ms/step\n",
            "Epoch 125/200\n",
            "1/1 - 0s - loss: 0.5536 - accuracy: 0.9091 - 9ms/epoch - 9ms/step\n",
            "Epoch 126/200\n",
            "1/1 - 0s - loss: 0.5445 - accuracy: 0.9091 - 9ms/epoch - 9ms/step\n",
            "Epoch 127/200\n",
            "1/1 - 0s - loss: 0.5354 - accuracy: 0.9091 - 10ms/epoch - 10ms/step\n",
            "Epoch 128/200\n",
            "1/1 - 0s - loss: 0.5265 - accuracy: 0.9091 - 8ms/epoch - 8ms/step\n",
            "Epoch 129/200\n",
            "1/1 - 0s - loss: 0.5176 - accuracy: 0.9091 - 9ms/epoch - 9ms/step\n",
            "Epoch 130/200\n",
            "1/1 - 0s - loss: 0.5089 - accuracy: 0.9091 - 8ms/epoch - 8ms/step\n",
            "Epoch 131/200\n",
            "1/1 - 0s - loss: 0.5003 - accuracy: 0.9091 - 9ms/epoch - 9ms/step\n",
            "Epoch 132/200\n",
            "1/1 - 0s - loss: 0.4918 - accuracy: 0.9091 - 8ms/epoch - 8ms/step\n",
            "Epoch 133/200\n",
            "1/1 - 0s - loss: 0.4834 - accuracy: 0.9091 - 8ms/epoch - 8ms/step\n",
            "Epoch 134/200\n",
            "1/1 - 0s - loss: 0.4752 - accuracy: 0.9091 - 9ms/epoch - 9ms/step\n",
            "Epoch 135/200\n",
            "1/1 - 0s - loss: 0.4670 - accuracy: 0.9091 - 8ms/epoch - 8ms/step\n",
            "Epoch 136/200\n",
            "1/1 - 0s - loss: 0.4590 - accuracy: 0.9091 - 9ms/epoch - 9ms/step\n",
            "Epoch 137/200\n",
            "1/1 - 0s - loss: 0.4510 - accuracy: 0.9091 - 9ms/epoch - 9ms/step\n",
            "Epoch 138/200\n",
            "1/1 - 0s - loss: 0.4432 - accuracy: 0.9091 - 10ms/epoch - 10ms/step\n",
            "Epoch 139/200\n",
            "1/1 - 0s - loss: 0.4355 - accuracy: 0.9091 - 9ms/epoch - 9ms/step\n",
            "Epoch 140/200\n",
            "1/1 - 0s - loss: 0.4279 - accuracy: 0.9091 - 9ms/epoch - 9ms/step\n",
            "Epoch 141/200\n",
            "1/1 - 0s - loss: 0.4204 - accuracy: 0.9091 - 10ms/epoch - 10ms/step\n",
            "Epoch 142/200\n",
            "1/1 - 0s - loss: 0.4130 - accuracy: 0.9091 - 10ms/epoch - 10ms/step\n",
            "Epoch 143/200\n",
            "1/1 - 0s - loss: 0.4058 - accuracy: 0.9091 - 9ms/epoch - 9ms/step\n",
            "Epoch 144/200\n",
            "1/1 - 0s - loss: 0.3986 - accuracy: 0.9091 - 12ms/epoch - 12ms/step\n",
            "Epoch 145/200\n",
            "1/1 - 0s - loss: 0.3916 - accuracy: 0.9091 - 10ms/epoch - 10ms/step\n",
            "Epoch 146/200\n",
            "1/1 - 0s - loss: 0.3846 - accuracy: 0.9091 - 12ms/epoch - 12ms/step\n",
            "Epoch 147/200\n",
            "1/1 - 0s - loss: 0.3778 - accuracy: 0.9091 - 8ms/epoch - 8ms/step\n",
            "Epoch 148/200\n",
            "1/1 - 0s - loss: 0.3711 - accuracy: 0.9091 - 9ms/epoch - 9ms/step\n",
            "Epoch 149/200\n",
            "1/1 - 0s - loss: 0.3645 - accuracy: 0.9091 - 8ms/epoch - 8ms/step\n",
            "Epoch 150/200\n",
            "1/1 - 0s - loss: 0.3580 - accuracy: 0.9091 - 8ms/epoch - 8ms/step\n",
            "Epoch 151/200\n",
            "1/1 - 0s - loss: 0.3516 - accuracy: 0.9091 - 8ms/epoch - 8ms/step\n",
            "Epoch 152/200\n",
            "1/1 - 0s - loss: 0.3453 - accuracy: 0.9091 - 8ms/epoch - 8ms/step\n",
            "Epoch 153/200\n",
            "1/1 - 0s - loss: 0.3392 - accuracy: 0.9091 - 10ms/epoch - 10ms/step\n",
            "Epoch 154/200\n",
            "1/1 - 0s - loss: 0.3331 - accuracy: 0.9091 - 11ms/epoch - 11ms/step\n",
            "Epoch 155/200\n",
            "1/1 - 0s - loss: 0.3271 - accuracy: 0.9091 - 11ms/epoch - 11ms/step\n",
            "Epoch 156/200\n",
            "1/1 - 0s - loss: 0.3212 - accuracy: 0.9091 - 9ms/epoch - 9ms/step\n",
            "Epoch 157/200\n",
            "1/1 - 0s - loss: 0.3155 - accuracy: 0.9091 - 9ms/epoch - 9ms/step\n",
            "Epoch 158/200\n",
            "1/1 - 0s - loss: 0.3098 - accuracy: 0.9091 - 8ms/epoch - 8ms/step\n",
            "Epoch 159/200\n",
            "1/1 - 0s - loss: 0.3042 - accuracy: 0.9091 - 7ms/epoch - 7ms/step\n",
            "Epoch 160/200\n",
            "1/1 - 0s - loss: 0.2987 - accuracy: 0.9091 - 7ms/epoch - 7ms/step\n",
            "Epoch 161/200\n",
            "1/1 - 0s - loss: 0.2933 - accuracy: 0.9091 - 9ms/epoch - 9ms/step\n",
            "Epoch 162/200\n",
            "1/1 - 0s - loss: 0.2880 - accuracy: 1.0000 - 11ms/epoch - 11ms/step\n",
            "Epoch 163/200\n",
            "1/1 - 0s - loss: 0.2828 - accuracy: 1.0000 - 15ms/epoch - 15ms/step\n",
            "Epoch 164/200\n",
            "1/1 - 0s - loss: 0.2777 - accuracy: 1.0000 - 9ms/epoch - 9ms/step\n",
            "Epoch 165/200\n",
            "1/1 - 0s - loss: 0.2727 - accuracy: 1.0000 - 9ms/epoch - 9ms/step\n",
            "Epoch 166/200\n",
            "1/1 - 0s - loss: 0.2678 - accuracy: 1.0000 - 9ms/epoch - 9ms/step\n",
            "Epoch 167/200\n",
            "1/1 - 0s - loss: 0.2629 - accuracy: 1.0000 - 8ms/epoch - 8ms/step\n",
            "Epoch 168/200\n",
            "1/1 - 0s - loss: 0.2581 - accuracy: 1.0000 - 8ms/epoch - 8ms/step\n",
            "Epoch 169/200\n",
            "1/1 - 0s - loss: 0.2535 - accuracy: 1.0000 - 9ms/epoch - 9ms/step\n",
            "Epoch 170/200\n",
            "1/1 - 0s - loss: 0.2489 - accuracy: 1.0000 - 9ms/epoch - 9ms/step\n",
            "Epoch 171/200\n",
            "1/1 - 0s - loss: 0.2443 - accuracy: 1.0000 - 10ms/epoch - 10ms/step\n",
            "Epoch 172/200\n",
            "1/1 - 0s - loss: 0.2399 - accuracy: 1.0000 - 11ms/epoch - 11ms/step\n",
            "Epoch 173/200\n",
            "1/1 - 0s - loss: 0.2355 - accuracy: 1.0000 - 11ms/epoch - 11ms/step\n",
            "Epoch 174/200\n",
            "1/1 - 0s - loss: 0.2313 - accuracy: 1.0000 - 8ms/epoch - 8ms/step\n",
            "Epoch 175/200\n",
            "1/1 - 0s - loss: 0.2271 - accuracy: 1.0000 - 9ms/epoch - 9ms/step\n",
            "Epoch 176/200\n",
            "1/1 - 0s - loss: 0.2229 - accuracy: 1.0000 - 9ms/epoch - 9ms/step\n",
            "Epoch 177/200\n",
            "1/1 - 0s - loss: 0.2189 - accuracy: 1.0000 - 10ms/epoch - 10ms/step\n",
            "Epoch 178/200\n",
            "1/1 - 0s - loss: 0.2149 - accuracy: 1.0000 - 8ms/epoch - 8ms/step\n",
            "Epoch 179/200\n",
            "1/1 - 0s - loss: 0.2110 - accuracy: 1.0000 - 10ms/epoch - 10ms/step\n",
            "Epoch 180/200\n",
            "1/1 - 0s - loss: 0.2072 - accuracy: 1.0000 - 8ms/epoch - 8ms/step\n",
            "Epoch 181/200\n",
            "1/1 - 0s - loss: 0.2035 - accuracy: 1.0000 - 9ms/epoch - 9ms/step\n",
            "Epoch 182/200\n",
            "1/1 - 0s - loss: 0.1998 - accuracy: 1.0000 - 11ms/epoch - 11ms/step\n",
            "Epoch 183/200\n",
            "1/1 - 0s - loss: 0.1962 - accuracy: 1.0000 - 9ms/epoch - 9ms/step\n",
            "Epoch 184/200\n",
            "1/1 - 0s - loss: 0.1927 - accuracy: 1.0000 - 8ms/epoch - 8ms/step\n",
            "Epoch 185/200\n",
            "1/1 - 0s - loss: 0.1892 - accuracy: 1.0000 - 7ms/epoch - 7ms/step\n",
            "Epoch 186/200\n",
            "1/1 - 0s - loss: 0.1858 - accuracy: 1.0000 - 9ms/epoch - 9ms/step\n",
            "Epoch 187/200\n",
            "1/1 - 0s - loss: 0.1825 - accuracy: 1.0000 - 10ms/epoch - 10ms/step\n",
            "Epoch 188/200\n",
            "1/1 - 0s - loss: 0.1792 - accuracy: 1.0000 - 10ms/epoch - 10ms/step\n",
            "Epoch 189/200\n",
            "1/1 - 0s - loss: 0.1760 - accuracy: 1.0000 - 8ms/epoch - 8ms/step\n",
            "Epoch 190/200\n",
            "1/1 - 0s - loss: 0.1729 - accuracy: 1.0000 - 11ms/epoch - 11ms/step\n",
            "Epoch 191/200\n",
            "1/1 - 0s - loss: 0.1699 - accuracy: 1.0000 - 8ms/epoch - 8ms/step\n",
            "Epoch 192/200\n",
            "1/1 - 0s - loss: 0.1669 - accuracy: 1.0000 - 8ms/epoch - 8ms/step\n",
            "Epoch 193/200\n",
            "1/1 - 0s - loss: 0.1639 - accuracy: 1.0000 - 9ms/epoch - 9ms/step\n",
            "Epoch 194/200\n",
            "1/1 - 0s - loss: 0.1610 - accuracy: 1.0000 - 8ms/epoch - 8ms/step\n",
            "Epoch 195/200\n",
            "1/1 - 0s - loss: 0.1582 - accuracy: 1.0000 - 10ms/epoch - 10ms/step\n",
            "Epoch 196/200\n",
            "1/1 - 0s - loss: 0.1555 - accuracy: 1.0000 - 9ms/epoch - 9ms/step\n",
            "Epoch 197/200\n",
            "1/1 - 0s - loss: 0.1528 - accuracy: 1.0000 - 9ms/epoch - 9ms/step\n",
            "Epoch 198/200\n",
            "1/1 - 0s - loss: 0.1501 - accuracy: 1.0000 - 7ms/epoch - 7ms/step\n",
            "Epoch 199/200\n",
            "1/1 - 0s - loss: 0.1475 - accuracy: 1.0000 - 8ms/epoch - 8ms/step\n",
            "Epoch 200/200\n",
            "1/1 - 0s - loss: 0.1450 - accuracy: 1.0000 - 10ms/epoch - 10ms/step\n"
          ]
        },
        {
          "data": {
            "text/plain": [
              "<keras.callbacks.History at 0x7f3752de4390>"
            ]
          },
          "execution_count": 16,
          "metadata": {},
          "output_type": "execute_result"
        }
      ],
      "source": [
        "embedding_dim = 10 \n",
        "hidden_units = 32 \n",
        "\n",
        "model = Sequential() \n",
        "model.add(Embedding(vocab_size, embedding_dim)) \n",
        "model.add(SimpleRNN(hidden_units)) \n",
        "model.add(Dense(vocab_size, activation = 'softmax')) \n",
        "model.compile(loss='categorical_crossentropy', optimizer = 'adam', metrics=['accuracy']) \n",
        "model.fit(X, y, epochs=200, verbose = 2)"
      ]
    },
    {
      "cell_type": "code",
      "execution_count": null,
      "metadata": {
        "id": "JNKUTQfBqwzO"
      },
      "outputs": [],
      "source": [
        "def sentence_generation(model, tokenizer, current_word, n): \n",
        "  init_word = current_word\n",
        "  sentence = ''\n",
        "\n",
        "\n",
        "  for _ in range(n):\n",
        "    encoded = tokenizer.texts_to_sequences([current_word])[0]\n",
        "    encoded = pad_sequences([encoded], maxlen=5, padding='pre')\n",
        "\n",
        "\n",
        "    result = model.predict(encoded, verbose=0)\n",
        "    result = np.argmax(result, axis =1) \n",
        "\n",
        "    for word, index in tokenizer.word_index.items():\n",
        "    \n",
        "      if index == result:\n",
        "        break\n",
        "\n",
        "    \n",
        "    current_word = current_word + ' ' + word\n",
        "\n",
        "   \n",
        "    sentence = sentence + ' ' + word\n",
        "\n",
        "  sentence = init_word + sentence\n",
        "  return sentence"
      ]
    },
    {
      "cell_type": "code",
      "execution_count": null,
      "metadata": {
        "colab": {
          "base_uri": "https://localhost:8080/"
        },
        "id": "ojylUdQ8qz1g",
        "outputId": "c124b5f0-c8b5-4067-8e65-c90d168774ac"
      },
      "outputs": [
        {
          "name": "stdout",
          "output_type": "stream",
          "text": [
            "경마장에 있는 말이 뛰고 있다\n"
          ]
        }
      ],
      "source": [
        "print(sentence_generation(model, tokenizer, '경마장에', 4))"
      ]
    },
    {
      "cell_type": "code",
      "execution_count": null,
      "metadata": {
        "colab": {
          "base_uri": "https://localhost:8080/"
        },
        "id": "DfiozlRvq1Pn",
        "outputId": "f460fcc0-0f94-481c-a680-61e6b914d9d7"
      },
      "outputs": [
        {
          "name": "stdout",
          "output_type": "stream",
          "text": [
            "그의 말이 법이다\n"
          ]
        }
      ],
      "source": [
        "print(sentence_generation(model, tokenizer, '그의',2))"
      ]
    },
    {
      "cell_type": "markdown",
      "metadata": {
        "id": "ktAuag_Nk5Zy"
      },
      "source": [
        "🔹 1-(2) Text summarization with attention\n",
        "\n",
        "📌 [아마존 리뷰 요약](https://wikidocs.net/72820) \n",
        "\n",
        "* seq2seq + attention 을 이용한 아마존 리뷰 글 text summarization 예제를 필사해주세요."
      ]
    },
    {
      "cell_type": "code",
      "execution_count": null,
      "metadata": {
        "id": "mLmPLEYdZlzX"
      },
      "outputs": [],
      "source": [
        "import numpy as np\n",
        "import pandas as pd\n",
        "import re\n",
        "import matplotlib.pyplot as plt\n",
        "from nltk.corpus import stopwords\n",
        "from bs4 import BeautifulSoup \n",
        "from tensorflow.keras.preprocessing.text import Tokenizer \n",
        "from tensorflow.keras.preprocessing.sequence import pad_sequences\n",
        "import urllib.request\n",
        "np.random.seed(seed=0)"
      ]
    },
    {
      "cell_type": "code",
      "execution_count": null,
      "metadata": {
        "colab": {
          "base_uri": "https://localhost:8080/"
        },
        "id": "iW6di3eprdm-",
        "outputId": "23b23bdc-0f80-4534-bcb8-1b831ae81b96"
      },
      "outputs": [
        {
          "name": "stdout",
          "output_type": "stream",
          "text": [
            "Mounted at /content/drive\n"
          ]
        }
      ],
      "source": [
        "from google.colab import drive\n",
        "drive.mount('/content/drive')"
      ]
    },
    {
      "cell_type": "code",
      "execution_count": null,
      "metadata": {
        "colab": {
          "base_uri": "https://localhost:8080/"
        },
        "id": "xcgptSxJ3zhP",
        "outputId": "f39c8819-1cfc-4a86-86d0-6ccf9c2f5263"
      },
      "outputs": [
        {
          "name": "stdout",
          "output_type": "stream",
          "text": [
            "전체 리뷰 개수 : 100000\n"
          ]
        }
      ],
      "source": [
        "data = pd.read_csv(\"/content/drive/MyDrive/Euron_NLP/Reviews.csv\", nrows = 100000)\n",
        "print('전체 리뷰 개수 :',(len(data)))"
      ]
    },
    {
      "cell_type": "code",
      "execution_count": null,
      "metadata": {
        "colab": {
          "base_uri": "https://localhost:8080/",
          "height": 206
        },
        "id": "ATucNv59tYwO",
        "outputId": "649d2e94-af15-497c-f72e-c1ccc01e02c6"
      },
      "outputs": [
        {
          "data": {
            "text/html": [
              "\n",
              "  <div id=\"df-f9719ce3-6a36-4230-94ad-a08225a9f149\">\n",
              "    <div class=\"colab-df-container\">\n",
              "      <div>\n",
              "<style scoped>\n",
              "    .dataframe tbody tr th:only-of-type {\n",
              "        vertical-align: middle;\n",
              "    }\n",
              "\n",
              "    .dataframe tbody tr th {\n",
              "        vertical-align: top;\n",
              "    }\n",
              "\n",
              "    .dataframe thead th {\n",
              "        text-align: right;\n",
              "    }\n",
              "</style>\n",
              "<table border=\"1\" class=\"dataframe\">\n",
              "  <thead>\n",
              "    <tr style=\"text-align: right;\">\n",
              "      <th></th>\n",
              "      <th>Text</th>\n",
              "      <th>Summary</th>\n",
              "    </tr>\n",
              "  </thead>\n",
              "  <tbody>\n",
              "    <tr>\n",
              "      <th>0</th>\n",
              "      <td>I have bought several of the Vitality canned d...</td>\n",
              "      <td>Good Quality Dog Food</td>\n",
              "    </tr>\n",
              "    <tr>\n",
              "      <th>1</th>\n",
              "      <td>Product arrived labeled as Jumbo Salted Peanut...</td>\n",
              "      <td>Not as Advertised</td>\n",
              "    </tr>\n",
              "    <tr>\n",
              "      <th>2</th>\n",
              "      <td>This is a confection that has been around a fe...</td>\n",
              "      <td>\"Delight\" says it all</td>\n",
              "    </tr>\n",
              "    <tr>\n",
              "      <th>3</th>\n",
              "      <td>If you are looking for the secret ingredient i...</td>\n",
              "      <td>Cough Medicine</td>\n",
              "    </tr>\n",
              "    <tr>\n",
              "      <th>4</th>\n",
              "      <td>Great taffy at a great price.  There was a wid...</td>\n",
              "      <td>Great taffy</td>\n",
              "    </tr>\n",
              "  </tbody>\n",
              "</table>\n",
              "</div>\n",
              "      <button class=\"colab-df-convert\" onclick=\"convertToInteractive('df-f9719ce3-6a36-4230-94ad-a08225a9f149')\"\n",
              "              title=\"Convert this dataframe to an interactive table.\"\n",
              "              style=\"display:none;\">\n",
              "        \n",
              "  <svg xmlns=\"http://www.w3.org/2000/svg\" height=\"24px\"viewBox=\"0 0 24 24\"\n",
              "       width=\"24px\">\n",
              "    <path d=\"M0 0h24v24H0V0z\" fill=\"none\"/>\n",
              "    <path d=\"M18.56 5.44l.94 2.06.94-2.06 2.06-.94-2.06-.94-.94-2.06-.94 2.06-2.06.94zm-11 1L8.5 8.5l.94-2.06 2.06-.94-2.06-.94L8.5 2.5l-.94 2.06-2.06.94zm10 10l.94 2.06.94-2.06 2.06-.94-2.06-.94-.94-2.06-.94 2.06-2.06.94z\"/><path d=\"M17.41 7.96l-1.37-1.37c-.4-.4-.92-.59-1.43-.59-.52 0-1.04.2-1.43.59L10.3 9.45l-7.72 7.72c-.78.78-.78 2.05 0 2.83L4 21.41c.39.39.9.59 1.41.59.51 0 1.02-.2 1.41-.59l7.78-7.78 2.81-2.81c.8-.78.8-2.07 0-2.86zM5.41 20L4 18.59l7.72-7.72 1.47 1.35L5.41 20z\"/>\n",
              "  </svg>\n",
              "      </button>\n",
              "      \n",
              "  <style>\n",
              "    .colab-df-container {\n",
              "      display:flex;\n",
              "      flex-wrap:wrap;\n",
              "      gap: 12px;\n",
              "    }\n",
              "\n",
              "    .colab-df-convert {\n",
              "      background-color: #E8F0FE;\n",
              "      border: none;\n",
              "      border-radius: 50%;\n",
              "      cursor: pointer;\n",
              "      display: none;\n",
              "      fill: #1967D2;\n",
              "      height: 32px;\n",
              "      padding: 0 0 0 0;\n",
              "      width: 32px;\n",
              "    }\n",
              "\n",
              "    .colab-df-convert:hover {\n",
              "      background-color: #E2EBFA;\n",
              "      box-shadow: 0px 1px 2px rgba(60, 64, 67, 0.3), 0px 1px 3px 1px rgba(60, 64, 67, 0.15);\n",
              "      fill: #174EA6;\n",
              "    }\n",
              "\n",
              "    [theme=dark] .colab-df-convert {\n",
              "      background-color: #3B4455;\n",
              "      fill: #D2E3FC;\n",
              "    }\n",
              "\n",
              "    [theme=dark] .colab-df-convert:hover {\n",
              "      background-color: #434B5C;\n",
              "      box-shadow: 0px 1px 3px 1px rgba(0, 0, 0, 0.15);\n",
              "      filter: drop-shadow(0px 1px 2px rgba(0, 0, 0, 0.3));\n",
              "      fill: #FFFFFF;\n",
              "    }\n",
              "  </style>\n",
              "\n",
              "      <script>\n",
              "        const buttonEl =\n",
              "          document.querySelector('#df-f9719ce3-6a36-4230-94ad-a08225a9f149 button.colab-df-convert');\n",
              "        buttonEl.style.display =\n",
              "          google.colab.kernel.accessAllowed ? 'block' : 'none';\n",
              "\n",
              "        async function convertToInteractive(key) {\n",
              "          const element = document.querySelector('#df-f9719ce3-6a36-4230-94ad-a08225a9f149');\n",
              "          const dataTable =\n",
              "            await google.colab.kernel.invokeFunction('convertToInteractive',\n",
              "                                                     [key], {});\n",
              "          if (!dataTable) return;\n",
              "\n",
              "          const docLinkHtml = 'Like what you see? Visit the ' +\n",
              "            '<a target=\"_blank\" href=https://colab.research.google.com/notebooks/data_table.ipynb>data table notebook</a>'\n",
              "            + ' to learn more about interactive tables.';\n",
              "          element.innerHTML = '';\n",
              "          dataTable['output_type'] = 'display_data';\n",
              "          await google.colab.output.renderOutput(dataTable, element);\n",
              "          const docLink = document.createElement('div');\n",
              "          docLink.innerHTML = docLinkHtml;\n",
              "          element.appendChild(docLink);\n",
              "        }\n",
              "      </script>\n",
              "    </div>\n",
              "  </div>\n",
              "  "
            ],
            "text/plain": [
              "                                                Text                Summary\n",
              "0  I have bought several of the Vitality canned d...  Good Quality Dog Food\n",
              "1  Product arrived labeled as Jumbo Salted Peanut...      Not as Advertised\n",
              "2  This is a confection that has been around a fe...  \"Delight\" says it all\n",
              "3  If you are looking for the secret ingredient i...         Cough Medicine\n",
              "4  Great taffy at a great price.  There was a wid...            Great taffy"
            ]
          },
          "execution_count": 23,
          "metadata": {},
          "output_type": "execute_result"
        }
      ],
      "source": [
        "data = data[['Text','Summary']]\n",
        "data.head()"
      ]
    },
    {
      "cell_type": "code",
      "execution_count": null,
      "metadata": {
        "colab": {
          "base_uri": "https://localhost:8080/",
          "height": 363
        },
        "id": "M67l_UPZtawE",
        "outputId": "6f63ad12-f7fd-4f72-d38b-da3f7c0a1fe3"
      },
      "outputs": [
        {
          "data": {
            "text/html": [
              "\n",
              "  <div id=\"df-955bcd6a-4032-48a2-923c-26ab2b4f65b9\">\n",
              "    <div class=\"colab-df-container\">\n",
              "      <div>\n",
              "<style scoped>\n",
              "    .dataframe tbody tr th:only-of-type {\n",
              "        vertical-align: middle;\n",
              "    }\n",
              "\n",
              "    .dataframe tbody tr th {\n",
              "        vertical-align: top;\n",
              "    }\n",
              "\n",
              "    .dataframe thead th {\n",
              "        text-align: right;\n",
              "    }\n",
              "</style>\n",
              "<table border=\"1\" class=\"dataframe\">\n",
              "  <thead>\n",
              "    <tr style=\"text-align: right;\">\n",
              "      <th></th>\n",
              "      <th>Text</th>\n",
              "      <th>Summary</th>\n",
              "    </tr>\n",
              "  </thead>\n",
              "  <tbody>\n",
              "    <tr>\n",
              "      <th>3582</th>\n",
              "      <td>I rarely eat anything but whole wheat pasta, b...</td>\n",
              "      <td>reminds me of Italy</td>\n",
              "    </tr>\n",
              "    <tr>\n",
              "      <th>60498</th>\n",
              "      <td>I absolutely love 5-hour ENERGY! I use it afte...</td>\n",
              "      <td>5-hour ENERGY Highly Recommend!</td>\n",
              "    </tr>\n",
              "    <tr>\n",
              "      <th>53227</th>\n",
              "      <td>this chocolate is a true treat to eat, perfect...</td>\n",
              "      <td>supreme chocolate</td>\n",
              "    </tr>\n",
              "    <tr>\n",
              "      <th>21333</th>\n",
              "      <td>Greenies are very muched loved as a tatsy Trea...</td>\n",
              "      <td>Excellent Teeth Cleaner</td>\n",
              "    </tr>\n",
              "    <tr>\n",
              "      <th>3885</th>\n",
              "      <td>I love these noodles.  They are really great f...</td>\n",
              "      <td>Great and good price!</td>\n",
              "    </tr>\n",
              "    <tr>\n",
              "      <th>51521</th>\n",
              "      <td>These are great! As a lover of all chips I'm s...</td>\n",
              "      <td>Delicious, just like Salt and Vinegar Chips!</td>\n",
              "    </tr>\n",
              "    <tr>\n",
              "      <th>84261</th>\n",
              "      <td>Like other customers I divide these into handf...</td>\n",
              "      <td>Great snack, great value</td>\n",
              "    </tr>\n",
              "    <tr>\n",
              "      <th>10685</th>\n",
              "      <td>I recommend this instead for the same price: &lt;...</td>\n",
              "      <td>It's ok, but certainly not worth the cost</td>\n",
              "    </tr>\n",
              "    <tr>\n",
              "      <th>59948</th>\n",
              "      <td>The noodles were all very broken, but the tast...</td>\n",
              "      <td>Knorr's beef noodles</td>\n",
              "    </tr>\n",
              "    <tr>\n",
              "      <th>41032</th>\n",
              "      <td>Despite claiming they use the \"finest ingredie...</td>\n",
              "      <td>HORRIBLE INGREDIENTS</td>\n",
              "    </tr>\n",
              "  </tbody>\n",
              "</table>\n",
              "</div>\n",
              "      <button class=\"colab-df-convert\" onclick=\"convertToInteractive('df-955bcd6a-4032-48a2-923c-26ab2b4f65b9')\"\n",
              "              title=\"Convert this dataframe to an interactive table.\"\n",
              "              style=\"display:none;\">\n",
              "        \n",
              "  <svg xmlns=\"http://www.w3.org/2000/svg\" height=\"24px\"viewBox=\"0 0 24 24\"\n",
              "       width=\"24px\">\n",
              "    <path d=\"M0 0h24v24H0V0z\" fill=\"none\"/>\n",
              "    <path d=\"M18.56 5.44l.94 2.06.94-2.06 2.06-.94-2.06-.94-.94-2.06-.94 2.06-2.06.94zm-11 1L8.5 8.5l.94-2.06 2.06-.94-2.06-.94L8.5 2.5l-.94 2.06-2.06.94zm10 10l.94 2.06.94-2.06 2.06-.94-2.06-.94-.94-2.06-.94 2.06-2.06.94z\"/><path d=\"M17.41 7.96l-1.37-1.37c-.4-.4-.92-.59-1.43-.59-.52 0-1.04.2-1.43.59L10.3 9.45l-7.72 7.72c-.78.78-.78 2.05 0 2.83L4 21.41c.39.39.9.59 1.41.59.51 0 1.02-.2 1.41-.59l7.78-7.78 2.81-2.81c.8-.78.8-2.07 0-2.86zM5.41 20L4 18.59l7.72-7.72 1.47 1.35L5.41 20z\"/>\n",
              "  </svg>\n",
              "      </button>\n",
              "      \n",
              "  <style>\n",
              "    .colab-df-container {\n",
              "      display:flex;\n",
              "      flex-wrap:wrap;\n",
              "      gap: 12px;\n",
              "    }\n",
              "\n",
              "    .colab-df-convert {\n",
              "      background-color: #E8F0FE;\n",
              "      border: none;\n",
              "      border-radius: 50%;\n",
              "      cursor: pointer;\n",
              "      display: none;\n",
              "      fill: #1967D2;\n",
              "      height: 32px;\n",
              "      padding: 0 0 0 0;\n",
              "      width: 32px;\n",
              "    }\n",
              "\n",
              "    .colab-df-convert:hover {\n",
              "      background-color: #E2EBFA;\n",
              "      box-shadow: 0px 1px 2px rgba(60, 64, 67, 0.3), 0px 1px 3px 1px rgba(60, 64, 67, 0.15);\n",
              "      fill: #174EA6;\n",
              "    }\n",
              "\n",
              "    [theme=dark] .colab-df-convert {\n",
              "      background-color: #3B4455;\n",
              "      fill: #D2E3FC;\n",
              "    }\n",
              "\n",
              "    [theme=dark] .colab-df-convert:hover {\n",
              "      background-color: #434B5C;\n",
              "      box-shadow: 0px 1px 3px 1px rgba(0, 0, 0, 0.15);\n",
              "      filter: drop-shadow(0px 1px 2px rgba(0, 0, 0, 0.3));\n",
              "      fill: #FFFFFF;\n",
              "    }\n",
              "  </style>\n",
              "\n",
              "      <script>\n",
              "        const buttonEl =\n",
              "          document.querySelector('#df-955bcd6a-4032-48a2-923c-26ab2b4f65b9 button.colab-df-convert');\n",
              "        buttonEl.style.display =\n",
              "          google.colab.kernel.accessAllowed ? 'block' : 'none';\n",
              "\n",
              "        async function convertToInteractive(key) {\n",
              "          const element = document.querySelector('#df-955bcd6a-4032-48a2-923c-26ab2b4f65b9');\n",
              "          const dataTable =\n",
              "            await google.colab.kernel.invokeFunction('convertToInteractive',\n",
              "                                                     [key], {});\n",
              "          if (!dataTable) return;\n",
              "\n",
              "          const docLinkHtml = 'Like what you see? Visit the ' +\n",
              "            '<a target=\"_blank\" href=https://colab.research.google.com/notebooks/data_table.ipynb>data table notebook</a>'\n",
              "            + ' to learn more about interactive tables.';\n",
              "          element.innerHTML = '';\n",
              "          dataTable['output_type'] = 'display_data';\n",
              "          await google.colab.output.renderOutput(dataTable, element);\n",
              "          const docLink = document.createElement('div');\n",
              "          docLink.innerHTML = docLinkHtml;\n",
              "          element.appendChild(docLink);\n",
              "        }\n",
              "      </script>\n",
              "    </div>\n",
              "  </div>\n",
              "  "
            ],
            "text/plain": [
              "                                                    Text  \\\n",
              "3582   I rarely eat anything but whole wheat pasta, b...   \n",
              "60498  I absolutely love 5-hour ENERGY! I use it afte...   \n",
              "53227  this chocolate is a true treat to eat, perfect...   \n",
              "21333  Greenies are very muched loved as a tatsy Trea...   \n",
              "3885   I love these noodles.  They are really great f...   \n",
              "51521  These are great! As a lover of all chips I'm s...   \n",
              "84261  Like other customers I divide these into handf...   \n",
              "10685  I recommend this instead for the same price: <...   \n",
              "59948  The noodles were all very broken, but the tast...   \n",
              "41032  Despite claiming they use the \"finest ingredie...   \n",
              "\n",
              "                                            Summary  \n",
              "3582                            reminds me of Italy  \n",
              "60498               5-hour ENERGY Highly Recommend!  \n",
              "53227                             supreme chocolate  \n",
              "21333                       Excellent Teeth Cleaner  \n",
              "3885                          Great and good price!  \n",
              "51521  Delicious, just like Salt and Vinegar Chips!  \n",
              "84261                      Great snack, great value  \n",
              "10685     It's ok, but certainly not worth the cost  \n",
              "59948                          Knorr's beef noodles  \n",
              "41032                          HORRIBLE INGREDIENTS  "
            ]
          },
          "execution_count": 24,
          "metadata": {},
          "output_type": "execute_result"
        }
      ],
      "source": [
        "data.sample(10)"
      ]
    },
    {
      "cell_type": "code",
      "execution_count": null,
      "metadata": {
        "colab": {
          "base_uri": "https://localhost:8080/"
        },
        "id": "5ImFbbN-tRAq",
        "outputId": "f5f095b2-997b-4117-bd85-674182abc78a"
      },
      "outputs": [
        {
          "name": "stdout",
          "output_type": "stream",
          "text": [
            "Text 열에서 중복을 배제한 유일한 샘플의 수 : 88426\n",
            "Summary 열에서 중복을 배제한 유일한 샘플의 수 : 72348\n"
          ]
        }
      ],
      "source": [
        "print('Text 열에서 중복을 배제한 유일한 샘플의 수 :', data['Text'].nunique())\n",
        "print('Summary 열에서 중복을 배제한 유일한 샘플의 수 :', data['Summary'].nunique())"
      ]
    },
    {
      "cell_type": "code",
      "execution_count": null,
      "metadata": {
        "colab": {
          "base_uri": "https://localhost:8080/"
        },
        "id": "r4mK6VKvteLV",
        "outputId": "b3801981-c8a5-472a-e093-c1429781d3ef"
      },
      "outputs": [
        {
          "name": "stdout",
          "output_type": "stream",
          "text": [
            "전체 샘플수 : 88426\n"
          ]
        }
      ],
      "source": [
        "# text 열에서 중복인 내용이 있다면 중복 제거\n",
        "data.drop_duplicates(subset=['Text'], inplace=True)\n",
        "print(\"전체 샘플수 :\", len(data))"
      ]
    },
    {
      "cell_type": "code",
      "execution_count": null,
      "metadata": {
        "colab": {
          "base_uri": "https://localhost:8080/"
        },
        "id": "WaKrDenJtgnG",
        "outputId": "ca7cf2c6-a1e2-4be0-d923-f21d0b1e3079"
      },
      "outputs": [
        {
          "name": "stdout",
          "output_type": "stream",
          "text": [
            "Text       0\n",
            "Summary    1\n",
            "dtype: int64\n"
          ]
        }
      ],
      "source": [
        "print(data.isnull().sum())"
      ]
    },
    {
      "cell_type": "code",
      "execution_count": null,
      "metadata": {
        "colab": {
          "base_uri": "https://localhost:8080/"
        },
        "id": "GdwAXaa7tiac",
        "outputId": "fee5b96e-479f-48b2-f3e6-af137b18d798"
      },
      "outputs": [
        {
          "name": "stdout",
          "output_type": "stream",
          "text": [
            "전체 샘플수 : 88425\n"
          ]
        }
      ],
      "source": [
        "# Null 값을 가진 샘플 제거\n",
        "data.dropna(axis=0, inplace=True)\n",
        "print('전체 샘플수 :',(len(data)))"
      ]
    },
    {
      "cell_type": "code",
      "execution_count": null,
      "metadata": {
        "id": "buTPTYortMKQ"
      },
      "outputs": [],
      "source": [
        "# 전처리 함수 내 사용\n",
        "contractions = {\"'cause\": 'because',\n",
        " \"I'd\": 'I would',\n",
        " \"I'd've\": 'I would have',\n",
        " \"I'll\": 'I will',\n",
        " \"I'll've\": 'I will have',\n",
        " \"I'm\": 'I am',\n",
        " \"I've\": 'I have',\n",
        " \"ain't\": 'is not',\n",
        " \"aren't\": 'are not',\n",
        " \"can't\": 'cannot',\n",
        " \"could've\": 'could have',\n",
        " \"couldn't\": 'could not',\n",
        " \"didn't\": 'did not',\n",
        " \"doesn't\": 'does not',\n",
        " \"don't\": 'do not',\n",
        " \"hadn't\": 'had not',\n",
        " \"hasn't\": 'has not',\n",
        " \"haven't\": 'have not',\n",
        " \"he'd\": 'he would',\n",
        " \"he'll\": 'he will',\n",
        " \"he's\": 'he is',\n",
        " \"here's\": 'here is',\n",
        " \"how'd\": 'how did',\n",
        " \"how'd'y\": 'how do you',\n",
        " \"how'll\": 'how will',\n",
        " \"how's\": 'how is',\n",
        " \"i'd\": 'i would',\n",
        " \"i'd've\": 'i would have',\n",
        " \"i'll\": 'i will',\n",
        " \"i'll've\": 'i will have',\n",
        " \"i'm\": 'i am',\n",
        " \"i've\": 'i have',\n",
        " \"isn't\": 'is not',\n",
        " \"it'd\": 'it would',\n",
        " \"it'd've\": 'it would have',\n",
        " \"it'll\": 'it will',\n",
        " \"it'll've\": 'it will have',\n",
        " \"it's\": 'it is',\n",
        " \"let's\": 'let us',\n",
        " \"ma'am\": 'madam',\n",
        " \"mayn't\": 'may not',\n",
        " \"might've\": 'might have',\n",
        " \"mightn't\": 'might not',\n",
        " \"mightn't've\": 'might not have',\n",
        " \"must've\": 'must have',\n",
        " \"mustn't\": 'must not',\n",
        " \"mustn't've\": 'must not have',\n",
        " \"needn't\": 'need not',\n",
        " \"needn't've\": 'need not have',\n",
        " \"o'clock\": 'of the clock',\n",
        " \"oughtn't\": 'ought not',\n",
        " \"oughtn't've\": 'ought not have',\n",
        " \"sha'n't\": 'shall not',\n",
        " \"shan't\": 'shall not',\n",
        " \"shan't've\": 'shall not have',\n",
        " \"she'd\": 'she would',\n",
        " \"she'd've\": 'she would have',\n",
        " \"she'll\": 'she will',\n",
        " \"she'll've\": 'she will have',\n",
        " \"she's\": 'she is',\n",
        " \"should've\": 'should have',\n",
        " \"shouldn't\": 'should not',\n",
        " \"shouldn't've\": 'should not have',\n",
        " \"so's\": 'so as',\n",
        " \"so've\": 'so have',\n",
        " \"that'd\": 'that would',\n",
        " \"that'd've\": 'that would have',\n",
        " \"that's\": 'that is',\n",
        " \"there'd\": 'there would',\n",
        " \"there'd've\": 'there would have',\n",
        " \"there's\": 'there is',\n",
        " \"they'd\": 'they would',\n",
        " \"they'd've\": 'they would have',\n",
        " \"they'll\": 'they will',\n",
        " \"they'll've\": 'they will have',\n",
        " \"they're\": 'they are',\n",
        " \"they've\": 'they have',\n",
        " \"this's\": 'this is',\n",
        " \"to've\": 'to have',\n",
        " \"wasn't\": 'was not',\n",
        " \"we'd\": 'we would',\n",
        " \"we'd've\": 'we would have',\n",
        " \"we'll\": 'we will',\n",
        " \"we'll've\": 'we will have',\n",
        " \"we're\": 'we are',\n",
        " \"we've\": 'we have',\n",
        " \"weren't\": 'were not',\n",
        " \"what'll\": 'what will',\n",
        " \"what'll've\": 'what will have',\n",
        " \"what're\": 'what are',\n",
        " \"what's\": 'what is',\n",
        " \"what've\": 'what have',\n",
        " \"when's\": 'when is',\n",
        " \"when've\": 'when have',\n",
        " \"where'd\": 'where did',\n",
        " \"where's\": 'where is',\n",
        " \"where've\": 'where have',\n",
        " \"who'll\": 'who will',\n",
        " \"who'll've\": 'who will have',\n",
        " \"who's\": 'who is',\n",
        " \"who've\": 'who have',\n",
        " \"why's\": 'why is',\n",
        " \"why've\": 'why have',\n",
        " \"will've\": 'will have',\n",
        " \"won't\": 'will not',\n",
        " \"won't've\": 'will not have',\n",
        " \"would've\": 'would have',\n",
        " \"wouldn't\": 'would not',\n",
        " \"wouldn't've\": 'would not have',\n",
        " \"y'all\": 'you all',\n",
        " \"y'all'd\": 'you all would',\n",
        " \"y'all'd've\": 'you all would have',\n",
        " \"y'all're\": 'you all are',\n",
        " \"y'all've\": 'you all have',\n",
        " \"you'd\": 'you would',\n",
        " \"you'd've\": 'you would have',\n",
        " \"you'll\": 'you will',\n",
        " \"you'll've\": 'you will have',\n",
        " \"you're\": 'you are',\n",
        " \"you've\": 'you have'}"
      ]
    },
    {
      "cell_type": "code",
      "execution_count": null,
      "metadata": {
        "colab": {
          "base_uri": "https://localhost:8080/",
          "height": 1000
        },
        "id": "PGlQ2xE-tmqW",
        "outputId": "c593679d-38c6-43bb-8671-95d04cee391d"
      },
      "outputs": [
        {
          "ename": "LookupError",
          "evalue": "ignored",
          "output_type": "error",
          "traceback": [
            "\u001b[0;31m---------------------------------------------------------------------------\u001b[0m",
            "\u001b[0;31mLookupError\u001b[0m                               Traceback (most recent call last)",
            "\u001b[0;32m/usr/local/lib/python3.7/dist-packages/nltk/corpus/util.py\u001b[0m in \u001b[0;36m__load\u001b[0;34m(self)\u001b[0m\n\u001b[1;32m     83\u001b[0m                 \u001b[0;32mtry\u001b[0m\u001b[0;34m:\u001b[0m\u001b[0;34m\u001b[0m\u001b[0;34m\u001b[0m\u001b[0m\n\u001b[0;32m---> 84\u001b[0;31m                     \u001b[0mroot\u001b[0m \u001b[0;34m=\u001b[0m \u001b[0mnltk\u001b[0m\u001b[0;34m.\u001b[0m\u001b[0mdata\u001b[0m\u001b[0;34m.\u001b[0m\u001b[0mfind\u001b[0m\u001b[0;34m(\u001b[0m\u001b[0;34mf\"{self.subdir}/{zip_name}\"\u001b[0m\u001b[0;34m)\u001b[0m\u001b[0;34m\u001b[0m\u001b[0;34m\u001b[0m\u001b[0m\n\u001b[0m\u001b[1;32m     85\u001b[0m                 \u001b[0;32mexcept\u001b[0m \u001b[0mLookupError\u001b[0m\u001b[0;34m:\u001b[0m\u001b[0;34m\u001b[0m\u001b[0;34m\u001b[0m\u001b[0m\n",
            "\u001b[0;32m/usr/local/lib/python3.7/dist-packages/nltk/data.py\u001b[0m in \u001b[0;36mfind\u001b[0;34m(resource_name, paths)\u001b[0m\n\u001b[1;32m    582\u001b[0m     \u001b[0mresource_not_found\u001b[0m \u001b[0;34m=\u001b[0m \u001b[0;34mf\"\\n{sep}\\n{msg}\\n{sep}\\n\"\u001b[0m\u001b[0;34m\u001b[0m\u001b[0;34m\u001b[0m\u001b[0m\n\u001b[0;32m--> 583\u001b[0;31m     \u001b[0;32mraise\u001b[0m \u001b[0mLookupError\u001b[0m\u001b[0;34m(\u001b[0m\u001b[0mresource_not_found\u001b[0m\u001b[0;34m)\u001b[0m\u001b[0;34m\u001b[0m\u001b[0;34m\u001b[0m\u001b[0m\n\u001b[0m\u001b[1;32m    584\u001b[0m \u001b[0;34m\u001b[0m\u001b[0m\n",
            "\u001b[0;31mLookupError\u001b[0m: \n**********************************************************************\n  Resource \u001b[93mstopwords\u001b[0m not found.\n  Please use the NLTK Downloader to obtain the resource:\n\n  \u001b[31m>>> import nltk\n  >>> nltk.download('stopwords')\n  \u001b[0m\n  For more information see: https://www.nltk.org/data.html\n\n  Attempted to load \u001b[93mcorpora/stopwords.zip/stopwords/\u001b[0m\n\n  Searched in:\n    - '/root/nltk_data'\n    - '/usr/nltk_data'\n    - '/usr/share/nltk_data'\n    - '/usr/lib/nltk_data'\n    - '/usr/share/nltk_data'\n    - '/usr/local/share/nltk_data'\n    - '/usr/lib/nltk_data'\n    - '/usr/local/lib/nltk_data'\n**********************************************************************\n",
            "\nDuring handling of the above exception, another exception occurred:\n",
            "\u001b[0;31mLookupError\u001b[0m                               Traceback (most recent call last)",
            "\u001b[0;32m<ipython-input-30-e510a61d5153>\u001b[0m in \u001b[0;36m<module>\u001b[0;34m\u001b[0m\n\u001b[1;32m      1\u001b[0m \u001b[0;31m# NLTK의 불용어\u001b[0m\u001b[0;34m\u001b[0m\u001b[0;34m\u001b[0m\u001b[0;34m\u001b[0m\u001b[0m\n\u001b[0;32m----> 2\u001b[0;31m \u001b[0mstop_words\u001b[0m \u001b[0;34m=\u001b[0m \u001b[0mset\u001b[0m\u001b[0;34m(\u001b[0m\u001b[0mstopwords\u001b[0m\u001b[0;34m.\u001b[0m\u001b[0mwords\u001b[0m\u001b[0;34m(\u001b[0m\u001b[0;34m'english'\u001b[0m\u001b[0;34m)\u001b[0m\u001b[0;34m)\u001b[0m\u001b[0;34m\u001b[0m\u001b[0;34m\u001b[0m\u001b[0m\n\u001b[0m\u001b[1;32m      3\u001b[0m \u001b[0mprint\u001b[0m\u001b[0;34m(\u001b[0m\u001b[0;34m'불용어 개수 :'\u001b[0m\u001b[0;34m,\u001b[0m \u001b[0mlen\u001b[0m\u001b[0;34m(\u001b[0m\u001b[0mstop_words\u001b[0m\u001b[0;34m)\u001b[0m\u001b[0;34m)\u001b[0m\u001b[0;34m\u001b[0m\u001b[0;34m\u001b[0m\u001b[0m\n\u001b[1;32m      4\u001b[0m \u001b[0mprint\u001b[0m\u001b[0;34m(\u001b[0m\u001b[0mstop_words\u001b[0m\u001b[0;34m)\u001b[0m\u001b[0;34m\u001b[0m\u001b[0;34m\u001b[0m\u001b[0m\n",
            "\u001b[0;32m/usr/local/lib/python3.7/dist-packages/nltk/corpus/util.py\u001b[0m in \u001b[0;36m__getattr__\u001b[0;34m(self, attr)\u001b[0m\n\u001b[1;32m    119\u001b[0m             \u001b[0;32mraise\u001b[0m \u001b[0mAttributeError\u001b[0m\u001b[0;34m(\u001b[0m\u001b[0;34m\"LazyCorpusLoader object has no attribute '__bases__'\"\u001b[0m\u001b[0;34m)\u001b[0m\u001b[0;34m\u001b[0m\u001b[0;34m\u001b[0m\u001b[0m\n\u001b[1;32m    120\u001b[0m \u001b[0;34m\u001b[0m\u001b[0m\n\u001b[0;32m--> 121\u001b[0;31m         \u001b[0mself\u001b[0m\u001b[0;34m.\u001b[0m\u001b[0m__load\u001b[0m\u001b[0;34m(\u001b[0m\u001b[0;34m)\u001b[0m\u001b[0;34m\u001b[0m\u001b[0;34m\u001b[0m\u001b[0m\n\u001b[0m\u001b[1;32m    122\u001b[0m         \u001b[0;31m# This looks circular, but its not, since __load() changes our\u001b[0m\u001b[0;34m\u001b[0m\u001b[0;34m\u001b[0m\u001b[0;34m\u001b[0m\u001b[0m\n\u001b[1;32m    123\u001b[0m         \u001b[0;31m# __class__ to something new:\u001b[0m\u001b[0;34m\u001b[0m\u001b[0;34m\u001b[0m\u001b[0;34m\u001b[0m\u001b[0m\n",
            "\u001b[0;32m/usr/local/lib/python3.7/dist-packages/nltk/corpus/util.py\u001b[0m in \u001b[0;36m__load\u001b[0;34m(self)\u001b[0m\n\u001b[1;32m     84\u001b[0m                     \u001b[0mroot\u001b[0m \u001b[0;34m=\u001b[0m \u001b[0mnltk\u001b[0m\u001b[0;34m.\u001b[0m\u001b[0mdata\u001b[0m\u001b[0;34m.\u001b[0m\u001b[0mfind\u001b[0m\u001b[0;34m(\u001b[0m\u001b[0;34mf\"{self.subdir}/{zip_name}\"\u001b[0m\u001b[0;34m)\u001b[0m\u001b[0;34m\u001b[0m\u001b[0;34m\u001b[0m\u001b[0m\n\u001b[1;32m     85\u001b[0m                 \u001b[0;32mexcept\u001b[0m \u001b[0mLookupError\u001b[0m\u001b[0;34m:\u001b[0m\u001b[0;34m\u001b[0m\u001b[0;34m\u001b[0m\u001b[0m\n\u001b[0;32m---> 86\u001b[0;31m                     \u001b[0;32mraise\u001b[0m \u001b[0me\u001b[0m\u001b[0;34m\u001b[0m\u001b[0;34m\u001b[0m\u001b[0m\n\u001b[0m\u001b[1;32m     87\u001b[0m \u001b[0;34m\u001b[0m\u001b[0m\n\u001b[1;32m     88\u001b[0m         \u001b[0;31m# Load the corpus.\u001b[0m\u001b[0;34m\u001b[0m\u001b[0;34m\u001b[0m\u001b[0;34m\u001b[0m\u001b[0m\n",
            "\u001b[0;32m/usr/local/lib/python3.7/dist-packages/nltk/corpus/util.py\u001b[0m in \u001b[0;36m__load\u001b[0;34m(self)\u001b[0m\n\u001b[1;32m     79\u001b[0m         \u001b[0;32melse\u001b[0m\u001b[0;34m:\u001b[0m\u001b[0;34m\u001b[0m\u001b[0;34m\u001b[0m\u001b[0m\n\u001b[1;32m     80\u001b[0m             \u001b[0;32mtry\u001b[0m\u001b[0;34m:\u001b[0m\u001b[0;34m\u001b[0m\u001b[0;34m\u001b[0m\u001b[0m\n\u001b[0;32m---> 81\u001b[0;31m                 \u001b[0mroot\u001b[0m \u001b[0;34m=\u001b[0m \u001b[0mnltk\u001b[0m\u001b[0;34m.\u001b[0m\u001b[0mdata\u001b[0m\u001b[0;34m.\u001b[0m\u001b[0mfind\u001b[0m\u001b[0;34m(\u001b[0m\u001b[0;34mf\"{self.subdir}/{self.__name}\"\u001b[0m\u001b[0;34m)\u001b[0m\u001b[0;34m\u001b[0m\u001b[0;34m\u001b[0m\u001b[0m\n\u001b[0m\u001b[1;32m     82\u001b[0m             \u001b[0;32mexcept\u001b[0m \u001b[0mLookupError\u001b[0m \u001b[0;32mas\u001b[0m \u001b[0me\u001b[0m\u001b[0;34m:\u001b[0m\u001b[0;34m\u001b[0m\u001b[0;34m\u001b[0m\u001b[0m\n\u001b[1;32m     83\u001b[0m                 \u001b[0;32mtry\u001b[0m\u001b[0;34m:\u001b[0m\u001b[0;34m\u001b[0m\u001b[0;34m\u001b[0m\u001b[0m\n",
            "\u001b[0;32m/usr/local/lib/python3.7/dist-packages/nltk/data.py\u001b[0m in \u001b[0;36mfind\u001b[0;34m(resource_name, paths)\u001b[0m\n\u001b[1;32m    581\u001b[0m     \u001b[0msep\u001b[0m \u001b[0;34m=\u001b[0m \u001b[0;34m\"*\"\u001b[0m \u001b[0;34m*\u001b[0m \u001b[0;36m70\u001b[0m\u001b[0;34m\u001b[0m\u001b[0;34m\u001b[0m\u001b[0m\n\u001b[1;32m    582\u001b[0m     \u001b[0mresource_not_found\u001b[0m \u001b[0;34m=\u001b[0m \u001b[0;34mf\"\\n{sep}\\n{msg}\\n{sep}\\n\"\u001b[0m\u001b[0;34m\u001b[0m\u001b[0;34m\u001b[0m\u001b[0m\n\u001b[0;32m--> 583\u001b[0;31m     \u001b[0;32mraise\u001b[0m \u001b[0mLookupError\u001b[0m\u001b[0;34m(\u001b[0m\u001b[0mresource_not_found\u001b[0m\u001b[0;34m)\u001b[0m\u001b[0;34m\u001b[0m\u001b[0;34m\u001b[0m\u001b[0m\n\u001b[0m\u001b[1;32m    584\u001b[0m \u001b[0;34m\u001b[0m\u001b[0m\n\u001b[1;32m    585\u001b[0m \u001b[0;34m\u001b[0m\u001b[0m\n",
            "\u001b[0;31mLookupError\u001b[0m: \n**********************************************************************\n  Resource \u001b[93mstopwords\u001b[0m not found.\n  Please use the NLTK Downloader to obtain the resource:\n\n  \u001b[31m>>> import nltk\n  >>> nltk.download('stopwords')\n  \u001b[0m\n  For more information see: https://www.nltk.org/data.html\n\n  Attempted to load \u001b[93mcorpora/stopwords\u001b[0m\n\n  Searched in:\n    - '/root/nltk_data'\n    - '/usr/nltk_data'\n    - '/usr/share/nltk_data'\n    - '/usr/lib/nltk_data'\n    - '/usr/share/nltk_data'\n    - '/usr/local/share/nltk_data'\n    - '/usr/lib/nltk_data'\n    - '/usr/local/lib/nltk_data'\n**********************************************************************\n"
          ]
        }
      ],
      "source": [
        "# NLTK의 불용어\n",
        "stop_words = set(stopwords.words('english'))\n",
        "print('불용어 개수 :', len(stop_words))\n",
        "print(stop_words)"
      ]
    },
    {
      "cell_type": "code",
      "execution_count": null,
      "metadata": {
        "id": "owTe70BxtpIZ"
      },
      "outputs": [],
      "source": [
        "# 전처리 함수\n",
        "def preprocess_sentence(sentence, remove_stopwords = True):\n",
        "    sentence = sentence.lower() # 텍스트 소문자화\n",
        "    sentence = BeautifulSoup(sentence, \"lxml\").text # <br />, <a href = ...> 등의 html 태그 제거\n",
        "    sentence = re.sub(r'\\([^)]*\\)', '', sentence) # 괄호로 닫힌 문자열  제거 Ex) my husband (and myself) for => my husband for\n",
        "    sentence = re.sub('\"','', sentence) # 쌍따옴표 \" 제거\n",
        "    sentence = ' '.join([contractions[t] if t in contractions else t for t in sentence.split(\" \")]) # 약어 정규화\n",
        "    sentence = re.sub(r\"'s\\b\",\"\",sentence) # 소유격 제거. Ex) roland's -> roland\n",
        "    sentence = re.sub(\"[^a-zA-Z]\", \" \", sentence) # 영어 외 문자(숫자, 특수문자 등) 공백으로 변환\n",
        "    sentence = re.sub('[m]{2,}', 'mm', sentence) # m이 3개 이상이면 2개로 변경. Ex) ummmmmmm yeah -> umm yeah\n",
        "\n",
        "    # 불용어 제거 (Text)\n",
        "    if remove_stopwords:\n",
        "        tokens = ' '.join(word for word in sentence.split() if not word in stop_words if len(word) > 1)\n",
        "    # 불용어 미제거 (Summary)\n",
        "    else:\n",
        "        tokens = ' '.join(word for word in sentence.split() if len(word) > 1)\n",
        "    return tokens"
      ]
    },
    {
      "cell_type": "code",
      "execution_count": null,
      "metadata": {
        "colab": {
          "base_uri": "https://localhost:8080/",
          "height": 236
        },
        "id": "MqNLKV5utq0_",
        "outputId": "38304f3c-a6c2-46ea-f621-d9b2924ef99d"
      },
      "outputs": [
        {
          "ename": "NameError",
          "evalue": "ignored",
          "output_type": "error",
          "traceback": [
            "\u001b[0;31m---------------------------------------------------------------------------\u001b[0m",
            "\u001b[0;31mNameError\u001b[0m                                 Traceback (most recent call last)",
            "\u001b[0;32m<ipython-input-31-a149d5e00beb>\u001b[0m in \u001b[0;36m<module>\u001b[0;34m\u001b[0m\n\u001b[1;32m      1\u001b[0m \u001b[0mtemp_text\u001b[0m \u001b[0;34m=\u001b[0m \u001b[0;34m'Everything I bought was great, infact I ordered twice and the third ordered was<br />for my mother and father.'\u001b[0m\u001b[0;34m\u001b[0m\u001b[0;34m\u001b[0m\u001b[0m\n\u001b[1;32m      2\u001b[0m \u001b[0mtemp_summary\u001b[0m \u001b[0;34m=\u001b[0m \u001b[0;34m'Great way to start (or finish) the day!!!'\u001b[0m\u001b[0;34m\u001b[0m\u001b[0;34m\u001b[0m\u001b[0m\n\u001b[0;32m----> 3\u001b[0;31m \u001b[0mprint\u001b[0m\u001b[0;34m(\u001b[0m\u001b[0mpreprocess_sentence\u001b[0m\u001b[0;34m(\u001b[0m\u001b[0mtemp_text\u001b[0m\u001b[0;34m)\u001b[0m\u001b[0;34m)\u001b[0m\u001b[0;34m\u001b[0m\u001b[0;34m\u001b[0m\u001b[0m\n\u001b[0m\u001b[1;32m      4\u001b[0m \u001b[0mprint\u001b[0m\u001b[0;34m(\u001b[0m\u001b[0mpreprocess_sentence\u001b[0m\u001b[0;34m(\u001b[0m\u001b[0mtemp_summary\u001b[0m\u001b[0;34m,\u001b[0m \u001b[0;36m0\u001b[0m\u001b[0;34m)\u001b[0m\u001b[0;34m)\u001b[0m\u001b[0;34m\u001b[0m\u001b[0;34m\u001b[0m\u001b[0m\n",
            "\u001b[0;31mNameError\u001b[0m: name 'preprocess_sentence' is not defined"
          ]
        }
      ],
      "source": [
        "temp_text = 'Everything I bought was great, infact I ordered twice and the third ordered was<br />for my mother and father.'\n",
        "temp_summary = 'Great way to start (or finish) the day!!!'\n",
        "print(preprocess_sentence(temp_text))\n",
        "print(preprocess_sentence(temp_summary, 0))"
      ]
    },
    {
      "cell_type": "code",
      "execution_count": null,
      "metadata": {
        "id": "jNVHWabHttEx"
      },
      "outputs": [],
      "source": [
        "# Text 열 전처리\n",
        "clean_text = []\n",
        "for s in data['Text']:\n",
        "    clean_text.append(preprocess_sentence(s))\n",
        "clean_text[:5]"
      ]
    },
    {
      "cell_type": "code",
      "execution_count": null,
      "metadata": {
        "id": "w7A3SGw5tvAu"
      },
      "outputs": [],
      "source": [
        "# Summary 열 전처리\n",
        "clean_summary = []\n",
        "for s in data['Summary']:\n",
        "    clean_summary.append(preprocess_sentence(s, 0))\n",
        "clean_summary[:5]"
      ]
    },
    {
      "cell_type": "code",
      "execution_count": null,
      "metadata": {
        "colab": {
          "base_uri": "https://localhost:8080/",
          "height": 184
        },
        "id": "Vpur3r0gtxIp",
        "outputId": "d9bfecbf-f176-4231-c0a7-c0480bcb16f8"
      },
      "outputs": [
        {
          "ename": "NameError",
          "evalue": "ignored",
          "output_type": "error",
          "traceback": [
            "\u001b[0;31m---------------------------------------------------------------------------\u001b[0m",
            "\u001b[0;31mNameError\u001b[0m                                 Traceback (most recent call last)",
            "\u001b[0;32m<ipython-input-32-9960bd0ed281>\u001b[0m in \u001b[0;36m<module>\u001b[0;34m\u001b[0m\n\u001b[0;32m----> 1\u001b[0;31m \u001b[0mdata\u001b[0m\u001b[0;34m[\u001b[0m\u001b[0;34m'Text'\u001b[0m\u001b[0;34m]\u001b[0m \u001b[0;34m=\u001b[0m \u001b[0mclean_text\u001b[0m\u001b[0;34m\u001b[0m\u001b[0;34m\u001b[0m\u001b[0m\n\u001b[0m\u001b[1;32m      2\u001b[0m \u001b[0mdata\u001b[0m\u001b[0;34m[\u001b[0m\u001b[0;34m'Summary'\u001b[0m\u001b[0;34m]\u001b[0m \u001b[0;34m=\u001b[0m \u001b[0mclean_summary\u001b[0m\u001b[0;34m\u001b[0m\u001b[0;34m\u001b[0m\u001b[0m\n",
            "\u001b[0;31mNameError\u001b[0m: name 'clean_text' is not defined"
          ]
        }
      ],
      "source": [
        "data['Text'] = clean_text\n",
        "data['Summary'] = clean_summary"
      ]
    },
    {
      "cell_type": "code",
      "execution_count": null,
      "metadata": {
        "id": "2SXcfMPYty6s"
      },
      "outputs": [],
      "source": [
        "# 길이가 공백인 샘플은 NULL 값으로 변환\n",
        "data.replace('', np.nan, inplace=True)\n",
        "print(data.isnull().sum())"
      ]
    },
    {
      "cell_type": "code",
      "execution_count": null,
      "metadata": {
        "id": "XS9jCKsWt0Tx"
      },
      "outputs": [],
      "source": [
        "data.dropna(axis = 0, inplace = True)\n",
        "print('전체 샘플수 :',(len(data)))"
      ]
    },
    {
      "cell_type": "code",
      "execution_count": null,
      "metadata": {
        "id": "AZRqJ68Rt2jy"
      },
      "outputs": [],
      "source": [
        "# 길이 분포 출력\n",
        "text_len = [len(s.split()) for s in data['Text']]\n",
        "summary_len = [len(s.split()) for s in data['Summary']]\n",
        "\n",
        "print('텍스트의 최소 길이 : {}'.format(np.min(text_len)))\n",
        "print('텍스트의 최대 길이 : {}'.format(np.max(text_len)))\n",
        "print('텍스트의 평균 길이 : {}'.format(np.mean(text_len)))\n",
        "print('요약의 최소 길이 : {}'.format(np.min(summary_len)))\n",
        "print('요약의 최대 길이 : {}'.format(np.max(summary_len)))\n",
        "print('요약의 평균 길이 : {}'.format(np.mean(summary_len)))\n",
        "\n",
        "plt.subplot(1,2,1)\n",
        "plt.boxplot(summary_len)\n",
        "plt.title('Summary')\n",
        "plt.subplot(1,2,2)\n",
        "plt.boxplot(text_len)\n",
        "plt.title('Text')\n",
        "plt.tight_layout()\n",
        "plt.show()\n",
        "\n",
        "plt.title('Summary')\n",
        "plt.hist(summary_len, bins=40)\n",
        "plt.xlabel('length of samples')\n",
        "plt.ylabel('number of samples')\n",
        "plt.show()\n",
        "\n",
        "plt.title('Text')\n",
        "plt.hist(text_len, bins=40)\n",
        "plt.xlabel('length of samples')\n",
        "plt.ylabel('number of samples')\n",
        "plt.show()"
      ]
    },
    {
      "cell_type": "code",
      "execution_count": null,
      "metadata": {
        "id": "BFVwV5vet5TD"
      },
      "outputs": [],
      "source": [
        "text_max_len = 50\n",
        "summary_max_len = 8"
      ]
    },
    {
      "cell_type": "code",
      "execution_count": null,
      "metadata": {
        "id": "zTRKAp-5t47m"
      },
      "outputs": [],
      "source": [
        "def below_threshold_len(max_len, nested_list):\n",
        "  cnt = 0\n",
        "  for s in nested_list:\n",
        "    if(len(s.split()) <= max_len):\n",
        "        cnt = cnt + 1\n",
        "  print('전체 샘플 중 길이가 %s 이하인 샘플의 비율: %s'%(max_len, (cnt / len(nested_list))))"
      ]
    },
    {
      "cell_type": "code",
      "execution_count": null,
      "metadata": {
        "colab": {
          "base_uri": "https://localhost:8080/"
        },
        "id": "7Hfifvjht6nJ",
        "outputId": "2dd0ebbd-ff13-461e-dcda-3b03c5af2d21"
      },
      "outputs": [
        {
          "name": "stdout",
          "output_type": "stream",
          "text": [
            "전체 샘플 중 길이가 50 이하인 샘플의 비율: 0.43215154085383095\n"
          ]
        }
      ],
      "source": [
        "below_threshold_len(text_max_len, data['Text'])"
      ]
    },
    {
      "cell_type": "code",
      "execution_count": null,
      "metadata": {
        "colab": {
          "base_uri": "https://localhost:8080/"
        },
        "id": "fXVcriwZt_H8",
        "outputId": "81e154d7-7ee9-438b-8e85-8217d401db22"
      },
      "outputs": [
        {
          "name": "stdout",
          "output_type": "stream",
          "text": [
            "전체 샘플 중 길이가 8 이하인 샘플의 비율: 0.9326095561210065\n"
          ]
        }
      ],
      "source": [
        "below_threshold_len(summary_max_len, data['Summary'])"
      ]
    },
    {
      "cell_type": "code",
      "execution_count": null,
      "metadata": {
        "colab": {
          "base_uri": "https://localhost:8080/"
        },
        "id": "0D_TucfouA12",
        "outputId": "08169ef6-950a-4fe8-e3a4-25ab511f44b6"
      },
      "outputs": [
        {
          "name": "stdout",
          "output_type": "stream",
          "text": [
            "전체 샘플수 : 37066\n"
          ]
        }
      ],
      "source": [
        "data = data[data['Text'].apply(lambda x: len(x.split()) <= text_max_len)]\n",
        "data = data[data['Summary'].apply(lambda x: len(x.split()) <= summary_max_len)]\n",
        "print('전체 샘플수 :',(len(data)))"
      ]
    },
    {
      "cell_type": "code",
      "execution_count": null,
      "metadata": {
        "colab": {
          "base_uri": "https://localhost:8080/",
          "height": 206
        },
        "id": "cqHem0FRuCoc",
        "outputId": "ddd88b28-8a09-4ffb-ad6c-8aefdf8099f1"
      },
      "outputs": [
        {
          "data": {
            "text/html": [
              "\n",
              "  <div id=\"df-9b04707c-f19d-4146-a8b2-3332b525945d\">\n",
              "    <div class=\"colab-df-container\">\n",
              "      <div>\n",
              "<style scoped>\n",
              "    .dataframe tbody tr th:only-of-type {\n",
              "        vertical-align: middle;\n",
              "    }\n",
              "\n",
              "    .dataframe tbody tr th {\n",
              "        vertical-align: top;\n",
              "    }\n",
              "\n",
              "    .dataframe thead th {\n",
              "        text-align: right;\n",
              "    }\n",
              "</style>\n",
              "<table border=\"1\" class=\"dataframe\">\n",
              "  <thead>\n",
              "    <tr style=\"text-align: right;\">\n",
              "      <th></th>\n",
              "      <th>Text</th>\n",
              "      <th>Summary</th>\n",
              "    </tr>\n",
              "  </thead>\n",
              "  <tbody>\n",
              "    <tr>\n",
              "      <th>0</th>\n",
              "      <td>I have bought several of the Vitality canned d...</td>\n",
              "      <td>Good Quality Dog Food</td>\n",
              "    </tr>\n",
              "    <tr>\n",
              "      <th>1</th>\n",
              "      <td>Product arrived labeled as Jumbo Salted Peanut...</td>\n",
              "      <td>Not as Advertised</td>\n",
              "    </tr>\n",
              "    <tr>\n",
              "      <th>3</th>\n",
              "      <td>If you are looking for the secret ingredient i...</td>\n",
              "      <td>Cough Medicine</td>\n",
              "    </tr>\n",
              "    <tr>\n",
              "      <th>4</th>\n",
              "      <td>Great taffy at a great price.  There was a wid...</td>\n",
              "      <td>Great taffy</td>\n",
              "    </tr>\n",
              "    <tr>\n",
              "      <th>6</th>\n",
              "      <td>This saltwater taffy had great flavors and was...</td>\n",
              "      <td>Great!  Just as good as the expensive brands!</td>\n",
              "    </tr>\n",
              "  </tbody>\n",
              "</table>\n",
              "</div>\n",
              "      <button class=\"colab-df-convert\" onclick=\"convertToInteractive('df-9b04707c-f19d-4146-a8b2-3332b525945d')\"\n",
              "              title=\"Convert this dataframe to an interactive table.\"\n",
              "              style=\"display:none;\">\n",
              "        \n",
              "  <svg xmlns=\"http://www.w3.org/2000/svg\" height=\"24px\"viewBox=\"0 0 24 24\"\n",
              "       width=\"24px\">\n",
              "    <path d=\"M0 0h24v24H0V0z\" fill=\"none\"/>\n",
              "    <path d=\"M18.56 5.44l.94 2.06.94-2.06 2.06-.94-2.06-.94-.94-2.06-.94 2.06-2.06.94zm-11 1L8.5 8.5l.94-2.06 2.06-.94-2.06-.94L8.5 2.5l-.94 2.06-2.06.94zm10 10l.94 2.06.94-2.06 2.06-.94-2.06-.94-.94-2.06-.94 2.06-2.06.94z\"/><path d=\"M17.41 7.96l-1.37-1.37c-.4-.4-.92-.59-1.43-.59-.52 0-1.04.2-1.43.59L10.3 9.45l-7.72 7.72c-.78.78-.78 2.05 0 2.83L4 21.41c.39.39.9.59 1.41.59.51 0 1.02-.2 1.41-.59l7.78-7.78 2.81-2.81c.8-.78.8-2.07 0-2.86zM5.41 20L4 18.59l7.72-7.72 1.47 1.35L5.41 20z\"/>\n",
              "  </svg>\n",
              "      </button>\n",
              "      \n",
              "  <style>\n",
              "    .colab-df-container {\n",
              "      display:flex;\n",
              "      flex-wrap:wrap;\n",
              "      gap: 12px;\n",
              "    }\n",
              "\n",
              "    .colab-df-convert {\n",
              "      background-color: #E8F0FE;\n",
              "      border: none;\n",
              "      border-radius: 50%;\n",
              "      cursor: pointer;\n",
              "      display: none;\n",
              "      fill: #1967D2;\n",
              "      height: 32px;\n",
              "      padding: 0 0 0 0;\n",
              "      width: 32px;\n",
              "    }\n",
              "\n",
              "    .colab-df-convert:hover {\n",
              "      background-color: #E2EBFA;\n",
              "      box-shadow: 0px 1px 2px rgba(60, 64, 67, 0.3), 0px 1px 3px 1px rgba(60, 64, 67, 0.15);\n",
              "      fill: #174EA6;\n",
              "    }\n",
              "\n",
              "    [theme=dark] .colab-df-convert {\n",
              "      background-color: #3B4455;\n",
              "      fill: #D2E3FC;\n",
              "    }\n",
              "\n",
              "    [theme=dark] .colab-df-convert:hover {\n",
              "      background-color: #434B5C;\n",
              "      box-shadow: 0px 1px 3px 1px rgba(0, 0, 0, 0.15);\n",
              "      filter: drop-shadow(0px 1px 2px rgba(0, 0, 0, 0.3));\n",
              "      fill: #FFFFFF;\n",
              "    }\n",
              "  </style>\n",
              "\n",
              "      <script>\n",
              "        const buttonEl =\n",
              "          document.querySelector('#df-9b04707c-f19d-4146-a8b2-3332b525945d button.colab-df-convert');\n",
              "        buttonEl.style.display =\n",
              "          google.colab.kernel.accessAllowed ? 'block' : 'none';\n",
              "\n",
              "        async function convertToInteractive(key) {\n",
              "          const element = document.querySelector('#df-9b04707c-f19d-4146-a8b2-3332b525945d');\n",
              "          const dataTable =\n",
              "            await google.colab.kernel.invokeFunction('convertToInteractive',\n",
              "                                                     [key], {});\n",
              "          if (!dataTable) return;\n",
              "\n",
              "          const docLinkHtml = 'Like what you see? Visit the ' +\n",
              "            '<a target=\"_blank\" href=https://colab.research.google.com/notebooks/data_table.ipynb>data table notebook</a>'\n",
              "            + ' to learn more about interactive tables.';\n",
              "          element.innerHTML = '';\n",
              "          dataTable['output_type'] = 'display_data';\n",
              "          await google.colab.output.renderOutput(dataTable, element);\n",
              "          const docLink = document.createElement('div');\n",
              "          docLink.innerHTML = docLinkHtml;\n",
              "          element.appendChild(docLink);\n",
              "        }\n",
              "      </script>\n",
              "    </div>\n",
              "  </div>\n",
              "  "
            ],
            "text/plain": [
              "                                                Text  \\\n",
              "0  I have bought several of the Vitality canned d...   \n",
              "1  Product arrived labeled as Jumbo Salted Peanut...   \n",
              "3  If you are looking for the secret ingredient i...   \n",
              "4  Great taffy at a great price.  There was a wid...   \n",
              "6  This saltwater taffy had great flavors and was...   \n",
              "\n",
              "                                         Summary  \n",
              "0                          Good Quality Dog Food  \n",
              "1                              Not as Advertised  \n",
              "3                                 Cough Medicine  \n",
              "4                                    Great taffy  \n",
              "6  Great!  Just as good as the expensive brands!  "
            ]
          },
          "execution_count": 38,
          "metadata": {},
          "output_type": "execute_result"
        }
      ],
      "source": [
        "data.head()"
      ]
    },
    {
      "cell_type": "code",
      "execution_count": null,
      "metadata": {
        "colab": {
          "base_uri": "https://localhost:8080/",
          "height": 565
        },
        "id": "FPqNtvwuuELI",
        "outputId": "bf99f2be-389c-4502-ed5d-c8bc88da61c8"
      },
      "outputs": [
        {
          "name": "stderr",
          "output_type": "stream",
          "text": [
            "/usr/local/lib/python3.7/dist-packages/ipykernel_launcher.py:2: SettingWithCopyWarning: \n",
            "A value is trying to be set on a copy of a slice from a DataFrame.\n",
            "Try using .loc[row_indexer,col_indexer] = value instead\n",
            "\n",
            "See the caveats in the documentation: https://pandas.pydata.org/pandas-docs/stable/user_guide/indexing.html#returning-a-view-versus-a-copy\n",
            "  \n",
            "/usr/local/lib/python3.7/dist-packages/ipykernel_launcher.py:3: SettingWithCopyWarning: \n",
            "A value is trying to be set on a copy of a slice from a DataFrame.\n",
            "Try using .loc[row_indexer,col_indexer] = value instead\n",
            "\n",
            "See the caveats in the documentation: https://pandas.pydata.org/pandas-docs/stable/user_guide/indexing.html#returning-a-view-versus-a-copy\n",
            "  This is separate from the ipykernel package so we can avoid doing imports until\n"
          ]
        },
        {
          "data": {
            "text/html": [
              "\n",
              "  <div id=\"df-6d386eb8-295d-49e9-a189-b60be29d4fb7\">\n",
              "    <div class=\"colab-df-container\">\n",
              "      <div>\n",
              "<style scoped>\n",
              "    .dataframe tbody tr th:only-of-type {\n",
              "        vertical-align: middle;\n",
              "    }\n",
              "\n",
              "    .dataframe tbody tr th {\n",
              "        vertical-align: top;\n",
              "    }\n",
              "\n",
              "    .dataframe thead th {\n",
              "        text-align: right;\n",
              "    }\n",
              "</style>\n",
              "<table border=\"1\" class=\"dataframe\">\n",
              "  <thead>\n",
              "    <tr style=\"text-align: right;\">\n",
              "      <th></th>\n",
              "      <th>Text</th>\n",
              "      <th>Summary</th>\n",
              "      <th>decoder_input</th>\n",
              "      <th>decoder_target</th>\n",
              "    </tr>\n",
              "  </thead>\n",
              "  <tbody>\n",
              "    <tr>\n",
              "      <th>0</th>\n",
              "      <td>I have bought several of the Vitality canned d...</td>\n",
              "      <td>Good Quality Dog Food</td>\n",
              "      <td>sostoken Good Quality Dog Food</td>\n",
              "      <td>Good Quality Dog Food eostoken</td>\n",
              "    </tr>\n",
              "    <tr>\n",
              "      <th>1</th>\n",
              "      <td>Product arrived labeled as Jumbo Salted Peanut...</td>\n",
              "      <td>Not as Advertised</td>\n",
              "      <td>sostoken Not as Advertised</td>\n",
              "      <td>Not as Advertised eostoken</td>\n",
              "    </tr>\n",
              "    <tr>\n",
              "      <th>3</th>\n",
              "      <td>If you are looking for the secret ingredient i...</td>\n",
              "      <td>Cough Medicine</td>\n",
              "      <td>sostoken Cough Medicine</td>\n",
              "      <td>Cough Medicine eostoken</td>\n",
              "    </tr>\n",
              "    <tr>\n",
              "      <th>4</th>\n",
              "      <td>Great taffy at a great price.  There was a wid...</td>\n",
              "      <td>Great taffy</td>\n",
              "      <td>sostoken Great taffy</td>\n",
              "      <td>Great taffy eostoken</td>\n",
              "    </tr>\n",
              "    <tr>\n",
              "      <th>6</th>\n",
              "      <td>This saltwater taffy had great flavors and was...</td>\n",
              "      <td>Great!  Just as good as the expensive brands!</td>\n",
              "      <td>sostoken Great!  Just as good as the expensive...</td>\n",
              "      <td>Great!  Just as good as the expensive brands! ...</td>\n",
              "    </tr>\n",
              "  </tbody>\n",
              "</table>\n",
              "</div>\n",
              "      <button class=\"colab-df-convert\" onclick=\"convertToInteractive('df-6d386eb8-295d-49e9-a189-b60be29d4fb7')\"\n",
              "              title=\"Convert this dataframe to an interactive table.\"\n",
              "              style=\"display:none;\">\n",
              "        \n",
              "  <svg xmlns=\"http://www.w3.org/2000/svg\" height=\"24px\"viewBox=\"0 0 24 24\"\n",
              "       width=\"24px\">\n",
              "    <path d=\"M0 0h24v24H0V0z\" fill=\"none\"/>\n",
              "    <path d=\"M18.56 5.44l.94 2.06.94-2.06 2.06-.94-2.06-.94-.94-2.06-.94 2.06-2.06.94zm-11 1L8.5 8.5l.94-2.06 2.06-.94-2.06-.94L8.5 2.5l-.94 2.06-2.06.94zm10 10l.94 2.06.94-2.06 2.06-.94-2.06-.94-.94-2.06-.94 2.06-2.06.94z\"/><path d=\"M17.41 7.96l-1.37-1.37c-.4-.4-.92-.59-1.43-.59-.52 0-1.04.2-1.43.59L10.3 9.45l-7.72 7.72c-.78.78-.78 2.05 0 2.83L4 21.41c.39.39.9.59 1.41.59.51 0 1.02-.2 1.41-.59l7.78-7.78 2.81-2.81c.8-.78.8-2.07 0-2.86zM5.41 20L4 18.59l7.72-7.72 1.47 1.35L5.41 20z\"/>\n",
              "  </svg>\n",
              "      </button>\n",
              "      \n",
              "  <style>\n",
              "    .colab-df-container {\n",
              "      display:flex;\n",
              "      flex-wrap:wrap;\n",
              "      gap: 12px;\n",
              "    }\n",
              "\n",
              "    .colab-df-convert {\n",
              "      background-color: #E8F0FE;\n",
              "      border: none;\n",
              "      border-radius: 50%;\n",
              "      cursor: pointer;\n",
              "      display: none;\n",
              "      fill: #1967D2;\n",
              "      height: 32px;\n",
              "      padding: 0 0 0 0;\n",
              "      width: 32px;\n",
              "    }\n",
              "\n",
              "    .colab-df-convert:hover {\n",
              "      background-color: #E2EBFA;\n",
              "      box-shadow: 0px 1px 2px rgba(60, 64, 67, 0.3), 0px 1px 3px 1px rgba(60, 64, 67, 0.15);\n",
              "      fill: #174EA6;\n",
              "    }\n",
              "\n",
              "    [theme=dark] .colab-df-convert {\n",
              "      background-color: #3B4455;\n",
              "      fill: #D2E3FC;\n",
              "    }\n",
              "\n",
              "    [theme=dark] .colab-df-convert:hover {\n",
              "      background-color: #434B5C;\n",
              "      box-shadow: 0px 1px 3px 1px rgba(0, 0, 0, 0.15);\n",
              "      filter: drop-shadow(0px 1px 2px rgba(0, 0, 0, 0.3));\n",
              "      fill: #FFFFFF;\n",
              "    }\n",
              "  </style>\n",
              "\n",
              "      <script>\n",
              "        const buttonEl =\n",
              "          document.querySelector('#df-6d386eb8-295d-49e9-a189-b60be29d4fb7 button.colab-df-convert');\n",
              "        buttonEl.style.display =\n",
              "          google.colab.kernel.accessAllowed ? 'block' : 'none';\n",
              "\n",
              "        async function convertToInteractive(key) {\n",
              "          const element = document.querySelector('#df-6d386eb8-295d-49e9-a189-b60be29d4fb7');\n",
              "          const dataTable =\n",
              "            await google.colab.kernel.invokeFunction('convertToInteractive',\n",
              "                                                     [key], {});\n",
              "          if (!dataTable) return;\n",
              "\n",
              "          const docLinkHtml = 'Like what you see? Visit the ' +\n",
              "            '<a target=\"_blank\" href=https://colab.research.google.com/notebooks/data_table.ipynb>data table notebook</a>'\n",
              "            + ' to learn more about interactive tables.';\n",
              "          element.innerHTML = '';\n",
              "          dataTable['output_type'] = 'display_data';\n",
              "          await google.colab.output.renderOutput(dataTable, element);\n",
              "          const docLink = document.createElement('div');\n",
              "          docLink.innerHTML = docLinkHtml;\n",
              "          element.appendChild(docLink);\n",
              "        }\n",
              "      </script>\n",
              "    </div>\n",
              "  </div>\n",
              "  "
            ],
            "text/plain": [
              "                                                Text  \\\n",
              "0  I have bought several of the Vitality canned d...   \n",
              "1  Product arrived labeled as Jumbo Salted Peanut...   \n",
              "3  If you are looking for the secret ingredient i...   \n",
              "4  Great taffy at a great price.  There was a wid...   \n",
              "6  This saltwater taffy had great flavors and was...   \n",
              "\n",
              "                                         Summary  \\\n",
              "0                          Good Quality Dog Food   \n",
              "1                              Not as Advertised   \n",
              "3                                 Cough Medicine   \n",
              "4                                    Great taffy   \n",
              "6  Great!  Just as good as the expensive brands!   \n",
              "\n",
              "                                       decoder_input  \\\n",
              "0                     sostoken Good Quality Dog Food   \n",
              "1                         sostoken Not as Advertised   \n",
              "3                            sostoken Cough Medicine   \n",
              "4                               sostoken Great taffy   \n",
              "6  sostoken Great!  Just as good as the expensive...   \n",
              "\n",
              "                                      decoder_target  \n",
              "0                     Good Quality Dog Food eostoken  \n",
              "1                         Not as Advertised eostoken  \n",
              "3                            Cough Medicine eostoken  \n",
              "4                               Great taffy eostoken  \n",
              "6  Great!  Just as good as the expensive brands! ...  "
            ]
          },
          "execution_count": 39,
          "metadata": {},
          "output_type": "execute_result"
        }
      ],
      "source": [
        "# 요약 데이터에는 시작 토큰과 종료 토큰을 추가한다.\n",
        "data['decoder_input'] = data['Summary'].apply(lambda x : 'sostoken '+ x)\n",
        "data['decoder_target'] = data['Summary'].apply(lambda x : x + ' eostoken')\n",
        "data.head()"
      ]
    },
    {
      "cell_type": "code",
      "execution_count": null,
      "metadata": {
        "id": "fbo5wWBSuFpL"
      },
      "outputs": [],
      "source": [
        "encoder_input = np.array(data['Text'])\n",
        "decoder_input = np.array(data['decoder_input'])\n",
        "decoder_target = np.array(data['decoder_target'])"
      ]
    },
    {
      "cell_type": "code",
      "execution_count": null,
      "metadata": {
        "colab": {
          "base_uri": "https://localhost:8080/"
        },
        "id": "Zpb2p__HuHPv",
        "outputId": "e8070ab4-448b-4e27-d078-8ad8f60966b7"
      },
      "outputs": [
        {
          "name": "stdout",
          "output_type": "stream",
          "text": [
            "[21153 32220 14829 ... 18853 26023  1298]\n"
          ]
        }
      ],
      "source": [
        "indices = np.arange(encoder_input.shape[0])\n",
        "np.random.shuffle(indices)\n",
        "print(indices)"
      ]
    },
    {
      "cell_type": "code",
      "execution_count": null,
      "metadata": {
        "id": "FbWvwUUnuI1D"
      },
      "outputs": [],
      "source": [
        "encoder_input = encoder_input[indices]\n",
        "decoder_input = decoder_input[indices]\n",
        "decoder_target = decoder_target[indices]"
      ]
    },
    {
      "cell_type": "code",
      "execution_count": null,
      "metadata": {
        "colab": {
          "base_uri": "https://localhost:8080/"
        },
        "id": "wUzmn-YYuKJL",
        "outputId": "d01126af-e749-4922-d0a9-f873ca413916"
      },
      "outputs": [
        {
          "name": "stdout",
          "output_type": "stream",
          "text": [
            "테스트 데이터의 수 : 7413\n"
          ]
        }
      ],
      "source": [
        "n_of_val = int(len(encoder_input)*0.2)\n",
        "print('테스트 데이터의 수 :',n_of_val)"
      ]
    },
    {
      "cell_type": "code",
      "execution_count": null,
      "metadata": {
        "id": "nkmOOc0EuLz9"
      },
      "outputs": [],
      "source": [
        "encoder_input_train = encoder_input[:-n_of_val]\n",
        "decoder_input_train = decoder_input[:-n_of_val]\n",
        "decoder_target_train = decoder_target[:-n_of_val]\n",
        "\n",
        "encoder_input_test = encoder_input[-n_of_val:]\n",
        "decoder_input_test = decoder_input[-n_of_val:]\n",
        "decoder_target_test = decoder_target[-n_of_val:]"
      ]
    },
    {
      "cell_type": "code",
      "execution_count": null,
      "metadata": {
        "colab": {
          "base_uri": "https://localhost:8080/"
        },
        "id": "-YsTEL73uNbW",
        "outputId": "fbc7d0b6-09f6-4844-942d-b3475decdc95"
      },
      "outputs": [
        {
          "name": "stdout",
          "output_type": "stream",
          "text": [
            "훈련 데이터의 개수 : 29653\n",
            "훈련 레이블의 개수 : 29653\n",
            "테스트 데이터의 개수 : 7413\n",
            "테스트 레이블의 개수 : 7413\n"
          ]
        }
      ],
      "source": [
        "print('훈련 데이터의 개수 :', len(encoder_input_train))\n",
        "print('훈련 레이블의 개수 :',len(decoder_input_train))\n",
        "print('테스트 데이터의 개수 :',len(encoder_input_test))\n",
        "print('테스트 레이블의 개수 :',len(decoder_input_test))"
      ]
    },
    {
      "cell_type": "code",
      "execution_count": null,
      "metadata": {
        "id": "StPHgOpHuO0q"
      },
      "outputs": [],
      "source": [
        "src_tokenizer = Tokenizer()\n",
        "src_tokenizer.fit_on_texts(encoder_input_train)"
      ]
    },
    {
      "cell_type": "code",
      "execution_count": null,
      "metadata": {
        "colab": {
          "base_uri": "https://localhost:8080/"
        },
        "id": "a_sHMnzauQ_t",
        "outputId": "cad50138-83aa-433f-da08-daa5decf4d8b"
      },
      "outputs": [
        {
          "name": "stdout",
          "output_type": "stream",
          "text": [
            "단어 집합(vocabulary)의 크기 : 20968\n",
            "등장 빈도가 6번 이하인 희귀 단어의 수: 15960\n",
            "단어 집합에서 희귀 단어를 제외시킬 경우의 단어 집합의 크기 5008\n",
            "단어 집합에서 희귀 단어의 비율: 76.11598626478442\n",
            "전체 등장 빈도에서 희귀 단어 등장 빈도 비율: 2.9778842177383016\n"
          ]
        }
      ],
      "source": [
        "threshold = 7\n",
        "total_cnt = len(src_tokenizer.word_index) # 단어의 수\n",
        "rare_cnt = 0 # 등장 빈도수가 threshold보다 작은 단어의 개수를 카운트\n",
        "total_freq = 0 # 훈련 데이터의 전체 단어 빈도수 총 합\n",
        "rare_freq = 0 # 등장 빈도수가 threshold보다 작은 단어의 등장 빈도수의 총 합\n",
        "\n",
        "# 단어와 빈도수의 쌍(pair)을 key와 value로 받는다.\n",
        "for key, value in src_tokenizer.word_counts.items():\n",
        "    total_freq = total_freq + value\n",
        "\n",
        "    # 단어의 등장 빈도수가 threshold보다 작으면\n",
        "    if(value < threshold):\n",
        "        rare_cnt = rare_cnt + 1\n",
        "        rare_freq = rare_freq + value\n",
        "\n",
        "print('단어 집합(vocabulary)의 크기 :',total_cnt)\n",
        "print('등장 빈도가 %s번 이하인 희귀 단어의 수: %s'%(threshold - 1, rare_cnt))\n",
        "print('단어 집합에서 희귀 단어를 제외시킬 경우의 단어 집합의 크기 %s'%(total_cnt - rare_cnt))\n",
        "print(\"단어 집합에서 희귀 단어의 비율:\", (rare_cnt / total_cnt)*100)\n",
        "print(\"전체 등장 빈도에서 희귀 단어 등장 빈도 비율:\", (rare_freq / total_freq)*100)"
      ]
    },
    {
      "cell_type": "code",
      "execution_count": null,
      "metadata": {
        "id": "yTZXu-AOuSqd"
      },
      "outputs": [],
      "source": [
        "src_vocab = 8000\n",
        "src_tokenizer = Tokenizer(num_words = src_vocab) \n",
        "src_tokenizer.fit_on_texts(encoder_input_train)\n",
        "\n",
        "# 텍스트 시퀀스를 정수 시퀀스로 변환\n",
        "encoder_input_train = src_tokenizer.texts_to_sequences(encoder_input_train) \n",
        "encoder_input_test = src_tokenizer.texts_to_sequences(encoder_input_test)"
      ]
    },
    {
      "cell_type": "code",
      "execution_count": null,
      "metadata": {
        "colab": {
          "base_uri": "https://localhost:8080/"
        },
        "id": "iWo56ZMpuUPA",
        "outputId": "7eb78dc3-8b3d-42fe-ff08-59c6a390b6c4"
      },
      "outputs": [
        {
          "name": "stdout",
          "output_type": "stream",
          "text": [
            "[[17, 418, 13, 128, 139, 21, 34, 3, 639, 80, 426, 2, 57, 95, 26, 7, 369, 161, 791, 21, 554, 418, 38, 1263, 9, 1, 290], [2, 133, 6, 6999, 108, 2, 466, 1, 1264, 4354, 52, 1, 2603, 20, 1770, 7, 796, 5, 3, 59, 5, 196, 1265, 1, 586, 20, 16, 12, 4, 52, 45, 12, 4, 688, 533, 629, 50, 453, 86, 2, 60, 466, 2, 57, 18, 709, 7, 1838, 1554], [133, 17, 119, 1368, 4, 3112, 1493, 6086, 2604, 65, 72, 48, 29, 61, 2, 116, 1, 34, 7, 43, 27, 3, 42, 16, 43, 295, 26, 67]]\n"
          ]
        }
      ],
      "source": [
        "print(encoder_input_train[:3])"
      ]
    },
    {
      "cell_type": "code",
      "execution_count": null,
      "metadata": {
        "id": "p2kl1r8auV5P"
      },
      "outputs": [],
      "source": [
        "tar_tokenizer = Tokenizer()\n",
        "tar_tokenizer.fit_on_texts(decoder_input_train)"
      ]
    },
    {
      "cell_type": "code",
      "execution_count": null,
      "metadata": {
        "colab": {
          "base_uri": "https://localhost:8080/"
        },
        "id": "KQcKPOZGuXlm",
        "outputId": "1932b449-57d7-455c-9d75-aac22d121060"
      },
      "outputs": [
        {
          "name": "stdout",
          "output_type": "stream",
          "text": [
            "단어 집합(vocabulary)의 크기 : 7925\n",
            "등장 빈도가 5번 이하인 희귀 단어의 수: 6339\n",
            "단어 집합에서 희귀 단어를 제외시킬 경우의 단어 집합의 크기 1586\n",
            "단어 집합에서 희귀 단어의 비율: 79.98738170347004\n",
            "전체 등장 빈도에서 희귀 단어 등장 빈도 비율: 8.395920815836833\n"
          ]
        }
      ],
      "source": [
        "threshold = 6\n",
        "total_cnt = len(tar_tokenizer.word_index) # 단어의 수\n",
        "rare_cnt = 0 # 등장 빈도수가 threshold보다 작은 단어의 개수를 카운트\n",
        "total_freq = 0 # 훈련 데이터의 전체 단어 빈도수 총 합\n",
        "rare_freq = 0 # 등장 빈도수가 threshold보다 작은 단어의 등장 빈도수의 총 합\n",
        "\n",
        "# 단어와 빈도수의 쌍(pair)을 key와 value로 받는다.\n",
        "for key, value in tar_tokenizer.word_counts.items():\n",
        "    total_freq = total_freq + value\n",
        "\n",
        "    # 단어의 등장 빈도수가 threshold보다 작으면\n",
        "    if(value < threshold):\n",
        "        rare_cnt = rare_cnt + 1\n",
        "        rare_freq = rare_freq + value\n",
        "\n",
        "print('단어 집합(vocabulary)의 크기 :',total_cnt)\n",
        "print('등장 빈도가 %s번 이하인 희귀 단어의 수: %s'%(threshold - 1, rare_cnt))\n",
        "print('단어 집합에서 희귀 단어를 제외시킬 경우의 단어 집합의 크기 %s'%(total_cnt - rare_cnt))\n",
        "print(\"단어 집합에서 희귀 단어의 비율:\", (rare_cnt / total_cnt)*100)\n",
        "print(\"전체 등장 빈도에서 희귀 단어 등장 빈도 비율:\", (rare_freq / total_freq)*100)"
      ]
    },
    {
      "cell_type": "code",
      "execution_count": null,
      "metadata": {
        "id": "_oTV_vnQuaVo"
      },
      "outputs": [],
      "source": [
        "tar_vocab = 2000\n",
        "tar_tokenizer = Tokenizer(num_words = tar_vocab) \n",
        "tar_tokenizer.fit_on_texts(decoder_input_train)\n",
        "tar_tokenizer.fit_on_texts(decoder_target_train)"
      ]
    },
    {
      "cell_type": "code",
      "execution_count": null,
      "metadata": {
        "id": "6rsgwfxRub9y"
      },
      "outputs": [],
      "source": [
        "# 텍스트 시퀀스를 정수 시퀀스로 변환\n",
        "decoder_input_train = tar_tokenizer.texts_to_sequences(decoder_input_train) \n",
        "decoder_target_train = tar_tokenizer.texts_to_sequences(decoder_target_train)\n",
        "decoder_input_test = tar_tokenizer.texts_to_sequences(decoder_input_test)\n",
        "decoder_target_test = tar_tokenizer.texts_to_sequences(decoder_target_test)"
      ]
    },
    {
      "cell_type": "code",
      "execution_count": null,
      "metadata": {
        "id": "SLa1s8moudlr"
      },
      "outputs": [],
      "source": [
        "drop_train = [index for index, sentence in enumerate(decoder_input_train) if len(sentence) == 1]\n",
        "drop_test = [index for index, sentence in enumerate(decoder_input_test) if len(sentence) == 1]"
      ]
    },
    {
      "cell_type": "code",
      "execution_count": null,
      "metadata": {
        "colab": {
          "base_uri": "https://localhost:8080/"
        },
        "id": "itTVxUHnufD-",
        "outputId": "85d5d981-462d-4002-aca1-525d3636614a"
      },
      "outputs": [
        {
          "name": "stdout",
          "output_type": "stream",
          "text": [
            "삭제할 훈련 데이터의 개수 : 825\n",
            "삭제할 테스트 데이터의 개수 : 218\n"
          ]
        }
      ],
      "source": [
        "print('삭제할 훈련 데이터의 개수 :',len(drop_train))\n",
        "print('삭제할 테스트 데이터의 개수 :',len(drop_test))"
      ]
    },
    {
      "cell_type": "code",
      "execution_count": null,
      "metadata": {
        "colab": {
          "base_uri": "https://localhost:8080/"
        },
        "id": "GMAo6nZOugdi",
        "outputId": "e5e459a5-6b64-40c7-fdc6-4737301b3443"
      },
      "outputs": [
        {
          "name": "stdout",
          "output_type": "stream",
          "text": [
            "훈련 데이터의 개수 : 28828\n",
            "훈련 레이블의 개수 : 28828\n",
            "테스트 데이터의 개수 : 7195\n",
            "테스트 레이블의 개수 : 7195\n"
          ]
        },
        {
          "name": "stderr",
          "output_type": "stream",
          "text": [
            "/usr/local/lib/python3.7/dist-packages/numpy/lib/function_base.py:4454: VisibleDeprecationWarning: Creating an ndarray from ragged nested sequences (which is a list-or-tuple of lists-or-tuples-or ndarrays with different lengths or shapes) is deprecated. If you meant to do this, you must specify 'dtype=object' when creating the ndarray.\n",
            "  arr = asarray(arr)\n"
          ]
        }
      ],
      "source": [
        "encoder_input_train = np.delete(encoder_input_train, drop_train, axis=0)\n",
        "decoder_input_train = np.delete(decoder_input_train, drop_train, axis=0)\n",
        "decoder_target_train = np.delete(decoder_target_train, drop_train, axis=0)\n",
        "\n",
        "encoder_input_test = np.delete(encoder_input_test, drop_test, axis=0)\n",
        "decoder_input_test = np.delete(decoder_input_test, drop_test, axis=0)\n",
        "decoder_target_test = np.delete(decoder_target_test, drop_test, axis=0)\n",
        "\n",
        "print('훈련 데이터의 개수 :', len(encoder_input_train))\n",
        "print('훈련 레이블의 개수 :',len(decoder_input_train))\n",
        "print('테스트 데이터의 개수 :',len(encoder_input_test))\n",
        "print('테스트 레이블의 개수 :',len(decoder_input_test))"
      ]
    },
    {
      "cell_type": "code",
      "execution_count": null,
      "metadata": {
        "id": "stT7kKKvuiYN"
      },
      "outputs": [],
      "source": [
        "encoder_input_train = pad_sequences(encoder_input_train, maxlen = text_max_len, padding='post')\n",
        "encoder_input_test = pad_sequences(encoder_input_test, maxlen = text_max_len, padding='post')\n",
        "decoder_input_train = pad_sequences(decoder_input_train, maxlen = summary_max_len, padding='post')\n",
        "decoder_target_train = pad_sequences(decoder_target_train, maxlen = summary_max_len, padding='post')\n",
        "decoder_input_test = pad_sequences(decoder_input_test, maxlen = summary_max_len, padding='post')\n",
        "decoder_target_test = pad_sequences(decoder_target_test, maxlen = summary_max_len, padding='post')"
      ]
    },
    {
      "cell_type": "code",
      "execution_count": null,
      "metadata": {
        "id": "nM9pC7ROuj7t"
      },
      "outputs": [],
      "source": [
        "from tensorflow.keras.layers import Input, LSTM, Embedding, Dense, Concatenate\n",
        "from tensorflow.keras.models import Model\n",
        "from tensorflow.keras.callbacks import EarlyStopping, ModelCheckpoint"
      ]
    },
    {
      "cell_type": "code",
      "execution_count": null,
      "metadata": {
        "id": "3e0F1Pi6ulyc"
      },
      "outputs": [],
      "source": [
        "embedding_dim = 128\n",
        "hidden_size = 256\n",
        "\n",
        "# 인코더\n",
        "encoder_inputs = Input(shape=(text_max_len,))\n",
        "\n",
        "# 인코더의 임베딩 층\n",
        "enc_emb = Embedding(src_vocab, embedding_dim)(encoder_inputs)\n",
        "\n",
        "# 인코더의 LSTM 1\n",
        "encoder_lstm1 = LSTM(hidden_size, return_sequences=True, return_state=True ,dropout = 0.4, recurrent_dropout = 0.4)\n",
        "encoder_output1, state_h1, state_c1 = encoder_lstm1(enc_emb)\n",
        "\n",
        "# 인코더의 LSTM 2\n",
        "encoder_lstm2 = LSTM(hidden_size, return_sequences=True, return_state=True, dropout=0.4, recurrent_dropout=0.4)\n",
        "encoder_output2, state_h2, state_c2 = encoder_lstm2(encoder_output1)\n",
        "\n",
        "# 인코더의 LSTM 3\n",
        "encoder_lstm3 = LSTM(hidden_size, return_state=True, return_sequences=True, dropout=0.4, recurrent_dropout=0.4)\n",
        "encoder_outputs, state_h, state_c= encoder_lstm3(encoder_output2)"
      ]
    },
    {
      "cell_type": "code",
      "execution_count": null,
      "metadata": {
        "id": "zoaB2Qe_uniK"
      },
      "outputs": [],
      "source": [
        "# 디코더\n",
        "decoder_inputs = Input(shape=(None,))\n",
        "\n",
        "# 디코더의 임베딩 층\n",
        "dec_emb_layer = Embedding(tar_vocab, embedding_dim)\n",
        "dec_emb = dec_emb_layer(decoder_inputs)\n",
        "\n",
        "# 디코더의 LSTM\n",
        "decoder_lstm = LSTM(hidden_size, return_sequences = True, return_state = True, dropout = 0.4, recurrent_dropout=0.2)\n",
        "decoder_outputs, _, _ = decoder_lstm(dec_emb, initial_state = [state_h, state_c])"
      ]
    },
    {
      "cell_type": "code",
      "execution_count": null,
      "metadata": {
        "colab": {
          "base_uri": "https://localhost:8080/"
        },
        "id": "B8A2Kyyiuo5a",
        "outputId": "6fdd259f-7bee-462a-ca34-1b65fa6b0bfb"
      },
      "outputs": [
        {
          "name": "stdout",
          "output_type": "stream",
          "text": [
            "Model: \"model\"\n",
            "__________________________________________________________________________________________________\n",
            " Layer (type)                   Output Shape         Param #     Connected to                     \n",
            "==================================================================================================\n",
            " input_1 (InputLayer)           [(None, 50)]         0           []                               \n",
            "                                                                                                  \n",
            " embedding_1 (Embedding)        (None, 50, 128)      1024000     ['input_1[0][0]']                \n",
            "                                                                                                  \n",
            " lstm (LSTM)                    [(None, 50, 256),    394240      ['embedding_1[0][0]']            \n",
            "                                 (None, 256),                                                     \n",
            "                                 (None, 256)]                                                     \n",
            "                                                                                                  \n",
            " input_2 (InputLayer)           [(None, None)]       0           []                               \n",
            "                                                                                                  \n",
            " lstm_1 (LSTM)                  [(None, 50, 256),    525312      ['lstm[0][0]']                   \n",
            "                                 (None, 256),                                                     \n",
            "                                 (None, 256)]                                                     \n",
            "                                                                                                  \n",
            " embedding_2 (Embedding)        (None, None, 128)    256000      ['input_2[0][0]']                \n",
            "                                                                                                  \n",
            " lstm_2 (LSTM)                  [(None, 50, 256),    525312      ['lstm_1[0][0]']                 \n",
            "                                 (None, 256),                                                     \n",
            "                                 (None, 256)]                                                     \n",
            "                                                                                                  \n",
            " lstm_3 (LSTM)                  [(None, None, 256),  394240      ['embedding_2[0][0]',            \n",
            "                                 (None, 256),                     'lstm_2[0][1]',                 \n",
            "                                 (None, 256)]                     'lstm_2[0][2]']                 \n",
            "                                                                                                  \n",
            " dense_1 (Dense)                (None, None, 2000)   514000      ['lstm_3[0][0]']                 \n",
            "                                                                                                  \n",
            "==================================================================================================\n",
            "Total params: 3,633,104\n",
            "Trainable params: 3,633,104\n",
            "Non-trainable params: 0\n",
            "__________________________________________________________________________________________________\n"
          ]
        }
      ],
      "source": [
        "# 디코더의 출력층\n",
        "decoder_softmax_layer = Dense(tar_vocab, activation = 'softmax')\n",
        "decoder_softmax_outputs = decoder_softmax_layer(decoder_outputs) \n",
        "\n",
        "# 모델 정의\n",
        "model = Model([encoder_inputs, decoder_inputs], decoder_softmax_outputs)\n",
        "model.summary()"
      ]
    },
    {
      "cell_type": "code",
      "execution_count": null,
      "metadata": {
        "id": "rNZfOOC1uv52"
      },
      "outputs": [],
      "source": [
        "!python \"/content/drive/MyDrive/Euron_NLP/attention.py\"\n",
        "exec(open(\"/content/drive/MyDrive/Euron_NLP/attention.py\").read())"
      ]
    },
    {
      "cell_type": "code",
      "execution_count": null,
      "metadata": {
        "colab": {
          "base_uri": "https://localhost:8080/"
        },
        "id": "2BofaQdbvC_O",
        "outputId": "80f906c4-c0b5-46d0-9034-755b0f98bbf2"
      },
      "outputs": [
        {
          "name": "stdout",
          "output_type": "stream",
          "text": [
            "Model: \"model_1\"\n",
            "__________________________________________________________________________________________________\n",
            " Layer (type)                   Output Shape         Param #     Connected to                     \n",
            "==================================================================================================\n",
            " input_1 (InputLayer)           [(None, 50)]         0           []                               \n",
            "                                                                                                  \n",
            " embedding_1 (Embedding)        (None, 50, 128)      1024000     ['input_1[0][0]']                \n",
            "                                                                                                  \n",
            " lstm (LSTM)                    [(None, 50, 256),    394240      ['embedding_1[0][0]']            \n",
            "                                 (None, 256),                                                     \n",
            "                                 (None, 256)]                                                     \n",
            "                                                                                                  \n",
            " input_2 (InputLayer)           [(None, None)]       0           []                               \n",
            "                                                                                                  \n",
            " lstm_1 (LSTM)                  [(None, 50, 256),    525312      ['lstm[0][0]']                   \n",
            "                                 (None, 256),                                                     \n",
            "                                 (None, 256)]                                                     \n",
            "                                                                                                  \n",
            " embedding_2 (Embedding)        (None, None, 128)    256000      ['input_2[0][0]']                \n",
            "                                                                                                  \n",
            " lstm_2 (LSTM)                  [(None, 50, 256),    525312      ['lstm_1[0][0]']                 \n",
            "                                 (None, 256),                                                     \n",
            "                                 (None, 256)]                                                     \n",
            "                                                                                                  \n",
            " lstm_3 (LSTM)                  [(None, None, 256),  394240      ['embedding_2[0][0]',            \n",
            "                                 (None, 256),                     'lstm_2[0][1]',                 \n",
            "                                 (None, 256)]                     'lstm_2[0][2]']                 \n",
            "                                                                                                  \n",
            " attention_layer (AttentionLaye  ((None, None, 256),  131328     ['lstm_2[0][0]',                 \n",
            " r)                              (None, None, 50))                'lstm_3[0][0]']                 \n",
            "                                                                                                  \n",
            " concat_layer (Concatenate)     (None, None, 512)    0           ['lstm_3[0][0]',                 \n",
            "                                                                  'attention_layer[0][0]']        \n",
            "                                                                                                  \n",
            " dense_2 (Dense)                (None, None, 2000)   1026000     ['concat_layer[0][0]']           \n",
            "                                                                                                  \n",
            "==================================================================================================\n",
            "Total params: 4,276,432\n",
            "Trainable params: 4,276,432\n",
            "Non-trainable params: 0\n",
            "__________________________________________________________________________________________________\n"
          ]
        }
      ],
      "source": [
        "# from attention.py import AttentionLayer\n",
        "attn_layer = AttentionLayer(name='attention_layer')\n",
        "attn_out, attn_states = attn_layer([encoder_outputs, decoder_outputs])\n",
        "\n",
        "# 어텐션의 결곽와 디코더의 hidden state들을 연결\n",
        "decoder_concat_input = Concatenate(axis=-1, name='concat_layer')([decoder_outputs, attn_out])\n",
        "\n",
        "# 디코더의 출력층 \n",
        "decoder_softmax_layer = Dense(tar_vocab, activation='softmax')\n",
        "decoder_softmax_outputs = decoder_softmax_layer(decoder_concat_input)\n",
        "\n",
        "# 모델 정의\n",
        "model = Model([encoder_inputs, decoder_inputs], decoder_softmax_outputs)\n",
        "model.summary()"
      ]
    },
    {
      "cell_type": "code",
      "execution_count": null,
      "metadata": {
        "id": "j7TV_s5dvRcu"
      },
      "outputs": [],
      "source": [
        "model.compile(optimizer='rmsprop', loss='sparse_categorical_crossentropy')"
      ]
    },
    {
      "cell_type": "code",
      "execution_count": null,
      "metadata": {
        "colab": {
          "background_save": true,
          "base_uri": "https://localhost:8080/"
        },
        "id": "gFszY5_evVI7",
        "outputId": "84c13ff7-55f3-443e-dee0-f61f3b5670d2"
      },
      "outputs": [
        {
          "name": "stdout",
          "output_type": "stream",
          "text": [
            "Epoch 1/50\n",
            "113/113 [==============================] - 677s 6s/step - loss: 2.7249 - val_loss: 2.3279\n",
            "Epoch 2/50\n",
            "113/113 [==============================] - 664s 6s/step - loss: 2.3334 - val_loss: 2.2551\n",
            "Epoch 3/50\n",
            "113/113 [==============================] - 659s 6s/step - loss: 2.2574 - val_loss: 2.1757\n",
            "Epoch 4/50\n",
            "113/113 [==============================] - 662s 6s/step - loss: 2.1779 - val_loss: 2.1035\n",
            "Epoch 5/50\n",
            "113/113 [==============================] - 665s 6s/step - loss: 2.0979 - val_loss: 2.0510\n",
            "Epoch 6/50\n",
            " 49/113 [============>.................] - ETA: 5:56 - loss: 2.0369"
          ]
        }
      ],
      "source": [
        "es = EarlyStopping(monitor='val_loss', mode='min', verbose=1, patience = 2)\n",
        "history = model.fit(x = [encoder_input_train, decoder_input_train], y = decoder_target_train, \\\n",
        "          validation_data = ([encoder_input_test, decoder_input_test], decoder_target_test),\n",
        "          batch_size = 256, callbacks=[es], epochs = 50)"
      ]
    },
    {
      "cell_type": "code",
      "execution_count": null,
      "metadata": {
        "id": "ULSRqdWYvXV1"
      },
      "outputs": [],
      "source": [
        "plt.plot(history.history['loss'], label='train')\n",
        "plt.plot(history.history['val_loss'], label='test')\n",
        "plt.legend()\n",
        "plt.show()"
      ]
    },
    {
      "cell_type": "markdown",
      "metadata": {
        "id": "Q1YYkbOZvZvK"
      },
      "source": [
        "seq to seq"
      ]
    },
    {
      "cell_type": "code",
      "execution_count": null,
      "metadata": {
        "id": "-xDfSZ3tvFbe"
      },
      "outputs": [],
      "source": [
        "src_index_to_word = src_tokenizer.index_word # 원문 단어 집합에서 정수 -> 단어를 얻음\n",
        "tar_word_to_index = tar_tokenizer.word_index # 요약 단어 집합에서 단어 -> 정수를 얻음\n",
        "tar_index_to_word = tar_tokenizer.index_word # 요약 단어 집합에서 정수 -> 단어를 얻음"
      ]
    },
    {
      "cell_type": "code",
      "execution_count": null,
      "metadata": {
        "id": "h_eU7B-bvba6"
      },
      "outputs": [],
      "source": [
        "# 인코더 설계\n",
        "encoder_model = Model(inputs=encoder_inputs, outputs=[encoder_outputs, state_h, state_c])"
      ]
    },
    {
      "cell_type": "code",
      "execution_count": null,
      "metadata": {
        "id": "Yitr3HjFvfFg"
      },
      "outputs": [],
      "source": [
        "# 이전 시점의 상태들을 저장하는 텐서\n",
        "decoder_state_input_h = Input(shape=(hidden_size,))\n",
        "decoder_state_input_c = Input(shape=(hidden_size,))\n",
        "\n",
        "dec_emb2 = dec_emb_layer(decoder_inputs)\n",
        "# 문장의 다음 단어를 예측하기 위해서 초기 상태(initial_state)를 이전 시점의 상태로 사용. 이는 뒤의 함수 decode_sequence()에 구현\n",
        "# 훈련 과정에서와 달리 LSTM의 리턴하는 은닉 상태와 셀 상태인 state_h와 state_c를 버리지 않음.\n",
        "decoder_outputs2, state_h2, state_c2 = decoder_lstm(dec_emb2, initial_state=[decoder_state_input_h, decoder_state_input_c])"
      ]
    },
    {
      "cell_type": "code",
      "execution_count": null,
      "metadata": {
        "id": "NcWHS0y1vhWz"
      },
      "outputs": [],
      "source": [
        "# 어텐션 함수\n",
        "decoder_hidden_state_input = Input(shape=(text_max_len, hidden_size))\n",
        "attn_out_inf, attn_states_inf = attn_layer([decoder_hidden_state_input, decoder_outputs2])\n",
        "decoder_inf_concat = Concatenate(axis=-1, name='concat')([decoder_outputs2, attn_out_inf])\n",
        "\n",
        "# 디코더의 출력층\n",
        "decoder_outputs2 = decoder_softmax_layer(decoder_inf_concat) \n",
        "\n",
        "# 최종 디코더 모델\n",
        "decoder_model = Model(\n",
        "    [decoder_inputs] + [decoder_hidden_state_input,decoder_state_input_h, decoder_state_input_c],\n",
        "    [decoder_outputs2] + [state_h2, state_c2])"
      ]
    },
    {
      "cell_type": "code",
      "execution_count": null,
      "metadata": {
        "id": "ZyqoVMZkvj_S"
      },
      "outputs": [],
      "source": [
        "def decode_sequence(input_seq):\n",
        "    # 입력으로부터 인코더의 상태를 얻음\n",
        "    e_out, e_h, e_c = encoder_model.predict(input_seq)\n",
        "\n",
        "     # <SOS>에 해당하는 토큰 생성\n",
        "    target_seq = np.zeros((1,1))\n",
        "    target_seq[0, 0] = tar_word_to_index['sostoken']\n",
        "\n",
        "    stop_condition = False\n",
        "    decoded_sentence = ''\n",
        "    while not stop_condition: # stop_condition이 True가 될 때까지 루프 반복\n",
        "\n",
        "        output_tokens, h, c = decoder_model.predict([target_seq] + [e_out, e_h, e_c])\n",
        "        sampled_token_index = np.argmax(output_tokens[0, -1, :])\n",
        "        sampled_token = tar_index_to_word[sampled_token_index]\n",
        "\n",
        "        if(sampled_token!='eostoken'):\n",
        "            decoded_sentence += ' '+sampled_token\n",
        "\n",
        "        #  <eos>에 도달하거나 최대 길이를 넘으면 중단.\n",
        "        if (sampled_token == 'eostoken'  or len(decoded_sentence.split()) >= (summary_max_len-1)):\n",
        "            stop_condition = True\n",
        "\n",
        "        # 길이가 1인 타겟 시퀀스를 업데이트\n",
        "        target_seq = np.zeros((1,1))\n",
        "        target_seq[0, 0] = sampled_token_index\n",
        "\n",
        "        # 상태를 업데이트 합니다.\n",
        "        e_h, e_c = h, c\n",
        "\n",
        "    return decoded_sentence"
      ]
    },
    {
      "cell_type": "code",
      "execution_count": null,
      "metadata": {
        "id": "fnzvqqwGvlpS"
      },
      "outputs": [],
      "source": [
        "# 원문의 정수 시퀀스를 텍스트 시퀀스로 변환\n",
        "def seq2text(input_seq):\n",
        "    sentence=''\n",
        "    for i in input_seq:\n",
        "        if(i!=0):\n",
        "            sentence = sentence + src_index_to_word[i]+' '\n",
        "    return sentence\n",
        "\n",
        "# 요약문의 정수 시퀀스를 텍스트 시퀀스로 변환\n",
        "def seq2summary(input_seq):\n",
        "    sentence=''\n",
        "    for i in input_seq:\n",
        "        if((i!=0 and i!=tar_word_to_index['sostoken']) and i!=tar_word_to_index['eostoken']):\n",
        "            sentence = sentence + tar_index_to_word[i] + ' '\n",
        "    return sentence"
      ]
    },
    {
      "cell_type": "code",
      "execution_count": null,
      "metadata": {
        "id": "cIBnsSlAvnEb"
      },
      "outputs": [],
      "source": [
        "for i in range(500, 1000):\n",
        "    print(\"원문 : \",seq2text(encoder_input_test[i]))\n",
        "    print(\"실제 요약문 :\",seq2summary(decoder_input_test[i]))\n",
        "    print(\"예측 요약문 :\",decode_sequence(encoder_input_test[i].reshape(1, text_max_len)))\n",
        "    print(\"\\n\")"
      ]
    },
    {
      "cell_type": "markdown",
      "metadata": {
        "id": "HfTr_BPwGc8D"
      },
      "source": [
        "### **2️⃣ Text summarization task**"
      ]
    },
    {
      "cell_type": "markdown",
      "metadata": {
        "id": "eu3adOV2bDs_"
      },
      "source": [
        "🔹 2-(1) Pororo - text summarization \n",
        "\n",
        "📌 [공식문서](https://kakaobrain.github.io/pororo/seq2seq/summary.html) \n",
        "\n",
        "📌 [예제 실습](https://teddylee777.github.io/machine-learning/nlp-korean-pororo) \n",
        "\n",
        "* PORORO : 카카오 브레인에서 제공한 자연어 처리 라이브러리"
      ]
    },
    {
      "cell_type": "code",
      "execution_count": null,
      "metadata": {
        "id": "e2WbVbbsatD5"
      },
      "outputs": [],
      "source": []
    },
    {
      "cell_type": "code",
      "execution_count": null,
      "metadata": {
        "id": "NmVEEfAqdSa1"
      },
      "outputs": [],
      "source": []
    },
    {
      "cell_type": "markdown",
      "metadata": {
        "id": "xsx6OgzwbnIt"
      },
      "source": [
        "🔹 2-(2) BERT 를 이용한 text summarization \n",
        "\n",
        "📌 [논문 리뷰](https://medium.com/@eyfydsyd97/bert%EB%A5%BC-%ED%99%9C%EC%9A%A9%ED%95%9C-%ED%85%8D%EC%8A%A4%ED%8A%B8-%EC%9A%94%EC%95%BD-text-summary-b582b5cc7d) \n",
        "\n",
        "📌 [BERT Extractive summarizer Library](https://github.com/dmmiller612/bert-extractive-summarizer) \n",
        "\n",
        "\n",
        "📌 [Text summarization Github Repo](https://github.com/uoneway/Text-Summarization-Repo) \n",
        "\n",
        "\n",
        "\n",
        "➕ [BERT 를 이용한 뉴스 요약 자동화 App 구현 Repo](https://github.com/huydang90/News-Summarization-with-BERT) 👉 프로젝트 예시 참고 자료\n",
        "\n"
      ]
    },
    {
      "cell_type": "code",
      "execution_count": null,
      "metadata": {
        "id": "svtikbdZatBY"
      },
      "outputs": [],
      "source": []
    },
    {
      "cell_type": "code",
      "execution_count": null,
      "metadata": {
        "id": "mnfL6KIZdSuo"
      },
      "outputs": [],
      "source": []
    }
  ],
  "metadata": {
    "colab": {
      "provenance": [],
      "include_colab_link": true
    },
    "kernelspec": {
      "display_name": "Python 3",
      "name": "python3"
    },
    "language_info": {
      "name": "python"
    }
  },
  "nbformat": 4,
  "nbformat_minor": 0
}