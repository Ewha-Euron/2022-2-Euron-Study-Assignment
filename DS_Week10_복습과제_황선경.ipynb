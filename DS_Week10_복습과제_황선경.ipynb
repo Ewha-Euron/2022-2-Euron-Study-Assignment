{
 "cells": [
  {
   "cell_type": "markdown",
   "id": "7281eff9",
   "metadata": {
    "id": "7281eff9"
   },
   "source": [
    "# week 7"
   ]
  },
  {
   "cell_type": "markdown",
   "id": "d778db1c",
   "metadata": {
    "id": "d778db1c"
   },
   "source": [
    "### 1.1 다음 코드를 실행해서 데이터 프레임을 생성하세요"
   ]
  },
  {
   "cell_type": "code",
   "execution_count": 8,
   "id": "6b76a9ce",
   "metadata": {
    "id": "6b76a9ce"
   },
   "outputs": [],
   "source": [
    "import pandas as pd\n",
    "import seaborn as sns\n",
    "\n",
    "df = pd.DataFrame(columns=['calory', 'breakfast', 'lunch', 'dinner', 'exercise', 'body_shape'])\n",
    "\n",
    "df.loc[0] = [1200, 1, 0, 0, 2, 'Skinny']\n",
    "df.loc[1] = [2800, 1, 1, 1, 1, 'Normal']\n",
    "df.loc[2] = [3500, 2, 2, 1, 0, 'Fat']\n",
    "df.loc[3] = [1400, 0, 1, 0, 3, 'Skinny']\n",
    "df.loc[4] = [5000, 2, 2, 2, 0, 'Fat']\n",
    "df.loc[5] = [1300, 0, 0, 1, 2, 'Skinny']\n",
    "df.loc[6] = [3000, 1, 0, 1, 1, 'Normal']\n",
    "df.loc[7] = [4000, 2, 2, 2, 0, 'Fat']\n",
    "df.loc[8] = [2600, 0, 2, 0, 0, 'Normal']\n",
    "df.loc[9] = [3000, 1, 2, 1, 1, 'Fat']"
   ]
  },
  {
   "cell_type": "markdown",
   "id": "4cd0eefd",
   "metadata": {
    "id": "4cd0eefd"
   },
   "source": [
    "### 1.2 데이터 프레임을 확인하고, X= calory, breakfast, lunch, dinner, exercise / y=body shape로 변수 분리하세요"
   ]
  },
  {
   "cell_type": "code",
   "execution_count": 12,
   "id": "VdSz3rI6zWVS",
   "metadata": {
    "id": "VdSz3rI6zWVS"
   },
   "outputs": [
    {
     "name": "stdout",
     "output_type": "stream",
     "text": [
      "   calory  breakfast  lunch  dinner  exercise body_shape\n",
      "0    1200          1      0       0         2     Skinny\n",
      "1    2800          1      1       1         1     Normal\n",
      "2    3500          2      2       1         0        Fat\n",
      "3    1400          0      1       0         3     Skinny\n",
      "4    5000          2      2       2         0        Fat\n"
     ]
    }
   ],
   "source": [
    "print(df.head())\n",
    "X = df.iloc[:,0:5]\n",
    "y = df.iloc[:,-1]"
   ]
  },
  {
   "cell_type": "markdown",
   "id": "696a760e",
   "metadata": {
    "id": "696a760e"
   },
   "source": [
    "### 1.3 X 데이터 값의 범위가 균일하지 않으므로 standard scaler를 이용해서 리스케일 해주세요"
   ]
  },
  {
   "cell_type": "code",
   "execution_count": 13,
   "id": "8e8b94f2",
   "metadata": {
    "id": "8e8b94f2"
   },
   "outputs": [],
   "source": [
    "from sklearn.preprocessing import StandardScaler\n",
    "x_std = StandardScaler().fit_transform(X)"
   ]
  },
  {
   "cell_type": "markdown",
   "id": "8b16d09b",
   "metadata": {
    "id": "8b16d09b"
   },
   "source": [
    "### 1.4 사이킷런 PCA 클래스를 이용해서 5차원 데이터를 1차원으로 변환하고 shape를 확인해주세요"
   ]
  },
  {
   "cell_type": "code",
   "execution_count": 21,
   "id": "c422de02",
   "metadata": {
    "id": "c422de02"
   },
   "outputs": [],
   "source": [
    "from sklearn import decomposition\n",
    "from sklearn.decomposition import PCA\n",
    "\n",
    "obj_pca = PCA(n_components = 1)\n",
    "X_pca = obj_pca.fit_transform(x_std)"
   ]
  },
  {
   "cell_type": "code",
   "execution_count": 22,
   "id": "95be7eab",
   "metadata": {},
   "outputs": [
    {
     "data": {
      "text/plain": [
       "(10, 1)"
      ]
     },
     "execution_count": 22,
     "metadata": {},
     "output_type": "execute_result"
    }
   ],
   "source": [
    "X_pca.shape"
   ]
  },
  {
   "cell_type": "markdown",
   "id": "629a478a",
   "metadata": {
    "id": "629a478a"
   },
   "source": [
    "### 1.5 explained_variance_ratio_ 변수를 이용해서 보존된 변동성 비율을 확인해주세요"
   ]
  },
  {
   "cell_type": "code",
   "execution_count": 23,
   "id": "gU5clV1788Hc",
   "metadata": {
    "id": "gU5clV1788Hc"
   },
   "outputs": [
    {
     "name": "stdout",
     "output_type": "stream",
     "text": [
      "[0.73183217]\n"
     ]
    }
   ],
   "source": [
    "print(obj_pca.explained_variance_ratio_)"
   ]
  },
  {
   "cell_type": "markdown",
   "id": "WJ8eeBj51v2X",
   "metadata": {
    "id": "WJ8eeBj51v2X"
   },
   "source": [
    "### 1.6 적절한 차원의 수 선택하기 - 원본 데이터셋의 분산을 95%로 유지하는데 필요한 최소한의 PC 개수 즉 차원 수 d를 구하세요"
   ]
  },
  {
   "cell_type": "code",
   "execution_count": 25,
   "id": "WjTMV1L-88vE",
   "metadata": {
    "id": "WjTMV1L-88vE"
   },
   "outputs": [
    {
     "data": {
      "text/plain": [
       "4"
      ]
     },
     "execution_count": 25,
     "metadata": {},
     "output_type": "execute_result"
    }
   ],
   "source": [
    "import numpy as np\n",
    "\n",
    "pca = PCA()\n",
    "pca.fit(x_std)\n",
    "cumsum = np.cumsum(pca.explained_variance_ratio_)\n",
    "d = np.argmax(cumsum > 0.95) + 1\n",
    "d"
   ]
  },
  {
   "cell_type": "markdown",
   "id": "Ij6PTebe2MjN",
   "metadata": {
    "id": "Ij6PTebe2MjN"
   },
   "source": [
    "### 1.7 n_components를 설정하여 PCA를 다시 실행하는 인자로 보존할 분산의 비율을 넣어주세요. (분산의 비율 : 0.95) 이를 X_reduced에 저장하세요 그 후 shape을 통해서 몇차원으로 압축되었는지 확인하세요"
   ]
  },
  {
   "cell_type": "code",
   "execution_count": 26,
   "id": "aIByk3Mm89al",
   "metadata": {
    "id": "aIByk3Mm89al"
   },
   "outputs": [
    {
     "data": {
      "text/plain": [
       "(10, 4)"
      ]
     },
     "execution_count": 26,
     "metadata": {},
     "output_type": "execute_result"
    }
   ],
   "source": [
    "pca = PCA(n_components=0.95)\n",
    "X_reduced = pca.fit_transform(x_std)\n",
    "X_reduced.shape"
   ]
  },
  {
   "cell_type": "markdown",
   "id": "oAts_8pp3KUd",
   "metadata": {
    "id": "oAts_8pp3KUd"
   },
   "source": [
    "### 1.8 압축된 데이터셋에 PCA 투영의 변환을 반대로 적용하여 다시 원래의 차원으로 되돌리세요 그 후 shape을 통해서 원래의 차원으로 잘 돌아왔는지 확인하세요"
   ]
  },
  {
   "cell_type": "code",
   "execution_count": 27,
   "id": "CKn000_m89xt",
   "metadata": {
    "id": "CKn000_m89xt"
   },
   "outputs": [
    {
     "data": {
      "text/plain": [
       "(10, 5)"
      ]
     },
     "execution_count": 27,
     "metadata": {},
     "output_type": "execute_result"
    }
   ],
   "source": [
    "X_recovered = pca.inverse_transform(X_reduced)\n",
    "X_recovered.shape"
   ]
  },
  {
   "cell_type": "markdown",
   "id": "OR3fW2r94cso",
   "metadata": {
    "id": "OR3fW2r94cso"
   },
   "source": [
    "### 1.9 랜덤 PCA를 이용하여 데이터를 2차원으로 압축하세요. (random_state=42)\n",
    "\n",
    "\n"
   ]
  },
  {
   "cell_type": "code",
   "execution_count": 31,
   "id": "khc-QWCg8-bV",
   "metadata": {
    "id": "khc-QWCg8-bV"
   },
   "outputs": [],
   "source": [
    "rnd_pca = PCA(n_components=2, svd_solver = \"randomized\", random_state=42)\n",
    "X_reduced = rnd_pca.fit_transform(x_std)"
   ]
  },
  {
   "cell_type": "markdown",
   "id": "I6jPdC0b4v5y",
   "metadata": {
    "id": "I6jPdC0b4v5y"
   },
   "source": [
    "### 1.10 점진적 PCA를 이용하여 데이터를 4차원으로 압축하세요. (배치사이즈:2) 그 후 shape을 통해 확인하세요\n",
    "\n",
    "\n"
   ]
  },
  {
   "cell_type": "code",
   "execution_count": 32,
   "id": "HugYveK081n5",
   "metadata": {
    "id": "HugYveK081n5"
   },
   "outputs": [],
   "source": [
    "from sklearn.decomposition import IncrementalPCA"
   ]
  },
  {
   "cell_type": "code",
   "execution_count": 34,
   "id": "N7hKhOLz8_Ad",
   "metadata": {
    "id": "N7hKhOLz8_Ad"
   },
   "outputs": [
    {
     "name": "stdout",
     "output_type": "stream",
     "text": [
      ".."
     ]
    },
    {
     "data": {
      "text/plain": [
       "(10, 4)"
      ]
     },
     "execution_count": 34,
     "metadata": {},
     "output_type": "execute_result"
    }
   ],
   "source": [
    "n_batches = 2\n",
    "inc_pca = IncrementalPCA(n_components=4)\n",
    "for X_batch in np.array_split(x_std, n_batches):\n",
    "    print(\".\", end=\"\")\n",
    "    inc_pca.partial_fit(X_batch)\n",
    "\n",
    "X_reduced = inc_pca.transform(x_std)\n",
    "X_reduced.shape"
   ]
  },
  {
   "cell_type": "markdown",
   "id": "o8rcgS0C5aLZ",
   "metadata": {
    "id": "o8rcgS0C5aLZ"
   },
   "source": [
    "### 1.11 커널 PCA를 이용하여 데이터를 2차원으로 압축하세요. (kernel=\"rbf\",gamma=0.4) 그 후 shape을 통해 확인하세요\n"
   ]
  },
  {
   "cell_type": "code",
   "execution_count": 36,
   "id": "rTU0f8ZL8zUY",
   "metadata": {
    "id": "rTU0f8ZL8zUY"
   },
   "outputs": [],
   "source": [
    "from sklearn.decomposition import KernelPCA"
   ]
  },
  {
   "cell_type": "code",
   "execution_count": 37,
   "id": "u1w3xZmz8_lW",
   "metadata": {
    "id": "u1w3xZmz8_lW"
   },
   "outputs": [
    {
     "data": {
      "text/plain": [
       "(10, 2)"
      ]
     },
     "execution_count": 37,
     "metadata": {},
     "output_type": "execute_result"
    }
   ],
   "source": [
    "rbf_pca = KernelPCA(n_components=2, kernel=\"rbf\", gamma=0.4)\n",
    "X_reduced = rbf_pca.fit_transform(x_std)\n",
    "X_reduced.shape"
   ]
  },
  {
   "cell_type": "markdown",
   "id": "L2O_3R1C52HE",
   "metadata": {
    "id": "L2O_3R1C52HE"
   },
   "source": [
    "### 1.12 커널 PCA의 하이퍼파라미터를 선택하세요 kPCA를 이용하여 2차원으로 축소하고 Logistic Regression으로 Classification을 진행하세요. 그 다음 가장 높은 accuracy를 얻기 위해 GridSearchCV를사용하여 kPCA에 가장 좋은 커널과 gamma 파라미터를 구하세요.\n",
    "이때, kpca__kernel은 [\"linear\", \"poly\", \"rbf\", \"sigmoid\", \"cosine\"], kpca__gamma\"은 np.linspace(0.03, 0.05, 1,2,10)\n"
   ]
  },
  {
   "cell_type": "code",
   "execution_count": 38,
   "id": "mV-ouBGm8wOm",
   "metadata": {
    "id": "mV-ouBGm8wOm"
   },
   "outputs": [],
   "source": [
    "from sklearn.model_selection import GridSearchCV\n",
    "from sklearn.linear_model import LogisticRegression\n",
    "from sklearn.pipeline import Pipeline"
   ]
  },
  {
   "cell_type": "code",
   "execution_count": 44,
   "id": "F1yz7Qxs9AIc",
   "metadata": {
    "id": "F1yz7Qxs9AIc"
   },
   "outputs": [
    {
     "name": "stdout",
     "output_type": "stream",
     "text": [
      "{'kpca__gamma': 0.03, 'kpca__kernel': 'rbf'}\n"
     ]
    }
   ],
   "source": [
    "clf = Pipeline([\n",
    "    (\"kpca\", KernelPCA(n_components=2)), \n",
    "    (\"log_reg\", LogisticRegression(solver=\"lbfgs\"))\n",
    "])\n",
    "\n",
    "param_grid = [{\n",
    "    \"kpca__gamma\" : [0.03, 0.05, 10],\n",
    "    \"kpca__kernel\" : [\"rbf\", \"sigmoid\"]\n",
    "}]\n",
    "\n",
    "grid_search = GridSearchCV(clf, param_grid, cv=3)\n",
    "grid_search.fit(x_std, y)\n",
    "\n",
    "print(grid_search.best_params_)"
   ]
  },
  {
   "cell_type": "markdown",
   "id": "9ca50c98",
   "metadata": {
    "id": "9ca50c98"
   },
   "source": [
    "### 2.1 다음 iris 데이터 세트를 출력해주세요"
   ]
  },
  {
   "cell_type": "code",
   "execution_count": 46,
   "id": "510d3f8f",
   "metadata": {
    "id": "510d3f8f"
   },
   "outputs": [
    {
     "data": {
      "text/html": [
       "<div>\n",
       "<style scoped>\n",
       "    .dataframe tbody tr th:only-of-type {\n",
       "        vertical-align: middle;\n",
       "    }\n",
       "\n",
       "    .dataframe tbody tr th {\n",
       "        vertical-align: top;\n",
       "    }\n",
       "\n",
       "    .dataframe thead th {\n",
       "        text-align: right;\n",
       "    }\n",
       "</style>\n",
       "<table border=\"1\" class=\"dataframe\">\n",
       "  <thead>\n",
       "    <tr style=\"text-align: right;\">\n",
       "      <th></th>\n",
       "      <th>sepal_length</th>\n",
       "      <th>sepal_width</th>\n",
       "      <th>petal_length</th>\n",
       "      <th>petal_width</th>\n",
       "      <th>target</th>\n",
       "    </tr>\n",
       "  </thead>\n",
       "  <tbody>\n",
       "    <tr>\n",
       "      <th>0</th>\n",
       "      <td>5.1</td>\n",
       "      <td>3.5</td>\n",
       "      <td>1.4</td>\n",
       "      <td>0.2</td>\n",
       "      <td>0</td>\n",
       "    </tr>\n",
       "    <tr>\n",
       "      <th>1</th>\n",
       "      <td>4.9</td>\n",
       "      <td>3.0</td>\n",
       "      <td>1.4</td>\n",
       "      <td>0.2</td>\n",
       "      <td>0</td>\n",
       "    </tr>\n",
       "    <tr>\n",
       "      <th>2</th>\n",
       "      <td>4.7</td>\n",
       "      <td>3.2</td>\n",
       "      <td>1.3</td>\n",
       "      <td>0.2</td>\n",
       "      <td>0</td>\n",
       "    </tr>\n",
       "    <tr>\n",
       "      <th>3</th>\n",
       "      <td>4.6</td>\n",
       "      <td>3.1</td>\n",
       "      <td>1.5</td>\n",
       "      <td>0.2</td>\n",
       "      <td>0</td>\n",
       "    </tr>\n",
       "    <tr>\n",
       "      <th>4</th>\n",
       "      <td>5.0</td>\n",
       "      <td>3.6</td>\n",
       "      <td>1.4</td>\n",
       "      <td>0.2</td>\n",
       "      <td>0</td>\n",
       "    </tr>\n",
       "  </tbody>\n",
       "</table>\n",
       "</div>"
      ],
      "text/plain": [
       "   sepal_length  sepal_width  petal_length  petal_width  target\n",
       "0           5.1          3.5           1.4          0.2       0\n",
       "1           4.9          3.0           1.4          0.2       0\n",
       "2           4.7          3.2           1.3          0.2       0\n",
       "3           4.6          3.1           1.5          0.2       0\n",
       "4           5.0          3.6           1.4          0.2       0"
      ]
     },
     "execution_count": 46,
     "metadata": {},
     "output_type": "execute_result"
    }
   ],
   "source": [
    "from sklearn.datasets import load_iris\n",
    "iris=load_iris()\n",
    "columns=['sepal_length', 'sepal_width', 'petal_length', 'petal_width']\n",
    "irisDF=pd.DataFrame(iris.data, columns=columns)\n",
    "irisDF['target']=iris.target\n",
    "\n",
    "irisDF.head()"
   ]
  },
  {
   "cell_type": "markdown",
   "id": "a8897dbf",
   "metadata": {
    "id": "a8897dbf"
   },
   "source": [
    "### 2.2 X 데이터 값을 standard scaler를 이용해서 표준화 해주세요"
   ]
  },
  {
   "cell_type": "code",
   "execution_count": 50,
   "id": "d346be6d",
   "metadata": {
    "id": "d346be6d"
   },
   "outputs": [],
   "source": [
    "from sklearn.preprocessing import StandardScaler\n",
    "x_std = StandardScaler().fit_transform(irisDF.iloc[:,:-1])"
   ]
  },
  {
   "cell_type": "markdown",
   "id": "9524087e",
   "metadata": {
    "id": "9524087e"
   },
   "source": [
    "### 2.3 PCA를 이용해 4차원 데이터를 2차원으로 변환해주세요"
   ]
  },
  {
   "cell_type": "code",
   "execution_count": 53,
   "id": "201035c6",
   "metadata": {
    "id": "201035c6"
   },
   "outputs": [
    {
     "data": {
      "text/plain": [
       "(150, 2)"
      ]
     },
     "execution_count": 53,
     "metadata": {},
     "output_type": "execute_result"
    }
   ],
   "source": [
    "from sklearn import decomposition\n",
    "from sklearn.decomposition import PCA\n",
    "\n",
    "pca = PCA(n_components=2)\n",
    "X2D = pca.fit_transform(x_std)\n",
    "X2D.shape"
   ]
  },
  {
   "cell_type": "markdown",
   "id": "108a532b",
   "metadata": {
    "id": "108a532b"
   },
   "source": [
    "### 2.4 PCA 변환된 데이터의 칼럼 명을 pca_component1, pca_component2로 명명해서 새로운 dataframe을 만들어주세요"
   ]
  },
  {
   "cell_type": "code",
   "execution_count": 57,
   "id": "RRrZ5qYN9Ch0",
   "metadata": {
    "id": "RRrZ5qYN9Ch0"
   },
   "outputs": [
    {
     "data": {
      "text/html": [
       "<div>\n",
       "<style scoped>\n",
       "    .dataframe tbody tr th:only-of-type {\n",
       "        vertical-align: middle;\n",
       "    }\n",
       "\n",
       "    .dataframe tbody tr th {\n",
       "        vertical-align: top;\n",
       "    }\n",
       "\n",
       "    .dataframe thead th {\n",
       "        text-align: right;\n",
       "    }\n",
       "</style>\n",
       "<table border=\"1\" class=\"dataframe\">\n",
       "  <thead>\n",
       "    <tr style=\"text-align: right;\">\n",
       "      <th></th>\n",
       "      <th>pca_component_1</th>\n",
       "      <th>pca_component_2</th>\n",
       "    </tr>\n",
       "  </thead>\n",
       "  <tbody>\n",
       "    <tr>\n",
       "      <th>0</th>\n",
       "      <td>-2.264703</td>\n",
       "      <td>0.480027</td>\n",
       "    </tr>\n",
       "    <tr>\n",
       "      <th>1</th>\n",
       "      <td>-2.080961</td>\n",
       "      <td>-0.674134</td>\n",
       "    </tr>\n",
       "    <tr>\n",
       "      <th>2</th>\n",
       "      <td>-2.364229</td>\n",
       "      <td>-0.341908</td>\n",
       "    </tr>\n",
       "    <tr>\n",
       "      <th>3</th>\n",
       "      <td>-2.299384</td>\n",
       "      <td>-0.597395</td>\n",
       "    </tr>\n",
       "    <tr>\n",
       "      <th>4</th>\n",
       "      <td>-2.389842</td>\n",
       "      <td>0.646835</td>\n",
       "    </tr>\n",
       "  </tbody>\n",
       "</table>\n",
       "</div>"
      ],
      "text/plain": [
       "   pca_component_1  pca_component_2\n",
       "0        -2.264703         0.480027\n",
       "1        -2.080961        -0.674134\n",
       "2        -2.364229        -0.341908\n",
       "3        -2.299384        -0.597395\n",
       "4        -2.389842         0.646835"
      ]
     },
     "execution_count": 57,
     "metadata": {},
     "output_type": "execute_result"
    }
   ],
   "source": [
    "pca_columns = ['pca_component_1', 'pca_component_2']\n",
    "irisDF_pca = pd.DataFrame(X2D, columns=pca_columns)\n",
    "irisDF_pca.head()"
   ]
  },
  {
   "cell_type": "markdown",
   "id": "d029f86d",
   "metadata": {
    "id": "d029f86d"
   },
   "source": [
    "### 2.5 원본 데이터와 PCA 데이터를 각각 XGBoost로 학습시키고 (random_state=15), cross_val_score()로 5개의 교차 검증 세트로 정확도를 비교해주세요"
   ]
  },
  {
   "cell_type": "code",
   "execution_count": 59,
   "id": "HEU8HOY29C_k",
   "metadata": {
    "id": "HEU8HOY29C_k"
   },
   "outputs": [
    {
     "name": "stdout",
     "output_type": "stream",
     "text": [
      "원본 데이터 교차 검증 개별 정확도: [0.96666667 0.96666667 0.93333333 0.93333333 1.        ]\n",
      "원본 데이터 평균 정확도: 0.96\n",
      "원본 데이터 교차 검증 개별 정확도: [0.9        0.93333333 0.83333333 0.83333333 1.        ]\n",
      "원본 데이터 평균 정확도: 0.9\n"
     ]
    }
   ],
   "source": [
    "from xgboost import XGBClassifier\n",
    "from sklearn.model_selection import cross_val_score\n",
    "\n",
    "\n",
    "xgb_clf = XGBClassifier(random_state=15)\n",
    "scores = cross_val_score(xgb_clf, iris.data, iris.target, scoring='accuracy', cv=5)\n",
    "print('원본 데이터 교차 검증 개별 정확도:', scores)\n",
    "print('원본 데이터 평균 정확도:', np.mean(scores))\n",
    "\n",
    "xgb_clf = XGBClassifier(random_state=15)\n",
    "scores = cross_val_score(xgb_clf, irisDF_pca, iris.target, scoring='accuracy', cv=5)\n",
    "print('원본 데이터 교차 검증 개별 정확도:', scores)\n",
    "print('원본 데이터 평균 정확도:', np.mean(scores))"
   ]
  },
  {
   "cell_type": "markdown",
   "id": "a0ca1f03",
   "metadata": {
    "id": "a0ca1f03"
   },
   "source": [
    "### 3.1 기본적인 LDA 구현을 위한 라이브러리를 import 해주세요. 와인 데이터도 로드해주세요."
   ]
  },
  {
   "cell_type": "code",
   "execution_count": 60,
   "id": "bosBIvpfpig5",
   "metadata": {
    "id": "bosBIvpfpig5"
   },
   "outputs": [],
   "source": [
    "from sklearn.datasets import load_wine\n",
    "from sklearn.discriminant_analysis import LinearDiscriminantAnalysis"
   ]
  },
  {
   "cell_type": "markdown",
   "id": "WX1DQMxppmbo",
   "metadata": {
    "id": "WX1DQMxppmbo"
   },
   "source": [
    "### 3.2 X에는 features를 y에는 target을 저장해주세요."
   ]
  },
  {
   "cell_type": "code",
   "execution_count": 66,
   "id": "1QKARbHUpomE",
   "metadata": {
    "id": "1QKARbHUpomE"
   },
   "outputs": [],
   "source": [
    "wine = load_wine()\n",
    "\n",
    "X = wine.data\n",
    "y = wine.target"
   ]
  },
  {
   "cell_type": "markdown",
   "id": "PDJJUtDMpq-O",
   "metadata": {
    "id": "PDJJUtDMpq-O"
   },
   "source": [
    "### 3.3 X의 형태를 확인해주세요. (178,13)이 나와야합니다."
   ]
  },
  {
   "cell_type": "code",
   "execution_count": 67,
   "id": "GrByD12Upt91",
   "metadata": {
    "id": "GrByD12Upt91"
   },
   "outputs": [
    {
     "data": {
      "text/plain": [
       "(178, 13)"
      ]
     },
     "execution_count": 67,
     "metadata": {},
     "output_type": "execute_result"
    }
   ],
   "source": [
    "X.shape"
   ]
  },
  {
   "cell_type": "markdown",
   "id": "TyI4z3TLputn",
   "metadata": {
    "id": "TyI4z3TLputn"
   },
   "source": [
    "### 3.4 X의 행 5개를 확인해주세요."
   ]
  },
  {
   "cell_type": "code",
   "execution_count": 68,
   "id": "89-aUms4pxH0",
   "metadata": {
    "id": "89-aUms4pxH0"
   },
   "outputs": [
    {
     "data": {
      "text/plain": [
       "array([[1.423e+01, 1.710e+00, 2.430e+00, 1.560e+01, 1.270e+02, 2.800e+00,\n",
       "        3.060e+00, 2.800e-01, 2.290e+00, 5.640e+00, 1.040e+00, 3.920e+00,\n",
       "        1.065e+03],\n",
       "       [1.320e+01, 1.780e+00, 2.140e+00, 1.120e+01, 1.000e+02, 2.650e+00,\n",
       "        2.760e+00, 2.600e-01, 1.280e+00, 4.380e+00, 1.050e+00, 3.400e+00,\n",
       "        1.050e+03],\n",
       "       [1.316e+01, 2.360e+00, 2.670e+00, 1.860e+01, 1.010e+02, 2.800e+00,\n",
       "        3.240e+00, 3.000e-01, 2.810e+00, 5.680e+00, 1.030e+00, 3.170e+00,\n",
       "        1.185e+03],\n",
       "       [1.437e+01, 1.950e+00, 2.500e+00, 1.680e+01, 1.130e+02, 3.850e+00,\n",
       "        3.490e+00, 2.400e-01, 2.180e+00, 7.800e+00, 8.600e-01, 3.450e+00,\n",
       "        1.480e+03],\n",
       "       [1.324e+01, 2.590e+00, 2.870e+00, 2.100e+01, 1.180e+02, 2.800e+00,\n",
       "        2.690e+00, 3.900e-01, 1.820e+00, 4.320e+00, 1.040e+00, 2.930e+00,\n",
       "        7.350e+02]])"
      ]
     },
     "execution_count": 68,
     "metadata": {},
     "output_type": "execute_result"
    }
   ],
   "source": [
    "X[0:5,:]"
   ]
  },
  {
   "cell_type": "markdown",
   "id": "eURw4Fripxmq",
   "metadata": {
    "id": "eURw4Fripxmq"
   },
   "source": [
    "### 3.5 target들의 종류를 확인해주세요."
   ]
  },
  {
   "cell_type": "code",
   "execution_count": 74,
   "id": "EEJqrh6ypz6k",
   "metadata": {
    "id": "EEJqrh6ypz6k"
   },
   "outputs": [
    {
     "data": {
      "text/plain": [
       "array(['class_0', 'class_1', 'class_2'], dtype='<U7')"
      ]
     },
     "execution_count": 74,
     "metadata": {},
     "output_type": "execute_result"
    }
   ],
   "source": [
    "wine.target_names"
   ]
  },
  {
   "cell_type": "markdown",
   "id": "BW-Oq1Zyp0uV",
   "metadata": {
    "id": "BW-Oq1Zyp0uV"
   },
   "source": [
    "### 3.6 X_lda에 lda를 fit해주세요. "
   ]
  },
  {
   "cell_type": "code",
   "execution_count": 73,
   "id": "Sd3v1Xvip5ic",
   "metadata": {
    "id": "Sd3v1Xvip5ic"
   },
   "outputs": [
    {
     "name": "stdout",
     "output_type": "stream",
     "text": [
      "(178, 2)\n"
     ]
    }
   ],
   "source": [
    "X_scaled = StandardScaler().fit_transform(X)\n",
    "lda = LinearDiscriminantAnalysis(n_components=2)\n",
    "lda.fit(X_scaled, y)\n",
    "X_lda = lda.transform(X_scaled)\n",
    "print(X_lda.shape)"
   ]
  },
  {
   "cell_type": "markdown",
   "id": "x2o8t9xYp6iC",
   "metadata": {
    "id": "x2o8t9xYp6iC"
   },
   "source": [
    "### 3.7 2차원 평면에 표현해주세요. 교재 395페이지를 참조해주세요."
   ]
  },
  {
   "cell_type": "code",
   "execution_count": 75,
   "id": "TZpMgtciqFq8",
   "metadata": {
    "id": "TZpMgtciqFq8"
   },
   "outputs": [
    {
     "data": {
      "image/png": "[encoded data removed]",
      "text/plain": [
       "<Figure size 432x288 with 1 Axes>"
      ]
     },
     "metadata": {
      "needs_background": "light"
     },
     "output_type": "display_data"
    }
   ],
   "source": [
    "import pandas as pd\n",
    "import matplotlib.pyplot as plt\n",
    "%matplotlib inline\n",
    "\n",
    "lda_columns = ['lda_component_1', 'lda_component_2']\n",
    "XDF_lda = pd.DataFrame(X_lda, columns=lda_columns)\n",
    "XDF_lda['target']=wine.target\n",
    "\n",
    "markers=['^', 's', 'o']\n",
    "\n",
    "for i, marker in enumerate(markers):\n",
    "    x_axis_data = XDF_lda[XDF_lda['target']==i]['lda_component_1']\n",
    "    y_axis_data = XDF_lda[XDF_lda['target']==i]['lda_component_2']\n",
    "    \n",
    "    plt.scatter(x_axis_data, y_axis_data, marker=marker, label=wine.target_names[i])\n",
    "    \n",
    "\n",
    "plt.legend(loc='upper right')\n",
    "plt.xlabel('lda_component_1')\n",
    "plt.ylabel('lda_component_2')\n",
    "plt.show()"
   ]
  },
  {
   "cell_type": "code",
   "execution_count": null,
   "id": "ac2857b3",
   "metadata": {},
   "outputs": [],
   "source": []
  }
 ],
 "metadata": {
  "colab": {
   "provenance": []
  },
  "hide_input": false,
  "kernelspec": {
   "display_name": "Python 3 (ipykernel)",
   "language": "python",
   "name": "python3"
  },
  "language_info": {
   "codemirror_mode": {
    "name": "ipython",
    "version": 3
   },
   "file_extension": ".py",
   "mimetype": "text/x-python",
   "name": "python",
   "nbconvert_exporter": "python",
   "pygments_lexer": "ipython3",
   "version": "3.9.12"
  },
  "toc": {
   "base_numbering": 1,
   "nav_menu": {},
   "number_sections": true,
   "sideBar": true,
   "skip_h1_title": false,
   "title_cell": "Table of Contents",
   "title_sidebar": "Contents",
   "toc_cell": false,
   "toc_position": {},
   "toc_section_display": true,
   "toc_window_display": false
  }
 },
 "nbformat": 4,
 "nbformat_minor": 5
}
