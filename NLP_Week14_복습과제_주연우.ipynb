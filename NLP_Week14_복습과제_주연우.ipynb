{
  "nbformat": 4,
  "nbformat_minor": 0,
  "metadata": {
    "colab": {
      "provenance": []
    },
    "kernelspec": {
      "name": "python3",
      "display_name": "Python 3"
    },
    "language_info": {
      "name": "python"
    }
  },
  "cells": [
    {
      "cell_type": "markdown",
      "source": [
        "📌  **상단의 '파일-드라이브에 사본 저장' 해서 본인 드라이브에 저장된 사본 이용해서 실습 해주세요!!**\n",
        "\n",
        "📌 week14 복습과제는 **Coreference resolution 실습**으로 구성되어 있습니다.\n",
        "\n",
        "\n",
        "📌 안내된 링크에 맞추어 **직접 코드를 따라 치면서 (필사)** 해당 nlp task 의 기본적인 라이브러리와 메서드를 숙지해보시면 좋을 것 같습니다😊 필수라고 체크한 부분은 과제에 반드시 포함시켜주시고, 선택으로 체크한 부분은 자율적으로 스터디 하시면 됩니다.\n",
        "\n",
        "📌 궁금한 사항은 깃허브 이슈나, 카톡방, 세션 발표 시작 이전 시간 등을 활용하여 자유롭게 공유해주세요!"
      ],
      "metadata": {
        "id": "BX3ac8Ag1RPC"
      }
    },
    {
      "cell_type": "code",
      "source": [
        "# colab 환경에서 실행시 필요한 코드입니다. \n",
        "# Install spaCy and neuralcoref with correct versions \n",
        "\n",
        "!pip install -U spacy==2.0.8 \n",
        "\n",
        "!python -m spacy download en\n",
        "\n",
        "!pip uninstall -y neuralcoref \n",
        "\n",
        "!pip install neuralcoref --no-binary neuralcoref"
      ],
      "metadata": {
        "id": "4JEquLR91VBe",
        "colab": {
          "base_uri": "https://localhost:8080/",
          "height": 1000
        },
        "outputId": "b47155c2-54a5-41d2-e16a-3ae114084eb6"
      },
      "execution_count": 15,
      "outputs": [
        {
          "output_type": "stream",
          "name": "stdout",
          "text": [
            "Looking in indexes: https://pypi.org/simple, https://us-python.pkg.dev/colab-wheels/public/simple/\n",
            "Collecting spacy==2.0.8\n",
            "  Downloading spacy-2.0.8.tar.gz (17.5 MB)\n",
            "\u001b[K     |████████████████████████████████| 17.5 MB 1.2 MB/s \n",
            "\u001b[?25hRequirement already satisfied: numpy>=1.7 in /usr/local/lib/python3.8/dist-packages (from spacy==2.0.8) (1.21.6)\n",
            "Collecting murmurhash<0.29,>=0.28\n",
            "  Downloading murmurhash-0.28.0.tar.gz (23 kB)\n",
            "Collecting cymem<1.32,>=1.30\n",
            "  Downloading cymem-1.31.2.tar.gz (33 kB)\n",
            "Collecting preshed<2.0.0,>=1.0.0\n",
            "  Downloading preshed-1.0.1.tar.gz (112 kB)\n",
            "\u001b[K     |████████████████████████████████| 112 kB 57.4 MB/s \n",
            "\u001b[?25hCollecting thinc<6.11.0,>=6.10.1\n",
            "  Downloading thinc-6.10.3.tar.gz (1.2 MB)\n",
            "\u001b[K     |████████████████████████████████| 1.2 MB 51.2 MB/s \n",
            "\u001b[?25hCollecting plac<1.0.0,>=0.9.6\n",
            "  Using cached plac-0.9.6-py2.py3-none-any.whl (20 kB)\n",
            "Requirement already satisfied: six in /usr/local/lib/python3.8/dist-packages (from spacy==2.0.8) (1.15.0)\n",
            "Collecting html5lib==1.0b8\n",
            "  Downloading html5lib-1.0b8.tar.gz (889 kB)\n",
            "\u001b[K     |████████████████████████████████| 889 kB 66.7 MB/s \n",
            "\u001b[?25hRequirement already satisfied: pathlib in /usr/local/lib/python3.8/dist-packages (from spacy==2.0.8) (1.0.1)\n",
            "Collecting ujson>=1.35\n",
            "  Downloading ujson-5.6.0-cp38-cp38-manylinux_2_17_x86_64.manylinux2014_x86_64.whl (52 kB)\n",
            "\u001b[K     |████████████████████████████████| 52 kB 32 kB/s \n",
            "\u001b[?25hCollecting dill<0.3,>=0.2\n",
            "  Downloading dill-0.2.9.tar.gz (150 kB)\n",
            "\u001b[K     |████████████████████████████████| 150 kB 53.4 MB/s \n",
            "\u001b[?25hRequirement already satisfied: requests<3.0.0,>=2.13.0 in /usr/local/lib/python3.8/dist-packages (from spacy==2.0.8) (2.23.0)\n",
            "Collecting regex==2017.4.5\n",
            "  Downloading regex-2017.04.05.tar.gz (601 kB)\n",
            "\u001b[K     |████████████████████████████████| 601 kB 63.5 MB/s \n",
            "\u001b[?25hCollecting ftfy<5.0.0,>=4.4.2\n",
            "  Downloading ftfy-4.4.3.tar.gz (50 kB)\n",
            "\u001b[K     |████████████████████████████████| 50 kB 6.8 MB/s \n",
            "\u001b[?25hCollecting msgpack-python\n",
            "  Downloading msgpack-python-0.5.6.tar.gz (138 kB)\n",
            "\u001b[K     |████████████████████████████████| 138 kB 67.7 MB/s \n",
            "\u001b[?25hCollecting msgpack-numpy==0.4.1\n",
            "  Downloading msgpack_numpy-0.4.1-py2.py3-none-any.whl (7.0 kB)\n",
            "Requirement already satisfied: wcwidth in /usr/local/lib/python3.8/dist-packages (from ftfy<5.0.0,>=4.4.2->spacy==2.0.8) (0.2.5)\n",
            "Requirement already satisfied: chardet<4,>=3.0.2 in /usr/local/lib/python3.8/dist-packages (from requests<3.0.0,>=2.13.0->spacy==2.0.8) (3.0.4)\n",
            "Requirement already satisfied: urllib3!=1.25.0,!=1.25.1,<1.26,>=1.21.1 in /usr/local/lib/python3.8/dist-packages (from requests<3.0.0,>=2.13.0->spacy==2.0.8) (1.25.11)\n",
            "Requirement already satisfied: certifi>=2017.4.17 in /usr/local/lib/python3.8/dist-packages (from requests<3.0.0,>=2.13.0->spacy==2.0.8) (2022.12.7)\n",
            "Requirement already satisfied: idna<3,>=2.5 in /usr/local/lib/python3.8/dist-packages (from requests<3.0.0,>=2.13.0->spacy==2.0.8) (2.10)\n",
            "Collecting msgpack<1.0.0,>=0.5.6\n",
            "  Downloading msgpack-0.6.2.tar.gz (119 kB)\n",
            "\u001b[K     |████████████████████████████████| 119 kB 59.4 MB/s \n",
            "\u001b[?25hCollecting cytoolz<0.10,>=0.9.0\n",
            "  Downloading cytoolz-0.9.0.1.tar.gz (443 kB)\n",
            "\u001b[K     |████████████████████████████████| 443 kB 57.8 MB/s \n",
            "\u001b[?25hCollecting wrapt<1.11.0,>=1.10.0\n",
            "  Using cached wrapt-1.10.11-cp38-cp38-linux_x86_64.whl\n",
            "Requirement already satisfied: tqdm<5.0.0,>=4.10.0 in /usr/local/lib/python3.8/dist-packages (from thinc<6.11.0,>=6.10.1->spacy==2.0.8) (4.64.1)\n",
            "Requirement already satisfied: toolz>=0.8.0 in /usr/local/lib/python3.8/dist-packages (from cytoolz<0.10,>=0.9.0->thinc<6.11.0,>=6.10.1->spacy==2.0.8) (0.12.0)\n",
            "Building wheels for collected packages: spacy, html5lib, regex, cymem, dill, ftfy, msgpack-python, murmurhash, preshed, thinc, cytoolz, msgpack\n",
            "  Building wheel for spacy (setup.py) ... \u001b[?25l\u001b[?25hdone\n",
            "  Created wheel for spacy: filename=spacy-2.0.8-cp38-cp38-linux_x86_64.whl size=25836268 sha256=3df693bf9ea843d3521b2be4d7ff7939ca63d8eeb49edca8ef863fbb08f3b829\n",
            "  Stored in directory: /root/.cache/pip/wheels/1d/62/3e/02135512ca47b177ebdb329cb9a5b6aeb4e978e0535ee6e0cd\n",
            "  Building wheel for html5lib (setup.py) ... \u001b[?25l\u001b[?25hdone\n",
            "  Created wheel for html5lib: filename=html5lib-1.0b8-py3-none-any.whl size=107191 sha256=50f1b4edcb0bf7f116a13c246bf4cec39bc6882956b113a800ab0f1f679f5532\n",
            "  Stored in directory: /root/.cache/pip/wheels/b3/39/df/1ff439ec522c19a4fb0fc2b98e8766e06d5631b533e23e4c58\n",
            "  Building wheel for regex (setup.py) ... \u001b[?25l\u001b[?25hdone\n",
            "  Created wheel for regex: filename=regex-2017.4.5-cp38-cp38-linux_x86_64.whl size=553523 sha256=417435158d78a2b1584c43e5e4e48f8637465748f3201c219be8e0e09c2f6a9f\n",
            "  Stored in directory: /root/.cache/pip/wheels/45/6d/d9/1c9b861321c9240122cb967b734a80545c9f465be4fcb16f19\n",
            "  Building wheel for cymem (setup.py) ... \u001b[?25l\u001b[?25hdone\n",
            "  Created wheel for cymem: filename=cymem-1.31.2-cp38-cp38-linux_x86_64.whl size=81530 sha256=95e6b389f8fdb6d6dec633a83e15b9c20852c0dd27ab036b8eb14273f6d620ed\n",
            "  Stored in directory: /root/.cache/pip/wheels/7d/79/cb/1a676ab9c2ea1be46f7d4ce7c687dac4aac9d45ee9935ed6e3\n",
            "  Building wheel for dill (setup.py) ... \u001b[?25l\u001b[?25hdone\n",
            "  Created wheel for dill: filename=dill-0.2.9-py3-none-any.whl size=77421 sha256=2f47bf8818d8819ac48efb08804a8b42134003984d96e7fb3be40a3b462cdb43\n",
            "  Stored in directory: /root/.cache/pip/wheels/da/03/f6/41ff217c2d88b1446b2d593d5b7433b9e823f1ee52e798e4f2\n",
            "  Building wheel for ftfy (setup.py) ... \u001b[?25l\u001b[?25hdone\n",
            "  Created wheel for ftfy: filename=ftfy-4.4.3-py3-none-any.whl size=41082 sha256=b5793aeadfc0d6e97cc95edc572298ab299b19b05089c2b4328e45a9578f4db5\n",
            "  Stored in directory: /root/.cache/pip/wheels/97/ea/83/0ea1632b87aa8a3ecdc2c3914d7dc786ed2ff37eb9e9242f3a\n",
            "  Building wheel for msgpack-python (setup.py) ... \u001b[?25l\u001b[?25hdone\n",
            "  Created wheel for msgpack-python: filename=msgpack_python-0.5.6-cp38-cp38-linux_x86_64.whl size=353834 sha256=88b8a4daa2c42d5b9641e8c4e76b50d3252815e6cce3db3f8e9cd45f0f4851e6\n",
            "  Stored in directory: /root/.cache/pip/wheels/03/7f/e7/8ec405fe5220fe1401be3dfa943f6e1f10b525f54f68d75e0a\n",
            "  Building wheel for murmurhash (setup.py) ... \u001b[?25l\u001b[?25hdone\n",
            "  Created wheel for murmurhash: filename=murmurhash-0.28.0-cp38-cp38-linux_x86_64.whl size=42814 sha256=78f454c6c4173cce2fc38771548f7dd731adf065fb6286ef3e2014f96558e24c\n",
            "  Stored in directory: /root/.cache/pip/wheels/c4/94/18/da70ce5a85c38612b346994f18e348e28e8c6006f6b2daf784\n",
            "  Building wheel for preshed (setup.py) ... \u001b[?25l\u001b[?25hdone\n",
            "  Created wheel for preshed: filename=preshed-1.0.1-cp38-cp38-linux_x86_64.whl size=350384 sha256=6de1b97f3ee5c5608e066be9783c12bf2c254f30153dd3393cfe5820d5f38370\n",
            "  Stored in directory: /root/.cache/pip/wheels/49/19/ca/7c61cfaa11914a9f562cd0d1f3ee745c049d1eef08d458e995\n",
            "  Building wheel for thinc (setup.py) ... \u001b[?25lerror\n",
            "\u001b[31m  ERROR: Failed building wheel for thinc\u001b[0m\n",
            "\u001b[?25h  Running setup.py clean for thinc\n",
            "  Building wheel for cytoolz (setup.py) ... \u001b[?25l\u001b[?25hdone\n",
            "  Created wheel for cytoolz: filename=cytoolz-0.9.0.1-cp38-cp38-linux_x86_64.whl size=1472934 sha256=60ce885cdd604437261699bbffb052df502b02203819ed2e0c4df98940ba7b11\n",
            "  Stored in directory: /root/.cache/pip/wheels/6f/49/e5/c1170703a39737d0b37581805c6d5b8cb99a430814e52c7a07\n",
            "  Building wheel for msgpack (setup.py) ... \u001b[?25l\u001b[?25hdone\n",
            "  Created wheel for msgpack: filename=msgpack-0.6.2-cp38-cp38-linux_x86_64.whl size=250879 sha256=b2fdd2f737b3d28aa00422a7f9c3a3b7671a2a955caed9fc28c15de921cee217\n",
            "  Stored in directory: /root/.cache/pip/wheels/5d/f2/04/0d19c10080b996bef17c908a6243e6e65d8da1a4094a3f604d\n",
            "Successfully built spacy html5lib regex cymem dill ftfy msgpack-python murmurhash preshed cytoolz msgpack\n",
            "Failed to build thinc\n",
            "Installing collected packages: msgpack-python, cymem, wrapt, preshed, plac, murmurhash, msgpack-numpy, msgpack, html5lib, dill, cytoolz, ujson, thinc, regex, ftfy, spacy\n",
            "  Attempting uninstall: cymem\n",
            "    Found existing installation: cymem 2.0.7\n",
            "    Uninstalling cymem-2.0.7:\n",
            "      Successfully uninstalled cymem-2.0.7\n",
            "  Attempting uninstall: wrapt\n",
            "    Found existing installation: wrapt 1.14.1\n",
            "    Uninstalling wrapt-1.14.1:\n",
            "      Successfully uninstalled wrapt-1.14.1\n",
            "  Attempting uninstall: preshed\n",
            "    Found existing installation: preshed 3.0.8\n",
            "    Uninstalling preshed-3.0.8:\n",
            "      Successfully uninstalled preshed-3.0.8\n",
            "  Attempting uninstall: murmurhash\n",
            "    Found existing installation: murmurhash 1.0.9\n",
            "    Uninstalling murmurhash-1.0.9:\n",
            "      Successfully uninstalled murmurhash-1.0.9\n",
            "  Attempting uninstall: msgpack\n",
            "    Found existing installation: msgpack 1.0.4\n",
            "    Uninstalling msgpack-1.0.4:\n",
            "      Successfully uninstalled msgpack-1.0.4\n",
            "  Attempting uninstall: html5lib\n",
            "    Found existing installation: html5lib 1.0.1\n",
            "    Uninstalling html5lib-1.0.1:\n",
            "      Successfully uninstalled html5lib-1.0.1\n",
            "  Attempting uninstall: dill\n",
            "    Found existing installation: dill 0.3.6\n",
            "    Uninstalling dill-0.3.6:\n",
            "      Successfully uninstalled dill-0.3.6\n",
            "  Attempting uninstall: thinc\n",
            "    Found existing installation: thinc 8.1.5\n",
            "    Uninstalling thinc-8.1.5:\n",
            "      Successfully uninstalled thinc-8.1.5\n",
            "    Running setup.py install for thinc ... \u001b[?25l\u001b[?25herror\n",
            "  Rolling back uninstall of thinc\n",
            "  Moving to /usr/local/lib/python3.8/dist-packages/thinc-8.1.5.dist-info/\n",
            "   from /usr/local/lib/python3.8/dist-packages/~hinc-8.1.5.dist-info\n",
            "  Moving to /usr/local/lib/python3.8/dist-packages/thinc/\n",
            "   from /usr/local/lib/python3.8/dist-packages/~hinc\n",
            "\u001b[31mERROR: Command errored out with exit status 1: /usr/bin/python3 -u -c 'import io, os, sys, setuptools, tokenize; sys.argv[0] = '\"'\"'/tmp/pip-install-by9_9c8b/thinc_8588d18f8e0c4d688de574d196b005c3/setup.py'\"'\"'; __file__='\"'\"'/tmp/pip-install-by9_9c8b/thinc_8588d18f8e0c4d688de574d196b005c3/setup.py'\"'\"';f = getattr(tokenize, '\"'\"'open'\"'\"', open)(__file__) if os.path.exists(__file__) else io.StringIO('\"'\"'from setuptools import setup; setup()'\"'\"');code = f.read().replace('\"'\"'\\r\\n'\"'\"', '\"'\"'\\n'\"'\"');f.close();exec(compile(code, __file__, '\"'\"'exec'\"'\"'))' install --record /tmp/pip-record-z3qwszwq/install-record.txt --single-version-externally-managed --compile --install-headers /usr/local/include/python3.8/thinc Check the logs for full command output.\u001b[0m\n",
            "/usr/local/lib/python3.8/dist-packages/torch/cuda/__init__.py:497: UserWarning: Can't initialize NVML\n",
            "  warnings.warn(\"Can't initialize NVML\")\n",
            "2022-12-19 16:21:32.072790: E tensorflow/stream_executor/cuda/cuda_driver.cc:271] failed call to cuInit: CUDA_ERROR_NO_DEVICE: no CUDA-capable device is detected\n",
            "Traceback (most recent call last):\n",
            "  File \"/usr/lib/python3.8/runpy.py\", line 185, in _run_module_as_main\n",
            "    mod_name, mod_spec, code = _get_module_details(mod_name, _Error)\n",
            "  File \"/usr/lib/python3.8/runpy.py\", line 144, in _get_module_details\n",
            "    return _get_module_details(pkg_main_name, error)\n",
            "  File \"/usr/lib/python3.8/runpy.py\", line 111, in _get_module_details\n",
            "    __import__(pkg_name)\n",
            "  File \"/usr/local/lib/python3.8/dist-packages/spacy/__init__.py\", line 6, in <module>\n",
            "    from .errors import setup_default_warnings\n",
            "  File \"/usr/local/lib/python3.8/dist-packages/spacy/errors.py\", line 2, in <module>\n",
            "    from .compat import Literal\n",
            "  File \"/usr/local/lib/python3.8/dist-packages/spacy/compat.py\", line 38, in <module>\n",
            "    from thinc.api import Optimizer  # noqa: F401\n",
            "  File \"/usr/local/lib/python3.8/dist-packages/thinc/api.py\", line 2, in <module>\n",
            "    from .initializers import normal_init, uniform_init, glorot_uniform_init, zero_init\n",
            "  File \"/usr/local/lib/python3.8/dist-packages/thinc/initializers.py\", line 4, in <module>\n",
            "    from .backends import Ops\n",
            "  File \"/usr/local/lib/python3.8/dist-packages/thinc/backends/__init__.py\", line 8, in <module>\n",
            "    from .cupy_ops import CupyOps\n",
            "  File \"/usr/local/lib/python3.8/dist-packages/thinc/backends/cupy_ops.py\", line 4, in <module>\n",
            "    from .numpy_ops import NumpyOps\n",
            "  File \"thinc/backends/numpy_ops.pyx\", line 1, in init thinc.backends.numpy_ops\n",
            "AttributeError: module 'cymem.cymem' has no attribute 'PyMalloc'\n",
            "Found existing installation: neuralcoref 4.0\n",
            "Uninstalling neuralcoref-4.0:\n",
            "  Successfully uninstalled neuralcoref-4.0\n",
            "Looking in indexes: https://pypi.org/simple, https://us-python.pkg.dev/colab-wheels/public/simple/\n",
            "Collecting neuralcoref\n",
            "  Using cached neuralcoref-4.0.tar.gz (368 kB)\n",
            "Requirement already satisfied: numpy>=1.15.0 in /usr/local/lib/python3.8/dist-packages (from neuralcoref) (1.21.6)\n",
            "Requirement already satisfied: boto3 in /usr/local/lib/python3.8/dist-packages (from neuralcoref) (1.26.32)\n",
            "Requirement already satisfied: requests<3.0.0,>=2.13.0 in /usr/local/lib/python3.8/dist-packages (from neuralcoref) (2.23.0)\n",
            "Requirement already satisfied: spacy>=2.1.0 in /usr/local/lib/python3.8/dist-packages (from neuralcoref) (3.4.4)\n",
            "Requirement already satisfied: chardet<4,>=3.0.2 in /usr/local/lib/python3.8/dist-packages (from requests<3.0.0,>=2.13.0->neuralcoref) (3.0.4)\n",
            "Requirement already satisfied: certifi>=2017.4.17 in /usr/local/lib/python3.8/dist-packages (from requests<3.0.0,>=2.13.0->neuralcoref) (2022.12.7)\n",
            "Requirement already satisfied: idna<3,>=2.5 in /usr/local/lib/python3.8/dist-packages (from requests<3.0.0,>=2.13.0->neuralcoref) (2.10)\n",
            "Requirement already satisfied: urllib3!=1.25.0,!=1.25.1,<1.26,>=1.21.1 in /usr/local/lib/python3.8/dist-packages (from requests<3.0.0,>=2.13.0->neuralcoref) (1.25.11)\n",
            "Collecting preshed<3.1.0,>=3.0.2\n",
            "  Using cached preshed-3.0.8-cp38-cp38-manylinux_2_5_x86_64.manylinux1_x86_64.manylinux_2_17_x86_64.manylinux2014_x86_64.whl (130 kB)\n",
            "Requirement already satisfied: thinc<8.2.0,>=8.1.0 in /usr/local/lib/python3.8/dist-packages (from spacy>=2.1.0->neuralcoref) (8.1.5)\n",
            "Requirement already satisfied: langcodes<4.0.0,>=3.2.0 in /usr/local/lib/python3.8/dist-packages (from spacy>=2.1.0->neuralcoref) (3.3.0)\n",
            "Requirement already satisfied: tqdm<5.0.0,>=4.38.0 in /usr/local/lib/python3.8/dist-packages (from spacy>=2.1.0->neuralcoref) (4.64.1)\n",
            "Collecting cymem<2.1.0,>=2.0.2\n",
            "  Using cached cymem-2.0.7-cp38-cp38-manylinux_2_17_x86_64.manylinux2014_x86_64.whl (36 kB)\n",
            "Requirement already satisfied: setuptools in /usr/local/lib/python3.8/dist-packages (from spacy>=2.1.0->neuralcoref) (57.4.0)\n",
            "Requirement already satisfied: spacy-legacy<3.1.0,>=3.0.10 in /usr/local/lib/python3.8/dist-packages (from spacy>=2.1.0->neuralcoref) (3.0.10)\n",
            "Requirement already satisfied: catalogue<2.1.0,>=2.0.6 in /usr/local/lib/python3.8/dist-packages (from spacy>=2.1.0->neuralcoref) (2.0.8)\n",
            "Requirement already satisfied: smart-open<7.0.0,>=5.2.1 in /usr/local/lib/python3.8/dist-packages (from spacy>=2.1.0->neuralcoref) (6.3.0)\n",
            "Requirement already satisfied: srsly<3.0.0,>=2.4.3 in /usr/local/lib/python3.8/dist-packages (from spacy>=2.1.0->neuralcoref) (2.4.5)\n",
            "Requirement already satisfied: spacy-loggers<2.0.0,>=1.0.0 in /usr/local/lib/python3.8/dist-packages (from spacy>=2.1.0->neuralcoref) (1.0.4)\n",
            "Requirement already satisfied: packaging>=20.0 in /usr/local/lib/python3.8/dist-packages (from spacy>=2.1.0->neuralcoref) (21.3)\n",
            "Requirement already satisfied: jinja2 in /usr/local/lib/python3.8/dist-packages (from spacy>=2.1.0->neuralcoref) (2.11.3)\n",
            "Requirement already satisfied: murmurhash<1.1.0,>=0.28.0 in /usr/local/lib/python3.8/dist-packages (from spacy>=2.1.0->neuralcoref) (0.28.0)\n",
            "Requirement already satisfied: wasabi<1.1.0,>=0.9.1 in /usr/local/lib/python3.8/dist-packages (from spacy>=2.1.0->neuralcoref) (0.10.1)\n",
            "Requirement already satisfied: typer<0.8.0,>=0.3.0 in /usr/local/lib/python3.8/dist-packages (from spacy>=2.1.0->neuralcoref) (0.7.0)\n",
            "Requirement already satisfied: pathy>=0.3.5 in /usr/local/lib/python3.8/dist-packages (from spacy>=2.1.0->neuralcoref) (0.10.1)\n",
            "Requirement already satisfied: pydantic!=1.8,!=1.8.1,<1.11.0,>=1.7.4 in /usr/local/lib/python3.8/dist-packages (from spacy>=2.1.0->neuralcoref) (1.10.2)\n",
            "Requirement already satisfied: pyparsing!=3.0.5,>=2.0.2 in /usr/local/lib/python3.8/dist-packages (from packaging>=20.0->spacy>=2.1.0->neuralcoref) (3.0.9)\n",
            "Requirement already satisfied: typing-extensions>=4.1.0 in /usr/local/lib/python3.8/dist-packages (from pydantic!=1.8,!=1.8.1,<1.11.0,>=1.7.4->spacy>=2.1.0->neuralcoref) (4.4.0)\n",
            "Requirement already satisfied: blis<0.8.0,>=0.7.8 in /usr/local/lib/python3.8/dist-packages (from thinc<8.2.0,>=8.1.0->spacy>=2.1.0->neuralcoref) (0.7.9)\n",
            "Requirement already satisfied: confection<1.0.0,>=0.0.1 in /usr/local/lib/python3.8/dist-packages (from thinc<8.2.0,>=8.1.0->spacy>=2.1.0->neuralcoref) (0.0.3)\n",
            "Collecting murmurhash<1.1.0,>=0.28.0\n",
            "  Using cached murmurhash-1.0.9-cp38-cp38-manylinux_2_5_x86_64.manylinux1_x86_64.manylinux_2_17_x86_64.manylinux2014_x86_64.whl (21 kB)\n",
            "Requirement already satisfied: click<9.0.0,>=7.1.1 in /usr/local/lib/python3.8/dist-packages (from typer<0.8.0,>=0.3.0->spacy>=2.1.0->neuralcoref) (7.1.2)\n",
            "Requirement already satisfied: s3transfer<0.7.0,>=0.6.0 in /usr/local/lib/python3.8/dist-packages (from boto3->neuralcoref) (0.6.0)\n",
            "Requirement already satisfied: jmespath<2.0.0,>=0.7.1 in /usr/local/lib/python3.8/dist-packages (from boto3->neuralcoref) (1.0.1)\n",
            "Requirement already satisfied: botocore<1.30.0,>=1.29.32 in /usr/local/lib/python3.8/dist-packages (from boto3->neuralcoref) (1.29.32)\n",
            "Requirement already satisfied: python-dateutil<3.0.0,>=2.1 in /usr/local/lib/python3.8/dist-packages (from botocore<1.30.0,>=1.29.32->boto3->neuralcoref) (2.8.2)\n",
            "Requirement already satisfied: six>=1.5 in /usr/local/lib/python3.8/dist-packages (from python-dateutil<3.0.0,>=2.1->botocore<1.30.0,>=1.29.32->boto3->neuralcoref) (1.15.0)\n",
            "Requirement already satisfied: MarkupSafe>=0.23 in /usr/local/lib/python3.8/dist-packages (from jinja2->spacy>=2.1.0->neuralcoref) (2.0.1)\n",
            "Skipping wheel build for neuralcoref, due to binaries being disabled for it.\n",
            "Installing collected packages: murmurhash, cymem, preshed, neuralcoref\n",
            "  Attempting uninstall: murmurhash\n",
            "    Found existing installation: murmurhash 0.28.0\n",
            "    Uninstalling murmurhash-0.28.0:\n",
            "      Successfully uninstalled murmurhash-0.28.0\n",
            "  Attempting uninstall: cymem\n",
            "    Found existing installation: cymem 1.31.2\n",
            "    Uninstalling cymem-1.31.2:\n",
            "      Successfully uninstalled cymem-1.31.2\n",
            "  Attempting uninstall: preshed\n",
            "    Found existing installation: preshed 1.0.1\n",
            "    Uninstalling preshed-1.0.1:\n",
            "      Successfully uninstalled preshed-1.0.1\n",
            "    Running setup.py install for neuralcoref ... \u001b[?25l\u001b[?25hdone\n",
            "Successfully installed cymem-2.0.7 murmurhash-1.0.9 neuralcoref-4.0 preshed-3.0.8\n"
          ]
        },
        {
          "output_type": "display_data",
          "data": {
            "application/vnd.colab-display-data+json": {
              "pip_warning": {
                "packages": [
                  "cymem",
                  "murmurhash",
                  "preshed"
                ]
              }
            }
          },
          "metadata": {}
        }
      ]
    },
    {
      "cell_type": "markdown",
      "source": [
        "🥰 **이하 예제를 실습하시면 됩니다.**"
      ],
      "metadata": {
        "id": "Kq8aMYKGPQR0"
      }
    },
    {
      "cell_type": "markdown",
      "source": [
        "### **Coreference resolution 실습**"
      ],
      "metadata": {
        "id": "SHTPAk95iNtP"
      }
    },
    {
      "cell_type": "markdown",
      "source": [
        "📌 [Coreference resolution library 이용 실습](https://kaveeshabaddage.medium.com/how-to-resolve-coreference-resolution-using-python-97fcd6b2cedb) \n",
        "\n",
        "* Coreference resolution은 언어학적 지식이 많이 필요하고 이론적인 내용이 많아서 실습할 코드가 많지는 않습니다. \n",
        "* 따라서 코드도 몇 줄 되지 않지만, 위의 링크에 있는 코드를 필사하며 라이브러리 사용 실습을 해보시면 됩니다."
      ],
      "metadata": {
        "id": "9L-jAHPkiBV0"
      }
    },
    {
      "cell_type": "code",
      "source": [
        "import spacy\n",
        "import neuralcoref"
      ],
      "metadata": {
        "id": "Klj6gjETZdgS",
        "colab": {
          "base_uri": "https://localhost:8080/",
          "height": 251
        },
        "outputId": "f6090e69-ccfd-4eaf-dac3-0c953ec89112"
      },
      "execution_count": 17,
      "outputs": [
        {
          "output_type": "error",
          "ename": "AttributeError",
          "evalue": "ignored",
          "traceback": [
            "\u001b[0;31m---------------------------------------------------------------------------\u001b[0m",
            "\u001b[0;31mAttributeError\u001b[0m                            Traceback (most recent call last)",
            "\u001b[0;32m<ipython-input-17-bae0514ba508>\u001b[0m in \u001b[0;36m<module>\u001b[0;34m\u001b[0m\n\u001b[1;32m      1\u001b[0m \u001b[0;32mimport\u001b[0m \u001b[0mspacy\u001b[0m\u001b[0;34m\u001b[0m\u001b[0;34m\u001b[0m\u001b[0m\n\u001b[0;32m----> 2\u001b[0;31m \u001b[0;32mimport\u001b[0m \u001b[0mneuralcoref\u001b[0m\u001b[0;34m\u001b[0m\u001b[0;34m\u001b[0m\u001b[0m\n\u001b[0m",
            "\u001b[0;32m/usr/local/lib/python3.8/dist-packages/neuralcoref/__init__.py\u001b[0m in \u001b[0;36m<module>\u001b[0;34m\u001b[0m\n\u001b[1;32m     12\u001b[0m \u001b[0mwarnings\u001b[0m\u001b[0;34m.\u001b[0m\u001b[0mfilterwarnings\u001b[0m\u001b[0;34m(\u001b[0m\u001b[0;34m\"ignore\"\u001b[0m\u001b[0;34m,\u001b[0m \u001b[0mmessage\u001b[0m\u001b[0;34m=\u001b[0m\u001b[0;34m\"spacy.strings.StringStore size changed,\"\u001b[0m\u001b[0;34m)\u001b[0m\u001b[0;34m\u001b[0m\u001b[0;34m\u001b[0m\u001b[0m\n\u001b[1;32m     13\u001b[0m \u001b[0;34m\u001b[0m\u001b[0m\n\u001b[0;32m---> 14\u001b[0;31m \u001b[0;32mfrom\u001b[0m \u001b[0;34m.\u001b[0m\u001b[0mneuralcoref\u001b[0m \u001b[0;32mimport\u001b[0m \u001b[0mNeuralCoref\u001b[0m\u001b[0;34m\u001b[0m\u001b[0;34m\u001b[0m\u001b[0m\n\u001b[0m\u001b[1;32m     15\u001b[0m \u001b[0;32mfrom\u001b[0m \u001b[0;34m.\u001b[0m\u001b[0mfile_utils\u001b[0m \u001b[0;32mimport\u001b[0m \u001b[0mNEURALCOREF_MODEL_URL\u001b[0m\u001b[0;34m,\u001b[0m \u001b[0mNEURALCOREF_MODEL_PATH\u001b[0m\u001b[0;34m,\u001b[0m \u001b[0mNEURALCOREF_CACHE\u001b[0m\u001b[0;34m,\u001b[0m \u001b[0mcached_path\u001b[0m\u001b[0;34m\u001b[0m\u001b[0;34m\u001b[0m\u001b[0m\n\u001b[1;32m     16\u001b[0m \u001b[0;34m\u001b[0m\u001b[0m\n",
            "\u001b[0;32m/usr/local/lib/python3.8/dist-packages/neuralcoref/neuralcoref.cpython-38-x86_64-linux-gnu.so\u001b[0m in \u001b[0;36minit neuralcoref.neuralcoref\u001b[0;34m()\u001b[0m\n",
            "\u001b[0;31mAttributeError\u001b[0m: type object 'neuralcoref.neuralcoref.array' has no attribute '__reduce_cython__'"
          ]
        }
      ]
    },
    {
      "cell_type": "code",
      "source": [
        "nlp = spacy.load('en_core_web_sm')\n",
        "neuralcoref.add_to_pipe(nlp)"
      ],
      "metadata": {
        "id": "MsJZ9ldFiARK",
        "colab": {
          "base_uri": "https://localhost:8080/",
          "height": 190
        },
        "outputId": "3d563ab0-5bfe-4a02-b720-a037f36ffae3"
      },
      "execution_count": 18,
      "outputs": [
        {
          "output_type": "error",
          "ename": "NameError",
          "evalue": "ignored",
          "traceback": [
            "\u001b[0;31m---------------------------------------------------------------------------\u001b[0m",
            "\u001b[0;31mNameError\u001b[0m                                 Traceback (most recent call last)",
            "\u001b[0;32m<ipython-input-18-367932677f4f>\u001b[0m in \u001b[0;36m<module>\u001b[0;34m\u001b[0m\n\u001b[1;32m      1\u001b[0m \u001b[0mnlp\u001b[0m \u001b[0;34m=\u001b[0m \u001b[0mspacy\u001b[0m\u001b[0;34m.\u001b[0m\u001b[0mload\u001b[0m\u001b[0;34m(\u001b[0m\u001b[0;34m'en_core_web_sm'\u001b[0m\u001b[0;34m)\u001b[0m\u001b[0;34m\u001b[0m\u001b[0;34m\u001b[0m\u001b[0m\n\u001b[0;32m----> 2\u001b[0;31m \u001b[0mneuralcoref\u001b[0m\u001b[0;34m.\u001b[0m\u001b[0madd_to_pipe\u001b[0m\u001b[0;34m(\u001b[0m\u001b[0mnlp\u001b[0m\u001b[0;34m)\u001b[0m\u001b[0;34m\u001b[0m\u001b[0;34m\u001b[0m\u001b[0m\n\u001b[0m",
            "\u001b[0;31mNameError\u001b[0m: name 'neuralcoref' is not defined"
          ]
        }
      ]
    },
    {
      "cell_type": "code",
      "source": [
        "text = \" Alex said that he wants to go his home. Then Peter gave the key of his car to Alex saying that he needs it back on Monday. \""
      ],
      "metadata": {
        "id": "vxzfkDqWGOsO"
      },
      "execution_count": 19,
      "outputs": []
    },
    {
      "cell_type": "code",
      "source": [
        "doc = nlp(text)"
      ],
      "metadata": {
        "id": "LQqVVAhCGWwJ"
      },
      "execution_count": 20,
      "outputs": []
    },
    {
      "cell_type": "code",
      "source": [
        "print(doc._.coref_clusters)"
      ],
      "metadata": {
        "colab": {
          "base_uri": "https://localhost:8080/",
          "height": 299
        },
        "id": "_8qYC5mjGX77",
        "outputId": "81bcbaaf-3e36-446d-9073-1bc4662106e6"
      },
      "execution_count": 21,
      "outputs": [
        {
          "output_type": "error",
          "ename": "AttributeError",
          "evalue": "ignored",
          "traceback": [
            "\u001b[0;31m---------------------------------------------------------------------------\u001b[0m",
            "\u001b[0;31mAttributeError\u001b[0m                            Traceback (most recent call last)",
            "\u001b[0;32m<ipython-input-21-1356d32316e9>\u001b[0m in \u001b[0;36m<module>\u001b[0;34m\u001b[0m\n\u001b[0;32m----> 1\u001b[0;31m \u001b[0mprint\u001b[0m\u001b[0;34m(\u001b[0m\u001b[0mdoc\u001b[0m\u001b[0;34m.\u001b[0m\u001b[0m_\u001b[0m\u001b[0;34m.\u001b[0m\u001b[0mcoref_clusters\u001b[0m\u001b[0;34m)\u001b[0m\u001b[0;34m\u001b[0m\u001b[0;34m\u001b[0m\u001b[0m\n\u001b[0m",
            "\u001b[0;32m/usr/local/lib/python3.8/dist-packages/spacy/tokens/underscore.py\u001b[0m in \u001b[0;36m__getattr__\u001b[0;34m(self, name)\u001b[0m\n\u001b[1;32m     45\u001b[0m     \u001b[0;32mdef\u001b[0m \u001b[0m__getattr__\u001b[0m\u001b[0;34m(\u001b[0m\u001b[0mself\u001b[0m\u001b[0;34m,\u001b[0m \u001b[0mname\u001b[0m\u001b[0;34m:\u001b[0m \u001b[0mstr\u001b[0m\u001b[0;34m)\u001b[0m \u001b[0;34m->\u001b[0m \u001b[0mAny\u001b[0m\u001b[0;34m:\u001b[0m\u001b[0;34m\u001b[0m\u001b[0;34m\u001b[0m\u001b[0m\n\u001b[1;32m     46\u001b[0m         \u001b[0;32mif\u001b[0m \u001b[0mname\u001b[0m \u001b[0;32mnot\u001b[0m \u001b[0;32min\u001b[0m \u001b[0mself\u001b[0m\u001b[0;34m.\u001b[0m\u001b[0m_extensions\u001b[0m\u001b[0;34m:\u001b[0m\u001b[0;34m\u001b[0m\u001b[0;34m\u001b[0m\u001b[0m\n\u001b[0;32m---> 47\u001b[0;31m             \u001b[0;32mraise\u001b[0m \u001b[0mAttributeError\u001b[0m\u001b[0;34m(\u001b[0m\u001b[0mErrors\u001b[0m\u001b[0;34m.\u001b[0m\u001b[0mE046\u001b[0m\u001b[0;34m.\u001b[0m\u001b[0mformat\u001b[0m\u001b[0;34m(\u001b[0m\u001b[0mname\u001b[0m\u001b[0;34m=\u001b[0m\u001b[0mname\u001b[0m\u001b[0;34m)\u001b[0m\u001b[0;34m)\u001b[0m\u001b[0;34m\u001b[0m\u001b[0;34m\u001b[0m\u001b[0m\n\u001b[0m\u001b[1;32m     48\u001b[0m         \u001b[0mdefault\u001b[0m\u001b[0;34m,\u001b[0m \u001b[0mmethod\u001b[0m\u001b[0;34m,\u001b[0m \u001b[0mgetter\u001b[0m\u001b[0;34m,\u001b[0m \u001b[0msetter\u001b[0m \u001b[0;34m=\u001b[0m \u001b[0mself\u001b[0m\u001b[0;34m.\u001b[0m\u001b[0m_extensions\u001b[0m\u001b[0;34m[\u001b[0m\u001b[0mname\u001b[0m\u001b[0;34m]\u001b[0m\u001b[0;34m\u001b[0m\u001b[0;34m\u001b[0m\u001b[0m\n\u001b[1;32m     49\u001b[0m         \u001b[0;32mif\u001b[0m \u001b[0mgetter\u001b[0m \u001b[0;32mis\u001b[0m \u001b[0;32mnot\u001b[0m \u001b[0;32mNone\u001b[0m\u001b[0;34m:\u001b[0m\u001b[0;34m\u001b[0m\u001b[0;34m\u001b[0m\u001b[0m\n",
            "\u001b[0;31mAttributeError\u001b[0m: [E046] Can't retrieve unregistered extension attribute 'coref_clusters'. Did you forget to call the `set_extension` method?"
          ]
        }
      ]
    },
    {
      "cell_type": "code",
      "source": [
        "print(doc._.coref_resolved)"
      ],
      "metadata": {
        "colab": {
          "base_uri": "https://localhost:8080/",
          "height": 299
        },
        "id": "iDUMKYJPGame",
        "outputId": "0c129934-8b08-422c-8ec7-b11e6d3ec0c5"
      },
      "execution_count": 22,
      "outputs": [
        {
          "output_type": "error",
          "ename": "AttributeError",
          "evalue": "ignored",
          "traceback": [
            "\u001b[0;31m---------------------------------------------------------------------------\u001b[0m",
            "\u001b[0;31mAttributeError\u001b[0m                            Traceback (most recent call last)",
            "\u001b[0;32m<ipython-input-22-489b52a69d31>\u001b[0m in \u001b[0;36m<module>\u001b[0;34m\u001b[0m\n\u001b[0;32m----> 1\u001b[0;31m \u001b[0mprint\u001b[0m\u001b[0;34m(\u001b[0m\u001b[0mdoc\u001b[0m\u001b[0;34m.\u001b[0m\u001b[0m_\u001b[0m\u001b[0;34m.\u001b[0m\u001b[0mcoref_resolved\u001b[0m\u001b[0;34m)\u001b[0m\u001b[0;34m\u001b[0m\u001b[0;34m\u001b[0m\u001b[0m\n\u001b[0m",
            "\u001b[0;32m/usr/local/lib/python3.8/dist-packages/spacy/tokens/underscore.py\u001b[0m in \u001b[0;36m__getattr__\u001b[0;34m(self, name)\u001b[0m\n\u001b[1;32m     45\u001b[0m     \u001b[0;32mdef\u001b[0m \u001b[0m__getattr__\u001b[0m\u001b[0;34m(\u001b[0m\u001b[0mself\u001b[0m\u001b[0;34m,\u001b[0m \u001b[0mname\u001b[0m\u001b[0;34m:\u001b[0m \u001b[0mstr\u001b[0m\u001b[0;34m)\u001b[0m \u001b[0;34m->\u001b[0m \u001b[0mAny\u001b[0m\u001b[0;34m:\u001b[0m\u001b[0;34m\u001b[0m\u001b[0;34m\u001b[0m\u001b[0m\n\u001b[1;32m     46\u001b[0m         \u001b[0;32mif\u001b[0m \u001b[0mname\u001b[0m \u001b[0;32mnot\u001b[0m \u001b[0;32min\u001b[0m \u001b[0mself\u001b[0m\u001b[0;34m.\u001b[0m\u001b[0m_extensions\u001b[0m\u001b[0;34m:\u001b[0m\u001b[0;34m\u001b[0m\u001b[0;34m\u001b[0m\u001b[0m\n\u001b[0;32m---> 47\u001b[0;31m             \u001b[0;32mraise\u001b[0m \u001b[0mAttributeError\u001b[0m\u001b[0;34m(\u001b[0m\u001b[0mErrors\u001b[0m\u001b[0;34m.\u001b[0m\u001b[0mE046\u001b[0m\u001b[0;34m.\u001b[0m\u001b[0mformat\u001b[0m\u001b[0;34m(\u001b[0m\u001b[0mname\u001b[0m\u001b[0;34m=\u001b[0m\u001b[0mname\u001b[0m\u001b[0;34m)\u001b[0m\u001b[0;34m)\u001b[0m\u001b[0;34m\u001b[0m\u001b[0;34m\u001b[0m\u001b[0m\n\u001b[0m\u001b[1;32m     48\u001b[0m         \u001b[0mdefault\u001b[0m\u001b[0;34m,\u001b[0m \u001b[0mmethod\u001b[0m\u001b[0;34m,\u001b[0m \u001b[0mgetter\u001b[0m\u001b[0;34m,\u001b[0m \u001b[0msetter\u001b[0m \u001b[0;34m=\u001b[0m \u001b[0mself\u001b[0m\u001b[0;34m.\u001b[0m\u001b[0m_extensions\u001b[0m\u001b[0;34m[\u001b[0m\u001b[0mname\u001b[0m\u001b[0;34m]\u001b[0m\u001b[0;34m\u001b[0m\u001b[0;34m\u001b[0m\u001b[0m\n\u001b[1;32m     49\u001b[0m         \u001b[0;32mif\u001b[0m \u001b[0mgetter\u001b[0m \u001b[0;32mis\u001b[0m \u001b[0;32mnot\u001b[0m \u001b[0;32mNone\u001b[0m\u001b[0;34m:\u001b[0m\u001b[0;34m\u001b[0m\u001b[0;34m\u001b[0m\u001b[0m\n",
            "\u001b[0;31mAttributeError\u001b[0m: [E046] Can't retrieve unregistered extension attribute 'coref_resolved'. Did you forget to call the `set_extension` method?"
          ]
        }
      ]
    },
    {
      "cell_type": "code",
      "source": [],
      "metadata": {
        "id": "BPkY0JfxGef8"
      },
      "execution_count": null,
      "outputs": []
    }
  ]
}