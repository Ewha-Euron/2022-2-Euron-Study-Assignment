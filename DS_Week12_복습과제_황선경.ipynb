{
 "cells": [
  {
   "cell_type": "code",
   "execution_count": 2,
   "metadata": {
    "id": "axRjZJEf0Z7-"
   },
   "outputs": [],
   "source": [
    "from sklearn.preprocessing import scale\n",
    "from sklearn.datasets import load_iris\n",
    "from sklearn.cluster import KMeans\n",
    "import matplotlib.pyplot as plt\n",
    "import numpy as np\n",
    "import pandas as pd\n",
    "%matplotlib inline"
   ]
  },
  {
   "cell_type": "markdown",
   "metadata": {
    "id": "lJVDbLyz0Z8G"
   },
   "source": [
    "### [다음 사이트](https://www.kaggle.com/datasets/vjchoudhary7/customer-segmentation-tutorial-in-python)에서 Mall_Customer.csv 데이터를 다운 받아주세요!"
   ]
  },
  {
   "cell_type": "markdown",
   "metadata": {
    "id": "xekftTdZ0Z8K"
   },
   "source": [
    "#### 1.1 데이터를 로드하고 확인해주세요."
   ]
  },
  {
   "cell_type": "code",
   "execution_count": 8,
   "metadata": {
    "id": "YNXm3yhg0Z8M"
   },
   "outputs": [
    {
     "data": {
      "text/html": [
       "<div>\n",
       "<style scoped>\n",
       "    .dataframe tbody tr th:only-of-type {\n",
       "        vertical-align: middle;\n",
       "    }\n",
       "\n",
       "    .dataframe tbody tr th {\n",
       "        vertical-align: top;\n",
       "    }\n",
       "\n",
       "    .dataframe thead th {\n",
       "        text-align: right;\n",
       "    }\n",
       "</style>\n",
       "<table border=\"1\" class=\"dataframe\">\n",
       "  <thead>\n",
       "    <tr style=\"text-align: right;\">\n",
       "      <th></th>\n",
       "      <th>CustomerID</th>\n",
       "      <th>Gender</th>\n",
       "      <th>Age</th>\n",
       "      <th>Annual Income (k$)</th>\n",
       "      <th>Spending Score (1-100)</th>\n",
       "    </tr>\n",
       "  </thead>\n",
       "  <tbody>\n",
       "    <tr>\n",
       "      <th>0</th>\n",
       "      <td>1</td>\n",
       "      <td>Male</td>\n",
       "      <td>19</td>\n",
       "      <td>15</td>\n",
       "      <td>39</td>\n",
       "    </tr>\n",
       "    <tr>\n",
       "      <th>1</th>\n",
       "      <td>2</td>\n",
       "      <td>Male</td>\n",
       "      <td>21</td>\n",
       "      <td>15</td>\n",
       "      <td>81</td>\n",
       "    </tr>\n",
       "    <tr>\n",
       "      <th>2</th>\n",
       "      <td>3</td>\n",
       "      <td>Female</td>\n",
       "      <td>20</td>\n",
       "      <td>16</td>\n",
       "      <td>6</td>\n",
       "    </tr>\n",
       "    <tr>\n",
       "      <th>3</th>\n",
       "      <td>4</td>\n",
       "      <td>Female</td>\n",
       "      <td>23</td>\n",
       "      <td>16</td>\n",
       "      <td>77</td>\n",
       "    </tr>\n",
       "    <tr>\n",
       "      <th>4</th>\n",
       "      <td>5</td>\n",
       "      <td>Female</td>\n",
       "      <td>31</td>\n",
       "      <td>17</td>\n",
       "      <td>40</td>\n",
       "    </tr>\n",
       "  </tbody>\n",
       "</table>\n",
       "</div>"
      ],
      "text/plain": [
       "   CustomerID  Gender  Age  Annual Income (k$)  Spending Score (1-100)\n",
       "0           1    Male   19                  15                      39\n",
       "1           2    Male   21                  15                      81\n",
       "2           3  Female   20                  16                       6\n",
       "3           4  Female   23                  16                      77\n",
       "4           5  Female   31                  17                      40"
      ]
     },
     "execution_count": 8,
     "metadata": {},
     "output_type": "execute_result"
    }
   ],
   "source": [
    "df = pd.read_csv('Mall_Customers.csv')\n",
    "df.head()"
   ]
  },
  {
   "cell_type": "markdown",
   "metadata": {
    "id": "gzz06X8t0Z8O"
   },
   "source": [
    "#### 1.2 'CustomerID'는 군집 분석에 필요없는 변수이므로 삭제하겠습니다. 삭제한 후 데이터셋의 행, 열 수를 확인해주세요."
   ]
  },
  {
   "cell_type": "code",
   "execution_count": 9,
   "metadata": {
    "id": "dlvO8mP50Z8P"
   },
   "outputs": [
    {
     "data": {
      "text/plain": [
       "(200, 4)"
      ]
     },
     "execution_count": 9,
     "metadata": {},
     "output_type": "execute_result"
    }
   ],
   "source": [
    "df = df.drop('CustomerID', axis=1)\n",
    "df.shape"
   ]
  },
  {
   "cell_type": "markdown",
   "metadata": {
    "id": "wg0bt-5Z0Z8Q"
   },
   "source": [
    "#### 1.3 데이터셋 변수들의 정보를 확인해주세요."
   ]
  },
  {
   "cell_type": "code",
   "execution_count": 10,
   "metadata": {
    "id": "-boIiuuV0Z8R"
   },
   "outputs": [
    {
     "name": "stdout",
     "output_type": "stream",
     "text": [
      "<class 'pandas.core.frame.DataFrame'>\n",
      "RangeIndex: 200 entries, 0 to 199\n",
      "Data columns (total 4 columns):\n",
      " #   Column                  Non-Null Count  Dtype \n",
      "---  ------                  --------------  ----- \n",
      " 0   Gender                  200 non-null    object\n",
      " 1   Age                     200 non-null    int64 \n",
      " 2   Annual Income (k$)      200 non-null    int64 \n",
      " 3   Spending Score (1-100)  200 non-null    int64 \n",
      "dtypes: int64(3), object(1)\n",
      "memory usage: 6.4+ KB\n"
     ]
    }
   ],
   "source": [
    "df.info()"
   ]
  },
  {
   "cell_type": "markdown",
   "metadata": {
    "id": "f6quruIk0Z8S"
   },
   "source": [
    "#### 1.4 'Gender' 변수의 자료형이 object이므로 전처리가 필요할 것 같습니다. get_dummies를 이용해 원핫인코딩 진행 후 데이터셋을 확인해주세요."
   ]
  },
  {
   "cell_type": "code",
   "execution_count": 11,
   "metadata": {
    "id": "qjWGrDBL0Z8T"
   },
   "outputs": [
    {
     "data": {
      "text/html": [
       "<div>\n",
       "<style scoped>\n",
       "    .dataframe tbody tr th:only-of-type {\n",
       "        vertical-align: middle;\n",
       "    }\n",
       "\n",
       "    .dataframe tbody tr th {\n",
       "        vertical-align: top;\n",
       "    }\n",
       "\n",
       "    .dataframe thead th {\n",
       "        text-align: right;\n",
       "    }\n",
       "</style>\n",
       "<table border=\"1\" class=\"dataframe\">\n",
       "  <thead>\n",
       "    <tr style=\"text-align: right;\">\n",
       "      <th></th>\n",
       "      <th>Age</th>\n",
       "      <th>Annual Income (k$)</th>\n",
       "      <th>Spending Score (1-100)</th>\n",
       "      <th>Gender_Female</th>\n",
       "      <th>Gender_Male</th>\n",
       "    </tr>\n",
       "  </thead>\n",
       "  <tbody>\n",
       "    <tr>\n",
       "      <th>0</th>\n",
       "      <td>19</td>\n",
       "      <td>15</td>\n",
       "      <td>39</td>\n",
       "      <td>0</td>\n",
       "      <td>1</td>\n",
       "    </tr>\n",
       "    <tr>\n",
       "      <th>1</th>\n",
       "      <td>21</td>\n",
       "      <td>15</td>\n",
       "      <td>81</td>\n",
       "      <td>0</td>\n",
       "      <td>1</td>\n",
       "    </tr>\n",
       "    <tr>\n",
       "      <th>2</th>\n",
       "      <td>20</td>\n",
       "      <td>16</td>\n",
       "      <td>6</td>\n",
       "      <td>1</td>\n",
       "      <td>0</td>\n",
       "    </tr>\n",
       "    <tr>\n",
       "      <th>3</th>\n",
       "      <td>23</td>\n",
       "      <td>16</td>\n",
       "      <td>77</td>\n",
       "      <td>1</td>\n",
       "      <td>0</td>\n",
       "    </tr>\n",
       "    <tr>\n",
       "      <th>4</th>\n",
       "      <td>31</td>\n",
       "      <td>17</td>\n",
       "      <td>40</td>\n",
       "      <td>1</td>\n",
       "      <td>0</td>\n",
       "    </tr>\n",
       "  </tbody>\n",
       "</table>\n",
       "</div>"
      ],
      "text/plain": [
       "   Age  Annual Income (k$)  Spending Score (1-100)  Gender_Female  Gender_Male\n",
       "0   19                  15                      39              0            1\n",
       "1   21                  15                      81              0            1\n",
       "2   20                  16                       6              1            0\n",
       "3   23                  16                      77              1            0\n",
       "4   31                  17                      40              1            0"
      ]
     },
     "execution_count": 11,
     "metadata": {},
     "output_type": "execute_result"
    }
   ],
   "source": [
    "df = pd.get_dummies(df)\n",
    "df.head()"
   ]
  },
  {
   "cell_type": "markdown",
   "metadata": {
    "id": "MYDm-JZe0Z8U"
   },
   "source": [
    "#### 1.5 데이터를 5개의 그룹으로 군집화해보겠습니다. n_cluster = 5, 초기 중심 설정 방식 : k-means++, 최대 반복 횟수 : 300으로 설정하여 KMeans 객체를 만든 후 fit( )을 수행해주세요."
   ]
  },
  {
   "cell_type": "code",
   "execution_count": 13,
   "metadata": {
    "id": "lxTZQ-YL0Z8V"
   },
   "outputs": [
    {
     "data": {
      "text/plain": [
       "KMeans(n_clusters=5, random_state=0)"
      ]
     },
     "execution_count": 13,
     "metadata": {},
     "output_type": "execute_result"
    }
   ],
   "source": [
    "kmeans = KMeans(n_clusters=5, init='k-means++', max_iter=300, random_state=0)\n",
    "kmeans.fit(df)\n"
   ]
  },
  {
   "cell_type": "markdown",
   "metadata": {
    "id": "XT6WTaGs0Z8V"
   },
   "source": [
    "#### 1.6 kmeans의 labels_ 속성값을 확인해보겠습니다."
   ]
  },
  {
   "cell_type": "code",
   "execution_count": 14,
   "metadata": {
    "id": "qByQqxrz0Z8W"
   },
   "outputs": [
    {
     "name": "stdout",
     "output_type": "stream",
     "text": [
      "[0 4 0 4 0 4 0 4 0 4 0 4 0 4 0 4 0 4 0 4 0 4 0 4 0 4 0 4 0 4 0 4 0 4 0 4 0\n",
      " 4 0 4 0 4 0 4 0 4 2 2 2 2 2 2 2 2 2 2 2 2 2 2 2 2 2 2 2 2 2 2 2 2 2 2 2 2\n",
      " 2 2 2 2 2 2 2 2 2 2 2 2 2 2 2 2 2 2 2 2 2 2 2 2 2 2 2 2 2 2 2 2 2 2 2 2 2\n",
      " 2 2 2 2 2 2 2 2 2 2 2 2 1 3 1 2 1 3 1 3 1 3 1 3 1 3 1 3 1 3 1 2 1 3 1 3 1\n",
      " 3 1 3 1 3 1 3 1 3 1 3 1 3 1 3 1 3 1 3 1 3 1 3 1 3 1 3 1 3 1 3 1 3 1 3 1 3\n",
      " 1 3 1 3 1 3 1 3 1 3 1 3 1 3 1]\n"
     ]
    }
   ],
   "source": [
    "print(kmeans.labels_)"
   ]
  },
  {
   "cell_type": "markdown",
   "metadata": {
    "id": "6VKhlpKx0Z8W"
   },
   "source": [
    "#### 1.7 target 값은 데이터의 spending score로, cluster 칼럼은 앞에서 구한 labels_ 값으로 지정하여 target과 cluster 값 개수를 비교하세요."
   ]
  },
  {
   "cell_type": "code",
   "execution_count": 15,
   "metadata": {
    "id": "vEAo2Xn-0Z8X"
   },
   "outputs": [
    {
     "name": "stdout",
     "output_type": "stream",
     "text": [
      "target  cluster\n",
      "1       3          2\n",
      "3       0          1\n",
      "4       0          2\n",
      "5       3          3\n",
      "        0          1\n",
      "                  ..\n",
      "94      4          1\n",
      "95      1          2\n",
      "97      1          2\n",
      "98      4          1\n",
      "99      4          1\n",
      "Name: cluster, Length: 106, dtype: int64\n"
     ]
    }
   ],
   "source": [
    "df['target'] = df['Spending Score (1-100)']\n",
    "df['cluster'] = kmeans.labels_\n",
    "df_result = df.groupby('target')['cluster'].value_counts()\n",
    "print(df_result)"
   ]
  },
  {
   "cell_type": "markdown",
   "metadata": {
    "id": "EwR2xb740Z8X"
   },
   "source": [
    "#### 1.8 PCA를 이용해 4개의 속성을 2개로 차원 축소한 뒤 X좌표, Y좌표로 개별 데이터를 표현하도록 하겠습니다."
   ]
  },
  {
   "cell_type": "code",
   "execution_count": 18,
   "metadata": {
    "id": "XGZA6YYK0Z8Y"
   },
   "outputs": [
    {
     "data": {
      "text/html": [
       "<div>\n",
       "<style scoped>\n",
       "    .dataframe tbody tr th:only-of-type {\n",
       "        vertical-align: middle;\n",
       "    }\n",
       "\n",
       "    .dataframe tbody tr th {\n",
       "        vertical-align: top;\n",
       "    }\n",
       "\n",
       "    .dataframe thead th {\n",
       "        text-align: right;\n",
       "    }\n",
       "</style>\n",
       "<table border=\"1\" class=\"dataframe\">\n",
       "  <thead>\n",
       "    <tr style=\"text-align: right;\">\n",
       "      <th></th>\n",
       "      <th>Age</th>\n",
       "      <th>Annual Income (k$)</th>\n",
       "      <th>Spending Score (1-100)</th>\n",
       "      <th>Gender_Female</th>\n",
       "      <th>Gender_Male</th>\n",
       "      <th>target</th>\n",
       "      <th>cluster</th>\n",
       "      <th>pca_x</th>\n",
       "      <th>pca_y</th>\n",
       "    </tr>\n",
       "  </thead>\n",
       "  <tbody>\n",
       "    <tr>\n",
       "      <th>0</th>\n",
       "      <td>19</td>\n",
       "      <td>15</td>\n",
       "      <td>39</td>\n",
       "      <td>0</td>\n",
       "      <td>1</td>\n",
       "      <td>39</td>\n",
       "      <td>0</td>\n",
       "      <td>-31.869381</td>\n",
       "      <td>-33.001079</td>\n",
       "    </tr>\n",
       "    <tr>\n",
       "      <th>1</th>\n",
       "      <td>21</td>\n",
       "      <td>15</td>\n",
       "      <td>81</td>\n",
       "      <td>0</td>\n",
       "      <td>1</td>\n",
       "      <td>81</td>\n",
       "      <td>4</td>\n",
       "      <td>0.765592</td>\n",
       "      <td>-56.841935</td>\n",
       "    </tr>\n",
       "    <tr>\n",
       "      <th>2</th>\n",
       "      <td>20</td>\n",
       "      <td>16</td>\n",
       "      <td>6</td>\n",
       "      <td>1</td>\n",
       "      <td>0</td>\n",
       "      <td>6</td>\n",
       "      <td>0</td>\n",
       "      <td>-57.407825</td>\n",
       "      <td>-13.126987</td>\n",
       "    </tr>\n",
       "    <tr>\n",
       "      <th>3</th>\n",
       "      <td>23</td>\n",
       "      <td>16</td>\n",
       "      <td>77</td>\n",
       "      <td>1</td>\n",
       "      <td>0</td>\n",
       "      <td>77</td>\n",
       "      <td>4</td>\n",
       "      <td>-2.167187</td>\n",
       "      <td>-53.479276</td>\n",
       "    </tr>\n",
       "    <tr>\n",
       "      <th>4</th>\n",
       "      <td>31</td>\n",
       "      <td>17</td>\n",
       "      <td>40</td>\n",
       "      <td>1</td>\n",
       "      <td>0</td>\n",
       "      <td>40</td>\n",
       "      <td>0</td>\n",
       "      <td>-32.173249</td>\n",
       "      <td>-30.389820</td>\n",
       "    </tr>\n",
       "  </tbody>\n",
       "</table>\n",
       "</div>"
      ],
      "text/plain": [
       "   Age  Annual Income (k$)  Spending Score (1-100)  Gender_Female  \\\n",
       "0   19                  15                      39              0   \n",
       "1   21                  15                      81              0   \n",
       "2   20                  16                       6              1   \n",
       "3   23                  16                      77              1   \n",
       "4   31                  17                      40              1   \n",
       "\n",
       "   Gender_Male  target  cluster      pca_x      pca_y  \n",
       "0            1      39        0 -31.869381 -33.001079  \n",
       "1            1      81        4   0.765592 -56.841935  \n",
       "2            0       6        0 -57.407825 -13.126987  \n",
       "3            0      77        4  -2.167187 -53.479276  \n",
       "4            0      40        0 -32.173249 -30.389820  "
      ]
     },
     "execution_count": 18,
     "metadata": {},
     "output_type": "execute_result"
    }
   ],
   "source": [
    "from sklearn.decomposition import PCA\n",
    "\n",
    "pca = PCA(n_components=2)\n",
    "pca_transformed = pca.fit_transform(df.iloc[:, 0:5])\n",
    "\n",
    "df['pca_x'] = pca_transformed[:,0]\n",
    "df['pca_y'] = pca_transformed[:,1]\n",
    "df.head()"
   ]
  },
  {
   "cell_type": "markdown",
   "metadata": {
    "id": "YFFpoBKZ0Z8Y"
   },
   "source": [
    "#### 1.9 군집별 산점도를 출력합니다."
   ]
  },
  {
   "cell_type": "code",
   "execution_count": 19,
   "metadata": {
    "id": "22ljUzhh0Z8Y"
   },
   "outputs": [
    {
     "data": {
      "image/png": "[encoded data removed]",
      "text/plain": [
       "<Figure size 432x288 with 1 Axes>"
      ]
     },
     "metadata": {
      "needs_background": "light"
     },
     "output_type": "display_data"
    }
   ],
   "source": [
    "# 군집 값이 0, 1, 2인 경우마다 별도의 인덱스로 추출\n",
    "marker0_ind = df[df['cluster']==0].index\n",
    "marker1_ind = df[df['cluster']==1].index\n",
    "marker2_ind = df[df['cluster']==2].index\n",
    "\n",
    "# 군집 값 0, 1, 2에 해당하는 인덱스로 각 군집 레벨의 pca_x, pca_y 값 추출. o, s, ^ 로 마커 표시\n",
    "plt.scatter(x=df.loc[marker0_ind, 'pca_x'], y = df.loc[marker0_ind, 'pca_y'], marker='o')\n",
    "plt.scatter(x=df.loc[marker1_ind, 'pca_x'], y = df.loc[marker1_ind, 'pca_y'], marker='s')\n",
    "plt.scatter(x=df.loc[marker2_ind, 'pca_x'], y = df.loc[marker2_ind, 'pca_y'], marker='^')\n",
    "\n",
    "plt.xlabel('PCA 1')\n",
    "plt.ylabel('PCA 2')\n",
    "plt.title('3 Clusters Visualization by 2 PCA Components')\n",
    "plt.show()"
   ]
  },
  {
   "cell_type": "markdown",
   "metadata": {
    "id": "ekZUmfXT0Z8Z"
   },
   "source": [
    "#### 1.10 데이터를 이용한 군집 평가"
   ]
  },
  {
   "cell_type": "code",
   "execution_count": 20,
   "metadata": {
    "id": "izxk-5fA0Z8Z"
   },
   "outputs": [],
   "source": [
    "from sklearn.preprocessing import scale\n",
    "from sklearn.datasets import load_iris\n",
    "from sklearn.cluster import KMeans\n",
    "# 실루엣 분석 metric 값을 구하기 위한 API 추가\n",
    "from sklearn.metrics import silhouette_samples, silhouette_score\n",
    "import matplotlib.pyplot as plt\n",
    "import numpy as np\n",
    "import pandas as pd\n",
    "\n",
    "%matplotlib inline"
   ]
  },
  {
   "cell_type": "markdown",
   "metadata": {
    "id": "xaGE8lI70Z8a"
   },
   "source": [
    "#### 1.11 1.5와 1.7의 코드를 바탕으로 데이터셋의 모든 개별 데이터에 실루엣 계수 값을 구해주세요."
   ]
  },
  {
   "cell_type": "code",
   "execution_count": 21,
   "metadata": {
    "id": "ksMKMiYG0Z8a"
   },
   "outputs": [
    {
     "name": "stdout",
     "output_type": "stream",
     "text": [
      "silhouette_samples( ) return 값의 shape (200,)\n"
     ]
    }
   ],
   "source": [
    "score_samples = silhouette_samples(df.iloc[:,0:5], df['cluster'])\n",
    "print('silhouette_samples( ) return 값의 shape' , score_samples.shape)"
   ]
  },
  {
   "cell_type": "markdown",
   "metadata": {
    "id": "67y-AM4q0Z8b"
   },
   "source": [
    "#### 1.12 데이터셋 데이터프레임에 실루엣 계수 칼럼을 추가해주세요."
   ]
  },
  {
   "cell_type": "code",
   "execution_count": 22,
   "metadata": {
    "id": "hdmAG7Ve0Z8b"
   },
   "outputs": [],
   "source": [
    "\n",
    "df['silhouette_coeff'] = score_samples"
   ]
  },
  {
   "cell_type": "markdown",
   "metadata": {
    "id": "k2evEE7Z0Z8b"
   },
   "source": [
    "#### 1.13 모든 데이터의 평균 실루엣 계수값을 구하고 확인해주세요."
   ]
  },
  {
   "cell_type": "code",
   "execution_count": 24,
   "metadata": {
    "id": "8xb4TsMG0Z8b"
   },
   "outputs": [
    {
     "name": "stdout",
     "output_type": "stream",
     "text": [
      "붓꽃 데이터셋 Silhouette Analysis Score:0.444\n"
     ]
    },
    {
     "data": {
      "text/html": [
       "<div>\n",
       "<style scoped>\n",
       "    .dataframe tbody tr th:only-of-type {\n",
       "        vertical-align: middle;\n",
       "    }\n",
       "\n",
       "    .dataframe tbody tr th {\n",
       "        vertical-align: top;\n",
       "    }\n",
       "\n",
       "    .dataframe thead th {\n",
       "        text-align: right;\n",
       "    }\n",
       "</style>\n",
       "<table border=\"1\" class=\"dataframe\">\n",
       "  <thead>\n",
       "    <tr style=\"text-align: right;\">\n",
       "      <th></th>\n",
       "      <th>Age</th>\n",
       "      <th>Annual Income (k$)</th>\n",
       "      <th>Spending Score (1-100)</th>\n",
       "      <th>Gender_Female</th>\n",
       "      <th>Gender_Male</th>\n",
       "      <th>target</th>\n",
       "      <th>cluster</th>\n",
       "      <th>pca_x</th>\n",
       "      <th>pca_y</th>\n",
       "      <th>silhouette_coeff</th>\n",
       "    </tr>\n",
       "  </thead>\n",
       "  <tbody>\n",
       "    <tr>\n",
       "      <th>0</th>\n",
       "      <td>19</td>\n",
       "      <td>15</td>\n",
       "      <td>39</td>\n",
       "      <td>0</td>\n",
       "      <td>1</td>\n",
       "      <td>39</td>\n",
       "      <td>0</td>\n",
       "      <td>-31.869381</td>\n",
       "      <td>-33.001079</td>\n",
       "      <td>0.113110</td>\n",
       "    </tr>\n",
       "    <tr>\n",
       "      <th>1</th>\n",
       "      <td>21</td>\n",
       "      <td>15</td>\n",
       "      <td>81</td>\n",
       "      <td>0</td>\n",
       "      <td>1</td>\n",
       "      <td>81</td>\n",
       "      <td>4</td>\n",
       "      <td>0.765592</td>\n",
       "      <td>-56.841935</td>\n",
       "      <td>0.695946</td>\n",
       "    </tr>\n",
       "    <tr>\n",
       "      <th>2</th>\n",
       "      <td>20</td>\n",
       "      <td>16</td>\n",
       "      <td>6</td>\n",
       "      <td>1</td>\n",
       "      <td>0</td>\n",
       "      <td>6</td>\n",
       "      <td>0</td>\n",
       "      <td>-57.407825</td>\n",
       "      <td>-13.126987</td>\n",
       "      <td>0.442292</td>\n",
       "    </tr>\n",
       "  </tbody>\n",
       "</table>\n",
       "</div>"
      ],
      "text/plain": [
       "   Age  Annual Income (k$)  Spending Score (1-100)  Gender_Female  \\\n",
       "0   19                  15                      39              0   \n",
       "1   21                  15                      81              0   \n",
       "2   20                  16                       6              1   \n",
       "\n",
       "   Gender_Male  target  cluster      pca_x      pca_y  silhouette_coeff  \n",
       "0            1      39        0 -31.869381 -33.001079          0.113110  \n",
       "1            1      81        4   0.765592 -56.841935          0.695946  \n",
       "2            0       6        0 -57.407825 -13.126987          0.442292  "
      ]
     },
     "execution_count": 24,
     "metadata": {},
     "output_type": "execute_result"
    }
   ],
   "source": [
    "average_score = silhouette_score(df.iloc[:,0:5], df['cluster'])\n",
    "print('붓꽃 데이터셋 Silhouette Analysis Score:{0:.3f}'.format(average_score))\n",
    "\n",
    "df.head(3)"
   ]
  },
  {
   "cell_type": "markdown",
   "metadata": {
    "id": "Wx5ntp8i0Z8b"
   },
   "source": [
    "#### 1.14 데이터셋의 군집 칼럼별로 groupby하여 실루엣 계수 칼럼의 평균값을 구해주세요."
   ]
  },
  {
   "cell_type": "code",
   "execution_count": 26,
   "metadata": {
    "id": "FQvFMdac0Z8c"
   },
   "outputs": [
    {
     "data": {
      "text/plain": [
       "cluster\n",
       "0    0.416018\n",
       "1    0.532762\n",
       "2    0.371383\n",
       "3    0.426101\n",
       "4    0.597604\n",
       "Name: silhouette_coeff, dtype: float64"
      ]
     },
     "execution_count": 26,
     "metadata": {},
     "output_type": "execute_result"
    }
   ],
   "source": [
    "df.groupby('cluster')['silhouette_coeff'].mean()"
   ]
  },
  {
   "cell_type": "markdown",
   "metadata": {
    "id": "QxnQySf00Z8c"
   },
   "source": [
    "#### 1.15 Inertia와 Elbow를 구하는 코드입니다. 참고해주세요."
   ]
  },
  {
   "cell_type": "code",
   "execution_count": 27,
   "metadata": {
    "id": "6_x04onX0Z8c"
   },
   "outputs": [
    {
     "name": "stderr",
     "output_type": "stream",
     "text": [
      "C:\\ProgramData\\Anaconda3\\lib\\site-packages\\sklearn\\cluster\\_kmeans.py:1036: UserWarning: KMeans is known to have a memory leak on Windows with MKL, when there are less chunks than available threads. You can avoid it by setting the environment variable OMP_NUM_THREADS=1.\n",
      "  warnings.warn(\n"
     ]
    },
    {
     "data": {
      "image/png": "[encoded data removed]",
      "text/plain": [
       "<Figure size 432x288 with 1 Axes>"
      ]
     },
     "metadata": {
      "needs_background": "light"
     },
     "output_type": "display_data"
    }
   ],
   "source": [
    "# 중심점 - 데이터 거리를 합산한 inertia(sse)를 빈 array로 생성\n",
    "sse = []\n",
    "\n",
    "# 반복문을 실행하며 군집의 개수가 1~11까지 kmeans를 실행 --> sse array에 추가\n",
    "for i in range(1, 11) :\n",
    "    km = KMeans(n_clusters = i,\n",
    "               init = 'k-means++',\n",
    "               n_init = 10,\n",
    "               max_iter = 300,\n",
    "               random_state = 0)\n",
    "    km.fit(df)\n",
    "    sse.append(km.inertia_)\n",
    "\n",
    "# sse array 시각화   \n",
    "plt.plot(range(1,11), sse, marker = 'o')\n",
    "plt.xlabel('Number of clusters')\n",
    "plt.ylabel('sse')\n",
    "plt.tight_layout()\n",
    "plt.show()"
   ]
  },
  {
   "cell_type": "markdown",
   "metadata": {
    "id": "2IAa8jNw0Z8c"
   },
   "source": [
    "#### 2.1 데이터는 1의 데이터를 계속 활용합니다. 'Annual income'에 대한 'Spending Score'을 scatter plot으로 나타내주세요."
   ]
  },
  {
   "cell_type": "code",
   "execution_count": 30,
   "metadata": {
    "id": "XWJDdhFI0Z8c"
   },
   "outputs": [
    {
     "data": {
      "image/png": "[encoded data removed]",
      "text/plain": [
       "<Figure size 432x288 with 1 Axes>"
      ]
     },
     "metadata": {
      "needs_background": "light"
     },
     "output_type": "display_data"
    }
   ],
   "source": [
    "plt.scatter(x=df['Annual Income (k$)'], y=df['Spending Score (1-100)'])\n",
    "plt.xlabel('Annual Income')\n",
    "plt.ylabel('Spending Score')\n",
    "plt.show()"
   ]
  },
  {
   "cell_type": "markdown",
   "metadata": {
    "id": "9f48xTJI0Z8d"
   },
   "source": [
    "#### 2.2 StandardScaler를 통해 정규화를 진행해주세요."
   ]
  },
  {
   "cell_type": "code",
   "execution_count": 31,
   "metadata": {
    "id": "1xYrVUGY0Z8d"
   },
   "outputs": [],
   "source": [
    "from sklearn.preprocessing import StandardScaler\n",
    "\n",
    "df_features = df.iloc[:,0:5]\n",
    "\n",
    "standardscaler = StandardScaler()\n",
    "scaled = standardscaler.fit_transform(df_features)"
   ]
  },
  {
   "cell_type": "code",
   "execution_count": 34,
   "metadata": {},
   "outputs": [
    {
     "data": {
      "text/html": [
       "<div>\n",
       "<style scoped>\n",
       "    .dataframe tbody tr th:only-of-type {\n",
       "        vertical-align: middle;\n",
       "    }\n",
       "\n",
       "    .dataframe tbody tr th {\n",
       "        vertical-align: top;\n",
       "    }\n",
       "\n",
       "    .dataframe thead th {\n",
       "        text-align: right;\n",
       "    }\n",
       "</style>\n",
       "<table border=\"1\" class=\"dataframe\">\n",
       "  <thead>\n",
       "    <tr style=\"text-align: right;\">\n",
       "      <th></th>\n",
       "      <th>Age</th>\n",
       "      <th>Annual Income (k$)</th>\n",
       "      <th>Spending Score (1-100)</th>\n",
       "      <th>Gender_Female</th>\n",
       "      <th>Gender_Male</th>\n",
       "    </tr>\n",
       "  </thead>\n",
       "  <tbody>\n",
       "    <tr>\n",
       "      <th>0</th>\n",
       "      <td>-1.424569</td>\n",
       "      <td>-1.738999</td>\n",
       "      <td>-0.434801</td>\n",
       "      <td>-1.128152</td>\n",
       "      <td>1.128152</td>\n",
       "    </tr>\n",
       "    <tr>\n",
       "      <th>1</th>\n",
       "      <td>-1.281035</td>\n",
       "      <td>-1.738999</td>\n",
       "      <td>1.195704</td>\n",
       "      <td>-1.128152</td>\n",
       "      <td>1.128152</td>\n",
       "    </tr>\n",
       "    <tr>\n",
       "      <th>2</th>\n",
       "      <td>-1.352802</td>\n",
       "      <td>-1.700830</td>\n",
       "      <td>-1.715913</td>\n",
       "      <td>0.886405</td>\n",
       "      <td>-0.886405</td>\n",
       "    </tr>\n",
       "    <tr>\n",
       "      <th>3</th>\n",
       "      <td>-1.137502</td>\n",
       "      <td>-1.700830</td>\n",
       "      <td>1.040418</td>\n",
       "      <td>0.886405</td>\n",
       "      <td>-0.886405</td>\n",
       "    </tr>\n",
       "    <tr>\n",
       "      <th>4</th>\n",
       "      <td>-0.563369</td>\n",
       "      <td>-1.662660</td>\n",
       "      <td>-0.395980</td>\n",
       "      <td>0.886405</td>\n",
       "      <td>-0.886405</td>\n",
       "    </tr>\n",
       "  </tbody>\n",
       "</table>\n",
       "</div>"
      ],
      "text/plain": [
       "        Age  Annual Income (k$)  Spending Score (1-100)  Gender_Female  \\\n",
       "0 -1.424569           -1.738999               -0.434801      -1.128152   \n",
       "1 -1.281035           -1.738999                1.195704      -1.128152   \n",
       "2 -1.352802           -1.700830               -1.715913       0.886405   \n",
       "3 -1.137502           -1.700830                1.040418       0.886405   \n",
       "4 -0.563369           -1.662660               -0.395980       0.886405   \n",
       "\n",
       "   Gender_Male  \n",
       "0     1.128152  \n",
       "1     1.128152  \n",
       "2    -0.886405  \n",
       "3    -0.886405  \n",
       "4    -0.886405  "
      ]
     },
     "execution_count": 34,
     "metadata": {},
     "output_type": "execute_result"
    }
   ],
   "source": [
    "df_std = pd.DataFrame(scaled, columns = df_features.columns)\n",
    "df_std.head()"
   ]
  },
  {
   "cell_type": "markdown",
   "metadata": {
    "id": "EUXQCfK_0Z8e"
   },
   "source": [
    "#### 2.3 최적 대역폭을 구하여 평균 이동 군집화를 진행해주세요. 최적 bandwidth와 cluster label 유형을 출력해주세요. (인자 : df_std)"
   ]
  },
  {
   "cell_type": "code",
   "execution_count": 36,
   "metadata": {
    "id": "DBDmumEY0Z8e"
   },
   "outputs": [
    {
     "name": "stdout",
     "output_type": "stream",
     "text": [
      "최적 bandwidth 값: 2.461\n",
      "cluster labels 유형: [0 1]\n"
     ]
    }
   ],
   "source": [
    "from sklearn.cluster import estimate_bandwidth\n",
    "from sklearn.cluster import MeanShift\n",
    "\n",
    "h = estimate_bandwidth(df_std)\n",
    "print('최적 bandwidth 값:', round(h,3))\n",
    "\n",
    "ms = MeanShift(bandwidth=h)\n",
    "cluster_labels = ms.fit_predict(df_std)\n",
    "print('cluster labels 유형:', np.unique(cluster_labels))\n"
   ]
  },
  {
   "cell_type": "markdown",
   "metadata": {
    "id": "hsSimdFB0Z8e"
   },
   "source": [
    "#### 2.4 target 변수를 'Spending Score'로 설정하여 결과를 확인하려고 합니다. 다음 코드의 빈칸을 채워주세요."
   ]
  },
  {
   "cell_type": "code",
   "execution_count": 37,
   "metadata": {
    "id": "4vqL3ABJ0Z8f"
   },
   "outputs": [
    {
     "name": "stdout",
     "output_type": "stream",
     "text": [
      "target  cluster\n",
      "1       1          2\n",
      "3       1          1\n",
      "4       1          2\n",
      "5       0          2\n",
      "        1          2\n",
      "                  ..\n",
      "95      0          1\n",
      "        1          1\n",
      "97      1          2\n",
      "98      0          1\n",
      "99      0          1\n",
      "Name: Annual Income (k$), Length: 120, dtype: int64\n"
     ]
    }
   ],
   "source": [
    "df['target'] = df['Spending Score (1-100)']\n",
    "df['cluster']= cluster_labels\n",
    "result = df.groupby(['target','cluster'])['Annual Income (k$)'].count()\n",
    "print(result)"
   ]
  },
  {
   "cell_type": "markdown",
   "metadata": {
    "id": "XbDIbw2N0Z8f"
   },
   "source": [
    "#### 2.5 2차원으로 축소하여 시각화를 진행하려고 합니다. 다음 코드의 빈칸을 채워주세요."
   ]
  },
  {
   "cell_type": "code",
   "execution_count": 38,
   "metadata": {
    "id": "gYadFSel0Z8f"
   },
   "outputs": [
    {
     "data": {
      "image/png": "[encoded data removed]",
      "text/plain": [
       "<Figure size 432x288 with 1 Axes>"
      ]
     },
     "metadata": {
      "needs_background": "light"
     },
     "output_type": "display_data"
    }
   ],
   "source": [
    "m0_ind = df[df['cluster']==0].index\n",
    "m1_ind = df[df['cluster']==1].index\n",
    "\n",
    "plt.scatter(x=df.loc[m0_ind,'Annual Income (k$)'], y=df.loc[m0_ind,'Spending Score (1-100)'],marker='o')\n",
    "plt.scatter(x=df.loc[m1_ind,'Annual Income (k$)'], y=df.loc[m1_ind,'Spending Score (1-100)'],marker='s')\n",
    "\n",
    "plt.show()"
   ]
  },
  {
   "cell_type": "markdown",
   "metadata": {
    "id": "_PvqwPAC0Z8f"
   },
   "source": [
    "#### 2.6 사이킷런 AgglomerativeClustering 클래스를 통해 병합군집을 진행해주세요. 클러스터 개수는 3으로, 병합 방식은 'ward'로 설정해주세요. cluster labels 유형을 출력해주세요.  (인자 : df)"
   ]
  },
  {
   "cell_type": "code",
   "execution_count": 41,
   "metadata": {
    "id": "QsQsRI360Z8f"
   },
   "outputs": [],
   "source": [
    "from sklearn.cluster import AgglomerativeClustering"
   ]
  },
  {
   "cell_type": "code",
   "execution_count": 44,
   "metadata": {
    "id": "F9UJxeyO0Z8g"
   },
   "outputs": [
    {
     "name": "stdout",
     "output_type": "stream",
     "text": [
      "cluster labels 유형: [0 1 2]\n"
     ]
    }
   ],
   "source": [
    "agg = AgglomerativeClustering(n_clusters=3, linkage=\"ward\")\n",
    "\n",
    "cluster_labels = agg.fit_predict(df.iloc[:,0:5])\n",
    "print('cluster labels 유형:', np.unique(cluster_labels))"
   ]
  },
  {
   "cell_type": "markdown",
   "metadata": {
    "id": "86Iy-6IF0Z8g"
   },
   "source": [
    "#### 2.7 덴드로그램을 그려주세요."
   ]
  },
  {
   "cell_type": "code",
   "execution_count": 45,
   "metadata": {
    "id": "nzpwQ8fz0Z8g"
   },
   "outputs": [],
   "source": [
    "from scipy.cluster.hierarchy import dendrogram, ward"
   ]
  },
  {
   "cell_type": "code",
   "execution_count": 47,
   "metadata": {
    "id": "ALT0FFny0Z8h"
   },
   "outputs": [
    {
     "data": {
      "text/plain": [
       "{'icoord': [[15.0, 15.0, 25.0, 25.0],\n",
       "  [5.0, 5.0, 20.0, 20.0],\n",
       "  [45.0, 45.0, 55.0, 55.0],\n",
       "  [65.0, 65.0, 75.0, 75.0],\n",
       "  [50.0, 50.0, 70.0, 70.0],\n",
       "  [35.0, 35.0, 60.0, 60.0],\n",
       "  [105.0, 105.0, 115.0, 115.0],\n",
       "  [95.0, 95.0, 110.0, 110.0],\n",
       "  [85.0, 85.0, 102.5, 102.5],\n",
       "  [47.5, 47.5, 93.75, 93.75],\n",
       "  [145.0, 145.0, 155.0, 155.0],\n",
       "  [135.0, 135.0, 150.0, 150.0],\n",
       "  [125.0, 125.0, 142.5, 142.5],\n",
       "  [165.0, 165.0, 175.0, 175.0],\n",
       "  [185.0, 185.0, 195.0, 195.0],\n",
       "  [170.0, 170.0, 190.0, 190.0],\n",
       "  [133.75, 133.75, 180.0, 180.0],\n",
       "  [70.625, 70.625, 156.875, 156.875],\n",
       "  [12.5, 12.5, 113.75, 113.75],\n",
       "  [215.0, 215.0, 225.0, 225.0],\n",
       "  [205.0, 205.0, 220.0, 220.0],\n",
       "  [235.0, 235.0, 245.0, 245.0],\n",
       "  [265.0, 265.0, 275.0, 275.0],\n",
       "  [255.0, 255.0, 270.0, 270.0],\n",
       "  [240.0, 240.0, 262.5, 262.5],\n",
       "  [212.5, 212.5, 251.25, 251.25],\n",
       "  [295.0, 295.0, 305.0, 305.0],\n",
       "  [285.0, 285.0, 300.0, 300.0],\n",
       "  [315.0, 315.0, 325.0, 325.0],\n",
       "  [345.0, 345.0, 355.0, 355.0],\n",
       "  [335.0, 335.0, 350.0, 350.0],\n",
       "  [320.0, 320.0, 342.5, 342.5],\n",
       "  [292.5, 292.5, 331.25, 331.25],\n",
       "  [375.0, 375.0, 385.0, 385.0],\n",
       "  [365.0, 365.0, 380.0, 380.0],\n",
       "  [415.0, 415.0, 425.0, 425.0],\n",
       "  [405.0, 405.0, 420.0, 420.0],\n",
       "  [395.0, 395.0, 412.5, 412.5],\n",
       "  [372.5, 372.5, 403.75, 403.75],\n",
       "  [311.875, 311.875, 388.125, 388.125],\n",
       "  [231.875, 231.875, 350.0, 350.0],\n",
       "  [445.0, 445.0, 455.0, 455.0],\n",
       "  [435.0, 435.0, 450.0, 450.0],\n",
       "  [475.0, 475.0, 485.0, 485.0],\n",
       "  [465.0, 465.0, 480.0, 480.0],\n",
       "  [442.5, 442.5, 472.5, 472.5],\n",
       "  [515.0, 515.0, 525.0, 525.0],\n",
       "  [505.0, 505.0, 520.0, 520.0],\n",
       "  [495.0, 495.0, 512.5, 512.5],\n",
       "  [457.5, 457.5, 503.75, 503.75],\n",
       "  [545.0, 545.0, 555.0, 555.0],\n",
       "  [535.0, 535.0, 550.0, 550.0],\n",
       "  [565.0, 565.0, 575.0, 575.0],\n",
       "  [585.0, 585.0, 595.0, 595.0],\n",
       "  [570.0, 570.0, 590.0, 590.0],\n",
       "  [605.0, 605.0, 615.0, 615.0],\n",
       "  [625.0, 625.0, 635.0, 635.0],\n",
       "  [610.0, 610.0, 630.0, 630.0],\n",
       "  [580.0, 580.0, 620.0, 620.0],\n",
       "  [542.5, 542.5, 600.0, 600.0],\n",
       "  [655.0, 655.0, 665.0, 665.0],\n",
       "  [645.0, 645.0, 660.0, 660.0],\n",
       "  [685.0, 685.0, 695.0, 695.0],\n",
       "  [675.0, 675.0, 690.0, 690.0],\n",
       "  [735.0, 735.0, 745.0, 745.0],\n",
       "  [725.0, 725.0, 740.0, 740.0],\n",
       "  [715.0, 715.0, 732.5, 732.5],\n",
       "  [705.0, 705.0, 723.75, 723.75],\n",
       "  [682.5, 682.5, 714.375, 714.375],\n",
       "  [652.5, 652.5, 698.4375, 698.4375],\n",
       "  [571.25, 571.25, 675.46875, 675.46875],\n",
       "  [480.625, 480.625, 623.359375, 623.359375],\n",
       "  [755.0, 755.0, 765.0, 765.0],\n",
       "  [795.0, 795.0, 805.0, 805.0],\n",
       "  [785.0, 785.0, 800.0, 800.0],\n",
       "  [815.0, 815.0, 825.0, 825.0],\n",
       "  [792.5, 792.5, 820.0, 820.0],\n",
       "  [775.0, 775.0, 806.25, 806.25],\n",
       "  [760.0, 760.0, 790.625, 790.625],\n",
       "  [835.0, 835.0, 845.0, 845.0],\n",
       "  [865.0, 865.0, 875.0, 875.0],\n",
       "  [855.0, 855.0, 870.0, 870.0],\n",
       "  [840.0, 840.0, 862.5, 862.5],\n",
       "  [885.0, 885.0, 895.0, 895.0],\n",
       "  [915.0, 915.0, 925.0, 925.0],\n",
       "  [905.0, 905.0, 920.0, 920.0],\n",
       "  [890.0, 890.0, 912.5, 912.5],\n",
       "  [851.25, 851.25, 901.25, 901.25],\n",
       "  [775.3125, 775.3125, 876.25, 876.25],\n",
       "  [945.0, 945.0, 955.0, 955.0],\n",
       "  [935.0, 935.0, 950.0, 950.0],\n",
       "  [965.0, 965.0, 975.0, 975.0],\n",
       "  [942.5, 942.5, 970.0, 970.0],\n",
       "  [985.0, 985.0, 995.0, 995.0],\n",
       "  [1005.0, 1005.0, 1015.0, 1015.0],\n",
       "  [990.0, 990.0, 1010.0, 1010.0],\n",
       "  [1035.0, 1035.0, 1045.0, 1045.0],\n",
       "  [1025.0, 1025.0, 1040.0, 1040.0],\n",
       "  [1065.0, 1065.0, 1075.0, 1075.0],\n",
       "  [1055.0, 1055.0, 1070.0, 1070.0],\n",
       "  [1032.5, 1032.5, 1062.5, 1062.5],\n",
       "  [1000.0, 1000.0, 1047.5, 1047.5],\n",
       "  [956.25, 956.25, 1023.75, 1023.75],\n",
       "  [1105.0, 1105.0, 1115.0, 1115.0],\n",
       "  [1095.0, 1095.0, 1110.0, 1110.0],\n",
       "  [1085.0, 1085.0, 1102.5, 1102.5],\n",
       "  [1135.0, 1135.0, 1145.0, 1145.0],\n",
       "  [1125.0, 1125.0, 1140.0, 1140.0],\n",
       "  [1093.75, 1093.75, 1132.5, 1132.5],\n",
       "  [1175.0, 1175.0, 1185.0, 1185.0],\n",
       "  [1165.0, 1165.0, 1180.0, 1180.0],\n",
       "  [1155.0, 1155.0, 1172.5, 1172.5],\n",
       "  [1195.0, 1195.0, 1205.0, 1205.0],\n",
       "  [1245.0, 1245.0, 1255.0, 1255.0],\n",
       "  [1235.0, 1235.0, 1250.0, 1250.0],\n",
       "  [1225.0, 1225.0, 1242.5, 1242.5],\n",
       "  [1215.0, 1215.0, 1233.75, 1233.75],\n",
       "  [1200.0, 1200.0, 1224.375, 1224.375],\n",
       "  [1163.75, 1163.75, 1212.1875, 1212.1875],\n",
       "  [1113.125, 1113.125, 1187.96875, 1187.96875],\n",
       "  [990.0, 990.0, 1150.546875, 1150.546875],\n",
       "  [825.78125, 825.78125, 1070.2734375, 1070.2734375],\n",
       "  [551.9921875, 551.9921875, 948.02734375, 948.02734375],\n",
       "  [290.9375, 290.9375, 750.009765625, 750.009765625],\n",
       "  [63.125, 63.125, 520.4736328125, 520.4736328125],\n",
       "  [1275.0, 1275.0, 1285.0, 1285.0],\n",
       "  [1265.0, 1265.0, 1280.0, 1280.0],\n",
       "  [1295.0, 1295.0, 1305.0, 1305.0],\n",
       "  [1315.0, 1315.0, 1325.0, 1325.0],\n",
       "  [1355.0, 1355.0, 1365.0, 1365.0],\n",
       "  [1345.0, 1345.0, 1360.0, 1360.0],\n",
       "  [1335.0, 1335.0, 1352.5, 1352.5],\n",
       "  [1320.0, 1320.0, 1343.75, 1343.75],\n",
       "  [1300.0, 1300.0, 1331.875, 1331.875],\n",
       "  [1375.0, 1375.0, 1385.0, 1385.0],\n",
       "  [1395.0, 1395.0, 1405.0, 1405.0],\n",
       "  [1380.0, 1380.0, 1400.0, 1400.0],\n",
       "  [1315.9375, 1315.9375, 1390.0, 1390.0],\n",
       "  [1415.0, 1415.0, 1425.0, 1425.0],\n",
       "  [1445.0, 1445.0, 1455.0, 1455.0],\n",
       "  [1435.0, 1435.0, 1450.0, 1450.0],\n",
       "  [1420.0, 1420.0, 1442.5, 1442.5],\n",
       "  [1352.96875, 1352.96875, 1431.25, 1431.25],\n",
       "  [1475.0, 1475.0, 1485.0, 1485.0],\n",
       "  [1465.0, 1465.0, 1480.0, 1480.0],\n",
       "  [1505.0, 1505.0, 1515.0, 1515.0],\n",
       "  [1495.0, 1495.0, 1510.0, 1510.0],\n",
       "  [1545.0, 1545.0, 1555.0, 1555.0],\n",
       "  [1535.0, 1535.0, 1550.0, 1550.0],\n",
       "  [1525.0, 1525.0, 1542.5, 1542.5],\n",
       "  [1502.5, 1502.5, 1533.75, 1533.75],\n",
       "  [1472.5, 1472.5, 1518.125, 1518.125],\n",
       "  [1565.0, 1565.0, 1575.0, 1575.0],\n",
       "  [1585.0, 1585.0, 1595.0, 1595.0],\n",
       "  [1570.0, 1570.0, 1590.0, 1590.0],\n",
       "  [1635.0, 1635.0, 1645.0, 1645.0],\n",
       "  [1625.0, 1625.0, 1640.0, 1640.0],\n",
       "  [1615.0, 1615.0, 1632.5, 1632.5],\n",
       "  [1605.0, 1605.0, 1623.75, 1623.75],\n",
       "  [1580.0, 1580.0, 1614.375, 1614.375],\n",
       "  [1495.3125, 1495.3125, 1597.1875, 1597.1875],\n",
       "  [1392.109375, 1392.109375, 1546.25, 1546.25],\n",
       "  [1272.5, 1272.5, 1469.1796875, 1469.1796875],\n",
       "  [1665.0, 1665.0, 1675.0, 1675.0],\n",
       "  [1655.0, 1655.0, 1670.0, 1670.0],\n",
       "  [1685.0, 1685.0, 1695.0, 1695.0],\n",
       "  [1735.0, 1735.0, 1745.0, 1745.0],\n",
       "  [1725.0, 1725.0, 1740.0, 1740.0],\n",
       "  [1715.0, 1715.0, 1732.5, 1732.5],\n",
       "  [1705.0, 1705.0, 1723.75, 1723.75],\n",
       "  [1690.0, 1690.0, 1714.375, 1714.375],\n",
       "  [1662.5, 1662.5, 1702.1875, 1702.1875],\n",
       "  [1755.0, 1755.0, 1765.0, 1765.0],\n",
       "  [1795.0, 1795.0, 1805.0, 1805.0],\n",
       "  [1785.0, 1785.0, 1800.0, 1800.0],\n",
       "  [1775.0, 1775.0, 1792.5, 1792.5],\n",
       "  [1760.0, 1760.0, 1783.75, 1783.75],\n",
       "  [1815.0, 1815.0, 1825.0, 1825.0],\n",
       "  [1835.0, 1835.0, 1845.0, 1845.0],\n",
       "  [1820.0, 1820.0, 1840.0, 1840.0],\n",
       "  [1855.0, 1855.0, 1865.0, 1865.0],\n",
       "  [1885.0, 1885.0, 1895.0, 1895.0],\n",
       "  [1875.0, 1875.0, 1890.0, 1890.0],\n",
       "  [1860.0, 1860.0, 1882.5, 1882.5],\n",
       "  [1915.0, 1915.0, 1925.0, 1925.0],\n",
       "  [1905.0, 1905.0, 1920.0, 1920.0],\n",
       "  [1935.0, 1935.0, 1945.0, 1945.0],\n",
       "  [1955.0, 1955.0, 1965.0, 1965.0],\n",
       "  [1985.0, 1985.0, 1995.0, 1995.0],\n",
       "  [1975.0, 1975.0, 1990.0, 1990.0],\n",
       "  [1960.0, 1960.0, 1982.5, 1982.5],\n",
       "  [1940.0, 1940.0, 1971.25, 1971.25],\n",
       "  [1912.5, 1912.5, 1955.625, 1955.625],\n",
       "  [1871.25, 1871.25, 1934.0625, 1934.0625],\n",
       "  [1830.0, 1830.0, 1902.65625, 1902.65625],\n",
       "  [1771.875, 1771.875, 1866.328125, 1866.328125],\n",
       "  [1682.34375, 1682.34375, 1819.1015625, 1819.1015625],\n",
       "  [1370.83984375, 1370.83984375, 1750.72265625, 1750.72265625],\n",
       "  [291.79931640625, 291.79931640625, 1560.78125, 1560.78125]],\n",
       " 'dcoord': [[0.0, 4.123105625617661, 4.123105625617661, 0.0],\n",
       "  [0.0, 15.198684153570664, 15.198684153570664, 4.123105625617661],\n",
       "  [0.0, 1.7320508075688772, 1.7320508075688772, 0.0],\n",
       "  [0.0, 3.1622776601683795, 3.1622776601683795, 0.0],\n",
       "  [1.7320508075688772,\n",
       "   5.522680508593631,\n",
       "   5.522680508593631,\n",
       "   3.1622776601683795],\n",
       "  [0.0, 6.789698078707183, 6.789698078707183, 5.522680508593631],\n",
       "  [0.0, 6.082762530298219, 6.082762530298219, 0.0],\n",
       "  [0.0, 7.047458170621992, 7.047458170621992, 6.082762530298219],\n",
       "  [0.0, 13.558515159608493, 13.558515159608493, 7.047458170621992],\n",
       "  [6.789698078707183,\n",
       "   19.740257794106384,\n",
       "   19.740257794106384,\n",
       "   13.558515159608493],\n",
       "  [0.0, 7.280109889280518, 7.280109889280518, 0.0],\n",
       "  [0.0, 8.18535277187245, 8.18535277187245, 7.280109889280518],\n",
       "  [0.0, 12.16552506059644, 12.16552506059644, 8.18535277187245],\n",
       "  [0.0, 7.810249675906654, 7.810249675906654, 0.0],\n",
       "  [0.0, 8.0, 8.0, 0.0],\n",
       "  [7.810249675906654, 16.170961628796228, 16.170961628796228, 8.0],\n",
       "  [12.16552506059644,\n",
       "   25.782746168707476,\n",
       "   25.782746168707476,\n",
       "   16.170961628796228],\n",
       "  [19.740257794106384,\n",
       "   43.265614507282926,\n",
       "   43.265614507282926,\n",
       "   25.782746168707476],\n",
       "  [15.198684153570664,\n",
       "   47.426351573038076,\n",
       "   47.426351573038076,\n",
       "   43.265614507282926],\n",
       "  [0.0, 9.219544457292887, 9.219544457292887, 0.0],\n",
       "  [0.0, 13.428824718989123, 13.428824718989123, 9.219544457292887],\n",
       "  [0.0, 7.615773105863909, 7.615773105863909, 0.0],\n",
       "  [0.0, 7.0710678118654755, 7.0710678118654755, 0.0],\n",
       "  [0.0, 13.73559851869101, 13.73559851869101, 7.0710678118654755],\n",
       "  [7.615773105863909,\n",
       "   15.929009176133127,\n",
       "   15.929009176133127,\n",
       "   13.73559851869101],\n",
       "  [13.428824718989123,\n",
       "   29.24921651372335,\n",
       "   29.24921651372335,\n",
       "   15.929009176133127],\n",
       "  [0.0, 8.18535277187245, 8.18535277187245, 0.0],\n",
       "  [0.0, 19.4164878389476, 19.4164878389476, 8.18535277187245],\n",
       "  [0.0, 11.224972160321824, 11.224972160321824, 0.0],\n",
       "  [0.0, 5.196152422706632, 5.196152422706632, 0.0],\n",
       "  [0.0, 13.102162671355696, 13.102162671355696, 5.196152422706632],\n",
       "  [11.224972160321824,\n",
       "   22.274050671876754,\n",
       "   22.274050671876754,\n",
       "   13.102162671355696],\n",
       "  [19.4164878389476, 29.28651566847788, 29.28651566847788, 22.274050671876754],\n",
       "  [0.0, 7.681145747868608, 7.681145747868608, 0.0],\n",
       "  [0.0, 19.244046698481412, 19.244046698481412, 7.681145747868608],\n",
       "  [0.0, 3.3166247903554, 3.3166247903554, 0.0],\n",
       "  [0.0, 9.780933834080805, 9.780933834080805, 3.3166247903554],\n",
       "  [0.0, 19.5021366350801, 19.5021366350801, 9.780933834080805],\n",
       "  [19.244046698481412, 53.60925648572624, 53.60925648572624, 19.5021366350801],\n",
       "  [29.28651566847788, 62.18264188968615, 62.18264188968615, 53.60925648572624],\n",
       "  [29.24921651372335, 80.42644943124085, 80.42644943124085, 62.18264188968615],\n",
       "  [0.0, 2.0, 2.0, 0.0],\n",
       "  [0.0, 6.733003292241384, 6.733003292241384, 2.0],\n",
       "  [0.0, 5.830951894845301, 5.830951894845301, 0.0],\n",
       "  [0.0, 8.286535263104037, 8.286535263104037, 5.830951894845301],\n",
       "  [6.733003292241384,\n",
       "   15.695009822658069,\n",
       "   15.695009822658069,\n",
       "   8.286535263104037],\n",
       "  [0.0, 4.0, 4.0, 0.0],\n",
       "  [0.0, 10.77032961426901, 10.77032961426901, 4.0],\n",
       "  [0.0, 16.34013463836819, 16.34013463836819, 10.77032961426901],\n",
       "  [15.695009822658069,\n",
       "   34.55526973801054,\n",
       "   34.55526973801054,\n",
       "   16.34013463836819],\n",
       "  [0.0, 1.0, 1.0, 0.0],\n",
       "  [0.0, 5.196152422706632, 5.196152422706632, 1.0],\n",
       "  [0.0, 3.7416573867739413, 3.7416573867739413, 0.0],\n",
       "  [0.0, 3.872983346207417, 3.872983346207417, 0.0],\n",
       "  [3.7416573867739413,\n",
       "   6.442049363362563,\n",
       "   6.442049363362563,\n",
       "   3.872983346207417],\n",
       "  [0.0, 3.872983346207417, 3.872983346207417, 0.0],\n",
       "  [0.0, 5.196152422706632, 5.196152422706632, 0.0],\n",
       "  [3.872983346207417, 9.16515138991168, 9.16515138991168, 5.196152422706632],\n",
       "  [6.442049363362563,\n",
       "   16.408839081421934,\n",
       "   16.408839081421934,\n",
       "   9.16515138991168],\n",
       "  [5.196152422706632,\n",
       "   27.52313076800543,\n",
       "   27.52313076800543,\n",
       "   16.408839081421934],\n",
       "  [0.0, 5.744562646538029, 5.744562646538029, 0.0],\n",
       "  [0.0, 12.288205727444506, 12.288205727444506, 5.744562646538029],\n",
       "  [0.0, 2.23606797749979, 2.23606797749979, 0.0],\n",
       "  [0.0, 6.027713773341708, 6.027713773341708, 2.23606797749979],\n",
       "  [0.0, 2.23606797749979, 2.23606797749979, 0.0],\n",
       "  [0.0, 4.041451884327381, 4.041451884327381, 2.23606797749979],\n",
       "  [0.0, 5.066228051190221, 5.066228051190221, 4.041451884327381],\n",
       "  [0.0, 7.389181280764467, 7.389181280764467, 5.066228051190221],\n",
       "  [6.027713773341708, 16.72772150254381, 16.72772150254381, 7.389181280764467],\n",
       "  [12.288205727444506,\n",
       "   34.873472596073526,\n",
       "   34.873472596073526,\n",
       "   16.72772150254381],\n",
       "  [27.52313076800543,\n",
       "   51.49933803634585,\n",
       "   51.49933803634585,\n",
       "   34.873472596073526],\n",
       "  [34.55526973801054, 80.88216035465646, 80.88216035465646, 51.49933803634585],\n",
       "  [0.0, 5.291502622129181, 5.291502622129181, 0.0],\n",
       "  [0.0, 2.449489742783178, 2.449489742783178, 0.0],\n",
       "  [0.0, 3.7416573867739413, 3.7416573867739413, 2.449489742783178],\n",
       "  [0.0, 5.5677643628300215, 5.5677643628300215, 0.0],\n",
       "  [3.7416573867739413,\n",
       "   10.963576058932597,\n",
       "   10.963576058932597,\n",
       "   5.5677643628300215],\n",
       "  [0.0, 14.667424222859765, 14.667424222859765, 10.963576058932597],\n",
       "  [5.291502622129181,\n",
       "   19.128948394166017,\n",
       "   19.128948394166017,\n",
       "   14.667424222859765],\n",
       "  [0.0, 4.47213595499958, 4.47213595499958, 0.0],\n",
       "  [0.0, 4.358898943540674, 4.358898943540674, 0.0],\n",
       "  [0.0, 7.280109889280518, 7.280109889280518, 4.358898943540674],\n",
       "  [4.47213595499958, 9.879271228182775, 9.879271228182775, 7.280109889280518],\n",
       "  [0.0, 3.1622776601683795, 3.1622776601683795, 0.0],\n",
       "  [0.0, 4.242640687119285, 4.242640687119285, 0.0],\n",
       "  [0.0, 6.5828058860438325, 6.5828058860438325, 4.242640687119285],\n",
       "  [3.1622776601683795,\n",
       "   11.27238513654793,\n",
       "   11.27238513654793,\n",
       "   6.5828058860438325],\n",
       "  [9.879271228182775,\n",
       "   22.441033844277314,\n",
       "   22.441033844277314,\n",
       "   11.27238513654793],\n",
       "  [19.128948394166017, 38.2975920333845, 38.2975920333845, 22.441033844277314],\n",
       "  [0.0, 3.4641016151377544, 3.4641016151377544, 0.0],\n",
       "  [0.0, 5.773502691896257, 5.773502691896257, 3.4641016151377544],\n",
       "  [0.0, 6.6332495807108, 6.6332495807108, 0.0],\n",
       "  [5.773502691896257, 15.7310732840028, 15.7310732840028, 6.6332495807108],\n",
       "  [0.0, 4.58257569495584, 4.58257569495584, 0.0],\n",
       "  [0.0, 6.244997998398398, 6.244997998398398, 0.0],\n",
       "  [4.58257569495584, 8.774964387392123, 8.774964387392123, 6.244997998398398],\n",
       "  [0.0, 3.1622776601683795, 3.1622776601683795, 0.0],\n",
       "  [0.0, 4.242640687119285, 4.242640687119285, 3.1622776601683795],\n",
       "  [0.0, 7.0, 7.0, 0.0],\n",
       "  [0.0, 7.234178138070234, 7.234178138070234, 7.0],\n",
       "  [4.242640687119285, 14.39907404430345, 14.39907404430345, 7.234178138070234],\n",
       "  [8.774964387392123,\n",
       "   20.811855595629464,\n",
       "   20.811855595629464,\n",
       "   14.39907404430345],\n",
       "  [15.7310732840028,\n",
       "   33.551949769474405,\n",
       "   33.551949769474405,\n",
       "   20.811855595629464],\n",
       "  [0.0, 3.0, 3.0, 0.0],\n",
       "  [0.0, 5.446711546122731, 5.446711546122731, 3.0],\n",
       "  [0.0, 11.718930554164631, 11.718930554164631, 5.446711546122731],\n",
       "  [0.0, 7.681145747868608, 7.681145747868608, 0.0],\n",
       "  [0.0, 15.737428845483835, 15.737428845483835, 7.681145747868608],\n",
       "  [11.718930554164631,\n",
       "   25.245461638348647,\n",
       "   25.245461638348647,\n",
       "   15.737428845483835],\n",
       "  [0.0, 3.605551275463989, 3.605551275463989, 0.0],\n",
       "  [0.0, 6.855654600401044, 6.855654600401044, 3.605551275463989],\n",
       "  [0.0, 9.460443964212251, 9.460443964212251, 6.855654600401044],\n",
       "  [0.0, 6.0, 6.0, 0.0],\n",
       "  [0.0, 2.6457513110645907, 2.6457513110645907, 0.0],\n",
       "  [0.0, 3.0, 3.0, 2.6457513110645907],\n",
       "  [0.0, 4.795831523312719, 4.795831523312719, 3.0],\n",
       "  [0.0, 7.224956747275377, 7.224956747275377, 4.795831523312719],\n",
       "  [6.0, 11.14578716056302, 11.14578716056302, 7.224956747275377],\n",
       "  [9.460443964212251,\n",
       "   30.555144953295226,\n",
       "   30.555144953295226,\n",
       "   11.14578716056302],\n",
       "  [25.245461638348647,\n",
       "   39.439251329792576,\n",
       "   39.439251329792576,\n",
       "   30.555144953295226],\n",
       "  [33.551949769474405,\n",
       "   59.511648974266905,\n",
       "   59.511648974266905,\n",
       "   39.439251329792576],\n",
       "  [38.2975920333845, 89.39318438304686, 89.39318438304686, 59.511648974266905],\n",
       "  [80.88216035465646, 180.0409794104339, 180.0409794104339, 89.39318438304686],\n",
       "  [80.42644943124085,\n",
       "   243.91973393553167,\n",
       "   243.91973393553167,\n",
       "   180.0409794104339],\n",
       "  [47.426351573038076,\n",
       "   277.4215360336793,\n",
       "   277.4215360336793,\n",
       "   243.91973393553167],\n",
       "  [0.0, 8.48528137423857, 8.48528137423857, 0.0],\n",
       "  [0.0, 18.29389697868299, 18.29389697868299, 8.48528137423857],\n",
       "  [0.0, 1.0, 1.0, 0.0],\n",
       "  [0.0, 2.449489742783178, 2.449489742783178, 0.0],\n",
       "  [0.0, 2.8284271247461903, 2.8284271247461903, 0.0],\n",
       "  [0.0, 4.472135954999579, 4.472135954999579, 2.8284271247461903],\n",
       "  [0.0, 7.449832212875671, 7.449832212875671, 4.472135954999579],\n",
       "  [2.449489742783178, 8.841191473249895, 8.841191473249895, 7.449832212875671],\n",
       "  [1.0, 13.146609195276678, 13.146609195276678, 8.841191473249895],\n",
       "  [0.0, 5.196152422706632, 5.196152422706632, 0.0],\n",
       "  [0.0, 7.3484692283495345, 7.3484692283495345, 0.0],\n",
       "  [5.196152422706632,\n",
       "   13.435028842544403,\n",
       "   13.435028842544403,\n",
       "   7.3484692283495345],\n",
       "  [13.146609195276678,\n",
       "   18.470697514351393,\n",
       "   18.470697514351393,\n",
       "   13.435028842544403],\n",
       "  [0.0, 4.795831523312719, 4.795831523312719, 0.0],\n",
       "  [0.0, 6.164414002968976, 6.164414002968976, 0.0],\n",
       "  [0.0, 11.633285577743433, 11.633285577743433, 6.164414002968976],\n",
       "  [4.795831523312719,\n",
       "   22.81373855085279,\n",
       "   22.81373855085279,\n",
       "   11.633285577743433],\n",
       "  [18.470697514351393,\n",
       "   51.14429797823287,\n",
       "   51.14429797823287,\n",
       "   22.81373855085279],\n",
       "  [0.0, 4.58257569495584, 4.58257569495584, 0.0],\n",
       "  [0.0, 10.908712114635714, 10.908712114635714, 4.58257569495584],\n",
       "  [0.0, 4.358898943540674, 4.358898943540674, 0.0],\n",
       "  [0.0, 5.972157622389639, 5.972157622389639, 4.358898943540674],\n",
       "  [0.0, 4.69041575982343, 4.69041575982343, 0.0],\n",
       "  [0.0, 6.164414002968976, 6.164414002968976, 4.69041575982343],\n",
       "  [0.0, 8.215838362577493, 8.215838362577493, 6.164414002968976],\n",
       "  [5.972157622389639,\n",
       "   11.217545780309226,\n",
       "   11.217545780309226,\n",
       "   8.215838362577493],\n",
       "  [10.908712114635714,\n",
       "   20.24845673131659,\n",
       "   20.24845673131659,\n",
       "   11.217545780309226],\n",
       "  [0.0, 4.58257569495584, 4.58257569495584, 0.0],\n",
       "  [0.0, 8.246211251235321, 8.246211251235321, 0.0],\n",
       "  [4.58257569495584,\n",
       "   10.024968827881711,\n",
       "   10.024968827881711,\n",
       "   8.246211251235321],\n",
       "  [0.0, 3.7416573867739413, 3.7416573867739413, 0.0],\n",
       "  [0.0, 9.273618495495702, 9.273618495495702, 3.7416573867739413],\n",
       "  [0.0, 13.490737563232042, 13.490737563232042, 9.273618495495702],\n",
       "  [0.0, 19.276929216034386, 19.276929216034386, 13.490737563232042],\n",
       "  [10.024968827881711,\n",
       "   28.63583613431099,\n",
       "   28.63583613431099,\n",
       "   19.276929216034386],\n",
       "  [20.24845673131659, 62.89292859961489, 62.89292859961489, 28.63583613431099],\n",
       "  [51.14429797823287, 75.82396487793817, 75.82396487793817, 62.89292859961489],\n",
       "  [18.29389697868299,\n",
       "   105.23406958637207,\n",
       "   105.23406958637207,\n",
       "   75.82396487793817],\n",
       "  [0.0, 13.564659966250536, 13.564659966250536, 0.0],\n",
       "  [0.0, 23.38090388900024, 23.38090388900024, 13.564659966250536],\n",
       "  [0.0, 8.306623862918075, 8.306623862918075, 0.0],\n",
       "  [0.0, 7.483314773547883, 7.483314773547883, 0.0],\n",
       "  [0.0, 13.952299690970898, 13.952299690970898, 7.483314773547883],\n",
       "  [0.0, 18.133762249829278, 18.133762249829278, 13.952299690970898],\n",
       "  [0.0, 25.06990227344335, 25.06990227344335, 18.133762249829278],\n",
       "  [8.306623862918075, 32.3397146378434, 32.3397146378434, 25.06990227344335],\n",
       "  [23.38090388900024, 52.75486887933843, 52.75486887933843, 32.3397146378434],\n",
       "  [0.0, 3.0, 3.0, 0.0],\n",
       "  [0.0, 5.196152422706632, 5.196152422706632, 0.0],\n",
       "  [0.0, 9.146948489341495, 9.146948489341495, 5.196152422706632],\n",
       "  [0.0, 9.60902353693305, 9.60902353693305, 9.146948489341495],\n",
       "  [3.0, 26.814175355583846, 26.814175355583846, 9.60902353693305],\n",
       "  [0.0, 7.874007874011811, 7.874007874011811, 0.0],\n",
       "  [0.0, 12.449899597988733, 12.449899597988733, 0.0],\n",
       "  [7.874007874011811,\n",
       "   17.07337107896387,\n",
       "   17.07337107896387,\n",
       "   12.449899597988733],\n",
       "  [0.0, 5.0, 5.0, 0.0],\n",
       "  [0.0, 9.38083151964686, 9.38083151964686, 0.0],\n",
       "  [0.0, 11.547005383792515, 11.547005383792515, 9.38083151964686],\n",
       "  [5.0, 18.635092343926463, 18.635092343926463, 11.547005383792515],\n",
       "  [0.0, 5.196152422706632, 5.196152422706632, 0.0],\n",
       "  [0.0, 8.386497083606082, 8.386497083606082, 5.196152422706632],\n",
       "  [0.0, 7.615773105863909, 7.615773105863909, 0.0],\n",
       "  [0.0, 4.358898943540674, 4.358898943540674, 0.0],\n",
       "  [0.0, 3.4641016151377544, 3.4641016151377544, 0.0],\n",
       "  [0.0, 5.033222956847166, 5.033222956847166, 3.4641016151377544],\n",
       "  [4.358898943540674, 17.67672669547919, 17.67672669547919, 5.033222956847166],\n",
       "  [7.615773105863909, 24.46104775235225, 24.46104775235225, 17.67672669547919],\n",
       "  [8.386497083606082, 34.35001906147665, 34.35001906147665, 24.46104775235225],\n",
       "  [18.635092343926463,\n",
       "   40.37821194654366,\n",
       "   40.37821194654366,\n",
       "   34.35001906147665],\n",
       "  [17.07337107896387, 47.43577375334935, 47.43577375334935, 40.37821194654366],\n",
       "  [26.814175355583846,\n",
       "   76.25711355946441,\n",
       "   76.25711355946441,\n",
       "   47.43577375334935],\n",
       "  [52.75486887933843,\n",
       "   116.39673534940746,\n",
       "   116.39673534940746,\n",
       "   76.25711355946441],\n",
       "  [105.23406958637207,\n",
       "   397.74852758858975,\n",
       "   397.74852758858975,\n",
       "   116.39673534940746],\n",
       "  [277.4215360336793,\n",
       "   411.91906668013985,\n",
       "   411.91906668013985,\n",
       "   397.74852758858975]],\n",
       " 'ivl': ['7',\n",
       "  '11',\n",
       "  '19',\n",
       "  '1',\n",
       "  '3',\n",
       "  '5',\n",
       "  '13',\n",
       "  '15',\n",
       "  '17',\n",
       "  '9',\n",
       "  '21',\n",
       "  '23',\n",
       "  '37',\n",
       "  '31',\n",
       "  '35',\n",
       "  '39',\n",
       "  '33',\n",
       "  '41',\n",
       "  '25',\n",
       "  '29',\n",
       "  '8',\n",
       "  '10',\n",
       "  '12',\n",
       "  '30',\n",
       "  '32',\n",
       "  '22',\n",
       "  '24',\n",
       "  '34',\n",
       "  '40',\n",
       "  '42',\n",
       "  '44',\n",
       "  '36',\n",
       "  '38',\n",
       "  '18',\n",
       "  '26',\n",
       "  '28',\n",
       "  '2',\n",
       "  '6',\n",
       "  '14',\n",
       "  '0',\n",
       "  '4',\n",
       "  '16',\n",
       "  '20',\n",
       "  '47',\n",
       "  '48',\n",
       "  '49',\n",
       "  '69',\n",
       "  '52',\n",
       "  '58',\n",
       "  '27',\n",
       "  '45',\n",
       "  '43',\n",
       "  '51',\n",
       "  '61',\n",
       "  '65',\n",
       "  '68',\n",
       "  '84',\n",
       "  '87',\n",
       "  '75',\n",
       "  '78',\n",
       "  '95',\n",
       "  '97',\n",
       "  '103',\n",
       "  '120',\n",
       "  '142',\n",
       "  '124',\n",
       "  '132',\n",
       "  '91',\n",
       "  '100',\n",
       "  '105',\n",
       "  '111',\n",
       "  '99',\n",
       "  '113',\n",
       "  '114',\n",
       "  '115',\n",
       "  '90',\n",
       "  '102',\n",
       "  '82',\n",
       "  '110',\n",
       "  '106',\n",
       "  '109',\n",
       "  '108',\n",
       "  '116',\n",
       "  '74',\n",
       "  '80',\n",
       "  '73',\n",
       "  '64',\n",
       "  '72',\n",
       "  '60',\n",
       "  '70',\n",
       "  '57',\n",
       "  '62',\n",
       "  '67',\n",
       "  '46',\n",
       "  '50',\n",
       "  '56',\n",
       "  '53',\n",
       "  '63',\n",
       "  '54',\n",
       "  '59',\n",
       "  '55',\n",
       "  '71',\n",
       "  '79',\n",
       "  '83',\n",
       "  '85',\n",
       "  '77',\n",
       "  '66',\n",
       "  '76',\n",
       "  '86',\n",
       "  '104',\n",
       "  '117',\n",
       "  '119',\n",
       "  '122',\n",
       "  '81',\n",
       "  '88',\n",
       "  '94',\n",
       "  '93',\n",
       "  '112',\n",
       "  '121',\n",
       "  '107',\n",
       "  '118',\n",
       "  '98',\n",
       "  '89',\n",
       "  '101',\n",
       "  '92',\n",
       "  '96',\n",
       "  '199',\n",
       "  '195',\n",
       "  '197',\n",
       "  '129',\n",
       "  '131',\n",
       "  '147',\n",
       "  '159',\n",
       "  '125',\n",
       "  '139',\n",
       "  '133',\n",
       "  '137',\n",
       "  '157',\n",
       "  '161',\n",
       "  '153',\n",
       "  '165',\n",
       "  '187',\n",
       "  '191',\n",
       "  '169',\n",
       "  '171',\n",
       "  '177',\n",
       "  '151',\n",
       "  '123',\n",
       "  '127',\n",
       "  '155',\n",
       "  '135',\n",
       "  '143',\n",
       "  '145',\n",
       "  '163',\n",
       "  '141',\n",
       "  '149',\n",
       "  '167',\n",
       "  '173',\n",
       "  '175',\n",
       "  '179',\n",
       "  '193',\n",
       "  '185',\n",
       "  '189',\n",
       "  '181',\n",
       "  '183',\n",
       "  '198',\n",
       "  '194',\n",
       "  '196',\n",
       "  '180',\n",
       "  '184',\n",
       "  '192',\n",
       "  '186',\n",
       "  '190',\n",
       "  '182',\n",
       "  '188',\n",
       "  '156',\n",
       "  '158',\n",
       "  '162',\n",
       "  '144',\n",
       "  '134',\n",
       "  '138',\n",
       "  '126',\n",
       "  '146',\n",
       "  '160',\n",
       "  '164',\n",
       "  '170',\n",
       "  '172',\n",
       "  '148',\n",
       "  '166',\n",
       "  '168',\n",
       "  '174',\n",
       "  '176',\n",
       "  '178',\n",
       "  '128',\n",
       "  '140',\n",
       "  '130',\n",
       "  '136',\n",
       "  '154',\n",
       "  '150',\n",
       "  '152'],\n",
       " 'leaves': [7,\n",
       "  11,\n",
       "  19,\n",
       "  1,\n",
       "  3,\n",
       "  5,\n",
       "  13,\n",
       "  15,\n",
       "  17,\n",
       "  9,\n",
       "  21,\n",
       "  23,\n",
       "  37,\n",
       "  31,\n",
       "  35,\n",
       "  39,\n",
       "  33,\n",
       "  41,\n",
       "  25,\n",
       "  29,\n",
       "  8,\n",
       "  10,\n",
       "  12,\n",
       "  30,\n",
       "  32,\n",
       "  22,\n",
       "  24,\n",
       "  34,\n",
       "  40,\n",
       "  42,\n",
       "  44,\n",
       "  36,\n",
       "  38,\n",
       "  18,\n",
       "  26,\n",
       "  28,\n",
       "  2,\n",
       "  6,\n",
       "  14,\n",
       "  0,\n",
       "  4,\n",
       "  16,\n",
       "  20,\n",
       "  47,\n",
       "  48,\n",
       "  49,\n",
       "  69,\n",
       "  52,\n",
       "  58,\n",
       "  27,\n",
       "  45,\n",
       "  43,\n",
       "  51,\n",
       "  61,\n",
       "  65,\n",
       "  68,\n",
       "  84,\n",
       "  87,\n",
       "  75,\n",
       "  78,\n",
       "  95,\n",
       "  97,\n",
       "  103,\n",
       "  120,\n",
       "  142,\n",
       "  124,\n",
       "  132,\n",
       "  91,\n",
       "  100,\n",
       "  105,\n",
       "  111,\n",
       "  99,\n",
       "  113,\n",
       "  114,\n",
       "  115,\n",
       "  90,\n",
       "  102,\n",
       "  82,\n",
       "  110,\n",
       "  106,\n",
       "  109,\n",
       "  108,\n",
       "  116,\n",
       "  74,\n",
       "  80,\n",
       "  73,\n",
       "  64,\n",
       "  72,\n",
       "  60,\n",
       "  70,\n",
       "  57,\n",
       "  62,\n",
       "  67,\n",
       "  46,\n",
       "  50,\n",
       "  56,\n",
       "  53,\n",
       "  63,\n",
       "  54,\n",
       "  59,\n",
       "  55,\n",
       "  71,\n",
       "  79,\n",
       "  83,\n",
       "  85,\n",
       "  77,\n",
       "  66,\n",
       "  76,\n",
       "  86,\n",
       "  104,\n",
       "  117,\n",
       "  119,\n",
       "  122,\n",
       "  81,\n",
       "  88,\n",
       "  94,\n",
       "  93,\n",
       "  112,\n",
       "  121,\n",
       "  107,\n",
       "  118,\n",
       "  98,\n",
       "  89,\n",
       "  101,\n",
       "  92,\n",
       "  96,\n",
       "  199,\n",
       "  195,\n",
       "  197,\n",
       "  129,\n",
       "  131,\n",
       "  147,\n",
       "  159,\n",
       "  125,\n",
       "  139,\n",
       "  133,\n",
       "  137,\n",
       "  157,\n",
       "  161,\n",
       "  153,\n",
       "  165,\n",
       "  187,\n",
       "  191,\n",
       "  169,\n",
       "  171,\n",
       "  177,\n",
       "  151,\n",
       "  123,\n",
       "  127,\n",
       "  155,\n",
       "  135,\n",
       "  143,\n",
       "  145,\n",
       "  163,\n",
       "  141,\n",
       "  149,\n",
       "  167,\n",
       "  173,\n",
       "  175,\n",
       "  179,\n",
       "  193,\n",
       "  185,\n",
       "  189,\n",
       "  181,\n",
       "  183,\n",
       "  198,\n",
       "  194,\n",
       "  196,\n",
       "  180,\n",
       "  184,\n",
       "  192,\n",
       "  186,\n",
       "  190,\n",
       "  182,\n",
       "  188,\n",
       "  156,\n",
       "  158,\n",
       "  162,\n",
       "  144,\n",
       "  134,\n",
       "  138,\n",
       "  126,\n",
       "  146,\n",
       "  160,\n",
       "  164,\n",
       "  170,\n",
       "  172,\n",
       "  148,\n",
       "  166,\n",
       "  168,\n",
       "  174,\n",
       "  176,\n",
       "  178,\n",
       "  128,\n",
       "  140,\n",
       "  130,\n",
       "  136,\n",
       "  154,\n",
       "  150,\n",
       "  152],\n",
       " 'color_list': ['C1',\n",
       "  'C1',\n",
       "  'C1',\n",
       "  'C1',\n",
       "  'C1',\n",
       "  'C1',\n",
       "  'C1',\n",
       "  'C1',\n",
       "  'C1',\n",
       "  'C1',\n",
       "  'C1',\n",
       "  'C1',\n",
       "  'C1',\n",
       "  'C1',\n",
       "  'C1',\n",
       "  'C1',\n",
       "  'C1',\n",
       "  'C1',\n",
       "  'C1',\n",
       "  'C1',\n",
       "  'C1',\n",
       "  'C1',\n",
       "  'C1',\n",
       "  'C1',\n",
       "  'C1',\n",
       "  'C1',\n",
       "  'C1',\n",
       "  'C1',\n",
       "  'C1',\n",
       "  'C1',\n",
       "  'C1',\n",
       "  'C1',\n",
       "  'C1',\n",
       "  'C1',\n",
       "  'C1',\n",
       "  'C1',\n",
       "  'C1',\n",
       "  'C1',\n",
       "  'C1',\n",
       "  'C1',\n",
       "  'C1',\n",
       "  'C1',\n",
       "  'C1',\n",
       "  'C1',\n",
       "  'C1',\n",
       "  'C1',\n",
       "  'C1',\n",
       "  'C1',\n",
       "  'C1',\n",
       "  'C1',\n",
       "  'C1',\n",
       "  'C1',\n",
       "  'C1',\n",
       "  'C1',\n",
       "  'C1',\n",
       "  'C1',\n",
       "  'C1',\n",
       "  'C1',\n",
       "  'C1',\n",
       "  'C1',\n",
       "  'C1',\n",
       "  'C1',\n",
       "  'C1',\n",
       "  'C1',\n",
       "  'C1',\n",
       "  'C1',\n",
       "  'C1',\n",
       "  'C1',\n",
       "  'C1',\n",
       "  'C1',\n",
       "  'C1',\n",
       "  'C1',\n",
       "  'C1',\n",
       "  'C1',\n",
       "  'C1',\n",
       "  'C1',\n",
       "  'C1',\n",
       "  'C1',\n",
       "  'C1',\n",
       "  'C1',\n",
       "  'C1',\n",
       "  'C1',\n",
       "  'C1',\n",
       "  'C1',\n",
       "  'C1',\n",
       "  'C1',\n",
       "  'C1',\n",
       "  'C1',\n",
       "  'C1',\n",
       "  'C1',\n",
       "  'C1',\n",
       "  'C1',\n",
       "  'C1',\n",
       "  'C1',\n",
       "  'C1',\n",
       "  'C1',\n",
       "  'C1',\n",
       "  'C1',\n",
       "  'C1',\n",
       "  'C1',\n",
       "  'C1',\n",
       "  'C1',\n",
       "  'C1',\n",
       "  'C1',\n",
       "  'C1',\n",
       "  'C1',\n",
       "  'C1',\n",
       "  'C1',\n",
       "  'C1',\n",
       "  'C1',\n",
       "  'C1',\n",
       "  'C1',\n",
       "  'C1',\n",
       "  'C1',\n",
       "  'C1',\n",
       "  'C1',\n",
       "  'C1',\n",
       "  'C1',\n",
       "  'C1',\n",
       "  'C1',\n",
       "  'C1',\n",
       "  'C1',\n",
       "  'C1',\n",
       "  'C1',\n",
       "  'C1',\n",
       "  'C2',\n",
       "  'C2',\n",
       "  'C2',\n",
       "  'C2',\n",
       "  'C2',\n",
       "  'C2',\n",
       "  'C2',\n",
       "  'C2',\n",
       "  'C2',\n",
       "  'C2',\n",
       "  'C2',\n",
       "  'C2',\n",
       "  'C2',\n",
       "  'C2',\n",
       "  'C2',\n",
       "  'C2',\n",
       "  'C2',\n",
       "  'C2',\n",
       "  'C2',\n",
       "  'C2',\n",
       "  'C2',\n",
       "  'C2',\n",
       "  'C2',\n",
       "  'C2',\n",
       "  'C2',\n",
       "  'C2',\n",
       "  'C2',\n",
       "  'C2',\n",
       "  'C2',\n",
       "  'C2',\n",
       "  'C2',\n",
       "  'C2',\n",
       "  'C2',\n",
       "  'C2',\n",
       "  'C2',\n",
       "  'C2',\n",
       "  'C2',\n",
       "  'C2',\n",
       "  'C3',\n",
       "  'C3',\n",
       "  'C3',\n",
       "  'C3',\n",
       "  'C3',\n",
       "  'C3',\n",
       "  'C3',\n",
       "  'C3',\n",
       "  'C3',\n",
       "  'C3',\n",
       "  'C3',\n",
       "  'C3',\n",
       "  'C3',\n",
       "  'C3',\n",
       "  'C3',\n",
       "  'C3',\n",
       "  'C3',\n",
       "  'C3',\n",
       "  'C3',\n",
       "  'C3',\n",
       "  'C3',\n",
       "  'C3',\n",
       "  'C3',\n",
       "  'C3',\n",
       "  'C3',\n",
       "  'C3',\n",
       "  'C3',\n",
       "  'C3',\n",
       "  'C3',\n",
       "  'C3',\n",
       "  'C3',\n",
       "  'C3',\n",
       "  'C3',\n",
       "  'C3',\n",
       "  'C0',\n",
       "  'C0'],\n",
       " 'leaves_color_list': ['C1',\n",
       "  'C1',\n",
       "  'C1',\n",
       "  'C1',\n",
       "  'C1',\n",
       "  'C1',\n",
       "  'C1',\n",
       "  'C1',\n",
       "  'C1',\n",
       "  'C1',\n",
       "  'C1',\n",
       "  'C1',\n",
       "  'C1',\n",
       "  'C1',\n",
       "  'C1',\n",
       "  'C1',\n",
       "  'C1',\n",
       "  'C1',\n",
       "  'C1',\n",
       "  'C1',\n",
       "  'C1',\n",
       "  'C1',\n",
       "  'C1',\n",
       "  'C1',\n",
       "  'C1',\n",
       "  'C1',\n",
       "  'C1',\n",
       "  'C1',\n",
       "  'C1',\n",
       "  'C1',\n",
       "  'C1',\n",
       "  'C1',\n",
       "  'C1',\n",
       "  'C1',\n",
       "  'C1',\n",
       "  'C1',\n",
       "  'C1',\n",
       "  'C1',\n",
       "  'C1',\n",
       "  'C1',\n",
       "  'C1',\n",
       "  'C1',\n",
       "  'C1',\n",
       "  'C1',\n",
       "  'C1',\n",
       "  'C1',\n",
       "  'C1',\n",
       "  'C1',\n",
       "  'C1',\n",
       "  'C1',\n",
       "  'C1',\n",
       "  'C1',\n",
       "  'C1',\n",
       "  'C1',\n",
       "  'C1',\n",
       "  'C1',\n",
       "  'C1',\n",
       "  'C1',\n",
       "  'C1',\n",
       "  'C1',\n",
       "  'C1',\n",
       "  'C1',\n",
       "  'C1',\n",
       "  'C1',\n",
       "  'C1',\n",
       "  'C1',\n",
       "  'C1',\n",
       "  'C1',\n",
       "  'C1',\n",
       "  'C1',\n",
       "  'C1',\n",
       "  'C1',\n",
       "  'C1',\n",
       "  'C1',\n",
       "  'C1',\n",
       "  'C1',\n",
       "  'C1',\n",
       "  'C1',\n",
       "  'C1',\n",
       "  'C1',\n",
       "  'C1',\n",
       "  'C1',\n",
       "  'C1',\n",
       "  'C1',\n",
       "  'C1',\n",
       "  'C1',\n",
       "  'C1',\n",
       "  'C1',\n",
       "  'C1',\n",
       "  'C1',\n",
       "  'C1',\n",
       "  'C1',\n",
       "  'C1',\n",
       "  'C1',\n",
       "  'C1',\n",
       "  'C1',\n",
       "  'C1',\n",
       "  'C1',\n",
       "  'C1',\n",
       "  'C1',\n",
       "  'C1',\n",
       "  'C1',\n",
       "  'C1',\n",
       "  'C1',\n",
       "  'C1',\n",
       "  'C1',\n",
       "  'C1',\n",
       "  'C1',\n",
       "  'C1',\n",
       "  'C1',\n",
       "  'C1',\n",
       "  'C1',\n",
       "  'C1',\n",
       "  'C1',\n",
       "  'C1',\n",
       "  'C1',\n",
       "  'C1',\n",
       "  'C1',\n",
       "  'C1',\n",
       "  'C1',\n",
       "  'C1',\n",
       "  'C1',\n",
       "  'C1',\n",
       "  'C1',\n",
       "  'C1',\n",
       "  'C1',\n",
       "  'C2',\n",
       "  'C2',\n",
       "  'C2',\n",
       "  'C2',\n",
       "  'C2',\n",
       "  'C2',\n",
       "  'C2',\n",
       "  'C2',\n",
       "  'C2',\n",
       "  'C2',\n",
       "  'C2',\n",
       "  'C2',\n",
       "  'C2',\n",
       "  'C2',\n",
       "  'C2',\n",
       "  'C2',\n",
       "  'C2',\n",
       "  'C2',\n",
       "  'C2',\n",
       "  'C2',\n",
       "  'C2',\n",
       "  'C2',\n",
       "  'C2',\n",
       "  'C2',\n",
       "  'C2',\n",
       "  'C2',\n",
       "  'C2',\n",
       "  'C2',\n",
       "  'C2',\n",
       "  'C2',\n",
       "  'C2',\n",
       "  'C2',\n",
       "  'C2',\n",
       "  'C2',\n",
       "  'C2',\n",
       "  'C2',\n",
       "  'C2',\n",
       "  'C2',\n",
       "  'C2',\n",
       "  'C3',\n",
       "  'C3',\n",
       "  'C3',\n",
       "  'C3',\n",
       "  'C3',\n",
       "  'C3',\n",
       "  'C3',\n",
       "  'C3',\n",
       "  'C3',\n",
       "  'C3',\n",
       "  'C3',\n",
       "  'C3',\n",
       "  'C3',\n",
       "  'C3',\n",
       "  'C3',\n",
       "  'C3',\n",
       "  'C3',\n",
       "  'C3',\n",
       "  'C3',\n",
       "  'C3',\n",
       "  'C3',\n",
       "  'C3',\n",
       "  'C3',\n",
       "  'C3',\n",
       "  'C3',\n",
       "  'C3',\n",
       "  'C3',\n",
       "  'C3',\n",
       "  'C3',\n",
       "  'C3',\n",
       "  'C3',\n",
       "  'C3',\n",
       "  'C3',\n",
       "  'C3',\n",
       "  'C3']}"
      ]
     },
     "execution_count": 47,
     "metadata": {},
     "output_type": "execute_result"
    },
    {
     "data": {
      "image/png": "[encoded data removed]",
      "text/plain": [
       "<Figure size 432x288 with 1 Axes>"
      ]
     },
     "metadata": {
      "needs_background": "light"
     },
     "output_type": "display_data"
    }
   ],
   "source": [
    "linkage_array = ward(df.iloc[:,0:5])\n",
    "dendrogram(linkage_array)"
   ]
  },
  {
   "cell_type": "markdown",
   "metadata": {
    "id": "HsHgaL3n0Z8h"
   },
   "source": [
    "#### 2.8 다시 데이터를 로드하고 다음 코드를 실행해주세요."
   ]
  },
  {
   "cell_type": "code",
   "execution_count": 48,
   "metadata": {
    "id": "McTDaQiQ0Z8h"
   },
   "outputs": [
    {
     "data": {
      "text/html": [
       "<div>\n",
       "<style scoped>\n",
       "    .dataframe tbody tr th:only-of-type {\n",
       "        vertical-align: middle;\n",
       "    }\n",
       "\n",
       "    .dataframe tbody tr th {\n",
       "        vertical-align: top;\n",
       "    }\n",
       "\n",
       "    .dataframe thead th {\n",
       "        text-align: right;\n",
       "    }\n",
       "</style>\n",
       "<table border=\"1\" class=\"dataframe\">\n",
       "  <thead>\n",
       "    <tr style=\"text-align: right;\">\n",
       "      <th></th>\n",
       "      <th>Age</th>\n",
       "      <th>Annual Income (k$)</th>\n",
       "      <th>Spending Score (1-100)</th>\n",
       "      <th>Gender_Female</th>\n",
       "      <th>Gender_Male</th>\n",
       "    </tr>\n",
       "  </thead>\n",
       "  <tbody>\n",
       "    <tr>\n",
       "      <th>0</th>\n",
       "      <td>19</td>\n",
       "      <td>15</td>\n",
       "      <td>39</td>\n",
       "      <td>0</td>\n",
       "      <td>1</td>\n",
       "    </tr>\n",
       "    <tr>\n",
       "      <th>1</th>\n",
       "      <td>21</td>\n",
       "      <td>15</td>\n",
       "      <td>81</td>\n",
       "      <td>0</td>\n",
       "      <td>1</td>\n",
       "    </tr>\n",
       "    <tr>\n",
       "      <th>2</th>\n",
       "      <td>20</td>\n",
       "      <td>16</td>\n",
       "      <td>6</td>\n",
       "      <td>1</td>\n",
       "      <td>0</td>\n",
       "    </tr>\n",
       "    <tr>\n",
       "      <th>3</th>\n",
       "      <td>23</td>\n",
       "      <td>16</td>\n",
       "      <td>77</td>\n",
       "      <td>1</td>\n",
       "      <td>0</td>\n",
       "    </tr>\n",
       "    <tr>\n",
       "      <th>4</th>\n",
       "      <td>31</td>\n",
       "      <td>17</td>\n",
       "      <td>40</td>\n",
       "      <td>1</td>\n",
       "      <td>0</td>\n",
       "    </tr>\n",
       "  </tbody>\n",
       "</table>\n",
       "</div>"
      ],
      "text/plain": [
       "   Age  Annual Income (k$)  Spending Score (1-100)  Gender_Female  Gender_Male\n",
       "0   19                  15                      39              0            1\n",
       "1   21                  15                      81              0            1\n",
       "2   20                  16                       6              1            0\n",
       "3   23                  16                      77              1            0\n",
       "4   31                  17                      40              1            0"
      ]
     },
     "execution_count": 48,
     "metadata": {},
     "output_type": "execute_result"
    }
   ],
   "source": [
    "#데이터 다시 로드\n",
    "df = pd.read_csv('Mall_Customers.csv')\n",
    "df.drop('CustomerID', axis = 1, inplace = True)\n",
    "df = pd.get_dummies(df)\n",
    "df.head()"
   ]
  },
  {
   "cell_type": "markdown",
   "metadata": {
    "id": "n5nWl49i0Z8h"
   },
   "source": [
    "#### 2.9 AIC, BIC를 구하여 n_components 값을 결정하려고 합니다. 다음 코드의 빈칸을 채워주세요."
   ]
  },
  {
   "cell_type": "code",
   "execution_count": 49,
   "metadata": {
    "id": "5sPl9dNr0Z8h"
   },
   "outputs": [
    {
     "name": "stderr",
     "output_type": "stream",
     "text": [
      "C:\\ProgramData\\Anaconda3\\lib\\site-packages\\sklearn\\cluster\\_kmeans.py:1036: UserWarning: KMeans is known to have a memory leak on Windows with MKL, when there are less chunks than available threads. You can avoid it by setting the environment variable OMP_NUM_THREADS=1.\n",
      "  warnings.warn(\n",
      "C:\\ProgramData\\Anaconda3\\lib\\site-packages\\sklearn\\cluster\\_kmeans.py:1036: UserWarning: KMeans is known to have a memory leak on Windows with MKL, when there are less chunks than available threads. You can avoid it by setting the environment variable OMP_NUM_THREADS=1.\n",
      "  warnings.warn(\n",
      "C:\\ProgramData\\Anaconda3\\lib\\site-packages\\sklearn\\cluster\\_kmeans.py:1036: UserWarning: KMeans is known to have a memory leak on Windows with MKL, when there are less chunks than available threads. You can avoid it by setting the environment variable OMP_NUM_THREADS=1.\n",
      "  warnings.warn(\n",
      "C:\\ProgramData\\Anaconda3\\lib\\site-packages\\sklearn\\cluster\\_kmeans.py:1036: UserWarning: KMeans is known to have a memory leak on Windows with MKL, when there are less chunks than available threads. You can avoid it by setting the environment variable OMP_NUM_THREADS=1.\n",
      "  warnings.warn(\n",
      "C:\\ProgramData\\Anaconda3\\lib\\site-packages\\sklearn\\cluster\\_kmeans.py:1036: UserWarning: KMeans is known to have a memory leak on Windows with MKL, when there are less chunks than available threads. You can avoid it by setting the environment variable OMP_NUM_THREADS=1.\n",
      "  warnings.warn(\n",
      "C:\\ProgramData\\Anaconda3\\lib\\site-packages\\sklearn\\cluster\\_kmeans.py:1036: UserWarning: KMeans is known to have a memory leak on Windows with MKL, when there are less chunks than available threads. You can avoid it by setting the environment variable OMP_NUM_THREADS=1.\n",
      "  warnings.warn(\n",
      "C:\\ProgramData\\Anaconda3\\lib\\site-packages\\sklearn\\cluster\\_kmeans.py:1036: UserWarning: KMeans is known to have a memory leak on Windows with MKL, when there are less chunks than available threads. You can avoid it by setting the environment variable OMP_NUM_THREADS=1.\n",
      "  warnings.warn(\n",
      "C:\\ProgramData\\Anaconda3\\lib\\site-packages\\sklearn\\cluster\\_kmeans.py:1036: UserWarning: KMeans is known to have a memory leak on Windows with MKL, when there are less chunks than available threads. You can avoid it by setting the environment variable OMP_NUM_THREADS=1.\n",
      "  warnings.warn(\n",
      "C:\\ProgramData\\Anaconda3\\lib\\site-packages\\sklearn\\cluster\\_kmeans.py:1036: UserWarning: KMeans is known to have a memory leak on Windows with MKL, when there are less chunks than available threads. You can avoid it by setting the environment variable OMP_NUM_THREADS=1.\n",
      "  warnings.warn(\n",
      "C:\\ProgramData\\Anaconda3\\lib\\site-packages\\sklearn\\cluster\\_kmeans.py:1036: UserWarning: KMeans is known to have a memory leak on Windows with MKL, when there are less chunks than available threads. You can avoid it by setting the environment variable OMP_NUM_THREADS=1.\n",
      "  warnings.warn(\n"
     ]
    },
    {
     "data": {
      "image/png": "[encoded data removed]",
      "text/plain": [
       "<Figure size 432x288 with 1 Axes>"
      ]
     },
     "metadata": {
      "needs_background": "light"
     },
     "output_type": "display_data"
    }
   ],
   "source": [
    "# AIC, BIC\n",
    "from sklearn.mixture import GaussianMixture\n",
    "\n",
    "gmm_per_k = [GaussianMixture(n_components=k, n_init=10, random_state=0).fit(df) for k in range(1,11)]\n",
    "\n",
    "bics = [model.bic(df) for model in gmm_per_k]  # model 별 bic 구하기\n",
    "aics = [model.aic(df) for model in gmm_per_k]  # model 별 aic 구하기\n",
    "\n",
    "plt.plot(range(1,11), aics, 'rs--')\n",
    "plt.plot(range(1,11), bics, 'bo-')\n",
    "plt.legend(['AIC','BIC'])\n",
    "plt.show()"
   ]
  },
  {
   "cell_type": "markdown",
   "metadata": {
    "id": "mVn1QStl0Z8i"
   },
   "source": [
    "#### 2.10 GMM 군집화를 진행해주세요. 위의 결과를 참고하여 n_components를 결정해주세요. 이후 군집화 결과를 확인하기 위한 코드에서 빈칸을 채워주세요. (인자 : df) "
   ]
  },
  {
   "cell_type": "code",
   "execution_count": 50,
   "metadata": {
    "id": "FNIizxOM0Z8i"
   },
   "outputs": [],
   "source": [
    "from sklearn.mixture import GaussianMixture\n",
    "\n",
    "gmm = GaussianMixture(n_components=6).fit(df)\n",
    "gmm_cluster_labels = gmm.predict(df)"
   ]
  },
  {
   "cell_type": "code",
   "execution_count": 51,
   "metadata": {
    "id": "oDpxzKac0Z8i"
   },
   "outputs": [
    {
     "name": "stdout",
     "output_type": "stream",
     "text": [
      "target  gmm_cluster\n",
      "1       2              2\n",
      "3       0              1\n",
      "4       0              2\n",
      "5       2              3\n",
      "        0              1\n",
      "                      ..\n",
      "94      3              1\n",
      "95      4              2\n",
      "97      4              2\n",
      "98      3              1\n",
      "99      3              1\n",
      "Name: gmm_cluster, Length: 111, dtype: int64\n"
     ]
    }
   ],
   "source": [
    "df['gmm_cluster'] = gmm_cluster_labels\n",
    "df['target'] = df['Spending Score (1-100)']\n",
    "\n",
    "result = df.groupby(['target'])['gmm_cluster'].value_counts()\n",
    "print(result)"
   ]
  },
  {
   "cell_type": "code",
   "execution_count": 52,
   "metadata": {},
   "outputs": [
    {
     "data": {
      "text/plain": [
       "array([0, 1, 2, 3, 4, 5], dtype=int64)"
      ]
     },
     "execution_count": 52,
     "metadata": {},
     "output_type": "execute_result"
    }
   ],
   "source": [
    "np.unique(gmm_cluster_labels)"
   ]
  },
  {
   "cell_type": "code",
   "execution_count": 53,
   "metadata": {
    "id": "BoeWvUkW0Z8i"
   },
   "outputs": [
    {
     "data": {
      "image/png": "[encoded data removed]",
      "text/plain": [
       "<Figure size 432x288 with 1 Axes>"
      ]
     },
     "metadata": {
      "needs_background": "light"
     },
     "output_type": "display_data"
    }
   ],
   "source": [
    "for i in range(0,6):\n",
    "  m_ind = df[df['gmm_cluster']==i].index\n",
    "  plt.scatter(x=df.loc[m_ind,'Annual Income (k$)'], y=df.loc[m_ind,'Spending Score (1-100)'],marker=i)\n",
    "\n",
    "plt.show()"
   ]
  },
  {
   "cell_type": "markdown",
   "metadata": {},
   "source": [
    "3.1\n",
    "\n",
    "(1) 앞에서 사용한 Mall_Customers 데이터를 다시 사용하겠습니다. 아래 코드를 불러주세요."
   ]
  },
  {
   "cell_type": "code",
   "execution_count": 54,
   "metadata": {},
   "outputs": [],
   "source": [
    "df = pd.read_csv(\"Mall_Customers.csv\")\n",
    "df = df.drop('CustomerID', axis=1)\n",
    "df = pd.get_dummies(df)"
   ]
  },
  {
   "cell_type": "code",
   "execution_count": 55,
   "metadata": {},
   "outputs": [
    {
     "data": {
      "text/html": [
       "<div>\n",
       "<style scoped>\n",
       "    .dataframe tbody tr th:only-of-type {\n",
       "        vertical-align: middle;\n",
       "    }\n",
       "\n",
       "    .dataframe tbody tr th {\n",
       "        vertical-align: top;\n",
       "    }\n",
       "\n",
       "    .dataframe thead th {\n",
       "        text-align: right;\n",
       "    }\n",
       "</style>\n",
       "<table border=\"1\" class=\"dataframe\">\n",
       "  <thead>\n",
       "    <tr style=\"text-align: right;\">\n",
       "      <th></th>\n",
       "      <th>Age</th>\n",
       "      <th>Annual Income (k$)</th>\n",
       "      <th>Spending Score (1-100)</th>\n",
       "      <th>Gender_Female</th>\n",
       "      <th>Gender_Male</th>\n",
       "    </tr>\n",
       "  </thead>\n",
       "  <tbody>\n",
       "    <tr>\n",
       "      <th>0</th>\n",
       "      <td>19</td>\n",
       "      <td>15</td>\n",
       "      <td>39</td>\n",
       "      <td>0</td>\n",
       "      <td>1</td>\n",
       "    </tr>\n",
       "    <tr>\n",
       "      <th>1</th>\n",
       "      <td>21</td>\n",
       "      <td>15</td>\n",
       "      <td>81</td>\n",
       "      <td>0</td>\n",
       "      <td>1</td>\n",
       "    </tr>\n",
       "    <tr>\n",
       "      <th>2</th>\n",
       "      <td>20</td>\n",
       "      <td>16</td>\n",
       "      <td>6</td>\n",
       "      <td>1</td>\n",
       "      <td>0</td>\n",
       "    </tr>\n",
       "    <tr>\n",
       "      <th>3</th>\n",
       "      <td>23</td>\n",
       "      <td>16</td>\n",
       "      <td>77</td>\n",
       "      <td>1</td>\n",
       "      <td>0</td>\n",
       "    </tr>\n",
       "    <tr>\n",
       "      <th>4</th>\n",
       "      <td>31</td>\n",
       "      <td>17</td>\n",
       "      <td>40</td>\n",
       "      <td>1</td>\n",
       "      <td>0</td>\n",
       "    </tr>\n",
       "  </tbody>\n",
       "</table>\n",
       "</div>"
      ],
      "text/plain": [
       "   Age  Annual Income (k$)  Spending Score (1-100)  Gender_Female  Gender_Male\n",
       "0   19                  15                      39              0            1\n",
       "1   21                  15                      81              0            1\n",
       "2   20                  16                       6              1            0\n",
       "3   23                  16                      77              1            0\n",
       "4   31                  17                      40              1            0"
      ]
     },
     "execution_count": 55,
     "metadata": {},
     "output_type": "execute_result"
    }
   ],
   "source": [
    "df.head()"
   ]
  },
  {
   "cell_type": "markdown",
   "metadata": {},
   "source": [
    "(2) 보다 용이한 시각화를 위해 \"Annual Income (k$)\", \"Spending Score (1-100)\" 열들만 사용하여 2개의 feature에 대한 고객 군집화를 진행하겠습니다. 그러기 위해 빈칸(<?>)을 채워주세요."
   ]
  },
  {
   "cell_type": "code",
   "execution_count": 57,
   "metadata": {},
   "outputs": [
    {
     "data": {
      "text/html": [
       "<div>\n",
       "<style scoped>\n",
       "    .dataframe tbody tr th:only-of-type {\n",
       "        vertical-align: middle;\n",
       "    }\n",
       "\n",
       "    .dataframe tbody tr th {\n",
       "        vertical-align: top;\n",
       "    }\n",
       "\n",
       "    .dataframe thead th {\n",
       "        text-align: right;\n",
       "    }\n",
       "</style>\n",
       "<table border=\"1\" class=\"dataframe\">\n",
       "  <thead>\n",
       "    <tr style=\"text-align: right;\">\n",
       "      <th></th>\n",
       "      <th>Annual Income (k$)</th>\n",
       "      <th>Spending Score (1-100)</th>\n",
       "    </tr>\n",
       "  </thead>\n",
       "  <tbody>\n",
       "    <tr>\n",
       "      <th>0</th>\n",
       "      <td>15</td>\n",
       "      <td>39</td>\n",
       "    </tr>\n",
       "    <tr>\n",
       "      <th>1</th>\n",
       "      <td>15</td>\n",
       "      <td>81</td>\n",
       "    </tr>\n",
       "    <tr>\n",
       "      <th>2</th>\n",
       "      <td>16</td>\n",
       "      <td>6</td>\n",
       "    </tr>\n",
       "    <tr>\n",
       "      <th>3</th>\n",
       "      <td>16</td>\n",
       "      <td>77</td>\n",
       "    </tr>\n",
       "    <tr>\n",
       "      <th>4</th>\n",
       "      <td>17</td>\n",
       "      <td>40</td>\n",
       "    </tr>\n",
       "  </tbody>\n",
       "</table>\n",
       "</div>"
      ],
      "text/plain": [
       "   Annual Income (k$)  Spending Score (1-100)\n",
       "0                  15                      39\n",
       "1                  15                      81\n",
       "2                  16                       6\n",
       "3                  16                      77\n",
       "4                  17                      40"
      ]
     },
     "execution_count": 57,
     "metadata": {},
     "output_type": "execute_result"
    }
   ],
   "source": [
    "data = df.loc[:, ['Annual Income (k$)','Spending Score (1-100)']]\n",
    "data.head()"
   ]
  },
  {
   "cell_type": "markdown",
   "metadata": {},
   "source": [
    "(3) DBSCAN 군집화를 실행하기 전, 위에서 만든 data에 대한 정규화를 위해 빈칸(<?>)을 채워주세요."
   ]
  },
  {
   "cell_type": "code",
   "execution_count": null,
   "metadata": {},
   "outputs": [],
   "source": [
    "from sklearn.preprocessing import StandardScaler"
   ]
  },
  {
   "cell_type": "code",
   "execution_count": 59,
   "metadata": {},
   "outputs": [
    {
     "data": {
      "text/html": [
       "<div>\n",
       "<style scoped>\n",
       "    .dataframe tbody tr th:only-of-type {\n",
       "        vertical-align: middle;\n",
       "    }\n",
       "\n",
       "    .dataframe tbody tr th {\n",
       "        vertical-align: top;\n",
       "    }\n",
       "\n",
       "    .dataframe thead th {\n",
       "        text-align: right;\n",
       "    }\n",
       "</style>\n",
       "<table border=\"1\" class=\"dataframe\">\n",
       "  <thead>\n",
       "    <tr style=\"text-align: right;\">\n",
       "      <th></th>\n",
       "      <th>Annual Income (k$)</th>\n",
       "      <th>Spending Score (1-100)</th>\n",
       "    </tr>\n",
       "  </thead>\n",
       "  <tbody>\n",
       "    <tr>\n",
       "      <th>0</th>\n",
       "      <td>-1.738999</td>\n",
       "      <td>-0.434801</td>\n",
       "    </tr>\n",
       "    <tr>\n",
       "      <th>1</th>\n",
       "      <td>-1.738999</td>\n",
       "      <td>1.195704</td>\n",
       "    </tr>\n",
       "    <tr>\n",
       "      <th>2</th>\n",
       "      <td>-1.700830</td>\n",
       "      <td>-1.715913</td>\n",
       "    </tr>\n",
       "    <tr>\n",
       "      <th>3</th>\n",
       "      <td>-1.700830</td>\n",
       "      <td>1.040418</td>\n",
       "    </tr>\n",
       "    <tr>\n",
       "      <th>4</th>\n",
       "      <td>-1.662660</td>\n",
       "      <td>-0.395980</td>\n",
       "    </tr>\n",
       "  </tbody>\n",
       "</table>\n",
       "</div>"
      ],
      "text/plain": [
       "   Annual Income (k$)  Spending Score (1-100)\n",
       "0           -1.738999               -0.434801\n",
       "1           -1.738999                1.195704\n",
       "2           -1.700830               -1.715913\n",
       "3           -1.700830                1.040418\n",
       "4           -1.662660               -0.395980"
      ]
     },
     "execution_count": 59,
     "metadata": {},
     "output_type": "execute_result"
    }
   ],
   "source": [
    "scaler = StandardScaler()\n",
    "data_scale = pd.DataFrame(scaler.fit_transform(data), columns=data.columns)\n",
    "data_scale.head()"
   ]
  },
  {
   "cell_type": "markdown",
   "metadata": {},
   "source": [
    "(4) DBSCAN 클래스를 이용해 위에서 생성한 데이터를 군집화하기 위해 빈칸(<?>)을 채워주세요.(eps = 0.4, min_samples=5, metric=\"euclidean\")"
   ]
  },
  {
   "cell_type": "code",
   "execution_count": 60,
   "metadata": {},
   "outputs": [],
   "source": [
    "from sklearn.cluster import DBSCAN"
   ]
  },
  {
   "cell_type": "code",
   "execution_count": 61,
   "metadata": {},
   "outputs": [],
   "source": [
    "dbscan = DBSCAN(eps = 0.4, min_samples=5, metric=\"euclidean\")\n",
    "dbscan_labels = dbscan.fit_predict(data_scale)\n",
    "data_scale[\"cluster\"] = dbscan_labels"
   ]
  },
  {
   "cell_type": "markdown",
   "metadata": {},
   "source": [
    "(5) 위에서 진행한 군집화의 결과를 시각화하겠습니다. 빈칸(<?>)을 채워주세요."
   ]
  },
  {
   "cell_type": "code",
   "execution_count": 62,
   "metadata": {},
   "outputs": [
    {
     "data": {
      "text/plain": [
       "array([-1,  0,  1,  2,  3], dtype=int64)"
      ]
     },
     "execution_count": 62,
     "metadata": {},
     "output_type": "execute_result"
    }
   ],
   "source": [
    "np.unique(dbscan_labels)"
   ]
  },
  {
   "cell_type": "code",
   "execution_count": 64,
   "metadata": {},
   "outputs": [
    {
     "data": {
      "image/png": "[encoded data removed]",
      "text/plain": [
       "<Figure size 432x288 with 1 Axes>"
      ]
     },
     "metadata": {
      "needs_background": "light"
     },
     "output_type": "display_data"
    }
   ],
   "source": [
    "for i in range(-1,4):\n",
    "    plt.scatter(data_scale.loc[data_scale[\"cluster\"]==i, \"Annual Income (k$)\"],\n",
    "               data_scale.loc[data_scale[\"cluster\"]==i,\"Spending Score (1-100)\"],\n",
    "                label = \"cluster\" + str(i))\n",
    "    \n",
    "plt.legend()\n",
    "plt.xlabel(\"Annual Income\", size=12)\n",
    "plt.ylabel(\"Spending Score\",size=12)\n",
    "plt.show()"
   ]
  },
  {
   "cell_type": "markdown",
   "metadata": {},
   "source": [
    "(6) cluster의 값이 -1인 경우가 존재하는 것을 확인할 수 있습니다. 해당 값은 무엇을 의미하는지 작성해주세요."
   ]
  },
  {
   "cell_type": "markdown",
   "metadata": {},
   "source": [
    "[답안]\n",
    "\n",
    ": 잡음 포인트. 최소 데이터 개수 이상의 이웃 포인트를 가지고 있지 않으며, 핵심 포인트도 이웃 포인트로 가지고 있지 않는 데이터."
   ]
  },
  {
   "cell_type": "markdown",
   "metadata": {},
   "source": [
    "3.2\n",
    "\n",
    "(1) 위에서 만든 df 데이터셋을 이용하겠습니다. BayesianGaussianMixture를 사용하여 베이지안 가우시안 모델을 이용한 군집화를 진행하기 위해 빈칸(<?>)을 채워주세요.(n_components=10, n_init=10)"
   ]
  },
  {
   "cell_type": "code",
   "execution_count": 65,
   "metadata": {},
   "outputs": [],
   "source": [
    "from sklearn.mixture import BayesianGaussianMixture"
   ]
  },
  {
   "cell_type": "code",
   "execution_count": 67,
   "metadata": {},
   "outputs": [
    {
     "data": {
      "text/plain": [
       "BayesianGaussianMixture(n_components=10, n_init=10)"
      ]
     },
     "execution_count": 67,
     "metadata": {},
     "output_type": "execute_result"
    }
   ],
   "source": [
    "bgm = BayesianGaussianMixture(n_components=10, n_init=10)\n",
    "bgm.fit(df)"
   ]
  },
  {
   "cell_type": "markdown",
   "metadata": {},
   "source": [
    "(2) 몇 개의 컴포넌트가 필요한지 알아내는 코드를 작성해주세요."
   ]
  },
  {
   "cell_type": "code",
   "execution_count": 70,
   "metadata": {},
   "outputs": [
    {
     "data": {
      "text/plain": [
       "8"
      ]
     },
     "execution_count": 70,
     "metadata": {},
     "output_type": "execute_result"
    }
   ],
   "source": [
    "n_clusters = (np.round(bgm.weights_,2)>0).sum()\n",
    "n_clusters"
   ]
  },
  {
   "cell_type": "code",
   "execution_count": null,
   "metadata": {},
   "outputs": [],
   "source": []
  }
 ],
 "metadata": {
  "colab": {
   "collapsed_sections": [],
   "provenance": []
  },
  "hide_input": false,
  "kernelspec": {
   "display_name": "Python 3 (ipykernel)",
   "language": "python",
   "name": "python3"
  },
  "language_info": {
   "codemirror_mode": {
    "name": "ipython",
    "version": 3
   },
   "file_extension": ".py",
   "mimetype": "text/x-python",
   "name": "python",
   "nbconvert_exporter": "python",
   "pygments_lexer": "ipython3",
   "version": "3.9.12"
  },
  "toc": {
   "base_numbering": 1,
   "nav_menu": {},
   "number_sections": true,
   "sideBar": true,
   "skip_h1_title": false,
   "title_cell": "Table of Contents",
   "title_sidebar": "Contents",
   "toc_cell": false,
   "toc_position": {},
   "toc_section_display": true,
   "toc_window_display": false
  },
  "vscode": {
   "interpreter": {
    "hash": "aee8b7b246df8f9039afb4144a1f6fd8d2ca17a180786b69acc140d282b71a49"
   }
  }
 },
 "nbformat": 4,
 "nbformat_minor": 1
}
