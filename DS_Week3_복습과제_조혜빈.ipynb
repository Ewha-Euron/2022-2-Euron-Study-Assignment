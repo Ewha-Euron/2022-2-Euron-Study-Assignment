{
 "cells": [
  {
   "cell_type": "markdown",
   "id": "6f12edaf",
   "metadata": {
    "id": "6f12edaf"
   },
   "source": [
    "##  Week4 복습과제\n",
    "\n",
    "Week3에 대한 복습과제입니다.  \n",
    "데이터셋(train.csv, mushrooms.csv)을 다운 받아주세요!"
   ]
  },
  {
   "cell_type": "code",
   "execution_count": 1,
   "id": "6719779b",
   "metadata": {
    "id": "6719779b"
   },
   "outputs": [],
   "source": [
    "import pandas as pd\n",
    "import numpy as np\n",
    "import matplotlib.pyplot as plt\n",
    "import seaborn as sns\n",
    "import warnings\n",
    "warnings.filterwarnings('ignore')"
   ]
  },
  {
   "cell_type": "markdown",
   "id": "47bb9a03",
   "metadata": {
    "id": "47bb9a03"
   },
   "source": [
    "#### 'train.csv'으로 train_df를 생성하세요."
   ]
  },
  {
   "cell_type": "code",
   "execution_count": 2,
   "id": "979db9e6",
   "metadata": {
    "id": "979db9e6"
   },
   "outputs": [
    {
     "data": {
      "text/html": [
       "<div>\n",
       "<style scoped>\n",
       "    .dataframe tbody tr th:only-of-type {\n",
       "        vertical-align: middle;\n",
       "    }\n",
       "\n",
       "    .dataframe tbody tr th {\n",
       "        vertical-align: top;\n",
       "    }\n",
       "\n",
       "    .dataframe thead th {\n",
       "        text-align: right;\n",
       "    }\n",
       "</style>\n",
       "<table border=\"1\" class=\"dataframe\">\n",
       "  <thead>\n",
       "    <tr style=\"text-align: right;\">\n",
       "      <th></th>\n",
       "      <th>id</th>\n",
       "      <th>bone_length</th>\n",
       "      <th>rotting_flesh</th>\n",
       "      <th>hair_length</th>\n",
       "      <th>has_soul</th>\n",
       "      <th>color</th>\n",
       "      <th>type</th>\n",
       "    </tr>\n",
       "  </thead>\n",
       "  <tbody>\n",
       "    <tr>\n",
       "      <th>0</th>\n",
       "      <td>0</td>\n",
       "      <td>0.354512</td>\n",
       "      <td>0.350839</td>\n",
       "      <td>0.465761</td>\n",
       "      <td>0.781142</td>\n",
       "      <td>clear</td>\n",
       "      <td>Ghoul</td>\n",
       "    </tr>\n",
       "    <tr>\n",
       "      <th>1</th>\n",
       "      <td>1</td>\n",
       "      <td>0.575560</td>\n",
       "      <td>0.425868</td>\n",
       "      <td>0.531401</td>\n",
       "      <td>0.439899</td>\n",
       "      <td>green</td>\n",
       "      <td>Goblin</td>\n",
       "    </tr>\n",
       "    <tr>\n",
       "      <th>2</th>\n",
       "      <td>2</td>\n",
       "      <td>0.467875</td>\n",
       "      <td>0.354330</td>\n",
       "      <td>0.811616</td>\n",
       "      <td>0.791225</td>\n",
       "      <td>black</td>\n",
       "      <td>Ghoul</td>\n",
       "    </tr>\n",
       "    <tr>\n",
       "      <th>3</th>\n",
       "      <td>4</td>\n",
       "      <td>0.776652</td>\n",
       "      <td>0.508723</td>\n",
       "      <td>0.636766</td>\n",
       "      <td>0.884464</td>\n",
       "      <td>black</td>\n",
       "      <td>Ghoul</td>\n",
       "    </tr>\n",
       "    <tr>\n",
       "      <th>4</th>\n",
       "      <td>5</td>\n",
       "      <td>0.566117</td>\n",
       "      <td>0.875862</td>\n",
       "      <td>0.418594</td>\n",
       "      <td>0.636438</td>\n",
       "      <td>green</td>\n",
       "      <td>Ghost</td>\n",
       "    </tr>\n",
       "  </tbody>\n",
       "</table>\n",
       "</div>"
      ],
      "text/plain": [
       "   id  bone_length  rotting_flesh  hair_length  has_soul  color    type\n",
       "0   0     0.354512       0.350839     0.465761  0.781142  clear   Ghoul\n",
       "1   1     0.575560       0.425868     0.531401  0.439899  green  Goblin\n",
       "2   2     0.467875       0.354330     0.811616  0.791225  black   Ghoul\n",
       "3   4     0.776652       0.508723     0.636766  0.884464  black   Ghoul\n",
       "4   5     0.566117       0.875862     0.418594  0.636438  green   Ghost"
      ]
     },
     "execution_count": 2,
     "metadata": {},
     "output_type": "execute_result"
    }
   ],
   "source": [
    "train_df=pd.read_csv('train.csv')\n",
    "train_df.head()"
   ]
  },
  {
   "cell_type": "markdown",
   "id": "0874e7b6",
   "metadata": {
    "id": "0874e7b6"
   },
   "source": [
    "#### 데이터 보정을 위해 다음 코드를 실행시켜 주세요."
   ]
  },
  {
   "cell_type": "code",
   "execution_count": 3,
   "id": "d824c2ee",
   "metadata": {
    "id": "d824c2ee"
   },
   "outputs": [],
   "source": [
    "# id 제외\n",
    "train_df = train_df.drop(\"id\", axis = 1)"
   ]
  },
  {
   "cell_type": "markdown",
   "id": "TkcOzV_k1Fvg",
   "metadata": {
    "id": "TkcOzV_k1Fvg"
   },
   "source": [
    "#### LabelEncoder를 사용해 color, type column을 인코딩한 train_df를 만드시오."
   ]
  },
  {
   "cell_type": "code",
   "execution_count": 5,
   "id": "FrkaPft31OaX",
   "metadata": {
    "id": "FrkaPft31OaX"
   },
   "outputs": [
    {
     "data": {
      "text/plain": [
       "1    129\n",
       "2    125\n",
       "0    117\n",
       "Name: type, dtype: int64"
      ]
     },
     "execution_count": 5,
     "metadata": {},
     "output_type": "execute_result"
    }
   ],
   "source": [
    "from sklearn.preprocessing import LabelEncoder\n",
    "encoder = LabelEncoder() \n",
    "\n",
    "encoder.fit(train_df['color'])\n",
    "train_df['color'] = encoder.transform(train_df['color'])\n",
    "train_df['color'].value_counts()\n",
    "\n",
    "encoder.fit(train_df['type'])\n",
    "train_df['type'] = encoder.transform(train_df['type'])\n",
    "train_df['type'].value_counts()"
   ]
  },
  {
   "cell_type": "markdown",
   "id": "i9vP5ij_1s_6",
   "metadata": {
    "id": "i9vP5ij_1s_6"
   },
   "source": [
    "#### feature간의 상관관계를 확인하는 heatmap을 출력하시오."
   ]
  },
  {
   "cell_type": "code",
   "execution_count": 6,
   "id": "jlYIKAtf1Yb2",
   "metadata": {
    "id": "jlYIKAtf1Yb2"
   },
   "outputs": [
    {
     "data": {
      "image/png": "[encoded data removed]",
      "text/plain": [
       "<Figure size 648x648 with 2 Axes>"
      ]
     },
     "metadata": {
      "needs_background": "light"
     },
     "output_type": "display_data"
    }
   ],
   "source": [
    "import seaborn as sns\n",
    "\n",
    "plt.figure(figsize=(9,9))\n",
    "ax = sns.heatmap(train_df)"
   ]
  },
  {
   "cell_type": "markdown",
   "id": "dffe9164",
   "metadata": {
    "id": "dffe9164"
   },
   "source": [
    "#### 독립변수(X)와 종속변수(y-type)로 분리해주세요(iloc 또는 loc 활용) 그리고 확인해주세요.\n",
    "#### X와 y를 X_train, X_test, y_train, y_test으로 나누시오. (test_size=0.2, random_state=12) "
   ]
  },
  {
   "cell_type": "code",
   "execution_count": 7,
   "id": "e1f4fb30",
   "metadata": {
    "id": "e1f4fb30"
   },
   "outputs": [],
   "source": [
    "from sklearn.model_selection import train_test_split"
   ]
  },
  {
   "cell_type": "code",
   "execution_count": 8,
   "id": "94f2a85c",
   "metadata": {
    "id": "94f2a85c"
   },
   "outputs": [],
   "source": [
    "y=train_df['type']\n",
    "X=train_df.drop('type',axis=1).values"
   ]
  },
  {
   "cell_type": "code",
   "execution_count": 9,
   "id": "CLhsKqQ84yHU",
   "metadata": {
    "id": "CLhsKqQ84yHU"
   },
   "outputs": [],
   "source": [
    "from sklearn.model_selection import train_test_split\n",
    "X_train, X_test, y_train, y_test = train_test_split(X,y,test_size=0.2,random_state=12)"
   ]
  },
  {
   "cell_type": "markdown",
   "id": "RRRzgi_KhGDC",
   "metadata": {
    "id": "RRRzgi_KhGDC"
   },
   "source": [
    "#### Gradient Boost를 활용하여 train 세트를 fit 한 후 test 세트로 예측의 정확도를 출력하시오. (random_state=0,n_estimators=50,learning_rate=0.5)\n"
   ]
  },
  {
   "cell_type": "code",
   "execution_count": 10,
   "id": "0S0xMFdDgcLb",
   "metadata": {
    "id": "0S0xMFdDgcLb"
   },
   "outputs": [],
   "source": [
    "from sklearn.ensemble import GradientBoostingClassifier"
   ]
  },
  {
   "cell_type": "code",
   "execution_count": 11,
   "id": "LZhBzjGYhrc1",
   "metadata": {
    "id": "LZhBzjGYhrc1"
   },
   "outputs": [
    {
     "name": "stdout",
     "output_type": "stream",
     "text": [
      "0.7066666666666667\n"
     ]
    }
   ],
   "source": [
    "from sklearn.metrics import accuracy_score\n",
    "\n",
    "gb_clf=GradientBoostingClassifier(random_state=0,n_estimators=50,learning_rate=0.5)\n",
    "gb_clf.fit(X_train,y_train)\n",
    "gb_pred=gb_clf.predict(X_test)\n",
    "\n",
    "print(accuracy_score(y_test, gb_pred))"
   ]
  },
  {
   "cell_type": "markdown",
   "id": "vd_H18-5hz8o",
   "metadata": {
    "id": "vd_H18-5hz8o"
   },
   "source": [
    "#### GBM 하이퍼 파라미터 튜닝을 한 후, 최적의 하이퍼 파라미터를 구하고 정확도를 출력하시오. 위의 값과 정확도를 비교하시오. 이때 n_estimators는 50,100,500, learning_rate는 0.005, 0.1, 0.5,1,10 을 변수로 넣으시오.(gridsearchCV이용,cv=2,verbose=1)"
   ]
  },
  {
   "cell_type": "code",
   "execution_count": 12,
   "id": "e8l6ivZ7hwQI",
   "metadata": {
    "id": "e8l6ivZ7hwQI"
   },
   "outputs": [
    {
     "name": "stdout",
     "output_type": "stream",
     "text": [
      "Fitting 2 folds for each of 15 candidates, totalling 30 fits\n",
      "GridSearchCV 최적 하이퍼 파라미터: {'learning_rate': 0.005, 'n_estimators': 500}\n",
      "0.68\n"
     ]
    }
   ],
   "source": [
    "from sklearn.model_selection import GridSearchCV\n",
    "\n",
    "params={\n",
    "    'n_estimators' : [50, 100, 500], \n",
    "    'learning_rate' : [0.005, 0.1, 0.5, 1, 10] \n",
    "}\n",
    "\n",
    "grid_cv=GridSearchCV(gb_clf, param_grid=params, cv=2, verbose=1)\n",
    "grid_cv.fit(X_train, y_train)\n",
    "print(\"GridSearchCV 최적 하이퍼 파라미터:\" ,grid_cv.best_params_)\n",
    "\n",
    "best_gb_clf=grid_cv.best_estimator_\n",
    "pred=best_gb_clf.predict(X_test)\n",
    "\n",
    "print(accuracy_score(y_test,pred))"
   ]
  },
  {
   "cell_type": "markdown",
   "id": "5f0eb017",
   "metadata": {},
   "source": [
    "더 낮아질 수 있나요..? ㅋㅋ ㅠㅠ"
   ]
  },
  {
   "cell_type": "markdown",
   "id": "e4f87798",
   "metadata": {
    "id": "e4f87798"
   },
   "source": [
    "#### 사이킷런 래퍼 클래스 XGBoost를 사용해 train 세트를 fit 한 후 test 세트로 예측의 정확도를 출력하시오. (n_estimators=400, learning_rate = 0.1, max_depth = 3)"
   ]
  },
  {
   "cell_type": "code",
   "execution_count": 13,
   "id": "31188f82",
   "metadata": {
    "id": "31188f82"
   },
   "outputs": [],
   "source": [
    "import xgboost as xgb\n",
    "from xgboost import plot_importance\n",
    "from xgboost import XGBClassifier\n",
    "\n",
    "from sklearn.metrics import accuracy_score"
   ]
  },
  {
   "cell_type": "code",
   "execution_count": 14,
   "id": "af980052",
   "metadata": {
    "id": "af980052"
   },
   "outputs": [
    {
     "name": "stdout",
     "output_type": "stream",
     "text": [
      "[17:22:50] WARNING: C:/Users/Administrator/workspace/xgboost-win64_release_1.5.1/src/learner.cc:1115: Starting in XGBoost 1.3.0, the default evaluation metric used with the objective 'multi:softprob' was changed from 'merror' to 'mlogloss'. Explicitly set eval_metric if you'd like to restore the old behavior.\n",
      "0.68\n"
     ]
    }
   ],
   "source": [
    "xgb_clf=XGBClassifier(n_estimators=400, learning_rate = 0.1, max_depth = 3)\n",
    "xgb_clf.fit(X_train, y_train)\n",
    "xgb_pred=xgb_clf.predict(X_test)\n",
    "\n",
    "print(accuracy_score(y_test, xgb_pred))"
   ]
  },
  {
   "cell_type": "markdown",
   "id": "8cbca7f7",
   "metadata": {
    "id": "8cbca7f7"
   },
   "source": [
    "#### 사이킷런 래퍼 클래스 LightGBM를 사용해 train 세트를 fit 한 후 test 세트로 예측의 정확도를 출력하시오. \n",
    "\n",
    "n_estimators=400\n",
    "조기 중단 파라미터: early_stopping_rounds=100, eval_metric=\"logloss\",  eval_set=evals "
   ]
  },
  {
   "cell_type": "code",
   "execution_count": 15,
   "id": "b0debb5b",
   "metadata": {
    "id": "b0debb5b"
   },
   "outputs": [
    {
     "name": "stdout",
     "output_type": "stream",
     "text": [
      "[1]\tvalid_0's multi_logloss: 1.04658\n",
      "[2]\tvalid_0's multi_logloss: 0.991864\n",
      "[3]\tvalid_0's multi_logloss: 0.961098\n",
      "[4]\tvalid_0's multi_logloss: 0.922715\n",
      "[5]\tvalid_0's multi_logloss: 0.889621\n",
      "[6]\tvalid_0's multi_logloss: 0.860335\n",
      "[7]\tvalid_0's multi_logloss: 0.838603\n",
      "[8]\tvalid_0's multi_logloss: 0.823945\n",
      "[9]\tvalid_0's multi_logloss: 0.808374\n",
      "[10]\tvalid_0's multi_logloss: 0.794635\n",
      "[11]\tvalid_0's multi_logloss: 0.787051\n",
      "[12]\tvalid_0's multi_logloss: 0.779236\n",
      "[13]\tvalid_0's multi_logloss: 0.772983\n",
      "[14]\tvalid_0's multi_logloss: 0.764275\n",
      "[15]\tvalid_0's multi_logloss: 0.752906\n",
      "[16]\tvalid_0's multi_logloss: 0.746936\n",
      "[17]\tvalid_0's multi_logloss: 0.748563\n",
      "[18]\tvalid_0's multi_logloss: 0.744367\n",
      "[19]\tvalid_0's multi_logloss: 0.743001\n",
      "[20]\tvalid_0's multi_logloss: 0.73754\n",
      "[21]\tvalid_0's multi_logloss: 0.73435\n",
      "[22]\tvalid_0's multi_logloss: 0.730277\n",
      "[23]\tvalid_0's multi_logloss: 0.729156\n",
      "[24]\tvalid_0's multi_logloss: 0.727211\n",
      "[25]\tvalid_0's multi_logloss: 0.73012\n",
      "[26]\tvalid_0's multi_logloss: 0.729092\n",
      "[27]\tvalid_0's multi_logloss: 0.729345\n",
      "[28]\tvalid_0's multi_logloss: 0.728497\n",
      "[29]\tvalid_0's multi_logloss: 0.727576\n",
      "[30]\tvalid_0's multi_logloss: 0.724781\n",
      "[31]\tvalid_0's multi_logloss: 0.723628\n",
      "[32]\tvalid_0's multi_logloss: 0.724215\n",
      "[33]\tvalid_0's multi_logloss: 0.734317\n",
      "[34]\tvalid_0's multi_logloss: 0.731248\n",
      "[35]\tvalid_0's multi_logloss: 0.733759\n",
      "[36]\tvalid_0's multi_logloss: 0.737153\n",
      "[37]\tvalid_0's multi_logloss: 0.742632\n",
      "[38]\tvalid_0's multi_logloss: 0.747769\n",
      "[39]\tvalid_0's multi_logloss: 0.745786\n",
      "[40]\tvalid_0's multi_logloss: 0.750508\n",
      "[41]\tvalid_0's multi_logloss: 0.748724\n",
      "[42]\tvalid_0's multi_logloss: 0.750879\n",
      "[43]\tvalid_0's multi_logloss: 0.757494\n",
      "[44]\tvalid_0's multi_logloss: 0.765465\n",
      "[45]\tvalid_0's multi_logloss: 0.768327\n",
      "[46]\tvalid_0's multi_logloss: 0.76625\n",
      "[47]\tvalid_0's multi_logloss: 0.773041\n",
      "[48]\tvalid_0's multi_logloss: 0.773306\n",
      "[49]\tvalid_0's multi_logloss: 0.771136\n",
      "[50]\tvalid_0's multi_logloss: 0.772428\n",
      "[51]\tvalid_0's multi_logloss: 0.77959\n",
      "[52]\tvalid_0's multi_logloss: 0.78168\n",
      "[53]\tvalid_0's multi_logloss: 0.782384\n",
      "[54]\tvalid_0's multi_logloss: 0.79391\n",
      "[55]\tvalid_0's multi_logloss: 0.800143\n",
      "[56]\tvalid_0's multi_logloss: 0.807441\n",
      "[57]\tvalid_0's multi_logloss: 0.814425\n",
      "[58]\tvalid_0's multi_logloss: 0.818393\n",
      "[59]\tvalid_0's multi_logloss: 0.825027\n",
      "[60]\tvalid_0's multi_logloss: 0.83225\n",
      "[61]\tvalid_0's multi_logloss: 0.826427\n",
      "[62]\tvalid_0's multi_logloss: 0.835824\n",
      "[63]\tvalid_0's multi_logloss: 0.845027\n",
      "[64]\tvalid_0's multi_logloss: 0.845087\n",
      "[65]\tvalid_0's multi_logloss: 0.847512\n",
      "[66]\tvalid_0's multi_logloss: 0.851212\n",
      "[67]\tvalid_0's multi_logloss: 0.855412\n",
      "[68]\tvalid_0's multi_logloss: 0.856328\n",
      "[69]\tvalid_0's multi_logloss: 0.856603\n",
      "[70]\tvalid_0's multi_logloss: 0.852903\n",
      "[71]\tvalid_0's multi_logloss: 0.858905\n",
      "[72]\tvalid_0's multi_logloss: 0.865034\n",
      "[73]\tvalid_0's multi_logloss: 0.869552\n",
      "[74]\tvalid_0's multi_logloss: 0.87854\n",
      "[75]\tvalid_0's multi_logloss: 0.879556\n",
      "[76]\tvalid_0's multi_logloss: 0.883094\n",
      "[77]\tvalid_0's multi_logloss: 0.89176\n",
      "[78]\tvalid_0's multi_logloss: 0.894926\n",
      "[79]\tvalid_0's multi_logloss: 0.897368\n",
      "[80]\tvalid_0's multi_logloss: 0.899179\n",
      "[81]\tvalid_0's multi_logloss: 0.897999\n",
      "[82]\tvalid_0's multi_logloss: 0.904347\n",
      "[83]\tvalid_0's multi_logloss: 0.914939\n",
      "[84]\tvalid_0's multi_logloss: 0.923619\n",
      "[85]\tvalid_0's multi_logloss: 0.925383\n",
      "[86]\tvalid_0's multi_logloss: 0.926975\n",
      "[87]\tvalid_0's multi_logloss: 0.927219\n",
      "[88]\tvalid_0's multi_logloss: 0.926762\n",
      "[89]\tvalid_0's multi_logloss: 0.931309\n",
      "[90]\tvalid_0's multi_logloss: 0.935601\n",
      "[91]\tvalid_0's multi_logloss: 0.941648\n",
      "[92]\tvalid_0's multi_logloss: 0.945676\n",
      "[93]\tvalid_0's multi_logloss: 0.949198\n",
      "[94]\tvalid_0's multi_logloss: 0.951585\n",
      "[95]\tvalid_0's multi_logloss: 0.950862\n",
      "[96]\tvalid_0's multi_logloss: 0.952259\n",
      "[97]\tvalid_0's multi_logloss: 0.958652\n",
      "[98]\tvalid_0's multi_logloss: 0.960188\n",
      "[99]\tvalid_0's multi_logloss: 0.96226\n",
      "[100]\tvalid_0's multi_logloss: 0.968342\n",
      "[101]\tvalid_0's multi_logloss: 0.970031\n",
      "[102]\tvalid_0's multi_logloss: 0.97213\n",
      "[103]\tvalid_0's multi_logloss: 0.976674\n",
      "[104]\tvalid_0's multi_logloss: 0.981295\n",
      "[105]\tvalid_0's multi_logloss: 0.984994\n",
      "[106]\tvalid_0's multi_logloss: 0.993445\n",
      "[107]\tvalid_0's multi_logloss: 0.996814\n",
      "[108]\tvalid_0's multi_logloss: 1.00304\n",
      "[109]\tvalid_0's multi_logloss: 1.00168\n",
      "[110]\tvalid_0's multi_logloss: 1.00359\n",
      "[111]\tvalid_0's multi_logloss: 1.00416\n",
      "[112]\tvalid_0's multi_logloss: 1.00593\n",
      "[113]\tvalid_0's multi_logloss: 1.00975\n",
      "[114]\tvalid_0's multi_logloss: 1.01574\n",
      "[115]\tvalid_0's multi_logloss: 1.01775\n",
      "[116]\tvalid_0's multi_logloss: 1.02055\n",
      "[117]\tvalid_0's multi_logloss: 1.02302\n",
      "[118]\tvalid_0's multi_logloss: 1.02997\n",
      "[119]\tvalid_0's multi_logloss: 1.03554\n",
      "[120]\tvalid_0's multi_logloss: 1.03823\n",
      "[121]\tvalid_0's multi_logloss: 1.03975\n",
      "[122]\tvalid_0's multi_logloss: 1.04425\n",
      "[123]\tvalid_0's multi_logloss: 1.04872\n",
      "[124]\tvalid_0's multi_logloss: 1.05012\n",
      "[125]\tvalid_0's multi_logloss: 1.05434\n",
      "[126]\tvalid_0's multi_logloss: 1.05607\n",
      "[127]\tvalid_0's multi_logloss: 1.06027\n",
      "[128]\tvalid_0's multi_logloss: 1.06307\n",
      "[129]\tvalid_0's multi_logloss: 1.06517\n",
      "[130]\tvalid_0's multi_logloss: 1.07207\n",
      "[131]\tvalid_0's multi_logloss: 1.07448\n",
      "0.68\n"
     ]
    }
   ],
   "source": [
    "import lightgbm\n",
    "from lightgbm import LGBMClassifier\n",
    "\n",
    "evals = [(X_test, y_test)]\n",
    "\n",
    "lgb_clf=LGBMClassifier(n_estimators=400)\n",
    "lgb_clf.fit(X_train, y_train, early_stopping_rounds=100, eval_metric=\"logloss\", eval_set=evals)\n",
    "lgb_pred=lgb_clf.predict(X_test)\n",
    "\n",
    "print(accuracy_score(y_test, lgb_pred))"
   ]
  },
  {
   "cell_type": "markdown",
   "id": "DQ3Lnuevoz4w",
   "metadata": {
    "id": "DQ3Lnuevoz4w"
   },
   "source": [
    "## Stacking 실습"
   ]
  },
  {
   "cell_type": "markdown",
   "id": "FSqK0PzP-YmZ",
   "metadata": {
    "id": "FSqK0PzP-YmZ"
   },
   "source": [
    "CV set 기반 stacking을 통해 앙상블 모델을 만드려고 합니다.    \n",
    "개별 모델이 교차검증을 통해 최종 모델이 사용할 학습용, 테스트용 데이터를 만드는 함수를 생성하시오.\n",
    "```\n",
    "def get_stacking_dataset(model, X_train, y_train, X_test, n_folds):\n",
    "    return train_fold_pred , test_pred_mean\n",
    "```"
   ]
  },
  {
   "cell_type": "code",
   "execution_count": 16,
   "id": "wxGOf8YapU_C",
   "metadata": {
    "id": "wxGOf8YapU_C"
   },
   "outputs": [],
   "source": [
    "from sklearn.model_selection import KFold\n",
    "from sklearn.metrics import mean_absolute_error\n",
    "\n",
    "def get_stacking_datasets(model, X_train_n, y_train_n, X_test_n, n_folds ):\n",
    "    kf = KFold(n_splits=n_folds, shuffle=False)\n",
    "    train_fold_pred = np.zeros((X_train_n.shape[0] ,1 ))\n",
    "    test_pred = np.zeros((X_test_n.shape[0],n_folds))\n",
    "    print(model.__class__.__name__ , ' model 시작 ')\n",
    "    \n",
    "    for folder_counter , (train_index, valid_index) in enumerate(kf.split(X_train_n)):\n",
    "        print('\\t 폴드 세트: ',folder_counter,' 시작 ')\n",
    "        X_tr = X_train_n[train_index] \n",
    "        y_tr = y_train_n[train_index] \n",
    "        X_te = X_train_n[valid_index]  \n",
    "        \n",
    "        model.fit(X_tr , y_tr)       \n",
    "        train_fold_pred[valid_index, :] = model.predict(X_te).reshape(-1,1)\n",
    "        test_pred[:, folder_counter] = model.predict(X_test_n)\n",
    "            \n",
    "    test_pred_mean = np.mean(test_pred, axis=1).reshape(-1,1)    \n",
    "    \n",
    "    return train_fold_pred , test_pred_mean"
   ]
  },
  {
   "cell_type": "markdown",
   "id": "KMgeLW3NA8Q5",
   "metadata": {
    "id": "KMgeLW3NA8Q5"
   },
   "source": [
    "스태킹에 사용될 개별 모델을 생성하시오.\n",
    "\n",
    "개별 모델:  KNN(n_neighbors=4), 랜덤 포레스트(n_estimators=100, random_state=0), 결정 트리, AdaBoost(n_estimators=100), LightGBM(n_estimators=400)\n",
    "\n",
    "최종 모델: 로지스틱 회귀 (C=10)"
   ]
  },
  {
   "cell_type": "code",
   "execution_count": 17,
   "id": "PvuuPu9Op1eb",
   "metadata": {
    "id": "PvuuPu9Op1eb"
   },
   "outputs": [],
   "source": [
    "from sklearn.neighbors import KNeighborsClassifier\n",
    "from sklearn.ensemble import RandomForestClassifier\n",
    "from sklearn.ensemble import AdaBoostClassifier\n",
    "from sklearn.tree import DecisionTreeClassifier\n",
    "\n",
    "knn_clf  = KNeighborsClassifier(n_neighbors=4)\n",
    "rf_clf = RandomForestClassifier(n_estimators=100, random_state=0)\n",
    "dt_clf = DecisionTreeClassifier()\n",
    "ada_clf = AdaBoostClassifier(n_estimators=100)\n",
    "\n",
    "knn_clf.fit(X_train, y_train)\n",
    "rf_clf.fit(X_train , y_train)\n",
    "dt_clf.fit(X_train , y_train)\n",
    "ada_clf.fit(X_train, y_train)\n",
    "\n",
    "knn_pred = knn_clf.predict(X_test)\n",
    "rf_pred = rf_clf.predict(X_test)\n",
    "dt_pred = dt_clf.predict(X_test)\n",
    "ada_pred = ada_clf.predict(X_test)"
   ]
  },
  {
   "cell_type": "markdown",
   "id": "Wew3mwTxBWAZ",
   "metadata": {
    "id": "Wew3mwTxBWAZ"
   },
   "source": [
    "위에서 생성한 함수를 사용해 개별 모델을 학습, 예측시켜 메타모델에 사용될 학습용 데이터와 테스트용 데이터를 생성하고, 스태킹하시오.  \n",
    "fold 수 = 6  \n",
    "학습용 데이터 : stacked_X_train  \n",
    "테스트용 데이터 : stacked_X_test"
   ]
  },
  {
   "cell_type": "code",
   "execution_count": 18,
   "id": "lJI0HG3Bp2TC",
   "metadata": {
    "id": "lJI0HG3Bp2TC"
   },
   "outputs": [
    {
     "name": "stdout",
     "output_type": "stream",
     "text": [
      "KNeighborsClassifier  model 시작 \n",
      "\t 폴드 세트:  0  시작 \n"
     ]
    },
    {
     "ename": "KeyError",
     "evalue": "'[50, 52, 69, 71, 78, 81, 85, 86, 87, 90, 92, 101, 106, 122, 124, 125, 127, 131, 139, 144, 150, 161, 167, 176, 180, 186, 193, 200, 201, 207, 221, 228, 229, 233, 238, 250, 252, 257, 265, 273, 276, 280, 283, 284, 290, 294] not in index'",
     "output_type": "error",
     "traceback": [
      "\u001b[1;31m---------------------------------------------------------------------------\u001b[0m",
      "\u001b[1;31mKeyError\u001b[0m                                  Traceback (most recent call last)",
      "\u001b[1;32m~\\AppData\\Local\\Temp/ipykernel_8712/171153941.py\u001b[0m in \u001b[0;36m<module>\u001b[1;34m\u001b[0m\n\u001b[1;32m----> 1\u001b[1;33m \u001b[0mknn_train\u001b[0m\u001b[1;33m,\u001b[0m \u001b[0mknn_test\u001b[0m \u001b[1;33m=\u001b[0m \u001b[0mget_stacking_datasets\u001b[0m\u001b[1;33m(\u001b[0m\u001b[0mknn_clf\u001b[0m\u001b[1;33m,\u001b[0m \u001b[0mX_train\u001b[0m\u001b[1;33m,\u001b[0m \u001b[0my_train\u001b[0m\u001b[1;33m,\u001b[0m \u001b[0mX_test\u001b[0m\u001b[1;33m,\u001b[0m \u001b[1;36m6\u001b[0m\u001b[1;33m)\u001b[0m\u001b[1;33m\u001b[0m\u001b[1;33m\u001b[0m\u001b[0m\n\u001b[0m\u001b[0;32m      2\u001b[0m \u001b[0mrf_train\u001b[0m\u001b[1;33m,\u001b[0m \u001b[0mrf_test\u001b[0m \u001b[1;33m=\u001b[0m \u001b[0mget_stacking_datasets\u001b[0m\u001b[1;33m(\u001b[0m\u001b[0mrf_clf\u001b[0m\u001b[1;33m,\u001b[0m \u001b[0mX_train\u001b[0m\u001b[1;33m,\u001b[0m \u001b[0my_train\u001b[0m\u001b[1;33m,\u001b[0m \u001b[0mX_test\u001b[0m\u001b[1;33m,\u001b[0m \u001b[1;36m6\u001b[0m\u001b[1;33m)\u001b[0m\u001b[1;33m\u001b[0m\u001b[1;33m\u001b[0m\u001b[0m\n\u001b[0;32m      3\u001b[0m \u001b[0mdt_train\u001b[0m\u001b[1;33m,\u001b[0m \u001b[0mdt_test\u001b[0m \u001b[1;33m=\u001b[0m \u001b[0mget_stacking_datasets\u001b[0m\u001b[1;33m(\u001b[0m\u001b[0mdt_clf\u001b[0m\u001b[1;33m,\u001b[0m \u001b[0mX_train\u001b[0m\u001b[1;33m,\u001b[0m \u001b[0my_train\u001b[0m\u001b[1;33m,\u001b[0m \u001b[0mX_test\u001b[0m\u001b[1;33m,\u001b[0m  \u001b[1;36m6\u001b[0m\u001b[1;33m)\u001b[0m\u001b[1;33m\u001b[0m\u001b[1;33m\u001b[0m\u001b[0m\n\u001b[0;32m      4\u001b[0m \u001b[0mada_train\u001b[0m\u001b[1;33m,\u001b[0m \u001b[0mada_test\u001b[0m \u001b[1;33m=\u001b[0m \u001b[0mget_stacking_datasets\u001b[0m\u001b[1;33m(\u001b[0m\u001b[0mada_clf\u001b[0m\u001b[1;33m,\u001b[0m \u001b[0mX_train\u001b[0m\u001b[1;33m,\u001b[0m \u001b[0my_train\u001b[0m\u001b[1;33m,\u001b[0m \u001b[0mX_test\u001b[0m\u001b[1;33m,\u001b[0m \u001b[1;36m6\u001b[0m\u001b[1;33m)\u001b[0m\u001b[1;33m\u001b[0m\u001b[1;33m\u001b[0m\u001b[0m\n\u001b[0;32m      5\u001b[0m \u001b[0mlgb_train\u001b[0m\u001b[1;33m,\u001b[0m \u001b[0mlgb_test\u001b[0m \u001b[1;33m=\u001b[0m \u001b[0mget_stacking_datasets\u001b[0m\u001b[1;33m(\u001b[0m\u001b[0mlgb_clf\u001b[0m\u001b[1;33m,\u001b[0m \u001b[0mX_train\u001b[0m\u001b[1;33m,\u001b[0m \u001b[0my_train\u001b[0m\u001b[1;33m,\u001b[0m \u001b[0mX_test\u001b[0m\u001b[1;33m,\u001b[0m \u001b[1;36m6\u001b[0m\u001b[1;33m)\u001b[0m\u001b[1;33m\u001b[0m\u001b[1;33m\u001b[0m\u001b[0m\n",
      "\u001b[1;32m~\\AppData\\Local\\Temp/ipykernel_8712/848872026.py\u001b[0m in \u001b[0;36mget_stacking_datasets\u001b[1;34m(model, X_train_n, y_train_n, X_test_n, n_folds)\u001b[0m\n\u001b[0;32m     11\u001b[0m         \u001b[0mprint\u001b[0m\u001b[1;33m(\u001b[0m\u001b[1;34m'\\t 폴드 세트: '\u001b[0m\u001b[1;33m,\u001b[0m\u001b[0mfolder_counter\u001b[0m\u001b[1;33m,\u001b[0m\u001b[1;34m' 시작 '\u001b[0m\u001b[1;33m)\u001b[0m\u001b[1;33m\u001b[0m\u001b[1;33m\u001b[0m\u001b[0m\n\u001b[0;32m     12\u001b[0m         \u001b[0mX_tr\u001b[0m \u001b[1;33m=\u001b[0m \u001b[0mX_train_n\u001b[0m\u001b[1;33m[\u001b[0m\u001b[0mtrain_index\u001b[0m\u001b[1;33m]\u001b[0m\u001b[1;33m\u001b[0m\u001b[1;33m\u001b[0m\u001b[0m\n\u001b[1;32m---> 13\u001b[1;33m         \u001b[0my_tr\u001b[0m \u001b[1;33m=\u001b[0m \u001b[0my_train_n\u001b[0m\u001b[1;33m[\u001b[0m\u001b[0mtrain_index\u001b[0m\u001b[1;33m]\u001b[0m\u001b[1;33m\u001b[0m\u001b[1;33m\u001b[0m\u001b[0m\n\u001b[0m\u001b[0;32m     14\u001b[0m         \u001b[0mX_te\u001b[0m \u001b[1;33m=\u001b[0m \u001b[0mX_train_n\u001b[0m\u001b[1;33m[\u001b[0m\u001b[0mvalid_index\u001b[0m\u001b[1;33m]\u001b[0m\u001b[1;33m\u001b[0m\u001b[1;33m\u001b[0m\u001b[0m\n\u001b[0;32m     15\u001b[0m \u001b[1;33m\u001b[0m\u001b[0m\n",
      "\u001b[1;32mC:\\ProgramData\\Anaconda3\\lib\\site-packages\\pandas\\core\\series.py\u001b[0m in \u001b[0;36m__getitem__\u001b[1;34m(self, key)\u001b[0m\n\u001b[0;32m    964\u001b[0m             \u001b[1;32mreturn\u001b[0m \u001b[0mself\u001b[0m\u001b[1;33m.\u001b[0m\u001b[0m_get_values\u001b[0m\u001b[1;33m(\u001b[0m\u001b[0mkey\u001b[0m\u001b[1;33m)\u001b[0m\u001b[1;33m\u001b[0m\u001b[1;33m\u001b[0m\u001b[0m\n\u001b[0;32m    965\u001b[0m \u001b[1;33m\u001b[0m\u001b[0m\n\u001b[1;32m--> 966\u001b[1;33m         \u001b[1;32mreturn\u001b[0m \u001b[0mself\u001b[0m\u001b[1;33m.\u001b[0m\u001b[0m_get_with\u001b[0m\u001b[1;33m(\u001b[0m\u001b[0mkey\u001b[0m\u001b[1;33m)\u001b[0m\u001b[1;33m\u001b[0m\u001b[1;33m\u001b[0m\u001b[0m\n\u001b[0m\u001b[0;32m    967\u001b[0m \u001b[1;33m\u001b[0m\u001b[0m\n\u001b[0;32m    968\u001b[0m     \u001b[1;32mdef\u001b[0m \u001b[0m_get_with\u001b[0m\u001b[1;33m(\u001b[0m\u001b[0mself\u001b[0m\u001b[1;33m,\u001b[0m \u001b[0mkey\u001b[0m\u001b[1;33m)\u001b[0m\u001b[1;33m:\u001b[0m\u001b[1;33m\u001b[0m\u001b[1;33m\u001b[0m\u001b[0m\n",
      "\u001b[1;32mC:\\ProgramData\\Anaconda3\\lib\\site-packages\\pandas\\core\\series.py\u001b[0m in \u001b[0;36m_get_with\u001b[1;34m(self, key)\u001b[0m\n\u001b[0;32m    999\u001b[0m             \u001b[1;31m#  (i.e. self.iloc) or label-based (i.e. self.loc)\u001b[0m\u001b[1;33m\u001b[0m\u001b[1;33m\u001b[0m\u001b[0m\n\u001b[0;32m   1000\u001b[0m             \u001b[1;32mif\u001b[0m \u001b[1;32mnot\u001b[0m \u001b[0mself\u001b[0m\u001b[1;33m.\u001b[0m\u001b[0mindex\u001b[0m\u001b[1;33m.\u001b[0m\u001b[0m_should_fallback_to_positional\u001b[0m\u001b[1;33m(\u001b[0m\u001b[1;33m)\u001b[0m\u001b[1;33m:\u001b[0m\u001b[1;33m\u001b[0m\u001b[1;33m\u001b[0m\u001b[0m\n\u001b[1;32m-> 1001\u001b[1;33m                 \u001b[1;32mreturn\u001b[0m \u001b[0mself\u001b[0m\u001b[1;33m.\u001b[0m\u001b[0mloc\u001b[0m\u001b[1;33m[\u001b[0m\u001b[0mkey\u001b[0m\u001b[1;33m]\u001b[0m\u001b[1;33m\u001b[0m\u001b[1;33m\u001b[0m\u001b[0m\n\u001b[0m\u001b[0;32m   1002\u001b[0m             \u001b[1;32melse\u001b[0m\u001b[1;33m:\u001b[0m\u001b[1;33m\u001b[0m\u001b[1;33m\u001b[0m\u001b[0m\n\u001b[0;32m   1003\u001b[0m                 \u001b[1;32mreturn\u001b[0m \u001b[0mself\u001b[0m\u001b[1;33m.\u001b[0m\u001b[0miloc\u001b[0m\u001b[1;33m[\u001b[0m\u001b[0mkey\u001b[0m\u001b[1;33m]\u001b[0m\u001b[1;33m\u001b[0m\u001b[1;33m\u001b[0m\u001b[0m\n",
      "\u001b[1;32mC:\\ProgramData\\Anaconda3\\lib\\site-packages\\pandas\\core\\indexing.py\u001b[0m in \u001b[0;36m__getitem__\u001b[1;34m(self, key)\u001b[0m\n\u001b[0;32m    929\u001b[0m \u001b[1;33m\u001b[0m\u001b[0m\n\u001b[0;32m    930\u001b[0m             \u001b[0mmaybe_callable\u001b[0m \u001b[1;33m=\u001b[0m \u001b[0mcom\u001b[0m\u001b[1;33m.\u001b[0m\u001b[0mapply_if_callable\u001b[0m\u001b[1;33m(\u001b[0m\u001b[0mkey\u001b[0m\u001b[1;33m,\u001b[0m \u001b[0mself\u001b[0m\u001b[1;33m.\u001b[0m\u001b[0mobj\u001b[0m\u001b[1;33m)\u001b[0m\u001b[1;33m\u001b[0m\u001b[1;33m\u001b[0m\u001b[0m\n\u001b[1;32m--> 931\u001b[1;33m             \u001b[1;32mreturn\u001b[0m \u001b[0mself\u001b[0m\u001b[1;33m.\u001b[0m\u001b[0m_getitem_axis\u001b[0m\u001b[1;33m(\u001b[0m\u001b[0mmaybe_callable\u001b[0m\u001b[1;33m,\u001b[0m \u001b[0maxis\u001b[0m\u001b[1;33m=\u001b[0m\u001b[0maxis\u001b[0m\u001b[1;33m)\u001b[0m\u001b[1;33m\u001b[0m\u001b[1;33m\u001b[0m\u001b[0m\n\u001b[0m\u001b[0;32m    932\u001b[0m \u001b[1;33m\u001b[0m\u001b[0m\n\u001b[0;32m    933\u001b[0m     \u001b[1;32mdef\u001b[0m \u001b[0m_is_scalar_access\u001b[0m\u001b[1;33m(\u001b[0m\u001b[0mself\u001b[0m\u001b[1;33m,\u001b[0m \u001b[0mkey\u001b[0m\u001b[1;33m:\u001b[0m \u001b[0mtuple\u001b[0m\u001b[1;33m)\u001b[0m\u001b[1;33m:\u001b[0m\u001b[1;33m\u001b[0m\u001b[1;33m\u001b[0m\u001b[0m\n",
      "\u001b[1;32mC:\\ProgramData\\Anaconda3\\lib\\site-packages\\pandas\\core\\indexing.py\u001b[0m in \u001b[0;36m_getitem_axis\u001b[1;34m(self, key, axis)\u001b[0m\n\u001b[0;32m   1151\u001b[0m                     \u001b[1;32mraise\u001b[0m \u001b[0mValueError\u001b[0m\u001b[1;33m(\u001b[0m\u001b[1;34m\"Cannot index with multidimensional key\"\u001b[0m\u001b[1;33m)\u001b[0m\u001b[1;33m\u001b[0m\u001b[1;33m\u001b[0m\u001b[0m\n\u001b[0;32m   1152\u001b[0m \u001b[1;33m\u001b[0m\u001b[0m\n\u001b[1;32m-> 1153\u001b[1;33m                 \u001b[1;32mreturn\u001b[0m \u001b[0mself\u001b[0m\u001b[1;33m.\u001b[0m\u001b[0m_getitem_iterable\u001b[0m\u001b[1;33m(\u001b[0m\u001b[0mkey\u001b[0m\u001b[1;33m,\u001b[0m \u001b[0maxis\u001b[0m\u001b[1;33m=\u001b[0m\u001b[0maxis\u001b[0m\u001b[1;33m)\u001b[0m\u001b[1;33m\u001b[0m\u001b[1;33m\u001b[0m\u001b[0m\n\u001b[0m\u001b[0;32m   1154\u001b[0m \u001b[1;33m\u001b[0m\u001b[0m\n\u001b[0;32m   1155\u001b[0m             \u001b[1;31m# nested tuple slicing\u001b[0m\u001b[1;33m\u001b[0m\u001b[1;33m\u001b[0m\u001b[0m\n",
      "\u001b[1;32mC:\\ProgramData\\Anaconda3\\lib\\site-packages\\pandas\\core\\indexing.py\u001b[0m in \u001b[0;36m_getitem_iterable\u001b[1;34m(self, key, axis)\u001b[0m\n\u001b[0;32m   1091\u001b[0m \u001b[1;33m\u001b[0m\u001b[0m\n\u001b[0;32m   1092\u001b[0m         \u001b[1;31m# A collection of keys\u001b[0m\u001b[1;33m\u001b[0m\u001b[1;33m\u001b[0m\u001b[0m\n\u001b[1;32m-> 1093\u001b[1;33m         \u001b[0mkeyarr\u001b[0m\u001b[1;33m,\u001b[0m \u001b[0mindexer\u001b[0m \u001b[1;33m=\u001b[0m \u001b[0mself\u001b[0m\u001b[1;33m.\u001b[0m\u001b[0m_get_listlike_indexer\u001b[0m\u001b[1;33m(\u001b[0m\u001b[0mkey\u001b[0m\u001b[1;33m,\u001b[0m \u001b[0maxis\u001b[0m\u001b[1;33m)\u001b[0m\u001b[1;33m\u001b[0m\u001b[1;33m\u001b[0m\u001b[0m\n\u001b[0m\u001b[0;32m   1094\u001b[0m         return self.obj._reindex_with_indexers(\n\u001b[0;32m   1095\u001b[0m             \u001b[1;33m{\u001b[0m\u001b[0maxis\u001b[0m\u001b[1;33m:\u001b[0m \u001b[1;33m[\u001b[0m\u001b[0mkeyarr\u001b[0m\u001b[1;33m,\u001b[0m \u001b[0mindexer\u001b[0m\u001b[1;33m]\u001b[0m\u001b[1;33m}\u001b[0m\u001b[1;33m,\u001b[0m \u001b[0mcopy\u001b[0m\u001b[1;33m=\u001b[0m\u001b[1;32mTrue\u001b[0m\u001b[1;33m,\u001b[0m \u001b[0mallow_dups\u001b[0m\u001b[1;33m=\u001b[0m\u001b[1;32mTrue\u001b[0m\u001b[1;33m\u001b[0m\u001b[1;33m\u001b[0m\u001b[0m\n",
      "\u001b[1;32mC:\\ProgramData\\Anaconda3\\lib\\site-packages\\pandas\\core\\indexing.py\u001b[0m in \u001b[0;36m_get_listlike_indexer\u001b[1;34m(self, key, axis)\u001b[0m\n\u001b[0;32m   1312\u001b[0m             \u001b[0mkeyarr\u001b[0m\u001b[1;33m,\u001b[0m \u001b[0mindexer\u001b[0m\u001b[1;33m,\u001b[0m \u001b[0mnew_indexer\u001b[0m \u001b[1;33m=\u001b[0m \u001b[0max\u001b[0m\u001b[1;33m.\u001b[0m\u001b[0m_reindex_non_unique\u001b[0m\u001b[1;33m(\u001b[0m\u001b[0mkeyarr\u001b[0m\u001b[1;33m)\u001b[0m\u001b[1;33m\u001b[0m\u001b[1;33m\u001b[0m\u001b[0m\n\u001b[0;32m   1313\u001b[0m \u001b[1;33m\u001b[0m\u001b[0m\n\u001b[1;32m-> 1314\u001b[1;33m         \u001b[0mself\u001b[0m\u001b[1;33m.\u001b[0m\u001b[0m_validate_read_indexer\u001b[0m\u001b[1;33m(\u001b[0m\u001b[0mkeyarr\u001b[0m\u001b[1;33m,\u001b[0m \u001b[0mindexer\u001b[0m\u001b[1;33m,\u001b[0m \u001b[0maxis\u001b[0m\u001b[1;33m)\u001b[0m\u001b[1;33m\u001b[0m\u001b[1;33m\u001b[0m\u001b[0m\n\u001b[0m\u001b[0;32m   1315\u001b[0m \u001b[1;33m\u001b[0m\u001b[0m\n\u001b[0;32m   1316\u001b[0m         if needs_i8_conversion(ax.dtype) or isinstance(\n",
      "\u001b[1;32mC:\\ProgramData\\Anaconda3\\lib\\site-packages\\pandas\\core\\indexing.py\u001b[0m in \u001b[0;36m_validate_read_indexer\u001b[1;34m(self, key, indexer, axis)\u001b[0m\n\u001b[0;32m   1375\u001b[0m \u001b[1;33m\u001b[0m\u001b[0m\n\u001b[0;32m   1376\u001b[0m             \u001b[0mnot_found\u001b[0m \u001b[1;33m=\u001b[0m \u001b[0mlist\u001b[0m\u001b[1;33m(\u001b[0m\u001b[0mensure_index\u001b[0m\u001b[1;33m(\u001b[0m\u001b[0mkey\u001b[0m\u001b[1;33m)\u001b[0m\u001b[1;33m[\u001b[0m\u001b[0mmissing_mask\u001b[0m\u001b[1;33m.\u001b[0m\u001b[0mnonzero\u001b[0m\u001b[1;33m(\u001b[0m\u001b[1;33m)\u001b[0m\u001b[1;33m[\u001b[0m\u001b[1;36m0\u001b[0m\u001b[1;33m]\u001b[0m\u001b[1;33m]\u001b[0m\u001b[1;33m.\u001b[0m\u001b[0munique\u001b[0m\u001b[1;33m(\u001b[0m\u001b[1;33m)\u001b[0m\u001b[1;33m)\u001b[0m\u001b[1;33m\u001b[0m\u001b[1;33m\u001b[0m\u001b[0m\n\u001b[1;32m-> 1377\u001b[1;33m             \u001b[1;32mraise\u001b[0m \u001b[0mKeyError\u001b[0m\u001b[1;33m(\u001b[0m\u001b[1;34mf\"{not_found} not in index\"\u001b[0m\u001b[1;33m)\u001b[0m\u001b[1;33m\u001b[0m\u001b[1;33m\u001b[0m\u001b[0m\n\u001b[0m\u001b[0;32m   1378\u001b[0m \u001b[1;33m\u001b[0m\u001b[0m\n\u001b[0;32m   1379\u001b[0m \u001b[1;33m\u001b[0m\u001b[0m\n",
      "\u001b[1;31mKeyError\u001b[0m: '[50, 52, 69, 71, 78, 81, 85, 86, 87, 90, 92, 101, 106, 122, 124, 125, 127, 131, 139, 144, 150, 161, 167, 176, 180, 186, 193, 200, 201, 207, 221, 228, 229, 233, 238, 250, 252, 257, 265, 273, 276, 280, 283, 284, 290, 294] not in index'"
     ]
    }
   ],
   "source": [
    "knn_train, knn_test = get_stacking_datasets(knn_clf, X_train, y_train, X_test, 6)\n",
    "rf_train, rf_test = get_stacking_datasets(rf_clf, X_train, y_train, X_test, 6)\n",
    "dt_train, dt_test = get_stacking_datasets(dt_clf, X_train, y_train, X_test,  6)    \n",
    "ada_train, ada_test = get_stacking_datasets(ada_clf, X_train, y_train, X_test, 6)\n",
    "lgb_train, lgb_test = get_stacking_datasets(lgb_clf, X_train, y_train, X_test, 6)"
   ]
  },
  {
   "cell_type": "code",
   "execution_count": 19,
   "id": "NtuEJGkep6EV",
   "metadata": {
    "id": "NtuEJGkep6EV"
   },
   "outputs": [
    {
     "ename": "NameError",
     "evalue": "name 'knn_train' is not defined",
     "output_type": "error",
     "traceback": [
      "\u001b[1;31m---------------------------------------------------------------------------\u001b[0m",
      "\u001b[1;31mNameError\u001b[0m                                 Traceback (most recent call last)",
      "\u001b[1;32m~\\AppData\\Local\\Temp/ipykernel_8712/606975632.py\u001b[0m in \u001b[0;36m<module>\u001b[1;34m\u001b[0m\n\u001b[1;32m----> 1\u001b[1;33m \u001b[0mstacked_X_train\u001b[0m\u001b[1;33m=\u001b[0m\u001b[0mnp\u001b[0m\u001b[1;33m.\u001b[0m\u001b[0mconcatenate\u001b[0m\u001b[1;33m(\u001b[0m\u001b[1;33m(\u001b[0m\u001b[0mknn_train\u001b[0m\u001b[1;33m,\u001b[0m \u001b[0mrf_train\u001b[0m\u001b[1;33m,\u001b[0m \u001b[0mdt_train\u001b[0m\u001b[1;33m,\u001b[0m \u001b[0mada_train\u001b[0m\u001b[1;33m,\u001b[0m \u001b[0mlgb_train\u001b[0m\u001b[1;33m)\u001b[0m\u001b[1;33m,\u001b[0m \u001b[0maxis\u001b[0m\u001b[1;33m=\u001b[0m\u001b[1;36m1\u001b[0m\u001b[1;33m)\u001b[0m\u001b[1;33m\u001b[0m\u001b[1;33m\u001b[0m\u001b[0m\n\u001b[0m\u001b[0;32m      2\u001b[0m \u001b[0mstacked_X_test\u001b[0m\u001b[1;33m=\u001b[0m\u001b[0mnp\u001b[0m\u001b[1;33m.\u001b[0m\u001b[0mconcatenate\u001b[0m\u001b[1;33m(\u001b[0m\u001b[1;33m(\u001b[0m\u001b[0mknn_test\u001b[0m\u001b[1;33m,\u001b[0m \u001b[0mrf_test\u001b[0m\u001b[1;33m,\u001b[0m \u001b[0mdt_test\u001b[0m\u001b[1;33m,\u001b[0m \u001b[0mada_test\u001b[0m\u001b[1;33m,\u001b[0m \u001b[0mlgb_test\u001b[0m\u001b[1;33m)\u001b[0m\u001b[1;33m,\u001b[0m \u001b[0maxis\u001b[0m\u001b[1;33m=\u001b[0m\u001b[1;36m1\u001b[0m\u001b[1;33m)\u001b[0m\u001b[1;33m\u001b[0m\u001b[1;33m\u001b[0m\u001b[0m\n",
      "\u001b[1;31mNameError\u001b[0m: name 'knn_train' is not defined"
     ]
    }
   ],
   "source": [
    "stacked_X_train=np.concatenate((knn_train, rf_train, dt_train, ada_train, lgb_train), axis=1)\n",
    "stacked_X_test=np.concatenate((knn_test, rf_test, dt_test, ada_test, lgb_test), axis=1)"
   ]
  },
  {
   "cell_type": "markdown",
   "id": "z1wPcXvNHH8t",
   "metadata": {
    "id": "z1wPcXvNHH8t"
   },
   "source": [
    "최종 모델 (logistic regression)을 학습시키고, 정확도를 구하시오."
   ]
  },
  {
   "cell_type": "code",
   "execution_count": null,
   "id": "OFqd1by6p2z1",
   "metadata": {
    "id": "OFqd1by6p2z1"
   },
   "outputs": [],
   "source": [
    "lr_final.fit(stacked_X_train, y_train)\n",
    "stack_final=lr_final.predict(Stack_X_test)\n",
    "\n",
    "accuracy_score(y_test, stack_final)"
   ]
  },
  {
   "cell_type": "markdown",
   "id": "mZEcyqY79nZM",
   "metadata": {
    "id": "mZEcyqY79nZM"
   },
   "source": [
    "### CatBoost\n",
    "\n",
    "범주형 변수가 많은 데이터에 catboost를 적용해봅시다.\n",
    "\n",
    "데이터 출처:\n",
    "https://www.kaggle.com/datasets/uciml/mushroom-classification\n"
   ]
  },
  {
   "cell_type": "code",
   "execution_count": 20,
   "id": "mbSevRzjIHKs",
   "metadata": {
    "id": "mbSevRzjIHKs"
   },
   "outputs": [],
   "source": [
    "mushroom_df = pd.read_csv('mushrooms.csv')"
   ]
  },
  {
   "cell_type": "markdown",
   "id": "AjLa99HnIZ1M",
   "metadata": {
    "id": "AjLa99HnIZ1M"
   },
   "source": [
    "mushroom_df feature들의 data type을 확인하시오."
   ]
  },
  {
   "cell_type": "code",
   "execution_count": 21,
   "id": "Gs16WW_rp7d2",
   "metadata": {
    "id": "Gs16WW_rp7d2"
   },
   "outputs": [
    {
     "name": "stdout",
     "output_type": "stream",
     "text": [
      "<class 'pandas.core.frame.DataFrame'>\n",
      "RangeIndex: 8124 entries, 0 to 8123\n",
      "Data columns (total 23 columns):\n",
      " #   Column                    Non-Null Count  Dtype \n",
      "---  ------                    --------------  ----- \n",
      " 0   class                     8124 non-null   object\n",
      " 1   cap-shape                 8124 non-null   object\n",
      " 2   cap-surface               8124 non-null   object\n",
      " 3   cap-color                 8124 non-null   object\n",
      " 4   bruises                   8124 non-null   object\n",
      " 5   odor                      8124 non-null   object\n",
      " 6   gill-attachment           8124 non-null   object\n",
      " 7   gill-spacing              8124 non-null   object\n",
      " 8   gill-size                 8124 non-null   object\n",
      " 9   gill-color                8124 non-null   object\n",
      " 10  stalk-shape               8124 non-null   object\n",
      " 11  stalk-root                8124 non-null   object\n",
      " 12  stalk-surface-above-ring  8124 non-null   object\n",
      " 13  stalk-surface-below-ring  8124 non-null   object\n",
      " 14  stalk-color-above-ring    8124 non-null   object\n",
      " 15  stalk-color-below-ring    8124 non-null   object\n",
      " 16  veil-type                 8124 non-null   object\n",
      " 17  veil-color                8124 non-null   object\n",
      " 18  ring-number               8124 non-null   object\n",
      " 19  ring-type                 8124 non-null   object\n",
      " 20  spore-print-color         8124 non-null   object\n",
      " 21  population                8124 non-null   object\n",
      " 22  habitat                   8124 non-null   object\n",
      "dtypes: object(23)\n",
      "memory usage: 1.4+ MB\n"
     ]
    }
   ],
   "source": [
    "mushroom_df.info()"
   ]
  },
  {
   "cell_type": "markdown",
   "id": "twu4cpQMKHTM",
   "metadata": {
    "id": "twu4cpQMKHTM"
   },
   "source": [
    "feature와 target을 각각 X_mushroom, y_mushroom으로 분리하고,  \n",
    "train_test_split 함수로 train, test set을 분리하시오. (test size = 0.2)"
   ]
  },
  {
   "cell_type": "code",
   "execution_count": 22,
   "id": "T4Qwnz0Kp8Aj",
   "metadata": {
    "id": "T4Qwnz0Kp8Aj"
   },
   "outputs": [],
   "source": [
    "y_mushroom=mushroom_df['class']\n",
    "X_mushroom=mushroom_df.drop('class',axis=1).values\n",
    "\n",
    "X_train, X_test, y_train, y_test = train_test_split(X_mushroom,y_mushroom,test_size=0.2,random_state=12)"
   ]
  },
  {
   "cell_type": "markdown",
   "id": "FAkKKfY9JC5U",
   "metadata": {
    "id": "FAkKKfY9JC5U"
   },
   "source": [
    "CatBoostClassifier를 불러오고, Pool 함수를 이용해 범주형 변수를 처리하도록 train_pool, test_pool을 만드시오."
   ]
  },
  {
   "cell_type": "code",
   "execution_count": 23,
   "id": "LAFxT8bVIEyN",
   "metadata": {
    "id": "LAFxT8bVIEyN"
   },
   "outputs": [
    {
     "name": "stdout",
     "output_type": "stream",
     "text": [
      "Requirement already satisfied: catboost in c:\\programdata\\anaconda3\\lib\\site-packages (1.0.6)\n",
      "Requirement already satisfied: six in c:\\programdata\\anaconda3\\lib\\site-packages (from catboost) (1.16.0)\n",
      "Requirement already satisfied: graphviz in c:\\programdata\\anaconda3\\lib\\site-packages (from catboost) (0.20.1)\n",
      "Requirement already satisfied: numpy>=1.16.0 in c:\\programdata\\anaconda3\\lib\\site-packages (from catboost) (1.20.3)\n",
      "Requirement already satisfied: plotly in c:\\programdata\\anaconda3\\lib\\site-packages (from catboost) (5.10.0)\n",
      "Requirement already satisfied: scipy in c:\\programdata\\anaconda3\\lib\\site-packages (from catboost) (1.7.1)\n",
      "Requirement already satisfied: pandas>=0.24.0 in c:\\programdata\\anaconda3\\lib\\site-packages (from catboost) (1.3.4)\n",
      "Requirement already satisfied: matplotlib in c:\\programdata\\anaconda3\\lib\\site-packages (from catboost) (3.4.3)\n",
      "Requirement already satisfied: pytz>=2017.3 in c:\\programdata\\anaconda3\\lib\\site-packages (from pandas>=0.24.0->catboost) (2021.3)\n",
      "Requirement already satisfied: python-dateutil>=2.7.3 in c:\\programdata\\anaconda3\\lib\\site-packages (from pandas>=0.24.0->catboost) (2.8.2)\n",
      "Requirement already satisfied: cycler>=0.10 in c:\\programdata\\anaconda3\\lib\\site-packages (from matplotlib->catboost) (0.10.0)\n",
      "Requirement already satisfied: pillow>=6.2.0 in c:\\programdata\\anaconda3\\lib\\site-packages (from matplotlib->catboost) (8.4.0)\n",
      "Requirement already satisfied: pyparsing>=2.2.1 in c:\\programdata\\anaconda3\\lib\\site-packages (from matplotlib->catboost) (3.0.4)\n",
      "Requirement already satisfied: kiwisolver>=1.0.1 in c:\\programdata\\anaconda3\\lib\\site-packages (from matplotlib->catboost) (1.3.1)\n",
      "Requirement already satisfied: tenacity>=6.2.0 in c:\\programdata\\anaconda3\\lib\\site-packages (from plotly->catboost) (8.0.1)\n"
     ]
    },
    {
     "name": "stderr",
     "output_type": "stream",
     "text": [
      "WARNING: Ignoring invalid distribution -andas (c:\\programdata\\anaconda3\\lib\\site-packages)\n",
      "WARNING: Ignoring invalid distribution -andas (c:\\programdata\\anaconda3\\lib\\site-packages)\n",
      "WARNING: Ignoring invalid distribution -andas (c:\\programdata\\anaconda3\\lib\\site-packages)\n",
      "WARNING: Ignoring invalid distribution -andas (c:\\programdata\\anaconda3\\lib\\site-packages)\n",
      "WARNING: Ignoring invalid distribution -andas (c:\\programdata\\anaconda3\\lib\\site-packages)\n",
      "WARNING: Ignoring invalid distribution -andas (c:\\programdata\\anaconda3\\lib\\site-packages)\n"
     ]
    },
    {
     "ename": "CatBoostError",
     "evalue": "Bad value for num_feature[non_default_doc_idx=0,feature_idx=0]=\"x\": Cannot convert 'b'x'' to float",
     "output_type": "error",
     "traceback": [
      "\u001b[1;31m---------------------------------------------------------------------------\u001b[0m",
      "\u001b[1;31mTypeError\u001b[0m                                 Traceback (most recent call last)",
      "\u001b[1;32m_catboost.pyx\u001b[0m in \u001b[0;36m_catboost.get_float_feature\u001b[1;34m()\u001b[0m\n",
      "\u001b[1;32m_catboost.pyx\u001b[0m in \u001b[0;36m_catboost._FloatOrNan\u001b[1;34m()\u001b[0m\n",
      "\u001b[1;32m_catboost.pyx\u001b[0m in \u001b[0;36m_catboost._FloatOrNanFromString\u001b[1;34m()\u001b[0m\n",
      "\u001b[1;31mTypeError\u001b[0m: Cannot convert 'b'x'' to float",
      "\nDuring handling of the above exception, another exception occurred:\n",
      "\u001b[1;31mCatBoostError\u001b[0m                             Traceback (most recent call last)",
      "\u001b[1;32m~\\AppData\\Local\\Temp/ipykernel_8712/2552551659.py\u001b[0m in \u001b[0;36m<module>\u001b[1;34m\u001b[0m\n\u001b[0;32m      4\u001b[0m \u001b[1;32mfrom\u001b[0m \u001b[0mcatboost\u001b[0m \u001b[1;32mimport\u001b[0m \u001b[0mPool\u001b[0m\u001b[1;33m\u001b[0m\u001b[1;33m\u001b[0m\u001b[0m\n\u001b[0;32m      5\u001b[0m \u001b[1;33m\u001b[0m\u001b[0m\n\u001b[1;32m----> 6\u001b[1;33m \u001b[0mpool_train\u001b[0m\u001b[1;33m=\u001b[0m\u001b[0mPool\u001b[0m\u001b[1;33m(\u001b[0m\u001b[0mX_train\u001b[0m\u001b[1;33m,\u001b[0m\u001b[0my_train\u001b[0m\u001b[1;33m)\u001b[0m\u001b[1;33m\u001b[0m\u001b[1;33m\u001b[0m\u001b[0m\n\u001b[0m\u001b[0;32m      7\u001b[0m \u001b[0mpool_test\u001b[0m\u001b[1;33m=\u001b[0m\u001b[0mPool\u001b[0m\u001b[1;33m(\u001b[0m\u001b[0mX_test\u001b[0m\u001b[1;33m,\u001b[0m \u001b[0my_test\u001b[0m\u001b[1;33m)\u001b[0m\u001b[1;33m\u001b[0m\u001b[1;33m\u001b[0m\u001b[0m\n\u001b[0;32m      8\u001b[0m \u001b[1;32mfrom\u001b[0m \u001b[0mcatboost\u001b[0m \u001b[1;32mimport\u001b[0m \u001b[0mCatBoostClassifier\u001b[0m\u001b[1;33m\u001b[0m\u001b[1;33m\u001b[0m\u001b[0m\n",
      "\u001b[1;32mC:\\ProgramData\\Anaconda3\\lib\\site-packages\\catboost\\core.py\u001b[0m in \u001b[0;36m__init__\u001b[1;34m(self, data, label, cat_features, text_features, embedding_features, embedding_features_data, column_description, pairs, delimiter, has_header, ignore_csv_quoting, weight, group_id, group_weight, subgroup_id, pairs_weight, baseline, timestamp, feature_names, feature_tags, thread_count, log_cout, log_cerr)\u001b[0m\n\u001b[0;32m    788\u001b[0m                     )\n\u001b[0;32m    789\u001b[0m \u001b[1;33m\u001b[0m\u001b[0m\n\u001b[1;32m--> 790\u001b[1;33m                 self._init(data, label, cat_features, text_features, embedding_features, embedding_features_data, pairs, weight,\n\u001b[0m\u001b[0;32m    791\u001b[0m                            group_id, group_weight, subgroup_id, pairs_weight, baseline, timestamp, feature_names, feature_tags, thread_count)\n\u001b[0;32m    792\u001b[0m         \u001b[0msuper\u001b[0m\u001b[1;33m(\u001b[0m\u001b[0mPool\u001b[0m\u001b[1;33m,\u001b[0m \u001b[0mself\u001b[0m\u001b[1;33m)\u001b[0m\u001b[1;33m.\u001b[0m\u001b[0m__init__\u001b[0m\u001b[1;33m(\u001b[0m\u001b[1;33m)\u001b[0m\u001b[1;33m\u001b[0m\u001b[1;33m\u001b[0m\u001b[0m\n",
      "\u001b[1;32mC:\\ProgramData\\Anaconda3\\lib\\site-packages\\catboost\\core.py\u001b[0m in \u001b[0;36m_init\u001b[1;34m(self, data, label, cat_features, text_features, embedding_features, embedding_features_data, pairs, weight, group_id, group_weight, subgroup_id, pairs_weight, baseline, timestamp, feature_names, feature_tags, thread_count)\u001b[0m\n\u001b[0;32m   1409\u001b[0m         \u001b[1;32mif\u001b[0m \u001b[0mfeature_tags\u001b[0m \u001b[1;32mis\u001b[0m \u001b[1;32mnot\u001b[0m \u001b[1;32mNone\u001b[0m\u001b[1;33m:\u001b[0m\u001b[1;33m\u001b[0m\u001b[1;33m\u001b[0m\u001b[0m\n\u001b[0;32m   1410\u001b[0m             \u001b[0mfeature_tags\u001b[0m \u001b[1;33m=\u001b[0m \u001b[0mself\u001b[0m\u001b[1;33m.\u001b[0m\u001b[0m_check_transform_tags\u001b[0m\u001b[1;33m(\u001b[0m\u001b[0mfeature_tags\u001b[0m\u001b[1;33m,\u001b[0m \u001b[0mfeature_names\u001b[0m\u001b[1;33m)\u001b[0m\u001b[1;33m\u001b[0m\u001b[1;33m\u001b[0m\u001b[0m\n\u001b[1;32m-> 1411\u001b[1;33m         self._init_pool(data, label, cat_features, text_features, embedding_features, embedding_features_data, pairs, weight,\n\u001b[0m\u001b[0;32m   1412\u001b[0m                         group_id, group_weight, subgroup_id, pairs_weight, baseline, timestamp, feature_names, feature_tags, thread_count)\n\u001b[0;32m   1413\u001b[0m \u001b[1;33m\u001b[0m\u001b[0m\n",
      "\u001b[1;32m_catboost.pyx\u001b[0m in \u001b[0;36m_catboost._PoolBase._init_pool\u001b[1;34m()\u001b[0m\n",
      "\u001b[1;32m_catboost.pyx\u001b[0m in \u001b[0;36m_catboost._PoolBase._init_pool\u001b[1;34m()\u001b[0m\n",
      "\u001b[1;32m_catboost.pyx\u001b[0m in \u001b[0;36m_catboost._PoolBase._init_objects_order_layout_pool\u001b[1;34m()\u001b[0m\n",
      "\u001b[1;32m_catboost.pyx\u001b[0m in \u001b[0;36m_catboost._set_data\u001b[1;34m()\u001b[0m\n",
      "\u001b[1;32m_catboost.pyx\u001b[0m in \u001b[0;36m_catboost._set_data_from_generic_matrix\u001b[1;34m()\u001b[0m\n",
      "\u001b[1;32m_catboost.pyx\u001b[0m in \u001b[0;36m_catboost.get_float_feature\u001b[1;34m()\u001b[0m\n",
      "\u001b[1;31mCatBoostError\u001b[0m: Bad value for num_feature[non_default_doc_idx=0,feature_idx=0]=\"x\": Cannot convert 'b'x'' to float"
     ]
    }
   ],
   "source": [
    "!pip install catboost\n",
    "import warnings\n",
    "warnings.filterwarnings('ignore')\n",
    "from catboost import Pool\n",
    "\n",
    "pool_train=Pool(X_train,y_train)\n",
    "pool_test=Pool(X_test, y_test)\n",
    "from catboost import CatBoostClassifier\n",
    "\n",
    "cb_clf=CatBoostClassifier(iterations=400, learning_rate=0.1, max_depth=3)\n",
    "cb_clf.fit(pool_train)\n",
    "pred=cb_clf.predict(pool_test)\n",
    "\n",
    "print(accuracy_score(y_test,pred))"
   ]
  },
  {
   "cell_type": "code",
   "execution_count": null,
   "id": "3uinLtop9bPW",
   "metadata": {
    "id": "3uinLtop9bPW"
   },
   "outputs": [],
   "source": [
    "from catboost import "
   ]
  },
  {
   "cell_type": "code",
   "execution_count": null,
   "id": "J_wMxvhdp9L8",
   "metadata": {
    "id": "J_wMxvhdp9L8"
   },
   "outputs": [],
   "source": []
  },
  {
   "cell_type": "markdown",
   "id": "Vu9ijqhGMWgo",
   "metadata": {
    "id": "Vu9ijqhGMWgo"
   },
   "source": [
    "iteration=400, learning_rate=0.1, max_depth=3로 설정한 CatBoost 모델로 버섯에 대한 정보를 학습하고 테스트 데이터 버섯의 독성 여부를 예측하시오. 또 정확도를 구하시오.  "
   ]
  },
  {
   "cell_type": "code",
   "execution_count": null,
   "id": "F2I7ARrWp_t3",
   "metadata": {
    "id": "F2I7ARrWp_t3"
   },
   "outputs": [],
   "source": []
  },
  {
   "cell_type": "markdown",
   "id": "HsvRSI0Z3G06",
   "metadata": {
    "id": "HsvRSI0Z3G06"
   },
   "source": [
    "수고하셨습니다!"
   ]
  }
 ],
 "metadata": {
  "colab": {
   "collapsed_sections": [],
   "provenance": []
  },
  "kernelspec": {
   "display_name": "Python 3 (ipykernel)",
   "language": "python",
   "name": "python3"
  },
  "language_info": {
   "codemirror_mode": {
    "name": "ipython",
    "version": 3
   },
   "file_extension": ".py",
   "mimetype": "text/x-python",
   "name": "python",
   "nbconvert_exporter": "python",
   "pygments_lexer": "ipython3",
   "version": "3.9.7"
  }
 },
 "nbformat": 4,
 "nbformat_minor": 5
}
