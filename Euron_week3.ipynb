{
 "cells": [
  {
   "cell_type": "code",
   "execution_count": 20,
   "metadata": {
    "colab": {
     "base_uri": "https://localhost:8080/"
    },
    "id": "cqB0AATpZpk3",
    "outputId": "b033de9a-e271-456b-ad20-635e277ef73d"
   },
   "outputs": [
    {
     "name": "stdout",
     "output_type": "stream",
     "text": [
      "전체 피처명에서 10개만 추출: ['tBodyAcc-mean()-X', 'tBodyAcc-mean()-Y', 'tBodyAcc-mean()-Z', 'tBodyAcc-std()-X', 'tBodyAcc-std()-Y', 'tBodyAcc-std()-Z', 'tBodyAcc-mad()-X', 'tBodyAcc-mad()-Y', 'tBodyAcc-mad()-Z', 'tBodyAcc-max()-X']\n"
     ]
    }
   ],
   "source": [
    "import pandas as pd\n",
    "import matplotlib.pyplot as plt\n",
    "%matplotlib inline\n",
    "\n",
    "# features.txt 파일에는 피처 이름 index와 피처명이 공백으로 분리되어 있음. 이를 DataFrame으로 로드.\n",
    "feature_name_df = pd.read_csv('/Users/dohakim/Downloads/UCI HAR Dataset/features.txt',sep='\\s+',\n",
    "                        header=None,names=['column_index','column_name'])\n",
    "\n",
    "# 피처명 index를 제거하고, 피처명만 리스트 객체로 생성한 뒤 샘플로 10개만 추출\n",
    "feature_name = feature_name_df.iloc[:, 1].values.tolist()\n",
    "print('전체 피처명에서 10개만 추출:', feature_name[:10])"
   ]
  },
  {
   "cell_type": "code",
   "execution_count": 21,
   "metadata": {
    "colab": {
     "base_uri": "https://localhost:8080/",
     "height": 269
    },
    "id": "ZM0kFjOeZqc2",
    "outputId": "272d0dc5-8cd7-4a5b-eadc-68bf9547de8e"
   },
   "outputs": [
    {
     "name": "stdout",
     "output_type": "stream",
     "text": [
      "column_index    42\n",
      "dtype: int64\n"
     ]
    },
    {
     "data": {
      "text/html": [
       "<div>\n",
       "<style scoped>\n",
       "    .dataframe tbody tr th:only-of-type {\n",
       "        vertical-align: middle;\n",
       "    }\n",
       "\n",
       "    .dataframe tbody tr th {\n",
       "        vertical-align: top;\n",
       "    }\n",
       "\n",
       "    .dataframe thead th {\n",
       "        text-align: right;\n",
       "    }\n",
       "</style>\n",
       "<table border=\"1\" class=\"dataframe\">\n",
       "  <thead>\n",
       "    <tr style=\"text-align: right;\">\n",
       "      <th></th>\n",
       "      <th>column_index</th>\n",
       "    </tr>\n",
       "    <tr>\n",
       "      <th>column_name</th>\n",
       "      <th></th>\n",
       "    </tr>\n",
       "  </thead>\n",
       "  <tbody>\n",
       "    <tr>\n",
       "      <th>fBodyAcc-bandsEnergy()-1,16</th>\n",
       "      <td>3</td>\n",
       "    </tr>\n",
       "    <tr>\n",
       "      <th>fBodyAcc-bandsEnergy()-1,24</th>\n",
       "      <td>3</td>\n",
       "    </tr>\n",
       "    <tr>\n",
       "      <th>fBodyAcc-bandsEnergy()-1,8</th>\n",
       "      <td>3</td>\n",
       "    </tr>\n",
       "    <tr>\n",
       "      <th>fBodyAcc-bandsEnergy()-17,24</th>\n",
       "      <td>3</td>\n",
       "    </tr>\n",
       "    <tr>\n",
       "      <th>fBodyAcc-bandsEnergy()-17,32</th>\n",
       "      <td>3</td>\n",
       "    </tr>\n",
       "  </tbody>\n",
       "</table>\n",
       "</div>"
      ],
      "text/plain": [
       "                              column_index\n",
       "column_name                               \n",
       "fBodyAcc-bandsEnergy()-1,16              3\n",
       "fBodyAcc-bandsEnergy()-1,24              3\n",
       "fBodyAcc-bandsEnergy()-1,8               3\n",
       "fBodyAcc-bandsEnergy()-17,24             3\n",
       "fBodyAcc-bandsEnergy()-17,32             3"
      ]
     },
     "execution_count": 21,
     "metadata": {},
     "output_type": "execute_result"
    }
   ],
   "source": [
    "feature_dup_df = feature_name_df.groupby('column_name').count()\n",
    "print(feature_dup_df[feature_dup_df['column_index'] > 1].count())\n",
    "feature_dup_df[feature_dup_df['column_index'] > 1].head()"
   ]
  },
  {
   "cell_type": "code",
   "execution_count": 22,
   "metadata": {
    "id": "MV-0B9Q0ZqwP"
   },
   "outputs": [],
   "source": [
    "def get_new_feature_name_df(old_feature_name_df):\n",
    "    feature_dup_df = pd.DataFrame(data=old_feature_name_df.groupby('column_name').cumcount(),\n",
    "                                  columns=['dup_cnt'])\n",
    "    feature_dup_df = feature_dup_df.reset_index()\n",
    "    new_feature_name_df = pd.merge(old_feature_name_df.reset_index(), feature_dup_df, how='outer')\n",
    "    new_feature_name_df['column_name'] = new_feature_name_df[['column_name', 'dup_cnt']].apply(lambda x : x[0]+'_'+str(x[1]) \n",
    "                                                                                         if x[1] >0 else x[0] ,  axis=1)\n",
    "    new_feature_name_df = new_feature_name_df.drop(['index'], axis=1)\n",
    "    return new_feature_name_df"
   ]
  },
  {
   "cell_type": "code",
   "execution_count": 23,
   "metadata": {
    "id": "vN0Mwr-taB4h"
   },
   "outputs": [],
   "source": [
    "import pandas as pd\n",
    "\n",
    "def get_human_dataset( ):\n",
    "    \n",
    "    # 각 데이터 파일들은 공백으로 분리되어 있으므로 read_csv에서 공백 문자를 sep으로 할당.\n",
    "    feature_name_df = pd.read_csv('/Users/dohakim/Downloads/UCI HAR Dataset/features.txt',sep='\\s+',\n",
    "                        header=None,names=['column_index','column_name'])\n",
    "    \n",
    "    # 중복된 피처명을 수정하는 get_new_feature_name_df()를 이용, 신규 피처명 DataFrame생성. \n",
    "    new_feature_name_df = get_new_feature_name_df(feature_name_df)\n",
    "    \n",
    "    # DataFrame에 피처명을 컬럼으로 부여하기 위해 리스트 객체로 다시 변환\n",
    "    feature_name = new_feature_name_df.iloc[:, 1].values.tolist()\n",
    "    \n",
    "    # 학습 피처 데이터 셋과 테스트 피처 데이터을 DataFrame으로 로딩. 컬럼명은 feature_name 적용\n",
    "    X_train = pd.read_csv('/Users/dohakim/Downloads/UCI HAR Dataset/train/X_train.txt',sep='\\s+', names=feature_name )\n",
    "    X_test = pd.read_csv('/Users/dohakim/Downloads/UCI HAR Dataset/test/X_test.txt',sep='\\s+', names=feature_name)\n",
    "    \n",
    "    # 학습 레이블과 테스트 레이블 데이터을 DataFrame으로 로딩하고 컬럼명은 action으로 부여\n",
    "    y_train = pd.read_csv('/Users/dohakim/Downloads/UCI HAR Dataset/train/y_train.txt',sep='\\s+',header=None,names=['action'])\n",
    "    y_test = pd.read_csv('/Users/dohakim/Downloads/UCI HAR Dataset/test/y_test.txt',sep='\\s+',header=None,names=['action'])\n",
    "    \n",
    "    # 로드된 학습/테스트용 DataFrame을 모두 반환 \n",
    "    return X_train, X_test, y_train, y_test\n",
    "\n",
    "\n",
    "X_train, X_test, y_train, y_test = get_human_dataset()"
   ]
  },
  {
   "cell_type": "code",
   "execution_count": 24,
   "metadata": {
    "colab": {
     "base_uri": "https://localhost:8080/"
    },
    "id": "Qn34_24wOLDf",
    "outputId": "d7c1647c-c5d2-4f8a-f641-5caa633e7247"
   },
   "outputs": [
    {
     "name": "stdout",
     "output_type": "stream",
     "text": [
      "GBM 정확도: 0.9386\n",
      "GBM 수행 시간: 468.2 초 \n"
     ]
    }
   ],
   "source": [
    "from sklearn.ensemble import GradientBoostingClassifier\n",
    "from sklearn.metrics import accuracy_score\n",
    "import time\n",
    "import warnings\n",
    "warnings.filterwarnings('ignore')\n",
    "\n",
    "X_train, X_test, y_train, y_test = get_human_dataset()\n",
    "\n",
    "# GBM 수행 시간 측정을 위함. 시작 시간 설정.\n",
    "start_time = time.time()\n",
    "\n",
    "gb_clf = GradientBoostingClassifier(random_state=0)\n",
    "gb_clf.fit(X_train, y_train)\n",
    "gb_pred = gb_clf.predict(X_test)\n",
    "gb_accuracy = accuracy_score(y_test, gb_pred)\n",
    "\n",
    "print('GBM 정확도: {0:.4f}'.format(gb_accuracy))\n",
    "print(\"GBM 수행 시간: {0:.1f} 초 \".format(time.time() - start_time))"
   ]
  },
  {
   "cell_type": "code",
   "execution_count": 5,
   "metadata": {
    "colab": {
     "base_uri": "https://localhost:8080/"
    },
    "id": "S9Fn4vP-hf63",
    "outputId": "b272f7a2-b1e3-4df2-ffb9-e2d22a953e60"
   },
   "outputs": [],
   "source": [
    "!pip install -q xgboost==0.4a30"
   ]
  },
  {
   "cell_type": "code",
   "execution_count": 6,
   "metadata": {
    "colab": {
     "base_uri": "https://localhost:8080/"
    },
    "id": "Z3-3ZnEQOZST",
    "outputId": "29fbf64d-363b-48ae-862b-376834fa5a81"
   },
   "outputs": [
    {
     "name": "stdout",
     "output_type": "stream",
     "text": [
      "0.4\n"
     ]
    }
   ],
   "source": [
    "import xgboost\n",
    "\n",
    "print(xgboost.__version__)"
   ]
  },
  {
   "cell_type": "code",
   "execution_count": 7,
   "metadata": {
    "colab": {
     "base_uri": "https://localhost:8080/",
     "height": 269
    },
    "id": "0x3s-cj5OZTV",
    "outputId": "f14d6896-c3bb-4b98-de7e-74157652fd8f"
   },
   "outputs": [
    {
     "data": {
      "text/html": [
       "<div>\n",
       "<style scoped>\n",
       "    .dataframe tbody tr th:only-of-type {\n",
       "        vertical-align: middle;\n",
       "    }\n",
       "\n",
       "    .dataframe tbody tr th {\n",
       "        vertical-align: top;\n",
       "    }\n",
       "\n",
       "    .dataframe thead th {\n",
       "        text-align: right;\n",
       "    }\n",
       "</style>\n",
       "<table border=\"1\" class=\"dataframe\">\n",
       "  <thead>\n",
       "    <tr style=\"text-align: right;\">\n",
       "      <th></th>\n",
       "      <th>mean radius</th>\n",
       "      <th>mean texture</th>\n",
       "      <th>mean perimeter</th>\n",
       "      <th>mean area</th>\n",
       "      <th>mean smoothness</th>\n",
       "      <th>mean compactness</th>\n",
       "      <th>mean concavity</th>\n",
       "      <th>mean concave points</th>\n",
       "      <th>mean symmetry</th>\n",
       "      <th>mean fractal dimension</th>\n",
       "      <th>...</th>\n",
       "      <th>worst texture</th>\n",
       "      <th>worst perimeter</th>\n",
       "      <th>worst area</th>\n",
       "      <th>worst smoothness</th>\n",
       "      <th>worst compactness</th>\n",
       "      <th>worst concavity</th>\n",
       "      <th>worst concave points</th>\n",
       "      <th>worst symmetry</th>\n",
       "      <th>worst fractal dimension</th>\n",
       "      <th>target</th>\n",
       "    </tr>\n",
       "  </thead>\n",
       "  <tbody>\n",
       "    <tr>\n",
       "      <th>0</th>\n",
       "      <td>17.99</td>\n",
       "      <td>10.38</td>\n",
       "      <td>122.8</td>\n",
       "      <td>1001.0</td>\n",
       "      <td>0.11840</td>\n",
       "      <td>0.27760</td>\n",
       "      <td>0.3001</td>\n",
       "      <td>0.14710</td>\n",
       "      <td>0.2419</td>\n",
       "      <td>0.07871</td>\n",
       "      <td>...</td>\n",
       "      <td>17.33</td>\n",
       "      <td>184.6</td>\n",
       "      <td>2019.0</td>\n",
       "      <td>0.1622</td>\n",
       "      <td>0.6656</td>\n",
       "      <td>0.7119</td>\n",
       "      <td>0.2654</td>\n",
       "      <td>0.4601</td>\n",
       "      <td>0.11890</td>\n",
       "      <td>0</td>\n",
       "    </tr>\n",
       "    <tr>\n",
       "      <th>1</th>\n",
       "      <td>20.57</td>\n",
       "      <td>17.77</td>\n",
       "      <td>132.9</td>\n",
       "      <td>1326.0</td>\n",
       "      <td>0.08474</td>\n",
       "      <td>0.07864</td>\n",
       "      <td>0.0869</td>\n",
       "      <td>0.07017</td>\n",
       "      <td>0.1812</td>\n",
       "      <td>0.05667</td>\n",
       "      <td>...</td>\n",
       "      <td>23.41</td>\n",
       "      <td>158.8</td>\n",
       "      <td>1956.0</td>\n",
       "      <td>0.1238</td>\n",
       "      <td>0.1866</td>\n",
       "      <td>0.2416</td>\n",
       "      <td>0.1860</td>\n",
       "      <td>0.2750</td>\n",
       "      <td>0.08902</td>\n",
       "      <td>0</td>\n",
       "    </tr>\n",
       "    <tr>\n",
       "      <th>2</th>\n",
       "      <td>19.69</td>\n",
       "      <td>21.25</td>\n",
       "      <td>130.0</td>\n",
       "      <td>1203.0</td>\n",
       "      <td>0.10960</td>\n",
       "      <td>0.15990</td>\n",
       "      <td>0.1974</td>\n",
       "      <td>0.12790</td>\n",
       "      <td>0.2069</td>\n",
       "      <td>0.05999</td>\n",
       "      <td>...</td>\n",
       "      <td>25.53</td>\n",
       "      <td>152.5</td>\n",
       "      <td>1709.0</td>\n",
       "      <td>0.1444</td>\n",
       "      <td>0.4245</td>\n",
       "      <td>0.4504</td>\n",
       "      <td>0.2430</td>\n",
       "      <td>0.3613</td>\n",
       "      <td>0.08758</td>\n",
       "      <td>0</td>\n",
       "    </tr>\n",
       "  </tbody>\n",
       "</table>\n",
       "<p>3 rows × 31 columns</p>\n",
       "</div>"
      ],
      "text/plain": [
       "   mean radius  mean texture  mean perimeter  mean area  mean smoothness  \\\n",
       "0        17.99         10.38           122.8     1001.0          0.11840   \n",
       "1        20.57         17.77           132.9     1326.0          0.08474   \n",
       "2        19.69         21.25           130.0     1203.0          0.10960   \n",
       "\n",
       "   mean compactness  mean concavity  mean concave points  mean symmetry  \\\n",
       "0           0.27760          0.3001              0.14710         0.2419   \n",
       "1           0.07864          0.0869              0.07017         0.1812   \n",
       "2           0.15990          0.1974              0.12790         0.2069   \n",
       "\n",
       "   mean fractal dimension  ...  worst texture  worst perimeter  worst area  \\\n",
       "0                 0.07871  ...          17.33            184.6      2019.0   \n",
       "1                 0.05667  ...          23.41            158.8      1956.0   \n",
       "2                 0.05999  ...          25.53            152.5      1709.0   \n",
       "\n",
       "   worst smoothness  worst compactness  worst concavity  worst concave points  \\\n",
       "0            0.1622             0.6656           0.7119                0.2654   \n",
       "1            0.1238             0.1866           0.2416                0.1860   \n",
       "2            0.1444             0.4245           0.4504                0.2430   \n",
       "\n",
       "   worst symmetry  worst fractal dimension  target  \n",
       "0          0.4601                  0.11890       0  \n",
       "1          0.2750                  0.08902       0  \n",
       "2          0.3613                  0.08758       0  \n",
       "\n",
       "[3 rows x 31 columns]"
      ]
     },
     "execution_count": 7,
     "metadata": {},
     "output_type": "execute_result"
    }
   ],
   "source": [
    "import xgboost as xgb\n",
    "from xgboost import plot_importance\n",
    "import pandas as pd\n",
    "import numpy as np\n",
    "from sklearn.datasets import load_breast_cancer\n",
    "from sklearn.model_selection import train_test_split\n",
    "import warnings\n",
    "warnings.filterwarnings('ignore')\n",
    "\n",
    "dataset = load_breast_cancer()\n",
    "X_features= dataset.data\n",
    "y_label = dataset.target\n",
    "\n",
    "cancer_df = pd.DataFrame(data=X_features, columns=dataset.feature_names)\n",
    "cancer_df['target']= y_label\n",
    "cancer_df.head(3)"
   ]
  },
  {
   "cell_type": "code",
   "execution_count": 8,
   "metadata": {
    "colab": {
     "base_uri": "https://localhost:8080/"
    },
    "id": "2gKH_mAUOZYk",
    "outputId": "2891fa71-b4f8-45b9-f196-4392de564a4b"
   },
   "outputs": [
    {
     "name": "stdout",
     "output_type": "stream",
     "text": [
      "['malignant' 'benign']\n",
      "1    357\n",
      "0    212\n",
      "Name: target, dtype: int64\n"
     ]
    }
   ],
   "source": [
    "print(dataset.target_names)\n",
    "print(cancer_df['target'].value_counts())"
   ]
  },
  {
   "cell_type": "code",
   "execution_count": 9,
   "metadata": {
    "colab": {
     "base_uri": "https://localhost:8080/"
    },
    "id": "OVwzziLTOZbc",
    "outputId": "14c10d35-5f84-46d8-90de-ab0aee7e32f7"
   },
   "outputs": [
    {
     "name": "stdout",
     "output_type": "stream",
     "text": [
      "(455, 30) (114, 30)\n",
      "(409, 30) (46, 30)\n"
     ]
    }
   ],
   "source": [
    "# cancer_df에서 feature용 DataFrame과 Label용 Series 객체 추출\n",
    "# 맨 마지막 칼럼이 Label임. Feature용 DataFrame은 cancer_df의 첫번째 칼럼에서 맨 마지막 두번째 칼럼까지를 :-1 슬라이싱으로 추출.\n",
    "X_features = cancer_df.iloc[:, :-1]\n",
    "y_label = cancer_df.iloc[:, -1]\n",
    "\n",
    "# 전체 데이터 중 80%는 학습용 데이터, 20%는 테스트용 데이터 추출\n",
    "X_train, X_test, y_train, y_test=train_test_split(X_features, y_label,\n",
    "                                         test_size=0.2, random_state=156 )\n",
    "\n",
    "# 위에서 만든 X_train, y_train을 다시 쪼개서 90%는 학습과 10%는 검증용 데이터로 분리\n",
    "X_tr, X_val, y_tr, y_val= train_test_split(X_train, y_train, test_size=0.1, random_state=156 )\n",
    "print(X_train.shape , X_test.shape)\n",
    "print(X_tr.shape, X_val.shape)"
   ]
  },
  {
   "cell_type": "code",
   "execution_count": 10,
   "metadata": {
    "id": "aBrNZlcuOZeJ"
   },
   "outputs": [],
   "source": [
    "# 만약 구버전 XGBoost에서 DataFrame으로 DMatrix 생성이 안될 경우 X_train.values로 넘파이 변환.\n",
    "# 학습, 검증, 테스트용 DMatrix를 생성.\n",
    "dtr = xgb.DMatrix(data=X_tr, label=y_tr)\n",
    "dval = xgb.DMatrix(data=X_val, label=y_val)\n",
    "dtest = xgb.DMatrix(data=X_test , label=y_test)"
   ]
  },
  {
   "cell_type": "code",
   "execution_count": 11,
   "metadata": {
    "id": "-AKU0nIdOZjp"
   },
   "outputs": [],
   "source": [
    "params = { 'max_depth':3,\n",
    "          'eta': 0.05,\n",
    "          'objective':'binary:logistic',\n",
    "          'eval_metric':'logloss'\n",
    "         }\n",
    "num_rounds = 400"
   ]
  },
  {
   "cell_type": "code",
   "execution_count": 12,
   "metadata": {
    "colab": {
     "base_uri": "https://localhost:8080/"
    },
    "id": "CyP9x7IoOtPt",
    "outputId": "b2d39bb0-a3bd-445d-eca4-e2decd5d9bd0"
   },
   "outputs": [
    {
     "name": "stderr",
     "output_type": "stream",
     "text": [
      "Will train until eval error hasn't decreased in 50 rounds.\n",
      "[0]\ttrain-logloss:0.650162\teval-logloss:0.661831\n",
      "[1]\ttrain-logloss:0.611314\teval-logloss:0.636086\n",
      "[2]\ttrain-logloss:0.575630\teval-logloss:0.611436\n",
      "[3]\ttrain-logloss:0.543099\teval-logloss:0.592036\n",
      "[4]\ttrain-logloss:0.513234\teval-logloss:0.573291\n",
      "[5]\ttrain-logloss:0.484475\teval-logloss:0.550371\n",
      "[6]\ttrain-logloss:0.457959\teval-logloss:0.529295\n",
      "[7]\ttrain-logloss:0.434357\teval-logloss:0.515340\n",
      "[8]\ttrain-logloss:0.411503\teval-logloss:0.497179\n",
      "[9]\ttrain-logloss:0.390274\teval-logloss:0.481542\n",
      "[10]\ttrain-logloss:0.371284\teval-logloss:0.469904\n",
      "[11]\ttrain-logloss:0.352541\teval-logloss:0.454740\n",
      "[12]\ttrain-logloss:0.335278\teval-logloss:0.442294\n",
      "[13]\ttrain-logloss:0.318925\teval-logloss:0.429608\n",
      "[14]\ttrain-logloss:0.304393\teval-logloss:0.420649\n",
      "[15]\ttrain-logloss:0.289996\teval-logloss:0.409577\n",
      "[16]\ttrain-logloss:0.276513\teval-logloss:0.398867\n",
      "[17]\ttrain-logloss:0.263894\teval-logloss:0.390504\n",
      "[18]\ttrain-logloss:0.252102\teval-logloss:0.382539\n",
      "[19]\ttrain-logloss:0.241231\teval-logloss:0.373933\n",
      "[20]\ttrain-logloss:0.230763\teval-logloss:0.367887\n",
      "[21]\ttrain-logloss:0.220913\teval-logloss:0.360174\n",
      "[22]\ttrain-logloss:0.211555\teval-logloss:0.354212\n",
      "[23]\ttrain-logloss:0.202630\teval-logloss:0.346828\n",
      "[24]\ttrain-logloss:0.194341\teval-logloss:0.341107\n",
      "[25]\ttrain-logloss:0.186369\teval-logloss:0.336341\n",
      "[26]\ttrain-logloss:0.178748\teval-logloss:0.330823\n",
      "[27]\ttrain-logloss:0.171671\teval-logloss:0.326746\n",
      "[28]\ttrain-logloss:0.164814\teval-logloss:0.320990\n",
      "[29]\ttrain-logloss:0.158347\teval-logloss:0.316706\n",
      "[30]\ttrain-logloss:0.152249\teval-logloss:0.312766\n",
      "[31]\ttrain-logloss:0.146498\teval-logloss:0.308823\n",
      "[32]\ttrain-logloss:0.141021\teval-logloss:0.304373\n",
      "[33]\ttrain-logloss:0.135903\teval-logloss:0.301034\n",
      "[34]\ttrain-logloss:0.131089\teval-logloss:0.297937\n",
      "[35]\ttrain-logloss:0.126469\teval-logloss:0.294994\n",
      "[36]\ttrain-logloss:0.121972\teval-logloss:0.292951\n",
      "[37]\ttrain-logloss:0.117844\teval-logloss:0.290434\n",
      "[38]\ttrain-logloss:0.113793\teval-logloss:0.289272\n",
      "[39]\ttrain-logloss:0.109943\teval-logloss:0.285777\n",
      "[40]\ttrain-logloss:0.106376\teval-logloss:0.283644\n",
      "[41]\ttrain-logloss:0.103022\teval-logloss:0.281831\n",
      "[42]\ttrain-logloss:0.099625\teval-logloss:0.280047\n",
      "[43]\ttrain-logloss:0.096486\teval-logloss:0.279718\n",
      "[44]\ttrain-logloss:0.093594\teval-logloss:0.277438\n",
      "[45]\ttrain-logloss:0.090803\teval-logloss:0.275416\n",
      "[46]\ttrain-logloss:0.088072\teval-logloss:0.275037\n",
      "[47]\ttrain-logloss:0.085411\teval-logloss:0.274579\n",
      "[48]\ttrain-logloss:0.082988\teval-logloss:0.273483\n",
      "[49]\ttrain-logloss:0.080349\teval-logloss:0.272474\n",
      "[50]\ttrain-logloss:0.077857\teval-logloss:0.271628\n",
      "[51]\ttrain-logloss:0.075504\teval-logloss:0.270936\n",
      "[52]\ttrain-logloss:0.073438\teval-logloss:0.269670\n",
      "[53]\ttrain-logloss:0.071468\teval-logloss:0.270078\n",
      "[54]\ttrain-logloss:0.069642\teval-logloss:0.268902\n",
      "[55]\ttrain-logloss:0.067661\teval-logloss:0.268544\n",
      "[56]\ttrain-logloss:0.065915\teval-logloss:0.268998\n",
      "[57]\ttrain-logloss:0.064327\teval-logloss:0.267897\n",
      "[58]\ttrain-logloss:0.062588\teval-logloss:0.266632\n",
      "[59]\ttrain-logloss:0.061074\teval-logloss:0.267428\n",
      "[60]\ttrain-logloss:0.059570\teval-logloss:0.266097\n",
      "[61]\ttrain-logloss:0.058166\teval-logloss:0.266438\n",
      "[62]\ttrain-logloss:0.056912\teval-logloss:0.266730\n",
      "[63]\ttrain-logloss:0.055498\teval-logloss:0.265499\n",
      "[64]\ttrain-logloss:0.054219\teval-logloss:0.264430\n",
      "[65]\ttrain-logloss:0.053109\teval-logloss:0.265004\n",
      "[66]\ttrain-logloss:0.052070\teval-logloss:0.265905\n",
      "[67]\ttrain-logloss:0.050929\teval-logloss:0.265012\n",
      "[68]\ttrain-logloss:0.049760\teval-logloss:0.264348\n",
      "[69]\ttrain-logloss:0.048717\teval-logloss:0.263599\n",
      "[70]\ttrain-logloss:0.047764\teval-logloss:0.263186\n",
      "[71]\ttrain-logloss:0.046802\teval-logloss:0.262547\n",
      "[72]\ttrain-logloss:0.045800\teval-logloss:0.262040\n",
      "[73]\ttrain-logloss:0.044838\teval-logloss:0.262537\n",
      "[74]\ttrain-logloss:0.043883\teval-logloss:0.262887\n",
      "[75]\ttrain-logloss:0.043086\teval-logloss:0.262487\n",
      "[76]\ttrain-logloss:0.042236\teval-logloss:0.262175\n",
      "[77]\ttrain-logloss:0.041330\teval-logloss:0.261664\n",
      "[78]\ttrain-logloss:0.040500\teval-logloss:0.261790\n",
      "[79]\ttrain-logloss:0.039667\teval-logloss:0.261034\n",
      "[80]\ttrain-logloss:0.038765\teval-logloss:0.260937\n",
      "[81]\ttrain-logloss:0.038064\teval-logloss:0.261483\n",
      "[82]\ttrain-logloss:0.037396\teval-logloss:0.260539\n",
      "[83]\ttrain-logloss:0.036763\teval-logloss:0.259672\n",
      "[84]\ttrain-logloss:0.036052\teval-logloss:0.259053\n",
      "[85]\ttrain-logloss:0.035453\teval-logloss:0.260073\n",
      "[86]\ttrain-logloss:0.034885\teval-logloss:0.259836\n",
      "[87]\ttrain-logloss:0.034250\teval-logloss:0.259332\n",
      "[88]\ttrain-logloss:0.033608\teval-logloss:0.259319\n",
      "[89]\ttrain-logloss:0.033107\teval-logloss:0.260023\n",
      "[90]\ttrain-logloss:0.032600\teval-logloss:0.259360\n",
      "[91]\ttrain-logloss:0.032016\teval-logloss:0.258861\n",
      "[92]\ttrain-logloss:0.031522\teval-logloss:0.259177\n",
      "[93]\ttrain-logloss:0.031070\teval-logloss:0.258716\n",
      "[94]\ttrain-logloss:0.030489\teval-logloss:0.259582\n",
      "[95]\ttrain-logloss:0.030076\teval-logloss:0.260982\n",
      "[96]\ttrain-logloss:0.029615\teval-logloss:0.261301\n",
      "[97]\ttrain-logloss:0.029120\teval-logloss:0.260900\n",
      "[98]\ttrain-logloss:0.028738\teval-logloss:0.260458\n",
      "[99]\ttrain-logloss:0.028273\teval-logloss:0.260102\n",
      "[100]\ttrain-logloss:0.027892\teval-logloss:0.260361\n",
      "[101]\ttrain-logloss:0.027456\teval-logloss:0.260054\n",
      "[102]\ttrain-logloss:0.027041\teval-logloss:0.259773\n",
      "[103]\ttrain-logloss:0.026664\teval-logloss:0.259815\n",
      "[104]\ttrain-logloss:0.026300\teval-logloss:0.259286\n",
      "[105]\ttrain-logloss:0.025869\teval-logloss:0.260161\n",
      "[106]\ttrain-logloss:0.025548\teval-logloss:0.259760\n",
      "[107]\ttrain-logloss:0.025181\teval-logloss:0.259545\n",
      "[108]\ttrain-logloss:0.024846\teval-logloss:0.257926\n",
      "[109]\ttrain-logloss:0.024549\teval-logloss:0.257570\n",
      "[110]\ttrain-logloss:0.024170\teval-logloss:0.258217\n",
      "[111]\ttrain-logloss:0.023839\teval-logloss:0.258050\n",
      "[112]\ttrain-logloss:0.023492\teval-logloss:0.258413\n",
      "[113]\ttrain-logloss:0.023180\teval-logloss:0.258270\n",
      "[114]\ttrain-logloss:0.022915\teval-logloss:0.257955\n",
      "[115]\ttrain-logloss:0.022600\teval-logloss:0.258684\n",
      "[116]\ttrain-logloss:0.022310\teval-logloss:0.258572\n",
      "[117]\ttrain-logloss:0.022000\teval-logloss:0.259421\n",
      "[118]\ttrain-logloss:0.021708\teval-logloss:0.258050\n",
      "[119]\ttrain-logloss:0.021471\teval-logloss:0.257771\n",
      "[120]\ttrain-logloss:0.021196\teval-logloss:0.256291\n",
      "[121]\ttrain-logloss:0.020969\teval-logloss:0.256781\n",
      "[122]\ttrain-logloss:0.020704\teval-logloss:0.257283\n",
      "[123]\ttrain-logloss:0.020412\teval-logloss:0.257677\n",
      "[124]\ttrain-logloss:0.020134\teval-logloss:0.258216\n",
      "[125]\ttrain-logloss:0.019923\teval-logloss:0.257985\n",
      "[126]\ttrain-logloss:0.019680\teval-logloss:0.256595\n",
      "[127]\ttrain-logloss:0.019485\teval-logloss:0.257046\n",
      "[128]\ttrain-logloss:0.019277\teval-logloss:0.257175\n",
      "[129]\ttrain-logloss:0.019049\teval-logloss:0.257634\n",
      "[130]\ttrain-logloss:0.018825\teval-logloss:0.256591\n",
      "[131]\ttrain-logloss:0.018639\teval-logloss:0.256387\n",
      "[132]\ttrain-logloss:0.018386\teval-logloss:0.257542\n",
      "[133]\ttrain-logloss:0.018154\teval-logloss:0.258952\n",
      "[134]\ttrain-logloss:0.018014\teval-logloss:0.259168\n",
      "[135]\ttrain-logloss:0.017843\teval-logloss:0.258975\n",
      "[136]\ttrain-logloss:0.017625\teval-logloss:0.259802\n",
      "[137]\ttrain-logloss:0.017478\teval-logloss:0.259885\n",
      "[138]\ttrain-logloss:0.017319\teval-logloss:0.259704\n",
      "[139]\ttrain-logloss:0.017184\teval-logloss:0.259787\n",
      "[140]\ttrain-logloss:0.016969\teval-logloss:0.260190\n",
      "[141]\ttrain-logloss:0.016804\teval-logloss:0.260358\n",
      "[142]\ttrain-logloss:0.016593\teval-logloss:0.261460\n",
      "[143]\ttrain-logloss:0.016422\teval-logloss:0.261829\n",
      "[144]\ttrain-logloss:0.016305\teval-logloss:0.262043\n",
      "[145]\ttrain-logloss:0.016121\teval-logloss:0.262530\n",
      "[146]\ttrain-logloss:0.016011\teval-logloss:0.262559\n",
      "[147]\ttrain-logloss:0.015896\teval-logloss:0.262662\n",
      "[148]\ttrain-logloss:0.015741\teval-logloss:0.263027\n",
      "[149]\ttrain-logloss:0.015570\teval-logloss:0.263452\n",
      "[150]\ttrain-logloss:0.015422\teval-logloss:0.262717\n",
      "[151]\ttrain-logloss:0.015279\teval-logloss:0.262998\n",
      "[152]\ttrain-logloss:0.015120\teval-logloss:0.263442\n",
      "[153]\ttrain-logloss:0.014974\teval-logloss:0.264372\n",
      "[154]\ttrain-logloss:0.014823\teval-logloss:0.263090\n",
      "[155]\ttrain-logloss:0.014674\teval-logloss:0.263543\n",
      "[156]\ttrain-logloss:0.014542\teval-logloss:0.263941\n",
      "[157]\ttrain-logloss:0.014402\teval-logloss:0.264529\n",
      "[158]\ttrain-logloss:0.014283\teval-logloss:0.264391\n",
      "[159]\ttrain-logloss:0.014190\teval-logloss:0.264511\n",
      "[160]\ttrain-logloss:0.014051\teval-logloss:0.264388\n",
      "[161]\ttrain-logloss:0.013960\teval-logloss:0.263712\n",
      "[162]\ttrain-logloss:0.013870\teval-logloss:0.263837\n",
      "[163]\ttrain-logloss:0.013739\teval-logloss:0.263738\n",
      "[164]\ttrain-logloss:0.013653\teval-logloss:0.263896\n",
      "[165]\ttrain-logloss:0.013576\teval-logloss:0.263636\n",
      "[166]\ttrain-logloss:0.013490\teval-logloss:0.263770\n",
      "[167]\ttrain-logloss:0.013406\teval-logloss:0.263106\n",
      "[168]\ttrain-logloss:0.013285\teval-logloss:0.263232\n",
      "[169]\ttrain-logloss:0.013183\teval-logloss:0.263112\n",
      "[170]\ttrain-logloss:0.013103\teval-logloss:0.263251\n",
      "Stopping. Best iteration:\n",
      "[120]\ttrain-logloss:0.021196\teval-logloss:0.256291\n",
      "\n"
     ]
    }
   ],
   "source": [
    "# 학습 데이터 셋은 'train' 또는 평가 데이터 셋은 'eval' 로 명기합니다. \n",
    "eval_list = [(dtr,'train'),(dval,'eval')] # 또는 eval_list = [(dval,'eval')] 만 명기해도 무방. \n",
    "\n",
    "# 하이퍼 파라미터와 early stopping 파라미터를 train( ) 함수의 파라미터로 전달\n",
    "xgb_model = xgb.train(params = params , dtrain=dtr , num_boost_round=num_rounds , \\\n",
    "                      early_stopping_rounds=50, evals=eval_list )"
   ]
  },
  {
   "cell_type": "code",
   "execution_count": 13,
   "metadata": {
    "colab": {
     "base_uri": "https://localhost:8080/"
    },
    "id": "SV5SypktOtSf",
    "outputId": "62f2f1e2-d771-4f6b-8299-afbec78c2068"
   },
   "outputs": [
    {
     "name": "stdout",
     "output_type": "stream",
     "text": [
      "predict( ) 수행 결과값을 10개만 표시, 예측 확률 값으로 표시됨\n",
      "[0.851 0.009 0.674 0.084 0.975 0.999 0.998 0.998 0.996 0.001]\n",
      "예측값 10개만 표시: [1, 0, 1, 0, 1, 1, 1, 1, 1, 0]\n"
     ]
    }
   ],
   "source": [
    "pred_probs = xgb_model.predict(dtest)\n",
    "print('predict( ) 수행 결과값을 10개만 표시, 예측 확률 값으로 표시됨')\n",
    "print(np.round(pred_probs[:10],3))\n",
    "\n",
    "# 예측 확률이 0.5 보다 크면 1 , 그렇지 않으면 0 으로 예측값 결정하여 List 객체인 preds에 저장 \n",
    "preds = [ 1 if x > 0.5 else 0 for x in pred_probs ]\n",
    "print('예측값 10개만 표시:',preds[:10])"
   ]
  },
  {
   "cell_type": "code",
   "execution_count": 14,
   "metadata": {
    "id": "eqAjUC-MOtU9"
   },
   "outputs": [],
   "source": [
    "# 사이킷런 래퍼 XGBoost 클래스인 XGBClassifier 임포트\n",
    "from xgboost import XGBClassifier\n",
    "\n",
    "xgb_wrapper = XGBClassifier(n_estimators=400, learning_rate=0.1, max_depth=3)\n",
    "xgb_wrapper.fit(X_train, y_train)\n",
    "w_preds = xgb_wrapper.predict(X_test)\n",
    "w_pred_proba = xgb_wrapper.predict_proba(X_test)[:, 1]\n"
   ]
  },
  {
   "cell_type": "code",
   "execution_count": 15,
   "metadata": {
    "id": "CTVigkCntJoP"
   },
   "outputs": [],
   "source": [
    "from sklearn.metrics import confusion_matrix, accuracy_score\n",
    "from sklearn.metrics import precision_score, recall_score\n",
    "from sklearn.metrics import f1_score, roc_auc_score\n",
    "\n",
    "def get_clf_eval(y_test, pred=None, pred_proba=None):\n",
    "    confusion = confusion_matrix( y_test, pred)\n",
    "    accuracy = accuracy_score(y_test , pred)\n",
    "    precision = precision_score(y_test , pred)\n",
    "    recall = recall_score(y_test , pred)\n",
    "    f1 = f1_score(y_test,pred)\n",
    "    # ROC-AUC 추가 \n",
    "    roc_auc = roc_auc_score(y_test, pred_proba)\n",
    "    print('오차 행렬')\n",
    "    print(confusion)\n",
    "    # ROC-AUC print 추가\n",
    "    print('정확도: {0:.4f}, 정밀도: {1:.4f}, 재현율: {2:.4f},\\\n",
    "    F1: {3:.4f}, AUC:{4:.4f}'.format(accuracy, precision, recall, f1, roc_auc))"
   ]
  },
  {
   "cell_type": "code",
   "execution_count": 16,
   "metadata": {
    "colab": {
     "base_uri": "https://localhost:8080/"
    },
    "id": "8qJBKlvROtXL",
    "outputId": "d4f8886e-e510-497c-9a3b-b20aefb62277"
   },
   "outputs": [
    {
     "name": "stdout",
     "output_type": "stream",
     "text": [
      "오차 행렬\n",
      "[[35  2]\n",
      " [ 1 76]]\n",
      "정확도: 0.9737, 정밀도: 0.9744, 재현율: 0.9870,    F1: 0.9806, AUC:0.9954\n"
     ]
    }
   ],
   "source": [
    "get_clf_eval(y_test , w_preds, w_pred_proba)"
   ]
  },
  {
   "cell_type": "code",
   "execution_count": 17,
   "metadata": {
    "colab": {
     "base_uri": "https://localhost:8080/"
    },
    "id": "uDcjXC2OOtZy",
    "outputId": "0dab7135-f9b1-4283-a845-2ef2ca48d8c6"
   },
   "outputs": [
    {
     "name": "stderr",
     "output_type": "stream",
     "text": [
      "Will train until validation_0 error hasn't decreased in 100 rounds.\n",
      "[0]\tvalidation_0-logloss:0.613520\n",
      "[1]\tvalidation_0-logloss:0.547842\n",
      "[2]\tvalidation_0-logloss:0.494247\n",
      "[3]\tvalidation_0-logloss:0.447986\n",
      "[4]\tvalidation_0-logloss:0.409109\n",
      "[5]\tvalidation_0-logloss:0.374977\n",
      "[6]\tvalidation_0-logloss:0.345714\n",
      "[7]\tvalidation_0-logloss:0.320529\n",
      "[8]\tvalidation_0-logloss:0.297210\n",
      "[9]\tvalidation_0-logloss:0.277991\n",
      "[10]\tvalidation_0-logloss:0.260302\n",
      "[11]\tvalidation_0-logloss:0.246037\n",
      "[12]\tvalidation_0-logloss:0.231556\n",
      "[13]\tvalidation_0-logloss:0.220050\n",
      "[14]\tvalidation_0-logloss:0.208572\n",
      "[15]\tvalidation_0-logloss:0.199993\n",
      "[16]\tvalidation_0-logloss:0.190118\n",
      "[17]\tvalidation_0-logloss:0.181818\n",
      "[18]\tvalidation_0-logloss:0.174729\n",
      "[19]\tvalidation_0-logloss:0.167657\n",
      "[20]\tvalidation_0-logloss:0.158202\n",
      "[21]\tvalidation_0-logloss:0.154432\n",
      "[22]\tvalidation_0-logloss:0.148656\n",
      "[23]\tvalidation_0-logloss:0.141245\n",
      "[24]\tvalidation_0-logloss:0.136042\n",
      "[25]\tvalidation_0-logloss:0.132487\n",
      "[26]\tvalidation_0-logloss:0.127632\n",
      "[27]\tvalidation_0-logloss:0.125043\n",
      "[28]\tvalidation_0-logloss:0.119770\n",
      "[29]\tvalidation_0-logloss:0.117073\n",
      "[30]\tvalidation_0-logloss:0.114827\n",
      "[31]\tvalidation_0-logloss:0.113136\n",
      "[32]\tvalidation_0-logloss:0.110032\n",
      "[33]\tvalidation_0-logloss:0.107852\n",
      "[34]\tvalidation_0-logloss:0.107176\n",
      "[35]\tvalidation_0-logloss:0.104638\n",
      "[36]\tvalidation_0-logloss:0.102992\n",
      "[37]\tvalidation_0-logloss:0.100518\n",
      "[38]\tvalidation_0-logloss:0.098188\n",
      "[39]\tvalidation_0-logloss:0.096334\n",
      "[40]\tvalidation_0-logloss:0.095130\n",
      "[41]\tvalidation_0-logloss:0.094663\n",
      "[42]\tvalidation_0-logloss:0.094175\n",
      "[43]\tvalidation_0-logloss:0.092617\n",
      "[44]\tvalidation_0-logloss:0.093162\n",
      "[45]\tvalidation_0-logloss:0.092191\n",
      "[46]\tvalidation_0-logloss:0.091699\n",
      "[47]\tvalidation_0-logloss:0.091546\n",
      "[48]\tvalidation_0-logloss:0.090223\n",
      "[49]\tvalidation_0-logloss:0.089690\n",
      "[50]\tvalidation_0-logloss:0.089572\n",
      "[51]\tvalidation_0-logloss:0.088775\n",
      "[52]\tvalidation_0-logloss:0.089920\n",
      "[53]\tvalidation_0-logloss:0.090687\n",
      "[54]\tvalidation_0-logloss:0.090681\n",
      "[55]\tvalidation_0-logloss:0.089511\n",
      "[56]\tvalidation_0-logloss:0.088928\n",
      "[57]\tvalidation_0-logloss:0.088957\n",
      "[58]\tvalidation_0-logloss:0.089236\n",
      "[59]\tvalidation_0-logloss:0.088844\n",
      "[60]\tvalidation_0-logloss:0.088418\n",
      "[61]\tvalidation_0-logloss:0.088080\n",
      "[62]\tvalidation_0-logloss:0.087247\n",
      "[63]\tvalidation_0-logloss:0.087218\n",
      "[64]\tvalidation_0-logloss:0.086290\n",
      "[65]\tvalidation_0-logloss:0.087353\n",
      "[66]\tvalidation_0-logloss:0.086531\n",
      "[67]\tvalidation_0-logloss:0.086645\n",
      "[68]\tvalidation_0-logloss:0.086404\n",
      "[69]\tvalidation_0-logloss:0.086179\n",
      "[70]\tvalidation_0-logloss:0.087403\n",
      "[71]\tvalidation_0-logloss:0.087263\n",
      "[72]\tvalidation_0-logloss:0.087144\n",
      "[73]\tvalidation_0-logloss:0.087859\n",
      "[74]\tvalidation_0-logloss:0.088397\n",
      "[75]\tvalidation_0-logloss:0.087929\n",
      "[76]\tvalidation_0-logloss:0.087767\n",
      "[77]\tvalidation_0-logloss:0.088981\n",
      "[78]\tvalidation_0-logloss:0.088326\n",
      "[79]\tvalidation_0-logloss:0.088803\n",
      "[80]\tvalidation_0-logloss:0.088559\n",
      "[81]\tvalidation_0-logloss:0.087860\n",
      "[82]\tvalidation_0-logloss:0.087307\n",
      "[83]\tvalidation_0-logloss:0.087602\n",
      "[84]\tvalidation_0-logloss:0.087512\n",
      "[85]\tvalidation_0-logloss:0.087416\n",
      "[86]\tvalidation_0-logloss:0.088504\n",
      "[87]\tvalidation_0-logloss:0.088001\n",
      "[88]\tvalidation_0-logloss:0.087934\n",
      "[89]\tvalidation_0-logloss:0.087565\n",
      "[90]\tvalidation_0-logloss:0.087035\n",
      "[91]\tvalidation_0-logloss:0.086812\n",
      "[92]\tvalidation_0-logloss:0.086427\n",
      "[93]\tvalidation_0-logloss:0.086219\n",
      "[94]\tvalidation_0-logloss:0.085717\n",
      "[95]\tvalidation_0-logloss:0.085899\n",
      "[96]\tvalidation_0-logloss:0.085842\n",
      "[97]\tvalidation_0-logloss:0.085670\n",
      "[98]\tvalidation_0-logloss:0.085227\n",
      "[99]\tvalidation_0-logloss:0.085125\n",
      "[100]\tvalidation_0-logloss:0.085252\n",
      "[101]\tvalidation_0-logloss:0.085118\n",
      "[102]\tvalidation_0-logloss:0.085294\n",
      "[103]\tvalidation_0-logloss:0.084860\n",
      "[104]\tvalidation_0-logloss:0.084817\n",
      "[105]\tvalidation_0-logloss:0.084814\n",
      "[106]\tvalidation_0-logloss:0.084757\n",
      "[107]\tvalidation_0-logloss:0.085698\n",
      "[108]\tvalidation_0-logloss:0.085733\n",
      "[109]\tvalidation_0-logloss:0.085635\n",
      "[110]\tvalidation_0-logloss:0.085522\n",
      "[111]\tvalidation_0-logloss:0.085122\n",
      "[112]\tvalidation_0-logloss:0.086002\n",
      "[113]\tvalidation_0-logloss:0.085977\n",
      "[114]\tvalidation_0-logloss:0.085963\n",
      "[115]\tvalidation_0-logloss:0.085563\n",
      "[116]\tvalidation_0-logloss:0.085616\n",
      "[117]\tvalidation_0-logloss:0.085285\n",
      "[118]\tvalidation_0-logloss:0.085269\n",
      "[119]\tvalidation_0-logloss:0.085827\n",
      "[120]\tvalidation_0-logloss:0.086077\n",
      "[121]\tvalidation_0-logloss:0.085913\n",
      "[122]\tvalidation_0-logloss:0.085850\n",
      "[123]\tvalidation_0-logloss:0.085902\n",
      "[124]\tvalidation_0-logloss:0.085861\n",
      "[125]\tvalidation_0-logloss:0.086441\n",
      "[126]\tvalidation_0-logloss:0.086935\n",
      "[127]\tvalidation_0-logloss:0.087411\n",
      "[128]\tvalidation_0-logloss:0.086986\n",
      "[129]\tvalidation_0-logloss:0.086821\n",
      "[130]\tvalidation_0-logloss:0.086787\n",
      "[131]\tvalidation_0-logloss:0.086736\n",
      "[132]\tvalidation_0-logloss:0.086336\n",
      "[133]\tvalidation_0-logloss:0.086806\n",
      "[134]\tvalidation_0-logloss:0.086726\n",
      "[135]\tvalidation_0-logloss:0.086696\n",
      "[136]\tvalidation_0-logloss:0.086246\n",
      "[137]\tvalidation_0-logloss:0.087161\n",
      "[138]\tvalidation_0-logloss:0.087079\n",
      "[139]\tvalidation_0-logloss:0.087051\n",
      "[140]\tvalidation_0-logloss:0.086675\n",
      "[141]\tvalidation_0-logloss:0.087218\n",
      "[142]\tvalidation_0-logloss:0.086965\n",
      "[143]\tvalidation_0-logloss:0.087486\n",
      "[144]\tvalidation_0-logloss:0.087404\n",
      "[145]\tvalidation_0-logloss:0.087058\n",
      "[146]\tvalidation_0-logloss:0.087035\n",
      "[147]\tvalidation_0-logloss:0.087538\n",
      "[148]\tvalidation_0-logloss:0.087269\n",
      "[149]\tvalidation_0-logloss:0.086926\n",
      "[150]\tvalidation_0-logloss:0.087013\n",
      "[151]\tvalidation_0-logloss:0.086931\n",
      "[152]\tvalidation_0-logloss:0.086910\n",
      "[153]\tvalidation_0-logloss:0.086624\n",
      "[154]\tvalidation_0-logloss:0.086660\n",
      "[155]\tvalidation_0-logloss:0.086382\n",
      "[156]\tvalidation_0-logloss:0.086367\n",
      "[157]\tvalidation_0-logloss:0.086273\n",
      "[158]\tvalidation_0-logloss:0.086326\n",
      "[159]\tvalidation_0-logloss:0.086363\n",
      "[160]\tvalidation_0-logloss:0.086351\n",
      "[161]\tvalidation_0-logloss:0.086079\n",
      "[162]\tvalidation_0-logloss:0.085991\n",
      "[163]\tvalidation_0-logloss:0.085997\n",
      "[164]\tvalidation_0-logloss:0.086051\n",
      "[165]\tvalidation_0-logloss:0.086088\n",
      "[166]\tvalidation_0-logloss:0.085838\n",
      "[167]\tvalidation_0-logloss:0.085758\n",
      "[168]\tvalidation_0-logloss:0.085749\n",
      "[169]\tvalidation_0-logloss:0.085484\n",
      "[170]\tvalidation_0-logloss:0.085521\n",
      "[171]\tvalidation_0-logloss:0.085436\n",
      "[172]\tvalidation_0-logloss:0.085430\n",
      "[173]\tvalidation_0-logloss:0.085168\n",
      "[174]\tvalidation_0-logloss:0.085206\n",
      "[175]\tvalidation_0-logloss:0.084963\n",
      "[176]\tvalidation_0-logloss:0.085050\n",
      "[177]\tvalidation_0-logloss:0.085062\n",
      "[178]\tvalidation_0-logloss:0.085113\n",
      "[179]\tvalidation_0-logloss:0.085032\n",
      "[180]\tvalidation_0-logloss:0.084965\n",
      "[181]\tvalidation_0-logloss:0.084964\n",
      "[182]\tvalidation_0-logloss:0.084713\n",
      "[183]\tvalidation_0-logloss:0.084750\n",
      "[184]\tvalidation_0-logloss:0.084550\n",
      "[185]\tvalidation_0-logloss:0.084587\n",
      "[186]\tvalidation_0-logloss:0.084338\n",
      "[187]\tvalidation_0-logloss:0.084354\n",
      "[188]\tvalidation_0-logloss:0.084123\n",
      "[189]\tvalidation_0-logloss:0.084210\n",
      "[190]\tvalidation_0-logloss:0.084245\n",
      "[191]\tvalidation_0-logloss:0.084055\n",
      "[192]\tvalidation_0-logloss:0.083990\n",
      "[193]\tvalidation_0-logloss:0.083992\n",
      "[194]\tvalidation_0-logloss:0.084051\n",
      "[195]\tvalidation_0-logloss:0.083974\n",
      "[196]\tvalidation_0-logloss:0.083995\n",
      "[197]\tvalidation_0-logloss:0.084032\n",
      "[198]\tvalidation_0-logloss:0.083806\n",
      "[199]\tvalidation_0-logloss:0.083891\n",
      "[200]\tvalidation_0-logloss:0.083927\n",
      "[201]\tvalidation_0-logloss:0.083828\n",
      "[202]\tvalidation_0-logloss:0.083886\n",
      "[203]\tvalidation_0-logloss:0.083923\n",
      "[204]\tvalidation_0-logloss:0.083828\n",
      "[205]\tvalidation_0-logloss:0.083766\n",
      "[206]\tvalidation_0-logloss:0.083773\n",
      "[207]\tvalidation_0-logloss:0.083701\n",
      "[208]\tvalidation_0-logloss:0.083480\n",
      "[209]\tvalidation_0-logloss:0.083505\n",
      "[210]\tvalidation_0-logloss:0.083556\n",
      "[211]\tvalidation_0-logloss:0.083589\n",
      "[212]\tvalidation_0-logloss:0.083673\n",
      "[213]\tvalidation_0-logloss:0.083464\n",
      "[214]\tvalidation_0-logloss:0.083663\n",
      "[215]\tvalidation_0-logloss:0.083671\n",
      "[216]\tvalidation_0-logloss:0.083611\n",
      "[217]\tvalidation_0-logloss:0.083519\n",
      "[218]\tvalidation_0-logloss:0.083718\n",
      "[219]\tvalidation_0-logloss:0.083630\n",
      "[220]\tvalidation_0-logloss:0.083573\n",
      "[221]\tvalidation_0-logloss:0.083607\n",
      "[222]\tvalidation_0-logloss:0.083655\n",
      "[223]\tvalidation_0-logloss:0.083666\n",
      "[224]\tvalidation_0-logloss:0.083860\n",
      "[225]\tvalidation_0-logloss:0.083773\n",
      "[226]\tvalidation_0-logloss:0.083858\n",
      "[227]\tvalidation_0-logloss:0.084050\n",
      "[228]\tvalidation_0-logloss:0.084097\n",
      "[229]\tvalidation_0-logloss:0.084015\n",
      "[230]\tvalidation_0-logloss:0.084050\n",
      "[231]\tvalidation_0-logloss:0.084065\n",
      "[232]\tvalidation_0-logloss:0.084010\n",
      "[233]\tvalidation_0-logloss:0.083840\n",
      "[234]\tvalidation_0-logloss:0.084030\n",
      "[235]\tvalidation_0-logloss:0.083951\n",
      "[236]\tvalidation_0-logloss:0.083900\n",
      "[237]\tvalidation_0-logloss:0.083916\n",
      "[238]\tvalidation_0-logloss:0.083963\n",
      "[239]\tvalidation_0-logloss:0.083999\n",
      "[240]\tvalidation_0-logloss:0.084083\n",
      "[241]\tvalidation_0-logloss:0.083920\n",
      "[242]\tvalidation_0-logloss:0.084109\n",
      "[243]\tvalidation_0-logloss:0.084127\n",
      "[244]\tvalidation_0-logloss:0.084173\n",
      "[245]\tvalidation_0-logloss:0.084209\n",
      "[246]\tvalidation_0-logloss:0.084135\n",
      "[247]\tvalidation_0-logloss:0.084085\n",
      "[248]\tvalidation_0-logloss:0.084270\n",
      "[249]\tvalidation_0-logloss:0.084195\n",
      "[250]\tvalidation_0-logloss:0.084204\n",
      "[251]\tvalidation_0-logloss:0.084049\n",
      "[252]\tvalidation_0-logloss:0.084003\n",
      "[253]\tvalidation_0-logloss:0.084023\n",
      "[254]\tvalidation_0-logloss:0.084207\n",
      "[255]\tvalidation_0-logloss:0.084252\n",
      "[256]\tvalidation_0-logloss:0.084289\n",
      "[257]\tvalidation_0-logloss:0.084217\n",
      "[258]\tvalidation_0-logloss:0.084303\n",
      "[259]\tvalidation_0-logloss:0.084483\n",
      "[260]\tvalidation_0-logloss:0.084504\n",
      "[261]\tvalidation_0-logloss:0.084459\n",
      "[262]\tvalidation_0-logloss:0.084306\n",
      "[263]\tvalidation_0-logloss:0.084350\n",
      "[264]\tvalidation_0-logloss:0.084388\n",
      "[265]\tvalidation_0-logloss:0.084409\n",
      "[266]\tvalidation_0-logloss:0.084493\n",
      "[267]\tvalidation_0-logloss:0.084669\n",
      "[268]\tvalidation_0-logloss:0.084601\n",
      "[269]\tvalidation_0-logloss:0.084558\n",
      "[270]\tvalidation_0-logloss:0.084417\n",
      "[271]\tvalidation_0-logloss:0.084461\n",
      "[272]\tvalidation_0-logloss:0.084497\n",
      "[273]\tvalidation_0-logloss:0.084670\n",
      "[274]\tvalidation_0-logloss:0.084693\n",
      "[275]\tvalidation_0-logloss:0.084736\n",
      "[276]\tvalidation_0-logloss:0.084598\n",
      "[277]\tvalidation_0-logloss:0.084633\n",
      "[278]\tvalidation_0-logloss:0.084716\n",
      "[279]\tvalidation_0-logloss:0.084674\n",
      "[280]\tvalidation_0-logloss:0.084538\n",
      "[281]\tvalidation_0-logloss:0.084581\n",
      "[282]\tvalidation_0-logloss:0.084455\n",
      "[283]\tvalidation_0-logloss:0.084479\n",
      "[284]\tvalidation_0-logloss:0.084441\n",
      "[285]\tvalidation_0-logloss:0.084310\n",
      "[286]\tvalidation_0-logloss:0.084388\n",
      "[287]\tvalidation_0-logloss:0.084394\n",
      "[288]\tvalidation_0-logloss:0.084436\n",
      "[289]\tvalidation_0-logloss:0.084314\n",
      "[290]\tvalidation_0-logloss:0.084183\n",
      "[291]\tvalidation_0-logloss:0.084209\n",
      "[292]\tvalidation_0-logloss:0.084252\n",
      "[293]\tvalidation_0-logloss:0.084284\n",
      "[294]\tvalidation_0-logloss:0.084361\n",
      "[295]\tvalidation_0-logloss:0.084326\n",
      "[296]\tvalidation_0-logloss:0.084199\n",
      "[297]\tvalidation_0-logloss:0.084206\n",
      "[298]\tvalidation_0-logloss:0.084233\n",
      "[299]\tvalidation_0-logloss:0.084275\n",
      "[300]\tvalidation_0-logloss:0.084156\n",
      "[301]\tvalidation_0-logloss:0.084033\n",
      "[302]\tvalidation_0-logloss:0.084041\n",
      "[303]\tvalidation_0-logloss:0.084116\n",
      "[304]\tvalidation_0-logloss:0.084157\n",
      "[305]\tvalidation_0-logloss:0.084036\n",
      "[306]\tvalidation_0-logloss:0.084002\n",
      "[307]\tvalidation_0-logloss:0.084030\n",
      "[308]\tvalidation_0-logloss:0.083913\n",
      "[309]\tvalidation_0-logloss:0.083954\n",
      "[310]\tvalidation_0-logloss:0.083837\n",
      "[311]\tvalidation_0-logloss:0.083846\n",
      "[312]\tvalidation_0-logloss:0.083919\n",
      "[313]\tvalidation_0-logloss:0.083805\n",
      "Stopping. Best iteration:\n",
      "[213]\tvalidation_0-logloss:0.083464\n",
      "\n"
     ]
    }
   ],
   "source": [
    "from xgboost import XGBClassifier\n",
    "\n",
    "xgb_wrapper = XGBClassifier(n_estimators=400, learning_rate=0.1, max_depth=3)\n",
    "evals = [(X_test, y_test)]\n",
    "xgb_wrapper.fit(X_train, y_train, early_stopping_rounds=100, eval_metric=\"logloss\", \n",
    "                eval_set=evals, verbose=True)\n",
    "\n",
    "ws100_preds = xgb_wrapper.predict(X_test)\n",
    "ws100_pred_proba = xgb_wrapper.predict_proba(X_test)[:, 1]"
   ]
  },
  {
   "cell_type": "code",
   "execution_count": 18,
   "metadata": {
    "colab": {
     "base_uri": "https://localhost:8080/"
    },
    "id": "9zhOst4POZrI",
    "outputId": "b58a5ad0-8c63-4230-c3fc-8bc364958c9d"
   },
   "outputs": [
    {
     "name": "stdout",
     "output_type": "stream",
     "text": [
      "오차 행렬\n",
      "[[34  3]\n",
      " [ 1 76]]\n",
      "정확도: 0.9649, 정밀도: 0.9620, 재현율: 0.9870,    F1: 0.9744, AUC:0.9954\n"
     ]
    }
   ],
   "source": [
    "get_clf_eval(y_test , ws100_preds, ws100_pred_proba)"
   ]
  },
  {
   "cell_type": "code",
   "execution_count": 19,
   "metadata": {
    "colab": {
     "base_uri": "https://localhost:8080/"
    },
    "id": "Z4XctP1cPHVd",
    "outputId": "251aee7e-c7e2-43e0-824e-3da8d37d46d8"
   },
   "outputs": [
    {
     "name": "stdout",
     "output_type": "stream",
     "text": [
      "오차 행렬\n",
      "[[34  3]\n",
      " [ 2 75]]\n",
      "정확도: 0.9561, 정밀도: 0.9615, 재현율: 0.9740,    F1: 0.9677, AUC:0.9944\n"
     ]
    },
    {
     "name": "stderr",
     "output_type": "stream",
     "text": [
      "Will train until validation_0 error hasn't decreased in 10 rounds.\n",
      "[0]\tvalidation_0-logloss:0.613520\n",
      "[1]\tvalidation_0-logloss:0.547842\n",
      "[2]\tvalidation_0-logloss:0.494247\n",
      "[3]\tvalidation_0-logloss:0.447986\n",
      "[4]\tvalidation_0-logloss:0.409109\n",
      "[5]\tvalidation_0-logloss:0.374977\n",
      "[6]\tvalidation_0-logloss:0.345714\n",
      "[7]\tvalidation_0-logloss:0.320529\n",
      "[8]\tvalidation_0-logloss:0.297210\n",
      "[9]\tvalidation_0-logloss:0.277991\n",
      "[10]\tvalidation_0-logloss:0.260302\n",
      "[11]\tvalidation_0-logloss:0.246037\n",
      "[12]\tvalidation_0-logloss:0.231556\n",
      "[13]\tvalidation_0-logloss:0.220050\n",
      "[14]\tvalidation_0-logloss:0.208572\n",
      "[15]\tvalidation_0-logloss:0.199993\n",
      "[16]\tvalidation_0-logloss:0.190118\n",
      "[17]\tvalidation_0-logloss:0.181818\n",
      "[18]\tvalidation_0-logloss:0.174729\n",
      "[19]\tvalidation_0-logloss:0.167657\n",
      "[20]\tvalidation_0-logloss:0.158202\n",
      "[21]\tvalidation_0-logloss:0.154432\n",
      "[22]\tvalidation_0-logloss:0.148656\n",
      "[23]\tvalidation_0-logloss:0.141245\n",
      "[24]\tvalidation_0-logloss:0.136042\n",
      "[25]\tvalidation_0-logloss:0.132487\n",
      "[26]\tvalidation_0-logloss:0.127632\n",
      "[27]\tvalidation_0-logloss:0.125043\n",
      "[28]\tvalidation_0-logloss:0.119770\n",
      "[29]\tvalidation_0-logloss:0.117073\n",
      "[30]\tvalidation_0-logloss:0.114827\n",
      "[31]\tvalidation_0-logloss:0.113136\n",
      "[32]\tvalidation_0-logloss:0.110032\n",
      "[33]\tvalidation_0-logloss:0.107852\n",
      "[34]\tvalidation_0-logloss:0.107176\n",
      "[35]\tvalidation_0-logloss:0.104638\n",
      "[36]\tvalidation_0-logloss:0.102992\n",
      "[37]\tvalidation_0-logloss:0.100518\n",
      "[38]\tvalidation_0-logloss:0.098188\n",
      "[39]\tvalidation_0-logloss:0.096334\n",
      "[40]\tvalidation_0-logloss:0.095130\n",
      "[41]\tvalidation_0-logloss:0.094663\n",
      "[42]\tvalidation_0-logloss:0.094175\n",
      "[43]\tvalidation_0-logloss:0.092617\n",
      "[44]\tvalidation_0-logloss:0.093162\n",
      "[45]\tvalidation_0-logloss:0.092191\n",
      "[46]\tvalidation_0-logloss:0.091699\n",
      "[47]\tvalidation_0-logloss:0.091546\n",
      "[48]\tvalidation_0-logloss:0.090223\n",
      "[49]\tvalidation_0-logloss:0.089690\n",
      "[50]\tvalidation_0-logloss:0.089572\n",
      "[51]\tvalidation_0-logloss:0.088775\n",
      "[52]\tvalidation_0-logloss:0.089920\n",
      "[53]\tvalidation_0-logloss:0.090687\n",
      "[54]\tvalidation_0-logloss:0.090681\n",
      "[55]\tvalidation_0-logloss:0.089511\n",
      "[56]\tvalidation_0-logloss:0.088928\n",
      "[57]\tvalidation_0-logloss:0.088957\n",
      "[58]\tvalidation_0-logloss:0.089236\n",
      "[59]\tvalidation_0-logloss:0.088844\n",
      "[60]\tvalidation_0-logloss:0.088418\n",
      "[61]\tvalidation_0-logloss:0.088080\n",
      "[62]\tvalidation_0-logloss:0.087247\n",
      "[63]\tvalidation_0-logloss:0.087218\n",
      "[64]\tvalidation_0-logloss:0.086290\n",
      "[65]\tvalidation_0-logloss:0.087353\n",
      "[66]\tvalidation_0-logloss:0.086531\n",
      "[67]\tvalidation_0-logloss:0.086645\n",
      "[68]\tvalidation_0-logloss:0.086404\n",
      "[69]\tvalidation_0-logloss:0.086179\n",
      "[70]\tvalidation_0-logloss:0.087403\n",
      "[71]\tvalidation_0-logloss:0.087263\n",
      "[72]\tvalidation_0-logloss:0.087144\n",
      "[73]\tvalidation_0-logloss:0.087859\n",
      "[74]\tvalidation_0-logloss:0.088397\n",
      "[75]\tvalidation_0-logloss:0.087929\n",
      "[76]\tvalidation_0-logloss:0.087767\n",
      "[77]\tvalidation_0-logloss:0.088981\n",
      "[78]\tvalidation_0-logloss:0.088326\n",
      "[79]\tvalidation_0-logloss:0.088803\n",
      "Stopping. Best iteration:\n",
      "[69]\tvalidation_0-logloss:0.086179\n",
      "\n"
     ]
    }
   ],
   "source": [
    "# early_stopping_rounds를 10으로 설정하고 재 학습. \n",
    "xgb_wrapper.fit(X_train, y_train, early_stopping_rounds=10, \n",
    "                eval_metric=\"logloss\", eval_set=evals,verbose=True)\n",
    "\n",
    "ws10_preds = xgb_wrapper.predict(X_test)\n",
    "ws10_pred_proba = xgb_wrapper.predict_proba(X_test)[:, 1]\n",
    "get_clf_eval(y_test , ws10_preds, ws10_pred_proba)"
   ]
  },
  {
   "cell_type": "code",
   "execution_count": 20,
   "metadata": {
    "colab": {
     "base_uri": "https://localhost:8080/"
    },
    "id": "BWAV6n5nPHaW",
    "outputId": "e22642e2-2b1b-49b2-bbf5-894d8840d44b"
   },
   "outputs": [
    {
     "name": "stdout",
     "output_type": "stream",
     "text": [
      "[1]\ttraining's binary_logloss: 0.625671\tvalid_1's binary_logloss: 0.628248\n",
      "[2]\ttraining's binary_logloss: 0.588173\tvalid_1's binary_logloss: 0.601106\n",
      "[3]\ttraining's binary_logloss: 0.554518\tvalid_1's binary_logloss: 0.577587\n",
      "[4]\ttraining's binary_logloss: 0.523972\tvalid_1's binary_logloss: 0.556324\n",
      "[5]\ttraining's binary_logloss: 0.49615\tvalid_1's binary_logloss: 0.537407\n",
      "[6]\ttraining's binary_logloss: 0.470108\tvalid_1's binary_logloss: 0.519401\n",
      "[7]\ttraining's binary_logloss: 0.446647\tvalid_1's binary_logloss: 0.502637\n",
      "[8]\ttraining's binary_logloss: 0.425055\tvalid_1's binary_logloss: 0.488311\n",
      "[9]\ttraining's binary_logloss: 0.405125\tvalid_1's binary_logloss: 0.474664\n",
      "[10]\ttraining's binary_logloss: 0.386526\tvalid_1's binary_logloss: 0.461267\n",
      "[11]\ttraining's binary_logloss: 0.367027\tvalid_1's binary_logloss: 0.444274\n",
      "[12]\ttraining's binary_logloss: 0.350713\tvalid_1's binary_logloss: 0.432755\n",
      "[13]\ttraining's binary_logloss: 0.334601\tvalid_1's binary_logloss: 0.421371\n",
      "[14]\ttraining's binary_logloss: 0.319854\tvalid_1's binary_logloss: 0.411418\n",
      "[15]\ttraining's binary_logloss: 0.306374\tvalid_1's binary_logloss: 0.402989\n",
      "[16]\ttraining's binary_logloss: 0.293116\tvalid_1's binary_logloss: 0.393973\n",
      "[17]\ttraining's binary_logloss: 0.280812\tvalid_1's binary_logloss: 0.384801\n",
      "[18]\ttraining's binary_logloss: 0.268352\tvalid_1's binary_logloss: 0.376191\n",
      "[19]\ttraining's binary_logloss: 0.256942\tvalid_1's binary_logloss: 0.368378\n",
      "[20]\ttraining's binary_logloss: 0.246443\tvalid_1's binary_logloss: 0.362062\n",
      "[21]\ttraining's binary_logloss: 0.236874\tvalid_1's binary_logloss: 0.355162\n",
      "[22]\ttraining's binary_logloss: 0.227501\tvalid_1's binary_logloss: 0.348933\n",
      "[23]\ttraining's binary_logloss: 0.218988\tvalid_1's binary_logloss: 0.342819\n",
      "[24]\ttraining's binary_logloss: 0.210621\tvalid_1's binary_logloss: 0.337386\n",
      "[25]\ttraining's binary_logloss: 0.202076\tvalid_1's binary_logloss: 0.331523\n",
      "[26]\ttraining's binary_logloss: 0.194199\tvalid_1's binary_logloss: 0.326349\n",
      "[27]\ttraining's binary_logloss: 0.187107\tvalid_1's binary_logloss: 0.322785\n",
      "[28]\ttraining's binary_logloss: 0.180535\tvalid_1's binary_logloss: 0.317877\n",
      "[29]\ttraining's binary_logloss: 0.173834\tvalid_1's binary_logloss: 0.313928\n",
      "[30]\ttraining's binary_logloss: 0.167198\tvalid_1's binary_logloss: 0.310105\n",
      "[31]\ttraining's binary_logloss: 0.161229\tvalid_1's binary_logloss: 0.307107\n",
      "[32]\ttraining's binary_logloss: 0.155494\tvalid_1's binary_logloss: 0.303837\n",
      "[33]\ttraining's binary_logloss: 0.149125\tvalid_1's binary_logloss: 0.300315\n",
      "[34]\ttraining's binary_logloss: 0.144045\tvalid_1's binary_logloss: 0.297816\n",
      "[35]\ttraining's binary_logloss: 0.139341\tvalid_1's binary_logloss: 0.295387\n",
      "[36]\ttraining's binary_logloss: 0.134625\tvalid_1's binary_logloss: 0.293063\n",
      "[37]\ttraining's binary_logloss: 0.129167\tvalid_1's binary_logloss: 0.289127\n",
      "[38]\ttraining's binary_logloss: 0.12472\tvalid_1's binary_logloss: 0.288697\n",
      "[39]\ttraining's binary_logloss: 0.11974\tvalid_1's binary_logloss: 0.28576\n",
      "[40]\ttraining's binary_logloss: 0.115054\tvalid_1's binary_logloss: 0.282853\n",
      "[41]\ttraining's binary_logloss: 0.110662\tvalid_1's binary_logloss: 0.279441\n",
      "[42]\ttraining's binary_logloss: 0.106358\tvalid_1's binary_logloss: 0.28113\n",
      "[43]\ttraining's binary_logloss: 0.102324\tvalid_1's binary_logloss: 0.279139\n",
      "[44]\ttraining's binary_logloss: 0.0985699\tvalid_1's binary_logloss: 0.276465\n",
      "[45]\ttraining's binary_logloss: 0.094858\tvalid_1's binary_logloss: 0.275946\n",
      "[46]\ttraining's binary_logloss: 0.0912486\tvalid_1's binary_logloss: 0.272819\n",
      "[47]\ttraining's binary_logloss: 0.0883115\tvalid_1's binary_logloss: 0.272306\n",
      "[48]\ttraining's binary_logloss: 0.0849963\tvalid_1's binary_logloss: 0.270452\n",
      "[49]\ttraining's binary_logloss: 0.0821742\tvalid_1's binary_logloss: 0.268671\n",
      "[50]\ttraining's binary_logloss: 0.0789991\tvalid_1's binary_logloss: 0.267587\n",
      "[51]\ttraining's binary_logloss: 0.0761072\tvalid_1's binary_logloss: 0.26626\n",
      "[52]\ttraining's binary_logloss: 0.0732567\tvalid_1's binary_logloss: 0.265542\n",
      "[53]\ttraining's binary_logloss: 0.0706388\tvalid_1's binary_logloss: 0.264547\n",
      "[54]\ttraining's binary_logloss: 0.0683911\tvalid_1's binary_logloss: 0.26502\n",
      "[55]\ttraining's binary_logloss: 0.0659347\tvalid_1's binary_logloss: 0.264388\n",
      "[56]\ttraining's binary_logloss: 0.0636873\tvalid_1's binary_logloss: 0.263128\n",
      "[57]\ttraining's binary_logloss: 0.0613354\tvalid_1's binary_logloss: 0.26231\n",
      "[58]\ttraining's binary_logloss: 0.0591944\tvalid_1's binary_logloss: 0.262011\n",
      "[59]\ttraining's binary_logloss: 0.057033\tvalid_1's binary_logloss: 0.261454\n",
      "[60]\ttraining's binary_logloss: 0.0550801\tvalid_1's binary_logloss: 0.260746\n",
      "[61]\ttraining's binary_logloss: 0.0532381\tvalid_1's binary_logloss: 0.260236\n",
      "[62]\ttraining's binary_logloss: 0.0514074\tvalid_1's binary_logloss: 0.261586\n",
      "[63]\ttraining's binary_logloss: 0.0494837\tvalid_1's binary_logloss: 0.261797\n",
      "[64]\ttraining's binary_logloss: 0.0477826\tvalid_1's binary_logloss: 0.262533\n",
      "[65]\ttraining's binary_logloss: 0.0460364\tvalid_1's binary_logloss: 0.263305\n",
      "[66]\ttraining's binary_logloss: 0.0444552\tvalid_1's binary_logloss: 0.264072\n",
      "[67]\ttraining's binary_logloss: 0.0427638\tvalid_1's binary_logloss: 0.266223\n",
      "[68]\ttraining's binary_logloss: 0.0412449\tvalid_1's binary_logloss: 0.266817\n",
      "[69]\ttraining's binary_logloss: 0.0398589\tvalid_1's binary_logloss: 0.267819\n",
      "[70]\ttraining's binary_logloss: 0.0383095\tvalid_1's binary_logloss: 0.267484\n",
      "[71]\ttraining's binary_logloss: 0.0368803\tvalid_1's binary_logloss: 0.270233\n",
      "[72]\ttraining's binary_logloss: 0.0355637\tvalid_1's binary_logloss: 0.268442\n",
      "[73]\ttraining's binary_logloss: 0.0341747\tvalid_1's binary_logloss: 0.26895\n",
      "[74]\ttraining's binary_logloss: 0.0328302\tvalid_1's binary_logloss: 0.266958\n",
      "[75]\ttraining's binary_logloss: 0.0317853\tvalid_1's binary_logloss: 0.268091\n",
      "[76]\ttraining's binary_logloss: 0.0305626\tvalid_1's binary_logloss: 0.266419\n",
      "[77]\ttraining's binary_logloss: 0.0295001\tvalid_1's binary_logloss: 0.268588\n",
      "[78]\ttraining's binary_logloss: 0.0284699\tvalid_1's binary_logloss: 0.270964\n",
      "[79]\ttraining's binary_logloss: 0.0273953\tvalid_1's binary_logloss: 0.270293\n",
      "[80]\ttraining's binary_logloss: 0.0264668\tvalid_1's binary_logloss: 0.270523\n",
      "[81]\ttraining's binary_logloss: 0.0254636\tvalid_1's binary_logloss: 0.270683\n",
      "[82]\ttraining's binary_logloss: 0.0245911\tvalid_1's binary_logloss: 0.273187\n",
      "[83]\ttraining's binary_logloss: 0.0236486\tvalid_1's binary_logloss: 0.275994\n",
      "[84]\ttraining's binary_logloss: 0.0228047\tvalid_1's binary_logloss: 0.274053\n",
      "[85]\ttraining's binary_logloss: 0.0221693\tvalid_1's binary_logloss: 0.273211\n",
      "[86]\ttraining's binary_logloss: 0.0213043\tvalid_1's binary_logloss: 0.272626\n",
      "[87]\ttraining's binary_logloss: 0.0203934\tvalid_1's binary_logloss: 0.27534\n",
      "[88]\ttraining's binary_logloss: 0.0195552\tvalid_1's binary_logloss: 0.276228\n",
      "[89]\ttraining's binary_logloss: 0.0188623\tvalid_1's binary_logloss: 0.27525\n",
      "[90]\ttraining's binary_logloss: 0.0183664\tvalid_1's binary_logloss: 0.276485\n",
      "[91]\ttraining's binary_logloss: 0.0176788\tvalid_1's binary_logloss: 0.277052\n",
      "[92]\ttraining's binary_logloss: 0.0170059\tvalid_1's binary_logloss: 0.277686\n",
      "[93]\ttraining's binary_logloss: 0.0164317\tvalid_1's binary_logloss: 0.275332\n",
      "[94]\ttraining's binary_logloss: 0.015878\tvalid_1's binary_logloss: 0.276236\n",
      "[95]\ttraining's binary_logloss: 0.0152959\tvalid_1's binary_logloss: 0.274538\n",
      "[96]\ttraining's binary_logloss: 0.0147216\tvalid_1's binary_logloss: 0.275244\n",
      "[97]\ttraining's binary_logloss: 0.0141758\tvalid_1's binary_logloss: 0.275829\n",
      "[98]\ttraining's binary_logloss: 0.0136551\tvalid_1's binary_logloss: 0.276654\n",
      "[99]\ttraining's binary_logloss: 0.0131585\tvalid_1's binary_logloss: 0.277859\n",
      "[100]\ttraining's binary_logloss: 0.0126961\tvalid_1's binary_logloss: 0.279265\n",
      "[101]\ttraining's binary_logloss: 0.0122421\tvalid_1's binary_logloss: 0.276695\n",
      "[102]\ttraining's binary_logloss: 0.0118067\tvalid_1's binary_logloss: 0.278488\n",
      "[103]\ttraining's binary_logloss: 0.0113994\tvalid_1's binary_logloss: 0.278932\n",
      "[104]\ttraining's binary_logloss: 0.0109799\tvalid_1's binary_logloss: 0.280997\n",
      "[105]\ttraining's binary_logloss: 0.0105953\tvalid_1's binary_logloss: 0.281454\n",
      "[106]\ttraining's binary_logloss: 0.0102381\tvalid_1's binary_logloss: 0.282058\n",
      "[107]\ttraining's binary_logloss: 0.00986714\tvalid_1's binary_logloss: 0.279275\n",
      "[108]\ttraining's binary_logloss: 0.00950998\tvalid_1's binary_logloss: 0.281427\n",
      "[109]\ttraining's binary_logloss: 0.00915965\tvalid_1's binary_logloss: 0.280752\n",
      "[110]\ttraining's binary_logloss: 0.00882581\tvalid_1's binary_logloss: 0.282152\n",
      "[111]\ttraining's binary_logloss: 0.00850714\tvalid_1's binary_logloss: 0.280894\n"
     ]
    }
   ],
   "source": [
    "# LightGBM의 파이썬 패키지인 lightgbm에서 LGBMClassifier 임포트\n",
    "from lightgbm import LGBMClassifier\n",
    "\n",
    "import pandas as pd\n",
    "import numpy as np\n",
    "from sklearn.datasets import load_breast_cancer\n",
    "from sklearn.model_selection import train_test_split\n",
    "\n",
    "dataset = load_breast_cancer()\n",
    "\n",
    "cancer_df = pd.DataFrame(data=dataset.data, columns=dataset.feature_names)\n",
    "cancer_df['target']= dataset.target\n",
    "X_features = cancer_df.iloc[:, :-1]\n",
    "y_label = cancer_df.iloc[:, -1]\n",
    "\n",
    "# 전체 데이터 중 80%는 학습용 데이터, 20%는 테스트용 데이터 추출\n",
    "X_train, X_test, y_train, y_test=train_test_split(X_features, y_label, test_size=0.2, random_state=156 )\n",
    "\n",
    "# 위에서 만든 X_train, y_train을 다시 쪼개서 90%는 학습과 10%는 검증용 데이터로 분리\n",
    "X_tr, X_val, y_tr, y_val= train_test_split(X_train, y_train, test_size=0.1, random_state=156 )\n",
    "\n",
    "# 앞서 XGBoost와 동일하게 n_estimators는 400 설정.\n",
    "lgbm_wrapper = LGBMClassifier(n_estimators=400, learning_rate=0.05)\n",
    "\n",
    "# LightGBM도 XGBoost와 동일하게 조기 중단 수행 가능.\n",
    "evals = [(X_tr, y_tr), (X_val, y_val)]\n",
    "lgbm_wrapper.fit(X_tr, y_tr, early_stopping_rounds=50, eval_metric=\"logloss\", eval_set=evals, verbose=True)\n",
    "preds = lgbm_wrapper.predict(X_test)\n",
    "pred_proba = lgbm_wrapper.predict_proba(X_test)[:, 1]"
   ]
  },
  {
   "cell_type": "code",
   "execution_count": 21,
   "metadata": {
    "colab": {
     "base_uri": "https://localhost:8080/"
    },
    "id": "wjZbZvdTPHct",
    "outputId": "7a822bec-bcc3-410a-b6fe-d818a84289ff"
   },
   "outputs": [
    {
     "name": "stdout",
     "output_type": "stream",
     "text": [
      "오차 행렬\n",
      "[[34  3]\n",
      " [ 2 75]]\n",
      "정확도: 0.9561, 정밀도: 0.9615, 재현율: 0.9740,    F1: 0.9677, AUC:0.9877\n"
     ]
    }
   ],
   "source": [
    "get_clf_eval(y_test, preds, pred_proba)"
   ]
  },
  {
   "cell_type": "code",
   "execution_count": 22,
   "metadata": {
    "colab": {
     "base_uri": "https://localhost:8080/",
     "height": 730
    },
    "id": "S7mWts85PHfN",
    "outputId": "eb3dd051-b8ac-4d1e-c543-8b2f743fdfa9"
   },
   "outputs": [
    {
     "data": {
      "image/png": "[encoded data removed]",
      "text/plain": [
       "<Figure size 720x864 with 1 Axes>"
      ]
     },
     "metadata": {
      "needs_background": "light"
     },
     "output_type": "display_data"
    }
   ],
   "source": [
    "# plot_importance( )를 이용하여 feature 중요도 시각화\n",
    "from lightgbm import plot_importance\n",
    "import matplotlib.pyplot as plt\n",
    "%matplotlib inline\n",
    "\n",
    "fig, ax = plt.subplots(figsize=(10, 12))\n",
    "plot_importance(lgbm_wrapper, ax=ax)\n",
    "plt.savefig('lightgbm_feature_importance.tif', format='tif', dpi=300, bbox_inches='tight')"
   ]
  },
  {
   "cell_type": "code",
   "execution_count": 23,
   "metadata": {
    "colab": {
     "base_uri": "https://localhost:8080/",
     "height": 235
    },
    "id": "rfGsmT9APhlp",
    "outputId": "53d5fb1d-74ea-4218-edaf-e9c672ddf70c"
   },
   "outputs": [
    {
     "data": {
      "text/html": [
       "<div>\n",
       "<style scoped>\n",
       "    .dataframe tbody tr th:only-of-type {\n",
       "        vertical-align: middle;\n",
       "    }\n",
       "\n",
       "    .dataframe tbody tr th {\n",
       "        vertical-align: top;\n",
       "    }\n",
       "\n",
       "    .dataframe thead th {\n",
       "        text-align: right;\n",
       "    }\n",
       "</style>\n",
       "<table border=\"1\" class=\"dataframe\">\n",
       "  <thead>\n",
       "    <tr style=\"text-align: right;\">\n",
       "      <th></th>\n",
       "      <th>Time</th>\n",
       "      <th>V1</th>\n",
       "      <th>V2</th>\n",
       "      <th>V3</th>\n",
       "      <th>V4</th>\n",
       "      <th>V5</th>\n",
       "      <th>V6</th>\n",
       "      <th>V7</th>\n",
       "      <th>V8</th>\n",
       "      <th>V9</th>\n",
       "      <th>...</th>\n",
       "      <th>V21</th>\n",
       "      <th>V22</th>\n",
       "      <th>V23</th>\n",
       "      <th>V24</th>\n",
       "      <th>V25</th>\n",
       "      <th>V26</th>\n",
       "      <th>V27</th>\n",
       "      <th>V28</th>\n",
       "      <th>Amount</th>\n",
       "      <th>Class</th>\n",
       "    </tr>\n",
       "  </thead>\n",
       "  <tbody>\n",
       "    <tr>\n",
       "      <th>0</th>\n",
       "      <td>0.0</td>\n",
       "      <td>-1.359807</td>\n",
       "      <td>-0.072781</td>\n",
       "      <td>2.536347</td>\n",
       "      <td>1.378155</td>\n",
       "      <td>-0.338321</td>\n",
       "      <td>0.462388</td>\n",
       "      <td>0.239599</td>\n",
       "      <td>0.098698</td>\n",
       "      <td>0.363787</td>\n",
       "      <td>...</td>\n",
       "      <td>-0.018307</td>\n",
       "      <td>0.277838</td>\n",
       "      <td>-0.110474</td>\n",
       "      <td>0.066928</td>\n",
       "      <td>0.128539</td>\n",
       "      <td>-0.189115</td>\n",
       "      <td>0.133558</td>\n",
       "      <td>-0.021053</td>\n",
       "      <td>149.62</td>\n",
       "      <td>0</td>\n",
       "    </tr>\n",
       "    <tr>\n",
       "      <th>1</th>\n",
       "      <td>0.0</td>\n",
       "      <td>1.191857</td>\n",
       "      <td>0.266151</td>\n",
       "      <td>0.166480</td>\n",
       "      <td>0.448154</td>\n",
       "      <td>0.060018</td>\n",
       "      <td>-0.082361</td>\n",
       "      <td>-0.078803</td>\n",
       "      <td>0.085102</td>\n",
       "      <td>-0.255425</td>\n",
       "      <td>...</td>\n",
       "      <td>-0.225775</td>\n",
       "      <td>-0.638672</td>\n",
       "      <td>0.101288</td>\n",
       "      <td>-0.339846</td>\n",
       "      <td>0.167170</td>\n",
       "      <td>0.125895</td>\n",
       "      <td>-0.008983</td>\n",
       "      <td>0.014724</td>\n",
       "      <td>2.69</td>\n",
       "      <td>0</td>\n",
       "    </tr>\n",
       "    <tr>\n",
       "      <th>2</th>\n",
       "      <td>1.0</td>\n",
       "      <td>-1.358354</td>\n",
       "      <td>-1.340163</td>\n",
       "      <td>1.773209</td>\n",
       "      <td>0.379780</td>\n",
       "      <td>-0.503198</td>\n",
       "      <td>1.800499</td>\n",
       "      <td>0.791461</td>\n",
       "      <td>0.247676</td>\n",
       "      <td>-1.514654</td>\n",
       "      <td>...</td>\n",
       "      <td>0.247998</td>\n",
       "      <td>0.771679</td>\n",
       "      <td>0.909412</td>\n",
       "      <td>-0.689281</td>\n",
       "      <td>-0.327642</td>\n",
       "      <td>-0.139097</td>\n",
       "      <td>-0.055353</td>\n",
       "      <td>-0.059752</td>\n",
       "      <td>378.66</td>\n",
       "      <td>0</td>\n",
       "    </tr>\n",
       "  </tbody>\n",
       "</table>\n",
       "<p>3 rows × 31 columns</p>\n",
       "</div>"
      ],
      "text/plain": [
       "   Time        V1        V2        V3        V4        V5        V6        V7  \\\n",
       "0   0.0 -1.359807 -0.072781  2.536347  1.378155 -0.338321  0.462388  0.239599   \n",
       "1   0.0  1.191857  0.266151  0.166480  0.448154  0.060018 -0.082361 -0.078803   \n",
       "2   1.0 -1.358354 -1.340163  1.773209  0.379780 -0.503198  1.800499  0.791461   \n",
       "\n",
       "         V8        V9  ...       V21       V22       V23       V24       V25  \\\n",
       "0  0.098698  0.363787  ... -0.018307  0.277838 -0.110474  0.066928  0.128539   \n",
       "1  0.085102 -0.255425  ... -0.225775 -0.638672  0.101288 -0.339846  0.167170   \n",
       "2  0.247676 -1.514654  ...  0.247998  0.771679  0.909412 -0.689281 -0.327642   \n",
       "\n",
       "        V26       V27       V28  Amount  Class  \n",
       "0 -0.189115  0.133558 -0.021053  149.62      0  \n",
       "1  0.125895 -0.008983  0.014724    2.69      0  \n",
       "2 -0.139097 -0.055353 -0.059752  378.66      0  \n",
       "\n",
       "[3 rows x 31 columns]"
      ]
     },
     "execution_count": 23,
     "metadata": {},
     "output_type": "execute_result"
    }
   ],
   "source": [
    "import pandas as pd\n",
    "import numpy as np \n",
    "import matplotlib.pyplot as plt\n",
    "import warnings\n",
    "warnings.filterwarnings(\"ignore\")\n",
    "%matplotlib inline\n",
    "\n",
    "card_df = pd.read_csv('/Users/dohakim/Python_Workplace/creditcard.csv')\n",
    "card_df.head(3)\n"
   ]
  },
  {
   "cell_type": "code",
   "execution_count": 24,
   "metadata": {
    "id": "gbVfE6UlPht9"
   },
   "outputs": [],
   "source": [
    "from sklearn.model_selection import train_test_split\n",
    "\n",
    "# 인자로 입력받은 DataFrame을 복사 한 뒤 Time 컬럼만 삭제하고 복사된 DataFrame 반환\n",
    "def get_preprocessed_df(df=None):\n",
    "    df_copy = df.copy()\n",
    "    df_copy.drop('Time', axis=1, inplace=True)\n",
    "    return df_copy"
   ]
  },
  {
   "cell_type": "code",
   "execution_count": 25,
   "metadata": {
    "colab": {
     "base_uri": "https://localhost:8080/",
     "height": 358
    },
    "id": "oNua3PgLPhxT",
    "outputId": "0026eb92-dd97-48e7-e470-112c3ca9914f"
   },
   "outputs": [],
   "source": [
    "# 사전 데이터 가공 후 학습과 테스트 데이터 세트를 반환하는 함수\n",
    "def get_train_test_dataset(df=None):\n",
    "    df_copy = get_preprocessed_df(df)\n",
    "    # DataFrame의 맨 마지막 칼럼이 레이블, 나머지는 피처들\n",
    "    X_features = df_copy.iloc[:, :-1]\n",
    "    y_target = df_copy.iloc[:, -1]\n",
    "    # stratify = y_target 으로 stratified 기반 분할\n",
    "    X_train, X_test, y_train, y_test = train_test_split(X_features, y_target, test_size=0.3, random_state=0, stratify=y_target)\n",
    "    return X_train, X_test, y_train, y_test\n",
    "\n",
    "X_train, X_test, y_train, y_test = get_train_test_dataset(card_df)"
   ]
  },
  {
   "cell_type": "code",
   "execution_count": 26,
   "metadata": {
    "colab": {
     "base_uri": "https://localhost:8080/"
    },
    "id": "yiiNdM1VPh03",
    "outputId": "a054009f-da0d-47b3-c55b-b6770c1decb6"
   },
   "outputs": [
    {
     "name": "stdout",
     "output_type": "stream",
     "text": [
      "학습 데이터 레이블 값 비율\n",
      "0    99.827451\n",
      "1     0.172549\n",
      "Name: Class, dtype: float64\n",
      "테스트 데이터 레이블 값 비율\n",
      "0    99.826785\n",
      "1     0.173215\n",
      "Name: Class, dtype: float64\n"
     ]
    }
   ],
   "source": [
    "print('학습 데이터 레이블 값 비율')\n",
    "print(y_train.value_counts()/y_train.shape[0] * 100)\n",
    "print('테스트 데이터 레이블 값 비율')\n",
    "print(y_test.value_counts()/y_test.shape[0] * 100)"
   ]
  },
  {
   "cell_type": "code",
   "execution_count": 27,
   "metadata": {
    "colab": {
     "base_uri": "https://localhost:8080/"
    },
    "id": "2JtTkCzxPh4v",
    "outputId": "c6101e53-6f05-4018-da21-7ff47bd1e62e"
   },
   "outputs": [
    {
     "name": "stdout",
     "output_type": "stream",
     "text": [
      "오차 행렬\n",
      "[[85281    14]\n",
      " [   56    92]]\n",
      "정확도: 0.9992, 정밀도: 0.8679, 재현율: 0.6216,    F1: 0.7244, AUC:0.9632\n"
     ]
    }
   ],
   "source": [
    "from sklearn.linear_model import LogisticRegression\n",
    "\n",
    "lr_clf = LogisticRegression()\n",
    "lr_clf.fit(X_train, y_train)\n",
    "lr_pred = lr_clf.predict(X_test)\n",
    "lr_pred_proba = lr_clf.predict_proba(X_test)[:, 1]\n",
    "\n",
    "# 3장에서 사용한 get_clf_eval() 함수를 이용하여 평가 수행. \n",
    "get_clf_eval(y_test, lr_pred, lr_pred_proba)"
   ]
  },
  {
   "cell_type": "code",
   "execution_count": 28,
   "metadata": {
    "id": "_9Fs2D_3PHhh"
   },
   "outputs": [],
   "source": [
    "# 인자로 사이킷런의 Estimator객체와, 학습/테스트 데이터 세트를 입력 받아서 학습/예측/평가 수행.\n",
    "def get_model_train_eval(model, ftr_train=None, ftr_test=None, tgt_train=None, tgt_test=None):\n",
    "    model.fit(ftr_train, tgt_train)\n",
    "    pred = model.predict(ftr_test)\n",
    "    pred_proba = model.predict_proba(ftr_test)[:, 1]\n",
    "    get_clf_eval(tgt_test, pred, pred_proba)"
   ]
  },
  {
   "cell_type": "code",
   "execution_count": 29,
   "metadata": {},
   "outputs": [],
   "source": [
    "import lightgbm"
   ]
  },
  {
   "cell_type": "code",
   "execution_count": 30,
   "metadata": {
    "colab": {
     "base_uri": "https://localhost:8080/"
    },
    "id": "a-v3FOb0RXjv",
    "outputId": "eee2dd77-d9e9-465d-d4fe-95bfabdc17d2"
   },
   "outputs": [
    {
     "name": "stdout",
     "output_type": "stream",
     "text": [
      "오차 행렬\n",
      "[[85290     5]\n",
      " [   36   112]]\n",
      "정확도: 0.9995, 정밀도: 0.9573, 재현율: 0.7568,    F1: 0.8453, AUC:0.9790\n"
     ]
    }
   ],
   "source": [
    "from lightgbm import LGBMClassifier\n",
    "\n",
    "lgbm_clf = LGBMClassifier(n_estimators=1000, num_leaves=64, n_jobs=-1, boost_from_average=False)\n",
    "get_model_train_eval(lgbm_clf, ftr_train=X_train, ftr_test=X_test, tgt_train=y_train, tgt_test=y_test)"
   ]
  },
  {
   "cell_type": "code",
   "execution_count": 31,
   "metadata": {
    "colab": {
     "base_uri": "https://localhost:8080/",
     "height": 302
    },
    "id": "q8hvDyxoPHjt",
    "outputId": "a9f6e4a1-0435-4dd5-deda-0b5f9578b3a9"
   },
   "outputs": [
    {
     "data": {
      "image/png": "[encoded data removed]",
      "text/plain": [
       "<Figure size 576x288 with 1 Axes>"
      ]
     },
     "metadata": {
      "needs_background": "light"
     },
     "output_type": "display_data"
    }
   ],
   "source": [
    "import seaborn as sns\n",
    "\n",
    "plt.figure(figsize=(8, 4))\n",
    "plt.xticks(range(0, 30000, 1000), rotation=60)\n",
    "sns.histplot(card_df['Amount'], bins=100, kde=True)\n",
    "plt.show()"
   ]
  },
  {
   "cell_type": "code",
   "execution_count": 32,
   "metadata": {
    "id": "xVoZdnhKRbSP"
   },
   "outputs": [],
   "source": [
    "from sklearn.preprocessing import StandardScaler\n",
    "# 사이킷런의 StandardScaler를 이용하여 정규분포 형태로 Amount 피처값 변환하는 로직으로 수정. \n",
    "def get_preprocessed_df(df=None):\n",
    "    df_copy = df.copy()\n",
    "    scaler = StandardScaler()\n",
    "    amount_n = scaler.fit_transform(df_copy['Amount'].values.reshape(-1, 1))\n",
    "    # 변환된 Amount를 Amount_Scaled로 피처명 변경후 DataFrame맨 앞 컬럼으로 입력\n",
    "    df_copy.insert(0, 'Amount_Scaled', amount_n)\n",
    "    # 기존 Time, Amount 피처 삭제\n",
    "    df_copy.drop(['Time','Amount'], axis=1, inplace=True)\n",
    "    return df_copy"
   ]
  },
  {
   "cell_type": "code",
   "execution_count": 33,
   "metadata": {
    "colab": {
     "base_uri": "https://localhost:8080/",
     "height": 392
    },
    "id": "QaxNC_NpRdwV",
    "outputId": "c6e4f0cf-7bfa-40a3-9e54-ece4ac3586d7"
   },
   "outputs": [
    {
     "name": "stdout",
     "output_type": "stream",
     "text": [
      "### 로지스틱 회귀 예측 성능 ###\n",
      "오차 행렬\n",
      "[[85281    14]\n",
      " [   58    90]]\n",
      "정확도: 0.9992, 정밀도: 0.8654, 재현율: 0.6081,    F1: 0.7143, AUC:0.9702\n",
      "### LightGBM 예측 성능 ###\n",
      "오차 행렬\n",
      "[[85290     5]\n",
      " [   37   111]]\n",
      "정확도: 0.9995, 정밀도: 0.9569, 재현율: 0.7500,    F1: 0.8409, AUC:0.9779\n"
     ]
    }
   ],
   "source": [
    "# Amount를 정규분포 형태로 변환 후 로지스틱 회귀 및 LightGBM 수행. \n",
    "X_train, X_test, y_train, y_test = get_train_test_dataset(card_df)\n",
    "\n",
    "print('### 로지스틱 회귀 예측 성능 ###')\n",
    "lr_clf = LogisticRegression()\n",
    "get_model_train_eval(lr_clf, ftr_train=X_train, ftr_test=X_test, tgt_train=y_train, tgt_test=y_test)\n",
    "\n",
    "print('### LightGBM 예측 성능 ###')\n",
    "lgbm_clf = LGBMClassifier(n_estimators=1000, num_leaves=64, n_jobs=-1, boost_from_average=False)\n",
    "get_model_train_eval(lgbm_clf, ftr_train=X_train, ftr_test=X_test, tgt_train=y_train, tgt_test=y_test)"
   ]
  },
  {
   "cell_type": "code",
   "execution_count": 35,
   "metadata": {
    "id": "xToI9f0JRdzL"
   },
   "outputs": [],
   "source": [
    "def get_preprocessed_df(df=None):\n",
    "    df_copy = df.copy()\n",
    "    # 넘파이의 log1p( )를 이용하여 Amount를 로그 변환 \n",
    "    amount_n = np.log1p(df_copy['Amount'])\n",
    "    df_copy.insert(0, 'Amount_Scaled', amount_n)\n",
    "    df_copy.drop(['Time','Amount'], axis=1, inplace=True)\n",
    "    return df_copy"
   ]
  },
  {
   "cell_type": "code",
   "execution_count": 36,
   "metadata": {
    "colab": {
     "base_uri": "https://localhost:8080/",
     "height": 409
    },
    "id": "iyVBZBRKRd17",
    "outputId": "c733fe0d-0f72-47be-b1e8-d7c5b0040cf6"
   },
   "outputs": [
    {
     "name": "stdout",
     "output_type": "stream",
     "text": [
      "### 로지스틱 회귀 예측 성능 ###\n",
      "오차 행렬\n",
      "[[85283    12]\n",
      " [   59    89]]\n",
      "정확도: 0.9992, 정밀도: 0.8812, 재현율: 0.6014,    F1: 0.7149, AUC:0.9727\n",
      "### LightGBM 예측 성능 ###\n",
      "오차 행렬\n",
      "[[85290     5]\n",
      " [   35   113]]\n",
      "정확도: 0.9995, 정밀도: 0.9576, 재현율: 0.7635,    F1: 0.8496, AUC:0.9796\n"
     ]
    }
   ],
   "source": [
    "X_train, X_test, y_train, y_test = get_train_test_dataset(card_df)\n",
    "\n",
    "print('### 로지스틱 회귀 예측 성능 ###')\n",
    "get_model_train_eval(lr_clf, ftr_train=X_train, ftr_test=X_test, tgt_train=y_train, tgt_test=y_test)\n",
    "\n",
    "print('### LightGBM 예측 성능 ###')\n",
    "get_model_train_eval(lgbm_clf, ftr_train=X_train, ftr_test=X_test, tgt_train=y_train, tgt_test=y_test)"
   ]
  },
  {
   "cell_type": "code",
   "execution_count": 37,
   "metadata": {
    "colab": {
     "base_uri": "https://localhost:8080/",
     "height": 587
    },
    "id": "0CtVBcBORjIG",
    "outputId": "9899f50e-dd9a-4843-9248-3e243d8a8494"
   },
   "outputs": [
    {
     "data": {
      "text/plain": [
       "<AxesSubplot:>"
      ]
     },
     "execution_count": 37,
     "metadata": {},
     "output_type": "execute_result"
    },
    {
     "data": {
      "image/png": "[encoded data removed]",
      "text/plain": [
       "<Figure size 648x648 with 2 Axes>"
      ]
     },
     "metadata": {
      "needs_background": "light"
     },
     "output_type": "display_data"
    }
   ],
   "source": [
    "import seaborn as sns\n",
    "\n",
    "plt.figure(figsize=(9, 9))\n",
    "corr = card_df.corr()\n",
    "sns.heatmap(corr, cmap='RdBu')"
   ]
  },
  {
   "cell_type": "code",
   "execution_count": 39,
   "metadata": {
    "id": "283c40NkRjQi"
   },
   "outputs": [],
   "source": [
    "import numpy as np\n",
    "\n",
    "def get_outlier(df=None, column=None, weight=1.5):\n",
    "    # fraud에 해당하는 column 데이터만 추출, 1/4 분위와 3/4 분위 지점을 np.percentile로 구함. \n",
    "    fraud = df[df['Class']==1][column]\n",
    "    quantile_25 = np.percentile(fraud.values, 25)\n",
    "    quantile_75 = np.percentile(fraud.values, 75)\n",
    "    # IQR을 구하고, IQR에 1.5를 곱하여 최대값과 최소값 지점 구함. \n",
    "    iqr = quantile_75 - quantile_25\n",
    "    iqr_weight = iqr * weight\n",
    "    lowest_val = quantile_25 - iqr_weight\n",
    "    highest_val = quantile_75 + iqr_weight\n",
    "    # 최대값 보다 크거나, 최소값 보다 작은 값을 아웃라이어로 설정하고 DataFrame index 반환. \n",
    "    outlier_index = fraud[(fraud < lowest_val) | (fraud > highest_val)].index\n",
    "    return outlier_index\n",
    "    "
   ]
  },
  {
   "cell_type": "code",
   "execution_count": 40,
   "metadata": {
    "colab": {
     "base_uri": "https://localhost:8080/"
    },
    "id": "FryfoNnpRjTQ",
    "outputId": "de82cc77-12df-443d-adac-331c1a27b871"
   },
   "outputs": [
    {
     "name": "stdout",
     "output_type": "stream",
     "text": [
      "이상치 데이터 인덱스: Int64Index([8296, 8615, 9035, 9252], dtype='int64')\n"
     ]
    }
   ],
   "source": [
    "outlier_index = get_outlier(df=card_df, column='V14', weight=1.5)\n",
    "print('이상치 데이터 인덱스:', outlier_index)"
   ]
  },
  {
   "cell_type": "code",
   "execution_count": 41,
   "metadata": {
    "colab": {
     "base_uri": "https://localhost:8080/",
     "height": 409
    },
    "id": "yp1-r6hKRjX9",
    "outputId": "9d537e3f-92f7-4b19-c1b5-efa6ba131de8"
   },
   "outputs": [
    {
     "name": "stdout",
     "output_type": "stream",
     "text": [
      "### 로지스틱 회귀 예측 성능 ###\n",
      "오차 행렬\n",
      "[[85281    14]\n",
      " [   48    98]]\n",
      "정확도: 0.9993, 정밀도: 0.8750, 재현율: 0.6712,    F1: 0.7597, AUC:0.9743\n",
      "### LightGBM 예측 성능 ###\n",
      "오차 행렬\n",
      "[[85290     5]\n",
      " [   25   121]]\n",
      "정확도: 0.9996, 정밀도: 0.9603, 재현율: 0.8288,    F1: 0.8897, AUC:0.9780\n"
     ]
    }
   ],
   "source": [
    "# get_processed_df( )를 로그 변환 후 V14 피처의 이상치 데이터를 삭제하는 로직으로 변경. \n",
    "def get_preprocessed_df(df=None):\n",
    "    df_copy = df.copy()\n",
    "    amount_n = np.log1p(df_copy['Amount'])\n",
    "    df_copy.insert(0, 'Amount_Scaled', amount_n)\n",
    "    df_copy.drop(['Time','Amount'], axis=1, inplace=True)\n",
    "    # 이상치 데이터 삭제하는 로직 추가\n",
    "    outlier_index = get_outlier(df=df_copy, column='V14', weight=1.5)\n",
    "    df_copy.drop(outlier_index, axis=0, inplace=True)\n",
    "    return df_copy\n",
    "\n",
    "X_train, X_test, y_train, y_test = get_train_test_dataset(card_df)\n",
    "print('### 로지스틱 회귀 예측 성능 ###')\n",
    "get_model_train_eval(lr_clf, ftr_train=X_train, ftr_test=X_test, tgt_train=y_train, tgt_test=y_test)\n",
    "print('### LightGBM 예측 성능 ###')\n",
    "get_model_train_eval(lgbm_clf, ftr_train=X_train, ftr_test=X_test, tgt_train=y_train, tgt_test=y_test)"
   ]
  },
  {
   "cell_type": "code",
   "execution_count": 42,
   "metadata": {
    "colab": {
     "base_uri": "https://localhost:8080/"
    },
    "id": "2LUBQI-1RuM9",
    "outputId": "7edf0d65-1171-4a2e-b45f-23fb557cfdb8"
   },
   "outputs": [
    {
     "name": "stdout",
     "output_type": "stream",
     "text": [
      "SMOTE 적용 전 학습용 피처/레이블 데이터 세트:  (199362, 29) (199362,)\n",
      "SMOTE 적용 후 학습용 피처/레이블 데이터 세트:  (398040, 29) (398040,)\n",
      "SMOTE 적용 후 레이블 값 분포: \n",
      " 0    199020\n",
      "1    199020\n",
      "Name: Class, dtype: int64\n"
     ]
    }
   ],
   "source": [
    "from imblearn.over_sampling import SMOTE\n",
    "\n",
    "smote = SMOTE(random_state=0)\n",
    "X_train_over, y_train_over = smote.fit_resample(X_train, y_train)\n",
    "print('SMOTE 적용 전 학습용 피처/레이블 데이터 세트: ', X_train.shape, y_train.shape)\n",
    "print('SMOTE 적용 후 학습용 피처/레이블 데이터 세트: ', X_train_over.shape, y_train_over.shape)\n",
    "print('SMOTE 적용 후 레이블 값 분포: \\n', pd.Series(y_train_over).value_counts())"
   ]
  },
  {
   "cell_type": "code",
   "execution_count": 43,
   "metadata": {
    "colab": {
     "base_uri": "https://localhost:8080/"
    },
    "id": "DWLKI8LIRuQ3",
    "outputId": "56c7003b-61ea-438c-a1f3-0ed4fda7ad1a"
   },
   "outputs": [
    {
     "name": "stdout",
     "output_type": "stream",
     "text": [
      "오차 행렬\n",
      "[[82937  2358]\n",
      " [   11   135]]\n",
      "정확도: 0.9723, 정밀도: 0.0542, 재현율: 0.9247,    F1: 0.1023, AUC:0.9737\n"
     ]
    }
   ],
   "source": [
    "lr_clf = LogisticRegression()\n",
    "# ftr_train과 tgt_train 인자값이 SMOTE 증식된 X_train_over와 y_train_over로 변경됨에 유의\n",
    "get_model_train_eval(lr_clf, ftr_train=X_train_over, ftr_test=X_test, tgt_train=y_train_over, tgt_test=y_test)"
   ]
  },
  {
   "cell_type": "code",
   "execution_count": 48,
   "metadata": {
    "colab": {
     "base_uri": "https://localhost:8080/",
     "height": 164
    },
    "id": "XNDFuA-pRuT8",
    "outputId": "14871b88-7ebe-4380-a8d0-3e03fd6ce0f3"
   },
   "outputs": [
    {
     "data": {
      "image/png": "[encoded data removed]",
      "text/plain": [
       "<Figure size 576x432 with 1 Axes>"
      ]
     },
     "metadata": {
      "needs_background": "light"
     },
     "output_type": "display_data"
    },
    {
     "data": {
      "image/png": "[encoded data removed]",
      "text/plain": [
       "<Figure size 576x432 with 1 Axes>"
      ]
     },
     "metadata": {
      "needs_background": "light"
     },
     "output_type": "display_data"
    }
   ],
   "source": [
    "import matplotlib.pyplot as plt\n",
    "import matplotlib.ticker as ticker\n",
    "%matplotlib inline\n",
    "\n",
    "def precision_recall_curve_plot(y_test , pred_proba_c1):\n",
    "    # threshold ndarray와 이 threshold에 따른 정밀도, 재현율 ndarray 추출. \n",
    "    precisions, recalls, thresholds = precision_recall_curve( y_test, pred_proba_c1)\n",
    "    \n",
    "    # X축을 threshold값으로, Y축은 정밀도, 재현율 값으로 각각 Plot 수행. 정밀도는 점선으로 표시\n",
    "    plt.figure(figsize=(8,6))\n",
    "    threshold_boundary = thresholds.shape[0]\n",
    "    plt.plot(thresholds, precisions[0:threshold_boundary], linestyle='--', label='precision')\n",
    "    plt.plot(thresholds, recalls[0:threshold_boundary],label='recall')\n",
    "    \n",
    "    # threshold 값 X 축의 Scale을 0.1 단위로 변경\n",
    "    start, end = plt.xlim()\n",
    "    plt.xticks(np.round(np.arange(start, end, 0.1),2))\n",
    "    \n",
    "    # x축, y축 label과 legend, 그리고 grid 설정\n",
    "    plt.xlabel('Threshold value'); plt.ylabel('Precision and Recall value')\n",
    "    plt.legend(); plt.grid()\n",
    "    plt.show()\n",
    "    \n",
    "precision_recall_curve_plot( y_test, lr_clf.predict_proba(X_test)[:, 1] )\n",
    "precision_recall_curve_plot(y_test, lr_clf.predict_proba(X_test)[:, 1])"
   ]
  },
  {
   "cell_type": "code",
   "execution_count": 49,
   "metadata": {
    "colab": {
     "base_uri": "https://localhost:8080/"
    },
    "id": "5RTVVdG9RuWq",
    "outputId": "1b7743a7-a348-4541-eb8b-9dcef848c85f"
   },
   "outputs": [
    {
     "name": "stdout",
     "output_type": "stream",
     "text": [
      "오차 행렬\n",
      "[[85283    12]\n",
      " [   22   124]]\n",
      "정확도: 0.9996, 정밀도: 0.9118, 재현율: 0.8493,    F1: 0.8794, AUC:0.9814\n"
     ]
    }
   ],
   "source": [
    "lgbm_clf = LGBMClassifier(n_estimators=1000, num_leaves=64, n_jobs=-1, boost_from_average=False)\n",
    "get_model_train_eval(lgbm_clf, ftr_train=X_train_over, ftr_test=X_test,\n",
    "                  tgt_train=y_train_over, tgt_test=y_test)"
   ]
  },
  {
   "cell_type": "code",
   "execution_count": 50,
   "metadata": {
    "id": "ewpuoc4TRuZR"
   },
   "outputs": [],
   "source": [
    "import numpy as np\n",
    "\n",
    "from sklearn.neighbors import KNeighborsClassifier\n",
    "from sklearn.ensemble import RandomForestClassifier\n",
    "from sklearn.ensemble import AdaBoostClassifier\n",
    "from sklearn.tree import DecisionTreeClassifier\n",
    "from sklearn.linear_model import LogisticRegression\n",
    "\n",
    "from sklearn.datasets import load_breast_cancer\n",
    "from sklearn.model_selection import train_test_split\n",
    "from sklearn.metrics import accuracy_score\n",
    "\n",
    "cancer_data = load_breast_cancer()\n",
    "\n",
    "X_data = cancer_data.data\n",
    "y_label = cancer_data.target\n",
    "\n",
    "X_train , X_test , y_train , y_test = train_test_split(X_data , y_label , test_size=0.2 , random_state=0)"
   ]
  },
  {
   "cell_type": "code",
   "execution_count": 51,
   "metadata": {
    "id": "495P9uFFTABC"
   },
   "outputs": [],
   "source": [
    "# 개별 ML 모델을 위한 Classifier 생성.\n",
    "knn_clf  = KNeighborsClassifier(n_neighbors=4)\n",
    "rf_clf = RandomForestClassifier(n_estimators=100, random_state=0)\n",
    "dt_clf = DecisionTreeClassifier()\n",
    "ada_clf = AdaBoostClassifier(n_estimators=100)\n",
    "\n",
    "# 최종 Stacking 모델을 위한 Classifier생성. \n",
    "lr_final = LogisticRegression(C=10)"
   ]
  },
  {
   "cell_type": "code",
   "execution_count": 52,
   "metadata": {
    "colab": {
     "base_uri": "https://localhost:8080/"
    },
    "id": "Pxfm2-51TAEP",
    "outputId": "a8384a93-ea5d-44db-df6c-2cfb2a073427"
   },
   "outputs": [
    {
     "data": {
      "text/html": [
       "<style>#sk-container-id-1 {color: black;background-color: white;}#sk-container-id-1 pre{padding: 0;}#sk-container-id-1 div.sk-toggleable {background-color: white;}#sk-container-id-1 label.sk-toggleable__label {cursor: pointer;display: block;width: 100%;margin-bottom: 0;padding: 0.3em;box-sizing: border-box;text-align: center;}#sk-container-id-1 label.sk-toggleable__label-arrow:before {content: \"▸\";float: left;margin-right: 0.25em;color: #696969;}#sk-container-id-1 label.sk-toggleable__label-arrow:hover:before {color: black;}#sk-container-id-1 div.sk-estimator:hover label.sk-toggleable__label-arrow:before {color: black;}#sk-container-id-1 div.sk-toggleable__content {max-height: 0;max-width: 0;overflow: hidden;text-align: left;background-color: #f0f8ff;}#sk-container-id-1 div.sk-toggleable__content pre {margin: 0.2em;color: black;border-radius: 0.25em;background-color: #f0f8ff;}#sk-container-id-1 input.sk-toggleable__control:checked~div.sk-toggleable__content {max-height: 200px;max-width: 100%;overflow: auto;}#sk-container-id-1 input.sk-toggleable__control:checked~label.sk-toggleable__label-arrow:before {content: \"▾\";}#sk-container-id-1 div.sk-estimator input.sk-toggleable__control:checked~label.sk-toggleable__label {background-color: #d4ebff;}#sk-container-id-1 div.sk-label input.sk-toggleable__control:checked~label.sk-toggleable__label {background-color: #d4ebff;}#sk-container-id-1 input.sk-hidden--visually {border: 0;clip: rect(1px 1px 1px 1px);clip: rect(1px, 1px, 1px, 1px);height: 1px;margin: -1px;overflow: hidden;padding: 0;position: absolute;width: 1px;}#sk-container-id-1 div.sk-estimator {font-family: monospace;background-color: #f0f8ff;border: 1px dotted black;border-radius: 0.25em;box-sizing: border-box;margin-bottom: 0.5em;}#sk-container-id-1 div.sk-estimator:hover {background-color: #d4ebff;}#sk-container-id-1 div.sk-parallel-item::after {content: \"\";width: 100%;border-bottom: 1px solid gray;flex-grow: 1;}#sk-container-id-1 div.sk-label:hover label.sk-toggleable__label {background-color: #d4ebff;}#sk-container-id-1 div.sk-serial::before {content: \"\";position: absolute;border-left: 1px solid gray;box-sizing: border-box;top: 0;bottom: 0;left: 50%;z-index: 0;}#sk-container-id-1 div.sk-serial {display: flex;flex-direction: column;align-items: center;background-color: white;padding-right: 0.2em;padding-left: 0.2em;position: relative;}#sk-container-id-1 div.sk-item {position: relative;z-index: 1;}#sk-container-id-1 div.sk-parallel {display: flex;align-items: stretch;justify-content: center;background-color: white;position: relative;}#sk-container-id-1 div.sk-item::before, #sk-container-id-1 div.sk-parallel-item::before {content: \"\";position: absolute;border-left: 1px solid gray;box-sizing: border-box;top: 0;bottom: 0;left: 50%;z-index: -1;}#sk-container-id-1 div.sk-parallel-item {display: flex;flex-direction: column;z-index: 1;position: relative;background-color: white;}#sk-container-id-1 div.sk-parallel-item:first-child::after {align-self: flex-end;width: 50%;}#sk-container-id-1 div.sk-parallel-item:last-child::after {align-self: flex-start;width: 50%;}#sk-container-id-1 div.sk-parallel-item:only-child::after {width: 0;}#sk-container-id-1 div.sk-dashed-wrapped {border: 1px dashed gray;margin: 0 0.4em 0.5em 0.4em;box-sizing: border-box;padding-bottom: 0.4em;background-color: white;}#sk-container-id-1 div.sk-label label {font-family: monospace;font-weight: bold;display: inline-block;line-height: 1.2em;}#sk-container-id-1 div.sk-label-container {text-align: center;}#sk-container-id-1 div.sk-container {/* jupyter's `normalize.less` sets `[hidden] { display: none; }` but bootstrap.min.css set `[hidden] { display: none !important; }` so we also need the `!important` here to be able to override the default hidden behavior on the sphinx rendered scikit-learn.org. See: https://github.com/scikit-learn/scikit-learn/issues/21755 */display: inline-block !important;position: relative;}#sk-container-id-1 div.sk-text-repr-fallback {display: none;}</style><div id=\"sk-container-id-1\" class=\"sk-top-container\"><div class=\"sk-text-repr-fallback\"><pre>AdaBoostClassifier(n_estimators=100)</pre><b>In a Jupyter environment, please rerun this cell to show the HTML representation or trust the notebook. <br />On GitHub, the HTML representation is unable to render, please try loading this page with nbviewer.org.</b></div><div class=\"sk-container\" hidden><div class=\"sk-item\"><div class=\"sk-estimator sk-toggleable\"><input class=\"sk-toggleable__control sk-hidden--visually\" id=\"sk-estimator-id-1\" type=\"checkbox\" checked><label for=\"sk-estimator-id-1\" class=\"sk-toggleable__label sk-toggleable__label-arrow\">AdaBoostClassifier</label><div class=\"sk-toggleable__content\"><pre>AdaBoostClassifier(n_estimators=100)</pre></div></div></div></div></div>"
      ],
      "text/plain": [
       "AdaBoostClassifier(n_estimators=100)"
      ]
     },
     "execution_count": 52,
     "metadata": {},
     "output_type": "execute_result"
    }
   ],
   "source": [
    "# 개별 모델들을 학습. \n",
    "knn_clf.fit(X_train, y_train)\n",
    "rf_clf.fit(X_train , y_train)\n",
    "dt_clf.fit(X_train , y_train)\n",
    "ada_clf.fit(X_train, y_train)"
   ]
  },
  {
   "cell_type": "code",
   "execution_count": 53,
   "metadata": {
    "id": "HS1DQyPZTAHn"
   },
   "outputs": [
    {
     "name": "stdout",
     "output_type": "stream",
     "text": [
      "KNN 정확도: 0.9211\n",
      "랜덤 포레스트 정확도: 0.9649\n",
      "결정 트리 정확도: 0.9035\n",
      "에이다부스트 정확도: 0.9561 :\n"
     ]
    }
   ],
   "source": [
    "# 학습된 개별 모델들이 각자 반환하는 예측 데이터 셋을 생성하고 개별 모델의 정확도 측정. \n",
    "knn_pred = knn_clf.predict(X_test)\n",
    "rf_pred = rf_clf.predict(X_test)\n",
    "dt_pred = dt_clf.predict(X_test)\n",
    "ada_pred = ada_clf.predict(X_test)\n",
    "\n",
    "print('KNN 정확도: {0:.4f}'.format(accuracy_score(y_test, knn_pred)))\n",
    "print('랜덤 포레스트 정확도: {0:.4f}'.format(accuracy_score(y_test, rf_pred)))\n",
    "print('결정 트리 정확도: {0:.4f}'.format(accuracy_score(y_test, dt_pred)))\n",
    "print('에이다부스트 정확도: {0:.4f} :'.format(accuracy_score(y_test, ada_pred)))"
   ]
  },
  {
   "cell_type": "code",
   "execution_count": 54,
   "metadata": {
    "id": "PYb43DLjTAKX"
   },
   "outputs": [
    {
     "name": "stdout",
     "output_type": "stream",
     "text": [
      "(4, 114)\n",
      "(114, 4)\n"
     ]
    }
   ],
   "source": [
    "pred = np.array([knn_pred, rf_pred, dt_pred, ada_pred])\n",
    "print(pred.shape)\n",
    "\n",
    "# transpose를 이용해 행과 열의 위치 교환. 컬럼 레벨로 각 알고리즘의 예측 결과를 피처로 만듦. \n",
    "pred = np.transpose(pred)\n",
    "print(pred.shape)"
   ]
  },
  {
   "cell_type": "code",
   "execution_count": 55,
   "metadata": {
    "id": "jiKN727hTGgn"
   },
   "outputs": [
    {
     "name": "stdout",
     "output_type": "stream",
     "text": [
      "최종 메타 모델의 예측 정확도: 0.9737\n"
     ]
    }
   ],
   "source": [
    "lr_final.fit(pred, y_test)\n",
    "final = lr_final.predict(pred)\n",
    "\n",
    "print('최종 메타 모델의 예측 정확도: {0:.4f}'.format(accuracy_score(y_test , final)))"
   ]
  },
  {
   "cell_type": "code",
   "execution_count": 56,
   "metadata": {
    "id": "wphi7K6PTGi1"
   },
   "outputs": [],
   "source": [
    "from sklearn.model_selection import KFold\n",
    "from sklearn.metrics import mean_absolute_error\n",
    "\n",
    "# 개별 기반 모델에서 최종 메타 모델이 사용할 학습 및 테스트용 데이터를 생성하기 위한 함수. \n",
    "def get_stacking_base_datasets(model, X_train_n, y_train_n, X_test_n, n_folds ):\n",
    "    # 지정된 n_folds값으로 KFold 생성.\n",
    "    kf = KFold(n_splits=n_folds, shuffle=False)\n",
    "    #추후에 메타 모델이 사용할 학습 데이터 반환을 위한 넘파이 배열 초기화 \n",
    "    train_fold_pred = np.zeros((X_train_n.shape[0] ,1 ))\n",
    "    test_pred = np.zeros((X_test_n.shape[0],n_folds))\n",
    "    print(model.__class__.__name__ , ' model 시작 ')\n",
    "    \n",
    "    for folder_counter , (train_index, valid_index) in enumerate(kf.split(X_train_n)):\n",
    "        #입력된 학습 데이터에서 기반 모델이 학습/예측할 폴드 데이터 셋 추출 \n",
    "        print('\\t 폴드 세트: ',folder_counter,' 시작 ')\n",
    "        X_tr = X_train_n[train_index] \n",
    "        y_tr = y_train_n[train_index] \n",
    "        X_te = X_train_n[valid_index]  \n",
    "        \n",
    "        #폴드 세트 내부에서 다시 만들어진 학습 데이터로 기반 모델의 학습 수행.\n",
    "        model.fit(X_tr , y_tr)       \n",
    "        #폴드 세트 내부에서 다시 만들어진 검증 데이터로 기반 모델 예측 후 데이터 저장.\n",
    "        train_fold_pred[valid_index, :] = model.predict(X_te).reshape(-1,1)\n",
    "        #입력된 원본 테스트 데이터를 폴드 세트내 학습된 기반 모델에서 예측 후 데이터 저장. \n",
    "        test_pred[:, folder_counter] = model.predict(X_test_n)\n",
    "            \n",
    "    # 폴드 세트 내에서 원본 테스트 데이터를 예측한 데이터를 평균하여 테스트 데이터로 생성 \n",
    "    test_pred_mean = np.mean(test_pred, axis=1).reshape(-1,1)    \n",
    "    \n",
    "    #train_fold_pred는 최종 메타 모델이 사용하는 학습 데이터, test_pred_mean은 테스트 데이터\n",
    "    return train_fold_pred , test_pred_mean"
   ]
  },
  {
   "cell_type": "code",
   "execution_count": 57,
   "metadata": {
    "id": "Ku6ZoqU7TLDf"
   },
   "outputs": [
    {
     "name": "stdout",
     "output_type": "stream",
     "text": [
      "KNeighborsClassifier  model 시작 \n",
      "\t 폴드 세트:  0  시작 \n",
      "\t 폴드 세트:  1  시작 \n",
      "\t 폴드 세트:  2  시작 \n",
      "\t 폴드 세트:  3  시작 \n",
      "\t 폴드 세트:  4  시작 \n",
      "\t 폴드 세트:  5  시작 \n",
      "\t 폴드 세트:  6  시작 \n",
      "RandomForestClassifier  model 시작 \n",
      "\t 폴드 세트:  0  시작 \n",
      "\t 폴드 세트:  1  시작 \n",
      "\t 폴드 세트:  2  시작 \n",
      "\t 폴드 세트:  3  시작 \n",
      "\t 폴드 세트:  4  시작 \n",
      "\t 폴드 세트:  5  시작 \n",
      "\t 폴드 세트:  6  시작 \n",
      "DecisionTreeClassifier  model 시작 \n",
      "\t 폴드 세트:  0  시작 \n",
      "\t 폴드 세트:  1  시작 \n",
      "\t 폴드 세트:  2  시작 \n",
      "\t 폴드 세트:  3  시작 \n",
      "\t 폴드 세트:  4  시작 \n",
      "\t 폴드 세트:  5  시작 \n",
      "\t 폴드 세트:  6  시작 \n",
      "AdaBoostClassifier  model 시작 \n",
      "\t 폴드 세트:  0  시작 \n",
      "\t 폴드 세트:  1  시작 \n",
      "\t 폴드 세트:  2  시작 \n",
      "\t 폴드 세트:  3  시작 \n",
      "\t 폴드 세트:  4  시작 \n",
      "\t 폴드 세트:  5  시작 \n",
      "\t 폴드 세트:  6  시작 \n"
     ]
    }
   ],
   "source": [
    "knn_train, knn_test = get_stacking_base_datasets(knn_clf, X_train, y_train, X_test, 7)\n",
    "rf_train, rf_test = get_stacking_base_datasets(rf_clf, X_train, y_train, X_test, 7)\n",
    "dt_train, dt_test = get_stacking_base_datasets(dt_clf, X_train, y_train, X_test,  7)    \n",
    "ada_train, ada_test = get_stacking_base_datasets(ada_clf, X_train, y_train, X_test, 7)"
   ]
  },
  {
   "cell_type": "code",
   "execution_count": 58,
   "metadata": {
    "id": "2MeaXvTuTGlC"
   },
   "outputs": [
    {
     "name": "stdout",
     "output_type": "stream",
     "text": [
      "원본 학습 피처 데이터 Shape: (455, 30) 원본 테스트 피처 Shape: (114, 30)\n",
      "스태킹 학습 피처 데이터 Shape: (455, 4) 스태킹 테스트 피처 데이터 Shape: (114, 4)\n"
     ]
    }
   ],
   "source": [
    "Stack_final_X_train = np.concatenate((knn_train, rf_train, dt_train, ada_train), axis=1)\n",
    "Stack_final_X_test = np.concatenate((knn_test, rf_test, dt_test, ada_test), axis=1)\n",
    "print('원본 학습 피처 데이터 Shape:',X_train.shape, '원본 테스트 피처 Shape:',X_test.shape)\n",
    "print('스태킹 학습 피처 데이터 Shape:', Stack_final_X_train.shape,\n",
    "      '스태킹 테스트 피처 데이터 Shape:',Stack_final_X_test.shape)"
   ]
  },
  {
   "cell_type": "code",
   "execution_count": 59,
   "metadata": {
    "id": "nCt78NSdTGnR"
   },
   "outputs": [
    {
     "name": "stdout",
     "output_type": "stream",
     "text": [
      "최종 메타 모델의 예측 정확도: 0.9737\n"
     ]
    }
   ],
   "source": [
    "lr_final.fit(Stack_final_X_train, y_train)\n",
    "stack_final = lr_final.predict(Stack_final_X_test)\n",
    "\n",
    "print('최종 메타 모델의 예측 정확도: {0:.4f}'.format(accuracy_score(y_test, stack_final)))"
   ]
  },
  {
   "cell_type": "code",
   "execution_count": null,
   "metadata": {},
   "outputs": [],
   "source": []
  }
 ],
 "metadata": {
  "colab": {
   "provenance": []
  },
  "kernelspec": {
   "display_name": "Python 3 (ipykernel)",
   "language": "python",
   "name": "python3"
  },
  "language_info": {
   "codemirror_mode": {
    "name": "ipython",
    "version": 3
   },
   "file_extension": ".py",
   "mimetype": "text/x-python",
   "name": "python",
   "nbconvert_exporter": "python",
   "pygments_lexer": "ipython3",
   "version": "3.9.12"
  },
  "vscode": {
   "interpreter": {
    "hash": "aee8b7b246df8f9039afb4144a1f6fd8d2ca17a180786b69acc140d282b71a49"
   }
  }
 },
 "nbformat": 4,
 "nbformat_minor": 1
}
