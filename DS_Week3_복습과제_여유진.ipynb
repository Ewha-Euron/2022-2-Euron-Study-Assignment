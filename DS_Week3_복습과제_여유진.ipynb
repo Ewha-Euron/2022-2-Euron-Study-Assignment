{
 "cells": [
  {
   "cell_type": "markdown",
   "id": "6f12edaf",
   "metadata": {
    "id": "6f12edaf"
   },
   "source": [
    "##  Week3 복습과제\n",
    "### \n",
    "#### 데이터셋(train)을 다운 받아주세요"
   ]
  },
  {
   "cell_type": "code",
   "execution_count": 5,
   "id": "6719779b",
   "metadata": {
    "id": "6719779b"
   },
   "outputs": [],
   "source": [
    "import pandas as pd\n",
    "import numpy as np\n",
    "import matplotlib.pyplot as plt\n",
    "import seaborn as sns\n",
    "import warnings\n",
    "warnings.filterwarnings('ignore')"
   ]
  },
  {
   "cell_type": "markdown",
   "id": "47bb9a03",
   "metadata": {
    "id": "47bb9a03"
   },
   "source": [
    "#### 'train.csv'을 train_df에 저장하시오"
   ]
  },
  {
   "cell_type": "code",
   "execution_count": 6,
   "id": "979db9e6",
   "metadata": {
    "id": "979db9e6"
   },
   "outputs": [],
   "source": [
    "# 답\n",
    "train_df = pd.read_csv(r'C:\\temp\\train_b.csv')"
   ]
  },
  {
   "cell_type": "markdown",
   "id": "b4042f5e",
   "metadata": {
    "id": "b4042f5e"
   },
   "source": [
    "#### 데이터 보정을 위해 다음 코드를 실행시켜 주세요."
   ]
  },
  {
   "cell_type": "code",
   "execution_count": 7,
   "id": "d824c2ee",
   "metadata": {
    "id": "d824c2ee"
   },
   "outputs": [],
   "source": [
    "# id 제외\n",
    "\n",
    "train_df = train_df.drop(\"id\", axis = 1)"
   ]
  },
  {
   "cell_type": "code",
   "execution_count": 8,
   "id": "7b5fb807",
   "metadata": {
    "colab": {
     "base_uri": "https://localhost:8080/",
     "height": 206
    },
    "id": "7b5fb807",
    "outputId": "feb638bf-729b-4267-c839-d78eff53f5b0"
   },
   "outputs": [
    {
     "data": {
      "text/html": [
       "<div>\n",
       "<style scoped>\n",
       "    .dataframe tbody tr th:only-of-type {\n",
       "        vertical-align: middle;\n",
       "    }\n",
       "\n",
       "    .dataframe tbody tr th {\n",
       "        vertical-align: top;\n",
       "    }\n",
       "\n",
       "    .dataframe thead th {\n",
       "        text-align: right;\n",
       "    }\n",
       "</style>\n",
       "<table border=\"1\" class=\"dataframe\">\n",
       "  <thead>\n",
       "    <tr style=\"text-align: right;\">\n",
       "      <th></th>\n",
       "      <th>bone_length</th>\n",
       "      <th>rotting_flesh</th>\n",
       "      <th>hair_length</th>\n",
       "      <th>has_soul</th>\n",
       "      <th>color</th>\n",
       "      <th>type</th>\n",
       "    </tr>\n",
       "  </thead>\n",
       "  <tbody>\n",
       "    <tr>\n",
       "      <th>0</th>\n",
       "      <td>0.354512</td>\n",
       "      <td>0.350839</td>\n",
       "      <td>0.465761</td>\n",
       "      <td>0.781142</td>\n",
       "      <td>3</td>\n",
       "      <td>1</td>\n",
       "    </tr>\n",
       "    <tr>\n",
       "      <th>1</th>\n",
       "      <td>0.575560</td>\n",
       "      <td>0.425868</td>\n",
       "      <td>0.531401</td>\n",
       "      <td>0.439899</td>\n",
       "      <td>4</td>\n",
       "      <td>2</td>\n",
       "    </tr>\n",
       "    <tr>\n",
       "      <th>2</th>\n",
       "      <td>0.467875</td>\n",
       "      <td>0.354330</td>\n",
       "      <td>0.811616</td>\n",
       "      <td>0.791225</td>\n",
       "      <td>0</td>\n",
       "      <td>1</td>\n",
       "    </tr>\n",
       "    <tr>\n",
       "      <th>3</th>\n",
       "      <td>0.776652</td>\n",
       "      <td>0.508723</td>\n",
       "      <td>0.636766</td>\n",
       "      <td>0.884464</td>\n",
       "      <td>0</td>\n",
       "      <td>1</td>\n",
       "    </tr>\n",
       "    <tr>\n",
       "      <th>4</th>\n",
       "      <td>0.566117</td>\n",
       "      <td>0.875862</td>\n",
       "      <td>0.418594</td>\n",
       "      <td>0.636438</td>\n",
       "      <td>4</td>\n",
       "      <td>0</td>\n",
       "    </tr>\n",
       "  </tbody>\n",
       "</table>\n",
       "</div>"
      ],
      "text/plain": [
       "   bone_length  rotting_flesh  hair_length  has_soul  color  type\n",
       "0     0.354512       0.350839     0.465761  0.781142      3     1\n",
       "1     0.575560       0.425868     0.531401  0.439899      4     2\n",
       "2     0.467875       0.354330     0.811616  0.791225      0     1\n",
       "3     0.776652       0.508723     0.636766  0.884464      0     1\n",
       "4     0.566117       0.875862     0.418594  0.636438      4     0"
      ]
     },
     "execution_count": 8,
     "metadata": {},
     "output_type": "execute_result"
    }
   ],
   "source": [
    "# color, type encoding \n",
    "from sklearn.preprocessing import LabelEncoder\n",
    "import warnings\n",
    "warnings.filterwarnings('ignore')\n",
    "\n",
    "encoder= LabelEncoder()\n",
    "\n",
    "train_df['color'] = encoder.fit_transform(train_df['color'])\n",
    "train_df['type'] = encoder.fit_transform(train_df['type'])\n",
    "\n",
    "train_df.head()"
   ]
  },
  {
   "cell_type": "markdown",
   "id": "dffe9164",
   "metadata": {
    "id": "dffe9164"
   },
   "source": [
    "#### 독립변수(X)와 종속변수(y)로 분리해주세요(iloc 또는 loc 활용) 그리고 확인해주세요 이때 target은 type입니다\n",
    "#### X와 y를 X_train, X_test, y_train, y_test으로 나누시오. (test_size=0.2, random_state=12) "
   ]
  },
  {
   "cell_type": "code",
   "execution_count": 9,
   "id": "45f85e74",
   "metadata": {
    "id": "45f85e74"
   },
   "outputs": [],
   "source": [
    "import xgboost as xgb\n",
    "from xgboost import plot_importance\n",
    "from xgboost import XGBClassifier\n",
    "import pandas as pd\n",
    "import numpy as np\n",
    "from sklearn.datasets import load_breast_cancer\n",
    "from sklearn.model_selection import train_test_split\n",
    "import warnings\n",
    "warnings.filterwarnings('ignore')"
   ]
  },
  {
   "cell_type": "code",
   "execution_count": 10,
   "id": "94f2a85c",
   "metadata": {
    "id": "94f2a85c"
   },
   "outputs": [],
   "source": [
    "# 답\n",
    "\n",
    "X = train_df.iloc[:,:-1]\n",
    "y = train_df.iloc[:,-1]\n",
    "\n",
    "X_train, X_test, y_train, y_test = train_test_split(X, y, test_size=0.2, random_state=12)"
   ]
  },
  {
   "cell_type": "markdown",
   "id": "RRRzgi_KhGDC",
   "metadata": {
    "id": "RRRzgi_KhGDC"
   },
   "source": [
    "#### Gradient Boost를 활용하여 train 세트를 fit 한 후 test 세트로 예측의 정확도를 출력하시오. (random_state=0,n_estimators=50,learning_rate=0.5)"
   ]
  },
  {
   "cell_type": "code",
   "execution_count": 11,
   "id": "TuVNcAjcjA7Q",
   "metadata": {
    "id": "TuVNcAjcjA7Q"
   },
   "outputs": [],
   "source": [
    "from sklearn.ensemble import GradientBoostingClassifier\n",
    "import time\n",
    "import warnings\n",
    "warnings.filterwarnings('ignore')\n",
    "from sklearn.metrics import confusion_matrix, accuracy_score"
   ]
  },
  {
   "cell_type": "code",
   "execution_count": 12,
   "id": "8VTDxjs2jJci",
   "metadata": {
    "colab": {
     "base_uri": "https://localhost:8080/"
    },
    "id": "8VTDxjs2jJci",
    "outputId": "f0d3531f-bbfa-4264-aed6-fcf62d52df0d"
   },
   "outputs": [
    {
     "name": "stdout",
     "output_type": "stream",
     "text": [
      "GBM 정확도:0.706667\n"
     ]
    }
   ],
   "source": [
    "#답\n",
    "\n",
    "gb_clf = GradientBoostingClassifier(random_state=0,n_estimators=50,learning_rate=0.5)\n",
    "gb_clf.fit(X_train,y_train)\n",
    "gb_pred = gb_clf.predict(X_test)\n",
    "gb_accuracy = accuracy_score(y_test,gb_pred)\n",
    "\n",
    "print('GBM 정확도:{0:.6f}'.format(gb_accuracy))"
   ]
  },
  {
   "cell_type": "markdown",
   "id": "X_QHAUT2jDWw",
   "metadata": {
    "id": "X_QHAUT2jDWw"
   },
   "source": [
    "### GBM 하이퍼 파라미터 튜닝을 한 후, 최적의 하이퍼 파라미터를 구하고 정확도를 출력하시오. 위의 값과 정확도를 비교하시오. 이때 n_estimators는 50,100,500, learning_rate는 0.005, 0.1, 0.5,1,10 을 변수로 넣으시오.(gridsearchCV이용,cv=2,verbose=1)"
   ]
  },
  {
   "cell_type": "code",
   "execution_count": 13,
   "id": "KCHBmiBijHOV",
   "metadata": {
    "colab": {
     "base_uri": "https://localhost:8080/"
    },
    "id": "KCHBmiBijHOV",
    "outputId": "d912cbe5-7e0d-4fd7-be17-d9b28e74c994"
   },
   "outputs": [
    {
     "name": "stdout",
     "output_type": "stream",
     "text": [
      "Fitting 2 folds for each of 15 candidates, totalling 30 fits\n",
      "최적의 하이퍼 파라미터:\n",
      " {'learning_rate': 0.1, 'n_estimators': 100}\n"
     ]
    }
   ],
   "source": [
    "# 답\n",
    "from sklearn.model_selection import GridSearchCV\n",
    "\n",
    "params = {\n",
    "    'n_estimators':[50,100,500],\n",
    "    'learning_rate' : [0.05,0.1,0.5,1,10]\n",
    "}\n",
    "\n",
    "grid_cv = GridSearchCV(gb_clf,param_grid=params,cv=2,verbose=1)\n",
    "grid_cv.fit(X_train,y_train)\n",
    "print('최적의 하이퍼 파라미터:\\n',grid_cv.best_params_)"
   ]
  },
  {
   "cell_type": "code",
   "execution_count": 14,
   "id": "cmHrIHbrmrxF",
   "metadata": {
    "colab": {
     "base_uri": "https://localhost:8080/"
    },
    "id": "cmHrIHbrmrxF",
    "outputId": "a9e9769c-3bb9-4d4a-821b-dadfdc00f53f"
   },
   "outputs": [
    {
     "name": "stdout",
     "output_type": "stream",
     "text": [
      "GBM정확도:0.733333\n"
     ]
    }
   ],
   "source": [
    "gb_pred = grid_cv.best_estimator_.predict(X_test)\n",
    "gb_accuracy = accuracy_score(y_test,gb_pred)\n",
    "print('GBM정확도:{0:.6f}'.format(gb_accuracy))"
   ]
  },
  {
   "cell_type": "markdown",
   "id": "Dz1VdpxCnyb0",
   "metadata": {
    "id": "Dz1VdpxCnyb0"
   },
   "source": [
    "정확도가 0.70 -> 0.73 으로 파라미터 최적화 후 상승함을 볼 수 있다"
   ]
  },
  {
   "cell_type": "markdown",
   "id": "e4f87798",
   "metadata": {
    "id": "e4f87798"
   },
   "source": [
    "### 사이킷런 래퍼 클래스 XGBoost를 사용해 train 세트를 fit 한 후 test 세트로 예측의 정확도를 출력하시오. (n_estimators=400, learning_rate = 0.1, max_depth = 3)"
   ]
  },
  {
   "cell_type": "code",
   "execution_count": 15,
   "id": "31188f82",
   "metadata": {
    "id": "31188f82"
   },
   "outputs": [],
   "source": [
    "import xgboost as xgb\n",
    "from xgboost import plot_importance\n",
    "from xgboost import XGBClassifier\n",
    "import pandas as pd\n",
    "import numpy as np\n",
    "from sklearn.datasets import load_breast_cancer\n",
    "from sklearn.model_selection import train_test_split\n",
    "import warnings\n",
    "from sklearn.metrics import confusion_matrix, accuracy_score\n",
    "from sklearn.metrics import precision_score, recall_score\n",
    "from sklearn.metrics import f1_score, roc_auc_score\n",
    "warnings.filterwarnings('ignore')"
   ]
  },
  {
   "cell_type": "code",
   "execution_count": 16,
   "id": "af980052",
   "metadata": {
    "colab": {
     "base_uri": "https://localhost:8080/"
    },
    "id": "af980052",
    "outputId": "91843d9e-39b1-456a-ea25-2a9b3be5d6c3"
   },
   "outputs": [
    {
     "name": "stdout",
     "output_type": "stream",
     "text": [
      "0.68\n"
     ]
    }
   ],
   "source": [
    "# 답\n",
    "\n",
    "xgb_wrapper = XGBClassifier(n_estimators=400,\n",
    "                            max_depth=3,\n",
    "                            learning_rate=0.1)\n",
    "xgb_wrapper.fit(X_train, y_train)\n",
    "pred = xgb_wrapper.predict(X_test)\n",
    "\n",
    "print(accuracy_score(y_test, pred))"
   ]
  },
  {
   "cell_type": "markdown",
   "id": "8cbca7f7",
   "metadata": {
    "id": "8cbca7f7"
   },
   "source": [
    "### 사이킷런 래퍼 클래스 LightGBM를 사용해 train 세트를 fit 한 후 test 세트로 예측의 정확도를 출력하시오. \n",
    "#### n_estimators=400\n",
    "#### 조기 중단 파라미터: early_stopping_rounds=100, eval_metric=\"logloss\",  eval_set=evals "
   ]
  },
  {
   "cell_type": "code",
   "execution_count": 17,
   "id": "b0debb5b",
   "metadata": {
    "id": "b0debb5b"
   },
   "outputs": [],
   "source": [
    "import lightgbm\n",
    "from lightgbm import LGBMClassifier\n",
    "\n",
    "evals = [(X_test, y_test)]"
   ]
  },
  {
   "cell_type": "code",
   "execution_count": 18,
   "id": "f2fa6d77",
   "metadata": {
    "colab": {
     "base_uri": "https://localhost:8080/"
    },
    "id": "f2fa6d77",
    "outputId": "6c07c29e-a708-41c1-b69d-ecd705bcdf8b"
   },
   "outputs": [
    {
     "name": "stdout",
     "output_type": "stream",
     "text": [
      "[1]\tvalid_0's multi_logloss: 1.04658\n",
      "[2]\tvalid_0's multi_logloss: 0.991864\n",
      "[3]\tvalid_0's multi_logloss: 0.961098\n",
      "[4]\tvalid_0's multi_logloss: 0.922715\n",
      "[5]\tvalid_0's multi_logloss: 0.889621\n",
      "[6]\tvalid_0's multi_logloss: 0.860335\n",
      "[7]\tvalid_0's multi_logloss: 0.838603\n",
      "[8]\tvalid_0's multi_logloss: 0.823945\n",
      "[9]\tvalid_0's multi_logloss: 0.808374\n",
      "[10]\tvalid_0's multi_logloss: 0.794635\n",
      "[11]\tvalid_0's multi_logloss: 0.787051\n",
      "[12]\tvalid_0's multi_logloss: 0.779236\n",
      "[13]\tvalid_0's multi_logloss: 0.772983\n",
      "[14]\tvalid_0's multi_logloss: 0.764275\n",
      "[15]\tvalid_0's multi_logloss: 0.752906\n",
      "[16]\tvalid_0's multi_logloss: 0.746936\n",
      "[17]\tvalid_0's multi_logloss: 0.748563\n",
      "[18]\tvalid_0's multi_logloss: 0.744367\n",
      "[19]\tvalid_0's multi_logloss: 0.743001\n",
      "[20]\tvalid_0's multi_logloss: 0.73754\n",
      "[21]\tvalid_0's multi_logloss: 0.73435\n",
      "[22]\tvalid_0's multi_logloss: 0.730277\n",
      "[23]\tvalid_0's multi_logloss: 0.729156\n",
      "[24]\tvalid_0's multi_logloss: 0.727211\n",
      "[25]\tvalid_0's multi_logloss: 0.73012\n",
      "[26]\tvalid_0's multi_logloss: 0.729092\n",
      "[27]\tvalid_0's multi_logloss: 0.729345\n",
      "[28]\tvalid_0's multi_logloss: 0.728497\n",
      "[29]\tvalid_0's multi_logloss: 0.727576\n",
      "[30]\tvalid_0's multi_logloss: 0.724781\n",
      "[31]\tvalid_0's multi_logloss: 0.723628\n",
      "[32]\tvalid_0's multi_logloss: 0.724215\n",
      "[33]\tvalid_0's multi_logloss: 0.734317\n",
      "[34]\tvalid_0's multi_logloss: 0.731248\n",
      "[35]\tvalid_0's multi_logloss: 0.733759\n",
      "[36]\tvalid_0's multi_logloss: 0.737153\n",
      "[37]\tvalid_0's multi_logloss: 0.742632\n",
      "[38]\tvalid_0's multi_logloss: 0.747769\n",
      "[39]\tvalid_0's multi_logloss: 0.745786\n",
      "[40]\tvalid_0's multi_logloss: 0.750508\n",
      "[41]\tvalid_0's multi_logloss: 0.748724\n",
      "[42]\tvalid_0's multi_logloss: 0.750879\n",
      "[43]\tvalid_0's multi_logloss: 0.757494\n",
      "[44]\tvalid_0's multi_logloss: 0.765465\n",
      "[45]\tvalid_0's multi_logloss: 0.768327\n",
      "[46]\tvalid_0's multi_logloss: 0.76625\n",
      "[47]\tvalid_0's multi_logloss: 0.773041\n",
      "[48]\tvalid_0's multi_logloss: 0.773306\n",
      "[49]\tvalid_0's multi_logloss: 0.771136\n",
      "[50]\tvalid_0's multi_logloss: 0.772428\n",
      "[51]\tvalid_0's multi_logloss: 0.77959\n",
      "[52]\tvalid_0's multi_logloss: 0.78168\n",
      "[53]\tvalid_0's multi_logloss: 0.782384\n",
      "[54]\tvalid_0's multi_logloss: 0.79391\n",
      "[55]\tvalid_0's multi_logloss: 0.800143\n",
      "[56]\tvalid_0's multi_logloss: 0.807441\n",
      "[57]\tvalid_0's multi_logloss: 0.814425\n",
      "[58]\tvalid_0's multi_logloss: 0.818393\n",
      "[59]\tvalid_0's multi_logloss: 0.825027\n",
      "[60]\tvalid_0's multi_logloss: 0.83225\n",
      "[61]\tvalid_0's multi_logloss: 0.826427\n",
      "[62]\tvalid_0's multi_logloss: 0.835824\n",
      "[63]\tvalid_0's multi_logloss: 0.845027\n",
      "[64]\tvalid_0's multi_logloss: 0.845087\n",
      "[65]\tvalid_0's multi_logloss: 0.847512\n",
      "[66]\tvalid_0's multi_logloss: 0.851212\n",
      "[67]\tvalid_0's multi_logloss: 0.855412\n",
      "[68]\tvalid_0's multi_logloss: 0.856328\n",
      "[69]\tvalid_0's multi_logloss: 0.856603\n",
      "[70]\tvalid_0's multi_logloss: 0.852903\n",
      "[71]\tvalid_0's multi_logloss: 0.858905\n",
      "[72]\tvalid_0's multi_logloss: 0.865034\n",
      "[73]\tvalid_0's multi_logloss: 0.869552\n",
      "[74]\tvalid_0's multi_logloss: 0.87854\n",
      "[75]\tvalid_0's multi_logloss: 0.879556\n",
      "[76]\tvalid_0's multi_logloss: 0.883094\n",
      "[77]\tvalid_0's multi_logloss: 0.89176\n",
      "[78]\tvalid_0's multi_logloss: 0.894926\n",
      "[79]\tvalid_0's multi_logloss: 0.897368\n",
      "[80]\tvalid_0's multi_logloss: 0.899179\n",
      "[81]\tvalid_0's multi_logloss: 0.897999\n",
      "[82]\tvalid_0's multi_logloss: 0.904347\n",
      "[83]\tvalid_0's multi_logloss: 0.914939\n",
      "[84]\tvalid_0's multi_logloss: 0.923619\n",
      "[85]\tvalid_0's multi_logloss: 0.925383\n",
      "[86]\tvalid_0's multi_logloss: 0.926975\n",
      "[87]\tvalid_0's multi_logloss: 0.927219\n",
      "[88]\tvalid_0's multi_logloss: 0.926762\n",
      "[89]\tvalid_0's multi_logloss: 0.931309\n",
      "[90]\tvalid_0's multi_logloss: 0.935601\n",
      "[91]\tvalid_0's multi_logloss: 0.941648\n",
      "[92]\tvalid_0's multi_logloss: 0.945676\n",
      "[93]\tvalid_0's multi_logloss: 0.949198\n",
      "[94]\tvalid_0's multi_logloss: 0.951585\n",
      "[95]\tvalid_0's multi_logloss: 0.950862\n",
      "[96]\tvalid_0's multi_logloss: 0.952259\n",
      "[97]\tvalid_0's multi_logloss: 0.958652\n",
      "[98]\tvalid_0's multi_logloss: 0.960188\n",
      "[99]\tvalid_0's multi_logloss: 0.96226\n",
      "[100]\tvalid_0's multi_logloss: 0.968342\n",
      "[101]\tvalid_0's multi_logloss: 0.970031\n",
      "[102]\tvalid_0's multi_logloss: 0.97213\n",
      "[103]\tvalid_0's multi_logloss: 0.976674\n",
      "[104]\tvalid_0's multi_logloss: 0.981295\n",
      "[105]\tvalid_0's multi_logloss: 0.984994\n",
      "[106]\tvalid_0's multi_logloss: 0.993445\n",
      "[107]\tvalid_0's multi_logloss: 0.996814\n",
      "[108]\tvalid_0's multi_logloss: 1.00304\n",
      "[109]\tvalid_0's multi_logloss: 1.00168\n",
      "[110]\tvalid_0's multi_logloss: 1.00359\n",
      "[111]\tvalid_0's multi_logloss: 1.00416\n",
      "[112]\tvalid_0's multi_logloss: 1.00593\n",
      "[113]\tvalid_0's multi_logloss: 1.00975\n",
      "[114]\tvalid_0's multi_logloss: 1.01574\n",
      "[115]\tvalid_0's multi_logloss: 1.01775\n",
      "[116]\tvalid_0's multi_logloss: 1.02055\n",
      "[117]\tvalid_0's multi_logloss: 1.02302\n",
      "[118]\tvalid_0's multi_logloss: 1.02997\n",
      "[119]\tvalid_0's multi_logloss: 1.03554\n",
      "[120]\tvalid_0's multi_logloss: 1.03823\n",
      "[121]\tvalid_0's multi_logloss: 1.03975\n",
      "[122]\tvalid_0's multi_logloss: 1.04425\n",
      "[123]\tvalid_0's multi_logloss: 1.04872\n",
      "[124]\tvalid_0's multi_logloss: 1.05012\n",
      "[125]\tvalid_0's multi_logloss: 1.05434\n",
      "[126]\tvalid_0's multi_logloss: 1.05607\n",
      "[127]\tvalid_0's multi_logloss: 1.06027\n",
      "[128]\tvalid_0's multi_logloss: 1.06307\n",
      "[129]\tvalid_0's multi_logloss: 1.06517\n",
      "[130]\tvalid_0's multi_logloss: 1.07207\n",
      "[131]\tvalid_0's multi_logloss: 1.07448\n"
     ]
    }
   ],
   "source": [
    "# 답\n",
    "\n",
    "lgbm_wrapper = LGBMClassifier(n_estimators=400)\n",
    "\n",
    "lgbm_wrapper.fit(X_train, y_train, early_stopping_rounds=100, eval_metric=\"logloss\", \n",
    "                 eval_set=evals , verbose=True)\n",
    "preds = lgbm_wrapper.predict(X_test)"
   ]
  },
  {
   "cell_type": "code",
   "execution_count": 19,
   "id": "ce0a5939",
   "metadata": {
    "colab": {
     "base_uri": "https://localhost:8080/"
    },
    "id": "ce0a5939",
    "outputId": "28a56923-c43d-4427-9977-9115462bd25b"
   },
   "outputs": [
    {
     "name": "stdout",
     "output_type": "stream",
     "text": [
      "0.68\n"
     ]
    }
   ],
   "source": [
    "print(accuracy_score(y_test , preds))"
   ]
  },
  {
   "cell_type": "markdown",
   "id": "ljU4tCJx-SZQ",
   "metadata": {
    "id": "ljU4tCJx-SZQ"
   },
   "source": [
    "## Stacking 실습"
   ]
  },
  {
   "cell_type": "markdown",
   "id": "FSqK0PzP-YmZ",
   "metadata": {
    "id": "FSqK0PzP-YmZ"
   },
   "source": [
    "CV set 기반 stacking을 통해 앙상블 모델을 만드려고 한다.  \n",
    "개별 모델이 교차검증을 통해 최종 모델이 사용할 학습용, 테스트용 데이터를 만드는 함수를 생성하시오.\n",
    "```\n",
    "def get_stacking_dataset(model, X_train, y_train, X_test, n_folds ):\n",
    "    return train_fold_pred , test_pred_mean\n",
    "```"
   ]
  },
  {
   "cell_type": "code",
   "execution_count": 20,
   "id": "VBRTm_Vg_BpE",
   "metadata": {
    "id": "VBRTm_Vg_BpE"
   },
   "outputs": [],
   "source": [
    "from sklearn.model_selection import KFold\n",
    "\n",
    "def get_stacking_dataset(model, X_train, y_train, X_test, n_folds):\n",
    "\n",
    "  kfold = KFold(n_splits=n_folds)\n",
    "  train_fold_pred = np.zeros((X_train.shape[0], 1))\n",
    "  test_pred_mean = np.zeros((X_test.shape[0], n_folds))\n",
    "\n",
    "  for fold, (train_idx, valid_idx) in enumerate(kfold.split(X_train)):\n",
    "    X_tr = X_train.loc[train_idx]\n",
    "    y_tr = y_train.loc[train_idx]\n",
    "    X_val = X_train.loc[valid_idx]\n",
    "\n",
    "    model.fit(X_tr, y_tr)\n",
    "    train_fold_pred[valid_idx, :] = model.predict(X_val).reshape(-1, 1)\n",
    "    test_pred_mean[:, fold] = model.predict(X_test)\n",
    "\n",
    "  test_pred_mean = np.mean(test_pred_mean, axis=1).reshape(-1,1)\n",
    "  \n",
    "  return train_fold_pred, test_pred_mean"
   ]
  },
  {
   "cell_type": "markdown",
   "id": "KMgeLW3NA8Q5",
   "metadata": {
    "id": "KMgeLW3NA8Q5"
   },
   "source": [
    "스태킹에 사용될 개별 모델을 생성하시오.\n",
    "\n",
    "개별 모델:  \n",
    "KNN(n_neighbors=4), 랜덤 포레스트(n_estimators=100, random_state=0), 결정 트리, AdaBoost(n_estimators=100), LightGBM(n_estimators=400)\n",
    "\n",
    "최종 모델: 로지스틱 회귀 (C=10)"
   ]
  },
  {
   "cell_type": "code",
   "execution_count": 21,
   "id": "kMDEwbNTA8A2",
   "metadata": {
    "id": "kMDEwbNTA8A2"
   },
   "outputs": [],
   "source": [
    "from sklearn.neighbors import KNeighborsClassifier\n",
    "from sklearn.ensemble import RandomForestClassifier\n",
    "from sklearn.ensemble import AdaBoostClassifier\n",
    "from sklearn.tree import DecisionTreeClassifier\n",
    "from lightgbm import LGBMClassifier\n",
    "from sklearn.linear_model import LogisticRegression\n",
    "\n",
    "knn_clf  = KNeighborsClassifier(n_neighbors=4)\n",
    "rf_clf = RandomForestClassifier(n_estimators=100, random_state=0)\n",
    "dt_clf = DecisionTreeClassifier()\n",
    "ada_clf = AdaBoostClassifier(n_estimators=100)\n",
    "lgbm_clf = LGBMClassifier(n_estimators=400)\n",
    "lr_final = LogisticRegression(C=10)"
   ]
  },
  {
   "cell_type": "markdown",
   "id": "Wew3mwTxBWAZ",
   "metadata": {
    "id": "Wew3mwTxBWAZ"
   },
   "source": [
    "위에서 생성한 함수를 사용해 메타모델에 사용될 학습용 데이터와 테스트용 데이터를 생성하고, 스태킹하시오.  \n",
    "fold 수 = 6  \n",
    "학습용 데이터 : stacked_X_train  \n",
    "테스트용 데이터 : stacked_X_test"
   ]
  },
  {
   "cell_type": "code",
   "execution_count": 22,
   "id": "vuGxfdO7rQ5z",
   "metadata": {
    "id": "vuGxfdO7rQ5z"
   },
   "outputs": [],
   "source": [
    "X_train.reset_index(drop=True, inplace=True)\n",
    "y_train.reset_index(drop=True, inplace=True)\n",
    "X_test.reset_index(drop=True, inplace=True)"
   ]
  },
  {
   "cell_type": "code",
   "execution_count": 23,
   "id": "5ULVp4pIBhnm",
   "metadata": {
    "id": "5ULVp4pIBhnm"
   },
   "outputs": [],
   "source": [
    "knn_train, knn_test = get_stacking_dataset(knn_clf, X_train, y_train, X_test, n_folds= 6)\n",
    "rf_train, rf_test = get_stacking_dataset(rf_clf, X_train, y_train, X_test, 6)\n",
    "dt_train, dt_test = get_stacking_dataset(dt_clf, X_train, y_train, X_test,  6)    \n",
    "ab_train, ab_test = get_stacking_dataset(ada_clf, X_train, y_train, X_test, 6)\n",
    "lgbm_train, lgbm_test = get_stacking_dataset(lgbm_clf, X_train, y_train, X_test, 6)"
   ]
  },
  {
   "cell_type": "code",
   "execution_count": 24,
   "id": "3rNPDepmGr9N",
   "metadata": {
    "id": "3rNPDepmGr9N"
   },
   "outputs": [],
   "source": [
    "stacked_X_train = np.concatenate((knn_train, rf_train, dt_train, ab_train, lgbm_train), axis=1)\n",
    "stacked_X_test = np.concatenate((knn_test, rf_test, dt_test, ab_test, lgbm_test), axis=1)"
   ]
  },
  {
   "cell_type": "markdown",
   "id": "z1wPcXvNHH8t",
   "metadata": {
    "id": "z1wPcXvNHH8t"
   },
   "source": [
    "최종 모델을 학습시키고, 정확도를 구하시오."
   ]
  },
  {
   "cell_type": "code",
   "execution_count": 25,
   "id": "l8TOQwqXHHCO",
   "metadata": {
    "colab": {
     "base_uri": "https://localhost:8080/"
    },
    "id": "l8TOQwqXHHCO",
    "outputId": "0408ae3d-27d2-4d81-d18d-a3f5570da54c"
   },
   "outputs": [
    {
     "name": "stdout",
     "output_type": "stream",
     "text": [
      "0.6266666666666667\n"
     ]
    }
   ],
   "source": [
    "lr_final.fit(stacked_X_train, y_train)\n",
    "pred_final = lr_final.predict(stacked_X_test)\n",
    "print(accuracy_score(y_test, pred_final))"
   ]
  },
  {
   "cell_type": "markdown",
   "id": "mZEcyqY79nZM",
   "metadata": {
    "id": "mZEcyqY79nZM"
   },
   "source": [
    "### CatBoost\n",
    "\n",
    "범주형 변수가 많은 데이터에 catboost를 적용해봅시다.\n",
    "\n",
    "데이터 출처:\n",
    "https://www.kaggle.com/datasets/uciml/mushroom-classification\n"
   ]
  },
  {
   "cell_type": "code",
   "execution_count": 27,
   "id": "mbSevRzjIHKs",
   "metadata": {
    "id": "mbSevRzjIHKs"
   },
   "outputs": [],
   "source": [
    "mushroom_df = pd.read_csv(r'C:\\temp\\mushrooms.csv')"
   ]
  },
  {
   "cell_type": "markdown",
   "id": "AjLa99HnIZ1M",
   "metadata": {
    "id": "AjLa99HnIZ1M"
   },
   "source": [
    "mushroom_df feature들의 data type을 확인하시오."
   ]
  },
  {
   "cell_type": "code",
   "execution_count": 28,
   "id": "5IId0hyfIRLj",
   "metadata": {
    "colab": {
     "base_uri": "https://localhost:8080/"
    },
    "id": "5IId0hyfIRLj",
    "outputId": "0596cacb-c16d-4ec3-b5f5-c5c916161a1c"
   },
   "outputs": [
    {
     "name": "stdout",
     "output_type": "stream",
     "text": [
      "<class 'pandas.core.frame.DataFrame'>\n",
      "RangeIndex: 8124 entries, 0 to 8123\n",
      "Data columns (total 23 columns):\n",
      " #   Column                    Non-Null Count  Dtype \n",
      "---  ------                    --------------  ----- \n",
      " 0   class                     8124 non-null   object\n",
      " 1   cap-shape                 8124 non-null   object\n",
      " 2   cap-surface               8124 non-null   object\n",
      " 3   cap-color                 8124 non-null   object\n",
      " 4   bruises                   8124 non-null   object\n",
      " 5   odor                      8124 non-null   object\n",
      " 6   gill-attachment           8124 non-null   object\n",
      " 7   gill-spacing              8124 non-null   object\n",
      " 8   gill-size                 8124 non-null   object\n",
      " 9   gill-color                8124 non-null   object\n",
      " 10  stalk-shape               8124 non-null   object\n",
      " 11  stalk-root                8124 non-null   object\n",
      " 12  stalk-surface-above-ring  8124 non-null   object\n",
      " 13  stalk-surface-below-ring  8124 non-null   object\n",
      " 14  stalk-color-above-ring    8124 non-null   object\n",
      " 15  stalk-color-below-ring    8124 non-null   object\n",
      " 16  veil-type                 8124 non-null   object\n",
      " 17  veil-color                8124 non-null   object\n",
      " 18  ring-number               8124 non-null   object\n",
      " 19  ring-type                 8124 non-null   object\n",
      " 20  spore-print-color         8124 non-null   object\n",
      " 21  population                8124 non-null   object\n",
      " 22  habitat                   8124 non-null   object\n",
      "dtypes: object(23)\n",
      "memory usage: 1.4+ MB\n"
     ]
    }
   ],
   "source": [
    "mushroom_df.info()"
   ]
  },
  {
   "cell_type": "markdown",
   "id": "twu4cpQMKHTM",
   "metadata": {
    "id": "twu4cpQMKHTM"
   },
   "source": [
    "feature와 target을 각각 X_mushroom, y_mushroom으로 분리하고,  \n",
    "train_test_split 함수로 train, test set을 분리하시오. (test size = 0.2)"
   ]
  },
  {
   "cell_type": "code",
   "execution_count": 29,
   "id": "wZAm3seUKcHN",
   "metadata": {
    "id": "wZAm3seUKcHN"
   },
   "outputs": [],
   "source": [
    "X_mushroom = mushroom_df.iloc[:, 1:]\n",
    "y_mushroom = mushroom_df.iloc[:, 0]\n",
    "\n",
    "X_train, X_test, y_train, y_test = train_test_split(X_mushroom, y_mushroom, test_size=0.2)"
   ]
  },
  {
   "cell_type": "markdown",
   "id": "FAkKKfY9JC5U",
   "metadata": {
    "id": "FAkKKfY9JC5U"
   },
   "source": [
    "CatBoostClassifier를 불러오고, Pool 함수를 이용해 범주형 변수를 처리하도록 train_pool, test_pool을 만드시오."
   ]
  },
  {
   "cell_type": "code",
   "execution_count": 30,
   "id": "LAFxT8bVIEyN",
   "metadata": {
    "colab": {
     "base_uri": "https://localhost:8080/"
    },
    "id": "LAFxT8bVIEyN",
    "outputId": "79afd095-ed76-47fd-f7f7-2b412e4e3161"
   },
   "outputs": [
    {
     "name": "stdout",
     "output_type": "stream",
     "text": [
      "Collecting catboost\n",
      "  Downloading catboost-1.0.6-cp38-none-win_amd64.whl (73.9 MB)\n",
      "Requirement already satisfied: numpy>=1.16.0 in c:\\programdata\\anaconda3\\lib\\site-packages (from catboost) (1.20.1)\n",
      "Requirement already satisfied: pandas>=0.24.0 in c:\\programdata\\anaconda3\\lib\\site-packages (from catboost) (1.2.4)\n",
      "Collecting plotly\n",
      "  Downloading plotly-5.10.0-py2.py3-none-any.whl (15.2 MB)\n",
      "Requirement already satisfied: matplotlib in c:\\programdata\\anaconda3\\lib\\site-packages (from catboost) (3.3.4)\n",
      "Requirement already satisfied: six in c:\\programdata\\anaconda3\\lib\\site-packages (from catboost) (1.15.0)\n",
      "Requirement already satisfied: graphviz in c:\\programdata\\anaconda3\\lib\\site-packages (from catboost) (0.20.1)\n",
      "Requirement already satisfied: scipy in c:\\programdata\\anaconda3\\lib\\site-packages (from catboost) (1.6.2)\n",
      "Requirement already satisfied: python-dateutil>=2.7.3 in c:\\programdata\\anaconda3\\lib\\site-packages (from pandas>=0.24.0->catboost) (2.8.1)\n",
      "Requirement already satisfied: pytz>=2017.3 in c:\\programdata\\anaconda3\\lib\\site-packages (from pandas>=0.24.0->catboost) (2021.1)\n",
      "Requirement already satisfied: pyparsing!=2.0.4,!=2.1.2,!=2.1.6,>=2.0.3 in c:\\programdata\\anaconda3\\lib\\site-packages (from matplotlib->catboost) (2.4.7)\n",
      "Requirement already satisfied: kiwisolver>=1.0.1 in c:\\programdata\\anaconda3\\lib\\site-packages (from matplotlib->catboost) (1.3.1)\n",
      "Requirement already satisfied: cycler>=0.10 in c:\\programdata\\anaconda3\\lib\\site-packages (from matplotlib->catboost) (0.10.0)\n",
      "Requirement already satisfied: pillow>=6.2.0 in c:\\programdata\\anaconda3\\lib\\site-packages (from matplotlib->catboost) (8.2.0)\n",
      "Collecting tenacity>=6.2.0\n",
      "  Downloading tenacity-8.0.1-py3-none-any.whl (24 kB)\n",
      "Installing collected packages: tenacity, plotly, catboost\n",
      "Successfully installed catboost-1.0.6 plotly-5.10.0 tenacity-8.0.1\n"
     ]
    }
   ],
   "source": [
    "!pip install catboost"
   ]
  },
  {
   "cell_type": "code",
   "execution_count": 31,
   "id": "3uinLtop9bPW",
   "metadata": {
    "id": "3uinLtop9bPW"
   },
   "outputs": [],
   "source": [
    "from catboost import CatBoostClassifier, Pool"
   ]
  },
  {
   "cell_type": "code",
   "execution_count": 32,
   "id": "ByN7JjrPJxYe",
   "metadata": {
    "id": "ByN7JjrPJxYe"
   },
   "outputs": [],
   "source": [
    "train_pool = Pool(X_train, y_train, cat_features=list(X_train.columns))\n",
    "test_pool = Pool(X_test, y_test, cat_features=list(X_test.columns))"
   ]
  },
  {
   "cell_type": "code",
   "execution_count": 33,
   "id": "vU6Xc4taMQ4R",
   "metadata": {
    "id": "vU6Xc4taMQ4R"
   },
   "outputs": [],
   "source": [
    "from sklearn.metrics import accuracy_score"
   ]
  },
  {
   "cell_type": "markdown",
   "id": "Vu9ijqhGMWgo",
   "metadata": {
    "id": "Vu9ijqhGMWgo"
   },
   "source": [
    "iteration=400, learning_rate=0.1, max_depth=3로 설정한 CatBoost 모델로 버섯에 대한 정보를 학습하고 테스트 데이터 버섯의 독성 여부를 예측하시오. 또 정확도를 구하시오.  "
   ]
  },
  {
   "cell_type": "code",
   "execution_count": 34,
   "id": "i_ldWwLPLhWF",
   "metadata": {
    "colab": {
     "base_uri": "https://localhost:8080/"
    },
    "id": "i_ldWwLPLhWF",
    "outputId": "039f0140-9a0f-41ed-b4a6-fa23f13e8fb1"
   },
   "outputs": [
    {
     "name": "stdout",
     "output_type": "stream",
     "text": [
      "0:\tlearn: 0.4815189\ttotal: 178ms\tremaining: 1m 10s\n",
      "1:\tlearn: 0.3451069\ttotal: 197ms\tremaining: 39.1s\n",
      "2:\tlearn: 0.2400314\ttotal: 215ms\tremaining: 28.5s\n",
      "3:\tlearn: 0.1835874\ttotal: 233ms\tremaining: 23s\n",
      "4:\tlearn: 0.1369710\ttotal: 250ms\tremaining: 19.7s\n",
      "5:\tlearn: 0.0957000\ttotal: 271ms\tremaining: 17.8s\n",
      "6:\tlearn: 0.0788831\ttotal: 288ms\tremaining: 16.2s\n",
      "7:\tlearn: 0.0624718\ttotal: 304ms\tremaining: 14.9s\n",
      "8:\tlearn: 0.0521032\ttotal: 340ms\tremaining: 14.8s\n",
      "9:\tlearn: 0.0393197\ttotal: 361ms\tremaining: 14.1s\n",
      "10:\tlearn: 0.0350637\ttotal: 381ms\tremaining: 13.5s\n",
      "11:\tlearn: 0.0311706\ttotal: 400ms\tremaining: 12.9s\n",
      "12:\tlearn: 0.0294368\ttotal: 421ms\tremaining: 12.5s\n",
      "13:\tlearn: 0.0272894\ttotal: 440ms\tremaining: 12.1s\n",
      "14:\tlearn: 0.0255361\ttotal: 456ms\tremaining: 11.7s\n",
      "15:\tlearn: 0.0238433\ttotal: 476ms\tremaining: 11.4s\n",
      "16:\tlearn: 0.0219074\ttotal: 496ms\tremaining: 11.2s\n",
      "17:\tlearn: 0.0206377\ttotal: 515ms\tremaining: 10.9s\n",
      "18:\tlearn: 0.0191577\ttotal: 536ms\tremaining: 10.7s\n",
      "19:\tlearn: 0.0190245\ttotal: 552ms\tremaining: 10.5s\n",
      "20:\tlearn: 0.0178175\ttotal: 570ms\tremaining: 10.3s\n",
      "21:\tlearn: 0.0170863\ttotal: 586ms\tremaining: 10.1s\n",
      "22:\tlearn: 0.0167426\ttotal: 602ms\tremaining: 9.86s\n",
      "23:\tlearn: 0.0160992\ttotal: 619ms\tremaining: 9.7s\n",
      "24:\tlearn: 0.0149848\ttotal: 636ms\tremaining: 9.54s\n",
      "25:\tlearn: 0.0148387\ttotal: 652ms\tremaining: 9.38s\n",
      "26:\tlearn: 0.0139315\ttotal: 669ms\tremaining: 9.23s\n",
      "27:\tlearn: 0.0133298\ttotal: 684ms\tremaining: 9.09s\n",
      "28:\tlearn: 0.0127397\ttotal: 700ms\tremaining: 8.96s\n",
      "29:\tlearn: 0.0125865\ttotal: 716ms\tremaining: 8.84s\n",
      "30:\tlearn: 0.0118462\ttotal: 732ms\tremaining: 8.71s\n",
      "31:\tlearn: 0.0107982\ttotal: 747ms\tremaining: 8.59s\n",
      "32:\tlearn: 0.0104361\ttotal: 763ms\tremaining: 8.48s\n",
      "33:\tlearn: 0.0103006\ttotal: 780ms\tremaining: 8.4s\n",
      "34:\tlearn: 0.0102528\ttotal: 799ms\tremaining: 8.33s\n",
      "35:\tlearn: 0.0093371\ttotal: 818ms\tremaining: 8.27s\n",
      "36:\tlearn: 0.0086992\ttotal: 836ms\tremaining: 8.2s\n",
      "37:\tlearn: 0.0084378\ttotal: 853ms\tremaining: 8.13s\n",
      "38:\tlearn: 0.0084158\ttotal: 869ms\tremaining: 8.04s\n",
      "39:\tlearn: 0.0083691\ttotal: 886ms\tremaining: 7.97s\n",
      "40:\tlearn: 0.0079259\ttotal: 902ms\tremaining: 7.9s\n",
      "41:\tlearn: 0.0078886\ttotal: 918ms\tremaining: 7.83s\n",
      "42:\tlearn: 0.0078405\ttotal: 937ms\tremaining: 7.78s\n",
      "43:\tlearn: 0.0078096\ttotal: 968ms\tremaining: 7.83s\n",
      "44:\tlearn: 0.0077685\ttotal: 992ms\tremaining: 7.82s\n",
      "45:\tlearn: 0.0077683\ttotal: 1.01s\tremaining: 7.79s\n",
      "46:\tlearn: 0.0074947\ttotal: 1.04s\tremaining: 7.79s\n",
      "47:\tlearn: 0.0072440\ttotal: 1.06s\tremaining: 7.76s\n",
      "48:\tlearn: 0.0072022\ttotal: 1.08s\tremaining: 7.76s\n",
      "49:\tlearn: 0.0071781\ttotal: 1.11s\tremaining: 7.75s\n",
      "50:\tlearn: 0.0071420\ttotal: 1.14s\tremaining: 7.77s\n",
      "51:\tlearn: 0.0071110\ttotal: 1.16s\tremaining: 7.78s\n",
      "52:\tlearn: 0.0070146\ttotal: 1.19s\tremaining: 7.76s\n",
      "53:\tlearn: 0.0069756\ttotal: 1.21s\tremaining: 7.75s\n",
      "54:\tlearn: 0.0066425\ttotal: 1.23s\tremaining: 7.73s\n",
      "55:\tlearn: 0.0066425\ttotal: 1.25s\tremaining: 7.68s\n",
      "56:\tlearn: 0.0065574\ttotal: 1.27s\tremaining: 7.67s\n",
      "57:\tlearn: 0.0065569\ttotal: 1.29s\tremaining: 7.63s\n",
      "58:\tlearn: 0.0065260\ttotal: 1.31s\tremaining: 7.6s\n",
      "59:\tlearn: 0.0063144\ttotal: 1.33s\tremaining: 7.56s\n",
      "60:\tlearn: 0.0058597\ttotal: 1.36s\tremaining: 7.56s\n",
      "61:\tlearn: 0.0055061\ttotal: 1.38s\tremaining: 7.54s\n",
      "62:\tlearn: 0.0054265\ttotal: 1.4s\tremaining: 7.5s\n",
      "63:\tlearn: 0.0053401\ttotal: 1.42s\tremaining: 7.47s\n",
      "64:\tlearn: 0.0052531\ttotal: 1.44s\tremaining: 7.42s\n",
      "65:\tlearn: 0.0050448\ttotal: 1.45s\tremaining: 7.35s\n",
      "66:\tlearn: 0.0050220\ttotal: 1.47s\tremaining: 7.3s\n",
      "67:\tlearn: 0.0050220\ttotal: 1.49s\tremaining: 7.25s\n",
      "68:\tlearn: 0.0047738\ttotal: 1.5s\tremaining: 7.2s\n",
      "69:\tlearn: 0.0046586\ttotal: 1.52s\tremaining: 7.16s\n",
      "70:\tlearn: 0.0046585\ttotal: 1.53s\tremaining: 7.11s\n",
      "71:\tlearn: 0.0046585\ttotal: 1.55s\tremaining: 7.08s\n",
      "72:\tlearn: 0.0046585\ttotal: 1.57s\tremaining: 7.03s\n",
      "73:\tlearn: 0.0046101\ttotal: 1.58s\tremaining: 6.98s\n",
      "74:\tlearn: 0.0045751\ttotal: 1.6s\tremaining: 6.94s\n",
      "75:\tlearn: 0.0045751\ttotal: 1.62s\tremaining: 6.89s\n",
      "76:\tlearn: 0.0042907\ttotal: 1.63s\tremaining: 6.85s\n",
      "77:\tlearn: 0.0042907\ttotal: 1.65s\tremaining: 6.81s\n",
      "78:\tlearn: 0.0042335\ttotal: 1.66s\tremaining: 6.76s\n",
      "79:\tlearn: 0.0042142\ttotal: 1.68s\tremaining: 6.72s\n",
      "80:\tlearn: 0.0042142\ttotal: 1.69s\tremaining: 6.67s\n",
      "81:\tlearn: 0.0041943\ttotal: 1.71s\tremaining: 6.63s\n",
      "82:\tlearn: 0.0041943\ttotal: 1.72s\tremaining: 6.58s\n",
      "83:\tlearn: 0.0040737\ttotal: 1.74s\tremaining: 6.54s\n",
      "84:\tlearn: 0.0040438\ttotal: 1.75s\tremaining: 6.49s\n",
      "85:\tlearn: 0.0039094\ttotal: 1.77s\tremaining: 6.46s\n",
      "86:\tlearn: 0.0036960\ttotal: 1.78s\tremaining: 6.42s\n",
      "87:\tlearn: 0.0036960\ttotal: 1.8s\tremaining: 6.38s\n",
      "88:\tlearn: 0.0036960\ttotal: 1.81s\tremaining: 6.34s\n",
      "89:\tlearn: 0.0036610\ttotal: 1.83s\tremaining: 6.31s\n",
      "90:\tlearn: 0.0036610\ttotal: 1.85s\tremaining: 6.27s\n",
      "91:\tlearn: 0.0036439\ttotal: 1.86s\tremaining: 6.24s\n",
      "92:\tlearn: 0.0036439\ttotal: 1.88s\tremaining: 6.22s\n",
      "93:\tlearn: 0.0036439\ttotal: 1.9s\tremaining: 6.18s\n",
      "94:\tlearn: 0.0036439\ttotal: 1.91s\tremaining: 6.14s\n",
      "95:\tlearn: 0.0036439\ttotal: 1.93s\tremaining: 6.1s\n",
      "96:\tlearn: 0.0036439\ttotal: 1.94s\tremaining: 6.06s\n",
      "97:\tlearn: 0.0036438\ttotal: 1.95s\tremaining: 6.02s\n",
      "98:\tlearn: 0.0036438\ttotal: 1.97s\tremaining: 5.98s\n",
      "99:\tlearn: 0.0036438\ttotal: 1.98s\tremaining: 5.94s\n",
      "100:\tlearn: 0.0036438\ttotal: 1.99s\tremaining: 5.9s\n",
      "101:\tlearn: 0.0036438\ttotal: 2.01s\tremaining: 5.88s\n",
      "102:\tlearn: 0.0036438\ttotal: 2.04s\tremaining: 5.89s\n",
      "103:\tlearn: 0.0036438\ttotal: 2.06s\tremaining: 5.86s\n",
      "104:\tlearn: 0.0036437\ttotal: 2.07s\tremaining: 5.83s\n",
      "105:\tlearn: 0.0036437\ttotal: 2.09s\tremaining: 5.79s\n",
      "106:\tlearn: 0.0036437\ttotal: 2.1s\tremaining: 5.75s\n",
      "107:\tlearn: 0.0036437\ttotal: 2.11s\tremaining: 5.71s\n",
      "108:\tlearn: 0.0036165\ttotal: 2.13s\tremaining: 5.68s\n",
      "109:\tlearn: 0.0035565\ttotal: 2.15s\tremaining: 5.66s\n",
      "110:\tlearn: 0.0035565\ttotal: 2.17s\tremaining: 5.65s\n",
      "111:\tlearn: 0.0035565\ttotal: 2.19s\tremaining: 5.62s\n",
      "112:\tlearn: 0.0035565\ttotal: 2.2s\tremaining: 5.59s\n",
      "113:\tlearn: 0.0035565\ttotal: 2.21s\tremaining: 5.55s\n",
      "114:\tlearn: 0.0035565\ttotal: 2.23s\tremaining: 5.51s\n",
      "115:\tlearn: 0.0035565\ttotal: 2.24s\tremaining: 5.49s\n",
      "116:\tlearn: 0.0035565\ttotal: 2.26s\tremaining: 5.46s\n",
      "117:\tlearn: 0.0035565\ttotal: 2.27s\tremaining: 5.43s\n",
      "118:\tlearn: 0.0035565\ttotal: 2.29s\tremaining: 5.4s\n",
      "119:\tlearn: 0.0035565\ttotal: 2.3s\tremaining: 5.36s\n",
      "120:\tlearn: 0.0035564\ttotal: 2.32s\tremaining: 5.35s\n",
      "121:\tlearn: 0.0035564\ttotal: 2.34s\tremaining: 5.33s\n",
      "122:\tlearn: 0.0035564\ttotal: 2.35s\tremaining: 5.29s\n",
      "123:\tlearn: 0.0035564\ttotal: 2.36s\tremaining: 5.26s\n",
      "124:\tlearn: 0.0035564\ttotal: 2.38s\tremaining: 5.23s\n",
      "125:\tlearn: 0.0035564\ttotal: 2.39s\tremaining: 5.2s\n",
      "126:\tlearn: 0.0035564\ttotal: 2.4s\tremaining: 5.17s\n",
      "127:\tlearn: 0.0035564\ttotal: 2.42s\tremaining: 5.14s\n",
      "128:\tlearn: 0.0035564\ttotal: 2.43s\tremaining: 5.11s\n",
      "129:\tlearn: 0.0035564\ttotal: 2.44s\tremaining: 5.08s\n",
      "130:\tlearn: 0.0035564\ttotal: 2.48s\tremaining: 5.09s\n",
      "131:\tlearn: 0.0035564\ttotal: 2.49s\tremaining: 5.06s\n",
      "132:\tlearn: 0.0035564\ttotal: 2.51s\tremaining: 5.03s\n",
      "133:\tlearn: 0.0035564\ttotal: 2.52s\tremaining: 5s\n",
      "134:\tlearn: 0.0035563\ttotal: 2.54s\tremaining: 4.98s\n",
      "135:\tlearn: 0.0035563\ttotal: 2.55s\tremaining: 4.95s\n",
      "136:\tlearn: 0.0035563\ttotal: 2.56s\tremaining: 4.92s\n",
      "137:\tlearn: 0.0035563\ttotal: 2.58s\tremaining: 4.9s\n",
      "138:\tlearn: 0.0035563\ttotal: 2.59s\tremaining: 4.87s\n",
      "139:\tlearn: 0.0035563\ttotal: 2.61s\tremaining: 4.84s\n",
      "140:\tlearn: 0.0035563\ttotal: 2.62s\tremaining: 4.81s\n",
      "141:\tlearn: 0.0035562\ttotal: 2.63s\tremaining: 4.79s\n",
      "142:\tlearn: 0.0035562\ttotal: 2.65s\tremaining: 4.76s\n",
      "143:\tlearn: 0.0035562\ttotal: 2.67s\tremaining: 4.74s\n",
      "144:\tlearn: 0.0035561\ttotal: 2.68s\tremaining: 4.71s\n",
      "145:\tlearn: 0.0035561\ttotal: 2.69s\tremaining: 4.69s\n",
      "146:\tlearn: 0.0035561\ttotal: 2.71s\tremaining: 4.66s\n",
      "147:\tlearn: 0.0035561\ttotal: 2.72s\tremaining: 4.64s\n",
      "148:\tlearn: 0.0034060\ttotal: 2.74s\tremaining: 4.62s\n",
      "149:\tlearn: 0.0034059\ttotal: 2.76s\tremaining: 4.59s\n",
      "150:\tlearn: 0.0033893\ttotal: 2.77s\tremaining: 4.57s\n",
      "151:\tlearn: 0.0033893\ttotal: 2.79s\tremaining: 4.54s\n",
      "152:\tlearn: 0.0033893\ttotal: 2.8s\tremaining: 4.52s\n",
      "153:\tlearn: 0.0033893\ttotal: 2.81s\tremaining: 4.5s\n",
      "154:\tlearn: 0.0033893\ttotal: 2.83s\tremaining: 4.47s\n",
      "155:\tlearn: 0.0033893\ttotal: 2.85s\tremaining: 4.45s\n",
      "156:\tlearn: 0.0033467\ttotal: 2.87s\tremaining: 4.45s\n",
      "157:\tlearn: 0.0033467\ttotal: 2.89s\tremaining: 4.42s\n",
      "158:\tlearn: 0.0033380\ttotal: 2.9s\tremaining: 4.4s\n",
      "159:\tlearn: 0.0033380\ttotal: 2.93s\tremaining: 4.39s\n",
      "160:\tlearn: 0.0033302\ttotal: 2.94s\tremaining: 4.37s\n",
      "161:\tlearn: 0.0033185\ttotal: 2.98s\tremaining: 4.37s\n",
      "162:\tlearn: 0.0033185\ttotal: 3s\tremaining: 4.36s\n",
      "163:\tlearn: 0.0033123\ttotal: 3.01s\tremaining: 4.33s\n",
      "164:\tlearn: 0.0033114\ttotal: 3.03s\tremaining: 4.32s\n",
      "165:\tlearn: 0.0032983\ttotal: 3.04s\tremaining: 4.29s\n",
      "166:\tlearn: 0.0032983\ttotal: 3.06s\tremaining: 4.27s\n",
      "167:\tlearn: 0.0032983\ttotal: 3.07s\tremaining: 4.24s\n",
      "168:\tlearn: 0.0032882\ttotal: 3.09s\tremaining: 4.22s\n",
      "169:\tlearn: 0.0032882\ttotal: 3.1s\tremaining: 4.19s\n",
      "170:\tlearn: 0.0032827\ttotal: 3.11s\tremaining: 4.17s\n",
      "171:\tlearn: 0.0032826\ttotal: 3.13s\tremaining: 4.15s\n",
      "172:\tlearn: 0.0032826\ttotal: 3.14s\tremaining: 4.12s\n",
      "173:\tlearn: 0.0032826\ttotal: 3.16s\tremaining: 4.11s\n",
      "174:\tlearn: 0.0032826\ttotal: 3.17s\tremaining: 4.08s\n",
      "175:\tlearn: 0.0032777\ttotal: 3.21s\tremaining: 4.08s\n",
      "176:\tlearn: 0.0032776\ttotal: 3.22s\tremaining: 4.06s\n",
      "177:\tlearn: 0.0032775\ttotal: 3.23s\tremaining: 4.03s\n",
      "178:\tlearn: 0.0032775\ttotal: 3.25s\tremaining: 4.01s\n",
      "179:\tlearn: 0.0032774\ttotal: 3.26s\tremaining: 3.99s\n",
      "180:\tlearn: 0.0032773\ttotal: 3.27s\tremaining: 3.96s\n",
      "181:\tlearn: 0.0032773\ttotal: 3.29s\tremaining: 3.94s\n",
      "182:\tlearn: 0.0032773\ttotal: 3.3s\tremaining: 3.92s\n",
      "183:\tlearn: 0.0032770\ttotal: 3.31s\tremaining: 3.89s\n",
      "184:\tlearn: 0.0032769\ttotal: 3.33s\tremaining: 3.87s\n",
      "185:\tlearn: 0.0032724\ttotal: 3.34s\tremaining: 3.85s\n",
      "186:\tlearn: 0.0032724\ttotal: 3.36s\tremaining: 3.83s\n",
      "187:\tlearn: 0.0032724\ttotal: 3.37s\tremaining: 3.81s\n",
      "188:\tlearn: 0.0032683\ttotal: 3.39s\tremaining: 3.79s\n",
      "189:\tlearn: 0.0032669\ttotal: 3.4s\tremaining: 3.76s\n",
      "190:\tlearn: 0.0032669\ttotal: 3.43s\tremaining: 3.75s\n",
      "191:\tlearn: 0.0032577\ttotal: 3.44s\tremaining: 3.73s\n",
      "192:\tlearn: 0.0032577\ttotal: 3.46s\tremaining: 3.71s\n",
      "193:\tlearn: 0.0032565\ttotal: 3.47s\tremaining: 3.68s\n",
      "194:\tlearn: 0.0032529\ttotal: 3.48s\tremaining: 3.66s\n",
      "195:\tlearn: 0.0032519\ttotal: 3.51s\tremaining: 3.65s\n",
      "196:\tlearn: 0.0032519\ttotal: 3.52s\tremaining: 3.63s\n",
      "197:\tlearn: 0.0032518\ttotal: 3.54s\tremaining: 3.61s\n",
      "198:\tlearn: 0.0032486\ttotal: 3.55s\tremaining: 3.59s\n",
      "199:\tlearn: 0.0032486\ttotal: 3.57s\tremaining: 3.57s\n",
      "200:\tlearn: 0.0032457\ttotal: 3.58s\tremaining: 3.55s\n",
      "201:\tlearn: 0.0032457\ttotal: 3.6s\tremaining: 3.52s\n",
      "202:\tlearn: 0.0032431\ttotal: 3.61s\tremaining: 3.5s\n",
      "203:\tlearn: 0.0032431\ttotal: 3.62s\tremaining: 3.48s\n",
      "204:\tlearn: 0.0032430\ttotal: 3.64s\tremaining: 3.46s\n",
      "205:\tlearn: 0.0032429\ttotal: 3.66s\tremaining: 3.45s\n",
      "206:\tlearn: 0.0032408\ttotal: 3.67s\tremaining: 3.42s\n",
      "207:\tlearn: 0.0032393\ttotal: 3.69s\tremaining: 3.4s\n",
      "208:\tlearn: 0.0032387\ttotal: 3.7s\tremaining: 3.38s\n",
      "209:\tlearn: 0.0032368\ttotal: 3.71s\tremaining: 3.36s\n",
      "210:\tlearn: 0.0032359\ttotal: 3.73s\tremaining: 3.34s\n",
      "211:\tlearn: 0.0032359\ttotal: 3.74s\tremaining: 3.32s\n",
      "212:\tlearn: 0.0032288\ttotal: 3.76s\tremaining: 3.3s\n",
      "213:\tlearn: 0.0032287\ttotal: 3.78s\tremaining: 3.28s\n",
      "214:\tlearn: 0.0032287\ttotal: 3.79s\tremaining: 3.26s\n",
      "215:\tlearn: 0.0032286\ttotal: 3.81s\tremaining: 3.24s\n",
      "216:\tlearn: 0.0032286\ttotal: 3.82s\tremaining: 3.22s\n",
      "217:\tlearn: 0.0032286\ttotal: 3.83s\tremaining: 3.2s\n",
      "218:\tlearn: 0.0032285\ttotal: 3.85s\tremaining: 3.18s\n",
      "219:\tlearn: 0.0032285\ttotal: 3.86s\tremaining: 3.16s\n",
      "220:\tlearn: 0.0032284\ttotal: 3.87s\tremaining: 3.14s\n",
      "221:\tlearn: 0.0032283\ttotal: 3.88s\tremaining: 3.12s\n",
      "222:\tlearn: 0.0032283\ttotal: 3.9s\tremaining: 3.09s\n",
      "223:\tlearn: 0.0032283\ttotal: 3.91s\tremaining: 3.07s\n",
      "224:\tlearn: 0.0032283\ttotal: 3.93s\tremaining: 3.06s\n",
      "225:\tlearn: 0.0032283\ttotal: 3.94s\tremaining: 3.04s\n",
      "226:\tlearn: 0.0032283\ttotal: 3.96s\tremaining: 3.02s\n",
      "227:\tlearn: 0.0032283\ttotal: 3.97s\tremaining: 2.99s\n",
      "228:\tlearn: 0.0032283\ttotal: 3.98s\tremaining: 2.97s\n",
      "229:\tlearn: 0.0032283\ttotal: 4s\tremaining: 2.96s\n",
      "230:\tlearn: 0.0032249\ttotal: 4.01s\tremaining: 2.94s\n",
      "231:\tlearn: 0.0032249\ttotal: 4.03s\tremaining: 2.92s\n",
      "232:\tlearn: 0.0032249\ttotal: 4.06s\tremaining: 2.91s\n",
      "233:\tlearn: 0.0032249\ttotal: 4.08s\tremaining: 2.89s\n",
      "234:\tlearn: 0.0032249\ttotal: 4.09s\tremaining: 2.87s\n",
      "235:\tlearn: 0.0032046\ttotal: 4.1s\tremaining: 2.85s\n",
      "236:\tlearn: 0.0032045\ttotal: 4.12s\tremaining: 2.83s\n",
      "237:\tlearn: 0.0032045\ttotal: 4.13s\tremaining: 2.81s\n",
      "238:\tlearn: 0.0032045\ttotal: 4.15s\tremaining: 2.79s\n",
      "239:\tlearn: 0.0031615\ttotal: 4.17s\tremaining: 2.78s\n",
      "240:\tlearn: 0.0031543\ttotal: 4.18s\tremaining: 2.76s\n",
      "241:\tlearn: 0.0031102\ttotal: 4.2s\tremaining: 2.74s\n",
      "242:\tlearn: 0.0030107\ttotal: 4.21s\tremaining: 2.72s\n",
      "243:\tlearn: 0.0030107\ttotal: 4.23s\tremaining: 2.71s\n",
      "244:\tlearn: 0.0030107\ttotal: 4.25s\tremaining: 2.69s\n",
      "245:\tlearn: 0.0029744\ttotal: 4.26s\tremaining: 2.67s\n",
      "246:\tlearn: 0.0029455\ttotal: 4.28s\tremaining: 2.65s\n",
      "247:\tlearn: 0.0029455\ttotal: 4.29s\tremaining: 2.63s\n",
      "248:\tlearn: 0.0029455\ttotal: 4.31s\tremaining: 2.61s\n",
      "249:\tlearn: 0.0029076\ttotal: 4.32s\tremaining: 2.59s\n",
      "250:\tlearn: 0.0029076\ttotal: 4.34s\tremaining: 2.58s\n",
      "251:\tlearn: 0.0029076\ttotal: 4.35s\tremaining: 2.56s\n",
      "252:\tlearn: 0.0029076\ttotal: 4.36s\tremaining: 2.54s\n",
      "253:\tlearn: 0.0029076\ttotal: 4.38s\tremaining: 2.52s\n",
      "254:\tlearn: 0.0029076\ttotal: 4.39s\tremaining: 2.5s\n",
      "255:\tlearn: 0.0029076\ttotal: 4.4s\tremaining: 2.48s\n",
      "256:\tlearn: 0.0029076\ttotal: 4.42s\tremaining: 2.46s\n",
      "257:\tlearn: 0.0029076\ttotal: 4.43s\tremaining: 2.44s\n",
      "258:\tlearn: 0.0029076\ttotal: 4.45s\tremaining: 2.42s\n",
      "259:\tlearn: 0.0029076\ttotal: 4.46s\tremaining: 2.4s\n",
      "260:\tlearn: 0.0029076\ttotal: 4.48s\tremaining: 2.38s\n",
      "261:\tlearn: 0.0029075\ttotal: 4.49s\tremaining: 2.37s\n",
      "262:\tlearn: 0.0027914\ttotal: 4.51s\tremaining: 2.35s\n",
      "263:\tlearn: 0.0027914\ttotal: 4.53s\tremaining: 2.33s\n",
      "264:\tlearn: 0.0027914\ttotal: 4.54s\tremaining: 2.31s\n",
      "265:\tlearn: 0.0027914\ttotal: 4.56s\tremaining: 2.29s\n",
      "266:\tlearn: 0.0027664\ttotal: 4.57s\tremaining: 2.28s\n",
      "267:\tlearn: 0.0027400\ttotal: 4.59s\tremaining: 2.26s\n",
      "268:\tlearn: 0.0027400\ttotal: 4.6s\tremaining: 2.24s\n",
      "269:\tlearn: 0.0027399\ttotal: 4.62s\tremaining: 2.22s\n",
      "270:\tlearn: 0.0027399\ttotal: 4.63s\tremaining: 2.21s\n",
      "271:\tlearn: 0.0027399\ttotal: 4.65s\tremaining: 2.19s\n",
      "272:\tlearn: 0.0027121\ttotal: 4.67s\tremaining: 2.17s\n",
      "273:\tlearn: 0.0027002\ttotal: 4.68s\tremaining: 2.15s\n",
      "274:\tlearn: 0.0026675\ttotal: 4.7s\tremaining: 2.14s\n",
      "275:\tlearn: 0.0026674\ttotal: 4.72s\tremaining: 2.12s\n",
      "276:\tlearn: 0.0026674\ttotal: 4.73s\tremaining: 2.1s\n",
      "277:\tlearn: 0.0026674\ttotal: 4.74s\tremaining: 2.08s\n",
      "278:\tlearn: 0.0026674\ttotal: 4.76s\tremaining: 2.06s\n",
      "279:\tlearn: 0.0026655\ttotal: 4.77s\tremaining: 2.04s\n",
      "280:\tlearn: 0.0026655\ttotal: 4.79s\tremaining: 2.03s\n",
      "281:\tlearn: 0.0026655\ttotal: 4.8s\tremaining: 2.01s\n",
      "282:\tlearn: 0.0026637\ttotal: 4.81s\tremaining: 1.99s\n",
      "283:\tlearn: 0.0026637\ttotal: 4.83s\tremaining: 1.97s\n",
      "284:\tlearn: 0.0026637\ttotal: 4.84s\tremaining: 1.95s\n",
      "285:\tlearn: 0.0026623\ttotal: 4.86s\tremaining: 1.94s\n",
      "286:\tlearn: 0.0026623\ttotal: 4.87s\tremaining: 1.92s\n",
      "287:\tlearn: 0.0026616\ttotal: 4.88s\tremaining: 1.9s\n",
      "288:\tlearn: 0.0026615\ttotal: 4.9s\tremaining: 1.88s\n",
      "289:\tlearn: 0.0026602\ttotal: 4.91s\tremaining: 1.86s\n",
      "290:\tlearn: 0.0025619\ttotal: 4.93s\tremaining: 1.85s\n",
      "291:\tlearn: 0.0025619\ttotal: 4.94s\tremaining: 1.83s\n",
      "292:\tlearn: 0.0025619\ttotal: 4.96s\tremaining: 1.81s\n",
      "293:\tlearn: 0.0025619\ttotal: 4.97s\tremaining: 1.79s\n",
      "294:\tlearn: 0.0025619\ttotal: 4.99s\tremaining: 1.77s\n",
      "295:\tlearn: 0.0025619\ttotal: 5s\tremaining: 1.76s\n",
      "296:\tlearn: 0.0025619\ttotal: 5.02s\tremaining: 1.74s\n",
      "297:\tlearn: 0.0025527\ttotal: 5.03s\tremaining: 1.72s\n",
      "298:\tlearn: 0.0025527\ttotal: 5.05s\tremaining: 1.71s\n",
      "299:\tlearn: 0.0025527\ttotal: 5.06s\tremaining: 1.69s\n",
      "300:\tlearn: 0.0025527\ttotal: 5.08s\tremaining: 1.67s\n",
      "301:\tlearn: 0.0025527\ttotal: 5.09s\tremaining: 1.65s\n",
      "302:\tlearn: 0.0025527\ttotal: 5.11s\tremaining: 1.64s\n",
      "303:\tlearn: 0.0025527\ttotal: 5.13s\tremaining: 1.62s\n",
      "304:\tlearn: 0.0025526\ttotal: 5.14s\tremaining: 1.6s\n",
      "305:\tlearn: 0.0025523\ttotal: 5.16s\tremaining: 1.58s\n",
      "306:\tlearn: 0.0025523\ttotal: 5.17s\tremaining: 1.57s\n",
      "307:\tlearn: 0.0025428\ttotal: 5.19s\tremaining: 1.55s\n",
      "308:\tlearn: 0.0025428\ttotal: 5.21s\tremaining: 1.53s\n",
      "309:\tlearn: 0.0025428\ttotal: 5.22s\tremaining: 1.51s\n",
      "310:\tlearn: 0.0025428\ttotal: 5.24s\tremaining: 1.5s\n",
      "311:\tlearn: 0.0025428\ttotal: 5.26s\tremaining: 1.48s\n",
      "312:\tlearn: 0.0025428\ttotal: 5.28s\tremaining: 1.47s\n",
      "313:\tlearn: 0.0025428\ttotal: 5.29s\tremaining: 1.45s\n",
      "314:\tlearn: 0.0025428\ttotal: 5.3s\tremaining: 1.43s\n",
      "315:\tlearn: 0.0025425\ttotal: 5.32s\tremaining: 1.42s\n",
      "316:\tlearn: 0.0025425\ttotal: 5.34s\tremaining: 1.4s\n",
      "317:\tlearn: 0.0025424\ttotal: 5.36s\tremaining: 1.38s\n",
      "318:\tlearn: 0.0025424\ttotal: 5.37s\tremaining: 1.36s\n",
      "319:\tlearn: 0.0025424\ttotal: 5.38s\tremaining: 1.35s\n",
      "320:\tlearn: 0.0025424\ttotal: 5.4s\tremaining: 1.33s\n",
      "321:\tlearn: 0.0025424\ttotal: 5.41s\tremaining: 1.31s\n",
      "322:\tlearn: 0.0025424\ttotal: 5.43s\tremaining: 1.29s\n",
      "323:\tlearn: 0.0025424\ttotal: 5.44s\tremaining: 1.28s\n",
      "324:\tlearn: 0.0025423\ttotal: 5.45s\tremaining: 1.26s\n",
      "325:\tlearn: 0.0025366\ttotal: 5.47s\tremaining: 1.24s\n",
      "326:\tlearn: 0.0025366\ttotal: 5.48s\tremaining: 1.22s\n",
      "327:\tlearn: 0.0025365\ttotal: 5.49s\tremaining: 1.21s\n",
      "328:\tlearn: 0.0025286\ttotal: 5.51s\tremaining: 1.19s\n",
      "329:\tlearn: 0.0025198\ttotal: 5.52s\tremaining: 1.17s\n",
      "330:\tlearn: 0.0025198\ttotal: 5.54s\tremaining: 1.15s\n",
      "331:\tlearn: 0.0025198\ttotal: 5.55s\tremaining: 1.14s\n",
      "332:\tlearn: 0.0025198\ttotal: 5.56s\tremaining: 1.12s\n",
      "333:\tlearn: 0.0025198\ttotal: 5.58s\tremaining: 1.1s\n",
      "334:\tlearn: 0.0025198\ttotal: 5.59s\tremaining: 1.08s\n",
      "335:\tlearn: 0.0025198\ttotal: 5.61s\tremaining: 1.07s\n",
      "336:\tlearn: 0.0025198\ttotal: 5.62s\tremaining: 1.05s\n",
      "337:\tlearn: 0.0025198\ttotal: 5.64s\tremaining: 1.03s\n",
      "338:\tlearn: 0.0025198\ttotal: 5.66s\tremaining: 1.02s\n",
      "339:\tlearn: 0.0025198\ttotal: 5.67s\tremaining: 1s\n",
      "340:\tlearn: 0.0025198\ttotal: 5.68s\tremaining: 984ms\n",
      "341:\tlearn: 0.0025198\ttotal: 5.7s\tremaining: 967ms\n",
      "342:\tlearn: 0.0025197\ttotal: 5.71s\tremaining: 950ms\n",
      "343:\tlearn: 0.0025155\ttotal: 5.73s\tremaining: 933ms\n",
      "344:\tlearn: 0.0025155\ttotal: 5.74s\tremaining: 916ms\n",
      "345:\tlearn: 0.0025154\ttotal: 5.76s\tremaining: 899ms\n",
      "346:\tlearn: 0.0025154\ttotal: 5.78s\tremaining: 882ms\n",
      "347:\tlearn: 0.0025106\ttotal: 5.79s\tremaining: 865ms\n",
      "348:\tlearn: 0.0025106\ttotal: 5.8s\tremaining: 848ms\n",
      "349:\tlearn: 0.0025105\ttotal: 5.82s\tremaining: 831ms\n",
      "350:\tlearn: 0.0025044\ttotal: 5.83s\tremaining: 815ms\n",
      "351:\tlearn: 0.0025044\ttotal: 5.85s\tremaining: 798ms\n",
      "352:\tlearn: 0.0025044\ttotal: 5.87s\tremaining: 781ms\n",
      "353:\tlearn: 0.0024989\ttotal: 5.88s\tremaining: 764ms\n",
      "354:\tlearn: 0.0024989\ttotal: 5.91s\tremaining: 749ms\n",
      "355:\tlearn: 0.0024988\ttotal: 5.93s\tremaining: 732ms\n",
      "356:\tlearn: 0.0024939\ttotal: 5.94s\tremaining: 716ms\n",
      "357:\tlearn: 0.0024896\ttotal: 5.96s\tremaining: 699ms\n",
      "358:\tlearn: 0.0024895\ttotal: 5.97s\tremaining: 682ms\n",
      "359:\tlearn: 0.0024895\ttotal: 5.99s\tremaining: 666ms\n",
      "360:\tlearn: 0.0024895\ttotal: 6.01s\tremaining: 649ms\n",
      "361:\tlearn: 0.0024895\ttotal: 6.02s\tremaining: 632ms\n",
      "362:\tlearn: 0.0024895\ttotal: 6.04s\tremaining: 616ms\n",
      "363:\tlearn: 0.0024895\ttotal: 6.05s\tremaining: 599ms\n",
      "364:\tlearn: 0.0024856\ttotal: 6.07s\tremaining: 582ms\n",
      "365:\tlearn: 0.0024850\ttotal: 6.09s\tremaining: 565ms\n",
      "366:\tlearn: 0.0024850\ttotal: 6.1s\tremaining: 549ms\n",
      "367:\tlearn: 0.0024811\ttotal: 6.12s\tremaining: 532ms\n",
      "368:\tlearn: 0.0024592\ttotal: 6.13s\tremaining: 515ms\n",
      "369:\tlearn: 0.0024592\ttotal: 6.15s\tremaining: 498ms\n",
      "370:\tlearn: 0.0024592\ttotal: 6.17s\tremaining: 483ms\n",
      "371:\tlearn: 0.0024590\ttotal: 6.19s\tremaining: 466ms\n",
      "372:\tlearn: 0.0024559\ttotal: 6.22s\tremaining: 450ms\n",
      "373:\tlearn: 0.0024559\ttotal: 6.24s\tremaining: 434ms\n",
      "374:\tlearn: 0.0024559\ttotal: 6.25s\tremaining: 417ms\n",
      "375:\tlearn: 0.0024558\ttotal: 6.27s\tremaining: 400ms\n",
      "376:\tlearn: 0.0024558\ttotal: 6.28s\tremaining: 383ms\n",
      "377:\tlearn: 0.0024558\ttotal: 6.31s\tremaining: 368ms\n",
      "378:\tlearn: 0.0024558\ttotal: 6.34s\tremaining: 351ms\n",
      "379:\tlearn: 0.0024555\ttotal: 6.36s\tremaining: 334ms\n",
      "380:\tlearn: 0.0024555\ttotal: 6.37s\tremaining: 318ms\n",
      "381:\tlearn: 0.0024554\ttotal: 6.38s\tremaining: 301ms\n",
      "382:\tlearn: 0.0024554\ttotal: 6.4s\tremaining: 284ms\n",
      "383:\tlearn: 0.0024554\ttotal: 6.42s\tremaining: 267ms\n",
      "384:\tlearn: 0.0024251\ttotal: 6.43s\tremaining: 251ms\n",
      "385:\tlearn: 0.0024251\ttotal: 6.47s\tremaining: 235ms\n",
      "386:\tlearn: 0.0024251\ttotal: 6.48s\tremaining: 218ms\n",
      "387:\tlearn: 0.0024251\ttotal: 6.5s\tremaining: 201ms\n",
      "388:\tlearn: 0.0024251\ttotal: 6.51s\tremaining: 184ms\n",
      "389:\tlearn: 0.0024251\ttotal: 6.53s\tremaining: 167ms\n",
      "390:\tlearn: 0.0024250\ttotal: 6.54s\tremaining: 151ms\n",
      "391:\tlearn: 0.0024250\ttotal: 6.55s\tremaining: 134ms\n",
      "392:\tlearn: 0.0024245\ttotal: 6.58s\tremaining: 117ms\n",
      "393:\tlearn: 0.0024245\ttotal: 6.59s\tremaining: 100ms\n",
      "394:\tlearn: 0.0024245\ttotal: 6.61s\tremaining: 83.7ms\n",
      "395:\tlearn: 0.0024245\ttotal: 6.62s\tremaining: 66.9ms\n",
      "396:\tlearn: 0.0024244\ttotal: 6.64s\tremaining: 50.2ms\n",
      "397:\tlearn: 0.0024244\ttotal: 6.66s\tremaining: 33.5ms\n",
      "398:\tlearn: 0.0024244\ttotal: 6.68s\tremaining: 16.7ms\n",
      "399:\tlearn: 0.0024244\ttotal: 6.69s\tremaining: 0us\n",
      "1.0\n"
     ]
    }
   ],
   "source": [
    "cb_clf = CatBoostClassifier(iterations=400, learning_rate=0.1, max_depth=3)\n",
    "cb_clf.fit(train_pool)\n",
    "pred = cb_clf.predict(test_pool)\n",
    "\n",
    "print(accuracy_score(y_test, pred))"
   ]
  }
 ],
 "metadata": {
  "colab": {
   "provenance": []
  },
  "kernelspec": {
   "display_name": "Python 3",
   "language": "python",
   "name": "python3"
  },
  "language_info": {
   "codemirror_mode": {
    "name": "ipython",
    "version": 3
   },
   "file_extension": ".py",
   "mimetype": "text/x-python",
   "name": "python",
   "nbconvert_exporter": "python",
   "pygments_lexer": "ipython3",
   "version": "3.8.8"
  }
 },
 "nbformat": 4,
 "nbformat_minor": 5
}
