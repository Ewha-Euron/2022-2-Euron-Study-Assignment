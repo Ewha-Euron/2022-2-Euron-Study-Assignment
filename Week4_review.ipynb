{
  "cells": [
    {
      "cell_type": "markdown",
      "id": "6f12edaf",
      "metadata": {
        "id": "6f12edaf"
      },
      "source": [
        "##  Week4 복습과제\n",
        "\n",
        "Week3에 대한 복습과제입니다.  \n",
        "데이터셋(train.csv, mushrooms.csv)을 다운 받아주세요!"
      ]
    },
    {
      "cell_type": "code",
      "execution_count": null,
      "id": "6719779b",
      "metadata": {
        "id": "6719779b"
      },
      "outputs": [],
      "source": [
        "import pandas as pd\n",
        "import numpy as np\n",
        "import matplotlib.pyplot as plt\n",
        "import seaborn as sns\n",
        "import warnings\n",
        "warnings.filterwarnings('ignore')"
      ]
    },
    {
      "cell_type": "markdown",
      "id": "47bb9a03",
      "metadata": {
        "id": "47bb9a03"
      },
      "source": [
        "#### 'train.csv'으로 train_df를 생성하세요."
      ]
    },
    {
      "cell_type": "code",
      "source": [
        "from google.colab import drive\n",
        "drive.mount('/content/drive')"
      ],
      "metadata": {
        "colab": {
          "base_uri": "https://localhost:8080/"
        },
        "id": "OMvTAhodmTjS",
        "outputId": "3231ad79-fd89-4e09-ce44-341582941c4b"
      },
      "id": "OMvTAhodmTjS",
      "execution_count": null,
      "outputs": [
        {
          "output_type": "stream",
          "name": "stdout",
          "text": [
            "Mounted at /content/drive\n"
          ]
        }
      ]
    },
    {
      "cell_type": "code",
      "execution_count": null,
      "id": "979db9e6",
      "metadata": {
        "id": "979db9e6",
        "colab": {
          "base_uri": "https://localhost:8080/"
        },
        "outputId": "22ee3d6d-c124-4e94-c401-511492e385c8"
      },
      "outputs": [
        {
          "output_type": "stream",
          "name": "stdout",
          "text": [
            "/content/drive/MyDrive/[EURON] 파이썬 머신러닝 완벽 가이드\n"
          ]
        }
      ],
      "source": [
        "%cd '/content/drive/MyDrive/[EURON] 파이썬 머신러닝 완벽 가이드'"
      ]
    },
    {
      "cell_type": "code",
      "source": [
        "train_df = pd.read_csv('train.csv')"
      ],
      "metadata": {
        "id": "OCxREZexmaqL"
      },
      "id": "OCxREZexmaqL",
      "execution_count": null,
      "outputs": []
    },
    {
      "cell_type": "markdown",
      "id": "0874e7b6",
      "metadata": {
        "id": "0874e7b6"
      },
      "source": [
        "#### 데이터 보정을 위해 다음 코드를 실행시켜 주세요."
      ]
    },
    {
      "cell_type": "code",
      "execution_count": null,
      "id": "d824c2ee",
      "metadata": {
        "id": "d824c2ee"
      },
      "outputs": [],
      "source": [
        "# id 제외\n",
        "\n",
        "train_df = train_df.drop(\"id\", axis = 1)"
      ]
    },
    {
      "cell_type": "markdown",
      "source": [
        "#### LabelEncoder를 사용해 color, type column을 인코딩한 train_df를 만드시오."
      ],
      "metadata": {
        "id": "TkcOzV_k1Fvg"
      },
      "id": "TkcOzV_k1Fvg"
    },
    {
      "cell_type": "code",
      "source": [
        "from sklearn.preprocessing import LabelEncoder\n",
        "\n",
        "encoder = LabelEncoder()\n",
        "train_df['color'] = encoder.fit_transform(train_df['color'])\n",
        "train_df['type'] = encoder.fit_transform(train_df['type'])\n",
        "\n",
        "train_df.head()"
      ],
      "metadata": {
        "id": "FrkaPft31OaX",
        "colab": {
          "base_uri": "https://localhost:8080/",
          "height": 206
        },
        "outputId": "502bf300-66ab-4b36-e0fc-76570f87b57b"
      },
      "id": "FrkaPft31OaX",
      "execution_count": null,
      "outputs": [
        {
          "output_type": "execute_result",
          "data": {
            "text/plain": [
              "   bone_length  rotting_flesh  hair_length  has_soul  color  type\n",
              "0     0.354512       0.350839     0.465761  0.781142      3     1\n",
              "1     0.575560       0.425868     0.531401  0.439899      4     2\n",
              "2     0.467875       0.354330     0.811616  0.791225      0     1\n",
              "3     0.776652       0.508723     0.636766  0.884464      0     1\n",
              "4     0.566117       0.875862     0.418594  0.636438      4     0"
            ],
            "text/html": [
              "\n",
              "  <div id=\"df-bf83e332-0337-41c7-9199-456b30629d3f\">\n",
              "    <div class=\"colab-df-container\">\n",
              "      <div>\n",
              "<style scoped>\n",
              "    .dataframe tbody tr th:only-of-type {\n",
              "        vertical-align: middle;\n",
              "    }\n",
              "\n",
              "    .dataframe tbody tr th {\n",
              "        vertical-align: top;\n",
              "    }\n",
              "\n",
              "    .dataframe thead th {\n",
              "        text-align: right;\n",
              "    }\n",
              "</style>\n",
              "<table border=\"1\" class=\"dataframe\">\n",
              "  <thead>\n",
              "    <tr style=\"text-align: right;\">\n",
              "      <th></th>\n",
              "      <th>bone_length</th>\n",
              "      <th>rotting_flesh</th>\n",
              "      <th>hair_length</th>\n",
              "      <th>has_soul</th>\n",
              "      <th>color</th>\n",
              "      <th>type</th>\n",
              "    </tr>\n",
              "  </thead>\n",
              "  <tbody>\n",
              "    <tr>\n",
              "      <th>0</th>\n",
              "      <td>0.354512</td>\n",
              "      <td>0.350839</td>\n",
              "      <td>0.465761</td>\n",
              "      <td>0.781142</td>\n",
              "      <td>3</td>\n",
              "      <td>1</td>\n",
              "    </tr>\n",
              "    <tr>\n",
              "      <th>1</th>\n",
              "      <td>0.575560</td>\n",
              "      <td>0.425868</td>\n",
              "      <td>0.531401</td>\n",
              "      <td>0.439899</td>\n",
              "      <td>4</td>\n",
              "      <td>2</td>\n",
              "    </tr>\n",
              "    <tr>\n",
              "      <th>2</th>\n",
              "      <td>0.467875</td>\n",
              "      <td>0.354330</td>\n",
              "      <td>0.811616</td>\n",
              "      <td>0.791225</td>\n",
              "      <td>0</td>\n",
              "      <td>1</td>\n",
              "    </tr>\n",
              "    <tr>\n",
              "      <th>3</th>\n",
              "      <td>0.776652</td>\n",
              "      <td>0.508723</td>\n",
              "      <td>0.636766</td>\n",
              "      <td>0.884464</td>\n",
              "      <td>0</td>\n",
              "      <td>1</td>\n",
              "    </tr>\n",
              "    <tr>\n",
              "      <th>4</th>\n",
              "      <td>0.566117</td>\n",
              "      <td>0.875862</td>\n",
              "      <td>0.418594</td>\n",
              "      <td>0.636438</td>\n",
              "      <td>4</td>\n",
              "      <td>0</td>\n",
              "    </tr>\n",
              "  </tbody>\n",
              "</table>\n",
              "</div>\n",
              "      <button class=\"colab-df-convert\" onclick=\"convertToInteractive('df-bf83e332-0337-41c7-9199-456b30629d3f')\"\n",
              "              title=\"Convert this dataframe to an interactive table.\"\n",
              "              style=\"display:none;\">\n",
              "        \n",
              "  <svg xmlns=\"http://www.w3.org/2000/svg\" height=\"24px\"viewBox=\"0 0 24 24\"\n",
              "       width=\"24px\">\n",
              "    <path d=\"M0 0h24v24H0V0z\" fill=\"none\"/>\n",
              "    <path d=\"M18.56 5.44l.94 2.06.94-2.06 2.06-.94-2.06-.94-.94-2.06-.94 2.06-2.06.94zm-11 1L8.5 8.5l.94-2.06 2.06-.94-2.06-.94L8.5 2.5l-.94 2.06-2.06.94zm10 10l.94 2.06.94-2.06 2.06-.94-2.06-.94-.94-2.06-.94 2.06-2.06.94z\"/><path d=\"M17.41 7.96l-1.37-1.37c-.4-.4-.92-.59-1.43-.59-.52 0-1.04.2-1.43.59L10.3 9.45l-7.72 7.72c-.78.78-.78 2.05 0 2.83L4 21.41c.39.39.9.59 1.41.59.51 0 1.02-.2 1.41-.59l7.78-7.78 2.81-2.81c.8-.78.8-2.07 0-2.86zM5.41 20L4 18.59l7.72-7.72 1.47 1.35L5.41 20z\"/>\n",
              "  </svg>\n",
              "      </button>\n",
              "      \n",
              "  <style>\n",
              "    .colab-df-container {\n",
              "      display:flex;\n",
              "      flex-wrap:wrap;\n",
              "      gap: 12px;\n",
              "    }\n",
              "\n",
              "    .colab-df-convert {\n",
              "      background-color: #E8F0FE;\n",
              "      border: none;\n",
              "      border-radius: 50%;\n",
              "      cursor: pointer;\n",
              "      display: none;\n",
              "      fill: #1967D2;\n",
              "      height: 32px;\n",
              "      padding: 0 0 0 0;\n",
              "      width: 32px;\n",
              "    }\n",
              "\n",
              "    .colab-df-convert:hover {\n",
              "      background-color: #E2EBFA;\n",
              "      box-shadow: 0px 1px 2px rgba(60, 64, 67, 0.3), 0px 1px 3px 1px rgba(60, 64, 67, 0.15);\n",
              "      fill: #174EA6;\n",
              "    }\n",
              "\n",
              "    [theme=dark] .colab-df-convert {\n",
              "      background-color: #3B4455;\n",
              "      fill: #D2E3FC;\n",
              "    }\n",
              "\n",
              "    [theme=dark] .colab-df-convert:hover {\n",
              "      background-color: #434B5C;\n",
              "      box-shadow: 0px 1px 3px 1px rgba(0, 0, 0, 0.15);\n",
              "      filter: drop-shadow(0px 1px 2px rgba(0, 0, 0, 0.3));\n",
              "      fill: #FFFFFF;\n",
              "    }\n",
              "  </style>\n",
              "\n",
              "      <script>\n",
              "        const buttonEl =\n",
              "          document.querySelector('#df-bf83e332-0337-41c7-9199-456b30629d3f button.colab-df-convert');\n",
              "        buttonEl.style.display =\n",
              "          google.colab.kernel.accessAllowed ? 'block' : 'none';\n",
              "\n",
              "        async function convertToInteractive(key) {\n",
              "          const element = document.querySelector('#df-bf83e332-0337-41c7-9199-456b30629d3f');\n",
              "          const dataTable =\n",
              "            await google.colab.kernel.invokeFunction('convertToInteractive',\n",
              "                                                     [key], {});\n",
              "          if (!dataTable) return;\n",
              "\n",
              "          const docLinkHtml = 'Like what you see? Visit the ' +\n",
              "            '<a target=\"_blank\" href=https://colab.research.google.com/notebooks/data_table.ipynb>data table notebook</a>'\n",
              "            + ' to learn more about interactive tables.';\n",
              "          element.innerHTML = '';\n",
              "          dataTable['output_type'] = 'display_data';\n",
              "          await google.colab.output.renderOutput(dataTable, element);\n",
              "          const docLink = document.createElement('div');\n",
              "          docLink.innerHTML = docLinkHtml;\n",
              "          element.appendChild(docLink);\n",
              "        }\n",
              "      </script>\n",
              "    </div>\n",
              "  </div>\n",
              "  "
            ]
          },
          "metadata": {},
          "execution_count": 6
        }
      ]
    },
    {
      "cell_type": "markdown",
      "source": [
        "#### feature간의 상관관계를 확인하는 heatmap을 출력하시오."
      ],
      "metadata": {
        "id": "i9vP5ij_1s_6"
      },
      "id": "i9vP5ij_1s_6"
    },
    {
      "cell_type": "code",
      "source": [
        "import seaborn as sns\n",
        "\n",
        "plt.figure(figsize=(9,9))\n",
        "data = train_df.corr()\n",
        "sns.heatmap(data)"
      ],
      "metadata": {
        "id": "jlYIKAtf1Yb2",
        "colab": {
          "base_uri": "https://localhost:8080/",
          "height": 560
        },
        "outputId": "a403d2fa-7bfa-4f65-c60d-c4a60f35704d"
      },
      "id": "jlYIKAtf1Yb2",
      "execution_count": null,
      "outputs": [
        {
          "output_type": "execute_result",
          "data": {
            "text/plain": [
              "<matplotlib.axes._subplots.AxesSubplot at 0x7f7047bbfd50>"
            ]
          },
          "metadata": {},
          "execution_count": 7
        },
        {
          "output_type": "display_data",
          "data": {
            "text/plain": [
              "<Figure size 648x648 with 2 Axes>"
            ],
            "image/png": "[encoded data removed]"
          },
          "metadata": {
            "needs_background": "light"
          }
        }
      ]
    },
    {
      "cell_type": "markdown",
      "id": "dffe9164",
      "metadata": {
        "id": "dffe9164"
      },
      "source": [
        "#### 독립변수(X)와 종속변수(y-type)로 분리해주세요(iloc 또는 loc 활용) 그리고 확인해주세요.\n",
        "#### X와 y를 X_train, X_test, y_train, y_test으로 나누시오. (test_size=0.2, random_state=12) "
      ]
    },
    {
      "cell_type": "code",
      "execution_count": null,
      "id": "e1f4fb30",
      "metadata": {
        "id": "e1f4fb30"
      },
      "outputs": [],
      "source": [
        "from sklearn.model_selection import train_test_split"
      ]
    },
    {
      "cell_type": "code",
      "execution_count": null,
      "id": "94f2a85c",
      "metadata": {
        "id": "94f2a85c"
      },
      "outputs": [],
      "source": [
        "X = train_df.iloc[:,:-1]\n",
        "y = train_df.iloc[:,5:]"
      ]
    },
    {
      "cell_type": "code",
      "source": [
        "X_train, X_test, y_train, y_test = train_test_split(X, y, test_size=0.2, random_state=120)"
      ],
      "metadata": {
        "id": "CLhsKqQ84yHU"
      },
      "id": "CLhsKqQ84yHU",
      "execution_count": null,
      "outputs": []
    },
    {
      "cell_type": "markdown",
      "source": [
        "#### Gradient Boost를 활용하여 train 세트를 fit 한 후 test 세트로 예측의 정확도를 출력하시오. (random_state=0,n_estimators=50,learning_rate=0.5)\n"
      ],
      "metadata": {
        "id": "RRRzgi_KhGDC"
      },
      "id": "RRRzgi_KhGDC"
    },
    {
      "cell_type": "code",
      "source": [
        "from sklearn.ensemble import GradientBoostingClassifier\n",
        "from sklearn.metrics import accuracy_score"
      ],
      "metadata": {
        "id": "0S0xMFdDgcLb"
      },
      "id": "0S0xMFdDgcLb",
      "execution_count": null,
      "outputs": []
    },
    {
      "cell_type": "code",
      "source": [
        "gb_clf = GradientBoostingClassifier(n_estimators=50, learning_rate=0.5, random_state=0)\n",
        "gb_clf.fit(X_train, y_train)\n",
        "pred = gb_clf.predict(X_test)\n",
        "accuracy = accuracy_score(y_test, pred)\n",
        "print('예측 정확도 : {0:.4f}'.format(accuracy))"
      ],
      "metadata": {
        "id": "LZhBzjGYhrc1",
        "colab": {
          "base_uri": "https://localhost:8080/"
        },
        "outputId": "46378575-e85f-4341-dc04-66513b37a9ab"
      },
      "id": "LZhBzjGYhrc1",
      "execution_count": null,
      "outputs": [
        {
          "output_type": "stream",
          "name": "stdout",
          "text": [
            "예측 정확도 : 0.5867\n"
          ]
        }
      ]
    },
    {
      "cell_type": "markdown",
      "source": [
        "#### GBM 하이퍼 파라미터 튜닝을 한 후, 최적의 하이퍼 파라미터를 구하고 정확도를 출력하시오. 위의 값과 정확도를 비교하시오. 이때 n_estimators는 50,100,500, learning_rate는 0.005, 0.1, 0.5,1,10 을 변수로 넣으시오.(gridsearchCV이용,cv=2,verbose=1)"
      ],
      "metadata": {
        "id": "vd_H18-5hz8o"
      },
      "id": "vd_H18-5hz8o"
    },
    {
      "cell_type": "code",
      "source": [
        "from sklearn.model_selection import GridSearchCV\n",
        "\n",
        "params = {'n_estimators':[50,100,500], 'learning_rate':[0.005,0.1,0.5,1,10]}\n",
        "\n",
        "grid_cv = GridSearchCV(gb_clf, params, cv=2, verbose=1)\n",
        "grid_cv.fit(X_train, y_train)\n",
        "print('최적 파라미터 : ',grid_cv.best_params_)\n",
        "print('최고 예측 정확도 : {0:.4f}'.format(grid_cv.best_score_))\n"
      ],
      "metadata": {
        "id": "e8l6ivZ7hwQI",
        "colab": {
          "base_uri": "https://localhost:8080/"
        },
        "outputId": "ffe010b8-4818-4d72-b0b9-f06790158122"
      },
      "id": "e8l6ivZ7hwQI",
      "execution_count": null,
      "outputs": [
        {
          "output_type": "stream",
          "name": "stdout",
          "text": [
            "Fitting 2 folds for each of 15 candidates, totalling 30 fits\n",
            "최적 파라미터 :  {'learning_rate': 0.5, 'n_estimators': 50}\n",
            "최고 예측 정확도 : 0.7601\n"
          ]
        }
      ]
    },
    {
      "cell_type": "markdown",
      "id": "e4f87798",
      "metadata": {
        "id": "e4f87798"
      },
      "source": [
        "#### 사이킷런 래퍼 클래스 XGBoost를 사용해 train 세트를 fit 한 후 test 세트로 예측의 정확도를 출력하시오. (n_estimators=400, learning_rate = 0.1, max_depth = 3)"
      ]
    },
    {
      "cell_type": "code",
      "execution_count": null,
      "id": "31188f82",
      "metadata": {
        "id": "31188f82"
      },
      "outputs": [],
      "source": [
        "import xgboost as xgb\n",
        "from xgboost import plot_importance\n",
        "from xgboost import XGBClassifier\n",
        "\n",
        "from sklearn.metrics import accuracy_score"
      ]
    },
    {
      "cell_type": "code",
      "execution_count": null,
      "id": "af980052",
      "metadata": {
        "id": "af980052",
        "colab": {
          "base_uri": "https://localhost:8080/"
        },
        "outputId": "adb07667-d235-4231-9f87-b9c05cbf8f33"
      },
      "outputs": [
        {
          "output_type": "stream",
          "name": "stdout",
          "text": [
            "예측 정확도 : 0.6000\n"
          ]
        }
      ],
      "source": [
        "xgb = XGBClassifier(n_estimators=400, learning_rate=0.1, max_depth=3)\n",
        "xgb.fit(X_train, y_train)\n",
        "pred = xgb.predict(X_test)\n",
        "accuracy = accuracy_score(y_test, pred)\n",
        "print('예측 정확도 : {0:.4f}'.format(accuracy))"
      ]
    },
    {
      "cell_type": "markdown",
      "id": "8cbca7f7",
      "metadata": {
        "id": "8cbca7f7"
      },
      "source": [
        "#### 사이킷런 래퍼 클래스 LightGBM를 사용해 train 세트를 fit 한 후 test 세트로 예측의 정확도를 출력하시오. \n",
        "\n",
        "n_estimators=400\n",
        "조기 중단 파라미터: early_stopping_rounds=100, eval_metric=\"logloss\",  eval_set=evals "
      ]
    },
    {
      "cell_type": "code",
      "execution_count": null,
      "id": "b0debb5b",
      "metadata": {
        "id": "b0debb5b",
        "colab": {
          "base_uri": "https://localhost:8080/"
        },
        "outputId": "77e6426c-a30d-42cd-c602-0b63da1cf168"
      },
      "outputs": [
        {
          "output_type": "stream",
          "name": "stdout",
          "text": [
            "[1]\tvalid_0's multi_logloss: 1.0582\tvalid_0's multi_logloss: 1.0582\n",
            "Training until validation scores don't improve for 100 rounds.\n",
            "[2]\tvalid_0's multi_logloss: 1.02126\tvalid_0's multi_logloss: 1.02126\n",
            "[3]\tvalid_0's multi_logloss: 0.990058\tvalid_0's multi_logloss: 0.990058\n",
            "[4]\tvalid_0's multi_logloss: 0.963914\tvalid_0's multi_logloss: 0.963914\n",
            "[5]\tvalid_0's multi_logloss: 0.943196\tvalid_0's multi_logloss: 0.943196\n",
            "[6]\tvalid_0's multi_logloss: 0.921984\tvalid_0's multi_logloss: 0.921984\n",
            "[7]\tvalid_0's multi_logloss: 0.903408\tvalid_0's multi_logloss: 0.903408\n",
            "[8]\tvalid_0's multi_logloss: 0.887559\tvalid_0's multi_logloss: 0.887559\n",
            "[9]\tvalid_0's multi_logloss: 0.875751\tvalid_0's multi_logloss: 0.875751\n",
            "[10]\tvalid_0's multi_logloss: 0.866617\tvalid_0's multi_logloss: 0.866617\n",
            "[11]\tvalid_0's multi_logloss: 0.85743\tvalid_0's multi_logloss: 0.85743\n",
            "[12]\tvalid_0's multi_logloss: 0.849555\tvalid_0's multi_logloss: 0.849555\n",
            "[13]\tvalid_0's multi_logloss: 0.842697\tvalid_0's multi_logloss: 0.842697\n",
            "[14]\tvalid_0's multi_logloss: 0.833059\tvalid_0's multi_logloss: 0.833059\n",
            "[15]\tvalid_0's multi_logloss: 0.826087\tvalid_0's multi_logloss: 0.826087\n",
            "[16]\tvalid_0's multi_logloss: 0.819997\tvalid_0's multi_logloss: 0.819997\n",
            "[17]\tvalid_0's multi_logloss: 0.819641\tvalid_0's multi_logloss: 0.819641\n",
            "[18]\tvalid_0's multi_logloss: 0.814244\tvalid_0's multi_logloss: 0.814244\n",
            "[19]\tvalid_0's multi_logloss: 0.811178\tvalid_0's multi_logloss: 0.811178\n",
            "[20]\tvalid_0's multi_logloss: 0.808344\tvalid_0's multi_logloss: 0.808344\n",
            "[21]\tvalid_0's multi_logloss: 0.806152\tvalid_0's multi_logloss: 0.806152\n",
            "[22]\tvalid_0's multi_logloss: 0.80727\tvalid_0's multi_logloss: 0.80727\n",
            "[23]\tvalid_0's multi_logloss: 0.803561\tvalid_0's multi_logloss: 0.803561\n",
            "[24]\tvalid_0's multi_logloss: 0.804245\tvalid_0's multi_logloss: 0.804245\n",
            "[25]\tvalid_0's multi_logloss: 0.806817\tvalid_0's multi_logloss: 0.806817\n",
            "[26]\tvalid_0's multi_logloss: 0.807714\tvalid_0's multi_logloss: 0.807714\n",
            "[27]\tvalid_0's multi_logloss: 0.81068\tvalid_0's multi_logloss: 0.81068\n",
            "[28]\tvalid_0's multi_logloss: 0.812224\tvalid_0's multi_logloss: 0.812224\n",
            "[29]\tvalid_0's multi_logloss: 0.812702\tvalid_0's multi_logloss: 0.812702\n",
            "[30]\tvalid_0's multi_logloss: 0.812877\tvalid_0's multi_logloss: 0.812877\n",
            "[31]\tvalid_0's multi_logloss: 0.81309\tvalid_0's multi_logloss: 0.81309\n",
            "[32]\tvalid_0's multi_logloss: 0.812945\tvalid_0's multi_logloss: 0.812945\n",
            "[33]\tvalid_0's multi_logloss: 0.81134\tvalid_0's multi_logloss: 0.81134\n",
            "[34]\tvalid_0's multi_logloss: 0.814443\tvalid_0's multi_logloss: 0.814443\n",
            "[35]\tvalid_0's multi_logloss: 0.817889\tvalid_0's multi_logloss: 0.817889\n",
            "[36]\tvalid_0's multi_logloss: 0.822303\tvalid_0's multi_logloss: 0.822303\n",
            "[37]\tvalid_0's multi_logloss: 0.826137\tvalid_0's multi_logloss: 0.826137\n",
            "[38]\tvalid_0's multi_logloss: 0.831596\tvalid_0's multi_logloss: 0.831596\n",
            "[39]\tvalid_0's multi_logloss: 0.836814\tvalid_0's multi_logloss: 0.836814\n",
            "[40]\tvalid_0's multi_logloss: 0.841064\tvalid_0's multi_logloss: 0.841064\n",
            "[41]\tvalid_0's multi_logloss: 0.845348\tvalid_0's multi_logloss: 0.845348\n",
            "[42]\tvalid_0's multi_logloss: 0.852286\tvalid_0's multi_logloss: 0.852286\n",
            "[43]\tvalid_0's multi_logloss: 0.855539\tvalid_0's multi_logloss: 0.855539\n",
            "[44]\tvalid_0's multi_logloss: 0.856611\tvalid_0's multi_logloss: 0.856611\n",
            "[45]\tvalid_0's multi_logloss: 0.859297\tvalid_0's multi_logloss: 0.859297\n",
            "[46]\tvalid_0's multi_logloss: 0.860429\tvalid_0's multi_logloss: 0.860429\n",
            "[47]\tvalid_0's multi_logloss: 0.868214\tvalid_0's multi_logloss: 0.868214\n",
            "[48]\tvalid_0's multi_logloss: 0.872255\tvalid_0's multi_logloss: 0.872255\n",
            "[49]\tvalid_0's multi_logloss: 0.87738\tvalid_0's multi_logloss: 0.87738\n",
            "[50]\tvalid_0's multi_logloss: 0.882327\tvalid_0's multi_logloss: 0.882327\n",
            "[51]\tvalid_0's multi_logloss: 0.888804\tvalid_0's multi_logloss: 0.888804\n",
            "[52]\tvalid_0's multi_logloss: 0.897899\tvalid_0's multi_logloss: 0.897899\n",
            "[53]\tvalid_0's multi_logloss: 0.902711\tvalid_0's multi_logloss: 0.902711\n",
            "[54]\tvalid_0's multi_logloss: 0.906211\tvalid_0's multi_logloss: 0.906211\n",
            "[55]\tvalid_0's multi_logloss: 0.91482\tvalid_0's multi_logloss: 0.91482\n",
            "[56]\tvalid_0's multi_logloss: 0.918062\tvalid_0's multi_logloss: 0.918062\n",
            "[57]\tvalid_0's multi_logloss: 0.923774\tvalid_0's multi_logloss: 0.923774\n",
            "[58]\tvalid_0's multi_logloss: 0.926039\tvalid_0's multi_logloss: 0.926039\n",
            "[59]\tvalid_0's multi_logloss: 0.937217\tvalid_0's multi_logloss: 0.937217\n",
            "[60]\tvalid_0's multi_logloss: 0.941305\tvalid_0's multi_logloss: 0.941305\n",
            "[61]\tvalid_0's multi_logloss: 0.945728\tvalid_0's multi_logloss: 0.945728\n",
            "[62]\tvalid_0's multi_logloss: 0.953104\tvalid_0's multi_logloss: 0.953104\n",
            "[63]\tvalid_0's multi_logloss: 0.95946\tvalid_0's multi_logloss: 0.95946\n",
            "[64]\tvalid_0's multi_logloss: 0.960878\tvalid_0's multi_logloss: 0.960878\n",
            "[65]\tvalid_0's multi_logloss: 0.962606\tvalid_0's multi_logloss: 0.962606\n",
            "[66]\tvalid_0's multi_logloss: 0.966864\tvalid_0's multi_logloss: 0.966864\n",
            "[67]\tvalid_0's multi_logloss: 0.970941\tvalid_0's multi_logloss: 0.970941\n",
            "[68]\tvalid_0's multi_logloss: 0.974468\tvalid_0's multi_logloss: 0.974468\n",
            "[69]\tvalid_0's multi_logloss: 0.978145\tvalid_0's multi_logloss: 0.978145\n",
            "[70]\tvalid_0's multi_logloss: 0.982751\tvalid_0's multi_logloss: 0.982751\n",
            "[71]\tvalid_0's multi_logloss: 0.988361\tvalid_0's multi_logloss: 0.988361\n",
            "[72]\tvalid_0's multi_logloss: 0.994833\tvalid_0's multi_logloss: 0.994833\n",
            "[73]\tvalid_0's multi_logloss: 0.998499\tvalid_0's multi_logloss: 0.998499\n",
            "[74]\tvalid_0's multi_logloss: 1.00131\tvalid_0's multi_logloss: 1.00131\n",
            "[75]\tvalid_0's multi_logloss: 1.0044\tvalid_0's multi_logloss: 1.0044\n",
            "[76]\tvalid_0's multi_logloss: 1.00914\tvalid_0's multi_logloss: 1.00914\n",
            "[77]\tvalid_0's multi_logloss: 1.01657\tvalid_0's multi_logloss: 1.01657\n",
            "[78]\tvalid_0's multi_logloss: 1.02027\tvalid_0's multi_logloss: 1.02027\n",
            "[79]\tvalid_0's multi_logloss: 1.02276\tvalid_0's multi_logloss: 1.02276\n",
            "[80]\tvalid_0's multi_logloss: 1.02658\tvalid_0's multi_logloss: 1.02658\n",
            "[81]\tvalid_0's multi_logloss: 1.03617\tvalid_0's multi_logloss: 1.03617\n",
            "[82]\tvalid_0's multi_logloss: 1.04368\tvalid_0's multi_logloss: 1.04368\n",
            "[83]\tvalid_0's multi_logloss: 1.04988\tvalid_0's multi_logloss: 1.04988\n",
            "[84]\tvalid_0's multi_logloss: 1.05784\tvalid_0's multi_logloss: 1.05784\n",
            "[85]\tvalid_0's multi_logloss: 1.06231\tvalid_0's multi_logloss: 1.06231\n",
            "[86]\tvalid_0's multi_logloss: 1.06709\tvalid_0's multi_logloss: 1.06709\n",
            "[87]\tvalid_0's multi_logloss: 1.06843\tvalid_0's multi_logloss: 1.06843\n",
            "[88]\tvalid_0's multi_logloss: 1.07555\tvalid_0's multi_logloss: 1.07555\n",
            "[89]\tvalid_0's multi_logloss: 1.08277\tvalid_0's multi_logloss: 1.08277\n",
            "[90]\tvalid_0's multi_logloss: 1.08708\tvalid_0's multi_logloss: 1.08708\n",
            "[91]\tvalid_0's multi_logloss: 1.09338\tvalid_0's multi_logloss: 1.09338\n",
            "[92]\tvalid_0's multi_logloss: 1.09589\tvalid_0's multi_logloss: 1.09589\n",
            "[93]\tvalid_0's multi_logloss: 1.10055\tvalid_0's multi_logloss: 1.10055\n",
            "[94]\tvalid_0's multi_logloss: 1.10879\tvalid_0's multi_logloss: 1.10879\n",
            "[95]\tvalid_0's multi_logloss: 1.11451\tvalid_0's multi_logloss: 1.11451\n",
            "[96]\tvalid_0's multi_logloss: 1.12137\tvalid_0's multi_logloss: 1.12137\n",
            "[97]\tvalid_0's multi_logloss: 1.12941\tvalid_0's multi_logloss: 1.12941\n",
            "[98]\tvalid_0's multi_logloss: 1.13701\tvalid_0's multi_logloss: 1.13701\n",
            "[99]\tvalid_0's multi_logloss: 1.14237\tvalid_0's multi_logloss: 1.14237\n",
            "[100]\tvalid_0's multi_logloss: 1.14902\tvalid_0's multi_logloss: 1.14902\n",
            "[101]\tvalid_0's multi_logloss: 1.15543\tvalid_0's multi_logloss: 1.15543\n",
            "[102]\tvalid_0's multi_logloss: 1.1633\tvalid_0's multi_logloss: 1.1633\n",
            "[103]\tvalid_0's multi_logloss: 1.16619\tvalid_0's multi_logloss: 1.16619\n",
            "[104]\tvalid_0's multi_logloss: 1.17118\tvalid_0's multi_logloss: 1.17118\n",
            "[105]\tvalid_0's multi_logloss: 1.16918\tvalid_0's multi_logloss: 1.16918\n",
            "[106]\tvalid_0's multi_logloss: 1.17608\tvalid_0's multi_logloss: 1.17608\n",
            "[107]\tvalid_0's multi_logloss: 1.18309\tvalid_0's multi_logloss: 1.18309\n",
            "[108]\tvalid_0's multi_logloss: 1.18943\tvalid_0's multi_logloss: 1.18943\n",
            "[109]\tvalid_0's multi_logloss: 1.19504\tvalid_0's multi_logloss: 1.19504\n",
            "[110]\tvalid_0's multi_logloss: 1.19961\tvalid_0's multi_logloss: 1.19961\n",
            "[111]\tvalid_0's multi_logloss: 1.20239\tvalid_0's multi_logloss: 1.20239\n",
            "[112]\tvalid_0's multi_logloss: 1.21092\tvalid_0's multi_logloss: 1.21092\n",
            "[113]\tvalid_0's multi_logloss: 1.21684\tvalid_0's multi_logloss: 1.21684\n",
            "[114]\tvalid_0's multi_logloss: 1.22279\tvalid_0's multi_logloss: 1.22279\n",
            "[115]\tvalid_0's multi_logloss: 1.22959\tvalid_0's multi_logloss: 1.22959\n",
            "[116]\tvalid_0's multi_logloss: 1.23946\tvalid_0's multi_logloss: 1.23946\n",
            "[117]\tvalid_0's multi_logloss: 1.24772\tvalid_0's multi_logloss: 1.24772\n",
            "[118]\tvalid_0's multi_logloss: 1.25602\tvalid_0's multi_logloss: 1.25602\n",
            "[119]\tvalid_0's multi_logloss: 1.26508\tvalid_0's multi_logloss: 1.26508\n",
            "[120]\tvalid_0's multi_logloss: 1.26718\tvalid_0's multi_logloss: 1.26718\n",
            "[121]\tvalid_0's multi_logloss: 1.27275\tvalid_0's multi_logloss: 1.27275\n",
            "[122]\tvalid_0's multi_logloss: 1.27598\tvalid_0's multi_logloss: 1.27598\n",
            "[123]\tvalid_0's multi_logloss: 1.27401\tvalid_0's multi_logloss: 1.27401\n",
            "Early stopping, best iteration is:\n",
            "[23]\tvalid_0's multi_logloss: 0.803561\tvalid_0's multi_logloss: 0.803561\n",
            "예측 정확도 : 0.6133\n"
          ]
        }
      ],
      "source": [
        "import lightgbm\n",
        "from lightgbm import LGBMClassifier\n",
        "\n",
        "evals = [(X_test, y_test)]\n",
        "lgbm = LGBMClassifier(n_estimators=400)\n",
        "lgbm.fit(X_train, y_train, early_stopping_rounds=100, eval_metric='logloss', eval_set=evals)\n",
        "pred = lgbm.predict(X_test)\n",
        "accuracy = accuracy_score(y_test, pred)\n",
        "print('예측 정확도 : {0:.4f}'.format(accuracy))"
      ]
    },
    {
      "cell_type": "markdown",
      "source": [
        "## Stacking 실습"
      ],
      "metadata": {
        "id": "DQ3Lnuevoz4w"
      },
      "id": "DQ3Lnuevoz4w"
    },
    {
      "cell_type": "markdown",
      "source": [
        "CV set 기반 stacking을 통해 앙상블 모델을 만드려고 합니다.    \n",
        "개별 모델이 교차검증을 통해 최종 모델이 사용할 학습용, 테스트용 데이터를 만드는 함수를 생성하시오.\n",
        "```\n",
        "def get_stacking_dataset(model, X_train, y_train, X_test, n_folds):\n",
        "    return train_fold_pred , test_pred_mean\n",
        "```"
      ],
      "metadata": {
        "id": "FSqK0PzP-YmZ"
      },
      "id": "FSqK0PzP-YmZ"
    },
    {
      "cell_type": "code",
      "source": [
        "from sklearn.model_selection import KFold"
      ],
      "metadata": {
        "id": "2rAXie71wLoS"
      },
      "id": "2rAXie71wLoS",
      "execution_count": null,
      "outputs": []
    },
    {
      "cell_type": "code",
      "source": [
        "def get_stacking_dataset(model, X_train, y_train, X_test, n_folds):\n",
        "  kfold = KFold(n_splits=n_folds, shuffle=False)\n",
        "  train_fold_pred = np.zeros((X_train.shape[0],1))\n",
        "  test_pred_mean = np.zeros((X_test.shape[0],n_folds))\n",
        "\n",
        "  for fold_cnt, (train_index, valid_index) in enumerate(kfold.split(X_train)):\n",
        "    X_tr = X_train[train_index]\n",
        "    y_tr = y_train[train_index]\n",
        "    X_val = X_train[valid_index]\n",
        "\n",
        "    model.fit(X_tr, y_tr)\n",
        "    train_fold_pred[valid_index, :] = model.predict(X_val).reshape(-1,1)\n",
        "    test_pred_mean[:,fold_cnt] = model.predict(X_test)\n",
        "\n",
        "  test_pred_mean = np.mean(test_pred_mean, axis=1).reshape(-1,1)\n",
        "\n",
        "  return train_fold_pred, test_pred_mean"
      ],
      "metadata": {
        "id": "wxGOf8YapU_C"
      },
      "id": "wxGOf8YapU_C",
      "execution_count": null,
      "outputs": []
    },
    {
      "cell_type": "markdown",
      "source": [
        "스태킹에 사용될 개별 모델을 생성하시오.\n",
        "\n",
        "개별 모델:  KNN(n_neighbors=4), 랜덤 포레스트(n_estimators=100, random_state=0), 결정 트리, AdaBoost(n_estimators=100), LightGBM(n_estimators=400)\n",
        "\n",
        "최종 모델: 로지스틱 회귀 (C=10)"
      ],
      "metadata": {
        "id": "KMgeLW3NA8Q5"
      },
      "id": "KMgeLW3NA8Q5"
    },
    {
      "cell_type": "code",
      "source": [
        "from sklearn.neighbors import KNeighborsClassifier\n",
        "from sklearn.ensemble import RandomForestClassifier\n",
        "from sklearn.ensemble import AdaBoostClassifier\n",
        "from sklearn.tree import DecisionTreeClassifier\n",
        "import lightgbm\n",
        "from lightgbm import LGBMClassifier\n",
        "from sklearn.linear_model import LogisticRegression\n",
        "\n",
        "knn = KNeighborsClassifier(n_neighbors=4)\n",
        "rf = RandomForestClassifier(n_estimators=100, random_state=0)\n",
        "dt = DecisionTreeClassifier()\n",
        "ada = AdaBoostClassifier(n_estimators=100)\n",
        "lgbm = LGBMClassifier(n_estimators=400)\n",
        "\n",
        "lr_final = LogisticRegression(C=10)"
      ],
      "metadata": {
        "id": "PvuuPu9Op1eb"
      },
      "id": "PvuuPu9Op1eb",
      "execution_count": null,
      "outputs": []
    },
    {
      "cell_type": "markdown",
      "source": [
        "위에서 생성한 함수를 사용해 개별 모델을 학습, 예측시켜 메타모델에 사용될 학습용 데이터와 테스트용 데이터를 생성하고, 스태킹하시오.  \n",
        "fold 수 = 6  \n",
        "학습용 데이터 : stacked_X_train  \n",
        "테스트용 데이터 : stacked_X_test"
      ],
      "metadata": {
        "id": "Wew3mwTxBWAZ"
      },
      "id": "Wew3mwTxBWAZ"
    },
    {
      "cell_type": "code",
      "source": [
        "knn_train, knn_test = get_stacking_dataset(knn, X_train, y_train, X_test, 6)\n",
        "rf_train, rf_test = get_stacking_dataset(rf, X_train, y_train, X_test, 6)\n",
        "dt_train, dt_test = get_stacking_dataset(dt, X_train, y_train, X_test, 6)\n",
        "ada_train, ada_test = get_stacking_dataset(ada, X_train, y_train, X_test, 6)\n",
        "lgbm_train,lgbm_test = get_stacking_dataset(lgbm, X_train, y_train, X_test, 6)"
      ],
      "metadata": {
        "id": "lJI0HG3Bp2TC",
        "colab": {
          "base_uri": "https://localhost:8080/",
          "height": 411
        },
        "outputId": "3edeeb61-1927-4d45-bc3e-be28cf97ae5d"
      },
      "id": "lJI0HG3Bp2TC",
      "execution_count": null,
      "outputs": [
        {
          "output_type": "error",
          "ename": "KeyError",
          "evalue": "ignored",
          "traceback": [
            "\u001b[0;31m---------------------------------------------------------------------------\u001b[0m",
            "\u001b[0;31mKeyError\u001b[0m                                  Traceback (most recent call last)",
            "\u001b[0;32m<ipython-input-53-0489b139beda>\u001b[0m in \u001b[0;36m<module>\u001b[0;34m\u001b[0m\n\u001b[0;32m----> 1\u001b[0;31m \u001b[0mknn_train\u001b[0m\u001b[0;34m,\u001b[0m \u001b[0mknn_test\u001b[0m \u001b[0;34m=\u001b[0m \u001b[0mget_stacking_dataset\u001b[0m\u001b[0;34m(\u001b[0m\u001b[0mknn\u001b[0m\u001b[0;34m,\u001b[0m \u001b[0mX_train\u001b[0m\u001b[0;34m,\u001b[0m \u001b[0my_train\u001b[0m\u001b[0;34m,\u001b[0m \u001b[0mX_test\u001b[0m\u001b[0;34m,\u001b[0m \u001b[0;36m6\u001b[0m\u001b[0;34m)\u001b[0m\u001b[0;34m\u001b[0m\u001b[0;34m\u001b[0m\u001b[0m\n\u001b[0m\u001b[1;32m      2\u001b[0m \u001b[0mrf_train\u001b[0m\u001b[0;34m,\u001b[0m \u001b[0mrf_test\u001b[0m \u001b[0;34m=\u001b[0m \u001b[0mget_stacking_dataset\u001b[0m\u001b[0;34m(\u001b[0m\u001b[0mrf\u001b[0m\u001b[0;34m,\u001b[0m \u001b[0mX_train\u001b[0m\u001b[0;34m,\u001b[0m \u001b[0my_train\u001b[0m\u001b[0;34m,\u001b[0m \u001b[0mX_test\u001b[0m\u001b[0;34m,\u001b[0m \u001b[0;36m6\u001b[0m\u001b[0;34m)\u001b[0m\u001b[0;34m\u001b[0m\u001b[0;34m\u001b[0m\u001b[0m\n\u001b[1;32m      3\u001b[0m \u001b[0mdt_train\u001b[0m\u001b[0;34m,\u001b[0m \u001b[0mdt_test\u001b[0m \u001b[0;34m=\u001b[0m \u001b[0mget_stacking_dataset\u001b[0m\u001b[0;34m(\u001b[0m\u001b[0mdt\u001b[0m\u001b[0;34m,\u001b[0m \u001b[0mX_train\u001b[0m\u001b[0;34m,\u001b[0m \u001b[0my_train\u001b[0m\u001b[0;34m,\u001b[0m \u001b[0mX_test\u001b[0m\u001b[0;34m,\u001b[0m \u001b[0;36m6\u001b[0m\u001b[0;34m)\u001b[0m\u001b[0;34m\u001b[0m\u001b[0;34m\u001b[0m\u001b[0m\n\u001b[1;32m      4\u001b[0m \u001b[0mada_train\u001b[0m\u001b[0;34m,\u001b[0m \u001b[0mada_test\u001b[0m \u001b[0;34m=\u001b[0m \u001b[0mget_stacking_dataset\u001b[0m\u001b[0;34m(\u001b[0m\u001b[0mada\u001b[0m\u001b[0;34m,\u001b[0m \u001b[0mX_train\u001b[0m\u001b[0;34m,\u001b[0m \u001b[0my_train\u001b[0m\u001b[0;34m,\u001b[0m \u001b[0mX_test\u001b[0m\u001b[0;34m,\u001b[0m \u001b[0;36m6\u001b[0m\u001b[0;34m)\u001b[0m\u001b[0;34m\u001b[0m\u001b[0;34m\u001b[0m\u001b[0m\n\u001b[1;32m      5\u001b[0m \u001b[0mlgbm_train\u001b[0m\u001b[0;34m,\u001b[0m\u001b[0mlgbm_test\u001b[0m \u001b[0;34m=\u001b[0m \u001b[0mget_stacking_dataset\u001b[0m\u001b[0;34m(\u001b[0m\u001b[0mlgbm\u001b[0m\u001b[0;34m,\u001b[0m \u001b[0mX_train\u001b[0m\u001b[0;34m,\u001b[0m \u001b[0my_train\u001b[0m\u001b[0;34m,\u001b[0m \u001b[0mX_test\u001b[0m\u001b[0;34m,\u001b[0m \u001b[0;36m6\u001b[0m\u001b[0;34m)\u001b[0m\u001b[0;34m\u001b[0m\u001b[0;34m\u001b[0m\u001b[0m\n",
            "\u001b[0;32m<ipython-input-48-e23735e53bd7>\u001b[0m in \u001b[0;36mget_stacking_dataset\u001b[0;34m(model, X_train, y_train, X_test, n_folds)\u001b[0m\n\u001b[1;32m      5\u001b[0m \u001b[0;34m\u001b[0m\u001b[0m\n\u001b[1;32m      6\u001b[0m   \u001b[0;32mfor\u001b[0m \u001b[0mfold_cnt\u001b[0m\u001b[0;34m,\u001b[0m \u001b[0;34m(\u001b[0m\u001b[0mtrain_index\u001b[0m\u001b[0;34m,\u001b[0m \u001b[0mvalid_index\u001b[0m\u001b[0;34m)\u001b[0m \u001b[0;32min\u001b[0m \u001b[0menumerate\u001b[0m\u001b[0;34m(\u001b[0m\u001b[0mkfold\u001b[0m\u001b[0;34m.\u001b[0m\u001b[0msplit\u001b[0m\u001b[0;34m(\u001b[0m\u001b[0mX_train\u001b[0m\u001b[0;34m)\u001b[0m\u001b[0;34m)\u001b[0m\u001b[0;34m:\u001b[0m\u001b[0;34m\u001b[0m\u001b[0;34m\u001b[0m\u001b[0m\n\u001b[0;32m----> 7\u001b[0;31m     \u001b[0mX_tr\u001b[0m \u001b[0;34m=\u001b[0m \u001b[0mX_train\u001b[0m\u001b[0;34m[\u001b[0m\u001b[0mtrain_index\u001b[0m\u001b[0;34m]\u001b[0m\u001b[0;34m\u001b[0m\u001b[0;34m\u001b[0m\u001b[0m\n\u001b[0m\u001b[1;32m      8\u001b[0m     \u001b[0my_tr\u001b[0m \u001b[0;34m=\u001b[0m \u001b[0my_train\u001b[0m\u001b[0;34m[\u001b[0m\u001b[0mtrain_index\u001b[0m\u001b[0;34m]\u001b[0m\u001b[0;34m\u001b[0m\u001b[0;34m\u001b[0m\u001b[0m\n\u001b[1;32m      9\u001b[0m     \u001b[0mX_val\u001b[0m \u001b[0;34m=\u001b[0m \u001b[0mX_train\u001b[0m\u001b[0;34m[\u001b[0m\u001b[0mvalid_index\u001b[0m\u001b[0;34m]\u001b[0m\u001b[0;34m\u001b[0m\u001b[0;34m\u001b[0m\u001b[0m\n",
            "\u001b[0;32m/usr/local/lib/python3.7/dist-packages/pandas/core/frame.py\u001b[0m in \u001b[0;36m__getitem__\u001b[0;34m(self, key)\u001b[0m\n\u001b[1;32m   3462\u001b[0m             \u001b[0;32mif\u001b[0m \u001b[0mis_iterator\u001b[0m\u001b[0;34m(\u001b[0m\u001b[0mkey\u001b[0m\u001b[0;34m)\u001b[0m\u001b[0;34m:\u001b[0m\u001b[0;34m\u001b[0m\u001b[0;34m\u001b[0m\u001b[0m\n\u001b[1;32m   3463\u001b[0m                 \u001b[0mkey\u001b[0m \u001b[0;34m=\u001b[0m \u001b[0mlist\u001b[0m\u001b[0;34m(\u001b[0m\u001b[0mkey\u001b[0m\u001b[0;34m)\u001b[0m\u001b[0;34m\u001b[0m\u001b[0;34m\u001b[0m\u001b[0m\n\u001b[0;32m-> 3464\u001b[0;31m             \u001b[0mindexer\u001b[0m \u001b[0;34m=\u001b[0m \u001b[0mself\u001b[0m\u001b[0;34m.\u001b[0m\u001b[0mloc\u001b[0m\u001b[0;34m.\u001b[0m\u001b[0m_get_listlike_indexer\u001b[0m\u001b[0;34m(\u001b[0m\u001b[0mkey\u001b[0m\u001b[0;34m,\u001b[0m \u001b[0maxis\u001b[0m\u001b[0;34m=\u001b[0m\u001b[0;36m1\u001b[0m\u001b[0;34m)\u001b[0m\u001b[0;34m[\u001b[0m\u001b[0;36m1\u001b[0m\u001b[0;34m]\u001b[0m\u001b[0;34m\u001b[0m\u001b[0;34m\u001b[0m\u001b[0m\n\u001b[0m\u001b[1;32m   3465\u001b[0m \u001b[0;34m\u001b[0m\u001b[0m\n\u001b[1;32m   3466\u001b[0m         \u001b[0;31m# take() does not accept boolean indexers\u001b[0m\u001b[0;34m\u001b[0m\u001b[0;34m\u001b[0m\u001b[0;34m\u001b[0m\u001b[0m\n",
            "\u001b[0;32m/usr/local/lib/python3.7/dist-packages/pandas/core/indexing.py\u001b[0m in \u001b[0;36m_get_listlike_indexer\u001b[0;34m(self, key, axis)\u001b[0m\n\u001b[1;32m   1312\u001b[0m             \u001b[0mkeyarr\u001b[0m\u001b[0;34m,\u001b[0m \u001b[0mindexer\u001b[0m\u001b[0;34m,\u001b[0m \u001b[0mnew_indexer\u001b[0m \u001b[0;34m=\u001b[0m \u001b[0max\u001b[0m\u001b[0;34m.\u001b[0m\u001b[0m_reindex_non_unique\u001b[0m\u001b[0;34m(\u001b[0m\u001b[0mkeyarr\u001b[0m\u001b[0;34m)\u001b[0m\u001b[0;34m\u001b[0m\u001b[0;34m\u001b[0m\u001b[0m\n\u001b[1;32m   1313\u001b[0m \u001b[0;34m\u001b[0m\u001b[0m\n\u001b[0;32m-> 1314\u001b[0;31m         \u001b[0mself\u001b[0m\u001b[0;34m.\u001b[0m\u001b[0m_validate_read_indexer\u001b[0m\u001b[0;34m(\u001b[0m\u001b[0mkeyarr\u001b[0m\u001b[0;34m,\u001b[0m \u001b[0mindexer\u001b[0m\u001b[0;34m,\u001b[0m \u001b[0maxis\u001b[0m\u001b[0;34m)\u001b[0m\u001b[0;34m\u001b[0m\u001b[0;34m\u001b[0m\u001b[0m\n\u001b[0m\u001b[1;32m   1315\u001b[0m \u001b[0;34m\u001b[0m\u001b[0m\n\u001b[1;32m   1316\u001b[0m         if needs_i8_conversion(ax.dtype) or isinstance(\n",
            "\u001b[0;32m/usr/local/lib/python3.7/dist-packages/pandas/core/indexing.py\u001b[0m in \u001b[0;36m_validate_read_indexer\u001b[0;34m(self, key, indexer, axis)\u001b[0m\n\u001b[1;32m   1372\u001b[0m                 \u001b[0;32mif\u001b[0m \u001b[0muse_interval_msg\u001b[0m\u001b[0;34m:\u001b[0m\u001b[0;34m\u001b[0m\u001b[0;34m\u001b[0m\u001b[0m\n\u001b[1;32m   1373\u001b[0m                     \u001b[0mkey\u001b[0m \u001b[0;34m=\u001b[0m \u001b[0mlist\u001b[0m\u001b[0;34m(\u001b[0m\u001b[0mkey\u001b[0m\u001b[0;34m)\u001b[0m\u001b[0;34m\u001b[0m\u001b[0;34m\u001b[0m\u001b[0m\n\u001b[0;32m-> 1374\u001b[0;31m                 \u001b[0;32mraise\u001b[0m \u001b[0mKeyError\u001b[0m\u001b[0;34m(\u001b[0m\u001b[0;34mf\"None of [{key}] are in the [{axis_name}]\"\u001b[0m\u001b[0;34m)\u001b[0m\u001b[0;34m\u001b[0m\u001b[0;34m\u001b[0m\u001b[0m\n\u001b[0m\u001b[1;32m   1375\u001b[0m \u001b[0;34m\u001b[0m\u001b[0m\n\u001b[1;32m   1376\u001b[0m             \u001b[0mnot_found\u001b[0m \u001b[0;34m=\u001b[0m \u001b[0mlist\u001b[0m\u001b[0;34m(\u001b[0m\u001b[0mensure_index\u001b[0m\u001b[0;34m(\u001b[0m\u001b[0mkey\u001b[0m\u001b[0;34m)\u001b[0m\u001b[0;34m[\u001b[0m\u001b[0mmissing_mask\u001b[0m\u001b[0;34m.\u001b[0m\u001b[0mnonzero\u001b[0m\u001b[0;34m(\u001b[0m\u001b[0;34m)\u001b[0m\u001b[0;34m[\u001b[0m\u001b[0;36m0\u001b[0m\u001b[0;34m]\u001b[0m\u001b[0;34m]\u001b[0m\u001b[0;34m.\u001b[0m\u001b[0munique\u001b[0m\u001b[0;34m(\u001b[0m\u001b[0;34m)\u001b[0m\u001b[0;34m)\u001b[0m\u001b[0;34m\u001b[0m\u001b[0;34m\u001b[0m\u001b[0m\n",
            "\u001b[0;31mKeyError\u001b[0m: \"None of [Int64Index([ 50,  51,  52,  53,  54,  55,  56,  57,  58,  59,\\n            ...\\n            286, 287, 288, 289, 290, 291, 292, 293, 294, 295],\\n           dtype='int64', length=246)] are in the [columns]\""
          ]
        }
      ]
    },
    {
      "cell_type": "code",
      "source": [
        "stacked_X_train = np.concatenate((knn_train, rf_train, dt_train, ada_train, lgbm_train ), axis=1)\n",
        "stacked_X_test = np.concatenate((knn_test, rf_test, dt_test, ada_test, lgbm_test ), axis=1)\n",
        "\n",
        "print('Original train / test : ', X_train.shape, ' / ', X_test.shape)\n",
        "print('Stacking train / test : ', stacked_X_train.shape, ' / ', stacked_X_test.shape)"
      ],
      "metadata": {
        "id": "NtuEJGkep6EV",
        "colab": {
          "base_uri": "https://localhost:8080/",
          "height": 189
        },
        "outputId": "f01bf94f-1d91-421a-9932-0c58605b46c3"
      },
      "id": "NtuEJGkep6EV",
      "execution_count": null,
      "outputs": [
        {
          "output_type": "error",
          "ename": "NameError",
          "evalue": "ignored",
          "traceback": [
            "\u001b[0;31m---------------------------------------------------------------------------\u001b[0m",
            "\u001b[0;31mNameError\u001b[0m                                 Traceback (most recent call last)",
            "\u001b[0;32m<ipython-input-52-b8b337c073b6>\u001b[0m in \u001b[0;36m<module>\u001b[0;34m\u001b[0m\n\u001b[0;32m----> 1\u001b[0;31m \u001b[0mstacked_X_train\u001b[0m \u001b[0;34m=\u001b[0m \u001b[0mnp\u001b[0m\u001b[0;34m.\u001b[0m\u001b[0mconcatenate\u001b[0m\u001b[0;34m(\u001b[0m\u001b[0;34m(\u001b[0m\u001b[0mknn_train\u001b[0m\u001b[0;34m,\u001b[0m \u001b[0mrf_train\u001b[0m\u001b[0;34m,\u001b[0m \u001b[0mdt_train\u001b[0m\u001b[0;34m,\u001b[0m \u001b[0mada_train\u001b[0m\u001b[0;34m,\u001b[0m \u001b[0mlgbm_train\u001b[0m \u001b[0;34m)\u001b[0m\u001b[0;34m,\u001b[0m \u001b[0maxis\u001b[0m\u001b[0;34m=\u001b[0m\u001b[0;36m1\u001b[0m\u001b[0;34m)\u001b[0m\u001b[0;34m\u001b[0m\u001b[0;34m\u001b[0m\u001b[0m\n\u001b[0m\u001b[1;32m      2\u001b[0m \u001b[0mstacked_X_test\u001b[0m \u001b[0;34m=\u001b[0m \u001b[0mnp\u001b[0m\u001b[0;34m.\u001b[0m\u001b[0mconcatenate\u001b[0m\u001b[0;34m(\u001b[0m\u001b[0;34m(\u001b[0m\u001b[0mknn_test\u001b[0m\u001b[0;34m,\u001b[0m \u001b[0mrf_test\u001b[0m\u001b[0;34m,\u001b[0m \u001b[0mdt_test\u001b[0m\u001b[0;34m,\u001b[0m \u001b[0mada_test\u001b[0m\u001b[0;34m,\u001b[0m \u001b[0mlgbm_test\u001b[0m \u001b[0;34m)\u001b[0m\u001b[0;34m,\u001b[0m \u001b[0maxis\u001b[0m\u001b[0;34m=\u001b[0m\u001b[0;36m1\u001b[0m\u001b[0;34m)\u001b[0m\u001b[0;34m\u001b[0m\u001b[0;34m\u001b[0m\u001b[0m\n",
            "\u001b[0;31mNameError\u001b[0m: name 'knn_train' is not defined"
          ]
        }
      ]
    },
    {
      "cell_type": "markdown",
      "source": [
        "최종 모델 (logistic regression)을 학습시키고, 정확도를 구하시오."
      ],
      "metadata": {
        "id": "z1wPcXvNHH8t"
      },
      "id": "z1wPcXvNHH8t"
    },
    {
      "cell_type": "code",
      "source": [
        "lr_final.fit(stacked_X_train, y_train)\n",
        "pred = lr_final.predict(stacked_X_test)\n",
        "accuracy = accuracy_score(y_test, pred)\n",
        "print('정확도 : {0:.4f}'.format(accuracy))"
      ],
      "metadata": {
        "id": "OFqd1by6p2z1",
        "colab": {
          "base_uri": "https://localhost:8080/",
          "height": 225
        },
        "outputId": "b1b00d57-6b5d-4778-a3f0-5cb0c756812c"
      },
      "id": "OFqd1by6p2z1",
      "execution_count": null,
      "outputs": [
        {
          "output_type": "error",
          "ename": "NameError",
          "evalue": "ignored",
          "traceback": [
            "\u001b[0;31m---------------------------------------------------------------------------\u001b[0m",
            "\u001b[0;31mNameError\u001b[0m                                 Traceback (most recent call last)",
            "\u001b[0;32m<ipython-input-54-36a606a83252>\u001b[0m in \u001b[0;36m<module>\u001b[0;34m\u001b[0m\n\u001b[0;32m----> 1\u001b[0;31m \u001b[0mlr_final\u001b[0m\u001b[0;34m.\u001b[0m\u001b[0mfit\u001b[0m\u001b[0;34m(\u001b[0m\u001b[0mstacked_X_train\u001b[0m\u001b[0;34m,\u001b[0m \u001b[0my_train\u001b[0m\u001b[0;34m)\u001b[0m\u001b[0;34m\u001b[0m\u001b[0;34m\u001b[0m\u001b[0m\n\u001b[0m\u001b[1;32m      2\u001b[0m \u001b[0mpred\u001b[0m \u001b[0;34m=\u001b[0m \u001b[0mlr_final\u001b[0m\u001b[0;34m.\u001b[0m\u001b[0mpredict\u001b[0m\u001b[0;34m(\u001b[0m\u001b[0mstacked_X_test\u001b[0m\u001b[0;34m)\u001b[0m\u001b[0;34m\u001b[0m\u001b[0;34m\u001b[0m\u001b[0m\n\u001b[1;32m      3\u001b[0m \u001b[0maccuracy\u001b[0m \u001b[0;34m=\u001b[0m \u001b[0maccuracy_score\u001b[0m\u001b[0;34m(\u001b[0m\u001b[0my_test\u001b[0m\u001b[0;34m,\u001b[0m \u001b[0mpred\u001b[0m\u001b[0;34m)\u001b[0m\u001b[0;34m\u001b[0m\u001b[0;34m\u001b[0m\u001b[0m\n\u001b[1;32m      4\u001b[0m \u001b[0mprint\u001b[0m\u001b[0;34m(\u001b[0m\u001b[0;34m'정확도 : {0:.4f}'\u001b[0m\u001b[0;34m.\u001b[0m\u001b[0mformat\u001b[0m\u001b[0;34m(\u001b[0m\u001b[0maccuracy\u001b[0m\u001b[0;34m)\u001b[0m\u001b[0;34m)\u001b[0m\u001b[0;34m\u001b[0m\u001b[0;34m\u001b[0m\u001b[0m\n",
            "\u001b[0;31mNameError\u001b[0m: name 'stacked_X_train' is not defined"
          ]
        }
      ]
    },
    {
      "cell_type": "markdown",
      "source": [
        "### CatBoost\n",
        "\n",
        "범주형 변수가 많은 데이터에 catboost를 적용해봅시다.\n",
        "\n",
        "데이터 출처:\n",
        "https://www.kaggle.com/datasets/uciml/mushroom-classification\n"
      ],
      "metadata": {
        "id": "mZEcyqY79nZM"
      },
      "id": "mZEcyqY79nZM"
    },
    {
      "cell_type": "code",
      "source": [
        "# mushrooms.csv 파일을 사용합니다.\n",
        "\n",
        "mushroom_df = pd.read_csv('mushrooms.csv')"
      ],
      "metadata": {
        "id": "mbSevRzjIHKs"
      },
      "execution_count": null,
      "outputs": [],
      "id": "mbSevRzjIHKs"
    },
    {
      "cell_type": "markdown",
      "source": [
        "mushroom_df feature들의 data type을 확인하시오."
      ],
      "metadata": {
        "id": "AjLa99HnIZ1M"
      },
      "id": "AjLa99HnIZ1M"
    },
    {
      "cell_type": "code",
      "source": [
        "mushroom_df.dtypes"
      ],
      "metadata": {
        "id": "Gs16WW_rp7d2",
        "colab": {
          "base_uri": "https://localhost:8080/"
        },
        "outputId": "1e922217-8481-4d0a-d6bc-052af028ef60"
      },
      "id": "Gs16WW_rp7d2",
      "execution_count": null,
      "outputs": [
        {
          "output_type": "execute_result",
          "data": {
            "text/plain": [
              "class                       object\n",
              "cap-shape                   object\n",
              "cap-surface                 object\n",
              "cap-color                   object\n",
              "bruises                     object\n",
              "odor                        object\n",
              "gill-attachment             object\n",
              "gill-spacing                object\n",
              "gill-size                   object\n",
              "gill-color                  object\n",
              "stalk-shape                 object\n",
              "stalk-root                  object\n",
              "stalk-surface-above-ring    object\n",
              "stalk-surface-below-ring    object\n",
              "stalk-color-above-ring      object\n",
              "stalk-color-below-ring      object\n",
              "veil-type                   object\n",
              "veil-color                  object\n",
              "ring-number                 object\n",
              "ring-type                   object\n",
              "spore-print-color           object\n",
              "population                  object\n",
              "habitat                     object\n",
              "dtype: object"
            ]
          },
          "metadata": {},
          "execution_count": 57
        }
      ]
    },
    {
      "cell_type": "markdown",
      "source": [
        "feature와 target을 각각 X_mushroom, y_mushroom으로 분리하고,  \n",
        "train_test_split 함수로 train, test set을 분리하시오. (test size = 0.2)"
      ],
      "metadata": {
        "id": "twu4cpQMKHTM"
      },
      "id": "twu4cpQMKHTM"
    },
    {
      "cell_type": "code",
      "source": [
        "X_mushroom = mushroom_df.iloc[:,1:]\n",
        "y_mushroom = mushroom_df.iloc[:,:1]\n",
        "X_train, X_test, y_train, y_test = train_test_split(X_mushroom, y_mushroom, test_size=0.2)"
      ],
      "metadata": {
        "id": "T4Qwnz0Kp8Aj"
      },
      "id": "T4Qwnz0Kp8Aj",
      "execution_count": null,
      "outputs": []
    },
    {
      "cell_type": "markdown",
      "source": [
        "CatBoostClassifier를 불러오고, Pool 함수를 이용해 범주형 변수를 처리하도록 train_pool, test_pool을 만드시오."
      ],
      "metadata": {
        "id": "FAkKKfY9JC5U"
      },
      "id": "FAkKKfY9JC5U"
    },
    {
      "cell_type": "code",
      "source": [
        "!pip install catboost"
      ],
      "metadata": {
        "id": "LAFxT8bVIEyN",
        "colab": {
          "base_uri": "https://localhost:8080/"
        },
        "outputId": "658ee2cb-b2d4-4c8f-86b8-3b29a09cc4a5"
      },
      "execution_count": null,
      "outputs": [
        {
          "output_type": "stream",
          "name": "stdout",
          "text": [
            "Looking in indexes: https://pypi.org/simple, https://us-python.pkg.dev/colab-wheels/public/simple/\n",
            "Requirement already satisfied: catboost in /usr/local/lib/python3.7/dist-packages (1.0.6)\n",
            "Requirement already satisfied: matplotlib in /usr/local/lib/python3.7/dist-packages (from catboost) (3.2.2)\n",
            "Requirement already satisfied: scipy in /usr/local/lib/python3.7/dist-packages (from catboost) (1.7.3)\n",
            "Requirement already satisfied: plotly in /usr/local/lib/python3.7/dist-packages (from catboost) (5.5.0)\n",
            "Requirement already satisfied: six in /usr/local/lib/python3.7/dist-packages (from catboost) (1.15.0)\n",
            "Requirement already satisfied: numpy>=1.16.0 in /usr/local/lib/python3.7/dist-packages (from catboost) (1.21.6)\n",
            "Requirement already satisfied: graphviz in /usr/local/lib/python3.7/dist-packages (from catboost) (0.10.1)\n",
            "Requirement already satisfied: pandas>=0.24.0 in /usr/local/lib/python3.7/dist-packages (from catboost) (1.3.5)\n",
            "Requirement already satisfied: python-dateutil>=2.7.3 in /usr/local/lib/python3.7/dist-packages (from pandas>=0.24.0->catboost) (2.8.2)\n",
            "Requirement already satisfied: pytz>=2017.3 in /usr/local/lib/python3.7/dist-packages (from pandas>=0.24.0->catboost) (2022.2.1)\n",
            "Requirement already satisfied: cycler>=0.10 in /usr/local/lib/python3.7/dist-packages (from matplotlib->catboost) (0.11.0)\n",
            "Requirement already satisfied: kiwisolver>=1.0.1 in /usr/local/lib/python3.7/dist-packages (from matplotlib->catboost) (1.4.4)\n",
            "Requirement already satisfied: pyparsing!=2.0.4,!=2.1.2,!=2.1.6,>=2.0.1 in /usr/local/lib/python3.7/dist-packages (from matplotlib->catboost) (3.0.9)\n",
            "Requirement already satisfied: typing-extensions in /usr/local/lib/python3.7/dist-packages (from kiwisolver>=1.0.1->matplotlib->catboost) (4.1.1)\n",
            "Requirement already satisfied: tenacity>=6.2.0 in /usr/local/lib/python3.7/dist-packages (from plotly->catboost) (8.0.1)\n"
          ]
        }
      ],
      "id": "LAFxT8bVIEyN"
    },
    {
      "cell_type": "code",
      "source": [
        "from catboost import Pool"
      ],
      "metadata": {
        "id": "3uinLtop9bPW"
      },
      "execution_count": null,
      "outputs": [],
      "id": "3uinLtop9bPW"
    },
    {
      "cell_type": "code",
      "source": [
        "pool_train = Pool(data = X_train, label = y_train)\n",
        "pool_test = Pool(data = X_test, label = y_test)"
      ],
      "metadata": {
        "id": "J_wMxvhdp9L8",
        "colab": {
          "base_uri": "https://localhost:8080/",
          "height": 770
        },
        "outputId": "f407f90f-1ec8-4d75-8b77-d1d4f0d92c4f"
      },
      "id": "J_wMxvhdp9L8",
      "execution_count": null,
      "outputs": [
        {
          "output_type": "error",
          "ename": "CatBoostError",
          "evalue": "ignored",
          "traceback": [
            "\u001b[0;31m---------------------------------------------------------------------------\u001b[0m",
            "\u001b[0;31mTypeError\u001b[0m                                 Traceback (most recent call last)",
            "\u001b[0;32m_catboost.pyx\u001b[0m in \u001b[0;36m_catboost.get_float_feature\u001b[0;34m()\u001b[0m\n",
            "\u001b[0;32m_catboost.pyx\u001b[0m in \u001b[0;36m_catboost._FloatOrNan\u001b[0;34m()\u001b[0m\n",
            "\u001b[0;32m_catboost.pyx\u001b[0m in \u001b[0;36m_catboost._FloatOrNanFromString\u001b[0;34m()\u001b[0m\n",
            "\u001b[0;31mTypeError\u001b[0m: Cannot convert 'b'k'' to float",
            "\nDuring handling of the above exception, another exception occurred:\n",
            "\u001b[0;31mCatBoostError\u001b[0m                             Traceback (most recent call last)",
            "\u001b[0;32m<ipython-input-91-3e0bd4eaf6e2>\u001b[0m in \u001b[0;36m<module>\u001b[0;34m\u001b[0m\n\u001b[0;32m----> 1\u001b[0;31m \u001b[0mpool_train\u001b[0m \u001b[0;34m=\u001b[0m \u001b[0mPool\u001b[0m\u001b[0;34m(\u001b[0m\u001b[0mdata\u001b[0m \u001b[0;34m=\u001b[0m \u001b[0mX_train\u001b[0m\u001b[0;34m,\u001b[0m \u001b[0mlabel\u001b[0m \u001b[0;34m=\u001b[0m \u001b[0my_train\u001b[0m\u001b[0;34m)\u001b[0m\u001b[0;34m\u001b[0m\u001b[0;34m\u001b[0m\u001b[0m\n\u001b[0m\u001b[1;32m      2\u001b[0m \u001b[0mpool_test\u001b[0m \u001b[0;34m=\u001b[0m \u001b[0mPool\u001b[0m\u001b[0;34m(\u001b[0m\u001b[0mdata\u001b[0m \u001b[0;34m=\u001b[0m \u001b[0mX_test\u001b[0m\u001b[0;34m,\u001b[0m \u001b[0mlabel\u001b[0m \u001b[0;34m=\u001b[0m \u001b[0my_test\u001b[0m\u001b[0;34m)\u001b[0m\u001b[0;34m\u001b[0m\u001b[0;34m\u001b[0m\u001b[0m\n",
            "\u001b[0;32m/usr/local/lib/python3.7/dist-packages/catboost/core.py\u001b[0m in \u001b[0;36m__init__\u001b[0;34m(self, data, label, cat_features, text_features, embedding_features, embedding_features_data, column_description, pairs, delimiter, has_header, ignore_csv_quoting, weight, group_id, group_weight, subgroup_id, pairs_weight, baseline, timestamp, feature_names, feature_tags, thread_count, log_cout, log_cerr)\u001b[0m\n\u001b[1;32m    789\u001b[0m \u001b[0;34m\u001b[0m\u001b[0m\n\u001b[1;32m    790\u001b[0m                 self._init(data, label, cat_features, text_features, embedding_features, embedding_features_data, pairs, weight,\n\u001b[0;32m--> 791\u001b[0;31m                            group_id, group_weight, subgroup_id, pairs_weight, baseline, timestamp, feature_names, feature_tags, thread_count)\n\u001b[0m\u001b[1;32m    792\u001b[0m         \u001b[0msuper\u001b[0m\u001b[0;34m(\u001b[0m\u001b[0mPool\u001b[0m\u001b[0;34m,\u001b[0m \u001b[0mself\u001b[0m\u001b[0;34m)\u001b[0m\u001b[0;34m.\u001b[0m\u001b[0m__init__\u001b[0m\u001b[0;34m(\u001b[0m\u001b[0;34m)\u001b[0m\u001b[0;34m\u001b[0m\u001b[0;34m\u001b[0m\u001b[0m\n\u001b[1;32m    793\u001b[0m \u001b[0;34m\u001b[0m\u001b[0m\n",
            "\u001b[0;32m/usr/local/lib/python3.7/dist-packages/catboost/core.py\u001b[0m in \u001b[0;36m_init\u001b[0;34m(self, data, label, cat_features, text_features, embedding_features, embedding_features_data, pairs, weight, group_id, group_weight, subgroup_id, pairs_weight, baseline, timestamp, feature_names, feature_tags, thread_count)\u001b[0m\n\u001b[1;32m   1410\u001b[0m             \u001b[0mfeature_tags\u001b[0m \u001b[0;34m=\u001b[0m \u001b[0mself\u001b[0m\u001b[0;34m.\u001b[0m\u001b[0m_check_transform_tags\u001b[0m\u001b[0;34m(\u001b[0m\u001b[0mfeature_tags\u001b[0m\u001b[0;34m,\u001b[0m \u001b[0mfeature_names\u001b[0m\u001b[0;34m)\u001b[0m\u001b[0;34m\u001b[0m\u001b[0;34m\u001b[0m\u001b[0m\n\u001b[1;32m   1411\u001b[0m         self._init_pool(data, label, cat_features, text_features, embedding_features, embedding_features_data, pairs, weight,\n\u001b[0;32m-> 1412\u001b[0;31m                         group_id, group_weight, subgroup_id, pairs_weight, baseline, timestamp, feature_names, feature_tags, thread_count)\n\u001b[0m\u001b[1;32m   1413\u001b[0m \u001b[0;34m\u001b[0m\u001b[0m\n\u001b[1;32m   1414\u001b[0m \u001b[0;34m\u001b[0m\u001b[0m\n",
            "\u001b[0;32m_catboost.pyx\u001b[0m in \u001b[0;36m_catboost._PoolBase._init_pool\u001b[0;34m()\u001b[0m\n",
            "\u001b[0;32m_catboost.pyx\u001b[0m in \u001b[0;36m_catboost._PoolBase._init_pool\u001b[0;34m()\u001b[0m\n",
            "\u001b[0;32m_catboost.pyx\u001b[0m in \u001b[0;36m_catboost._PoolBase._init_features_order_layout_pool\u001b[0;34m()\u001b[0m\n",
            "\u001b[0;32m_catboost.pyx\u001b[0m in \u001b[0;36m_catboost._set_features_order_data_pd_data_frame\u001b[0;34m()\u001b[0m\n",
            "\u001b[0;32m_catboost.pyx\u001b[0m in \u001b[0;36m_catboost.create_num_factor_data\u001b[0;34m()\u001b[0m\n",
            "\u001b[0;32m_catboost.pyx\u001b[0m in \u001b[0;36m_catboost.get_float_feature\u001b[0;34m()\u001b[0m\n",
            "\u001b[0;31mCatBoostError\u001b[0m: Bad value for num_feature[non_default_doc_idx=0,feature_idx=0]=\"k\": Cannot convert 'b'k'' to float"
          ]
        }
      ]
    },
    {
      "cell_type": "markdown",
      "source": [
        "iteration=400, learning_rate=0.1, max_depth=3로 설정한 CatBoost 모델로 버섯에 대한 정보를 학습하고 테스트 데이터 버섯의 독성 여부를 예측하시오. 또 정확도를 구하시오.  "
      ],
      "metadata": {
        "id": "Vu9ijqhGMWgo"
      },
      "id": "Vu9ijqhGMWgo"
    },
    {
      "cell_type": "code",
      "source": [
        "from catboost import CatBoostClassifier\n",
        "\n",
        "cb_clf = CatBoostClassifier(iterations=400, learning_rate=0.1, max_depth=3)\n",
        "cb_clf.fit(pool_train)\n",
        "pred = cb_clf.predict(pool_test)\n",
        "accuracy = accuracy_score(y_test, pred)\n",
        "print('정확도 : ', accuracy)"
      ],
      "metadata": {
        "id": "F2I7ARrWp_t3",
        "colab": {
          "base_uri": "https://localhost:8080/",
          "height": 243
        },
        "outputId": "70c42eb1-b8f6-4a25-f813-9d3f1aa47200"
      },
      "id": "F2I7ARrWp_t3",
      "execution_count": null,
      "outputs": [
        {
          "output_type": "error",
          "ename": "NameError",
          "evalue": "ignored",
          "traceback": [
            "\u001b[0;31m---------------------------------------------------------------------------\u001b[0m",
            "\u001b[0;31mNameError\u001b[0m                                 Traceback (most recent call last)",
            "\u001b[0;32m<ipython-input-92-6b70694dde63>\u001b[0m in \u001b[0;36m<module>\u001b[0;34m\u001b[0m\n\u001b[1;32m      2\u001b[0m \u001b[0;34m\u001b[0m\u001b[0m\n\u001b[1;32m      3\u001b[0m \u001b[0mcb_clf\u001b[0m \u001b[0;34m=\u001b[0m \u001b[0mCatBoostClassifier\u001b[0m\u001b[0;34m(\u001b[0m\u001b[0miterations\u001b[0m\u001b[0;34m=\u001b[0m\u001b[0;36m400\u001b[0m\u001b[0;34m,\u001b[0m \u001b[0mlearning_rate\u001b[0m\u001b[0;34m=\u001b[0m\u001b[0;36m0.1\u001b[0m\u001b[0;34m,\u001b[0m \u001b[0mmax_depth\u001b[0m\u001b[0;34m=\u001b[0m\u001b[0;36m3\u001b[0m\u001b[0;34m)\u001b[0m\u001b[0;34m\u001b[0m\u001b[0;34m\u001b[0m\u001b[0m\n\u001b[0;32m----> 4\u001b[0;31m \u001b[0mcb_clf\u001b[0m\u001b[0;34m.\u001b[0m\u001b[0mfit\u001b[0m\u001b[0;34m(\u001b[0m\u001b[0mpool_train\u001b[0m\u001b[0;34m)\u001b[0m\u001b[0;34m\u001b[0m\u001b[0;34m\u001b[0m\u001b[0m\n\u001b[0m\u001b[1;32m      5\u001b[0m \u001b[0mpred\u001b[0m \u001b[0;34m=\u001b[0m \u001b[0mcb_clf\u001b[0m\u001b[0;34m.\u001b[0m\u001b[0mpredict\u001b[0m\u001b[0;34m(\u001b[0m\u001b[0mpool_test\u001b[0m\u001b[0;34m)\u001b[0m\u001b[0;34m\u001b[0m\u001b[0;34m\u001b[0m\u001b[0m\n\u001b[1;32m      6\u001b[0m \u001b[0maccuracy\u001b[0m \u001b[0;34m=\u001b[0m \u001b[0maccuracy_score\u001b[0m\u001b[0;34m(\u001b[0m\u001b[0my_test\u001b[0m\u001b[0;34m,\u001b[0m \u001b[0mpred\u001b[0m\u001b[0;34m)\u001b[0m\u001b[0;34m\u001b[0m\u001b[0;34m\u001b[0m\u001b[0m\n",
            "\u001b[0;31mNameError\u001b[0m: name 'pool_train' is not defined"
          ]
        }
      ]
    },
    {
      "cell_type": "markdown",
      "source": [
        "수고하셨습니다!"
      ],
      "metadata": {
        "id": "HsvRSI0Z3G06"
      },
      "id": "HsvRSI0Z3G06"
    }
  ],
  "metadata": {
    "kernelspec": {
      "display_name": "Python 3",
      "language": "python",
      "name": "python3"
    },
    "language_info": {
      "codemirror_mode": {
        "name": "ipython",
        "version": 3
      },
      "file_extension": ".py",
      "mimetype": "text/x-python",
      "name": "python",
      "nbconvert_exporter": "python",
      "pygments_lexer": "ipython3",
      "version": "3.8.8"
    },
    "colab": {
      "provenance": [],
      "collapsed_sections": []
    }
  },
  "nbformat": 4,
  "nbformat_minor": 5
}