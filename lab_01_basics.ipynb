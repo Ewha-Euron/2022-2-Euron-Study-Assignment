{
  "cells": [
    {
      "cell_type": "markdown",
      "metadata": {
        "id": "62ewDobNNE4R"
      },
      "source": [
        "# Getting Started With TensorFlow\n",
        "https://www.tensorflow.org/get_started/get_started"
      ]
    },
    {
      "cell_type": "markdown",
      "metadata": {
        "id": "0H81ly0NNE4U"
      },
      "source": [
        "## Check TF version"
      ]
    },
    {
      "cell_type": "code",
      "execution_count": 30,
      "metadata": {
        "id": "qCadgJALNE4U",
        "outputId": "d4a173b8-39eb-4eb3-a2d8-bfd241e33ee6",
        "colab": {
          "base_uri": "https://localhost:8080/",
          "height": 37
        }
      },
      "outputs": [
        {
          "output_type": "execute_result",
          "data": {
            "text/plain": [
              "'2.8.2'"
            ],
            "application/vnd.google.colaboratory.intrinsic+json": {
              "type": "string"
            }
          },
          "metadata": {},
          "execution_count": 30
        }
      ],
      "source": [
        "import tensorflow.compat.v1 as tf #version matching\n",
        "tf.disable_v2_behavior()\n",
        "tf.__version__"
      ]
    },
    {
      "cell_type": "markdown",
      "metadata": {
        "id": "GNJgbn1_NE4V"
      },
      "source": [
        "## Hello TensorFlow!"
      ]
    },
    {
      "cell_type": "code",
      "execution_count": 31,
      "metadata": {
        "id": "Fhh_KiBlNE4W",
        "outputId": "e66ac666-38d9-451c-cf0e-2e084115cffa",
        "colab": {
          "base_uri": "https://localhost:8080/"
        }
      },
      "outputs": [
        {
          "output_type": "stream",
          "name": "stdout",
          "text": [
            "b'Hello, TensorFlow!'\n"
          ]
        }
      ],
      "source": [
        "# Create a constant op\n",
        "# This op is added as a node to the default graph\n",
        "hello = tf.constant(\"Hello, TensorFlow!\")\n",
        "\n",
        "# start a TF session\n",
        "sess = tf.Session()\n",
        "\n",
        "# run the op and get result\n",
        "print(sess.run(hello))"
      ]
    },
    {
      "cell_type": "markdown",
      "metadata": {
        "id": "YzjFtC5DNE4W"
      },
      "source": [
        "## Tensors"
      ]
    },
    {
      "cell_type": "code",
      "execution_count": 32,
      "metadata": {
        "id": "kZ5rB8fANE4W",
        "outputId": "4931290e-683f-4a62-9406-7942b1dfa4e6",
        "colab": {
          "base_uri": "https://localhost:8080/"
        }
      },
      "outputs": [
        {
          "output_type": "execute_result",
          "data": {
            "text/plain": [
              "[[[1.0, 2.0, 3.0]], [[7.0, 8.0, 9.0]]]"
            ]
          },
          "metadata": {},
          "execution_count": 32
        }
      ],
      "source": [
        "3 # a rank 0 tensor; this is a scalar with shape []\n",
        "[1. ,2., 3.] # a rank 1 tensor; this is a vector with shape [3]\n",
        "[[1., 2., 3.], [4., 5., 6.]] # a rank 2 tensor; a matrix with shape [2, 3]\n",
        "[[[1., 2., 3.]], [[7., 8., 9.]]] # a rank 3 tensor with shape [2, 1, 3]"
      ]
    },
    {
      "cell_type": "markdown",
      "metadata": {
        "id": "FOJB85Y1NE4X"
      },
      "source": [
        "## Computational Graph"
      ]
    },
    {
      "cell_type": "code",
      "execution_count": 33,
      "metadata": {
        "id": "aHuEcRI8NE4X"
      },
      "outputs": [],
      "source": [
        "node1 = tf.constant(3.0, tf.float32)\n",
        "node2 = tf.constant(4.0) # also tf.float32 implicitly\n",
        "node3 = tf.add(node1, node2)"
      ]
    },
    {
      "cell_type": "code",
      "execution_count": 34,
      "metadata": {
        "scrolled": true,
        "id": "M87iEMrVNE4X",
        "outputId": "123755ae-4d4f-4036-a223-6987537508a1",
        "colab": {
          "base_uri": "https://localhost:8080/"
        }
      },
      "outputs": [
        {
          "output_type": "stream",
          "name": "stdout",
          "text": [
            "node1: Tensor(\"Const_4:0\", shape=(), dtype=float32) node2: Tensor(\"Const_5:0\", shape=(), dtype=float32)\n",
            "node3:  Tensor(\"Add_4:0\", shape=(), dtype=float32)\n"
          ]
        }
      ],
      "source": [
        "print(\"node1:\", node1, \"node2:\", node2)\n",
        "print(\"node3: \", node3)"
      ]
    },
    {
      "cell_type": "markdown",
      "metadata": {
        "id": "CvSg5IXwNE4Y"
      },
      "source": [
        "![Graph](https://www.tensorflow.org/images/getting_started_adder.png)"
      ]
    },
    {
      "cell_type": "code",
      "execution_count": 35,
      "metadata": {
        "scrolled": true,
        "id": "ms8DfxonNE4Y",
        "outputId": "4f9ba7e2-8b78-42b0-f746-002f7552aa9f",
        "colab": {
          "base_uri": "https://localhost:8080/"
        }
      },
      "outputs": [
        {
          "output_type": "stream",
          "name": "stdout",
          "text": [
            "sess.run(node1, node2):  [3.0, 4.0]\n",
            "sess.run(node3):  7.0\n"
          ]
        }
      ],
      "source": [
        "sess = tf.Session()\n",
        "print(\"sess.run(node1, node2): \", sess.run([node1, node2]))\n",
        "print(\"sess.run(node3): \", sess.run(node3))"
      ]
    },
    {
      "cell_type": "code",
      "execution_count": 36,
      "metadata": {
        "id": "eK__lZW4NE4Y",
        "outputId": "2ae6b65f-f782-476f-87e0-666dbd77b6af",
        "colab": {
          "base_uri": "https://localhost:8080/"
        }
      },
      "outputs": [
        {
          "output_type": "stream",
          "name": "stdout",
          "text": [
            "7.5\n",
            "[3. 7.]\n"
          ]
        }
      ],
      "source": [
        "a = tf.placeholder(tf.float32)\n",
        "b = tf.placeholder(tf.float32)\n",
        "adder_node = a + b  # + provides a shortcut for tf.add(a, b)\n",
        "\n",
        "print(sess.run(adder_node, feed_dict={a: 3, b: 4.5}))\n",
        "print(sess.run(adder_node, feed_dict={a: [1,3], b: [2, 4]}))"
      ]
    },
    {
      "cell_type": "code",
      "execution_count": 37,
      "metadata": {
        "id": "ji7-XjQ2NE4Z",
        "outputId": "096641fb-e02e-4472-951a-199e92084f40",
        "colab": {
          "base_uri": "https://localhost:8080/"
        }
      },
      "outputs": [
        {
          "output_type": "stream",
          "name": "stdout",
          "text": [
            "22.5\n"
          ]
        }
      ],
      "source": [
        "add_and_triple = adder_node * 3.\n",
        "print(sess.run(add_and_triple, feed_dict={a: 3, b:4.5}))"
      ]
    }
  ],
  "metadata": {
    "kernelspec": {
      "display_name": "Python 3",
      "language": "python",
      "name": "python3"
    },
    "language_info": {
      "codemirror_mode": {
        "name": "ipython",
        "version": 3
      },
      "file_extension": ".py",
      "mimetype": "text/x-python",
      "name": "python",
      "nbconvert_exporter": "python",
      "pygments_lexer": "ipython3",
      "version": "3.6.0"
    },
    "colab": {
      "provenance": []
    }
  },
  "nbformat": 4,
  "nbformat_minor": 0
}